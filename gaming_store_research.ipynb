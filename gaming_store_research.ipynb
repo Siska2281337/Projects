{
 "cells": [
  {
   "cell_type": "markdown",
   "metadata": {},
   "source": [
    "<b>Заголовок</b>: Исследование магазина игр \"Стримчик\".\n",
    "\n",
    "<b>Описание проекта</b>: Магазин \"Стримчик\" продаёт игры по всему миру. Из открытых источников доступны исторические данные о продажах игр, оценки пользователей и экспертов, жанры и платформы. В наборе данных попадается аббревиатура ESRB (Entertainment Software Rating Board) — это ассоциация, определяющая возрастной рейтинг компьютерных игр. ESRB оценивает игровой контент и присваивает ему подходящую возрастную категорию.\n",
    "\n",
    "<b>Цель исследования</b>: нужно выявить определяющие успешность игры закономерности. Это позволит сделать ставку на потенциально популярный продукт и спланировать рекламные кампании.\n",
    "\n",
    "<b>Ход исследования</b>:\n",
    "\n",
    "* Подготовка данных: загрузка и изучение общей информации из предоставленных датасетов\n",
    "* Предобработка данных: обработка пропущенных значений, корректировка типа даных, дубликатов.\n",
    "* Исследовательский анализ данных: изучение основных параметров объектов, их распределения.\n",
    "* Составление портрета пользователя каждого региона\n",
    "* Проверка гипотез\n",
    "\n",
    "<b>Общий вывод</b>: резюмирование полученных результатов, формулировка ключевых выводов."
   ]
  },
  {
   "cell_type": "code",
   "execution_count": 1,
   "metadata": {},
   "outputs": [],
   "source": [
    "import matplotlib.pyplot as plt\n",
    "import pandas as pd\n",
    "from scipy import stats as st\n",
    "import numpy as np"
   ]
  },
  {
   "cell_type": "markdown",
   "metadata": {},
   "source": [
    "#### Шаг 1. Подготовка данных"
   ]
  },
  {
   "cell_type": "code",
   "execution_count": 2,
   "metadata": {},
   "outputs": [],
   "source": [
    "games_data = pd.read_csv('/datasets/games.csv')"
   ]
  },
  {
   "cell_type": "code",
   "execution_count": 3,
   "metadata": {},
   "outputs": [
    {
     "name": "stdout",
     "output_type": "stream",
     "text": [
      "<class 'pandas.core.frame.DataFrame'>\n",
      "RangeIndex: 16715 entries, 0 to 16714\n",
      "Data columns (total 11 columns):\n",
      " #   Column           Non-Null Count  Dtype  \n",
      "---  ------           --------------  -----  \n",
      " 0   Name             16713 non-null  object \n",
      " 1   Platform         16715 non-null  object \n",
      " 2   Year_of_Release  16446 non-null  float64\n",
      " 3   Genre            16713 non-null  object \n",
      " 4   NA_sales         16715 non-null  float64\n",
      " 5   EU_sales         16715 non-null  float64\n",
      " 6   JP_sales         16715 non-null  float64\n",
      " 7   Other_sales      16715 non-null  float64\n",
      " 8   Critic_Score     8137 non-null   float64\n",
      " 9   User_Score       10014 non-null  object \n",
      " 10  Rating           9949 non-null   object \n",
      "dtypes: float64(6), object(5)\n",
      "memory usage: 1.4+ MB\n"
     ]
    }
   ],
   "source": [
    "games_data.info()"
   ]
  },
  {
   "cell_type": "code",
   "execution_count": 4,
   "metadata": {},
   "outputs": [
    {
     "data": {
      "text/html": [
       "<div>\n",
       "<style scoped>\n",
       "    .dataframe tbody tr th:only-of-type {\n",
       "        vertical-align: middle;\n",
       "    }\n",
       "\n",
       "    .dataframe tbody tr th {\n",
       "        vertical-align: top;\n",
       "    }\n",
       "\n",
       "    .dataframe thead th {\n",
       "        text-align: right;\n",
       "    }\n",
       "</style>\n",
       "<table border=\"1\" class=\"dataframe\">\n",
       "  <thead>\n",
       "    <tr style=\"text-align: right;\">\n",
       "      <th></th>\n",
       "      <th>Name</th>\n",
       "      <th>Platform</th>\n",
       "      <th>Year_of_Release</th>\n",
       "      <th>Genre</th>\n",
       "      <th>NA_sales</th>\n",
       "      <th>EU_sales</th>\n",
       "      <th>JP_sales</th>\n",
       "      <th>Other_sales</th>\n",
       "      <th>Critic_Score</th>\n",
       "      <th>User_Score</th>\n",
       "      <th>Rating</th>\n",
       "    </tr>\n",
       "  </thead>\n",
       "  <tbody>\n",
       "    <tr>\n",
       "      <th>0</th>\n",
       "      <td>Wii Sports</td>\n",
       "      <td>Wii</td>\n",
       "      <td>2006.0</td>\n",
       "      <td>Sports</td>\n",
       "      <td>41.36</td>\n",
       "      <td>28.96</td>\n",
       "      <td>3.77</td>\n",
       "      <td>8.45</td>\n",
       "      <td>76.0</td>\n",
       "      <td>8</td>\n",
       "      <td>E</td>\n",
       "    </tr>\n",
       "    <tr>\n",
       "      <th>1</th>\n",
       "      <td>Super Mario Bros.</td>\n",
       "      <td>NES</td>\n",
       "      <td>1985.0</td>\n",
       "      <td>Platform</td>\n",
       "      <td>29.08</td>\n",
       "      <td>3.58</td>\n",
       "      <td>6.81</td>\n",
       "      <td>0.77</td>\n",
       "      <td>NaN</td>\n",
       "      <td>NaN</td>\n",
       "      <td>NaN</td>\n",
       "    </tr>\n",
       "    <tr>\n",
       "      <th>2</th>\n",
       "      <td>Mario Kart Wii</td>\n",
       "      <td>Wii</td>\n",
       "      <td>2008.0</td>\n",
       "      <td>Racing</td>\n",
       "      <td>15.68</td>\n",
       "      <td>12.76</td>\n",
       "      <td>3.79</td>\n",
       "      <td>3.29</td>\n",
       "      <td>82.0</td>\n",
       "      <td>8.3</td>\n",
       "      <td>E</td>\n",
       "    </tr>\n",
       "    <tr>\n",
       "      <th>3</th>\n",
       "      <td>Wii Sports Resort</td>\n",
       "      <td>Wii</td>\n",
       "      <td>2009.0</td>\n",
       "      <td>Sports</td>\n",
       "      <td>15.61</td>\n",
       "      <td>10.93</td>\n",
       "      <td>3.28</td>\n",
       "      <td>2.95</td>\n",
       "      <td>80.0</td>\n",
       "      <td>8</td>\n",
       "      <td>E</td>\n",
       "    </tr>\n",
       "    <tr>\n",
       "      <th>4</th>\n",
       "      <td>Pokemon Red/Pokemon Blue</td>\n",
       "      <td>GB</td>\n",
       "      <td>1996.0</td>\n",
       "      <td>Role-Playing</td>\n",
       "      <td>11.27</td>\n",
       "      <td>8.89</td>\n",
       "      <td>10.22</td>\n",
       "      <td>1.00</td>\n",
       "      <td>NaN</td>\n",
       "      <td>NaN</td>\n",
       "      <td>NaN</td>\n",
       "    </tr>\n",
       "  </tbody>\n",
       "</table>\n",
       "</div>"
      ],
      "text/plain": [
       "                       Name Platform  Year_of_Release         Genre  NA_sales  \\\n",
       "0                Wii Sports      Wii           2006.0        Sports     41.36   \n",
       "1         Super Mario Bros.      NES           1985.0      Platform     29.08   \n",
       "2            Mario Kart Wii      Wii           2008.0        Racing     15.68   \n",
       "3         Wii Sports Resort      Wii           2009.0        Sports     15.61   \n",
       "4  Pokemon Red/Pokemon Blue       GB           1996.0  Role-Playing     11.27   \n",
       "\n",
       "   EU_sales  JP_sales  Other_sales  Critic_Score User_Score Rating  \n",
       "0     28.96      3.77         8.45          76.0          8      E  \n",
       "1      3.58      6.81         0.77           NaN        NaN    NaN  \n",
       "2     12.76      3.79         3.29          82.0        8.3      E  \n",
       "3     10.93      3.28         2.95          80.0          8      E  \n",
       "4      8.89     10.22         1.00           NaN        NaN    NaN  "
      ]
     },
     "execution_count": 4,
     "metadata": {},
     "output_type": "execute_result"
    }
   ],
   "source": [
    "games_data.head()"
   ]
  },
  {
   "cell_type": "markdown",
   "metadata": {},
   "source": [
    "При первом знакомстве с данными видно, что в данных есть пропуски, датафрейм состоит из 16715 строк и 11 колонок."
   ]
  },
  {
   "cell_type": "markdown",
   "metadata": {},
   "source": [
    "#### Шаг 2. Подготовка данных"
   ]
  },
  {
   "cell_type": "markdown",
   "metadata": {},
   "source": [
    "##### Замена регистра"
   ]
  },
  {
   "cell_type": "code",
   "execution_count": 5,
   "metadata": {},
   "outputs": [],
   "source": [
    "games_data.columns = games_data.columns.str.lower()"
   ]
  },
  {
   "cell_type": "code",
   "execution_count": 6,
   "metadata": {},
   "outputs": [
    {
     "data": {
      "text/html": [
       "<div>\n",
       "<style scoped>\n",
       "    .dataframe tbody tr th:only-of-type {\n",
       "        vertical-align: middle;\n",
       "    }\n",
       "\n",
       "    .dataframe tbody tr th {\n",
       "        vertical-align: top;\n",
       "    }\n",
       "\n",
       "    .dataframe thead th {\n",
       "        text-align: right;\n",
       "    }\n",
       "</style>\n",
       "<table border=\"1\" class=\"dataframe\">\n",
       "  <thead>\n",
       "    <tr style=\"text-align: right;\">\n",
       "      <th></th>\n",
       "      <th>name</th>\n",
       "      <th>platform</th>\n",
       "      <th>year_of_release</th>\n",
       "      <th>genre</th>\n",
       "      <th>na_sales</th>\n",
       "      <th>eu_sales</th>\n",
       "      <th>jp_sales</th>\n",
       "      <th>other_sales</th>\n",
       "      <th>critic_score</th>\n",
       "      <th>user_score</th>\n",
       "      <th>rating</th>\n",
       "    </tr>\n",
       "  </thead>\n",
       "  <tbody>\n",
       "    <tr>\n",
       "      <th>0</th>\n",
       "      <td>Wii Sports</td>\n",
       "      <td>Wii</td>\n",
       "      <td>2006</td>\n",
       "      <td>Sports</td>\n",
       "      <td>41.36</td>\n",
       "      <td>28.96</td>\n",
       "      <td>3.77</td>\n",
       "      <td>8.45</td>\n",
       "      <td>76.0</td>\n",
       "      <td>8</td>\n",
       "      <td>E</td>\n",
       "    </tr>\n",
       "    <tr>\n",
       "      <th>1</th>\n",
       "      <td>Super Mario Bros.</td>\n",
       "      <td>NES</td>\n",
       "      <td>1985</td>\n",
       "      <td>Platform</td>\n",
       "      <td>29.08</td>\n",
       "      <td>3.58</td>\n",
       "      <td>6.81</td>\n",
       "      <td>0.77</td>\n",
       "      <td>NaN</td>\n",
       "      <td>NaN</td>\n",
       "      <td>NaN</td>\n",
       "    </tr>\n",
       "    <tr>\n",
       "      <th>2</th>\n",
       "      <td>Mario Kart Wii</td>\n",
       "      <td>Wii</td>\n",
       "      <td>2008</td>\n",
       "      <td>Racing</td>\n",
       "      <td>15.68</td>\n",
       "      <td>12.76</td>\n",
       "      <td>3.79</td>\n",
       "      <td>3.29</td>\n",
       "      <td>82.0</td>\n",
       "      <td>8.3</td>\n",
       "      <td>E</td>\n",
       "    </tr>\n",
       "    <tr>\n",
       "      <th>3</th>\n",
       "      <td>Wii Sports Resort</td>\n",
       "      <td>Wii</td>\n",
       "      <td>2009</td>\n",
       "      <td>Sports</td>\n",
       "      <td>15.61</td>\n",
       "      <td>10.93</td>\n",
       "      <td>3.28</td>\n",
       "      <td>2.95</td>\n",
       "      <td>80.0</td>\n",
       "      <td>8</td>\n",
       "      <td>E</td>\n",
       "    </tr>\n",
       "    <tr>\n",
       "      <th>4</th>\n",
       "      <td>Pokemon Red/Pokemon Blue</td>\n",
       "      <td>GB</td>\n",
       "      <td>1996</td>\n",
       "      <td>Role-Playing</td>\n",
       "      <td>11.27</td>\n",
       "      <td>8.89</td>\n",
       "      <td>10.22</td>\n",
       "      <td>1.00</td>\n",
       "      <td>NaN</td>\n",
       "      <td>NaN</td>\n",
       "      <td>NaN</td>\n",
       "    </tr>\n",
       "  </tbody>\n",
       "</table>\n",
       "</div>"
      ],
      "text/plain": [
       "                       name platform  year_of_release         genre  na_sales  \\\n",
       "0                Wii Sports      Wii             2006        Sports     41.36   \n",
       "1         Super Mario Bros.      NES             1985      Platform     29.08   \n",
       "2            Mario Kart Wii      Wii             2008        Racing     15.68   \n",
       "3         Wii Sports Resort      Wii             2009        Sports     15.61   \n",
       "4  Pokemon Red/Pokemon Blue       GB             1996  Role-Playing     11.27   \n",
       "\n",
       "   eu_sales  jp_sales  other_sales  critic_score user_score rating  \n",
       "0     28.96      3.77         8.45          76.0          8      E  \n",
       "1      3.58      6.81         0.77           NaN        NaN    NaN  \n",
       "2     12.76      3.79         3.29          82.0        8.3      E  \n",
       "3     10.93      3.28         2.95          80.0          8      E  \n",
       "4      8.89     10.22         1.00           NaN        NaN    NaN  "
      ]
     },
     "execution_count": 6,
     "metadata": {},
     "output_type": "execute_result"
    }
   ],
   "source": [
    "games_data['year_of_release'] = games_data['year_of_release'].fillna(0.0).astype(int)\n",
    "games_data.head()"
   ]
  },
  {
   "cell_type": "markdown",
   "metadata": {},
   "source": [
    "Привёл столбец с датой релизой к целочисленному типу данных, потому что год не может быть вещественным значением. Пропуски в этом столбце заменим нулём. У остальных столбцов тип данных заменять не следует."
   ]
  },
  {
   "cell_type": "markdown",
   "metadata": {},
   "source": [
    "##### Обработка пропусков"
   ]
  },
  {
   "cell_type": "code",
   "execution_count": 7,
   "metadata": {},
   "outputs": [
    {
     "data": {
      "text/html": [
       "<div>\n",
       "<style scoped>\n",
       "    .dataframe tbody tr th:only-of-type {\n",
       "        vertical-align: middle;\n",
       "    }\n",
       "\n",
       "    .dataframe tbody tr th {\n",
       "        vertical-align: top;\n",
       "    }\n",
       "\n",
       "    .dataframe thead th {\n",
       "        text-align: right;\n",
       "    }\n",
       "</style>\n",
       "<table border=\"1\" class=\"dataframe\">\n",
       "  <thead>\n",
       "    <tr style=\"text-align: right;\">\n",
       "      <th></th>\n",
       "      <th>name</th>\n",
       "      <th>platform</th>\n",
       "      <th>year_of_release</th>\n",
       "      <th>genre</th>\n",
       "      <th>na_sales</th>\n",
       "      <th>eu_sales</th>\n",
       "      <th>jp_sales</th>\n",
       "      <th>other_sales</th>\n",
       "      <th>critic_score</th>\n",
       "      <th>user_score</th>\n",
       "      <th>rating</th>\n",
       "    </tr>\n",
       "  </thead>\n",
       "  <tbody>\n",
       "    <tr>\n",
       "      <th>659</th>\n",
       "      <td>NaN</td>\n",
       "      <td>GEN</td>\n",
       "      <td>1993</td>\n",
       "      <td>NaN</td>\n",
       "      <td>1.78</td>\n",
       "      <td>0.53</td>\n",
       "      <td>0.00</td>\n",
       "      <td>0.08</td>\n",
       "      <td>NaN</td>\n",
       "      <td>NaN</td>\n",
       "      <td>NaN</td>\n",
       "    </tr>\n",
       "    <tr>\n",
       "      <th>14244</th>\n",
       "      <td>NaN</td>\n",
       "      <td>GEN</td>\n",
       "      <td>1993</td>\n",
       "      <td>NaN</td>\n",
       "      <td>0.00</td>\n",
       "      <td>0.00</td>\n",
       "      <td>0.03</td>\n",
       "      <td>0.00</td>\n",
       "      <td>NaN</td>\n",
       "      <td>NaN</td>\n",
       "      <td>NaN</td>\n",
       "    </tr>\n",
       "  </tbody>\n",
       "</table>\n",
       "</div>"
      ],
      "text/plain": [
       "      name platform  year_of_release genre  na_sales  eu_sales  jp_sales  \\\n",
       "659    NaN      GEN             1993   NaN      1.78      0.53      0.00   \n",
       "14244  NaN      GEN             1993   NaN      0.00      0.00      0.03   \n",
       "\n",
       "       other_sales  critic_score user_score rating  \n",
       "659           0.08           NaN        NaN    NaN  \n",
       "14244         0.00           NaN        NaN    NaN  "
      ]
     },
     "execution_count": 7,
     "metadata": {},
     "output_type": "execute_result"
    }
   ],
   "source": [
    "games_data[games_data['genre'].isna() == True]"
   ]
  },
  {
   "cell_type": "code",
   "execution_count": 8,
   "metadata": {},
   "outputs": [],
   "source": [
    "games_data['rating'] = games_data['rating'].fillna(0)"
   ]
  },
  {
   "cell_type": "markdown",
   "metadata": {},
   "source": [
    "Здесь жанр ничем не заменить, нет даже названия игры (только в этих двух строчках есть пропуск в столбце названия игры)."
   ]
  },
  {
   "cell_type": "markdown",
   "metadata": {},
   "source": [
    "Мне кажется, что стоит заменять значения NaN в столбцах critic_score, user_score, rating на 0, чтобы не было затруднений при дальнейшей работе. Возможно, пропуски появились, из-за того, что оценку не выдали, потому что продаж было слишком мало."
   ]
  },
  {
   "cell_type": "markdown",
   "metadata": {},
   "source": [
    "##### TBD"
   ]
  },
  {
   "cell_type": "code",
   "execution_count": 9,
   "metadata": {},
   "outputs": [
    {
     "name": "stderr",
     "output_type": "stream",
     "text": [
      "/tmp/ipykernel_168/3989797529.py:1: SettingWithCopyWarning: \n",
      "A value is trying to be set on a copy of a slice from a DataFrame\n",
      "\n",
      "See the caveats in the documentation: https://pandas.pydata.org/pandas-docs/stable/user_guide/indexing.html#returning-a-view-versus-a-copy\n",
      "  games_data['user_score'][games_data['user_score'] == 'tbd'] = 0\n"
     ]
    },
    {
     "data": {
      "text/plain": [
       "array(['8', nan, '8.3', '8.5', '6.6', '8.4', '8.6', '7.7', '6.3', '7.4',\n",
       "       '8.2', '9', '7.9', '8.1', '8.7', '7.1', '3.4', '5.3', '4.8', '3.2',\n",
       "       '8.9', '6.4', '7.8', '7.5', '2.6', '7.2', '9.2', '7', '7.3', '4.3',\n",
       "       '7.6', '5.7', '5', '9.1', '6.5', 0, '8.8', '6.9', '9.4', '6.8',\n",
       "       '6.1', '6.7', '5.4', '4', '4.9', '4.5', '9.3', '6.2', '4.2', '6',\n",
       "       '3.7', '4.1', '5.8', '5.6', '5.5', '4.4', '4.6', '5.9', '3.9',\n",
       "       '3.1', '2.9', '5.2', '3.3', '4.7', '5.1', '3.5', '2.5', '1.9', '3',\n",
       "       '2.7', '2.2', '2', '9.5', '2.1', '3.6', '2.8', '1.8', '3.8', '0',\n",
       "       '1.6', '9.6', '2.4', '1.7', '1.1', '0.3', '1.5', '0.7', '1.2',\n",
       "       '2.3', '0.5', '1.3', '0.2', '0.6', '1.4', '0.9', '1', '9.7'],\n",
       "      dtype=object)"
      ]
     },
     "execution_count": 9,
     "metadata": {},
     "output_type": "execute_result"
    }
   ],
   "source": [
    "games_data['user_score'][games_data['user_score'] == 'tbd'] = 0\n",
    "games_data['user_score'].unique()"
   ]
  },
  {
   "cell_type": "markdown",
   "metadata": {},
   "source": [
    "Значение tbd расшифровывается как \"To be determined\", то есть ещё не решено, какое будет значение. Мне кажется, что его следует оставить, так как рейтинг ещё не известен. Я не вижу причин, чтобы заменять его медианой или средним, строчек со значение tbd около двух тысяч, что составляет существенную доли от 16000."
   ]
  },
  {
   "cell_type": "markdown",
   "metadata": {},
   "source": [
    "##### Суммарные продажи"
   ]
  },
  {
   "cell_type": "code",
   "execution_count": 10,
   "metadata": {},
   "outputs": [],
   "source": [
    "games_data['total_sales'] = games_data['na_sales'] + games_data['eu_sales'] + games_data['jp_sales'] + games_data['other_sales']"
   ]
  },
  {
   "cell_type": "markdown",
   "metadata": {},
   "source": [
    "Добавил столбец с суммарными продажами, сложив значения na_sales, eu_sales, jp_sales, other_sales."
   ]
  },
  {
   "cell_type": "markdown",
   "metadata": {},
   "source": [
    "#### Шаг 3. Исследовательский анализ данных"
   ]
  },
  {
   "cell_type": "markdown",
   "metadata": {},
   "source": [
    "##### Сколько игр выпускалось в разные годы"
   ]
  },
  {
   "cell_type": "code",
   "execution_count": 11,
   "metadata": {},
   "outputs": [
    {
     "data": {
      "text/html": [
       "<div>\n",
       "<style scoped>\n",
       "    .dataframe tbody tr th:only-of-type {\n",
       "        vertical-align: middle;\n",
       "    }\n",
       "\n",
       "    .dataframe tbody tr th {\n",
       "        vertical-align: top;\n",
       "    }\n",
       "\n",
       "    .dataframe thead th {\n",
       "        text-align: right;\n",
       "    }\n",
       "</style>\n",
       "<table border=\"1\" class=\"dataframe\">\n",
       "  <thead>\n",
       "    <tr style=\"text-align: right;\">\n",
       "      <th></th>\n",
       "      <th>name</th>\n",
       "    </tr>\n",
       "    <tr>\n",
       "      <th>year_of_release</th>\n",
       "      <th></th>\n",
       "    </tr>\n",
       "  </thead>\n",
       "  <tbody>\n",
       "    <tr>\n",
       "      <th>1994</th>\n",
       "      <td>121</td>\n",
       "    </tr>\n",
       "    <tr>\n",
       "      <th>1995</th>\n",
       "      <td>219</td>\n",
       "    </tr>\n",
       "    <tr>\n",
       "      <th>1996</th>\n",
       "      <td>263</td>\n",
       "    </tr>\n",
       "    <tr>\n",
       "      <th>1997</th>\n",
       "      <td>289</td>\n",
       "    </tr>\n",
       "    <tr>\n",
       "      <th>1998</th>\n",
       "      <td>379</td>\n",
       "    </tr>\n",
       "    <tr>\n",
       "      <th>1999</th>\n",
       "      <td>338</td>\n",
       "    </tr>\n",
       "    <tr>\n",
       "      <th>2000</th>\n",
       "      <td>350</td>\n",
       "    </tr>\n",
       "    <tr>\n",
       "      <th>2001</th>\n",
       "      <td>482</td>\n",
       "    </tr>\n",
       "    <tr>\n",
       "      <th>2002</th>\n",
       "      <td>829</td>\n",
       "    </tr>\n",
       "    <tr>\n",
       "      <th>2003</th>\n",
       "      <td>775</td>\n",
       "    </tr>\n",
       "    <tr>\n",
       "      <th>2004</th>\n",
       "      <td>762</td>\n",
       "    </tr>\n",
       "    <tr>\n",
       "      <th>2005</th>\n",
       "      <td>939</td>\n",
       "    </tr>\n",
       "    <tr>\n",
       "      <th>2006</th>\n",
       "      <td>1006</td>\n",
       "    </tr>\n",
       "    <tr>\n",
       "      <th>2007</th>\n",
       "      <td>1197</td>\n",
       "    </tr>\n",
       "    <tr>\n",
       "      <th>2008</th>\n",
       "      <td>1427</td>\n",
       "    </tr>\n",
       "    <tr>\n",
       "      <th>2009</th>\n",
       "      <td>1426</td>\n",
       "    </tr>\n",
       "    <tr>\n",
       "      <th>2010</th>\n",
       "      <td>1255</td>\n",
       "    </tr>\n",
       "    <tr>\n",
       "      <th>2011</th>\n",
       "      <td>1136</td>\n",
       "    </tr>\n",
       "    <tr>\n",
       "      <th>2012</th>\n",
       "      <td>653</td>\n",
       "    </tr>\n",
       "    <tr>\n",
       "      <th>2013</th>\n",
       "      <td>544</td>\n",
       "    </tr>\n",
       "    <tr>\n",
       "      <th>2014</th>\n",
       "      <td>581</td>\n",
       "    </tr>\n",
       "    <tr>\n",
       "      <th>2015</th>\n",
       "      <td>606</td>\n",
       "    </tr>\n",
       "    <tr>\n",
       "      <th>2016</th>\n",
       "      <td>502</td>\n",
       "    </tr>\n",
       "  </tbody>\n",
       "</table>\n",
       "</div>"
      ],
      "text/plain": [
       "                 name\n",
       "year_of_release      \n",
       "1994              121\n",
       "1995              219\n",
       "1996              263\n",
       "1997              289\n",
       "1998              379\n",
       "1999              338\n",
       "2000              350\n",
       "2001              482\n",
       "2002              829\n",
       "2003              775\n",
       "2004              762\n",
       "2005              939\n",
       "2006             1006\n",
       "2007             1197\n",
       "2008             1427\n",
       "2009             1426\n",
       "2010             1255\n",
       "2011             1136\n",
       "2012              653\n",
       "2013              544\n",
       "2014              581\n",
       "2015              606\n",
       "2016              502"
      ]
     },
     "execution_count": 11,
     "metadata": {},
     "output_type": "execute_result"
    },
    {
     "data": {
      "image/png": "[encoded data removed]",
      "text/plain": [
       "<Figure size 720x360 with 1 Axes>"
      ]
     },
     "metadata": {
      "needs_background": "light"
     },
     "output_type": "display_data"
    }
   ],
   "source": [
    "good_games_data = games_data[games_data['year_of_release'] >= 1994].pivot_table(index='year_of_release', values='name', aggfunc='count')\n",
    "good_games_data.plot(kind='bar', figsize=(10, 5), title='Сколько игр выпускалось в разные годы', xlabel='Год выпуска',\\\n",
    "                    ylabel='Количество игр');\n",
    "good_games_data"
   ]
  },
  {
   "cell_type": "markdown",
   "metadata": {},
   "source": [
    "Данные до 1994 года не важно, так как выпускалось очень мало игр в год до этого времени. В 1994 начали выпускать больше игр.\n",
    "\n",
    "С 1994 года количество выпущенных игр в год становилось всё больше и больше. Больше всего игр выпустили в 2008 и 2009 - около 1400 в каждый из этих годов. Затем, тенденция пошла на спад."
   ]
  },
  {
   "cell_type": "markdown",
   "metadata": {},
   "source": [
    "##### Продажи по платформам"
   ]
  },
  {
   "cell_type": "code",
   "execution_count": 12,
   "metadata": {},
   "outputs": [
    {
     "data": {
      "text/html": [
       "<div>\n",
       "<style scoped>\n",
       "    .dataframe tbody tr th:only-of-type {\n",
       "        vertical-align: middle;\n",
       "    }\n",
       "\n",
       "    .dataframe tbody tr th {\n",
       "        vertical-align: top;\n",
       "    }\n",
       "\n",
       "    .dataframe thead th {\n",
       "        text-align: right;\n",
       "    }\n",
       "</style>\n",
       "<table border=\"1\" class=\"dataframe\">\n",
       "  <thead>\n",
       "    <tr style=\"text-align: right;\">\n",
       "      <th></th>\n",
       "      <th>total_sales</th>\n",
       "    </tr>\n",
       "    <tr>\n",
       "      <th>platform</th>\n",
       "      <th></th>\n",
       "    </tr>\n",
       "  </thead>\n",
       "  <tbody>\n",
       "    <tr>\n",
       "      <th>PS4</th>\n",
       "      <td>288.15</td>\n",
       "    </tr>\n",
       "    <tr>\n",
       "      <th>XOne</th>\n",
       "      <td>140.36</td>\n",
       "    </tr>\n",
       "    <tr>\n",
       "      <th>3DS</th>\n",
       "      <td>86.68</td>\n",
       "    </tr>\n",
       "    <tr>\n",
       "      <th>PS3</th>\n",
       "      <td>68.18</td>\n",
       "    </tr>\n",
       "    <tr>\n",
       "      <th>X360</th>\n",
       "      <td>48.22</td>\n",
       "    </tr>\n",
       "  </tbody>\n",
       "</table>\n",
       "</div>"
      ],
      "text/plain": [
       "          total_sales\n",
       "platform             \n",
       "PS4            288.15\n",
       "XOne           140.36\n",
       "3DS             86.68\n",
       "PS3             68.18\n",
       "X360            48.22"
      ]
     },
     "execution_count": 12,
     "metadata": {},
     "output_type": "execute_result"
    }
   ],
   "source": [
    "games_data[games_data['year_of_release'] > 2013].pivot_table(index='platform', values='total_sales', aggfunc='sum').\\\n",
    "sort_values(by='total_sales', ascending=False).head(5)"
   ]
  },
  {
   "cell_type": "markdown",
   "metadata": {},
   "source": [
    "Возьмём первые пять консолей. PS2, X360, PS3, Wii, DS"
   ]
  },
  {
   "cell_type": "code",
   "execution_count": 13,
   "metadata": {},
   "outputs": [
    {
     "data": {
      "image/png": "[encoded data removed]",
      "text/plain": [
       "<Figure size 720x360 with 1 Axes>"
      ]
     },
     "metadata": {
      "needs_background": "light"
     },
     "output_type": "display_data"
    }
   ],
   "source": [
    "consoles = ['PS2', 'PS3', 'X360', 'Wii', 'DS']\n",
    "plt.figure(figsize=(10, 5))\n",
    "for i in consoles:\n",
    "    plt.plot(games_data[(games_data['platform'] == i) & (games_data['year_of_release'] != 0)]\\\n",
    "             .pivot_table(index='year_of_release', values='total_sales', aggfunc='sum'))\n",
    "\n",
    "plt.legend(('PS2', 'PS3', 'X360', 'Wii', 'DS'))\n",
    "plt.xlabel('Год')\n",
    "plt.ylabel('Продажи')\n",
    "plt.title('Распределение самых популярных платформ по годам')\n",
    "plt.show()"
   ]
  },
  {
   "cell_type": "markdown",
   "metadata": {},
   "source": [
    "Смотря на график PS2 и Wii, хочется сказать, что характерный срок, за который появляются новые - 5 лет, а срок, за который исчезают старые - 10 лет. исчезают старые платформы - 10 лет. Вместе с PS3 появлися X360 и Wii."
   ]
  },
  {
   "cell_type": "markdown",
   "metadata": {},
   "source": [
    "##### Данные за актуальный период"
   ]
  },
  {
   "cell_type": "markdown",
   "metadata": {},
   "source": [
    "За актуальный период возьму время с 2013 года, тогда вышли две новые игровые платформы."
   ]
  },
  {
   "cell_type": "code",
   "execution_count": 14,
   "metadata": {},
   "outputs": [
    {
     "data": {
      "image/png": "[encoded data removed]",
      "text/plain": [
       "<Figure size 720x360 with 1 Axes>"
      ]
     },
     "metadata": {
      "needs_background": "light"
     },
     "output_type": "display_data"
    }
   ],
   "source": [
    "consoles = ['PS3', 'X360', 'Wii']\n",
    "relative_data = games_data[games_data['year_of_release'] >= 2013]\n",
    "relative_data.reset_index(drop=True)\n",
    "plt.figure(figsize=(10, 5))\n",
    "for i in range(-1, -4, -1):\n",
    "    plt.plot(relative_data[relative_data['platform'] == consoles[i]]\\\n",
    "             .pivot_table(index='year_of_release', values='total_sales', aggfunc='sum'))\n",
    "\n",
    "plt.legend(('PS3', 'X360', 'Wii'))\n",
    "plt.xlabel('Год')\n",
    "plt.ylabel('Продажи')\n",
    "plt.title('Распределение самых популярных платформ по годам')\n",
    "plt.show()"
   ]
  },
  {
   "cell_type": "markdown",
   "metadata": {},
   "source": [
    "Wii и X360 лидируют по продажам. Все консоли опустились примерно до одного уровня к 2016."
   ]
  },
  {
   "cell_type": "markdown",
   "metadata": {},
   "source": [
    "##### Ящики с усами"
   ]
  },
  {
   "cell_type": "code",
   "execution_count": 15,
   "metadata": {},
   "outputs": [
    {
     "data": {
      "image/png": "[encoded data removed]",
      "text/plain": [
       "<Figure size 1440x360 with 3 Axes>"
      ]
     },
     "metadata": {
      "needs_background": "light"
     },
     "output_type": "display_data"
    }
   ],
   "source": [
    "plt.figure(figsize=(20, 5))\n",
    "\n",
    "for i in range(len(consoles)):\n",
    "    plt.subplot(1, 5, i+1)\n",
    "    plt.boxplot(relative_data[relative_data['platform'] == consoles[i]]\\\n",
    "             .pivot_table(index='year_of_release', values='total_sales', aggfunc='sum'))\n",
    "    plt.title(consoles[i])\n",
    "    \n",
    "plt.ylabel('Продажи')\n",
    "plt.show()"
   ]
  },
  {
   "cell_type": "markdown",
   "metadata": {},
   "source": [
    "##### PS3"
   ]
  },
  {
   "cell_type": "code",
   "execution_count": 16,
   "metadata": {},
   "outputs": [
    {
     "data": {
      "text/html": [
       "<div>\n",
       "<style scoped>\n",
       "    .dataframe tbody tr th:only-of-type {\n",
       "        vertical-align: middle;\n",
       "    }\n",
       "\n",
       "    .dataframe tbody tr th {\n",
       "        vertical-align: top;\n",
       "    }\n",
       "\n",
       "    .dataframe thead th {\n",
       "        text-align: right;\n",
       "    }\n",
       "</style>\n",
       "<table border=\"1\" class=\"dataframe\">\n",
       "  <thead>\n",
       "    <tr style=\"text-align: right;\">\n",
       "      <th></th>\n",
       "      <th>total_sales</th>\n",
       "    </tr>\n",
       "  </thead>\n",
       "  <tbody>\n",
       "    <tr>\n",
       "      <th>count</th>\n",
       "      <td>4.000000</td>\n",
       "    </tr>\n",
       "    <tr>\n",
       "      <th>mean</th>\n",
       "      <td>45.357500</td>\n",
       "    </tr>\n",
       "    <tr>\n",
       "      <th>std</th>\n",
       "      <td>48.898675</td>\n",
       "    </tr>\n",
       "    <tr>\n",
       "      <th>min</th>\n",
       "      <td>3.600000</td>\n",
       "    </tr>\n",
       "    <tr>\n",
       "      <th>25%</th>\n",
       "      <td>13.515000</td>\n",
       "    </tr>\n",
       "    <tr>\n",
       "      <th>50%</th>\n",
       "      <td>32.290000</td>\n",
       "    </tr>\n",
       "    <tr>\n",
       "      <th>75%</th>\n",
       "      <td>64.132500</td>\n",
       "    </tr>\n",
       "    <tr>\n",
       "      <th>max</th>\n",
       "      <td>113.250000</td>\n",
       "    </tr>\n",
       "  </tbody>\n",
       "</table>\n",
       "</div>"
      ],
      "text/plain": [
       "       total_sales\n",
       "count     4.000000\n",
       "mean     45.357500\n",
       "std      48.898675\n",
       "min       3.600000\n",
       "25%      13.515000\n",
       "50%      32.290000\n",
       "75%      64.132500\n",
       "max     113.250000"
      ]
     },
     "execution_count": 16,
     "metadata": {},
     "output_type": "execute_result"
    }
   ],
   "source": [
    "relative_data[relative_data['platform'] == 'PS3']\\\n",
    "             .pivot_table(index='year_of_release', values='total_sales', aggfunc='sum').describe()"
   ]
  },
  {
   "cell_type": "markdown",
   "metadata": {},
   "source": [
    "\"Ящик с усами\" PS3: Первый квартиль = 34.36, третий квартиль = 124.725, медиана = 107.36"
   ]
  },
  {
   "cell_type": "markdown",
   "metadata": {},
   "source": [
    "##### X360"
   ]
  },
  {
   "cell_type": "code",
   "execution_count": 17,
   "metadata": {},
   "outputs": [
    {
     "data": {
      "text/html": [
       "<div>\n",
       "<style scoped>\n",
       "    .dataframe tbody tr th:only-of-type {\n",
       "        vertical-align: middle;\n",
       "    }\n",
       "\n",
       "    .dataframe tbody tr th {\n",
       "        vertical-align: top;\n",
       "    }\n",
       "\n",
       "    .dataframe thead th {\n",
       "        text-align: right;\n",
       "    }\n",
       "</style>\n",
       "<table border=\"1\" class=\"dataframe\">\n",
       "  <thead>\n",
       "    <tr style=\"text-align: right;\">\n",
       "      <th></th>\n",
       "      <th>total_sales</th>\n",
       "    </tr>\n",
       "  </thead>\n",
       "  <tbody>\n",
       "    <tr>\n",
       "      <th>count</th>\n",
       "      <td>4.000000</td>\n",
       "    </tr>\n",
       "    <tr>\n",
       "      <th>mean</th>\n",
       "      <td>34.200000</td>\n",
       "    </tr>\n",
       "    <tr>\n",
       "      <th>std</th>\n",
       "      <td>38.816131</td>\n",
       "    </tr>\n",
       "    <tr>\n",
       "      <th>min</th>\n",
       "      <td>1.520000</td>\n",
       "    </tr>\n",
       "    <tr>\n",
       "      <th>25%</th>\n",
       "      <td>9.350000</td>\n",
       "    </tr>\n",
       "    <tr>\n",
       "      <th>50%</th>\n",
       "      <td>23.350000</td>\n",
       "    </tr>\n",
       "    <tr>\n",
       "      <th>75%</th>\n",
       "      <td>48.200000</td>\n",
       "    </tr>\n",
       "    <tr>\n",
       "      <th>max</th>\n",
       "      <td>88.580000</td>\n",
       "    </tr>\n",
       "  </tbody>\n",
       "</table>\n",
       "</div>"
      ],
      "text/plain": [
       "       total_sales\n",
       "count     4.000000\n",
       "mean     34.200000\n",
       "std      38.816131\n",
       "min       1.520000\n",
       "25%       9.350000\n",
       "50%      23.350000\n",
       "75%      48.200000\n",
       "max      88.580000"
      ]
     },
     "execution_count": 17,
     "metadata": {},
     "output_type": "execute_result"
    }
   ],
   "source": [
    "relative_data[relative_data['platform'] == 'X360']\\\n",
    "             .pivot_table(index='year_of_release', values='total_sales', aggfunc='sum').describe()"
   ]
  },
  {
   "cell_type": "markdown",
   "metadata": {},
   "source": [
    "\"Ящик с усами\" X360: Первый квартиль = 29.045, третий квартиль = 124.0325, медиана = 91.995"
   ]
  },
  {
   "cell_type": "markdown",
   "metadata": {},
   "source": [
    "##### WII"
   ]
  },
  {
   "cell_type": "code",
   "execution_count": 18,
   "metadata": {},
   "outputs": [
    {
     "data": {
      "text/html": [
       "<div>\n",
       "<style scoped>\n",
       "    .dataframe tbody tr th:only-of-type {\n",
       "        vertical-align: middle;\n",
       "    }\n",
       "\n",
       "    .dataframe tbody tr th {\n",
       "        vertical-align: top;\n",
       "    }\n",
       "\n",
       "    .dataframe thead th {\n",
       "        text-align: right;\n",
       "    }\n",
       "</style>\n",
       "<table border=\"1\" class=\"dataframe\">\n",
       "  <thead>\n",
       "    <tr style=\"text-align: right;\">\n",
       "      <th></th>\n",
       "      <th>total_sales</th>\n",
       "    </tr>\n",
       "  </thead>\n",
       "  <tbody>\n",
       "    <tr>\n",
       "      <th>count</th>\n",
       "      <td>4.000000</td>\n",
       "    </tr>\n",
       "    <tr>\n",
       "      <th>mean</th>\n",
       "      <td>3.415000</td>\n",
       "    </tr>\n",
       "    <tr>\n",
       "      <th>std</th>\n",
       "      <td>3.765355</td>\n",
       "    </tr>\n",
       "    <tr>\n",
       "      <th>min</th>\n",
       "      <td>0.180000</td>\n",
       "    </tr>\n",
       "    <tr>\n",
       "      <th>25%</th>\n",
       "      <td>0.900000</td>\n",
       "    </tr>\n",
       "    <tr>\n",
       "      <th>50%</th>\n",
       "      <td>2.445000</td>\n",
       "    </tr>\n",
       "    <tr>\n",
       "      <th>75%</th>\n",
       "      <td>4.960000</td>\n",
       "    </tr>\n",
       "    <tr>\n",
       "      <th>max</th>\n",
       "      <td>8.590000</td>\n",
       "    </tr>\n",
       "  </tbody>\n",
       "</table>\n",
       "</div>"
      ],
      "text/plain": [
       "       total_sales\n",
       "count     4.000000\n",
       "mean      3.415000\n",
       "std       3.765355\n",
       "min       0.180000\n",
       "25%       0.900000\n",
       "50%       2.445000\n",
       "75%       4.960000\n",
       "max       8.590000"
      ]
     },
     "execution_count": 18,
     "metadata": {},
     "output_type": "execute_result"
    }
   ],
   "source": [
    "relative_data[relative_data['platform'] == 'Wii']\\\n",
    "             .pivot_table(index='year_of_release', values='total_sales', aggfunc='sum').describe()"
   ]
  },
  {
   "cell_type": "markdown",
   "metadata": {},
   "source": [
    "\"Ящик с усами\" Wii: Первый квартиль = 6.17, третий квартиль = 144.96, медиана = 59.65"
   ]
  },
  {
   "cell_type": "markdown",
   "metadata": {},
   "source": [
    "##### Влияние оценки пользователей на продажи (PS2)"
   ]
  },
  {
   "cell_type": "code",
   "execution_count": 19,
   "metadata": {},
   "outputs": [],
   "source": [
    "relative_data = relative_data[relative_data['user_score'].isna() == False]\n",
    "relative_data['user_score'] = relative_data['user_score'].astype('float')\n",
    "relative_data = relative_data[relative_data['user_score'] != 0]"
   ]
  },
  {
   "cell_type": "code",
   "execution_count": 20,
   "metadata": {},
   "outputs": [
    {
     "data": {
      "text/plain": [
       "array([8.2, 8.1, 8.3, 2.6, 4.3, 5.7, 5. , 6.5, 9.1, 6.1, 7.9, 5.4, 8.4,\n",
       "       6.4, 3.4, 8.5, 4.8, 9. , 4.9, 4.5, 6.2, 4.2, 6.3, 7.7, 9.2, 7.6,\n",
       "       8.7, 6.7, 3.7, 7. , 6.9, 4.1, 5.8, 5.6, 6.8, 5.5, 7.5, 4.4, 5.9,\n",
       "       7.2, 8.9, 3.9, 7.8, 3.2, 8.6, 3.1, 7.4, 7.3, 6.6, 6. , 4.7, 7.1,\n",
       "       8.8, 5.1, 3. , 2.9, 2.7, 2.2, 8. , 3.5, 5.2, 5.3, 3.8, 4.6, 3.3,\n",
       "       9.3, 4. , 3.6, 2.4, 2.8, 1.8, 1.7, 1.6, 2.1, 2. , 1.5, 0.7, 2.5,\n",
       "       0.2, 1.9, 1.3, 1. , 1.4, 2.3])"
      ]
     },
     "execution_count": 20,
     "metadata": {},
     "output_type": "execute_result"
    }
   ],
   "source": [
    "relative_data['user_score'].unique()"
   ]
  },
  {
   "cell_type": "markdown",
   "metadata": {},
   "source": [
    "##### Влияние оценки критиков на продажи (PS3)"
   ]
  },
  {
   "cell_type": "code",
   "execution_count": 21,
   "metadata": {},
   "outputs": [
    {
     "data": {
      "image/png": "[encoded data removed]",
      "text/plain": [
       "<Figure size 432x288 with 1 Axes>"
      ]
     },
     "metadata": {
      "needs_background": "light"
     },
     "output_type": "display_data"
    },
    {
     "name": "stdout",
     "output_type": "stream",
     "text": [
      "0.3338066356506173\n"
     ]
    }
   ],
   "source": [
    "plt.scatter(relative_data[relative_data['platform'] == \"PS3\"]['total_sales'],\\\n",
    "           relative_data[relative_data['platform'] == \"PS3\"]['critic_score'], alpha=0.3)\n",
    "plt.show()\n",
    "\n",
    "print(relative_data[relative_data['platform'] == \"PS3\"]['total_sales']\\\n",
    "      .corr(relative_data[relative_data['platform'] == \"PS3\"]['critic_score']))#коэф.корр."
   ]
  },
  {
   "cell_type": "markdown",
   "metadata": {},
   "source": [
    "Коэффициент корреляции в 0.43 говорит о том, что зависимость есть, но она не слишком сильная. Есть пара игр, у которых  высокие продажи и высокие оценки."
   ]
  },
  {
   "cell_type": "markdown",
   "metadata": {},
   "source": [
    "##### Влияние оценки пользователей на продажи (PS3)"
   ]
  },
  {
   "cell_type": "code",
   "execution_count": 22,
   "metadata": {},
   "outputs": [
    {
     "data": {
      "image/png": "[encoded data removed]",
      "text/plain": [
       "<Figure size 432x288 with 1 Axes>"
      ]
     },
     "metadata": {
      "needs_background": "light"
     },
     "output_type": "display_data"
    },
    {
     "name": "stdout",
     "output_type": "stream",
     "text": [
      "0.0023944027357566925\n"
     ]
    }
   ],
   "source": [
    "plt.scatter(relative_data[relative_data['platform'] == \"PS3\"]['total_sales'],\\\n",
    "           relative_data[relative_data['platform'] == \"PS3\"]['user_score'], alpha=0.3)\n",
    "plt.show()\n",
    "\n",
    "print(relative_data[relative_data['platform'] == \"PS3\"]['total_sales']\\\n",
    "      .corr(relative_data[relative_data['platform'] == \"PS3\"]['user_score']))#коэф.корр.#коэф.корр."
   ]
  },
  {
   "cell_type": "markdown",
   "metadata": {},
   "source": [
    "Корелляция отсутствует."
   ]
  },
  {
   "cell_type": "markdown",
   "metadata": {},
   "source": [
    "##### Влияние оценки критиков на продажи (X360)"
   ]
  },
  {
   "cell_type": "code",
   "execution_count": 23,
   "metadata": {},
   "outputs": [
    {
     "data": {
      "image/png": "[encoded data removed]",
      "text/plain": [
       "<Figure size 432x288 with 1 Axes>"
      ]
     },
     "metadata": {
      "needs_background": "light"
     },
     "output_type": "display_data"
    },
    {
     "name": "stdout",
     "output_type": "stream",
     "text": [
      "0.3503445460228664\n"
     ]
    }
   ],
   "source": [
    "plt.scatter(relative_data[relative_data['platform'] == \"X360\"]['total_sales'],\\\n",
    "           relative_data[relative_data['platform'] == \"X360\"]['critic_score'], alpha=0.3)\n",
    "plt.show()\n",
    "\n",
    "print(relative_data[relative_data['platform'] == \"X360\"]['total_sales']\\\n",
    "      .corr(relative_data[relative_data['platform'] == \"X360\"]['critic_score']))#коэф.корр.."
   ]
  },
  {
   "cell_type": "markdown",
   "metadata": {},
   "source": [
    "Присутствует слабая зависимость."
   ]
  },
  {
   "cell_type": "markdown",
   "metadata": {},
   "source": [
    "##### Влияние оценки пользователей на продажи (X360)"
   ]
  },
  {
   "cell_type": "code",
   "execution_count": 24,
   "metadata": {},
   "outputs": [
    {
     "data": {
      "image/png": "[encoded data removed]",
      "text/plain": [
       "<Figure size 432x288 with 1 Axes>"
      ]
     },
     "metadata": {
      "needs_background": "light"
     },
     "output_type": "display_data"
    },
    {
     "name": "stdout",
     "output_type": "stream",
     "text": [
      "-0.011742185147181342\n"
     ]
    }
   ],
   "source": [
    "plt.scatter(relative_data[relative_data['platform'] == \"X360\"]['total_sales'],\\\n",
    "           relative_data[relative_data['platform'] == \"X360\"]['user_score'], alpha=0.3)\n",
    "plt.show()\n",
    "\n",
    "print(relative_data[relative_data['platform'] == \"X360\"]['total_sales']\\\n",
    "      .corr(relative_data[relative_data['platform'] == \"X360\"]['user_score']))#коэф.корр.."
   ]
  },
  {
   "cell_type": "markdown",
   "metadata": {},
   "source": [
    "Корелляции нету."
   ]
  },
  {
   "cell_type": "markdown",
   "metadata": {},
   "source": [
    "##### Влияние оценки критиков на продажи (WII)"
   ]
  },
  {
   "cell_type": "code",
   "execution_count": 25,
   "metadata": {},
   "outputs": [
    {
     "data": {
      "image/png": "[encoded data removed]",
      "text/plain": [
       "<Figure size 432x288 with 1 Axes>"
      ]
     },
     "metadata": {
      "needs_background": "light"
     },
     "output_type": "display_data"
    },
    {
     "name": "stdout",
     "output_type": "stream",
     "text": [
      "nan\n"
     ]
    }
   ],
   "source": [
    "plt.scatter(relative_data[relative_data['platform'] == \"Wii\"]['total_sales'],\\\n",
    "           relative_data[relative_data['platform'] == \"Wii\"]['critic_score'], alpha=0.3)\n",
    "plt.show()\n",
    "\n",
    "print(relative_data[relative_data['platform'] == \"Wii\"]['total_sales']\\\n",
    "      .corr(relative_data[relative_data['platform'] == \"Wii\"]['critic_score']))#коэф.корр.."
   ]
  },
  {
   "cell_type": "markdown",
   "metadata": {},
   "source": [
    "Данных с оценками критиков за актуальный период нет."
   ]
  },
  {
   "cell_type": "markdown",
   "metadata": {},
   "source": [
    "##### Влияние оценки пользователей на продажи (WII)"
   ]
  },
  {
   "cell_type": "code",
   "execution_count": 26,
   "metadata": {},
   "outputs": [
    {
     "data": {
      "image/png": "[encoded data removed]",
      "text/plain": [
       "<Figure size 432x288 with 1 Axes>"
      ]
     },
     "metadata": {
      "needs_background": "light"
     },
     "output_type": "display_data"
    },
    {
     "name": "stdout",
     "output_type": "stream",
     "text": [
      "0.6829417215362368\n"
     ]
    }
   ],
   "source": [
    "plt.scatter(relative_data[relative_data['platform'] == \"Wii\"]['total_sales'],\\\n",
    "           relative_data[relative_data['platform'] == \"Wii\"]['user_score'], alpha=0.3)\n",
    "plt.show()\n",
    "\n",
    "print(relative_data[relative_data['platform'] == \"Wii\"]['total_sales']\\\n",
    "      .corr(relative_data[relative_data['platform'] == \"Wii\"]['user_score']))#коэф.корр.."
   ]
  },
  {
   "cell_type": "markdown",
   "metadata": {},
   "source": [
    "Корелляция средняя."
   ]
  },
  {
   "cell_type": "markdown",
   "metadata": {},
   "source": [
    "##### Популярность жанров по продажам"
   ]
  },
  {
   "cell_type": "code",
   "execution_count": 27,
   "metadata": {},
   "outputs": [
    {
     "data": {
      "text/html": [
       "<div>\n",
       "<style scoped>\n",
       "    .dataframe tbody tr th:only-of-type {\n",
       "        vertical-align: middle;\n",
       "    }\n",
       "\n",
       "    .dataframe tbody tr th {\n",
       "        vertical-align: top;\n",
       "    }\n",
       "\n",
       "    .dataframe thead th {\n",
       "        text-align: right;\n",
       "    }\n",
       "</style>\n",
       "<table border=\"1\" class=\"dataframe\">\n",
       "  <thead>\n",
       "    <tr style=\"text-align: right;\">\n",
       "      <th></th>\n",
       "      <th>median_sales</th>\n",
       "    </tr>\n",
       "    <tr>\n",
       "      <th>genre</th>\n",
       "      <th></th>\n",
       "    </tr>\n",
       "  </thead>\n",
       "  <tbody>\n",
       "    <tr>\n",
       "      <th>Shooter</th>\n",
       "      <td>0.520</td>\n",
       "    </tr>\n",
       "    <tr>\n",
       "      <th>Sports</th>\n",
       "      <td>0.435</td>\n",
       "    </tr>\n",
       "    <tr>\n",
       "      <th>Misc</th>\n",
       "      <td>0.325</td>\n",
       "    </tr>\n",
       "    <tr>\n",
       "      <th>Platform</th>\n",
       "      <td>0.250</td>\n",
       "    </tr>\n",
       "    <tr>\n",
       "      <th>Strategy</th>\n",
       "      <td>0.220</td>\n",
       "    </tr>\n",
       "    <tr>\n",
       "      <th>Action</th>\n",
       "      <td>0.200</td>\n",
       "    </tr>\n",
       "    <tr>\n",
       "      <th>Fighting</th>\n",
       "      <td>0.195</td>\n",
       "    </tr>\n",
       "    <tr>\n",
       "      <th>Role-Playing</th>\n",
       "      <td>0.180</td>\n",
       "    </tr>\n",
       "    <tr>\n",
       "      <th>Racing</th>\n",
       "      <td>0.170</td>\n",
       "    </tr>\n",
       "    <tr>\n",
       "      <th>Simulation</th>\n",
       "      <td>0.120</td>\n",
       "    </tr>\n",
       "    <tr>\n",
       "      <th>Puzzle</th>\n",
       "      <td>0.100</td>\n",
       "    </tr>\n",
       "    <tr>\n",
       "      <th>Adventure</th>\n",
       "      <td>0.070</td>\n",
       "    </tr>\n",
       "  </tbody>\n",
       "</table>\n",
       "</div>"
      ],
      "text/plain": [
       "              median_sales\n",
       "genre                     \n",
       "Shooter              0.520\n",
       "Sports               0.435\n",
       "Misc                 0.325\n",
       "Platform             0.250\n",
       "Strategy             0.220\n",
       "Action               0.200\n",
       "Fighting             0.195\n",
       "Role-Playing         0.180\n",
       "Racing               0.170\n",
       "Simulation           0.120\n",
       "Puzzle               0.100\n",
       "Adventure            0.070"
      ]
     },
     "execution_count": 27,
     "metadata": {},
     "output_type": "execute_result"
    }
   ],
   "source": [
    "good_relative_data = relative_data.pivot_table(index='genre', values='total_sales',\\\n",
    "                                               aggfunc='median').sort_values(by='total_sales', ascending=False)\n",
    "good_relative_data.columns = ['median_sales']\n",
    "good_relative_data"
   ]
  },
  {
   "cell_type": "markdown",
   "metadata": {},
   "source": [
    "Самые прибыльные жанры - Shooter, Sports, Misc. Жанры с самыми низкими продажами - Simulation, Puzzle, Adventure."
   ]
  },
  {
   "cell_type": "markdown",
   "metadata": {},
   "source": [
    "#### Шаг 4. Портрет пользователя каждого региона"
   ]
  },
  {
   "cell_type": "markdown",
   "metadata": {},
   "source": [
    "##### Самые популярные платформы Японии"
   ]
  },
  {
   "cell_type": "code",
   "execution_count": 29,
   "metadata": {},
   "outputs": [
    {
     "data": {
      "text/html": [
       "<div>\n",
       "<style scoped>\n",
       "    .dataframe tbody tr th:only-of-type {\n",
       "        vertical-align: middle;\n",
       "    }\n",
       "\n",
       "    .dataframe tbody tr th {\n",
       "        vertical-align: top;\n",
       "    }\n",
       "\n",
       "    .dataframe thead th {\n",
       "        text-align: right;\n",
       "    }\n",
       "</style>\n",
       "<table border=\"1\" class=\"dataframe\">\n",
       "  <thead>\n",
       "    <tr style=\"text-align: right;\">\n",
       "      <th></th>\n",
       "      <th>jp_sales</th>\n",
       "    </tr>\n",
       "    <tr>\n",
       "      <th>platform</th>\n",
       "      <th></th>\n",
       "    </tr>\n",
       "  </thead>\n",
       "  <tbody>\n",
       "    <tr>\n",
       "      <th>PS3</th>\n",
       "      <td>14.32</td>\n",
       "    </tr>\n",
       "    <tr>\n",
       "      <th>3DS</th>\n",
       "      <td>14.25</td>\n",
       "    </tr>\n",
       "    <tr>\n",
       "      <th>PS4</th>\n",
       "      <td>9.45</td>\n",
       "    </tr>\n",
       "    <tr>\n",
       "      <th>WiiU</th>\n",
       "      <td>8.36</td>\n",
       "    </tr>\n",
       "    <tr>\n",
       "      <th>PSV</th>\n",
       "      <td>6.61</td>\n",
       "    </tr>\n",
       "  </tbody>\n",
       "</table>\n",
       "</div>"
      ],
      "text/plain": [
       "          jp_sales\n",
       "platform          \n",
       "PS3          14.32\n",
       "3DS          14.25\n",
       "PS4           9.45\n",
       "WiiU          8.36\n",
       "PSV           6.61"
      ]
     },
     "execution_count": 29,
     "metadata": {},
     "output_type": "execute_result"
    }
   ],
   "source": [
    "relative_data.pivot_table(index='platform', values='jp_sales', aggfunc='sum').\\\n",
    "sort_values(by='jp_sales', ascending=False).head(5)"
   ]
  },
  {
   "cell_type": "markdown",
   "metadata": {},
   "source": [
    "PS3, 3DS, PS4, WiiU, PSV - топ 5 самых популярных консолей в Японии."
   ]
  },
  {
   "cell_type": "code",
   "execution_count": 30,
   "metadata": {},
   "outputs": [
    {
     "data": {
      "image/png": "[encoded data removed]",
      "text/plain": [
       "<Figure size 432x288 with 1 Axes>"
      ]
     },
     "metadata": {},
     "output_type": "display_data"
    }
   ],
   "source": [
    "relative_data.pivot_table(index='platform', values='jp_sales', aggfunc='sum').\\\n",
    "sort_values(by='jp_sales', ascending=False).head(5).plot.pie(y='jp_sales', title=\"Топ 5 консолей в Японии\", legend=False, \\\n",
    "                   autopct='%1.1f%%')\n",
    "plt.show()"
   ]
  },
  {
   "cell_type": "markdown",
   "metadata": {},
   "source": [
    "Доли 3DS и PS3 практически равны и занимают большую часть диаграммы вместе."
   ]
  },
  {
   "cell_type": "markdown",
   "metadata": {},
   "source": [
    "##### Самые популярные жанры Японии"
   ]
  },
  {
   "cell_type": "code",
   "execution_count": 31,
   "metadata": {},
   "outputs": [
    {
     "data": {
      "text/html": [
       "<div>\n",
       "<style scoped>\n",
       "    .dataframe tbody tr th:only-of-type {\n",
       "        vertical-align: middle;\n",
       "    }\n",
       "\n",
       "    .dataframe tbody tr th {\n",
       "        vertical-align: top;\n",
       "    }\n",
       "\n",
       "    .dataframe thead th {\n",
       "        text-align: right;\n",
       "    }\n",
       "</style>\n",
       "<table border=\"1\" class=\"dataframe\">\n",
       "  <thead>\n",
       "    <tr style=\"text-align: right;\">\n",
       "      <th></th>\n",
       "      <th>jp_sales</th>\n",
       "    </tr>\n",
       "    <tr>\n",
       "      <th>genre</th>\n",
       "      <th></th>\n",
       "    </tr>\n",
       "  </thead>\n",
       "  <tbody>\n",
       "    <tr>\n",
       "      <th>Action</th>\n",
       "      <td>16.13</td>\n",
       "    </tr>\n",
       "    <tr>\n",
       "      <th>Role-Playing</th>\n",
       "      <td>13.68</td>\n",
       "    </tr>\n",
       "    <tr>\n",
       "      <th>Shooter</th>\n",
       "      <td>5.79</td>\n",
       "    </tr>\n",
       "    <tr>\n",
       "      <th>Platform</th>\n",
       "      <td>4.17</td>\n",
       "    </tr>\n",
       "    <tr>\n",
       "      <th>Misc</th>\n",
       "      <td>3.12</td>\n",
       "    </tr>\n",
       "  </tbody>\n",
       "</table>\n",
       "</div>"
      ],
      "text/plain": [
       "              jp_sales\n",
       "genre                 \n",
       "Action           16.13\n",
       "Role-Playing     13.68\n",
       "Shooter           5.79\n",
       "Platform          4.17\n",
       "Misc              3.12"
      ]
     },
     "execution_count": 31,
     "metadata": {},
     "output_type": "execute_result"
    }
   ],
   "source": [
    "relative_data.pivot_table(index='genre', values='jp_sales', aggfunc='sum').\\\n",
    "sort_values(by='jp_sales', ascending=False).head(5)"
   ]
  },
  {
   "cell_type": "markdown",
   "metadata": {},
   "source": [
    "Action - самый популярный жанр Японии, Misc - занимает последнее место в топ-5."
   ]
  },
  {
   "cell_type": "markdown",
   "metadata": {},
   "source": [
    "##### ESRB в Японии"
   ]
  },
  {
   "cell_type": "code",
   "execution_count": 32,
   "metadata": {},
   "outputs": [
    {
     "data": {
      "text/html": [
       "<div>\n",
       "<style scoped>\n",
       "    .dataframe tbody tr th:only-of-type {\n",
       "        vertical-align: middle;\n",
       "    }\n",
       "\n",
       "    .dataframe tbody tr th {\n",
       "        vertical-align: top;\n",
       "    }\n",
       "\n",
       "    .dataframe thead th {\n",
       "        text-align: right;\n",
       "    }\n",
       "</style>\n",
       "<table border=\"1\" class=\"dataframe\">\n",
       "  <thead>\n",
       "    <tr style=\"text-align: right;\">\n",
       "      <th></th>\n",
       "      <th>jp_sales</th>\n",
       "    </tr>\n",
       "    <tr>\n",
       "      <th>rating</th>\n",
       "      <th></th>\n",
       "    </tr>\n",
       "  </thead>\n",
       "  <tbody>\n",
       "    <tr>\n",
       "      <th>T</th>\n",
       "      <td>0.01</td>\n",
       "    </tr>\n",
       "    <tr>\n",
       "      <th>0</th>\n",
       "      <td>0.00</td>\n",
       "    </tr>\n",
       "    <tr>\n",
       "      <th>E</th>\n",
       "      <td>0.00</td>\n",
       "    </tr>\n",
       "    <tr>\n",
       "      <th>E10+</th>\n",
       "      <td>0.00</td>\n",
       "    </tr>\n",
       "    <tr>\n",
       "      <th>M</th>\n",
       "      <td>0.00</td>\n",
       "    </tr>\n",
       "  </tbody>\n",
       "</table>\n",
       "</div>"
      ],
      "text/plain": [
       "        jp_sales\n",
       "rating          \n",
       "T           0.01\n",
       "0           0.00\n",
       "E           0.00\n",
       "E10+        0.00\n",
       "M           0.00"
      ]
     },
     "execution_count": 32,
     "metadata": {},
     "output_type": "execute_result"
    },
    {
     "data": {
      "image/png": "[encoded data removed]",
      "text/plain": [
       "<Figure size 1440x360 with 1 Axes>"
      ]
     },
     "metadata": {
      "needs_background": "light"
     },
     "output_type": "display_data"
    }
   ],
   "source": [
    "plt.figure(figsize=(20, 5))\n",
    "for i in relative_data['rating'].unique():\n",
    "    plt.scatter(relative_data[relative_data['rating'] == i]['rating'],\\\n",
    "               relative_data[relative_data['rating'] == i]['jp_sales'], alpha=0.3)\n",
    "\n",
    "relative_data.pivot_table(index='rating', values='jp_sales', aggfunc='median').\\\n",
    "sort_values(by='jp_sales', ascending=False).head(5)"
   ]
  },
  {
   "cell_type": "markdown",
   "metadata": {},
   "source": [
    "Игры с рейтингом T продаются больше всего в Японии."
   ]
  },
  {
   "cell_type": "markdown",
   "metadata": {},
   "source": [
    "##### Самые популярные платформы Европы"
   ]
  },
  {
   "cell_type": "code",
   "execution_count": 33,
   "metadata": {},
   "outputs": [
    {
     "data": {
      "text/html": [
       "<div>\n",
       "<style scoped>\n",
       "    .dataframe tbody tr th:only-of-type {\n",
       "        vertical-align: middle;\n",
       "    }\n",
       "\n",
       "    .dataframe tbody tr th {\n",
       "        vertical-align: top;\n",
       "    }\n",
       "\n",
       "    .dataframe thead th {\n",
       "        text-align: right;\n",
       "    }\n",
       "</style>\n",
       "<table border=\"1\" class=\"dataframe\">\n",
       "  <thead>\n",
       "    <tr style=\"text-align: right;\">\n",
       "      <th></th>\n",
       "      <th>eu_sales</th>\n",
       "    </tr>\n",
       "    <tr>\n",
       "      <th>platform</th>\n",
       "      <th></th>\n",
       "    </tr>\n",
       "  </thead>\n",
       "  <tbody>\n",
       "    <tr>\n",
       "      <th>PS4</th>\n",
       "      <td>112.78</td>\n",
       "    </tr>\n",
       "    <tr>\n",
       "      <th>PS3</th>\n",
       "      <td>59.19</td>\n",
       "    </tr>\n",
       "    <tr>\n",
       "      <th>XOne</th>\n",
       "      <td>43.34</td>\n",
       "    </tr>\n",
       "    <tr>\n",
       "      <th>X360</th>\n",
       "      <td>36.19</td>\n",
       "    </tr>\n",
       "    <tr>\n",
       "      <th>PC</th>\n",
       "      <td>22.16</td>\n",
       "    </tr>\n",
       "  </tbody>\n",
       "</table>\n",
       "</div>"
      ],
      "text/plain": [
       "          eu_sales\n",
       "platform          \n",
       "PS4         112.78\n",
       "PS3          59.19\n",
       "XOne         43.34\n",
       "X360         36.19\n",
       "PC           22.16"
      ]
     },
     "execution_count": 33,
     "metadata": {},
     "output_type": "execute_result"
    }
   ],
   "source": [
    "relative_data.pivot_table(index='platform', values='eu_sales', aggfunc='sum').\\\n",
    "sort_values(by='eu_sales', ascending=False).head(5)"
   ]
  },
  {
   "cell_type": "markdown",
   "metadata": {},
   "source": [
    "PS4, PS3, XOne, X360, PC - самые популярные консоли в Европе."
   ]
  },
  {
   "cell_type": "code",
   "execution_count": 34,
   "metadata": {},
   "outputs": [
    {
     "data": {
      "image/png": "[encoded data removed]",
      "text/plain": [
       "<Figure size 432x288 with 1 Axes>"
      ]
     },
     "metadata": {},
     "output_type": "display_data"
    }
   ],
   "source": [
    "relative_data.pivot_table(index='platform', values='eu_sales', aggfunc='sum').\\\n",
    "sort_values(by='eu_sales', ascending=False).head(5).plot.pie(y='eu_sales', title=\"Топ 5 консолей в Европе\", legend=False, \\\n",
    "                   autopct='%1.1f%%')\n",
    "plt.show()"
   ]
  },
  {
   "cell_type": "markdown",
   "metadata": {},
   "source": [
    "PS4 занимает практически половину диаграммы."
   ]
  },
  {
   "cell_type": "markdown",
   "metadata": {},
   "source": [
    "##### Самые популярные жанры Европы"
   ]
  },
  {
   "cell_type": "code",
   "execution_count": 35,
   "metadata": {},
   "outputs": [
    {
     "data": {
      "text/html": [
       "<div>\n",
       "<style scoped>\n",
       "    .dataframe tbody tr th:only-of-type {\n",
       "        vertical-align: middle;\n",
       "    }\n",
       "\n",
       "    .dataframe tbody tr th {\n",
       "        vertical-align: top;\n",
       "    }\n",
       "\n",
       "    .dataframe thead th {\n",
       "        text-align: right;\n",
       "    }\n",
       "</style>\n",
       "<table border=\"1\" class=\"dataframe\">\n",
       "  <thead>\n",
       "    <tr style=\"text-align: right;\">\n",
       "      <th></th>\n",
       "      <th>eu_sales</th>\n",
       "    </tr>\n",
       "    <tr>\n",
       "      <th>genre</th>\n",
       "      <th></th>\n",
       "    </tr>\n",
       "  </thead>\n",
       "  <tbody>\n",
       "    <tr>\n",
       "      <th>Action</th>\n",
       "      <td>100.49</td>\n",
       "    </tr>\n",
       "    <tr>\n",
       "      <th>Shooter</th>\n",
       "      <td>71.00</td>\n",
       "    </tr>\n",
       "    <tr>\n",
       "      <th>Sports</th>\n",
       "      <td>59.38</td>\n",
       "    </tr>\n",
       "    <tr>\n",
       "      <th>Role-Playing</th>\n",
       "      <td>19.82</td>\n",
       "    </tr>\n",
       "    <tr>\n",
       "      <th>Racing</th>\n",
       "      <td>17.46</td>\n",
       "    </tr>\n",
       "  </tbody>\n",
       "</table>\n",
       "</div>"
      ],
      "text/plain": [
       "              eu_sales\n",
       "genre                 \n",
       "Action          100.49\n",
       "Shooter          71.00\n",
       "Sports           59.38\n",
       "Role-Playing     19.82\n",
       "Racing           17.46"
      ]
     },
     "execution_count": 35,
     "metadata": {},
     "output_type": "execute_result"
    }
   ],
   "source": [
    "relative_data.pivot_table(index='genre', values='eu_sales', aggfunc='sum').\\\n",
    "sort_values(by='eu_sales', ascending=False).head(5)"
   ]
  },
  {
   "cell_type": "markdown",
   "metadata": {},
   "source": [
    "Action - самый популярный жанр игр в Европе, Racing замыкает топ-5."
   ]
  },
  {
   "cell_type": "markdown",
   "metadata": {},
   "source": [
    "##### ESRB в Европе"
   ]
  },
  {
   "cell_type": "code",
   "execution_count": 36,
   "metadata": {},
   "outputs": [
    {
     "data": {
      "text/html": [
       "<div>\n",
       "<style scoped>\n",
       "    .dataframe tbody tr th:only-of-type {\n",
       "        vertical-align: middle;\n",
       "    }\n",
       "\n",
       "    .dataframe tbody tr th {\n",
       "        vertical-align: top;\n",
       "    }\n",
       "\n",
       "    .dataframe thead th {\n",
       "        text-align: right;\n",
       "    }\n",
       "</style>\n",
       "<table border=\"1\" class=\"dataframe\">\n",
       "  <thead>\n",
       "    <tr style=\"text-align: right;\">\n",
       "      <th></th>\n",
       "      <th>eu_sales</th>\n",
       "    </tr>\n",
       "    <tr>\n",
       "      <th>rating</th>\n",
       "      <th></th>\n",
       "    </tr>\n",
       "  </thead>\n",
       "  <tbody>\n",
       "    <tr>\n",
       "      <th>M</th>\n",
       "      <td>0.13</td>\n",
       "    </tr>\n",
       "    <tr>\n",
       "      <th>E10+</th>\n",
       "      <td>0.12</td>\n",
       "    </tr>\n",
       "    <tr>\n",
       "      <th>E</th>\n",
       "      <td>0.08</td>\n",
       "    </tr>\n",
       "    <tr>\n",
       "      <th>T</th>\n",
       "      <td>0.04</td>\n",
       "    </tr>\n",
       "    <tr>\n",
       "      <th>0</th>\n",
       "      <td>0.03</td>\n",
       "    </tr>\n",
       "  </tbody>\n",
       "</table>\n",
       "</div>"
      ],
      "text/plain": [
       "        eu_sales\n",
       "rating          \n",
       "M           0.13\n",
       "E10+        0.12\n",
       "E           0.08\n",
       "T           0.04\n",
       "0           0.03"
      ]
     },
     "execution_count": 36,
     "metadata": {},
     "output_type": "execute_result"
    },
    {
     "data": {
      "image/png": "[encoded data removed]",
      "text/plain": [
       "<Figure size 1440x360 with 1 Axes>"
      ]
     },
     "metadata": {
      "needs_background": "light"
     },
     "output_type": "display_data"
    }
   ],
   "source": [
    "plt.figure(figsize=(20, 5))\n",
    "for i in relative_data['rating'].unique():\n",
    "    plt.scatter(relative_data[relative_data['rating'] == i]['rating'],\\\n",
    "               relative_data[relative_data['rating'] == i]['eu_sales'], alpha=0.3)\n",
    "\n",
    "relative_data.pivot_table(index='rating', values='eu_sales', aggfunc='median').\\\n",
    "sort_values(by='eu_sales', ascending=False).head(5)"
   ]
  },
  {
   "cell_type": "markdown",
   "metadata": {},
   "source": [
    "Игры с рейтингом M продаются больше всего в Европе."
   ]
  },
  {
   "cell_type": "markdown",
   "metadata": {},
   "source": [
    "##### Самые популярные платформы Северной Америки"
   ]
  },
  {
   "cell_type": "code",
   "execution_count": 37,
   "metadata": {},
   "outputs": [
    {
     "data": {
      "text/html": [
       "<div>\n",
       "<style scoped>\n",
       "    .dataframe tbody tr th:only-of-type {\n",
       "        vertical-align: middle;\n",
       "    }\n",
       "\n",
       "    .dataframe tbody tr th {\n",
       "        vertical-align: top;\n",
       "    }\n",
       "\n",
       "    .dataframe thead th {\n",
       "        text-align: right;\n",
       "    }\n",
       "</style>\n",
       "<table border=\"1\" class=\"dataframe\">\n",
       "  <thead>\n",
       "    <tr style=\"text-align: right;\">\n",
       "      <th></th>\n",
       "      <th>na_sales</th>\n",
       "    </tr>\n",
       "    <tr>\n",
       "      <th>platform</th>\n",
       "      <th></th>\n",
       "    </tr>\n",
       "  </thead>\n",
       "  <tbody>\n",
       "    <tr>\n",
       "      <th>PS4</th>\n",
       "      <td>84.66</td>\n",
       "    </tr>\n",
       "    <tr>\n",
       "      <th>XOne</th>\n",
       "      <td>78.61</td>\n",
       "    </tr>\n",
       "    <tr>\n",
       "      <th>X360</th>\n",
       "      <td>69.29</td>\n",
       "    </tr>\n",
       "    <tr>\n",
       "      <th>PS3</th>\n",
       "      <td>55.29</td>\n",
       "    </tr>\n",
       "    <tr>\n",
       "      <th>WiiU</th>\n",
       "      <td>23.54</td>\n",
       "    </tr>\n",
       "  </tbody>\n",
       "</table>\n",
       "</div>"
      ],
      "text/plain": [
       "          na_sales\n",
       "platform          \n",
       "PS4          84.66\n",
       "XOne         78.61\n",
       "X360         69.29\n",
       "PS3          55.29\n",
       "WiiU         23.54"
      ]
     },
     "execution_count": 37,
     "metadata": {},
     "output_type": "execute_result"
    }
   ],
   "source": [
    "relative_data.pivot_table(index='platform', values='na_sales', aggfunc='sum').\\\n",
    "sort_values(by='na_sales', ascending=False).head(5)"
   ]
  },
  {
   "cell_type": "markdown",
   "metadata": {},
   "source": [
    "PS4, XOne, X360, PS3, WiiU - самые популярные консоли в Северной Америке."
   ]
  },
  {
   "cell_type": "code",
   "execution_count": 38,
   "metadata": {},
   "outputs": [
    {
     "data": {
      "image/png": "[encoded data removed]",
      "text/plain": [
       "<Figure size 432x288 with 1 Axes>"
      ]
     },
     "metadata": {},
     "output_type": "display_data"
    }
   ],
   "source": [
    "relative_data.pivot_table(index='platform', values='na_sales', aggfunc='sum').\\\n",
    "sort_values(by='na_sales', ascending=False).head(5).plot.pie(y='na_sales', title=\"Топ 5 консолей в Северной Америке\",\\\n",
    "                                                             legend=False, autopct='%1.1f%%')\n",
    "plt.show()"
   ]
  },
  {
   "cell_type": "markdown",
   "metadata": {},
   "source": [
    "XOne и PS4 занимают большую долю диаграммы. WiiU занимает меньше всего."
   ]
  },
  {
   "cell_type": "markdown",
   "metadata": {},
   "source": [
    "##### Самые популярные жанры Северной Америки"
   ]
  },
  {
   "cell_type": "code",
   "execution_count": 39,
   "metadata": {},
   "outputs": [
    {
     "data": {
      "text/html": [
       "<div>\n",
       "<style scoped>\n",
       "    .dataframe tbody tr th:only-of-type {\n",
       "        vertical-align: middle;\n",
       "    }\n",
       "\n",
       "    .dataframe tbody tr th {\n",
       "        vertical-align: top;\n",
       "    }\n",
       "\n",
       "    .dataframe thead th {\n",
       "        text-align: right;\n",
       "    }\n",
       "</style>\n",
       "<table border=\"1\" class=\"dataframe\">\n",
       "  <thead>\n",
       "    <tr style=\"text-align: right;\">\n",
       "      <th></th>\n",
       "      <th>na_sales</th>\n",
       "    </tr>\n",
       "    <tr>\n",
       "      <th>genre</th>\n",
       "      <th></th>\n",
       "    </tr>\n",
       "  </thead>\n",
       "  <tbody>\n",
       "    <tr>\n",
       "      <th>Action</th>\n",
       "      <td>108.43</td>\n",
       "    </tr>\n",
       "    <tr>\n",
       "      <th>Shooter</th>\n",
       "      <td>90.15</td>\n",
       "    </tr>\n",
       "    <tr>\n",
       "      <th>Sports</th>\n",
       "      <td>64.14</td>\n",
       "    </tr>\n",
       "    <tr>\n",
       "      <th>Role-Playing</th>\n",
       "      <td>24.02</td>\n",
       "    </tr>\n",
       "    <tr>\n",
       "      <th>Platform</th>\n",
       "      <td>15.53</td>\n",
       "    </tr>\n",
       "  </tbody>\n",
       "</table>\n",
       "</div>"
      ],
      "text/plain": [
       "              na_sales\n",
       "genre                 \n",
       "Action          108.43\n",
       "Shooter          90.15\n",
       "Sports           64.14\n",
       "Role-Playing     24.02\n",
       "Platform         15.53"
      ]
     },
     "execution_count": 39,
     "metadata": {},
     "output_type": "execute_result"
    }
   ],
   "source": [
    "relative_data.pivot_table(index='genre', values='na_sales', aggfunc='sum').\\\n",
    "sort_values(by='na_sales', ascending=False).head(5)"
   ]
  },
  {
   "cell_type": "markdown",
   "metadata": {},
   "source": [
    "Action - самый популярный жанр игр в Северной Америке, Platform замыкает топ-5."
   ]
  },
  {
   "cell_type": "markdown",
   "metadata": {},
   "source": [
    "##### ESRB в Северной Америке"
   ]
  },
  {
   "cell_type": "code",
   "execution_count": 40,
   "metadata": {},
   "outputs": [
    {
     "data": {
      "text/html": [
       "<div>\n",
       "<style scoped>\n",
       "    .dataframe tbody tr th:only-of-type {\n",
       "        vertical-align: middle;\n",
       "    }\n",
       "\n",
       "    .dataframe tbody tr th {\n",
       "        vertical-align: top;\n",
       "    }\n",
       "\n",
       "    .dataframe thead th {\n",
       "        text-align: right;\n",
       "    }\n",
       "</style>\n",
       "<table border=\"1\" class=\"dataframe\">\n",
       "  <thead>\n",
       "    <tr style=\"text-align: right;\">\n",
       "      <th></th>\n",
       "      <th>na_sales</th>\n",
       "    </tr>\n",
       "    <tr>\n",
       "      <th>rating</th>\n",
       "      <th></th>\n",
       "    </tr>\n",
       "  </thead>\n",
       "  <tbody>\n",
       "    <tr>\n",
       "      <th>E10+</th>\n",
       "      <td>0.16</td>\n",
       "    </tr>\n",
       "    <tr>\n",
       "      <th>M</th>\n",
       "      <td>0.14</td>\n",
       "    </tr>\n",
       "    <tr>\n",
       "      <th>E</th>\n",
       "      <td>0.08</td>\n",
       "    </tr>\n",
       "    <tr>\n",
       "      <th>T</th>\n",
       "      <td>0.05</td>\n",
       "    </tr>\n",
       "    <tr>\n",
       "      <th>0</th>\n",
       "      <td>0.00</td>\n",
       "    </tr>\n",
       "  </tbody>\n",
       "</table>\n",
       "</div>"
      ],
      "text/plain": [
       "        na_sales\n",
       "rating          \n",
       "E10+        0.16\n",
       "M           0.14\n",
       "E           0.08\n",
       "T           0.05\n",
       "0           0.00"
      ]
     },
     "execution_count": 40,
     "metadata": {},
     "output_type": "execute_result"
    }
   ],
   "source": [
    "relative_data.pivot_table(index='rating', values='na_sales', aggfunc='median').\\\n",
    "sort_values(by='na_sales', ascending=False).head(5)"
   ]
  },
  {
   "cell_type": "code",
   "execution_count": 41,
   "metadata": {},
   "outputs": [
    {
     "data": {
      "image/png": "[encoded data removed]",
      "text/plain": [
       "<Figure size 1440x360 with 1 Axes>"
      ]
     },
     "metadata": {
      "needs_background": "light"
     },
     "output_type": "display_data"
    }
   ],
   "source": [
    "plt.figure(figsize=(20, 5))\n",
    "for i in relative_data['rating'].unique():\n",
    "    plt.scatter(relative_data[relative_data['rating'] == i]['rating'],\\\n",
    "               relative_data[relative_data['rating'] == i]['na_sales'], alpha=0.3)"
   ]
  },
  {
   "cell_type": "markdown",
   "metadata": {},
   "source": [
    "Игры с рейтингом E10+ продаются лучше всех в Северной Америке."
   ]
  },
  {
   "cell_type": "markdown",
   "metadata": {},
   "source": [
    "#### Шаг 5. Проверка гипотез"
   ]
  },
  {
   "cell_type": "code",
   "execution_count": 42,
   "metadata": {},
   "outputs": [
    {
     "data": {
      "text/plain": [
       "0"
      ]
     },
     "execution_count": 42,
     "metadata": {},
     "output_type": "execute_result"
    }
   ],
   "source": [
    "relative_data['user_score'].isna().sum()"
   ]
  },
  {
   "cell_type": "code",
   "execution_count": 43,
   "metadata": {},
   "outputs": [],
   "source": [
    "relative_data = relative_data[relative_data['critic_score'].isna() == False]"
   ]
  },
  {
   "cell_type": "markdown",
   "metadata": {},
   "source": [
    "##### Средние пользовательские рейтинги платформ Xbox One и PC одинаковые"
   ]
  },
  {
   "cell_type": "markdown",
   "metadata": {},
   "source": [
    "Нулевая гипотеза: Средние пользовательский рейтинг платформы Xbox One == средний пользовательский рейтинг платформы PC\n",
    "\n",
    "Альтернативная гипотеза: Средние пользовательский рейтинги Xbox One и PC различаются."
   ]
  },
  {
   "cell_type": "code",
   "execution_count": 44,
   "metadata": {},
   "outputs": [
    {
     "name": "stdout",
     "output_type": "stream",
     "text": [
      "p-значение: 0.17306926618147322\n",
      "Не получилось отвергнуть нулевую гипотезу\n"
     ]
    }
   ],
   "source": [
    "alpha = 0.05\n",
    "\n",
    "results = st.ttest_ind(relative_data[relative_data['platform'] == 'XOne']['user_score'],\\\n",
    "                       relative_data[relative_data['platform'] == 'PC']['user_score'])\n",
    "\n",
    "print('p-значение:', results.pvalue)\n",
    "\n",
    "if results.pvalue < alpha:\n",
    "    print('Отвергаем нулевую гипотезу о том, что средние пользовательские рейтинги платформ Xbox One и PC одинаковые')\n",
    "else:\n",
    "    print('Не получилось отвергнуть нулевую гипотезу')"
   ]
  },
  {
   "cell_type": "markdown",
   "metadata": {},
   "source": [
    "Здесь используем метод для двух независимых выборок. Проверяется двусторонняя гипотеза"
   ]
  },
  {
   "cell_type": "markdown",
   "metadata": {},
   "source": [
    "##### Средние пользовательские рейтинги жанров Action и Sports  разные."
   ]
  },
  {
   "cell_type": "markdown",
   "metadata": {},
   "source": [
    "Нулевая гипотеза: Средний пользовательский рейтинг жанра Action == средний пользовательский рейтинг жанра Sports\n",
    "\n",
    "Альтернативная гипотеза: Средние пользовательские рейтинги жанров Action и Sports различаются."
   ]
  },
  {
   "cell_type": "code",
   "execution_count": 45,
   "metadata": {},
   "outputs": [
    {
     "name": "stdout",
     "output_type": "stream",
     "text": [
      "p-значение: 1.684099430689953e-16\n",
      "Отвергаем нулевую гипотезу о том, что cредние пользовательские рейтинги жанров Action и Sports одинаковые\n"
     ]
    }
   ],
   "source": [
    "alpha = 0.05\n",
    "\n",
    "results = st.ttest_ind(relative_data[relative_data['genre'] == 'Action']['user_score'],\\\n",
    "                       relative_data[relative_data['genre'] == 'Sports']['user_score'])\n",
    "\n",
    "print('p-значение:', results.pvalue)\n",
    "\n",
    "if results.pvalue < alpha:\n",
    "    print('Отвергаем нулевую гипотезу о том, что cредние пользовательские рейтинги жанров Action и Sports одинаковые')\n",
    "else:\n",
    "    print('Не получилось отвергнуть нулевую гипотезу')"
   ]
  },
  {
   "cell_type": "markdown",
   "metadata": {},
   "source": [
    "Здесь используем метод для двух независимых выборок. Проверяется двусторонняя гипотеза"
   ]
  },
  {
   "cell_type": "markdown",
   "metadata": {},
   "source": [
    "# Общий вывод"
   ]
  },
  {
   "cell_type": "markdown",
   "metadata": {},
   "source": [
    "<b>1. Загрузка данных</b>\n",
    "\n",
    "В начале работы мы получили таблицу, состоющую из 16715 строк и 11 столбцов соответственно.\n",
    "\n",
    "<b>2. Предобработка данных</b>\n",
    "\n",
    "* Был заменён регистр названий всех строк на нижний\n",
    "* Были обработаны пропуски\n",
    "* Было принято решение убрать значение tbd в столбце user_score\n",
    "* Был добавлен столбец с суммарными продажами\n",
    "\n",
    "\n",
    "<b>3. Исследовательский анализ данных</b>\n",
    "\n",
    "Затем осуществлялся исследовательский анализ данных с помощью гистограмм. Выяснилось, что:\n",
    "* В 2008 и 2009 выпускалось больше всего игр\n",
    "* 10 лет - характерный срок за который исчезают старые консоли, а 5 лет - срок, за который появляются новые.\n",
    "* Потенциально прибыльные платформы: PS3 и Xbox 360\n",
    "* Зависимость продаж от оценки критиков есть, но она либо не очень сильная, либо совсем слабая. Кроме корелляции между оценкой пользователей и продажами игры на Wii, там средняя корелляция.\n",
    "* Самые прибыльные жанры - Shooter, Sports, Misc. Жанры с высокими и низкими продажами выделяются, например, Strategy и Adventure - жанры с самыми низкими продажами.\n",
    "\n",
    "<b>4. Портрет пользователя региона</b>\n",
    "\n",
    "Далее происходило составление портрета пользователя. Выяснилось следующее:\n",
    "\n",
    "* Япония: больше всего продаж приходятся на платформу PS3 и жанр Action.\n",
    "* Европа: больше всего продаж приходятся на платформы PS4, и жанр Action.\n",
    "* Северная Америка: больше всего продаж приходятся на платформу PS4, и жанр Action.\n",
    "\n",
    "\n",
    "<b>5. Проверка гипотез</b>\n",
    "* Мы отвергли нулевую гипотезу о том, что средние пользовательские рейтинги платформ Xbox One и PC одинаковые в пользу альтернативной. Альтернативная гипотеза: средний пользовательский рейтинг Xbox One и PC не равны друг другу.\n",
    "* У нас не получилось отвергнуть нулевую гипотезу о том, что что cредние пользовательские рейтинги жанров Action и Sports одинаковые"
   ]
  }
 ],
 "metadata": {
  "ExecuteTimeLog": [
   {
    "duration": 794,
    "start_time": "2024-11-21T06:12:24.675Z"
   },
   {
    "duration": 173,
    "start_time": "2024-11-21T06:12:26.789Z"
   },
   {
    "duration": 20,
    "start_time": "2024-11-21T06:12:27.971Z"
   },
   {
    "duration": 16,
    "start_time": "2024-11-21T06:21:27.571Z"
   },
   {
    "duration": 50,
    "start_time": "2024-11-21T19:34:45.972Z"
   },
   {
    "duration": 965,
    "start_time": "2024-11-21T19:34:51.581Z"
   },
   {
    "duration": 170,
    "start_time": "2024-11-21T19:34:52.549Z"
   },
   {
    "duration": 16,
    "start_time": "2024-11-21T19:34:52.721Z"
   },
   {
    "duration": 83,
    "start_time": "2024-11-21T19:34:52.739Z"
   },
   {
    "duration": 100,
    "start_time": "2024-11-21T19:34:52.824Z"
   },
   {
    "duration": 24,
    "start_time": "2024-11-21T19:35:26.500Z"
   },
   {
    "duration": 20,
    "start_time": "2024-11-21T19:39:07.842Z"
   },
   {
    "duration": 18,
    "start_time": "2024-11-21T19:41:48.766Z"
   },
   {
    "duration": 38,
    "start_time": "2024-11-21T19:43:33.792Z"
   },
   {
    "duration": 7,
    "start_time": "2024-11-21T19:43:51.842Z"
   },
   {
    "duration": 7,
    "start_time": "2024-11-21T19:44:02.742Z"
   },
   {
    "duration": 7,
    "start_time": "2024-11-21T19:44:24.988Z"
   },
   {
    "duration": 7,
    "start_time": "2024-11-21T19:44:35.499Z"
   },
   {
    "duration": 8,
    "start_time": "2024-11-21T19:50:51.603Z"
   },
   {
    "duration": 16,
    "start_time": "2024-11-21T19:51:06.406Z"
   },
   {
    "duration": 1012,
    "start_time": "2024-11-21T20:55:33.630Z"
   },
   {
    "duration": 7,
    "start_time": "2024-11-21T20:55:44.429Z"
   },
   {
    "duration": 22,
    "start_time": "2024-11-21T21:00:02.286Z"
   },
   {
    "duration": 5,
    "start_time": "2024-11-21T21:03:59.140Z"
   },
   {
    "duration": 27,
    "start_time": "2024-11-21T21:04:07.303Z"
   },
   {
    "duration": 958,
    "start_time": "2024-11-21T21:07:02.329Z"
   },
   {
    "duration": 58,
    "start_time": "2024-11-21T21:07:03.289Z"
   },
   {
    "duration": 17,
    "start_time": "2024-11-21T21:07:03.349Z"
   },
   {
    "duration": 130,
    "start_time": "2024-11-21T21:07:03.368Z"
   },
   {
    "duration": 8,
    "start_time": "2024-11-21T21:07:03.499Z"
   },
   {
    "duration": 9,
    "start_time": "2024-11-21T21:07:03.508Z"
   },
   {
    "duration": 43,
    "start_time": "2024-11-21T21:07:03.519Z"
   },
   {
    "duration": 23,
    "start_time": "2024-11-21T21:07:03.563Z"
   },
   {
    "duration": 10,
    "start_time": "2024-11-21T21:07:03.588Z"
   },
   {
    "duration": 7,
    "start_time": "2024-11-21T21:07:15.663Z"
   },
   {
    "duration": 6,
    "start_time": "2024-11-21T21:07:34.991Z"
   },
   {
    "duration": 27,
    "start_time": "2024-11-21T21:07:41.312Z"
   },
   {
    "duration": 24,
    "start_time": "2024-11-21T21:07:48.376Z"
   },
   {
    "duration": 7,
    "start_time": "2024-11-21T21:09:21.745Z"
   },
   {
    "duration": 25,
    "start_time": "2024-11-21T21:09:26.660Z"
   },
   {
    "duration": 98,
    "start_time": "2024-11-21T21:09:40.650Z"
   },
   {
    "duration": 24,
    "start_time": "2024-11-21T21:12:48.880Z"
   },
   {
    "duration": 24,
    "start_time": "2024-11-21T21:13:23.679Z"
   },
   {
    "duration": 7,
    "start_time": "2024-11-21T21:14:08.543Z"
   },
   {
    "duration": 7,
    "start_time": "2024-11-21T21:14:16.669Z"
   },
   {
    "duration": 27,
    "start_time": "2024-11-21T21:14:51.613Z"
   },
   {
    "duration": 26,
    "start_time": "2024-11-21T21:15:07.700Z"
   },
   {
    "duration": 830,
    "start_time": "2024-11-21T21:15:13.260Z"
   },
   {
    "duration": 58,
    "start_time": "2024-11-21T21:15:14.093Z"
   },
   {
    "duration": 16,
    "start_time": "2024-11-21T21:15:14.153Z"
   },
   {
    "duration": 27,
    "start_time": "2024-11-21T21:15:14.171Z"
   },
   {
    "duration": 15,
    "start_time": "2024-11-21T21:15:14.201Z"
   },
   {
    "duration": 30,
    "start_time": "2024-11-21T21:15:14.217Z"
   },
   {
    "duration": 15,
    "start_time": "2024-11-21T21:15:14.248Z"
   },
   {
    "duration": 7,
    "start_time": "2024-11-21T21:15:14.265Z"
   },
   {
    "duration": 6,
    "start_time": "2024-11-21T21:15:14.274Z"
   },
   {
    "duration": 97,
    "start_time": "2024-11-21T21:15:54.093Z"
   },
   {
    "duration": 7,
    "start_time": "2024-11-21T21:16:19.791Z"
   },
   {
    "duration": 23,
    "start_time": "2024-11-21T21:16:43.827Z"
   },
   {
    "duration": 4,
    "start_time": "2024-11-21T21:18:34.796Z"
   },
   {
    "duration": 23,
    "start_time": "2024-11-21T21:18:42.096Z"
   },
   {
    "duration": 850,
    "start_time": "2024-11-21T21:19:32.834Z"
   },
   {
    "duration": 57,
    "start_time": "2024-11-21T21:19:33.686Z"
   },
   {
    "duration": 16,
    "start_time": "2024-11-21T21:19:33.745Z"
   },
   {
    "duration": 31,
    "start_time": "2024-11-21T21:19:33.763Z"
   },
   {
    "duration": 4,
    "start_time": "2024-11-21T21:19:33.795Z"
   },
   {
    "duration": 37,
    "start_time": "2024-11-21T21:19:33.800Z"
   },
   {
    "duration": 21,
    "start_time": "2024-11-21T21:19:33.839Z"
   },
   {
    "duration": 27,
    "start_time": "2024-11-21T21:19:33.861Z"
   },
   {
    "duration": 31,
    "start_time": "2024-11-21T21:19:33.889Z"
   },
   {
    "duration": 17,
    "start_time": "2024-11-21T21:22:32.308Z"
   },
   {
    "duration": 478,
    "start_time": "2024-11-21T21:25:46.965Z"
   },
   {
    "duration": 353,
    "start_time": "2024-11-21T21:26:03.672Z"
   },
   {
    "duration": 346,
    "start_time": "2024-11-21T21:27:47.410Z"
   },
   {
    "duration": 1410,
    "start_time": "2024-11-21T21:30:37.403Z"
   },
   {
    "duration": 1056,
    "start_time": "2024-11-21T21:30:55.903Z"
   },
   {
    "duration": 978,
    "start_time": "2024-11-21T21:31:08.379Z"
   },
   {
    "duration": 913,
    "start_time": "2024-11-21T21:31:13.794Z"
   },
   {
    "duration": 59,
    "start_time": "2024-11-21T21:31:14.709Z"
   },
   {
    "duration": 16,
    "start_time": "2024-11-21T21:31:14.770Z"
   },
   {
    "duration": 56,
    "start_time": "2024-11-21T21:31:14.788Z"
   },
   {
    "duration": 3,
    "start_time": "2024-11-21T21:31:14.846Z"
   },
   {
    "duration": 22,
    "start_time": "2024-11-21T21:31:14.851Z"
   },
   {
    "duration": 15,
    "start_time": "2024-11-21T21:31:14.875Z"
   },
   {
    "duration": 30,
    "start_time": "2024-11-21T21:31:14.892Z"
   },
   {
    "duration": 5,
    "start_time": "2024-11-21T21:31:14.923Z"
   },
   {
    "duration": 683,
    "start_time": "2024-11-21T21:31:14.930Z"
   },
   {
    "duration": 1310,
    "start_time": "2024-11-21T21:31:25.845Z"
   },
   {
    "duration": 1475,
    "start_time": "2024-11-21T21:31:39.682Z"
   },
   {
    "duration": 925,
    "start_time": "2024-11-21T21:31:44.277Z"
   },
   {
    "duration": 59,
    "start_time": "2024-11-21T21:31:45.204Z"
   },
   {
    "duration": 31,
    "start_time": "2024-11-21T21:31:45.264Z"
   },
   {
    "duration": 48,
    "start_time": "2024-11-21T21:31:45.297Z"
   },
   {
    "duration": 13,
    "start_time": "2024-11-21T21:31:45.347Z"
   },
   {
    "duration": 39,
    "start_time": "2024-11-21T21:31:45.361Z"
   },
   {
    "duration": 19,
    "start_time": "2024-11-21T21:31:45.402Z"
   },
   {
    "duration": 11,
    "start_time": "2024-11-21T21:31:45.423Z"
   },
   {
    "duration": 13,
    "start_time": "2024-11-21T21:31:45.436Z"
   },
   {
    "duration": 554,
    "start_time": "2024-11-21T21:31:45.451Z"
   },
   {
    "duration": 902,
    "start_time": "2024-11-21T21:31:53.967Z"
   },
   {
    "duration": 58,
    "start_time": "2024-11-21T21:31:54.871Z"
   },
   {
    "duration": 16,
    "start_time": "2024-11-21T21:31:54.931Z"
   },
   {
    "duration": 22,
    "start_time": "2024-11-21T21:31:54.949Z"
   },
   {
    "duration": 3,
    "start_time": "2024-11-21T21:31:54.973Z"
   },
   {
    "duration": 49,
    "start_time": "2024-11-21T21:31:54.978Z"
   },
   {
    "duration": 15,
    "start_time": "2024-11-21T21:31:55.029Z"
   },
   {
    "duration": 5,
    "start_time": "2024-11-21T21:31:55.046Z"
   },
   {
    "duration": 13,
    "start_time": "2024-11-21T21:31:55.053Z"
   },
   {
    "duration": 546,
    "start_time": "2024-11-21T21:31:55.069Z"
   },
   {
    "duration": 276,
    "start_time": "2024-11-21T21:33:57.292Z"
   },
   {
    "duration": 270,
    "start_time": "2024-11-21T21:35:54.711Z"
   },
   {
    "duration": 105,
    "start_time": "2024-11-21T21:37:57.151Z"
   },
   {
    "duration": 15,
    "start_time": "2024-11-21T21:38:15.343Z"
   },
   {
    "duration": 24,
    "start_time": "2024-11-21T21:38:25.429Z"
   },
   {
    "duration": 20,
    "start_time": "2024-11-21T21:51:32.127Z"
   },
   {
    "duration": 18,
    "start_time": "2024-11-21T21:51:42.246Z"
   },
   {
    "duration": 23,
    "start_time": "2024-11-21T21:52:08.925Z"
   },
   {
    "duration": 19,
    "start_time": "2024-11-21T21:53:52.369Z"
   },
   {
    "duration": 19,
    "start_time": "2024-11-21T21:54:07.894Z"
   },
   {
    "duration": 19,
    "start_time": "2024-11-21T21:58:26.085Z"
   },
   {
    "duration": 19,
    "start_time": "2024-11-21T21:58:40.644Z"
   },
   {
    "duration": 28,
    "start_time": "2024-11-21T22:01:51.967Z"
   },
   {
    "duration": 25,
    "start_time": "2024-11-21T22:05:09.143Z"
   },
   {
    "duration": 23,
    "start_time": "2024-11-21T22:05:28.120Z"
   },
   {
    "duration": 26,
    "start_time": "2024-11-21T22:05:34.142Z"
   },
   {
    "duration": 265,
    "start_time": "2024-11-21T22:06:32.564Z"
   },
   {
    "duration": 24,
    "start_time": "2024-11-21T22:06:50.577Z"
   },
   {
    "duration": 20,
    "start_time": "2024-11-21T22:06:58.752Z"
   },
   {
    "duration": 29,
    "start_time": "2024-11-21T22:07:03.728Z"
   },
   {
    "duration": 21,
    "start_time": "2024-11-21T22:07:34.604Z"
   },
   {
    "duration": 21,
    "start_time": "2024-11-21T22:07:49.090Z"
   },
   {
    "duration": 127,
    "start_time": "2024-11-21T22:08:18.494Z"
   },
   {
    "duration": 10,
    "start_time": "2024-11-21T22:16:09.881Z"
   },
   {
    "duration": 1255,
    "start_time": "2024-11-21T22:16:38.283Z"
   },
   {
    "duration": 58,
    "start_time": "2024-11-21T22:16:39.539Z"
   },
   {
    "duration": 15,
    "start_time": "2024-11-21T22:16:39.599Z"
   },
   {
    "duration": 18,
    "start_time": "2024-11-21T22:16:39.617Z"
   },
   {
    "duration": 4,
    "start_time": "2024-11-21T22:16:39.636Z"
   },
   {
    "duration": 79,
    "start_time": "2024-11-21T22:16:39.641Z"
   },
   {
    "duration": 15,
    "start_time": "2024-11-21T22:16:39.722Z"
   },
   {
    "duration": 6,
    "start_time": "2024-11-21T22:16:39.738Z"
   },
   {
    "duration": 12,
    "start_time": "2024-11-21T22:16:39.747Z"
   },
   {
    "duration": 297,
    "start_time": "2024-11-21T22:16:39.762Z"
   },
   {
    "duration": 21,
    "start_time": "2024-11-21T22:16:40.061Z"
   },
   {
    "duration": 116,
    "start_time": "2024-11-21T22:16:40.084Z"
   },
   {
    "duration": 191,
    "start_time": "2024-11-21T22:16:50.223Z"
   },
   {
    "duration": 11,
    "start_time": "2024-11-21T22:18:47.326Z"
   },
   {
    "duration": 64,
    "start_time": "2024-11-21T22:18:54.702Z"
   },
   {
    "duration": 63,
    "start_time": "2024-11-21T22:19:22.041Z"
   },
   {
    "duration": 18,
    "start_time": "2024-11-21T22:20:38.699Z"
   },
   {
    "duration": 18,
    "start_time": "2024-11-21T22:20:48.519Z"
   },
   {
    "duration": 4,
    "start_time": "2024-11-21T22:20:52.611Z"
   },
   {
    "duration": 5,
    "start_time": "2024-11-21T22:20:59.986Z"
   },
   {
    "duration": 449,
    "start_time": "2024-11-21T22:23:00.675Z"
   },
   {
    "duration": 463,
    "start_time": "2024-11-21T22:23:20.903Z"
   },
   {
    "duration": 576,
    "start_time": "2024-11-21T22:24:01.529Z"
   },
   {
    "duration": 473,
    "start_time": "2024-11-21T22:24:09.127Z"
   },
   {
    "duration": 496,
    "start_time": "2024-11-21T22:24:16.955Z"
   },
   {
    "duration": 1162,
    "start_time": "2024-11-21T22:24:24.069Z"
   },
   {
    "duration": 56,
    "start_time": "2024-11-21T22:24:25.233Z"
   },
   {
    "duration": 16,
    "start_time": "2024-11-21T22:24:25.291Z"
   },
   {
    "duration": 18,
    "start_time": "2024-11-21T22:24:25.309Z"
   },
   {
    "duration": 71,
    "start_time": "2024-11-21T22:24:25.329Z"
   },
   {
    "duration": 39,
    "start_time": "2024-11-21T22:24:25.402Z"
   },
   {
    "duration": 15,
    "start_time": "2024-11-21T22:24:25.442Z"
   },
   {
    "duration": 7,
    "start_time": "2024-11-21T22:24:25.459Z"
   },
   {
    "duration": 10,
    "start_time": "2024-11-21T22:24:25.467Z"
   },
   {
    "duration": 301,
    "start_time": "2024-11-21T22:24:25.480Z"
   },
   {
    "duration": 19,
    "start_time": "2024-11-21T22:24:25.783Z"
   },
   {
    "duration": 517,
    "start_time": "2024-11-21T22:24:25.803Z"
   },
   {
    "duration": 31,
    "start_time": "2024-11-21T22:35:15.086Z"
   },
   {
    "duration": 112,
    "start_time": "2024-11-21T22:36:03.886Z"
   },
   {
    "duration": 25,
    "start_time": "2024-11-21T22:36:12.103Z"
   },
   {
    "duration": 24,
    "start_time": "2024-11-21T22:36:20.014Z"
   },
   {
    "duration": 25,
    "start_time": "2024-11-21T22:36:36.536Z"
   },
   {
    "duration": 20,
    "start_time": "2024-11-21T22:36:42.832Z"
   },
   {
    "duration": 24,
    "start_time": "2024-11-21T22:36:48.839Z"
   },
   {
    "duration": 121,
    "start_time": "2024-11-21T22:37:33.012Z"
   },
   {
    "duration": 120,
    "start_time": "2024-11-21T22:37:50.702Z"
   },
   {
    "duration": 973,
    "start_time": "2024-11-21T22:38:14.500Z"
   },
   {
    "duration": 11,
    "start_time": "2024-11-21T22:40:39.416Z"
   },
   {
    "duration": 138,
    "start_time": "2024-11-21T22:40:49.145Z"
   },
   {
    "duration": 20,
    "start_time": "2024-11-21T22:42:05.340Z"
   },
   {
    "duration": 19,
    "start_time": "2024-11-21T22:42:16.034Z"
   },
   {
    "duration": 20,
    "start_time": "2024-11-21T22:42:26.382Z"
   },
   {
    "duration": 128,
    "start_time": "2024-11-21T22:43:29.806Z"
   },
   {
    "duration": 124,
    "start_time": "2024-11-21T22:43:37.526Z"
   },
   {
    "duration": 202,
    "start_time": "2024-11-21T22:43:49.051Z"
   },
   {
    "duration": 23,
    "start_time": "2024-11-21T22:43:58.243Z"
   },
   {
    "duration": 113,
    "start_time": "2024-11-21T22:44:10.063Z"
   },
   {
    "duration": 134,
    "start_time": "2024-11-21T22:44:14.546Z"
   },
   {
    "duration": 156,
    "start_time": "2024-11-21T22:47:28.530Z"
   },
   {
    "duration": 673,
    "start_time": "2024-11-21T22:50:16.801Z"
   },
   {
    "duration": 137,
    "start_time": "2024-11-21T22:51:40.310Z"
   },
   {
    "duration": 731,
    "start_time": "2024-11-21T22:53:15.061Z"
   },
   {
    "duration": 813,
    "start_time": "2024-11-21T22:54:05.608Z"
   },
   {
    "duration": 723,
    "start_time": "2024-11-21T22:54:19.254Z"
   },
   {
    "duration": 129,
    "start_time": "2024-11-21T22:57:22.701Z"
   },
   {
    "duration": 36,
    "start_time": "2024-11-21T22:58:35.486Z"
   },
   {
    "duration": 21,
    "start_time": "2024-11-21T23:03:00.406Z"
   },
   {
    "duration": 31,
    "start_time": "2024-11-21T23:03:06.481Z"
   },
   {
    "duration": 126,
    "start_time": "2024-11-21T23:03:24.368Z"
   },
   {
    "duration": 28,
    "start_time": "2024-11-21T23:04:20.152Z"
   },
   {
    "duration": 135,
    "start_time": "2024-11-21T23:04:40.040Z"
   },
   {
    "duration": 29,
    "start_time": "2024-11-21T23:04:46.884Z"
   },
   {
    "duration": 0,
    "start_time": "2024-11-21T23:09:52.602Z"
   },
   {
    "duration": 4,
    "start_time": "2024-11-21T23:10:06.503Z"
   },
   {
    "duration": 0,
    "start_time": "2024-11-21T23:11:05.885Z"
   },
   {
    "duration": 23,
    "start_time": "2024-11-21T23:11:10.764Z"
   },
   {
    "duration": 53,
    "start_time": "2024-11-21T23:12:32.023Z"
   },
   {
    "duration": 1243,
    "start_time": "2024-11-21T23:12:37.257Z"
   },
   {
    "duration": 167,
    "start_time": "2024-11-21T23:12:38.502Z"
   },
   {
    "duration": 17,
    "start_time": "2024-11-21T23:12:38.671Z"
   },
   {
    "duration": 21,
    "start_time": "2024-11-21T23:12:38.690Z"
   },
   {
    "duration": 3,
    "start_time": "2024-11-21T23:12:38.714Z"
   },
   {
    "duration": 22,
    "start_time": "2024-11-21T23:12:38.719Z"
   },
   {
    "duration": 16,
    "start_time": "2024-11-21T23:12:38.743Z"
   },
   {
    "duration": 6,
    "start_time": "2024-11-21T23:12:38.761Z"
   },
   {
    "duration": 13,
    "start_time": "2024-11-21T23:12:38.769Z"
   },
   {
    "duration": 304,
    "start_time": "2024-11-21T23:12:38.784Z"
   },
   {
    "duration": 124,
    "start_time": "2024-11-21T23:12:39.089Z"
   },
   {
    "duration": 0,
    "start_time": "2024-11-21T23:12:39.214Z"
   },
   {
    "duration": 25,
    "start_time": "2024-11-21T23:13:18.911Z"
   },
   {
    "duration": 17,
    "start_time": "2024-11-21T23:13:25.957Z"
   },
   {
    "duration": 20,
    "start_time": "2024-11-21T23:15:19.171Z"
   },
   {
    "duration": 18,
    "start_time": "2024-11-21T23:17:02.900Z"
   },
   {
    "duration": 17,
    "start_time": "2024-11-21T23:17:22.438Z"
   },
   {
    "duration": 1174,
    "start_time": "2024-11-21T23:17:29.047Z"
   },
   {
    "duration": 58,
    "start_time": "2024-11-21T23:17:30.223Z"
   },
   {
    "duration": 33,
    "start_time": "2024-11-21T23:17:30.283Z"
   },
   {
    "duration": 45,
    "start_time": "2024-11-21T23:17:30.318Z"
   },
   {
    "duration": 91,
    "start_time": "2024-11-21T23:17:30.366Z"
   },
   {
    "duration": 75,
    "start_time": "2024-11-21T23:17:30.458Z"
   },
   {
    "duration": 43,
    "start_time": "2024-11-21T23:17:30.535Z"
   },
   {
    "duration": 24,
    "start_time": "2024-11-21T23:17:30.580Z"
   },
   {
    "duration": 19,
    "start_time": "2024-11-21T23:17:30.605Z"
   },
   {
    "duration": 300,
    "start_time": "2024-11-21T23:17:30.626Z"
   },
   {
    "duration": 18,
    "start_time": "2024-11-21T23:17:30.927Z"
   },
   {
    "duration": 130,
    "start_time": "2024-11-21T23:17:30.946Z"
   },
   {
    "duration": 17,
    "start_time": "2024-11-21T23:18:16.539Z"
   },
   {
    "duration": 17,
    "start_time": "2024-11-21T23:18:48.321Z"
   },
   {
    "duration": 16,
    "start_time": "2024-11-21T23:19:07.357Z"
   },
   {
    "duration": 18,
    "start_time": "2024-11-21T23:19:22.596Z"
   },
   {
    "duration": 106,
    "start_time": "2024-11-21T23:19:40.584Z"
   },
   {
    "duration": 118,
    "start_time": "2024-11-21T23:21:27.251Z"
   },
   {
    "duration": 160,
    "start_time": "2024-11-21T23:33:35.359Z"
   },
   {
    "duration": 160,
    "start_time": "2024-11-21T23:35:18.328Z"
   },
   {
    "duration": 1136,
    "start_time": "2024-11-21T23:35:26.761Z"
   },
   {
    "duration": 57,
    "start_time": "2024-11-21T23:35:27.900Z"
   },
   {
    "duration": 17,
    "start_time": "2024-11-21T23:35:27.959Z"
   },
   {
    "duration": 44,
    "start_time": "2024-11-21T23:35:27.978Z"
   },
   {
    "duration": 3,
    "start_time": "2024-11-21T23:35:28.024Z"
   },
   {
    "duration": 24,
    "start_time": "2024-11-21T23:35:28.029Z"
   },
   {
    "duration": 14,
    "start_time": "2024-11-21T23:35:28.055Z"
   },
   {
    "duration": 5,
    "start_time": "2024-11-21T23:35:28.071Z"
   },
   {
    "duration": 9,
    "start_time": "2024-11-21T23:35:28.078Z"
   },
   {
    "duration": 295,
    "start_time": "2024-11-21T23:35:28.089Z"
   },
   {
    "duration": 179,
    "start_time": "2024-11-21T23:35:28.386Z"
   },
   {
    "duration": 1174,
    "start_time": "2024-11-21T23:35:38.039Z"
   },
   {
    "duration": 55,
    "start_time": "2024-11-21T23:35:39.215Z"
   },
   {
    "duration": 16,
    "start_time": "2024-11-21T23:35:39.272Z"
   },
   {
    "duration": 54,
    "start_time": "2024-11-21T23:35:39.290Z"
   },
   {
    "duration": 4,
    "start_time": "2024-11-21T23:35:39.346Z"
   },
   {
    "duration": 26,
    "start_time": "2024-11-21T23:35:39.351Z"
   },
   {
    "duration": 15,
    "start_time": "2024-11-21T23:35:39.378Z"
   },
   {
    "duration": 6,
    "start_time": "2024-11-21T23:35:39.394Z"
   },
   {
    "duration": 20,
    "start_time": "2024-11-21T23:35:39.401Z"
   },
   {
    "duration": 293,
    "start_time": "2024-11-21T23:35:39.422Z"
   },
   {
    "duration": 250,
    "start_time": "2024-11-21T23:35:39.717Z"
   },
   {
    "duration": 158,
    "start_time": "2024-11-21T23:35:50.031Z"
   },
   {
    "duration": 151,
    "start_time": "2024-11-21T23:37:13.325Z"
   },
   {
    "duration": 1212,
    "start_time": "2024-11-21T23:38:05.544Z"
   },
   {
    "duration": 58,
    "start_time": "2024-11-21T23:38:06.758Z"
   },
   {
    "duration": 15,
    "start_time": "2024-11-21T23:38:06.817Z"
   },
   {
    "duration": 25,
    "start_time": "2024-11-21T23:38:06.834Z"
   },
   {
    "duration": 14,
    "start_time": "2024-11-21T23:38:06.861Z"
   },
   {
    "duration": 31,
    "start_time": "2024-11-21T23:38:06.877Z"
   },
   {
    "duration": 14,
    "start_time": "2024-11-21T23:38:06.910Z"
   },
   {
    "duration": 5,
    "start_time": "2024-11-21T23:38:06.926Z"
   },
   {
    "duration": 14,
    "start_time": "2024-11-21T23:38:06.933Z"
   },
   {
    "duration": 404,
    "start_time": "2024-11-21T23:38:06.949Z"
   },
   {
    "duration": 236,
    "start_time": "2024-11-21T23:38:07.354Z"
   },
   {
    "duration": 167,
    "start_time": "2024-11-21T23:38:23.993Z"
   },
   {
    "duration": 1189,
    "start_time": "2024-11-21T23:38:56.614Z"
   },
   {
    "duration": 58,
    "start_time": "2024-11-21T23:38:57.805Z"
   },
   {
    "duration": 17,
    "start_time": "2024-11-21T23:38:57.865Z"
   },
   {
    "duration": 22,
    "start_time": "2024-11-21T23:38:57.884Z"
   },
   {
    "duration": 11,
    "start_time": "2024-11-21T23:38:57.909Z"
   },
   {
    "duration": 24,
    "start_time": "2024-11-21T23:38:57.922Z"
   },
   {
    "duration": 15,
    "start_time": "2024-11-21T23:38:57.948Z"
   },
   {
    "duration": 74,
    "start_time": "2024-11-21T23:38:57.965Z"
   },
   {
    "duration": 20,
    "start_time": "2024-11-21T23:38:58.040Z"
   },
   {
    "duration": 274,
    "start_time": "2024-11-21T23:38:58.061Z"
   },
   {
    "duration": 178,
    "start_time": "2024-11-21T23:38:58.336Z"
   },
   {
    "duration": 163,
    "start_time": "2024-11-21T23:39:13.409Z"
   },
   {
    "duration": 187,
    "start_time": "2024-11-21T23:40:41.577Z"
   },
   {
    "duration": 228,
    "start_time": "2024-11-21T23:43:27.417Z"
   },
   {
    "duration": 58,
    "start_time": "2024-11-22T23:10:44.500Z"
   },
   {
    "duration": 1218,
    "start_time": "2024-11-22T23:10:58.822Z"
   },
   {
    "duration": 171,
    "start_time": "2024-11-22T23:11:00.042Z"
   },
   {
    "duration": 12,
    "start_time": "2024-11-22T23:11:00.215Z"
   },
   {
    "duration": 66,
    "start_time": "2024-11-22T23:11:00.229Z"
   },
   {
    "duration": 19,
    "start_time": "2024-11-22T23:11:00.296Z"
   },
   {
    "duration": 127,
    "start_time": "2024-11-22T23:11:00.316Z"
   },
   {
    "duration": 259,
    "start_time": "2024-11-22T23:11:00.445Z"
   },
   {
    "duration": 40,
    "start_time": "2024-11-22T23:11:00.705Z"
   },
   {
    "duration": 63,
    "start_time": "2024-11-22T23:11:00.746Z"
   },
   {
    "duration": 240,
    "start_time": "2024-11-22T23:11:00.812Z"
   },
   {
    "duration": 212,
    "start_time": "2024-11-22T23:11:01.054Z"
   },
   {
    "duration": 209,
    "start_time": "2024-11-22T23:11:01.267Z"
   },
   {
    "duration": 147,
    "start_time": "2024-11-23T00:19:40.227Z"
   },
   {
    "duration": 212,
    "start_time": "2024-11-23T00:20:06.503Z"
   },
   {
    "duration": 4,
    "start_time": "2024-11-23T00:26:47.078Z"
   },
   {
    "duration": 4,
    "start_time": "2024-11-23T00:26:57.435Z"
   },
   {
    "duration": 81,
    "start_time": "2024-11-23T00:27:10.179Z"
   },
   {
    "duration": 99,
    "start_time": "2024-11-23T00:27:21.895Z"
   },
   {
    "duration": 192,
    "start_time": "2024-11-23T00:27:29.366Z"
   },
   {
    "duration": 211,
    "start_time": "2024-11-23T00:27:42.152Z"
   },
   {
    "duration": 169,
    "start_time": "2024-11-23T00:28:00.941Z"
   },
   {
    "duration": 149,
    "start_time": "2024-11-23T00:28:33.651Z"
   },
   {
    "duration": 14,
    "start_time": "2024-11-23T00:28:51.789Z"
   },
   {
    "duration": 115,
    "start_time": "2024-11-23T00:28:56.980Z"
   },
   {
    "duration": 107,
    "start_time": "2024-11-23T00:29:18.574Z"
   },
   {
    "duration": 127,
    "start_time": "2024-11-23T00:29:24.045Z"
   },
   {
    "duration": 111,
    "start_time": "2024-11-23T00:29:29.605Z"
   },
   {
    "duration": 179,
    "start_time": "2024-11-23T00:30:19.290Z"
   },
   {
    "duration": 11,
    "start_time": "2024-11-23T00:32:13.829Z"
   },
   {
    "duration": 76,
    "start_time": "2024-11-23T00:32:42.536Z"
   },
   {
    "duration": 370,
    "start_time": "2024-11-23T00:32:47.929Z"
   },
   {
    "duration": 410,
    "start_time": "2024-11-23T00:32:58.269Z"
   },
   {
    "duration": 353,
    "start_time": "2024-11-23T00:33:09.542Z"
   },
   {
    "duration": 374,
    "start_time": "2024-11-23T00:33:18.997Z"
   },
   {
    "duration": 413,
    "start_time": "2024-11-23T00:34:20.579Z"
   },
   {
    "duration": 437,
    "start_time": "2024-11-23T00:35:28.806Z"
   },
   {
    "duration": 99,
    "start_time": "2024-11-23T00:42:50.015Z"
   },
   {
    "duration": 16,
    "start_time": "2024-11-23T00:43:06.056Z"
   },
   {
    "duration": 15,
    "start_time": "2024-11-23T00:43:43.386Z"
   },
   {
    "duration": 16,
    "start_time": "2024-11-23T00:43:55.416Z"
   },
   {
    "duration": 15,
    "start_time": "2024-11-23T00:44:03.913Z"
   },
   {
    "duration": 15,
    "start_time": "2024-11-23T00:44:12.725Z"
   },
   {
    "duration": 14,
    "start_time": "2024-11-23T01:02:00.764Z"
   },
   {
    "duration": 14,
    "start_time": "2024-11-23T01:02:32.356Z"
   },
   {
    "duration": 26,
    "start_time": "2024-11-23T01:03:39.706Z"
   },
   {
    "duration": 11,
    "start_time": "2024-11-23T01:03:48.548Z"
   },
   {
    "duration": 124,
    "start_time": "2024-11-23T01:04:24.058Z"
   },
   {
    "duration": 107,
    "start_time": "2024-11-23T01:04:34.656Z"
   },
   {
    "duration": 105,
    "start_time": "2024-11-23T01:04:52.798Z"
   },
   {
    "duration": 104,
    "start_time": "2024-11-23T01:05:00.064Z"
   },
   {
    "duration": 109,
    "start_time": "2024-11-23T01:09:43.644Z"
   },
   {
    "duration": 119,
    "start_time": "2024-11-23T01:17:43.205Z"
   },
   {
    "duration": 5,
    "start_time": "2024-11-23T01:20:01.535Z"
   },
   {
    "duration": 4,
    "start_time": "2024-11-23T01:20:09.692Z"
   },
   {
    "duration": 109,
    "start_time": "2024-11-23T01:21:35.675Z"
   },
   {
    "duration": 101,
    "start_time": "2024-11-23T01:22:30.978Z"
   },
   {
    "duration": 946,
    "start_time": "2024-11-23T01:24:39.586Z"
   },
   {
    "duration": 10,
    "start_time": "2024-11-23T01:24:52.966Z"
   },
   {
    "duration": 12,
    "start_time": "2024-11-23T01:25:47.483Z"
   },
   {
    "duration": 10,
    "start_time": "2024-11-23T01:26:06.974Z"
   },
   {
    "duration": 8,
    "start_time": "2024-11-23T01:26:22.742Z"
   },
   {
    "duration": 9,
    "start_time": "2024-11-23T01:27:09.327Z"
   },
   {
    "duration": 9,
    "start_time": "2024-11-23T01:27:15.217Z"
   },
   {
    "duration": 10,
    "start_time": "2024-11-23T01:27:20.202Z"
   },
   {
    "duration": 10,
    "start_time": "2024-11-23T01:29:02.605Z"
   },
   {
    "duration": 1008,
    "start_time": "2024-11-23T01:29:14.528Z"
   },
   {
    "duration": 54,
    "start_time": "2024-11-23T01:29:15.538Z"
   },
   {
    "duration": 13,
    "start_time": "2024-11-23T01:29:15.593Z"
   },
   {
    "duration": 38,
    "start_time": "2024-11-23T01:29:15.607Z"
   },
   {
    "duration": 10,
    "start_time": "2024-11-23T01:29:15.647Z"
   },
   {
    "duration": 71,
    "start_time": "2024-11-23T01:29:15.658Z"
   },
   {
    "duration": 12,
    "start_time": "2024-11-23T01:29:15.730Z"
   },
   {
    "duration": 4,
    "start_time": "2024-11-23T01:29:15.743Z"
   },
   {
    "duration": 9,
    "start_time": "2024-11-23T01:29:15.749Z"
   },
   {
    "duration": 14,
    "start_time": "2024-11-23T01:29:15.761Z"
   },
   {
    "duration": 238,
    "start_time": "2024-11-23T01:29:15.776Z"
   },
   {
    "duration": 194,
    "start_time": "2024-11-23T01:29:16.015Z"
   },
   {
    "duration": 206,
    "start_time": "2024-11-23T01:29:16.211Z"
   },
   {
    "duration": 359,
    "start_time": "2024-11-23T01:29:16.418Z"
   },
   {
    "duration": 16,
    "start_time": "2024-11-23T01:29:16.778Z"
   },
   {
    "duration": 26,
    "start_time": "2024-11-23T01:29:16.795Z"
   },
   {
    "duration": 15,
    "start_time": "2024-11-23T01:29:16.822Z"
   },
   {
    "duration": 16,
    "start_time": "2024-11-23T01:29:16.838Z"
   },
   {
    "duration": 16,
    "start_time": "2024-11-23T01:29:16.855Z"
   },
   {
    "duration": 127,
    "start_time": "2024-11-23T01:29:16.872Z"
   },
   {
    "duration": 13,
    "start_time": "2024-11-23T01:29:17.001Z"
   },
   {
    "duration": 13,
    "start_time": "2024-11-23T01:29:17.015Z"
   },
   {
    "duration": 8,
    "start_time": "2024-11-23T01:29:25.745Z"
   },
   {
    "duration": 12,
    "start_time": "2024-11-23T01:30:16.993Z"
   },
   {
    "duration": 192,
    "start_time": "2024-11-23T01:30:29.547Z"
   },
   {
    "duration": 10,
    "start_time": "2024-11-23T01:30:43.859Z"
   },
   {
    "duration": 17,
    "start_time": "2024-11-23T01:31:43.448Z"
   },
   {
    "duration": 283,
    "start_time": "2024-11-23T01:33:28.168Z"
   },
   {
    "duration": 9,
    "start_time": "2024-11-23T01:33:38.299Z"
   },
   {
    "duration": 125,
    "start_time": "2024-11-23T01:33:42.550Z"
   },
   {
    "duration": 161,
    "start_time": "2024-11-23T01:34:39.569Z"
   },
   {
    "duration": 109,
    "start_time": "2024-11-23T01:35:04.429Z"
   },
   {
    "duration": 107,
    "start_time": "2024-11-23T01:38:41.201Z"
   },
   {
    "duration": 100,
    "start_time": "2024-11-23T01:40:17.076Z"
   },
   {
    "duration": 136,
    "start_time": "2024-11-23T01:42:42.521Z"
   },
   {
    "duration": 94,
    "start_time": "2024-11-23T01:45:38.726Z"
   },
   {
    "duration": 114,
    "start_time": "2024-11-23T01:47:34.642Z"
   },
   {
    "duration": 113,
    "start_time": "2024-11-23T01:48:34.940Z"
   },
   {
    "duration": 116,
    "start_time": "2024-11-23T01:54:14.848Z"
   },
   {
    "duration": 104,
    "start_time": "2024-11-23T01:56:58.377Z"
   },
   {
    "duration": 4243,
    "start_time": "2024-11-23T02:00:10.610Z"
   },
   {
    "duration": 214,
    "start_time": "2024-11-23T02:00:20.101Z"
   },
   {
    "duration": 225,
    "start_time": "2024-11-23T02:02:06.767Z"
   },
   {
    "duration": 1056,
    "start_time": "2024-11-23T02:02:11.169Z"
   },
   {
    "duration": 52,
    "start_time": "2024-11-23T02:02:12.227Z"
   },
   {
    "duration": 13,
    "start_time": "2024-11-23T02:02:12.281Z"
   },
   {
    "duration": 21,
    "start_time": "2024-11-23T02:02:12.295Z"
   },
   {
    "duration": 3,
    "start_time": "2024-11-23T02:02:12.318Z"
   },
   {
    "duration": 32,
    "start_time": "2024-11-23T02:02:12.323Z"
   },
   {
    "duration": 28,
    "start_time": "2024-11-23T02:02:12.356Z"
   },
   {
    "duration": 33,
    "start_time": "2024-11-23T02:02:12.386Z"
   },
   {
    "duration": 31,
    "start_time": "2024-11-23T02:02:12.421Z"
   },
   {
    "duration": 23,
    "start_time": "2024-11-23T02:02:12.453Z"
   },
   {
    "duration": 259,
    "start_time": "2024-11-23T02:02:12.477Z"
   },
   {
    "duration": 224,
    "start_time": "2024-11-23T02:02:12.738Z"
   },
   {
    "duration": 221,
    "start_time": "2024-11-23T02:02:12.963Z"
   },
   {
    "duration": 388,
    "start_time": "2024-11-23T02:02:13.188Z"
   },
   {
    "duration": 16,
    "start_time": "2024-11-23T02:02:13.577Z"
   },
   {
    "duration": 26,
    "start_time": "2024-11-23T02:02:13.594Z"
   },
   {
    "duration": 16,
    "start_time": "2024-11-23T02:02:13.621Z"
   },
   {
    "duration": 48,
    "start_time": "2024-11-23T02:02:13.638Z"
   },
   {
    "duration": 35,
    "start_time": "2024-11-23T02:02:13.687Z"
   },
   {
    "duration": 127,
    "start_time": "2024-11-23T02:02:13.724Z"
   },
   {
    "duration": 10,
    "start_time": "2024-11-23T02:02:13.853Z"
   },
   {
    "duration": 146,
    "start_time": "2024-11-23T02:02:13.865Z"
   },
   {
    "duration": 110,
    "start_time": "2024-11-23T02:02:14.012Z"
   },
   {
    "duration": 172,
    "start_time": "2024-11-23T02:02:14.123Z"
   },
   {
    "duration": 123,
    "start_time": "2024-11-23T02:02:14.296Z"
   },
   {
    "duration": 106,
    "start_time": "2024-11-23T02:02:14.420Z"
   },
   {
    "duration": 122,
    "start_time": "2024-11-23T02:02:14.527Z"
   },
   {
    "duration": 111,
    "start_time": "2024-11-23T02:02:14.650Z"
   },
   {
    "duration": 126,
    "start_time": "2024-11-23T02:02:14.762Z"
   },
   {
    "duration": 124,
    "start_time": "2024-11-23T02:02:14.890Z"
   },
   {
    "duration": 342,
    "start_time": "2024-11-23T02:02:15.015Z"
   },
   {
    "duration": 12,
    "start_time": "2024-11-23T02:05:46.726Z"
   },
   {
    "duration": 20,
    "start_time": "2024-11-23T02:05:53.461Z"
   },
   {
    "duration": 257,
    "start_time": "2024-11-23T02:11:08.987Z"
   },
   {
    "duration": 267,
    "start_time": "2024-11-23T02:11:31.560Z"
   },
   {
    "duration": 288,
    "start_time": "2024-11-23T02:14:31.619Z"
   },
   {
    "duration": 383,
    "start_time": "2024-11-23T02:14:38.105Z"
   },
   {
    "duration": 20,
    "start_time": "2024-11-23T02:21:58.349Z"
   },
   {
    "duration": 14,
    "start_time": "2024-11-23T02:22:31.749Z"
   },
   {
    "duration": 15,
    "start_time": "2024-11-23T02:22:44.919Z"
   },
   {
    "duration": 25,
    "start_time": "2024-11-23T02:23:10.532Z"
   },
   {
    "duration": 14,
    "start_time": "2024-11-23T02:23:18.735Z"
   },
   {
    "duration": 20,
    "start_time": "2024-11-23T02:23:29.127Z"
   },
   {
    "duration": 108,
    "start_time": "2024-11-23T02:26:29.422Z"
   },
   {
    "duration": 304,
    "start_time": "2024-11-23T02:26:42.553Z"
   },
   {
    "duration": 112,
    "start_time": "2024-11-23T02:26:54.415Z"
   },
   {
    "duration": 99,
    "start_time": "2024-11-23T02:27:03.861Z"
   },
   {
    "duration": 90,
    "start_time": "2024-11-23T02:27:21.403Z"
   },
   {
    "duration": 111,
    "start_time": "2024-11-23T02:27:42.268Z"
   },
   {
    "duration": 15,
    "start_time": "2024-11-23T02:30:32.117Z"
   },
   {
    "duration": 14,
    "start_time": "2024-11-23T02:30:45.628Z"
   },
   {
    "duration": 5,
    "start_time": "2024-11-23T02:32:52.893Z"
   },
   {
    "duration": 11,
    "start_time": "2024-11-23T02:33:14.933Z"
   },
   {
    "duration": 8,
    "start_time": "2024-11-23T02:33:33.369Z"
   },
   {
    "duration": 4,
    "start_time": "2024-11-23T02:34:40.512Z"
   },
   {
    "duration": 233,
    "start_time": "2024-11-23T02:39:01.594Z"
   },
   {
    "duration": 17,
    "start_time": "2024-11-23T02:41:23.505Z"
   },
   {
    "duration": 14,
    "start_time": "2024-11-23T02:41:28.998Z"
   },
   {
    "duration": 87,
    "start_time": "2024-11-23T02:51:37.032Z"
   },
   {
    "duration": 148,
    "start_time": "2024-11-23T02:51:46.415Z"
   },
   {
    "duration": 86,
    "start_time": "2024-11-23T02:51:53.545Z"
   },
   {
    "duration": 19,
    "start_time": "2024-11-23T02:53:57.838Z"
   },
   {
    "duration": 304,
    "start_time": "2024-11-23T02:55:34.683Z"
   },
   {
    "duration": 18,
    "start_time": "2024-11-23T02:57:05.751Z"
   },
   {
    "duration": 88,
    "start_time": "2024-11-23T02:59:48.437Z"
   },
   {
    "duration": 89,
    "start_time": "2024-11-23T03:00:23.220Z"
   },
   {
    "duration": 47,
    "start_time": "2024-11-23T17:03:37.674Z"
   },
   {
    "duration": 1231,
    "start_time": "2024-11-23T17:03:42.596Z"
   },
   {
    "duration": 189,
    "start_time": "2024-11-23T17:03:43.829Z"
   },
   {
    "duration": 16,
    "start_time": "2024-11-23T17:03:44.020Z"
   },
   {
    "duration": 41,
    "start_time": "2024-11-23T17:03:44.038Z"
   },
   {
    "duration": 7,
    "start_time": "2024-11-23T17:03:44.082Z"
   },
   {
    "duration": 32,
    "start_time": "2024-11-23T17:03:44.091Z"
   },
   {
    "duration": 15,
    "start_time": "2024-11-23T17:03:44.125Z"
   },
   {
    "duration": 5,
    "start_time": "2024-11-23T17:03:44.142Z"
   },
   {
    "duration": 26,
    "start_time": "2024-11-23T17:03:44.148Z"
   },
   {
    "duration": 8,
    "start_time": "2024-11-23T17:03:44.175Z"
   },
   {
    "duration": 22,
    "start_time": "2024-11-23T17:03:44.184Z"
   },
   {
    "duration": 252,
    "start_time": "2024-11-23T17:03:44.207Z"
   },
   {
    "duration": 221,
    "start_time": "2024-11-23T17:03:44.460Z"
   },
   {
    "duration": 232,
    "start_time": "2024-11-23T17:03:44.684Z"
   },
   {
    "duration": 433,
    "start_time": "2024-11-23T17:03:44.918Z"
   },
   {
    "duration": 30,
    "start_time": "2024-11-23T17:03:45.353Z"
   },
   {
    "duration": 74,
    "start_time": "2024-11-23T17:03:45.385Z"
   },
   {
    "duration": 22,
    "start_time": "2024-11-23T17:03:45.461Z"
   },
   {
    "duration": 18,
    "start_time": "2024-11-23T17:03:45.484Z"
   },
   {
    "duration": 17,
    "start_time": "2024-11-23T17:03:45.504Z"
   },
   {
    "duration": 159,
    "start_time": "2024-11-23T17:03:45.523Z"
   },
   {
    "duration": 11,
    "start_time": "2024-11-23T17:03:45.683Z"
   },
   {
    "duration": 146,
    "start_time": "2024-11-23T17:03:45.696Z"
   },
   {
    "duration": 119,
    "start_time": "2024-11-23T17:03:45.844Z"
   },
   {
    "duration": 186,
    "start_time": "2024-11-23T17:03:45.970Z"
   },
   {
    "duration": 140,
    "start_time": "2024-11-23T17:03:46.158Z"
   },
   {
    "duration": 121,
    "start_time": "2024-11-23T17:03:46.300Z"
   },
   {
    "duration": 141,
    "start_time": "2024-11-23T17:03:46.422Z"
   },
   {
    "duration": 113,
    "start_time": "2024-11-23T17:03:46.569Z"
   },
   {
    "duration": 145,
    "start_time": "2024-11-23T17:03:46.684Z"
   },
   {
    "duration": 131,
    "start_time": "2024-11-23T17:03:46.831Z"
   },
   {
    "duration": 352,
    "start_time": "2024-11-23T17:03:46.970Z"
   },
   {
    "duration": 15,
    "start_time": "2024-11-23T17:03:47.323Z"
   },
   {
    "duration": 112,
    "start_time": "2024-11-23T17:03:47.340Z"
   },
   {
    "duration": 19,
    "start_time": "2024-11-23T17:03:47.453Z"
   },
   {
    "duration": 267,
    "start_time": "2024-11-23T17:03:47.474Z"
   },
   {
    "duration": 16,
    "start_time": "2024-11-23T17:03:47.743Z"
   },
   {
    "duration": 109,
    "start_time": "2024-11-23T17:03:47.769Z"
   },
   {
    "duration": 16,
    "start_time": "2024-11-23T17:03:47.880Z"
   },
   {
    "duration": 374,
    "start_time": "2024-11-23T17:03:47.898Z"
   },
   {
    "duration": 16,
    "start_time": "2024-11-23T17:03:48.276Z"
   },
   {
    "duration": 119,
    "start_time": "2024-11-23T17:03:48.293Z"
   },
   {
    "duration": 15,
    "start_time": "2024-11-23T17:03:48.414Z"
   },
   {
    "duration": 274,
    "start_time": "2024-11-23T17:10:37.938Z"
   },
   {
    "duration": 50,
    "start_time": "2024-11-24T03:53:28.644Z"
   },
   {
    "duration": 1397,
    "start_time": "2024-11-24T03:53:35.295Z"
   },
   {
    "duration": 166,
    "start_time": "2024-11-24T03:53:36.695Z"
   },
   {
    "duration": 16,
    "start_time": "2024-11-24T03:53:36.863Z"
   },
   {
    "duration": 30,
    "start_time": "2024-11-24T03:53:36.881Z"
   },
   {
    "duration": 6,
    "start_time": "2024-11-24T03:53:36.913Z"
   },
   {
    "duration": 47,
    "start_time": "2024-11-24T03:53:36.920Z"
   },
   {
    "duration": 33,
    "start_time": "2024-11-24T03:53:36.969Z"
   },
   {
    "duration": 22,
    "start_time": "2024-11-24T03:53:37.004Z"
   },
   {
    "duration": 24,
    "start_time": "2024-11-24T03:53:37.028Z"
   },
   {
    "duration": 15,
    "start_time": "2024-11-24T03:53:37.055Z"
   },
   {
    "duration": 36,
    "start_time": "2024-11-24T03:53:37.071Z"
   },
   {
    "duration": 288,
    "start_time": "2024-11-24T03:53:37.109Z"
   },
   {
    "duration": 278,
    "start_time": "2024-11-24T03:53:37.399Z"
   },
   {
    "duration": 254,
    "start_time": "2024-11-24T03:53:37.680Z"
   },
   {
    "duration": 439,
    "start_time": "2024-11-24T03:53:37.936Z"
   },
   {
    "duration": 20,
    "start_time": "2024-11-24T03:53:38.377Z"
   },
   {
    "duration": 35,
    "start_time": "2024-11-24T03:53:38.399Z"
   },
   {
    "duration": 19,
    "start_time": "2024-11-24T03:53:38.436Z"
   },
   {
    "duration": 20,
    "start_time": "2024-11-24T03:53:38.456Z"
   },
   {
    "duration": 53,
    "start_time": "2024-11-24T03:53:38.477Z"
   },
   {
    "duration": 146,
    "start_time": "2024-11-24T03:53:38.532Z"
   },
   {
    "duration": 10,
    "start_time": "2024-11-24T03:53:38.680Z"
   },
   {
    "duration": 175,
    "start_time": "2024-11-24T03:53:38.692Z"
   },
   {
    "duration": 140,
    "start_time": "2024-11-24T03:53:38.870Z"
   },
   {
    "duration": 192,
    "start_time": "2024-11-24T03:53:39.018Z"
   },
   {
    "duration": 152,
    "start_time": "2024-11-24T03:53:39.211Z"
   },
   {
    "duration": 131,
    "start_time": "2024-11-24T03:53:39.365Z"
   },
   {
    "duration": 146,
    "start_time": "2024-11-24T03:53:39.500Z"
   },
   {
    "duration": 150,
    "start_time": "2024-11-24T03:53:39.648Z"
   },
   {
    "duration": 159,
    "start_time": "2024-11-24T03:53:39.800Z"
   },
   {
    "duration": 138,
    "start_time": "2024-11-24T03:53:39.961Z"
   },
   {
    "duration": 361,
    "start_time": "2024-11-24T03:53:40.100Z"
   },
   {
    "duration": 18,
    "start_time": "2024-11-24T03:53:40.462Z"
   },
   {
    "duration": 127,
    "start_time": "2024-11-24T03:53:40.482Z"
   },
   {
    "duration": 20,
    "start_time": "2024-11-24T03:53:40.610Z"
   },
   {
    "duration": 306,
    "start_time": "2024-11-24T03:53:40.632Z"
   },
   {
    "duration": 17,
    "start_time": "2024-11-24T03:53:40.940Z"
   },
   {
    "duration": 121,
    "start_time": "2024-11-24T03:53:40.959Z"
   },
   {
    "duration": 22,
    "start_time": "2024-11-24T03:53:41.082Z"
   },
   {
    "duration": 351,
    "start_time": "2024-11-24T03:53:41.117Z"
   },
   {
    "duration": 19,
    "start_time": "2024-11-24T03:53:41.470Z"
   },
   {
    "duration": 129,
    "start_time": "2024-11-24T03:53:41.491Z"
   },
   {
    "duration": 17,
    "start_time": "2024-11-24T03:53:41.621Z"
   },
   {
    "duration": 282,
    "start_time": "2024-11-24T03:53:41.640Z"
   },
   {
    "duration": 4,
    "start_time": "2024-11-24T03:53:41.924Z"
   },
   {
    "duration": 4,
    "start_time": "2024-11-24T03:56:48.573Z"
   },
   {
    "duration": 4,
    "start_time": "2024-11-24T03:57:17.470Z"
   },
   {
    "duration": 110,
    "start_time": "2024-11-24T03:58:27.586Z"
   },
   {
    "duration": 9,
    "start_time": "2024-11-24T03:59:12.072Z"
   },
   {
    "duration": 18,
    "start_time": "2024-11-24T04:01:42.914Z"
   },
   {
    "duration": 11,
    "start_time": "2024-11-24T04:06:46.740Z"
   },
   {
    "duration": 11,
    "start_time": "2024-11-24T04:12:01.292Z"
   },
   {
    "duration": 10,
    "start_time": "2024-11-24T04:12:40.980Z"
   },
   {
    "duration": 11,
    "start_time": "2024-11-24T04:13:00.724Z"
   },
   {
    "duration": 1095,
    "start_time": "2024-11-24T04:13:16.646Z"
   },
   {
    "duration": 57,
    "start_time": "2024-11-24T04:13:17.743Z"
   },
   {
    "duration": 23,
    "start_time": "2024-11-24T04:13:17.803Z"
   },
   {
    "duration": 21,
    "start_time": "2024-11-24T04:13:17.828Z"
   },
   {
    "duration": 17,
    "start_time": "2024-11-24T04:13:17.852Z"
   },
   {
    "duration": 34,
    "start_time": "2024-11-24T04:13:17.871Z"
   },
   {
    "duration": 24,
    "start_time": "2024-11-24T04:13:17.907Z"
   },
   {
    "duration": 4,
    "start_time": "2024-11-24T04:13:17.933Z"
   },
   {
    "duration": 16,
    "start_time": "2024-11-24T04:13:17.940Z"
   },
   {
    "duration": 8,
    "start_time": "2024-11-24T04:13:17.957Z"
   },
   {
    "duration": 5,
    "start_time": "2024-11-24T04:13:17.966Z"
   },
   {
    "duration": 301,
    "start_time": "2024-11-24T04:13:17.973Z"
   },
   {
    "duration": 234,
    "start_time": "2024-11-24T04:13:18.275Z"
   },
   {
    "duration": 228,
    "start_time": "2024-11-24T04:13:18.512Z"
   },
   {
    "duration": 406,
    "start_time": "2024-11-24T04:13:18.741Z"
   },
   {
    "duration": 17,
    "start_time": "2024-11-24T04:13:19.149Z"
   },
   {
    "duration": 100,
    "start_time": "2024-11-24T04:13:19.167Z"
   },
   {
    "duration": 18,
    "start_time": "2024-11-24T04:13:19.269Z"
   },
   {
    "duration": 27,
    "start_time": "2024-11-24T04:13:19.288Z"
   },
   {
    "duration": 25,
    "start_time": "2024-11-24T04:13:19.317Z"
   },
   {
    "duration": 186,
    "start_time": "2024-11-24T04:13:19.344Z"
   },
   {
    "duration": 13,
    "start_time": "2024-11-24T04:13:19.532Z"
   },
   {
    "duration": 162,
    "start_time": "2024-11-24T04:13:19.546Z"
   },
   {
    "duration": 137,
    "start_time": "2024-11-24T04:13:19.710Z"
   },
   {
    "duration": 200,
    "start_time": "2024-11-24T04:13:19.849Z"
   },
   {
    "duration": 136,
    "start_time": "2024-11-24T04:13:20.050Z"
   },
   {
    "duration": 124,
    "start_time": "2024-11-24T04:13:20.187Z"
   },
   {
    "duration": 152,
    "start_time": "2024-11-24T04:13:20.312Z"
   },
   {
    "duration": 123,
    "start_time": "2024-11-24T04:13:20.466Z"
   },
   {
    "duration": 151,
    "start_time": "2024-11-24T04:13:20.591Z"
   },
   {
    "duration": 149,
    "start_time": "2024-11-24T04:13:20.744Z"
   },
   {
    "duration": 403,
    "start_time": "2024-11-24T04:13:20.895Z"
   },
   {
    "duration": 31,
    "start_time": "2024-11-24T04:13:21.300Z"
   },
   {
    "duration": 112,
    "start_time": "2024-11-24T04:13:21.334Z"
   },
   {
    "duration": 17,
    "start_time": "2024-11-24T04:13:21.447Z"
   },
   {
    "duration": 311,
    "start_time": "2024-11-24T04:13:21.465Z"
   },
   {
    "duration": 18,
    "start_time": "2024-11-24T04:13:21.777Z"
   },
   {
    "duration": 132,
    "start_time": "2024-11-24T04:13:21.797Z"
   },
   {
    "duration": 16,
    "start_time": "2024-11-24T04:13:21.935Z"
   },
   {
    "duration": 344,
    "start_time": "2024-11-24T04:13:21.953Z"
   },
   {
    "duration": 29,
    "start_time": "2024-11-24T04:13:22.300Z"
   },
   {
    "duration": 107,
    "start_time": "2024-11-24T04:13:22.332Z"
   },
   {
    "duration": 15,
    "start_time": "2024-11-24T04:13:22.441Z"
   },
   {
    "duration": 287,
    "start_time": "2024-11-24T04:13:22.458Z"
   },
   {
    "duration": 11,
    "start_time": "2024-11-24T04:13:22.746Z"
   },
   {
    "duration": 10,
    "start_time": "2024-11-24T04:13:22.758Z"
   },
   {
    "duration": 11,
    "start_time": "2024-11-24T04:13:43.676Z"
   },
   {
    "duration": 122,
    "start_time": "2024-11-24T04:31:17.787Z"
   },
   {
    "duration": 18,
    "start_time": "2024-11-24T04:31:35.074Z"
   },
   {
    "duration": 1163,
    "start_time": "2024-11-24T14:23:35.411Z"
   },
   {
    "duration": 176,
    "start_time": "2024-11-24T14:23:36.576Z"
   },
   {
    "duration": 14,
    "start_time": "2024-11-24T14:23:36.754Z"
   },
   {
    "duration": 16,
    "start_time": "2024-11-24T14:23:36.770Z"
   },
   {
    "duration": 35,
    "start_time": "2024-11-24T14:23:36.788Z"
   },
   {
    "duration": 53,
    "start_time": "2024-11-24T14:23:36.825Z"
   },
   {
    "duration": 38,
    "start_time": "2024-11-24T14:23:36.880Z"
   },
   {
    "duration": 6,
    "start_time": "2024-11-24T14:23:36.920Z"
   },
   {
    "duration": 15,
    "start_time": "2024-11-24T14:23:36.928Z"
   },
   {
    "duration": 16,
    "start_time": "2024-11-24T14:23:36.946Z"
   },
   {
    "duration": 309,
    "start_time": "2024-11-24T14:23:36.965Z"
   },
   {
    "duration": 29,
    "start_time": "2024-11-24T14:23:37.276Z"
   },
   {
    "duration": 241,
    "start_time": "2024-11-24T14:23:37.308Z"
   },
   {
    "duration": 242,
    "start_time": "2024-11-24T14:23:37.553Z"
   },
   {
    "duration": 445,
    "start_time": "2024-11-24T14:23:37.799Z"
   },
   {
    "duration": 20,
    "start_time": "2024-11-24T14:23:38.245Z"
   },
   {
    "duration": 47,
    "start_time": "2024-11-24T14:23:38.266Z"
   },
   {
    "duration": 19,
    "start_time": "2024-11-24T14:23:38.315Z"
   },
   {
    "duration": 17,
    "start_time": "2024-11-24T14:23:38.336Z"
   },
   {
    "duration": 24,
    "start_time": "2024-11-24T14:23:38.354Z"
   },
   {
    "duration": 146,
    "start_time": "2024-11-24T14:23:38.379Z"
   },
   {
    "duration": 11,
    "start_time": "2024-11-24T14:23:38.526Z"
   },
   {
    "duration": 187,
    "start_time": "2024-11-24T14:23:38.539Z"
   },
   {
    "duration": 132,
    "start_time": "2024-11-24T14:23:38.728Z"
   },
   {
    "duration": 224,
    "start_time": "2024-11-24T14:23:38.862Z"
   },
   {
    "duration": 153,
    "start_time": "2024-11-24T14:23:39.088Z"
   },
   {
    "duration": 122,
    "start_time": "2024-11-24T14:23:39.242Z"
   },
   {
    "duration": 155,
    "start_time": "2024-11-24T14:23:39.366Z"
   },
   {
    "duration": 117,
    "start_time": "2024-11-24T14:23:39.522Z"
   },
   {
    "duration": 145,
    "start_time": "2024-11-24T14:23:39.641Z"
   },
   {
    "duration": 138,
    "start_time": "2024-11-24T14:23:39.788Z"
   },
   {
    "duration": 393,
    "start_time": "2024-11-24T14:23:39.928Z"
   },
   {
    "duration": 18,
    "start_time": "2024-11-24T14:23:40.323Z"
   },
   {
    "duration": 123,
    "start_time": "2024-11-24T14:23:40.342Z"
   },
   {
    "duration": 16,
    "start_time": "2024-11-24T14:23:40.467Z"
   },
   {
    "duration": 305,
    "start_time": "2024-11-24T14:23:40.485Z"
   },
   {
    "duration": 23,
    "start_time": "2024-11-24T14:23:40.799Z"
   },
   {
    "duration": 106,
    "start_time": "2024-11-24T14:23:40.823Z"
   },
   {
    "duration": 16,
    "start_time": "2024-11-24T14:23:40.931Z"
   },
   {
    "duration": 370,
    "start_time": "2024-11-24T14:23:40.949Z"
   },
   {
    "duration": 17,
    "start_time": "2024-11-24T14:23:41.322Z"
   },
   {
    "duration": 118,
    "start_time": "2024-11-24T14:23:41.341Z"
   },
   {
    "duration": 16,
    "start_time": "2024-11-24T14:23:41.461Z"
   },
   {
    "duration": 279,
    "start_time": "2024-11-24T14:23:41.479Z"
   },
   {
    "duration": 11,
    "start_time": "2024-11-24T14:23:41.759Z"
   },
   {
    "duration": 11,
    "start_time": "2024-11-24T14:23:41.771Z"
   },
   {
    "duration": 22,
    "start_time": "2024-11-24T16:11:36.915Z"
   },
   {
    "duration": 5,
    "start_time": "2024-11-24T16:11:47.130Z"
   },
   {
    "duration": 5,
    "start_time": "2024-11-24T16:25:11.413Z"
   },
   {
    "duration": 6,
    "start_time": "2024-11-24T16:25:14.893Z"
   },
   {
    "duration": 5,
    "start_time": "2024-11-24T16:25:22.570Z"
   },
   {
    "duration": 6,
    "start_time": "2024-11-24T16:25:30.312Z"
   },
   {
    "duration": 6,
    "start_time": "2024-11-24T16:25:40.514Z"
   },
   {
    "duration": 47,
    "start_time": "2024-11-24T17:55:05.065Z"
   },
   {
    "duration": 1320,
    "start_time": "2024-11-24T17:55:08.905Z"
   },
   {
    "duration": 181,
    "start_time": "2024-11-24T17:55:10.227Z"
   },
   {
    "duration": 15,
    "start_time": "2024-11-24T17:55:10.410Z"
   },
   {
    "duration": 17,
    "start_time": "2024-11-24T17:55:10.427Z"
   },
   {
    "duration": 5,
    "start_time": "2024-11-24T17:55:10.446Z"
   },
   {
    "duration": 16,
    "start_time": "2024-11-24T17:55:10.453Z"
   },
   {
    "duration": 15,
    "start_time": "2024-11-24T17:55:10.470Z"
   },
   {
    "duration": 4,
    "start_time": "2024-11-24T17:55:10.487Z"
   },
   {
    "duration": 11,
    "start_time": "2024-11-24T17:55:10.492Z"
   },
   {
    "duration": 18,
    "start_time": "2024-11-24T17:55:10.505Z"
   },
   {
    "duration": 288,
    "start_time": "2024-11-24T17:55:10.525Z"
   },
   {
    "duration": 16,
    "start_time": "2024-11-24T17:55:10.815Z"
   },
   {
    "duration": 239,
    "start_time": "2024-11-24T17:55:10.846Z"
   },
   {
    "duration": 230,
    "start_time": "2024-11-24T17:55:11.089Z"
   },
   {
    "duration": 426,
    "start_time": "2024-11-24T17:55:11.321Z"
   },
   {
    "duration": 19,
    "start_time": "2024-11-24T17:55:11.749Z"
   },
   {
    "duration": 65,
    "start_time": "2024-11-24T17:55:11.770Z"
   },
   {
    "duration": 17,
    "start_time": "2024-11-24T17:55:11.837Z"
   },
   {
    "duration": 28,
    "start_time": "2024-11-24T17:55:11.856Z"
   },
   {
    "duration": 20,
    "start_time": "2024-11-24T17:55:11.885Z"
   },
   {
    "duration": 140,
    "start_time": "2024-11-24T17:55:11.906Z"
   },
   {
    "duration": 10,
    "start_time": "2024-11-24T17:55:12.048Z"
   },
   {
    "duration": 145,
    "start_time": "2024-11-24T17:55:12.060Z"
   },
   {
    "duration": 136,
    "start_time": "2024-11-24T17:55:12.207Z"
   },
   {
    "duration": 205,
    "start_time": "2024-11-24T17:55:12.344Z"
   },
   {
    "duration": 162,
    "start_time": "2024-11-24T17:55:12.551Z"
   },
   {
    "duration": 121,
    "start_time": "2024-11-24T17:55:12.714Z"
   },
   {
    "duration": 133,
    "start_time": "2024-11-24T17:55:12.842Z"
   },
   {
    "duration": 120,
    "start_time": "2024-11-24T17:55:12.977Z"
   },
   {
    "duration": 144,
    "start_time": "2024-11-24T17:55:13.099Z"
   },
   {
    "duration": 126,
    "start_time": "2024-11-24T17:55:13.245Z"
   },
   {
    "duration": 352,
    "start_time": "2024-11-24T17:55:13.372Z"
   },
   {
    "duration": 28,
    "start_time": "2024-11-24T17:55:13.725Z"
   },
   {
    "duration": 185,
    "start_time": "2024-11-24T17:55:13.755Z"
   },
   {
    "duration": 15,
    "start_time": "2024-11-24T17:55:13.941Z"
   },
   {
    "duration": 293,
    "start_time": "2024-11-24T17:55:13.957Z"
   },
   {
    "duration": 17,
    "start_time": "2024-11-24T17:55:14.252Z"
   },
   {
    "duration": 110,
    "start_time": "2024-11-24T17:55:14.270Z"
   },
   {
    "duration": 18,
    "start_time": "2024-11-24T17:55:14.381Z"
   },
   {
    "duration": 353,
    "start_time": "2024-11-24T17:55:14.400Z"
   },
   {
    "duration": 16,
    "start_time": "2024-11-24T17:55:14.757Z"
   },
   {
    "duration": 122,
    "start_time": "2024-11-24T17:55:14.775Z"
   },
   {
    "duration": 16,
    "start_time": "2024-11-24T17:55:14.899Z"
   },
   {
    "duration": 306,
    "start_time": "2024-11-24T17:55:14.917Z"
   },
   {
    "duration": 105,
    "start_time": "2024-11-24T17:55:15.224Z"
   },
   {
    "duration": 0,
    "start_time": "2024-11-24T17:55:15.331Z"
   },
   {
    "duration": 0,
    "start_time": "2024-11-24T17:55:15.332Z"
   },
   {
    "duration": 1,
    "start_time": "2024-11-24T17:55:15.332Z"
   },
   {
    "duration": 10,
    "start_time": "2024-11-24T17:55:46.749Z"
   },
   {
    "duration": 221,
    "start_time": "2024-11-24T17:59:33.199Z"
   },
   {
    "duration": 255,
    "start_time": "2024-11-24T17:59:41.639Z"
   },
   {
    "duration": 221,
    "start_time": "2024-11-24T17:59:48.087Z"
   },
   {
    "duration": 224,
    "start_time": "2024-11-24T17:59:56.232Z"
   },
   {
    "duration": 267,
    "start_time": "2024-11-24T18:00:38.223Z"
   },
   {
    "duration": 109,
    "start_time": "2024-11-24T18:02:07.311Z"
   },
   {
    "duration": 129,
    "start_time": "2024-11-24T18:02:13.407Z"
   },
   {
    "duration": 278,
    "start_time": "2024-11-24T18:06:44.149Z"
   },
   {
    "duration": 71,
    "start_time": "2024-11-24T18:07:38.893Z"
   },
   {
    "duration": 293,
    "start_time": "2024-11-24T18:07:45.908Z"
   },
   {
    "duration": 969,
    "start_time": "2024-11-24T18:13:05.023Z"
   },
   {
    "duration": 230,
    "start_time": "2024-11-24T18:13:19.264Z"
   },
   {
    "duration": 225,
    "start_time": "2024-11-24T18:13:42.373Z"
   },
   {
    "duration": 222,
    "start_time": "2024-11-24T18:13:49.319Z"
   },
   {
    "duration": 223,
    "start_time": "2024-11-24T18:13:54.443Z"
   },
   {
    "duration": 215,
    "start_time": "2024-11-24T18:13:58.223Z"
   },
   {
    "duration": 242,
    "start_time": "2024-11-24T18:14:03.716Z"
   },
   {
    "duration": 229,
    "start_time": "2024-11-24T18:14:07.508Z"
   },
   {
    "duration": 219,
    "start_time": "2024-11-24T18:14:11.455Z"
   },
   {
    "duration": 128,
    "start_time": "2024-11-24T18:14:14.961Z"
   },
   {
    "duration": 17,
    "start_time": "2024-11-24T18:14:41.756Z"
   },
   {
    "duration": 126,
    "start_time": "2024-11-24T18:15:59.579Z"
   },
   {
    "duration": 153,
    "start_time": "2024-11-24T18:16:03.928Z"
   },
   {
    "duration": 357,
    "start_time": "2024-11-24T18:16:08.644Z"
   },
   {
    "duration": 266,
    "start_time": "2024-11-24T18:16:15.083Z"
   },
   {
    "duration": 140,
    "start_time": "2024-11-24T18:16:18.829Z"
   },
   {
    "duration": 124,
    "start_time": "2024-11-24T18:16:22.650Z"
   },
   {
    "duration": 123,
    "start_time": "2024-11-24T18:16:26.121Z"
   },
   {
    "duration": 144,
    "start_time": "2024-11-24T18:18:08.235Z"
   },
   {
    "duration": 126,
    "start_time": "2024-11-24T18:18:17.836Z"
   },
   {
    "duration": 252,
    "start_time": "2024-11-24T18:18:24.134Z"
   },
   {
    "duration": 225,
    "start_time": "2024-11-24T18:18:30.399Z"
   },
   {
    "duration": 134,
    "start_time": "2024-11-24T18:18:34.336Z"
   },
   {
    "duration": 125,
    "start_time": "2024-11-24T18:18:37.412Z"
   },
   {
    "duration": 247,
    "start_time": "2024-11-24T18:19:06.986Z"
   },
   {
    "duration": 197,
    "start_time": "2024-11-24T18:19:25.914Z"
   },
   {
    "duration": 147,
    "start_time": "2024-11-24T18:19:30.630Z"
   },
   {
    "duration": 230,
    "start_time": "2024-11-24T18:20:13.665Z"
   },
   {
    "duration": 223,
    "start_time": "2024-11-24T18:20:21.840Z"
   },
   {
    "duration": 210,
    "start_time": "2024-11-24T18:20:29.481Z"
   },
   {
    "duration": 216,
    "start_time": "2024-11-24T18:20:39.910Z"
   },
   {
    "duration": 173,
    "start_time": "2024-11-24T18:20:43.988Z"
   },
   {
    "duration": 231,
    "start_time": "2024-11-24T18:20:47.620Z"
   },
   {
    "duration": 1217,
    "start_time": "2024-11-24T18:23:04.237Z"
   },
   {
    "duration": 56,
    "start_time": "2024-11-24T18:23:05.456Z"
   },
   {
    "duration": 20,
    "start_time": "2024-11-24T18:23:05.514Z"
   },
   {
    "duration": 40,
    "start_time": "2024-11-24T18:23:05.536Z"
   },
   {
    "duration": 21,
    "start_time": "2024-11-24T18:23:05.579Z"
   },
   {
    "duration": 40,
    "start_time": "2024-11-24T18:23:05.602Z"
   },
   {
    "duration": 131,
    "start_time": "2024-11-24T18:23:05.644Z"
   },
   {
    "duration": 24,
    "start_time": "2024-11-24T18:23:05.777Z"
   },
   {
    "duration": 91,
    "start_time": "2024-11-24T18:23:05.803Z"
   },
   {
    "duration": 57,
    "start_time": "2024-11-24T18:23:05.899Z"
   },
   {
    "duration": 344,
    "start_time": "2024-11-24T18:23:05.958Z"
   },
   {
    "duration": 14,
    "start_time": "2024-11-24T18:23:06.304Z"
   },
   {
    "duration": 252,
    "start_time": "2024-11-24T18:23:06.320Z"
   },
   {
    "duration": 247,
    "start_time": "2024-11-24T18:23:06.574Z"
   },
   {
    "duration": 459,
    "start_time": "2024-11-24T18:23:06.823Z"
   },
   {
    "duration": 19,
    "start_time": "2024-11-24T18:23:07.285Z"
   },
   {
    "duration": 54,
    "start_time": "2024-11-24T18:23:07.306Z"
   },
   {
    "duration": 33,
    "start_time": "2024-11-24T18:23:07.362Z"
   },
   {
    "duration": 21,
    "start_time": "2024-11-24T18:23:07.396Z"
   },
   {
    "duration": 26,
    "start_time": "2024-11-24T18:23:07.418Z"
   },
   {
    "duration": 156,
    "start_time": "2024-11-24T18:23:07.446Z"
   },
   {
    "duration": 10,
    "start_time": "2024-11-24T18:23:07.604Z"
   },
   {
    "duration": 253,
    "start_time": "2024-11-24T18:23:07.616Z"
   },
   {
    "duration": 137,
    "start_time": "2024-11-24T18:23:07.870Z"
   },
   {
    "duration": 255,
    "start_time": "2024-11-24T18:23:08.009Z"
   },
   {
    "duration": 149,
    "start_time": "2024-11-24T18:23:08.268Z"
   },
   {
    "duration": 139,
    "start_time": "2024-11-24T18:23:08.419Z"
   },
   {
    "duration": 184,
    "start_time": "2024-11-24T18:23:08.563Z"
   },
   {
    "duration": 142,
    "start_time": "2024-11-24T18:23:08.749Z"
   },
   {
    "duration": 178,
    "start_time": "2024-11-24T18:23:08.893Z"
   },
   {
    "duration": 140,
    "start_time": "2024-11-24T18:23:09.073Z"
   },
   {
    "duration": 408,
    "start_time": "2024-11-24T18:23:09.215Z"
   },
   {
    "duration": 23,
    "start_time": "2024-11-24T18:23:09.624Z"
   },
   {
    "duration": 229,
    "start_time": "2024-11-24T18:23:09.648Z"
   },
   {
    "duration": 21,
    "start_time": "2024-11-24T18:23:09.879Z"
   },
   {
    "duration": 362,
    "start_time": "2024-11-24T18:23:09.902Z"
   },
   {
    "duration": 16,
    "start_time": "2024-11-24T18:23:10.266Z"
   },
   {
    "duration": 132,
    "start_time": "2024-11-24T18:23:10.284Z"
   },
   {
    "duration": 17,
    "start_time": "2024-11-24T18:23:10.418Z"
   },
   {
    "duration": 423,
    "start_time": "2024-11-24T18:23:10.436Z"
   },
   {
    "duration": 15,
    "start_time": "2024-11-24T18:23:10.862Z"
   },
   {
    "duration": 109,
    "start_time": "2024-11-24T18:23:10.878Z"
   },
   {
    "duration": 15,
    "start_time": "2024-11-24T18:23:10.989Z"
   },
   {
    "duration": 285,
    "start_time": "2024-11-24T18:23:11.005Z"
   },
   {
    "duration": 98,
    "start_time": "2024-11-24T18:23:11.292Z"
   },
   {
    "duration": 0,
    "start_time": "2024-11-24T18:23:11.391Z"
   },
   {
    "duration": 0,
    "start_time": "2024-11-24T18:23:11.393Z"
   },
   {
    "duration": 0,
    "start_time": "2024-11-24T18:23:11.394Z"
   },
   {
    "duration": 198,
    "start_time": "2024-11-24T18:24:57.165Z"
   },
   {
    "duration": 222,
    "start_time": "2024-11-24T18:25:14.671Z"
   },
   {
    "duration": 350,
    "start_time": "2024-11-24T18:28:11.531Z"
   },
   {
    "duration": 426,
    "start_time": "2024-11-24T18:29:30.854Z"
   },
   {
    "duration": 174,
    "start_time": "2024-11-24T18:29:54.103Z"
   },
   {
    "duration": 191,
    "start_time": "2024-11-24T18:29:58.731Z"
   },
   {
    "duration": 300,
    "start_time": "2024-11-24T18:30:19.856Z"
   },
   {
    "duration": 235,
    "start_time": "2024-11-24T18:30:36.155Z"
   },
   {
    "duration": 113,
    "start_time": "2024-11-24T18:31:13.124Z"
   },
   {
    "duration": 19,
    "start_time": "2024-11-24T18:31:24.285Z"
   },
   {
    "duration": 1177,
    "start_time": "2024-11-24T18:31:30.672Z"
   },
   {
    "duration": 55,
    "start_time": "2024-11-24T18:31:31.851Z"
   },
   {
    "duration": 16,
    "start_time": "2024-11-24T18:31:31.907Z"
   },
   {
    "duration": 27,
    "start_time": "2024-11-24T18:31:31.925Z"
   },
   {
    "duration": 12,
    "start_time": "2024-11-24T18:31:31.954Z"
   },
   {
    "duration": 36,
    "start_time": "2024-11-24T18:31:31.968Z"
   },
   {
    "duration": 13,
    "start_time": "2024-11-24T18:31:32.006Z"
   },
   {
    "duration": 4,
    "start_time": "2024-11-24T18:31:32.021Z"
   },
   {
    "duration": 11,
    "start_time": "2024-11-24T18:31:32.027Z"
   },
   {
    "duration": 27,
    "start_time": "2024-11-24T18:31:32.041Z"
   },
   {
    "duration": 299,
    "start_time": "2024-11-24T18:31:32.069Z"
   },
   {
    "duration": 19,
    "start_time": "2024-11-24T18:31:32.370Z"
   },
   {
    "duration": 229,
    "start_time": "2024-11-24T18:31:32.390Z"
   },
   {
    "duration": 224,
    "start_time": "2024-11-24T18:31:32.621Z"
   },
   {
    "duration": 248,
    "start_time": "2024-11-24T18:31:32.847Z"
   },
   {
    "duration": 20,
    "start_time": "2024-11-24T18:31:33.096Z"
   },
   {
    "duration": 36,
    "start_time": "2024-11-24T18:31:33.117Z"
   },
   {
    "duration": 18,
    "start_time": "2024-11-24T18:31:33.155Z"
   },
   {
    "duration": 18,
    "start_time": "2024-11-24T18:31:33.174Z"
   },
   {
    "duration": 18,
    "start_time": "2024-11-24T18:31:33.193Z"
   },
   {
    "duration": 158,
    "start_time": "2024-11-24T18:31:33.212Z"
   },
   {
    "duration": 11,
    "start_time": "2024-11-24T18:31:33.371Z"
   },
   {
    "duration": 148,
    "start_time": "2024-11-24T18:31:33.383Z"
   },
   {
    "duration": 124,
    "start_time": "2024-11-24T18:31:33.533Z"
   },
   {
    "duration": 126,
    "start_time": "2024-11-24T18:31:33.659Z"
   },
   {
    "duration": 225,
    "start_time": "2024-11-24T18:31:33.787Z"
   },
   {
    "duration": 129,
    "start_time": "2024-11-24T18:31:34.014Z"
   },
   {
    "duration": 148,
    "start_time": "2024-11-24T18:31:34.146Z"
   },
   {
    "duration": 126,
    "start_time": "2024-11-24T18:31:34.295Z"
   },
   {
    "duration": 157,
    "start_time": "2024-11-24T18:31:34.423Z"
   },
   {
    "duration": 130,
    "start_time": "2024-11-24T18:31:34.581Z"
   },
   {
    "duration": 395,
    "start_time": "2024-11-24T18:31:34.712Z"
   },
   {
    "duration": 16,
    "start_time": "2024-11-24T18:31:35.109Z"
   },
   {
    "duration": 116,
    "start_time": "2024-11-24T18:31:35.126Z"
   },
   {
    "duration": 15,
    "start_time": "2024-11-24T18:31:35.244Z"
   },
   {
    "duration": 272,
    "start_time": "2024-11-24T18:31:35.261Z"
   },
   {
    "duration": 26,
    "start_time": "2024-11-24T18:31:35.535Z"
   },
   {
    "duration": 121,
    "start_time": "2024-11-24T18:31:35.563Z"
   },
   {
    "duration": 15,
    "start_time": "2024-11-24T18:31:35.686Z"
   },
   {
    "duration": 346,
    "start_time": "2024-11-24T18:31:35.702Z"
   },
   {
    "duration": 16,
    "start_time": "2024-11-24T18:31:36.050Z"
   },
   {
    "duration": 196,
    "start_time": "2024-11-24T18:31:36.068Z"
   },
   {
    "duration": 16,
    "start_time": "2024-11-24T18:31:36.266Z"
   },
   {
    "duration": 275,
    "start_time": "2024-11-24T18:31:36.284Z"
   },
   {
    "duration": 5,
    "start_time": "2024-11-24T18:31:36.561Z"
   },
   {
    "duration": 29,
    "start_time": "2024-11-24T18:31:36.568Z"
   },
   {
    "duration": 13,
    "start_time": "2024-11-24T18:31:36.599Z"
   },
   {
    "duration": 22,
    "start_time": "2024-11-24T18:31:52.450Z"
   },
   {
    "duration": 24,
    "start_time": "2024-11-24T18:32:20.726Z"
   },
   {
    "duration": 20,
    "start_time": "2024-11-24T18:32:33.232Z"
   },
   {
    "duration": 19,
    "start_time": "2024-11-24T18:35:25.554Z"
   },
   {
    "duration": 18,
    "start_time": "2024-11-24T18:35:58.256Z"
   },
   {
    "duration": 5,
    "start_time": "2024-11-24T18:46:08.231Z"
   },
   {
    "duration": 226,
    "start_time": "2024-11-24T18:46:24.382Z"
   },
   {
    "duration": 106,
    "start_time": "2024-11-24T18:46:35.174Z"
   },
   {
    "duration": 252,
    "start_time": "2024-11-24T21:02:27.446Z"
   },
   {
    "duration": 355,
    "start_time": "2024-11-24T21:03:12.090Z"
   },
   {
    "duration": 11,
    "start_time": "2024-11-24T21:05:31.223Z"
   },
   {
    "duration": 9,
    "start_time": "2024-11-24T21:05:49.823Z"
   },
   {
    "duration": 138,
    "start_time": "2024-11-24T21:05:52.071Z"
   },
   {
    "duration": 112,
    "start_time": "2024-11-24T21:05:58.410Z"
   },
   {
    "duration": 115,
    "start_time": "2024-11-24T21:06:11.846Z"
   },
   {
    "duration": 1146,
    "start_time": "2024-11-24T21:06:19.399Z"
   },
   {
    "duration": 56,
    "start_time": "2024-11-24T21:06:20.547Z"
   },
   {
    "duration": 15,
    "start_time": "2024-11-24T21:06:20.605Z"
   },
   {
    "duration": 85,
    "start_time": "2024-11-24T21:06:20.621Z"
   },
   {
    "duration": 5,
    "start_time": "2024-11-24T21:06:20.707Z"
   },
   {
    "duration": 29,
    "start_time": "2024-11-24T21:06:20.713Z"
   },
   {
    "duration": 29,
    "start_time": "2024-11-24T21:06:20.743Z"
   },
   {
    "duration": 6,
    "start_time": "2024-11-24T21:06:20.774Z"
   },
   {
    "duration": 19,
    "start_time": "2024-11-24T21:06:20.782Z"
   },
   {
    "duration": 35,
    "start_time": "2024-11-24T21:06:20.804Z"
   },
   {
    "duration": 297,
    "start_time": "2024-11-24T21:06:20.841Z"
   },
   {
    "duration": 16,
    "start_time": "2024-11-24T21:06:21.140Z"
   },
   {
    "duration": 232,
    "start_time": "2024-11-24T21:06:21.158Z"
   },
   {
    "duration": 211,
    "start_time": "2024-11-24T21:06:21.392Z"
   },
   {
    "duration": 255,
    "start_time": "2024-11-24T21:06:21.604Z"
   },
   {
    "duration": 18,
    "start_time": "2024-11-24T21:06:21.861Z"
   },
   {
    "duration": 20,
    "start_time": "2024-11-24T21:06:21.880Z"
   },
   {
    "duration": 17,
    "start_time": "2024-11-24T21:06:21.902Z"
   },
   {
    "duration": 178,
    "start_time": "2024-11-24T21:06:21.920Z"
   },
   {
    "duration": 24,
    "start_time": "2024-11-24T21:06:22.100Z"
   },
   {
    "duration": 154,
    "start_time": "2024-11-24T21:06:22.126Z"
   },
   {
    "duration": 122,
    "start_time": "2024-11-24T21:06:22.282Z"
   },
   {
    "duration": 126,
    "start_time": "2024-11-24T21:06:22.405Z"
   },
   {
    "duration": 226,
    "start_time": "2024-11-24T21:06:22.533Z"
   },
   {
    "duration": 128,
    "start_time": "2024-11-24T21:06:22.761Z"
   },
   {
    "duration": 143,
    "start_time": "2024-11-24T21:06:22.891Z"
   },
   {
    "duration": 134,
    "start_time": "2024-11-24T21:06:23.036Z"
   },
   {
    "duration": 151,
    "start_time": "2024-11-24T21:06:23.174Z"
   },
   {
    "duration": 156,
    "start_time": "2024-11-24T21:06:23.327Z"
   },
   {
    "duration": 386,
    "start_time": "2024-11-24T21:06:23.485Z"
   },
   {
    "duration": 16,
    "start_time": "2024-11-24T21:06:23.873Z"
   },
   {
    "duration": 114,
    "start_time": "2024-11-24T21:06:23.891Z"
   },
   {
    "duration": 16,
    "start_time": "2024-11-24T21:06:24.006Z"
   },
   {
    "duration": 298,
    "start_time": "2024-11-24T21:06:24.024Z"
   },
   {
    "duration": 20,
    "start_time": "2024-11-24T21:06:24.324Z"
   },
   {
    "duration": 110,
    "start_time": "2024-11-24T21:06:24.347Z"
   },
   {
    "duration": 16,
    "start_time": "2024-11-24T21:06:24.460Z"
   },
   {
    "duration": 326,
    "start_time": "2024-11-24T21:06:24.477Z"
   },
   {
    "duration": 17,
    "start_time": "2024-11-24T21:06:24.805Z"
   },
   {
    "duration": 213,
    "start_time": "2024-11-24T21:06:24.823Z"
   },
   {
    "duration": 16,
    "start_time": "2024-11-24T21:06:25.043Z"
   },
   {
    "duration": 290,
    "start_time": "2024-11-24T21:06:25.061Z"
   },
   {
    "duration": 5,
    "start_time": "2024-11-24T21:06:25.353Z"
   },
   {
    "duration": 22,
    "start_time": "2024-11-24T21:06:25.360Z"
   },
   {
    "duration": 139,
    "start_time": "2024-11-24T21:06:25.384Z"
   },
   {
    "duration": 151,
    "start_time": "2024-11-24T21:08:26.991Z"
   },
   {
    "duration": 214,
    "start_time": "2024-11-24T21:12:53.051Z"
   },
   {
    "duration": 121,
    "start_time": "2024-11-24T21:13:59.292Z"
   },
   {
    "duration": 131,
    "start_time": "2024-11-24T21:14:02.046Z"
   },
   {
    "duration": 1047,
    "start_time": "2024-11-24T21:14:27.076Z"
   },
   {
    "duration": 57,
    "start_time": "2024-11-24T21:14:28.125Z"
   },
   {
    "duration": 16,
    "start_time": "2024-11-24T21:14:28.184Z"
   },
   {
    "duration": 60,
    "start_time": "2024-11-24T21:14:28.203Z"
   },
   {
    "duration": 36,
    "start_time": "2024-11-24T21:14:28.265Z"
   },
   {
    "duration": 71,
    "start_time": "2024-11-24T21:14:28.302Z"
   },
   {
    "duration": 51,
    "start_time": "2024-11-24T21:14:28.375Z"
   },
   {
    "duration": 32,
    "start_time": "2024-11-24T21:14:28.427Z"
   },
   {
    "duration": 118,
    "start_time": "2024-11-24T21:14:28.461Z"
   },
   {
    "duration": 19,
    "start_time": "2024-11-24T21:14:28.583Z"
   },
   {
    "duration": 384,
    "start_time": "2024-11-24T21:14:28.604Z"
   },
   {
    "duration": 16,
    "start_time": "2024-11-24T21:14:28.989Z"
   },
   {
    "duration": 239,
    "start_time": "2024-11-24T21:14:29.006Z"
   },
   {
    "duration": 199,
    "start_time": "2024-11-24T21:14:29.246Z"
   },
   {
    "duration": 249,
    "start_time": "2024-11-24T21:14:29.446Z"
   },
   {
    "duration": 21,
    "start_time": "2024-11-24T21:14:29.696Z"
   },
   {
    "duration": 50,
    "start_time": "2024-11-24T21:14:29.719Z"
   },
   {
    "duration": 18,
    "start_time": "2024-11-24T21:14:29.771Z"
   },
   {
    "duration": 12,
    "start_time": "2024-11-24T21:14:29.792Z"
   },
   {
    "duration": 162,
    "start_time": "2024-11-24T21:14:29.806Z"
   },
   {
    "duration": 263,
    "start_time": "2024-11-24T21:14:29.970Z"
   },
   {
    "duration": 0,
    "start_time": "2024-11-24T21:14:30.247Z"
   },
   {
    "duration": 0,
    "start_time": "2024-11-24T21:14:30.249Z"
   },
   {
    "duration": 0,
    "start_time": "2024-11-24T21:14:30.251Z"
   },
   {
    "duration": 0,
    "start_time": "2024-11-24T21:14:30.252Z"
   },
   {
    "duration": 0,
    "start_time": "2024-11-24T21:14:30.254Z"
   },
   {
    "duration": 0,
    "start_time": "2024-11-24T21:14:30.255Z"
   },
   {
    "duration": 0,
    "start_time": "2024-11-24T21:14:30.257Z"
   },
   {
    "duration": 0,
    "start_time": "2024-11-24T21:14:30.259Z"
   },
   {
    "duration": 0,
    "start_time": "2024-11-24T21:14:30.260Z"
   },
   {
    "duration": 0,
    "start_time": "2024-11-24T21:14:30.262Z"
   },
   {
    "duration": 0,
    "start_time": "2024-11-24T21:14:30.263Z"
   },
   {
    "duration": 0,
    "start_time": "2024-11-24T21:14:30.264Z"
   },
   {
    "duration": 0,
    "start_time": "2024-11-24T21:14:30.266Z"
   },
   {
    "duration": 0,
    "start_time": "2024-11-24T21:14:30.267Z"
   },
   {
    "duration": 0,
    "start_time": "2024-11-24T21:14:30.268Z"
   },
   {
    "duration": 0,
    "start_time": "2024-11-24T21:14:30.270Z"
   },
   {
    "duration": 0,
    "start_time": "2024-11-24T21:14:30.271Z"
   },
   {
    "duration": 0,
    "start_time": "2024-11-24T21:14:30.273Z"
   },
   {
    "duration": 0,
    "start_time": "2024-11-24T21:14:30.274Z"
   },
   {
    "duration": 0,
    "start_time": "2024-11-24T21:14:30.275Z"
   },
   {
    "duration": 0,
    "start_time": "2024-11-24T21:14:30.277Z"
   },
   {
    "duration": 0,
    "start_time": "2024-11-24T21:14:30.279Z"
   },
   {
    "duration": 142,
    "start_time": "2024-11-24T21:16:03.990Z"
   },
   {
    "duration": 9,
    "start_time": "2024-11-24T21:16:19.585Z"
   },
   {
    "duration": 5,
    "start_time": "2024-11-24T21:16:26.057Z"
   },
   {
    "duration": 6,
    "start_time": "2024-11-24T21:17:17.194Z"
   },
   {
    "duration": 5,
    "start_time": "2024-11-24T21:17:27.424Z"
   },
   {
    "duration": 1172,
    "start_time": "2024-11-24T21:19:29.130Z"
   },
   {
    "duration": 58,
    "start_time": "2024-11-24T21:19:30.304Z"
   },
   {
    "duration": 17,
    "start_time": "2024-11-24T21:19:30.363Z"
   },
   {
    "duration": 47,
    "start_time": "2024-11-24T21:19:30.382Z"
   },
   {
    "duration": 15,
    "start_time": "2024-11-24T21:19:30.431Z"
   },
   {
    "duration": 38,
    "start_time": "2024-11-24T21:19:30.448Z"
   },
   {
    "duration": 27,
    "start_time": "2024-11-24T21:19:30.488Z"
   },
   {
    "duration": 88,
    "start_time": "2024-11-24T21:19:30.517Z"
   },
   {
    "duration": 10,
    "start_time": "2024-11-24T21:19:30.606Z"
   },
   {
    "duration": 70,
    "start_time": "2024-11-24T21:19:30.620Z"
   },
   {
    "duration": 304,
    "start_time": "2024-11-24T21:19:30.691Z"
   },
   {
    "duration": 15,
    "start_time": "2024-11-24T21:19:30.997Z"
   },
   {
    "duration": 238,
    "start_time": "2024-11-24T21:19:31.013Z"
   },
   {
    "duration": 207,
    "start_time": "2024-11-24T21:19:31.254Z"
   },
   {
    "duration": 254,
    "start_time": "2024-11-24T21:19:31.463Z"
   },
   {
    "duration": 27,
    "start_time": "2024-11-24T21:19:31.719Z"
   },
   {
    "duration": 54,
    "start_time": "2024-11-24T21:19:31.747Z"
   },
   {
    "duration": 17,
    "start_time": "2024-11-24T21:19:31.802Z"
   },
   {
    "duration": 45,
    "start_time": "2024-11-24T21:19:31.821Z"
   },
   {
    "duration": 131,
    "start_time": "2024-11-24T21:19:31.868Z"
   },
   {
    "duration": 4,
    "start_time": "2024-11-24T21:19:32.001Z"
   },
   {
    "duration": 28,
    "start_time": "2024-11-24T21:19:32.007Z"
   },
   {
    "duration": 230,
    "start_time": "2024-11-24T21:19:32.037Z"
   },
   {
    "duration": 0,
    "start_time": "2024-11-24T21:19:32.269Z"
   },
   {
    "duration": 0,
    "start_time": "2024-11-24T21:19:32.271Z"
   },
   {
    "duration": 0,
    "start_time": "2024-11-24T21:19:32.272Z"
   },
   {
    "duration": 0,
    "start_time": "2024-11-24T21:19:32.273Z"
   },
   {
    "duration": 0,
    "start_time": "2024-11-24T21:19:32.274Z"
   },
   {
    "duration": 0,
    "start_time": "2024-11-24T21:19:32.276Z"
   },
   {
    "duration": 0,
    "start_time": "2024-11-24T21:19:32.277Z"
   },
   {
    "duration": 0,
    "start_time": "2024-11-24T21:19:32.279Z"
   },
   {
    "duration": 0,
    "start_time": "2024-11-24T21:19:32.280Z"
   },
   {
    "duration": 0,
    "start_time": "2024-11-24T21:19:32.281Z"
   },
   {
    "duration": 0,
    "start_time": "2024-11-24T21:19:32.283Z"
   },
   {
    "duration": 0,
    "start_time": "2024-11-24T21:19:32.289Z"
   },
   {
    "duration": 0,
    "start_time": "2024-11-24T21:19:32.291Z"
   },
   {
    "duration": 0,
    "start_time": "2024-11-24T21:19:32.293Z"
   },
   {
    "duration": 0,
    "start_time": "2024-11-24T21:19:32.294Z"
   },
   {
    "duration": 0,
    "start_time": "2024-11-24T21:19:32.295Z"
   },
   {
    "duration": 0,
    "start_time": "2024-11-24T21:19:32.297Z"
   },
   {
    "duration": 0,
    "start_time": "2024-11-24T21:19:32.298Z"
   },
   {
    "duration": 0,
    "start_time": "2024-11-24T21:19:32.344Z"
   },
   {
    "duration": 0,
    "start_time": "2024-11-24T21:19:32.345Z"
   },
   {
    "duration": 0,
    "start_time": "2024-11-24T21:19:32.347Z"
   },
   {
    "duration": 0,
    "start_time": "2024-11-24T21:19:32.348Z"
   },
   {
    "duration": 251,
    "start_time": "2024-11-24T21:23:07.654Z"
   },
   {
    "duration": 4,
    "start_time": "2024-11-24T21:24:43.718Z"
   },
   {
    "duration": 130,
    "start_time": "2024-11-24T21:24:49.662Z"
   },
   {
    "duration": 0,
    "start_time": "2024-11-24T21:25:11.182Z"
   },
   {
    "duration": 0,
    "start_time": "2024-11-24T21:25:11.183Z"
   },
   {
    "duration": 0,
    "start_time": "2024-11-24T21:25:11.184Z"
   },
   {
    "duration": 0,
    "start_time": "2024-11-24T21:25:11.185Z"
   },
   {
    "duration": 0,
    "start_time": "2024-11-24T21:25:11.186Z"
   },
   {
    "duration": 0,
    "start_time": "2024-11-24T21:25:11.187Z"
   },
   {
    "duration": 0,
    "start_time": "2024-11-24T21:25:11.188Z"
   },
   {
    "duration": 0,
    "start_time": "2024-11-24T21:25:11.189Z"
   },
   {
    "duration": 0,
    "start_time": "2024-11-24T21:25:11.190Z"
   },
   {
    "duration": 0,
    "start_time": "2024-11-24T21:25:11.243Z"
   },
   {
    "duration": 0,
    "start_time": "2024-11-24T21:25:11.244Z"
   },
   {
    "duration": 0,
    "start_time": "2024-11-24T21:25:11.245Z"
   },
   {
    "duration": 0,
    "start_time": "2024-11-24T21:25:11.246Z"
   },
   {
    "duration": 0,
    "start_time": "2024-11-24T21:25:11.247Z"
   },
   {
    "duration": 0,
    "start_time": "2024-11-24T21:25:11.248Z"
   },
   {
    "duration": 0,
    "start_time": "2024-11-24T21:25:11.249Z"
   },
   {
    "duration": 0,
    "start_time": "2024-11-24T21:25:11.250Z"
   },
   {
    "duration": 0,
    "start_time": "2024-11-24T21:25:11.251Z"
   },
   {
    "duration": 0,
    "start_time": "2024-11-24T21:25:11.251Z"
   },
   {
    "duration": 0,
    "start_time": "2024-11-24T21:25:11.252Z"
   },
   {
    "duration": 0,
    "start_time": "2024-11-24T21:25:11.253Z"
   },
   {
    "duration": 0,
    "start_time": "2024-11-24T21:25:11.254Z"
   },
   {
    "duration": 0,
    "start_time": "2024-11-24T21:25:11.255Z"
   },
   {
    "duration": 0,
    "start_time": "2024-11-24T21:25:11.256Z"
   },
   {
    "duration": 0,
    "start_time": "2024-11-24T21:25:11.257Z"
   },
   {
    "duration": 0,
    "start_time": "2024-11-24T21:25:11.258Z"
   },
   {
    "duration": 0,
    "start_time": "2024-11-24T21:25:11.259Z"
   },
   {
    "duration": 0,
    "start_time": "2024-11-24T21:25:11.260Z"
   },
   {
    "duration": 0,
    "start_time": "2024-11-24T21:25:11.261Z"
   },
   {
    "duration": 0,
    "start_time": "2024-11-24T21:25:11.262Z"
   },
   {
    "duration": 0,
    "start_time": "2024-11-24T21:25:11.263Z"
   },
   {
    "duration": 0,
    "start_time": "2024-11-24T21:25:11.264Z"
   },
   {
    "duration": 0,
    "start_time": "2024-11-24T21:25:11.265Z"
   },
   {
    "duration": 0,
    "start_time": "2024-11-24T21:25:11.266Z"
   },
   {
    "duration": 0,
    "start_time": "2024-11-24T21:25:11.267Z"
   },
   {
    "duration": 0,
    "start_time": "2024-11-24T21:25:11.269Z"
   },
   {
    "duration": 0,
    "start_time": "2024-11-24T21:25:11.269Z"
   },
   {
    "duration": 0,
    "start_time": "2024-11-24T21:25:11.270Z"
   },
   {
    "duration": 0,
    "start_time": "2024-11-24T21:25:11.271Z"
   },
   {
    "duration": 0,
    "start_time": "2024-11-24T21:25:11.272Z"
   },
   {
    "duration": 0,
    "start_time": "2024-11-24T21:25:11.274Z"
   },
   {
    "duration": 0,
    "start_time": "2024-11-24T21:25:11.274Z"
   },
   {
    "duration": 0,
    "start_time": "2024-11-24T21:25:11.275Z"
   },
   {
    "duration": 0,
    "start_time": "2024-11-24T21:25:11.276Z"
   },
   {
    "duration": 0,
    "start_time": "2024-11-24T21:25:11.277Z"
   },
   {
    "duration": 1120,
    "start_time": "2024-11-24T21:25:34.798Z"
   },
   {
    "duration": 56,
    "start_time": "2024-11-24T21:25:35.920Z"
   },
   {
    "duration": 14,
    "start_time": "2024-11-24T21:25:35.978Z"
   },
   {
    "duration": 31,
    "start_time": "2024-11-24T21:25:35.995Z"
   },
   {
    "duration": 3,
    "start_time": "2024-11-24T21:25:36.028Z"
   },
   {
    "duration": 33,
    "start_time": "2024-11-24T21:25:36.032Z"
   },
   {
    "duration": 15,
    "start_time": "2024-11-24T21:25:36.067Z"
   },
   {
    "duration": 4,
    "start_time": "2024-11-24T21:25:36.084Z"
   },
   {
    "duration": 15,
    "start_time": "2024-11-24T21:25:36.090Z"
   },
   {
    "duration": 16,
    "start_time": "2024-11-24T21:25:36.110Z"
   },
   {
    "duration": 370,
    "start_time": "2024-11-24T21:25:36.128Z"
   },
   {
    "duration": 16,
    "start_time": "2024-11-24T21:25:36.499Z"
   },
   {
    "duration": 256,
    "start_time": "2024-11-24T21:25:36.517Z"
   },
   {
    "duration": 208,
    "start_time": "2024-11-24T21:25:36.774Z"
   },
   {
    "duration": 240,
    "start_time": "2024-11-24T21:25:36.984Z"
   },
   {
    "duration": 24,
    "start_time": "2024-11-24T21:25:37.226Z"
   },
   {
    "duration": 18,
    "start_time": "2024-11-24T21:25:37.251Z"
   },
   {
    "duration": 23,
    "start_time": "2024-11-24T21:25:37.270Z"
   },
   {
    "duration": 18,
    "start_time": "2024-11-24T21:25:37.295Z"
   },
   {
    "duration": 116,
    "start_time": "2024-11-24T21:25:37.314Z"
   },
   {
    "duration": 5,
    "start_time": "2024-11-24T21:25:37.432Z"
   },
   {
    "duration": 129,
    "start_time": "2024-11-24T21:25:37.443Z"
   },
   {
    "duration": 230,
    "start_time": "2024-11-24T21:25:37.573Z"
   },
   {
    "duration": 0,
    "start_time": "2024-11-24T21:25:37.806Z"
   },
   {
    "duration": 0,
    "start_time": "2024-11-24T21:25:37.807Z"
   },
   {
    "duration": 0,
    "start_time": "2024-11-24T21:25:37.808Z"
   },
   {
    "duration": 0,
    "start_time": "2024-11-24T21:25:37.809Z"
   },
   {
    "duration": 0,
    "start_time": "2024-11-24T21:25:37.810Z"
   },
   {
    "duration": 0,
    "start_time": "2024-11-24T21:25:37.811Z"
   },
   {
    "duration": 0,
    "start_time": "2024-11-24T21:25:37.812Z"
   },
   {
    "duration": 0,
    "start_time": "2024-11-24T21:25:37.813Z"
   },
   {
    "duration": 0,
    "start_time": "2024-11-24T21:25:37.814Z"
   },
   {
    "duration": 0,
    "start_time": "2024-11-24T21:25:37.815Z"
   },
   {
    "duration": 0,
    "start_time": "2024-11-24T21:25:37.816Z"
   },
   {
    "duration": 0,
    "start_time": "2024-11-24T21:25:37.817Z"
   },
   {
    "duration": 0,
    "start_time": "2024-11-24T21:25:37.818Z"
   },
   {
    "duration": 0,
    "start_time": "2024-11-24T21:25:37.843Z"
   },
   {
    "duration": 0,
    "start_time": "2024-11-24T21:25:37.844Z"
   },
   {
    "duration": 0,
    "start_time": "2024-11-24T21:25:37.845Z"
   },
   {
    "duration": 0,
    "start_time": "2024-11-24T21:25:37.846Z"
   },
   {
    "duration": 0,
    "start_time": "2024-11-24T21:25:37.847Z"
   },
   {
    "duration": 0,
    "start_time": "2024-11-24T21:25:37.848Z"
   },
   {
    "duration": 0,
    "start_time": "2024-11-24T21:25:37.849Z"
   },
   {
    "duration": 0,
    "start_time": "2024-11-24T21:25:37.850Z"
   },
   {
    "duration": 0,
    "start_time": "2024-11-24T21:25:37.851Z"
   },
   {
    "duration": 4,
    "start_time": "2024-11-24T21:26:14.343Z"
   },
   {
    "duration": 6,
    "start_time": "2024-11-24T21:26:18.258Z"
   },
   {
    "duration": 122,
    "start_time": "2024-11-24T21:26:22.992Z"
   },
   {
    "duration": 5,
    "start_time": "2024-11-24T21:26:46.434Z"
   },
   {
    "duration": 5,
    "start_time": "2024-11-24T21:26:55.166Z"
   },
   {
    "duration": 123,
    "start_time": "2024-11-24T21:26:57.701Z"
   },
   {
    "duration": 7,
    "start_time": "2024-11-24T21:27:13.229Z"
   },
   {
    "duration": 6,
    "start_time": "2024-11-24T21:27:16.772Z"
   },
   {
    "duration": 211,
    "start_time": "2024-11-24T21:27:19.726Z"
   },
   {
    "duration": 7,
    "start_time": "2024-11-24T21:34:32.081Z"
   },
   {
    "duration": 5,
    "start_time": "2024-11-24T21:34:39.018Z"
   },
   {
    "duration": 6,
    "start_time": "2024-11-24T21:34:39.910Z"
   },
   {
    "duration": 5,
    "start_time": "2024-11-24T21:34:45.176Z"
   },
   {
    "duration": 123,
    "start_time": "2024-11-24T21:34:59.760Z"
   },
   {
    "duration": 5,
    "start_time": "2024-11-24T21:35:51.311Z"
   },
   {
    "duration": 5,
    "start_time": "2024-11-24T21:35:54.591Z"
   },
   {
    "duration": 3,
    "start_time": "2024-11-24T21:35:58.332Z"
   },
   {
    "duration": 6,
    "start_time": "2024-11-24T21:36:03.996Z"
   },
   {
    "duration": 5,
    "start_time": "2024-11-24T21:36:07.304Z"
   },
   {
    "duration": 4,
    "start_time": "2024-11-24T21:36:08.107Z"
   },
   {
    "duration": 5,
    "start_time": "2024-11-24T21:36:10.307Z"
   },
   {
    "duration": 4,
    "start_time": "2024-11-24T21:36:11.888Z"
   },
   {
    "duration": 1083,
    "start_time": "2024-11-24T21:36:20.947Z"
   },
   {
    "duration": 55,
    "start_time": "2024-11-24T21:36:22.032Z"
   },
   {
    "duration": 23,
    "start_time": "2024-11-24T21:36:22.089Z"
   },
   {
    "duration": 20,
    "start_time": "2024-11-24T21:36:22.114Z"
   },
   {
    "duration": 10,
    "start_time": "2024-11-24T21:36:22.136Z"
   },
   {
    "duration": 28,
    "start_time": "2024-11-24T21:36:22.148Z"
   },
   {
    "duration": 17,
    "start_time": "2024-11-24T21:36:22.177Z"
   },
   {
    "duration": 6,
    "start_time": "2024-11-24T21:36:22.195Z"
   },
   {
    "duration": 12,
    "start_time": "2024-11-24T21:36:22.203Z"
   },
   {
    "duration": 12,
    "start_time": "2024-11-24T21:36:22.217Z"
   },
   {
    "duration": 320,
    "start_time": "2024-11-24T21:36:22.230Z"
   },
   {
    "duration": 16,
    "start_time": "2024-11-24T21:36:22.552Z"
   },
   {
    "duration": 303,
    "start_time": "2024-11-24T21:36:22.570Z"
   },
   {
    "duration": 196,
    "start_time": "2024-11-24T21:36:22.878Z"
   },
   {
    "duration": 238,
    "start_time": "2024-11-24T21:36:23.076Z"
   },
   {
    "duration": 27,
    "start_time": "2024-11-24T21:36:23.316Z"
   },
   {
    "duration": 19,
    "start_time": "2024-11-24T21:36:23.345Z"
   },
   {
    "duration": 20,
    "start_time": "2024-11-24T21:36:23.366Z"
   },
   {
    "duration": 5,
    "start_time": "2024-11-24T21:36:23.387Z"
   },
   {
    "duration": 125,
    "start_time": "2024-11-24T21:36:23.393Z"
   },
   {
    "duration": 5,
    "start_time": "2024-11-24T21:36:23.520Z"
   },
   {
    "duration": 72,
    "start_time": "2024-11-24T21:36:23.527Z"
   },
   {
    "duration": 211,
    "start_time": "2024-11-24T21:36:23.600Z"
   },
   {
    "duration": 0,
    "start_time": "2024-11-24T21:36:23.813Z"
   },
   {
    "duration": 0,
    "start_time": "2024-11-24T21:36:23.813Z"
   },
   {
    "duration": 0,
    "start_time": "2024-11-24T21:36:23.815Z"
   },
   {
    "duration": 0,
    "start_time": "2024-11-24T21:36:23.816Z"
   },
   {
    "duration": 0,
    "start_time": "2024-11-24T21:36:23.816Z"
   },
   {
    "duration": 0,
    "start_time": "2024-11-24T21:36:23.818Z"
   },
   {
    "duration": 0,
    "start_time": "2024-11-24T21:36:23.818Z"
   },
   {
    "duration": 0,
    "start_time": "2024-11-24T21:36:23.820Z"
   },
   {
    "duration": 0,
    "start_time": "2024-11-24T21:36:23.821Z"
   },
   {
    "duration": 0,
    "start_time": "2024-11-24T21:36:23.822Z"
   },
   {
    "duration": 0,
    "start_time": "2024-11-24T21:36:23.823Z"
   },
   {
    "duration": 0,
    "start_time": "2024-11-24T21:36:23.824Z"
   },
   {
    "duration": 0,
    "start_time": "2024-11-24T21:36:23.825Z"
   },
   {
    "duration": 0,
    "start_time": "2024-11-24T21:36:23.843Z"
   },
   {
    "duration": 0,
    "start_time": "2024-11-24T21:36:23.845Z"
   },
   {
    "duration": 0,
    "start_time": "2024-11-24T21:36:23.845Z"
   },
   {
    "duration": 0,
    "start_time": "2024-11-24T21:36:23.847Z"
   },
   {
    "duration": 0,
    "start_time": "2024-11-24T21:36:23.848Z"
   },
   {
    "duration": 0,
    "start_time": "2024-11-24T21:36:23.849Z"
   },
   {
    "duration": 0,
    "start_time": "2024-11-24T21:36:23.850Z"
   },
   {
    "duration": 0,
    "start_time": "2024-11-24T21:36:23.851Z"
   },
   {
    "duration": 0,
    "start_time": "2024-11-24T21:36:23.852Z"
   },
   {
    "duration": 934,
    "start_time": "2024-11-24T21:37:53.640Z"
   },
   {
    "duration": 5,
    "start_time": "2024-11-24T21:38:37.862Z"
   },
   {
    "duration": 183,
    "start_time": "2024-11-24T21:38:40.849Z"
   },
   {
    "duration": 5,
    "start_time": "2024-11-24T21:40:58.805Z"
   },
   {
    "duration": 5,
    "start_time": "2024-11-24T21:41:08.557Z"
   },
   {
    "duration": 73,
    "start_time": "2024-11-24T21:41:48.927Z"
   },
   {
    "duration": 97,
    "start_time": "2024-11-24T21:42:27.867Z"
   },
   {
    "duration": 75,
    "start_time": "2024-11-24T21:42:56.513Z"
   },
   {
    "duration": 118,
    "start_time": "2024-11-24T21:43:04.247Z"
   },
   {
    "duration": 112,
    "start_time": "2024-11-24T21:43:28.055Z"
   },
   {
    "duration": 109,
    "start_time": "2024-11-24T21:43:48.160Z"
   },
   {
    "duration": 7,
    "start_time": "2024-11-24T21:45:11.225Z"
   },
   {
    "duration": 127,
    "start_time": "2024-11-24T21:45:15.240Z"
   },
   {
    "duration": 1201,
    "start_time": "2024-11-24T21:45:21.620Z"
   },
   {
    "duration": 57,
    "start_time": "2024-11-24T21:45:22.823Z"
   },
   {
    "duration": 15,
    "start_time": "2024-11-24T21:45:22.882Z"
   },
   {
    "duration": 16,
    "start_time": "2024-11-24T21:45:22.899Z"
   },
   {
    "duration": 16,
    "start_time": "2024-11-24T21:45:22.918Z"
   },
   {
    "duration": 20,
    "start_time": "2024-11-24T21:45:22.936Z"
   },
   {
    "duration": 14,
    "start_time": "2024-11-24T21:45:22.957Z"
   },
   {
    "duration": 4,
    "start_time": "2024-11-24T21:45:22.972Z"
   },
   {
    "duration": 14,
    "start_time": "2024-11-24T21:45:22.978Z"
   },
   {
    "duration": 5,
    "start_time": "2024-11-24T21:45:22.994Z"
   },
   {
    "duration": 315,
    "start_time": "2024-11-24T21:45:23.000Z"
   },
   {
    "duration": 14,
    "start_time": "2024-11-24T21:45:23.317Z"
   },
   {
    "duration": 236,
    "start_time": "2024-11-24T21:45:23.332Z"
   },
   {
    "duration": 199,
    "start_time": "2024-11-24T21:45:23.572Z"
   },
   {
    "duration": 267,
    "start_time": "2024-11-24T21:45:23.773Z"
   },
   {
    "duration": 18,
    "start_time": "2024-11-24T21:45:24.043Z"
   },
   {
    "duration": 17,
    "start_time": "2024-11-24T21:45:24.063Z"
   },
   {
    "duration": 20,
    "start_time": "2024-11-24T21:45:24.082Z"
   },
   {
    "duration": 8,
    "start_time": "2024-11-24T21:45:24.103Z"
   },
   {
    "duration": 144,
    "start_time": "2024-11-24T21:45:24.113Z"
   },
   {
    "duration": 124,
    "start_time": "2024-11-24T21:45:24.259Z"
   },
   {
    "duration": 141,
    "start_time": "2024-11-24T21:45:24.384Z"
   },
   {
    "duration": 225,
    "start_time": "2024-11-24T21:45:24.527Z"
   },
   {
    "duration": 0,
    "start_time": "2024-11-24T21:45:24.754Z"
   },
   {
    "duration": 0,
    "start_time": "2024-11-24T21:45:24.755Z"
   },
   {
    "duration": 0,
    "start_time": "2024-11-24T21:45:24.756Z"
   },
   {
    "duration": 0,
    "start_time": "2024-11-24T21:45:24.757Z"
   },
   {
    "duration": 0,
    "start_time": "2024-11-24T21:45:24.759Z"
   },
   {
    "duration": 0,
    "start_time": "2024-11-24T21:45:24.760Z"
   },
   {
    "duration": 0,
    "start_time": "2024-11-24T21:45:24.761Z"
   },
   {
    "duration": 0,
    "start_time": "2024-11-24T21:45:24.763Z"
   },
   {
    "duration": 0,
    "start_time": "2024-11-24T21:45:24.764Z"
   },
   {
    "duration": 0,
    "start_time": "2024-11-24T21:45:24.765Z"
   },
   {
    "duration": 0,
    "start_time": "2024-11-24T21:45:24.766Z"
   },
   {
    "duration": 0,
    "start_time": "2024-11-24T21:45:24.767Z"
   },
   {
    "duration": 0,
    "start_time": "2024-11-24T21:45:24.769Z"
   },
   {
    "duration": 1,
    "start_time": "2024-11-24T21:45:24.769Z"
   },
   {
    "duration": 0,
    "start_time": "2024-11-24T21:45:24.771Z"
   },
   {
    "duration": 0,
    "start_time": "2024-11-24T21:45:24.772Z"
   },
   {
    "duration": 0,
    "start_time": "2024-11-24T21:45:24.773Z"
   },
   {
    "duration": 0,
    "start_time": "2024-11-24T21:45:24.774Z"
   },
   {
    "duration": 0,
    "start_time": "2024-11-24T21:45:24.775Z"
   },
   {
    "duration": 0,
    "start_time": "2024-11-24T21:45:24.777Z"
   },
   {
    "duration": 6,
    "start_time": "2024-11-24T21:46:02.128Z"
   },
   {
    "duration": 192,
    "start_time": "2024-11-24T21:46:04.813Z"
   },
   {
    "duration": 1091,
    "start_time": "2024-11-24T21:46:09.298Z"
   },
   {
    "duration": 56,
    "start_time": "2024-11-24T21:46:10.391Z"
   },
   {
    "duration": 19,
    "start_time": "2024-11-24T21:46:10.449Z"
   },
   {
    "duration": 40,
    "start_time": "2024-11-24T21:46:10.471Z"
   },
   {
    "duration": 12,
    "start_time": "2024-11-24T21:46:10.512Z"
   },
   {
    "duration": 53,
    "start_time": "2024-11-24T21:46:10.526Z"
   },
   {
    "duration": 37,
    "start_time": "2024-11-24T21:46:10.580Z"
   },
   {
    "duration": 89,
    "start_time": "2024-11-24T21:46:10.619Z"
   },
   {
    "duration": 22,
    "start_time": "2024-11-24T21:46:10.710Z"
   },
   {
    "duration": 78,
    "start_time": "2024-11-24T21:46:10.736Z"
   },
   {
    "duration": 315,
    "start_time": "2024-11-24T21:46:10.816Z"
   },
   {
    "duration": 22,
    "start_time": "2024-11-24T21:46:11.133Z"
   },
   {
    "duration": 260,
    "start_time": "2024-11-24T21:46:11.156Z"
   },
   {
    "duration": 193,
    "start_time": "2024-11-24T21:46:11.417Z"
   },
   {
    "duration": 242,
    "start_time": "2024-11-24T21:46:11.612Z"
   },
   {
    "duration": 18,
    "start_time": "2024-11-24T21:46:11.856Z"
   },
   {
    "duration": 46,
    "start_time": "2024-11-24T21:46:11.875Z"
   },
   {
    "duration": 35,
    "start_time": "2024-11-24T21:46:11.923Z"
   },
   {
    "duration": 21,
    "start_time": "2024-11-24T21:46:11.959Z"
   },
   {
    "duration": 123,
    "start_time": "2024-11-24T21:46:11.982Z"
   },
   {
    "duration": 111,
    "start_time": "2024-11-24T21:46:12.107Z"
   },
   {
    "duration": 150,
    "start_time": "2024-11-24T21:46:12.219Z"
   },
   {
    "duration": 235,
    "start_time": "2024-11-24T21:46:12.370Z"
   },
   {
    "duration": 0,
    "start_time": "2024-11-24T21:46:12.607Z"
   },
   {
    "duration": 0,
    "start_time": "2024-11-24T21:46:12.608Z"
   },
   {
    "duration": 0,
    "start_time": "2024-11-24T21:46:12.609Z"
   },
   {
    "duration": 0,
    "start_time": "2024-11-24T21:46:12.610Z"
   },
   {
    "duration": 0,
    "start_time": "2024-11-24T21:46:12.611Z"
   },
   {
    "duration": 0,
    "start_time": "2024-11-24T21:46:12.612Z"
   },
   {
    "duration": 0,
    "start_time": "2024-11-24T21:46:12.613Z"
   },
   {
    "duration": 0,
    "start_time": "2024-11-24T21:46:12.614Z"
   },
   {
    "duration": 0,
    "start_time": "2024-11-24T21:46:12.615Z"
   },
   {
    "duration": 0,
    "start_time": "2024-11-24T21:46:12.615Z"
   },
   {
    "duration": 0,
    "start_time": "2024-11-24T21:46:12.617Z"
   },
   {
    "duration": 0,
    "start_time": "2024-11-24T21:46:12.618Z"
   },
   {
    "duration": 0,
    "start_time": "2024-11-24T21:46:12.619Z"
   },
   {
    "duration": 0,
    "start_time": "2024-11-24T21:46:12.620Z"
   },
   {
    "duration": 0,
    "start_time": "2024-11-24T21:46:12.621Z"
   },
   {
    "duration": 0,
    "start_time": "2024-11-24T21:46:12.643Z"
   },
   {
    "duration": 0,
    "start_time": "2024-11-24T21:46:12.645Z"
   },
   {
    "duration": 0,
    "start_time": "2024-11-24T21:46:12.646Z"
   },
   {
    "duration": 0,
    "start_time": "2024-11-24T21:46:12.724Z"
   },
   {
    "duration": 0,
    "start_time": "2024-11-24T21:46:12.725Z"
   },
   {
    "duration": 6,
    "start_time": "2024-11-24T21:46:50.467Z"
   },
   {
    "duration": 7,
    "start_time": "2024-11-24T21:47:01.058Z"
   },
   {
    "duration": 107,
    "start_time": "2024-11-24T21:47:03.992Z"
   },
   {
    "duration": 8,
    "start_time": "2024-11-24T21:47:23.990Z"
   },
   {
    "duration": 110,
    "start_time": "2024-11-24T21:47:27.566Z"
   },
   {
    "duration": 113,
    "start_time": "2024-11-24T21:47:30.331Z"
   },
   {
    "duration": 137,
    "start_time": "2024-11-24T21:48:03.990Z"
   },
   {
    "duration": 123,
    "start_time": "2024-11-24T21:48:29.727Z"
   },
   {
    "duration": 110,
    "start_time": "2024-11-24T21:49:04.606Z"
   },
   {
    "duration": 20,
    "start_time": "2024-11-24T21:49:57.503Z"
   },
   {
    "duration": 8,
    "start_time": "2024-11-24T21:50:33.103Z"
   },
   {
    "duration": 21,
    "start_time": "2024-11-24T21:50:35.362Z"
   },
   {
    "duration": 113,
    "start_time": "2024-11-24T21:52:11.761Z"
   },
   {
    "duration": 24,
    "start_time": "2024-11-24T21:53:29.846Z"
   },
   {
    "duration": 8,
    "start_time": "2024-11-24T21:53:41.525Z"
   },
   {
    "duration": 9,
    "start_time": "2024-11-24T21:53:49.693Z"
   },
   {
    "duration": 23,
    "start_time": "2024-11-24T21:53:54.510Z"
   },
   {
    "duration": 24,
    "start_time": "2024-11-24T21:54:02.995Z"
   },
   {
    "duration": 26,
    "start_time": "2024-11-24T21:54:10.808Z"
   },
   {
    "duration": 24,
    "start_time": "2024-11-24T21:54:15.491Z"
   },
   {
    "duration": 6,
    "start_time": "2024-11-24T21:54:30.609Z"
   },
   {
    "duration": 137,
    "start_time": "2024-11-24T21:54:43.574Z"
   },
   {
    "duration": 137,
    "start_time": "2024-11-24T21:54:46.686Z"
   },
   {
    "duration": 117,
    "start_time": "2024-11-24T21:54:49.620Z"
   },
   {
    "duration": 8,
    "start_time": "2024-11-24T22:20:30.753Z"
   },
   {
    "duration": 4,
    "start_time": "2024-11-24T22:20:42.448Z"
   },
   {
    "duration": 6,
    "start_time": "2024-11-24T22:20:53.578Z"
   },
   {
    "duration": 4,
    "start_time": "2024-11-24T22:20:59.118Z"
   },
   {
    "duration": 5,
    "start_time": "2024-11-24T22:21:08.306Z"
   },
   {
    "duration": 15,
    "start_time": "2024-11-24T22:24:46.422Z"
   },
   {
    "duration": 23,
    "start_time": "2024-11-24T22:26:00.446Z"
   },
   {
    "duration": 14,
    "start_time": "2024-11-24T22:26:14.838Z"
   },
   {
    "duration": 17,
    "start_time": "2024-11-24T22:26:32.956Z"
   },
   {
    "duration": 261,
    "start_time": "2024-11-24T22:29:56.385Z"
   },
   {
    "duration": 270,
    "start_time": "2024-11-24T22:30:11.592Z"
   },
   {
    "duration": 10,
    "start_time": "2024-11-24T22:30:51.571Z"
   },
   {
    "duration": 10,
    "start_time": "2024-11-24T22:31:17.514Z"
   },
   {
    "duration": 15,
    "start_time": "2024-11-24T22:31:30.097Z"
   },
   {
    "duration": 20,
    "start_time": "2024-11-24T22:32:55.749Z"
   },
   {
    "duration": 110,
    "start_time": "2024-11-24T22:36:11.103Z"
   },
   {
    "duration": 13,
    "start_time": "2024-11-24T22:36:35.338Z"
   },
   {
    "duration": 163,
    "start_time": "2024-11-24T22:37:35.381Z"
   },
   {
    "duration": 20,
    "start_time": "2024-11-24T22:42:31.299Z"
   },
   {
    "duration": 14,
    "start_time": "2024-11-24T22:42:38.079Z"
   },
   {
    "duration": 14,
    "start_time": "2024-11-24T22:42:51.695Z"
   },
   {
    "duration": 199,
    "start_time": "2024-11-24T22:43:28.436Z"
   },
   {
    "duration": 13,
    "start_time": "2024-11-24T22:44:11.934Z"
   },
   {
    "duration": 165,
    "start_time": "2024-11-24T22:44:33.474Z"
   },
   {
    "duration": 15,
    "start_time": "2024-11-24T22:45:03.872Z"
   },
   {
    "duration": 107,
    "start_time": "2024-11-24T22:46:08.058Z"
   },
   {
    "duration": 16,
    "start_time": "2024-11-24T22:46:40.924Z"
   },
   {
    "duration": 14,
    "start_time": "2024-11-24T22:46:46.887Z"
   },
   {
    "duration": 159,
    "start_time": "2024-11-24T22:47:12.566Z"
   },
   {
    "duration": 5,
    "start_time": "2024-11-24T22:47:23.908Z"
   },
   {
    "duration": 11,
    "start_time": "2024-11-24T22:47:42.681Z"
   },
   {
    "duration": 4,
    "start_time": "2024-11-24T22:47:56.239Z"
   },
   {
    "duration": 12,
    "start_time": "2024-11-24T22:49:14.572Z"
   },
   {
    "duration": 9,
    "start_time": "2024-11-24T22:49:20.751Z"
   },
   {
    "duration": 24,
    "start_time": "2024-11-24T22:49:35.139Z"
   },
   {
    "duration": 21,
    "start_time": "2024-11-24T22:49:44.216Z"
   },
   {
    "duration": 4,
    "start_time": "2024-11-24T22:50:09.313Z"
   },
   {
    "duration": 7,
    "start_time": "2024-11-24T22:57:34.483Z"
   },
   {
    "duration": 22,
    "start_time": "2024-11-24T22:58:20.143Z"
   },
   {
    "duration": 8,
    "start_time": "2024-11-24T22:58:59.541Z"
   },
   {
    "duration": 186,
    "start_time": "2024-11-24T23:04:34.968Z"
   },
   {
    "duration": 177,
    "start_time": "2024-11-24T23:07:05.130Z"
   },
   {
    "duration": 179,
    "start_time": "2024-11-24T23:07:12.248Z"
   },
   {
    "duration": 171,
    "start_time": "2024-11-24T23:10:00.929Z"
   },
   {
    "duration": 173,
    "start_time": "2024-11-24T23:11:08.533Z"
   },
   {
    "duration": 175,
    "start_time": "2024-11-24T23:12:06.517Z"
   },
   {
    "duration": 18,
    "start_time": "2024-11-24T23:14:45.633Z"
   },
   {
    "duration": 13,
    "start_time": "2024-11-24T23:14:59.076Z"
   },
   {
    "duration": 13,
    "start_time": "2024-11-24T23:15:08.918Z"
   },
   {
    "duration": 344,
    "start_time": "2024-11-24T23:22:12.067Z"
   },
   {
    "duration": 1105,
    "start_time": "2024-11-24T23:22:25.625Z"
   },
   {
    "duration": 68,
    "start_time": "2024-11-24T23:22:26.732Z"
   },
   {
    "duration": 21,
    "start_time": "2024-11-24T23:22:26.802Z"
   },
   {
    "duration": 22,
    "start_time": "2024-11-24T23:22:26.825Z"
   },
   {
    "duration": 32,
    "start_time": "2024-11-24T23:22:26.849Z"
   },
   {
    "duration": 47,
    "start_time": "2024-11-24T23:22:26.882Z"
   },
   {
    "duration": 38,
    "start_time": "2024-11-24T23:22:26.932Z"
   },
   {
    "duration": 84,
    "start_time": "2024-11-24T23:22:26.971Z"
   },
   {
    "duration": 41,
    "start_time": "2024-11-24T23:22:27.057Z"
   },
   {
    "duration": 26,
    "start_time": "2024-11-24T23:22:27.102Z"
   },
   {
    "duration": 345,
    "start_time": "2024-11-24T23:22:27.130Z"
   },
   {
    "duration": 14,
    "start_time": "2024-11-24T23:22:27.477Z"
   },
   {
    "duration": 251,
    "start_time": "2024-11-24T23:22:27.492Z"
   },
   {
    "duration": 192,
    "start_time": "2024-11-24T23:22:27.744Z"
   },
   {
    "duration": 243,
    "start_time": "2024-11-24T23:22:27.942Z"
   },
   {
    "duration": 18,
    "start_time": "2024-11-24T23:22:28.187Z"
   },
   {
    "duration": 67,
    "start_time": "2024-11-24T23:22:28.207Z"
   },
   {
    "duration": 78,
    "start_time": "2024-11-24T23:22:28.275Z"
   },
   {
    "duration": 48,
    "start_time": "2024-11-24T23:22:28.355Z"
   },
   {
    "duration": 28,
    "start_time": "2024-11-24T23:22:28.405Z"
   },
   {
    "duration": 154,
    "start_time": "2024-11-24T23:22:28.435Z"
   },
   {
    "duration": 124,
    "start_time": "2024-11-24T23:22:28.590Z"
   },
   {
    "duration": 173,
    "start_time": "2024-11-24T23:22:28.716Z"
   },
   {
    "duration": 152,
    "start_time": "2024-11-24T23:22:28.891Z"
   },
   {
    "duration": 198,
    "start_time": "2024-11-24T23:22:29.045Z"
   },
   {
    "duration": 129,
    "start_time": "2024-11-24T23:22:29.244Z"
   },
   {
    "duration": 15,
    "start_time": "2024-11-24T23:22:29.375Z"
   },
   {
    "duration": 25,
    "start_time": "2024-11-24T23:22:29.393Z"
   },
   {
    "duration": 50,
    "start_time": "2024-11-24T23:22:29.419Z"
   },
   {
    "duration": 126,
    "start_time": "2024-11-24T23:22:29.471Z"
   },
   {
    "duration": 13,
    "start_time": "2024-11-24T23:22:29.599Z"
   },
   {
    "duration": 200,
    "start_time": "2024-11-24T23:22:29.613Z"
   },
   {
    "duration": 26,
    "start_time": "2024-11-24T23:22:29.816Z"
   },
   {
    "duration": 247,
    "start_time": "2024-11-24T23:22:29.843Z"
   },
   {
    "duration": 14,
    "start_time": "2024-11-24T23:22:30.092Z"
   },
   {
    "duration": 297,
    "start_time": "2024-11-24T23:22:30.108Z"
   },
   {
    "duration": 13,
    "start_time": "2024-11-24T23:22:30.407Z"
   },
   {
    "duration": 132,
    "start_time": "2024-11-24T23:22:30.422Z"
   },
   {
    "duration": 15,
    "start_time": "2024-11-24T23:22:30.556Z"
   },
   {
    "duration": 61,
    "start_time": "2024-11-24T23:22:30.573Z"
   },
   {
    "duration": 235,
    "start_time": "2024-11-24T23:22:30.636Z"
   },
   {
    "duration": 5,
    "start_time": "2024-11-24T23:22:30.873Z"
   },
   {
    "duration": 47,
    "start_time": "2024-11-24T23:22:30.879Z"
   },
   {
    "duration": 112,
    "start_time": "2024-11-24T23:22:30.928Z"
   },
   {
    "duration": 29,
    "start_time": "2024-11-24T23:22:31.042Z"
   },
   {
    "duration": 1232,
    "start_time": "2024-11-25T07:21:23.700Z"
   },
   {
    "duration": 180,
    "start_time": "2024-11-25T07:21:24.934Z"
   },
   {
    "duration": 21,
    "start_time": "2024-11-25T07:21:25.116Z"
   },
   {
    "duration": 40,
    "start_time": "2024-11-25T07:21:25.139Z"
   },
   {
    "duration": 4,
    "start_time": "2024-11-25T07:21:25.181Z"
   },
   {
    "duration": 32,
    "start_time": "2024-11-25T07:21:25.187Z"
   },
   {
    "duration": 15,
    "start_time": "2024-11-25T07:21:25.221Z"
   },
   {
    "duration": 5,
    "start_time": "2024-11-25T07:21:25.237Z"
   },
   {
    "duration": 18,
    "start_time": "2024-11-25T07:21:25.243Z"
   },
   {
    "duration": 5,
    "start_time": "2024-11-25T07:21:25.264Z"
   },
   {
    "duration": 328,
    "start_time": "2024-11-25T07:21:25.270Z"
   },
   {
    "duration": 22,
    "start_time": "2024-11-25T07:21:25.599Z"
   },
   {
    "duration": 244,
    "start_time": "2024-11-25T07:21:25.623Z"
   },
   {
    "duration": 207,
    "start_time": "2024-11-25T07:21:25.868Z"
   },
   {
    "duration": 275,
    "start_time": "2024-11-25T07:21:26.077Z"
   },
   {
    "duration": 18,
    "start_time": "2024-11-25T07:21:26.354Z"
   },
   {
    "duration": 46,
    "start_time": "2024-11-25T07:21:26.374Z"
   },
   {
    "duration": 61,
    "start_time": "2024-11-25T07:21:26.421Z"
   },
   {
    "duration": 43,
    "start_time": "2024-11-25T07:21:26.484Z"
   },
   {
    "duration": 17,
    "start_time": "2024-11-25T07:21:26.528Z"
   },
   {
    "duration": 152,
    "start_time": "2024-11-25T07:21:26.547Z"
   },
   {
    "duration": 130,
    "start_time": "2024-11-25T07:21:26.701Z"
   },
   {
    "duration": 156,
    "start_time": "2024-11-25T07:21:26.833Z"
   },
   {
    "duration": 250,
    "start_time": "2024-11-25T07:21:26.990Z"
   },
   {
    "duration": 405,
    "start_time": "2024-11-25T07:21:27.242Z"
   },
   {
    "duration": 287,
    "start_time": "2024-11-25T07:21:27.648Z"
   },
   {
    "duration": 15,
    "start_time": "2024-11-25T07:21:27.937Z"
   },
   {
    "duration": 67,
    "start_time": "2024-11-25T07:21:27.956Z"
   },
   {
    "duration": 30,
    "start_time": "2024-11-25T07:21:28.025Z"
   },
   {
    "duration": 266,
    "start_time": "2024-11-25T07:21:28.057Z"
   },
   {
    "duration": 14,
    "start_time": "2024-11-25T07:21:28.325Z"
   },
   {
    "duration": 343,
    "start_time": "2024-11-25T07:21:28.341Z"
   },
   {
    "duration": 15,
    "start_time": "2024-11-25T07:21:28.686Z"
   },
   {
    "duration": 122,
    "start_time": "2024-11-25T07:21:28.703Z"
   },
   {
    "duration": 14,
    "start_time": "2024-11-25T07:21:28.827Z"
   },
   {
    "duration": 194,
    "start_time": "2024-11-25T07:21:28.843Z"
   },
   {
    "duration": 15,
    "start_time": "2024-11-25T07:21:29.039Z"
   },
   {
    "duration": 124,
    "start_time": "2024-11-25T07:21:29.055Z"
   },
   {
    "duration": 14,
    "start_time": "2024-11-25T07:21:29.181Z"
   },
   {
    "duration": 31,
    "start_time": "2024-11-25T07:21:29.197Z"
   },
   {
    "duration": 185,
    "start_time": "2024-11-25T07:21:29.230Z"
   },
   {
    "duration": 4,
    "start_time": "2024-11-25T07:21:29.420Z"
   },
   {
    "duration": 28,
    "start_time": "2024-11-25T07:21:29.426Z"
   },
   {
    "duration": 9,
    "start_time": "2024-11-25T07:21:29.456Z"
   },
   {
    "duration": 9,
    "start_time": "2024-11-25T07:21:29.467Z"
   },
   {
    "duration": 26,
    "start_time": "2024-11-25T07:30:05.942Z"
   },
   {
    "duration": 22,
    "start_time": "2024-11-25T07:37:37.190Z"
   },
   {
    "duration": 4,
    "start_time": "2024-11-25T07:37:44.559Z"
   }
  ],
  "kernelspec": {
   "display_name": "Python 3 (ipykernel)",
   "language": "python",
   "name": "python3"
  },
  "language_info": {
   "codemirror_mode": {
    "name": "ipython",
    "version": 3
   },
   "file_extension": ".py",
   "mimetype": "text/x-python",
   "name": "python",
   "nbconvert_exporter": "python",
   "pygments_lexer": "ipython3",
   "version": "3.11.5"
  },
  "toc": {
   "base_numbering": 1,
   "nav_menu": {},
   "number_sections": true,
   "sideBar": true,
   "skip_h1_title": true,
   "title_cell": "Table of Contents",
   "title_sidebar": "Contents",
   "toc_cell": false,
   "toc_position": {
    "height": "calc(100% - 180px)",
    "left": "10px",
    "top": "150px",
    "width": "402.352936px"
   },
   "toc_section_display": true,
   "toc_window_display": true
  }
 },
 "nbformat": 4,
 "nbformat_minor": 4
}
