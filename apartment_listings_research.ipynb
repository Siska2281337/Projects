{
 "cells": [
  {
   "cell_type": "markdown",
   "metadata": {
    "id": "-VFbjcb3Awb7"
   },
   "source": [
    "# Исследование объявлений о продаже квартир\n",
    "\n",
    "В вашем распоряжении данные сервиса Яндекс Недвижимость — архив объявлений о продаже квартир в Санкт-Петербурге и соседних населённых пунктах за несколько лет. Вам нужно научиться определять рыночную стоимость объектов недвижимости. Для этого проведите исследовательский анализ данных и установите параметры, влияющие на цену объектов. Это позволит построить автоматизированную систему: она отследит аномалии и мошенническую деятельность.\n",
    "\n",
    "По каждой квартире на продажу доступны два вида данных. Первые вписаны пользователем, вторые — получены автоматически на основе картографических данных. Например, расстояние до центра, аэропорта и других объектов — эти данные автоматически получены из геосервисов. Количество парков и водоёмов также заполняется без участия пользователя."
   ]
  },
  {
   "cell_type": "markdown",
   "metadata": {
    "id": "aeFLH07FAwb9"
   },
   "source": [
    "### Общая информация о файле"
   ]
  },
  {
   "cell_type": "code",
   "execution_count": 1,
   "metadata": {
    "id": "7MZxY65pAwb9"
   },
   "outputs": [],
   "source": [
    "import pandas as pd\n",
    "import matplotlib.pyplot as plt\n",
    "import numpy as np"
   ]
  },
  {
   "cell_type": "code",
   "execution_count": 2,
   "metadata": {},
   "outputs": [
    {
     "name": "stdout",
     "output_type": "stream",
     "text": [
      "<class 'pandas.core.frame.DataFrame'>\n",
      "RangeIndex: 23699 entries, 0 to 23698\n",
      "Data columns (total 22 columns):\n",
      " #   Column                Non-Null Count  Dtype  \n",
      "---  ------                --------------  -----  \n",
      " 0   total_images          23699 non-null  int64  \n",
      " 1   last_price            23699 non-null  float64\n",
      " 2   total_area            23699 non-null  float64\n",
      " 3   first_day_exposition  23699 non-null  object \n",
      " 4   rooms                 23699 non-null  int64  \n",
      " 5   ceiling_height        14504 non-null  float64\n",
      " 6   floors_total          23613 non-null  float64\n",
      " 7   living_area           21796 non-null  float64\n",
      " 8   floor                 23699 non-null  int64  \n",
      " 9   is_apartment          2775 non-null   object \n",
      " 10  studio                23699 non-null  bool   \n",
      " 11  open_plan             23699 non-null  bool   \n",
      " 12  kitchen_area          21421 non-null  float64\n",
      " 13  balcony               12180 non-null  float64\n",
      " 14  locality_name         23650 non-null  object \n",
      " 15  airports_nearest      18157 non-null  float64\n",
      " 16  cityCenters_nearest   18180 non-null  float64\n",
      " 17  parks_around3000      18181 non-null  float64\n",
      " 18  parks_nearest         8079 non-null   float64\n",
      " 19  ponds_around3000      18181 non-null  float64\n",
      " 20  ponds_nearest         9110 non-null   float64\n",
      " 21  days_exposition       20518 non-null  float64\n",
      "dtypes: bool(2), float64(14), int64(3), object(3)\n",
      "memory usage: 3.7+ MB\n"
     ]
    }
   ],
   "source": [
    "data = pd.read_csv(\"/datasets/real_estate_data.csv\", sep='\\t')\n",
    "data.info()"
   ]
  },
  {
   "cell_type": "code",
   "execution_count": 3,
   "metadata": {},
   "outputs": [
    {
     "data": {
      "text/html": [
       "<div>\n",
       "<style scoped>\n",
       "    .dataframe tbody tr th:only-of-type {\n",
       "        vertical-align: middle;\n",
       "    }\n",
       "\n",
       "    .dataframe tbody tr th {\n",
       "        vertical-align: top;\n",
       "    }\n",
       "\n",
       "    .dataframe thead th {\n",
       "        text-align: right;\n",
       "    }\n",
       "</style>\n",
       "<table border=\"1\" class=\"dataframe\">\n",
       "  <thead>\n",
       "    <tr style=\"text-align: right;\">\n",
       "      <th></th>\n",
       "      <th>total_images</th>\n",
       "      <th>last_price</th>\n",
       "      <th>total_area</th>\n",
       "      <th>first_day_exposition</th>\n",
       "      <th>rooms</th>\n",
       "      <th>ceiling_height</th>\n",
       "      <th>floors_total</th>\n",
       "      <th>living_area</th>\n",
       "      <th>floor</th>\n",
       "      <th>is_apartment</th>\n",
       "      <th>...</th>\n",
       "      <th>kitchen_area</th>\n",
       "      <th>balcony</th>\n",
       "      <th>locality_name</th>\n",
       "      <th>airports_nearest</th>\n",
       "      <th>cityCenters_nearest</th>\n",
       "      <th>parks_around3000</th>\n",
       "      <th>parks_nearest</th>\n",
       "      <th>ponds_around3000</th>\n",
       "      <th>ponds_nearest</th>\n",
       "      <th>days_exposition</th>\n",
       "    </tr>\n",
       "  </thead>\n",
       "  <tbody>\n",
       "    <tr>\n",
       "      <th>0</th>\n",
       "      <td>20</td>\n",
       "      <td>13000000.0</td>\n",
       "      <td>108.0</td>\n",
       "      <td>2019-03-07T00:00:00</td>\n",
       "      <td>3</td>\n",
       "      <td>2.70</td>\n",
       "      <td>16.0</td>\n",
       "      <td>51.0</td>\n",
       "      <td>8</td>\n",
       "      <td>NaN</td>\n",
       "      <td>...</td>\n",
       "      <td>25.0</td>\n",
       "      <td>NaN</td>\n",
       "      <td>Санкт-Петербург</td>\n",
       "      <td>18863.0</td>\n",
       "      <td>16028.0</td>\n",
       "      <td>1.0</td>\n",
       "      <td>482.0</td>\n",
       "      <td>2.0</td>\n",
       "      <td>755.0</td>\n",
       "      <td>NaN</td>\n",
       "    </tr>\n",
       "    <tr>\n",
       "      <th>1</th>\n",
       "      <td>7</td>\n",
       "      <td>3350000.0</td>\n",
       "      <td>40.4</td>\n",
       "      <td>2018-12-04T00:00:00</td>\n",
       "      <td>1</td>\n",
       "      <td>NaN</td>\n",
       "      <td>11.0</td>\n",
       "      <td>18.6</td>\n",
       "      <td>1</td>\n",
       "      <td>NaN</td>\n",
       "      <td>...</td>\n",
       "      <td>11.0</td>\n",
       "      <td>2.0</td>\n",
       "      <td>посёлок Шушары</td>\n",
       "      <td>12817.0</td>\n",
       "      <td>18603.0</td>\n",
       "      <td>0.0</td>\n",
       "      <td>NaN</td>\n",
       "      <td>0.0</td>\n",
       "      <td>NaN</td>\n",
       "      <td>81.0</td>\n",
       "    </tr>\n",
       "    <tr>\n",
       "      <th>2</th>\n",
       "      <td>10</td>\n",
       "      <td>5196000.0</td>\n",
       "      <td>56.0</td>\n",
       "      <td>2015-08-20T00:00:00</td>\n",
       "      <td>2</td>\n",
       "      <td>NaN</td>\n",
       "      <td>5.0</td>\n",
       "      <td>34.3</td>\n",
       "      <td>4</td>\n",
       "      <td>NaN</td>\n",
       "      <td>...</td>\n",
       "      <td>8.3</td>\n",
       "      <td>0.0</td>\n",
       "      <td>Санкт-Петербург</td>\n",
       "      <td>21741.0</td>\n",
       "      <td>13933.0</td>\n",
       "      <td>1.0</td>\n",
       "      <td>90.0</td>\n",
       "      <td>2.0</td>\n",
       "      <td>574.0</td>\n",
       "      <td>558.0</td>\n",
       "    </tr>\n",
       "    <tr>\n",
       "      <th>3</th>\n",
       "      <td>0</td>\n",
       "      <td>64900000.0</td>\n",
       "      <td>159.0</td>\n",
       "      <td>2015-07-24T00:00:00</td>\n",
       "      <td>3</td>\n",
       "      <td>NaN</td>\n",
       "      <td>14.0</td>\n",
       "      <td>NaN</td>\n",
       "      <td>9</td>\n",
       "      <td>NaN</td>\n",
       "      <td>...</td>\n",
       "      <td>NaN</td>\n",
       "      <td>0.0</td>\n",
       "      <td>Санкт-Петербург</td>\n",
       "      <td>28098.0</td>\n",
       "      <td>6800.0</td>\n",
       "      <td>2.0</td>\n",
       "      <td>84.0</td>\n",
       "      <td>3.0</td>\n",
       "      <td>234.0</td>\n",
       "      <td>424.0</td>\n",
       "    </tr>\n",
       "    <tr>\n",
       "      <th>4</th>\n",
       "      <td>2</td>\n",
       "      <td>10000000.0</td>\n",
       "      <td>100.0</td>\n",
       "      <td>2018-06-19T00:00:00</td>\n",
       "      <td>2</td>\n",
       "      <td>3.03</td>\n",
       "      <td>14.0</td>\n",
       "      <td>32.0</td>\n",
       "      <td>13</td>\n",
       "      <td>NaN</td>\n",
       "      <td>...</td>\n",
       "      <td>41.0</td>\n",
       "      <td>NaN</td>\n",
       "      <td>Санкт-Петербург</td>\n",
       "      <td>31856.0</td>\n",
       "      <td>8098.0</td>\n",
       "      <td>2.0</td>\n",
       "      <td>112.0</td>\n",
       "      <td>1.0</td>\n",
       "      <td>48.0</td>\n",
       "      <td>121.0</td>\n",
       "    </tr>\n",
       "  </tbody>\n",
       "</table>\n",
       "<p>5 rows × 22 columns</p>\n",
       "</div>"
      ],
      "text/plain": [
       "   total_images  last_price  total_area first_day_exposition  rooms  \\\n",
       "0            20  13000000.0       108.0  2019-03-07T00:00:00      3   \n",
       "1             7   3350000.0        40.4  2018-12-04T00:00:00      1   \n",
       "2            10   5196000.0        56.0  2015-08-20T00:00:00      2   \n",
       "3             0  64900000.0       159.0  2015-07-24T00:00:00      3   \n",
       "4             2  10000000.0       100.0  2018-06-19T00:00:00      2   \n",
       "\n",
       "   ceiling_height  floors_total  living_area  floor is_apartment  ...  \\\n",
       "0            2.70          16.0         51.0      8          NaN  ...   \n",
       "1             NaN          11.0         18.6      1          NaN  ...   \n",
       "2             NaN           5.0         34.3      4          NaN  ...   \n",
       "3             NaN          14.0          NaN      9          NaN  ...   \n",
       "4            3.03          14.0         32.0     13          NaN  ...   \n",
       "\n",
       "   kitchen_area  balcony    locality_name  airports_nearest  \\\n",
       "0          25.0      NaN  Санкт-Петербург           18863.0   \n",
       "1          11.0      2.0   посёлок Шушары           12817.0   \n",
       "2           8.3      0.0  Санкт-Петербург           21741.0   \n",
       "3           NaN      0.0  Санкт-Петербург           28098.0   \n",
       "4          41.0      NaN  Санкт-Петербург           31856.0   \n",
       "\n",
       "  cityCenters_nearest  parks_around3000  parks_nearest  ponds_around3000  \\\n",
       "0             16028.0               1.0          482.0               2.0   \n",
       "1             18603.0               0.0            NaN               0.0   \n",
       "2             13933.0               1.0           90.0               2.0   \n",
       "3              6800.0               2.0           84.0               3.0   \n",
       "4              8098.0               2.0          112.0               1.0   \n",
       "\n",
       "   ponds_nearest  days_exposition  \n",
       "0          755.0              NaN  \n",
       "1            NaN             81.0  \n",
       "2          574.0            558.0  \n",
       "3          234.0            424.0  \n",
       "4           48.0            121.0  \n",
       "\n",
       "[5 rows x 22 columns]"
      ]
     },
     "execution_count": 3,
     "metadata": {},
     "output_type": "execute_result"
    }
   ],
   "source": [
    "data.head()"
   ]
  },
  {
   "cell_type": "code",
   "execution_count": 4,
   "metadata": {},
   "outputs": [
    {
     "data": {
      "image/png": "[encoded data removed]",
      "text/plain": [
       "<Figure size 1080x1440 with 20 Axes>"
      ]
     },
     "metadata": {
      "needs_background": "light"
     },
     "output_type": "display_data"
    }
   ],
   "source": [
    "data.hist(figsize=(15, 20))\n",
    "plt.show()"
   ]
  },
  {
   "cell_type": "markdown",
   "metadata": {
    "id": "-O5NtivEAwb9"
   },
   "source": [
    "### Предобработка данных"
   ]
  },
  {
   "cell_type": "code",
   "execution_count": 5,
   "metadata": {
    "id": "7v3vAeTuAwb-"
   },
   "outputs": [
    {
     "data": {
      "text/plain": [
       "total_images                0\n",
       "open_plan                   0\n",
       "floor                       0\n",
       "rooms                       0\n",
       "studio                      0\n",
       "total_area                  0\n",
       "last_price                  0\n",
       "first_day_exposition        0\n",
       "locality_name              49\n",
       "floors_total               86\n",
       "living_area              1903\n",
       "kitchen_area             2278\n",
       "days_exposition          3181\n",
       "ponds_around3000         5518\n",
       "parks_around3000         5518\n",
       "cityCenters_nearest      5519\n",
       "airports_nearest         5542\n",
       "ceiling_height           9195\n",
       "balcony                 11519\n",
       "ponds_nearest           14589\n",
       "parks_nearest           15620\n",
       "is_apartment            20924\n",
       "dtype: int64"
      ]
     },
     "execution_count": 5,
     "metadata": {},
     "output_type": "execute_result"
    }
   ],
   "source": [
    "data.isna().sum().sort_values()"
   ]
  },
  {
   "cell_type": "code",
   "execution_count": 6,
   "metadata": {},
   "outputs": [
    {
     "data": {
      "text/plain": [
       "0"
      ]
     },
     "execution_count": 6,
     "metadata": {},
     "output_type": "execute_result"
    }
   ],
   "source": [
    "data['locality_name'] = (\n",
    "    data['locality_name']\n",
    "    .str.replace('ё', 'е')\n",
    "    .replace(['поселок городского типа', 'деревня'], 'поселок', regex=True)\n",
    ")\n",
    "data['locality_name'] = data['locality_name'].replace('поселок Шушары', 'Шушары', regex=True)\n",
    "data['locality_name'] = data['locality_name'].replace('поселок Мурино', 'Мурино', regex=True)\n",
    "data['locality_name'] = data['locality_name'].replace('поселок Кудрово', 'Кудрово', regex=True)\n",
    "data = data.dropna(subset=['locality_name'])\n",
    "data.duplicated().sum()"
   ]
  },
  {
   "cell_type": "code",
   "execution_count": 7,
   "metadata": {},
   "outputs": [
    {
     "name": "stderr",
     "output_type": "stream",
     "text": [
      "/opt/conda/lib/python3.9/site-packages/numpy/lib/nanfunctions.py:1117: RuntimeWarning: Mean of empty slice\n",
      "  return np.nanmean(a, axis, out=out, keepdims=keepdims)\n"
     ]
    },
    {
     "data": {
      "text/plain": [
       "total_images                0\n",
       "ponds_around3000            0\n",
       "parks_around3000            0\n",
       "locality_name               0\n",
       "balcony                     0\n",
       "open_plan                   0\n",
       "is_apartment                0\n",
       "floor                       0\n",
       "studio                      0\n",
       "rooms                       0\n",
       "first_day_exposition        0\n",
       "total_area                  0\n",
       "last_price                  0\n",
       "living_area                 0\n",
       "days_exposition             0\n",
       "floors_total               85\n",
       "kitchen_area              197\n",
       "airports_nearest         4829\n",
       "cityCenters_nearest      5511\n",
       "ceiling_height           9160\n",
       "ponds_nearest           14565\n",
       "parks_nearest           15586\n",
       "dtype: int64"
      ]
     },
     "execution_count": 7,
     "metadata": {},
     "output_type": "execute_result"
    }
   ],
   "source": [
    "data['balcony'] = data['balcony'].fillna(0)\n",
    "data['parks_around3000'] = data['parks_around3000'].fillna(0)\n",
    "data['ponds_around3000'] = data['ponds_around3000'].fillna(0)\n",
    "data['days_exposition'] = data['days_exposition'].fillna(0)\n",
    "data['airports_nearest'] = data.groupby('locality_name')['airports_nearest'].transform(lambda x: x.fillna(x.median()) if x.notna().any() else x)\n",
    "\n",
    "data['is_apartment'] = data['is_apartment'].fillna(False)\n",
    "data['total_area'] = data.groupby('rooms')['total_area'].transform(lambda x: x.fillna(x.median()))\n",
    "data['living_area'] = data.groupby('rooms')['living_area'].transform(lambda x: x.fillna(x.median()))\n",
    "data['kitchen_area'] = data.groupby('rooms')['kitchen_area'].transform(lambda x: x.fillna(x.median()))\n",
    "\n",
    "data.isna().sum().sort_values()"
   ]
  },
  {
   "cell_type": "markdown",
   "metadata": {},
   "source": [
    "В столбцах floors_total, balcony, is_apartment, locality_name пользователь, скорее всего, не указал данные, поэтому появились пропуски. В столбцах airports_nearest, cityCenters_nearest, parks_around3000, parks_nearest, ponds_around3000, ponds_nearest произошла какая-то техническая ошибка (в некотрых столбцах я заменил nan нулём, чтобы не возникало проблем при изменении типа данных)."
   ]
  },
  {
   "cell_type": "code",
   "execution_count": 8,
   "metadata": {},
   "outputs": [
    {
     "data": {
      "text/plain": [
       "0        13000000\n",
       "1         3350000\n",
       "2         5196000\n",
       "3        64900000\n",
       "4        10000000\n",
       "           ...   \n",
       "23694     9700000\n",
       "23695     3100000\n",
       "23696     2500000\n",
       "23697    11475000\n",
       "23698     1350000\n",
       "Name: last_price, Length: 23650, dtype: int64"
      ]
     },
     "execution_count": 8,
     "metadata": {},
     "output_type": "execute_result"
    }
   ],
   "source": [
    "data['balcony'] = data['balcony'].astype('int')\n",
    "data['parks_around3000'] = data['parks_around3000'].astype('int')\n",
    "data['ponds_around3000'] = data['ponds_around3000'].astype('int')\n",
    "data['days_exposition'] = data['days_exposition'].astype('int')\n",
    "data['first_day_exposition'] = pd.to_datetime(data['first_day_exposition'], format=\"%Y-%m-%dT%H:%M:%S\")\n",
    "data['last_price'] = data['last_price'].astype('int')\n",
    "data['last_price'].astype('int')"
   ]
  },
  {
   "cell_type": "markdown",
   "metadata": {},
   "source": [
    "Столбцы balcony, parks_around3000, ponds_around3000, days_exposition, last_price были приведены к типу int, потому что эти столбцы предназначены для целочисленных значений (например, не может быть 1.5 балкона, или 2.64 парка рядом). Столбец first_day_exposition был приведён к типу данных datetime. "
   ]
  },
  {
   "cell_type": "markdown",
   "metadata": {
    "id": "QCcvyY6YAwb-"
   },
   "source": [
    "### Добавление новых столбцов"
   ]
  },
  {
   "cell_type": "code",
   "execution_count": 9,
   "metadata": {},
   "outputs": [],
   "source": [
    "data['price_for_meter'] = (data['last_price'] / data['total_area']).round(2)"
   ]
  },
  {
   "cell_type": "code",
   "execution_count": 10,
   "metadata": {
    "id": "Z8eJek3IAwb-"
   },
   "outputs": [],
   "source": [
    "data['day_of_exposition'] = data['first_day_exposition'].dt.dayofweek\n",
    "data['month_of_exposition'] = data['first_day_exposition'].dt.month\n",
    "data['year_of_exposition'] = data['first_day_exposition'].dt.year"
   ]
  },
  {
   "cell_type": "code",
   "execution_count": 11,
   "metadata": {},
   "outputs": [],
   "source": [
    "def floor_type(row):\n",
    "        if row['floor'] == 1:\n",
    "            return 'Первый'\n",
    "        if row['floor'] == row['floors_total']:\n",
    "            return 'Последний'\n",
    "        return 'Другой'\n",
    "               \n",
    "data['floor_type'] = data.apply(floor_type, axis = 1)"
   ]
  },
  {
   "cell_type": "code",
   "execution_count": 12,
   "metadata": {},
   "outputs": [],
   "source": [
    "data['centre_distance'] = (data['cityCenters_nearest'] / 1000).round()"
   ]
  },
  {
   "cell_type": "markdown",
   "metadata": {
    "id": "pPyxrKWTAwb-"
   },
   "source": [
    "### Исследовательский анализ данных"
   ]
  },
  {
   "cell_type": "markdown",
   "metadata": {
    "id": "V2f0D3kLAwb-"
   },
   "source": [
    "#### Общая площадь"
   ]
  },
  {
   "cell_type": "code",
   "execution_count": 13,
   "metadata": {},
   "outputs": [
    {
     "data": {
      "image/png": "[encoded data removed]",
      "text/plain": [
       "<Figure size 432x288 with 1 Axes>"
      ]
     },
     "metadata": {
      "needs_background": "light"
     },
     "output_type": "display_data"
    }
   ],
   "source": [
    "data.boxplot('total_area');"
   ]
  },
  {
   "cell_type": "code",
   "execution_count": 14,
   "metadata": {},
   "outputs": [
    {
     "data": {
      "image/png": "[encoded data removed]",
      "text/plain": [
       "<Figure size 720x360 with 1 Axes>"
      ]
     },
     "metadata": {
      "needs_background": "light"
     },
     "output_type": "display_data"
    }
   ],
   "source": [
    "data = data[(((data['total_area']) > (data['living_area'])) & (data['total_area'] < 550)) | (data['total_area'].isna())]\n",
    "data['total_area'].hist(figsize=(10, 5), bins=100);"
   ]
  },
  {
   "cell_type": "markdown",
   "metadata": {},
   "source": [
    "В данных были строчки, в которых общая площадь была меньше жилой площади. Также были очень сильно выбивающиеся значение, например: общая площадь 900 м^2. Больше всего квартир площадью примерно 45 кв.м."
   ]
  },
  {
   "cell_type": "markdown",
   "metadata": {},
   "source": [
    "#### Жилая площадь"
   ]
  },
  {
   "cell_type": "code",
   "execution_count": 15,
   "metadata": {},
   "outputs": [
    {
     "data": {
      "image/png": "[encoded data removed]",
      "text/plain": [
       "<Figure size 432x288 with 1 Axes>"
      ]
     },
     "metadata": {
      "needs_background": "light"
     },
     "output_type": "display_data"
    }
   ],
   "source": [
    "data.boxplot('living_area');"
   ]
  },
  {
   "cell_type": "code",
   "execution_count": 16,
   "metadata": {},
   "outputs": [
    {
     "data": {
      "image/png": "[encoded data removed]",
      "text/plain": [
       "<Figure size 720x360 with 1 Axes>"
      ]
     },
     "metadata": {
      "needs_background": "light"
     },
     "output_type": "display_data"
    }
   ],
   "source": [
    "data = data[(data['living_area'] < 275) | (data['living_area'].isna())]\n",
    "data['living_area'].hist(figsize=(10, 5), bins=100);"
   ]
  },
  {
   "cell_type": "markdown",
   "metadata": {},
   "source": [
    "На этой гисторамме видна некая \"впадина\" в значениях. Наблюдается два пика: примерно 18 и 30 кв.м. Были удалены редкие значения больше 275."
   ]
  },
  {
   "cell_type": "markdown",
   "metadata": {},
   "source": [
    "#### Площадь кухни"
   ]
  },
  {
   "cell_type": "code",
   "execution_count": 17,
   "metadata": {},
   "outputs": [
    {
     "data": {
      "image/png": "[encoded data removed]",
      "text/plain": [
       "<Figure size 432x288 with 1 Axes>"
      ]
     },
     "metadata": {
      "needs_background": "light"
     },
     "output_type": "display_data"
    }
   ],
   "source": [
    "data.boxplot('kitchen_area');"
   ]
  },
  {
   "cell_type": "code",
   "execution_count": 18,
   "metadata": {},
   "outputs": [
    {
     "data": {
      "text/plain": [
       "<AxesSubplot:>"
      ]
     },
     "execution_count": 18,
     "metadata": {},
     "output_type": "execute_result"
    },
    {
     "data": {
      "image/png": "[encoded data removed]",
      "text/plain": [
       "<Figure size 720x360 with 1 Axes>"
      ]
     },
     "metadata": {
      "needs_background": "light"
     },
     "output_type": "display_data"
    }
   ],
   "source": [
    "data = data[(data['kitchen_area'] < 70) | (data['kitchen_area'].isna())]\n",
    "data['kitchen_area'].hist(figsize=(10, 5), bins=100)"
   ]
  },
  {
   "cell_type": "markdown",
   "metadata": {},
   "source": [
    "На этой гистограмме наблюдается множество пиков. Больше всего кухонь площадью примерно 8 кв.м. Были удалены редкие значения больше 40."
   ]
  },
  {
   "cell_type": "markdown",
   "metadata": {},
   "source": [
    "#### Цена объекта"
   ]
  },
  {
   "cell_type": "code",
   "execution_count": 19,
   "metadata": {},
   "outputs": [
    {
     "data": {
      "image/png": "[encoded data removed]",
      "text/plain": [
       "<Figure size 432x288 with 1 Axes>"
      ]
     },
     "metadata": {
      "needs_background": "light"
     },
     "output_type": "display_data"
    }
   ],
   "source": [
    "data.boxplot('last_price');"
   ]
  },
  {
   "cell_type": "code",
   "execution_count": 20,
   "metadata": {},
   "outputs": [
    {
     "data": {
      "text/plain": [
       "<AxesSubplot:>"
      ]
     },
     "execution_count": 20,
     "metadata": {},
     "output_type": "execute_result"
    },
    {
     "data": {
      "image/png": "[encoded data removed]",
      "text/plain": [
       "<Figure size 720x360 with 1 Axes>"
      ]
     },
     "metadata": {
      "needs_background": "light"
     },
     "output_type": "display_data"
    }
   ],
   "source": [
    "data = data[((data['last_price'] < 2*10**8) & (data['last_price'] != 12190)) | (data['last_price'].isna())]\n",
    "data['last_price'].hist(figsize=(10, 5), bins=70, range=(0, 20000000))"
   ]
  },
  {
   "cell_type": "markdown",
   "metadata": {},
   "source": [
    "В основном цены лежат в диапазоне от 2500000 до 5000000 рублей"
   ]
  },
  {
   "cell_type": "markdown",
   "metadata": {},
   "source": [
    "#### Комнаты"
   ]
  },
  {
   "cell_type": "code",
   "execution_count": 21,
   "metadata": {},
   "outputs": [
    {
     "data": {
      "image/png": "[encoded data removed]",
      "text/plain": [
       "<Figure size 432x288 with 1 Axes>"
      ]
     },
     "metadata": {
      "needs_background": "light"
     },
     "output_type": "display_data"
    }
   ],
   "source": [
    "data.boxplot('rooms');"
   ]
  },
  {
   "cell_type": "code",
   "execution_count": 22,
   "metadata": {},
   "outputs": [
    {
     "data": {
      "text/plain": [
       "<AxesSubplot:>"
      ]
     },
     "execution_count": 22,
     "metadata": {},
     "output_type": "execute_result"
    },
    {
     "data": {
      "image/png": "[encoded data removed]",
      "text/plain": [
       "<Figure size 720x360 with 1 Axes>"
      ]
     },
     "metadata": {
      "needs_background": "light"
     },
     "output_type": "display_data"
    }
   ],
   "source": [
    "data = data[(data['rooms'] < 7) | (data['rooms'].isna())]\n",
    "data['rooms'].hist(figsize=(10, 5), bins=100)"
   ]
  },
  {
   "cell_type": "markdown",
   "metadata": {},
   "source": [
    "Больше всего квартир с одной комнатой. Были удалены данные, где комнат было 0. Удалены аномальные значения."
   ]
  },
  {
   "cell_type": "markdown",
   "metadata": {},
   "source": [
    "#### Высота потолков"
   ]
  },
  {
   "cell_type": "code",
   "execution_count": 23,
   "metadata": {},
   "outputs": [
    {
     "data": {
      "image/png": "[encoded data removed]",
      "text/plain": [
       "<Figure size 432x288 with 1 Axes>"
      ]
     },
     "metadata": {
      "needs_background": "light"
     },
     "output_type": "display_data"
    }
   ],
   "source": [
    "data.boxplot('ceiling_height');"
   ]
  },
  {
   "cell_type": "code",
   "execution_count": 24,
   "metadata": {
    "scrolled": true
   },
   "outputs": [
    {
     "data": {
      "text/plain": [
       "<AxesSubplot:>"
      ]
     },
     "execution_count": 24,
     "metadata": {},
     "output_type": "execute_result"
    },
    {
     "data": {
      "image/png": "[encoded data removed]",
      "text/plain": [
       "<Figure size 720x360 with 1 Axes>"
      ]
     },
     "metadata": {
      "needs_background": "light"
     },
     "output_type": "display_data"
    }
   ],
   "source": [
    "data['ceiling_height'][data['ceiling_height'] > 10] = (data['ceiling_height'][data['ceiling_height'] > 10]) / 10\n",
    "data = data[((data['ceiling_height'] < 6) & (data['ceiling_height'] > 2)) | (data['ceiling_height'].isna())]\n",
    "data['ceiling_height'].hist(figsize=(10, 5), bins=100)"
   ]
  },
  {
   "cell_type": "markdown",
   "metadata": {},
   "source": [
    "Больше всего квартир с высотой потолком 2.5 м. Были изменены неверные значения и удалены аномальные значения."
   ]
  },
  {
   "cell_type": "markdown",
   "metadata": {},
   "source": [
    "#### Этаж, на котором находится квартира"
   ]
  },
  {
   "cell_type": "code",
   "execution_count": 25,
   "metadata": {},
   "outputs": [
    {
     "data": {
      "text/plain": [
       "<AxesSubplot:>"
      ]
     },
     "execution_count": 25,
     "metadata": {},
     "output_type": "execute_result"
    },
    {
     "data": {
      "image/png": "[encoded data removed]",
      "text/plain": [
       "<Figure size 720x360 with 1 Axes>"
      ]
     },
     "metadata": {
      "needs_background": "light"
     },
     "output_type": "display_data"
    }
   ],
   "source": [
    "data['floor_type'].hist(figsize=(10, 5), bins=100)"
   ]
  },
  {
   "cell_type": "markdown",
   "metadata": {},
   "source": [
    "Больше всего квартир находится на втором этаже. Были удалены аномальные значения."
   ]
  },
  {
   "cell_type": "markdown",
   "metadata": {},
   "source": [
    "#### Общее количество этажей"
   ]
  },
  {
   "cell_type": "code",
   "execution_count": 26,
   "metadata": {},
   "outputs": [
    {
     "data": {
      "image/png": "[encoded data removed]",
      "text/plain": [
       "<Figure size 432x288 with 1 Axes>"
      ]
     },
     "metadata": {
      "needs_background": "light"
     },
     "output_type": "display_data"
    }
   ],
   "source": [
    "data.boxplot('floors_total');"
   ]
  },
  {
   "cell_type": "code",
   "execution_count": 27,
   "metadata": {},
   "outputs": [
    {
     "data": {
      "text/plain": [
       "<AxesSubplot:>"
      ]
     },
     "execution_count": 27,
     "metadata": {},
     "output_type": "execute_result"
    },
    {
     "data": {
      "image/png": "[encoded data removed]",
      "text/plain": [
       "<Figure size 720x360 with 1 Axes>"
      ]
     },
     "metadata": {
      "needs_background": "light"
     },
     "output_type": "display_data"
    }
   ],
   "source": [
    "data = data[(data['floors_total'] < 30) | (data['floors_total'].isna())]\n",
    "data['floors_total'].hist(figsize=(10, 5), bins=60)"
   ]
  },
  {
   "cell_type": "markdown",
   "metadata": {},
   "source": [
    "Наибольшее количество этажей - 5 и 9. Были удалены редкие значения."
   ]
  },
  {
   "cell_type": "markdown",
   "metadata": {},
   "source": [
    "#### Расстояние до центра города"
   ]
  },
  {
   "cell_type": "code",
   "execution_count": 28,
   "metadata": {},
   "outputs": [
    {
     "data": {
      "image/png": "[encoded data removed]",
      "text/plain": [
       "<Figure size 432x288 with 1 Axes>"
      ]
     },
     "metadata": {
      "needs_background": "light"
     },
     "output_type": "display_data"
    }
   ],
   "source": [
    "data.boxplot('cityCenters_nearest');"
   ]
  },
  {
   "cell_type": "code",
   "execution_count": 29,
   "metadata": {},
   "outputs": [
    {
     "data": {
      "text/plain": [
       "<AxesSubplot:>"
      ]
     },
     "execution_count": 29,
     "metadata": {},
     "output_type": "execute_result"
    },
    {
     "data": {
      "image/png": "[encoded data removed]",
      "text/plain": [
       "<Figure size 720x360 with 1 Axes>"
      ]
     },
     "metadata": {
      "needs_background": "light"
     },
     "output_type": "display_data"
    }
   ],
   "source": [
    "centre_data = data[((data['cityCenters_nearest'] != 0) & (data['cityCenters_nearest'] < 60000)) | (data['cityCenters_nearest'].isna())]\n",
    "centre_data['cityCenters_nearest'].hist(figsize=(10, 5), bins=100)"
   ]
  },
  {
   "cell_type": "markdown",
   "metadata": {},
   "source": [
    "Были удалены редкие значения. Наиболее частое расстояние до метро - примерно от 12 до 15 километров. Были исправлены значения на метры."
   ]
  },
  {
   "cell_type": "markdown",
   "metadata": {},
   "source": [
    "#### Расстояние до парка"
   ]
  },
  {
   "cell_type": "code",
   "execution_count": 30,
   "metadata": {},
   "outputs": [
    {
     "data": {
      "image/png": "[encoded data removed]",
      "text/plain": [
       "<Figure size 432x288 with 1 Axes>"
      ]
     },
     "metadata": {
      "needs_background": "light"
     },
     "output_type": "display_data"
    }
   ],
   "source": [
    "data.boxplot('parks_nearest');"
   ]
  },
  {
   "cell_type": "code",
   "execution_count": 31,
   "metadata": {},
   "outputs": [
    {
     "data": {
      "text/plain": [
       "<AxesSubplot:>"
      ]
     },
     "execution_count": 31,
     "metadata": {},
     "output_type": "execute_result"
    },
    {
     "data": {
      "image/png": "[encoded data removed]",
      "text/plain": [
       "<Figure size 720x360 with 1 Axes>"
      ]
     },
     "metadata": {
      "needs_background": "light"
     },
     "output_type": "display_data"
    }
   ],
   "source": [
    "data['parks_nearest'] = data['parks_nearest'] / 10\n",
    "data = data[((data['parks_nearest'] != 0) & (data['parks_nearest'] < 100)) | (data['parks_nearest'].isna())]\n",
    "data['parks_nearest'].hist(figsize=(10, 5), bins=70)"
   ]
  },
  {
   "cell_type": "markdown",
   "metadata": {},
   "source": [
    "Были удалены аномальные значения. Наиболее частое расстояние до парков - примерно от 40 до 50 метров. Были исправлены значения на метры."
   ]
  },
  {
   "cell_type": "markdown",
   "metadata": {},
   "source": [
    "#### Скорость продажи квартиры"
   ]
  },
  {
   "cell_type": "code",
   "execution_count": 32,
   "metadata": {},
   "outputs": [
    {
     "data": {
      "image/png": "[encoded data removed]",
      "text/plain": [
       "<Figure size 432x288 with 1 Axes>"
      ]
     },
     "metadata": {
      "needs_background": "light"
     },
     "output_type": "display_data"
    }
   ],
   "source": [
    "data.boxplot('days_exposition');"
   ]
  },
  {
   "cell_type": "code",
   "execution_count": 33,
   "metadata": {},
   "outputs": [
    {
     "data": {
      "text/plain": [
       "<AxesSubplot:>"
      ]
     },
     "execution_count": 33,
     "metadata": {},
     "output_type": "execute_result"
    },
    {
     "data": {
      "image/png": "[encoded data removed]",
      "text/plain": [
       "<Figure size 720x360 with 1 Axes>"
      ]
     },
     "metadata": {
      "needs_background": "light"
     },
     "output_type": "display_data"
    }
   ],
   "source": [
    "good_data = data[((data['days_exposition'] != 0) & (data['days_exposition'] != 60) & (data['days_exposition'] != 45) & (data['days_exposition'] != 30) & (data['days_exposition'] != 7)) | (data['days_exposition'].isna())]\n",
    "good_data['days_exposition'].hist(figsize=(10, 5), bins=100)"
   ]
  },
  {
   "cell_type": "code",
   "execution_count": 34,
   "metadata": {},
   "outputs": [
    {
     "name": "stdout",
     "output_type": "stream",
     "text": [
      "155.7553832156319\n"
     ]
    },
    {
     "data": {
      "text/plain": [
       "73.0"
      ]
     },
     "execution_count": 34,
     "metadata": {},
     "output_type": "execute_result"
    }
   ],
   "source": [
    "print(data['days_exposition'].mean())\n",
    "data['days_exposition'].median()"
   ]
  },
  {
   "cell_type": "code",
   "execution_count": 35,
   "metadata": {},
   "outputs": [
    {
     "name": "stdout",
     "output_type": "stream",
     "text": [
      "197.0\n"
     ]
    },
    {
     "data": {
      "text/plain": [
       "22.0"
      ]
     },
     "execution_count": 35,
     "metadata": {},
     "output_type": "execute_result"
    }
   ],
   "source": [
    "print(data['days_exposition'].quantile(0.75))\n",
    "data['days_exposition'].quantile(0.25)"
   ]
  },
  {
   "cell_type": "markdown",
   "metadata": {},
   "source": [
    "Продажи обычно занимают от 22 до 197 дней. Быстрыми продажами можно считать всё, что меньше 22 дня, а медленными - больше 197 дней."
   ]
  },
  {
   "cell_type": "markdown",
   "metadata": {},
   "source": [
    "#### Влияние факторов на полную стоимость объекта."
   ]
  },
  {
   "cell_type": "code",
   "execution_count": 36,
   "metadata": {},
   "outputs": [
    {
     "data": {
      "image/png": "[encoded data removed]",
      "text/plain": [
       "<Figure size 432x288 with 1 Axes>"
      ]
     },
     "metadata": {
      "needs_background": "light"
     },
     "output_type": "display_data"
    }
   ],
   "source": [
    "data.plot(x='total_area', y='last_price', kind='scatter', alpha=0.2, xlabel='Общая площадь', ylabel='Цена')\n",
    "plt.show()"
   ]
  },
  {
   "cell_type": "markdown",
   "metadata": {},
   "source": [
    "С увеличением площади увеличивается цена."
   ]
  },
  {
   "cell_type": "code",
   "execution_count": 37,
   "metadata": {},
   "outputs": [
    {
     "data": {
      "image/png": "[encoded data removed]",
      "text/plain": [
       "<Figure size 432x288 with 1 Axes>"
      ]
     },
     "metadata": {
      "needs_background": "light"
     },
     "output_type": "display_data"
    }
   ],
   "source": [
    "data.plot(x='living_area', y='last_price', kind='scatter', alpha=0.2, xlabel='Жилая площадь', ylabel='Цена')\n",
    "plt.show()"
   ]
  },
  {
   "cell_type": "markdown",
   "metadata": {},
   "source": [
    "С увеличением площади увеличивается цена."
   ]
  },
  {
   "cell_type": "code",
   "execution_count": 38,
   "metadata": {},
   "outputs": [
    {
     "data": {
      "image/png": "[encoded data removed]",
      "text/plain": [
       "<Figure size 432x288 with 1 Axes>"
      ]
     },
     "metadata": {
      "needs_background": "light"
     },
     "output_type": "display_data"
    }
   ],
   "source": [
    "data.plot(x='kitchen_area', y='last_price', kind='scatter', alpha=0.2, xlabel='Площадь кухни', ylabel='Цена')\n",
    "plt.show()"
   ]
  },
  {
   "cell_type": "markdown",
   "metadata": {},
   "source": [
    "С увеличением площади увеличивается цена."
   ]
  },
  {
   "cell_type": "code",
   "execution_count": 39,
   "metadata": {},
   "outputs": [
    {
     "data": {
      "image/png": "[encoded data removed]",
      "text/plain": [
       "<Figure size 432x288 with 1 Axes>"
      ]
     },
     "metadata": {
      "needs_background": "light"
     },
     "output_type": "display_data"
    }
   ],
   "source": [
    "room_price = data.pivot_table(index='rooms', values='last_price', aggfunc='median')\n",
    "room_price.plot(xlabel='Кол-во комнат', ylabel='Цена');"
   ]
  },
  {
   "cell_type": "markdown",
   "metadata": {},
   "source": [
    "Чем больше комнат, тем выше цена."
   ]
  },
  {
   "cell_type": "code",
   "execution_count": 40,
   "metadata": {},
   "outputs": [
    {
     "data": {
      "image/png": "[encoded data removed]",
      "text/plain": [
       "<Figure size 432x288 with 1 Axes>"
      ]
     },
     "metadata": {
      "needs_background": "light"
     },
     "output_type": "display_data"
    }
   ],
   "source": [
    "floor_data = data.pivot_table(index='floor_type', values='last_price', aggfunc='median')\n",
    "floor_data.plot(xlabel='Этаж', ylabel='Цена');"
   ]
  },
  {
   "cell_type": "markdown",
   "metadata": {},
   "source": [
    "Дешевле всего квартиры на первом этаже, дороже - на других этажах (не первом и последнем)"
   ]
  },
  {
   "cell_type": "code",
   "execution_count": 41,
   "metadata": {},
   "outputs": [
    {
     "data": {
      "image/png": "[encoded data removed]",
      "text/plain": [
       "<Figure size 432x288 with 1 Axes>"
      ]
     },
     "metadata": {
      "needs_background": "light"
     },
     "output_type": "display_data"
    }
   ],
   "source": [
    "day_data = data.pivot_table(index='day_of_exposition', values='last_price', aggfunc='median')\n",
    "day_data.plot(xlabel='День объявления', ylabel='Цена');"
   ]
  },
  {
   "cell_type": "markdown",
   "metadata": {},
   "source": [
    "Квартиры подороже продаются по вторникам и среднем. Самые дешёвые квартиры продаются по субботам."
   ]
  },
  {
   "cell_type": "code",
   "execution_count": 42,
   "metadata": {},
   "outputs": [
    {
     "data": {
      "image/png": "[encoded data removed]",
      "text/plain": [
       "<Figure size 432x288 with 1 Axes>"
      ]
     },
     "metadata": {
      "needs_background": "light"
     },
     "output_type": "display_data"
    }
   ],
   "source": [
    "month_data = data.pivot_table(index='month_of_exposition', values='last_price', aggfunc='median')\n",
    "month_data.plot(xlabel='Месяц объявления', ylabel='Цена');"
   ]
  },
  {
   "cell_type": "markdown",
   "metadata": {},
   "source": [
    "В декабре была продана самая дорогая квартира, на втором месте по продаже дорогих квартир находится апрель. В июне продана самая дешёвая квартира."
   ]
  },
  {
   "cell_type": "code",
   "execution_count": 43,
   "metadata": {},
   "outputs": [
    {
     "data": {
      "image/png": "[encoded data removed]",
      "text/plain": [
       "<Figure size 432x288 with 1 Axes>"
      ]
     },
     "metadata": {
      "needs_background": "light"
     },
     "output_type": "display_data"
    }
   ],
   "source": [
    "year_data = data.pivot_table(index='year_of_exposition', values='last_price', aggfunc='median')\n",
    "year_data.plot(xlabel='Год объявления', ylabel='Цена');"
   ]
  },
  {
   "cell_type": "markdown",
   "metadata": {},
   "source": [
    "В 2014 была продана самая дорогая квартира. В последующие годы цена самой дорогой квартиры, проданной в году пошла на спад, но начала возрастать в 2018."
   ]
  },
  {
   "cell_type": "code",
   "execution_count": 44,
   "metadata": {},
   "outputs": [
    {
     "data": {
      "text/html": [
       "<div>\n",
       "<style scoped>\n",
       "    .dataframe tbody tr th:only-of-type {\n",
       "        vertical-align: middle;\n",
       "    }\n",
       "\n",
       "    .dataframe tbody tr th {\n",
       "        vertical-align: top;\n",
       "    }\n",
       "\n",
       "    .dataframe thead th {\n",
       "        text-align: right;\n",
       "    }\n",
       "</style>\n",
       "<table border=\"1\" class=\"dataframe\">\n",
       "  <thead>\n",
       "    <tr style=\"text-align: right;\">\n",
       "      <th></th>\n",
       "      <th>mean_price</th>\n",
       "      <th>amount_of_ads</th>\n",
       "    </tr>\n",
       "    <tr>\n",
       "      <th>locality_name</th>\n",
       "      <th></th>\n",
       "      <th></th>\n",
       "    </tr>\n",
       "  </thead>\n",
       "  <tbody>\n",
       "    <tr>\n",
       "      <th>Санкт-Петербург</th>\n",
       "      <td>113703.915174</td>\n",
       "      <td>15208</td>\n",
       "    </tr>\n",
       "    <tr>\n",
       "      <th>Пушкин</th>\n",
       "      <td>103100.890978</td>\n",
       "      <td>368</td>\n",
       "    </tr>\n",
       "    <tr>\n",
       "      <th>Кудрово</th>\n",
       "      <td>95326.179108</td>\n",
       "      <td>471</td>\n",
       "    </tr>\n",
       "    <tr>\n",
       "      <th>поселок Парголово</th>\n",
       "      <td>90332.262638</td>\n",
       "      <td>326</td>\n",
       "    </tr>\n",
       "    <tr>\n",
       "      <th>Мурино</th>\n",
       "      <td>86074.078251</td>\n",
       "      <td>589</td>\n",
       "    </tr>\n",
       "    <tr>\n",
       "      <th>Шушары</th>\n",
       "      <td>78677.364318</td>\n",
       "      <td>440</td>\n",
       "    </tr>\n",
       "    <tr>\n",
       "      <th>Колпино</th>\n",
       "      <td>75307.719784</td>\n",
       "      <td>324</td>\n",
       "    </tr>\n",
       "    <tr>\n",
       "      <th>Всеволожск</th>\n",
       "      <td>68789.205519</td>\n",
       "      <td>395</td>\n",
       "    </tr>\n",
       "    <tr>\n",
       "      <th>Гатчина</th>\n",
       "      <td>68746.146515</td>\n",
       "      <td>307</td>\n",
       "    </tr>\n",
       "    <tr>\n",
       "      <th>Выборг</th>\n",
       "      <td>58238.143277</td>\n",
       "      <td>235</td>\n",
       "    </tr>\n",
       "  </tbody>\n",
       "</table>\n",
       "</div>"
      ],
      "text/plain": [
       "                      mean_price  amount_of_ads\n",
       "locality_name                                  \n",
       "Санкт-Петербург    113703.915174          15208\n",
       "Пушкин             103100.890978            368\n",
       "Кудрово             95326.179108            471\n",
       "поселок Парголово   90332.262638            326\n",
       "Мурино              86074.078251            589\n",
       "Шушары              78677.364318            440\n",
       "Колпино             75307.719784            324\n",
       "Всеволожск          68789.205519            395\n",
       "Гатчина             68746.146515            307\n",
       "Выборг              58238.143277            235"
      ]
     },
     "execution_count": 44,
     "metadata": {},
     "output_type": "execute_result"
    }
   ],
   "source": [
    "table = data.pivot_table(index='locality_name', values='price_for_meter', aggfunc=['mean', 'count'])\n",
    "table.columns = ['mean_price', 'amount_of_ads']\n",
    "sorted_table = table.sort_values(by='amount_of_ads', ascending=False).head(10)\n",
    "sorted_table.sort_values(by='mean_price', ascending=False)"
   ]
  },
  {
   "cell_type": "markdown",
   "metadata": {},
   "source": [
    "В приведённых выше таблицах указаны 10 населённых пунктов c наибольшим количеством объявлений, отсортированных по цене."
   ]
  },
  {
   "cell_type": "code",
   "execution_count": 45,
   "metadata": {},
   "outputs": [
    {
     "name": "stdout",
     "output_type": "stream",
     "text": [
      "<class 'pandas.core.frame.DataFrame'>\n",
      "Int64Index: 23081 entries, 0 to 23698\n",
      "Data columns (total 28 columns):\n",
      " #   Column                Non-Null Count  Dtype         \n",
      "---  ------                --------------  -----         \n",
      " 0   total_images          23081 non-null  int64         \n",
      " 1   last_price            23081 non-null  int64         \n",
      " 2   total_area            23081 non-null  float64       \n",
      " 3   first_day_exposition  23081 non-null  datetime64[ns]\n",
      " 4   rooms                 23081 non-null  int64         \n",
      " 5   ceiling_height        14161 non-null  float64       \n",
      " 6   floors_total          22999 non-null  float64       \n",
      " 7   living_area           23081 non-null  float64       \n",
      " 8   floor                 23081 non-null  int64         \n",
      " 9   is_apartment          23081 non-null  bool          \n",
      " 10  studio                23081 non-null  bool          \n",
      " 11  open_plan             23081 non-null  bool          \n",
      " 12  kitchen_area          22891 non-null  float64       \n",
      " 13  balcony               23081 non-null  int64         \n",
      " 14  locality_name         23081 non-null  object        \n",
      " 15  airports_nearest      18273 non-null  float64       \n",
      " 16  cityCenters_nearest   17594 non-null  float64       \n",
      " 17  parks_around3000      23081 non-null  int64         \n",
      " 18  parks_nearest         7592 non-null   float64       \n",
      " 19  ponds_around3000      23081 non-null  int64         \n",
      " 20  ponds_nearest         8662 non-null   float64       \n",
      " 21  days_exposition       23081 non-null  int64         \n",
      " 22  price_for_meter       23081 non-null  float64       \n",
      " 23  day_of_exposition     23081 non-null  int64         \n",
      " 24  month_of_exposition   23081 non-null  int64         \n",
      " 25  year_of_exposition    23081 non-null  int64         \n",
      " 26  floor_type            23081 non-null  object        \n",
      " 27  centre_distance       17594 non-null  float64       \n",
      "dtypes: bool(3), datetime64[ns](1), float64(11), int64(11), object(2)\n",
      "memory usage: 4.6+ MB\n"
     ]
    },
    {
     "data": {
      "image/png": "[encoded data removed]",
      "text/plain": [
       "<Figure size 720x360 with 1 Axes>"
      ]
     },
     "metadata": {
      "needs_background": "light"
     },
     "output_type": "display_data"
    }
   ],
   "source": [
    "spb_data = data[data['locality_name'] == 'Санкт-Петербург']\n",
    "good_spb_data = spb_data.pivot_table(index='centre_distance', values='price_for_meter', aggfunc='mean')\n",
    "good_spb_data.plot(grid=True, figsize=(10, 5), xlabel='Расстояние до центра', ylabel='Цена')\n",
    "data.info()"
   ]
  },
  {
   "cell_type": "markdown",
   "metadata": {},
   "source": [
    "Наивысшая цена наблюдается в самом центре. Цена снижается по удалению по центра, с пиком примерно в 7 км от центра."
   ]
  },
  {
   "cell_type": "markdown",
   "metadata": {
    "id": "h7VpzkIDAwb-"
   },
   "source": [
    "### Общий вывод"
   ]
  },
  {
   "cell_type": "markdown",
   "metadata": {
    "id": "3H4lnp_KAwb-"
   },
   "source": [
    "В начале работы мы получили таблицу, состоящую из 23699 строк и 22 столбцов. Обнаружилось, что в таблице есть пропуски данных. Некоторые пропуски, скорее всего появились из-за того, что пользователи не ввели данные, либо из-за какой-то технической ошибки. Некоторые пропуски мы заполнили нулём, чтобы не возникало проблем, при изменении типа данных. Были заменены неявные пропуски в столбце с населёнными пунктами. Мы рассчитали медианные значения площадей по аналогичному количеству комнат и заполнили ими пропуски в данных. Мы добавили новые столбцы в таблицы: цена за квадратный метр, день, месяц, год объявления, тип этажа (первый, последний, другой), расстояние до центра города в километрах. Далее мы удалили аномалии и строили гистограммы для некоторых столбцов. Определили, что обычно квартиры продаются от 22 до 197 дней. Затем мы оценивали влияние некоторых факторов на цену недвижимости (например, с увеличением площади увеличивается цена). Далее мы установили, что, чем ближе недвижимость в Санкт-Петербурге находится к центру, тем больше её цена.\n",
    "\n",
    "Мы отбросили 618 строк во время предобработки.\n",
    "\n",
    "В результате исследования мы установили, что на цену недвижомости влияет площадь, этаж, на которой она находится и расстояние до центра."
   ]
  }
 ],
 "metadata": {
  "ExecuteTimeLog": [
   {
    "duration": 82,
    "start_time": "2024-10-26T13:36:07.721Z"
   },
   {
    "duration": 455,
    "start_time": "2024-10-26T13:36:16.424Z"
   },
   {
    "duration": 63,
    "start_time": "2024-10-26T13:36:17.968Z"
   },
   {
    "duration": 161,
    "start_time": "2024-10-26T13:36:48.103Z"
   },
   {
    "duration": 383,
    "start_time": "2024-10-26T13:37:01.128Z"
   },
   {
    "duration": 99,
    "start_time": "2024-10-26T13:37:13.808Z"
   },
   {
    "duration": 115,
    "start_time": "2024-10-26T13:37:31.331Z"
   },
   {
    "duration": 2104,
    "start_time": "2024-10-26T13:37:35.239Z"
   },
   {
    "duration": 1957,
    "start_time": "2024-10-26T13:38:13.688Z"
   },
   {
    "duration": 491,
    "start_time": "2024-10-26T13:38:37.705Z"
   },
   {
    "duration": 138,
    "start_time": "2024-10-26T13:38:38.199Z"
   },
   {
    "duration": 2233,
    "start_time": "2024-10-26T13:38:38.338Z"
   },
   {
    "duration": 1988,
    "start_time": "2024-10-26T13:38:48.393Z"
   },
   {
    "duration": 1934,
    "start_time": "2024-10-26T13:38:58.338Z"
   },
   {
    "duration": 644,
    "start_time": "2024-10-26T13:40:02.917Z"
   },
   {
    "duration": 121,
    "start_time": "2024-10-26T13:40:03.563Z"
   },
   {
    "duration": 1970,
    "start_time": "2024-10-26T13:40:03.685Z"
   },
   {
    "duration": 113,
    "start_time": "2024-10-26T13:40:32.889Z"
   },
   {
    "duration": 784,
    "start_time": "2024-10-28T11:09:00.025Z"
   },
   {
    "duration": 190,
    "start_time": "2024-10-28T11:09:00.811Z"
   },
   {
    "duration": 1955,
    "start_time": "2024-10-28T11:09:01.002Z"
   },
   {
    "duration": 29,
    "start_time": "2024-10-28T11:09:19.965Z"
   },
   {
    "duration": 12,
    "start_time": "2024-10-28T11:09:39.777Z"
   },
   {
    "duration": 17,
    "start_time": "2024-10-28T11:10:32.233Z"
   },
   {
    "duration": 6,
    "start_time": "2024-10-28T11:12:48.547Z"
   },
   {
    "duration": 6,
    "start_time": "2024-10-28T11:12:55.224Z"
   },
   {
    "duration": 6,
    "start_time": "2024-10-28T11:13:14.864Z"
   },
   {
    "duration": 1343,
    "start_time": "2024-10-28T11:14:14.007Z"
   },
   {
    "duration": 60,
    "start_time": "2024-10-28T11:14:30.767Z"
   },
   {
    "duration": 57,
    "start_time": "2024-10-28T11:14:47.375Z"
   },
   {
    "duration": 54,
    "start_time": "2024-10-28T11:15:08.249Z"
   },
   {
    "duration": 10,
    "start_time": "2024-10-28T11:17:02.949Z"
   },
   {
    "duration": 103,
    "start_time": "2024-10-28T11:18:49.044Z"
   },
   {
    "duration": 29,
    "start_time": "2024-10-28T11:19:03.919Z"
   },
   {
    "duration": 43,
    "start_time": "2024-10-28T11:28:29.979Z"
   },
   {
    "duration": 9,
    "start_time": "2024-10-28T11:29:13.455Z"
   },
   {
    "duration": 61,
    "start_time": "2024-10-28T11:29:23.673Z"
   },
   {
    "duration": 24,
    "start_time": "2024-10-28T11:29:50.949Z"
   },
   {
    "duration": 4,
    "start_time": "2024-10-28T11:30:49.053Z"
   },
   {
    "duration": 6,
    "start_time": "2024-10-28T11:31:27.175Z"
   },
   {
    "duration": 6,
    "start_time": "2024-10-28T11:33:04.271Z"
   },
   {
    "duration": 8,
    "start_time": "2024-10-28T11:36:49.897Z"
   },
   {
    "duration": 2049,
    "start_time": "2024-10-28T11:36:51.713Z"
   },
   {
    "duration": 375,
    "start_time": "2024-10-28T11:43:03.965Z"
   },
   {
    "duration": 252,
    "start_time": "2024-10-28T11:43:22.567Z"
   },
   {
    "duration": 1473,
    "start_time": "2024-10-28T11:43:39.977Z"
   },
   {
    "duration": 483,
    "start_time": "2024-10-28T11:43:54.303Z"
   },
   {
    "duration": 11,
    "start_time": "2024-10-28T11:52:56.419Z"
   },
   {
    "duration": 1915,
    "start_time": "2024-10-28T11:52:59.449Z"
   },
   {
    "duration": 11,
    "start_time": "2024-10-28T11:54:06.599Z"
   },
   {
    "duration": 2024,
    "start_time": "2024-10-28T11:54:10.339Z"
   },
   {
    "duration": 14,
    "start_time": "2024-10-28T11:54:28.180Z"
   },
   {
    "duration": 1986,
    "start_time": "2024-10-28T11:54:38.907Z"
   },
   {
    "duration": 352,
    "start_time": "2024-10-28T11:55:35.645Z"
   },
   {
    "duration": 315,
    "start_time": "2024-10-28T11:56:21.263Z"
   },
   {
    "duration": 296,
    "start_time": "2024-10-28T11:56:35.467Z"
   },
   {
    "duration": 445,
    "start_time": "2024-10-28T11:56:45.805Z"
   },
   {
    "duration": 390,
    "start_time": "2024-10-28T11:56:55.719Z"
   },
   {
    "duration": 345,
    "start_time": "2024-10-28T11:57:09.047Z"
   },
   {
    "duration": 343,
    "start_time": "2024-10-28T11:57:27.041Z"
   },
   {
    "duration": 717,
    "start_time": "2024-10-28T11:57:38.498Z"
   },
   {
    "duration": 116,
    "start_time": "2024-10-28T11:57:39.217Z"
   },
   {
    "duration": 29,
    "start_time": "2024-10-28T11:57:39.335Z"
   },
   {
    "duration": 440,
    "start_time": "2024-10-28T11:57:39.366Z"
   },
   {
    "duration": 9,
    "start_time": "2024-10-28T11:57:39.808Z"
   },
   {
    "duration": 68,
    "start_time": "2024-10-28T11:57:39.819Z"
   },
   {
    "duration": 352,
    "start_time": "2024-10-28T11:57:39.889Z"
   },
   {
    "duration": 684,
    "start_time": "2024-10-28T11:58:10.069Z"
   },
   {
    "duration": 113,
    "start_time": "2024-10-28T11:58:10.755Z"
   },
   {
    "duration": 36,
    "start_time": "2024-10-28T11:58:10.870Z"
   },
   {
    "duration": 2109,
    "start_time": "2024-10-28T11:58:10.908Z"
   },
   {
    "duration": 12,
    "start_time": "2024-10-28T11:58:13.019Z"
   },
   {
    "duration": 34,
    "start_time": "2024-10-28T11:58:13.032Z"
   },
   {
    "duration": 375,
    "start_time": "2024-10-28T11:58:13.068Z"
   },
   {
    "duration": 9,
    "start_time": "2024-10-28T12:04:37.892Z"
   },
   {
    "duration": 4,
    "start_time": "2024-10-28T12:09:18.102Z"
   },
   {
    "duration": 8,
    "start_time": "2024-10-28T12:16:20.102Z"
   },
   {
    "duration": 72,
    "start_time": "2024-10-28T12:16:39.728Z"
   },
   {
    "duration": 6,
    "start_time": "2024-10-28T12:16:46.457Z"
   },
   {
    "duration": 6,
    "start_time": "2024-10-28T12:19:04.505Z"
   },
   {
    "duration": 69,
    "start_time": "2024-10-28T12:21:08.700Z"
   },
   {
    "duration": 68,
    "start_time": "2024-10-28T12:21:24.949Z"
   },
   {
    "duration": 72,
    "start_time": "2024-10-28T12:22:35.183Z"
   },
   {
    "duration": 56,
    "start_time": "2024-10-28T12:22:57.631Z"
   },
   {
    "duration": 57,
    "start_time": "2024-10-28T12:23:34.381Z"
   },
   {
    "duration": 54,
    "start_time": "2024-10-28T12:23:54.893Z"
   },
   {
    "duration": 6,
    "start_time": "2024-10-28T12:24:08.933Z"
   },
   {
    "duration": 60,
    "start_time": "2024-10-28T12:25:12.270Z"
   },
   {
    "duration": 80,
    "start_time": "2024-10-28T12:26:02.519Z"
   },
   {
    "duration": 77,
    "start_time": "2024-10-28T12:27:02.796Z"
   },
   {
    "duration": 82,
    "start_time": "2024-10-28T12:31:12.389Z"
   },
   {
    "duration": 79,
    "start_time": "2024-10-28T12:33:29.700Z"
   },
   {
    "duration": 56,
    "start_time": "2024-10-28T12:33:59.718Z"
   },
   {
    "duration": 54,
    "start_time": "2024-10-28T12:34:19.009Z"
   },
   {
    "duration": 6,
    "start_time": "2024-10-28T12:34:47.577Z"
   },
   {
    "duration": 656,
    "start_time": "2024-10-28T12:34:56.402Z"
   },
   {
    "duration": 113,
    "start_time": "2024-10-28T12:34:57.060Z"
   },
   {
    "duration": 33,
    "start_time": "2024-10-28T12:34:57.175Z"
   },
   {
    "duration": 1943,
    "start_time": "2024-10-28T12:34:57.210Z"
   },
   {
    "duration": 9,
    "start_time": "2024-10-28T12:34:59.155Z"
   },
   {
    "duration": 17,
    "start_time": "2024-10-28T12:34:59.166Z"
   },
   {
    "duration": 79,
    "start_time": "2024-10-28T12:34:59.184Z"
   },
   {
    "duration": 0,
    "start_time": "2024-10-28T12:34:59.265Z"
   },
   {
    "duration": 0,
    "start_time": "2024-10-28T12:34:59.266Z"
   },
   {
    "duration": 14,
    "start_time": "2024-10-28T12:35:08.788Z"
   },
   {
    "duration": 14,
    "start_time": "2024-10-28T12:36:21.776Z"
   },
   {
    "duration": 610,
    "start_time": "2024-10-28T12:36:26.836Z"
   },
   {
    "duration": 114,
    "start_time": "2024-10-28T12:36:27.448Z"
   },
   {
    "duration": 27,
    "start_time": "2024-10-28T12:36:27.563Z"
   },
   {
    "duration": 2128,
    "start_time": "2024-10-28T12:36:27.601Z"
   },
   {
    "duration": 10,
    "start_time": "2024-10-28T12:36:29.730Z"
   },
   {
    "duration": 14,
    "start_time": "2024-10-28T12:36:29.742Z"
   },
   {
    "duration": 99,
    "start_time": "2024-10-28T12:36:29.758Z"
   },
   {
    "duration": 0,
    "start_time": "2024-10-28T12:36:29.859Z"
   },
   {
    "duration": 0,
    "start_time": "2024-10-28T12:36:29.860Z"
   },
   {
    "duration": 14,
    "start_time": "2024-10-28T12:38:06.493Z"
   },
   {
    "duration": 9,
    "start_time": "2024-10-28T12:38:18.724Z"
   },
   {
    "duration": 8,
    "start_time": "2024-10-28T12:38:26.318Z"
   },
   {
    "duration": 8,
    "start_time": "2024-10-28T12:39:21.546Z"
   },
   {
    "duration": 58,
    "start_time": "2024-10-28T12:40:52.698Z"
   },
   {
    "duration": 53,
    "start_time": "2024-10-28T12:41:01.090Z"
   },
   {
    "duration": 83,
    "start_time": "2024-10-28T12:42:35.905Z"
   },
   {
    "duration": 80,
    "start_time": "2024-10-28T12:42:44.147Z"
   },
   {
    "duration": 97,
    "start_time": "2024-10-28T12:43:06.763Z"
   },
   {
    "duration": 97,
    "start_time": "2024-10-28T12:43:16.262Z"
   },
   {
    "duration": 658,
    "start_time": "2024-10-28T12:43:52.709Z"
   },
   {
    "duration": 120,
    "start_time": "2024-10-28T12:43:53.369Z"
   },
   {
    "duration": 30,
    "start_time": "2024-10-28T12:43:53.491Z"
   },
   {
    "duration": 2026,
    "start_time": "2024-10-28T12:43:53.523Z"
   },
   {
    "duration": 10,
    "start_time": "2024-10-28T12:43:55.550Z"
   },
   {
    "duration": 34,
    "start_time": "2024-10-28T12:43:55.561Z"
   },
   {
    "duration": 14,
    "start_time": "2024-10-28T12:43:55.597Z"
   },
   {
    "duration": 97,
    "start_time": "2024-10-28T12:43:55.613Z"
   },
   {
    "duration": 1919,
    "start_time": "2024-10-28T12:43:55.712Z"
   },
   {
    "duration": 648,
    "start_time": "2024-10-28T12:44:20.761Z"
   },
   {
    "duration": 115,
    "start_time": "2024-10-28T12:44:21.411Z"
   },
   {
    "duration": 30,
    "start_time": "2024-10-28T12:44:21.529Z"
   },
   {
    "duration": 2116,
    "start_time": "2024-10-28T12:44:21.562Z"
   },
   {
    "duration": 11,
    "start_time": "2024-10-28T12:44:23.680Z"
   },
   {
    "duration": 16,
    "start_time": "2024-10-28T12:44:23.693Z"
   },
   {
    "duration": 12,
    "start_time": "2024-10-28T12:44:23.712Z"
   },
   {
    "duration": 70,
    "start_time": "2024-10-28T12:44:23.727Z"
   },
   {
    "duration": 0,
    "start_time": "2024-10-28T12:44:23.799Z"
   },
   {
    "duration": 99,
    "start_time": "2024-10-28T12:44:29.939Z"
   },
   {
    "duration": 79,
    "start_time": "2024-10-28T12:44:40.481Z"
   },
   {
    "duration": 81,
    "start_time": "2024-10-28T12:44:50.397Z"
   },
   {
    "duration": 677,
    "start_time": "2024-10-28T12:45:09.295Z"
   },
   {
    "duration": 127,
    "start_time": "2024-10-28T12:45:09.975Z"
   },
   {
    "duration": 30,
    "start_time": "2024-10-28T12:45:10.104Z"
   },
   {
    "duration": 1977,
    "start_time": "2024-10-28T12:45:10.136Z"
   },
   {
    "duration": 10,
    "start_time": "2024-10-28T12:45:12.115Z"
   },
   {
    "duration": 18,
    "start_time": "2024-10-28T12:45:12.126Z"
   },
   {
    "duration": 14,
    "start_time": "2024-10-28T12:45:12.146Z"
   },
   {
    "duration": 83,
    "start_time": "2024-10-28T12:45:12.162Z"
   },
   {
    "duration": 2004,
    "start_time": "2024-10-28T12:45:12.246Z"
   },
   {
    "duration": 56,
    "start_time": "2024-10-28T12:45:34.481Z"
   },
   {
    "duration": 673,
    "start_time": "2024-10-28T12:45:42.692Z"
   },
   {
    "duration": 117,
    "start_time": "2024-10-28T12:45:43.367Z"
   },
   {
    "duration": 35,
    "start_time": "2024-10-28T12:45:43.486Z"
   },
   {
    "duration": 1986,
    "start_time": "2024-10-28T12:45:43.523Z"
   },
   {
    "duration": 10,
    "start_time": "2024-10-28T12:45:45.510Z"
   },
   {
    "duration": 45,
    "start_time": "2024-10-28T12:45:45.521Z"
   },
   {
    "duration": 27,
    "start_time": "2024-10-28T12:45:45.567Z"
   },
   {
    "duration": 54,
    "start_time": "2024-10-28T12:45:45.596Z"
   },
   {
    "duration": 1935,
    "start_time": "2024-10-28T12:45:45.652Z"
   },
   {
    "duration": 121,
    "start_time": "2024-10-28T12:49:39.990Z"
   },
   {
    "duration": 135,
    "start_time": "2024-10-28T12:50:29.072Z"
   },
   {
    "duration": 57,
    "start_time": "2024-10-28T12:53:31.082Z"
   },
   {
    "duration": 126,
    "start_time": "2024-10-28T12:54:40.740Z"
   },
   {
    "duration": 68,
    "start_time": "2024-10-28T12:55:46.154Z"
   },
   {
    "duration": 77,
    "start_time": "2024-10-28T12:57:05.156Z"
   },
   {
    "duration": 97,
    "start_time": "2024-10-28T12:57:31.026Z"
   },
   {
    "duration": 116,
    "start_time": "2024-10-28T12:59:35.682Z"
   },
   {
    "duration": 10,
    "start_time": "2024-10-28T13:23:54.164Z"
   },
   {
    "duration": 4,
    "start_time": "2024-10-28T13:25:10.520Z"
   },
   {
    "duration": 46,
    "start_time": "2024-10-28T13:25:19.603Z"
   },
   {
    "duration": 45,
    "start_time": "2024-10-28T13:25:35.587Z"
   },
   {
    "duration": 43,
    "start_time": "2024-10-28T13:25:58.691Z"
   },
   {
    "duration": 44,
    "start_time": "2024-10-28T13:26:07.707Z"
   },
   {
    "duration": 12,
    "start_time": "2024-10-28T13:34:54.195Z"
   },
   {
    "duration": 17,
    "start_time": "2024-10-28T13:38:35.120Z"
   },
   {
    "duration": 13,
    "start_time": "2024-10-28T13:38:46.409Z"
   },
   {
    "duration": 11,
    "start_time": "2024-10-28T13:40:59.931Z"
   },
   {
    "duration": 54,
    "start_time": "2024-10-28T13:41:05.795Z"
   },
   {
    "duration": 17,
    "start_time": "2024-10-28T13:41:34.679Z"
   },
   {
    "duration": 7,
    "start_time": "2024-10-28T13:42:15.223Z"
   },
   {
    "duration": 58,
    "start_time": "2024-10-28T13:42:20.975Z"
   },
   {
    "duration": 9,
    "start_time": "2024-10-28T13:46:27.393Z"
   },
   {
    "duration": 12,
    "start_time": "2024-10-28T13:47:15.351Z"
   },
   {
    "duration": 48,
    "start_time": "2024-10-28T13:47:19.703Z"
   },
   {
    "duration": 3,
    "start_time": "2024-10-28T15:37:27.562Z"
   },
   {
    "duration": 325,
    "start_time": "2024-10-28T15:37:29.149Z"
   },
   {
    "duration": 2,
    "start_time": "2024-10-28T15:37:51.729Z"
   },
   {
    "duration": 364,
    "start_time": "2024-10-28T15:37:55.192Z"
   },
   {
    "duration": 3,
    "start_time": "2024-10-28T15:38:33.241Z"
   },
   {
    "duration": 7,
    "start_time": "2024-10-28T15:38:36.338Z"
   },
   {
    "duration": 14,
    "start_time": "2024-10-28T15:39:31.749Z"
   },
   {
    "duration": 10,
    "start_time": "2024-10-28T15:54:14.153Z"
   },
   {
    "duration": 11,
    "start_time": "2024-10-28T15:54:25.485Z"
   },
   {
    "duration": 663,
    "start_time": "2024-10-28T15:54:49.184Z"
   },
   {
    "duration": 117,
    "start_time": "2024-10-28T15:54:49.849Z"
   },
   {
    "duration": 42,
    "start_time": "2024-10-28T15:54:49.972Z"
   },
   {
    "duration": 2086,
    "start_time": "2024-10-28T15:54:50.015Z"
   },
   {
    "duration": 11,
    "start_time": "2024-10-28T15:54:52.102Z"
   },
   {
    "duration": 27,
    "start_time": "2024-10-28T15:54:52.114Z"
   },
   {
    "duration": 83,
    "start_time": "2024-10-28T15:54:52.143Z"
   },
   {
    "duration": 0,
    "start_time": "2024-10-28T15:54:52.229Z"
   },
   {
    "duration": 0,
    "start_time": "2024-10-28T15:54:52.230Z"
   },
   {
    "duration": 0,
    "start_time": "2024-10-28T15:54:52.231Z"
   },
   {
    "duration": 0,
    "start_time": "2024-10-28T15:54:52.233Z"
   },
   {
    "duration": 0,
    "start_time": "2024-10-28T15:54:52.234Z"
   },
   {
    "duration": 631,
    "start_time": "2024-10-28T15:55:28.913Z"
   },
   {
    "duration": 111,
    "start_time": "2024-10-28T15:55:29.546Z"
   },
   {
    "duration": 27,
    "start_time": "2024-10-28T15:55:29.659Z"
   },
   {
    "duration": 2014,
    "start_time": "2024-10-28T15:55:29.699Z"
   },
   {
    "duration": 10,
    "start_time": "2024-10-28T15:55:31.715Z"
   },
   {
    "duration": 128,
    "start_time": "2024-10-28T15:55:31.727Z"
   },
   {
    "duration": 13,
    "start_time": "2024-10-28T15:55:31.857Z"
   },
   {
    "duration": 117,
    "start_time": "2024-10-28T15:55:31.872Z"
   },
   {
    "duration": 9,
    "start_time": "2024-10-28T15:55:31.991Z"
   },
   {
    "duration": 20,
    "start_time": "2024-10-28T15:55:32.001Z"
   },
   {
    "duration": 65,
    "start_time": "2024-10-28T15:55:32.023Z"
   },
   {
    "duration": 0,
    "start_time": "2024-10-28T15:55:32.090Z"
   },
   {
    "duration": 17,
    "start_time": "2024-10-28T15:56:59.064Z"
   },
   {
    "duration": 14,
    "start_time": "2024-10-28T15:57:06.134Z"
   },
   {
    "duration": 3,
    "start_time": "2024-10-28T15:59:59.432Z"
   },
   {
    "duration": 310,
    "start_time": "2024-10-28T16:00:02.440Z"
   },
   {
    "duration": 70,
    "start_time": "2024-10-28T16:09:16.816Z"
   },
   {
    "duration": 3,
    "start_time": "2024-10-28T16:09:29.250Z"
   },
   {
    "duration": 257,
    "start_time": "2024-10-28T16:09:34.182Z"
   },
   {
    "duration": 8,
    "start_time": "2024-10-28T16:10:20.048Z"
   },
   {
    "duration": 3,
    "start_time": "2024-10-28T16:22:22.846Z"
   },
   {
    "duration": 8,
    "start_time": "2024-10-28T16:22:34.822Z"
   },
   {
    "duration": 48,
    "start_time": "2024-10-28T16:22:45.202Z"
   },
   {
    "duration": 3,
    "start_time": "2024-10-28T16:30:10.008Z"
   },
   {
    "duration": 259,
    "start_time": "2024-10-28T16:31:24.410Z"
   },
   {
    "duration": 39,
    "start_time": "2024-10-28T16:32:37.626Z"
   },
   {
    "duration": 9,
    "start_time": "2024-10-28T17:01:12.386Z"
   },
   {
    "duration": 4,
    "start_time": "2024-10-28T17:01:15.401Z"
   },
   {
    "duration": 247,
    "start_time": "2024-10-28T17:01:16.170Z"
   },
   {
    "duration": 12,
    "start_time": "2024-10-28T17:01:52.303Z"
   },
   {
    "duration": 10,
    "start_time": "2024-10-28T17:02:07.021Z"
   },
   {
    "duration": 618,
    "start_time": "2024-10-28T17:02:55.236Z"
   },
   {
    "duration": 117,
    "start_time": "2024-10-28T17:02:55.856Z"
   },
   {
    "duration": 44,
    "start_time": "2024-10-28T17:02:55.974Z"
   },
   {
    "duration": 2101,
    "start_time": "2024-10-28T17:02:56.020Z"
   },
   {
    "duration": 12,
    "start_time": "2024-10-28T17:02:58.123Z"
   },
   {
    "duration": 36,
    "start_time": "2024-10-28T17:02:58.137Z"
   },
   {
    "duration": 18,
    "start_time": "2024-10-28T17:02:58.175Z"
   },
   {
    "duration": 156,
    "start_time": "2024-10-28T17:02:58.195Z"
   },
   {
    "duration": 6,
    "start_time": "2024-10-28T17:02:58.353Z"
   },
   {
    "duration": 15,
    "start_time": "2024-10-28T17:02:58.361Z"
   },
   {
    "duration": 4,
    "start_time": "2024-10-28T17:02:58.377Z"
   },
   {
    "duration": 20,
    "start_time": "2024-10-28T17:02:58.405Z"
   },
   {
    "duration": 12,
    "start_time": "2024-10-28T17:03:13.336Z"
   },
   {
    "duration": 61,
    "start_time": "2024-10-28T17:03:21.857Z"
   },
   {
    "duration": 56,
    "start_time": "2024-10-28T17:04:01.842Z"
   },
   {
    "duration": 364,
    "start_time": "2024-10-28T17:10:12.284Z"
   },
   {
    "duration": 57,
    "start_time": "2024-10-28T17:10:16.664Z"
   },
   {
    "duration": 39,
    "start_time": "2024-10-28T17:10:38.913Z"
   },
   {
    "duration": 659,
    "start_time": "2024-10-28T17:11:11.193Z"
   },
   {
    "duration": 124,
    "start_time": "2024-10-28T17:11:11.854Z"
   },
   {
    "duration": 48,
    "start_time": "2024-10-28T17:11:11.980Z"
   },
   {
    "duration": 2090,
    "start_time": "2024-10-28T17:11:12.031Z"
   },
   {
    "duration": 12,
    "start_time": "2024-10-28T17:11:14.123Z"
   },
   {
    "duration": 14,
    "start_time": "2024-10-28T17:11:14.136Z"
   },
   {
    "duration": 22,
    "start_time": "2024-10-28T17:11:14.152Z"
   },
   {
    "duration": 143,
    "start_time": "2024-10-28T17:11:14.175Z"
   },
   {
    "duration": 8,
    "start_time": "2024-10-28T17:11:14.320Z"
   },
   {
    "duration": 12,
    "start_time": "2024-10-28T17:11:14.331Z"
   },
   {
    "duration": 385,
    "start_time": "2024-10-28T17:11:14.344Z"
   },
   {
    "duration": 38,
    "start_time": "2024-10-28T17:11:14.731Z"
   },
   {
    "duration": 7,
    "start_time": "2024-10-28T17:13:58.929Z"
   },
   {
    "duration": 87,
    "start_time": "2024-10-28T17:15:01.230Z"
   },
   {
    "duration": 5,
    "start_time": "2024-10-28T17:15:17.519Z"
   },
   {
    "duration": 42,
    "start_time": "2024-10-28T17:15:24.031Z"
   },
   {
    "duration": 41,
    "start_time": "2024-10-28T17:16:24.013Z"
   },
   {
    "duration": 49,
    "start_time": "2024-10-28T17:16:57.575Z"
   },
   {
    "duration": 50,
    "start_time": "2024-10-28T17:17:10.275Z"
   },
   {
    "duration": 13,
    "start_time": "2024-10-28T17:18:51.324Z"
   },
   {
    "duration": 17,
    "start_time": "2024-10-28T17:19:46.631Z"
   },
   {
    "duration": 48,
    "start_time": "2024-10-28T17:19:58.351Z"
   },
   {
    "duration": 17,
    "start_time": "2024-10-28T17:25:56.608Z"
   },
   {
    "duration": 1056,
    "start_time": "2024-10-28T17:30:29.583Z"
   },
   {
    "duration": 1055,
    "start_time": "2024-10-28T17:30:41.437Z"
   },
   {
    "duration": 13,
    "start_time": "2024-10-28T17:31:10.564Z"
   },
   {
    "duration": 11,
    "start_time": "2024-10-28T17:31:14.029Z"
   },
   {
    "duration": 46,
    "start_time": "2024-10-28T17:31:22.219Z"
   },
   {
    "duration": 47,
    "start_time": "2024-10-30T07:40:06.046Z"
   },
   {
    "duration": 817,
    "start_time": "2024-10-30T07:44:41.433Z"
   },
   {
    "duration": 183,
    "start_time": "2024-10-30T07:44:42.252Z"
   },
   {
    "duration": 30,
    "start_time": "2024-10-30T07:44:42.436Z"
   },
   {
    "duration": 1903,
    "start_time": "2024-10-30T07:44:42.468Z"
   },
   {
    "duration": 9,
    "start_time": "2024-10-30T07:44:44.373Z"
   },
   {
    "duration": 12,
    "start_time": "2024-10-30T07:44:44.383Z"
   },
   {
    "duration": 15,
    "start_time": "2024-10-30T07:44:44.396Z"
   },
   {
    "duration": 179,
    "start_time": "2024-10-30T07:44:44.412Z"
   },
   {
    "duration": 6,
    "start_time": "2024-10-30T07:44:44.592Z"
   },
   {
    "duration": 16,
    "start_time": "2024-10-30T07:44:44.600Z"
   },
   {
    "duration": 342,
    "start_time": "2024-10-30T07:44:44.618Z"
   },
   {
    "duration": 4,
    "start_time": "2024-10-30T07:44:44.962Z"
   },
   {
    "duration": 352,
    "start_time": "2024-10-30T07:44:44.967Z"
   },
   {
    "duration": 140,
    "start_time": "2024-10-30T07:45:02.358Z"
   },
   {
    "duration": 149,
    "start_time": "2024-10-30T07:45:15.070Z"
   },
   {
    "duration": 308,
    "start_time": "2024-10-30T07:45:22.007Z"
   },
   {
    "duration": 239,
    "start_time": "2024-10-30T07:45:37.380Z"
   },
   {
    "duration": 236,
    "start_time": "2024-10-30T07:45:42.278Z"
   },
   {
    "duration": 257,
    "start_time": "2024-10-30T07:45:49.568Z"
   },
   {
    "duration": 238,
    "start_time": "2024-10-30T07:47:10.725Z"
   },
   {
    "duration": 289,
    "start_time": "2024-10-30T07:47:23.939Z"
   },
   {
    "duration": 262,
    "start_time": "2024-10-30T07:47:29.737Z"
   },
   {
    "duration": 258,
    "start_time": "2024-10-30T07:48:25.503Z"
   },
   {
    "duration": 44,
    "start_time": "2024-10-30T07:51:31.438Z"
   },
   {
    "duration": 18,
    "start_time": "2024-10-30T07:51:38.207Z"
   },
   {
    "duration": 28,
    "start_time": "2024-10-30T07:51:43.050Z"
   },
   {
    "duration": 18,
    "start_time": "2024-10-30T07:55:49.639Z"
   },
   {
    "duration": 19,
    "start_time": "2024-10-30T07:56:52.965Z"
   },
   {
    "duration": 245,
    "start_time": "2024-10-30T07:57:03.635Z"
   },
   {
    "duration": 226,
    "start_time": "2024-10-30T07:57:12.335Z"
   },
   {
    "duration": 1358,
    "start_time": "2024-10-30T07:57:20.369Z"
   },
   {
    "duration": 1483,
    "start_time": "2024-10-30T07:57:34.512Z"
   },
   {
    "duration": 379,
    "start_time": "2024-10-30T07:57:43.138Z"
   },
   {
    "duration": 244,
    "start_time": "2024-10-30T08:00:11.024Z"
   },
   {
    "duration": 311,
    "start_time": "2024-10-30T08:00:38.858Z"
   },
   {
    "duration": 360,
    "start_time": "2024-10-30T08:01:38.875Z"
   },
   {
    "duration": 273,
    "start_time": "2024-10-30T08:02:41.116Z"
   },
   {
    "duration": 1389,
    "start_time": "2024-10-30T08:02:53.202Z"
   },
   {
    "duration": 26,
    "start_time": "2024-10-30T08:04:06.676Z"
   },
   {
    "duration": 29,
    "start_time": "2024-10-30T08:04:33.022Z"
   },
   {
    "duration": 343,
    "start_time": "2024-10-30T08:05:15.738Z"
   },
   {
    "duration": 252,
    "start_time": "2024-10-30T08:08:55.640Z"
   },
   {
    "duration": 295,
    "start_time": "2024-10-30T08:09:19.159Z"
   },
   {
    "duration": 406,
    "start_time": "2024-10-30T08:09:28.256Z"
   },
   {
    "duration": 170,
    "start_time": "2024-10-30T08:09:39.332Z"
   },
   {
    "duration": 490,
    "start_time": "2024-10-30T08:09:47.493Z"
   },
   {
    "duration": 254,
    "start_time": "2024-10-30T08:09:54.620Z"
   },
   {
    "duration": 232,
    "start_time": "2024-10-30T08:11:54.468Z"
   },
   {
    "duration": 252,
    "start_time": "2024-10-30T08:12:15.950Z"
   },
   {
    "duration": 259,
    "start_time": "2024-10-30T08:12:23.066Z"
   },
   {
    "duration": 269,
    "start_time": "2024-10-30T08:14:24.600Z"
   },
   {
    "duration": 44,
    "start_time": "2024-10-30T08:15:15.983Z"
   },
   {
    "duration": 248,
    "start_time": "2024-10-30T08:18:33.688Z"
   },
   {
    "duration": 238,
    "start_time": "2024-10-30T08:20:21.140Z"
   },
   {
    "duration": 39,
    "start_time": "2024-10-30T08:20:45.393Z"
   },
   {
    "duration": 10,
    "start_time": "2024-10-30T08:21:30.014Z"
   },
   {
    "duration": 35,
    "start_time": "2024-10-30T08:21:40.514Z"
   },
   {
    "duration": 54,
    "start_time": "2024-10-30T08:22:40.759Z"
   },
   {
    "duration": 248,
    "start_time": "2024-10-30T08:23:52.154Z"
   },
   {
    "duration": 262,
    "start_time": "2024-10-30T08:25:06.252Z"
   },
   {
    "duration": 254,
    "start_time": "2024-10-30T08:25:11.193Z"
   },
   {
    "duration": 516,
    "start_time": "2024-10-30T08:25:13.238Z"
   },
   {
    "duration": 275,
    "start_time": "2024-10-30T08:25:40.535Z"
   },
   {
    "duration": 248,
    "start_time": "2024-10-30T08:26:51.354Z"
   },
   {
    "duration": 266,
    "start_time": "2024-10-30T08:27:03.440Z"
   },
   {
    "duration": 243,
    "start_time": "2024-10-30T08:27:14.115Z"
   },
   {
    "duration": 242,
    "start_time": "2024-10-30T08:27:20.931Z"
   },
   {
    "duration": 230,
    "start_time": "2024-10-30T08:27:35.058Z"
   },
   {
    "duration": 247,
    "start_time": "2024-10-30T08:27:40.218Z"
   },
   {
    "duration": 226,
    "start_time": "2024-10-30T08:27:48.898Z"
   },
   {
    "duration": 233,
    "start_time": "2024-10-30T08:27:57.131Z"
   },
   {
    "duration": 236,
    "start_time": "2024-10-30T08:28:03.799Z"
   },
   {
    "duration": 225,
    "start_time": "2024-10-30T08:28:12.533Z"
   },
   {
    "duration": 653,
    "start_time": "2024-10-30T08:28:51.522Z"
   },
   {
    "duration": 122,
    "start_time": "2024-10-30T08:28:52.177Z"
   },
   {
    "duration": 28,
    "start_time": "2024-10-30T08:28:52.301Z"
   },
   {
    "duration": 1892,
    "start_time": "2024-10-30T08:28:52.331Z"
   },
   {
    "duration": 9,
    "start_time": "2024-10-30T08:28:54.225Z"
   },
   {
    "duration": 21,
    "start_time": "2024-10-30T08:28:54.235Z"
   },
   {
    "duration": 22,
    "start_time": "2024-10-30T08:28:54.258Z"
   },
   {
    "duration": 132,
    "start_time": "2024-10-30T08:28:54.281Z"
   },
   {
    "duration": 5,
    "start_time": "2024-10-30T08:28:54.414Z"
   },
   {
    "duration": 31,
    "start_time": "2024-10-30T08:28:54.420Z"
   },
   {
    "duration": 326,
    "start_time": "2024-10-30T08:28:54.452Z"
   },
   {
    "duration": 5,
    "start_time": "2024-10-30T08:28:54.780Z"
   },
   {
    "duration": 268,
    "start_time": "2024-10-30T08:28:54.787Z"
   },
   {
    "duration": 358,
    "start_time": "2024-10-30T08:28:55.058Z"
   },
   {
    "duration": 244,
    "start_time": "2024-10-30T08:28:55.418Z"
   },
   {
    "duration": 250,
    "start_time": "2024-10-30T08:29:04.969Z"
   },
   {
    "duration": 226,
    "start_time": "2024-10-30T08:29:12.993Z"
   },
   {
    "duration": 231,
    "start_time": "2024-10-30T08:29:29.072Z"
   },
   {
    "duration": 370,
    "start_time": "2024-10-30T08:30:12.161Z"
   },
   {
    "duration": 11,
    "start_time": "2024-10-30T08:30:21.023Z"
   },
   {
    "duration": 10,
    "start_time": "2024-10-30T08:30:32.412Z"
   },
   {
    "duration": 235,
    "start_time": "2024-10-30T08:30:53.592Z"
   },
   {
    "duration": 329,
    "start_time": "2024-10-30T08:31:00.726Z"
   },
   {
    "duration": 245,
    "start_time": "2024-10-30T08:31:10.779Z"
   },
   {
    "duration": 1232,
    "start_time": "2024-10-30T08:31:18.113Z"
   },
   {
    "duration": 120,
    "start_time": "2024-10-30T08:31:19.346Z"
   },
   {
    "duration": 27,
    "start_time": "2024-10-30T08:31:19.468Z"
   },
   {
    "duration": 2094,
    "start_time": "2024-10-30T08:31:19.497Z"
   },
   {
    "duration": 10,
    "start_time": "2024-10-30T08:31:21.592Z"
   },
   {
    "duration": 53,
    "start_time": "2024-10-30T08:31:21.603Z"
   },
   {
    "duration": 14,
    "start_time": "2024-10-30T08:31:21.658Z"
   },
   {
    "duration": 118,
    "start_time": "2024-10-30T08:31:21.674Z"
   },
   {
    "duration": 5,
    "start_time": "2024-10-30T08:31:21.793Z"
   },
   {
    "duration": 13,
    "start_time": "2024-10-30T08:31:21.800Z"
   },
   {
    "duration": 341,
    "start_time": "2024-10-30T08:31:21.815Z"
   },
   {
    "duration": 4,
    "start_time": "2024-10-30T08:31:22.158Z"
   },
   {
    "duration": 244,
    "start_time": "2024-10-30T08:31:22.163Z"
   },
   {
    "duration": 348,
    "start_time": "2024-10-30T08:31:22.408Z"
   },
   {
    "duration": 251,
    "start_time": "2024-10-30T08:31:22.758Z"
   },
   {
    "duration": 237,
    "start_time": "2024-10-30T08:33:17.459Z"
   },
   {
    "duration": 242,
    "start_time": "2024-10-30T08:33:49.602Z"
   },
   {
    "duration": 630,
    "start_time": "2024-10-30T08:33:54.658Z"
   },
   {
    "duration": 110,
    "start_time": "2024-10-30T08:33:55.292Z"
   },
   {
    "duration": 28,
    "start_time": "2024-10-30T08:33:55.403Z"
   },
   {
    "duration": 1942,
    "start_time": "2024-10-30T08:33:55.433Z"
   },
   {
    "duration": 9,
    "start_time": "2024-10-30T08:33:57.377Z"
   },
   {
    "duration": 63,
    "start_time": "2024-10-30T08:33:57.387Z"
   },
   {
    "duration": 161,
    "start_time": "2024-10-30T08:33:57.452Z"
   },
   {
    "duration": 177,
    "start_time": "2024-10-30T08:33:57.614Z"
   },
   {
    "duration": 5,
    "start_time": "2024-10-30T08:33:57.792Z"
   },
   {
    "duration": 31,
    "start_time": "2024-10-30T08:33:57.799Z"
   },
   {
    "duration": 334,
    "start_time": "2024-10-30T08:33:57.832Z"
   },
   {
    "duration": 5,
    "start_time": "2024-10-30T08:33:58.167Z"
   },
   {
    "duration": 261,
    "start_time": "2024-10-30T08:33:58.174Z"
   },
   {
    "duration": 365,
    "start_time": "2024-10-30T08:33:58.437Z"
   },
   {
    "duration": 271,
    "start_time": "2024-10-30T08:33:58.804Z"
   },
   {
    "duration": 225,
    "start_time": "2024-10-30T08:37:41.693Z"
   },
   {
    "duration": 632,
    "start_time": "2024-10-30T08:38:50.950Z"
   },
   {
    "duration": 109,
    "start_time": "2024-10-30T08:38:51.584Z"
   },
   {
    "duration": 27,
    "start_time": "2024-10-30T08:38:51.694Z"
   },
   {
    "duration": 1929,
    "start_time": "2024-10-30T08:38:51.722Z"
   },
   {
    "duration": 9,
    "start_time": "2024-10-30T08:38:53.653Z"
   },
   {
    "duration": 33,
    "start_time": "2024-10-30T08:38:53.664Z"
   },
   {
    "duration": 15,
    "start_time": "2024-10-30T08:38:53.699Z"
   },
   {
    "duration": 118,
    "start_time": "2024-10-30T08:38:53.716Z"
   },
   {
    "duration": 5,
    "start_time": "2024-10-30T08:38:53.836Z"
   },
   {
    "duration": 25,
    "start_time": "2024-10-30T08:38:53.843Z"
   },
   {
    "duration": 309,
    "start_time": "2024-10-30T08:38:53.870Z"
   },
   {
    "duration": 4,
    "start_time": "2024-10-30T08:38:54.181Z"
   },
   {
    "duration": 249,
    "start_time": "2024-10-30T08:38:54.187Z"
   },
   {
    "duration": 335,
    "start_time": "2024-10-30T08:38:54.443Z"
   },
   {
    "duration": 246,
    "start_time": "2024-10-30T08:38:54.779Z"
   },
   {
    "duration": 235,
    "start_time": "2024-10-30T08:38:55.026Z"
   },
   {
    "duration": 319,
    "start_time": "2024-10-30T08:40:00.752Z"
   },
   {
    "duration": 348,
    "start_time": "2024-10-30T08:40:11.788Z"
   },
   {
    "duration": 575,
    "start_time": "2024-10-30T08:40:17.701Z"
   },
   {
    "duration": 111,
    "start_time": "2024-10-30T08:40:18.277Z"
   },
   {
    "duration": 28,
    "start_time": "2024-10-30T08:40:18.390Z"
   },
   {
    "duration": 1928,
    "start_time": "2024-10-30T08:40:18.419Z"
   },
   {
    "duration": 10,
    "start_time": "2024-10-30T08:40:20.349Z"
   },
   {
    "duration": 47,
    "start_time": "2024-10-30T08:40:20.360Z"
   },
   {
    "duration": 56,
    "start_time": "2024-10-30T08:40:20.410Z"
   },
   {
    "duration": 116,
    "start_time": "2024-10-30T08:40:20.468Z"
   },
   {
    "duration": 6,
    "start_time": "2024-10-30T08:40:20.586Z"
   },
   {
    "duration": 54,
    "start_time": "2024-10-30T08:40:20.593Z"
   },
   {
    "duration": 367,
    "start_time": "2024-10-30T08:40:20.649Z"
   },
   {
    "duration": 4,
    "start_time": "2024-10-30T08:40:21.018Z"
   },
   {
    "duration": 270,
    "start_time": "2024-10-30T08:40:21.023Z"
   },
   {
    "duration": 338,
    "start_time": "2024-10-30T08:40:21.295Z"
   },
   {
    "duration": 273,
    "start_time": "2024-10-30T08:40:21.634Z"
   },
   {
    "duration": 293,
    "start_time": "2024-10-30T08:40:21.908Z"
   },
   {
    "duration": 236,
    "start_time": "2024-10-30T08:40:33.310Z"
   },
   {
    "duration": 631,
    "start_time": "2024-10-30T08:41:16.679Z"
   },
   {
    "duration": 107,
    "start_time": "2024-10-30T08:41:17.312Z"
   },
   {
    "duration": 31,
    "start_time": "2024-10-30T08:41:17.420Z"
   },
   {
    "duration": 1890,
    "start_time": "2024-10-30T08:41:17.453Z"
   },
   {
    "duration": 9,
    "start_time": "2024-10-30T08:41:19.345Z"
   },
   {
    "duration": 60,
    "start_time": "2024-10-30T08:41:19.356Z"
   },
   {
    "duration": 53,
    "start_time": "2024-10-30T08:41:19.418Z"
   },
   {
    "duration": 113,
    "start_time": "2024-10-30T08:41:19.472Z"
   },
   {
    "duration": 18,
    "start_time": "2024-10-30T08:41:19.586Z"
   },
   {
    "duration": 13,
    "start_time": "2024-10-30T08:41:19.606Z"
   },
   {
    "duration": 345,
    "start_time": "2024-10-30T08:41:19.621Z"
   },
   {
    "duration": 6,
    "start_time": "2024-10-30T08:41:19.969Z"
   },
   {
    "duration": 271,
    "start_time": "2024-10-30T08:41:19.979Z"
   },
   {
    "duration": 335,
    "start_time": "2024-10-30T08:41:20.252Z"
   },
   {
    "duration": 266,
    "start_time": "2024-10-30T08:41:20.588Z"
   },
   {
    "duration": 241,
    "start_time": "2024-10-30T08:41:20.855Z"
   },
   {
    "duration": 262,
    "start_time": "2024-10-30T08:42:27.269Z"
   },
   {
    "duration": 272,
    "start_time": "2024-10-30T08:42:51.825Z"
   },
   {
    "duration": 247,
    "start_time": "2024-10-30T08:50:35.254Z"
   },
   {
    "duration": 337,
    "start_time": "2024-10-30T08:50:59.390Z"
   },
   {
    "duration": 238,
    "start_time": "2024-10-30T08:51:17.459Z"
   },
   {
    "duration": 46,
    "start_time": "2024-10-30T08:51:37.514Z"
   },
   {
    "duration": 241,
    "start_time": "2024-10-30T08:52:15.053Z"
   },
   {
    "duration": 57,
    "start_time": "2024-10-31T19:36:12.717Z"
   },
   {
    "duration": 795,
    "start_time": "2024-10-31T19:36:17.261Z"
   },
   {
    "duration": 182,
    "start_time": "2024-10-31T19:36:18.058Z"
   },
   {
    "duration": 32,
    "start_time": "2024-10-31T19:36:18.241Z"
   },
   {
    "duration": 1974,
    "start_time": "2024-10-31T19:36:18.275Z"
   },
   {
    "duration": 10,
    "start_time": "2024-10-31T19:36:20.251Z"
   },
   {
    "duration": 66,
    "start_time": "2024-10-31T19:36:20.263Z"
   },
   {
    "duration": 19,
    "start_time": "2024-10-31T19:36:20.331Z"
   },
   {
    "duration": 121,
    "start_time": "2024-10-31T19:36:20.352Z"
   },
   {
    "duration": 6,
    "start_time": "2024-10-31T19:36:20.475Z"
   },
   {
    "duration": 75,
    "start_time": "2024-10-31T19:36:20.484Z"
   },
   {
    "duration": 347,
    "start_time": "2024-10-31T19:36:20.561Z"
   },
   {
    "duration": 5,
    "start_time": "2024-10-31T19:36:20.909Z"
   },
   {
    "duration": 245,
    "start_time": "2024-10-31T19:36:20.915Z"
   },
   {
    "duration": 329,
    "start_time": "2024-10-31T19:36:21.162Z"
   },
   {
    "duration": 242,
    "start_time": "2024-10-31T19:36:21.493Z"
   },
   {
    "duration": 266,
    "start_time": "2024-10-31T19:36:21.736Z"
   },
   {
    "duration": 259,
    "start_time": "2024-10-31T19:36:22.004Z"
   },
   {
    "duration": 267,
    "start_time": "2024-10-31T19:36:22.265Z"
   },
   {
    "duration": 367,
    "start_time": "2024-10-31T19:37:04.071Z"
   },
   {
    "duration": 283,
    "start_time": "2024-10-31T19:37:18.419Z"
   },
   {
    "duration": 267,
    "start_time": "2024-10-31T19:37:34.585Z"
   },
   {
    "duration": 263,
    "start_time": "2024-10-31T19:37:44.759Z"
   },
   {
    "duration": 470,
    "start_time": "2024-10-31T19:38:56.046Z"
   },
   {
    "duration": 221,
    "start_time": "2024-10-31T19:39:09.692Z"
   },
   {
    "duration": 275,
    "start_time": "2024-10-31T19:39:18.083Z"
   },
   {
    "duration": 276,
    "start_time": "2024-10-31T19:39:27.174Z"
   },
   {
    "duration": 349,
    "start_time": "2024-10-31T19:39:32.789Z"
   },
   {
    "duration": 3,
    "start_time": "2024-10-31T19:40:07.243Z"
   },
   {
    "duration": 5,
    "start_time": "2024-10-31T19:40:19.056Z"
   },
   {
    "duration": 25,
    "start_time": "2024-10-31T19:40:31.763Z"
   },
   {
    "duration": 17,
    "start_time": "2024-10-31T19:41:29.957Z"
   },
   {
    "duration": 668,
    "start_time": "2024-10-31T19:42:19.089Z"
   },
   {
    "duration": 110,
    "start_time": "2024-10-31T19:42:19.759Z"
   },
   {
    "duration": 37,
    "start_time": "2024-10-31T19:42:19.871Z"
   },
   {
    "duration": 1923,
    "start_time": "2024-10-31T19:42:19.910Z"
   },
   {
    "duration": 10,
    "start_time": "2024-10-31T19:42:21.835Z"
   },
   {
    "duration": 21,
    "start_time": "2024-10-31T19:42:21.846Z"
   },
   {
    "duration": 84,
    "start_time": "2024-10-31T19:42:21.869Z"
   },
   {
    "duration": 0,
    "start_time": "2024-10-31T19:42:21.954Z"
   },
   {
    "duration": 0,
    "start_time": "2024-10-31T19:42:21.956Z"
   },
   {
    "duration": 0,
    "start_time": "2024-10-31T19:42:21.957Z"
   },
   {
    "duration": 0,
    "start_time": "2024-10-31T19:42:21.958Z"
   },
   {
    "duration": 0,
    "start_time": "2024-10-31T19:42:21.959Z"
   },
   {
    "duration": 0,
    "start_time": "2024-10-31T19:42:21.960Z"
   },
   {
    "duration": 0,
    "start_time": "2024-10-31T19:42:21.961Z"
   },
   {
    "duration": 0,
    "start_time": "2024-10-31T19:42:21.962Z"
   },
   {
    "duration": 0,
    "start_time": "2024-10-31T19:42:21.963Z"
   },
   {
    "duration": 0,
    "start_time": "2024-10-31T19:42:21.964Z"
   },
   {
    "duration": 0,
    "start_time": "2024-10-31T19:42:21.965Z"
   },
   {
    "duration": 677,
    "start_time": "2024-10-31T19:44:19.698Z"
   },
   {
    "duration": 115,
    "start_time": "2024-10-31T19:44:20.376Z"
   },
   {
    "duration": 31,
    "start_time": "2024-10-31T19:44:20.493Z"
   },
   {
    "duration": 1947,
    "start_time": "2024-10-31T19:44:20.526Z"
   },
   {
    "duration": 11,
    "start_time": "2024-10-31T19:44:22.475Z"
   },
   {
    "duration": 37,
    "start_time": "2024-10-31T19:44:22.488Z"
   },
   {
    "duration": 78,
    "start_time": "2024-10-31T19:44:22.526Z"
   },
   {
    "duration": 0,
    "start_time": "2024-10-31T19:44:22.606Z"
   },
   {
    "duration": 0,
    "start_time": "2024-10-31T19:44:22.607Z"
   },
   {
    "duration": 0,
    "start_time": "2024-10-31T19:44:22.608Z"
   },
   {
    "duration": 0,
    "start_time": "2024-10-31T19:44:22.609Z"
   },
   {
    "duration": 0,
    "start_time": "2024-10-31T19:44:22.610Z"
   },
   {
    "duration": 0,
    "start_time": "2024-10-31T19:44:22.611Z"
   },
   {
    "duration": 0,
    "start_time": "2024-10-31T19:44:22.612Z"
   },
   {
    "duration": 0,
    "start_time": "2024-10-31T19:44:22.613Z"
   },
   {
    "duration": 0,
    "start_time": "2024-10-31T19:44:22.614Z"
   },
   {
    "duration": 0,
    "start_time": "2024-10-31T19:44:22.615Z"
   },
   {
    "duration": 0,
    "start_time": "2024-10-31T19:44:22.616Z"
   },
   {
    "duration": 6,
    "start_time": "2024-10-31T19:44:46.689Z"
   },
   {
    "duration": 6,
    "start_time": "2024-10-31T19:45:04.953Z"
   },
   {
    "duration": 649,
    "start_time": "2024-10-31T19:45:23.905Z"
   },
   {
    "duration": 111,
    "start_time": "2024-10-31T19:45:24.556Z"
   },
   {
    "duration": 36,
    "start_time": "2024-10-31T19:45:24.669Z"
   },
   {
    "duration": 1913,
    "start_time": "2024-10-31T19:45:24.708Z"
   },
   {
    "duration": 12,
    "start_time": "2024-10-31T19:45:26.623Z"
   },
   {
    "duration": 14,
    "start_time": "2024-10-31T19:45:26.636Z"
   },
   {
    "duration": 29,
    "start_time": "2024-10-31T19:45:26.651Z"
   },
   {
    "duration": 135,
    "start_time": "2024-10-31T19:45:26.681Z"
   },
   {
    "duration": 5,
    "start_time": "2024-10-31T19:45:26.818Z"
   },
   {
    "duration": 22,
    "start_time": "2024-10-31T19:45:26.825Z"
   },
   {
    "duration": 321,
    "start_time": "2024-10-31T19:45:26.849Z"
   },
   {
    "duration": 5,
    "start_time": "2024-10-31T19:45:27.172Z"
   },
   {
    "duration": 265,
    "start_time": "2024-10-31T19:45:27.180Z"
   },
   {
    "duration": 341,
    "start_time": "2024-10-31T19:45:27.447Z"
   },
   {
    "duration": 248,
    "start_time": "2024-10-31T19:45:27.789Z"
   },
   {
    "duration": 284,
    "start_time": "2024-10-31T19:45:28.039Z"
   },
   {
    "duration": 253,
    "start_time": "2024-10-31T19:45:28.325Z"
   },
   {
    "duration": 35,
    "start_time": "2024-10-31T19:45:28.580Z"
   },
   {
    "duration": 203,
    "start_time": "2024-10-31T19:45:42.133Z"
   },
   {
    "duration": 371,
    "start_time": "2024-10-31T19:46:11.533Z"
   },
   {
    "duration": 319,
    "start_time": "2024-10-31T19:46:28.179Z"
   },
   {
    "duration": 211,
    "start_time": "2024-10-31T19:46:37.263Z"
   },
   {
    "duration": 679,
    "start_time": "2024-10-31T19:46:53.877Z"
   },
   {
    "duration": 116,
    "start_time": "2024-10-31T19:46:54.558Z"
   },
   {
    "duration": 35,
    "start_time": "2024-10-31T19:46:54.676Z"
   },
   {
    "duration": 1940,
    "start_time": "2024-10-31T19:46:54.713Z"
   },
   {
    "duration": 10,
    "start_time": "2024-10-31T19:46:56.655Z"
   },
   {
    "duration": 13,
    "start_time": "2024-10-31T19:46:56.666Z"
   },
   {
    "duration": 20,
    "start_time": "2024-10-31T19:46:56.681Z"
   },
   {
    "duration": 122,
    "start_time": "2024-10-31T19:46:56.703Z"
   },
   {
    "duration": 6,
    "start_time": "2024-10-31T19:46:56.826Z"
   },
   {
    "duration": 12,
    "start_time": "2024-10-31T19:46:56.833Z"
   },
   {
    "duration": 338,
    "start_time": "2024-10-31T19:46:56.847Z"
   },
   {
    "duration": 5,
    "start_time": "2024-10-31T19:46:57.186Z"
   },
   {
    "duration": 258,
    "start_time": "2024-10-31T19:46:57.200Z"
   },
   {
    "duration": 365,
    "start_time": "2024-10-31T19:46:57.462Z"
   },
   {
    "duration": 252,
    "start_time": "2024-10-31T19:46:57.828Z"
   },
   {
    "duration": 281,
    "start_time": "2024-10-31T19:46:58.082Z"
   },
   {
    "duration": 250,
    "start_time": "2024-10-31T19:46:58.365Z"
   },
   {
    "duration": 261,
    "start_time": "2024-10-31T19:46:58.616Z"
   },
   {
    "duration": 290,
    "start_time": "2024-10-31T19:47:28.509Z"
   },
   {
    "duration": 47,
    "start_time": "2024-10-31T19:47:34.901Z"
   },
   {
    "duration": 36,
    "start_time": "2024-10-31T19:47:42.753Z"
   },
   {
    "duration": 76,
    "start_time": "2024-10-31T19:48:30.338Z"
   },
   {
    "duration": 12,
    "start_time": "2024-10-31T19:50:41.069Z"
   },
   {
    "duration": 8,
    "start_time": "2024-10-31T19:51:01.157Z"
   },
   {
    "duration": 8,
    "start_time": "2024-10-31T19:51:11.720Z"
   },
   {
    "duration": 7,
    "start_time": "2024-10-31T19:51:27.044Z"
   },
   {
    "duration": 7,
    "start_time": "2024-10-31T19:51:33.370Z"
   },
   {
    "duration": 8,
    "start_time": "2024-10-31T19:51:36.473Z"
   },
   {
    "duration": 686,
    "start_time": "2024-10-31T19:51:43.386Z"
   },
   {
    "duration": 116,
    "start_time": "2024-10-31T19:51:44.074Z"
   },
   {
    "duration": 33,
    "start_time": "2024-10-31T19:51:44.192Z"
   },
   {
    "duration": 1906,
    "start_time": "2024-10-31T19:51:44.227Z"
   },
   {
    "duration": 9,
    "start_time": "2024-10-31T19:51:46.135Z"
   },
   {
    "duration": 42,
    "start_time": "2024-10-31T19:51:46.146Z"
   },
   {
    "duration": 29,
    "start_time": "2024-10-31T19:51:46.190Z"
   },
   {
    "duration": 150,
    "start_time": "2024-10-31T19:51:46.221Z"
   },
   {
    "duration": 5,
    "start_time": "2024-10-31T19:51:46.373Z"
   },
   {
    "duration": 19,
    "start_time": "2024-10-31T19:51:46.380Z"
   },
   {
    "duration": 311,
    "start_time": "2024-10-31T19:51:46.401Z"
   },
   {
    "duration": 4,
    "start_time": "2024-10-31T19:51:46.714Z"
   },
   {
    "duration": 251,
    "start_time": "2024-10-31T19:51:46.719Z"
   },
   {
    "duration": 335,
    "start_time": "2024-10-31T19:51:46.972Z"
   },
   {
    "duration": 245,
    "start_time": "2024-10-31T19:51:47.308Z"
   },
   {
    "duration": 289,
    "start_time": "2024-10-31T19:51:47.555Z"
   },
   {
    "duration": 242,
    "start_time": "2024-10-31T19:51:47.846Z"
   },
   {
    "duration": 261,
    "start_time": "2024-10-31T19:51:48.090Z"
   },
   {
    "duration": 225,
    "start_time": "2024-10-31T19:53:42.189Z"
   },
   {
    "duration": 308,
    "start_time": "2024-10-31T19:53:51.702Z"
   },
   {
    "duration": 70,
    "start_time": "2024-10-31T19:56:15.801Z"
   },
   {
    "duration": 225,
    "start_time": "2024-10-31T19:56:27.048Z"
   },
   {
    "duration": 208,
    "start_time": "2024-10-31T19:56:33.923Z"
   },
   {
    "duration": 224,
    "start_time": "2024-10-31T21:18:59.914Z"
   },
   {
    "duration": 234,
    "start_time": "2024-10-31T21:19:34.668Z"
   },
   {
    "duration": 368,
    "start_time": "2024-10-31T21:19:52.334Z"
   },
   {
    "duration": 267,
    "start_time": "2024-10-31T21:19:59.436Z"
   },
   {
    "duration": 225,
    "start_time": "2024-10-31T21:23:23.686Z"
   },
   {
    "duration": 238,
    "start_time": "2024-10-31T21:23:32.412Z"
   },
   {
    "duration": 123,
    "start_time": "2024-10-31T21:23:39.046Z"
   },
   {
    "duration": 174,
    "start_time": "2024-10-31T21:23:45.133Z"
   },
   {
    "duration": 194,
    "start_time": "2024-10-31T21:23:52.366Z"
   },
   {
    "duration": 353,
    "start_time": "2024-10-31T21:23:57.544Z"
   },
   {
    "duration": 193,
    "start_time": "2024-10-31T21:24:03.680Z"
   },
   {
    "duration": 191,
    "start_time": "2024-10-31T21:24:37.812Z"
   },
   {
    "duration": 232,
    "start_time": "2024-10-31T21:27:36.932Z"
   },
   {
    "duration": 629,
    "start_time": "2024-10-31T21:27:43.113Z"
   },
   {
    "duration": 114,
    "start_time": "2024-10-31T21:27:43.744Z"
   },
   {
    "duration": 28,
    "start_time": "2024-10-31T21:27:43.861Z"
   },
   {
    "duration": 1934,
    "start_time": "2024-10-31T21:27:43.891Z"
   },
   {
    "duration": 13,
    "start_time": "2024-10-31T21:27:45.827Z"
   },
   {
    "duration": 25,
    "start_time": "2024-10-31T21:27:45.842Z"
   },
   {
    "duration": 18,
    "start_time": "2024-10-31T21:27:45.868Z"
   },
   {
    "duration": 112,
    "start_time": "2024-10-31T21:27:45.888Z"
   },
   {
    "duration": 6,
    "start_time": "2024-10-31T21:27:46.002Z"
   },
   {
    "duration": 22,
    "start_time": "2024-10-31T21:27:46.009Z"
   },
   {
    "duration": 322,
    "start_time": "2024-10-31T21:27:46.032Z"
   },
   {
    "duration": 5,
    "start_time": "2024-10-31T21:27:46.356Z"
   },
   {
    "duration": 258,
    "start_time": "2024-10-31T21:27:46.362Z"
   },
   {
    "duration": 348,
    "start_time": "2024-10-31T21:27:46.622Z"
   },
   {
    "duration": 267,
    "start_time": "2024-10-31T21:27:46.972Z"
   },
   {
    "duration": 275,
    "start_time": "2024-10-31T21:27:47.241Z"
   },
   {
    "duration": 265,
    "start_time": "2024-10-31T21:27:47.518Z"
   },
   {
    "duration": 248,
    "start_time": "2024-10-31T21:27:47.785Z"
   },
   {
    "duration": 242,
    "start_time": "2024-10-31T21:27:48.034Z"
   },
   {
    "duration": 267,
    "start_time": "2024-10-31T21:27:48.277Z"
   },
   {
    "duration": 46,
    "start_time": "2024-10-31T21:28:38.601Z"
   },
   {
    "duration": 35,
    "start_time": "2024-10-31T21:28:52.323Z"
   },
   {
    "duration": 7,
    "start_time": "2024-10-31T21:30:07.899Z"
   },
   {
    "duration": 19,
    "start_time": "2024-10-31T21:30:50.637Z"
   },
   {
    "duration": 7,
    "start_time": "2024-10-31T21:31:02.399Z"
   },
   {
    "duration": 7,
    "start_time": "2024-10-31T21:31:05.986Z"
   },
   {
    "duration": 247,
    "start_time": "2024-10-31T21:31:13.515Z"
   },
   {
    "duration": 226,
    "start_time": "2024-10-31T21:31:25.767Z"
   },
   {
    "duration": 52,
    "start_time": "2024-10-31T21:31:49.525Z"
   },
   {
    "duration": 250,
    "start_time": "2024-10-31T21:32:43.525Z"
   },
   {
    "duration": 255,
    "start_time": "2024-10-31T21:35:54.266Z"
   },
   {
    "duration": 229,
    "start_time": "2024-10-31T21:36:59.174Z"
   },
   {
    "duration": 316,
    "start_time": "2024-10-31T21:38:41.769Z"
   },
   {
    "duration": 229,
    "start_time": "2024-10-31T21:42:14.504Z"
   },
   {
    "duration": 235,
    "start_time": "2024-10-31T21:42:41.571Z"
   },
   {
    "duration": 256,
    "start_time": "2024-10-31T21:43:03.350Z"
   },
   {
    "duration": 225,
    "start_time": "2024-10-31T21:43:10.525Z"
   },
   {
    "duration": 666,
    "start_time": "2024-10-31T21:43:15.095Z"
   },
   {
    "duration": 110,
    "start_time": "2024-10-31T21:43:15.763Z"
   },
   {
    "duration": 34,
    "start_time": "2024-10-31T21:43:15.875Z"
   },
   {
    "duration": 1894,
    "start_time": "2024-10-31T21:43:15.911Z"
   },
   {
    "duration": 9,
    "start_time": "2024-10-31T21:43:17.807Z"
   },
   {
    "duration": 12,
    "start_time": "2024-10-31T21:43:17.817Z"
   },
   {
    "duration": 15,
    "start_time": "2024-10-31T21:43:17.830Z"
   },
   {
    "duration": 125,
    "start_time": "2024-10-31T21:43:17.846Z"
   },
   {
    "duration": 6,
    "start_time": "2024-10-31T21:43:17.972Z"
   },
   {
    "duration": 27,
    "start_time": "2024-10-31T21:43:17.980Z"
   },
   {
    "duration": 313,
    "start_time": "2024-10-31T21:43:18.008Z"
   },
   {
    "duration": 5,
    "start_time": "2024-10-31T21:43:18.322Z"
   },
   {
    "duration": 243,
    "start_time": "2024-10-31T21:43:18.328Z"
   },
   {
    "duration": 365,
    "start_time": "2024-10-31T21:43:18.573Z"
   },
   {
    "duration": 245,
    "start_time": "2024-10-31T21:43:18.939Z"
   },
   {
    "duration": 263,
    "start_time": "2024-10-31T21:43:19.186Z"
   },
   {
    "duration": 241,
    "start_time": "2024-10-31T21:43:19.450Z"
   },
   {
    "duration": 231,
    "start_time": "2024-10-31T21:43:19.693Z"
   },
   {
    "duration": 268,
    "start_time": "2024-10-31T21:43:19.926Z"
   },
   {
    "duration": 270,
    "start_time": "2024-10-31T21:43:20.200Z"
   },
   {
    "duration": 235,
    "start_time": "2024-10-31T21:43:20.472Z"
   },
   {
    "duration": 248,
    "start_time": "2024-10-31T21:43:45.182Z"
   },
   {
    "duration": 628,
    "start_time": "2024-10-31T21:43:50.812Z"
   },
   {
    "duration": 116,
    "start_time": "2024-10-31T21:43:51.441Z"
   },
   {
    "duration": 41,
    "start_time": "2024-10-31T21:43:51.560Z"
   },
   {
    "duration": 1922,
    "start_time": "2024-10-31T21:43:51.603Z"
   },
   {
    "duration": 10,
    "start_time": "2024-10-31T21:43:53.528Z"
   },
   {
    "duration": 23,
    "start_time": "2024-10-31T21:43:53.540Z"
   },
   {
    "duration": 25,
    "start_time": "2024-10-31T21:43:53.565Z"
   },
   {
    "duration": 114,
    "start_time": "2024-10-31T21:43:53.591Z"
   },
   {
    "duration": 6,
    "start_time": "2024-10-31T21:43:53.707Z"
   },
   {
    "duration": 13,
    "start_time": "2024-10-31T21:43:53.715Z"
   },
   {
    "duration": 324,
    "start_time": "2024-10-31T21:43:53.730Z"
   },
   {
    "duration": 5,
    "start_time": "2024-10-31T21:43:54.055Z"
   },
   {
    "duration": 244,
    "start_time": "2024-10-31T21:43:54.062Z"
   },
   {
    "duration": 352,
    "start_time": "2024-10-31T21:43:54.309Z"
   },
   {
    "duration": 237,
    "start_time": "2024-10-31T21:43:54.662Z"
   },
   {
    "duration": 251,
    "start_time": "2024-10-31T21:43:54.901Z"
   },
   {
    "duration": 233,
    "start_time": "2024-10-31T21:43:55.153Z"
   },
   {
    "duration": 221,
    "start_time": "2024-10-31T21:43:55.388Z"
   },
   {
    "duration": 235,
    "start_time": "2024-10-31T21:43:55.610Z"
   },
   {
    "duration": 293,
    "start_time": "2024-10-31T21:43:55.847Z"
   },
   {
    "duration": 299,
    "start_time": "2024-10-31T21:43:56.142Z"
   },
   {
    "duration": 16,
    "start_time": "2024-10-31T21:45:43.625Z"
   },
   {
    "duration": 226,
    "start_time": "2024-10-31T21:46:56.419Z"
   },
   {
    "duration": 229,
    "start_time": "2024-10-31T21:47:42.283Z"
   },
   {
    "duration": 619,
    "start_time": "2024-10-31T21:48:58.450Z"
   },
   {
    "duration": 111,
    "start_time": "2024-10-31T21:48:59.072Z"
   },
   {
    "duration": 43,
    "start_time": "2024-10-31T21:48:59.185Z"
   },
   {
    "duration": 1939,
    "start_time": "2024-10-31T21:48:59.230Z"
   },
   {
    "duration": 11,
    "start_time": "2024-10-31T21:49:01.172Z"
   },
   {
    "duration": 14,
    "start_time": "2024-10-31T21:49:01.185Z"
   },
   {
    "duration": 25,
    "start_time": "2024-10-31T21:49:01.201Z"
   },
   {
    "duration": 119,
    "start_time": "2024-10-31T21:49:01.228Z"
   },
   {
    "duration": 6,
    "start_time": "2024-10-31T21:49:01.349Z"
   },
   {
    "duration": 50,
    "start_time": "2024-10-31T21:49:01.356Z"
   },
   {
    "duration": 328,
    "start_time": "2024-10-31T21:49:01.407Z"
   },
   {
    "duration": 4,
    "start_time": "2024-10-31T21:49:01.737Z"
   },
   {
    "duration": 244,
    "start_time": "2024-10-31T21:49:01.742Z"
   },
   {
    "duration": 351,
    "start_time": "2024-10-31T21:49:01.989Z"
   },
   {
    "duration": 280,
    "start_time": "2024-10-31T21:49:02.342Z"
   },
   {
    "duration": 255,
    "start_time": "2024-10-31T21:49:02.624Z"
   },
   {
    "duration": 239,
    "start_time": "2024-10-31T21:49:02.880Z"
   },
   {
    "duration": 217,
    "start_time": "2024-10-31T21:49:03.121Z"
   },
   {
    "duration": 236,
    "start_time": "2024-10-31T21:49:03.339Z"
   },
   {
    "duration": 270,
    "start_time": "2024-10-31T21:49:03.577Z"
   },
   {
    "duration": 270,
    "start_time": "2024-10-31T21:49:03.849Z"
   },
   {
    "duration": 250,
    "start_time": "2024-10-31T21:49:04.121Z"
   },
   {
    "duration": 198,
    "start_time": "2024-10-31T21:49:15.592Z"
   },
   {
    "duration": 652,
    "start_time": "2024-10-31T21:49:25.969Z"
   },
   {
    "duration": 114,
    "start_time": "2024-10-31T21:49:26.623Z"
   },
   {
    "duration": 27,
    "start_time": "2024-10-31T21:49:26.739Z"
   },
   {
    "duration": 1904,
    "start_time": "2024-10-31T21:49:26.768Z"
   },
   {
    "duration": 10,
    "start_time": "2024-10-31T21:49:28.674Z"
   },
   {
    "duration": 24,
    "start_time": "2024-10-31T21:49:28.685Z"
   },
   {
    "duration": 22,
    "start_time": "2024-10-31T21:49:28.710Z"
   },
   {
    "duration": 124,
    "start_time": "2024-10-31T21:49:28.734Z"
   },
   {
    "duration": 5,
    "start_time": "2024-10-31T21:49:28.860Z"
   },
   {
    "duration": 20,
    "start_time": "2024-10-31T21:49:28.867Z"
   },
   {
    "duration": 332,
    "start_time": "2024-10-31T21:49:28.888Z"
   },
   {
    "duration": 5,
    "start_time": "2024-10-31T21:49:29.222Z"
   },
   {
    "duration": 283,
    "start_time": "2024-10-31T21:49:29.229Z"
   },
   {
    "duration": 364,
    "start_time": "2024-10-31T21:49:29.514Z"
   },
   {
    "duration": 239,
    "start_time": "2024-10-31T21:49:29.879Z"
   },
   {
    "duration": 269,
    "start_time": "2024-10-31T21:49:30.120Z"
   },
   {
    "duration": 244,
    "start_time": "2024-10-31T21:49:30.390Z"
   },
   {
    "duration": 237,
    "start_time": "2024-10-31T21:49:30.635Z"
   },
   {
    "duration": 246,
    "start_time": "2024-10-31T21:49:30.874Z"
   },
   {
    "duration": 280,
    "start_time": "2024-10-31T21:49:31.122Z"
   },
   {
    "duration": 252,
    "start_time": "2024-10-31T21:49:31.404Z"
   },
   {
    "duration": 196,
    "start_time": "2024-10-31T21:49:31.657Z"
   },
   {
    "duration": 639,
    "start_time": "2024-10-31T21:53:39.399Z"
   },
   {
    "duration": 120,
    "start_time": "2024-10-31T21:53:40.039Z"
   },
   {
    "duration": 41,
    "start_time": "2024-10-31T21:53:40.161Z"
   },
   {
    "duration": 1893,
    "start_time": "2024-10-31T21:53:40.204Z"
   },
   {
    "duration": 10,
    "start_time": "2024-10-31T21:53:42.105Z"
   },
   {
    "duration": 13,
    "start_time": "2024-10-31T21:53:42.116Z"
   },
   {
    "duration": 16,
    "start_time": "2024-10-31T21:53:42.130Z"
   },
   {
    "duration": 135,
    "start_time": "2024-10-31T21:53:42.148Z"
   },
   {
    "duration": 5,
    "start_time": "2024-10-31T21:53:42.284Z"
   },
   {
    "duration": 19,
    "start_time": "2024-10-31T21:53:42.291Z"
   },
   {
    "duration": 319,
    "start_time": "2024-10-31T21:53:42.311Z"
   },
   {
    "duration": 5,
    "start_time": "2024-10-31T21:53:42.632Z"
   },
   {
    "duration": 251,
    "start_time": "2024-10-31T21:53:42.639Z"
   },
   {
    "duration": 334,
    "start_time": "2024-10-31T21:53:42.893Z"
   },
   {
    "duration": 246,
    "start_time": "2024-10-31T21:53:43.229Z"
   },
   {
    "duration": 286,
    "start_time": "2024-10-31T21:53:43.477Z"
   },
   {
    "duration": 228,
    "start_time": "2024-10-31T21:53:43.765Z"
   },
   {
    "duration": 228,
    "start_time": "2024-10-31T21:53:43.999Z"
   },
   {
    "duration": 243,
    "start_time": "2024-10-31T21:53:44.229Z"
   },
   {
    "duration": 269,
    "start_time": "2024-10-31T21:53:44.474Z"
   },
   {
    "duration": 247,
    "start_time": "2024-10-31T21:53:44.745Z"
   },
   {
    "duration": 235,
    "start_time": "2024-10-31T21:53:44.994Z"
   },
   {
    "duration": 49,
    "start_time": "2024-11-01T06:16:01.545Z"
   },
   {
    "duration": 912,
    "start_time": "2024-11-01T06:16:05.495Z"
   },
   {
    "duration": 188,
    "start_time": "2024-11-01T06:16:06.411Z"
   },
   {
    "duration": 32,
    "start_time": "2024-11-01T06:16:06.603Z"
   },
   {
    "duration": 2052,
    "start_time": "2024-11-01T06:16:06.636Z"
   },
   {
    "duration": 10,
    "start_time": "2024-11-01T06:16:08.689Z"
   },
   {
    "duration": 26,
    "start_time": "2024-11-01T06:16:08.700Z"
   },
   {
    "duration": 52,
    "start_time": "2024-11-01T06:16:08.727Z"
   },
   {
    "duration": 122,
    "start_time": "2024-11-01T06:16:08.780Z"
   },
   {
    "duration": 6,
    "start_time": "2024-11-01T06:16:08.904Z"
   },
   {
    "duration": 31,
    "start_time": "2024-11-01T06:16:08.911Z"
   },
   {
    "duration": 371,
    "start_time": "2024-11-01T06:16:08.944Z"
   },
   {
    "duration": 6,
    "start_time": "2024-11-01T06:16:09.317Z"
   },
   {
    "duration": 265,
    "start_time": "2024-11-01T06:16:09.325Z"
   },
   {
    "duration": 358,
    "start_time": "2024-11-01T06:16:09.592Z"
   },
   {
    "duration": 264,
    "start_time": "2024-11-01T06:16:09.952Z"
   },
   {
    "duration": 282,
    "start_time": "2024-11-01T06:16:10.220Z"
   },
   {
    "duration": 266,
    "start_time": "2024-11-01T06:16:10.508Z"
   },
   {
    "duration": 241,
    "start_time": "2024-11-01T06:16:10.776Z"
   },
   {
    "duration": 252,
    "start_time": "2024-11-01T06:16:11.021Z"
   },
   {
    "duration": 280,
    "start_time": "2024-11-01T06:16:11.275Z"
   },
   {
    "duration": 265,
    "start_time": "2024-11-01T06:16:11.557Z"
   },
   {
    "duration": 232,
    "start_time": "2024-11-01T06:16:11.824Z"
   },
   {
    "duration": 263,
    "start_time": "2024-11-01T06:16:12.058Z"
   },
   {
    "duration": 679,
    "start_time": "2024-11-01T06:17:21.961Z"
   },
   {
    "duration": 125,
    "start_time": "2024-11-01T06:17:22.642Z"
   },
   {
    "duration": 30,
    "start_time": "2024-11-01T06:17:22.768Z"
   },
   {
    "duration": 2187,
    "start_time": "2024-11-01T06:17:22.799Z"
   },
   {
    "duration": 16,
    "start_time": "2024-11-01T06:17:24.988Z"
   },
   {
    "duration": 21,
    "start_time": "2024-11-01T06:17:25.006Z"
   },
   {
    "duration": 24,
    "start_time": "2024-11-01T06:17:25.029Z"
   },
   {
    "duration": 166,
    "start_time": "2024-11-01T06:17:25.054Z"
   },
   {
    "duration": 6,
    "start_time": "2024-11-01T06:17:25.222Z"
   },
   {
    "duration": 64,
    "start_time": "2024-11-01T06:17:25.230Z"
   },
   {
    "duration": 355,
    "start_time": "2024-11-01T06:17:25.296Z"
   },
   {
    "duration": 5,
    "start_time": "2024-11-01T06:17:25.652Z"
   },
   {
    "duration": 304,
    "start_time": "2024-11-01T06:17:25.658Z"
   },
   {
    "duration": 347,
    "start_time": "2024-11-01T06:17:25.963Z"
   },
   {
    "duration": 273,
    "start_time": "2024-11-01T06:17:26.312Z"
   },
   {
    "duration": 302,
    "start_time": "2024-11-01T06:17:26.587Z"
   },
   {
    "duration": 261,
    "start_time": "2024-11-01T06:17:26.891Z"
   },
   {
    "duration": 247,
    "start_time": "2024-11-01T06:17:27.154Z"
   },
   {
    "duration": 252,
    "start_time": "2024-11-01T06:17:27.402Z"
   },
   {
    "duration": 313,
    "start_time": "2024-11-01T06:17:27.656Z"
   },
   {
    "duration": 265,
    "start_time": "2024-11-01T06:17:27.971Z"
   },
   {
    "duration": 225,
    "start_time": "2024-11-01T06:17:28.238Z"
   },
   {
    "duration": 69,
    "start_time": "2024-11-01T06:17:28.465Z"
   },
   {
    "duration": 249,
    "start_time": "2024-11-01T06:17:34.857Z"
   },
   {
    "duration": 78,
    "start_time": "2024-11-01T06:18:34.966Z"
   },
   {
    "duration": 21,
    "start_time": "2024-11-01T06:18:39.921Z"
   },
   {
    "duration": 246,
    "start_time": "2024-11-01T06:19:16.182Z"
   },
   {
    "duration": 265,
    "start_time": "2024-11-01T06:19:23.064Z"
   },
   {
    "duration": 1654,
    "start_time": "2024-11-01T06:19:29.898Z"
   },
   {
    "duration": 651,
    "start_time": "2024-11-01T06:19:41.075Z"
   },
   {
    "duration": 129,
    "start_time": "2024-11-01T06:19:41.728Z"
   },
   {
    "duration": 30,
    "start_time": "2024-11-01T06:19:41.859Z"
   },
   {
    "duration": 2133,
    "start_time": "2024-11-01T06:19:41.891Z"
   },
   {
    "duration": 10,
    "start_time": "2024-11-01T06:19:44.025Z"
   },
   {
    "duration": 36,
    "start_time": "2024-11-01T06:19:44.037Z"
   },
   {
    "duration": 30,
    "start_time": "2024-11-01T06:19:44.074Z"
   },
   {
    "duration": 127,
    "start_time": "2024-11-01T06:19:44.106Z"
   },
   {
    "duration": 6,
    "start_time": "2024-11-01T06:19:44.234Z"
   },
   {
    "duration": 17,
    "start_time": "2024-11-01T06:19:44.243Z"
   },
   {
    "duration": 358,
    "start_time": "2024-11-01T06:19:44.262Z"
   },
   {
    "duration": 5,
    "start_time": "2024-11-01T06:19:44.622Z"
   },
   {
    "duration": 302,
    "start_time": "2024-11-01T06:19:44.628Z"
   },
   {
    "duration": 398,
    "start_time": "2024-11-01T06:19:44.932Z"
   },
   {
    "duration": 260,
    "start_time": "2024-11-01T06:19:45.332Z"
   },
   {
    "duration": 304,
    "start_time": "2024-11-01T06:19:45.593Z"
   },
   {
    "duration": 284,
    "start_time": "2024-11-01T06:19:45.899Z"
   },
   {
    "duration": 258,
    "start_time": "2024-11-01T06:19:46.185Z"
   },
   {
    "duration": 279,
    "start_time": "2024-11-01T06:19:46.445Z"
   },
   {
    "duration": 284,
    "start_time": "2024-11-01T06:19:46.726Z"
   },
   {
    "duration": 275,
    "start_time": "2024-11-01T06:19:47.012Z"
   },
   {
    "duration": 222,
    "start_time": "2024-11-01T06:19:47.289Z"
   },
   {
    "duration": 1482,
    "start_time": "2024-11-01T06:19:47.513Z"
   },
   {
    "duration": 299,
    "start_time": "2024-11-01T06:19:53.720Z"
   },
   {
    "duration": 153,
    "start_time": "2024-11-01T06:19:58.853Z"
   },
   {
    "duration": 290,
    "start_time": "2024-11-01T06:20:03.207Z"
   },
   {
    "duration": 712,
    "start_time": "2024-11-01T06:20:22.690Z"
   },
   {
    "duration": 120,
    "start_time": "2024-11-01T06:20:23.404Z"
   },
   {
    "duration": 29,
    "start_time": "2024-11-01T06:20:23.526Z"
   },
   {
    "duration": 753,
    "start_time": "2024-11-01T22:12:20.359Z"
   },
   {
    "duration": 334,
    "start_time": "2024-11-01T22:12:21.114Z"
   },
   {
    "duration": 27,
    "start_time": "2024-11-01T22:12:21.450Z"
   },
   {
    "duration": 1839,
    "start_time": "2024-11-01T22:12:21.478Z"
   },
   {
    "duration": 9,
    "start_time": "2024-11-01T22:12:23.319Z"
   },
   {
    "duration": 53,
    "start_time": "2024-11-01T22:12:23.329Z"
   },
   {
    "duration": 38,
    "start_time": "2024-11-01T22:12:23.384Z"
   },
   {
    "duration": 108,
    "start_time": "2024-11-01T22:12:23.423Z"
   },
   {
    "duration": 5,
    "start_time": "2024-11-01T22:12:23.533Z"
   },
   {
    "duration": 32,
    "start_time": "2024-11-01T22:12:23.539Z"
   },
   {
    "duration": 308,
    "start_time": "2024-11-01T22:12:23.572Z"
   },
   {
    "duration": 4,
    "start_time": "2024-11-01T22:12:23.881Z"
   },
   {
    "duration": 250,
    "start_time": "2024-11-01T22:12:23.886Z"
   },
   {
    "duration": 317,
    "start_time": "2024-11-01T22:12:24.138Z"
   },
   {
    "duration": 231,
    "start_time": "2024-11-01T22:12:24.457Z"
   },
   {
    "duration": 256,
    "start_time": "2024-11-01T22:12:24.690Z"
   },
   {
    "duration": 233,
    "start_time": "2024-11-01T22:12:24.948Z"
   },
   {
    "duration": 229,
    "start_time": "2024-11-01T22:12:25.182Z"
   },
   {
    "duration": 232,
    "start_time": "2024-11-01T22:12:25.413Z"
   },
   {
    "duration": 275,
    "start_time": "2024-11-01T22:12:25.646Z"
   },
   {
    "duration": 235,
    "start_time": "2024-11-01T22:12:25.922Z"
   },
   {
    "duration": 209,
    "start_time": "2024-11-01T22:12:26.158Z"
   },
   {
    "duration": 274,
    "start_time": "2024-11-01T22:12:26.368Z"
   },
   {
    "duration": 239,
    "start_time": "2024-11-01T22:25:04.882Z"
   },
   {
    "duration": 250,
    "start_time": "2024-11-01T22:25:41.975Z"
   },
   {
    "duration": 375,
    "start_time": "2024-11-01T22:25:53.895Z"
   },
   {
    "duration": 242,
    "start_time": "2024-11-01T22:26:21.032Z"
   },
   {
    "duration": 6,
    "start_time": "2024-11-01T22:28:09.887Z"
   },
   {
    "duration": 202,
    "start_time": "2024-11-01T22:35:34.240Z"
   },
   {
    "duration": 140,
    "start_time": "2024-11-01T22:35:55.886Z"
   },
   {
    "duration": 42,
    "start_time": "2024-11-01T22:36:11.437Z"
   },
   {
    "duration": 140,
    "start_time": "2024-11-01T22:36:18.440Z"
   },
   {
    "duration": 150,
    "start_time": "2024-11-01T22:36:23.946Z"
   },
   {
    "duration": 145,
    "start_time": "2024-11-01T22:36:31.134Z"
   },
   {
    "duration": 136,
    "start_time": "2024-11-01T22:36:41.163Z"
   },
   {
    "duration": 161,
    "start_time": "2024-11-01T22:37:28.971Z"
   },
   {
    "duration": 283,
    "start_time": "2024-11-01T22:38:24.168Z"
   },
   {
    "duration": 399,
    "start_time": "2024-11-01T22:38:43.008Z"
   },
   {
    "duration": 269,
    "start_time": "2024-11-01T22:38:51.352Z"
   },
   {
    "duration": 269,
    "start_time": "2024-11-01T22:38:58.895Z"
   },
   {
    "duration": 289,
    "start_time": "2024-11-01T22:39:03.610Z"
   },
   {
    "duration": 294,
    "start_time": "2024-11-01T22:39:08.760Z"
   },
   {
    "duration": 408,
    "start_time": "2024-11-01T22:39:14.546Z"
   },
   {
    "duration": 274,
    "start_time": "2024-11-01T22:39:20.222Z"
   },
   {
    "duration": 300,
    "start_time": "2024-11-01T22:39:24.086Z"
   },
   {
    "duration": 288,
    "start_time": "2024-11-01T22:39:28.742Z"
   },
   {
    "duration": 280,
    "start_time": "2024-11-01T22:39:33.612Z"
   },
   {
    "duration": 291,
    "start_time": "2024-11-01T22:39:37.686Z"
   },
   {
    "duration": 413,
    "start_time": "2024-11-01T22:39:44.042Z"
   },
   {
    "duration": 254,
    "start_time": "2024-11-01T22:39:54.185Z"
   },
   {
    "duration": 610,
    "start_time": "2024-11-01T22:43:51.797Z"
   },
   {
    "duration": 123,
    "start_time": "2024-11-01T22:43:52.409Z"
   },
   {
    "duration": 25,
    "start_time": "2024-11-01T22:43:52.534Z"
   },
   {
    "duration": 1908,
    "start_time": "2024-11-01T22:43:52.561Z"
   },
   {
    "duration": 9,
    "start_time": "2024-11-01T22:43:54.471Z"
   },
   {
    "duration": 8,
    "start_time": "2024-11-01T22:43:54.482Z"
   },
   {
    "duration": 16,
    "start_time": "2024-11-01T22:43:54.491Z"
   },
   {
    "duration": 146,
    "start_time": "2024-11-01T22:43:54.508Z"
   },
   {
    "duration": 4,
    "start_time": "2024-11-01T22:43:54.656Z"
   },
   {
    "duration": 12,
    "start_time": "2024-11-01T22:43:54.662Z"
   },
   {
    "duration": 330,
    "start_time": "2024-11-01T22:43:54.676Z"
   },
   {
    "duration": 4,
    "start_time": "2024-11-01T22:43:55.007Z"
   },
   {
    "duration": 347,
    "start_time": "2024-11-01T22:43:55.012Z"
   },
   {
    "duration": 329,
    "start_time": "2024-11-01T22:43:55.361Z"
   },
   {
    "duration": 261,
    "start_time": "2024-11-01T22:43:55.692Z"
   },
   {
    "duration": 261,
    "start_time": "2024-11-01T22:43:55.954Z"
   },
   {
    "duration": 234,
    "start_time": "2024-11-01T22:43:56.217Z"
   },
   {
    "duration": 244,
    "start_time": "2024-11-01T22:43:56.453Z"
   },
   {
    "duration": 238,
    "start_time": "2024-11-01T22:43:56.698Z"
   },
   {
    "duration": 249,
    "start_time": "2024-11-01T22:43:56.938Z"
   },
   {
    "duration": 274,
    "start_time": "2024-11-01T22:43:57.189Z"
   },
   {
    "duration": 205,
    "start_time": "2024-11-01T22:43:57.465Z"
   },
   {
    "duration": 242,
    "start_time": "2024-11-01T22:43:57.671Z"
   },
   {
    "duration": 15,
    "start_time": "2024-11-01T22:43:57.920Z"
   },
   {
    "duration": 155,
    "start_time": "2024-11-01T22:43:57.936Z"
   },
   {
    "duration": 171,
    "start_time": "2024-11-01T22:43:58.093Z"
   },
   {
    "duration": 156,
    "start_time": "2024-11-01T22:46:01.789Z"
   },
   {
    "duration": 155,
    "start_time": "2024-11-01T22:47:43.370Z"
   },
   {
    "duration": 249,
    "start_time": "2024-11-01T22:49:06.177Z"
   },
   {
    "duration": 162,
    "start_time": "2024-11-01T22:50:14.170Z"
   },
   {
    "duration": 602,
    "start_time": "2024-11-01T23:03:48.136Z"
   },
   {
    "duration": 112,
    "start_time": "2024-11-01T23:03:48.740Z"
   },
   {
    "duration": 30,
    "start_time": "2024-11-01T23:03:48.856Z"
   },
   {
    "duration": 1746,
    "start_time": "2024-11-01T23:03:48.887Z"
   },
   {
    "duration": 11,
    "start_time": "2024-11-01T23:03:50.635Z"
   },
   {
    "duration": 9,
    "start_time": "2024-11-01T23:03:50.647Z"
   },
   {
    "duration": 47,
    "start_time": "2024-11-01T23:03:50.657Z"
   },
   {
    "duration": 111,
    "start_time": "2024-11-01T23:03:50.706Z"
   },
   {
    "duration": 5,
    "start_time": "2024-11-01T23:03:50.820Z"
   },
   {
    "duration": 12,
    "start_time": "2024-11-01T23:03:50.826Z"
   },
   {
    "duration": 311,
    "start_time": "2024-11-01T23:03:50.840Z"
   },
   {
    "duration": 5,
    "start_time": "2024-11-01T23:03:51.152Z"
   },
   {
    "duration": 275,
    "start_time": "2024-11-01T23:03:51.158Z"
   },
   {
    "duration": 291,
    "start_time": "2024-11-01T23:03:51.435Z"
   },
   {
    "duration": 207,
    "start_time": "2024-11-01T23:03:51.728Z"
   },
   {
    "duration": 271,
    "start_time": "2024-11-01T23:03:51.937Z"
   },
   {
    "duration": 0,
    "start_time": "2024-11-01T23:03:52.210Z"
   },
   {
    "duration": 0,
    "start_time": "2024-11-01T23:03:52.211Z"
   },
   {
    "duration": 0,
    "start_time": "2024-11-01T23:03:52.213Z"
   },
   {
    "duration": 0,
    "start_time": "2024-11-01T23:03:52.214Z"
   },
   {
    "duration": 0,
    "start_time": "2024-11-01T23:03:52.215Z"
   },
   {
    "duration": 0,
    "start_time": "2024-11-01T23:03:52.216Z"
   },
   {
    "duration": 0,
    "start_time": "2024-11-01T23:03:52.218Z"
   },
   {
    "duration": 0,
    "start_time": "2024-11-01T23:03:52.219Z"
   },
   {
    "duration": 0,
    "start_time": "2024-11-01T23:03:52.220Z"
   },
   {
    "duration": 0,
    "start_time": "2024-11-01T23:03:52.222Z"
   },
   {
    "duration": 0,
    "start_time": "2024-11-01T23:03:52.223Z"
   },
   {
    "duration": 209,
    "start_time": "2024-11-01T23:04:33.966Z"
   },
   {
    "duration": 597,
    "start_time": "2024-11-01T23:04:56.406Z"
   },
   {
    "duration": 106,
    "start_time": "2024-11-01T23:04:57.004Z"
   },
   {
    "duration": 25,
    "start_time": "2024-11-01T23:04:57.111Z"
   },
   {
    "duration": 1851,
    "start_time": "2024-11-01T23:04:57.138Z"
   },
   {
    "duration": 9,
    "start_time": "2024-11-01T23:04:58.991Z"
   },
   {
    "duration": 7,
    "start_time": "2024-11-01T23:04:59.002Z"
   },
   {
    "duration": 15,
    "start_time": "2024-11-01T23:04:59.011Z"
   },
   {
    "duration": 115,
    "start_time": "2024-11-01T23:04:59.027Z"
   },
   {
    "duration": 6,
    "start_time": "2024-11-01T23:04:59.144Z"
   },
   {
    "duration": 85,
    "start_time": "2024-11-01T23:04:59.152Z"
   },
   {
    "duration": 310,
    "start_time": "2024-11-01T23:04:59.239Z"
   },
   {
    "duration": 5,
    "start_time": "2024-11-01T23:04:59.550Z"
   },
   {
    "duration": 267,
    "start_time": "2024-11-01T23:04:59.557Z"
   },
   {
    "duration": 299,
    "start_time": "2024-11-01T23:04:59.826Z"
   },
   {
    "duration": 224,
    "start_time": "2024-11-01T23:05:00.126Z"
   },
   {
    "duration": 228,
    "start_time": "2024-11-01T23:05:00.351Z"
   },
   {
    "duration": 232,
    "start_time": "2024-11-01T23:05:00.581Z"
   },
   {
    "duration": 228,
    "start_time": "2024-11-01T23:05:00.814Z"
   },
   {
    "duration": 214,
    "start_time": "2024-11-01T23:05:01.044Z"
   },
   {
    "duration": 245,
    "start_time": "2024-11-01T23:05:01.260Z"
   },
   {
    "duration": 222,
    "start_time": "2024-11-01T23:05:01.507Z"
   },
   {
    "duration": 191,
    "start_time": "2024-11-01T23:05:01.731Z"
   },
   {
    "duration": 219,
    "start_time": "2024-11-01T23:05:01.924Z"
   },
   {
    "duration": 5,
    "start_time": "2024-11-01T23:05:02.144Z"
   },
   {
    "duration": 218,
    "start_time": "2024-11-01T23:05:02.150Z"
   },
   {
    "duration": 123,
    "start_time": "2024-11-01T23:05:02.369Z"
   },
   {
    "duration": 130,
    "start_time": "2024-11-01T23:05:02.494Z"
   },
   {
    "duration": 311,
    "start_time": "2024-11-01T23:05:28.900Z"
   },
   {
    "duration": 10,
    "start_time": "2024-11-01T23:05:36.458Z"
   },
   {
    "duration": 600,
    "start_time": "2024-11-01T23:05:40.423Z"
   },
   {
    "duration": 105,
    "start_time": "2024-11-01T23:05:41.025Z"
   },
   {
    "duration": 24,
    "start_time": "2024-11-01T23:05:41.132Z"
   },
   {
    "duration": 1803,
    "start_time": "2024-11-01T23:05:41.158Z"
   },
   {
    "duration": 8,
    "start_time": "2024-11-01T23:05:42.963Z"
   },
   {
    "duration": 26,
    "start_time": "2024-11-01T23:05:42.973Z"
   },
   {
    "duration": 30,
    "start_time": "2024-11-01T23:05:43.000Z"
   },
   {
    "duration": 109,
    "start_time": "2024-11-01T23:05:43.031Z"
   },
   {
    "duration": 5,
    "start_time": "2024-11-01T23:05:43.141Z"
   },
   {
    "duration": 27,
    "start_time": "2024-11-01T23:05:43.149Z"
   },
   {
    "duration": 310,
    "start_time": "2024-11-01T23:05:43.178Z"
   },
   {
    "duration": 14,
    "start_time": "2024-11-01T23:05:43.490Z"
   },
   {
    "duration": 325,
    "start_time": "2024-11-01T23:05:43.506Z"
   },
   {
    "duration": 284,
    "start_time": "2024-11-01T23:05:43.832Z"
   },
   {
    "duration": 212,
    "start_time": "2024-11-01T23:05:44.120Z"
   },
   {
    "duration": 221,
    "start_time": "2024-11-01T23:05:44.333Z"
   },
   {
    "duration": 229,
    "start_time": "2024-11-01T23:05:44.556Z"
   },
   {
    "duration": 227,
    "start_time": "2024-11-01T23:05:44.787Z"
   },
   {
    "duration": 227,
    "start_time": "2024-11-01T23:05:45.016Z"
   },
   {
    "duration": 262,
    "start_time": "2024-11-01T23:05:45.244Z"
   },
   {
    "duration": 236,
    "start_time": "2024-11-01T23:05:45.508Z"
   },
   {
    "duration": 189,
    "start_time": "2024-11-01T23:05:45.745Z"
   },
   {
    "duration": 226,
    "start_time": "2024-11-01T23:05:45.935Z"
   },
   {
    "duration": 5,
    "start_time": "2024-11-01T23:05:46.162Z"
   },
   {
    "duration": 189,
    "start_time": "2024-11-01T23:05:46.168Z"
   },
   {
    "duration": 108,
    "start_time": "2024-11-01T23:05:46.359Z"
   },
   {
    "duration": 121,
    "start_time": "2024-11-01T23:05:46.468Z"
   },
   {
    "duration": 291,
    "start_time": "2024-11-01T23:07:13.531Z"
   },
   {
    "duration": 548,
    "start_time": "2024-11-01T23:07:18.767Z"
   },
   {
    "duration": 106,
    "start_time": "2024-11-01T23:07:19.316Z"
   },
   {
    "duration": 25,
    "start_time": "2024-11-01T23:07:19.424Z"
   },
   {
    "duration": 1747,
    "start_time": "2024-11-01T23:07:19.450Z"
   },
   {
    "duration": 9,
    "start_time": "2024-11-01T23:07:21.199Z"
   },
   {
    "duration": 41,
    "start_time": "2024-11-01T23:07:21.209Z"
   },
   {
    "duration": 30,
    "start_time": "2024-11-01T23:07:21.251Z"
   },
   {
    "duration": 111,
    "start_time": "2024-11-01T23:07:21.283Z"
   },
   {
    "duration": 5,
    "start_time": "2024-11-01T23:07:21.396Z"
   },
   {
    "duration": 14,
    "start_time": "2024-11-01T23:07:21.403Z"
   },
   {
    "duration": 304,
    "start_time": "2024-11-01T23:07:21.420Z"
   },
   {
    "duration": 16,
    "start_time": "2024-11-01T23:07:21.725Z"
   },
   {
    "duration": 260,
    "start_time": "2024-11-01T23:07:21.742Z"
   },
   {
    "duration": 279,
    "start_time": "2024-11-01T23:07:22.004Z"
   },
   {
    "duration": 221,
    "start_time": "2024-11-01T23:07:22.284Z"
   },
   {
    "duration": 216,
    "start_time": "2024-11-01T23:07:22.506Z"
   },
   {
    "duration": 250,
    "start_time": "2024-11-01T23:07:22.724Z"
   },
   {
    "duration": 229,
    "start_time": "2024-11-01T23:07:22.975Z"
   },
   {
    "duration": 225,
    "start_time": "2024-11-01T23:07:23.205Z"
   },
   {
    "duration": 253,
    "start_time": "2024-11-01T23:07:23.432Z"
   },
   {
    "duration": 219,
    "start_time": "2024-11-01T23:07:23.687Z"
   },
   {
    "duration": 185,
    "start_time": "2024-11-01T23:07:23.908Z"
   },
   {
    "duration": 220,
    "start_time": "2024-11-01T23:07:24.094Z"
   },
   {
    "duration": 8,
    "start_time": "2024-11-01T23:07:24.316Z"
   },
   {
    "duration": 123,
    "start_time": "2024-11-01T23:07:24.326Z"
   },
   {
    "duration": 106,
    "start_time": "2024-11-01T23:07:24.451Z"
   },
   {
    "duration": 120,
    "start_time": "2024-11-01T23:07:24.558Z"
   },
   {
    "duration": 639,
    "start_time": "2024-11-01T23:07:36.710Z"
   },
   {
    "duration": 109,
    "start_time": "2024-11-01T23:07:37.350Z"
   },
   {
    "duration": 25,
    "start_time": "2024-11-01T23:07:37.461Z"
   },
   {
    "duration": 1874,
    "start_time": "2024-11-01T23:07:37.487Z"
   },
   {
    "duration": 9,
    "start_time": "2024-11-01T23:07:39.364Z"
   },
   {
    "duration": 20,
    "start_time": "2024-11-01T23:07:39.375Z"
   },
   {
    "duration": 50,
    "start_time": "2024-11-01T23:07:39.396Z"
   },
   {
    "duration": 126,
    "start_time": "2024-11-01T23:07:39.448Z"
   },
   {
    "duration": 52,
    "start_time": "2024-11-01T23:07:39.576Z"
   },
   {
    "duration": 20,
    "start_time": "2024-11-01T23:07:39.630Z"
   },
   {
    "duration": 321,
    "start_time": "2024-11-01T23:07:39.652Z"
   },
   {
    "duration": 16,
    "start_time": "2024-11-01T23:07:39.975Z"
   },
   {
    "duration": 250,
    "start_time": "2024-11-01T23:07:39.993Z"
   },
   {
    "duration": 302,
    "start_time": "2024-11-01T23:07:40.246Z"
   },
   {
    "duration": 237,
    "start_time": "2024-11-01T23:07:40.550Z"
   },
   {
    "duration": 250,
    "start_time": "2024-11-01T23:07:40.789Z"
   },
   {
    "duration": 253,
    "start_time": "2024-11-01T23:07:41.042Z"
   },
   {
    "duration": 236,
    "start_time": "2024-11-01T23:07:41.297Z"
   },
   {
    "duration": 227,
    "start_time": "2024-11-01T23:07:41.535Z"
   },
   {
    "duration": 241,
    "start_time": "2024-11-01T23:07:41.764Z"
   },
   {
    "duration": 222,
    "start_time": "2024-11-01T23:07:42.007Z"
   },
   {
    "duration": 198,
    "start_time": "2024-11-01T23:07:42.231Z"
   },
   {
    "duration": 236,
    "start_time": "2024-11-01T23:07:42.430Z"
   },
   {
    "duration": 5,
    "start_time": "2024-11-01T23:07:42.667Z"
   },
   {
    "duration": 120,
    "start_time": "2024-11-01T23:07:42.673Z"
   },
   {
    "duration": 136,
    "start_time": "2024-11-01T23:07:42.794Z"
   },
   {
    "duration": 130,
    "start_time": "2024-11-01T23:07:42.932Z"
   },
   {
    "duration": 300,
    "start_time": "2024-11-01T23:09:19.864Z"
   },
   {
    "duration": 218,
    "start_time": "2024-11-01T23:09:26.149Z"
   },
   {
    "duration": 621,
    "start_time": "2024-11-01T23:09:49.195Z"
   },
   {
    "duration": 110,
    "start_time": "2024-11-01T23:09:49.818Z"
   },
   {
    "duration": 25,
    "start_time": "2024-11-01T23:09:49.929Z"
   },
   {
    "duration": 1809,
    "start_time": "2024-11-01T23:09:49.956Z"
   },
   {
    "duration": 8,
    "start_time": "2024-11-01T23:09:51.768Z"
   },
   {
    "duration": 16,
    "start_time": "2024-11-01T23:09:51.778Z"
   },
   {
    "duration": 26,
    "start_time": "2024-11-01T23:09:51.795Z"
   },
   {
    "duration": 120,
    "start_time": "2024-11-01T23:09:51.822Z"
   },
   {
    "duration": 4,
    "start_time": "2024-11-01T23:09:51.944Z"
   },
   {
    "duration": 24,
    "start_time": "2024-11-01T23:09:51.950Z"
   },
   {
    "duration": 308,
    "start_time": "2024-11-01T23:09:51.975Z"
   },
   {
    "duration": 14,
    "start_time": "2024-11-01T23:09:52.285Z"
   },
   {
    "duration": 224,
    "start_time": "2024-11-01T23:09:52.301Z"
   },
   {
    "duration": 306,
    "start_time": "2024-11-01T23:09:52.528Z"
   },
   {
    "duration": 262,
    "start_time": "2024-11-01T23:09:52.836Z"
   },
   {
    "duration": 224,
    "start_time": "2024-11-01T23:09:53.100Z"
   },
   {
    "duration": 214,
    "start_time": "2024-11-01T23:09:53.326Z"
   },
   {
    "duration": 229,
    "start_time": "2024-11-01T23:09:53.541Z"
   },
   {
    "duration": 221,
    "start_time": "2024-11-01T23:09:53.771Z"
   },
   {
    "duration": 248,
    "start_time": "2024-11-01T23:09:53.994Z"
   },
   {
    "duration": 225,
    "start_time": "2024-11-01T23:09:54.244Z"
   },
   {
    "duration": 198,
    "start_time": "2024-11-01T23:09:54.471Z"
   },
   {
    "duration": 226,
    "start_time": "2024-11-01T23:09:54.670Z"
   },
   {
    "duration": 4,
    "start_time": "2024-11-01T23:09:54.898Z"
   },
   {
    "duration": 150,
    "start_time": "2024-11-01T23:09:54.904Z"
   },
   {
    "duration": 115,
    "start_time": "2024-11-01T23:09:55.055Z"
   },
   {
    "duration": 123,
    "start_time": "2024-11-01T23:09:55.172Z"
   },
   {
    "duration": 600,
    "start_time": "2024-11-01T23:11:48.923Z"
   },
   {
    "duration": 107,
    "start_time": "2024-11-01T23:11:49.525Z"
   },
   {
    "duration": 25,
    "start_time": "2024-11-01T23:11:49.634Z"
   },
   {
    "duration": 1753,
    "start_time": "2024-11-01T23:11:49.660Z"
   },
   {
    "duration": 9,
    "start_time": "2024-11-01T23:11:51.415Z"
   },
   {
    "duration": 14,
    "start_time": "2024-11-01T23:11:51.426Z"
   },
   {
    "duration": 25,
    "start_time": "2024-11-01T23:11:51.441Z"
   },
   {
    "duration": 128,
    "start_time": "2024-11-01T23:11:51.467Z"
   },
   {
    "duration": 4,
    "start_time": "2024-11-01T23:11:51.597Z"
   },
   {
    "duration": 38,
    "start_time": "2024-11-01T23:11:51.602Z"
   },
   {
    "duration": 303,
    "start_time": "2024-11-01T23:11:51.642Z"
   },
   {
    "duration": 14,
    "start_time": "2024-11-01T23:11:51.947Z"
   },
   {
    "duration": 219,
    "start_time": "2024-11-01T23:11:51.963Z"
   },
   {
    "duration": 289,
    "start_time": "2024-11-01T23:11:52.185Z"
   },
   {
    "duration": 224,
    "start_time": "2024-11-01T23:11:52.476Z"
   },
   {
    "duration": 246,
    "start_time": "2024-11-01T23:11:52.702Z"
   },
   {
    "duration": 220,
    "start_time": "2024-11-01T23:11:52.950Z"
   },
   {
    "duration": 223,
    "start_time": "2024-11-01T23:11:53.172Z"
   },
   {
    "duration": 219,
    "start_time": "2024-11-01T23:11:53.397Z"
   },
   {
    "duration": 257,
    "start_time": "2024-11-01T23:11:53.621Z"
   },
   {
    "duration": 228,
    "start_time": "2024-11-01T23:11:53.880Z"
   },
   {
    "duration": 197,
    "start_time": "2024-11-01T23:11:54.110Z"
   },
   {
    "duration": 226,
    "start_time": "2024-11-01T23:11:54.308Z"
   },
   {
    "duration": 4,
    "start_time": "2024-11-01T23:11:54.536Z"
   },
   {
    "duration": 121,
    "start_time": "2024-11-01T23:11:54.542Z"
   },
   {
    "duration": 120,
    "start_time": "2024-11-01T23:11:54.665Z"
   },
   {
    "duration": 122,
    "start_time": "2024-11-01T23:11:54.787Z"
   },
   {
    "duration": 538,
    "start_time": "2024-11-01T23:13:37.678Z"
   },
   {
    "duration": 106,
    "start_time": "2024-11-01T23:13:38.218Z"
   },
   {
    "duration": 25,
    "start_time": "2024-11-01T23:13:38.326Z"
   },
   {
    "duration": 1756,
    "start_time": "2024-11-01T23:13:38.353Z"
   },
   {
    "duration": 8,
    "start_time": "2024-11-01T23:13:40.111Z"
   },
   {
    "duration": 30,
    "start_time": "2024-11-01T23:13:40.120Z"
   },
   {
    "duration": 19,
    "start_time": "2024-11-01T23:13:40.152Z"
   },
   {
    "duration": 155,
    "start_time": "2024-11-01T23:13:40.172Z"
   },
   {
    "duration": 6,
    "start_time": "2024-11-01T23:13:40.328Z"
   },
   {
    "duration": 24,
    "start_time": "2024-11-01T23:13:40.336Z"
   },
   {
    "duration": 316,
    "start_time": "2024-11-01T23:13:40.362Z"
   },
   {
    "duration": 15,
    "start_time": "2024-11-01T23:13:40.680Z"
   },
   {
    "duration": 232,
    "start_time": "2024-11-01T23:13:40.696Z"
   },
   {
    "duration": 3,
    "start_time": "2024-11-01T23:13:40.930Z"
   },
   {
    "duration": 1,
    "start_time": "2024-11-01T23:13:40.934Z"
   },
   {
    "duration": 0,
    "start_time": "2024-11-01T23:13:40.936Z"
   },
   {
    "duration": 0,
    "start_time": "2024-11-01T23:13:40.937Z"
   },
   {
    "duration": 0,
    "start_time": "2024-11-01T23:13:40.938Z"
   },
   {
    "duration": 0,
    "start_time": "2024-11-01T23:13:40.939Z"
   },
   {
    "duration": 0,
    "start_time": "2024-11-01T23:13:40.940Z"
   },
   {
    "duration": 0,
    "start_time": "2024-11-01T23:13:40.941Z"
   },
   {
    "duration": 0,
    "start_time": "2024-11-01T23:13:40.942Z"
   },
   {
    "duration": 0,
    "start_time": "2024-11-01T23:13:40.944Z"
   },
   {
    "duration": 0,
    "start_time": "2024-11-01T23:13:40.945Z"
   },
   {
    "duration": 0,
    "start_time": "2024-11-01T23:13:40.946Z"
   },
   {
    "duration": 0,
    "start_time": "2024-11-01T23:13:40.947Z"
   },
   {
    "duration": 0,
    "start_time": "2024-11-01T23:13:40.948Z"
   },
   {
    "duration": 600,
    "start_time": "2024-11-01T23:14:27.752Z"
   },
   {
    "duration": 111,
    "start_time": "2024-11-01T23:14:28.354Z"
   },
   {
    "duration": 28,
    "start_time": "2024-11-01T23:14:28.466Z"
   },
   {
    "duration": 1874,
    "start_time": "2024-11-01T23:14:28.495Z"
   },
   {
    "duration": 10,
    "start_time": "2024-11-01T23:14:30.371Z"
   },
   {
    "duration": 18,
    "start_time": "2024-11-01T23:14:30.382Z"
   },
   {
    "duration": 18,
    "start_time": "2024-11-01T23:14:30.401Z"
   },
   {
    "duration": 128,
    "start_time": "2024-11-01T23:14:30.421Z"
   },
   {
    "duration": 5,
    "start_time": "2024-11-01T23:14:30.551Z"
   },
   {
    "duration": 61,
    "start_time": "2024-11-01T23:14:30.557Z"
   },
   {
    "duration": 326,
    "start_time": "2024-11-01T23:14:30.619Z"
   },
   {
    "duration": 18,
    "start_time": "2024-11-01T23:14:30.946Z"
   },
   {
    "duration": 250,
    "start_time": "2024-11-01T23:14:30.965Z"
   },
   {
    "duration": 312,
    "start_time": "2024-11-01T23:14:31.220Z"
   },
   {
    "duration": 253,
    "start_time": "2024-11-01T23:14:31.534Z"
   },
   {
    "duration": 284,
    "start_time": "2024-11-01T23:14:31.789Z"
   },
   {
    "duration": 246,
    "start_time": "2024-11-01T23:14:32.075Z"
   },
   {
    "duration": 247,
    "start_time": "2024-11-01T23:14:32.323Z"
   },
   {
    "duration": 230,
    "start_time": "2024-11-01T23:14:32.572Z"
   },
   {
    "duration": 3,
    "start_time": "2024-11-01T23:14:32.803Z"
   },
   {
    "duration": 0,
    "start_time": "2024-11-01T23:14:32.808Z"
   },
   {
    "duration": 0,
    "start_time": "2024-11-01T23:14:32.820Z"
   },
   {
    "duration": 0,
    "start_time": "2024-11-01T23:14:32.822Z"
   },
   {
    "duration": 0,
    "start_time": "2024-11-01T23:14:32.822Z"
   },
   {
    "duration": 0,
    "start_time": "2024-11-01T23:14:32.823Z"
   },
   {
    "duration": 0,
    "start_time": "2024-11-01T23:14:32.825Z"
   },
   {
    "duration": 0,
    "start_time": "2024-11-01T23:14:32.826Z"
   },
   {
    "duration": 569,
    "start_time": "2024-11-01T23:15:10.246Z"
   },
   {
    "duration": 106,
    "start_time": "2024-11-01T23:15:10.817Z"
   },
   {
    "duration": 27,
    "start_time": "2024-11-01T23:15:10.925Z"
   },
   {
    "duration": 1783,
    "start_time": "2024-11-01T23:15:10.954Z"
   },
   {
    "duration": 9,
    "start_time": "2024-11-01T23:15:12.739Z"
   },
   {
    "duration": 8,
    "start_time": "2024-11-01T23:15:12.749Z"
   },
   {
    "duration": 23,
    "start_time": "2024-11-01T23:15:12.759Z"
   },
   {
    "duration": 127,
    "start_time": "2024-11-01T23:15:12.783Z"
   },
   {
    "duration": 9,
    "start_time": "2024-11-01T23:15:12.912Z"
   },
   {
    "duration": 13,
    "start_time": "2024-11-01T23:15:12.924Z"
   },
   {
    "duration": 323,
    "start_time": "2024-11-01T23:15:12.939Z"
   },
   {
    "duration": 17,
    "start_time": "2024-11-01T23:15:13.264Z"
   },
   {
    "duration": 232,
    "start_time": "2024-11-01T23:15:13.283Z"
   },
   {
    "duration": 303,
    "start_time": "2024-11-01T23:15:13.516Z"
   },
   {
    "duration": 253,
    "start_time": "2024-11-01T23:15:13.820Z"
   },
   {
    "duration": 239,
    "start_time": "2024-11-01T23:15:14.075Z"
   },
   {
    "duration": 230,
    "start_time": "2024-11-01T23:15:14.320Z"
   },
   {
    "duration": 230,
    "start_time": "2024-11-01T23:15:14.552Z"
   },
   {
    "duration": 230,
    "start_time": "2024-11-01T23:15:14.784Z"
   },
   {
    "duration": 251,
    "start_time": "2024-11-01T23:15:15.016Z"
   },
   {
    "duration": 231,
    "start_time": "2024-11-01T23:15:15.269Z"
   },
   {
    "duration": 200,
    "start_time": "2024-11-01T23:15:15.501Z"
   },
   {
    "duration": 223,
    "start_time": "2024-11-01T23:15:15.702Z"
   },
   {
    "duration": 4,
    "start_time": "2024-11-01T23:15:15.927Z"
   },
   {
    "duration": 117,
    "start_time": "2024-11-01T23:15:15.933Z"
   },
   {
    "duration": 117,
    "start_time": "2024-11-01T23:15:16.052Z"
   },
   {
    "duration": 118,
    "start_time": "2024-11-01T23:15:16.171Z"
   },
   {
    "duration": 626,
    "start_time": "2024-11-01T23:15:31.401Z"
   },
   {
    "duration": 110,
    "start_time": "2024-11-01T23:15:32.029Z"
   },
   {
    "duration": 27,
    "start_time": "2024-11-01T23:15:32.140Z"
   },
   {
    "duration": 1848,
    "start_time": "2024-11-01T23:15:32.169Z"
   },
   {
    "duration": 9,
    "start_time": "2024-11-01T23:15:34.019Z"
   },
   {
    "duration": 27,
    "start_time": "2024-11-01T23:15:34.029Z"
   },
   {
    "duration": 40,
    "start_time": "2024-11-01T23:15:34.058Z"
   },
   {
    "duration": 112,
    "start_time": "2024-11-01T23:15:34.099Z"
   },
   {
    "duration": 6,
    "start_time": "2024-11-01T23:15:34.212Z"
   },
   {
    "duration": 47,
    "start_time": "2024-11-01T23:15:34.220Z"
   },
   {
    "duration": 311,
    "start_time": "2024-11-01T23:15:34.268Z"
   },
   {
    "duration": 15,
    "start_time": "2024-11-01T23:15:34.581Z"
   },
   {
    "duration": 224,
    "start_time": "2024-11-01T23:15:34.598Z"
   },
   {
    "duration": 306,
    "start_time": "2024-11-01T23:15:34.823Z"
   },
   {
    "duration": 246,
    "start_time": "2024-11-01T23:15:35.130Z"
   },
   {
    "duration": 254,
    "start_time": "2024-11-01T23:15:35.377Z"
   },
   {
    "duration": 235,
    "start_time": "2024-11-01T23:15:35.632Z"
   },
   {
    "duration": 235,
    "start_time": "2024-11-01T23:15:35.868Z"
   },
   {
    "duration": 229,
    "start_time": "2024-11-01T23:15:36.104Z"
   },
   {
    "duration": 257,
    "start_time": "2024-11-01T23:15:36.335Z"
   },
   {
    "duration": 232,
    "start_time": "2024-11-01T23:15:36.593Z"
   },
   {
    "duration": 197,
    "start_time": "2024-11-01T23:15:36.826Z"
   },
   {
    "duration": 232,
    "start_time": "2024-11-01T23:15:37.024Z"
   },
   {
    "duration": 4,
    "start_time": "2024-11-01T23:15:37.257Z"
   },
   {
    "duration": 149,
    "start_time": "2024-11-01T23:15:37.263Z"
   },
   {
    "duration": 107,
    "start_time": "2024-11-01T23:15:37.414Z"
   },
   {
    "duration": 120,
    "start_time": "2024-11-01T23:15:37.523Z"
   },
   {
    "duration": 555,
    "start_time": "2024-11-01T23:16:06.373Z"
   },
   {
    "duration": 108,
    "start_time": "2024-11-01T23:16:06.930Z"
   },
   {
    "duration": 25,
    "start_time": "2024-11-01T23:16:07.040Z"
   },
   {
    "duration": 1855,
    "start_time": "2024-11-01T23:16:07.066Z"
   },
   {
    "duration": 9,
    "start_time": "2024-11-01T23:16:08.924Z"
   },
   {
    "duration": 25,
    "start_time": "2024-11-01T23:16:08.934Z"
   },
   {
    "duration": 18,
    "start_time": "2024-11-01T23:16:08.961Z"
   },
   {
    "duration": 120,
    "start_time": "2024-11-01T23:16:08.981Z"
   },
   {
    "duration": 6,
    "start_time": "2024-11-01T23:16:09.103Z"
   },
   {
    "duration": 20,
    "start_time": "2024-11-01T23:16:09.110Z"
   },
   {
    "duration": 316,
    "start_time": "2024-11-01T23:16:09.131Z"
   },
   {
    "duration": 15,
    "start_time": "2024-11-01T23:16:09.449Z"
   },
   {
    "duration": 220,
    "start_time": "2024-11-01T23:16:09.465Z"
   },
   {
    "duration": 293,
    "start_time": "2024-11-01T23:16:09.688Z"
   },
   {
    "duration": 241,
    "start_time": "2024-11-01T23:16:09.983Z"
   },
   {
    "duration": 249,
    "start_time": "2024-11-01T23:16:10.225Z"
   },
   {
    "duration": 229,
    "start_time": "2024-11-01T23:16:10.475Z"
   },
   {
    "duration": 229,
    "start_time": "2024-11-01T23:16:10.705Z"
   },
   {
    "duration": 222,
    "start_time": "2024-11-01T23:16:10.936Z"
   },
   {
    "duration": 254,
    "start_time": "2024-11-01T23:16:11.160Z"
   },
   {
    "duration": 221,
    "start_time": "2024-11-01T23:16:11.420Z"
   },
   {
    "duration": 186,
    "start_time": "2024-11-01T23:16:11.643Z"
   },
   {
    "duration": 246,
    "start_time": "2024-11-01T23:16:11.830Z"
   },
   {
    "duration": 5,
    "start_time": "2024-11-01T23:16:12.078Z"
   },
   {
    "duration": 182,
    "start_time": "2024-11-01T23:16:12.084Z"
   },
   {
    "duration": 170,
    "start_time": "2024-11-01T23:16:12.268Z"
   },
   {
    "duration": 191,
    "start_time": "2024-11-01T23:16:12.439Z"
   },
   {
    "duration": 4,
    "start_time": "2024-11-01T23:19:54.091Z"
   },
   {
    "duration": 4,
    "start_time": "2024-11-01T23:20:20.777Z"
   },
   {
    "duration": 4,
    "start_time": "2024-11-01T23:21:03.279Z"
   },
   {
    "duration": 288,
    "start_time": "2024-11-01T23:22:35.569Z"
   },
   {
    "duration": 218,
    "start_time": "2024-11-01T23:22:45.005Z"
   },
   {
    "duration": 598,
    "start_time": "2024-11-01T23:23:28.629Z"
   },
   {
    "duration": 106,
    "start_time": "2024-11-01T23:23:29.229Z"
   },
   {
    "duration": 27,
    "start_time": "2024-11-01T23:23:29.336Z"
   },
   {
    "duration": 1800,
    "start_time": "2024-11-01T23:23:29.365Z"
   },
   {
    "duration": 9,
    "start_time": "2024-11-01T23:23:31.167Z"
   },
   {
    "duration": 24,
    "start_time": "2024-11-01T23:23:31.177Z"
   },
   {
    "duration": 50,
    "start_time": "2024-11-01T23:23:31.203Z"
   },
   {
    "duration": 121,
    "start_time": "2024-11-01T23:23:31.254Z"
   },
   {
    "duration": 5,
    "start_time": "2024-11-01T23:23:31.377Z"
   },
   {
    "duration": 55,
    "start_time": "2024-11-01T23:23:31.385Z"
   },
   {
    "duration": 322,
    "start_time": "2024-11-01T23:23:31.442Z"
   },
   {
    "duration": 15,
    "start_time": "2024-11-01T23:23:31.765Z"
   },
   {
    "duration": 256,
    "start_time": "2024-11-01T23:23:31.781Z"
   },
   {
    "duration": 312,
    "start_time": "2024-11-01T23:23:32.039Z"
   },
   {
    "duration": 261,
    "start_time": "2024-11-01T23:23:32.352Z"
   },
   {
    "duration": 255,
    "start_time": "2024-11-01T23:23:32.615Z"
   },
   {
    "duration": 237,
    "start_time": "2024-11-01T23:23:32.872Z"
   },
   {
    "duration": 235,
    "start_time": "2024-11-01T23:23:33.110Z"
   },
   {
    "duration": 236,
    "start_time": "2024-11-01T23:23:33.347Z"
   },
   {
    "duration": 237,
    "start_time": "2024-11-01T23:23:33.584Z"
   },
   {
    "duration": 228,
    "start_time": "2024-11-01T23:23:33.822Z"
   },
   {
    "duration": 194,
    "start_time": "2024-11-01T23:23:34.052Z"
   },
   {
    "duration": 256,
    "start_time": "2024-11-01T23:23:34.248Z"
   },
   {
    "duration": 16,
    "start_time": "2024-11-01T23:23:34.505Z"
   },
   {
    "duration": 173,
    "start_time": "2024-11-01T23:23:34.522Z"
   },
   {
    "duration": 169,
    "start_time": "2024-11-01T23:23:34.697Z"
   },
   {
    "duration": 176,
    "start_time": "2024-11-01T23:23:34.867Z"
   },
   {
    "duration": 577,
    "start_time": "2024-11-01T23:26:34.082Z"
   },
   {
    "duration": 106,
    "start_time": "2024-11-01T23:26:34.661Z"
   },
   {
    "duration": 29,
    "start_time": "2024-11-01T23:26:34.768Z"
   },
   {
    "duration": 1750,
    "start_time": "2024-11-01T23:26:34.799Z"
   },
   {
    "duration": 10,
    "start_time": "2024-11-01T23:26:36.551Z"
   },
   {
    "duration": 19,
    "start_time": "2024-11-01T23:26:36.562Z"
   },
   {
    "duration": 16,
    "start_time": "2024-11-01T23:26:36.583Z"
   },
   {
    "duration": 108,
    "start_time": "2024-11-01T23:26:36.600Z"
   },
   {
    "duration": 12,
    "start_time": "2024-11-01T23:26:36.709Z"
   },
   {
    "duration": 10,
    "start_time": "2024-11-01T23:26:36.723Z"
   },
   {
    "duration": 313,
    "start_time": "2024-11-01T23:26:36.735Z"
   },
   {
    "duration": 75,
    "start_time": "2024-11-01T23:26:37.050Z"
   },
   {
    "duration": 1,
    "start_time": "2024-11-01T23:26:37.126Z"
   },
   {
    "duration": 0,
    "start_time": "2024-11-01T23:26:37.128Z"
   },
   {
    "duration": 0,
    "start_time": "2024-11-01T23:26:37.128Z"
   },
   {
    "duration": 0,
    "start_time": "2024-11-01T23:26:37.130Z"
   },
   {
    "duration": 1,
    "start_time": "2024-11-01T23:26:37.130Z"
   },
   {
    "duration": 0,
    "start_time": "2024-11-01T23:26:37.131Z"
   },
   {
    "duration": 0,
    "start_time": "2024-11-01T23:26:37.132Z"
   },
   {
    "duration": 0,
    "start_time": "2024-11-01T23:26:37.133Z"
   },
   {
    "duration": 0,
    "start_time": "2024-11-01T23:26:37.134Z"
   },
   {
    "duration": 0,
    "start_time": "2024-11-01T23:26:37.135Z"
   },
   {
    "duration": 0,
    "start_time": "2024-11-01T23:26:37.136Z"
   },
   {
    "duration": 0,
    "start_time": "2024-11-01T23:26:37.138Z"
   },
   {
    "duration": 0,
    "start_time": "2024-11-01T23:26:37.138Z"
   },
   {
    "duration": 0,
    "start_time": "2024-11-01T23:26:37.139Z"
   },
   {
    "duration": 0,
    "start_time": "2024-11-01T23:26:37.140Z"
   },
   {
    "duration": 571,
    "start_time": "2024-11-01T23:28:24.278Z"
   },
   {
    "duration": 105,
    "start_time": "2024-11-01T23:28:24.850Z"
   },
   {
    "duration": 25,
    "start_time": "2024-11-01T23:28:24.957Z"
   },
   {
    "duration": 1745,
    "start_time": "2024-11-01T23:28:24.984Z"
   },
   {
    "duration": 10,
    "start_time": "2024-11-01T23:28:26.731Z"
   },
   {
    "duration": 9,
    "start_time": "2024-11-01T23:28:26.743Z"
   },
   {
    "duration": 20,
    "start_time": "2024-11-01T23:28:26.753Z"
   },
   {
    "duration": 123,
    "start_time": "2024-11-01T23:28:26.775Z"
   },
   {
    "duration": 6,
    "start_time": "2024-11-01T23:28:26.899Z"
   },
   {
    "duration": 11,
    "start_time": "2024-11-01T23:28:26.920Z"
   },
   {
    "duration": 306,
    "start_time": "2024-11-01T23:28:26.933Z"
   },
   {
    "duration": 120,
    "start_time": "2024-11-01T23:28:27.241Z"
   },
   {
    "duration": 245,
    "start_time": "2024-11-01T23:28:27.363Z"
   },
   {
    "duration": 292,
    "start_time": "2024-11-01T23:28:27.610Z"
   },
   {
    "duration": 244,
    "start_time": "2024-11-01T23:28:27.903Z"
   },
   {
    "duration": 247,
    "start_time": "2024-11-01T23:28:28.148Z"
   },
   {
    "duration": 226,
    "start_time": "2024-11-01T23:28:28.396Z"
   },
   {
    "duration": 234,
    "start_time": "2024-11-01T23:28:28.624Z"
   },
   {
    "duration": 281,
    "start_time": "2024-11-01T23:28:28.860Z"
   },
   {
    "duration": 206,
    "start_time": "2024-11-01T23:28:29.143Z"
   },
   {
    "duration": 273,
    "start_time": "2024-11-01T23:28:29.350Z"
   },
   {
    "duration": 204,
    "start_time": "2024-11-01T23:28:29.624Z"
   },
   {
    "duration": 241,
    "start_time": "2024-11-01T23:28:29.829Z"
   },
   {
    "duration": 5,
    "start_time": "2024-11-01T23:28:30.072Z"
   },
   {
    "duration": 168,
    "start_time": "2024-11-01T23:28:30.078Z"
   },
   {
    "duration": 168,
    "start_time": "2024-11-01T23:28:30.247Z"
   },
   {
    "duration": 268,
    "start_time": "2024-11-01T23:28:30.420Z"
   },
   {
    "duration": 106,
    "start_time": "2024-11-01T23:31:39.366Z"
   },
   {
    "duration": 624,
    "start_time": "2024-11-01T23:31:46.789Z"
   },
   {
    "duration": 106,
    "start_time": "2024-11-01T23:31:47.415Z"
   },
   {
    "duration": 27,
    "start_time": "2024-11-01T23:31:47.523Z"
   },
   {
    "duration": 1766,
    "start_time": "2024-11-01T23:31:47.551Z"
   },
   {
    "duration": 11,
    "start_time": "2024-11-01T23:31:49.320Z"
   },
   {
    "duration": 69,
    "start_time": "2024-11-01T23:31:49.332Z"
   },
   {
    "duration": 15,
    "start_time": "2024-11-01T23:31:49.403Z"
   },
   {
    "duration": 109,
    "start_time": "2024-11-01T23:31:49.419Z"
   },
   {
    "duration": 5,
    "start_time": "2024-11-01T23:31:49.530Z"
   },
   {
    "duration": 11,
    "start_time": "2024-11-01T23:31:49.536Z"
   },
   {
    "duration": 321,
    "start_time": "2024-11-01T23:31:49.549Z"
   },
   {
    "duration": 108,
    "start_time": "2024-11-01T23:31:49.872Z"
   },
   {
    "duration": 247,
    "start_time": "2024-11-01T23:31:49.982Z"
   },
   {
    "duration": 313,
    "start_time": "2024-11-01T23:31:50.232Z"
   },
   {
    "duration": 247,
    "start_time": "2024-11-01T23:31:50.547Z"
   },
   {
    "duration": 243,
    "start_time": "2024-11-01T23:31:50.795Z"
   },
   {
    "duration": 222,
    "start_time": "2024-11-01T23:31:51.039Z"
   },
   {
    "duration": 235,
    "start_time": "2024-11-01T23:31:51.262Z"
   },
   {
    "duration": 292,
    "start_time": "2024-11-01T23:31:51.498Z"
   },
   {
    "duration": 185,
    "start_time": "2024-11-01T23:31:51.792Z"
   },
   {
    "duration": 232,
    "start_time": "2024-11-01T23:31:51.979Z"
   },
   {
    "duration": 186,
    "start_time": "2024-11-01T23:31:52.213Z"
   },
   {
    "duration": 251,
    "start_time": "2024-11-01T23:31:52.401Z"
   },
   {
    "duration": 7,
    "start_time": "2024-11-01T23:31:52.653Z"
   },
   {
    "duration": 170,
    "start_time": "2024-11-01T23:31:52.663Z"
   },
   {
    "duration": 196,
    "start_time": "2024-11-01T23:31:52.835Z"
   },
   {
    "duration": 258,
    "start_time": "2024-11-01T23:31:53.033Z"
   },
   {
    "duration": 590,
    "start_time": "2024-11-01T23:34:52.480Z"
   },
   {
    "duration": 108,
    "start_time": "2024-11-01T23:34:53.072Z"
   },
   {
    "duration": 25,
    "start_time": "2024-11-01T23:34:53.181Z"
   },
   {
    "duration": 1785,
    "start_time": "2024-11-01T23:34:53.208Z"
   },
   {
    "duration": 9,
    "start_time": "2024-11-01T23:34:54.995Z"
   },
   {
    "duration": 9,
    "start_time": "2024-11-01T23:34:55.005Z"
   },
   {
    "duration": 15,
    "start_time": "2024-11-01T23:34:55.016Z"
   },
   {
    "duration": 120,
    "start_time": "2024-11-01T23:34:55.032Z"
   },
   {
    "duration": 5,
    "start_time": "2024-11-01T23:34:55.153Z"
   },
   {
    "duration": 12,
    "start_time": "2024-11-01T23:34:55.160Z"
   },
   {
    "duration": 328,
    "start_time": "2024-11-01T23:34:55.174Z"
   },
   {
    "duration": 121,
    "start_time": "2024-11-01T23:34:55.503Z"
   },
   {
    "duration": 234,
    "start_time": "2024-11-01T23:34:55.625Z"
   },
   {
    "duration": 301,
    "start_time": "2024-11-01T23:34:55.861Z"
   },
   {
    "duration": 234,
    "start_time": "2024-11-01T23:34:56.163Z"
   },
   {
    "duration": 238,
    "start_time": "2024-11-01T23:34:56.399Z"
   },
   {
    "duration": 223,
    "start_time": "2024-11-01T23:34:56.638Z"
   },
   {
    "duration": 220,
    "start_time": "2024-11-01T23:34:56.862Z"
   },
   {
    "duration": 289,
    "start_time": "2024-11-01T23:34:57.083Z"
   },
   {
    "duration": 181,
    "start_time": "2024-11-01T23:34:57.373Z"
   },
   {
    "duration": 222,
    "start_time": "2024-11-01T23:34:57.556Z"
   },
   {
    "duration": 187,
    "start_time": "2024-11-01T23:34:57.779Z"
   },
   {
    "duration": 231,
    "start_time": "2024-11-01T23:34:57.968Z"
   },
   {
    "duration": 5,
    "start_time": "2024-11-01T23:34:58.200Z"
   },
   {
    "duration": 169,
    "start_time": "2024-11-01T23:34:58.207Z"
   },
   {
    "duration": 167,
    "start_time": "2024-11-01T23:34:58.377Z"
   },
   {
    "duration": 254,
    "start_time": "2024-11-01T23:34:58.546Z"
   },
   {
    "duration": 108,
    "start_time": "2024-11-01T23:41:03.107Z"
   },
   {
    "duration": 585,
    "start_time": "2024-11-01T23:41:14.752Z"
   },
   {
    "duration": 110,
    "start_time": "2024-11-01T23:41:15.339Z"
   },
   {
    "duration": 25,
    "start_time": "2024-11-01T23:41:15.450Z"
   },
   {
    "duration": 1792,
    "start_time": "2024-11-01T23:41:15.477Z"
   },
   {
    "duration": 11,
    "start_time": "2024-11-01T23:41:17.271Z"
   },
   {
    "duration": 26,
    "start_time": "2024-11-01T23:41:17.285Z"
   },
   {
    "duration": 33,
    "start_time": "2024-11-01T23:41:17.313Z"
   },
   {
    "duration": 115,
    "start_time": "2024-11-01T23:41:17.347Z"
   },
   {
    "duration": 5,
    "start_time": "2024-11-01T23:41:17.464Z"
   },
   {
    "duration": 28,
    "start_time": "2024-11-01T23:41:17.471Z"
   },
   {
    "duration": 320,
    "start_time": "2024-11-01T23:41:17.500Z"
   },
   {
    "duration": 123,
    "start_time": "2024-11-01T23:41:17.822Z"
   },
   {
    "duration": 232,
    "start_time": "2024-11-01T23:41:17.947Z"
   },
   {
    "duration": 319,
    "start_time": "2024-11-01T23:41:18.181Z"
   },
   {
    "duration": 222,
    "start_time": "2024-11-01T23:41:18.501Z"
   },
   {
    "duration": 251,
    "start_time": "2024-11-01T23:41:18.725Z"
   },
   {
    "duration": 234,
    "start_time": "2024-11-01T23:41:18.977Z"
   },
   {
    "duration": 233,
    "start_time": "2024-11-01T23:41:19.212Z"
   },
   {
    "duration": 287,
    "start_time": "2024-11-01T23:41:19.447Z"
   },
   {
    "duration": 181,
    "start_time": "2024-11-01T23:41:19.735Z"
   },
   {
    "duration": 226,
    "start_time": "2024-11-01T23:41:19.917Z"
   },
   {
    "duration": 185,
    "start_time": "2024-11-01T23:41:20.144Z"
   },
   {
    "duration": 242,
    "start_time": "2024-11-01T23:41:20.330Z"
   },
   {
    "duration": 6,
    "start_time": "2024-11-01T23:41:20.574Z"
   },
   {
    "duration": 162,
    "start_time": "2024-11-01T23:41:20.581Z"
   },
   {
    "duration": 157,
    "start_time": "2024-11-01T23:41:20.744Z"
   },
   {
    "duration": 260,
    "start_time": "2024-11-01T23:41:20.903Z"
   },
   {
    "duration": 564,
    "start_time": "2024-11-01T23:41:54.862Z"
   },
   {
    "duration": 109,
    "start_time": "2024-11-01T23:41:55.427Z"
   },
   {
    "duration": 26,
    "start_time": "2024-11-01T23:41:55.538Z"
   },
   {
    "duration": 1764,
    "start_time": "2024-11-01T23:41:55.565Z"
   },
   {
    "duration": 10,
    "start_time": "2024-11-01T23:41:57.331Z"
   },
   {
    "duration": 45,
    "start_time": "2024-11-01T23:41:57.342Z"
   },
   {
    "duration": 24,
    "start_time": "2024-11-01T23:41:57.388Z"
   },
   {
    "duration": 111,
    "start_time": "2024-11-01T23:41:57.413Z"
   },
   {
    "duration": 4,
    "start_time": "2024-11-01T23:41:57.526Z"
   },
   {
    "duration": 11,
    "start_time": "2024-11-01T23:41:57.532Z"
   },
   {
    "duration": 316,
    "start_time": "2024-11-01T23:41:57.544Z"
   },
   {
    "duration": 124,
    "start_time": "2024-11-01T23:41:57.861Z"
   },
   {
    "duration": 234,
    "start_time": "2024-11-01T23:41:57.987Z"
   },
   {
    "duration": 312,
    "start_time": "2024-11-01T23:41:58.222Z"
   },
   {
    "duration": 231,
    "start_time": "2024-11-01T23:41:58.536Z"
   },
   {
    "duration": 244,
    "start_time": "2024-11-01T23:41:58.769Z"
   },
   {
    "duration": 232,
    "start_time": "2024-11-01T23:41:59.020Z"
   },
   {
    "duration": 231,
    "start_time": "2024-11-01T23:41:59.254Z"
   },
   {
    "duration": 288,
    "start_time": "2024-11-01T23:41:59.486Z"
   },
   {
    "duration": 192,
    "start_time": "2024-11-01T23:41:59.776Z"
   },
   {
    "duration": 224,
    "start_time": "2024-11-01T23:41:59.970Z"
   },
   {
    "duration": 203,
    "start_time": "2024-11-01T23:42:00.195Z"
   },
   {
    "duration": 233,
    "start_time": "2024-11-01T23:42:00.399Z"
   },
   {
    "duration": 5,
    "start_time": "2024-11-01T23:42:00.633Z"
   },
   {
    "duration": 199,
    "start_time": "2024-11-01T23:42:00.639Z"
   },
   {
    "duration": 169,
    "start_time": "2024-11-01T23:42:00.840Z"
   },
   {
    "duration": 257,
    "start_time": "2024-11-01T23:42:01.011Z"
   },
   {
    "duration": 611,
    "start_time": "2024-11-01T23:42:29.170Z"
   },
   {
    "duration": 105,
    "start_time": "2024-11-01T23:42:29.782Z"
   },
   {
    "duration": 34,
    "start_time": "2024-11-01T23:42:29.889Z"
   },
   {
    "duration": 1772,
    "start_time": "2024-11-01T23:42:29.925Z"
   },
   {
    "duration": 9,
    "start_time": "2024-11-01T23:42:31.699Z"
   },
   {
    "duration": 83,
    "start_time": "2024-11-01T23:42:31.709Z"
   },
   {
    "duration": 25,
    "start_time": "2024-11-01T23:42:31.793Z"
   },
   {
    "duration": 128,
    "start_time": "2024-11-01T23:42:31.819Z"
   },
   {
    "duration": 5,
    "start_time": "2024-11-01T23:42:31.948Z"
   },
   {
    "duration": 28,
    "start_time": "2024-11-01T23:42:31.955Z"
   },
   {
    "duration": 300,
    "start_time": "2024-11-01T23:42:31.985Z"
   },
   {
    "duration": 138,
    "start_time": "2024-11-01T23:42:32.287Z"
   },
   {
    "duration": 234,
    "start_time": "2024-11-01T23:42:32.427Z"
   },
   {
    "duration": 328,
    "start_time": "2024-11-01T23:42:32.664Z"
   },
   {
    "duration": 229,
    "start_time": "2024-11-01T23:42:32.993Z"
   },
   {
    "duration": 232,
    "start_time": "2024-11-01T23:42:33.224Z"
   },
   {
    "duration": 225,
    "start_time": "2024-11-01T23:42:33.458Z"
   },
   {
    "duration": 229,
    "start_time": "2024-11-01T23:42:33.685Z"
   },
   {
    "duration": 295,
    "start_time": "2024-11-01T23:42:33.915Z"
   },
   {
    "duration": 179,
    "start_time": "2024-11-01T23:42:34.212Z"
   },
   {
    "duration": 230,
    "start_time": "2024-11-01T23:42:34.392Z"
   },
   {
    "duration": 199,
    "start_time": "2024-11-01T23:42:34.624Z"
   },
   {
    "duration": 230,
    "start_time": "2024-11-01T23:42:34.825Z"
   },
   {
    "duration": 5,
    "start_time": "2024-11-01T23:42:35.057Z"
   },
   {
    "duration": 177,
    "start_time": "2024-11-01T23:42:35.064Z"
   },
   {
    "duration": 167,
    "start_time": "2024-11-01T23:42:35.243Z"
   },
   {
    "duration": 253,
    "start_time": "2024-11-01T23:42:35.411Z"
   },
   {
    "duration": 201,
    "start_time": "2024-11-01T23:42:44.321Z"
   },
   {
    "duration": 560,
    "start_time": "2024-11-01T23:43:06.661Z"
   },
   {
    "duration": 123,
    "start_time": "2024-11-01T23:43:07.223Z"
   },
   {
    "duration": 26,
    "start_time": "2024-11-01T23:43:07.348Z"
   },
   {
    "duration": 1765,
    "start_time": "2024-11-01T23:43:07.376Z"
   },
   {
    "duration": 10,
    "start_time": "2024-11-01T23:43:09.143Z"
   },
   {
    "duration": 8,
    "start_time": "2024-11-01T23:43:09.154Z"
   },
   {
    "duration": 15,
    "start_time": "2024-11-01T23:43:09.163Z"
   },
   {
    "duration": 114,
    "start_time": "2024-11-01T23:43:09.180Z"
   },
   {
    "duration": 5,
    "start_time": "2024-11-01T23:43:09.296Z"
   },
   {
    "duration": 20,
    "start_time": "2024-11-01T23:43:09.302Z"
   },
   {
    "duration": 303,
    "start_time": "2024-11-01T23:43:09.323Z"
   },
   {
    "duration": 123,
    "start_time": "2024-11-01T23:43:09.628Z"
   },
   {
    "duration": 231,
    "start_time": "2024-11-01T23:43:09.753Z"
   },
   {
    "duration": 313,
    "start_time": "2024-11-01T23:43:09.986Z"
   },
   {
    "duration": 221,
    "start_time": "2024-11-01T23:43:10.300Z"
   },
   {
    "duration": 200,
    "start_time": "2024-11-01T23:43:10.522Z"
   },
   {
    "duration": 238,
    "start_time": "2024-11-01T23:43:10.723Z"
   },
   {
    "duration": 228,
    "start_time": "2024-11-01T23:43:10.963Z"
   },
   {
    "duration": 277,
    "start_time": "2024-11-01T23:43:11.193Z"
   },
   {
    "duration": 186,
    "start_time": "2024-11-01T23:43:11.471Z"
   },
   {
    "duration": 223,
    "start_time": "2024-11-01T23:43:11.658Z"
   },
   {
    "duration": 190,
    "start_time": "2024-11-01T23:43:11.882Z"
   },
   {
    "duration": 234,
    "start_time": "2024-11-01T23:43:12.074Z"
   },
   {
    "duration": 12,
    "start_time": "2024-11-01T23:43:12.309Z"
   },
   {
    "duration": 221,
    "start_time": "2024-11-01T23:43:12.323Z"
   },
   {
    "duration": 156,
    "start_time": "2024-11-01T23:43:12.545Z"
   },
   {
    "duration": 262,
    "start_time": "2024-11-01T23:43:12.702Z"
   },
   {
    "duration": 233,
    "start_time": "2024-11-01T23:43:53.639Z"
   },
   {
    "duration": 612,
    "start_time": "2024-11-01T23:48:46.612Z"
   },
   {
    "duration": 131,
    "start_time": "2024-11-01T23:48:47.226Z"
   },
   {
    "duration": 27,
    "start_time": "2024-11-01T23:48:47.358Z"
   },
   {
    "duration": 1795,
    "start_time": "2024-11-01T23:48:47.386Z"
   },
   {
    "duration": 9,
    "start_time": "2024-11-01T23:48:49.183Z"
   },
   {
    "duration": 7,
    "start_time": "2024-11-01T23:48:49.194Z"
   },
   {
    "duration": 15,
    "start_time": "2024-11-01T23:48:49.202Z"
   },
   {
    "duration": 113,
    "start_time": "2024-11-01T23:48:49.218Z"
   },
   {
    "duration": 5,
    "start_time": "2024-11-01T23:48:49.333Z"
   },
   {
    "duration": 12,
    "start_time": "2024-11-01T23:48:49.339Z"
   },
   {
    "duration": 315,
    "start_time": "2024-11-01T23:48:49.352Z"
   },
   {
    "duration": 124,
    "start_time": "2024-11-01T23:48:49.668Z"
   },
   {
    "duration": 270,
    "start_time": "2024-11-01T23:48:49.793Z"
   },
   {
    "duration": 310,
    "start_time": "2024-11-01T23:48:50.065Z"
   },
   {
    "duration": 225,
    "start_time": "2024-11-01T23:48:50.377Z"
   },
   {
    "duration": 50,
    "start_time": "2024-11-01T23:48:50.603Z"
   },
   {
    "duration": 0,
    "start_time": "2024-11-01T23:48:50.654Z"
   },
   {
    "duration": 0,
    "start_time": "2024-11-01T23:48:50.655Z"
   },
   {
    "duration": 0,
    "start_time": "2024-11-01T23:48:50.656Z"
   },
   {
    "duration": 0,
    "start_time": "2024-11-01T23:48:50.658Z"
   },
   {
    "duration": 0,
    "start_time": "2024-11-01T23:48:50.659Z"
   },
   {
    "duration": 0,
    "start_time": "2024-11-01T23:48:50.660Z"
   },
   {
    "duration": 0,
    "start_time": "2024-11-01T23:48:50.661Z"
   },
   {
    "duration": 0,
    "start_time": "2024-11-01T23:48:50.662Z"
   },
   {
    "duration": 0,
    "start_time": "2024-11-01T23:48:50.663Z"
   },
   {
    "duration": 0,
    "start_time": "2024-11-01T23:48:50.664Z"
   },
   {
    "duration": 0,
    "start_time": "2024-11-01T23:48:50.666Z"
   },
   {
    "duration": 544,
    "start_time": "2024-11-01T23:49:00.978Z"
   },
   {
    "duration": 105,
    "start_time": "2024-11-01T23:49:01.523Z"
   },
   {
    "duration": 25,
    "start_time": "2024-11-01T23:49:01.629Z"
   },
   {
    "duration": 1942,
    "start_time": "2024-11-01T23:49:01.655Z"
   },
   {
    "duration": 8,
    "start_time": "2024-11-01T23:49:03.599Z"
   },
   {
    "duration": 14,
    "start_time": "2024-11-01T23:49:03.608Z"
   },
   {
    "duration": 70,
    "start_time": "2024-11-01T23:49:03.623Z"
   },
   {
    "duration": 273,
    "start_time": "2024-11-01T23:49:03.694Z"
   },
   {
    "duration": 5,
    "start_time": "2024-11-01T23:49:03.968Z"
   },
   {
    "duration": 60,
    "start_time": "2024-11-01T23:49:03.975Z"
   },
   {
    "duration": 308,
    "start_time": "2024-11-01T23:49:04.036Z"
   },
   {
    "duration": 134,
    "start_time": "2024-11-01T23:49:04.345Z"
   },
   {
    "duration": 242,
    "start_time": "2024-11-01T23:49:04.480Z"
   },
   {
    "duration": 349,
    "start_time": "2024-11-01T23:49:04.724Z"
   },
   {
    "duration": 221,
    "start_time": "2024-11-01T23:49:05.074Z"
   },
   {
    "duration": 210,
    "start_time": "2024-11-01T23:49:05.296Z"
   },
   {
    "duration": 251,
    "start_time": "2024-11-01T23:49:05.508Z"
   },
   {
    "duration": 228,
    "start_time": "2024-11-01T23:49:05.761Z"
   },
   {
    "duration": 304,
    "start_time": "2024-11-01T23:49:05.990Z"
   },
   {
    "duration": 195,
    "start_time": "2024-11-01T23:49:06.295Z"
   },
   {
    "duration": 234,
    "start_time": "2024-11-01T23:49:06.491Z"
   },
   {
    "duration": 189,
    "start_time": "2024-11-01T23:49:06.727Z"
   },
   {
    "duration": 244,
    "start_time": "2024-11-01T23:49:06.920Z"
   },
   {
    "duration": 6,
    "start_time": "2024-11-01T23:49:07.165Z"
   },
   {
    "duration": 207,
    "start_time": "2024-11-01T23:49:07.172Z"
   },
   {
    "duration": 170,
    "start_time": "2024-11-01T23:49:07.381Z"
   },
   {
    "duration": 249,
    "start_time": "2024-11-01T23:49:07.552Z"
   },
   {
    "duration": 580,
    "start_time": "2024-11-01T23:50:34.421Z"
   },
   {
    "duration": 105,
    "start_time": "2024-11-01T23:50:35.003Z"
   },
   {
    "duration": 25,
    "start_time": "2024-11-01T23:50:35.110Z"
   },
   {
    "duration": 1748,
    "start_time": "2024-11-01T23:50:35.137Z"
   },
   {
    "duration": 10,
    "start_time": "2024-11-01T23:50:36.887Z"
   },
   {
    "duration": 16,
    "start_time": "2024-11-01T23:50:36.899Z"
   },
   {
    "duration": 20,
    "start_time": "2024-11-01T23:50:36.917Z"
   },
   {
    "duration": 122,
    "start_time": "2024-11-01T23:50:36.938Z"
   },
   {
    "duration": 5,
    "start_time": "2024-11-01T23:50:37.062Z"
   },
   {
    "duration": 25,
    "start_time": "2024-11-01T23:50:37.069Z"
   },
   {
    "duration": 318,
    "start_time": "2024-11-01T23:50:37.095Z"
   },
   {
    "duration": 125,
    "start_time": "2024-11-01T23:50:37.414Z"
   },
   {
    "duration": 233,
    "start_time": "2024-11-01T23:50:37.541Z"
   },
   {
    "duration": 327,
    "start_time": "2024-11-01T23:50:37.775Z"
   },
   {
    "duration": 219,
    "start_time": "2024-11-01T23:50:38.103Z"
   },
   {
    "duration": 206,
    "start_time": "2024-11-01T23:50:38.324Z"
   },
   {
    "duration": 234,
    "start_time": "2024-11-01T23:50:38.532Z"
   },
   {
    "duration": 227,
    "start_time": "2024-11-01T23:50:38.767Z"
   },
   {
    "duration": 293,
    "start_time": "2024-11-01T23:50:38.996Z"
   },
   {
    "duration": 190,
    "start_time": "2024-11-01T23:50:39.290Z"
   },
   {
    "duration": 223,
    "start_time": "2024-11-01T23:50:39.482Z"
   },
   {
    "duration": 184,
    "start_time": "2024-11-01T23:50:39.706Z"
   },
   {
    "duration": 239,
    "start_time": "2024-11-01T23:50:39.891Z"
   },
   {
    "duration": 5,
    "start_time": "2024-11-01T23:50:40.132Z"
   },
   {
    "duration": 164,
    "start_time": "2024-11-01T23:50:40.139Z"
   },
   {
    "duration": 164,
    "start_time": "2024-11-01T23:50:40.305Z"
   },
   {
    "duration": 257,
    "start_time": "2024-11-01T23:50:40.471Z"
   },
   {
    "duration": 609,
    "start_time": "2024-11-01T23:51:28.489Z"
   },
   {
    "duration": 112,
    "start_time": "2024-11-01T23:51:29.099Z"
   },
   {
    "duration": 27,
    "start_time": "2024-11-01T23:51:29.212Z"
   },
   {
    "duration": 1801,
    "start_time": "2024-11-01T23:51:29.240Z"
   },
   {
    "duration": 10,
    "start_time": "2024-11-01T23:51:31.043Z"
   },
   {
    "duration": 33,
    "start_time": "2024-11-01T23:51:31.054Z"
   },
   {
    "duration": 26,
    "start_time": "2024-11-01T23:51:31.089Z"
   },
   {
    "duration": 115,
    "start_time": "2024-11-01T23:51:31.116Z"
   },
   {
    "duration": 5,
    "start_time": "2024-11-01T23:51:31.233Z"
   },
   {
    "duration": 43,
    "start_time": "2024-11-01T23:51:31.239Z"
   },
   {
    "duration": 312,
    "start_time": "2024-11-01T23:51:31.284Z"
   },
   {
    "duration": 128,
    "start_time": "2024-11-01T23:51:31.598Z"
   },
   {
    "duration": 233,
    "start_time": "2024-11-01T23:51:31.727Z"
   },
   {
    "duration": 315,
    "start_time": "2024-11-01T23:51:31.962Z"
   },
   {
    "duration": 240,
    "start_time": "2024-11-01T23:51:32.279Z"
   },
   {
    "duration": 214,
    "start_time": "2024-11-01T23:51:32.521Z"
   },
   {
    "duration": 256,
    "start_time": "2024-11-01T23:51:32.737Z"
   },
   {
    "duration": 228,
    "start_time": "2024-11-01T23:51:32.994Z"
   },
   {
    "duration": 306,
    "start_time": "2024-11-01T23:51:33.224Z"
   },
   {
    "duration": 197,
    "start_time": "2024-11-01T23:51:33.531Z"
   },
   {
    "duration": 231,
    "start_time": "2024-11-01T23:51:33.730Z"
   },
   {
    "duration": 186,
    "start_time": "2024-11-01T23:51:33.963Z"
   },
   {
    "duration": 248,
    "start_time": "2024-11-01T23:51:34.151Z"
   },
   {
    "duration": 5,
    "start_time": "2024-11-01T23:51:34.401Z"
   },
   {
    "duration": 174,
    "start_time": "2024-11-01T23:51:34.407Z"
   },
   {
    "duration": 163,
    "start_time": "2024-11-01T23:51:34.583Z"
   },
   {
    "duration": 253,
    "start_time": "2024-11-01T23:51:34.748Z"
   },
   {
    "duration": 564,
    "start_time": "2024-11-01T23:54:06.051Z"
   },
   {
    "duration": 106,
    "start_time": "2024-11-01T23:54:06.616Z"
   },
   {
    "duration": 24,
    "start_time": "2024-11-01T23:54:06.724Z"
   },
   {
    "duration": 1763,
    "start_time": "2024-11-01T23:54:06.750Z"
   },
   {
    "duration": 9,
    "start_time": "2024-11-01T23:54:08.515Z"
   },
   {
    "duration": 8,
    "start_time": "2024-11-01T23:54:08.525Z"
   },
   {
    "duration": 30,
    "start_time": "2024-11-01T23:54:08.534Z"
   },
   {
    "duration": 111,
    "start_time": "2024-11-01T23:54:08.565Z"
   },
   {
    "duration": 5,
    "start_time": "2024-11-01T23:54:08.677Z"
   },
   {
    "duration": 19,
    "start_time": "2024-11-01T23:54:08.684Z"
   },
   {
    "duration": 311,
    "start_time": "2024-11-01T23:54:08.704Z"
   },
   {
    "duration": 119,
    "start_time": "2024-11-01T23:54:09.017Z"
   },
   {
    "duration": 220,
    "start_time": "2024-11-01T23:54:09.138Z"
   },
   {
    "duration": 303,
    "start_time": "2024-11-01T23:54:09.359Z"
   },
   {
    "duration": 210,
    "start_time": "2024-11-01T23:54:09.663Z"
   },
   {
    "duration": 203,
    "start_time": "2024-11-01T23:54:09.875Z"
   },
   {
    "duration": 228,
    "start_time": "2024-11-01T23:54:10.080Z"
   },
   {
    "duration": 226,
    "start_time": "2024-11-01T23:54:10.310Z"
   },
   {
    "duration": 295,
    "start_time": "2024-11-01T23:54:10.538Z"
   },
   {
    "duration": 178,
    "start_time": "2024-11-01T23:54:10.835Z"
   },
   {
    "duration": 217,
    "start_time": "2024-11-01T23:54:11.014Z"
   },
   {
    "duration": 188,
    "start_time": "2024-11-01T23:54:11.233Z"
   },
   {
    "duration": 237,
    "start_time": "2024-11-01T23:54:11.422Z"
   },
   {
    "duration": 6,
    "start_time": "2024-11-01T23:54:11.661Z"
   },
   {
    "duration": 162,
    "start_time": "2024-11-01T23:54:11.668Z"
   },
   {
    "duration": 152,
    "start_time": "2024-11-01T23:54:11.831Z"
   },
   {
    "duration": 239,
    "start_time": "2024-11-01T23:54:11.984Z"
   },
   {
    "duration": 598,
    "start_time": "2024-11-01T23:54:43.323Z"
   },
   {
    "duration": 105,
    "start_time": "2024-11-01T23:54:43.923Z"
   },
   {
    "duration": 26,
    "start_time": "2024-11-01T23:54:44.029Z"
   },
   {
    "duration": 1761,
    "start_time": "2024-11-01T23:54:44.056Z"
   },
   {
    "duration": 8,
    "start_time": "2024-11-01T23:54:45.819Z"
   },
   {
    "duration": 7,
    "start_time": "2024-11-01T23:54:45.829Z"
   },
   {
    "duration": 15,
    "start_time": "2024-11-01T23:54:45.837Z"
   },
   {
    "duration": 125,
    "start_time": "2024-11-01T23:54:45.854Z"
   },
   {
    "duration": 5,
    "start_time": "2024-11-01T23:54:45.981Z"
   },
   {
    "duration": 17,
    "start_time": "2024-11-01T23:54:45.987Z"
   },
   {
    "duration": 315,
    "start_time": "2024-11-01T23:54:46.006Z"
   },
   {
    "duration": 129,
    "start_time": "2024-11-01T23:54:46.322Z"
   },
   {
    "duration": 233,
    "start_time": "2024-11-01T23:54:46.453Z"
   },
   {
    "duration": 316,
    "start_time": "2024-11-01T23:54:46.689Z"
   },
   {
    "duration": 218,
    "start_time": "2024-11-01T23:54:47.006Z"
   },
   {
    "duration": 238,
    "start_time": "2024-11-01T23:54:47.225Z"
   },
   {
    "duration": 232,
    "start_time": "2024-11-01T23:54:47.464Z"
   },
   {
    "duration": 225,
    "start_time": "2024-11-01T23:54:47.698Z"
   },
   {
    "duration": 279,
    "start_time": "2024-11-01T23:54:47.924Z"
   },
   {
    "duration": 177,
    "start_time": "2024-11-01T23:54:48.204Z"
   },
   {
    "duration": 231,
    "start_time": "2024-11-01T23:54:48.382Z"
   },
   {
    "duration": 186,
    "start_time": "2024-11-01T23:54:48.615Z"
   },
   {
    "duration": 245,
    "start_time": "2024-11-01T23:54:48.803Z"
   },
   {
    "duration": 6,
    "start_time": "2024-11-01T23:54:49.050Z"
   },
   {
    "duration": 169,
    "start_time": "2024-11-01T23:54:49.058Z"
   },
   {
    "duration": 158,
    "start_time": "2024-11-01T23:54:49.229Z"
   },
   {
    "duration": 245,
    "start_time": "2024-11-01T23:54:49.389Z"
   },
   {
    "duration": 569,
    "start_time": "2024-11-01T23:56:04.552Z"
   },
   {
    "duration": 108,
    "start_time": "2024-11-01T23:56:05.123Z"
   },
   {
    "duration": 25,
    "start_time": "2024-11-01T23:56:05.232Z"
   },
   {
    "duration": 1755,
    "start_time": "2024-11-01T23:56:05.258Z"
   },
   {
    "duration": 8,
    "start_time": "2024-11-01T23:56:07.015Z"
   },
   {
    "duration": 8,
    "start_time": "2024-11-01T23:56:07.025Z"
   },
   {
    "duration": 18,
    "start_time": "2024-11-01T23:56:07.034Z"
   },
   {
    "duration": 118,
    "start_time": "2024-11-01T23:56:07.054Z"
   },
   {
    "duration": 5,
    "start_time": "2024-11-01T23:56:07.173Z"
   },
   {
    "duration": 13,
    "start_time": "2024-11-01T23:56:07.179Z"
   },
   {
    "duration": 329,
    "start_time": "2024-11-01T23:56:07.193Z"
   },
   {
    "duration": 125,
    "start_time": "2024-11-01T23:56:07.524Z"
   },
   {
    "duration": 236,
    "start_time": "2024-11-01T23:56:07.651Z"
   },
   {
    "duration": 315,
    "start_time": "2024-11-01T23:56:07.889Z"
   },
   {
    "duration": 242,
    "start_time": "2024-11-01T23:56:08.205Z"
   },
   {
    "duration": 227,
    "start_time": "2024-11-01T23:56:08.448Z"
   },
   {
    "duration": 234,
    "start_time": "2024-11-01T23:56:08.676Z"
   },
   {
    "duration": 223,
    "start_time": "2024-11-01T23:56:08.911Z"
   },
   {
    "duration": 291,
    "start_time": "2024-11-01T23:56:09.136Z"
   },
   {
    "duration": 179,
    "start_time": "2024-11-01T23:56:09.428Z"
   },
   {
    "duration": 223,
    "start_time": "2024-11-01T23:56:09.608Z"
   },
   {
    "duration": 190,
    "start_time": "2024-11-01T23:56:09.832Z"
   },
   {
    "duration": 233,
    "start_time": "2024-11-01T23:56:10.024Z"
   },
   {
    "duration": 5,
    "start_time": "2024-11-01T23:56:10.259Z"
   },
   {
    "duration": 164,
    "start_time": "2024-11-01T23:56:10.265Z"
   },
   {
    "duration": 164,
    "start_time": "2024-11-01T23:56:10.431Z"
   },
   {
    "duration": 250,
    "start_time": "2024-11-01T23:56:10.597Z"
   },
   {
    "duration": 557,
    "start_time": "2024-11-01T23:57:04.672Z"
   },
   {
    "duration": 110,
    "start_time": "2024-11-01T23:57:05.231Z"
   },
   {
    "duration": 26,
    "start_time": "2024-11-01T23:57:05.342Z"
   },
   {
    "duration": 1760,
    "start_time": "2024-11-01T23:57:05.369Z"
   },
   {
    "duration": 8,
    "start_time": "2024-11-01T23:57:07.132Z"
   },
   {
    "duration": 11,
    "start_time": "2024-11-01T23:57:07.142Z"
   },
   {
    "duration": 15,
    "start_time": "2024-11-01T23:57:07.154Z"
   },
   {
    "duration": 132,
    "start_time": "2024-11-01T23:57:07.170Z"
   },
   {
    "duration": 6,
    "start_time": "2024-11-01T23:57:07.305Z"
   },
   {
    "duration": 25,
    "start_time": "2024-11-01T23:57:07.312Z"
   },
   {
    "duration": 312,
    "start_time": "2024-11-01T23:57:07.338Z"
   },
   {
    "duration": 135,
    "start_time": "2024-11-01T23:57:07.652Z"
   },
   {
    "duration": 245,
    "start_time": "2024-11-01T23:57:07.788Z"
   },
   {
    "duration": 319,
    "start_time": "2024-11-01T23:57:08.035Z"
   },
   {
    "duration": 226,
    "start_time": "2024-11-01T23:57:08.355Z"
   },
   {
    "duration": 277,
    "start_time": "2024-11-01T23:57:08.582Z"
   },
   {
    "duration": 0,
    "start_time": "2024-11-01T23:57:08.861Z"
   },
   {
    "duration": 0,
    "start_time": "2024-11-01T23:57:08.862Z"
   },
   {
    "duration": 0,
    "start_time": "2024-11-01T23:57:08.863Z"
   },
   {
    "duration": 0,
    "start_time": "2024-11-01T23:57:08.864Z"
   },
   {
    "duration": 0,
    "start_time": "2024-11-01T23:57:08.865Z"
   },
   {
    "duration": 0,
    "start_time": "2024-11-01T23:57:08.866Z"
   },
   {
    "duration": 0,
    "start_time": "2024-11-01T23:57:08.867Z"
   },
   {
    "duration": 0,
    "start_time": "2024-11-01T23:57:08.868Z"
   },
   {
    "duration": 0,
    "start_time": "2024-11-01T23:57:08.869Z"
   },
   {
    "duration": 0,
    "start_time": "2024-11-01T23:57:08.870Z"
   },
   {
    "duration": 1,
    "start_time": "2024-11-01T23:57:08.870Z"
   },
   {
    "duration": 592,
    "start_time": "2024-11-01T23:58:00.731Z"
   },
   {
    "duration": 109,
    "start_time": "2024-11-01T23:58:01.324Z"
   },
   {
    "duration": 25,
    "start_time": "2024-11-01T23:58:01.434Z"
   },
   {
    "duration": 1840,
    "start_time": "2024-11-01T23:58:01.461Z"
   },
   {
    "duration": 9,
    "start_time": "2024-11-01T23:58:03.303Z"
   },
   {
    "duration": 29,
    "start_time": "2024-11-01T23:58:03.313Z"
   },
   {
    "duration": 28,
    "start_time": "2024-11-01T23:58:03.343Z"
   },
   {
    "duration": 111,
    "start_time": "2024-11-01T23:58:03.373Z"
   },
   {
    "duration": 5,
    "start_time": "2024-11-01T23:58:03.485Z"
   },
   {
    "duration": 36,
    "start_time": "2024-11-01T23:58:03.491Z"
   },
   {
    "duration": 310,
    "start_time": "2024-11-01T23:58:03.528Z"
   },
   {
    "duration": 132,
    "start_time": "2024-11-01T23:58:03.839Z"
   },
   {
    "duration": 230,
    "start_time": "2024-11-01T23:58:03.972Z"
   },
   {
    "duration": 312,
    "start_time": "2024-11-01T23:58:04.204Z"
   },
   {
    "duration": 219,
    "start_time": "2024-11-01T23:58:04.520Z"
   },
   {
    "duration": 260,
    "start_time": "2024-11-01T23:58:04.740Z"
   },
   {
    "duration": 230,
    "start_time": "2024-11-01T23:58:05.002Z"
   },
   {
    "duration": 225,
    "start_time": "2024-11-01T23:58:05.233Z"
   },
   {
    "duration": 287,
    "start_time": "2024-11-01T23:58:05.459Z"
   },
   {
    "duration": 192,
    "start_time": "2024-11-01T23:58:05.747Z"
   },
   {
    "duration": 220,
    "start_time": "2024-11-01T23:58:05.940Z"
   },
   {
    "duration": 189,
    "start_time": "2024-11-01T23:58:06.161Z"
   },
   {
    "duration": 236,
    "start_time": "2024-11-01T23:58:06.352Z"
   },
   {
    "duration": 5,
    "start_time": "2024-11-01T23:58:06.590Z"
   },
   {
    "duration": 165,
    "start_time": "2024-11-01T23:58:06.597Z"
   },
   {
    "duration": 160,
    "start_time": "2024-11-01T23:58:06.764Z"
   },
   {
    "duration": 240,
    "start_time": "2024-11-01T23:58:06.925Z"
   },
   {
    "duration": 589,
    "start_time": "2024-11-02T00:00:33.531Z"
   },
   {
    "duration": 107,
    "start_time": "2024-11-02T00:00:34.122Z"
   },
   {
    "duration": 25,
    "start_time": "2024-11-02T00:00:34.231Z"
   },
   {
    "duration": 1804,
    "start_time": "2024-11-02T00:00:34.257Z"
   },
   {
    "duration": 9,
    "start_time": "2024-11-02T00:00:36.063Z"
   },
   {
    "duration": 33,
    "start_time": "2024-11-02T00:00:36.073Z"
   },
   {
    "duration": 59,
    "start_time": "2024-11-02T00:00:36.108Z"
   },
   {
    "duration": 127,
    "start_time": "2024-11-02T00:00:36.169Z"
   },
   {
    "duration": 5,
    "start_time": "2024-11-02T00:00:36.298Z"
   },
   {
    "duration": 34,
    "start_time": "2024-11-02T00:00:36.305Z"
   },
   {
    "duration": 416,
    "start_time": "2024-11-02T00:00:36.341Z"
   },
   {
    "duration": 125,
    "start_time": "2024-11-02T00:00:36.759Z"
   },
   {
    "duration": 240,
    "start_time": "2024-11-02T00:00:36.885Z"
   },
   {
    "duration": 334,
    "start_time": "2024-11-02T00:00:37.127Z"
   },
   {
    "duration": 226,
    "start_time": "2024-11-02T00:00:37.462Z"
   },
   {
    "duration": 226,
    "start_time": "2024-11-02T00:00:37.690Z"
   },
   {
    "duration": 232,
    "start_time": "2024-11-02T00:00:37.920Z"
   },
   {
    "duration": 234,
    "start_time": "2024-11-02T00:00:38.153Z"
   },
   {
    "duration": 284,
    "start_time": "2024-11-02T00:00:38.388Z"
   },
   {
    "duration": 181,
    "start_time": "2024-11-02T00:00:38.673Z"
   },
   {
    "duration": 235,
    "start_time": "2024-11-02T00:00:38.855Z"
   },
   {
    "duration": 185,
    "start_time": "2024-11-02T00:00:39.092Z"
   },
   {
    "duration": 243,
    "start_time": "2024-11-02T00:00:39.278Z"
   },
   {
    "duration": 5,
    "start_time": "2024-11-02T00:00:39.522Z"
   },
   {
    "duration": 179,
    "start_time": "2024-11-02T00:00:39.528Z"
   },
   {
    "duration": 159,
    "start_time": "2024-11-02T00:00:39.708Z"
   },
   {
    "duration": 242,
    "start_time": "2024-11-02T00:00:39.868Z"
   },
   {
    "duration": 553,
    "start_time": "2024-11-02T00:03:28.870Z"
   },
   {
    "duration": 110,
    "start_time": "2024-11-02T00:03:29.425Z"
   },
   {
    "duration": 25,
    "start_time": "2024-11-02T00:03:29.537Z"
   },
   {
    "duration": 1853,
    "start_time": "2024-11-02T00:03:29.564Z"
   },
   {
    "duration": 10,
    "start_time": "2024-11-02T00:03:31.418Z"
   },
   {
    "duration": 8,
    "start_time": "2024-11-02T00:03:31.429Z"
   },
   {
    "duration": 57,
    "start_time": "2024-11-02T00:03:31.438Z"
   },
   {
    "duration": 192,
    "start_time": "2024-11-02T00:03:31.496Z"
   },
   {
    "duration": 5,
    "start_time": "2024-11-02T00:03:31.690Z"
   },
   {
    "duration": 10,
    "start_time": "2024-11-02T00:03:31.698Z"
   },
   {
    "duration": 329,
    "start_time": "2024-11-02T00:03:31.709Z"
   },
   {
    "duration": 132,
    "start_time": "2024-11-02T00:03:32.040Z"
   },
   {
    "duration": 237,
    "start_time": "2024-11-02T00:03:32.173Z"
   },
   {
    "duration": 320,
    "start_time": "2024-11-02T00:03:32.412Z"
   },
   {
    "duration": 263,
    "start_time": "2024-11-02T00:03:32.734Z"
   },
   {
    "duration": 232,
    "start_time": "2024-11-02T00:03:32.998Z"
   },
   {
    "duration": 239,
    "start_time": "2024-11-02T00:03:33.231Z"
   },
   {
    "duration": 222,
    "start_time": "2024-11-02T00:03:33.471Z"
   },
   {
    "duration": 289,
    "start_time": "2024-11-02T00:03:33.695Z"
   },
   {
    "duration": 197,
    "start_time": "2024-11-02T00:03:33.985Z"
   },
   {
    "duration": 228,
    "start_time": "2024-11-02T00:03:34.183Z"
   },
   {
    "duration": 191,
    "start_time": "2024-11-02T00:03:34.412Z"
   },
   {
    "duration": 238,
    "start_time": "2024-11-02T00:03:34.604Z"
   },
   {
    "duration": 6,
    "start_time": "2024-11-02T00:03:34.843Z"
   },
   {
    "duration": 185,
    "start_time": "2024-11-02T00:03:34.850Z"
   },
   {
    "duration": 163,
    "start_time": "2024-11-02T00:03:35.037Z"
   },
   {
    "duration": 245,
    "start_time": "2024-11-02T00:03:35.202Z"
   },
   {
    "duration": 559,
    "start_time": "2024-11-02T00:06:33.366Z"
   },
   {
    "duration": 112,
    "start_time": "2024-11-02T00:06:33.926Z"
   },
   {
    "duration": 27,
    "start_time": "2024-11-02T00:06:34.040Z"
   },
   {
    "duration": 1792,
    "start_time": "2024-11-02T00:06:34.069Z"
   },
   {
    "duration": 8,
    "start_time": "2024-11-02T00:06:35.863Z"
   },
   {
    "duration": 45,
    "start_time": "2024-11-02T00:06:35.873Z"
   },
   {
    "duration": 30,
    "start_time": "2024-11-02T00:06:35.919Z"
   },
   {
    "duration": 138,
    "start_time": "2024-11-02T00:06:35.951Z"
   },
   {
    "duration": 5,
    "start_time": "2024-11-02T00:06:36.090Z"
   },
   {
    "duration": 24,
    "start_time": "2024-11-02T00:06:36.097Z"
   },
   {
    "duration": 353,
    "start_time": "2024-11-02T00:06:36.122Z"
   },
   {
    "duration": 124,
    "start_time": "2024-11-02T00:06:36.477Z"
   },
   {
    "duration": 234,
    "start_time": "2024-11-02T00:06:36.602Z"
   },
   {
    "duration": 315,
    "start_time": "2024-11-02T00:06:36.837Z"
   },
   {
    "duration": 245,
    "start_time": "2024-11-02T00:06:37.153Z"
   },
   {
    "duration": 211,
    "start_time": "2024-11-02T00:06:37.400Z"
   },
   {
    "duration": 223,
    "start_time": "2024-11-02T00:06:37.613Z"
   },
   {
    "duration": 227,
    "start_time": "2024-11-02T00:06:37.838Z"
   },
   {
    "duration": 283,
    "start_time": "2024-11-02T00:06:38.066Z"
   },
   {
    "duration": 178,
    "start_time": "2024-11-02T00:06:38.350Z"
   },
   {
    "duration": 223,
    "start_time": "2024-11-02T00:06:38.530Z"
   },
   {
    "duration": 188,
    "start_time": "2024-11-02T00:06:38.754Z"
   },
   {
    "duration": 246,
    "start_time": "2024-11-02T00:06:38.944Z"
   },
   {
    "duration": 5,
    "start_time": "2024-11-02T00:06:39.191Z"
   },
   {
    "duration": 167,
    "start_time": "2024-11-02T00:06:39.198Z"
   },
   {
    "duration": 161,
    "start_time": "2024-11-02T00:06:39.367Z"
   },
   {
    "duration": 255,
    "start_time": "2024-11-02T00:06:39.529Z"
   },
   {
    "duration": 569,
    "start_time": "2024-11-02T00:08:22.970Z"
   },
   {
    "duration": 110,
    "start_time": "2024-11-02T00:08:23.541Z"
   },
   {
    "duration": 24,
    "start_time": "2024-11-02T00:08:23.653Z"
   },
   {
    "duration": 1770,
    "start_time": "2024-11-02T00:08:23.679Z"
   },
   {
    "duration": 9,
    "start_time": "2024-11-02T00:08:25.450Z"
   },
   {
    "duration": 37,
    "start_time": "2024-11-02T00:08:25.461Z"
   },
   {
    "duration": 43,
    "start_time": "2024-11-02T00:08:25.500Z"
   },
   {
    "duration": 121,
    "start_time": "2024-11-02T00:08:25.545Z"
   },
   {
    "duration": 5,
    "start_time": "2024-11-02T00:08:25.667Z"
   },
   {
    "duration": 30,
    "start_time": "2024-11-02T00:08:25.674Z"
   },
   {
    "duration": 299,
    "start_time": "2024-11-02T00:08:25.705Z"
   },
   {
    "duration": 119,
    "start_time": "2024-11-02T00:08:26.006Z"
   },
   {
    "duration": 228,
    "start_time": "2024-11-02T00:08:26.126Z"
   },
   {
    "duration": 304,
    "start_time": "2024-11-02T00:08:26.355Z"
   },
   {
    "duration": 219,
    "start_time": "2024-11-02T00:08:26.660Z"
   },
   {
    "duration": 210,
    "start_time": "2024-11-02T00:08:26.881Z"
   },
   {
    "duration": 256,
    "start_time": "2024-11-02T00:08:27.092Z"
   },
   {
    "duration": 230,
    "start_time": "2024-11-02T00:08:27.350Z"
   },
   {
    "duration": 297,
    "start_time": "2024-11-02T00:08:27.582Z"
   },
   {
    "duration": 175,
    "start_time": "2024-11-02T00:08:27.881Z"
   },
   {
    "duration": 231,
    "start_time": "2024-11-02T00:08:28.058Z"
   },
   {
    "duration": 196,
    "start_time": "2024-11-02T00:08:28.291Z"
   },
   {
    "duration": 257,
    "start_time": "2024-11-02T00:08:28.488Z"
   },
   {
    "duration": 6,
    "start_time": "2024-11-02T00:08:28.747Z"
   },
   {
    "duration": 184,
    "start_time": "2024-11-02T00:08:28.755Z"
   },
   {
    "duration": 167,
    "start_time": "2024-11-02T00:08:28.941Z"
   },
   {
    "duration": 297,
    "start_time": "2024-11-02T00:08:29.110Z"
   },
   {
    "duration": 638,
    "start_time": "2024-11-02T00:10:26.908Z"
   },
   {
    "duration": 108,
    "start_time": "2024-11-02T00:10:27.548Z"
   },
   {
    "duration": 27,
    "start_time": "2024-11-02T00:10:27.657Z"
   },
   {
    "duration": 1895,
    "start_time": "2024-11-02T00:10:27.686Z"
   },
   {
    "duration": 9,
    "start_time": "2024-11-02T00:10:29.584Z"
   },
   {
    "duration": 9,
    "start_time": "2024-11-02T00:10:29.595Z"
   },
   {
    "duration": 16,
    "start_time": "2024-11-02T00:10:29.605Z"
   },
   {
    "duration": 112,
    "start_time": "2024-11-02T00:10:29.623Z"
   },
   {
    "duration": 5,
    "start_time": "2024-11-02T00:10:29.737Z"
   },
   {
    "duration": 11,
    "start_time": "2024-11-02T00:10:29.744Z"
   },
   {
    "duration": 343,
    "start_time": "2024-11-02T00:10:29.756Z"
   },
   {
    "duration": 133,
    "start_time": "2024-11-02T00:10:30.100Z"
   },
   {
    "duration": 234,
    "start_time": "2024-11-02T00:10:30.235Z"
   },
   {
    "duration": 308,
    "start_time": "2024-11-02T00:10:30.470Z"
   },
   {
    "duration": 225,
    "start_time": "2024-11-02T00:10:30.780Z"
   },
   {
    "duration": 208,
    "start_time": "2024-11-02T00:10:31.007Z"
   },
   {
    "duration": 231,
    "start_time": "2024-11-02T00:10:31.216Z"
   },
   {
    "duration": 218,
    "start_time": "2024-11-02T00:10:31.448Z"
   },
   {
    "duration": 302,
    "start_time": "2024-11-02T00:10:31.667Z"
   },
   {
    "duration": 182,
    "start_time": "2024-11-02T00:10:31.971Z"
   },
   {
    "duration": 220,
    "start_time": "2024-11-02T00:10:32.154Z"
   },
   {
    "duration": 202,
    "start_time": "2024-11-02T00:10:32.376Z"
   },
   {
    "duration": 237,
    "start_time": "2024-11-02T00:10:32.579Z"
   },
   {
    "duration": 5,
    "start_time": "2024-11-02T00:10:32.820Z"
   },
   {
    "duration": 153,
    "start_time": "2024-11-02T00:10:32.826Z"
   },
   {
    "duration": 118,
    "start_time": "2024-11-02T00:10:32.981Z"
   },
   {
    "duration": 206,
    "start_time": "2024-11-02T00:10:33.101Z"
   },
   {
    "duration": 614,
    "start_time": "2024-11-02T00:11:37.400Z"
   },
   {
    "duration": 106,
    "start_time": "2024-11-02T00:11:38.015Z"
   },
   {
    "duration": 25,
    "start_time": "2024-11-02T00:11:38.123Z"
   },
   {
    "duration": 1784,
    "start_time": "2024-11-02T00:11:38.149Z"
   },
   {
    "duration": 9,
    "start_time": "2024-11-02T00:11:39.935Z"
   },
   {
    "duration": 13,
    "start_time": "2024-11-02T00:11:39.946Z"
   },
   {
    "duration": 21,
    "start_time": "2024-11-02T00:11:39.961Z"
   },
   {
    "duration": 110,
    "start_time": "2024-11-02T00:11:39.984Z"
   },
   {
    "duration": 5,
    "start_time": "2024-11-02T00:11:40.095Z"
   },
   {
    "duration": 19,
    "start_time": "2024-11-02T00:11:40.102Z"
   },
   {
    "duration": 306,
    "start_time": "2024-11-02T00:11:40.123Z"
   },
   {
    "duration": 117,
    "start_time": "2024-11-02T00:11:40.431Z"
   },
   {
    "duration": 231,
    "start_time": "2024-11-02T00:11:40.549Z"
   },
   {
    "duration": 306,
    "start_time": "2024-11-02T00:11:40.782Z"
   },
   {
    "duration": 225,
    "start_time": "2024-11-02T00:11:41.089Z"
   },
   {
    "duration": 211,
    "start_time": "2024-11-02T00:11:41.315Z"
   },
   {
    "duration": 239,
    "start_time": "2024-11-02T00:11:41.527Z"
   },
   {
    "duration": 234,
    "start_time": "2024-11-02T00:11:41.767Z"
   },
   {
    "duration": 288,
    "start_time": "2024-11-02T00:11:42.003Z"
   },
   {
    "duration": 188,
    "start_time": "2024-11-02T00:11:42.293Z"
   },
   {
    "duration": 230,
    "start_time": "2024-11-02T00:11:42.483Z"
   },
   {
    "duration": 202,
    "start_time": "2024-11-02T00:11:42.714Z"
   },
   {
    "duration": 242,
    "start_time": "2024-11-02T00:11:42.918Z"
   },
   {
    "duration": 5,
    "start_time": "2024-11-02T00:11:43.161Z"
   },
   {
    "duration": 167,
    "start_time": "2024-11-02T00:11:43.168Z"
   },
   {
    "duration": 156,
    "start_time": "2024-11-02T00:11:43.337Z"
   },
   {
    "duration": 241,
    "start_time": "2024-11-02T00:11:43.494Z"
   },
   {
    "duration": 595,
    "start_time": "2024-11-02T00:14:01.147Z"
   },
   {
    "duration": 111,
    "start_time": "2024-11-02T00:14:01.743Z"
   },
   {
    "duration": 25,
    "start_time": "2024-11-02T00:14:01.855Z"
   },
   {
    "duration": 1855,
    "start_time": "2024-11-02T00:14:01.882Z"
   },
   {
    "duration": 8,
    "start_time": "2024-11-02T00:14:03.739Z"
   },
   {
    "duration": 80,
    "start_time": "2024-11-02T00:14:03.749Z"
   },
   {
    "duration": 37,
    "start_time": "2024-11-02T00:14:03.831Z"
   },
   {
    "duration": 211,
    "start_time": "2024-11-02T00:14:03.869Z"
   },
   {
    "duration": 6,
    "start_time": "2024-11-02T00:14:04.081Z"
   },
   {
    "duration": 11,
    "start_time": "2024-11-02T00:14:04.090Z"
   },
   {
    "duration": 314,
    "start_time": "2024-11-02T00:14:04.102Z"
   },
   {
    "duration": 114,
    "start_time": "2024-11-02T00:14:04.418Z"
   },
   {
    "duration": 226,
    "start_time": "2024-11-02T00:14:04.533Z"
   },
   {
    "duration": 303,
    "start_time": "2024-11-02T00:14:04.761Z"
   },
   {
    "duration": 227,
    "start_time": "2024-11-02T00:14:05.066Z"
   },
   {
    "duration": 227,
    "start_time": "2024-11-02T00:14:05.295Z"
   },
   {
    "duration": 233,
    "start_time": "2024-11-02T00:14:05.524Z"
   },
   {
    "duration": 230,
    "start_time": "2024-11-02T00:14:05.759Z"
   },
   {
    "duration": 306,
    "start_time": "2024-11-02T00:14:05.991Z"
   },
   {
    "duration": 194,
    "start_time": "2024-11-02T00:14:06.299Z"
   },
   {
    "duration": 242,
    "start_time": "2024-11-02T00:14:06.495Z"
   },
   {
    "duration": 190,
    "start_time": "2024-11-02T00:14:06.739Z"
   },
   {
    "duration": 242,
    "start_time": "2024-11-02T00:14:06.930Z"
   },
   {
    "duration": 6,
    "start_time": "2024-11-02T00:14:07.174Z"
   },
   {
    "duration": 186,
    "start_time": "2024-11-02T00:14:07.181Z"
   },
   {
    "duration": 162,
    "start_time": "2024-11-02T00:14:07.369Z"
   },
   {
    "duration": 262,
    "start_time": "2024-11-02T00:14:07.532Z"
   },
   {
    "duration": 559,
    "start_time": "2024-11-02T00:16:46.280Z"
   },
   {
    "duration": 107,
    "start_time": "2024-11-02T00:16:46.841Z"
   },
   {
    "duration": 28,
    "start_time": "2024-11-02T00:16:46.950Z"
   },
   {
    "duration": 1821,
    "start_time": "2024-11-02T00:16:46.980Z"
   },
   {
    "duration": 11,
    "start_time": "2024-11-02T00:16:48.804Z"
   },
   {
    "duration": 25,
    "start_time": "2024-11-02T00:16:48.817Z"
   },
   {
    "duration": 17,
    "start_time": "2024-11-02T00:16:48.843Z"
   },
   {
    "duration": 114,
    "start_time": "2024-11-02T00:16:48.861Z"
   },
   {
    "duration": 7,
    "start_time": "2024-11-02T00:16:48.977Z"
   },
   {
    "duration": 13,
    "start_time": "2024-11-02T00:16:48.986Z"
   },
   {
    "duration": 326,
    "start_time": "2024-11-02T00:16:49.000Z"
   },
   {
    "duration": 121,
    "start_time": "2024-11-02T00:16:49.327Z"
   },
   {
    "duration": 237,
    "start_time": "2024-11-02T00:16:49.449Z"
   },
   {
    "duration": 318,
    "start_time": "2024-11-02T00:16:49.688Z"
   },
   {
    "duration": 230,
    "start_time": "2024-11-02T00:16:50.008Z"
   },
   {
    "duration": 232,
    "start_time": "2024-11-02T00:16:50.239Z"
   },
   {
    "duration": 251,
    "start_time": "2024-11-02T00:16:50.472Z"
   },
   {
    "duration": 235,
    "start_time": "2024-11-02T00:16:50.724Z"
   },
   {
    "duration": 298,
    "start_time": "2024-11-02T00:16:50.961Z"
   },
   {
    "duration": 191,
    "start_time": "2024-11-02T00:16:51.260Z"
   },
   {
    "duration": 239,
    "start_time": "2024-11-02T00:16:51.452Z"
   },
   {
    "duration": 199,
    "start_time": "2024-11-02T00:16:51.693Z"
   },
   {
    "duration": 247,
    "start_time": "2024-11-02T00:16:51.893Z"
   },
   {
    "duration": 5,
    "start_time": "2024-11-02T00:16:52.142Z"
   },
   {
    "duration": 173,
    "start_time": "2024-11-02T00:16:52.148Z"
   },
   {
    "duration": 155,
    "start_time": "2024-11-02T00:16:52.323Z"
   },
   {
    "duration": 251,
    "start_time": "2024-11-02T00:16:52.479Z"
   },
   {
    "duration": 616,
    "start_time": "2024-11-02T00:17:30.498Z"
   },
   {
    "duration": 108,
    "start_time": "2024-11-02T00:17:31.116Z"
   },
   {
    "duration": 25,
    "start_time": "2024-11-02T00:17:31.225Z"
   },
   {
    "duration": 1801,
    "start_time": "2024-11-02T00:17:31.252Z"
   },
   {
    "duration": 9,
    "start_time": "2024-11-02T00:17:33.055Z"
   },
   {
    "duration": 15,
    "start_time": "2024-11-02T00:17:33.065Z"
   },
   {
    "duration": 14,
    "start_time": "2024-11-02T00:17:33.082Z"
   },
   {
    "duration": 111,
    "start_time": "2024-11-02T00:17:33.097Z"
   },
   {
    "duration": 5,
    "start_time": "2024-11-02T00:17:33.209Z"
   },
   {
    "duration": 32,
    "start_time": "2024-11-02T00:17:33.220Z"
   },
   {
    "duration": 313,
    "start_time": "2024-11-02T00:17:33.254Z"
   },
   {
    "duration": 79,
    "start_time": "2024-11-02T00:17:33.568Z"
   },
   {
    "duration": 0,
    "start_time": "2024-11-02T00:17:33.648Z"
   },
   {
    "duration": 0,
    "start_time": "2024-11-02T00:17:33.649Z"
   },
   {
    "duration": 0,
    "start_time": "2024-11-02T00:17:33.650Z"
   },
   {
    "duration": 0,
    "start_time": "2024-11-02T00:17:33.652Z"
   },
   {
    "duration": 0,
    "start_time": "2024-11-02T00:17:33.653Z"
   },
   {
    "duration": 0,
    "start_time": "2024-11-02T00:17:33.654Z"
   },
   {
    "duration": 0,
    "start_time": "2024-11-02T00:17:33.655Z"
   },
   {
    "duration": 0,
    "start_time": "2024-11-02T00:17:33.656Z"
   },
   {
    "duration": 0,
    "start_time": "2024-11-02T00:17:33.657Z"
   },
   {
    "duration": 0,
    "start_time": "2024-11-02T00:17:33.658Z"
   },
   {
    "duration": 0,
    "start_time": "2024-11-02T00:17:33.659Z"
   },
   {
    "duration": 0,
    "start_time": "2024-11-02T00:17:33.660Z"
   },
   {
    "duration": 0,
    "start_time": "2024-11-02T00:17:33.661Z"
   },
   {
    "duration": 0,
    "start_time": "2024-11-02T00:17:33.662Z"
   },
   {
    "duration": 0,
    "start_time": "2024-11-02T00:17:33.663Z"
   },
   {
    "duration": 578,
    "start_time": "2024-11-02T00:18:28.353Z"
   },
   {
    "duration": 108,
    "start_time": "2024-11-02T00:18:28.932Z"
   },
   {
    "duration": 26,
    "start_time": "2024-11-02T00:18:29.041Z"
   },
   {
    "duration": 1885,
    "start_time": "2024-11-02T00:18:29.068Z"
   },
   {
    "duration": 9,
    "start_time": "2024-11-02T00:18:30.955Z"
   },
   {
    "duration": 18,
    "start_time": "2024-11-02T00:18:30.965Z"
   },
   {
    "duration": 40,
    "start_time": "2024-11-02T00:18:30.984Z"
   },
   {
    "duration": 111,
    "start_time": "2024-11-02T00:18:31.025Z"
   },
   {
    "duration": 5,
    "start_time": "2024-11-02T00:18:31.137Z"
   },
   {
    "duration": 31,
    "start_time": "2024-11-02T00:18:31.144Z"
   },
   {
    "duration": 298,
    "start_time": "2024-11-02T00:18:31.176Z"
   },
   {
    "duration": 116,
    "start_time": "2024-11-02T00:18:31.475Z"
   },
   {
    "duration": 229,
    "start_time": "2024-11-02T00:18:31.592Z"
   },
   {
    "duration": 299,
    "start_time": "2024-11-02T00:18:31.822Z"
   },
   {
    "duration": 229,
    "start_time": "2024-11-02T00:18:32.122Z"
   },
   {
    "duration": 239,
    "start_time": "2024-11-02T00:18:32.353Z"
   },
   {
    "duration": 238,
    "start_time": "2024-11-02T00:18:32.593Z"
   },
   {
    "duration": 249,
    "start_time": "2024-11-02T00:18:32.832Z"
   },
   {
    "duration": 307,
    "start_time": "2024-11-02T00:18:33.083Z"
   },
   {
    "duration": 194,
    "start_time": "2024-11-02T00:18:33.392Z"
   },
   {
    "duration": 68,
    "start_time": "2024-11-02T00:18:33.587Z"
   },
   {
    "duration": 0,
    "start_time": "2024-11-02T00:18:33.657Z"
   },
   {
    "duration": 0,
    "start_time": "2024-11-02T00:18:33.657Z"
   },
   {
    "duration": 0,
    "start_time": "2024-11-02T00:18:33.658Z"
   },
   {
    "duration": 0,
    "start_time": "2024-11-02T00:18:33.659Z"
   },
   {
    "duration": 0,
    "start_time": "2024-11-02T00:18:33.660Z"
   },
   {
    "duration": 0,
    "start_time": "2024-11-02T00:18:33.661Z"
   },
   {
    "duration": 585,
    "start_time": "2024-11-02T00:18:42.135Z"
   },
   {
    "duration": 106,
    "start_time": "2024-11-02T00:18:42.721Z"
   },
   {
    "duration": 30,
    "start_time": "2024-11-02T00:18:42.829Z"
   },
   {
    "duration": 1820,
    "start_time": "2024-11-02T00:18:42.861Z"
   },
   {
    "duration": 10,
    "start_time": "2024-11-02T00:18:44.683Z"
   },
   {
    "duration": 40,
    "start_time": "2024-11-02T00:18:44.694Z"
   },
   {
    "duration": 37,
    "start_time": "2024-11-02T00:18:44.736Z"
   },
   {
    "duration": 116,
    "start_time": "2024-11-02T00:18:44.774Z"
   },
   {
    "duration": 5,
    "start_time": "2024-11-02T00:18:44.891Z"
   },
   {
    "duration": 71,
    "start_time": "2024-11-02T00:18:44.898Z"
   },
   {
    "duration": 325,
    "start_time": "2024-11-02T00:18:44.970Z"
   },
   {
    "duration": 117,
    "start_time": "2024-11-02T00:18:45.296Z"
   },
   {
    "duration": 249,
    "start_time": "2024-11-02T00:18:45.414Z"
   },
   {
    "duration": 319,
    "start_time": "2024-11-02T00:18:45.664Z"
   },
   {
    "duration": 234,
    "start_time": "2024-11-02T00:18:45.985Z"
   },
   {
    "duration": 222,
    "start_time": "2024-11-02T00:18:46.221Z"
   },
   {
    "duration": 257,
    "start_time": "2024-11-02T00:18:46.445Z"
   },
   {
    "duration": 238,
    "start_time": "2024-11-02T00:18:46.704Z"
   },
   {
    "duration": 316,
    "start_time": "2024-11-02T00:18:46.943Z"
   },
   {
    "duration": 218,
    "start_time": "2024-11-02T00:18:47.260Z"
   },
   {
    "duration": 260,
    "start_time": "2024-11-02T00:18:47.480Z"
   },
   {
    "duration": 211,
    "start_time": "2024-11-02T00:18:47.741Z"
   },
   {
    "duration": 252,
    "start_time": "2024-11-02T00:18:47.953Z"
   },
   {
    "duration": 15,
    "start_time": "2024-11-02T00:18:48.206Z"
   },
   {
    "duration": 180,
    "start_time": "2024-11-02T00:18:48.223Z"
   },
   {
    "duration": 176,
    "start_time": "2024-11-02T00:18:48.404Z"
   },
   {
    "duration": 267,
    "start_time": "2024-11-02T00:18:48.582Z"
   },
   {
    "duration": 622,
    "start_time": "2024-11-02T00:22:40.999Z"
   },
   {
    "duration": 109,
    "start_time": "2024-11-02T00:22:41.623Z"
   },
   {
    "duration": 27,
    "start_time": "2024-11-02T00:22:41.733Z"
   },
   {
    "duration": 1828,
    "start_time": "2024-11-02T00:22:41.761Z"
   },
   {
    "duration": 9,
    "start_time": "2024-11-02T00:22:43.592Z"
   },
   {
    "duration": 26,
    "start_time": "2024-11-02T00:22:43.603Z"
   },
   {
    "duration": 23,
    "start_time": "2024-11-02T00:22:43.630Z"
   },
   {
    "duration": 120,
    "start_time": "2024-11-02T00:22:43.655Z"
   },
   {
    "duration": 5,
    "start_time": "2024-11-02T00:22:43.777Z"
   },
   {
    "duration": 13,
    "start_time": "2024-11-02T00:22:43.783Z"
   },
   {
    "duration": 318,
    "start_time": "2024-11-02T00:22:43.797Z"
   },
   {
    "duration": 126,
    "start_time": "2024-11-02T00:22:44.117Z"
   },
   {
    "duration": 231,
    "start_time": "2024-11-02T00:22:44.245Z"
   },
   {
    "duration": 324,
    "start_time": "2024-11-02T00:22:44.478Z"
   },
   {
    "duration": 226,
    "start_time": "2024-11-02T00:22:44.803Z"
   },
   {
    "duration": 219,
    "start_time": "2024-11-02T00:22:45.030Z"
   },
   {
    "duration": 242,
    "start_time": "2024-11-02T00:22:45.250Z"
   },
   {
    "duration": 241,
    "start_time": "2024-11-02T00:22:45.494Z"
   },
   {
    "duration": 303,
    "start_time": "2024-11-02T00:22:45.736Z"
   },
   {
    "duration": 194,
    "start_time": "2024-11-02T00:22:46.040Z"
   },
   {
    "duration": 243,
    "start_time": "2024-11-02T00:22:46.235Z"
   },
   {
    "duration": 204,
    "start_time": "2024-11-02T00:22:46.479Z"
   },
   {
    "duration": 280,
    "start_time": "2024-11-02T00:22:46.685Z"
   },
   {
    "duration": 5,
    "start_time": "2024-11-02T00:22:46.967Z"
   },
   {
    "duration": 207,
    "start_time": "2024-11-02T00:22:46.974Z"
   },
   {
    "duration": 180,
    "start_time": "2024-11-02T00:22:47.183Z"
   },
   {
    "duration": 343,
    "start_time": "2024-11-02T00:22:47.364Z"
   },
   {
    "duration": 630,
    "start_time": "2024-11-02T00:23:55.306Z"
   },
   {
    "duration": 109,
    "start_time": "2024-11-02T00:23:55.938Z"
   },
   {
    "duration": 27,
    "start_time": "2024-11-02T00:23:56.049Z"
   },
   {
    "duration": 1851,
    "start_time": "2024-11-02T00:23:56.078Z"
   },
   {
    "duration": 10,
    "start_time": "2024-11-02T00:23:57.931Z"
   },
   {
    "duration": 58,
    "start_time": "2024-11-02T00:23:57.942Z"
   },
   {
    "duration": 15,
    "start_time": "2024-11-02T00:23:58.001Z"
   },
   {
    "duration": 110,
    "start_time": "2024-11-02T00:23:58.018Z"
   },
   {
    "duration": 5,
    "start_time": "2024-11-02T00:23:58.129Z"
   },
   {
    "duration": 11,
    "start_time": "2024-11-02T00:23:58.136Z"
   },
   {
    "duration": 331,
    "start_time": "2024-11-02T00:23:58.149Z"
   },
   {
    "duration": 140,
    "start_time": "2024-11-02T00:23:58.482Z"
   },
   {
    "duration": 244,
    "start_time": "2024-11-02T00:23:58.623Z"
   },
   {
    "duration": 314,
    "start_time": "2024-11-02T00:23:58.868Z"
   },
   {
    "duration": 231,
    "start_time": "2024-11-02T00:23:59.184Z"
   },
   {
    "duration": 215,
    "start_time": "2024-11-02T00:23:59.420Z"
   },
   {
    "duration": 244,
    "start_time": "2024-11-02T00:23:59.636Z"
   },
   {
    "duration": 253,
    "start_time": "2024-11-02T00:23:59.881Z"
   },
   {
    "duration": 317,
    "start_time": "2024-11-02T00:24:00.135Z"
   },
   {
    "duration": 202,
    "start_time": "2024-11-02T00:24:00.454Z"
   },
   {
    "duration": 243,
    "start_time": "2024-11-02T00:24:00.657Z"
   },
   {
    "duration": 200,
    "start_time": "2024-11-02T00:24:00.901Z"
   },
   {
    "duration": 263,
    "start_time": "2024-11-02T00:24:01.103Z"
   },
   {
    "duration": 5,
    "start_time": "2024-11-02T00:24:01.368Z"
   },
   {
    "duration": 183,
    "start_time": "2024-11-02T00:24:01.374Z"
   },
   {
    "duration": 176,
    "start_time": "2024-11-02T00:24:01.558Z"
   },
   {
    "duration": 247,
    "start_time": "2024-11-02T00:24:01.735Z"
   },
   {
    "duration": 617,
    "start_time": "2024-11-02T00:30:51.704Z"
   },
   {
    "duration": 109,
    "start_time": "2024-11-02T00:30:52.322Z"
   },
   {
    "duration": 26,
    "start_time": "2024-11-02T00:30:52.433Z"
   },
   {
    "duration": 1948,
    "start_time": "2024-11-02T00:30:52.461Z"
   },
   {
    "duration": 10,
    "start_time": "2024-11-02T00:30:54.411Z"
   },
   {
    "duration": 8,
    "start_time": "2024-11-02T00:30:54.422Z"
   },
   {
    "duration": 16,
    "start_time": "2024-11-02T00:30:54.432Z"
   },
   {
    "duration": 132,
    "start_time": "2024-11-02T00:30:54.450Z"
   },
   {
    "duration": 6,
    "start_time": "2024-11-02T00:30:54.583Z"
   },
   {
    "duration": 28,
    "start_time": "2024-11-02T00:30:54.591Z"
   },
   {
    "duration": 307,
    "start_time": "2024-11-02T00:30:54.620Z"
   },
   {
    "duration": 138,
    "start_time": "2024-11-02T00:30:54.929Z"
   },
   {
    "duration": 241,
    "start_time": "2024-11-02T00:30:55.068Z"
   },
   {
    "duration": 318,
    "start_time": "2024-11-02T00:30:55.311Z"
   },
   {
    "duration": 233,
    "start_time": "2024-11-02T00:30:55.631Z"
   },
   {
    "duration": 229,
    "start_time": "2024-11-02T00:30:55.865Z"
   },
   {
    "duration": 255,
    "start_time": "2024-11-02T00:30:56.095Z"
   },
   {
    "duration": 241,
    "start_time": "2024-11-02T00:30:56.351Z"
   },
   {
    "duration": 296,
    "start_time": "2024-11-02T00:30:56.594Z"
   },
   {
    "duration": 189,
    "start_time": "2024-11-02T00:30:56.892Z"
   },
   {
    "duration": 257,
    "start_time": "2024-11-02T00:30:57.083Z"
   },
   {
    "duration": 197,
    "start_time": "2024-11-02T00:30:57.342Z"
   },
   {
    "duration": 244,
    "start_time": "2024-11-02T00:30:57.540Z"
   },
   {
    "duration": 6,
    "start_time": "2024-11-02T00:30:57.785Z"
   },
   {
    "duration": 262,
    "start_time": "2024-11-02T00:30:57.792Z"
   },
   {
    "duration": 173,
    "start_time": "2024-11-02T00:30:58.055Z"
   },
   {
    "duration": 252,
    "start_time": "2024-11-02T00:30:58.229Z"
   },
   {
    "duration": 568,
    "start_time": "2024-11-02T00:31:58.059Z"
   },
   {
    "duration": 108,
    "start_time": "2024-11-02T00:31:58.628Z"
   },
   {
    "duration": 24,
    "start_time": "2024-11-02T00:31:58.738Z"
   },
   {
    "duration": 1777,
    "start_time": "2024-11-02T00:31:58.764Z"
   },
   {
    "duration": 9,
    "start_time": "2024-11-02T00:32:00.542Z"
   },
   {
    "duration": 48,
    "start_time": "2024-11-02T00:32:00.553Z"
   },
   {
    "duration": 51,
    "start_time": "2024-11-02T00:32:00.602Z"
   },
   {
    "duration": 116,
    "start_time": "2024-11-02T00:32:00.654Z"
   },
   {
    "duration": 5,
    "start_time": "2024-11-02T00:32:00.772Z"
   },
   {
    "duration": 26,
    "start_time": "2024-11-02T00:32:00.779Z"
   },
   {
    "duration": 297,
    "start_time": "2024-11-02T00:32:00.807Z"
   },
   {
    "duration": 116,
    "start_time": "2024-11-02T00:32:01.106Z"
   },
   {
    "duration": 237,
    "start_time": "2024-11-02T00:32:01.223Z"
   },
   {
    "duration": 322,
    "start_time": "2024-11-02T00:32:01.461Z"
   },
   {
    "duration": 229,
    "start_time": "2024-11-02T00:32:01.784Z"
   },
   {
    "duration": 221,
    "start_time": "2024-11-02T00:32:02.015Z"
   },
   {
    "duration": 273,
    "start_time": "2024-11-02T00:32:02.238Z"
   },
   {
    "duration": 235,
    "start_time": "2024-11-02T00:32:02.513Z"
   },
   {
    "duration": 318,
    "start_time": "2024-11-02T00:32:02.750Z"
   },
   {
    "duration": 197,
    "start_time": "2024-11-02T00:32:03.069Z"
   },
   {
    "duration": 246,
    "start_time": "2024-11-02T00:32:03.268Z"
   },
   {
    "duration": 199,
    "start_time": "2024-11-02T00:32:03.515Z"
   },
   {
    "duration": 247,
    "start_time": "2024-11-02T00:32:03.720Z"
   },
   {
    "duration": 5,
    "start_time": "2024-11-02T00:32:03.968Z"
   },
   {
    "duration": 323,
    "start_time": "2024-11-02T00:32:03.975Z"
   },
   {
    "duration": 180,
    "start_time": "2024-11-02T00:32:04.299Z"
   },
   {
    "duration": 264,
    "start_time": "2024-11-02T00:32:04.480Z"
   },
   {
    "duration": 556,
    "start_time": "2024-11-02T00:32:53.264Z"
   },
   {
    "duration": 108,
    "start_time": "2024-11-02T00:32:53.822Z"
   },
   {
    "duration": 25,
    "start_time": "2024-11-02T00:32:53.932Z"
   },
   {
    "duration": 1858,
    "start_time": "2024-11-02T00:32:53.959Z"
   },
   {
    "duration": 8,
    "start_time": "2024-11-02T00:32:55.819Z"
   },
   {
    "duration": 92,
    "start_time": "2024-11-02T00:32:55.829Z"
   },
   {
    "duration": 16,
    "start_time": "2024-11-02T00:32:55.922Z"
   },
   {
    "duration": 117,
    "start_time": "2024-11-02T00:32:55.939Z"
   },
   {
    "duration": 5,
    "start_time": "2024-11-02T00:32:56.058Z"
   },
   {
    "duration": 11,
    "start_time": "2024-11-02T00:32:56.065Z"
   },
   {
    "duration": 324,
    "start_time": "2024-11-02T00:32:56.077Z"
   },
   {
    "duration": 120,
    "start_time": "2024-11-02T00:32:56.403Z"
   },
   {
    "duration": 233,
    "start_time": "2024-11-02T00:32:56.524Z"
   },
   {
    "duration": 306,
    "start_time": "2024-11-02T00:32:56.758Z"
   },
   {
    "duration": 241,
    "start_time": "2024-11-02T00:32:57.065Z"
   },
   {
    "duration": 227,
    "start_time": "2024-11-02T00:32:57.307Z"
   },
   {
    "duration": 250,
    "start_time": "2024-11-02T00:32:57.536Z"
   },
   {
    "duration": 233,
    "start_time": "2024-11-02T00:32:57.788Z"
   },
   {
    "duration": 300,
    "start_time": "2024-11-02T00:32:58.023Z"
   },
   {
    "duration": 202,
    "start_time": "2024-11-02T00:32:58.324Z"
   },
   {
    "duration": 235,
    "start_time": "2024-11-02T00:32:58.528Z"
   },
   {
    "duration": 210,
    "start_time": "2024-11-02T00:32:58.764Z"
   },
   {
    "duration": 248,
    "start_time": "2024-11-02T00:32:58.976Z"
   },
   {
    "duration": 6,
    "start_time": "2024-11-02T00:32:59.225Z"
   },
   {
    "duration": 185,
    "start_time": "2024-11-02T00:32:59.232Z"
   },
   {
    "duration": 180,
    "start_time": "2024-11-02T00:32:59.421Z"
   },
   {
    "duration": 249,
    "start_time": "2024-11-02T00:32:59.602Z"
   },
   {
    "duration": 572,
    "start_time": "2024-11-02T00:35:47.958Z"
   },
   {
    "duration": 108,
    "start_time": "2024-11-02T00:35:48.531Z"
   },
   {
    "duration": 25,
    "start_time": "2024-11-02T00:35:48.640Z"
   },
   {
    "duration": 1750,
    "start_time": "2024-11-02T00:35:48.667Z"
   },
   {
    "duration": 9,
    "start_time": "2024-11-02T00:35:50.419Z"
   },
   {
    "duration": 31,
    "start_time": "2024-11-02T00:35:50.429Z"
   },
   {
    "duration": 15,
    "start_time": "2024-11-02T00:35:50.461Z"
   },
   {
    "duration": 110,
    "start_time": "2024-11-02T00:35:50.478Z"
   },
   {
    "duration": 5,
    "start_time": "2024-11-02T00:35:50.589Z"
   },
   {
    "duration": 33,
    "start_time": "2024-11-02T00:35:50.596Z"
   },
   {
    "duration": 315,
    "start_time": "2024-11-02T00:35:50.630Z"
   },
   {
    "duration": 116,
    "start_time": "2024-11-02T00:35:50.946Z"
   },
   {
    "duration": 236,
    "start_time": "2024-11-02T00:35:51.064Z"
   },
   {
    "duration": 321,
    "start_time": "2024-11-02T00:35:51.301Z"
   },
   {
    "duration": 235,
    "start_time": "2024-11-02T00:35:51.624Z"
   },
   {
    "duration": 233,
    "start_time": "2024-11-02T00:35:51.861Z"
   },
   {
    "duration": 245,
    "start_time": "2024-11-02T00:35:52.095Z"
   },
   {
    "duration": 242,
    "start_time": "2024-11-02T00:35:52.341Z"
   },
   {
    "duration": 322,
    "start_time": "2024-11-02T00:35:52.585Z"
   },
   {
    "duration": 214,
    "start_time": "2024-11-02T00:35:52.908Z"
   },
   {
    "duration": 297,
    "start_time": "2024-11-02T00:35:53.124Z"
   },
   {
    "duration": 219,
    "start_time": "2024-11-02T00:35:53.422Z"
   },
   {
    "duration": 288,
    "start_time": "2024-11-02T00:35:53.643Z"
   },
   {
    "duration": 6,
    "start_time": "2024-11-02T00:35:53.933Z"
   },
   {
    "duration": 212,
    "start_time": "2024-11-02T00:35:53.941Z"
   },
   {
    "duration": 208,
    "start_time": "2024-11-02T00:35:54.155Z"
   },
   {
    "duration": 293,
    "start_time": "2024-11-02T00:35:54.365Z"
   },
   {
    "duration": 245,
    "start_time": "2024-11-02T00:38:37.909Z"
   },
   {
    "duration": 115,
    "start_time": "2024-11-02T00:38:53.853Z"
   },
   {
    "duration": 635,
    "start_time": "2024-11-02T00:39:54.201Z"
   },
   {
    "duration": 108,
    "start_time": "2024-11-02T00:39:54.837Z"
   },
   {
    "duration": 26,
    "start_time": "2024-11-02T00:39:54.947Z"
   },
   {
    "duration": 1792,
    "start_time": "2024-11-02T00:39:54.974Z"
   },
   {
    "duration": 9,
    "start_time": "2024-11-02T00:39:56.767Z"
   },
   {
    "duration": 11,
    "start_time": "2024-11-02T00:39:56.777Z"
   },
   {
    "duration": 16,
    "start_time": "2024-11-02T00:39:56.789Z"
   },
   {
    "duration": 118,
    "start_time": "2024-11-02T00:39:56.806Z"
   },
   {
    "duration": 5,
    "start_time": "2024-11-02T00:39:56.925Z"
   },
   {
    "duration": 13,
    "start_time": "2024-11-02T00:39:56.932Z"
   },
   {
    "duration": 319,
    "start_time": "2024-11-02T00:39:56.946Z"
   },
   {
    "duration": 146,
    "start_time": "2024-11-02T00:39:57.266Z"
   },
   {
    "duration": 238,
    "start_time": "2024-11-02T00:39:57.413Z"
   },
   {
    "duration": 310,
    "start_time": "2024-11-02T00:39:57.653Z"
   },
   {
    "duration": 226,
    "start_time": "2024-11-02T00:39:57.965Z"
   },
   {
    "duration": 221,
    "start_time": "2024-11-02T00:39:58.193Z"
   },
   {
    "duration": 248,
    "start_time": "2024-11-02T00:39:58.420Z"
   },
   {
    "duration": 256,
    "start_time": "2024-11-02T00:39:58.670Z"
   },
   {
    "duration": 311,
    "start_time": "2024-11-02T00:39:58.927Z"
   },
   {
    "duration": 193,
    "start_time": "2024-11-02T00:39:59.239Z"
   },
   {
    "duration": 236,
    "start_time": "2024-11-02T00:39:59.433Z"
   },
   {
    "duration": 192,
    "start_time": "2024-11-02T00:39:59.671Z"
   },
   {
    "duration": 270,
    "start_time": "2024-11-02T00:39:59.864Z"
   },
   {
    "duration": 6,
    "start_time": "2024-11-02T00:40:00.135Z"
   },
   {
    "duration": 203,
    "start_time": "2024-11-02T00:40:00.142Z"
   },
   {
    "duration": 169,
    "start_time": "2024-11-02T00:40:00.347Z"
   },
   {
    "duration": 257,
    "start_time": "2024-11-02T00:40:00.517Z"
   },
   {
    "duration": 267,
    "start_time": "2024-11-02T00:41:33.937Z"
   },
   {
    "duration": 45,
    "start_time": "2024-11-02T14:59:46.860Z"
   },
   {
    "duration": 890,
    "start_time": "2024-11-02T14:59:55.162Z"
   },
   {
    "duration": 335,
    "start_time": "2024-11-02T14:59:56.054Z"
   },
   {
    "duration": 29,
    "start_time": "2024-11-02T14:59:56.390Z"
   },
   {
    "duration": 2001,
    "start_time": "2024-11-02T14:59:56.421Z"
   },
   {
    "duration": 14,
    "start_time": "2024-11-02T14:59:58.424Z"
   },
   {
    "duration": 8,
    "start_time": "2024-11-02T14:59:58.440Z"
   },
   {
    "duration": 22,
    "start_time": "2024-11-02T14:59:58.449Z"
   },
   {
    "duration": 144,
    "start_time": "2024-11-02T14:59:58.472Z"
   },
   {
    "duration": 5,
    "start_time": "2024-11-02T14:59:58.620Z"
   },
   {
    "duration": 38,
    "start_time": "2024-11-02T14:59:58.627Z"
   },
   {
    "duration": 433,
    "start_time": "2024-11-02T14:59:58.666Z"
   },
   {
    "duration": 7,
    "start_time": "2024-11-02T14:59:59.101Z"
   },
   {
    "duration": 244,
    "start_time": "2024-11-02T14:59:59.109Z"
   },
   {
    "duration": 292,
    "start_time": "2024-11-02T14:59:59.355Z"
   },
   {
    "duration": 238,
    "start_time": "2024-11-02T14:59:59.649Z"
   },
   {
    "duration": 227,
    "start_time": "2024-11-02T14:59:59.889Z"
   },
   {
    "duration": 258,
    "start_time": "2024-11-02T15:00:00.121Z"
   },
   {
    "duration": 353,
    "start_time": "2024-11-02T15:00:00.381Z"
   },
   {
    "duration": 236,
    "start_time": "2024-11-02T15:00:00.736Z"
   },
   {
    "duration": 262,
    "start_time": "2024-11-02T15:00:00.973Z"
   },
   {
    "duration": 259,
    "start_time": "2024-11-02T15:00:01.236Z"
   },
   {
    "duration": 208,
    "start_time": "2024-11-02T15:00:01.496Z"
   },
   {
    "duration": 264,
    "start_time": "2024-11-02T15:00:01.705Z"
   },
   {
    "duration": 8,
    "start_time": "2024-11-02T15:00:01.971Z"
   },
   {
    "duration": 218,
    "start_time": "2024-11-02T15:00:01.981Z"
   },
   {
    "duration": 181,
    "start_time": "2024-11-02T15:00:02.201Z"
   },
   {
    "duration": 219,
    "start_time": "2024-11-02T15:00:02.384Z"
   },
   {
    "duration": 25,
    "start_time": "2024-11-02T15:00:57.658Z"
   },
   {
    "duration": 580,
    "start_time": "2024-11-02T15:03:47.858Z"
   },
   {
    "duration": 110,
    "start_time": "2024-11-02T15:03:48.440Z"
   },
   {
    "duration": 29,
    "start_time": "2024-11-02T15:03:48.552Z"
   },
   {
    "duration": 1870,
    "start_time": "2024-11-02T15:03:48.583Z"
   },
   {
    "duration": 10,
    "start_time": "2024-11-02T15:03:50.455Z"
   },
   {
    "duration": 15,
    "start_time": "2024-11-02T15:03:50.466Z"
   },
   {
    "duration": 18,
    "start_time": "2024-11-02T15:03:50.482Z"
   },
   {
    "duration": 121,
    "start_time": "2024-11-02T15:03:50.502Z"
   },
   {
    "duration": 4,
    "start_time": "2024-11-02T15:03:50.625Z"
   },
   {
    "duration": 22,
    "start_time": "2024-11-02T15:03:50.631Z"
   },
   {
    "duration": 323,
    "start_time": "2024-11-02T15:03:50.655Z"
   },
   {
    "duration": 447,
    "start_time": "2024-11-02T15:03:50.980Z"
   },
   {
    "duration": 247,
    "start_time": "2024-11-02T15:03:51.428Z"
   },
   {
    "duration": 306,
    "start_time": "2024-11-02T15:03:51.676Z"
   },
   {
    "duration": 238,
    "start_time": "2024-11-02T15:03:51.984Z"
   },
   {
    "duration": 226,
    "start_time": "2024-11-02T15:03:52.223Z"
   },
   {
    "duration": 247,
    "start_time": "2024-11-02T15:03:52.451Z"
   },
   {
    "duration": 382,
    "start_time": "2024-11-02T15:03:52.699Z"
   },
   {
    "duration": 234,
    "start_time": "2024-11-02T15:03:53.083Z"
   },
   {
    "duration": 254,
    "start_time": "2024-11-02T15:03:53.320Z"
   },
   {
    "duration": 238,
    "start_time": "2024-11-02T15:03:53.575Z"
   },
   {
    "duration": 208,
    "start_time": "2024-11-02T15:03:53.815Z"
   },
   {
    "duration": 260,
    "start_time": "2024-11-02T15:03:54.025Z"
   },
   {
    "duration": 6,
    "start_time": "2024-11-02T15:03:54.287Z"
   },
   {
    "duration": 207,
    "start_time": "2024-11-02T15:03:54.294Z"
   },
   {
    "duration": 198,
    "start_time": "2024-11-02T15:03:54.503Z"
   },
   {
    "duration": 209,
    "start_time": "2024-11-02T15:03:54.702Z"
   },
   {
    "duration": 651,
    "start_time": "2024-11-02T15:05:24.392Z"
   },
   {
    "duration": 116,
    "start_time": "2024-11-02T15:05:25.045Z"
   },
   {
    "duration": 28,
    "start_time": "2024-11-02T15:05:25.162Z"
   },
   {
    "duration": 1853,
    "start_time": "2024-11-02T15:05:25.192Z"
   },
   {
    "duration": 9,
    "start_time": "2024-11-02T15:05:27.047Z"
   },
   {
    "duration": 9,
    "start_time": "2024-11-02T15:05:27.057Z"
   },
   {
    "duration": 21,
    "start_time": "2024-11-02T15:05:27.068Z"
   },
   {
    "duration": 115,
    "start_time": "2024-11-02T15:05:27.091Z"
   },
   {
    "duration": 5,
    "start_time": "2024-11-02T15:05:27.208Z"
   },
   {
    "duration": 61,
    "start_time": "2024-11-02T15:05:27.220Z"
   },
   {
    "duration": 337,
    "start_time": "2024-11-02T15:05:27.284Z"
   },
   {
    "duration": 4,
    "start_time": "2024-11-02T15:05:27.623Z"
   },
   {
    "duration": 238,
    "start_time": "2024-11-02T15:05:27.628Z"
   },
   {
    "duration": 314,
    "start_time": "2024-11-02T15:05:27.867Z"
   },
   {
    "duration": 228,
    "start_time": "2024-11-02T15:05:28.183Z"
   },
   {
    "duration": 227,
    "start_time": "2024-11-02T15:05:28.413Z"
   },
   {
    "duration": 243,
    "start_time": "2024-11-02T15:05:28.642Z"
   },
   {
    "duration": 231,
    "start_time": "2024-11-02T15:05:28.886Z"
   },
   {
    "duration": 240,
    "start_time": "2024-11-02T15:05:29.120Z"
   },
   {
    "duration": 264,
    "start_time": "2024-11-02T15:05:29.362Z"
   },
   {
    "duration": 247,
    "start_time": "2024-11-02T15:05:29.627Z"
   },
   {
    "duration": 193,
    "start_time": "2024-11-02T15:05:29.876Z"
   },
   {
    "duration": 270,
    "start_time": "2024-11-02T15:05:30.071Z"
   },
   {
    "duration": 6,
    "start_time": "2024-11-02T15:05:30.342Z"
   },
   {
    "duration": 220,
    "start_time": "2024-11-02T15:05:30.350Z"
   },
   {
    "duration": 190,
    "start_time": "2024-11-02T15:05:30.572Z"
   },
   {
    "duration": 202,
    "start_time": "2024-11-02T15:05:30.763Z"
   },
   {
    "duration": 195,
    "start_time": "2024-11-02T15:05:37.321Z"
   },
   {
    "duration": 262,
    "start_time": "2024-11-02T15:06:43.673Z"
   },
   {
    "duration": 659,
    "start_time": "2024-11-02T15:08:12.598Z"
   },
   {
    "duration": 109,
    "start_time": "2024-11-02T15:08:13.259Z"
   },
   {
    "duration": 26,
    "start_time": "2024-11-02T15:08:13.370Z"
   },
   {
    "duration": 1888,
    "start_time": "2024-11-02T15:08:13.397Z"
   },
   {
    "duration": 12,
    "start_time": "2024-11-02T15:08:15.288Z"
   },
   {
    "duration": 77,
    "start_time": "2024-11-02T15:08:15.302Z"
   },
   {
    "duration": 23,
    "start_time": "2024-11-02T15:08:15.380Z"
   },
   {
    "duration": 151,
    "start_time": "2024-11-02T15:08:15.405Z"
   },
   {
    "duration": 6,
    "start_time": "2024-11-02T15:08:15.557Z"
   },
   {
    "duration": 36,
    "start_time": "2024-11-02T15:08:15.565Z"
   },
   {
    "duration": 314,
    "start_time": "2024-11-02T15:08:15.602Z"
   },
   {
    "duration": 116,
    "start_time": "2024-11-02T15:08:15.920Z"
   },
   {
    "duration": 231,
    "start_time": "2024-11-02T15:08:16.038Z"
   },
   {
    "duration": 317,
    "start_time": "2024-11-02T15:08:16.273Z"
   },
   {
    "duration": 229,
    "start_time": "2024-11-02T15:08:16.592Z"
   },
   {
    "duration": 210,
    "start_time": "2024-11-02T15:08:16.822Z"
   },
   {
    "duration": 239,
    "start_time": "2024-11-02T15:08:17.033Z"
   },
   {
    "duration": 251,
    "start_time": "2024-11-02T15:08:17.273Z"
   },
   {
    "duration": 312,
    "start_time": "2024-11-02T15:08:17.526Z"
   },
   {
    "duration": 191,
    "start_time": "2024-11-02T15:08:17.840Z"
   },
   {
    "duration": 240,
    "start_time": "2024-11-02T15:08:18.033Z"
   },
   {
    "duration": 206,
    "start_time": "2024-11-02T15:08:18.275Z"
   },
   {
    "duration": 256,
    "start_time": "2024-11-02T15:08:18.483Z"
   },
   {
    "duration": 5,
    "start_time": "2024-11-02T15:08:18.741Z"
   },
   {
    "duration": 188,
    "start_time": "2024-11-02T15:08:18.748Z"
   },
   {
    "duration": 189,
    "start_time": "2024-11-02T15:08:18.937Z"
   },
   {
    "duration": 276,
    "start_time": "2024-11-02T15:08:19.127Z"
   },
   {
    "duration": 193,
    "start_time": "2024-11-02T15:08:19.405Z"
   },
   {
    "duration": 8,
    "start_time": "2024-11-02T15:09:43.672Z"
   },
   {
    "duration": 6,
    "start_time": "2024-11-02T15:09:54.591Z"
   },
   {
    "duration": 572,
    "start_time": "2024-11-02T15:14:25.658Z"
   },
   {
    "duration": 111,
    "start_time": "2024-11-02T15:14:26.232Z"
   },
   {
    "duration": 60,
    "start_time": "2024-11-02T15:14:26.345Z"
   },
   {
    "duration": 1876,
    "start_time": "2024-11-02T15:14:26.406Z"
   },
   {
    "duration": 10,
    "start_time": "2024-11-02T15:14:28.284Z"
   },
   {
    "duration": 65,
    "start_time": "2024-11-02T15:14:28.295Z"
   },
   {
    "duration": 19,
    "start_time": "2024-11-02T15:14:28.362Z"
   },
   {
    "duration": 116,
    "start_time": "2024-11-02T15:14:28.382Z"
   },
   {
    "duration": 5,
    "start_time": "2024-11-02T15:14:28.500Z"
   },
   {
    "duration": 26,
    "start_time": "2024-11-02T15:14:28.506Z"
   },
   {
    "duration": 320,
    "start_time": "2024-11-02T15:14:28.533Z"
   },
   {
    "duration": 7,
    "start_time": "2024-11-02T15:14:28.854Z"
   },
   {
    "duration": 250,
    "start_time": "2024-11-02T15:14:28.863Z"
   },
   {
    "duration": 319,
    "start_time": "2024-11-02T15:14:29.120Z"
   },
   {
    "duration": 236,
    "start_time": "2024-11-02T15:14:29.441Z"
   },
   {
    "duration": 230,
    "start_time": "2024-11-02T15:14:29.679Z"
   },
   {
    "duration": 239,
    "start_time": "2024-11-02T15:14:29.911Z"
   },
   {
    "duration": 243,
    "start_time": "2024-11-02T15:14:30.152Z"
   },
   {
    "duration": 242,
    "start_time": "2024-11-02T15:14:30.397Z"
   },
   {
    "duration": 274,
    "start_time": "2024-11-02T15:14:30.640Z"
   },
   {
    "duration": 230,
    "start_time": "2024-11-02T15:14:30.920Z"
   },
   {
    "duration": 202,
    "start_time": "2024-11-02T15:14:31.152Z"
   },
   {
    "duration": 255,
    "start_time": "2024-11-02T15:14:31.355Z"
   },
   {
    "duration": 10,
    "start_time": "2024-11-02T15:14:31.611Z"
   },
   {
    "duration": 203,
    "start_time": "2024-11-02T15:14:31.622Z"
   },
   {
    "duration": 188,
    "start_time": "2024-11-02T15:14:31.826Z"
   },
   {
    "duration": 191,
    "start_time": "2024-11-02T15:14:32.016Z"
   },
   {
    "duration": 194,
    "start_time": "2024-11-02T15:14:32.208Z"
   },
   {
    "duration": 263,
    "start_time": "2024-11-02T15:14:46.238Z"
   },
   {
    "duration": 179,
    "start_time": "2024-11-02T15:15:21.614Z"
   },
   {
    "duration": 176,
    "start_time": "2024-11-02T15:15:55.102Z"
   },
   {
    "duration": 164,
    "start_time": "2024-11-02T20:51:38.024Z"
   },
   {
    "duration": 170,
    "start_time": "2024-11-02T20:52:35.975Z"
   },
   {
    "duration": 174,
    "start_time": "2024-11-02T20:52:57.323Z"
   },
   {
    "duration": 178,
    "start_time": "2024-11-02T20:53:19.201Z"
   },
   {
    "duration": 46,
    "start_time": "2024-11-03T09:07:17.174Z"
   },
   {
    "duration": 712,
    "start_time": "2024-11-03T09:07:22.752Z"
   },
   {
    "duration": 156,
    "start_time": "2024-11-03T09:07:23.466Z"
   },
   {
    "duration": 23,
    "start_time": "2024-11-03T09:07:23.624Z"
   },
   {
    "duration": 1637,
    "start_time": "2024-11-03T09:07:23.649Z"
   },
   {
    "duration": 8,
    "start_time": "2024-11-03T09:07:25.287Z"
   },
   {
    "duration": 7,
    "start_time": "2024-11-03T09:07:25.297Z"
   },
   {
    "duration": 14,
    "start_time": "2024-11-03T09:07:25.305Z"
   },
   {
    "duration": 119,
    "start_time": "2024-11-03T09:07:25.320Z"
   },
   {
    "duration": 4,
    "start_time": "2024-11-03T09:07:25.441Z"
   },
   {
    "duration": 16,
    "start_time": "2024-11-03T09:07:25.447Z"
   },
   {
    "duration": 313,
    "start_time": "2024-11-03T09:07:25.464Z"
   },
   {
    "duration": 5,
    "start_time": "2024-11-03T09:07:25.779Z"
   },
   {
    "duration": 203,
    "start_time": "2024-11-03T09:07:25.786Z"
   },
   {
    "duration": 271,
    "start_time": "2024-11-03T09:07:25.990Z"
   },
   {
    "duration": 195,
    "start_time": "2024-11-03T09:07:26.262Z"
   },
   {
    "duration": 192,
    "start_time": "2024-11-03T09:07:26.458Z"
   },
   {
    "duration": 204,
    "start_time": "2024-11-03T09:07:26.651Z"
   },
   {
    "duration": 224,
    "start_time": "2024-11-03T09:07:26.856Z"
   },
   {
    "duration": 220,
    "start_time": "2024-11-03T09:07:27.082Z"
   },
   {
    "duration": 232,
    "start_time": "2024-11-03T09:07:27.304Z"
   },
   {
    "duration": 203,
    "start_time": "2024-11-03T09:07:27.537Z"
   },
   {
    "duration": 176,
    "start_time": "2024-11-03T09:07:27.741Z"
   },
   {
    "duration": 221,
    "start_time": "2024-11-03T09:07:27.919Z"
   },
   {
    "duration": 5,
    "start_time": "2024-11-03T09:07:28.141Z"
   },
   {
    "duration": 174,
    "start_time": "2024-11-03T09:07:28.147Z"
   },
   {
    "duration": 168,
    "start_time": "2024-11-03T09:07:28.323Z"
   },
   {
    "duration": 177,
    "start_time": "2024-11-03T09:07:28.492Z"
   },
   {
    "duration": 180,
    "start_time": "2024-11-03T09:07:28.671Z"
   },
   {
    "duration": 215,
    "start_time": "2024-11-03T09:07:28.853Z"
   },
   {
    "duration": 175,
    "start_time": "2024-11-03T09:07:29.069Z"
   },
   {
    "duration": 161,
    "start_time": "2024-11-03T09:07:29.246Z"
   },
   {
    "duration": 157,
    "start_time": "2024-11-03T09:07:29.411Z"
   },
   {
    "duration": 20,
    "start_time": "2024-11-03T09:07:29.570Z"
   },
   {
    "duration": 14,
    "start_time": "2024-11-03T09:11:11.517Z"
   },
   {
    "duration": 21,
    "start_time": "2024-11-03T09:11:17.716Z"
   },
   {
    "duration": 30,
    "start_time": "2024-11-03T09:12:16.309Z"
   },
   {
    "duration": 30,
    "start_time": "2024-11-03T09:12:43.959Z"
   },
   {
    "duration": 78,
    "start_time": "2024-11-03T09:13:37.393Z"
   },
   {
    "duration": 27,
    "start_time": "2024-11-03T09:13:48.189Z"
   },
   {
    "duration": 20,
    "start_time": "2024-11-03T09:13:59.409Z"
   },
   {
    "duration": 31,
    "start_time": "2024-11-03T09:14:08.206Z"
   },
   {
    "duration": 21,
    "start_time": "2024-11-03T09:14:26.103Z"
   },
   {
    "duration": 27,
    "start_time": "2024-11-03T09:15:01.765Z"
   },
   {
    "duration": 26,
    "start_time": "2024-11-03T09:15:18.727Z"
   },
   {
    "duration": 22,
    "start_time": "2024-11-03T09:15:29.941Z"
   },
   {
    "duration": 97,
    "start_time": "2024-11-03T09:21:58.581Z"
   },
   {
    "duration": 16,
    "start_time": "2024-11-03T09:22:06.969Z"
   },
   {
    "duration": 609,
    "start_time": "2024-11-03T09:22:53.965Z"
   },
   {
    "duration": 100,
    "start_time": "2024-11-03T09:22:54.576Z"
   },
   {
    "duration": 30,
    "start_time": "2024-11-03T09:22:54.677Z"
   },
   {
    "duration": 1646,
    "start_time": "2024-11-03T09:22:54.712Z"
   },
   {
    "duration": 10,
    "start_time": "2024-11-03T09:22:56.359Z"
   },
   {
    "duration": 8,
    "start_time": "2024-11-03T09:22:56.370Z"
   },
   {
    "duration": 14,
    "start_time": "2024-11-03T09:22:56.379Z"
   },
   {
    "duration": 118,
    "start_time": "2024-11-03T09:22:56.394Z"
   },
   {
    "duration": 5,
    "start_time": "2024-11-03T09:22:56.513Z"
   },
   {
    "duration": 8,
    "start_time": "2024-11-03T09:22:56.521Z"
   },
   {
    "duration": 327,
    "start_time": "2024-11-03T09:22:56.531Z"
   },
   {
    "duration": 7,
    "start_time": "2024-11-03T09:22:56.859Z"
   },
   {
    "duration": 240,
    "start_time": "2024-11-03T09:22:56.867Z"
   },
   {
    "duration": 285,
    "start_time": "2024-11-03T09:22:57.112Z"
   },
   {
    "duration": 200,
    "start_time": "2024-11-03T09:22:57.399Z"
   },
   {
    "duration": 190,
    "start_time": "2024-11-03T09:22:57.600Z"
   },
   {
    "duration": 203,
    "start_time": "2024-11-03T09:22:57.791Z"
   },
   {
    "duration": 211,
    "start_time": "2024-11-03T09:22:57.995Z"
   },
   {
    "duration": 195,
    "start_time": "2024-11-03T09:22:58.208Z"
   },
   {
    "duration": 220,
    "start_time": "2024-11-03T09:22:58.405Z"
   },
   {
    "duration": 209,
    "start_time": "2024-11-03T09:22:58.627Z"
   },
   {
    "duration": 170,
    "start_time": "2024-11-03T09:22:58.837Z"
   },
   {
    "duration": 226,
    "start_time": "2024-11-03T09:22:59.008Z"
   },
   {
    "duration": 5,
    "start_time": "2024-11-03T09:22:59.235Z"
   },
   {
    "duration": 173,
    "start_time": "2024-11-03T09:22:59.241Z"
   },
   {
    "duration": 184,
    "start_time": "2024-11-03T09:22:59.415Z"
   },
   {
    "duration": 174,
    "start_time": "2024-11-03T09:22:59.600Z"
   },
   {
    "duration": 182,
    "start_time": "2024-11-03T09:22:59.777Z"
   },
   {
    "duration": 224,
    "start_time": "2024-11-03T09:22:59.960Z"
   },
   {
    "duration": 171,
    "start_time": "2024-11-03T09:23:00.186Z"
   },
   {
    "duration": 171,
    "start_time": "2024-11-03T09:23:00.358Z"
   },
   {
    "duration": 162,
    "start_time": "2024-11-03T09:23:00.531Z"
   },
   {
    "duration": 30,
    "start_time": "2024-11-03T09:23:00.694Z"
   },
   {
    "duration": 23,
    "start_time": "2024-11-03T09:23:00.725Z"
   },
   {
    "duration": 616,
    "start_time": "2024-11-03T09:24:29.073Z"
   },
   {
    "duration": 100,
    "start_time": "2024-11-03T09:24:29.690Z"
   },
   {
    "duration": 28,
    "start_time": "2024-11-03T09:24:29.791Z"
   },
   {
    "duration": 1661,
    "start_time": "2024-11-03T09:24:29.821Z"
   },
   {
    "duration": 10,
    "start_time": "2024-11-03T09:24:31.484Z"
   },
   {
    "duration": 7,
    "start_time": "2024-11-03T09:24:31.496Z"
   },
   {
    "duration": 24,
    "start_time": "2024-11-03T09:24:31.505Z"
   },
   {
    "duration": 117,
    "start_time": "2024-11-03T09:24:31.530Z"
   },
   {
    "duration": 5,
    "start_time": "2024-11-03T09:24:31.649Z"
   },
   {
    "duration": 10,
    "start_time": "2024-11-03T09:24:31.657Z"
   },
   {
    "duration": 332,
    "start_time": "2024-11-03T09:24:31.668Z"
   },
   {
    "duration": 13,
    "start_time": "2024-11-03T09:24:32.002Z"
   },
   {
    "duration": 206,
    "start_time": "2024-11-03T09:24:32.016Z"
   },
   {
    "duration": 293,
    "start_time": "2024-11-03T09:24:32.224Z"
   },
   {
    "duration": 200,
    "start_time": "2024-11-03T09:24:32.519Z"
   },
   {
    "duration": 192,
    "start_time": "2024-11-03T09:24:32.720Z"
   },
   {
    "duration": 221,
    "start_time": "2024-11-03T09:24:32.913Z"
   },
   {
    "duration": 204,
    "start_time": "2024-11-03T09:24:33.136Z"
   },
   {
    "duration": 218,
    "start_time": "2024-11-03T09:24:33.342Z"
   },
   {
    "duration": 207,
    "start_time": "2024-11-03T09:24:33.562Z"
   },
   {
    "duration": 218,
    "start_time": "2024-11-03T09:24:33.771Z"
   },
   {
    "duration": 173,
    "start_time": "2024-11-03T09:24:33.991Z"
   },
   {
    "duration": 227,
    "start_time": "2024-11-03T09:24:34.165Z"
   },
   {
    "duration": 5,
    "start_time": "2024-11-03T09:24:34.394Z"
   },
   {
    "duration": 179,
    "start_time": "2024-11-03T09:24:34.400Z"
   },
   {
    "duration": 166,
    "start_time": "2024-11-03T09:24:34.581Z"
   },
   {
    "duration": 178,
    "start_time": "2024-11-03T09:24:34.748Z"
   },
   {
    "duration": 178,
    "start_time": "2024-11-03T09:24:34.929Z"
   },
   {
    "duration": 227,
    "start_time": "2024-11-03T09:24:35.111Z"
   },
   {
    "duration": 165,
    "start_time": "2024-11-03T09:24:35.339Z"
   },
   {
    "duration": 163,
    "start_time": "2024-11-03T09:24:35.511Z"
   },
   {
    "duration": 186,
    "start_time": "2024-11-03T09:24:35.675Z"
   },
   {
    "duration": 22,
    "start_time": "2024-11-03T09:24:35.862Z"
   },
   {
    "duration": 38,
    "start_time": "2024-11-03T09:24:35.885Z"
   },
   {
    "duration": 527,
    "start_time": "2024-11-03T09:26:01.956Z"
   },
   {
    "duration": 98,
    "start_time": "2024-11-03T09:26:02.485Z"
   },
   {
    "duration": 30,
    "start_time": "2024-11-03T09:26:02.584Z"
   },
   {
    "duration": 1626,
    "start_time": "2024-11-03T09:26:02.616Z"
   },
   {
    "duration": 9,
    "start_time": "2024-11-03T09:26:04.243Z"
   },
   {
    "duration": 6,
    "start_time": "2024-11-03T09:26:04.253Z"
   },
   {
    "duration": 14,
    "start_time": "2024-11-03T09:26:04.261Z"
   },
   {
    "duration": 111,
    "start_time": "2024-11-03T09:26:04.277Z"
   },
   {
    "duration": 4,
    "start_time": "2024-11-03T09:26:04.390Z"
   },
   {
    "duration": 18,
    "start_time": "2024-11-03T09:26:04.397Z"
   },
   {
    "duration": 320,
    "start_time": "2024-11-03T09:26:04.416Z"
   },
   {
    "duration": 160,
    "start_time": "2024-11-03T09:26:04.737Z"
   },
   {
    "duration": 0,
    "start_time": "2024-11-03T09:26:04.899Z"
   },
   {
    "duration": 0,
    "start_time": "2024-11-03T09:26:04.900Z"
   },
   {
    "duration": 0,
    "start_time": "2024-11-03T09:26:04.901Z"
   },
   {
    "duration": 0,
    "start_time": "2024-11-03T09:26:04.902Z"
   },
   {
    "duration": 0,
    "start_time": "2024-11-03T09:26:04.903Z"
   },
   {
    "duration": 0,
    "start_time": "2024-11-03T09:26:04.911Z"
   },
   {
    "duration": 0,
    "start_time": "2024-11-03T09:26:04.912Z"
   },
   {
    "duration": 0,
    "start_time": "2024-11-03T09:26:04.913Z"
   },
   {
    "duration": 0,
    "start_time": "2024-11-03T09:26:04.914Z"
   },
   {
    "duration": 0,
    "start_time": "2024-11-03T09:26:04.915Z"
   },
   {
    "duration": 0,
    "start_time": "2024-11-03T09:26:04.916Z"
   },
   {
    "duration": 0,
    "start_time": "2024-11-03T09:26:04.917Z"
   },
   {
    "duration": 0,
    "start_time": "2024-11-03T09:26:04.918Z"
   },
   {
    "duration": 0,
    "start_time": "2024-11-03T09:26:04.919Z"
   },
   {
    "duration": 0,
    "start_time": "2024-11-03T09:26:04.920Z"
   },
   {
    "duration": 0,
    "start_time": "2024-11-03T09:26:04.921Z"
   },
   {
    "duration": 0,
    "start_time": "2024-11-03T09:26:04.922Z"
   },
   {
    "duration": 0,
    "start_time": "2024-11-03T09:26:04.923Z"
   },
   {
    "duration": 0,
    "start_time": "2024-11-03T09:26:04.924Z"
   },
   {
    "duration": 0,
    "start_time": "2024-11-03T09:26:04.925Z"
   },
   {
    "duration": 0,
    "start_time": "2024-11-03T09:26:04.926Z"
   },
   {
    "duration": 0,
    "start_time": "2024-11-03T09:26:04.927Z"
   },
   {
    "duration": 559,
    "start_time": "2024-11-03T09:26:42.136Z"
   },
   {
    "duration": 98,
    "start_time": "2024-11-03T09:26:42.697Z"
   },
   {
    "duration": 24,
    "start_time": "2024-11-03T09:26:42.797Z"
   },
   {
    "duration": 1603,
    "start_time": "2024-11-03T09:26:42.823Z"
   },
   {
    "duration": 9,
    "start_time": "2024-11-03T09:26:44.428Z"
   },
   {
    "duration": 7,
    "start_time": "2024-11-03T09:26:44.439Z"
   },
   {
    "duration": 15,
    "start_time": "2024-11-03T09:26:44.447Z"
   },
   {
    "duration": 120,
    "start_time": "2024-11-03T09:26:44.464Z"
   },
   {
    "duration": 4,
    "start_time": "2024-11-03T09:26:44.585Z"
   },
   {
    "duration": 33,
    "start_time": "2024-11-03T09:26:44.591Z"
   },
   {
    "duration": 297,
    "start_time": "2024-11-03T09:26:44.625Z"
   },
   {
    "duration": 102,
    "start_time": "2024-11-03T09:26:44.923Z"
   },
   {
    "duration": 216,
    "start_time": "2024-11-03T09:26:45.026Z"
   },
   {
    "duration": 264,
    "start_time": "2024-11-03T09:26:45.244Z"
   },
   {
    "duration": 191,
    "start_time": "2024-11-03T09:26:45.511Z"
   },
   {
    "duration": 198,
    "start_time": "2024-11-03T09:26:45.703Z"
   },
   {
    "duration": 199,
    "start_time": "2024-11-03T09:26:45.902Z"
   },
   {
    "duration": 197,
    "start_time": "2024-11-03T09:26:46.102Z"
   },
   {
    "duration": 250,
    "start_time": "2024-11-03T09:26:46.301Z"
   },
   {
    "duration": 179,
    "start_time": "2024-11-03T09:26:46.552Z"
   },
   {
    "duration": 205,
    "start_time": "2024-11-03T09:26:46.733Z"
   },
   {
    "duration": 190,
    "start_time": "2024-11-03T09:26:46.939Z"
   },
   {
    "duration": 221,
    "start_time": "2024-11-03T09:26:47.131Z"
   },
   {
    "duration": 5,
    "start_time": "2024-11-03T09:26:47.353Z"
   },
   {
    "duration": 189,
    "start_time": "2024-11-03T09:26:47.359Z"
   },
   {
    "duration": 168,
    "start_time": "2024-11-03T09:26:47.549Z"
   },
   {
    "duration": 238,
    "start_time": "2024-11-03T09:26:47.718Z"
   },
   {
    "duration": 174,
    "start_time": "2024-11-03T09:26:47.959Z"
   },
   {
    "duration": 153,
    "start_time": "2024-11-03T09:26:48.134Z"
   },
   {
    "duration": 173,
    "start_time": "2024-11-03T09:26:48.289Z"
   },
   {
    "duration": 162,
    "start_time": "2024-11-03T09:26:48.464Z"
   },
   {
    "duration": 165,
    "start_time": "2024-11-03T09:26:48.628Z"
   },
   {
    "duration": 28,
    "start_time": "2024-11-03T09:26:48.795Z"
   },
   {
    "duration": 16,
    "start_time": "2024-11-03T09:26:48.825Z"
   },
   {
    "duration": 622,
    "start_time": "2024-11-03T09:30:36.715Z"
   },
   {
    "duration": 98,
    "start_time": "2024-11-03T09:30:37.338Z"
   },
   {
    "duration": 22,
    "start_time": "2024-11-03T09:30:37.437Z"
   },
   {
    "duration": 1617,
    "start_time": "2024-11-03T09:30:37.461Z"
   },
   {
    "duration": 8,
    "start_time": "2024-11-03T09:30:39.079Z"
   },
   {
    "duration": 14,
    "start_time": "2024-11-03T09:30:39.088Z"
   },
   {
    "duration": 13,
    "start_time": "2024-11-03T09:30:39.103Z"
   },
   {
    "duration": 109,
    "start_time": "2024-11-03T09:30:39.118Z"
   },
   {
    "duration": 4,
    "start_time": "2024-11-03T09:30:39.229Z"
   },
   {
    "duration": 12,
    "start_time": "2024-11-03T09:30:39.235Z"
   },
   {
    "duration": 331,
    "start_time": "2024-11-03T09:30:39.248Z"
   },
   {
    "duration": 75,
    "start_time": "2024-11-03T09:30:39.580Z"
   },
   {
    "duration": 0,
    "start_time": "2024-11-03T09:30:39.656Z"
   },
   {
    "duration": 0,
    "start_time": "2024-11-03T09:30:39.657Z"
   },
   {
    "duration": 0,
    "start_time": "2024-11-03T09:30:39.658Z"
   },
   {
    "duration": 0,
    "start_time": "2024-11-03T09:30:39.659Z"
   },
   {
    "duration": 0,
    "start_time": "2024-11-03T09:30:39.659Z"
   },
   {
    "duration": 0,
    "start_time": "2024-11-03T09:30:39.660Z"
   },
   {
    "duration": 0,
    "start_time": "2024-11-03T09:30:39.661Z"
   },
   {
    "duration": 0,
    "start_time": "2024-11-03T09:30:39.662Z"
   },
   {
    "duration": 0,
    "start_time": "2024-11-03T09:30:39.663Z"
   },
   {
    "duration": 0,
    "start_time": "2024-11-03T09:30:39.663Z"
   },
   {
    "duration": 0,
    "start_time": "2024-11-03T09:30:39.664Z"
   },
   {
    "duration": 0,
    "start_time": "2024-11-03T09:30:39.665Z"
   },
   {
    "duration": 0,
    "start_time": "2024-11-03T09:30:39.666Z"
   },
   {
    "duration": 0,
    "start_time": "2024-11-03T09:30:39.666Z"
   },
   {
    "duration": 0,
    "start_time": "2024-11-03T09:30:39.667Z"
   },
   {
    "duration": 0,
    "start_time": "2024-11-03T09:30:39.668Z"
   },
   {
    "duration": 0,
    "start_time": "2024-11-03T09:30:39.669Z"
   },
   {
    "duration": 0,
    "start_time": "2024-11-03T09:30:39.670Z"
   },
   {
    "duration": 0,
    "start_time": "2024-11-03T09:30:39.671Z"
   },
   {
    "duration": 0,
    "start_time": "2024-11-03T09:30:39.672Z"
   },
   {
    "duration": 0,
    "start_time": "2024-11-03T09:30:39.673Z"
   },
   {
    "duration": 0,
    "start_time": "2024-11-03T09:30:39.673Z"
   },
   {
    "duration": 585,
    "start_time": "2024-11-03T09:31:10.486Z"
   },
   {
    "duration": 123,
    "start_time": "2024-11-03T09:31:11.073Z"
   },
   {
    "duration": 30,
    "start_time": "2024-11-03T09:31:11.198Z"
   },
   {
    "duration": 1656,
    "start_time": "2024-11-03T09:31:11.230Z"
   },
   {
    "duration": 7,
    "start_time": "2024-11-03T09:31:12.887Z"
   },
   {
    "duration": 6,
    "start_time": "2024-11-03T09:31:12.896Z"
   },
   {
    "duration": 13,
    "start_time": "2024-11-03T09:31:12.903Z"
   },
   {
    "duration": 114,
    "start_time": "2024-11-03T09:31:12.918Z"
   },
   {
    "duration": 5,
    "start_time": "2024-11-03T09:31:13.033Z"
   },
   {
    "duration": 10,
    "start_time": "2024-11-03T09:31:13.040Z"
   },
   {
    "duration": 320,
    "start_time": "2024-11-03T09:31:13.051Z"
   },
   {
    "duration": 3,
    "start_time": "2024-11-03T09:31:13.373Z"
   },
   {
    "duration": 205,
    "start_time": "2024-11-03T09:31:13.377Z"
   },
   {
    "duration": 263,
    "start_time": "2024-11-03T09:31:13.584Z"
   },
   {
    "duration": 211,
    "start_time": "2024-11-03T09:31:13.849Z"
   },
   {
    "duration": 193,
    "start_time": "2024-11-03T09:31:14.061Z"
   },
   {
    "duration": 204,
    "start_time": "2024-11-03T09:31:14.255Z"
   },
   {
    "duration": 198,
    "start_time": "2024-11-03T09:31:14.460Z"
   },
   {
    "duration": 204,
    "start_time": "2024-11-03T09:31:14.659Z"
   },
   {
    "duration": 220,
    "start_time": "2024-11-03T09:31:14.864Z"
   },
   {
    "duration": 242,
    "start_time": "2024-11-03T09:31:15.085Z"
   },
   {
    "duration": 171,
    "start_time": "2024-11-03T09:31:15.329Z"
   },
   {
    "duration": 222,
    "start_time": "2024-11-03T09:31:15.501Z"
   },
   {
    "duration": 5,
    "start_time": "2024-11-03T09:31:15.724Z"
   },
   {
    "duration": 177,
    "start_time": "2024-11-03T09:31:15.731Z"
   },
   {
    "duration": 170,
    "start_time": "2024-11-03T09:31:15.909Z"
   },
   {
    "duration": 171,
    "start_time": "2024-11-03T09:31:16.080Z"
   },
   {
    "duration": 167,
    "start_time": "2024-11-03T09:31:16.254Z"
   },
   {
    "duration": 215,
    "start_time": "2024-11-03T09:31:16.423Z"
   },
   {
    "duration": 162,
    "start_time": "2024-11-03T09:31:16.639Z"
   },
   {
    "duration": 169,
    "start_time": "2024-11-03T09:31:16.803Z"
   },
   {
    "duration": 197,
    "start_time": "2024-11-03T09:31:16.973Z"
   },
   {
    "duration": 22,
    "start_time": "2024-11-03T09:31:17.171Z"
   },
   {
    "duration": 27,
    "start_time": "2024-11-03T09:31:17.194Z"
   },
   {
    "duration": 1094,
    "start_time": "2024-11-03T09:32:34.581Z"
   },
   {
    "duration": 266,
    "start_time": "2024-11-03T09:33:37.914Z"
   },
   {
    "duration": 10,
    "start_time": "2024-11-03T09:34:00.733Z"
   },
   {
    "duration": 16,
    "start_time": "2024-11-03T09:34:08.933Z"
   },
   {
    "duration": 907,
    "start_time": "2024-11-03T09:34:58.288Z"
   },
   {
    "duration": 900,
    "start_time": "2024-11-03T09:35:28.591Z"
   },
   {
    "duration": 9,
    "start_time": "2024-11-03T09:39:13.480Z"
   },
   {
    "duration": 13,
    "start_time": "2024-11-03T09:39:25.970Z"
   },
   {
    "duration": 16,
    "start_time": "2024-11-03T09:40:31.769Z"
   },
   {
    "duration": 24,
    "start_time": "2024-11-03T09:42:45.206Z"
   },
   {
    "duration": 125,
    "start_time": "2024-11-03T09:45:34.785Z"
   },
   {
    "duration": 126,
    "start_time": "2024-11-03T09:45:52.249Z"
   },
   {
    "duration": 141,
    "start_time": "2024-11-03T09:46:35.661Z"
   },
   {
    "duration": 559,
    "start_time": "2024-11-03T09:51:44.349Z"
   },
   {
    "duration": 99,
    "start_time": "2024-11-03T09:51:44.910Z"
   },
   {
    "duration": 31,
    "start_time": "2024-11-03T09:51:45.010Z"
   },
   {
    "duration": 1675,
    "start_time": "2024-11-03T09:51:45.043Z"
   },
   {
    "duration": 8,
    "start_time": "2024-11-03T09:51:46.720Z"
   },
   {
    "duration": 5,
    "start_time": "2024-11-03T09:51:46.730Z"
   },
   {
    "duration": 86,
    "start_time": "2024-11-03T09:51:46.736Z"
   },
   {
    "duration": 0,
    "start_time": "2024-11-03T09:51:46.825Z"
   },
   {
    "duration": 0,
    "start_time": "2024-11-03T09:51:46.826Z"
   },
   {
    "duration": 0,
    "start_time": "2024-11-03T09:51:46.827Z"
   },
   {
    "duration": 0,
    "start_time": "2024-11-03T09:51:46.828Z"
   },
   {
    "duration": 0,
    "start_time": "2024-11-03T09:51:46.829Z"
   },
   {
    "duration": 0,
    "start_time": "2024-11-03T09:51:46.830Z"
   },
   {
    "duration": 0,
    "start_time": "2024-11-03T09:51:46.830Z"
   },
   {
    "duration": 0,
    "start_time": "2024-11-03T09:51:46.831Z"
   },
   {
    "duration": 0,
    "start_time": "2024-11-03T09:51:46.832Z"
   },
   {
    "duration": 0,
    "start_time": "2024-11-03T09:51:46.833Z"
   },
   {
    "duration": 0,
    "start_time": "2024-11-03T09:51:46.834Z"
   },
   {
    "duration": 0,
    "start_time": "2024-11-03T09:51:46.835Z"
   },
   {
    "duration": 0,
    "start_time": "2024-11-03T09:51:46.836Z"
   },
   {
    "duration": 0,
    "start_time": "2024-11-03T09:51:46.837Z"
   },
   {
    "duration": 0,
    "start_time": "2024-11-03T09:51:46.838Z"
   },
   {
    "duration": 0,
    "start_time": "2024-11-03T09:51:46.839Z"
   },
   {
    "duration": 0,
    "start_time": "2024-11-03T09:51:46.840Z"
   },
   {
    "duration": 0,
    "start_time": "2024-11-03T09:51:46.841Z"
   },
   {
    "duration": 0,
    "start_time": "2024-11-03T09:51:46.842Z"
   },
   {
    "duration": 0,
    "start_time": "2024-11-03T09:51:46.843Z"
   },
   {
    "duration": 0,
    "start_time": "2024-11-03T09:51:46.844Z"
   },
   {
    "duration": 0,
    "start_time": "2024-11-03T09:51:46.845Z"
   },
   {
    "duration": 0,
    "start_time": "2024-11-03T09:51:46.847Z"
   },
   {
    "duration": 0,
    "start_time": "2024-11-03T09:51:46.849Z"
   },
   {
    "duration": 0,
    "start_time": "2024-11-03T09:51:46.850Z"
   },
   {
    "duration": 0,
    "start_time": "2024-11-03T09:51:46.851Z"
   },
   {
    "duration": 0,
    "start_time": "2024-11-03T09:51:46.852Z"
   },
   {
    "duration": 566,
    "start_time": "2024-11-03T09:52:09.833Z"
   },
   {
    "duration": 98,
    "start_time": "2024-11-03T09:52:10.401Z"
   },
   {
    "duration": 23,
    "start_time": "2024-11-03T09:52:10.500Z"
   },
   {
    "duration": 1649,
    "start_time": "2024-11-03T09:52:10.525Z"
   },
   {
    "duration": 9,
    "start_time": "2024-11-03T09:52:12.175Z"
   },
   {
    "duration": 6,
    "start_time": "2024-11-03T09:52:12.185Z"
   },
   {
    "duration": 20,
    "start_time": "2024-11-03T09:52:12.193Z"
   },
   {
    "duration": 114,
    "start_time": "2024-11-03T09:52:12.214Z"
   },
   {
    "duration": 4,
    "start_time": "2024-11-03T09:52:12.330Z"
   },
   {
    "duration": 8,
    "start_time": "2024-11-03T09:52:12.337Z"
   },
   {
    "duration": 326,
    "start_time": "2024-11-03T09:52:12.346Z"
   },
   {
    "duration": 4,
    "start_time": "2024-11-03T09:52:12.674Z"
   },
   {
    "duration": 221,
    "start_time": "2024-11-03T09:52:12.679Z"
   },
   {
    "duration": 279,
    "start_time": "2024-11-03T09:52:12.902Z"
   },
   {
    "duration": 195,
    "start_time": "2024-11-03T09:52:13.182Z"
   },
   {
    "duration": 190,
    "start_time": "2024-11-03T09:52:13.378Z"
   },
   {
    "duration": 200,
    "start_time": "2024-11-03T09:52:13.569Z"
   },
   {
    "duration": 200,
    "start_time": "2024-11-03T09:52:13.771Z"
   },
   {
    "duration": 207,
    "start_time": "2024-11-03T09:52:13.972Z"
   },
   {
    "duration": 220,
    "start_time": "2024-11-03T09:52:14.181Z"
   },
   {
    "duration": 204,
    "start_time": "2024-11-03T09:52:14.402Z"
   },
   {
    "duration": 172,
    "start_time": "2024-11-03T09:52:14.607Z"
   },
   {
    "duration": 225,
    "start_time": "2024-11-03T09:52:14.780Z"
   },
   {
    "duration": 9,
    "start_time": "2024-11-03T09:52:15.006Z"
   },
   {
    "duration": 201,
    "start_time": "2024-11-03T09:52:15.017Z"
   },
   {
    "duration": 174,
    "start_time": "2024-11-03T09:52:15.219Z"
   },
   {
    "duration": 182,
    "start_time": "2024-11-03T09:52:15.394Z"
   },
   {
    "duration": 165,
    "start_time": "2024-11-03T09:52:15.578Z"
   },
   {
    "duration": 219,
    "start_time": "2024-11-03T09:52:15.745Z"
   },
   {
    "duration": 171,
    "start_time": "2024-11-03T09:52:15.965Z"
   },
   {
    "duration": 163,
    "start_time": "2024-11-03T09:52:16.138Z"
   },
   {
    "duration": 168,
    "start_time": "2024-11-03T09:52:16.303Z"
   },
   {
    "duration": 22,
    "start_time": "2024-11-03T09:52:16.473Z"
   },
   {
    "duration": 153,
    "start_time": "2024-11-03T09:52:16.496Z"
   },
   {
    "duration": 662,
    "start_time": "2024-11-03T09:53:26.489Z"
   },
   {
    "duration": 100,
    "start_time": "2024-11-03T09:53:27.153Z"
   },
   {
    "duration": 25,
    "start_time": "2024-11-03T09:53:27.254Z"
   },
   {
    "duration": 1637,
    "start_time": "2024-11-03T09:53:27.281Z"
   },
   {
    "duration": 9,
    "start_time": "2024-11-03T09:53:28.920Z"
   },
   {
    "duration": 6,
    "start_time": "2024-11-03T09:53:28.931Z"
   },
   {
    "duration": 14,
    "start_time": "2024-11-03T09:53:28.938Z"
   },
   {
    "duration": 127,
    "start_time": "2024-11-03T09:53:28.954Z"
   },
   {
    "duration": 5,
    "start_time": "2024-11-03T09:53:29.083Z"
   },
   {
    "duration": 21,
    "start_time": "2024-11-03T09:53:29.091Z"
   },
   {
    "duration": 338,
    "start_time": "2024-11-03T09:53:29.113Z"
   },
   {
    "duration": 4,
    "start_time": "2024-11-03T09:53:29.452Z"
   },
   {
    "duration": 227,
    "start_time": "2024-11-03T09:53:29.457Z"
   },
   {
    "duration": 261,
    "start_time": "2024-11-03T09:53:29.686Z"
   },
   {
    "duration": 199,
    "start_time": "2024-11-03T09:53:29.949Z"
   },
   {
    "duration": 195,
    "start_time": "2024-11-03T09:53:30.150Z"
   },
   {
    "duration": 214,
    "start_time": "2024-11-03T09:53:30.346Z"
   },
   {
    "duration": 210,
    "start_time": "2024-11-03T09:53:30.562Z"
   },
   {
    "duration": 207,
    "start_time": "2024-11-03T09:53:30.774Z"
   },
   {
    "duration": 218,
    "start_time": "2024-11-03T09:53:30.982Z"
   },
   {
    "duration": 206,
    "start_time": "2024-11-03T09:53:31.202Z"
   },
   {
    "duration": 169,
    "start_time": "2024-11-03T09:53:31.412Z"
   },
   {
    "duration": 225,
    "start_time": "2024-11-03T09:53:31.582Z"
   },
   {
    "duration": 5,
    "start_time": "2024-11-03T09:53:31.812Z"
   },
   {
    "duration": 173,
    "start_time": "2024-11-03T09:53:31.818Z"
   },
   {
    "duration": 180,
    "start_time": "2024-11-03T09:53:31.993Z"
   },
   {
    "duration": 179,
    "start_time": "2024-11-03T09:53:32.174Z"
   },
   {
    "duration": 167,
    "start_time": "2024-11-03T09:53:32.356Z"
   },
   {
    "duration": 223,
    "start_time": "2024-11-03T09:53:32.524Z"
   },
   {
    "duration": 171,
    "start_time": "2024-11-03T09:53:32.749Z"
   },
   {
    "duration": 167,
    "start_time": "2024-11-03T09:53:32.921Z"
   },
   {
    "duration": 184,
    "start_time": "2024-11-03T09:53:33.090Z"
   },
   {
    "duration": 21,
    "start_time": "2024-11-03T09:53:33.275Z"
   },
   {
    "duration": 156,
    "start_time": "2024-11-03T09:53:33.297Z"
   },
   {
    "duration": 605,
    "start_time": "2024-11-03T09:54:49.273Z"
   },
   {
    "duration": 101,
    "start_time": "2024-11-03T09:54:49.880Z"
   },
   {
    "duration": 31,
    "start_time": "2024-11-03T09:54:49.982Z"
   },
   {
    "duration": 1683,
    "start_time": "2024-11-03T09:54:50.015Z"
   },
   {
    "duration": 8,
    "start_time": "2024-11-03T09:54:51.699Z"
   },
   {
    "duration": 5,
    "start_time": "2024-11-03T09:54:51.708Z"
   },
   {
    "duration": 15,
    "start_time": "2024-11-03T09:54:51.715Z"
   },
   {
    "duration": 116,
    "start_time": "2024-11-03T09:54:51.731Z"
   },
   {
    "duration": 4,
    "start_time": "2024-11-03T09:54:51.849Z"
   },
   {
    "duration": 10,
    "start_time": "2024-11-03T09:54:51.855Z"
   },
   {
    "duration": 316,
    "start_time": "2024-11-03T09:54:51.866Z"
   },
   {
    "duration": 89,
    "start_time": "2024-11-03T09:54:52.184Z"
   },
   {
    "duration": 202,
    "start_time": "2024-11-03T09:54:52.274Z"
   },
   {
    "duration": 264,
    "start_time": "2024-11-03T09:54:52.477Z"
   },
   {
    "duration": 196,
    "start_time": "2024-11-03T09:54:52.742Z"
   },
   {
    "duration": 193,
    "start_time": "2024-11-03T09:54:52.940Z"
   },
   {
    "duration": 215,
    "start_time": "2024-11-03T09:54:53.134Z"
   },
   {
    "duration": 200,
    "start_time": "2024-11-03T09:54:53.351Z"
   },
   {
    "duration": 243,
    "start_time": "2024-11-03T09:54:53.552Z"
   },
   {
    "duration": 169,
    "start_time": "2024-11-03T09:54:53.796Z"
   },
   {
    "duration": 208,
    "start_time": "2024-11-03T09:54:53.966Z"
   },
   {
    "duration": 168,
    "start_time": "2024-11-03T09:54:54.175Z"
   },
   {
    "duration": 216,
    "start_time": "2024-11-03T09:54:54.345Z"
   },
   {
    "duration": 5,
    "start_time": "2024-11-03T09:54:54.562Z"
   },
   {
    "duration": 173,
    "start_time": "2024-11-03T09:54:54.568Z"
   },
   {
    "duration": 162,
    "start_time": "2024-11-03T09:54:54.743Z"
   },
   {
    "duration": 245,
    "start_time": "2024-11-03T09:54:54.912Z"
   },
   {
    "duration": 169,
    "start_time": "2024-11-03T09:54:55.160Z"
   },
   {
    "duration": 158,
    "start_time": "2024-11-03T09:54:55.331Z"
   },
   {
    "duration": 164,
    "start_time": "2024-11-03T09:54:55.491Z"
   },
   {
    "duration": 174,
    "start_time": "2024-11-03T09:54:55.657Z"
   },
   {
    "duration": 161,
    "start_time": "2024-11-03T09:54:55.832Z"
   },
   {
    "duration": 28,
    "start_time": "2024-11-03T09:54:55.995Z"
   },
   {
    "duration": 145,
    "start_time": "2024-11-03T09:54:56.024Z"
   },
   {
    "duration": 83,
    "start_time": "2024-11-03T09:55:16.099Z"
   },
   {
    "duration": 556,
    "start_time": "2024-11-03T09:57:59.845Z"
   },
   {
    "duration": 102,
    "start_time": "2024-11-03T09:58:00.403Z"
   },
   {
    "duration": 24,
    "start_time": "2024-11-03T09:58:00.506Z"
   },
   {
    "duration": 1646,
    "start_time": "2024-11-03T09:58:00.532Z"
   },
   {
    "duration": 8,
    "start_time": "2024-11-03T09:58:02.179Z"
   },
   {
    "duration": 13,
    "start_time": "2024-11-03T09:58:02.188Z"
   },
   {
    "duration": 20,
    "start_time": "2024-11-03T09:58:02.202Z"
   },
   {
    "duration": 132,
    "start_time": "2024-11-03T09:58:02.224Z"
   },
   {
    "duration": 5,
    "start_time": "2024-11-03T09:58:02.357Z"
   },
   {
    "duration": 30,
    "start_time": "2024-11-03T09:58:02.364Z"
   },
   {
    "duration": 324,
    "start_time": "2024-11-03T09:58:02.395Z"
   },
   {
    "duration": 94,
    "start_time": "2024-11-03T09:58:02.720Z"
   },
   {
    "duration": 199,
    "start_time": "2024-11-03T09:58:02.816Z"
   },
   {
    "duration": 270,
    "start_time": "2024-11-03T09:58:03.017Z"
   },
   {
    "duration": 219,
    "start_time": "2024-11-03T09:58:03.288Z"
   },
   {
    "duration": 190,
    "start_time": "2024-11-03T09:58:03.512Z"
   },
   {
    "duration": 203,
    "start_time": "2024-11-03T09:58:03.703Z"
   },
   {
    "duration": 204,
    "start_time": "2024-11-03T09:58:03.911Z"
   },
   {
    "duration": 257,
    "start_time": "2024-11-03T09:58:04.116Z"
   },
   {
    "duration": 174,
    "start_time": "2024-11-03T09:58:04.374Z"
   },
   {
    "duration": 218,
    "start_time": "2024-11-03T09:58:04.549Z"
   },
   {
    "duration": 172,
    "start_time": "2024-11-03T09:58:04.768Z"
   },
   {
    "duration": 216,
    "start_time": "2024-11-03T09:58:04.941Z"
   },
   {
    "duration": 5,
    "start_time": "2024-11-03T09:58:05.159Z"
   },
   {
    "duration": 137,
    "start_time": "2024-11-03T09:58:05.165Z"
   },
   {
    "duration": 138,
    "start_time": "2024-11-03T09:58:05.303Z"
   },
   {
    "duration": 192,
    "start_time": "2024-11-03T09:58:05.443Z"
   },
   {
    "duration": 144,
    "start_time": "2024-11-03T09:58:05.638Z"
   },
   {
    "duration": 124,
    "start_time": "2024-11-03T09:58:05.783Z"
   },
   {
    "duration": 144,
    "start_time": "2024-11-03T09:58:05.912Z"
   },
   {
    "duration": 137,
    "start_time": "2024-11-03T09:58:06.057Z"
   },
   {
    "duration": 141,
    "start_time": "2024-11-03T09:58:06.195Z"
   },
   {
    "duration": 20,
    "start_time": "2024-11-03T09:58:06.337Z"
   },
   {
    "duration": 151,
    "start_time": "2024-11-03T09:58:06.358Z"
   },
   {
    "duration": 144,
    "start_time": "2024-11-03T09:58:48.707Z"
   },
   {
    "duration": 579,
    "start_time": "2024-11-03T09:59:18.910Z"
   },
   {
    "duration": 101,
    "start_time": "2024-11-03T09:59:19.491Z"
   },
   {
    "duration": 26,
    "start_time": "2024-11-03T09:59:19.593Z"
   },
   {
    "duration": 1665,
    "start_time": "2024-11-03T09:59:19.621Z"
   },
   {
    "duration": 8,
    "start_time": "2024-11-03T09:59:21.287Z"
   },
   {
    "duration": 18,
    "start_time": "2024-11-03T09:59:21.296Z"
   },
   {
    "duration": 28,
    "start_time": "2024-11-03T09:59:21.315Z"
   },
   {
    "duration": 121,
    "start_time": "2024-11-03T09:59:21.345Z"
   },
   {
    "duration": 4,
    "start_time": "2024-11-03T09:59:21.467Z"
   },
   {
    "duration": 27,
    "start_time": "2024-11-03T09:59:21.473Z"
   },
   {
    "duration": 316,
    "start_time": "2024-11-03T09:59:21.501Z"
   },
   {
    "duration": 95,
    "start_time": "2024-11-03T09:59:21.818Z"
   },
   {
    "duration": 199,
    "start_time": "2024-11-03T09:59:21.914Z"
   },
   {
    "duration": 261,
    "start_time": "2024-11-03T09:59:22.114Z"
   },
   {
    "duration": 204,
    "start_time": "2024-11-03T09:59:22.376Z"
   },
   {
    "duration": 195,
    "start_time": "2024-11-03T09:59:22.581Z"
   },
   {
    "duration": 206,
    "start_time": "2024-11-03T09:59:22.777Z"
   },
   {
    "duration": 219,
    "start_time": "2024-11-03T09:59:22.985Z"
   },
   {
    "duration": 247,
    "start_time": "2024-11-03T09:59:23.205Z"
   },
   {
    "duration": 177,
    "start_time": "2024-11-03T09:59:23.454Z"
   },
   {
    "duration": 219,
    "start_time": "2024-11-03T09:59:23.632Z"
   },
   {
    "duration": 173,
    "start_time": "2024-11-03T09:59:23.852Z"
   },
   {
    "duration": 220,
    "start_time": "2024-11-03T09:59:24.026Z"
   },
   {
    "duration": 5,
    "start_time": "2024-11-03T09:59:24.247Z"
   },
   {
    "duration": 173,
    "start_time": "2024-11-03T09:59:24.253Z"
   },
   {
    "duration": 169,
    "start_time": "2024-11-03T09:59:24.428Z"
   },
   {
    "duration": 229,
    "start_time": "2024-11-03T09:59:24.598Z"
   },
   {
    "duration": 171,
    "start_time": "2024-11-03T09:59:24.830Z"
   },
   {
    "duration": 169,
    "start_time": "2024-11-03T09:59:25.002Z"
   },
   {
    "duration": 168,
    "start_time": "2024-11-03T09:59:25.173Z"
   },
   {
    "duration": 170,
    "start_time": "2024-11-03T09:59:25.343Z"
   },
   {
    "duration": 163,
    "start_time": "2024-11-03T09:59:25.514Z"
   },
   {
    "duration": 21,
    "start_time": "2024-11-03T09:59:25.679Z"
   },
   {
    "duration": 156,
    "start_time": "2024-11-03T09:59:25.701Z"
   },
   {
    "duration": 612,
    "start_time": "2024-11-03T10:01:13.799Z"
   },
   {
    "duration": 98,
    "start_time": "2024-11-03T10:01:14.413Z"
   },
   {
    "duration": 23,
    "start_time": "2024-11-03T10:01:14.513Z"
   },
   {
    "duration": 1637,
    "start_time": "2024-11-03T10:01:14.537Z"
   },
   {
    "duration": 8,
    "start_time": "2024-11-03T10:01:16.175Z"
   },
   {
    "duration": 5,
    "start_time": "2024-11-03T10:01:16.184Z"
   },
   {
    "duration": 13,
    "start_time": "2024-11-03T10:01:16.190Z"
   },
   {
    "duration": 116,
    "start_time": "2024-11-03T10:01:16.204Z"
   },
   {
    "duration": 4,
    "start_time": "2024-11-03T10:01:16.322Z"
   },
   {
    "duration": 11,
    "start_time": "2024-11-03T10:01:16.328Z"
   },
   {
    "duration": 327,
    "start_time": "2024-11-03T10:01:16.341Z"
   },
   {
    "duration": 103,
    "start_time": "2024-11-03T10:01:16.670Z"
   },
   {
    "duration": 218,
    "start_time": "2024-11-03T10:01:16.774Z"
   },
   {
    "duration": 284,
    "start_time": "2024-11-03T10:01:16.994Z"
   },
   {
    "duration": 200,
    "start_time": "2024-11-03T10:01:17.279Z"
   },
   {
    "duration": 196,
    "start_time": "2024-11-03T10:01:17.481Z"
   },
   {
    "duration": 206,
    "start_time": "2024-11-03T10:01:17.679Z"
   },
   {
    "duration": 219,
    "start_time": "2024-11-03T10:01:17.887Z"
   },
   {
    "duration": 248,
    "start_time": "2024-11-03T10:01:18.107Z"
   },
   {
    "duration": 170,
    "start_time": "2024-11-03T10:01:18.356Z"
   },
   {
    "duration": 203,
    "start_time": "2024-11-03T10:01:18.527Z"
   },
   {
    "duration": 168,
    "start_time": "2024-11-03T10:01:18.732Z"
   },
   {
    "duration": 232,
    "start_time": "2024-11-03T10:01:18.902Z"
   },
   {
    "duration": 5,
    "start_time": "2024-11-03T10:01:19.136Z"
   },
   {
    "duration": 172,
    "start_time": "2024-11-03T10:01:19.142Z"
   },
   {
    "duration": 170,
    "start_time": "2024-11-03T10:01:19.315Z"
   },
   {
    "duration": 243,
    "start_time": "2024-11-03T10:01:19.487Z"
   },
   {
    "duration": 166,
    "start_time": "2024-11-03T10:01:19.734Z"
   },
   {
    "duration": 153,
    "start_time": "2024-11-03T10:01:19.902Z"
   },
   {
    "duration": 163,
    "start_time": "2024-11-03T10:01:20.057Z"
   },
   {
    "duration": 169,
    "start_time": "2024-11-03T10:01:20.221Z"
   },
   {
    "duration": 172,
    "start_time": "2024-11-03T10:01:20.391Z"
   },
   {
    "duration": 21,
    "start_time": "2024-11-03T10:01:20.564Z"
   },
   {
    "duration": 170,
    "start_time": "2024-11-03T10:01:20.586Z"
   },
   {
    "duration": 108,
    "start_time": "2024-11-03T10:02:27.805Z"
   },
   {
    "duration": 601,
    "start_time": "2024-11-03T10:03:36.615Z"
   },
   {
    "duration": 97,
    "start_time": "2024-11-03T10:03:37.218Z"
   },
   {
    "duration": 23,
    "start_time": "2024-11-03T10:03:37.316Z"
   },
   {
    "duration": 1650,
    "start_time": "2024-11-03T10:03:37.340Z"
   },
   {
    "duration": 8,
    "start_time": "2024-11-03T10:03:38.991Z"
   },
   {
    "duration": 5,
    "start_time": "2024-11-03T10:03:39.001Z"
   },
   {
    "duration": 14,
    "start_time": "2024-11-03T10:03:39.007Z"
   },
   {
    "duration": 117,
    "start_time": "2024-11-03T10:03:39.023Z"
   },
   {
    "duration": 5,
    "start_time": "2024-11-03T10:03:39.141Z"
   },
   {
    "duration": 10,
    "start_time": "2024-11-03T10:03:39.148Z"
   },
   {
    "duration": 329,
    "start_time": "2024-11-03T10:03:39.159Z"
   },
   {
    "duration": 101,
    "start_time": "2024-11-03T10:03:39.490Z"
   },
   {
    "duration": 206,
    "start_time": "2024-11-03T10:03:39.593Z"
   },
   {
    "duration": 263,
    "start_time": "2024-11-03T10:03:39.800Z"
   },
   {
    "duration": 199,
    "start_time": "2024-11-03T10:03:40.065Z"
   },
   {
    "duration": 197,
    "start_time": "2024-11-03T10:03:40.265Z"
   },
   {
    "duration": 207,
    "start_time": "2024-11-03T10:03:40.463Z"
   },
   {
    "duration": 210,
    "start_time": "2024-11-03T10:03:40.672Z"
   },
   {
    "duration": 262,
    "start_time": "2024-11-03T10:03:40.884Z"
   },
   {
    "duration": 169,
    "start_time": "2024-11-03T10:03:41.147Z"
   },
   {
    "duration": 206,
    "start_time": "2024-11-03T10:03:41.318Z"
   },
   {
    "duration": 181,
    "start_time": "2024-11-03T10:03:41.526Z"
   },
   {
    "duration": 228,
    "start_time": "2024-11-03T10:03:41.711Z"
   },
   {
    "duration": 6,
    "start_time": "2024-11-03T10:03:41.940Z"
   },
   {
    "duration": 180,
    "start_time": "2024-11-03T10:03:41.947Z"
   },
   {
    "duration": 167,
    "start_time": "2024-11-03T10:03:42.128Z"
   },
   {
    "duration": 217,
    "start_time": "2024-11-03T10:03:42.297Z"
   },
   {
    "duration": 157,
    "start_time": "2024-11-03T10:03:42.517Z"
   },
   {
    "duration": 151,
    "start_time": "2024-11-03T10:03:42.675Z"
   },
   {
    "duration": 171,
    "start_time": "2024-11-03T10:03:42.828Z"
   },
   {
    "duration": 170,
    "start_time": "2024-11-03T10:03:43.001Z"
   },
   {
    "duration": 170,
    "start_time": "2024-11-03T10:03:43.173Z"
   },
   {
    "duration": 23,
    "start_time": "2024-11-03T10:03:43.345Z"
   },
   {
    "duration": 159,
    "start_time": "2024-11-03T10:03:43.370Z"
   },
   {
    "duration": 644,
    "start_time": "2024-11-03T10:04:54.905Z"
   },
   {
    "duration": 101,
    "start_time": "2024-11-03T10:04:55.551Z"
   },
   {
    "duration": 32,
    "start_time": "2024-11-03T10:04:55.656Z"
   },
   {
    "duration": 1713,
    "start_time": "2024-11-03T10:04:55.689Z"
   },
   {
    "duration": 12,
    "start_time": "2024-11-03T10:04:57.404Z"
   },
   {
    "duration": 7,
    "start_time": "2024-11-03T10:04:57.417Z"
   },
   {
    "duration": 20,
    "start_time": "2024-11-03T10:04:57.425Z"
   },
   {
    "duration": 131,
    "start_time": "2024-11-03T10:04:57.446Z"
   },
   {
    "duration": 5,
    "start_time": "2024-11-03T10:04:57.580Z"
   },
   {
    "duration": 13,
    "start_time": "2024-11-03T10:04:57.586Z"
   },
   {
    "duration": 325,
    "start_time": "2024-11-03T10:04:57.600Z"
   },
   {
    "duration": 109,
    "start_time": "2024-11-03T10:04:57.926Z"
   },
   {
    "duration": 201,
    "start_time": "2024-11-03T10:04:58.037Z"
   },
   {
    "duration": 279,
    "start_time": "2024-11-03T10:04:58.239Z"
   },
   {
    "duration": 199,
    "start_time": "2024-11-03T10:04:58.519Z"
   },
   {
    "duration": 213,
    "start_time": "2024-11-03T10:04:58.719Z"
   },
   {
    "duration": 220,
    "start_time": "2024-11-03T10:04:58.934Z"
   },
   {
    "duration": 215,
    "start_time": "2024-11-03T10:04:59.156Z"
   },
   {
    "duration": 263,
    "start_time": "2024-11-03T10:04:59.372Z"
   },
   {
    "duration": 174,
    "start_time": "2024-11-03T10:04:59.636Z"
   },
   {
    "duration": 203,
    "start_time": "2024-11-03T10:04:59.811Z"
   },
   {
    "duration": 177,
    "start_time": "2024-11-03T10:05:00.015Z"
   },
   {
    "duration": 232,
    "start_time": "2024-11-03T10:05:00.193Z"
   },
   {
    "duration": 6,
    "start_time": "2024-11-03T10:05:00.427Z"
   },
   {
    "duration": 191,
    "start_time": "2024-11-03T10:05:00.434Z"
   },
   {
    "duration": 178,
    "start_time": "2024-11-03T10:05:00.626Z"
   },
   {
    "duration": 237,
    "start_time": "2024-11-03T10:05:00.808Z"
   },
   {
    "duration": 176,
    "start_time": "2024-11-03T10:05:01.046Z"
   },
   {
    "duration": 150,
    "start_time": "2024-11-03T10:05:01.224Z"
   },
   {
    "duration": 166,
    "start_time": "2024-11-03T10:05:01.375Z"
   },
   {
    "duration": 171,
    "start_time": "2024-11-03T10:05:01.542Z"
   },
   {
    "duration": 170,
    "start_time": "2024-11-03T10:05:01.715Z"
   },
   {
    "duration": 37,
    "start_time": "2024-11-03T10:05:01.886Z"
   },
   {
    "duration": 169,
    "start_time": "2024-11-03T10:05:01.925Z"
   },
   {
    "duration": 46,
    "start_time": "2024-11-03T19:02:21.622Z"
   },
   {
    "duration": 786,
    "start_time": "2024-11-03T19:02:25.302Z"
   },
   {
    "duration": 154,
    "start_time": "2024-11-03T19:02:26.090Z"
   },
   {
    "duration": 24,
    "start_time": "2024-11-03T19:02:26.246Z"
   },
   {
    "duration": 1671,
    "start_time": "2024-11-03T19:02:26.271Z"
   },
   {
    "duration": 8,
    "start_time": "2024-11-03T19:02:27.944Z"
   },
   {
    "duration": 6,
    "start_time": "2024-11-03T19:02:27.953Z"
   },
   {
    "duration": 13,
    "start_time": "2024-11-03T19:02:27.960Z"
   },
   {
    "duration": 110,
    "start_time": "2024-11-03T19:02:27.975Z"
   },
   {
    "duration": 4,
    "start_time": "2024-11-03T19:02:28.087Z"
   },
   {
    "duration": 11,
    "start_time": "2024-11-03T19:02:28.092Z"
   },
   {
    "duration": 312,
    "start_time": "2024-11-03T19:02:28.111Z"
   },
   {
    "duration": 4,
    "start_time": "2024-11-03T19:02:28.424Z"
   },
   {
    "duration": 209,
    "start_time": "2024-11-03T19:02:28.430Z"
   },
   {
    "duration": 263,
    "start_time": "2024-11-03T19:02:28.642Z"
   },
   {
    "duration": 196,
    "start_time": "2024-11-03T19:02:28.907Z"
   },
   {
    "duration": 198,
    "start_time": "2024-11-03T19:02:29.105Z"
   },
   {
    "duration": 211,
    "start_time": "2024-11-03T19:02:29.305Z"
   },
   {
    "duration": 221,
    "start_time": "2024-11-03T19:02:29.517Z"
   },
   {
    "duration": 217,
    "start_time": "2024-11-03T19:02:29.739Z"
   },
   {
    "duration": 204,
    "start_time": "2024-11-03T19:02:29.958Z"
   },
   {
    "duration": 203,
    "start_time": "2024-11-03T19:02:30.164Z"
   },
   {
    "duration": 170,
    "start_time": "2024-11-03T19:02:30.369Z"
   },
   {
    "duration": 218,
    "start_time": "2024-11-03T19:02:30.540Z"
   },
   {
    "duration": 4,
    "start_time": "2024-11-03T19:02:30.760Z"
   },
   {
    "duration": 181,
    "start_time": "2024-11-03T19:02:30.766Z"
   },
   {
    "duration": 171,
    "start_time": "2024-11-03T19:02:30.948Z"
   },
   {
    "duration": 197,
    "start_time": "2024-11-03T19:02:31.121Z"
   },
   {
    "duration": 163,
    "start_time": "2024-11-03T19:02:31.320Z"
   },
   {
    "duration": 206,
    "start_time": "2024-11-03T19:02:31.485Z"
   },
   {
    "duration": 167,
    "start_time": "2024-11-03T19:02:31.692Z"
   },
   {
    "duration": 162,
    "start_time": "2024-11-03T19:02:31.861Z"
   },
   {
    "duration": 163,
    "start_time": "2024-11-03T19:02:32.025Z"
   },
   {
    "duration": 28,
    "start_time": "2024-11-03T19:02:32.190Z"
   },
   {
    "duration": 153,
    "start_time": "2024-11-03T19:02:32.220Z"
   },
   {
    "duration": 71,
    "start_time": "2024-11-03T19:04:37.182Z"
   },
   {
    "duration": 9,
    "start_time": "2024-11-03T19:05:03.351Z"
   },
   {
    "duration": 10,
    "start_time": "2024-11-03T19:05:25.378Z"
   },
   {
    "duration": 9,
    "start_time": "2024-11-03T19:06:05.324Z"
   },
   {
    "duration": 11,
    "start_time": "2024-11-03T19:06:49.605Z"
   },
   {
    "duration": 10,
    "start_time": "2024-11-03T19:08:00.255Z"
   },
   {
    "duration": 206,
    "start_time": "2024-11-03T19:14:29.833Z"
   },
   {
    "duration": 97,
    "start_time": "2024-11-03T19:15:21.994Z"
   },
   {
    "duration": 109,
    "start_time": "2024-11-03T19:15:32.757Z"
   },
   {
    "duration": 93,
    "start_time": "2024-11-03T19:15:42.593Z"
   },
   {
    "duration": 99,
    "start_time": "2024-11-03T19:16:21.624Z"
   },
   {
    "duration": 102,
    "start_time": "2024-11-03T19:16:33.063Z"
   },
   {
    "duration": 94,
    "start_time": "2024-11-03T19:17:39.775Z"
   },
   {
    "duration": 544,
    "start_time": "2024-11-03T19:18:17.849Z"
   },
   {
    "duration": 96,
    "start_time": "2024-11-03T19:18:18.395Z"
   },
   {
    "duration": 23,
    "start_time": "2024-11-03T19:18:18.492Z"
   },
   {
    "duration": 1642,
    "start_time": "2024-11-03T19:18:18.516Z"
   },
   {
    "duration": 7,
    "start_time": "2024-11-03T19:18:20.160Z"
   },
   {
    "duration": 8,
    "start_time": "2024-11-03T19:18:20.168Z"
   },
   {
    "duration": 14,
    "start_time": "2024-11-03T19:18:20.177Z"
   },
   {
    "duration": 133,
    "start_time": "2024-11-03T19:18:20.192Z"
   },
   {
    "duration": 5,
    "start_time": "2024-11-03T19:18:20.326Z"
   },
   {
    "duration": 13,
    "start_time": "2024-11-03T19:18:20.332Z"
   },
   {
    "duration": 323,
    "start_time": "2024-11-03T19:18:20.346Z"
   },
   {
    "duration": 3,
    "start_time": "2024-11-03T19:18:20.671Z"
   },
   {
    "duration": 210,
    "start_time": "2024-11-03T19:18:20.675Z"
   },
   {
    "duration": 254,
    "start_time": "2024-11-03T19:18:20.887Z"
   },
   {
    "duration": 205,
    "start_time": "2024-11-03T19:18:21.143Z"
   },
   {
    "duration": 197,
    "start_time": "2024-11-03T19:18:21.350Z"
   },
   {
    "duration": 206,
    "start_time": "2024-11-03T19:18:21.548Z"
   },
   {
    "duration": 207,
    "start_time": "2024-11-03T19:18:21.756Z"
   },
   {
    "duration": 206,
    "start_time": "2024-11-03T19:18:21.965Z"
   },
   {
    "duration": 203,
    "start_time": "2024-11-03T19:18:22.172Z"
   },
   {
    "duration": 199,
    "start_time": "2024-11-03T19:18:22.377Z"
   },
   {
    "duration": 171,
    "start_time": "2024-11-03T19:18:22.577Z"
   },
   {
    "duration": 232,
    "start_time": "2024-11-03T19:18:22.749Z"
   },
   {
    "duration": 4,
    "start_time": "2024-11-03T19:18:22.983Z"
   },
   {
    "duration": 168,
    "start_time": "2024-11-03T19:18:22.988Z"
   },
   {
    "duration": 162,
    "start_time": "2024-11-03T19:18:23.157Z"
   },
   {
    "duration": 165,
    "start_time": "2024-11-03T19:18:23.320Z"
   },
   {
    "duration": 154,
    "start_time": "2024-11-03T19:18:23.487Z"
   },
   {
    "duration": 203,
    "start_time": "2024-11-03T19:18:23.643Z"
   },
   {
    "duration": 164,
    "start_time": "2024-11-03T19:18:23.848Z"
   },
   {
    "duration": 165,
    "start_time": "2024-11-03T19:18:24.013Z"
   },
   {
    "duration": 179,
    "start_time": "2024-11-03T19:18:24.179Z"
   },
   {
    "duration": 21,
    "start_time": "2024-11-03T19:18:24.359Z"
   },
   {
    "duration": 148,
    "start_time": "2024-11-03T19:18:24.381Z"
   },
   {
    "duration": 108,
    "start_time": "2024-11-03T19:18:54.240Z"
   },
   {
    "duration": 97,
    "start_time": "2024-11-03T19:19:14.557Z"
   },
   {
    "duration": 100,
    "start_time": "2024-11-03T19:19:25.793Z"
   },
   {
    "duration": 98,
    "start_time": "2024-11-03T19:19:37.201Z"
   },
   {
    "duration": 99,
    "start_time": "2024-11-03T19:19:43.697Z"
   },
   {
    "duration": 103,
    "start_time": "2024-11-03T19:19:58.851Z"
   },
   {
    "duration": 58,
    "start_time": "2024-11-03T19:20:18.289Z"
   },
   {
    "duration": 54,
    "start_time": "2024-11-03T19:20:23.547Z"
   },
   {
    "duration": 52,
    "start_time": "2024-11-03T19:20:48.649Z"
   },
   {
    "duration": 646,
    "start_time": "2024-11-03T19:20:52.639Z"
   },
   {
    "duration": 99,
    "start_time": "2024-11-03T19:20:53.287Z"
   },
   {
    "duration": 30,
    "start_time": "2024-11-03T19:20:53.387Z"
   },
   {
    "duration": 1643,
    "start_time": "2024-11-03T19:20:53.419Z"
   },
   {
    "duration": 8,
    "start_time": "2024-11-03T19:20:55.063Z"
   },
   {
    "duration": 10,
    "start_time": "2024-11-03T19:20:55.072Z"
   },
   {
    "duration": 14,
    "start_time": "2024-11-03T19:20:55.083Z"
   },
   {
    "duration": 124,
    "start_time": "2024-11-03T19:20:55.098Z"
   },
   {
    "duration": 4,
    "start_time": "2024-11-03T19:20:55.223Z"
   },
   {
    "duration": 8,
    "start_time": "2024-11-03T19:20:55.230Z"
   },
   {
    "duration": 310,
    "start_time": "2024-11-03T19:20:55.239Z"
   },
   {
    "duration": 4,
    "start_time": "2024-11-03T19:20:55.550Z"
   },
   {
    "duration": 215,
    "start_time": "2024-11-03T19:20:55.555Z"
   },
   {
    "duration": 261,
    "start_time": "2024-11-03T19:20:55.771Z"
   },
   {
    "duration": 196,
    "start_time": "2024-11-03T19:20:56.034Z"
   },
   {
    "duration": 187,
    "start_time": "2024-11-03T19:20:56.231Z"
   },
   {
    "duration": 196,
    "start_time": "2024-11-03T19:20:56.420Z"
   },
   {
    "duration": 207,
    "start_time": "2024-11-03T19:20:56.617Z"
   },
   {
    "duration": 230,
    "start_time": "2024-11-03T19:20:56.825Z"
   },
   {
    "duration": 231,
    "start_time": "2024-11-03T19:20:57.057Z"
   },
   {
    "duration": 197,
    "start_time": "2024-11-03T19:20:57.289Z"
   },
   {
    "duration": 170,
    "start_time": "2024-11-03T19:20:57.487Z"
   },
   {
    "duration": 218,
    "start_time": "2024-11-03T19:20:57.659Z"
   },
   {
    "duration": 5,
    "start_time": "2024-11-03T19:20:57.879Z"
   },
   {
    "duration": 165,
    "start_time": "2024-11-03T19:20:57.885Z"
   },
   {
    "duration": 156,
    "start_time": "2024-11-03T19:20:58.052Z"
   },
   {
    "duration": 165,
    "start_time": "2024-11-03T19:20:58.209Z"
   },
   {
    "duration": 165,
    "start_time": "2024-11-03T19:20:58.377Z"
   },
   {
    "duration": 200,
    "start_time": "2024-11-03T19:20:58.544Z"
   },
   {
    "duration": 158,
    "start_time": "2024-11-03T19:20:58.746Z"
   },
   {
    "duration": 163,
    "start_time": "2024-11-03T19:20:58.906Z"
   },
   {
    "duration": 176,
    "start_time": "2024-11-03T19:20:59.070Z"
   },
   {
    "duration": 21,
    "start_time": "2024-11-03T19:20:59.248Z"
   },
   {
    "duration": 152,
    "start_time": "2024-11-03T19:20:59.270Z"
   },
   {
    "duration": 99,
    "start_time": "2024-11-03T19:22:00.863Z"
   },
   {
    "duration": 609,
    "start_time": "2024-11-03T19:24:02.894Z"
   },
   {
    "duration": 99,
    "start_time": "2024-11-03T19:24:03.504Z"
   },
   {
    "duration": 24,
    "start_time": "2024-11-03T19:24:03.604Z"
   },
   {
    "duration": 1640,
    "start_time": "2024-11-03T19:24:03.630Z"
   },
   {
    "duration": 8,
    "start_time": "2024-11-03T19:24:05.271Z"
   },
   {
    "duration": 18,
    "start_time": "2024-11-03T19:24:05.280Z"
   },
   {
    "duration": 13,
    "start_time": "2024-11-03T19:24:05.299Z"
   },
   {
    "duration": 122,
    "start_time": "2024-11-03T19:24:05.313Z"
   },
   {
    "duration": 5,
    "start_time": "2024-11-03T19:24:05.436Z"
   },
   {
    "duration": 37,
    "start_time": "2024-11-03T19:24:05.443Z"
   },
   {
    "duration": 335,
    "start_time": "2024-11-03T19:24:05.482Z"
   },
   {
    "duration": 3,
    "start_time": "2024-11-03T19:24:05.818Z"
   },
   {
    "duration": 193,
    "start_time": "2024-11-03T19:24:05.823Z"
   },
   {
    "duration": 256,
    "start_time": "2024-11-03T19:24:06.017Z"
   },
   {
    "duration": 194,
    "start_time": "2024-11-03T19:24:06.274Z"
   },
   {
    "duration": 189,
    "start_time": "2024-11-03T19:24:06.470Z"
   },
   {
    "duration": 215,
    "start_time": "2024-11-03T19:24:06.660Z"
   },
   {
    "duration": 237,
    "start_time": "2024-11-03T19:24:06.876Z"
   },
   {
    "duration": 207,
    "start_time": "2024-11-03T19:24:07.115Z"
   },
   {
    "duration": 212,
    "start_time": "2024-11-03T19:24:07.324Z"
   },
   {
    "duration": 200,
    "start_time": "2024-11-03T19:24:07.538Z"
   },
   {
    "duration": 173,
    "start_time": "2024-11-03T19:24:07.740Z"
   },
   {
    "duration": 232,
    "start_time": "2024-11-03T19:24:07.914Z"
   },
   {
    "duration": 5,
    "start_time": "2024-11-03T19:24:08.148Z"
   },
   {
    "duration": 180,
    "start_time": "2024-11-03T19:24:08.154Z"
   },
   {
    "duration": 155,
    "start_time": "2024-11-03T19:24:08.336Z"
   },
   {
    "duration": 175,
    "start_time": "2024-11-03T19:24:08.492Z"
   },
   {
    "duration": 153,
    "start_time": "2024-11-03T19:24:08.670Z"
   },
   {
    "duration": 197,
    "start_time": "2024-11-03T19:24:08.825Z"
   },
   {
    "duration": 168,
    "start_time": "2024-11-03T19:24:09.024Z"
   },
   {
    "duration": 161,
    "start_time": "2024-11-03T19:24:09.193Z"
   },
   {
    "duration": 170,
    "start_time": "2024-11-03T19:24:09.355Z"
   },
   {
    "duration": 21,
    "start_time": "2024-11-03T19:24:09.527Z"
   },
   {
    "duration": 149,
    "start_time": "2024-11-03T19:24:09.549Z"
   },
   {
    "duration": 101,
    "start_time": "2024-11-03T19:29:01.450Z"
   },
   {
    "duration": 149,
    "start_time": "2024-11-03T19:33:03.393Z"
   },
   {
    "duration": 74,
    "start_time": "2024-11-03T19:33:12.873Z"
   },
   {
    "duration": 4,
    "start_time": "2024-11-03T19:35:40.553Z"
   },
   {
    "duration": 5,
    "start_time": "2024-11-03T19:35:50.303Z"
   },
   {
    "duration": 7,
    "start_time": "2024-11-03T19:36:17.086Z"
   },
   {
    "duration": 7,
    "start_time": "2024-11-03T19:36:25.149Z"
   },
   {
    "duration": 372,
    "start_time": "2024-11-03T19:37:35.449Z"
   },
   {
    "duration": 182,
    "start_time": "2024-11-03T19:39:02.250Z"
   },
   {
    "duration": 209,
    "start_time": "2024-11-03T19:39:24.634Z"
   },
   {
    "duration": 580,
    "start_time": "2024-11-03T20:09:45.715Z"
   },
   {
    "duration": 100,
    "start_time": "2024-11-03T20:09:46.296Z"
   },
   {
    "duration": 22,
    "start_time": "2024-11-03T20:09:46.397Z"
   },
   {
    "duration": 1657,
    "start_time": "2024-11-03T20:09:46.421Z"
   },
   {
    "duration": 10,
    "start_time": "2024-11-03T20:09:48.079Z"
   },
   {
    "duration": 9,
    "start_time": "2024-11-03T20:09:48.090Z"
   },
   {
    "duration": 13,
    "start_time": "2024-11-03T20:09:48.100Z"
   },
   {
    "duration": 116,
    "start_time": "2024-11-03T20:09:48.115Z"
   },
   {
    "duration": 4,
    "start_time": "2024-11-03T20:09:48.233Z"
   },
   {
    "duration": 13,
    "start_time": "2024-11-03T20:09:48.239Z"
   },
   {
    "duration": 319,
    "start_time": "2024-11-03T20:09:48.253Z"
   },
   {
    "duration": 4,
    "start_time": "2024-11-03T20:09:48.573Z"
   },
   {
    "duration": 194,
    "start_time": "2024-11-03T20:09:48.578Z"
   },
   {
    "duration": 266,
    "start_time": "2024-11-03T20:09:48.774Z"
   },
   {
    "duration": 207,
    "start_time": "2024-11-03T20:09:49.041Z"
   },
   {
    "duration": 193,
    "start_time": "2024-11-03T20:09:49.250Z"
   },
   {
    "duration": 199,
    "start_time": "2024-11-03T20:09:49.444Z"
   },
   {
    "duration": 209,
    "start_time": "2024-11-03T20:09:49.644Z"
   },
   {
    "duration": 592,
    "start_time": "2024-11-03T20:09:49.855Z"
   },
   {
    "duration": 0,
    "start_time": "2024-11-03T20:09:50.449Z"
   },
   {
    "duration": 0,
    "start_time": "2024-11-03T20:09:50.450Z"
   },
   {
    "duration": 0,
    "start_time": "2024-11-03T20:09:50.451Z"
   },
   {
    "duration": 0,
    "start_time": "2024-11-03T20:09:50.452Z"
   },
   {
    "duration": 0,
    "start_time": "2024-11-03T20:09:50.453Z"
   },
   {
    "duration": 0,
    "start_time": "2024-11-03T20:09:50.454Z"
   },
   {
    "duration": 0,
    "start_time": "2024-11-03T20:09:50.455Z"
   },
   {
    "duration": 0,
    "start_time": "2024-11-03T20:09:50.456Z"
   },
   {
    "duration": 0,
    "start_time": "2024-11-03T20:09:50.456Z"
   },
   {
    "duration": 0,
    "start_time": "2024-11-03T20:09:50.457Z"
   },
   {
    "duration": 0,
    "start_time": "2024-11-03T20:09:50.458Z"
   },
   {
    "duration": 0,
    "start_time": "2024-11-03T20:09:50.459Z"
   },
   {
    "duration": 0,
    "start_time": "2024-11-03T20:09:50.460Z"
   },
   {
    "duration": 0,
    "start_time": "2024-11-03T20:09:50.461Z"
   },
   {
    "duration": 0,
    "start_time": "2024-11-03T20:09:50.462Z"
   },
   {
    "duration": 0,
    "start_time": "2024-11-03T20:09:50.462Z"
   },
   {
    "duration": 607,
    "start_time": "2024-11-03T20:10:21.991Z"
   },
   {
    "duration": 96,
    "start_time": "2024-11-03T20:10:22.600Z"
   },
   {
    "duration": 23,
    "start_time": "2024-11-03T20:10:22.698Z"
   },
   {
    "duration": 1667,
    "start_time": "2024-11-03T20:10:22.723Z"
   },
   {
    "duration": 8,
    "start_time": "2024-11-03T20:10:24.391Z"
   },
   {
    "duration": 10,
    "start_time": "2024-11-03T20:10:24.400Z"
   },
   {
    "duration": 14,
    "start_time": "2024-11-03T20:10:24.411Z"
   },
   {
    "duration": 118,
    "start_time": "2024-11-03T20:10:24.426Z"
   },
   {
    "duration": 5,
    "start_time": "2024-11-03T20:10:24.545Z"
   },
   {
    "duration": 9,
    "start_time": "2024-11-03T20:10:24.552Z"
   },
   {
    "duration": 330,
    "start_time": "2024-11-03T20:10:24.563Z"
   },
   {
    "duration": 4,
    "start_time": "2024-11-03T20:10:24.894Z"
   },
   {
    "duration": 204,
    "start_time": "2024-11-03T20:10:24.900Z"
   },
   {
    "duration": 264,
    "start_time": "2024-11-03T20:10:25.106Z"
   },
   {
    "duration": 198,
    "start_time": "2024-11-03T20:10:25.371Z"
   },
   {
    "duration": 191,
    "start_time": "2024-11-03T20:10:25.570Z"
   },
   {
    "duration": 229,
    "start_time": "2024-11-03T20:10:25.762Z"
   },
   {
    "duration": 212,
    "start_time": "2024-11-03T20:10:25.993Z"
   },
   {
    "duration": 196,
    "start_time": "2024-11-03T20:10:26.206Z"
   },
   {
    "duration": 200,
    "start_time": "2024-11-03T20:10:26.403Z"
   },
   {
    "duration": 201,
    "start_time": "2024-11-03T20:10:26.604Z"
   },
   {
    "duration": 167,
    "start_time": "2024-11-03T20:10:26.806Z"
   },
   {
    "duration": 250,
    "start_time": "2024-11-03T20:10:26.975Z"
   },
   {
    "duration": 7,
    "start_time": "2024-11-03T20:10:27.226Z"
   },
   {
    "duration": 6,
    "start_time": "2024-11-03T20:10:27.234Z"
   },
   {
    "duration": 190,
    "start_time": "2024-11-03T20:10:27.242Z"
   },
   {
    "duration": 162,
    "start_time": "2024-11-03T20:10:27.434Z"
   },
   {
    "duration": 159,
    "start_time": "2024-11-03T20:10:27.599Z"
   },
   {
    "duration": 331,
    "start_time": "2024-11-03T20:10:27.759Z"
   },
   {
    "duration": 246,
    "start_time": "2024-11-03T20:10:28.091Z"
   },
   {
    "duration": 163,
    "start_time": "2024-11-03T20:10:28.338Z"
   },
   {
    "duration": 167,
    "start_time": "2024-11-03T20:10:28.502Z"
   },
   {
    "duration": 160,
    "start_time": "2024-11-03T20:10:28.670Z"
   },
   {
    "duration": 21,
    "start_time": "2024-11-03T20:10:28.831Z"
   },
   {
    "duration": 161,
    "start_time": "2024-11-03T20:10:28.854Z"
   },
   {
    "duration": 578,
    "start_time": "2024-11-03T20:10:47.810Z"
   },
   {
    "duration": 98,
    "start_time": "2024-11-03T20:10:48.390Z"
   },
   {
    "duration": 25,
    "start_time": "2024-11-03T20:10:48.490Z"
   },
   {
    "duration": 1613,
    "start_time": "2024-11-03T20:10:48.517Z"
   },
   {
    "duration": 8,
    "start_time": "2024-11-03T20:10:50.131Z"
   },
   {
    "duration": 7,
    "start_time": "2024-11-03T20:10:50.141Z"
   },
   {
    "duration": 13,
    "start_time": "2024-11-03T20:10:50.150Z"
   },
   {
    "duration": 123,
    "start_time": "2024-11-03T20:10:50.164Z"
   },
   {
    "duration": 4,
    "start_time": "2024-11-03T20:10:50.289Z"
   },
   {
    "duration": 9,
    "start_time": "2024-11-03T20:10:50.295Z"
   },
   {
    "duration": 312,
    "start_time": "2024-11-03T20:10:50.312Z"
   },
   {
    "duration": 4,
    "start_time": "2024-11-03T20:10:50.626Z"
   },
   {
    "duration": 206,
    "start_time": "2024-11-03T20:10:50.631Z"
   },
   {
    "duration": 259,
    "start_time": "2024-11-03T20:10:50.838Z"
   },
   {
    "duration": 192,
    "start_time": "2024-11-03T20:10:51.098Z"
   },
   {
    "duration": 192,
    "start_time": "2024-11-03T20:10:51.292Z"
   },
   {
    "duration": 199,
    "start_time": "2024-11-03T20:10:51.485Z"
   },
   {
    "duration": 215,
    "start_time": "2024-11-03T20:10:51.686Z"
   },
   {
    "duration": 198,
    "start_time": "2024-11-03T20:10:51.902Z"
   },
   {
    "duration": 210,
    "start_time": "2024-11-03T20:10:52.101Z"
   },
   {
    "duration": 214,
    "start_time": "2024-11-03T20:10:52.312Z"
   },
   {
    "duration": 161,
    "start_time": "2024-11-03T20:10:52.528Z"
   },
   {
    "duration": 222,
    "start_time": "2024-11-03T20:10:52.690Z"
   },
   {
    "duration": 5,
    "start_time": "2024-11-03T20:10:52.914Z"
   },
   {
    "duration": 6,
    "start_time": "2024-11-03T20:10:52.920Z"
   },
   {
    "duration": 175,
    "start_time": "2024-11-03T20:10:52.928Z"
   },
   {
    "duration": 169,
    "start_time": "2024-11-03T20:10:53.104Z"
   },
   {
    "duration": 172,
    "start_time": "2024-11-03T20:10:53.275Z"
   },
   {
    "duration": 612,
    "start_time": "2024-11-03T20:11:31.001Z"
   },
   {
    "duration": 98,
    "start_time": "2024-11-03T20:11:31.615Z"
   },
   {
    "duration": 23,
    "start_time": "2024-11-03T20:11:31.715Z"
   },
   {
    "duration": 1613,
    "start_time": "2024-11-03T20:11:31.741Z"
   },
   {
    "duration": 9,
    "start_time": "2024-11-03T20:11:33.355Z"
   },
   {
    "duration": 42,
    "start_time": "2024-11-03T20:11:33.365Z"
   },
   {
    "duration": 14,
    "start_time": "2024-11-03T20:11:33.408Z"
   },
   {
    "duration": 119,
    "start_time": "2024-11-03T20:11:33.423Z"
   },
   {
    "duration": 5,
    "start_time": "2024-11-03T20:11:33.543Z"
   },
   {
    "duration": 19,
    "start_time": "2024-11-03T20:11:33.551Z"
   },
   {
    "duration": 336,
    "start_time": "2024-11-03T20:11:33.571Z"
   },
   {
    "duration": 4,
    "start_time": "2024-11-03T20:11:33.909Z"
   },
   {
    "duration": 205,
    "start_time": "2024-11-03T20:11:33.915Z"
   },
   {
    "duration": 266,
    "start_time": "2024-11-03T20:11:34.121Z"
   },
   {
    "duration": 200,
    "start_time": "2024-11-03T20:11:34.389Z"
   },
   {
    "duration": 199,
    "start_time": "2024-11-03T20:11:34.591Z"
   },
   {
    "duration": 220,
    "start_time": "2024-11-03T20:11:34.792Z"
   },
   {
    "duration": 215,
    "start_time": "2024-11-03T20:11:35.013Z"
   },
   {
    "duration": 199,
    "start_time": "2024-11-03T20:11:35.230Z"
   },
   {
    "duration": 214,
    "start_time": "2024-11-03T20:11:35.430Z"
   },
   {
    "duration": 216,
    "start_time": "2024-11-03T20:11:35.645Z"
   },
   {
    "duration": 171,
    "start_time": "2024-11-03T20:11:35.863Z"
   },
   {
    "duration": 227,
    "start_time": "2024-11-03T20:11:36.036Z"
   },
   {
    "duration": 5,
    "start_time": "2024-11-03T20:11:36.264Z"
   },
   {
    "duration": 15,
    "start_time": "2024-11-03T20:11:36.270Z"
   },
   {
    "duration": 182,
    "start_time": "2024-11-03T20:11:36.287Z"
   },
   {
    "duration": 162,
    "start_time": "2024-11-03T20:11:36.470Z"
   },
   {
    "duration": 165,
    "start_time": "2024-11-03T20:11:36.634Z"
   },
   {
    "duration": 351,
    "start_time": "2024-11-03T20:11:36.800Z"
   },
   {
    "duration": 273,
    "start_time": "2024-11-03T20:11:37.152Z"
   },
   {
    "duration": 171,
    "start_time": "2024-11-03T20:11:37.426Z"
   },
   {
    "duration": 162,
    "start_time": "2024-11-03T20:11:37.598Z"
   },
   {
    "duration": 164,
    "start_time": "2024-11-03T20:11:37.761Z"
   },
   {
    "duration": 20,
    "start_time": "2024-11-03T20:11:37.926Z"
   },
   {
    "duration": 146,
    "start_time": "2024-11-03T20:11:37.947Z"
   },
   {
    "duration": 460,
    "start_time": "2024-11-03T20:11:56.081Z"
   },
   {
    "duration": 70,
    "start_time": "2024-11-03T20:15:26.692Z"
   },
   {
    "duration": 171,
    "start_time": "2024-11-03T20:15:55.746Z"
   },
   {
    "duration": 557,
    "start_time": "2024-11-03T20:20:17.931Z"
   },
   {
    "duration": 103,
    "start_time": "2024-11-03T20:20:18.490Z"
   },
   {
    "duration": 25,
    "start_time": "2024-11-03T20:20:18.595Z"
   },
   {
    "duration": 1605,
    "start_time": "2024-11-03T20:20:18.621Z"
   },
   {
    "duration": 8,
    "start_time": "2024-11-03T20:20:20.227Z"
   },
   {
    "duration": 12,
    "start_time": "2024-11-03T20:20:20.236Z"
   },
   {
    "duration": 18,
    "start_time": "2024-11-03T20:20:20.249Z"
   },
   {
    "duration": 110,
    "start_time": "2024-11-03T20:20:20.269Z"
   },
   {
    "duration": 4,
    "start_time": "2024-11-03T20:20:20.380Z"
   },
   {
    "duration": 8,
    "start_time": "2024-11-03T20:20:20.386Z"
   },
   {
    "duration": 309,
    "start_time": "2024-11-03T20:20:20.395Z"
   },
   {
    "duration": 5,
    "start_time": "2024-11-03T20:20:20.706Z"
   },
   {
    "duration": 192,
    "start_time": "2024-11-03T20:20:20.713Z"
   },
   {
    "duration": 260,
    "start_time": "2024-11-03T20:20:20.906Z"
   },
   {
    "duration": 211,
    "start_time": "2024-11-03T20:20:21.168Z"
   },
   {
    "duration": 190,
    "start_time": "2024-11-03T20:20:21.380Z"
   },
   {
    "duration": 198,
    "start_time": "2024-11-03T20:20:21.571Z"
   },
   {
    "duration": 208,
    "start_time": "2024-11-03T20:20:21.770Z"
   },
   {
    "duration": 188,
    "start_time": "2024-11-03T20:20:21.979Z"
   },
   {
    "duration": 208,
    "start_time": "2024-11-03T20:20:22.169Z"
   },
   {
    "duration": 201,
    "start_time": "2024-11-03T20:20:22.378Z"
   },
   {
    "duration": 182,
    "start_time": "2024-11-03T20:20:22.580Z"
   },
   {
    "duration": 219,
    "start_time": "2024-11-03T20:20:22.764Z"
   },
   {
    "duration": 6,
    "start_time": "2024-11-03T20:20:22.984Z"
   },
   {
    "duration": 21,
    "start_time": "2024-11-03T20:20:22.991Z"
   },
   {
    "duration": 170,
    "start_time": "2024-11-03T20:20:23.014Z"
   },
   {
    "duration": 165,
    "start_time": "2024-11-03T20:20:23.186Z"
   },
   {
    "duration": 163,
    "start_time": "2024-11-03T20:20:23.355Z"
   },
   {
    "duration": 161,
    "start_time": "2024-11-03T20:20:23.520Z"
   },
   {
    "duration": 202,
    "start_time": "2024-11-03T20:20:23.682Z"
   },
   {
    "duration": 480,
    "start_time": "2024-11-03T20:20:23.886Z"
   },
   {
    "duration": 164,
    "start_time": "2024-11-03T20:20:24.368Z"
   },
   {
    "duration": 150,
    "start_time": "2024-11-03T20:20:24.534Z"
   },
   {
    "duration": 28,
    "start_time": "2024-11-03T20:20:24.685Z"
   },
   {
    "duration": 147,
    "start_time": "2024-11-03T20:20:24.714Z"
   },
   {
    "duration": 159,
    "start_time": "2024-11-03T20:20:41.047Z"
   },
   {
    "duration": 318,
    "start_time": "2024-11-03T20:20:53.427Z"
   },
   {
    "duration": 331,
    "start_time": "2024-11-03T20:21:51.801Z"
   },
   {
    "duration": 577,
    "start_time": "2024-11-03T20:22:18.928Z"
   },
   {
    "duration": 98,
    "start_time": "2024-11-03T20:22:19.506Z"
   },
   {
    "duration": 24,
    "start_time": "2024-11-03T20:22:19.605Z"
   },
   {
    "duration": 1587,
    "start_time": "2024-11-03T20:22:19.631Z"
   },
   {
    "duration": 8,
    "start_time": "2024-11-03T20:22:21.219Z"
   },
   {
    "duration": 19,
    "start_time": "2024-11-03T20:22:21.228Z"
   },
   {
    "duration": 13,
    "start_time": "2024-11-03T20:22:21.248Z"
   },
   {
    "duration": 114,
    "start_time": "2024-11-03T20:22:21.263Z"
   },
   {
    "duration": 4,
    "start_time": "2024-11-03T20:22:21.378Z"
   },
   {
    "duration": 27,
    "start_time": "2024-11-03T20:22:21.385Z"
   },
   {
    "duration": 301,
    "start_time": "2024-11-03T20:22:21.413Z"
   },
   {
    "duration": 4,
    "start_time": "2024-11-03T20:22:21.715Z"
   },
   {
    "duration": 206,
    "start_time": "2024-11-03T20:22:21.720Z"
   },
   {
    "duration": 274,
    "start_time": "2024-11-03T20:22:21.928Z"
   },
   {
    "duration": 200,
    "start_time": "2024-11-03T20:22:22.204Z"
   },
   {
    "duration": 193,
    "start_time": "2024-11-03T20:22:22.405Z"
   },
   {
    "duration": 199,
    "start_time": "2024-11-03T20:22:22.599Z"
   },
   {
    "duration": 210,
    "start_time": "2024-11-03T20:22:22.799Z"
   },
   {
    "duration": 198,
    "start_time": "2024-11-03T20:22:23.011Z"
   },
   {
    "duration": 208,
    "start_time": "2024-11-03T20:22:23.212Z"
   },
   {
    "duration": 225,
    "start_time": "2024-11-03T20:22:23.422Z"
   },
   {
    "duration": 172,
    "start_time": "2024-11-03T20:22:23.648Z"
   },
   {
    "duration": 218,
    "start_time": "2024-11-03T20:22:23.821Z"
   },
   {
    "duration": 5,
    "start_time": "2024-11-03T20:22:24.040Z"
   },
   {
    "duration": 5,
    "start_time": "2024-11-03T20:22:24.047Z"
   },
   {
    "duration": 176,
    "start_time": "2024-11-03T20:22:24.053Z"
   },
   {
    "duration": 161,
    "start_time": "2024-11-03T20:22:24.231Z"
   },
   {
    "duration": 162,
    "start_time": "2024-11-03T20:22:24.395Z"
   },
   {
    "duration": 168,
    "start_time": "2024-11-03T20:22:24.559Z"
   },
   {
    "duration": 201,
    "start_time": "2024-11-03T20:22:24.729Z"
   },
   {
    "duration": 471,
    "start_time": "2024-11-03T20:22:24.932Z"
   },
   {
    "duration": 162,
    "start_time": "2024-11-03T20:22:25.405Z"
   },
   {
    "duration": 156,
    "start_time": "2024-11-03T20:22:25.569Z"
   },
   {
    "duration": 21,
    "start_time": "2024-11-03T20:22:25.726Z"
   },
   {
    "duration": 161,
    "start_time": "2024-11-03T20:22:25.749Z"
   },
   {
    "duration": 558,
    "start_time": "2024-11-03T20:24:52.016Z"
   },
   {
    "duration": 95,
    "start_time": "2024-11-03T20:24:52.575Z"
   },
   {
    "duration": 21,
    "start_time": "2024-11-03T20:24:52.671Z"
   },
   {
    "duration": 1664,
    "start_time": "2024-11-03T20:24:52.694Z"
   },
   {
    "duration": 8,
    "start_time": "2024-11-03T20:24:54.359Z"
   },
   {
    "duration": 13,
    "start_time": "2024-11-03T20:24:54.368Z"
   },
   {
    "duration": 13,
    "start_time": "2024-11-03T20:24:54.382Z"
   },
   {
    "duration": 111,
    "start_time": "2024-11-03T20:24:54.397Z"
   },
   {
    "duration": 5,
    "start_time": "2024-11-03T20:24:54.509Z"
   },
   {
    "duration": 11,
    "start_time": "2024-11-03T20:24:54.517Z"
   },
   {
    "duration": 317,
    "start_time": "2024-11-03T20:24:54.529Z"
   },
   {
    "duration": 3,
    "start_time": "2024-11-03T20:24:54.848Z"
   },
   {
    "duration": 188,
    "start_time": "2024-11-03T20:24:54.853Z"
   },
   {
    "duration": 249,
    "start_time": "2024-11-03T20:24:55.042Z"
   },
   {
    "duration": 190,
    "start_time": "2024-11-03T20:24:55.292Z"
   },
   {
    "duration": 185,
    "start_time": "2024-11-03T20:24:55.483Z"
   },
   {
    "duration": 224,
    "start_time": "2024-11-03T20:24:55.669Z"
   },
   {
    "duration": 233,
    "start_time": "2024-11-03T20:24:55.895Z"
   },
   {
    "duration": 197,
    "start_time": "2024-11-03T20:24:56.130Z"
   },
   {
    "duration": 202,
    "start_time": "2024-11-03T20:24:56.328Z"
   },
   {
    "duration": 196,
    "start_time": "2024-11-03T20:24:56.531Z"
   },
   {
    "duration": 169,
    "start_time": "2024-11-03T20:24:56.728Z"
   },
   {
    "duration": 243,
    "start_time": "2024-11-03T20:24:56.898Z"
   },
   {
    "duration": 6,
    "start_time": "2024-11-03T20:24:57.143Z"
   },
   {
    "duration": 6,
    "start_time": "2024-11-03T20:24:57.150Z"
   },
   {
    "duration": 195,
    "start_time": "2024-11-03T20:24:57.158Z"
   },
   {
    "duration": 159,
    "start_time": "2024-11-03T20:24:57.355Z"
   },
   {
    "duration": 157,
    "start_time": "2024-11-03T20:24:57.518Z"
   },
   {
    "duration": 333,
    "start_time": "2024-11-03T20:24:57.676Z"
   },
   {
    "duration": 186,
    "start_time": "2024-11-03T20:24:58.012Z"
   },
   {
    "duration": 466,
    "start_time": "2024-11-03T20:24:58.200Z"
   },
   {
    "duration": 163,
    "start_time": "2024-11-03T20:24:58.667Z"
   },
   {
    "duration": 155,
    "start_time": "2024-11-03T20:24:58.831Z"
   },
   {
    "duration": 25,
    "start_time": "2024-11-03T20:24:58.987Z"
   },
   {
    "duration": 150,
    "start_time": "2024-11-03T20:24:59.013Z"
   },
   {
    "duration": 580,
    "start_time": "2024-11-03T20:26:10.312Z"
   },
   {
    "duration": 99,
    "start_time": "2024-11-03T20:26:10.893Z"
   },
   {
    "duration": 23,
    "start_time": "2024-11-03T20:26:10.993Z"
   },
   {
    "duration": 1628,
    "start_time": "2024-11-03T20:26:11.018Z"
   },
   {
    "duration": 7,
    "start_time": "2024-11-03T20:26:12.647Z"
   },
   {
    "duration": 9,
    "start_time": "2024-11-03T20:26:12.655Z"
   },
   {
    "duration": 12,
    "start_time": "2024-11-03T20:26:12.666Z"
   },
   {
    "duration": 111,
    "start_time": "2024-11-03T20:26:12.679Z"
   },
   {
    "duration": 4,
    "start_time": "2024-11-03T20:26:12.791Z"
   },
   {
    "duration": 8,
    "start_time": "2024-11-03T20:26:12.797Z"
   },
   {
    "duration": 325,
    "start_time": "2024-11-03T20:26:12.806Z"
   },
   {
    "duration": 4,
    "start_time": "2024-11-03T20:26:13.132Z"
   },
   {
    "duration": 209,
    "start_time": "2024-11-03T20:26:13.137Z"
   },
   {
    "duration": 264,
    "start_time": "2024-11-03T20:26:13.348Z"
   },
   {
    "duration": 194,
    "start_time": "2024-11-03T20:26:13.613Z"
   },
   {
    "duration": 194,
    "start_time": "2024-11-03T20:26:13.808Z"
   },
   {
    "duration": 209,
    "start_time": "2024-11-03T20:26:14.003Z"
   },
   {
    "duration": 213,
    "start_time": "2024-11-03T20:26:14.213Z"
   },
   {
    "duration": 211,
    "start_time": "2024-11-03T20:26:14.428Z"
   },
   {
    "duration": 211,
    "start_time": "2024-11-03T20:26:14.641Z"
   },
   {
    "duration": 206,
    "start_time": "2024-11-03T20:26:14.853Z"
   },
   {
    "duration": 180,
    "start_time": "2024-11-03T20:26:15.060Z"
   },
   {
    "duration": 223,
    "start_time": "2024-11-03T20:26:15.241Z"
   },
   {
    "duration": 5,
    "start_time": "2024-11-03T20:26:15.465Z"
   },
   {
    "duration": 23,
    "start_time": "2024-11-03T20:26:15.472Z"
   },
   {
    "duration": 159,
    "start_time": "2024-11-03T20:26:15.496Z"
   },
   {
    "duration": 175,
    "start_time": "2024-11-03T20:26:15.657Z"
   },
   {
    "duration": 164,
    "start_time": "2024-11-03T20:26:15.835Z"
   },
   {
    "duration": 335,
    "start_time": "2024-11-03T20:26:16.001Z"
   },
   {
    "duration": 206,
    "start_time": "2024-11-03T20:26:16.338Z"
   },
   {
    "duration": 478,
    "start_time": "2024-11-03T20:26:16.545Z"
   },
   {
    "duration": 180,
    "start_time": "2024-11-03T20:26:17.024Z"
   },
   {
    "duration": 172,
    "start_time": "2024-11-03T20:26:17.205Z"
   },
   {
    "duration": 21,
    "start_time": "2024-11-03T20:26:17.378Z"
   },
   {
    "duration": 161,
    "start_time": "2024-11-03T20:26:17.400Z"
   },
   {
    "duration": 114,
    "start_time": "2024-11-03T20:26:59.212Z"
   },
   {
    "duration": 175,
    "start_time": "2024-11-03T20:27:27.620Z"
   },
   {
    "duration": 101,
    "start_time": "2024-11-03T20:28:10.020Z"
   },
   {
    "duration": 100,
    "start_time": "2024-11-03T20:28:44.344Z"
   },
   {
    "duration": 105,
    "start_time": "2024-11-03T20:32:02.820Z"
   },
   {
    "duration": 134,
    "start_time": "2024-11-03T20:32:26.962Z"
   },
   {
    "duration": 108,
    "start_time": "2024-11-03T20:32:31.440Z"
   },
   {
    "duration": 108,
    "start_time": "2024-11-03T20:32:39.372Z"
   },
   {
    "duration": 486,
    "start_time": "2024-11-03T20:34:27.800Z"
   },
   {
    "duration": 374,
    "start_time": "2024-11-03T20:34:34.100Z"
   },
   {
    "duration": 19,
    "start_time": "2024-11-03T20:35:52.898Z"
   },
   {
    "duration": 19,
    "start_time": "2024-11-03T20:36:01.222Z"
   },
   {
    "duration": 20,
    "start_time": "2024-11-03T20:37:12.828Z"
   },
   {
    "duration": 633,
    "start_time": "2024-11-03T20:39:53.386Z"
   },
   {
    "duration": 97,
    "start_time": "2024-11-03T20:39:54.021Z"
   },
   {
    "duration": 23,
    "start_time": "2024-11-03T20:39:54.119Z"
   },
   {
    "duration": 1646,
    "start_time": "2024-11-03T20:39:54.144Z"
   },
   {
    "duration": 7,
    "start_time": "2024-11-03T20:39:55.791Z"
   },
   {
    "duration": 8,
    "start_time": "2024-11-03T20:39:55.800Z"
   },
   {
    "duration": 13,
    "start_time": "2024-11-03T20:39:55.809Z"
   },
   {
    "duration": 117,
    "start_time": "2024-11-03T20:39:55.824Z"
   },
   {
    "duration": 4,
    "start_time": "2024-11-03T20:39:55.943Z"
   },
   {
    "duration": 10,
    "start_time": "2024-11-03T20:39:55.949Z"
   },
   {
    "duration": 327,
    "start_time": "2024-11-03T20:39:55.961Z"
   },
   {
    "duration": 4,
    "start_time": "2024-11-03T20:39:56.290Z"
   },
   {
    "duration": 216,
    "start_time": "2024-11-03T20:39:56.296Z"
   },
   {
    "duration": 266,
    "start_time": "2024-11-03T20:39:56.513Z"
   },
   {
    "duration": 201,
    "start_time": "2024-11-03T20:39:56.781Z"
   },
   {
    "duration": 213,
    "start_time": "2024-11-03T20:39:56.983Z"
   },
   {
    "duration": 205,
    "start_time": "2024-11-03T20:39:57.198Z"
   },
   {
    "duration": 211,
    "start_time": "2024-11-03T20:39:57.405Z"
   },
   {
    "duration": 196,
    "start_time": "2024-11-03T20:39:57.617Z"
   },
   {
    "duration": 207,
    "start_time": "2024-11-03T20:39:57.815Z"
   },
   {
    "duration": 196,
    "start_time": "2024-11-03T20:39:58.023Z"
   },
   {
    "duration": 163,
    "start_time": "2024-11-03T20:39:58.220Z"
   },
   {
    "duration": 223,
    "start_time": "2024-11-03T20:39:58.384Z"
   },
   {
    "duration": 5,
    "start_time": "2024-11-03T20:39:58.611Z"
   },
   {
    "duration": 13,
    "start_time": "2024-11-03T20:39:58.617Z"
   },
   {
    "duration": 171,
    "start_time": "2024-11-03T20:39:58.631Z"
   },
   {
    "duration": 171,
    "start_time": "2024-11-03T20:39:58.803Z"
   },
   {
    "duration": 179,
    "start_time": "2024-11-03T20:39:58.977Z"
   },
   {
    "duration": 334,
    "start_time": "2024-11-03T20:39:59.158Z"
   },
   {
    "duration": 194,
    "start_time": "2024-11-03T20:39:59.493Z"
   },
   {
    "duration": 47,
    "start_time": "2024-11-03T22:51:42.159Z"
   },
   {
    "duration": 646,
    "start_time": "2024-11-03T22:51:46.460Z"
   },
   {
    "duration": 339,
    "start_time": "2024-11-03T22:51:47.107Z"
   },
   {
    "duration": 26,
    "start_time": "2024-11-03T22:51:47.448Z"
   },
   {
    "duration": 1810,
    "start_time": "2024-11-03T22:51:47.476Z"
   },
   {
    "duration": 10,
    "start_time": "2024-11-03T22:51:49.288Z"
   },
   {
    "duration": 9,
    "start_time": "2024-11-03T22:51:49.299Z"
   },
   {
    "duration": 27,
    "start_time": "2024-11-03T22:51:49.310Z"
   },
   {
    "duration": 128,
    "start_time": "2024-11-03T22:51:49.338Z"
   },
   {
    "duration": 10,
    "start_time": "2024-11-03T22:51:49.468Z"
   },
   {
    "duration": 13,
    "start_time": "2024-11-03T22:51:49.480Z"
   },
   {
    "duration": 335,
    "start_time": "2024-11-03T22:51:49.494Z"
   },
   {
    "duration": 4,
    "start_time": "2024-11-03T22:51:49.831Z"
   },
   {
    "duration": 229,
    "start_time": "2024-11-03T22:51:49.836Z"
   },
   {
    "duration": 324,
    "start_time": "2024-11-03T22:51:50.068Z"
   },
   {
    "duration": 244,
    "start_time": "2024-11-03T22:51:50.394Z"
   },
   {
    "duration": 223,
    "start_time": "2024-11-03T22:51:50.641Z"
   },
   {
    "duration": 239,
    "start_time": "2024-11-03T22:51:50.865Z"
   },
   {
    "duration": 248,
    "start_time": "2024-11-03T22:51:51.106Z"
   },
   {
    "duration": 223,
    "start_time": "2024-11-03T22:51:51.356Z"
   },
   {
    "duration": 253,
    "start_time": "2024-11-03T22:51:51.580Z"
   },
   {
    "duration": 242,
    "start_time": "2024-11-03T22:51:51.834Z"
   },
   {
    "duration": 192,
    "start_time": "2024-11-03T22:51:52.077Z"
   },
   {
    "duration": 256,
    "start_time": "2024-11-03T22:51:52.270Z"
   },
   {
    "duration": 6,
    "start_time": "2024-11-03T22:51:52.527Z"
   },
   {
    "duration": 12,
    "start_time": "2024-11-03T22:51:52.534Z"
   },
   {
    "duration": 184,
    "start_time": "2024-11-03T22:51:52.547Z"
   },
   {
    "duration": 185,
    "start_time": "2024-11-03T22:51:52.732Z"
   },
   {
    "duration": 185,
    "start_time": "2024-11-03T22:51:52.919Z"
   },
   {
    "duration": 346,
    "start_time": "2024-11-03T22:51:53.106Z"
   },
   {
    "duration": 247,
    "start_time": "2024-11-03T22:51:53.453Z"
   },
   {
    "duration": 488,
    "start_time": "2024-11-03T22:51:53.701Z"
   },
   {
    "duration": 525,
    "start_time": "2024-11-03T22:51:54.190Z"
   },
   {
    "duration": 389,
    "start_time": "2024-11-03T22:51:54.716Z"
   },
   {
    "duration": 22,
    "start_time": "2024-11-03T22:51:55.107Z"
   },
   {
    "duration": 174,
    "start_time": "2024-11-03T22:51:55.130Z"
   },
   {
    "duration": 148,
    "start_time": "2024-11-03T22:54:04.818Z"
   },
   {
    "duration": 113,
    "start_time": "2024-11-03T22:54:27.039Z"
   },
   {
    "duration": 504,
    "start_time": "2024-11-03T22:54:32.028Z"
   },
   {
    "duration": 46,
    "start_time": "2024-11-04T08:52:44.819Z"
   },
   {
    "duration": 799,
    "start_time": "2024-11-04T08:52:50.339Z"
   },
   {
    "duration": 197,
    "start_time": "2024-11-04T08:52:51.140Z"
   },
   {
    "duration": 37,
    "start_time": "2024-11-04T08:52:51.339Z"
   },
   {
    "duration": 1696,
    "start_time": "2024-11-04T08:52:51.378Z"
   },
   {
    "duration": 8,
    "start_time": "2024-11-04T08:52:53.075Z"
   },
   {
    "duration": 8,
    "start_time": "2024-11-04T08:52:53.084Z"
   },
   {
    "duration": 20,
    "start_time": "2024-11-04T08:52:53.093Z"
   },
   {
    "duration": 127,
    "start_time": "2024-11-04T08:52:53.115Z"
   },
   {
    "duration": 4,
    "start_time": "2024-11-04T08:52:53.244Z"
   },
   {
    "duration": 12,
    "start_time": "2024-11-04T08:52:53.251Z"
   },
   {
    "duration": 340,
    "start_time": "2024-11-04T08:52:53.264Z"
   },
   {
    "duration": 7,
    "start_time": "2024-11-04T08:52:53.605Z"
   },
   {
    "duration": 210,
    "start_time": "2024-11-04T08:52:53.614Z"
   },
   {
    "duration": 278,
    "start_time": "2024-11-04T08:52:53.825Z"
   },
   {
    "duration": 230,
    "start_time": "2024-11-04T08:52:54.104Z"
   },
   {
    "duration": 217,
    "start_time": "2024-11-04T08:52:54.335Z"
   },
   {
    "duration": 217,
    "start_time": "2024-11-04T08:52:54.554Z"
   },
   {
    "duration": 234,
    "start_time": "2024-11-04T08:52:54.772Z"
   },
   {
    "duration": 218,
    "start_time": "2024-11-04T08:52:55.007Z"
   },
   {
    "duration": 231,
    "start_time": "2024-11-04T08:52:55.226Z"
   },
   {
    "duration": 217,
    "start_time": "2024-11-04T08:52:55.458Z"
   },
   {
    "duration": 269,
    "start_time": "2024-11-04T08:52:55.677Z"
   },
   {
    "duration": 233,
    "start_time": "2024-11-04T08:52:55.947Z"
   },
   {
    "duration": 5,
    "start_time": "2024-11-04T08:52:56.182Z"
   },
   {
    "duration": 7,
    "start_time": "2024-11-04T08:52:56.188Z"
   },
   {
    "duration": 169,
    "start_time": "2024-11-04T08:52:56.212Z"
   },
   {
    "duration": 173,
    "start_time": "2024-11-04T08:52:56.383Z"
   },
   {
    "duration": 172,
    "start_time": "2024-11-04T08:52:56.559Z"
   },
   {
    "duration": 142,
    "start_time": "2024-11-04T08:52:56.732Z"
   },
   {
    "duration": 248,
    "start_time": "2024-11-04T08:52:56.876Z"
   },
   {
    "duration": 501,
    "start_time": "2024-11-04T08:52:57.126Z"
   },
   {
    "duration": 508,
    "start_time": "2024-11-04T08:52:57.629Z"
   },
   {
    "duration": 379,
    "start_time": "2024-11-04T08:52:58.139Z"
   },
   {
    "duration": 25,
    "start_time": "2024-11-04T08:52:58.520Z"
   },
   {
    "duration": 163,
    "start_time": "2024-11-04T08:52:58.547Z"
   },
   {
    "duration": 109,
    "start_time": "2024-11-04T08:53:54.057Z"
   },
   {
    "duration": 596,
    "start_time": "2024-11-04T08:55:38.715Z"
   },
   {
    "duration": 98,
    "start_time": "2024-11-04T08:55:39.313Z"
   },
   {
    "duration": 34,
    "start_time": "2024-11-04T08:55:39.415Z"
   },
   {
    "duration": 1723,
    "start_time": "2024-11-04T08:55:39.451Z"
   },
   {
    "duration": 9,
    "start_time": "2024-11-04T08:55:41.175Z"
   },
   {
    "duration": 10,
    "start_time": "2024-11-04T08:55:41.186Z"
   },
   {
    "duration": 20,
    "start_time": "2024-11-04T08:55:41.198Z"
   },
   {
    "duration": 116,
    "start_time": "2024-11-04T08:55:41.219Z"
   },
   {
    "duration": 5,
    "start_time": "2024-11-04T08:55:41.337Z"
   },
   {
    "duration": 11,
    "start_time": "2024-11-04T08:55:41.343Z"
   },
   {
    "duration": 329,
    "start_time": "2024-11-04T08:55:41.355Z"
   },
   {
    "duration": 4,
    "start_time": "2024-11-04T08:55:41.686Z"
   },
   {
    "duration": 201,
    "start_time": "2024-11-04T08:55:41.691Z"
   },
   {
    "duration": 267,
    "start_time": "2024-11-04T08:55:41.894Z"
   },
   {
    "duration": 223,
    "start_time": "2024-11-04T08:55:42.163Z"
   },
   {
    "duration": 214,
    "start_time": "2024-11-04T08:55:42.387Z"
   },
   {
    "duration": 210,
    "start_time": "2024-11-04T08:55:42.602Z"
   },
   {
    "duration": 218,
    "start_time": "2024-11-04T08:55:42.813Z"
   },
   {
    "duration": 218,
    "start_time": "2024-11-04T08:55:43.033Z"
   },
   {
    "duration": 211,
    "start_time": "2024-11-04T08:55:43.252Z"
   },
   {
    "duration": 223,
    "start_time": "2024-11-04T08:55:43.465Z"
   },
   {
    "duration": 227,
    "start_time": "2024-11-04T08:55:43.690Z"
   },
   {
    "duration": 220,
    "start_time": "2024-11-04T08:55:43.919Z"
   },
   {
    "duration": 7,
    "start_time": "2024-11-04T08:55:44.141Z"
   },
   {
    "duration": 7,
    "start_time": "2024-11-04T08:55:44.150Z"
   },
   {
    "duration": 194,
    "start_time": "2024-11-04T08:55:44.159Z"
   },
   {
    "duration": 191,
    "start_time": "2024-11-04T08:55:44.357Z"
   },
   {
    "duration": 173,
    "start_time": "2024-11-04T08:55:44.549Z"
   },
   {
    "duration": 132,
    "start_time": "2024-11-04T08:55:44.723Z"
   },
   {
    "duration": 178,
    "start_time": "2024-11-04T08:55:44.856Z"
   },
   {
    "duration": 219,
    "start_time": "2024-11-04T08:55:45.036Z"
   },
   {
    "duration": 166,
    "start_time": "2024-11-04T08:55:45.257Z"
   },
   {
    "duration": 130,
    "start_time": "2024-11-04T08:55:45.425Z"
   },
   {
    "duration": 20,
    "start_time": "2024-11-04T08:55:45.557Z"
   },
   {
    "duration": 162,
    "start_time": "2024-11-04T08:55:45.579Z"
   },
   {
    "duration": 606,
    "start_time": "2024-11-04T08:56:56.397Z"
   },
   {
    "duration": 115,
    "start_time": "2024-11-04T08:56:57.004Z"
   },
   {
    "duration": 26,
    "start_time": "2024-11-04T08:56:57.123Z"
   },
   {
    "duration": 1716,
    "start_time": "2024-11-04T08:56:57.150Z"
   },
   {
    "duration": 8,
    "start_time": "2024-11-04T08:56:58.867Z"
   },
   {
    "duration": 8,
    "start_time": "2024-11-04T08:56:58.877Z"
   },
   {
    "duration": 14,
    "start_time": "2024-11-04T08:56:58.887Z"
   },
   {
    "duration": 138,
    "start_time": "2024-11-04T08:56:58.903Z"
   },
   {
    "duration": 6,
    "start_time": "2024-11-04T08:56:59.044Z"
   },
   {
    "duration": 11,
    "start_time": "2024-11-04T08:56:59.052Z"
   },
   {
    "duration": 344,
    "start_time": "2024-11-04T08:56:59.065Z"
   },
   {
    "duration": 4,
    "start_time": "2024-11-04T08:56:59.411Z"
   },
   {
    "duration": 205,
    "start_time": "2024-11-04T08:56:59.416Z"
   },
   {
    "duration": 282,
    "start_time": "2024-11-04T08:56:59.622Z"
   },
   {
    "duration": 235,
    "start_time": "2024-11-04T08:56:59.906Z"
   },
   {
    "duration": 220,
    "start_time": "2024-11-04T08:57:00.142Z"
   },
   {
    "duration": 261,
    "start_time": "2024-11-04T08:57:00.363Z"
   },
   {
    "duration": 223,
    "start_time": "2024-11-04T08:57:00.625Z"
   },
   {
    "duration": 206,
    "start_time": "2024-11-04T08:57:00.849Z"
   },
   {
    "duration": 221,
    "start_time": "2024-11-04T08:57:01.056Z"
   },
   {
    "duration": 221,
    "start_time": "2024-11-04T08:57:01.279Z"
   },
   {
    "duration": 189,
    "start_time": "2024-11-04T08:57:01.501Z"
   },
   {
    "duration": 261,
    "start_time": "2024-11-04T08:57:01.691Z"
   },
   {
    "duration": 7,
    "start_time": "2024-11-04T08:57:01.954Z"
   },
   {
    "duration": 18,
    "start_time": "2024-11-04T08:57:01.963Z"
   },
   {
    "duration": 179,
    "start_time": "2024-11-04T08:57:01.983Z"
   },
   {
    "duration": 172,
    "start_time": "2024-11-04T08:57:02.165Z"
   },
   {
    "duration": 178,
    "start_time": "2024-11-04T08:57:02.338Z"
   },
   {
    "duration": 135,
    "start_time": "2024-11-04T08:57:02.518Z"
   },
   {
    "duration": 175,
    "start_time": "2024-11-04T08:57:02.655Z"
   },
   {
    "duration": 144,
    "start_time": "2024-11-04T08:57:02.832Z"
   },
   {
    "duration": 138,
    "start_time": "2024-11-04T08:57:02.978Z"
   },
   {
    "duration": 153,
    "start_time": "2024-11-04T08:57:03.117Z"
   },
   {
    "duration": 23,
    "start_time": "2024-11-04T08:57:03.272Z"
   },
   {
    "duration": 171,
    "start_time": "2024-11-04T08:57:03.297Z"
   },
   {
    "duration": 433,
    "start_time": "2024-11-04T09:13:51.241Z"
   },
   {
    "duration": 651,
    "start_time": "2024-11-04T09:14:06.640Z"
   },
   {
    "duration": 107,
    "start_time": "2024-11-04T09:14:07.293Z"
   },
   {
    "duration": 32,
    "start_time": "2024-11-04T09:14:07.405Z"
   },
   {
    "duration": 1687,
    "start_time": "2024-11-04T09:14:07.439Z"
   },
   {
    "duration": 11,
    "start_time": "2024-11-04T09:14:09.128Z"
   },
   {
    "duration": 832,
    "start_time": "2024-11-04T09:14:09.141Z"
   },
   {
    "duration": 0,
    "start_time": "2024-11-04T09:14:09.976Z"
   },
   {
    "duration": 0,
    "start_time": "2024-11-04T09:14:09.978Z"
   },
   {
    "duration": 0,
    "start_time": "2024-11-04T09:14:09.979Z"
   },
   {
    "duration": 0,
    "start_time": "2024-11-04T09:14:09.981Z"
   },
   {
    "duration": 0,
    "start_time": "2024-11-04T09:14:09.983Z"
   },
   {
    "duration": 0,
    "start_time": "2024-11-04T09:14:09.984Z"
   },
   {
    "duration": 0,
    "start_time": "2024-11-04T09:14:09.985Z"
   },
   {
    "duration": 0,
    "start_time": "2024-11-04T09:14:09.986Z"
   },
   {
    "duration": 0,
    "start_time": "2024-11-04T09:14:09.988Z"
   },
   {
    "duration": 0,
    "start_time": "2024-11-04T09:14:09.989Z"
   },
   {
    "duration": 0,
    "start_time": "2024-11-04T09:14:09.990Z"
   },
   {
    "duration": 0,
    "start_time": "2024-11-04T09:14:09.993Z"
   },
   {
    "duration": 0,
    "start_time": "2024-11-04T09:14:09.995Z"
   },
   {
    "duration": 0,
    "start_time": "2024-11-04T09:14:09.996Z"
   },
   {
    "duration": 0,
    "start_time": "2024-11-04T09:14:09.999Z"
   },
   {
    "duration": 0,
    "start_time": "2024-11-04T09:14:10.001Z"
   },
   {
    "duration": 0,
    "start_time": "2024-11-04T09:14:10.002Z"
   },
   {
    "duration": 0,
    "start_time": "2024-11-04T09:14:10.004Z"
   },
   {
    "duration": 0,
    "start_time": "2024-11-04T09:14:10.005Z"
   },
   {
    "duration": 0,
    "start_time": "2024-11-04T09:14:10.006Z"
   },
   {
    "duration": 0,
    "start_time": "2024-11-04T09:14:10.007Z"
   },
   {
    "duration": 0,
    "start_time": "2024-11-04T09:14:10.007Z"
   },
   {
    "duration": 0,
    "start_time": "2024-11-04T09:14:10.008Z"
   },
   {
    "duration": 0,
    "start_time": "2024-11-04T09:14:10.009Z"
   },
   {
    "duration": 0,
    "start_time": "2024-11-04T09:14:10.010Z"
   },
   {
    "duration": 0,
    "start_time": "2024-11-04T09:14:10.011Z"
   },
   {
    "duration": 0,
    "start_time": "2024-11-04T09:14:10.013Z"
   },
   {
    "duration": 0,
    "start_time": "2024-11-04T09:14:10.013Z"
   },
   {
    "duration": 0,
    "start_time": "2024-11-04T09:14:10.014Z"
   },
   {
    "duration": 605,
    "start_time": "2024-11-04T09:14:37.771Z"
   },
   {
    "duration": 100,
    "start_time": "2024-11-04T09:14:38.378Z"
   },
   {
    "duration": 34,
    "start_time": "2024-11-04T09:14:38.480Z"
   },
   {
    "duration": 1814,
    "start_time": "2024-11-04T09:14:38.516Z"
   },
   {
    "duration": 8,
    "start_time": "2024-11-04T09:14:40.331Z"
   },
   {
    "duration": 765,
    "start_time": "2024-11-04T09:14:40.341Z"
   },
   {
    "duration": 0,
    "start_time": "2024-11-04T09:14:41.109Z"
   },
   {
    "duration": 0,
    "start_time": "2024-11-04T09:14:41.110Z"
   },
   {
    "duration": 0,
    "start_time": "2024-11-04T09:14:41.111Z"
   },
   {
    "duration": 0,
    "start_time": "2024-11-04T09:14:41.113Z"
   },
   {
    "duration": 0,
    "start_time": "2024-11-04T09:14:41.114Z"
   },
   {
    "duration": 0,
    "start_time": "2024-11-04T09:14:41.115Z"
   },
   {
    "duration": 1,
    "start_time": "2024-11-04T09:14:41.116Z"
   },
   {
    "duration": 0,
    "start_time": "2024-11-04T09:14:41.118Z"
   },
   {
    "duration": 0,
    "start_time": "2024-11-04T09:14:41.119Z"
   },
   {
    "duration": 0,
    "start_time": "2024-11-04T09:14:41.120Z"
   },
   {
    "duration": 0,
    "start_time": "2024-11-04T09:14:41.121Z"
   },
   {
    "duration": 0,
    "start_time": "2024-11-04T09:14:41.122Z"
   },
   {
    "duration": 0,
    "start_time": "2024-11-04T09:14:41.124Z"
   },
   {
    "duration": 0,
    "start_time": "2024-11-04T09:14:41.125Z"
   },
   {
    "duration": 0,
    "start_time": "2024-11-04T09:14:41.126Z"
   },
   {
    "duration": 0,
    "start_time": "2024-11-04T09:14:41.128Z"
   },
   {
    "duration": 0,
    "start_time": "2024-11-04T09:14:41.129Z"
   },
   {
    "duration": 0,
    "start_time": "2024-11-04T09:14:41.130Z"
   },
   {
    "duration": 0,
    "start_time": "2024-11-04T09:14:41.130Z"
   },
   {
    "duration": 0,
    "start_time": "2024-11-04T09:14:41.131Z"
   },
   {
    "duration": 0,
    "start_time": "2024-11-04T09:14:41.132Z"
   },
   {
    "duration": 0,
    "start_time": "2024-11-04T09:14:41.133Z"
   },
   {
    "duration": 0,
    "start_time": "2024-11-04T09:14:41.134Z"
   },
   {
    "duration": 0,
    "start_time": "2024-11-04T09:14:41.135Z"
   },
   {
    "duration": 0,
    "start_time": "2024-11-04T09:14:41.136Z"
   },
   {
    "duration": 0,
    "start_time": "2024-11-04T09:14:41.137Z"
   },
   {
    "duration": 0,
    "start_time": "2024-11-04T09:14:41.138Z"
   },
   {
    "duration": 0,
    "start_time": "2024-11-04T09:14:41.139Z"
   },
   {
    "duration": 0,
    "start_time": "2024-11-04T09:14:41.140Z"
   },
   {
    "duration": 10,
    "start_time": "2024-11-04T09:16:21.529Z"
   },
   {
    "duration": 813,
    "start_time": "2024-11-04T09:16:36.839Z"
   },
   {
    "duration": 738,
    "start_time": "2024-11-04T09:17:36.467Z"
   },
   {
    "duration": 620,
    "start_time": "2024-11-04T09:17:46.417Z"
   },
   {
    "duration": 122,
    "start_time": "2024-11-04T09:17:47.039Z"
   },
   {
    "duration": 29,
    "start_time": "2024-11-04T09:17:47.163Z"
   },
   {
    "duration": 1696,
    "start_time": "2024-11-04T09:17:47.194Z"
   },
   {
    "duration": 9,
    "start_time": "2024-11-04T09:17:48.892Z"
   },
   {
    "duration": 652,
    "start_time": "2024-11-04T09:17:48.903Z"
   },
   {
    "duration": 13,
    "start_time": "2024-11-04T09:17:49.557Z"
   },
   {
    "duration": 133,
    "start_time": "2024-11-04T09:17:49.571Z"
   },
   {
    "duration": 17,
    "start_time": "2024-11-04T09:17:49.705Z"
   },
   {
    "duration": 11,
    "start_time": "2024-11-04T09:17:49.724Z"
   },
   {
    "duration": 389,
    "start_time": "2024-11-04T09:17:49.736Z"
   },
   {
    "duration": 6,
    "start_time": "2024-11-04T09:17:50.127Z"
   },
   {
    "duration": 222,
    "start_time": "2024-11-04T09:17:50.135Z"
   },
   {
    "duration": 217,
    "start_time": "2024-11-04T09:17:50.359Z"
   },
   {
    "duration": 212,
    "start_time": "2024-11-04T09:17:50.578Z"
   },
   {
    "duration": 231,
    "start_time": "2024-11-04T09:17:50.792Z"
   },
   {
    "duration": 220,
    "start_time": "2024-11-04T09:17:51.030Z"
   },
   {
    "duration": 269,
    "start_time": "2024-11-04T09:17:51.251Z"
   },
   {
    "duration": 200,
    "start_time": "2024-11-04T09:17:51.527Z"
   },
   {
    "duration": 175,
    "start_time": "2024-11-04T09:17:51.729Z"
   },
   {
    "duration": 229,
    "start_time": "2024-11-04T09:17:51.905Z"
   },
   {
    "duration": 178,
    "start_time": "2024-11-04T09:17:52.135Z"
   },
   {
    "duration": 270,
    "start_time": "2024-11-04T09:17:52.326Z"
   },
   {
    "duration": 19,
    "start_time": "2024-11-04T09:17:52.597Z"
   },
   {
    "duration": 8,
    "start_time": "2024-11-04T09:17:52.625Z"
   },
   {
    "duration": 174,
    "start_time": "2024-11-04T09:17:52.634Z"
   },
   {
    "duration": 164,
    "start_time": "2024-11-04T09:17:52.817Z"
   },
   {
    "duration": 181,
    "start_time": "2024-11-04T09:17:52.983Z"
   },
   {
    "duration": 135,
    "start_time": "2024-11-04T09:17:53.166Z"
   },
   {
    "duration": 133,
    "start_time": "2024-11-04T09:17:53.302Z"
   },
   {
    "duration": 142,
    "start_time": "2024-11-04T09:17:53.437Z"
   },
   {
    "duration": 146,
    "start_time": "2024-11-04T09:17:53.581Z"
   },
   {
    "duration": 126,
    "start_time": "2024-11-04T09:17:53.730Z"
   },
   {
    "duration": 20,
    "start_time": "2024-11-04T09:17:53.858Z"
   },
   {
    "duration": 158,
    "start_time": "2024-11-04T09:17:53.879Z"
   },
   {
    "duration": 91,
    "start_time": "2024-11-04T09:18:42.105Z"
   },
   {
    "duration": 512,
    "start_time": "2024-11-04T09:18:50.207Z"
   },
   {
    "duration": 617,
    "start_time": "2024-11-04T09:19:09.691Z"
   },
   {
    "duration": 100,
    "start_time": "2024-11-04T09:19:10.310Z"
   },
   {
    "duration": 38,
    "start_time": "2024-11-04T09:19:10.411Z"
   },
   {
    "duration": 1679,
    "start_time": "2024-11-04T09:19:10.451Z"
   },
   {
    "duration": 9,
    "start_time": "2024-11-04T09:19:12.131Z"
   },
   {
    "duration": 740,
    "start_time": "2024-11-04T09:19:12.141Z"
   },
   {
    "duration": 0,
    "start_time": "2024-11-04T09:19:12.883Z"
   },
   {
    "duration": 0,
    "start_time": "2024-11-04T09:19:12.884Z"
   },
   {
    "duration": 0,
    "start_time": "2024-11-04T09:19:12.885Z"
   },
   {
    "duration": 0,
    "start_time": "2024-11-04T09:19:12.886Z"
   },
   {
    "duration": 0,
    "start_time": "2024-11-04T09:19:12.886Z"
   },
   {
    "duration": 0,
    "start_time": "2024-11-04T09:19:12.887Z"
   },
   {
    "duration": 0,
    "start_time": "2024-11-04T09:19:12.888Z"
   },
   {
    "duration": 0,
    "start_time": "2024-11-04T09:19:12.889Z"
   },
   {
    "duration": 0,
    "start_time": "2024-11-04T09:19:12.890Z"
   },
   {
    "duration": 0,
    "start_time": "2024-11-04T09:19:12.891Z"
   },
   {
    "duration": 0,
    "start_time": "2024-11-04T09:19:12.892Z"
   },
   {
    "duration": 0,
    "start_time": "2024-11-04T09:19:12.892Z"
   },
   {
    "duration": 0,
    "start_time": "2024-11-04T09:19:12.893Z"
   },
   {
    "duration": 0,
    "start_time": "2024-11-04T09:19:12.894Z"
   },
   {
    "duration": 0,
    "start_time": "2024-11-04T09:19:12.895Z"
   },
   {
    "duration": 0,
    "start_time": "2024-11-04T09:19:12.896Z"
   },
   {
    "duration": 0,
    "start_time": "2024-11-04T09:19:12.897Z"
   },
   {
    "duration": 0,
    "start_time": "2024-11-04T09:19:12.898Z"
   },
   {
    "duration": 1,
    "start_time": "2024-11-04T09:19:12.898Z"
   },
   {
    "duration": 0,
    "start_time": "2024-11-04T09:19:12.899Z"
   },
   {
    "duration": 0,
    "start_time": "2024-11-04T09:19:12.900Z"
   },
   {
    "duration": 0,
    "start_time": "2024-11-04T09:19:12.901Z"
   },
   {
    "duration": 0,
    "start_time": "2024-11-04T09:19:12.902Z"
   },
   {
    "duration": 0,
    "start_time": "2024-11-04T09:19:12.903Z"
   },
   {
    "duration": 0,
    "start_time": "2024-11-04T09:19:12.904Z"
   },
   {
    "duration": 0,
    "start_time": "2024-11-04T09:19:12.904Z"
   },
   {
    "duration": 0,
    "start_time": "2024-11-04T09:19:12.905Z"
   },
   {
    "duration": 0,
    "start_time": "2024-11-04T09:19:12.906Z"
   },
   {
    "duration": 0,
    "start_time": "2024-11-04T09:19:12.907Z"
   },
   {
    "duration": 9,
    "start_time": "2024-11-04T09:21:18.588Z"
   },
   {
    "duration": 710,
    "start_time": "2024-11-04T09:21:40.321Z"
   },
   {
    "duration": 135,
    "start_time": "2024-11-04T11:07:50.557Z"
   },
   {
    "duration": 133,
    "start_time": "2024-11-04T11:07:57.585Z"
   },
   {
    "duration": 597,
    "start_time": "2024-11-04T11:13:41.113Z"
   },
   {
    "duration": 107,
    "start_time": "2024-11-04T11:13:41.712Z"
   },
   {
    "duration": 22,
    "start_time": "2024-11-04T11:13:41.821Z"
   },
   {
    "duration": 1638,
    "start_time": "2024-11-04T11:13:41.844Z"
   },
   {
    "duration": 8,
    "start_time": "2024-11-04T11:13:43.484Z"
   },
   {
    "duration": 8,
    "start_time": "2024-11-04T11:13:43.493Z"
   },
   {
    "duration": 13,
    "start_time": "2024-11-04T11:13:43.502Z"
   },
   {
    "duration": 130,
    "start_time": "2024-11-04T11:13:43.516Z"
   },
   {
    "duration": 4,
    "start_time": "2024-11-04T11:13:43.648Z"
   },
   {
    "duration": 8,
    "start_time": "2024-11-04T11:13:43.653Z"
   },
   {
    "duration": 324,
    "start_time": "2024-11-04T11:13:43.662Z"
   },
   {
    "duration": 4,
    "start_time": "2024-11-04T11:13:43.987Z"
   },
   {
    "duration": 210,
    "start_time": "2024-11-04T11:13:43.993Z"
   },
   {
    "duration": 286,
    "start_time": "2024-11-04T11:13:44.205Z"
   },
   {
    "duration": 258,
    "start_time": "2024-11-04T11:13:44.493Z"
   },
   {
    "duration": 193,
    "start_time": "2024-11-04T11:13:44.752Z"
   },
   {
    "duration": 218,
    "start_time": "2024-11-04T11:13:44.947Z"
   },
   {
    "duration": 219,
    "start_time": "2024-11-04T11:13:45.166Z"
   },
   {
    "duration": 196,
    "start_time": "2024-11-04T11:13:45.387Z"
   },
   {
    "duration": 221,
    "start_time": "2024-11-04T11:13:45.585Z"
   },
   {
    "duration": 208,
    "start_time": "2024-11-04T11:13:45.807Z"
   },
   {
    "duration": 167,
    "start_time": "2024-11-04T11:13:46.017Z"
   },
   {
    "duration": 226,
    "start_time": "2024-11-04T11:13:46.186Z"
   },
   {
    "duration": 6,
    "start_time": "2024-11-04T11:13:46.413Z"
   },
   {
    "duration": 6,
    "start_time": "2024-11-04T11:13:46.420Z"
   },
   {
    "duration": 172,
    "start_time": "2024-11-04T11:13:46.428Z"
   },
   {
    "duration": 169,
    "start_time": "2024-11-04T11:13:46.601Z"
   },
   {
    "duration": 169,
    "start_time": "2024-11-04T11:13:46.772Z"
   },
   {
    "duration": 158,
    "start_time": "2024-11-04T11:13:46.942Z"
   },
   {
    "duration": 178,
    "start_time": "2024-11-04T11:13:47.102Z"
   },
   {
    "duration": 134,
    "start_time": "2024-11-04T11:13:47.282Z"
   },
   {
    "duration": 126,
    "start_time": "2024-11-04T11:13:47.418Z"
   },
   {
    "duration": 122,
    "start_time": "2024-11-04T11:13:47.546Z"
   },
   {
    "duration": 19,
    "start_time": "2024-11-04T11:13:47.669Z"
   },
   {
    "duration": 152,
    "start_time": "2024-11-04T11:13:47.690Z"
   },
   {
    "duration": 575,
    "start_time": "2024-11-04T11:19:42.928Z"
   },
   {
    "duration": 97,
    "start_time": "2024-11-04T11:19:43.505Z"
   },
   {
    "duration": 23,
    "start_time": "2024-11-04T11:19:43.604Z"
   },
   {
    "duration": 1706,
    "start_time": "2024-11-04T11:19:43.628Z"
   },
   {
    "duration": 8,
    "start_time": "2024-11-04T11:19:45.336Z"
   },
   {
    "duration": 17,
    "start_time": "2024-11-04T11:19:45.345Z"
   },
   {
    "duration": 25,
    "start_time": "2024-11-04T11:19:45.363Z"
   },
   {
    "duration": 130,
    "start_time": "2024-11-04T11:19:45.389Z"
   },
   {
    "duration": 5,
    "start_time": "2024-11-04T11:19:45.520Z"
   },
   {
    "duration": 16,
    "start_time": "2024-11-04T11:19:45.527Z"
   },
   {
    "duration": 309,
    "start_time": "2024-11-04T11:19:45.544Z"
   },
   {
    "duration": 3,
    "start_time": "2024-11-04T11:19:45.855Z"
   },
   {
    "duration": 205,
    "start_time": "2024-11-04T11:19:45.860Z"
   },
   {
    "duration": 263,
    "start_time": "2024-11-04T11:19:46.066Z"
   },
   {
    "duration": 194,
    "start_time": "2024-11-04T11:19:46.331Z"
   },
   {
    "duration": 209,
    "start_time": "2024-11-04T11:19:46.527Z"
   },
   {
    "duration": 226,
    "start_time": "2024-11-04T11:19:46.737Z"
   },
   {
    "duration": 237,
    "start_time": "2024-11-04T11:19:46.964Z"
   },
   {
    "duration": 199,
    "start_time": "2024-11-04T11:19:47.203Z"
   },
   {
    "duration": 219,
    "start_time": "2024-11-04T11:19:47.404Z"
   },
   {
    "duration": 213,
    "start_time": "2024-11-04T11:19:47.624Z"
   },
   {
    "duration": 174,
    "start_time": "2024-11-04T11:19:47.839Z"
   },
   {
    "duration": 218,
    "start_time": "2024-11-04T11:19:48.014Z"
   },
   {
    "duration": 5,
    "start_time": "2024-11-04T11:19:48.233Z"
   },
   {
    "duration": 8,
    "start_time": "2024-11-04T11:19:48.239Z"
   },
   {
    "duration": 184,
    "start_time": "2024-11-04T11:19:48.248Z"
   },
   {
    "duration": 0,
    "start_time": "2024-11-04T11:19:48.433Z"
   },
   {
    "duration": 0,
    "start_time": "2024-11-04T11:19:48.434Z"
   },
   {
    "duration": 0,
    "start_time": "2024-11-04T11:19:48.435Z"
   },
   {
    "duration": 0,
    "start_time": "2024-11-04T11:19:48.437Z"
   },
   {
    "duration": 0,
    "start_time": "2024-11-04T11:19:48.438Z"
   },
   {
    "duration": 0,
    "start_time": "2024-11-04T11:19:48.439Z"
   },
   {
    "duration": 0,
    "start_time": "2024-11-04T11:19:48.440Z"
   },
   {
    "duration": 0,
    "start_time": "2024-11-04T11:19:48.441Z"
   },
   {
    "duration": 0,
    "start_time": "2024-11-04T11:19:48.442Z"
   },
   {
    "duration": 156,
    "start_time": "2024-11-04T11:20:10.455Z"
   },
   {
    "duration": 564,
    "start_time": "2024-11-04T11:21:52.953Z"
   },
   {
    "duration": 99,
    "start_time": "2024-11-04T11:21:53.519Z"
   },
   {
    "duration": 24,
    "start_time": "2024-11-04T11:21:53.619Z"
   },
   {
    "duration": 1670,
    "start_time": "2024-11-04T11:21:53.644Z"
   },
   {
    "duration": 8,
    "start_time": "2024-11-04T11:21:55.315Z"
   },
   {
    "duration": 10,
    "start_time": "2024-11-04T11:21:55.324Z"
   },
   {
    "duration": 15,
    "start_time": "2024-11-04T11:21:55.335Z"
   },
   {
    "duration": 152,
    "start_time": "2024-11-04T11:21:55.351Z"
   },
   {
    "duration": 7,
    "start_time": "2024-11-04T11:21:55.505Z"
   },
   {
    "duration": 9,
    "start_time": "2024-11-04T11:21:55.515Z"
   },
   {
    "duration": 334,
    "start_time": "2024-11-04T11:21:55.525Z"
   },
   {
    "duration": 4,
    "start_time": "2024-11-04T11:21:55.860Z"
   },
   {
    "duration": 203,
    "start_time": "2024-11-04T11:21:55.865Z"
   },
   {
    "duration": 260,
    "start_time": "2024-11-04T11:21:56.070Z"
   },
   {
    "duration": 203,
    "start_time": "2024-11-04T11:21:56.331Z"
   },
   {
    "duration": 194,
    "start_time": "2024-11-04T11:21:56.536Z"
   },
   {
    "duration": 208,
    "start_time": "2024-11-04T11:21:56.732Z"
   },
   {
    "duration": 241,
    "start_time": "2024-11-04T11:21:56.941Z"
   },
   {
    "duration": 206,
    "start_time": "2024-11-04T11:21:57.183Z"
   },
   {
    "duration": 199,
    "start_time": "2024-11-04T11:21:57.391Z"
   },
   {
    "duration": 205,
    "start_time": "2024-11-04T11:21:57.591Z"
   },
   {
    "duration": 170,
    "start_time": "2024-11-04T11:21:57.798Z"
   },
   {
    "duration": 227,
    "start_time": "2024-11-04T11:21:57.970Z"
   },
   {
    "duration": 5,
    "start_time": "2024-11-04T11:21:58.198Z"
   },
   {
    "duration": 37,
    "start_time": "2024-11-04T11:21:58.204Z"
   },
   {
    "duration": 160,
    "start_time": "2024-11-04T11:21:58.242Z"
   },
   {
    "duration": 180,
    "start_time": "2024-11-04T11:21:58.403Z"
   },
   {
    "duration": 0,
    "start_time": "2024-11-04T11:21:58.585Z"
   },
   {
    "duration": 0,
    "start_time": "2024-11-04T11:21:58.585Z"
   },
   {
    "duration": 0,
    "start_time": "2024-11-04T11:21:58.586Z"
   },
   {
    "duration": 0,
    "start_time": "2024-11-04T11:21:58.587Z"
   },
   {
    "duration": 0,
    "start_time": "2024-11-04T11:21:58.588Z"
   },
   {
    "duration": 0,
    "start_time": "2024-11-04T11:21:58.589Z"
   },
   {
    "duration": 0,
    "start_time": "2024-11-04T11:21:58.590Z"
   },
   {
    "duration": 0,
    "start_time": "2024-11-04T11:21:58.591Z"
   },
   {
    "duration": 542,
    "start_time": "2024-11-04T11:22:18.743Z"
   },
   {
    "duration": 104,
    "start_time": "2024-11-04T11:22:19.287Z"
   },
   {
    "duration": 28,
    "start_time": "2024-11-04T11:22:19.393Z"
   },
   {
    "duration": 1615,
    "start_time": "2024-11-04T11:22:19.423Z"
   },
   {
    "duration": 8,
    "start_time": "2024-11-04T11:22:21.039Z"
   },
   {
    "duration": 7,
    "start_time": "2024-11-04T11:22:21.049Z"
   },
   {
    "duration": 14,
    "start_time": "2024-11-04T11:22:21.057Z"
   },
   {
    "duration": 154,
    "start_time": "2024-11-04T11:22:21.072Z"
   },
   {
    "duration": 4,
    "start_time": "2024-11-04T11:22:21.228Z"
   },
   {
    "duration": 10,
    "start_time": "2024-11-04T11:22:21.234Z"
   },
   {
    "duration": 309,
    "start_time": "2024-11-04T11:22:21.245Z"
   },
   {
    "duration": 3,
    "start_time": "2024-11-04T11:22:21.555Z"
   },
   {
    "duration": 199,
    "start_time": "2024-11-04T11:22:21.559Z"
   },
   {
    "duration": 273,
    "start_time": "2024-11-04T11:22:21.760Z"
   },
   {
    "duration": 218,
    "start_time": "2024-11-04T11:22:22.035Z"
   },
   {
    "duration": 195,
    "start_time": "2024-11-04T11:22:22.255Z"
   },
   {
    "duration": 204,
    "start_time": "2024-11-04T11:22:22.451Z"
   },
   {
    "duration": 220,
    "start_time": "2024-11-04T11:22:22.657Z"
   },
   {
    "duration": 200,
    "start_time": "2024-11-04T11:22:22.878Z"
   },
   {
    "duration": 220,
    "start_time": "2024-11-04T11:22:23.080Z"
   },
   {
    "duration": 210,
    "start_time": "2024-11-04T11:22:23.302Z"
   },
   {
    "duration": 172,
    "start_time": "2024-11-04T11:22:23.514Z"
   },
   {
    "duration": 217,
    "start_time": "2024-11-04T11:22:23.688Z"
   },
   {
    "duration": 8,
    "start_time": "2024-11-04T11:22:23.907Z"
   },
   {
    "duration": 7,
    "start_time": "2024-11-04T11:22:23.916Z"
   },
   {
    "duration": 175,
    "start_time": "2024-11-04T11:22:23.924Z"
   },
   {
    "duration": 162,
    "start_time": "2024-11-04T11:22:24.100Z"
   },
   {
    "duration": 169,
    "start_time": "2024-11-04T11:22:24.265Z"
   },
   {
    "duration": 136,
    "start_time": "2024-11-04T11:22:24.436Z"
   },
   {
    "duration": 176,
    "start_time": "2024-11-04T11:22:24.573Z"
   },
   {
    "duration": 135,
    "start_time": "2024-11-04T11:22:24.751Z"
   },
   {
    "duration": 129,
    "start_time": "2024-11-04T11:22:24.887Z"
   },
   {
    "duration": 129,
    "start_time": "2024-11-04T11:22:25.017Z"
   },
   {
    "duration": 20,
    "start_time": "2024-11-04T11:22:25.147Z"
   },
   {
    "duration": 140,
    "start_time": "2024-11-04T11:22:25.168Z"
   },
   {
    "duration": 631,
    "start_time": "2024-11-04T11:27:45.396Z"
   },
   {
    "duration": 101,
    "start_time": "2024-11-04T11:27:46.029Z"
   },
   {
    "duration": 24,
    "start_time": "2024-11-04T11:27:46.132Z"
   },
   {
    "duration": 1689,
    "start_time": "2024-11-04T11:27:46.157Z"
   },
   {
    "duration": 8,
    "start_time": "2024-11-04T11:27:47.847Z"
   },
   {
    "duration": 7,
    "start_time": "2024-11-04T11:27:47.857Z"
   },
   {
    "duration": 14,
    "start_time": "2024-11-04T11:27:47.865Z"
   },
   {
    "duration": 127,
    "start_time": "2024-11-04T11:27:47.880Z"
   },
   {
    "duration": 7,
    "start_time": "2024-11-04T11:27:48.008Z"
   },
   {
    "duration": 9,
    "start_time": "2024-11-04T11:27:48.017Z"
   },
   {
    "duration": 337,
    "start_time": "2024-11-04T11:27:48.027Z"
   },
   {
    "duration": 4,
    "start_time": "2024-11-04T11:27:48.365Z"
   },
   {
    "duration": 202,
    "start_time": "2024-11-04T11:27:48.371Z"
   },
   {
    "duration": 300,
    "start_time": "2024-11-04T11:27:48.575Z"
   },
   {
    "duration": 202,
    "start_time": "2024-11-04T11:27:48.877Z"
   },
   {
    "duration": 197,
    "start_time": "2024-11-04T11:27:49.081Z"
   },
   {
    "duration": 206,
    "start_time": "2024-11-04T11:27:49.280Z"
   },
   {
    "duration": 240,
    "start_time": "2024-11-04T11:27:49.487Z"
   },
   {
    "duration": 202,
    "start_time": "2024-11-04T11:27:49.728Z"
   },
   {
    "duration": 217,
    "start_time": "2024-11-04T11:27:49.932Z"
   },
   {
    "duration": 219,
    "start_time": "2024-11-04T11:27:50.151Z"
   },
   {
    "duration": 180,
    "start_time": "2024-11-04T11:27:50.372Z"
   },
   {
    "duration": 230,
    "start_time": "2024-11-04T11:27:50.553Z"
   },
   {
    "duration": 6,
    "start_time": "2024-11-04T11:27:50.784Z"
   },
   {
    "duration": 7,
    "start_time": "2024-11-04T11:27:50.791Z"
   },
   {
    "duration": 168,
    "start_time": "2024-11-04T11:27:50.812Z"
   },
   {
    "duration": 188,
    "start_time": "2024-11-04T11:27:50.981Z"
   },
   {
    "duration": 181,
    "start_time": "2024-11-04T11:27:51.173Z"
   },
   {
    "duration": 140,
    "start_time": "2024-11-04T11:27:51.356Z"
   },
   {
    "duration": 169,
    "start_time": "2024-11-04T11:27:51.498Z"
   },
   {
    "duration": 137,
    "start_time": "2024-11-04T11:27:51.668Z"
   },
   {
    "duration": 129,
    "start_time": "2024-11-04T11:27:51.807Z"
   },
   {
    "duration": 124,
    "start_time": "2024-11-04T11:27:51.938Z"
   },
   {
    "duration": 20,
    "start_time": "2024-11-04T11:27:52.063Z"
   },
   {
    "duration": 158,
    "start_time": "2024-11-04T11:27:52.084Z"
   },
   {
    "duration": 202,
    "start_time": "2024-11-04T11:28:52.599Z"
   },
   {
    "duration": 226,
    "start_time": "2024-11-04T11:29:09.062Z"
   },
   {
    "duration": 208,
    "start_time": "2024-11-04T11:30:24.001Z"
   },
   {
    "duration": 269,
    "start_time": "2024-11-04T11:31:22.373Z"
   },
   {
    "duration": 193,
    "start_time": "2024-11-04T11:31:28.019Z"
   },
   {
    "duration": 96,
    "start_time": "2024-11-04T11:31:49.921Z"
   },
   {
    "duration": 592,
    "start_time": "2024-11-04T11:36:20.114Z"
   },
   {
    "duration": 104,
    "start_time": "2024-11-04T11:36:20.707Z"
   },
   {
    "duration": 25,
    "start_time": "2024-11-04T11:36:20.812Z"
   },
   {
    "duration": 1696,
    "start_time": "2024-11-04T11:36:20.838Z"
   },
   {
    "duration": 13,
    "start_time": "2024-11-04T11:36:22.537Z"
   },
   {
    "duration": 12,
    "start_time": "2024-11-04T11:36:22.551Z"
   },
   {
    "duration": 14,
    "start_time": "2024-11-04T11:36:22.565Z"
   },
   {
    "duration": 149,
    "start_time": "2024-11-04T11:36:22.580Z"
   },
   {
    "duration": 4,
    "start_time": "2024-11-04T11:36:22.731Z"
   },
   {
    "duration": 16,
    "start_time": "2024-11-04T11:36:22.737Z"
   },
   {
    "duration": 329,
    "start_time": "2024-11-04T11:36:22.754Z"
   },
   {
    "duration": 4,
    "start_time": "2024-11-04T11:36:23.085Z"
   },
   {
    "duration": 99,
    "start_time": "2024-11-04T11:36:23.090Z"
   },
   {
    "duration": 201,
    "start_time": "2024-11-04T11:36:23.191Z"
   },
   {
    "duration": 162,
    "start_time": "2024-11-04T11:36:23.393Z"
   },
   {
    "duration": 214,
    "start_time": "2024-11-04T11:36:23.556Z"
   },
   {
    "duration": 97,
    "start_time": "2024-11-04T11:36:23.771Z"
   },
   {
    "duration": 224,
    "start_time": "2024-11-04T11:36:23.869Z"
   },
   {
    "duration": 107,
    "start_time": "2024-11-04T11:36:24.095Z"
   },
   {
    "duration": 193,
    "start_time": "2024-11-04T11:36:24.203Z"
   },
   {
    "duration": 99,
    "start_time": "2024-11-04T11:36:24.398Z"
   },
   {
    "duration": 246,
    "start_time": "2024-11-04T11:36:24.499Z"
   },
   {
    "duration": 90,
    "start_time": "2024-11-04T11:36:24.746Z"
   },
   {
    "duration": 229,
    "start_time": "2024-11-04T11:36:24.837Z"
   },
   {
    "duration": 204,
    "start_time": "2024-11-04T11:36:25.067Z"
   },
   {
    "duration": 112,
    "start_time": "2024-11-04T11:36:25.272Z"
   },
   {
    "duration": 171,
    "start_time": "2024-11-04T11:36:25.386Z"
   },
   {
    "duration": 98,
    "start_time": "2024-11-04T11:36:25.559Z"
   },
   {
    "duration": 254,
    "start_time": "2024-11-04T11:36:25.659Z"
   },
   {
    "duration": 86,
    "start_time": "2024-11-04T11:36:25.915Z"
   },
   {
    "duration": 173,
    "start_time": "2024-11-04T11:36:26.003Z"
   },
   {
    "duration": 102,
    "start_time": "2024-11-04T11:36:26.178Z"
   },
   {
    "duration": 222,
    "start_time": "2024-11-04T11:36:26.281Z"
   },
   {
    "duration": 8,
    "start_time": "2024-11-04T11:36:26.504Z"
   },
   {
    "duration": 29,
    "start_time": "2024-11-04T11:36:26.513Z"
   },
   {
    "duration": 172,
    "start_time": "2024-11-04T11:36:26.544Z"
   },
   {
    "duration": 166,
    "start_time": "2024-11-04T11:36:26.717Z"
   },
   {
    "duration": 183,
    "start_time": "2024-11-04T11:36:26.884Z"
   },
   {
    "duration": 135,
    "start_time": "2024-11-04T11:36:27.068Z"
   },
   {
    "duration": 167,
    "start_time": "2024-11-04T11:36:27.204Z"
   },
   {
    "duration": 136,
    "start_time": "2024-11-04T11:36:27.374Z"
   },
   {
    "duration": 131,
    "start_time": "2024-11-04T11:36:27.511Z"
   },
   {
    "duration": 129,
    "start_time": "2024-11-04T11:36:27.644Z"
   },
   {
    "duration": 20,
    "start_time": "2024-11-04T11:36:27.774Z"
   },
   {
    "duration": 178,
    "start_time": "2024-11-04T11:36:27.795Z"
   },
   {
    "duration": 54,
    "start_time": "2024-11-04T13:19:58.079Z"
   },
   {
    "duration": 873,
    "start_time": "2024-11-04T13:21:01.167Z"
   },
   {
    "duration": 348,
    "start_time": "2024-11-04T13:21:02.043Z"
   },
   {
    "duration": 31,
    "start_time": "2024-11-04T13:21:03.314Z"
   },
   {
    "duration": 2251,
    "start_time": "2024-11-04T13:21:04.274Z"
   },
   {
    "duration": 11,
    "start_time": "2024-11-04T13:21:12.547Z"
   },
   {
    "duration": 25,
    "start_time": "2024-11-04T13:21:15.907Z"
   },
   {
    "duration": 12,
    "start_time": "2024-11-04T13:21:49.720Z"
   },
   {
    "duration": 775,
    "start_time": "2024-11-04T14:35:26.063Z"
   },
   {
    "duration": 189,
    "start_time": "2024-11-04T14:35:26.840Z"
   },
   {
    "duration": 28,
    "start_time": "2024-11-04T14:35:27.031Z"
   },
   {
    "duration": 1933,
    "start_time": "2024-11-04T14:35:27.061Z"
   },
   {
    "duration": 10,
    "start_time": "2024-11-04T14:35:28.995Z"
   },
   {
    "duration": 52,
    "start_time": "2024-11-04T14:35:29.007Z"
   },
   {
    "duration": 16,
    "start_time": "2024-11-04T14:35:29.061Z"
   },
   {
    "duration": 145,
    "start_time": "2024-11-04T14:35:29.079Z"
   },
   {
    "duration": 18,
    "start_time": "2024-11-04T14:35:29.225Z"
   },
   {
    "duration": 11,
    "start_time": "2024-11-04T14:35:29.245Z"
   },
   {
    "duration": 325,
    "start_time": "2024-11-04T14:35:29.258Z"
   },
   {
    "duration": 4,
    "start_time": "2024-11-04T14:35:29.584Z"
   },
   {
    "duration": 115,
    "start_time": "2024-11-04T14:35:29.590Z"
   },
   {
    "duration": 415,
    "start_time": "2024-11-04T14:35:29.707Z"
   },
   {
    "duration": 145,
    "start_time": "2024-11-04T14:35:30.123Z"
   },
   {
    "duration": 253,
    "start_time": "2024-11-04T14:35:30.270Z"
   },
   {
    "duration": 140,
    "start_time": "2024-11-04T14:35:30.524Z"
   },
   {
    "duration": 453,
    "start_time": "2024-11-04T14:35:30.665Z"
   },
   {
    "duration": 130,
    "start_time": "2024-11-04T14:35:31.120Z"
   },
   {
    "duration": 243,
    "start_time": "2024-11-04T14:35:31.252Z"
   },
   {
    "duration": 120,
    "start_time": "2024-11-04T14:35:31.497Z"
   },
   {
    "duration": 324,
    "start_time": "2024-11-04T14:35:31.619Z"
   },
   {
    "duration": 115,
    "start_time": "2024-11-04T14:35:31.944Z"
   },
   {
    "duration": 268,
    "start_time": "2024-11-04T14:35:32.061Z"
   },
   {
    "duration": 245,
    "start_time": "2024-11-04T14:35:32.331Z"
   },
   {
    "duration": 116,
    "start_time": "2024-11-04T14:35:32.579Z"
   },
   {
    "duration": 205,
    "start_time": "2024-11-04T14:35:32.697Z"
   },
   {
    "duration": 117,
    "start_time": "2024-11-04T14:35:32.905Z"
   },
   {
    "duration": 328,
    "start_time": "2024-11-04T14:35:33.024Z"
   },
   {
    "duration": 134,
    "start_time": "2024-11-04T14:35:33.353Z"
   },
   {
    "duration": 213,
    "start_time": "2024-11-04T14:35:33.488Z"
   },
   {
    "duration": 129,
    "start_time": "2024-11-04T14:35:33.702Z"
   },
   {
    "duration": 287,
    "start_time": "2024-11-04T14:35:33.833Z"
   },
   {
    "duration": 7,
    "start_time": "2024-11-04T14:35:34.122Z"
   },
   {
    "duration": 9,
    "start_time": "2024-11-04T14:35:34.143Z"
   },
   {
    "duration": 206,
    "start_time": "2024-11-04T14:35:34.154Z"
   },
   {
    "duration": 186,
    "start_time": "2024-11-04T14:35:34.362Z"
   },
   {
    "duration": 193,
    "start_time": "2024-11-04T14:35:34.550Z"
   },
   {
    "duration": 248,
    "start_time": "2024-11-04T14:35:34.744Z"
   },
   {
    "duration": 168,
    "start_time": "2024-11-04T14:35:34.994Z"
   },
   {
    "duration": 169,
    "start_time": "2024-11-04T14:35:35.164Z"
   },
   {
    "duration": 190,
    "start_time": "2024-11-04T14:35:35.335Z"
   },
   {
    "duration": 158,
    "start_time": "2024-11-04T14:35:35.527Z"
   },
   {
    "duration": 22,
    "start_time": "2024-11-04T14:35:35.687Z"
   },
   {
    "duration": 185,
    "start_time": "2024-11-04T14:35:35.711Z"
   },
   {
    "duration": 689,
    "start_time": "2024-11-04T14:36:09.852Z"
   },
   {
    "duration": 111,
    "start_time": "2024-11-04T14:36:10.542Z"
   },
   {
    "duration": 33,
    "start_time": "2024-11-04T14:36:10.655Z"
   },
   {
    "duration": 1964,
    "start_time": "2024-11-04T14:36:10.691Z"
   },
   {
    "duration": 10,
    "start_time": "2024-11-04T14:36:12.657Z"
   },
   {
    "duration": 43,
    "start_time": "2024-11-04T14:36:12.668Z"
   },
   {
    "duration": 15,
    "start_time": "2024-11-04T14:36:12.713Z"
   },
   {
    "duration": 154,
    "start_time": "2024-11-04T14:36:12.730Z"
   },
   {
    "duration": 6,
    "start_time": "2024-11-04T14:36:12.886Z"
   },
   {
    "duration": 42,
    "start_time": "2024-11-04T14:36:12.895Z"
   },
   {
    "duration": 314,
    "start_time": "2024-11-04T14:36:12.940Z"
   },
   {
    "duration": 5,
    "start_time": "2024-11-04T14:36:13.256Z"
   },
   {
    "duration": 130,
    "start_time": "2024-11-04T14:36:13.262Z"
   },
   {
    "duration": 234,
    "start_time": "2024-11-04T14:36:13.393Z"
   },
   {
    "duration": 199,
    "start_time": "2024-11-04T14:36:13.629Z"
   },
   {
    "duration": 224,
    "start_time": "2024-11-04T14:36:13.830Z"
   },
   {
    "duration": 114,
    "start_time": "2024-11-04T14:36:14.055Z"
   },
   {
    "duration": 246,
    "start_time": "2024-11-04T14:36:14.170Z"
   },
   {
    "duration": 126,
    "start_time": "2024-11-04T14:36:14.418Z"
   },
   {
    "duration": 237,
    "start_time": "2024-11-04T14:36:14.546Z"
   },
   {
    "duration": 135,
    "start_time": "2024-11-04T14:36:14.785Z"
   },
   {
    "duration": 351,
    "start_time": "2024-11-04T14:36:14.922Z"
   },
   {
    "duration": 111,
    "start_time": "2024-11-04T14:36:15.274Z"
   },
   {
    "duration": 252,
    "start_time": "2024-11-04T14:36:15.387Z"
   },
   {
    "duration": 235,
    "start_time": "2024-11-04T14:36:15.642Z"
   },
   {
    "duration": 111,
    "start_time": "2024-11-04T14:36:15.879Z"
   },
   {
    "duration": 205,
    "start_time": "2024-11-04T14:36:15.991Z"
   },
   {
    "duration": 116,
    "start_time": "2024-11-04T14:36:16.199Z"
   },
   {
    "duration": 373,
    "start_time": "2024-11-04T14:36:16.317Z"
   },
   {
    "duration": 106,
    "start_time": "2024-11-04T14:36:16.692Z"
   },
   {
    "duration": 231,
    "start_time": "2024-11-04T14:36:16.800Z"
   },
   {
    "duration": 125,
    "start_time": "2024-11-04T14:36:17.033Z"
   },
   {
    "duration": 263,
    "start_time": "2024-11-04T14:36:17.160Z"
   },
   {
    "duration": 18,
    "start_time": "2024-11-04T14:36:17.425Z"
   },
   {
    "duration": 30,
    "start_time": "2024-11-04T14:36:17.445Z"
   },
   {
    "duration": 203,
    "start_time": "2024-11-04T14:36:17.476Z"
   },
   {
    "duration": 189,
    "start_time": "2024-11-04T14:36:17.681Z"
   },
   {
    "duration": 196,
    "start_time": "2024-11-04T14:36:17.871Z"
   },
   {
    "duration": 172,
    "start_time": "2024-11-04T14:36:18.069Z"
   },
   {
    "duration": 222,
    "start_time": "2024-11-04T14:36:18.242Z"
   },
   {
    "duration": 158,
    "start_time": "2024-11-04T14:36:18.465Z"
   },
   {
    "duration": 147,
    "start_time": "2024-11-04T14:36:18.624Z"
   },
   {
    "duration": 147,
    "start_time": "2024-11-04T14:36:18.773Z"
   },
   {
    "duration": 32,
    "start_time": "2024-11-04T14:36:18.922Z"
   },
   {
    "duration": 164,
    "start_time": "2024-11-04T14:36:18.955Z"
   },
   {
    "duration": 606,
    "start_time": "2024-11-04T14:36:35.589Z"
   },
   {
    "duration": 109,
    "start_time": "2024-11-04T14:36:36.197Z"
   },
   {
    "duration": 27,
    "start_time": "2024-11-04T14:36:36.308Z"
   },
   {
    "duration": 1917,
    "start_time": "2024-11-04T14:36:36.342Z"
   },
   {
    "duration": 10,
    "start_time": "2024-11-04T14:36:38.261Z"
   },
   {
    "duration": 45,
    "start_time": "2024-11-04T14:36:38.272Z"
   },
   {
    "duration": 24,
    "start_time": "2024-11-04T14:36:38.319Z"
   },
   {
    "duration": 145,
    "start_time": "2024-11-04T14:36:38.344Z"
   },
   {
    "duration": 5,
    "start_time": "2024-11-04T14:36:38.490Z"
   },
   {
    "duration": 11,
    "start_time": "2024-11-04T14:36:38.498Z"
   },
   {
    "duration": 358,
    "start_time": "2024-11-04T14:36:38.511Z"
   },
   {
    "duration": 5,
    "start_time": "2024-11-04T14:36:38.871Z"
   },
   {
    "duration": 133,
    "start_time": "2024-11-04T14:36:38.877Z"
   },
   {
    "duration": 242,
    "start_time": "2024-11-04T14:36:39.011Z"
   },
   {
    "duration": 204,
    "start_time": "2024-11-04T14:36:39.254Z"
   },
   {
    "duration": 224,
    "start_time": "2024-11-04T14:36:39.460Z"
   },
   {
    "duration": 117,
    "start_time": "2024-11-04T14:36:39.687Z"
   },
   {
    "duration": 283,
    "start_time": "2024-11-04T14:36:39.806Z"
   },
   {
    "duration": 140,
    "start_time": "2024-11-04T14:36:40.091Z"
   },
   {
    "duration": 242,
    "start_time": "2024-11-04T14:36:40.232Z"
   },
   {
    "duration": 116,
    "start_time": "2024-11-04T14:36:40.476Z"
   },
   {
    "duration": 353,
    "start_time": "2024-11-04T14:36:40.594Z"
   },
   {
    "duration": 120,
    "start_time": "2024-11-04T14:36:40.949Z"
   },
   {
    "duration": 261,
    "start_time": "2024-11-04T14:36:41.070Z"
   },
   {
    "duration": 267,
    "start_time": "2024-11-04T14:36:41.332Z"
   },
   {
    "duration": 114,
    "start_time": "2024-11-04T14:36:41.601Z"
   },
   {
    "duration": 245,
    "start_time": "2024-11-04T14:36:41.717Z"
   },
   {
    "duration": 118,
    "start_time": "2024-11-04T14:36:41.966Z"
   },
   {
    "duration": 321,
    "start_time": "2024-11-04T14:36:42.087Z"
   },
   {
    "duration": 124,
    "start_time": "2024-11-04T14:36:42.410Z"
   },
   {
    "duration": 208,
    "start_time": "2024-11-04T14:36:42.535Z"
   },
   {
    "duration": 132,
    "start_time": "2024-11-04T14:36:42.744Z"
   },
   {
    "duration": 259,
    "start_time": "2024-11-04T14:36:42.877Z"
   },
   {
    "duration": 6,
    "start_time": "2024-11-04T14:36:43.138Z"
   },
   {
    "duration": 9,
    "start_time": "2024-11-04T14:36:43.146Z"
   },
   {
    "duration": 201,
    "start_time": "2024-11-04T14:36:43.156Z"
   },
   {
    "duration": 203,
    "start_time": "2024-11-04T14:36:43.358Z"
   },
   {
    "duration": 191,
    "start_time": "2024-11-04T14:36:43.563Z"
   },
   {
    "duration": 154,
    "start_time": "2024-11-04T14:36:43.755Z"
   },
   {
    "duration": 221,
    "start_time": "2024-11-04T14:36:43.911Z"
   },
   {
    "duration": 159,
    "start_time": "2024-11-04T14:36:44.134Z"
   },
   {
    "duration": 154,
    "start_time": "2024-11-04T14:36:44.294Z"
   },
   {
    "duration": 146,
    "start_time": "2024-11-04T14:36:44.450Z"
   },
   {
    "duration": 25,
    "start_time": "2024-11-04T14:36:44.598Z"
   },
   {
    "duration": 203,
    "start_time": "2024-11-04T14:36:44.624Z"
   },
   {
    "duration": 668,
    "start_time": "2024-11-04T14:40:58.265Z"
   },
   {
    "duration": 113,
    "start_time": "2024-11-04T14:40:58.935Z"
   },
   {
    "duration": 30,
    "start_time": "2024-11-04T14:40:59.050Z"
   },
   {
    "duration": 2049,
    "start_time": "2024-11-04T14:40:59.082Z"
   },
   {
    "duration": 11,
    "start_time": "2024-11-04T14:41:01.133Z"
   },
   {
    "duration": 637,
    "start_time": "2024-11-04T14:41:01.146Z"
   },
   {
    "duration": 0,
    "start_time": "2024-11-04T14:41:01.786Z"
   },
   {
    "duration": 0,
    "start_time": "2024-11-04T14:41:01.788Z"
   },
   {
    "duration": 0,
    "start_time": "2024-11-04T14:41:01.790Z"
   },
   {
    "duration": 0,
    "start_time": "2024-11-04T14:41:01.792Z"
   },
   {
    "duration": 0,
    "start_time": "2024-11-04T14:41:01.793Z"
   },
   {
    "duration": 0,
    "start_time": "2024-11-04T14:41:01.795Z"
   },
   {
    "duration": 0,
    "start_time": "2024-11-04T14:41:01.796Z"
   },
   {
    "duration": 0,
    "start_time": "2024-11-04T14:41:01.798Z"
   },
   {
    "duration": 0,
    "start_time": "2024-11-04T14:41:01.799Z"
   },
   {
    "duration": 0,
    "start_time": "2024-11-04T14:41:01.800Z"
   },
   {
    "duration": 0,
    "start_time": "2024-11-04T14:41:01.802Z"
   },
   {
    "duration": 0,
    "start_time": "2024-11-04T14:41:01.803Z"
   },
   {
    "duration": 0,
    "start_time": "2024-11-04T14:41:01.804Z"
   },
   {
    "duration": 0,
    "start_time": "2024-11-04T14:41:01.806Z"
   },
   {
    "duration": 0,
    "start_time": "2024-11-04T14:41:01.807Z"
   },
   {
    "duration": 0,
    "start_time": "2024-11-04T14:41:01.809Z"
   },
   {
    "duration": 0,
    "start_time": "2024-11-04T14:41:01.810Z"
   },
   {
    "duration": 0,
    "start_time": "2024-11-04T14:41:01.811Z"
   },
   {
    "duration": 0,
    "start_time": "2024-11-04T14:41:01.812Z"
   },
   {
    "duration": 0,
    "start_time": "2024-11-04T14:41:01.814Z"
   },
   {
    "duration": 0,
    "start_time": "2024-11-04T14:41:01.815Z"
   },
   {
    "duration": 0,
    "start_time": "2024-11-04T14:41:01.817Z"
   },
   {
    "duration": 0,
    "start_time": "2024-11-04T14:41:01.818Z"
   },
   {
    "duration": 0,
    "start_time": "2024-11-04T14:41:01.820Z"
   },
   {
    "duration": 0,
    "start_time": "2024-11-04T14:41:01.821Z"
   },
   {
    "duration": 0,
    "start_time": "2024-11-04T14:41:01.843Z"
   },
   {
    "duration": 0,
    "start_time": "2024-11-04T14:41:01.845Z"
   },
   {
    "duration": 0,
    "start_time": "2024-11-04T14:41:01.847Z"
   },
   {
    "duration": 0,
    "start_time": "2024-11-04T14:41:01.848Z"
   },
   {
    "duration": 0,
    "start_time": "2024-11-04T14:41:01.849Z"
   },
   {
    "duration": 0,
    "start_time": "2024-11-04T14:41:01.851Z"
   },
   {
    "duration": 0,
    "start_time": "2024-11-04T14:41:01.852Z"
   },
   {
    "duration": 0,
    "start_time": "2024-11-04T14:41:01.854Z"
   },
   {
    "duration": 0,
    "start_time": "2024-11-04T14:41:01.855Z"
   },
   {
    "duration": 0,
    "start_time": "2024-11-04T14:41:01.856Z"
   },
   {
    "duration": 0,
    "start_time": "2024-11-04T14:41:01.858Z"
   },
   {
    "duration": 0,
    "start_time": "2024-11-04T14:41:01.859Z"
   },
   {
    "duration": 0,
    "start_time": "2024-11-04T14:41:01.860Z"
   },
   {
    "duration": 0,
    "start_time": "2024-11-04T14:41:01.861Z"
   },
   {
    "duration": 609,
    "start_time": "2024-11-04T14:41:56.970Z"
   },
   {
    "duration": 107,
    "start_time": "2024-11-04T14:41:57.581Z"
   },
   {
    "duration": 27,
    "start_time": "2024-11-04T14:41:57.689Z"
   },
   {
    "duration": 1921,
    "start_time": "2024-11-04T14:41:57.718Z"
   },
   {
    "duration": 11,
    "start_time": "2024-11-04T14:41:59.640Z"
   },
   {
    "duration": 67,
    "start_time": "2024-11-04T14:41:59.652Z"
   },
   {
    "duration": 15,
    "start_time": "2024-11-04T14:41:59.720Z"
   },
   {
    "duration": 143,
    "start_time": "2024-11-04T14:41:59.736Z"
   },
   {
    "duration": 6,
    "start_time": "2024-11-04T14:41:59.881Z"
   },
   {
    "duration": 38,
    "start_time": "2024-11-04T14:41:59.889Z"
   },
   {
    "duration": 371,
    "start_time": "2024-11-04T14:41:59.930Z"
   },
   {
    "duration": 5,
    "start_time": "2024-11-04T14:42:00.303Z"
   },
   {
    "duration": 163,
    "start_time": "2024-11-04T14:42:00.309Z"
   },
   {
    "duration": 242,
    "start_time": "2024-11-04T14:42:00.474Z"
   },
   {
    "duration": 226,
    "start_time": "2024-11-04T14:42:00.718Z"
   },
   {
    "duration": 224,
    "start_time": "2024-11-04T14:42:00.946Z"
   },
   {
    "duration": 124,
    "start_time": "2024-11-04T14:42:01.171Z"
   },
   {
    "duration": 254,
    "start_time": "2024-11-04T14:42:01.296Z"
   },
   {
    "duration": 130,
    "start_time": "2024-11-04T14:42:01.552Z"
   },
   {
    "duration": 239,
    "start_time": "2024-11-04T14:42:01.683Z"
   },
   {
    "duration": 132,
    "start_time": "2024-11-04T14:42:01.924Z"
   },
   {
    "duration": 317,
    "start_time": "2024-11-04T14:42:02.057Z"
   },
   {
    "duration": 105,
    "start_time": "2024-11-04T14:42:02.376Z"
   },
   {
    "duration": 252,
    "start_time": "2024-11-04T14:42:02.483Z"
   },
   {
    "duration": 254,
    "start_time": "2024-11-04T14:42:02.737Z"
   },
   {
    "duration": 126,
    "start_time": "2024-11-04T14:42:02.993Z"
   },
   {
    "duration": 207,
    "start_time": "2024-11-04T14:42:03.121Z"
   },
   {
    "duration": 125,
    "start_time": "2024-11-04T14:42:03.332Z"
   },
   {
    "duration": 341,
    "start_time": "2024-11-04T14:42:03.459Z"
   },
   {
    "duration": 111,
    "start_time": "2024-11-04T14:42:03.801Z"
   },
   {
    "duration": 204,
    "start_time": "2024-11-04T14:42:03.913Z"
   },
   {
    "duration": 132,
    "start_time": "2024-11-04T14:42:04.119Z"
   },
   {
    "duration": 262,
    "start_time": "2024-11-04T14:42:04.252Z"
   },
   {
    "duration": 6,
    "start_time": "2024-11-04T14:42:04.515Z"
   },
   {
    "duration": 21,
    "start_time": "2024-11-04T14:42:04.522Z"
   },
   {
    "duration": 190,
    "start_time": "2024-11-04T14:42:04.545Z"
   },
   {
    "duration": 198,
    "start_time": "2024-11-04T14:42:04.737Z"
   },
   {
    "duration": 195,
    "start_time": "2024-11-04T14:42:04.937Z"
   },
   {
    "duration": 177,
    "start_time": "2024-11-04T14:42:05.134Z"
   },
   {
    "duration": 214,
    "start_time": "2024-11-04T14:42:05.312Z"
   },
   {
    "duration": 157,
    "start_time": "2024-11-04T14:42:05.527Z"
   },
   {
    "duration": 148,
    "start_time": "2024-11-04T14:42:05.685Z"
   },
   {
    "duration": 141,
    "start_time": "2024-11-04T14:42:05.835Z"
   },
   {
    "duration": 22,
    "start_time": "2024-11-04T14:42:05.978Z"
   },
   {
    "duration": 190,
    "start_time": "2024-11-04T14:42:06.002Z"
   },
   {
    "duration": 34,
    "start_time": "2024-11-04T14:51:08.181Z"
   },
   {
    "duration": 598,
    "start_time": "2024-11-04T14:51:13.778Z"
   },
   {
    "duration": 107,
    "start_time": "2024-11-04T14:51:14.378Z"
   },
   {
    "duration": 27,
    "start_time": "2024-11-04T14:51:14.487Z"
   },
   {
    "duration": 1899,
    "start_time": "2024-11-04T14:51:14.516Z"
   },
   {
    "duration": 11,
    "start_time": "2024-11-04T14:51:16.416Z"
   },
   {
    "duration": 60,
    "start_time": "2024-11-04T14:51:16.428Z"
   },
   {
    "duration": 15,
    "start_time": "2024-11-04T14:51:16.491Z"
   },
   {
    "duration": 167,
    "start_time": "2024-11-04T14:51:16.508Z"
   },
   {
    "duration": 5,
    "start_time": "2024-11-04T14:51:16.677Z"
   },
   {
    "duration": 12,
    "start_time": "2024-11-04T14:51:16.685Z"
   },
   {
    "duration": 380,
    "start_time": "2024-11-04T14:51:16.698Z"
   },
   {
    "duration": 4,
    "start_time": "2024-11-04T14:51:17.079Z"
   },
   {
    "duration": 108,
    "start_time": "2024-11-04T14:51:17.084Z"
   },
   {
    "duration": 235,
    "start_time": "2024-11-04T14:51:17.194Z"
   },
   {
    "duration": 196,
    "start_time": "2024-11-04T14:51:17.431Z"
   },
   {
    "duration": 226,
    "start_time": "2024-11-04T14:51:17.628Z"
   },
   {
    "duration": 108,
    "start_time": "2024-11-04T14:51:17.856Z"
   },
   {
    "duration": 257,
    "start_time": "2024-11-04T14:51:17.966Z"
   },
   {
    "duration": 131,
    "start_time": "2024-11-04T14:51:18.225Z"
   },
   {
    "duration": 248,
    "start_time": "2024-11-04T14:51:18.358Z"
   },
   {
    "duration": 115,
    "start_time": "2024-11-04T14:51:18.608Z"
   },
   {
    "duration": 328,
    "start_time": "2024-11-04T14:51:18.725Z"
   },
   {
    "duration": 106,
    "start_time": "2024-11-04T14:51:19.055Z"
   },
   {
    "duration": 258,
    "start_time": "2024-11-04T14:51:19.163Z"
   },
   {
    "duration": 249,
    "start_time": "2024-11-04T14:51:19.422Z"
   },
   {
    "duration": 142,
    "start_time": "2024-11-04T14:51:19.673Z"
   },
   {
    "duration": 265,
    "start_time": "2024-11-04T14:51:19.817Z"
   },
   {
    "duration": 130,
    "start_time": "2024-11-04T14:51:20.086Z"
   },
   {
    "duration": 324,
    "start_time": "2024-11-04T14:51:20.218Z"
   },
   {
    "duration": 102,
    "start_time": "2024-11-04T14:51:20.544Z"
   },
   {
    "duration": 226,
    "start_time": "2024-11-04T14:51:20.648Z"
   },
   {
    "duration": 129,
    "start_time": "2024-11-04T14:51:20.876Z"
   },
   {
    "duration": 259,
    "start_time": "2024-11-04T14:51:21.006Z"
   },
   {
    "duration": 6,
    "start_time": "2024-11-04T14:51:21.267Z"
   },
   {
    "duration": 7,
    "start_time": "2024-11-04T14:51:21.274Z"
   },
   {
    "duration": 210,
    "start_time": "2024-11-04T14:51:21.283Z"
   },
   {
    "duration": 190,
    "start_time": "2024-11-04T14:51:21.495Z"
   },
   {
    "duration": 207,
    "start_time": "2024-11-04T14:51:21.686Z"
   },
   {
    "duration": 157,
    "start_time": "2024-11-04T14:51:21.895Z"
   },
   {
    "duration": 213,
    "start_time": "2024-11-04T14:51:22.053Z"
   },
   {
    "duration": 162,
    "start_time": "2024-11-04T14:51:22.267Z"
   },
   {
    "duration": 144,
    "start_time": "2024-11-04T14:51:22.431Z"
   },
   {
    "duration": 143,
    "start_time": "2024-11-04T14:51:22.576Z"
   },
   {
    "duration": 32,
    "start_time": "2024-11-04T14:51:22.720Z"
   },
   {
    "duration": 180,
    "start_time": "2024-11-04T14:51:22.754Z"
   },
   {
    "duration": 676,
    "start_time": "2024-11-04T14:51:52.617Z"
   },
   {
    "duration": 108,
    "start_time": "2024-11-04T14:51:53.295Z"
   },
   {
    "duration": 27,
    "start_time": "2024-11-04T14:51:53.404Z"
   },
   {
    "duration": 1930,
    "start_time": "2024-11-04T14:51:53.433Z"
   },
   {
    "duration": 10,
    "start_time": "2024-11-04T14:51:55.364Z"
   },
   {
    "duration": 436,
    "start_time": "2024-11-04T14:51:55.376Z"
   },
   {
    "duration": 0,
    "start_time": "2024-11-04T14:51:55.815Z"
   },
   {
    "duration": 1,
    "start_time": "2024-11-04T14:51:55.816Z"
   },
   {
    "duration": 0,
    "start_time": "2024-11-04T14:51:55.818Z"
   },
   {
    "duration": 0,
    "start_time": "2024-11-04T14:51:55.819Z"
   },
   {
    "duration": 0,
    "start_time": "2024-11-04T14:51:55.821Z"
   },
   {
    "duration": 0,
    "start_time": "2024-11-04T14:51:55.822Z"
   },
   {
    "duration": 0,
    "start_time": "2024-11-04T14:51:55.823Z"
   },
   {
    "duration": 0,
    "start_time": "2024-11-04T14:51:55.825Z"
   },
   {
    "duration": 0,
    "start_time": "2024-11-04T14:51:55.826Z"
   },
   {
    "duration": 0,
    "start_time": "2024-11-04T14:51:55.827Z"
   },
   {
    "duration": 0,
    "start_time": "2024-11-04T14:51:55.829Z"
   },
   {
    "duration": 0,
    "start_time": "2024-11-04T14:51:55.830Z"
   },
   {
    "duration": 0,
    "start_time": "2024-11-04T14:51:55.831Z"
   },
   {
    "duration": 0,
    "start_time": "2024-11-04T14:51:55.833Z"
   },
   {
    "duration": 0,
    "start_time": "2024-11-04T14:51:55.834Z"
   },
   {
    "duration": 0,
    "start_time": "2024-11-04T14:51:55.835Z"
   },
   {
    "duration": 0,
    "start_time": "2024-11-04T14:51:55.837Z"
   },
   {
    "duration": 0,
    "start_time": "2024-11-04T14:51:55.838Z"
   },
   {
    "duration": 0,
    "start_time": "2024-11-04T14:51:55.839Z"
   },
   {
    "duration": 0,
    "start_time": "2024-11-04T14:51:55.840Z"
   },
   {
    "duration": 0,
    "start_time": "2024-11-04T14:51:55.842Z"
   },
   {
    "duration": 0,
    "start_time": "2024-11-04T14:51:55.843Z"
   },
   {
    "duration": 0,
    "start_time": "2024-11-04T14:51:55.844Z"
   },
   {
    "duration": 0,
    "start_time": "2024-11-04T14:51:55.846Z"
   },
   {
    "duration": 0,
    "start_time": "2024-11-04T14:51:55.847Z"
   },
   {
    "duration": 0,
    "start_time": "2024-11-04T14:51:55.848Z"
   },
   {
    "duration": 0,
    "start_time": "2024-11-04T14:51:55.849Z"
   },
   {
    "duration": 0,
    "start_time": "2024-11-04T14:51:55.850Z"
   },
   {
    "duration": 0,
    "start_time": "2024-11-04T14:51:55.851Z"
   },
   {
    "duration": 0,
    "start_time": "2024-11-04T14:51:55.852Z"
   },
   {
    "duration": 0,
    "start_time": "2024-11-04T14:51:55.853Z"
   },
   {
    "duration": 0,
    "start_time": "2024-11-04T14:51:55.854Z"
   },
   {
    "duration": 0,
    "start_time": "2024-11-04T14:51:55.855Z"
   },
   {
    "duration": 0,
    "start_time": "2024-11-04T14:51:55.857Z"
   },
   {
    "duration": 0,
    "start_time": "2024-11-04T14:51:55.859Z"
   },
   {
    "duration": 0,
    "start_time": "2024-11-04T14:51:55.860Z"
   },
   {
    "duration": 0,
    "start_time": "2024-11-04T14:51:55.862Z"
   },
   {
    "duration": 0,
    "start_time": "2024-11-04T14:51:55.863Z"
   },
   {
    "duration": 0,
    "start_time": "2024-11-04T14:51:55.864Z"
   },
   {
    "duration": 58,
    "start_time": "2024-11-04T15:54:02.810Z"
   },
   {
    "duration": 644,
    "start_time": "2024-11-04T15:54:11.035Z"
   },
   {
    "duration": 107,
    "start_time": "2024-11-04T15:54:11.681Z"
   },
   {
    "duration": 28,
    "start_time": "2024-11-04T15:54:11.790Z"
   },
   {
    "duration": 1919,
    "start_time": "2024-11-04T15:54:11.820Z"
   },
   {
    "duration": 10,
    "start_time": "2024-11-04T15:54:13.740Z"
   },
   {
    "duration": 28,
    "start_time": "2024-11-04T15:54:13.752Z"
   },
   {
    "duration": 627,
    "start_time": "2024-11-04T15:54:13.782Z"
   },
   {
    "duration": 0,
    "start_time": "2024-11-04T15:54:14.413Z"
   },
   {
    "duration": 0,
    "start_time": "2024-11-04T15:54:14.415Z"
   },
   {
    "duration": 0,
    "start_time": "2024-11-04T15:54:14.417Z"
   },
   {
    "duration": 0,
    "start_time": "2024-11-04T15:54:14.418Z"
   },
   {
    "duration": 0,
    "start_time": "2024-11-04T15:54:14.419Z"
   },
   {
    "duration": 1,
    "start_time": "2024-11-04T15:54:14.420Z"
   },
   {
    "duration": 0,
    "start_time": "2024-11-04T15:54:14.422Z"
   },
   {
    "duration": 0,
    "start_time": "2024-11-04T15:54:14.423Z"
   },
   {
    "duration": 0,
    "start_time": "2024-11-04T15:54:14.424Z"
   },
   {
    "duration": 0,
    "start_time": "2024-11-04T15:54:14.426Z"
   },
   {
    "duration": 0,
    "start_time": "2024-11-04T15:54:14.427Z"
   },
   {
    "duration": 0,
    "start_time": "2024-11-04T15:54:14.428Z"
   },
   {
    "duration": 0,
    "start_time": "2024-11-04T15:54:14.430Z"
   },
   {
    "duration": 0,
    "start_time": "2024-11-04T15:54:14.431Z"
   },
   {
    "duration": 0,
    "start_time": "2024-11-04T15:54:14.432Z"
   },
   {
    "duration": 0,
    "start_time": "2024-11-04T15:54:14.433Z"
   },
   {
    "duration": 0,
    "start_time": "2024-11-04T15:54:14.434Z"
   },
   {
    "duration": 0,
    "start_time": "2024-11-04T15:54:14.436Z"
   },
   {
    "duration": 0,
    "start_time": "2024-11-04T15:54:14.437Z"
   },
   {
    "duration": 0,
    "start_time": "2024-11-04T15:54:14.438Z"
   },
   {
    "duration": 0,
    "start_time": "2024-11-04T15:54:14.439Z"
   },
   {
    "duration": 0,
    "start_time": "2024-11-04T15:54:14.440Z"
   },
   {
    "duration": 0,
    "start_time": "2024-11-04T15:54:14.442Z"
   },
   {
    "duration": 0,
    "start_time": "2024-11-04T15:54:14.443Z"
   },
   {
    "duration": 0,
    "start_time": "2024-11-04T15:54:14.444Z"
   },
   {
    "duration": 0,
    "start_time": "2024-11-04T15:54:14.446Z"
   },
   {
    "duration": 0,
    "start_time": "2024-11-04T15:54:14.447Z"
   },
   {
    "duration": 0,
    "start_time": "2024-11-04T15:54:14.448Z"
   },
   {
    "duration": 0,
    "start_time": "2024-11-04T15:54:14.449Z"
   },
   {
    "duration": 0,
    "start_time": "2024-11-04T15:54:14.450Z"
   },
   {
    "duration": 1,
    "start_time": "2024-11-04T15:54:14.451Z"
   },
   {
    "duration": 0,
    "start_time": "2024-11-04T15:54:14.453Z"
   },
   {
    "duration": 0,
    "start_time": "2024-11-04T15:54:14.454Z"
   },
   {
    "duration": 0,
    "start_time": "2024-11-04T15:54:14.455Z"
   },
   {
    "duration": 0,
    "start_time": "2024-11-04T15:54:14.457Z"
   },
   {
    "duration": 0,
    "start_time": "2024-11-04T15:54:14.458Z"
   },
   {
    "duration": 0,
    "start_time": "2024-11-04T15:54:14.459Z"
   },
   {
    "duration": 0,
    "start_time": "2024-11-04T15:54:14.460Z"
   },
   {
    "duration": 0,
    "start_time": "2024-11-04T15:54:14.462Z"
   },
   {
    "duration": 9,
    "start_time": "2024-11-04T15:54:36.338Z"
   },
   {
    "duration": 6,
    "start_time": "2024-11-04T15:55:27.088Z"
   },
   {
    "duration": 7,
    "start_time": "2024-11-04T15:56:11.306Z"
   },
   {
    "duration": 9,
    "start_time": "2024-11-04T15:56:42.440Z"
   },
   {
    "duration": 13,
    "start_time": "2024-11-04T15:57:35.185Z"
   },
   {
    "duration": 9,
    "start_time": "2024-11-04T15:57:37.824Z"
   },
   {
    "duration": 18,
    "start_time": "2024-11-04T15:59:33.291Z"
   },
   {
    "duration": 8,
    "start_time": "2024-11-04T16:00:34.428Z"
   },
   {
    "duration": 676,
    "start_time": "2024-11-04T16:03:34.951Z"
   },
   {
    "duration": 108,
    "start_time": "2024-11-04T16:03:35.629Z"
   },
   {
    "duration": 26,
    "start_time": "2024-11-04T16:03:35.738Z"
   },
   {
    "duration": 1926,
    "start_time": "2024-11-04T16:03:35.766Z"
   },
   {
    "duration": 9,
    "start_time": "2024-11-04T16:03:37.694Z"
   },
   {
    "duration": 39,
    "start_time": "2024-11-04T16:03:37.705Z"
   },
   {
    "duration": 62,
    "start_time": "2024-11-04T16:03:37.746Z"
   },
   {
    "duration": 17,
    "start_time": "2024-11-04T16:03:37.810Z"
   },
   {
    "duration": 150,
    "start_time": "2024-11-04T16:03:37.828Z"
   },
   {
    "duration": 6,
    "start_time": "2024-11-04T16:03:37.980Z"
   },
   {
    "duration": 31,
    "start_time": "2024-11-04T16:03:37.987Z"
   },
   {
    "duration": 363,
    "start_time": "2024-11-04T16:03:38.020Z"
   },
   {
    "duration": 5,
    "start_time": "2024-11-04T16:03:38.384Z"
   },
   {
    "duration": 114,
    "start_time": "2024-11-04T16:03:38.390Z"
   },
   {
    "duration": 240,
    "start_time": "2024-11-04T16:03:38.505Z"
   },
   {
    "duration": 236,
    "start_time": "2024-11-04T16:03:38.747Z"
   },
   {
    "duration": 225,
    "start_time": "2024-11-04T16:03:38.985Z"
   },
   {
    "duration": 113,
    "start_time": "2024-11-04T16:03:39.212Z"
   },
   {
    "duration": 262,
    "start_time": "2024-11-04T16:03:39.327Z"
   },
   {
    "duration": 139,
    "start_time": "2024-11-04T16:03:39.590Z"
   },
   {
    "duration": 294,
    "start_time": "2024-11-04T16:03:39.731Z"
   },
   {
    "duration": 120,
    "start_time": "2024-11-04T16:03:40.027Z"
   },
   {
    "duration": 324,
    "start_time": "2024-11-04T16:03:40.149Z"
   },
   {
    "duration": 106,
    "start_time": "2024-11-04T16:03:40.474Z"
   },
   {
    "duration": 265,
    "start_time": "2024-11-04T16:03:40.582Z"
   },
   {
    "duration": 240,
    "start_time": "2024-11-04T16:03:40.849Z"
   },
   {
    "duration": 116,
    "start_time": "2024-11-04T16:03:41.090Z"
   },
   {
    "duration": 212,
    "start_time": "2024-11-04T16:03:41.210Z"
   },
   {
    "duration": 126,
    "start_time": "2024-11-04T16:03:41.424Z"
   },
   {
    "duration": 322,
    "start_time": "2024-11-04T16:03:41.551Z"
   },
   {
    "duration": 113,
    "start_time": "2024-11-04T16:03:41.875Z"
   },
   {
    "duration": 204,
    "start_time": "2024-11-04T16:03:41.990Z"
   },
   {
    "duration": 127,
    "start_time": "2024-11-04T16:03:42.196Z"
   },
   {
    "duration": 278,
    "start_time": "2024-11-04T16:03:42.324Z"
   },
   {
    "duration": 7,
    "start_time": "2024-11-04T16:03:42.603Z"
   },
   {
    "duration": 33,
    "start_time": "2024-11-04T16:03:42.611Z"
   },
   {
    "duration": 228,
    "start_time": "2024-11-04T16:03:42.646Z"
   },
   {
    "duration": 187,
    "start_time": "2024-11-04T16:03:42.876Z"
   },
   {
    "duration": 213,
    "start_time": "2024-11-04T16:03:43.065Z"
   },
   {
    "duration": 153,
    "start_time": "2024-11-04T16:03:43.280Z"
   },
   {
    "duration": 217,
    "start_time": "2024-11-04T16:03:43.434Z"
   },
   {
    "duration": 155,
    "start_time": "2024-11-04T16:03:43.653Z"
   },
   {
    "duration": 144,
    "start_time": "2024-11-04T16:03:43.809Z"
   },
   {
    "duration": 144,
    "start_time": "2024-11-04T16:03:43.955Z"
   },
   {
    "duration": 24,
    "start_time": "2024-11-04T16:03:44.100Z"
   },
   {
    "duration": 235,
    "start_time": "2024-11-04T16:03:44.125Z"
   },
   {
    "duration": 707,
    "start_time": "2024-11-04T17:06:14.295Z"
   },
   {
    "duration": 172,
    "start_time": "2024-11-04T17:06:15.438Z"
   },
   {
    "duration": 29,
    "start_time": "2024-11-04T17:06:16.639Z"
   },
   {
    "duration": 2057,
    "start_time": "2024-11-04T17:06:17.486Z"
   },
   {
    "duration": 11,
    "start_time": "2024-11-04T17:06:22.032Z"
   },
   {
    "duration": 9,
    "start_time": "2024-11-04T17:06:25.270Z"
   },
   {
    "duration": 58,
    "start_time": "2024-11-04T17:06:26.022Z"
   },
   {
    "duration": 449,
    "start_time": "2024-11-04T17:06:32.999Z"
   },
   {
    "duration": 66,
    "start_time": "2024-11-04T17:06:55.390Z"
   },
   {
    "duration": 76,
    "start_time": "2024-11-04T17:07:37.160Z"
   },
   {
    "duration": 70,
    "start_time": "2024-11-04T17:07:49.578Z"
   },
   {
    "duration": 403,
    "start_time": "2024-11-04T17:09:14.881Z"
   },
   {
    "duration": 386,
    "start_time": "2024-11-04T17:09:57.220Z"
   },
   {
    "duration": 400,
    "start_time": "2024-11-04T17:11:13.554Z"
   },
   {
    "duration": 379,
    "start_time": "2024-11-04T17:11:33.823Z"
   },
   {
    "duration": 365,
    "start_time": "2024-11-04T17:12:38.370Z"
   },
   {
    "duration": 480,
    "start_time": "2024-11-04T17:17:46.642Z"
   },
   {
    "duration": 376,
    "start_time": "2024-11-04T17:21:53.072Z"
   },
   {
    "duration": 473,
    "start_time": "2024-11-04T17:23:03.490Z"
   },
   {
    "duration": 467,
    "start_time": "2024-11-04T17:23:42.440Z"
   },
   {
    "duration": 367,
    "start_time": "2024-11-04T17:24:38.452Z"
   },
   {
    "duration": 2,
    "start_time": "2024-11-04T17:33:29.560Z"
   },
   {
    "duration": 121,
    "start_time": "2024-11-04T17:33:30.071Z"
   },
   {
    "duration": 25,
    "start_time": "2024-11-04T17:33:30.459Z"
   },
   {
    "duration": 1948,
    "start_time": "2024-11-04T17:33:30.979Z"
   },
   {
    "duration": 167,
    "start_time": "2024-11-04T17:33:32.929Z"
   },
   {
    "duration": 10,
    "start_time": "2024-11-04T17:33:33.319Z"
   },
   {
    "duration": 7,
    "start_time": "2024-11-04T17:34:38.667Z"
   },
   {
    "duration": 12,
    "start_time": "2024-11-04T17:34:42.538Z"
   },
   {
    "duration": 284,
    "start_time": "2024-11-04T17:36:29.459Z"
   },
   {
    "duration": 10,
    "start_time": "2024-11-04T17:36:41.890Z"
   },
   {
    "duration": 157,
    "start_time": "2024-11-04T17:37:04.959Z"
   },
   {
    "duration": 8,
    "start_time": "2024-11-04T17:37:05.931Z"
   },
   {
    "duration": 2,
    "start_time": "2024-11-04T17:37:07.550Z"
   },
   {
    "duration": 10,
    "start_time": "2024-11-04T17:37:08.818Z"
   },
   {
    "duration": 2,
    "start_time": "2024-11-04T17:37:21.110Z"
   },
   {
    "duration": 104,
    "start_time": "2024-11-04T17:37:21.590Z"
   },
   {
    "duration": 26,
    "start_time": "2024-11-04T17:37:22.132Z"
   },
   {
    "duration": 1928,
    "start_time": "2024-11-04T17:37:22.599Z"
   },
   {
    "duration": 158,
    "start_time": "2024-11-04T17:37:24.529Z"
   },
   {
    "duration": 9,
    "start_time": "2024-11-04T17:37:25.410Z"
   },
   {
    "duration": 2,
    "start_time": "2024-11-04T17:37:28.899Z"
   },
   {
    "duration": 10,
    "start_time": "2024-11-04T17:37:32.119Z"
   },
   {
    "duration": 3,
    "start_time": "2024-11-04T17:41:49.491Z"
   },
   {
    "duration": 106,
    "start_time": "2024-11-04T17:41:49.923Z"
   },
   {
    "duration": 26,
    "start_time": "2024-11-04T17:41:50.298Z"
   },
   {
    "duration": 1993,
    "start_time": "2024-11-04T17:41:50.748Z"
   },
   {
    "duration": 147,
    "start_time": "2024-11-04T17:41:52.743Z"
   },
   {
    "duration": 8,
    "start_time": "2024-11-04T17:41:52.991Z"
   },
   {
    "duration": 69,
    "start_time": "2024-11-04T17:41:54.683Z"
   },
   {
    "duration": 87,
    "start_time": "2024-11-04T17:43:05.511Z"
   },
   {
    "duration": 66,
    "start_time": "2024-11-04T17:44:17.951Z"
   },
   {
    "duration": 216,
    "start_time": "2024-11-04T17:44:35.931Z"
   },
   {
    "duration": 179,
    "start_time": "2024-11-04T17:45:54.143Z"
   },
   {
    "duration": 12,
    "start_time": "2024-11-04T17:45:56.532Z"
   },
   {
    "duration": 10,
    "start_time": "2024-11-04T17:46:02.033Z"
   },
   {
    "duration": 47,
    "start_time": "2024-11-04T17:46:03.951Z"
   },
   {
    "duration": 9,
    "start_time": "2024-11-04T17:46:22.650Z"
   },
   {
    "duration": 19,
    "start_time": "2024-11-04T17:47:38.919Z"
   },
   {
    "duration": 2,
    "start_time": "2024-11-04T17:51:14.872Z"
   },
   {
    "duration": 127,
    "start_time": "2024-11-04T17:51:14.876Z"
   },
   {
    "duration": 39,
    "start_time": "2024-11-04T17:51:15.005Z"
   },
   {
    "duration": 2046,
    "start_time": "2024-11-04T17:51:15.046Z"
   },
   {
    "duration": 10,
    "start_time": "2024-11-04T17:51:17.095Z"
   },
   {
    "duration": 19,
    "start_time": "2024-11-04T17:51:17.107Z"
   },
   {
    "duration": 43,
    "start_time": "2024-11-04T17:51:17.127Z"
   },
   {
    "duration": 14,
    "start_time": "2024-11-04T17:51:17.171Z"
   },
   {
    "duration": 162,
    "start_time": "2024-11-04T17:51:17.187Z"
   },
   {
    "duration": 4,
    "start_time": "2024-11-04T17:51:17.351Z"
   },
   {
    "duration": 16,
    "start_time": "2024-11-04T17:51:17.357Z"
   },
   {
    "duration": 346,
    "start_time": "2024-11-04T17:51:17.374Z"
   },
   {
    "duration": 4,
    "start_time": "2024-11-04T17:51:17.722Z"
   },
   {
    "duration": 211,
    "start_time": "2024-11-04T17:51:17.729Z"
   },
   {
    "duration": 277,
    "start_time": "2024-11-04T17:51:17.941Z"
   },
   {
    "duration": 137,
    "start_time": "2024-11-04T17:51:18.221Z"
   },
   {
    "duration": 248,
    "start_time": "2024-11-04T17:51:18.360Z"
   },
   {
    "duration": 116,
    "start_time": "2024-11-04T17:51:18.610Z"
   },
   {
    "duration": 264,
    "start_time": "2024-11-04T17:51:18.727Z"
   },
   {
    "duration": 137,
    "start_time": "2024-11-04T17:51:18.992Z"
   },
   {
    "duration": 332,
    "start_time": "2024-11-04T17:51:19.131Z"
   },
   {
    "duration": 133,
    "start_time": "2024-11-04T17:51:19.464Z"
   },
   {
    "duration": 284,
    "start_time": "2024-11-04T17:51:19.599Z"
   },
   {
    "duration": 111,
    "start_time": "2024-11-04T17:51:19.885Z"
   },
   {
    "duration": 276,
    "start_time": "2024-11-04T17:51:19.997Z"
   },
   {
    "duration": 245,
    "start_time": "2024-11-04T17:51:20.275Z"
   },
   {
    "duration": 119,
    "start_time": "2024-11-04T17:51:20.522Z"
   },
   {
    "duration": 214,
    "start_time": "2024-11-04T17:51:20.643Z"
   },
   {
    "duration": 202,
    "start_time": "2024-11-04T17:51:20.858Z"
   },
   {
    "duration": 280,
    "start_time": "2024-11-04T17:51:21.061Z"
   },
   {
    "duration": 114,
    "start_time": "2024-11-04T17:51:21.342Z"
   },
   {
    "duration": 217,
    "start_time": "2024-11-04T17:51:21.457Z"
   },
   {
    "duration": 139,
    "start_time": "2024-11-04T17:51:21.675Z"
   },
   {
    "duration": 279,
    "start_time": "2024-11-04T17:51:21.820Z"
   },
   {
    "duration": 6,
    "start_time": "2024-11-04T17:51:22.101Z"
   },
   {
    "duration": 7,
    "start_time": "2024-11-04T17:51:22.120Z"
   },
   {
    "duration": 209,
    "start_time": "2024-11-04T17:51:22.129Z"
   },
   {
    "duration": 208,
    "start_time": "2024-11-04T17:51:22.340Z"
   },
   {
    "duration": 296,
    "start_time": "2024-11-04T17:51:22.550Z"
   },
   {
    "duration": 157,
    "start_time": "2024-11-04T17:51:22.848Z"
   },
   {
    "duration": 147,
    "start_time": "2024-11-04T17:51:23.009Z"
   },
   {
    "duration": 170,
    "start_time": "2024-11-04T17:51:23.157Z"
   },
   {
    "duration": 156,
    "start_time": "2024-11-04T17:51:23.328Z"
   },
   {
    "duration": 154,
    "start_time": "2024-11-04T17:51:23.486Z"
   },
   {
    "duration": 25,
    "start_time": "2024-11-04T17:51:23.642Z"
   },
   {
    "duration": 206,
    "start_time": "2024-11-04T17:51:23.669Z"
   },
   {
    "duration": 3,
    "start_time": "2024-11-04T17:54:52.800Z"
   },
   {
    "duration": 116,
    "start_time": "2024-11-04T17:54:53.171Z"
   },
   {
    "duration": 28,
    "start_time": "2024-11-04T17:54:53.532Z"
   },
   {
    "duration": 2157,
    "start_time": "2024-11-04T17:54:54.039Z"
   },
   {
    "duration": 144,
    "start_time": "2024-11-04T17:54:57.912Z"
   },
   {
    "duration": 8,
    "start_time": "2024-11-04T17:54:58.812Z"
   },
   {
    "duration": 111,
    "start_time": "2024-11-04T17:54:59.887Z"
   },
   {
    "duration": 12,
    "start_time": "2024-11-04T17:55:02.151Z"
   },
   {
    "duration": 11,
    "start_time": "2024-11-04T17:55:34.011Z"
   },
   {
    "duration": 10,
    "start_time": "2024-11-04T17:55:35.331Z"
   },
   {
    "duration": 46,
    "start_time": "2024-11-04T17:55:36.412Z"
   },
   {
    "duration": 3,
    "start_time": "2024-11-04T17:56:08.471Z"
   },
   {
    "duration": 103,
    "start_time": "2024-11-04T17:56:08.803Z"
   },
   {
    "duration": 28,
    "start_time": "2024-11-04T17:56:09.152Z"
   },
   {
    "duration": 2108,
    "start_time": "2024-11-04T17:56:09.511Z"
   },
   {
    "duration": 161,
    "start_time": "2024-11-04T17:56:11.622Z"
   },
   {
    "duration": 10,
    "start_time": "2024-11-04T17:56:12.611Z"
   },
   {
    "duration": 193,
    "start_time": "2024-11-04T17:56:17.090Z"
   },
   {
    "duration": 12,
    "start_time": "2024-11-04T17:56:19.019Z"
   },
   {
    "duration": 100,
    "start_time": "2024-11-04T17:56:26.691Z"
   },
   {
    "duration": 4,
    "start_time": "2024-11-04T17:59:37.748Z"
   },
   {
    "duration": 121,
    "start_time": "2024-11-04T17:59:37.754Z"
   },
   {
    "duration": 27,
    "start_time": "2024-11-04T17:59:37.877Z"
   },
   {
    "duration": 2080,
    "start_time": "2024-11-04T17:59:37.905Z"
   },
   {
    "duration": 11,
    "start_time": "2024-11-04T17:59:39.988Z"
   },
   {
    "duration": 22,
    "start_time": "2024-11-04T17:59:40.001Z"
   },
   {
    "duration": 49,
    "start_time": "2024-11-04T17:59:40.025Z"
   },
   {
    "duration": 15,
    "start_time": "2024-11-04T17:59:40.075Z"
   },
   {
    "duration": 168,
    "start_time": "2024-11-04T17:59:40.092Z"
   },
   {
    "duration": 4,
    "start_time": "2024-11-04T17:59:40.262Z"
   },
   {
    "duration": 20,
    "start_time": "2024-11-04T17:59:40.267Z"
   },
   {
    "duration": 343,
    "start_time": "2024-11-04T17:59:40.289Z"
   },
   {
    "duration": 4,
    "start_time": "2024-11-04T17:59:40.633Z"
   },
   {
    "duration": 114,
    "start_time": "2024-11-04T17:59:40.642Z"
   },
   {
    "duration": 253,
    "start_time": "2024-11-04T17:59:40.758Z"
   },
   {
    "duration": 133,
    "start_time": "2024-11-04T17:59:41.013Z"
   },
   {
    "duration": 399,
    "start_time": "2024-11-04T17:59:41.149Z"
   },
   {
    "duration": 128,
    "start_time": "2024-11-04T17:59:41.550Z"
   },
   {
    "duration": 295,
    "start_time": "2024-11-04T17:59:41.681Z"
   },
   {
    "duration": 143,
    "start_time": "2024-11-04T17:59:41.977Z"
   },
   {
    "duration": 245,
    "start_time": "2024-11-04T17:59:42.122Z"
   },
   {
    "duration": 127,
    "start_time": "2024-11-04T17:59:42.369Z"
   },
   {
    "duration": 277,
    "start_time": "2024-11-04T17:59:42.498Z"
   },
   {
    "duration": 116,
    "start_time": "2024-11-04T17:59:42.777Z"
   },
   {
    "duration": 398,
    "start_time": "2024-11-04T17:59:42.895Z"
   },
   {
    "duration": 257,
    "start_time": "2024-11-04T17:59:43.295Z"
   },
   {
    "duration": 123,
    "start_time": "2024-11-04T17:59:43.554Z"
   },
   {
    "duration": 218,
    "start_time": "2024-11-04T17:59:43.679Z"
   },
   {
    "duration": 123,
    "start_time": "2024-11-04T17:59:43.899Z"
   },
   {
    "duration": 257,
    "start_time": "2024-11-04T17:59:44.023Z"
   },
   {
    "duration": 123,
    "start_time": "2024-11-04T17:59:44.282Z"
   },
   {
    "duration": 241,
    "start_time": "2024-11-04T17:59:44.407Z"
   },
   {
    "duration": 133,
    "start_time": "2024-11-04T17:59:44.649Z"
   },
   {
    "duration": 445,
    "start_time": "2024-11-04T17:59:44.784Z"
   },
   {
    "duration": 7,
    "start_time": "2024-11-04T17:59:45.230Z"
   },
   {
    "duration": 18,
    "start_time": "2024-11-04T17:59:45.239Z"
   },
   {
    "duration": 238,
    "start_time": "2024-11-04T17:59:45.259Z"
   },
   {
    "duration": 221,
    "start_time": "2024-11-04T17:59:45.499Z"
   },
   {
    "duration": 225,
    "start_time": "2024-11-04T17:59:45.722Z"
   },
   {
    "duration": 158,
    "start_time": "2024-11-04T17:59:45.949Z"
   },
   {
    "duration": 142,
    "start_time": "2024-11-04T17:59:46.111Z"
   },
   {
    "duration": 167,
    "start_time": "2024-11-04T17:59:46.255Z"
   },
   {
    "duration": 149,
    "start_time": "2024-11-04T17:59:46.424Z"
   },
   {
    "duration": 153,
    "start_time": "2024-11-04T17:59:46.575Z"
   },
   {
    "duration": 24,
    "start_time": "2024-11-04T17:59:46.730Z"
   },
   {
    "duration": 203,
    "start_time": "2024-11-04T17:59:46.756Z"
   },
   {
    "duration": 4,
    "start_time": "2024-11-04T18:05:00.521Z"
   },
   {
    "duration": 140,
    "start_time": "2024-11-04T18:05:00.527Z"
   },
   {
    "duration": 28,
    "start_time": "2024-11-04T18:05:00.668Z"
   },
   {
    "duration": 2129,
    "start_time": "2024-11-04T18:05:00.697Z"
   },
   {
    "duration": 11,
    "start_time": "2024-11-04T18:05:02.830Z"
   },
   {
    "duration": 10,
    "start_time": "2024-11-04T18:05:02.843Z"
   },
   {
    "duration": 67,
    "start_time": "2024-11-04T18:05:02.854Z"
   },
   {
    "duration": 15,
    "start_time": "2024-11-04T18:05:02.923Z"
   },
   {
    "duration": 164,
    "start_time": "2024-11-04T18:05:02.940Z"
   },
   {
    "duration": 5,
    "start_time": "2024-11-04T18:05:03.106Z"
   },
   {
    "duration": 54,
    "start_time": "2024-11-04T18:05:03.120Z"
   },
   {
    "duration": 339,
    "start_time": "2024-11-04T18:05:03.176Z"
   },
   {
    "duration": 6,
    "start_time": "2024-11-04T18:05:03.517Z"
   },
   {
    "duration": 138,
    "start_time": "2024-11-04T18:05:03.525Z"
   },
   {
    "duration": 277,
    "start_time": "2024-11-04T18:05:03.665Z"
   },
   {
    "duration": 128,
    "start_time": "2024-11-04T18:05:03.944Z"
   },
   {
    "duration": 433,
    "start_time": "2024-11-04T18:05:04.074Z"
   },
   {
    "duration": 131,
    "start_time": "2024-11-04T18:05:04.508Z"
   },
   {
    "duration": 295,
    "start_time": "2024-11-04T18:05:04.641Z"
   },
   {
    "duration": 147,
    "start_time": "2024-11-04T18:05:04.937Z"
   },
   {
    "duration": 255,
    "start_time": "2024-11-04T18:05:05.086Z"
   },
   {
    "duration": 127,
    "start_time": "2024-11-04T18:05:05.342Z"
   },
   {
    "duration": 267,
    "start_time": "2024-11-04T18:05:05.471Z"
   },
   {
    "duration": 123,
    "start_time": "2024-11-04T18:05:05.740Z"
   },
   {
    "duration": 298,
    "start_time": "2024-11-04T18:05:05.865Z"
   },
   {
    "duration": 279,
    "start_time": "2024-11-04T18:05:06.165Z"
   },
   {
    "duration": 277,
    "start_time": "2024-11-04T18:05:06.446Z"
   },
   {
    "duration": 222,
    "start_time": "2024-11-04T18:05:06.725Z"
   },
   {
    "duration": 121,
    "start_time": "2024-11-04T18:05:06.949Z"
   },
   {
    "duration": 269,
    "start_time": "2024-11-04T18:05:07.072Z"
   },
   {
    "duration": 119,
    "start_time": "2024-11-04T18:05:07.342Z"
   },
   {
    "duration": 236,
    "start_time": "2024-11-04T18:05:07.463Z"
   },
   {
    "duration": 147,
    "start_time": "2024-11-04T18:05:07.701Z"
   },
   {
    "duration": 284,
    "start_time": "2024-11-04T18:05:07.852Z"
   },
   {
    "duration": 7,
    "start_time": "2024-11-04T18:05:08.137Z"
   },
   {
    "duration": 12,
    "start_time": "2024-11-04T18:05:08.145Z"
   },
   {
    "duration": 208,
    "start_time": "2024-11-04T18:05:08.158Z"
   },
   {
    "duration": 201,
    "start_time": "2024-11-04T18:05:08.368Z"
   },
   {
    "duration": 202,
    "start_time": "2024-11-04T18:05:08.571Z"
   },
   {
    "duration": 167,
    "start_time": "2024-11-04T18:05:08.775Z"
   },
   {
    "duration": 150,
    "start_time": "2024-11-04T18:05:08.947Z"
   },
   {
    "duration": 170,
    "start_time": "2024-11-04T18:05:09.099Z"
   },
   {
    "duration": 158,
    "start_time": "2024-11-04T18:05:09.271Z"
   },
   {
    "duration": 152,
    "start_time": "2024-11-04T18:05:09.431Z"
   },
   {
    "duration": 37,
    "start_time": "2024-11-04T18:05:09.585Z"
   },
   {
    "duration": 189,
    "start_time": "2024-11-04T18:05:09.623Z"
   },
   {
    "duration": 812,
    "start_time": "2024-11-04T18:56:28.745Z"
   },
   {
    "duration": 176,
    "start_time": "2024-11-04T18:56:29.559Z"
   },
   {
    "duration": 28,
    "start_time": "2024-11-04T18:56:29.736Z"
   },
   {
    "duration": 1957,
    "start_time": "2024-11-04T18:56:29.766Z"
   },
   {
    "duration": 11,
    "start_time": "2024-11-04T18:56:31.724Z"
   },
   {
    "duration": 22,
    "start_time": "2024-11-04T18:56:31.737Z"
   },
   {
    "duration": 150,
    "start_time": "2024-11-04T18:56:31.761Z"
   },
   {
    "duration": 139,
    "start_time": "2024-11-04T18:56:31.913Z"
   },
   {
    "duration": 12,
    "start_time": "2024-11-04T18:56:32.054Z"
   },
   {
    "duration": 4,
    "start_time": "2024-11-04T18:56:32.069Z"
   },
   {
    "duration": 23,
    "start_time": "2024-11-04T18:56:32.074Z"
   },
   {
    "duration": 337,
    "start_time": "2024-11-04T18:56:32.099Z"
   },
   {
    "duration": 5,
    "start_time": "2024-11-04T18:56:32.438Z"
   },
   {
    "duration": 105,
    "start_time": "2024-11-04T18:56:32.444Z"
   },
   {
    "duration": 309,
    "start_time": "2024-11-04T18:56:32.550Z"
   },
   {
    "duration": 114,
    "start_time": "2024-11-04T18:56:32.861Z"
   },
   {
    "duration": 218,
    "start_time": "2024-11-04T18:56:32.977Z"
   },
   {
    "duration": 123,
    "start_time": "2024-11-04T18:56:33.197Z"
   },
   {
    "duration": 251,
    "start_time": "2024-11-04T18:56:33.322Z"
   },
   {
    "duration": 128,
    "start_time": "2024-11-04T18:56:33.575Z"
   },
   {
    "duration": 242,
    "start_time": "2024-11-04T18:56:33.704Z"
   },
   {
    "duration": 115,
    "start_time": "2024-11-04T18:56:33.947Z"
   },
   {
    "duration": 315,
    "start_time": "2024-11-04T18:56:34.064Z"
   },
   {
    "duration": 102,
    "start_time": "2024-11-04T18:56:34.381Z"
   },
   {
    "duration": 251,
    "start_time": "2024-11-04T18:56:34.484Z"
   },
   {
    "duration": 245,
    "start_time": "2024-11-04T18:56:34.736Z"
   },
   {
    "duration": 109,
    "start_time": "2024-11-04T18:56:34.983Z"
   },
   {
    "duration": 210,
    "start_time": "2024-11-04T18:56:35.095Z"
   },
   {
    "duration": 119,
    "start_time": "2024-11-04T18:56:35.306Z"
   },
   {
    "duration": 327,
    "start_time": "2024-11-04T18:56:35.426Z"
   },
   {
    "duration": 108,
    "start_time": "2024-11-04T18:56:35.754Z"
   },
   {
    "duration": 201,
    "start_time": "2024-11-04T18:56:35.863Z"
   },
   {
    "duration": 122,
    "start_time": "2024-11-04T18:56:36.066Z"
   },
   {
    "duration": 275,
    "start_time": "2024-11-04T18:56:36.190Z"
   },
   {
    "duration": 7,
    "start_time": "2024-11-04T18:56:36.467Z"
   },
   {
    "duration": 23,
    "start_time": "2024-11-04T18:56:36.476Z"
   },
   {
    "duration": 184,
    "start_time": "2024-11-04T18:56:36.501Z"
   },
   {
    "duration": 195,
    "start_time": "2024-11-04T18:56:36.687Z"
   },
   {
    "duration": 190,
    "start_time": "2024-11-04T18:56:36.884Z"
   },
   {
    "duration": 235,
    "start_time": "2024-11-04T18:56:37.076Z"
   },
   {
    "duration": 132,
    "start_time": "2024-11-04T18:56:37.312Z"
   },
   {
    "duration": 147,
    "start_time": "2024-11-04T18:56:37.446Z"
   },
   {
    "duration": 149,
    "start_time": "2024-11-04T18:56:37.595Z"
   },
   {
    "duration": 142,
    "start_time": "2024-11-04T18:56:37.746Z"
   },
   {
    "duration": 23,
    "start_time": "2024-11-04T18:56:37.890Z"
   },
   {
    "duration": 179,
    "start_time": "2024-11-04T18:56:37.914Z"
   },
   {
    "duration": 179,
    "start_time": "2024-11-04T19:02:17.303Z"
   },
   {
    "duration": 651,
    "start_time": "2024-11-04T19:07:03.470Z"
   },
   {
    "duration": 140,
    "start_time": "2024-11-04T19:07:04.124Z"
   },
   {
    "duration": 36,
    "start_time": "2024-11-04T19:07:04.266Z"
   },
   {
    "duration": 2003,
    "start_time": "2024-11-04T19:07:04.304Z"
   },
   {
    "duration": 10,
    "start_time": "2024-11-04T19:07:06.309Z"
   },
   {
    "duration": 176,
    "start_time": "2024-11-04T19:07:06.320Z"
   },
   {
    "duration": 167,
    "start_time": "2024-11-04T19:07:06.497Z"
   },
   {
    "duration": 14,
    "start_time": "2024-11-04T19:07:06.665Z"
   },
   {
    "duration": 27,
    "start_time": "2024-11-04T19:07:06.680Z"
   },
   {
    "duration": 140,
    "start_time": "2024-11-04T19:07:06.710Z"
   },
   {
    "duration": 414,
    "start_time": "2024-11-04T19:07:06.851Z"
   },
   {
    "duration": 5,
    "start_time": "2024-11-04T19:07:07.266Z"
   },
   {
    "duration": 148,
    "start_time": "2024-11-04T19:07:07.272Z"
   },
   {
    "duration": 255,
    "start_time": "2024-11-04T19:07:07.422Z"
   },
   {
    "duration": 223,
    "start_time": "2024-11-04T19:07:07.679Z"
   },
   {
    "duration": 233,
    "start_time": "2024-11-04T19:07:07.903Z"
   },
   {
    "duration": 113,
    "start_time": "2024-11-04T19:07:08.138Z"
   },
   {
    "duration": 257,
    "start_time": "2024-11-04T19:07:08.252Z"
   },
   {
    "duration": 146,
    "start_time": "2024-11-04T19:07:08.511Z"
   },
   {
    "duration": 245,
    "start_time": "2024-11-04T19:07:08.659Z"
   },
   {
    "duration": 123,
    "start_time": "2024-11-04T19:07:08.906Z"
   },
   {
    "duration": 320,
    "start_time": "2024-11-04T19:07:09.031Z"
   },
   {
    "duration": 105,
    "start_time": "2024-11-04T19:07:09.353Z"
   },
   {
    "duration": 254,
    "start_time": "2024-11-04T19:07:09.459Z"
   },
   {
    "duration": 262,
    "start_time": "2024-11-04T19:07:09.715Z"
   },
   {
    "duration": 119,
    "start_time": "2024-11-04T19:07:09.979Z"
   },
   {
    "duration": 201,
    "start_time": "2024-11-04T19:07:10.100Z"
   },
   {
    "duration": 131,
    "start_time": "2024-11-04T19:07:10.306Z"
   },
   {
    "duration": 329,
    "start_time": "2024-11-04T19:07:10.443Z"
   },
   {
    "duration": 106,
    "start_time": "2024-11-04T19:07:10.774Z"
   },
   {
    "duration": 199,
    "start_time": "2024-11-04T19:07:10.882Z"
   },
   {
    "duration": 122,
    "start_time": "2024-11-04T19:07:11.082Z"
   },
   {
    "duration": 255,
    "start_time": "2024-11-04T19:07:11.205Z"
   },
   {
    "duration": 6,
    "start_time": "2024-11-04T19:07:11.462Z"
   },
   {
    "duration": 8,
    "start_time": "2024-11-04T19:07:11.469Z"
   },
   {
    "duration": 193,
    "start_time": "2024-11-04T19:07:11.478Z"
   },
   {
    "duration": 188,
    "start_time": "2024-11-04T19:07:11.672Z"
   },
   {
    "duration": 196,
    "start_time": "2024-11-04T19:07:11.862Z"
   },
   {
    "duration": 176,
    "start_time": "2024-11-04T19:07:12.060Z"
   },
   {
    "duration": 229,
    "start_time": "2024-11-04T19:07:12.237Z"
   },
   {
    "duration": 156,
    "start_time": "2024-11-04T19:07:12.467Z"
   },
   {
    "duration": 152,
    "start_time": "2024-11-04T19:07:12.625Z"
   },
   {
    "duration": 145,
    "start_time": "2024-11-04T19:07:12.779Z"
   },
   {
    "duration": 32,
    "start_time": "2024-11-04T19:07:12.925Z"
   },
   {
    "duration": 171,
    "start_time": "2024-11-04T19:07:12.959Z"
   },
   {
    "duration": 864,
    "start_time": "2024-11-21T21:10:36.124Z"
   },
   {
    "duration": 181,
    "start_time": "2024-11-21T21:10:36.990Z"
   },
   {
    "duration": 31,
    "start_time": "2024-11-21T21:10:37.173Z"
   },
   {
    "duration": 2105,
    "start_time": "2024-11-21T21:10:37.206Z"
   },
   {
    "duration": 10,
    "start_time": "2024-11-21T21:10:39.314Z"
   },
   {
    "duration": 158,
    "start_time": "2024-11-21T21:10:39.325Z"
   },
   {
    "duration": 155,
    "start_time": "2024-11-21T21:10:39.485Z"
   },
   {
    "duration": 16,
    "start_time": "2024-11-21T21:10:39.641Z"
   },
   {
    "duration": 4,
    "start_time": "2024-11-21T21:10:39.659Z"
   },
   {
    "duration": 34,
    "start_time": "2024-11-21T21:10:39.664Z"
   },
   {
    "duration": 371,
    "start_time": "2024-11-21T21:10:39.700Z"
   },
   {
    "duration": 4,
    "start_time": "2024-11-21T21:10:40.073Z"
   },
   {
    "duration": 148,
    "start_time": "2024-11-21T21:10:40.079Z"
   },
   {
    "duration": 342,
    "start_time": "2024-11-21T21:10:40.230Z"
   },
   {
    "duration": 125,
    "start_time": "2024-11-21T21:10:40.575Z"
   },
   {
    "duration": 238,
    "start_time": "2024-11-21T21:10:40.702Z"
   },
   {
    "duration": 121,
    "start_time": "2024-11-21T21:10:40.942Z"
   },
   {
    "duration": 259,
    "start_time": "2024-11-21T21:10:41.064Z"
   },
   {
    "duration": 139,
    "start_time": "2024-11-21T21:10:41.325Z"
   },
   {
    "duration": 269,
    "start_time": "2024-11-21T21:10:41.465Z"
   },
   {
    "duration": 139,
    "start_time": "2024-11-21T21:10:41.736Z"
   },
   {
    "duration": 366,
    "start_time": "2024-11-21T21:10:41.877Z"
   },
   {
    "duration": 120,
    "start_time": "2024-11-21T21:10:42.244Z"
   },
   {
    "duration": 275,
    "start_time": "2024-11-21T21:10:42.365Z"
   },
   {
    "duration": 247,
    "start_time": "2024-11-21T21:10:42.642Z"
   },
   {
    "duration": 126,
    "start_time": "2024-11-21T21:10:42.891Z"
   },
   {
    "duration": 216,
    "start_time": "2024-11-21T21:10:43.021Z"
   },
   {
    "duration": 134,
    "start_time": "2024-11-21T21:10:43.239Z"
   },
   {
    "duration": 339,
    "start_time": "2024-11-21T21:10:43.375Z"
   },
   {
    "duration": 124,
    "start_time": "2024-11-21T21:10:43.716Z"
   },
   {
    "duration": 222,
    "start_time": "2024-11-21T21:10:43.841Z"
   },
   {
    "duration": 139,
    "start_time": "2024-11-21T21:10:44.064Z"
   },
   {
    "duration": 302,
    "start_time": "2024-11-21T21:10:44.205Z"
   },
   {
    "duration": 13,
    "start_time": "2024-11-21T21:10:44.509Z"
   },
   {
    "duration": 8,
    "start_time": "2024-11-21T21:10:44.523Z"
   },
   {
    "duration": 241,
    "start_time": "2024-11-21T21:10:44.533Z"
   },
   {
    "duration": 213,
    "start_time": "2024-11-21T21:10:44.775Z"
   },
   {
    "duration": 244,
    "start_time": "2024-11-21T21:10:44.990Z"
   },
   {
    "duration": 248,
    "start_time": "2024-11-21T21:10:45.235Z"
   },
   {
    "duration": 145,
    "start_time": "2024-11-21T21:10:45.485Z"
   },
   {
    "duration": 164,
    "start_time": "2024-11-21T21:10:45.633Z"
   },
   {
    "duration": 169,
    "start_time": "2024-11-21T21:10:45.799Z"
   },
   {
    "duration": 156,
    "start_time": "2024-11-21T21:10:45.969Z"
   },
   {
    "duration": 25,
    "start_time": "2024-11-21T21:10:46.127Z"
   },
   {
    "duration": 206,
    "start_time": "2024-11-21T21:10:46.155Z"
   }
  ],
  "colab": {
   "provenance": []
  },
  "kernelspec": {
   "display_name": "Python 3 (ipykernel)",
   "language": "python",
   "name": "python3"
  },
  "language_info": {
   "codemirror_mode": {
    "name": "ipython",
    "version": 3
   },
   "file_extension": ".py",
   "mimetype": "text/x-python",
   "name": "python",
   "nbconvert_exporter": "python",
   "pygments_lexer": "ipython3",
   "version": "3.11.5"
  },
  "toc": {
   "base_numbering": 1,
   "nav_menu": {},
   "number_sections": true,
   "sideBar": true,
   "skip_h1_title": true,
   "title_cell": "Table of Contents",
   "title_sidebar": "Contents",
   "toc_cell": false,
   "toc_position": {},
   "toc_section_display": true,
   "toc_window_display": false
  }
 },
 "nbformat": 4,
 "nbformat_minor": 4
}
