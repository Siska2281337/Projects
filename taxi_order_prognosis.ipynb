{
 "cells": [
  {
   "cell_type": "markdown",
   "metadata": {
    "toc": true
   },
   "source": [
    "<h1>Содержание<span class=\"tocSkip\"></span></h1>\n",
    "<div class=\"toc\"><ul class=\"toc-item\"><li><span><a href=\"#Подготовка\" data-toc-modified-id=\"Подготовка-1\"><span class=\"toc-item-num\">1&nbsp;&nbsp;</span>Подготовка</a></span></li><li><span><a href=\"#Анализ\" data-toc-modified-id=\"Анализ-2\"><span class=\"toc-item-num\">2&nbsp;&nbsp;</span>Анализ</a></span></li><li><span><a href=\"#Обучение\" data-toc-modified-id=\"Обучение-3\"><span class=\"toc-item-num\">3&nbsp;&nbsp;</span>Обучение</a></span><ul class=\"toc-item\"><li><span><a href=\"#Добавление-признаков\" data-toc-modified-id=\"Добавление-признаков-3.1\"><span class=\"toc-item-num\">3.1&nbsp;&nbsp;</span>Добавление признаков</a></span></li><li><span><a href=\"#Обучение-моделей\" data-toc-modified-id=\"Обучение-моделей-3.2\"><span class=\"toc-item-num\">3.2&nbsp;&nbsp;</span>Обучение моделей</a></span><ul class=\"toc-item\"><li><span><a href=\"#Линейная-регрессия\" data-toc-modified-id=\"Линейная-регрессия-3.2.1\"><span class=\"toc-item-num\">3.2.1&nbsp;&nbsp;</span>Линейная регрессия</a></span></li><li><span><a href=\"#LightGBM\" data-toc-modified-id=\"LightGBM-3.2.2\"><span class=\"toc-item-num\">3.2.2&nbsp;&nbsp;</span>LightGBM</a></span></li><li><span><a href=\"#DecisionTreeRegressor\" data-toc-modified-id=\"DecisionTreeRegressor-3.2.3\"><span class=\"toc-item-num\">3.2.3&nbsp;&nbsp;</span>DecisionTreeRegressor</a></span></li><li><span><a href=\"#CatBoost\" data-toc-modified-id=\"CatBoost-3.2.4\"><span class=\"toc-item-num\">3.2.4&nbsp;&nbsp;</span>CatBoost</a></span></li></ul></li><li><span><a href=\"#Результаты-тренировочных-выборок\" data-toc-modified-id=\"Результаты-тренировочных-выборок-3.3\"><span class=\"toc-item-num\">3.3&nbsp;&nbsp;</span>Результаты тренировочных выборок</a></span></li></ul></li><li><span><a href=\"#Тестирование\" data-toc-modified-id=\"Тестирование-4\"><span class=\"toc-item-num\">4&nbsp;&nbsp;</span>Тестирование</a></span></li><li><span><a href=\"#Вывод\" data-toc-modified-id=\"Вывод-5\"><span class=\"toc-item-num\">5&nbsp;&nbsp;</span>Вывод</a></span></li><li><span><a href=\"#Чек-лист-проверки\" data-toc-modified-id=\"Чек-лист-проверки-6\"><span class=\"toc-item-num\">6&nbsp;&nbsp;</span>Чек-лист проверки</a></span></li></ul></div>"
   ]
  },
  {
   "cell_type": "markdown",
   "metadata": {},
   "source": [
    "#  Прогнозирование заказов такси"
   ]
  },
  {
   "cell_type": "markdown",
   "metadata": {},
   "source": [
    "Компания «Чётенькое такси» собрала исторические данные о заказах такси в аэропортах. Чтобы привлекать больше водителей в период пиковой нагрузки, нужно спрогнозировать количество заказов такси на следующий час. Постройте модель для такого предсказания.\n",
    "\n",
    "Значение метрики *RMSE* на тестовой выборке должно быть не больше 48.\n",
    "\n",
    "Вам нужно:\n",
    "\n",
    "1. Загрузить данные и выполнить их ресемплирование по одному часу.\n",
    "2. Проанализировать данные.\n",
    "3. Обучить разные модели с различными гиперпараметрами. Сделать тестовую выборку размером 10% от исходных данных.\n",
    "4. Проверить данные на тестовой выборке и сделать выводы.\n",
    "\n",
    "\n",
    "Данные лежат в файле `taxi.csv`. Количество заказов находится в столбце `num_orders` (от англ. *number of orders*, «число заказов»)."
   ]
  },
  {
   "cell_type": "code",
   "execution_count": 1,
   "metadata": {},
   "outputs": [],
   "source": [
    "!pip install -Uq scikit-learn"
   ]
  },
  {
   "cell_type": "code",
   "execution_count": 2,
   "metadata": {},
   "outputs": [],
   "source": [
    "import pandas as pd\n",
    "import seaborn as sns\n",
    "import numpy as np\n",
    "from matplotlib import pyplot as plt\n",
    "from statsmodels.tsa.seasonal import seasonal_decompose\n",
    "from sklearn.model_selection import train_test_split\n",
    "from sklearn.metrics import mean_squared_error\n",
    "from sklearn.linear_model import LinearRegression\n",
    "from sklearn.tree import DecisionTreeRegressor\n",
    "from catboost import CatBoostRegressor\n",
    "from sklearn.model_selection import TimeSeriesSplit, GridSearchCV, cross_val_score\n",
    "import lightgbm as lgb\n",
    "import warnings\n",
    "warnings.filterwarnings('ignore')"
   ]
  },
  {
   "cell_type": "markdown",
   "metadata": {},
   "source": [
    "## Подготовка"
   ]
  },
  {
   "cell_type": "code",
   "execution_count": 3,
   "metadata": {},
   "outputs": [],
   "source": [
    "sns.set(rc={'figure.figsize':(15,4)})\n",
    "def lineplot(data, title):\n",
    "    data.plot()\n",
    "    plt.title(title)\n",
    "    plt.show()"
   ]
  },
  {
   "cell_type": "code",
   "execution_count": 4,
   "metadata": {},
   "outputs": [],
   "source": [
    "data = pd.read_csv('/datasets/taxi.csv', index_col='datetime', parse_dates=[0])"
   ]
  },
  {
   "cell_type": "code",
   "execution_count": 5,
   "metadata": {},
   "outputs": [
    {
     "data": {
      "text/html": [
       "<div>\n",
       "<style scoped>\n",
       "    .dataframe tbody tr th:only-of-type {\n",
       "        vertical-align: middle;\n",
       "    }\n",
       "\n",
       "    .dataframe tbody tr th {\n",
       "        vertical-align: top;\n",
       "    }\n",
       "\n",
       "    .dataframe thead th {\n",
       "        text-align: right;\n",
       "    }\n",
       "</style>\n",
       "<table border=\"1\" class=\"dataframe\">\n",
       "  <thead>\n",
       "    <tr style=\"text-align: right;\">\n",
       "      <th></th>\n",
       "      <th>num_orders</th>\n",
       "    </tr>\n",
       "    <tr>\n",
       "      <th>datetime</th>\n",
       "      <th></th>\n",
       "    </tr>\n",
       "  </thead>\n",
       "  <tbody>\n",
       "    <tr>\n",
       "      <th>2018-03-01 00:00:00</th>\n",
       "      <td>9</td>\n",
       "    </tr>\n",
       "    <tr>\n",
       "      <th>2018-03-01 00:10:00</th>\n",
       "      <td>14</td>\n",
       "    </tr>\n",
       "    <tr>\n",
       "      <th>2018-03-01 00:20:00</th>\n",
       "      <td>28</td>\n",
       "    </tr>\n",
       "    <tr>\n",
       "      <th>2018-03-01 00:30:00</th>\n",
       "      <td>20</td>\n",
       "    </tr>\n",
       "    <tr>\n",
       "      <th>2018-03-01 00:40:00</th>\n",
       "      <td>32</td>\n",
       "    </tr>\n",
       "  </tbody>\n",
       "</table>\n",
       "</div>"
      ],
      "text/plain": [
       "                     num_orders\n",
       "datetime                       \n",
       "2018-03-01 00:00:00           9\n",
       "2018-03-01 00:10:00          14\n",
       "2018-03-01 00:20:00          28\n",
       "2018-03-01 00:30:00          20\n",
       "2018-03-01 00:40:00          32"
      ]
     },
     "execution_count": 5,
     "metadata": {},
     "output_type": "execute_result"
    }
   ],
   "source": [
    "data.head()"
   ]
  },
  {
   "cell_type": "code",
   "execution_count": 6,
   "metadata": {},
   "outputs": [
    {
     "data": {
      "text/html": [
       "<div>\n",
       "<style scoped>\n",
       "    .dataframe tbody tr th:only-of-type {\n",
       "        vertical-align: middle;\n",
       "    }\n",
       "\n",
       "    .dataframe tbody tr th {\n",
       "        vertical-align: top;\n",
       "    }\n",
       "\n",
       "    .dataframe thead th {\n",
       "        text-align: right;\n",
       "    }\n",
       "</style>\n",
       "<table border=\"1\" class=\"dataframe\">\n",
       "  <thead>\n",
       "    <tr style=\"text-align: right;\">\n",
       "      <th></th>\n",
       "      <th>num_orders</th>\n",
       "    </tr>\n",
       "    <tr>\n",
       "      <th>datetime</th>\n",
       "      <th></th>\n",
       "    </tr>\n",
       "  </thead>\n",
       "  <tbody>\n",
       "    <tr>\n",
       "      <th>2018-08-31 23:10:00</th>\n",
       "      <td>32</td>\n",
       "    </tr>\n",
       "    <tr>\n",
       "      <th>2018-08-31 23:20:00</th>\n",
       "      <td>24</td>\n",
       "    </tr>\n",
       "    <tr>\n",
       "      <th>2018-08-31 23:30:00</th>\n",
       "      <td>27</td>\n",
       "    </tr>\n",
       "    <tr>\n",
       "      <th>2018-08-31 23:40:00</th>\n",
       "      <td>39</td>\n",
       "    </tr>\n",
       "    <tr>\n",
       "      <th>2018-08-31 23:50:00</th>\n",
       "      <td>53</td>\n",
       "    </tr>\n",
       "  </tbody>\n",
       "</table>\n",
       "</div>"
      ],
      "text/plain": [
       "                     num_orders\n",
       "datetime                       \n",
       "2018-08-31 23:10:00          32\n",
       "2018-08-31 23:20:00          24\n",
       "2018-08-31 23:30:00          27\n",
       "2018-08-31 23:40:00          39\n",
       "2018-08-31 23:50:00          53"
      ]
     },
     "execution_count": 6,
     "metadata": {},
     "output_type": "execute_result"
    }
   ],
   "source": [
    "data.tail()"
   ]
  },
  {
   "cell_type": "code",
   "execution_count": 7,
   "metadata": {},
   "outputs": [
    {
     "data": {
      "text/plain": [
       "(26496, 1)"
      ]
     },
     "execution_count": 7,
     "metadata": {},
     "output_type": "execute_result"
    }
   ],
   "source": [
    "data.shape"
   ]
  },
  {
   "cell_type": "markdown",
   "metadata": {},
   "source": [
    "<b>Датасет состоит из 26496 строк и 1 столбца после преобразований.</b>"
   ]
  },
  {
   "cell_type": "markdown",
   "metadata": {},
   "source": [
    "<b>Осуществим ресемплирование по одному часу</b>"
   ]
  },
  {
   "cell_type": "code",
   "execution_count": 8,
   "metadata": {},
   "outputs": [],
   "source": [
    "data = data.sort_index()\n",
    "data = data.resample('1H').sum()"
   ]
  },
  {
   "cell_type": "markdown",
   "metadata": {},
   "source": [
    "## Анализ"
   ]
  },
  {
   "cell_type": "markdown",
   "metadata": {},
   "source": [
    "<b>Посмотрим на тренд, сезонность и остаток датасета, построим для них графики. Возьмём последний месяц, посмотрим эти характеристики на нём</b>"
   ]
  },
  {
   "cell_type": "markdown",
   "metadata": {},
   "source": [
    "<div class=\"alert alert-info\">\n",
    "Это характеристики за август\n",
    "</div>"
   ]
  },
  {
   "cell_type": "code",
   "execution_count": 9,
   "metadata": {},
   "outputs": [
    {
     "data": {
      "image/png": "[encoded data removed]",
      "text/plain": [
       "<Figure size 864x864 with 3 Axes>"
      ]
     },
     "metadata": {},
     "output_type": "display_data"
    }
   ],
   "source": [
    "plt.style.use('ggplot')\n",
    "decomposed = seasonal_decompose(data['2018-08':'2018-08'])\n",
    "plt.figure(figsize=(12, 12))\n",
    "plt.subplot(311)\n",
    "\n",
    "decomposed.trend.plot(ax=plt.gca())\n",
    "plt.title('Trend')\n",
    "plt.subplot(312)\n",
    "decomposed.seasonal.plot(ax=plt.gca())\n",
    "\n",
    "plt.title('Seasonality')\n",
    "plt.subplot(313)\n",
    "decomposed.resid.plot(ax=plt.gca())\n",
    "\n",
    "plt.title('Residuals')\n",
    "plt.tight_layout()"
   ]
  },
  {
   "cell_type": "markdown",
   "metadata": {},
   "source": [
    "<b>\n",
    "   Тренд показывает, что количество заказов равномерно растёт с небольшими просадками.\n",
    "    \n",
    "    \n",
    "   Сезонность показывает, что минимум заказов приходится на ночь, рост утром и днём, пик заказов вечером.</b>"
   ]
  },
  {
   "cell_type": "markdown",
   "metadata": {},
   "source": [
    "<div class=\"alert alert-info\">\n",
    "Это характеристики за весь период\n",
    "</div>"
   ]
  },
  {
   "cell_type": "code",
   "execution_count": 10,
   "metadata": {},
   "outputs": [
    {
     "data": {
      "image/png": "[encoded data removed]",
      "text/plain": [
       "<Figure size 864x864 with 3 Axes>"
      ]
     },
     "metadata": {},
     "output_type": "display_data"
    }
   ],
   "source": [
    "decomposed = seasonal_decompose(data)\n",
    "plt.figure(figsize=(12, 12))\n",
    "plt.subplot(311)\n",
    "decomposed.trend.plot(ax=plt.gca())\n",
    "\n",
    "plt.title('Trend')\n",
    "plt.subplot(312)\n",
    "decomposed.seasonal.plot(ax=plt.gca())\n",
    "\n",
    "plt.title('Seasonality')\n",
    "plt.subplot(313)\n",
    "decomposed.resid.plot(ax=plt.gca())\n",
    "\n",
    "plt.title('Residuals')\n",
    "plt.tight_layout()"
   ]
  },
  {
   "cell_type": "markdown",
   "metadata": {},
   "source": [
    "<b>\n",
    "   Тренд растёт на протяжении всего периода, скорее всего, растёт не линейно, возможно, экспоненциально, не до конца понятно.\n",
    "    \n",
    "    \n",
    "   Остатков действительно больше в правой части, как вы и говорили).</b>"
   ]
  },
  {
   "cell_type": "markdown",
   "metadata": {},
   "source": [
    "<div class=\"alert alert-info\">\n",
    "Анализ сезонности\n",
    "</div>"
   ]
  },
  {
   "cell_type": "code",
   "execution_count": 11,
   "metadata": {},
   "outputs": [
    {
     "data": {
      "text/plain": [
       "<AxesSubplot:xlabel='datetime'>"
      ]
     },
     "execution_count": 11,
     "metadata": {},
     "output_type": "execute_result"
    },
    {
     "data": {
      "image/png": "[encoded data removed]",
      "text/plain": [
       "<Figure size 1080x288 with 1 Axes>"
      ]
     },
     "metadata": {},
     "output_type": "display_data"
    }
   ],
   "source": [
    "decomposed = seasonal_decompose(data.resample('1D').sum()['2018-08':'2018-08'])\n",
    "\n",
    "plt.title('Seasonality')\n",
    "plt.subplot(313)\n",
    "decomposed.seasonal.plot(ax=plt.gca())"
   ]
  },
  {
   "cell_type": "markdown",
   "metadata": {},
   "source": [
    "<b>Больше всего такси заказывают в понедельник и пятницу, меньше всего во вторник, среду и воскресенье</b>"
   ]
  },
  {
   "cell_type": "markdown",
   "metadata": {},
   "source": [
    "## Обучение"
   ]
  },
  {
   "cell_type": "markdown",
   "metadata": {},
   "source": [
    "### Добавление признаков"
   ]
  },
  {
   "cell_type": "code",
   "execution_count": 12,
   "metadata": {},
   "outputs": [],
   "source": [
    "def make_features(data):\n",
    "    data['month'] = data.index.month\n",
    "    data['day'] = data.index.day\n",
    "    data['dayofweek'] = data.index.dayofweek\n",
    "    data['hour'] = data.index.hour\n",
    "    \n",
    "    for lag in range(1, 24+1):\n",
    "        data['lag_{}'.format(lag)] = data['num_orders'].shift(lag)\n",
    "    \n",
    "    data['rolling_mean'] = data['num_orders'].shift().rolling(1).mean()\n",
    "    data.dropna(inplace=True)\n",
    "    \n",
    "    return data"
   ]
  },
  {
   "cell_type": "code",
   "execution_count": 13,
   "metadata": {},
   "outputs": [
    {
     "data": {
      "image/png": "[encoded data removed]",
      "text/plain": [
       "<Figure size 1332x432 with 1 Axes>"
      ]
     },
     "metadata": {},
     "output_type": "display_data"
    }
   ],
   "source": [
    "# Код ревьюера\n",
    "from statsmodels.graphics import tsaplots\n",
    "\n",
    "taxi = pd.read_csv(\"/datasets/taxi.csv\", index_col=[0], parse_dates=[0]).resample('1H').sum()\n",
    "ts = taxi['num_orders']\n",
    "\n",
    "fig = tsaplots.plot_acf(ts,lags= 190)\n",
    "fig.set_size_inches(18.5, 6)\n",
    "plt.ylim(-.1, 1.1)\n",
    "plt.show() \n"
   ]
  },
  {
   "cell_type": "code",
   "execution_count": 14,
   "metadata": {},
   "outputs": [],
   "source": [
    "data = make_features(data)"
   ]
  },
  {
   "cell_type": "code",
   "execution_count": 15,
   "metadata": {},
   "outputs": [
    {
     "data": {
      "text/html": [
       "<div>\n",
       "<style scoped>\n",
       "    .dataframe tbody tr th:only-of-type {\n",
       "        vertical-align: middle;\n",
       "    }\n",
       "\n",
       "    .dataframe tbody tr th {\n",
       "        vertical-align: top;\n",
       "    }\n",
       "\n",
       "    .dataframe thead th {\n",
       "        text-align: right;\n",
       "    }\n",
       "</style>\n",
       "<table border=\"1\" class=\"dataframe\">\n",
       "  <thead>\n",
       "    <tr style=\"text-align: right;\">\n",
       "      <th></th>\n",
       "      <th>num_orders</th>\n",
       "      <th>month</th>\n",
       "      <th>day</th>\n",
       "      <th>dayofweek</th>\n",
       "      <th>hour</th>\n",
       "      <th>lag_1</th>\n",
       "      <th>lag_2</th>\n",
       "      <th>lag_3</th>\n",
       "      <th>lag_4</th>\n",
       "      <th>lag_5</th>\n",
       "      <th>...</th>\n",
       "      <th>lag_16</th>\n",
       "      <th>lag_17</th>\n",
       "      <th>lag_18</th>\n",
       "      <th>lag_19</th>\n",
       "      <th>lag_20</th>\n",
       "      <th>lag_21</th>\n",
       "      <th>lag_22</th>\n",
       "      <th>lag_23</th>\n",
       "      <th>lag_24</th>\n",
       "      <th>rolling_mean</th>\n",
       "    </tr>\n",
       "    <tr>\n",
       "      <th>datetime</th>\n",
       "      <th></th>\n",
       "      <th></th>\n",
       "      <th></th>\n",
       "      <th></th>\n",
       "      <th></th>\n",
       "      <th></th>\n",
       "      <th></th>\n",
       "      <th></th>\n",
       "      <th></th>\n",
       "      <th></th>\n",
       "      <th></th>\n",
       "      <th></th>\n",
       "      <th></th>\n",
       "      <th></th>\n",
       "      <th></th>\n",
       "      <th></th>\n",
       "      <th></th>\n",
       "      <th></th>\n",
       "      <th></th>\n",
       "      <th></th>\n",
       "      <th></th>\n",
       "    </tr>\n",
       "  </thead>\n",
       "  <tbody>\n",
       "    <tr>\n",
       "      <th>2018-03-02 00:00:00</th>\n",
       "      <td>90</td>\n",
       "      <td>3</td>\n",
       "      <td>2</td>\n",
       "      <td>4</td>\n",
       "      <td>0</td>\n",
       "      <td>58.0</td>\n",
       "      <td>113.0</td>\n",
       "      <td>66.0</td>\n",
       "      <td>61.0</td>\n",
       "      <td>45.0</td>\n",
       "      <td>...</td>\n",
       "      <td>34.0</td>\n",
       "      <td>15.0</td>\n",
       "      <td>12.0</td>\n",
       "      <td>6.0</td>\n",
       "      <td>43.0</td>\n",
       "      <td>66.0</td>\n",
       "      <td>71.0</td>\n",
       "      <td>85.0</td>\n",
       "      <td>124.0</td>\n",
       "      <td>58.0</td>\n",
       "    </tr>\n",
       "    <tr>\n",
       "      <th>2018-03-02 01:00:00</th>\n",
       "      <td>120</td>\n",
       "      <td>3</td>\n",
       "      <td>2</td>\n",
       "      <td>4</td>\n",
       "      <td>1</td>\n",
       "      <td>90.0</td>\n",
       "      <td>58.0</td>\n",
       "      <td>113.0</td>\n",
       "      <td>66.0</td>\n",
       "      <td>61.0</td>\n",
       "      <td>...</td>\n",
       "      <td>69.0</td>\n",
       "      <td>34.0</td>\n",
       "      <td>15.0</td>\n",
       "      <td>12.0</td>\n",
       "      <td>6.0</td>\n",
       "      <td>43.0</td>\n",
       "      <td>66.0</td>\n",
       "      <td>71.0</td>\n",
       "      <td>85.0</td>\n",
       "      <td>90.0</td>\n",
       "    </tr>\n",
       "    <tr>\n",
       "      <th>2018-03-02 02:00:00</th>\n",
       "      <td>75</td>\n",
       "      <td>3</td>\n",
       "      <td>2</td>\n",
       "      <td>4</td>\n",
       "      <td>2</td>\n",
       "      <td>120.0</td>\n",
       "      <td>90.0</td>\n",
       "      <td>58.0</td>\n",
       "      <td>113.0</td>\n",
       "      <td>66.0</td>\n",
       "      <td>...</td>\n",
       "      <td>64.0</td>\n",
       "      <td>69.0</td>\n",
       "      <td>34.0</td>\n",
       "      <td>15.0</td>\n",
       "      <td>12.0</td>\n",
       "      <td>6.0</td>\n",
       "      <td>43.0</td>\n",
       "      <td>66.0</td>\n",
       "      <td>71.0</td>\n",
       "      <td>120.0</td>\n",
       "    </tr>\n",
       "    <tr>\n",
       "      <th>2018-03-02 03:00:00</th>\n",
       "      <td>64</td>\n",
       "      <td>3</td>\n",
       "      <td>2</td>\n",
       "      <td>4</td>\n",
       "      <td>3</td>\n",
       "      <td>75.0</td>\n",
       "      <td>120.0</td>\n",
       "      <td>90.0</td>\n",
       "      <td>58.0</td>\n",
       "      <td>113.0</td>\n",
       "      <td>...</td>\n",
       "      <td>96.0</td>\n",
       "      <td>64.0</td>\n",
       "      <td>69.0</td>\n",
       "      <td>34.0</td>\n",
       "      <td>15.0</td>\n",
       "      <td>12.0</td>\n",
       "      <td>6.0</td>\n",
       "      <td>43.0</td>\n",
       "      <td>66.0</td>\n",
       "      <td>75.0</td>\n",
       "    </tr>\n",
       "    <tr>\n",
       "      <th>2018-03-02 04:00:00</th>\n",
       "      <td>20</td>\n",
       "      <td>3</td>\n",
       "      <td>2</td>\n",
       "      <td>4</td>\n",
       "      <td>4</td>\n",
       "      <td>64.0</td>\n",
       "      <td>75.0</td>\n",
       "      <td>120.0</td>\n",
       "      <td>90.0</td>\n",
       "      <td>58.0</td>\n",
       "      <td>...</td>\n",
       "      <td>30.0</td>\n",
       "      <td>96.0</td>\n",
       "      <td>64.0</td>\n",
       "      <td>69.0</td>\n",
       "      <td>34.0</td>\n",
       "      <td>15.0</td>\n",
       "      <td>12.0</td>\n",
       "      <td>6.0</td>\n",
       "      <td>43.0</td>\n",
       "      <td>64.0</td>\n",
       "    </tr>\n",
       "  </tbody>\n",
       "</table>\n",
       "<p>5 rows × 30 columns</p>\n",
       "</div>"
      ],
      "text/plain": [
       "                     num_orders  month  day  dayofweek  hour  lag_1  lag_2  \\\n",
       "datetime                                                                     \n",
       "2018-03-02 00:00:00          90      3    2          4     0   58.0  113.0   \n",
       "2018-03-02 01:00:00         120      3    2          4     1   90.0   58.0   \n",
       "2018-03-02 02:00:00          75      3    2          4     2  120.0   90.0   \n",
       "2018-03-02 03:00:00          64      3    2          4     3   75.0  120.0   \n",
       "2018-03-02 04:00:00          20      3    2          4     4   64.0   75.0   \n",
       "\n",
       "                     lag_3  lag_4  lag_5  ...  lag_16  lag_17  lag_18  lag_19  \\\n",
       "datetime                                  ...                                   \n",
       "2018-03-02 00:00:00   66.0   61.0   45.0  ...    34.0    15.0    12.0     6.0   \n",
       "2018-03-02 01:00:00  113.0   66.0   61.0  ...    69.0    34.0    15.0    12.0   \n",
       "2018-03-02 02:00:00   58.0  113.0   66.0  ...    64.0    69.0    34.0    15.0   \n",
       "2018-03-02 03:00:00   90.0   58.0  113.0  ...    96.0    64.0    69.0    34.0   \n",
       "2018-03-02 04:00:00  120.0   90.0   58.0  ...    30.0    96.0    64.0    69.0   \n",
       "\n",
       "                     lag_20  lag_21  lag_22  lag_23  lag_24  rolling_mean  \n",
       "datetime                                                                   \n",
       "2018-03-02 00:00:00    43.0    66.0    71.0    85.0   124.0          58.0  \n",
       "2018-03-02 01:00:00     6.0    43.0    66.0    71.0    85.0          90.0  \n",
       "2018-03-02 02:00:00    12.0     6.0    43.0    66.0    71.0         120.0  \n",
       "2018-03-02 03:00:00    15.0    12.0     6.0    43.0    66.0          75.0  \n",
       "2018-03-02 04:00:00    34.0    15.0    12.0     6.0    43.0          64.0  \n",
       "\n",
       "[5 rows x 30 columns]"
      ]
     },
     "execution_count": 15,
     "metadata": {},
     "output_type": "execute_result"
    }
   ],
   "source": [
    "data.head()"
   ]
  },
  {
   "cell_type": "markdown",
   "metadata": {},
   "source": [
    "<b>Разделим датасет на обучающую и тестовую выборки.</b>"
   ]
  },
  {
   "cell_type": "code",
   "execution_count": 16,
   "metadata": {},
   "outputs": [],
   "source": [
    "X = data.drop(['num_orders'], axis=1)\n",
    "y = data['num_orders']"
   ]
  },
  {
   "cell_type": "code",
   "execution_count": 17,
   "metadata": {},
   "outputs": [],
   "source": [
    "X_train, X_test, y_train, y_test = train_test_split(X, y, shuffle=False, test_size=0.1, random_state=42)"
   ]
  },
  {
   "cell_type": "markdown",
   "metadata": {},
   "source": [
    "### Обучение моделей"
   ]
  },
  {
   "cell_type": "markdown",
   "metadata": {},
   "source": [
    "<b>Будем обучать модели и будем добавлять rmse в список</b>"
   ]
  },
  {
   "cell_type": "code",
   "execution_count": 18,
   "metadata": {},
   "outputs": [],
   "source": [
    "results = []"
   ]
  },
  {
   "cell_type": "markdown",
   "metadata": {},
   "source": [
    "#### Линейная регрессия"
   ]
  },
  {
   "cell_type": "code",
   "execution_count": 23,
   "metadata": {},
   "outputs": [
    {
     "name": "stdout",
     "output_type": "stream",
     "text": [
      "CPU times: user 190 ms, sys: 151 ms, total: 341 ms\n",
      "Wall time: 276 ms\n"
     ]
    },
    {
     "data": {
      "text/plain": [
       "27.75"
      ]
     },
     "execution_count": 23,
     "metadata": {},
     "output_type": "execute_result"
    }
   ],
   "source": [
    "%%time\n",
    "#модель линейной регрессии\n",
    "cv = TimeSeriesSplit(n_splits=3).split(X_train)\n",
    "model = LinearRegression() \n",
    "score_lr = cross_val_score(model, X_train, y_train, scoring='neg_mean_squared_error', cv=cv)\n",
    "rmse = round(np.mean(-score_lr)**0.5, 2)\n",
    "rmse"
   ]
  },
  {
   "cell_type": "code",
   "execution_count": 24,
   "metadata": {},
   "outputs": [],
   "source": [
    "results.append([model, rmse])"
   ]
  },
  {
   "cell_type": "markdown",
   "metadata": {},
   "source": [
    "#### LightGBM"
   ]
  },
  {
   "cell_type": "code",
   "execution_count": 29,
   "metadata": {},
   "outputs": [
    {
     "name": "stdout",
     "output_type": "stream",
     "text": [
      "CPU times: user 2.68 s, sys: 14 ms, total: 2.69 s\n",
      "Wall time: 2.64 s\n"
     ]
    },
    {
     "data": {
      "text/plain": [
       "26.76"
      ]
     },
     "execution_count": 29,
     "metadata": {},
     "output_type": "execute_result"
    }
   ],
   "source": [
    "%%time\n",
    "#модель линейной регрессии\n",
    "cv = TimeSeriesSplit(n_splits=3).split(X_train)\n",
    "model = lgb.LGBMRegressor()\n",
    "score_lr = cross_val_score(model, X_train, y_train, scoring='neg_mean_squared_error', cv=cv)\n",
    "rmse = round(np.mean(-score_lr)**0.5, 2)\n",
    "rmse"
   ]
  },
  {
   "cell_type": "code",
   "execution_count": 30,
   "metadata": {},
   "outputs": [],
   "source": [
    "results.append([model, rmse])"
   ]
  },
  {
   "cell_type": "markdown",
   "metadata": {},
   "source": [
    "#### DecisionTreeRegressor"
   ]
  },
  {
   "cell_type": "code",
   "execution_count": 37,
   "metadata": {},
   "outputs": [
    {
     "name": "stdout",
     "output_type": "stream",
     "text": [
      "CPU times: user 163 ms, sys: 2.9 ms, total: 166 ms\n",
      "Wall time: 181 ms\n"
     ]
    },
    {
     "data": {
      "text/plain": [
       "38.17"
      ]
     },
     "execution_count": 37,
     "metadata": {},
     "output_type": "execute_result"
    }
   ],
   "source": [
    "%%time\n",
    "#модель линейной регрессии\n",
    "cv = TimeSeriesSplit(n_splits=3).split(X_train)\n",
    "model = DecisionTreeRegressor(random_state=42)\n",
    "score_lr = cross_val_score(model, X_train, y_train, scoring='neg_mean_squared_error', cv=cv)\n",
    "rmse = round(np.mean(-score_lr)**0.5, 2)\n",
    "rmse"
   ]
  },
  {
   "cell_type": "code",
   "execution_count": 38,
   "metadata": {},
   "outputs": [],
   "source": [
    "results.append([model, rmse])"
   ]
  },
  {
   "cell_type": "markdown",
   "metadata": {},
   "source": [
    "#### CatBoost"
   ]
  },
  {
   "cell_type": "code",
   "execution_count": 43,
   "metadata": {},
   "outputs": [
    {
     "name": "stdout",
     "output_type": "stream",
     "text": [
      "CPU times: user 11.9 s, sys: 296 ms, total: 12.2 s\n",
      "Wall time: 14.9 s\n"
     ]
    },
    {
     "data": {
      "text/plain": [
       "25.98"
      ]
     },
     "execution_count": 43,
     "metadata": {},
     "output_type": "execute_result"
    }
   ],
   "source": [
    "%%time\n",
    "#модель линейной регрессии\n",
    "cv = TimeSeriesSplit(n_splits=3).split(X_train)\n",
    "model = CatBoostRegressor(verbose=False)\n",
    "score_lr = cross_val_score(model, X_train, y_train, scoring='neg_mean_squared_error', cv=cv)\n",
    "rmse = round(np.mean(-score_lr)**0.5, 2)\n",
    "rmse"
   ]
  },
  {
   "cell_type": "code",
   "execution_count": 44,
   "metadata": {},
   "outputs": [],
   "source": [
    "results.append([model, rmse])"
   ]
  },
  {
   "cell_type": "markdown",
   "metadata": {},
   "source": [
    "### Результаты тренировочных выборок"
   ]
  },
  {
   "cell_type": "markdown",
   "metadata": {},
   "source": [
    "<b>Превратим наш список в датафрейм и отсортируем по убыванию RMSE</b>"
   ]
  },
  {
   "cell_type": "code",
   "execution_count": 45,
   "metadata": {},
   "outputs": [],
   "source": [
    "results = pd.DataFrame(results, columns=['model', 'training_RMSE'])"
   ]
  },
  {
   "cell_type": "code",
   "execution_count": 46,
   "metadata": {},
   "outputs": [
    {
     "data": {
      "text/html": [
       "<div>\n",
       "<style scoped>\n",
       "    .dataframe tbody tr th:only-of-type {\n",
       "        vertical-align: middle;\n",
       "    }\n",
       "\n",
       "    .dataframe tbody tr th {\n",
       "        vertical-align: top;\n",
       "    }\n",
       "\n",
       "    .dataframe thead th {\n",
       "        text-align: right;\n",
       "    }\n",
       "</style>\n",
       "<table border=\"1\" class=\"dataframe\">\n",
       "  <thead>\n",
       "    <tr style=\"text-align: right;\">\n",
       "      <th></th>\n",
       "      <th>model</th>\n",
       "      <th>training_RMSE</th>\n",
       "    </tr>\n",
       "  </thead>\n",
       "  <tbody>\n",
       "    <tr>\n",
       "      <th>0</th>\n",
       "      <td>LinearRegression()</td>\n",
       "      <td>27.75</td>\n",
       "    </tr>\n",
       "    <tr>\n",
       "      <th>1</th>\n",
       "      <td>LGBMRegressor()</td>\n",
       "      <td>26.76</td>\n",
       "    </tr>\n",
       "    <tr>\n",
       "      <th>2</th>\n",
       "      <td>DecisionTreeRegressor(random_state=42)</td>\n",
       "      <td>38.17</td>\n",
       "    </tr>\n",
       "    <tr>\n",
       "      <th>3</th>\n",
       "      <td>&lt;catboost.core.CatBoostRegressor object at 0x7...</td>\n",
       "      <td>25.98</td>\n",
       "    </tr>\n",
       "  </tbody>\n",
       "</table>\n",
       "</div>"
      ],
      "text/plain": [
       "                                               model  training_RMSE\n",
       "0                                 LinearRegression()          27.75\n",
       "1                                    LGBMRegressor()          26.76\n",
       "2             DecisionTreeRegressor(random_state=42)          38.17\n",
       "3  <catboost.core.CatBoostRegressor object at 0x7...          25.98"
      ]
     },
     "execution_count": 46,
     "metadata": {},
     "output_type": "execute_result"
    }
   ],
   "source": [
    "results"
   ]
  },
  {
   "cell_type": "markdown",
   "metadata": {},
   "source": [
    "<div class=\"alert alert-info\">\n",
    "Выбираем модель CatBoostRegressor, потому что у неё самая маленькая RMSE. Она самая точная из представленных.\n",
    "</div>"
   ]
  },
  {
   "cell_type": "markdown",
   "metadata": {},
   "source": [
    "## Тестирование"
   ]
  },
  {
   "cell_type": "code",
   "execution_count": 47,
   "metadata": {},
   "outputs": [
    {
     "data": {
      "text/plain": [
       "<catboost.core.CatBoostRegressor at 0x7f878db245e0>"
      ]
     },
     "execution_count": 47,
     "metadata": {},
     "output_type": "execute_result"
    }
   ],
   "source": [
    "model.fit(X_train, y_train)"
   ]
  },
  {
   "cell_type": "code",
   "execution_count": 48,
   "metadata": {},
   "outputs": [],
   "source": [
    "y_pred = model.predict(X_test)"
   ]
  },
  {
   "cell_type": "code",
   "execution_count": 51,
   "metadata": {},
   "outputs": [
    {
     "data": {
      "text/plain": [
       "40.08706753297002"
      ]
     },
     "execution_count": 51,
     "metadata": {},
     "output_type": "execute_result"
    }
   ],
   "source": [
    "rmse = mean_squared_error(y_test, y_pred) ** 0.5\n",
    "rmse"
   ]
  },
  {
   "cell_type": "markdown",
   "metadata": {},
   "source": [
    "<b>RMSE у CatBoost получилась 40.08706753297002, что меньше 48. Разницу между между результатами на кросс-валидации и при тестировании можно объяснить тем, что  «остатков» к концу графика больше, значит в тестовую выборку попало чуть больше данных, которые сложно объяснить и на которых модели будет сложнее предсказывать.</b>"
   ]
  },
  {
   "cell_type": "markdown",
   "metadata": {},
   "source": [
    "## Вывод"
   ]
  },
  {
   "cell_type": "markdown",
   "metadata": {},
   "source": [
    "Во время проекта были изучены способы предсказания временных рядов с помощью регрессоров.\n",
    "\n",
    "\n",
    "Были проанализированы тренд, сезонности и остатки.\n",
    "\n",
    "\n",
    "Выяснилось, что «остатков» к концу графика больше, значит в тестовую выборку попало чуть больше данных, которые сложно объяснить и на которых модели будет сложнее предсказывать.\n",
    "\n",
    "\n",
    "Тренд по характеру возрастания похож на экспоненциальную функцию.\n",
    "\n",
    "\n",
    "Далее, мы обучили несколько моделей: линейную регрессию, DecisionTreeRegressor, CatBoostRegressor, LGBMRegressor.\n",
    "\n",
    "\n",
    "\n",
    "По итогам кросс валидации выиграл CatBoostRegressor, он показал себя лучше всего. (RMSE - 25.98)\n",
    "\n",
    "\n",
    "По итогам тестирования RMSE у CatBoostRegressor составило 40.08706753297002."
   ]
  }
 ],
 "metadata": {
  "ExecuteTimeLog": [
   {
    "duration": 3618,
    "start_time": "2025-04-23T12:58:24.520Z"
   },
   {
    "duration": 88,
    "start_time": "2025-04-23T12:58:30.832Z"
   },
   {
    "duration": 12,
    "start_time": "2025-04-23T12:58:37.673Z"
   },
   {
    "duration": 121,
    "start_time": "2025-04-23T12:58:55.061Z"
   },
   {
    "duration": 4,
    "start_time": "2025-04-23T12:58:58.741Z"
   },
   {
    "duration": 10,
    "start_time": "2025-04-23T13:01:10.096Z"
   },
   {
    "duration": 13,
    "start_time": "2025-04-23T13:03:06.489Z"
   },
   {
    "duration": 933,
    "start_time": "2025-04-23T13:03:19.013Z"
   },
   {
    "duration": 5,
    "start_time": "2025-04-23T13:14:03.314Z"
   },
   {
    "duration": 16,
    "start_time": "2025-04-23T13:15:04.176Z"
   },
   {
    "duration": 15,
    "start_time": "2025-04-23T13:15:12.107Z"
   },
   {
    "duration": 4,
    "start_time": "2025-04-23T13:16:44.399Z"
   },
   {
    "duration": 5,
    "start_time": "2025-04-23T13:17:51.727Z"
   },
   {
    "duration": 1596,
    "start_time": "2025-04-23T13:19:01.684Z"
   },
   {
    "duration": 52,
    "start_time": "2025-04-23T13:19:03.282Z"
   },
   {
    "duration": 12,
    "start_time": "2025-04-23T13:19:03.335Z"
   },
   {
    "duration": 39,
    "start_time": "2025-04-23T13:19:03.349Z"
   },
   {
    "duration": 12,
    "start_time": "2025-04-23T13:19:03.391Z"
   },
   {
    "duration": 869,
    "start_time": "2025-04-23T13:19:03.405Z"
   },
   {
    "duration": 5,
    "start_time": "2025-04-23T13:19:04.275Z"
   },
   {
    "duration": 143,
    "start_time": "2025-04-23T13:19:04.282Z"
   },
   {
    "duration": 14,
    "start_time": "2025-04-23T13:19:04.427Z"
   },
   {
    "duration": 39,
    "start_time": "2025-04-23T13:19:04.443Z"
   },
   {
    "duration": 40,
    "start_time": "2025-04-23T13:19:04.484Z"
   },
   {
    "duration": 3,
    "start_time": "2025-04-23T13:20:06.002Z"
   },
   {
    "duration": 4,
    "start_time": "2025-04-23T13:20:47.882Z"
   },
   {
    "duration": 124,
    "start_time": "2025-04-23T13:20:51.438Z"
   },
   {
    "duration": 16,
    "start_time": "2025-04-23T13:21:06.015Z"
   },
   {
    "duration": 15,
    "start_time": "2025-04-23T13:21:21.203Z"
   },
   {
    "duration": 15,
    "start_time": "2025-04-23T13:21:50.617Z"
   },
   {
    "duration": 6,
    "start_time": "2025-04-23T13:22:00.573Z"
   },
   {
    "duration": 3,
    "start_time": "2025-04-23T13:22:33.501Z"
   },
   {
    "duration": 3,
    "start_time": "2025-04-23T13:23:20.626Z"
   },
   {
    "duration": 837,
    "start_time": "2025-04-23T13:24:21.169Z"
   },
   {
    "duration": 5,
    "start_time": "2025-04-23T13:25:05.998Z"
   },
   {
    "duration": 3,
    "start_time": "2025-04-23T13:25:34.464Z"
   },
   {
    "duration": 3,
    "start_time": "2025-04-23T13:26:23.592Z"
   },
   {
    "duration": 2,
    "start_time": "2025-04-23T13:27:02.145Z"
   },
   {
    "duration": 3,
    "start_time": "2025-04-23T13:27:18.123Z"
   },
   {
    "duration": 10,
    "start_time": "2025-04-23T13:27:53.165Z"
   },
   {
    "duration": 3,
    "start_time": "2025-04-23T13:27:55.724Z"
   },
   {
    "duration": 3,
    "start_time": "2025-04-23T13:27:56.893Z"
   },
   {
    "duration": 9,
    "start_time": "2025-04-23T13:28:18.745Z"
   },
   {
    "duration": 286,
    "start_time": "2025-04-23T13:28:27.626Z"
   },
   {
    "duration": 8,
    "start_time": "2025-04-23T13:29:00.654Z"
   },
   {
    "duration": 3,
    "start_time": "2025-04-23T13:29:19.250Z"
   },
   {
    "duration": 2,
    "start_time": "2025-04-23T13:33:02.967Z"
   },
   {
    "duration": 3975,
    "start_time": "2025-04-23T13:33:20.003Z"
   },
   {
    "duration": 15,
    "start_time": "2025-04-23T13:33:37.448Z"
   },
   {
    "duration": 3002,
    "start_time": "2025-04-23T13:33:51.740Z"
   },
   {
    "duration": 4,
    "start_time": "2025-04-23T13:34:15.969Z"
   },
   {
    "duration": 3,
    "start_time": "2025-04-23T13:34:36.505Z"
   },
   {
    "duration": 4,
    "start_time": "2025-04-23T13:37:07.735Z"
   },
   {
    "duration": 9,
    "start_time": "2025-04-23T13:38:15.776Z"
   },
   {
    "duration": 11,
    "start_time": "2025-04-23T13:38:25.037Z"
   },
   {
    "duration": 13,
    "start_time": "2025-04-23T13:38:32.149Z"
   },
   {
    "duration": 3,
    "start_time": "2025-04-23T13:39:17.151Z"
   },
   {
    "duration": 11,
    "start_time": "2025-04-23T13:39:17.623Z"
   },
   {
    "duration": 3,
    "start_time": "2025-04-23T13:42:21.573Z"
   },
   {
    "duration": 3,
    "start_time": "2025-04-23T13:44:03.109Z"
   },
   {
    "duration": 16,
    "start_time": "2025-04-23T13:44:09.483Z"
   },
   {
    "duration": 11,
    "start_time": "2025-04-23T13:44:18.421Z"
   },
   {
    "duration": 1034,
    "start_time": "2025-04-23T13:44:57.568Z"
   },
   {
    "duration": 18,
    "start_time": "2025-04-23T13:45:25.684Z"
   },
   {
    "duration": 1533,
    "start_time": "2025-04-23T13:46:09.594Z"
   },
   {
    "duration": 3,
    "start_time": "2025-04-23T13:46:11.129Z"
   },
   {
    "duration": 60,
    "start_time": "2025-04-23T13:46:11.133Z"
   },
   {
    "duration": 12,
    "start_time": "2025-04-23T13:46:11.195Z"
   },
   {
    "duration": 15,
    "start_time": "2025-04-23T13:46:11.208Z"
   },
   {
    "duration": 11,
    "start_time": "2025-04-23T13:46:11.225Z"
   },
   {
    "duration": 855,
    "start_time": "2025-04-23T13:46:11.238Z"
   },
   {
    "duration": 5,
    "start_time": "2025-04-23T13:46:12.095Z"
   },
   {
    "duration": 109,
    "start_time": "2025-04-23T13:46:12.102Z"
   },
   {
    "duration": 14,
    "start_time": "2025-04-23T13:46:12.214Z"
   },
   {
    "duration": 18,
    "start_time": "2025-04-23T13:46:12.230Z"
   },
   {
    "duration": 11,
    "start_time": "2025-04-23T13:46:12.249Z"
   },
   {
    "duration": 4,
    "start_time": "2025-04-23T13:46:12.261Z"
   },
   {
    "duration": 7,
    "start_time": "2025-04-23T13:46:12.266Z"
   },
   {
    "duration": 40,
    "start_time": "2025-04-23T13:46:12.274Z"
   },
   {
    "duration": 95,
    "start_time": "2025-04-23T13:46:12.316Z"
   },
   {
    "duration": 27,
    "start_time": "2025-04-23T13:46:12.413Z"
   },
   {
    "duration": 13,
    "start_time": "2025-04-23T13:46:12.442Z"
   },
   {
    "duration": 1260,
    "start_time": "2025-04-23T13:46:12.456Z"
   },
   {
    "duration": 90,
    "start_time": "2025-04-23T13:46:13.718Z"
   },
   {
    "duration": 5,
    "start_time": "2025-04-23T13:46:13.810Z"
   },
   {
    "duration": 14,
    "start_time": "2025-04-23T13:46:13.817Z"
   },
   {
    "duration": 18,
    "start_time": "2025-04-23T13:46:13.833Z"
   },
   {
    "duration": 12,
    "start_time": "2025-04-23T13:46:13.853Z"
   },
   {
    "duration": 280,
    "start_time": "2025-04-23T13:46:13.866Z"
   },
   {
    "duration": 7,
    "start_time": "2025-04-23T13:46:14.147Z"
   },
   {
    "duration": 3,
    "start_time": "2025-04-23T13:46:14.156Z"
   },
   {
    "duration": 27,
    "start_time": "2025-04-23T13:46:14.162Z"
   },
   {
    "duration": 3002,
    "start_time": "2025-04-23T13:46:14.191Z"
   },
   {
    "duration": 5,
    "start_time": "2025-04-23T13:46:17.195Z"
   },
   {
    "duration": 9,
    "start_time": "2025-04-23T13:46:17.202Z"
   },
   {
    "duration": 6,
    "start_time": "2025-04-23T13:46:17.212Z"
   },
   {
    "duration": 5,
    "start_time": "2025-04-23T13:46:17.219Z"
   },
   {
    "duration": 20,
    "start_time": "2025-04-23T13:46:17.225Z"
   },
   {
    "duration": 3,
    "start_time": "2025-04-23T13:46:17.247Z"
   },
   {
    "duration": 35,
    "start_time": "2025-04-23T13:46:17.251Z"
   },
   {
    "duration": 250,
    "start_time": "2025-04-23T13:46:17.288Z"
   },
   {
    "duration": 1371,
    "start_time": "2025-04-23T13:46:17.540Z"
   },
   {
    "duration": 1273,
    "start_time": "2025-04-23T13:48:39.478Z"
   },
   {
    "duration": 1230,
    "start_time": "2025-04-23T13:48:48.626Z"
   },
   {
    "duration": 11,
    "start_time": "2025-04-23T13:48:53.849Z"
   },
   {
    "duration": 7,
    "start_time": "2025-04-23T13:49:20.247Z"
   },
   {
    "duration": 5,
    "start_time": "2025-04-23T13:49:27.237Z"
   },
   {
    "duration": 941,
    "start_time": "2025-04-23T13:49:41.979Z"
   },
   {
    "duration": 979,
    "start_time": "2025-04-23T13:49:57.201Z"
   },
   {
    "duration": 1675,
    "start_time": "2025-04-23T13:50:44.785Z"
   },
   {
    "duration": 4,
    "start_time": "2025-04-23T13:50:46.462Z"
   },
   {
    "duration": 46,
    "start_time": "2025-04-23T13:50:46.468Z"
   },
   {
    "duration": 11,
    "start_time": "2025-04-23T13:50:46.516Z"
   },
   {
    "duration": 5,
    "start_time": "2025-04-23T13:50:46.529Z"
   },
   {
    "duration": 41,
    "start_time": "2025-04-23T13:50:46.535Z"
   },
   {
    "duration": 1208,
    "start_time": "2025-04-23T13:50:46.578Z"
   },
   {
    "duration": 5,
    "start_time": "2025-04-23T13:50:47.788Z"
   },
   {
    "duration": 94,
    "start_time": "2025-04-23T13:50:47.795Z"
   },
   {
    "duration": 15,
    "start_time": "2025-04-23T13:50:47.892Z"
   },
   {
    "duration": 4,
    "start_time": "2025-04-23T13:50:47.908Z"
   },
   {
    "duration": 9,
    "start_time": "2025-04-23T13:50:47.914Z"
   },
   {
    "duration": 3,
    "start_time": "2025-04-23T13:50:47.924Z"
   },
   {
    "duration": 9,
    "start_time": "2025-04-23T13:50:47.928Z"
   },
   {
    "duration": 15,
    "start_time": "2025-04-23T13:50:47.938Z"
   },
   {
    "duration": 102,
    "start_time": "2025-04-23T13:50:48.006Z"
   },
   {
    "duration": 5,
    "start_time": "2025-04-23T13:50:48.110Z"
   },
   {
    "duration": 19,
    "start_time": "2025-04-23T13:50:48.116Z"
   },
   {
    "duration": 877,
    "start_time": "2025-04-23T13:50:48.137Z"
   },
   {
    "duration": 5,
    "start_time": "2025-04-23T13:50:49.016Z"
   },
   {
    "duration": 84,
    "start_time": "2025-04-23T13:50:49.022Z"
   },
   {
    "duration": 3,
    "start_time": "2025-04-23T13:50:49.107Z"
   },
   {
    "duration": 4,
    "start_time": "2025-04-23T13:50:49.112Z"
   },
   {
    "duration": 10,
    "start_time": "2025-04-23T13:50:49.117Z"
   },
   {
    "duration": 283,
    "start_time": "2025-04-23T13:50:49.129Z"
   },
   {
    "duration": 8,
    "start_time": "2025-04-23T13:50:49.413Z"
   },
   {
    "duration": 11,
    "start_time": "2025-04-23T13:50:49.423Z"
   },
   {
    "duration": 6,
    "start_time": "2025-04-23T13:50:49.438Z"
   },
   {
    "duration": 2905,
    "start_time": "2025-04-23T13:50:49.445Z"
   },
   {
    "duration": 5,
    "start_time": "2025-04-23T13:50:52.352Z"
   },
   {
    "duration": 5,
    "start_time": "2025-04-23T13:50:52.359Z"
   },
   {
    "duration": 32,
    "start_time": "2025-04-23T13:50:52.365Z"
   },
   {
    "duration": 19,
    "start_time": "2025-04-23T13:50:52.398Z"
   },
   {
    "duration": 17,
    "start_time": "2025-04-23T13:50:52.419Z"
   },
   {
    "duration": 8,
    "start_time": "2025-04-23T13:50:52.438Z"
   },
   {
    "duration": 5,
    "start_time": "2025-04-23T13:50:52.448Z"
   },
   {
    "duration": 1324,
    "start_time": "2025-04-23T13:50:52.455Z"
   },
   {
    "duration": 4,
    "start_time": "2025-04-23T13:51:57.533Z"
   },
   {
    "duration": 127,
    "start_time": "2025-04-23T13:52:20.385Z"
   },
   {
    "duration": 12,
    "start_time": "2025-04-23T13:52:23.305Z"
   },
   {
    "duration": 1627,
    "start_time": "2025-04-23T13:55:30.823Z"
   },
   {
    "duration": 4,
    "start_time": "2025-04-23T13:55:32.452Z"
   },
   {
    "duration": 49,
    "start_time": "2025-04-23T13:55:32.458Z"
   },
   {
    "duration": 11,
    "start_time": "2025-04-23T13:55:32.509Z"
   },
   {
    "duration": 12,
    "start_time": "2025-04-23T13:55:32.522Z"
   },
   {
    "duration": 10,
    "start_time": "2025-04-23T13:55:32.536Z"
   },
   {
    "duration": 1222,
    "start_time": "2025-04-23T13:55:32.548Z"
   },
   {
    "duration": 5,
    "start_time": "2025-04-23T13:55:33.771Z"
   },
   {
    "duration": 33,
    "start_time": "2025-04-23T13:55:33.778Z"
   },
   {
    "duration": 20,
    "start_time": "2025-04-23T13:55:33.813Z"
   },
   {
    "duration": 44,
    "start_time": "2025-04-23T13:55:33.835Z"
   },
   {
    "duration": 56,
    "start_time": "2025-04-23T13:55:33.880Z"
   },
   {
    "duration": 22,
    "start_time": "2025-04-23T13:55:33.938Z"
   },
   {
    "duration": 15,
    "start_time": "2025-04-23T13:55:33.963Z"
   },
   {
    "duration": 108,
    "start_time": "2025-04-23T13:55:33.980Z"
   },
   {
    "duration": 125,
    "start_time": "2025-04-23T13:55:34.090Z"
   },
   {
    "duration": 15,
    "start_time": "2025-04-23T13:55:34.217Z"
   },
   {
    "duration": 26,
    "start_time": "2025-04-23T13:55:34.234Z"
   },
   {
    "duration": 1052,
    "start_time": "2025-04-23T13:55:34.262Z"
   },
   {
    "duration": 5,
    "start_time": "2025-04-23T13:55:35.316Z"
   },
   {
    "duration": 89,
    "start_time": "2025-04-23T13:55:35.323Z"
   },
   {
    "duration": 37,
    "start_time": "2025-04-23T13:55:35.414Z"
   },
   {
    "duration": 25,
    "start_time": "2025-04-23T13:55:35.452Z"
   },
   {
    "duration": 19,
    "start_time": "2025-04-23T13:55:35.479Z"
   },
   {
    "duration": 297,
    "start_time": "2025-04-23T13:55:35.500Z"
   },
   {
    "duration": 12,
    "start_time": "2025-04-23T13:55:35.799Z"
   },
   {
    "duration": 10,
    "start_time": "2025-04-23T13:55:35.813Z"
   },
   {
    "duration": 50,
    "start_time": "2025-04-23T13:55:35.825Z"
   },
   {
    "duration": 3055,
    "start_time": "2025-04-23T13:55:35.878Z"
   },
   {
    "duration": 6,
    "start_time": "2025-04-23T13:55:38.934Z"
   },
   {
    "duration": 5,
    "start_time": "2025-04-23T13:55:38.942Z"
   },
   {
    "duration": 16,
    "start_time": "2025-04-23T13:55:38.949Z"
   },
   {
    "duration": 13,
    "start_time": "2025-04-23T13:55:38.967Z"
   },
   {
    "duration": 42,
    "start_time": "2025-04-23T13:55:38.982Z"
   },
   {
    "duration": 96,
    "start_time": "2025-04-23T13:55:39.026Z"
   },
   {
    "duration": 18,
    "start_time": "2025-04-23T13:55:39.124Z"
   },
   {
    "duration": 1452,
    "start_time": "2025-04-23T13:55:39.143Z"
   },
   {
    "duration": 8,
    "start_time": "2025-04-23T13:55:40.597Z"
   },
   {
    "duration": 19,
    "start_time": "2025-04-23T13:55:40.607Z"
   },
   {
    "duration": 5464,
    "start_time": "2025-04-23T14:45:05.764Z"
   },
   {
    "duration": 6,
    "start_time": "2025-04-23T14:45:11.230Z"
   },
   {
    "duration": 52,
    "start_time": "2025-04-23T14:45:11.237Z"
   },
   {
    "duration": 9,
    "start_time": "2025-04-23T14:45:11.291Z"
   },
   {
    "duration": 4,
    "start_time": "2025-04-23T14:45:11.303Z"
   },
   {
    "duration": 12,
    "start_time": "2025-04-23T14:45:11.308Z"
   },
   {
    "duration": 1046,
    "start_time": "2025-04-23T14:45:11.322Z"
   },
   {
    "duration": 4,
    "start_time": "2025-04-23T14:45:12.369Z"
   },
   {
    "duration": 445,
    "start_time": "2025-04-23T14:45:12.375Z"
   },
   {
    "duration": 1655,
    "start_time": "2025-04-23T15:42:23.316Z"
   },
   {
    "duration": 3,
    "start_time": "2025-04-23T15:42:24.973Z"
   },
   {
    "duration": 62,
    "start_time": "2025-04-23T15:42:24.978Z"
   },
   {
    "duration": 11,
    "start_time": "2025-04-23T15:42:25.041Z"
   },
   {
    "duration": 3,
    "start_time": "2025-04-23T15:42:25.054Z"
   },
   {
    "duration": 9,
    "start_time": "2025-04-23T15:42:25.059Z"
   },
   {
    "duration": 1154,
    "start_time": "2025-04-23T15:42:25.070Z"
   },
   {
    "duration": 4,
    "start_time": "2025-04-23T15:42:26.225Z"
   },
   {
    "duration": 425,
    "start_time": "2025-04-23T15:42:26.231Z"
   },
   {
    "duration": 15,
    "start_time": "2025-04-23T15:42:26.657Z"
   },
   {
    "duration": 14,
    "start_time": "2025-04-23T15:42:26.673Z"
   },
   {
    "duration": 4,
    "start_time": "2025-04-23T15:42:26.689Z"
   },
   {
    "duration": 6,
    "start_time": "2025-04-23T15:42:26.695Z"
   },
   {
    "duration": 32,
    "start_time": "2025-04-23T15:42:26.704Z"
   },
   {
    "duration": 3,
    "start_time": "2025-04-23T15:42:26.737Z"
   },
   {
    "duration": 4,
    "start_time": "2025-04-23T15:42:26.741Z"
   },
   {
    "duration": 3,
    "start_time": "2025-04-23T15:42:26.746Z"
   },
   {
    "duration": 3,
    "start_time": "2025-04-23T15:42:26.750Z"
   },
   {
    "duration": 222,
    "start_time": "2025-04-23T15:42:26.755Z"
   },
   {
    "duration": 2,
    "start_time": "2025-04-23T15:42:26.979Z"
   },
   {
    "duration": 761,
    "start_time": "2025-04-23T15:42:26.983Z"
   },
   {
    "duration": 4,
    "start_time": "2025-04-23T15:42:27.746Z"
   },
   {
    "duration": 84,
    "start_time": "2025-04-23T15:42:27.752Z"
   },
   {
    "duration": 3,
    "start_time": "2025-04-23T15:42:27.838Z"
   },
   {
    "duration": 3,
    "start_time": "2025-04-23T15:42:27.842Z"
   },
   {
    "duration": 3,
    "start_time": "2025-04-23T15:42:27.846Z"
   },
   {
    "duration": 240,
    "start_time": "2025-04-23T15:42:27.850Z"
   },
   {
    "duration": 7,
    "start_time": "2025-04-23T15:42:28.094Z"
   },
   {
    "duration": 4,
    "start_time": "2025-04-23T15:42:28.102Z"
   },
   {
    "duration": 11,
    "start_time": "2025-04-23T15:42:28.108Z"
   },
   {
    "duration": 3121,
    "start_time": "2025-04-23T15:42:28.120Z"
   },
   {
    "duration": 5,
    "start_time": "2025-04-23T15:42:31.243Z"
   },
   {
    "duration": 38,
    "start_time": "2025-04-23T15:42:31.249Z"
   },
   {
    "duration": 4,
    "start_time": "2025-04-23T15:42:31.288Z"
   },
   {
    "duration": 5,
    "start_time": "2025-04-23T15:42:31.293Z"
   },
   {
    "duration": 12,
    "start_time": "2025-04-23T15:42:31.299Z"
   },
   {
    "duration": 2,
    "start_time": "2025-04-23T15:42:31.312Z"
   },
   {
    "duration": 6,
    "start_time": "2025-04-23T15:42:31.316Z"
   },
   {
    "duration": 851,
    "start_time": "2025-04-23T15:42:31.323Z"
   },
   {
    "duration": 4,
    "start_time": "2025-04-23T15:42:32.175Z"
   },
   {
    "duration": 11,
    "start_time": "2025-04-23T15:42:32.182Z"
   },
   {
    "duration": 99,
    "start_time": "2025-04-23T15:43:00.652Z"
   },
   {
    "duration": 135,
    "start_time": "2025-04-23T15:43:06.249Z"
   },
   {
    "duration": 1402,
    "start_time": "2025-04-23T15:44:12.676Z"
   },
   {
    "duration": 3,
    "start_time": "2025-04-23T15:44:14.080Z"
   },
   {
    "duration": 45,
    "start_time": "2025-04-23T15:44:14.085Z"
   },
   {
    "duration": 11,
    "start_time": "2025-04-23T15:44:14.133Z"
   },
   {
    "duration": 4,
    "start_time": "2025-04-23T15:44:14.146Z"
   },
   {
    "duration": 12,
    "start_time": "2025-04-23T15:44:14.152Z"
   },
   {
    "duration": 1110,
    "start_time": "2025-04-23T15:44:14.166Z"
   },
   {
    "duration": 4,
    "start_time": "2025-04-23T15:44:15.278Z"
   },
   {
    "duration": 459,
    "start_time": "2025-04-23T15:44:15.284Z"
   },
   {
    "duration": 13,
    "start_time": "2025-04-23T15:44:15.746Z"
   },
   {
    "duration": 14,
    "start_time": "2025-04-23T15:44:15.761Z"
   },
   {
    "duration": 29,
    "start_time": "2025-04-23T15:44:15.776Z"
   },
   {
    "duration": 33,
    "start_time": "2025-04-23T15:44:15.806Z"
   },
   {
    "duration": 3,
    "start_time": "2025-04-23T15:44:15.840Z"
   },
   {
    "duration": 6,
    "start_time": "2025-04-23T15:44:15.844Z"
   },
   {
    "duration": 3,
    "start_time": "2025-04-23T15:44:15.851Z"
   },
   {
    "duration": 3,
    "start_time": "2025-04-23T15:44:15.856Z"
   },
   {
    "duration": 5,
    "start_time": "2025-04-23T15:44:15.860Z"
   },
   {
    "duration": 486,
    "start_time": "2025-04-23T15:44:15.866Z"
   },
   {
    "duration": 2,
    "start_time": "2025-04-23T15:44:16.354Z"
   },
   {
    "duration": 779,
    "start_time": "2025-04-23T15:44:16.357Z"
   },
   {
    "duration": 6,
    "start_time": "2025-04-23T15:44:17.138Z"
   },
   {
    "duration": 3,
    "start_time": "2025-04-23T15:44:17.146Z"
   },
   {
    "duration": 4,
    "start_time": "2025-04-23T15:44:17.150Z"
   },
   {
    "duration": 4,
    "start_time": "2025-04-23T15:44:17.156Z"
   },
   {
    "duration": 5,
    "start_time": "2025-04-23T15:44:17.161Z"
   },
   {
    "duration": 252,
    "start_time": "2025-04-23T15:44:17.168Z"
   },
   {
    "duration": 12,
    "start_time": "2025-04-23T15:44:17.424Z"
   },
   {
    "duration": 9,
    "start_time": "2025-04-23T15:44:17.438Z"
   },
   {
    "duration": 8,
    "start_time": "2025-04-23T15:44:17.449Z"
   },
   {
    "duration": 2630,
    "start_time": "2025-04-23T15:44:17.459Z"
   },
   {
    "duration": 5,
    "start_time": "2025-04-23T15:44:20.090Z"
   },
   {
    "duration": 4,
    "start_time": "2025-04-23T15:44:20.096Z"
   },
   {
    "duration": 4,
    "start_time": "2025-04-23T15:44:20.101Z"
   },
   {
    "duration": 4,
    "start_time": "2025-04-23T15:44:20.106Z"
   },
   {
    "duration": 11,
    "start_time": "2025-04-23T15:44:20.111Z"
   },
   {
    "duration": 2,
    "start_time": "2025-04-23T15:44:20.124Z"
   },
   {
    "duration": 4,
    "start_time": "2025-04-23T15:44:20.127Z"
   },
   {
    "duration": 843,
    "start_time": "2025-04-23T15:44:20.132Z"
   },
   {
    "duration": 4,
    "start_time": "2025-04-23T15:44:20.977Z"
   },
   {
    "duration": 12,
    "start_time": "2025-04-23T15:44:20.982Z"
   },
   {
    "duration": 1430,
    "start_time": "2025-04-23T15:44:58.855Z"
   },
   {
    "duration": 4,
    "start_time": "2025-04-23T15:45:00.288Z"
   },
   {
    "duration": 57,
    "start_time": "2025-04-23T15:45:00.293Z"
   },
   {
    "duration": 11,
    "start_time": "2025-04-23T15:45:00.352Z"
   },
   {
    "duration": 9,
    "start_time": "2025-04-23T15:45:00.365Z"
   },
   {
    "duration": 13,
    "start_time": "2025-04-23T15:45:00.376Z"
   },
   {
    "duration": 1069,
    "start_time": "2025-04-23T15:45:00.391Z"
   },
   {
    "duration": 5,
    "start_time": "2025-04-23T15:45:01.462Z"
   },
   {
    "duration": 479,
    "start_time": "2025-04-23T15:45:01.469Z"
   },
   {
    "duration": 16,
    "start_time": "2025-04-23T15:45:01.951Z"
   },
   {
    "duration": 28,
    "start_time": "2025-04-23T15:45:01.969Z"
   },
   {
    "duration": 20,
    "start_time": "2025-04-23T15:45:01.999Z"
   },
   {
    "duration": 10,
    "start_time": "2025-04-23T15:45:02.021Z"
   },
   {
    "duration": 3,
    "start_time": "2025-04-23T15:45:02.033Z"
   },
   {
    "duration": 3,
    "start_time": "2025-04-23T15:45:02.038Z"
   },
   {
    "duration": 3,
    "start_time": "2025-04-23T15:45:02.042Z"
   },
   {
    "duration": 3,
    "start_time": "2025-04-23T15:45:02.047Z"
   },
   {
    "duration": 17,
    "start_time": "2025-04-23T15:45:02.052Z"
   },
   {
    "duration": 505,
    "start_time": "2025-04-23T15:45:02.071Z"
   },
   {
    "duration": 3,
    "start_time": "2025-04-23T15:45:02.578Z"
   },
   {
    "duration": 863,
    "start_time": "2025-04-23T15:45:02.583Z"
   },
   {
    "duration": 89,
    "start_time": "2025-04-23T15:45:03.448Z"
   },
   {
    "duration": 4,
    "start_time": "2025-04-23T15:45:03.539Z"
   },
   {
    "duration": 3,
    "start_time": "2025-04-23T15:45:03.545Z"
   },
   {
    "duration": 27,
    "start_time": "2025-04-23T15:45:03.550Z"
   },
   {
    "duration": 9,
    "start_time": "2025-04-23T15:45:03.579Z"
   },
   {
    "duration": 245,
    "start_time": "2025-04-23T15:45:03.589Z"
   },
   {
    "duration": 8,
    "start_time": "2025-04-23T15:45:03.838Z"
   },
   {
    "duration": 4,
    "start_time": "2025-04-23T15:45:03.848Z"
   },
   {
    "duration": 13,
    "start_time": "2025-04-23T15:45:03.854Z"
   },
   {
    "duration": 2696,
    "start_time": "2025-04-23T15:45:03.868Z"
   },
   {
    "duration": 5,
    "start_time": "2025-04-23T15:45:06.566Z"
   },
   {
    "duration": 6,
    "start_time": "2025-04-23T15:45:06.572Z"
   },
   {
    "duration": 7,
    "start_time": "2025-04-23T15:45:06.580Z"
   },
   {
    "duration": 9,
    "start_time": "2025-04-23T15:45:06.588Z"
   },
   {
    "duration": 12,
    "start_time": "2025-04-23T15:45:06.598Z"
   },
   {
    "duration": 2,
    "start_time": "2025-04-23T15:45:06.612Z"
   },
   {
    "duration": 6,
    "start_time": "2025-04-23T15:45:06.615Z"
   },
   {
    "duration": 903,
    "start_time": "2025-04-23T15:45:06.622Z"
   },
   {
    "duration": 3,
    "start_time": "2025-04-23T15:45:07.535Z"
   },
   {
    "duration": 15,
    "start_time": "2025-04-23T15:45:07.540Z"
   },
   {
    "duration": 1371,
    "start_time": "2025-04-23T15:45:29.697Z"
   },
   {
    "duration": 4,
    "start_time": "2025-04-23T15:45:31.070Z"
   },
   {
    "duration": 43,
    "start_time": "2025-04-23T15:45:31.075Z"
   },
   {
    "duration": 9,
    "start_time": "2025-04-23T15:45:31.120Z"
   },
   {
    "duration": 3,
    "start_time": "2025-04-23T15:45:31.131Z"
   },
   {
    "duration": 9,
    "start_time": "2025-04-23T15:45:31.135Z"
   },
   {
    "duration": 1091,
    "start_time": "2025-04-23T15:45:31.145Z"
   },
   {
    "duration": 4,
    "start_time": "2025-04-23T15:45:32.237Z"
   },
   {
    "duration": 434,
    "start_time": "2025-04-23T15:45:32.243Z"
   },
   {
    "duration": 13,
    "start_time": "2025-04-23T15:45:32.680Z"
   },
   {
    "duration": 39,
    "start_time": "2025-04-23T15:45:32.695Z"
   },
   {
    "duration": 55,
    "start_time": "2025-04-23T15:45:32.736Z"
   },
   {
    "duration": 41,
    "start_time": "2025-04-23T15:45:32.792Z"
   },
   {
    "duration": 3,
    "start_time": "2025-04-23T15:45:32.834Z"
   },
   {
    "duration": 3,
    "start_time": "2025-04-23T15:45:32.838Z"
   },
   {
    "duration": 3,
    "start_time": "2025-04-23T15:45:32.843Z"
   },
   {
    "duration": 4,
    "start_time": "2025-04-23T15:45:32.847Z"
   },
   {
    "duration": 8,
    "start_time": "2025-04-23T15:45:32.852Z"
   },
   {
    "duration": 179,
    "start_time": "2025-04-23T15:45:32.861Z"
   },
   {
    "duration": 94,
    "start_time": "2025-04-23T15:45:33.042Z"
   },
   {
    "duration": 897,
    "start_time": "2025-04-23T15:45:33.139Z"
   },
   {
    "duration": 5,
    "start_time": "2025-04-23T15:45:34.037Z"
   },
   {
    "duration": 4,
    "start_time": "2025-04-23T15:45:34.044Z"
   },
   {
    "duration": 4,
    "start_time": "2025-04-23T15:45:34.050Z"
   },
   {
    "duration": 14,
    "start_time": "2025-04-23T15:45:34.056Z"
   },
   {
    "duration": 4,
    "start_time": "2025-04-23T15:45:34.072Z"
   },
   {
    "duration": 260,
    "start_time": "2025-04-23T15:45:34.077Z"
   },
   {
    "duration": 6,
    "start_time": "2025-04-23T15:45:34.340Z"
   },
   {
    "duration": 2,
    "start_time": "2025-04-23T15:45:34.347Z"
   },
   {
    "duration": 10,
    "start_time": "2025-04-23T15:45:34.351Z"
   },
   {
    "duration": 2714,
    "start_time": "2025-04-23T15:45:34.362Z"
   },
   {
    "duration": 6,
    "start_time": "2025-04-23T15:45:37.078Z"
   },
   {
    "duration": 4,
    "start_time": "2025-04-23T15:45:37.085Z"
   },
   {
    "duration": 4,
    "start_time": "2025-04-23T15:45:37.091Z"
   },
   {
    "duration": 3,
    "start_time": "2025-04-23T15:45:37.096Z"
   },
   {
    "duration": 19,
    "start_time": "2025-04-23T15:45:37.101Z"
   },
   {
    "duration": 2,
    "start_time": "2025-04-23T15:45:37.122Z"
   },
   {
    "duration": 3,
    "start_time": "2025-04-23T15:45:37.125Z"
   },
   {
    "duration": 889,
    "start_time": "2025-04-23T15:45:37.130Z"
   },
   {
    "duration": 4,
    "start_time": "2025-04-23T15:45:38.020Z"
   },
   {
    "duration": 19,
    "start_time": "2025-04-23T15:45:38.026Z"
   },
   {
    "duration": 1395,
    "start_time": "2025-04-23T15:50:20.494Z"
   },
   {
    "duration": 4,
    "start_time": "2025-04-23T15:50:21.891Z"
   },
   {
    "duration": 52,
    "start_time": "2025-04-23T15:50:21.896Z"
   },
   {
    "duration": 9,
    "start_time": "2025-04-23T15:50:21.950Z"
   },
   {
    "duration": 3,
    "start_time": "2025-04-23T15:50:21.961Z"
   },
   {
    "duration": 9,
    "start_time": "2025-04-23T15:50:21.965Z"
   },
   {
    "duration": 1044,
    "start_time": "2025-04-23T15:50:21.976Z"
   },
   {
    "duration": 5,
    "start_time": "2025-04-23T15:50:23.021Z"
   },
   {
    "duration": 449,
    "start_time": "2025-04-23T15:50:23.028Z"
   },
   {
    "duration": 14,
    "start_time": "2025-04-23T15:50:23.479Z"
   },
   {
    "duration": 12,
    "start_time": "2025-04-23T15:50:23.495Z"
   },
   {
    "duration": 4,
    "start_time": "2025-04-23T15:50:23.509Z"
   },
   {
    "duration": 20,
    "start_time": "2025-04-23T15:50:23.515Z"
   },
   {
    "duration": 2,
    "start_time": "2025-04-23T15:50:23.537Z"
   },
   {
    "duration": 3,
    "start_time": "2025-04-23T15:50:23.540Z"
   },
   {
    "duration": 3,
    "start_time": "2025-04-23T15:50:23.544Z"
   },
   {
    "duration": 3,
    "start_time": "2025-04-23T15:50:23.548Z"
   },
   {
    "duration": 5,
    "start_time": "2025-04-23T15:50:23.552Z"
   },
   {
    "duration": 183,
    "start_time": "2025-04-23T15:50:23.558Z"
   },
   {
    "duration": 4,
    "start_time": "2025-04-23T15:50:23.743Z"
   },
   {
    "duration": 14,
    "start_time": "2025-04-23T15:50:23.837Z"
   },
   {
    "duration": 3,
    "start_time": "2025-04-23T15:50:23.936Z"
   },
   {
    "duration": 32,
    "start_time": "2025-04-23T15:50:23.940Z"
   },
   {
    "duration": 2367,
    "start_time": "2025-04-23T15:50:23.974Z"
   },
   {
    "duration": 2,
    "start_time": "2025-04-23T15:50:26.343Z"
   },
   {
    "duration": 7,
    "start_time": "2025-04-23T15:50:26.347Z"
   },
   {
    "duration": 6,
    "start_time": "2025-04-23T15:50:26.355Z"
   },
   {
    "duration": 8,
    "start_time": "2025-04-23T15:50:26.364Z"
   },
   {
    "duration": 17,
    "start_time": "2025-04-23T15:50:26.373Z"
   },
   {
    "duration": 3,
    "start_time": "2025-04-23T15:50:26.392Z"
   },
   {
    "duration": 253,
    "start_time": "2025-04-23T15:50:26.396Z"
   },
   {
    "duration": 3,
    "start_time": "2025-04-23T15:50:26.650Z"
   },
   {
    "duration": 10,
    "start_time": "2025-04-23T15:50:26.654Z"
   },
   {
    "duration": 3,
    "start_time": "2025-04-23T15:50:26.666Z"
   },
   {
    "duration": 4,
    "start_time": "2025-04-23T15:50:26.671Z"
   },
   {
    "duration": 6381,
    "start_time": "2025-04-23T15:50:26.677Z"
   },
   {
    "duration": 6,
    "start_time": "2025-04-23T15:50:33.059Z"
   },
   {
    "duration": 5,
    "start_time": "2025-04-23T15:50:33.066Z"
   },
   {
    "duration": 10,
    "start_time": "2025-04-23T15:50:33.072Z"
   },
   {
    "duration": 4,
    "start_time": "2025-04-23T15:50:33.084Z"
   },
   {
    "duration": 5,
    "start_time": "2025-04-23T15:50:33.089Z"
   },
   {
    "duration": 4,
    "start_time": "2025-04-23T15:50:33.095Z"
   },
   {
    "duration": 5,
    "start_time": "2025-04-23T15:50:33.101Z"
   },
   {
    "duration": 13,
    "start_time": "2025-04-23T15:50:33.108Z"
   },
   {
    "duration": 7054,
    "start_time": "2025-04-23T15:56:17.202Z"
   },
   {
    "duration": 1327,
    "start_time": "2025-04-23T15:56:24.258Z"
   },
   {
    "duration": 4,
    "start_time": "2025-04-23T15:56:25.587Z"
   },
   {
    "duration": 64,
    "start_time": "2025-04-23T15:56:25.592Z"
   },
   {
    "duration": 10,
    "start_time": "2025-04-23T15:56:25.659Z"
   },
   {
    "duration": 13,
    "start_time": "2025-04-23T15:56:25.671Z"
   },
   {
    "duration": 12,
    "start_time": "2025-04-23T15:56:25.686Z"
   },
   {
    "duration": 1180,
    "start_time": "2025-04-23T15:56:25.700Z"
   },
   {
    "duration": 6,
    "start_time": "2025-04-23T15:56:26.881Z"
   },
   {
    "duration": 483,
    "start_time": "2025-04-23T15:56:26.888Z"
   },
   {
    "duration": 14,
    "start_time": "2025-04-23T15:56:27.372Z"
   },
   {
    "duration": 12,
    "start_time": "2025-04-23T15:56:27.388Z"
   },
   {
    "duration": 4,
    "start_time": "2025-04-23T15:56:27.402Z"
   },
   {
    "duration": 5,
    "start_time": "2025-04-23T15:56:27.408Z"
   },
   {
    "duration": 8,
    "start_time": "2025-04-23T15:56:27.435Z"
   },
   {
    "duration": 4,
    "start_time": "2025-04-23T15:56:27.446Z"
   },
   {
    "duration": 2,
    "start_time": "2025-04-23T15:56:27.452Z"
   },
   {
    "duration": 3,
    "start_time": "2025-04-23T15:56:27.455Z"
   },
   {
    "duration": 3,
    "start_time": "2025-04-23T15:56:27.460Z"
   },
   {
    "duration": 191,
    "start_time": "2025-04-23T15:56:27.464Z"
   },
   {
    "duration": 226,
    "start_time": "2025-04-23T15:56:27.737Z"
   },
   {
    "duration": 0,
    "start_time": "2025-04-23T15:56:27.964Z"
   },
   {
    "duration": 0,
    "start_time": "2025-04-23T15:56:27.966Z"
   },
   {
    "duration": 0,
    "start_time": "2025-04-23T15:56:27.967Z"
   },
   {
    "duration": 0,
    "start_time": "2025-04-23T15:56:27.968Z"
   },
   {
    "duration": 0,
    "start_time": "2025-04-23T15:56:27.969Z"
   },
   {
    "duration": 0,
    "start_time": "2025-04-23T15:56:27.970Z"
   },
   {
    "duration": 0,
    "start_time": "2025-04-23T15:56:27.971Z"
   },
   {
    "duration": 0,
    "start_time": "2025-04-23T15:56:27.972Z"
   },
   {
    "duration": 0,
    "start_time": "2025-04-23T15:56:27.973Z"
   },
   {
    "duration": 0,
    "start_time": "2025-04-23T15:56:27.974Z"
   },
   {
    "duration": 0,
    "start_time": "2025-04-23T15:56:27.975Z"
   },
   {
    "duration": 0,
    "start_time": "2025-04-23T15:56:27.976Z"
   },
   {
    "duration": 0,
    "start_time": "2025-04-23T15:56:27.977Z"
   },
   {
    "duration": 0,
    "start_time": "2025-04-23T15:56:27.979Z"
   },
   {
    "duration": 0,
    "start_time": "2025-04-23T15:56:27.979Z"
   },
   {
    "duration": 0,
    "start_time": "2025-04-23T15:56:27.980Z"
   },
   {
    "duration": 0,
    "start_time": "2025-04-23T15:56:27.982Z"
   },
   {
    "duration": 0,
    "start_time": "2025-04-23T15:56:27.983Z"
   },
   {
    "duration": 0,
    "start_time": "2025-04-23T15:56:27.984Z"
   },
   {
    "duration": 0,
    "start_time": "2025-04-23T15:56:27.985Z"
   },
   {
    "duration": 0,
    "start_time": "2025-04-23T15:56:27.986Z"
   },
   {
    "duration": 0,
    "start_time": "2025-04-23T15:56:27.987Z"
   },
   {
    "duration": 0,
    "start_time": "2025-04-23T15:56:27.988Z"
   },
   {
    "duration": 0,
    "start_time": "2025-04-23T15:56:27.989Z"
   },
   {
    "duration": 0,
    "start_time": "2025-04-23T15:56:27.990Z"
   },
   {
    "duration": 0,
    "start_time": "2025-04-23T15:56:28.036Z"
   },
   {
    "duration": 12,
    "start_time": "2025-04-23T15:57:24.941Z"
   },
   {
    "duration": 211,
    "start_time": "2025-04-23T15:57:27.235Z"
   },
   {
    "duration": 3,
    "start_time": "2025-04-23T15:57:28.158Z"
   },
   {
    "duration": 3,
    "start_time": "2025-04-23T15:57:29.245Z"
   },
   {
    "duration": 3,
    "start_time": "2025-04-23T15:57:29.370Z"
   },
   {
    "duration": 2,
    "start_time": "2025-04-23T15:57:29.530Z"
   },
   {
    "duration": 2,
    "start_time": "2025-04-23T15:57:29.685Z"
   },
   {
    "duration": 14269,
    "start_time": "2025-04-23T15:57:29.868Z"
   },
   {
    "duration": 7,
    "start_time": "2025-04-23T15:57:44.141Z"
   },
   {
    "duration": 9,
    "start_time": "2025-04-23T15:57:44.151Z"
   },
   {
    "duration": 5,
    "start_time": "2025-04-23T15:57:44.162Z"
   },
   {
    "duration": 9,
    "start_time": "2025-04-23T15:57:44.169Z"
   },
   {
    "duration": 6,
    "start_time": "2025-04-23T15:57:44.180Z"
   },
   {
    "duration": 5,
    "start_time": "2025-04-23T15:57:44.188Z"
   },
   {
    "duration": 6,
    "start_time": "2025-04-23T15:57:44.195Z"
   },
   {
    "duration": 115,
    "start_time": "2025-04-23T15:57:44.236Z"
   },
   {
    "duration": 3,
    "start_time": "2025-04-23T15:57:44.353Z"
   },
   {
    "duration": 4,
    "start_time": "2025-04-23T15:57:44.357Z"
   },
   {
    "duration": 7,
    "start_time": "2025-04-23T15:57:44.363Z"
   },
   {
    "duration": 7,
    "start_time": "2025-04-23T15:57:44.371Z"
   },
   {
    "duration": 6824,
    "start_time": "2025-04-23T15:57:44.379Z"
   },
   {
    "duration": 3111,
    "start_time": "2025-04-23T15:58:05.891Z"
   },
   {
    "duration": 1315,
    "start_time": "2025-04-23T15:58:09.004Z"
   },
   {
    "duration": 4,
    "start_time": "2025-04-23T15:58:10.321Z"
   },
   {
    "duration": 49,
    "start_time": "2025-04-23T15:58:10.326Z"
   },
   {
    "duration": 10,
    "start_time": "2025-04-23T15:58:10.378Z"
   },
   {
    "duration": 6,
    "start_time": "2025-04-23T15:58:10.390Z"
   },
   {
    "duration": 12,
    "start_time": "2025-04-23T15:58:10.397Z"
   },
   {
    "duration": 1177,
    "start_time": "2025-04-23T15:58:10.411Z"
   },
   {
    "duration": 4,
    "start_time": "2025-04-23T15:58:11.589Z"
   },
   {
    "duration": 496,
    "start_time": "2025-04-23T15:58:11.595Z"
   },
   {
    "duration": 13,
    "start_time": "2025-04-23T15:58:12.093Z"
   },
   {
    "duration": 12,
    "start_time": "2025-04-23T15:58:12.108Z"
   },
   {
    "duration": 12,
    "start_time": "2025-04-23T15:58:12.122Z"
   },
   {
    "duration": 9,
    "start_time": "2025-04-23T15:58:12.138Z"
   },
   {
    "duration": 3,
    "start_time": "2025-04-23T15:58:12.149Z"
   },
   {
    "duration": 4,
    "start_time": "2025-04-23T15:58:12.153Z"
   },
   {
    "duration": 4,
    "start_time": "2025-04-23T15:58:12.158Z"
   },
   {
    "duration": 9,
    "start_time": "2025-04-23T15:58:12.163Z"
   },
   {
    "duration": 3,
    "start_time": "2025-04-23T15:58:12.174Z"
   },
   {
    "duration": 231,
    "start_time": "2025-04-23T15:58:12.178Z"
   },
   {
    "duration": 9,
    "start_time": "2025-04-23T15:58:12.411Z"
   },
   {
    "duration": 0,
    "start_time": "2025-04-23T15:58:12.421Z"
   },
   {
    "duration": 0,
    "start_time": "2025-04-23T15:58:12.422Z"
   },
   {
    "duration": 0,
    "start_time": "2025-04-23T15:58:12.424Z"
   },
   {
    "duration": 0,
    "start_time": "2025-04-23T15:58:12.424Z"
   },
   {
    "duration": 0,
    "start_time": "2025-04-23T15:58:12.425Z"
   },
   {
    "duration": 0,
    "start_time": "2025-04-23T15:58:12.426Z"
   },
   {
    "duration": 0,
    "start_time": "2025-04-23T15:58:12.427Z"
   },
   {
    "duration": 0,
    "start_time": "2025-04-23T15:58:12.428Z"
   },
   {
    "duration": 0,
    "start_time": "2025-04-23T15:58:12.429Z"
   },
   {
    "duration": 0,
    "start_time": "2025-04-23T15:58:12.430Z"
   },
   {
    "duration": 0,
    "start_time": "2025-04-23T15:58:12.431Z"
   },
   {
    "duration": 0,
    "start_time": "2025-04-23T15:58:12.432Z"
   },
   {
    "duration": 0,
    "start_time": "2025-04-23T15:58:12.433Z"
   },
   {
    "duration": 0,
    "start_time": "2025-04-23T15:58:12.434Z"
   },
   {
    "duration": 0,
    "start_time": "2025-04-23T15:58:12.435Z"
   },
   {
    "duration": 0,
    "start_time": "2025-04-23T15:58:12.436Z"
   },
   {
    "duration": 0,
    "start_time": "2025-04-23T15:58:12.438Z"
   },
   {
    "duration": 0,
    "start_time": "2025-04-23T15:58:12.441Z"
   },
   {
    "duration": 0,
    "start_time": "2025-04-23T15:58:12.443Z"
   },
   {
    "duration": 0,
    "start_time": "2025-04-23T15:58:12.444Z"
   },
   {
    "duration": 0,
    "start_time": "2025-04-23T15:58:12.446Z"
   },
   {
    "duration": 0,
    "start_time": "2025-04-23T15:58:12.448Z"
   },
   {
    "duration": 0,
    "start_time": "2025-04-23T15:58:12.449Z"
   },
   {
    "duration": 0,
    "start_time": "2025-04-23T15:58:12.451Z"
   },
   {
    "duration": 0,
    "start_time": "2025-04-23T15:58:12.452Z"
   },
   {
    "duration": 0,
    "start_time": "2025-04-23T15:58:12.453Z"
   },
   {
    "duration": 171,
    "start_time": "2025-04-23T15:58:31.272Z"
   },
   {
    "duration": 3,
    "start_time": "2025-04-23T15:58:32.392Z"
   },
   {
    "duration": 15294,
    "start_time": "2025-04-23T15:58:40.142Z"
   },
   {
    "duration": 3,
    "start_time": "2025-04-23T15:59:01.672Z"
   },
   {
    "duration": 2,
    "start_time": "2025-04-23T15:59:04.581Z"
   },
   {
    "duration": 89,
    "start_time": "2025-04-23T15:59:08.299Z"
   },
   {
    "duration": 107,
    "start_time": "2025-04-23T15:59:13.580Z"
   },
   {
    "duration": 75,
    "start_time": "2025-04-23T15:59:32.261Z"
   },
   {
    "duration": 2,
    "start_time": "2025-04-23T16:00:08.095Z"
   },
   {
    "duration": 103,
    "start_time": "2025-04-23T16:00:10.828Z"
   },
   {
    "duration": 2,
    "start_time": "2025-04-23T16:00:25.399Z"
   },
   {
    "duration": 103,
    "start_time": "2025-04-23T16:00:26.931Z"
   },
   {
    "duration": 159,
    "start_time": "2025-04-23T16:03:59.067Z"
   },
   {
    "duration": 99,
    "start_time": "2025-04-23T16:04:14.714Z"
   },
   {
    "duration": 77,
    "start_time": "2025-04-23T16:05:01.929Z"
   },
   {
    "duration": 3066,
    "start_time": "2025-04-23T16:06:06.103Z"
   },
   {
    "duration": 1302,
    "start_time": "2025-04-23T16:06:09.171Z"
   },
   {
    "duration": 3,
    "start_time": "2025-04-23T16:06:10.475Z"
   },
   {
    "duration": 42,
    "start_time": "2025-04-23T16:06:10.480Z"
   },
   {
    "duration": 10,
    "start_time": "2025-04-23T16:06:10.523Z"
   },
   {
    "duration": 5,
    "start_time": "2025-04-23T16:06:10.539Z"
   },
   {
    "duration": 10,
    "start_time": "2025-04-23T16:06:10.545Z"
   },
   {
    "duration": 1114,
    "start_time": "2025-04-23T16:06:10.557Z"
   },
   {
    "duration": 4,
    "start_time": "2025-04-23T16:06:11.673Z"
   },
   {
    "duration": 502,
    "start_time": "2025-04-23T16:06:11.680Z"
   },
   {
    "duration": 15,
    "start_time": "2025-04-23T16:06:12.184Z"
   },
   {
    "duration": 14,
    "start_time": "2025-04-23T16:06:12.200Z"
   },
   {
    "duration": 25,
    "start_time": "2025-04-23T16:06:12.216Z"
   },
   {
    "duration": 8,
    "start_time": "2025-04-23T16:06:12.244Z"
   },
   {
    "duration": 2,
    "start_time": "2025-04-23T16:06:12.253Z"
   },
   {
    "duration": 3,
    "start_time": "2025-04-23T16:06:12.257Z"
   },
   {
    "duration": 3,
    "start_time": "2025-04-23T16:06:12.261Z"
   },
   {
    "duration": 3,
    "start_time": "2025-04-23T16:06:12.266Z"
   },
   {
    "duration": 3,
    "start_time": "2025-04-23T16:06:12.270Z"
   },
   {
    "duration": 167,
    "start_time": "2025-04-23T16:06:12.275Z"
   },
   {
    "duration": 4,
    "start_time": "2025-04-23T16:06:12.444Z"
   },
   {
    "duration": 4,
    "start_time": "2025-04-23T16:06:12.450Z"
   },
   {
    "duration": 3,
    "start_time": "2025-04-23T16:06:12.538Z"
   },
   {
    "duration": 6,
    "start_time": "2025-04-23T16:06:12.543Z"
   },
   {
    "duration": 2,
    "start_time": "2025-04-23T16:06:12.552Z"
   },
   {
    "duration": 11104,
    "start_time": "2025-04-23T16:06:12.556Z"
   },
   {
    "duration": 3,
    "start_time": "2025-04-23T16:06:23.661Z"
   },
   {
    "duration": 2,
    "start_time": "2025-04-23T16:06:23.668Z"
   },
   {
    "duration": 63,
    "start_time": "2025-04-23T16:06:23.672Z"
   },
   {
    "duration": 24,
    "start_time": "2025-04-23T16:06:23.738Z"
   },
   {
    "duration": 11,
    "start_time": "2025-04-23T16:06:23.765Z"
   },
   {
    "duration": 4,
    "start_time": "2025-04-23T16:06:23.778Z"
   },
   {
    "duration": 3,
    "start_time": "2025-04-23T16:06:23.784Z"
   },
   {
    "duration": 82,
    "start_time": "2025-04-23T16:06:23.789Z"
   },
   {
    "duration": 5,
    "start_time": "2025-04-23T16:06:23.873Z"
   },
   {
    "duration": 8,
    "start_time": "2025-04-23T16:06:23.879Z"
   },
   {
    "duration": 3,
    "start_time": "2025-04-23T16:06:23.889Z"
   },
   {
    "duration": 4,
    "start_time": "2025-04-23T16:06:23.894Z"
   },
   {
    "duration": 4,
    "start_time": "2025-04-23T16:06:23.900Z"
   },
   {
    "duration": 208,
    "start_time": "2025-04-23T16:06:23.905Z"
   },
   {
    "duration": 3,
    "start_time": "2025-04-23T16:06:24.115Z"
   },
   {
    "duration": 8,
    "start_time": "2025-04-23T16:06:24.119Z"
   },
   {
    "duration": 4,
    "start_time": "2025-04-23T16:06:24.128Z"
   },
   {
    "duration": 4,
    "start_time": "2025-04-23T16:06:24.133Z"
   },
   {
    "duration": 15,
    "start_time": "2025-04-23T16:06:24.139Z"
   },
   {
    "duration": 3,
    "start_time": "2025-04-23T16:06:24.156Z"
   },
   {
    "duration": 5,
    "start_time": "2025-04-23T16:06:24.160Z"
   },
   {
    "duration": 17,
    "start_time": "2025-04-23T16:06:24.166Z"
   },
   {
    "duration": 0,
    "start_time": "2025-04-23T16:06:24.186Z"
   },
   {
    "duration": 0,
    "start_time": "2025-04-23T16:06:24.187Z"
   },
   {
    "duration": 7499,
    "start_time": "2025-04-23T16:07:10.879Z"
   },
   {
    "duration": 3217,
    "start_time": "2025-04-23T16:07:22.132Z"
   },
   {
    "duration": 1347,
    "start_time": "2025-04-23T16:07:25.351Z"
   },
   {
    "duration": 4,
    "start_time": "2025-04-23T16:07:26.699Z"
   },
   {
    "duration": 46,
    "start_time": "2025-04-23T16:07:26.705Z"
   },
   {
    "duration": 10,
    "start_time": "2025-04-23T16:07:26.753Z"
   },
   {
    "duration": 4,
    "start_time": "2025-04-23T16:07:26.764Z"
   },
   {
    "duration": 9,
    "start_time": "2025-04-23T16:07:26.769Z"
   },
   {
    "duration": 1208,
    "start_time": "2025-04-23T16:07:26.780Z"
   },
   {
    "duration": 4,
    "start_time": "2025-04-23T16:07:27.990Z"
   },
   {
    "duration": 465,
    "start_time": "2025-04-23T16:07:27.995Z"
   },
   {
    "duration": 14,
    "start_time": "2025-04-23T16:07:28.462Z"
   },
   {
    "duration": 12,
    "start_time": "2025-04-23T16:07:28.478Z"
   },
   {
    "duration": 4,
    "start_time": "2025-04-23T16:07:28.492Z"
   },
   {
    "duration": 5,
    "start_time": "2025-04-23T16:07:28.498Z"
   },
   {
    "duration": 30,
    "start_time": "2025-04-23T16:07:28.505Z"
   },
   {
    "duration": 6,
    "start_time": "2025-04-23T16:07:28.537Z"
   },
   {
    "duration": 4,
    "start_time": "2025-04-23T16:07:28.545Z"
   },
   {
    "duration": 4,
    "start_time": "2025-04-23T16:07:28.551Z"
   },
   {
    "duration": 3,
    "start_time": "2025-04-23T16:07:28.556Z"
   },
   {
    "duration": 179,
    "start_time": "2025-04-23T16:07:28.560Z"
   },
   {
    "duration": 5,
    "start_time": "2025-04-23T16:07:28.742Z"
   },
   {
    "duration": 83,
    "start_time": "2025-04-23T16:07:28.751Z"
   },
   {
    "duration": 3,
    "start_time": "2025-04-23T16:07:28.841Z"
   },
   {
    "duration": 3,
    "start_time": "2025-04-23T16:07:28.846Z"
   },
   {
    "duration": 2,
    "start_time": "2025-04-23T16:07:28.851Z"
   },
   {
    "duration": 19296,
    "start_time": "2025-04-23T16:07:28.855Z"
   },
   {
    "duration": 3,
    "start_time": "2025-04-23T16:07:48.153Z"
   },
   {
    "duration": 3,
    "start_time": "2025-04-23T16:07:48.157Z"
   },
   {
    "duration": 3,
    "start_time": "2025-04-23T16:07:48.162Z"
   },
   {
    "duration": 3,
    "start_time": "2025-04-23T16:07:48.166Z"
   },
   {
    "duration": 3,
    "start_time": "2025-04-23T16:07:48.170Z"
   },
   {
    "duration": 3,
    "start_time": "2025-04-23T16:07:48.175Z"
   },
   {
    "duration": 3,
    "start_time": "2025-04-23T16:07:48.179Z"
   },
   {
    "duration": 123,
    "start_time": "2025-04-23T16:07:48.183Z"
   },
   {
    "duration": 3,
    "start_time": "2025-04-23T16:07:48.308Z"
   },
   {
    "duration": 4,
    "start_time": "2025-04-23T16:07:48.313Z"
   },
   {
    "duration": 18,
    "start_time": "2025-04-23T16:07:48.318Z"
   },
   {
    "duration": 13,
    "start_time": "2025-04-23T16:07:48.339Z"
   },
   {
    "duration": 3,
    "start_time": "2025-04-23T16:07:48.354Z"
   },
   {
    "duration": 7343,
    "start_time": "2025-04-23T16:07:48.358Z"
   },
   {
    "duration": 3,
    "start_time": "2025-04-23T16:07:55.705Z"
   },
   {
    "duration": 8,
    "start_time": "2025-04-23T16:07:55.710Z"
   },
   {
    "duration": 4,
    "start_time": "2025-04-23T16:07:55.719Z"
   },
   {
    "duration": 4,
    "start_time": "2025-04-23T16:07:55.724Z"
   },
   {
    "duration": 19,
    "start_time": "2025-04-23T16:07:55.730Z"
   },
   {
    "duration": 3,
    "start_time": "2025-04-23T16:07:55.752Z"
   },
   {
    "duration": 4,
    "start_time": "2025-04-23T16:07:55.757Z"
   },
   {
    "duration": 140,
    "start_time": "2025-04-23T16:07:55.763Z"
   },
   {
    "duration": 0,
    "start_time": "2025-04-23T16:07:55.905Z"
   },
   {
    "duration": 0,
    "start_time": "2025-04-23T16:07:55.907Z"
   },
   {
    "duration": 22,
    "start_time": "2025-04-23T16:12:49.766Z"
   },
   {
    "duration": 3067,
    "start_time": "2025-04-23T16:13:00.544Z"
   },
   {
    "duration": 1363,
    "start_time": "2025-04-23T16:13:03.614Z"
   },
   {
    "duration": 4,
    "start_time": "2025-04-23T16:13:04.978Z"
   },
   {
    "duration": 57,
    "start_time": "2025-04-23T16:13:04.984Z"
   },
   {
    "duration": 14,
    "start_time": "2025-04-23T16:13:05.046Z"
   },
   {
    "duration": 5,
    "start_time": "2025-04-23T16:13:05.062Z"
   },
   {
    "duration": 22,
    "start_time": "2025-04-23T16:13:05.069Z"
   },
   {
    "duration": 1239,
    "start_time": "2025-04-23T16:13:05.093Z"
   },
   {
    "duration": 1338,
    "start_time": "2025-04-23T16:13:06.335Z"
   },
   {
    "duration": 5,
    "start_time": "2025-04-23T16:13:07.675Z"
   },
   {
    "duration": 384,
    "start_time": "2025-04-23T16:13:07.681Z"
   },
   {
    "duration": 13,
    "start_time": "2025-04-23T16:13:08.066Z"
   },
   {
    "duration": 12,
    "start_time": "2025-04-23T16:13:08.080Z"
   },
   {
    "duration": 3,
    "start_time": "2025-04-23T16:13:08.094Z"
   },
   {
    "duration": 6,
    "start_time": "2025-04-23T16:13:08.098Z"
   },
   {
    "duration": 30,
    "start_time": "2025-04-23T16:13:08.105Z"
   },
   {
    "duration": 5,
    "start_time": "2025-04-23T16:13:08.139Z"
   },
   {
    "duration": 5,
    "start_time": "2025-04-23T16:13:08.147Z"
   },
   {
    "duration": 3,
    "start_time": "2025-04-23T16:13:08.154Z"
   },
   {
    "duration": 3,
    "start_time": "2025-04-23T16:13:08.159Z"
   },
   {
    "duration": 186,
    "start_time": "2025-04-23T16:13:08.164Z"
   },
   {
    "duration": 81,
    "start_time": "2025-04-23T16:13:08.355Z"
   },
   {
    "duration": 6,
    "start_time": "2025-04-23T16:13:08.439Z"
   },
   {
    "duration": 4,
    "start_time": "2025-04-23T16:13:08.448Z"
   },
   {
    "duration": 81,
    "start_time": "2025-04-23T16:13:08.456Z"
   },
   {
    "duration": 4,
    "start_time": "2025-04-23T16:13:08.540Z"
   },
   {
    "duration": 11305,
    "start_time": "2025-04-23T16:13:08.546Z"
   },
   {
    "duration": 3,
    "start_time": "2025-04-23T16:13:19.855Z"
   },
   {
    "duration": 17,
    "start_time": "2025-04-23T16:13:19.860Z"
   },
   {
    "duration": 3,
    "start_time": "2025-04-23T16:13:19.879Z"
   },
   {
    "duration": 3,
    "start_time": "2025-04-23T16:13:19.883Z"
   },
   {
    "duration": 48,
    "start_time": "2025-04-23T16:13:19.888Z"
   },
   {
    "duration": 3,
    "start_time": "2025-04-23T16:13:19.939Z"
   },
   {
    "duration": 3,
    "start_time": "2025-04-23T16:13:19.945Z"
   },
   {
    "duration": 90,
    "start_time": "2025-04-23T16:13:19.950Z"
   },
   {
    "duration": 4,
    "start_time": "2025-04-23T16:13:20.042Z"
   },
   {
    "duration": 23,
    "start_time": "2025-04-23T16:13:20.048Z"
   },
   {
    "duration": 13,
    "start_time": "2025-04-23T16:13:20.073Z"
   },
   {
    "duration": 4,
    "start_time": "2025-04-23T16:13:20.088Z"
   },
   {
    "duration": 4,
    "start_time": "2025-04-23T16:13:20.093Z"
   },
   {
    "duration": 6759,
    "start_time": "2025-04-23T16:13:20.099Z"
   },
   {
    "duration": 3,
    "start_time": "2025-04-23T16:13:26.860Z"
   },
   {
    "duration": 30,
    "start_time": "2025-04-23T16:13:26.865Z"
   },
   {
    "duration": 3,
    "start_time": "2025-04-23T16:13:26.897Z"
   },
   {
    "duration": 11,
    "start_time": "2025-04-23T16:13:26.901Z"
   },
   {
    "duration": 3,
    "start_time": "2025-04-23T16:13:26.913Z"
   },
   {
    "duration": 8,
    "start_time": "2025-04-23T16:13:26.917Z"
   },
   {
    "duration": 146,
    "start_time": "2025-04-23T16:13:26.927Z"
   },
   {
    "duration": 0,
    "start_time": "2025-04-23T16:13:27.075Z"
   },
   {
    "duration": 0,
    "start_time": "2025-04-23T16:13:27.077Z"
   },
   {
    "duration": 31,
    "start_time": "2025-04-23T16:20:17.321Z"
   },
   {
    "duration": 3111,
    "start_time": "2025-04-23T16:20:25.347Z"
   },
   {
    "duration": 1339,
    "start_time": "2025-04-23T16:20:28.461Z"
   },
   {
    "duration": 4,
    "start_time": "2025-04-23T16:20:29.802Z"
   },
   {
    "duration": 46,
    "start_time": "2025-04-23T16:20:29.807Z"
   },
   {
    "duration": 10,
    "start_time": "2025-04-23T16:20:29.855Z"
   },
   {
    "duration": 24,
    "start_time": "2025-04-23T16:20:29.867Z"
   },
   {
    "duration": 18,
    "start_time": "2025-04-23T16:20:29.893Z"
   },
   {
    "duration": 1144,
    "start_time": "2025-04-23T16:20:29.912Z"
   },
   {
    "duration": 1238,
    "start_time": "2025-04-23T16:20:31.057Z"
   },
   {
    "duration": 421,
    "start_time": "2025-04-23T16:20:32.297Z"
   },
   {
    "duration": 4,
    "start_time": "2025-04-23T16:20:32.719Z"
   },
   {
    "duration": 372,
    "start_time": "2025-04-23T16:20:32.725Z"
   },
   {
    "duration": 14,
    "start_time": "2025-04-23T16:20:33.099Z"
   },
   {
    "duration": 31,
    "start_time": "2025-04-23T16:20:33.115Z"
   },
   {
    "duration": 4,
    "start_time": "2025-04-23T16:20:33.148Z"
   },
   {
    "duration": 7,
    "start_time": "2025-04-23T16:20:33.153Z"
   },
   {
    "duration": 16,
    "start_time": "2025-04-23T16:20:33.161Z"
   },
   {
    "duration": 3,
    "start_time": "2025-04-23T16:20:33.179Z"
   },
   {
    "duration": 2,
    "start_time": "2025-04-23T16:20:33.184Z"
   },
   {
    "duration": 3,
    "start_time": "2025-04-23T16:20:33.188Z"
   },
   {
    "duration": 3,
    "start_time": "2025-04-23T16:20:33.192Z"
   },
   {
    "duration": 144,
    "start_time": "2025-04-23T16:20:33.197Z"
   },
   {
    "duration": 5,
    "start_time": "2025-04-23T16:20:33.343Z"
   },
   {
    "duration": 90,
    "start_time": "2025-04-23T16:20:33.350Z"
   },
   {
    "duration": 7,
    "start_time": "2025-04-23T16:20:33.442Z"
   },
   {
    "duration": 3,
    "start_time": "2025-04-23T16:20:33.451Z"
   },
   {
    "duration": 3,
    "start_time": "2025-04-23T16:20:33.456Z"
   },
   {
    "duration": 16098,
    "start_time": "2025-04-23T16:20:33.461Z"
   },
   {
    "duration": 3,
    "start_time": "2025-04-23T16:20:49.561Z"
   },
   {
    "duration": 76,
    "start_time": "2025-04-23T16:20:49.565Z"
   },
   {
    "duration": 4,
    "start_time": "2025-04-23T16:20:49.643Z"
   },
   {
    "duration": 4,
    "start_time": "2025-04-23T16:20:49.649Z"
   },
   {
    "duration": 2,
    "start_time": "2025-04-23T16:20:49.655Z"
   },
   {
    "duration": 7,
    "start_time": "2025-04-23T16:20:49.659Z"
   },
   {
    "duration": 13,
    "start_time": "2025-04-23T16:20:49.668Z"
   },
   {
    "duration": 86,
    "start_time": "2025-04-23T16:20:49.683Z"
   },
   {
    "duration": 3,
    "start_time": "2025-04-23T16:20:49.771Z"
   },
   {
    "duration": 3,
    "start_time": "2025-04-23T16:20:49.776Z"
   },
   {
    "duration": 3,
    "start_time": "2025-04-23T16:20:49.781Z"
   },
   {
    "duration": 4,
    "start_time": "2025-04-23T16:20:49.785Z"
   },
   {
    "duration": 2,
    "start_time": "2025-04-23T16:20:49.793Z"
   },
   {
    "duration": 6742,
    "start_time": "2025-04-23T16:20:49.797Z"
   },
   {
    "duration": 4,
    "start_time": "2025-04-23T16:20:56.541Z"
   },
   {
    "duration": 4,
    "start_time": "2025-04-23T16:20:56.548Z"
   },
   {
    "duration": 4,
    "start_time": "2025-04-23T16:20:56.553Z"
   },
   {
    "duration": 20,
    "start_time": "2025-04-23T16:20:56.558Z"
   },
   {
    "duration": 3,
    "start_time": "2025-04-23T16:20:56.581Z"
   },
   {
    "duration": 4,
    "start_time": "2025-04-23T16:20:56.587Z"
   },
   {
    "duration": 175,
    "start_time": "2025-04-23T16:20:56.593Z"
   },
   {
    "duration": 0,
    "start_time": "2025-04-23T16:20:56.770Z"
   },
   {
    "duration": 0,
    "start_time": "2025-04-23T16:20:56.771Z"
   },
   {
    "duration": 3072,
    "start_time": "2025-04-23T16:21:58.328Z"
   },
   {
    "duration": 1400,
    "start_time": "2025-04-23T16:22:01.402Z"
   },
   {
    "duration": 3,
    "start_time": "2025-04-23T16:22:02.804Z"
   },
   {
    "duration": 57,
    "start_time": "2025-04-23T16:22:02.809Z"
   },
   {
    "duration": 10,
    "start_time": "2025-04-23T16:22:02.868Z"
   },
   {
    "duration": 18,
    "start_time": "2025-04-23T16:22:02.879Z"
   },
   {
    "duration": 9,
    "start_time": "2025-04-23T16:22:02.899Z"
   },
   {
    "duration": 1159,
    "start_time": "2025-04-23T16:22:02.909Z"
   },
   {
    "duration": 1222,
    "start_time": "2025-04-23T16:22:04.069Z"
   },
   {
    "duration": 287,
    "start_time": "2025-04-23T16:22:05.292Z"
   },
   {
    "duration": 5,
    "start_time": "2025-04-23T16:22:05.580Z"
   },
   {
    "duration": 373,
    "start_time": "2025-04-23T16:22:05.586Z"
   },
   {
    "duration": 14,
    "start_time": "2025-04-23T16:22:05.961Z"
   },
   {
    "duration": 13,
    "start_time": "2025-04-23T16:22:05.978Z"
   },
   {
    "duration": 10,
    "start_time": "2025-04-23T16:22:05.992Z"
   },
   {
    "duration": 13,
    "start_time": "2025-04-23T16:22:06.003Z"
   },
   {
    "duration": 23,
    "start_time": "2025-04-23T16:22:06.017Z"
   },
   {
    "duration": 4,
    "start_time": "2025-04-23T16:22:06.042Z"
   },
   {
    "duration": 3,
    "start_time": "2025-04-23T16:22:06.048Z"
   },
   {
    "duration": 59,
    "start_time": "2025-04-23T16:22:06.052Z"
   },
   {
    "duration": 20,
    "start_time": "2025-04-23T16:22:06.113Z"
   },
   {
    "duration": 313,
    "start_time": "2025-04-23T16:22:06.134Z"
   },
   {
    "duration": 83,
    "start_time": "2025-04-23T16:22:06.453Z"
   },
   {
    "duration": 3,
    "start_time": "2025-04-23T16:22:06.539Z"
   },
   {
    "duration": 5,
    "start_time": "2025-04-23T16:22:06.545Z"
   },
   {
    "duration": 15,
    "start_time": "2025-04-23T16:22:06.553Z"
   },
   {
    "duration": 5,
    "start_time": "2025-04-23T16:22:06.570Z"
   },
   {
    "duration": 14462,
    "start_time": "2025-04-23T16:22:06.577Z"
   },
   {
    "duration": 4,
    "start_time": "2025-04-23T16:22:21.043Z"
   },
   {
    "duration": 32,
    "start_time": "2025-04-23T16:22:21.049Z"
   },
   {
    "duration": 50,
    "start_time": "2025-04-23T16:22:21.083Z"
   },
   {
    "duration": 8,
    "start_time": "2025-04-23T16:22:21.135Z"
   },
   {
    "duration": 3,
    "start_time": "2025-04-23T16:22:21.148Z"
   },
   {
    "duration": 20,
    "start_time": "2025-04-23T16:22:21.159Z"
   },
   {
    "duration": 11,
    "start_time": "2025-04-23T16:22:21.180Z"
   },
   {
    "duration": 97,
    "start_time": "2025-04-23T16:22:21.192Z"
   },
   {
    "duration": 2,
    "start_time": "2025-04-23T16:22:21.291Z"
   },
   {
    "duration": 113,
    "start_time": "2025-04-23T16:22:21.295Z"
   },
   {
    "duration": 4,
    "start_time": "2025-04-23T16:22:21.410Z"
   },
   {
    "duration": 21,
    "start_time": "2025-04-23T16:22:21.415Z"
   },
   {
    "duration": 3,
    "start_time": "2025-04-23T16:22:21.443Z"
   },
   {
    "duration": 6619,
    "start_time": "2025-04-23T16:22:21.448Z"
   },
   {
    "duration": 3,
    "start_time": "2025-04-23T16:22:28.068Z"
   },
   {
    "duration": 56,
    "start_time": "2025-04-23T16:22:28.072Z"
   },
   {
    "duration": 3,
    "start_time": "2025-04-23T16:22:28.130Z"
   },
   {
    "duration": 18,
    "start_time": "2025-04-23T16:22:28.134Z"
   },
   {
    "duration": 3,
    "start_time": "2025-04-23T16:22:28.153Z"
   },
   {
    "duration": 4,
    "start_time": "2025-04-23T16:22:28.157Z"
   },
   {
    "duration": 145,
    "start_time": "2025-04-23T16:22:28.162Z"
   },
   {
    "duration": 0,
    "start_time": "2025-04-23T16:22:28.309Z"
   },
   {
    "duration": 0,
    "start_time": "2025-04-23T16:22:28.310Z"
   },
   {
    "duration": 3032,
    "start_time": "2025-04-23T16:32:56.416Z"
   },
   {
    "duration": 1309,
    "start_time": "2025-04-23T16:32:59.450Z"
   },
   {
    "duration": 5,
    "start_time": "2025-04-23T16:33:00.761Z"
   },
   {
    "duration": 52,
    "start_time": "2025-04-23T16:33:00.767Z"
   },
   {
    "duration": 9,
    "start_time": "2025-04-23T16:33:00.821Z"
   },
   {
    "duration": 6,
    "start_time": "2025-04-23T16:33:00.832Z"
   },
   {
    "duration": 3,
    "start_time": "2025-04-23T16:33:00.839Z"
   },
   {
    "duration": 8,
    "start_time": "2025-04-23T16:33:00.844Z"
   },
   {
    "duration": 1083,
    "start_time": "2025-04-23T16:33:00.853Z"
   },
   {
    "duration": 1197,
    "start_time": "2025-04-23T16:33:01.938Z"
   },
   {
    "duration": 258,
    "start_time": "2025-04-23T16:33:03.136Z"
   },
   {
    "duration": 5,
    "start_time": "2025-04-23T16:33:03.395Z"
   },
   {
    "duration": 444,
    "start_time": "2025-04-23T16:33:03.401Z"
   },
   {
    "duration": 15,
    "start_time": "2025-04-23T16:33:03.848Z"
   },
   {
    "duration": 15,
    "start_time": "2025-04-23T16:33:03.864Z"
   },
   {
    "duration": 4,
    "start_time": "2025-04-23T16:33:03.881Z"
   },
   {
    "duration": 75,
    "start_time": "2025-04-23T16:33:03.887Z"
   },
   {
    "duration": 15,
    "start_time": "2025-04-23T16:33:03.964Z"
   },
   {
    "duration": 13,
    "start_time": "2025-04-23T16:33:03.980Z"
   },
   {
    "duration": 4,
    "start_time": "2025-04-23T16:33:03.994Z"
   },
   {
    "duration": 3,
    "start_time": "2025-04-23T16:33:03.999Z"
   },
   {
    "duration": 2,
    "start_time": "2025-04-23T16:33:04.004Z"
   },
   {
    "duration": 328,
    "start_time": "2025-04-23T16:33:04.008Z"
   },
   {
    "duration": 3,
    "start_time": "2025-04-23T16:33:04.337Z"
   },
   {
    "duration": 8,
    "start_time": "2025-04-23T16:33:04.341Z"
   },
   {
    "duration": 12,
    "start_time": "2025-04-23T16:33:04.350Z"
   },
   {
    "duration": 16,
    "start_time": "2025-04-23T16:33:04.363Z"
   },
   {
    "duration": 3,
    "start_time": "2025-04-23T16:33:04.380Z"
   },
   {
    "duration": 2253,
    "start_time": "2025-04-23T16:33:04.385Z"
   },
   {
    "duration": 3,
    "start_time": "2025-04-23T16:33:06.639Z"
   },
   {
    "duration": 6,
    "start_time": "2025-04-23T16:33:06.644Z"
   },
   {
    "duration": 3,
    "start_time": "2025-04-23T16:33:06.652Z"
   },
   {
    "duration": 9,
    "start_time": "2025-04-23T16:33:06.657Z"
   },
   {
    "duration": 9,
    "start_time": "2025-04-23T16:33:06.668Z"
   },
   {
    "duration": 5,
    "start_time": "2025-04-23T16:33:06.678Z"
   },
   {
    "duration": 4,
    "start_time": "2025-04-23T16:33:06.685Z"
   },
   {
    "duration": 94,
    "start_time": "2025-04-23T16:33:06.690Z"
   },
   {
    "duration": 2,
    "start_time": "2025-04-23T16:33:06.786Z"
   },
   {
    "duration": 11,
    "start_time": "2025-04-23T16:33:06.790Z"
   },
   {
    "duration": 3,
    "start_time": "2025-04-23T16:33:06.802Z"
   },
   {
    "duration": 6,
    "start_time": "2025-04-23T16:33:06.808Z"
   },
   {
    "duration": 4,
    "start_time": "2025-04-23T16:33:06.815Z"
   },
   {
    "duration": 6311,
    "start_time": "2025-04-23T16:33:06.821Z"
   },
   {
    "duration": 3,
    "start_time": "2025-04-23T16:33:13.133Z"
   },
   {
    "duration": 8,
    "start_time": "2025-04-23T16:33:13.137Z"
   },
   {
    "duration": 4,
    "start_time": "2025-04-23T16:33:13.147Z"
   },
   {
    "duration": 10,
    "start_time": "2025-04-23T16:33:13.152Z"
   },
   {
    "duration": 2,
    "start_time": "2025-04-23T16:33:13.163Z"
   },
   {
    "duration": 3,
    "start_time": "2025-04-23T16:33:13.167Z"
   },
   {
    "duration": 148,
    "start_time": "2025-04-23T16:33:13.171Z"
   },
   {
    "duration": 0,
    "start_time": "2025-04-23T16:33:13.321Z"
   },
   {
    "duration": 0,
    "start_time": "2025-04-23T16:33:13.322Z"
   },
   {
    "duration": 25,
    "start_time": "2025-04-23T16:33:45.326Z"
   },
   {
    "duration": 2867,
    "start_time": "2025-04-23T16:33:51.446Z"
   },
   {
    "duration": 1367,
    "start_time": "2025-04-23T16:33:54.315Z"
   },
   {
    "duration": 5,
    "start_time": "2025-04-23T16:33:55.683Z"
   },
   {
    "duration": 40,
    "start_time": "2025-04-23T16:33:55.690Z"
   },
   {
    "duration": 11,
    "start_time": "2025-04-23T16:33:55.731Z"
   },
   {
    "duration": 8,
    "start_time": "2025-04-23T16:33:55.744Z"
   },
   {
    "duration": 5,
    "start_time": "2025-04-23T16:33:55.753Z"
   },
   {
    "duration": 10,
    "start_time": "2025-04-23T16:33:55.760Z"
   },
   {
    "duration": 1145,
    "start_time": "2025-04-23T16:33:55.771Z"
   },
   {
    "duration": 1195,
    "start_time": "2025-04-23T16:33:56.918Z"
   },
   {
    "duration": 273,
    "start_time": "2025-04-23T16:33:58.115Z"
   },
   {
    "duration": 4,
    "start_time": "2025-04-23T16:33:58.390Z"
   },
   {
    "duration": 369,
    "start_time": "2025-04-23T16:33:58.395Z"
   },
   {
    "duration": 13,
    "start_time": "2025-04-23T16:33:58.766Z"
   },
   {
    "duration": 13,
    "start_time": "2025-04-23T16:33:58.781Z"
   },
   {
    "duration": 19,
    "start_time": "2025-04-23T16:33:58.796Z"
   },
   {
    "duration": 4,
    "start_time": "2025-04-23T16:33:58.817Z"
   },
   {
    "duration": 2,
    "start_time": "2025-04-23T16:33:58.823Z"
   },
   {
    "duration": 2,
    "start_time": "2025-04-23T16:33:58.835Z"
   },
   {
    "duration": 2,
    "start_time": "2025-04-23T16:33:58.839Z"
   },
   {
    "duration": 4,
    "start_time": "2025-04-23T16:33:58.842Z"
   },
   {
    "duration": 3,
    "start_time": "2025-04-23T16:33:58.847Z"
   },
   {
    "duration": 487,
    "start_time": "2025-04-23T16:33:58.851Z"
   },
   {
    "duration": 92,
    "start_time": "2025-04-23T16:33:59.344Z"
   },
   {
    "duration": 3,
    "start_time": "2025-04-23T16:33:59.438Z"
   },
   {
    "duration": 4,
    "start_time": "2025-04-23T16:33:59.442Z"
   },
   {
    "duration": 3,
    "start_time": "2025-04-23T16:33:59.447Z"
   },
   {
    "duration": 2,
    "start_time": "2025-04-23T16:33:59.452Z"
   },
   {
    "duration": 2287,
    "start_time": "2025-04-23T16:33:59.455Z"
   },
   {
    "duration": 2,
    "start_time": "2025-04-23T16:34:01.744Z"
   },
   {
    "duration": 4,
    "start_time": "2025-04-23T16:34:01.748Z"
   },
   {
    "duration": 8,
    "start_time": "2025-04-23T16:34:01.753Z"
   },
   {
    "duration": 8,
    "start_time": "2025-04-23T16:34:01.762Z"
   },
   {
    "duration": 18,
    "start_time": "2025-04-23T16:34:01.771Z"
   },
   {
    "duration": 15,
    "start_time": "2025-04-23T16:34:01.791Z"
   },
   {
    "duration": 17,
    "start_time": "2025-04-23T16:34:01.808Z"
   },
   {
    "duration": 75,
    "start_time": "2025-04-23T16:34:01.827Z"
   },
   {
    "duration": 3,
    "start_time": "2025-04-23T16:34:01.903Z"
   },
   {
    "duration": 70,
    "start_time": "2025-04-23T16:34:01.908Z"
   },
   {
    "duration": 43,
    "start_time": "2025-04-23T16:34:01.979Z"
   },
   {
    "duration": 6,
    "start_time": "2025-04-23T16:34:02.024Z"
   },
   {
    "duration": 3,
    "start_time": "2025-04-23T16:34:02.032Z"
   },
   {
    "duration": 6945,
    "start_time": "2025-04-23T16:34:02.036Z"
   },
   {
    "duration": 3,
    "start_time": "2025-04-23T16:34:08.983Z"
   },
   {
    "duration": 4,
    "start_time": "2025-04-23T16:34:08.987Z"
   },
   {
    "duration": 3,
    "start_time": "2025-04-23T16:34:08.992Z"
   },
   {
    "duration": 11,
    "start_time": "2025-04-23T16:34:08.996Z"
   },
   {
    "duration": 2,
    "start_time": "2025-04-23T16:34:09.009Z"
   },
   {
    "duration": 3,
    "start_time": "2025-04-23T16:34:09.013Z"
   },
   {
    "duration": 123,
    "start_time": "2025-04-23T16:34:09.017Z"
   },
   {
    "duration": 0,
    "start_time": "2025-04-23T16:34:09.142Z"
   },
   {
    "duration": 0,
    "start_time": "2025-04-23T16:34:09.143Z"
   },
   {
    "duration": 2961,
    "start_time": "2025-04-23T16:34:15.941Z"
   },
   {
    "duration": 1332,
    "start_time": "2025-04-23T16:34:18.905Z"
   },
   {
    "duration": 4,
    "start_time": "2025-04-23T16:34:20.238Z"
   },
   {
    "duration": 56,
    "start_time": "2025-04-23T16:34:20.244Z"
   },
   {
    "duration": 9,
    "start_time": "2025-04-23T16:34:20.301Z"
   },
   {
    "duration": 5,
    "start_time": "2025-04-23T16:34:20.312Z"
   },
   {
    "duration": 3,
    "start_time": "2025-04-23T16:34:20.319Z"
   },
   {
    "duration": 11,
    "start_time": "2025-04-23T16:34:20.324Z"
   },
   {
    "duration": 1063,
    "start_time": "2025-04-23T16:34:20.337Z"
   },
   {
    "duration": 1153,
    "start_time": "2025-04-23T16:34:21.404Z"
   },
   {
    "duration": 273,
    "start_time": "2025-04-23T16:34:22.559Z"
   },
   {
    "duration": 5,
    "start_time": "2025-04-23T16:34:22.834Z"
   },
   {
    "duration": 357,
    "start_time": "2025-04-23T16:34:22.841Z"
   },
   {
    "duration": 15,
    "start_time": "2025-04-23T16:34:23.200Z"
   },
   {
    "duration": 24,
    "start_time": "2025-04-23T16:34:23.217Z"
   },
   {
    "duration": 4,
    "start_time": "2025-04-23T16:34:23.243Z"
   },
   {
    "duration": 7,
    "start_time": "2025-04-23T16:34:23.248Z"
   },
   {
    "duration": 2,
    "start_time": "2025-04-23T16:34:23.257Z"
   },
   {
    "duration": 2,
    "start_time": "2025-04-23T16:34:23.261Z"
   },
   {
    "duration": 2,
    "start_time": "2025-04-23T16:34:23.265Z"
   },
   {
    "duration": 3,
    "start_time": "2025-04-23T16:34:23.269Z"
   },
   {
    "duration": 4,
    "start_time": "2025-04-23T16:34:23.274Z"
   },
   {
    "duration": 260,
    "start_time": "2025-04-23T16:34:23.279Z"
   },
   {
    "duration": 3,
    "start_time": "2025-04-23T16:34:23.541Z"
   },
   {
    "duration": 5,
    "start_time": "2025-04-23T16:34:23.636Z"
   },
   {
    "duration": 3,
    "start_time": "2025-04-23T16:34:23.642Z"
   },
   {
    "duration": 5,
    "start_time": "2025-04-23T16:34:23.646Z"
   },
   {
    "duration": 2,
    "start_time": "2025-04-23T16:34:23.654Z"
   },
   {
    "duration": 2292,
    "start_time": "2025-04-23T16:34:23.657Z"
   },
   {
    "duration": 85,
    "start_time": "2025-04-23T16:34:25.951Z"
   },
   {
    "duration": 3,
    "start_time": "2025-04-23T16:34:26.038Z"
   },
   {
    "duration": 3,
    "start_time": "2025-04-23T16:34:26.043Z"
   },
   {
    "duration": 3,
    "start_time": "2025-04-23T16:34:26.048Z"
   },
   {
    "duration": 3,
    "start_time": "2025-04-23T16:34:26.052Z"
   },
   {
    "duration": 2,
    "start_time": "2025-04-23T16:34:26.057Z"
   },
   {
    "duration": 2,
    "start_time": "2025-04-23T16:34:26.061Z"
   },
   {
    "duration": 115,
    "start_time": "2025-04-23T16:34:26.065Z"
   },
   {
    "duration": 3,
    "start_time": "2025-04-23T16:34:26.182Z"
   },
   {
    "duration": 8,
    "start_time": "2025-04-23T16:34:26.186Z"
   },
   {
    "duration": 4,
    "start_time": "2025-04-23T16:34:26.195Z"
   },
   {
    "duration": 3,
    "start_time": "2025-04-23T16:34:26.200Z"
   },
   {
    "duration": 3,
    "start_time": "2025-04-23T16:34:26.204Z"
   },
   {
    "duration": 6466,
    "start_time": "2025-04-23T16:34:26.208Z"
   },
   {
    "duration": 4,
    "start_time": "2025-04-23T16:34:32.677Z"
   },
   {
    "duration": 10,
    "start_time": "2025-04-23T16:34:32.682Z"
   },
   {
    "duration": 18,
    "start_time": "2025-04-23T16:34:32.694Z"
   },
   {
    "duration": 23,
    "start_time": "2025-04-23T16:34:32.713Z"
   },
   {
    "duration": 6,
    "start_time": "2025-04-23T16:34:32.738Z"
   },
   {
    "duration": 4,
    "start_time": "2025-04-23T16:34:32.746Z"
   },
   {
    "duration": 154,
    "start_time": "2025-04-23T16:34:32.752Z"
   },
   {
    "duration": 0,
    "start_time": "2025-04-23T16:34:32.908Z"
   },
   {
    "duration": 0,
    "start_time": "2025-04-23T16:34:32.909Z"
   },
   {
    "duration": 25,
    "start_time": "2025-04-23T16:35:17.012Z"
   },
   {
    "duration": 2977,
    "start_time": "2025-04-23T16:35:19.832Z"
   },
   {
    "duration": 1361,
    "start_time": "2025-04-23T16:35:22.811Z"
   },
   {
    "duration": 5,
    "start_time": "2025-04-23T16:35:24.174Z"
   },
   {
    "duration": 69,
    "start_time": "2025-04-23T16:35:24.180Z"
   },
   {
    "duration": 9,
    "start_time": "2025-04-23T16:35:24.251Z"
   },
   {
    "duration": 6,
    "start_time": "2025-04-23T16:35:24.262Z"
   },
   {
    "duration": 4,
    "start_time": "2025-04-23T16:35:24.269Z"
   },
   {
    "duration": 17,
    "start_time": "2025-04-23T16:35:24.275Z"
   },
   {
    "duration": 1071,
    "start_time": "2025-04-23T16:35:24.293Z"
   },
   {
    "duration": 1179,
    "start_time": "2025-04-23T16:35:25.365Z"
   },
   {
    "duration": 290,
    "start_time": "2025-04-23T16:35:26.546Z"
   },
   {
    "duration": 4,
    "start_time": "2025-04-23T16:35:26.838Z"
   },
   {
    "duration": 395,
    "start_time": "2025-04-23T16:35:26.844Z"
   },
   {
    "duration": 14,
    "start_time": "2025-04-23T16:35:27.242Z"
   },
   {
    "duration": 20,
    "start_time": "2025-04-23T16:35:27.258Z"
   },
   {
    "duration": 3,
    "start_time": "2025-04-23T16:35:27.280Z"
   },
   {
    "duration": 4,
    "start_time": "2025-04-23T16:35:27.285Z"
   },
   {
    "duration": 3,
    "start_time": "2025-04-23T16:35:27.291Z"
   },
   {
    "duration": 4,
    "start_time": "2025-04-23T16:35:27.295Z"
   },
   {
    "duration": 3,
    "start_time": "2025-04-23T16:35:27.300Z"
   },
   {
    "duration": 48,
    "start_time": "2025-04-23T16:35:27.304Z"
   },
   {
    "duration": 16,
    "start_time": "2025-04-23T16:35:27.353Z"
   },
   {
    "duration": 267,
    "start_time": "2025-04-23T16:35:27.370Z"
   },
   {
    "duration": 4,
    "start_time": "2025-04-23T16:35:27.639Z"
   },
   {
    "duration": 91,
    "start_time": "2025-04-23T16:35:27.645Z"
   },
   {
    "duration": 3,
    "start_time": "2025-04-23T16:35:27.738Z"
   },
   {
    "duration": 3,
    "start_time": "2025-04-23T16:35:27.743Z"
   },
   {
    "duration": 3,
    "start_time": "2025-04-23T16:35:27.748Z"
   },
   {
    "duration": 7991,
    "start_time": "2025-04-23T16:35:27.753Z"
   },
   {
    "duration": 3,
    "start_time": "2025-04-23T16:35:35.745Z"
   },
   {
    "duration": 3,
    "start_time": "2025-04-23T16:35:35.749Z"
   },
   {
    "duration": 5,
    "start_time": "2025-04-23T16:35:35.754Z"
   },
   {
    "duration": 5,
    "start_time": "2025-04-23T16:35:35.761Z"
   },
   {
    "duration": 2,
    "start_time": "2025-04-23T16:35:35.768Z"
   },
   {
    "duration": 2,
    "start_time": "2025-04-23T16:35:35.836Z"
   },
   {
    "duration": 5,
    "start_time": "2025-04-23T16:35:35.840Z"
   },
   {
    "duration": 77,
    "start_time": "2025-04-23T16:35:35.846Z"
   },
   {
    "duration": 2,
    "start_time": "2025-04-23T16:35:35.936Z"
   },
   {
    "duration": 37,
    "start_time": "2025-04-23T16:35:35.940Z"
   },
   {
    "duration": 40,
    "start_time": "2025-04-23T16:35:35.979Z"
   },
   {
    "duration": 2,
    "start_time": "2025-04-23T16:35:36.023Z"
   },
   {
    "duration": 2,
    "start_time": "2025-04-23T16:35:36.026Z"
   },
   {
    "duration": 6316,
    "start_time": "2025-04-23T16:35:36.030Z"
   },
   {
    "duration": 2,
    "start_time": "2025-04-23T16:35:42.348Z"
   },
   {
    "duration": 5,
    "start_time": "2025-04-23T16:35:42.351Z"
   },
   {
    "duration": 7,
    "start_time": "2025-04-23T16:35:42.357Z"
   },
   {
    "duration": 11,
    "start_time": "2025-04-23T16:35:42.365Z"
   },
   {
    "duration": 2,
    "start_time": "2025-04-23T16:35:42.377Z"
   },
   {
    "duration": 3,
    "start_time": "2025-04-23T16:35:42.380Z"
   },
   {
    "duration": 133,
    "start_time": "2025-04-23T16:35:42.385Z"
   },
   {
    "duration": 0,
    "start_time": "2025-04-23T16:35:42.519Z"
   },
   {
    "duration": 0,
    "start_time": "2025-04-23T16:35:42.520Z"
   },
   {
    "duration": 2866,
    "start_time": "2025-04-23T16:42:41.459Z"
   },
   {
    "duration": 1328,
    "start_time": "2025-04-23T16:42:44.327Z"
   },
   {
    "duration": 4,
    "start_time": "2025-04-23T16:42:45.656Z"
   },
   {
    "duration": 38,
    "start_time": "2025-04-23T16:42:45.661Z"
   },
   {
    "duration": 9,
    "start_time": "2025-04-23T16:42:45.700Z"
   },
   {
    "duration": 5,
    "start_time": "2025-04-23T16:42:45.711Z"
   },
   {
    "duration": 18,
    "start_time": "2025-04-23T16:42:45.718Z"
   },
   {
    "duration": 8,
    "start_time": "2025-04-23T16:42:45.737Z"
   },
   {
    "duration": 1097,
    "start_time": "2025-04-23T16:42:45.747Z"
   },
   {
    "duration": 1165,
    "start_time": "2025-04-23T16:42:46.847Z"
   },
   {
    "duration": 126,
    "start_time": "2025-04-23T16:42:48.013Z"
   },
   {
    "duration": 0,
    "start_time": "2025-04-23T16:42:48.141Z"
   },
   {
    "duration": 0,
    "start_time": "2025-04-23T16:42:48.143Z"
   },
   {
    "duration": 0,
    "start_time": "2025-04-23T16:42:48.144Z"
   },
   {
    "duration": 0,
    "start_time": "2025-04-23T16:42:48.145Z"
   },
   {
    "duration": 0,
    "start_time": "2025-04-23T16:42:48.146Z"
   },
   {
    "duration": 0,
    "start_time": "2025-04-23T16:42:48.147Z"
   },
   {
    "duration": 0,
    "start_time": "2025-04-23T16:42:48.148Z"
   },
   {
    "duration": 0,
    "start_time": "2025-04-23T16:42:48.149Z"
   },
   {
    "duration": 0,
    "start_time": "2025-04-23T16:42:48.150Z"
   },
   {
    "duration": 0,
    "start_time": "2025-04-23T16:42:48.151Z"
   },
   {
    "duration": 0,
    "start_time": "2025-04-23T16:42:48.152Z"
   },
   {
    "duration": 0,
    "start_time": "2025-04-23T16:42:48.153Z"
   },
   {
    "duration": 0,
    "start_time": "2025-04-23T16:42:48.154Z"
   },
   {
    "duration": 0,
    "start_time": "2025-04-23T16:42:48.155Z"
   },
   {
    "duration": 0,
    "start_time": "2025-04-23T16:42:48.157Z"
   },
   {
    "duration": 0,
    "start_time": "2025-04-23T16:42:48.157Z"
   },
   {
    "duration": 0,
    "start_time": "2025-04-23T16:42:48.158Z"
   },
   {
    "duration": 0,
    "start_time": "2025-04-23T16:42:48.159Z"
   },
   {
    "duration": 0,
    "start_time": "2025-04-23T16:42:48.161Z"
   },
   {
    "duration": 0,
    "start_time": "2025-04-23T16:42:48.161Z"
   },
   {
    "duration": 0,
    "start_time": "2025-04-23T16:42:48.163Z"
   },
   {
    "duration": 0,
    "start_time": "2025-04-23T16:42:48.164Z"
   },
   {
    "duration": 0,
    "start_time": "2025-04-23T16:42:48.164Z"
   },
   {
    "duration": 0,
    "start_time": "2025-04-23T16:42:48.165Z"
   },
   {
    "duration": 0,
    "start_time": "2025-04-23T16:42:48.167Z"
   },
   {
    "duration": 0,
    "start_time": "2025-04-23T16:42:48.168Z"
   },
   {
    "duration": 0,
    "start_time": "2025-04-23T16:42:48.169Z"
   },
   {
    "duration": 0,
    "start_time": "2025-04-23T16:42:48.170Z"
   },
   {
    "duration": 0,
    "start_time": "2025-04-23T16:42:48.171Z"
   },
   {
    "duration": 0,
    "start_time": "2025-04-23T16:42:48.172Z"
   },
   {
    "duration": 0,
    "start_time": "2025-04-23T16:42:48.173Z"
   },
   {
    "duration": 0,
    "start_time": "2025-04-23T16:42:48.174Z"
   },
   {
    "duration": 0,
    "start_time": "2025-04-23T16:42:48.176Z"
   },
   {
    "duration": 0,
    "start_time": "2025-04-23T16:42:48.236Z"
   },
   {
    "duration": 0,
    "start_time": "2025-04-23T16:42:48.237Z"
   },
   {
    "duration": 0,
    "start_time": "2025-04-23T16:42:48.238Z"
   },
   {
    "duration": 0,
    "start_time": "2025-04-23T16:42:48.239Z"
   },
   {
    "duration": 0,
    "start_time": "2025-04-23T16:42:48.240Z"
   },
   {
    "duration": 0,
    "start_time": "2025-04-23T16:42:48.241Z"
   },
   {
    "duration": 0,
    "start_time": "2025-04-23T16:42:48.242Z"
   },
   {
    "duration": 0,
    "start_time": "2025-04-23T16:42:48.243Z"
   },
   {
    "duration": 0,
    "start_time": "2025-04-23T16:42:48.244Z"
   },
   {
    "duration": 165,
    "start_time": "2025-04-23T16:43:08.353Z"
   },
   {
    "duration": 266,
    "start_time": "2025-04-23T16:43:20.692Z"
   },
   {
    "duration": 224,
    "start_time": "2025-04-23T16:43:27.162Z"
   },
   {
    "duration": 156,
    "start_time": "2025-04-23T16:43:39.208Z"
   },
   {
    "duration": 172,
    "start_time": "2025-04-23T16:43:46.257Z"
   },
   {
    "duration": 168,
    "start_time": "2025-04-23T16:43:52.535Z"
   },
   {
    "duration": 169,
    "start_time": "2025-04-23T16:44:01.956Z"
   },
   {
    "duration": 2919,
    "start_time": "2025-04-23T16:44:32.992Z"
   },
   {
    "duration": 1348,
    "start_time": "2025-04-23T16:44:35.913Z"
   },
   {
    "duration": 3,
    "start_time": "2025-04-23T16:44:37.263Z"
   },
   {
    "duration": 39,
    "start_time": "2025-04-23T16:44:37.268Z"
   },
   {
    "duration": 10,
    "start_time": "2025-04-23T16:44:37.309Z"
   },
   {
    "duration": 6,
    "start_time": "2025-04-23T16:44:37.320Z"
   },
   {
    "duration": 4,
    "start_time": "2025-04-23T16:44:37.336Z"
   },
   {
    "duration": 9,
    "start_time": "2025-04-23T16:44:37.341Z"
   },
   {
    "duration": 1068,
    "start_time": "2025-04-23T16:44:37.352Z"
   },
   {
    "duration": 1148,
    "start_time": "2025-04-23T16:44:38.423Z"
   },
   {
    "duration": 277,
    "start_time": "2025-04-23T16:44:39.572Z"
   },
   {
    "duration": 176,
    "start_time": "2025-04-23T16:44:39.851Z"
   },
   {
    "duration": 8,
    "start_time": "2025-04-23T16:44:40.029Z"
   },
   {
    "duration": 368,
    "start_time": "2025-04-23T16:44:40.038Z"
   },
   {
    "duration": 14,
    "start_time": "2025-04-23T16:44:40.407Z"
   },
   {
    "duration": 21,
    "start_time": "2025-04-23T16:44:40.423Z"
   },
   {
    "duration": 3,
    "start_time": "2025-04-23T16:44:40.446Z"
   },
   {
    "duration": 5,
    "start_time": "2025-04-23T16:44:40.451Z"
   },
   {
    "duration": 2,
    "start_time": "2025-04-23T16:44:40.458Z"
   },
   {
    "duration": 3,
    "start_time": "2025-04-23T16:44:40.462Z"
   },
   {
    "duration": 4,
    "start_time": "2025-04-23T16:44:40.466Z"
   },
   {
    "duration": 8,
    "start_time": "2025-04-23T16:44:40.471Z"
   },
   {
    "duration": 18,
    "start_time": "2025-04-23T16:44:40.481Z"
   },
   {
    "duration": 240,
    "start_time": "2025-04-23T16:44:40.501Z"
   },
   {
    "duration": 94,
    "start_time": "2025-04-23T16:44:40.743Z"
   },
   {
    "duration": 2,
    "start_time": "2025-04-23T16:44:40.839Z"
   },
   {
    "duration": 4,
    "start_time": "2025-04-23T16:44:40.843Z"
   },
   {
    "duration": 2,
    "start_time": "2025-04-23T16:44:40.851Z"
   },
   {
    "duration": 3,
    "start_time": "2025-04-23T16:44:40.854Z"
   },
   {
    "duration": 2303,
    "start_time": "2025-04-23T16:44:40.935Z"
   },
   {
    "duration": 2,
    "start_time": "2025-04-23T16:44:43.239Z"
   },
   {
    "duration": 3,
    "start_time": "2025-04-23T16:44:43.243Z"
   },
   {
    "duration": 2,
    "start_time": "2025-04-23T16:44:43.248Z"
   },
   {
    "duration": 4,
    "start_time": "2025-04-23T16:44:43.251Z"
   },
   {
    "duration": 3,
    "start_time": "2025-04-23T16:44:43.256Z"
   },
   {
    "duration": 3,
    "start_time": "2025-04-23T16:44:43.260Z"
   },
   {
    "duration": 4,
    "start_time": "2025-04-23T16:44:43.264Z"
   },
   {
    "duration": 106,
    "start_time": "2025-04-23T16:44:43.269Z"
   },
   {
    "duration": 3,
    "start_time": "2025-04-23T16:44:43.376Z"
   },
   {
    "duration": 15,
    "start_time": "2025-04-23T16:44:43.381Z"
   },
   {
    "duration": 57,
    "start_time": "2025-04-23T16:44:43.398Z"
   },
   {
    "duration": 21,
    "start_time": "2025-04-23T16:44:43.457Z"
   },
   {
    "duration": 4,
    "start_time": "2025-04-23T16:44:43.479Z"
   },
   {
    "duration": 6202,
    "start_time": "2025-04-23T16:44:43.484Z"
   },
   {
    "duration": 2,
    "start_time": "2025-04-23T16:44:49.688Z"
   },
   {
    "duration": 3,
    "start_time": "2025-04-23T16:44:49.692Z"
   },
   {
    "duration": 2,
    "start_time": "2025-04-23T16:44:49.697Z"
   },
   {
    "duration": 9,
    "start_time": "2025-04-23T16:44:49.701Z"
   },
   {
    "duration": 3,
    "start_time": "2025-04-23T16:44:49.711Z"
   },
   {
    "duration": 3,
    "start_time": "2025-04-23T16:44:49.715Z"
   },
   {
    "duration": 118,
    "start_time": "2025-04-23T16:44:49.719Z"
   },
   {
    "duration": 0,
    "start_time": "2025-04-23T16:44:49.839Z"
   },
   {
    "duration": 1,
    "start_time": "2025-04-23T16:44:49.839Z"
   },
   {
    "duration": 2912,
    "start_time": "2025-04-23T16:51:06.062Z"
   },
   {
    "duration": 1252,
    "start_time": "2025-04-23T16:51:08.977Z"
   },
   {
    "duration": 4,
    "start_time": "2025-04-23T16:51:10.231Z"
   },
   {
    "duration": 47,
    "start_time": "2025-04-23T16:51:10.237Z"
   },
   {
    "duration": 10,
    "start_time": "2025-04-23T16:51:10.285Z"
   },
   {
    "duration": 9,
    "start_time": "2025-04-23T16:51:10.296Z"
   },
   {
    "duration": 4,
    "start_time": "2025-04-23T16:51:10.306Z"
   },
   {
    "duration": 8,
    "start_time": "2025-04-23T16:51:10.311Z"
   },
   {
    "duration": 1078,
    "start_time": "2025-04-23T16:51:10.321Z"
   },
   {
    "duration": 1112,
    "start_time": "2025-04-23T16:51:11.402Z"
   },
   {
    "duration": 283,
    "start_time": "2025-04-23T16:51:12.515Z"
   },
   {
    "duration": 4,
    "start_time": "2025-04-23T16:51:12.799Z"
   },
   {
    "duration": 358,
    "start_time": "2025-04-23T16:51:12.805Z"
   },
   {
    "duration": 26,
    "start_time": "2025-04-23T16:51:13.164Z"
   },
   {
    "duration": 22,
    "start_time": "2025-04-23T16:51:13.191Z"
   },
   {
    "duration": 21,
    "start_time": "2025-04-23T16:51:13.214Z"
   },
   {
    "duration": 6,
    "start_time": "2025-04-23T16:51:13.237Z"
   },
   {
    "duration": 4,
    "start_time": "2025-04-23T16:51:13.244Z"
   },
   {
    "duration": 3,
    "start_time": "2025-04-23T16:51:13.249Z"
   },
   {
    "duration": 13,
    "start_time": "2025-04-23T16:51:13.253Z"
   },
   {
    "duration": 3,
    "start_time": "2025-04-23T16:51:13.268Z"
   },
   {
    "duration": 6,
    "start_time": "2025-04-23T16:51:13.272Z"
   },
   {
    "duration": 461,
    "start_time": "2025-04-23T16:51:13.280Z"
   },
   {
    "duration": 93,
    "start_time": "2025-04-23T16:51:13.743Z"
   },
   {
    "duration": 3,
    "start_time": "2025-04-23T16:51:13.838Z"
   },
   {
    "duration": 2,
    "start_time": "2025-04-23T16:51:13.844Z"
   },
   {
    "duration": 3,
    "start_time": "2025-04-23T16:51:13.848Z"
   },
   {
    "duration": 2,
    "start_time": "2025-04-23T16:51:13.936Z"
   },
   {
    "duration": 2905,
    "start_time": "2025-04-23T16:51:13.940Z"
   },
   {
    "duration": 2,
    "start_time": "2025-04-23T16:51:16.847Z"
   },
   {
    "duration": 5,
    "start_time": "2025-04-23T16:51:16.850Z"
   },
   {
    "duration": 3,
    "start_time": "2025-04-23T16:51:16.857Z"
   },
   {
    "duration": 75,
    "start_time": "2025-04-23T16:51:16.861Z"
   },
   {
    "duration": 3,
    "start_time": "2025-04-23T16:51:16.937Z"
   },
   {
    "duration": 44,
    "start_time": "2025-04-23T16:51:16.941Z"
   },
   {
    "duration": 8,
    "start_time": "2025-04-23T16:51:16.986Z"
   },
   {
    "duration": 181,
    "start_time": "2025-04-23T16:51:16.995Z"
   },
   {
    "duration": 3,
    "start_time": "2025-04-23T16:51:17.178Z"
   },
   {
    "duration": 6,
    "start_time": "2025-04-23T16:51:17.182Z"
   },
   {
    "duration": 4,
    "start_time": "2025-04-23T16:51:17.189Z"
   },
   {
    "duration": 3,
    "start_time": "2025-04-23T16:51:17.194Z"
   },
   {
    "duration": 3,
    "start_time": "2025-04-23T16:51:17.199Z"
   },
   {
    "duration": 14757,
    "start_time": "2025-04-23T16:51:17.204Z"
   },
   {
    "duration": 3,
    "start_time": "2025-04-23T16:51:31.963Z"
   },
   {
    "duration": 50,
    "start_time": "2025-04-23T16:51:31.967Z"
   },
   {
    "duration": 5,
    "start_time": "2025-04-23T16:51:32.019Z"
   },
   {
    "duration": 9,
    "start_time": "2025-04-23T16:51:32.025Z"
   },
   {
    "duration": 2,
    "start_time": "2025-04-23T16:51:32.036Z"
   },
   {
    "duration": 3,
    "start_time": "2025-04-23T16:51:32.039Z"
   },
   {
    "duration": 135,
    "start_time": "2025-04-23T16:51:32.043Z"
   },
   {
    "duration": 0,
    "start_time": "2025-04-23T16:51:32.179Z"
   },
   {
    "duration": 0,
    "start_time": "2025-04-23T16:51:32.181Z"
   },
   {
    "duration": 11,
    "start_time": "2025-04-23T16:57:17.253Z"
   },
   {
    "duration": 2969,
    "start_time": "2025-04-23T16:57:54.341Z"
   },
   {
    "duration": 1323,
    "start_time": "2025-04-23T16:57:57.312Z"
   },
   {
    "duration": 4,
    "start_time": "2025-04-23T16:57:58.636Z"
   },
   {
    "duration": 42,
    "start_time": "2025-04-23T16:57:58.642Z"
   },
   {
    "duration": 10,
    "start_time": "2025-04-23T16:57:58.685Z"
   },
   {
    "duration": 6,
    "start_time": "2025-04-23T16:57:58.696Z"
   },
   {
    "duration": 4,
    "start_time": "2025-04-23T16:57:58.704Z"
   },
   {
    "duration": 30,
    "start_time": "2025-04-23T16:57:58.710Z"
   },
   {
    "duration": 1062,
    "start_time": "2025-04-23T16:57:58.742Z"
   },
   {
    "duration": 1166,
    "start_time": "2025-04-23T16:57:59.806Z"
   },
   {
    "duration": 284,
    "start_time": "2025-04-23T16:58:00.973Z"
   },
   {
    "duration": 7,
    "start_time": "2025-04-23T16:58:01.259Z"
   },
   {
    "duration": 390,
    "start_time": "2025-04-23T16:58:01.268Z"
   },
   {
    "duration": 31,
    "start_time": "2025-04-23T16:58:01.660Z"
   },
   {
    "duration": 45,
    "start_time": "2025-04-23T16:58:01.693Z"
   },
   {
    "duration": 7,
    "start_time": "2025-04-23T16:58:01.740Z"
   },
   {
    "duration": 16,
    "start_time": "2025-04-23T16:58:01.749Z"
   },
   {
    "duration": 8,
    "start_time": "2025-04-23T16:58:01.767Z"
   },
   {
    "duration": 6,
    "start_time": "2025-04-23T16:58:01.776Z"
   },
   {
    "duration": 9,
    "start_time": "2025-04-23T16:58:01.784Z"
   },
   {
    "duration": 3,
    "start_time": "2025-04-23T16:58:01.795Z"
   },
   {
    "duration": 17,
    "start_time": "2025-04-23T16:58:01.800Z"
   },
   {
    "duration": 618,
    "start_time": "2025-04-23T16:58:01.818Z"
   },
   {
    "duration": 3,
    "start_time": "2025-04-23T16:58:02.437Z"
   },
   {
    "duration": 5,
    "start_time": "2025-04-23T16:58:02.441Z"
   },
   {
    "duration": 3,
    "start_time": "2025-04-23T16:58:02.448Z"
   },
   {
    "duration": 3,
    "start_time": "2025-04-23T16:58:02.452Z"
   },
   {
    "duration": 33,
    "start_time": "2025-04-23T16:58:02.538Z"
   },
   {
    "duration": 2774,
    "start_time": "2025-04-23T16:58:02.573Z"
   },
   {
    "duration": 2,
    "start_time": "2025-04-23T16:58:05.348Z"
   },
   {
    "duration": 83,
    "start_time": "2025-04-23T16:58:05.352Z"
   },
   {
    "duration": 44,
    "start_time": "2025-04-23T16:58:05.437Z"
   },
   {
    "duration": 23,
    "start_time": "2025-04-23T16:58:05.483Z"
   },
   {
    "duration": 13,
    "start_time": "2025-04-23T16:58:05.508Z"
   },
   {
    "duration": 4,
    "start_time": "2025-04-23T16:58:05.523Z"
   },
   {
    "duration": 12,
    "start_time": "2025-04-23T16:58:05.529Z"
   },
   {
    "duration": 167,
    "start_time": "2025-04-23T16:58:05.542Z"
   },
   {
    "duration": 2,
    "start_time": "2025-04-23T16:58:05.711Z"
   },
   {
    "duration": 12,
    "start_time": "2025-04-23T16:58:05.714Z"
   },
   {
    "duration": 17,
    "start_time": "2025-04-23T16:58:05.727Z"
   },
   {
    "duration": 3,
    "start_time": "2025-04-23T16:58:05.745Z"
   },
   {
    "duration": 13,
    "start_time": "2025-04-23T16:58:05.749Z"
   },
   {
    "duration": 14937,
    "start_time": "2025-04-23T16:58:05.763Z"
   },
   {
    "duration": 3,
    "start_time": "2025-04-23T16:58:20.701Z"
   },
   {
    "duration": 22,
    "start_time": "2025-04-23T16:58:20.706Z"
   },
   {
    "duration": 29,
    "start_time": "2025-04-23T16:58:20.729Z"
   },
   {
    "duration": 40,
    "start_time": "2025-04-23T16:58:20.759Z"
   },
   {
    "duration": 125,
    "start_time": "2025-04-23T16:58:20.801Z"
   },
   {
    "duration": 8,
    "start_time": "2025-04-23T16:58:43.144Z"
   },
   {
    "duration": 4,
    "start_time": "2025-04-23T16:59:10.878Z"
   },
   {
    "duration": 8,
    "start_time": "2025-04-23T16:59:17.903Z"
   },
   {
    "duration": 12,
    "start_time": "2025-04-23T16:59:21.650Z"
   },
   {
    "duration": 2823,
    "start_time": "2025-04-23T16:59:28.390Z"
   },
   {
    "duration": 1331,
    "start_time": "2025-04-23T16:59:31.215Z"
   },
   {
    "duration": 3,
    "start_time": "2025-04-23T16:59:32.548Z"
   },
   {
    "duration": 50,
    "start_time": "2025-04-23T16:59:32.553Z"
   },
   {
    "duration": 9,
    "start_time": "2025-04-23T16:59:32.605Z"
   },
   {
    "duration": 6,
    "start_time": "2025-04-23T16:59:32.615Z"
   },
   {
    "duration": 4,
    "start_time": "2025-04-23T16:59:32.623Z"
   },
   {
    "duration": 14,
    "start_time": "2025-04-23T16:59:32.628Z"
   },
   {
    "duration": 1093,
    "start_time": "2025-04-23T16:59:32.643Z"
   },
   {
    "duration": 1163,
    "start_time": "2025-04-23T16:59:33.738Z"
   },
   {
    "duration": 255,
    "start_time": "2025-04-23T16:59:34.902Z"
   },
   {
    "duration": 5,
    "start_time": "2025-04-23T16:59:35.158Z"
   },
   {
    "duration": 377,
    "start_time": "2025-04-23T16:59:35.164Z"
   },
   {
    "duration": 27,
    "start_time": "2025-04-23T16:59:35.545Z"
   },
   {
    "duration": 23,
    "start_time": "2025-04-23T16:59:35.574Z"
   },
   {
    "duration": 5,
    "start_time": "2025-04-23T16:59:35.599Z"
   },
   {
    "duration": 34,
    "start_time": "2025-04-23T16:59:35.605Z"
   },
   {
    "duration": 5,
    "start_time": "2025-04-23T16:59:35.641Z"
   },
   {
    "duration": 4,
    "start_time": "2025-04-23T16:59:35.647Z"
   },
   {
    "duration": 4,
    "start_time": "2025-04-23T16:59:35.652Z"
   },
   {
    "duration": 10,
    "start_time": "2025-04-23T16:59:35.657Z"
   },
   {
    "duration": 4,
    "start_time": "2025-04-23T16:59:35.669Z"
   },
   {
    "duration": 367,
    "start_time": "2025-04-23T16:59:35.674Z"
   },
   {
    "duration": 93,
    "start_time": "2025-04-23T16:59:36.043Z"
   },
   {
    "duration": 3,
    "start_time": "2025-04-23T16:59:36.138Z"
   },
   {
    "duration": 2,
    "start_time": "2025-04-23T16:59:36.143Z"
   },
   {
    "duration": 3,
    "start_time": "2025-04-23T16:59:36.147Z"
   },
   {
    "duration": 3,
    "start_time": "2025-04-23T16:59:36.151Z"
   },
   {
    "duration": 3086,
    "start_time": "2025-04-23T16:59:36.156Z"
   },
   {
    "duration": 3,
    "start_time": "2025-04-23T16:59:39.243Z"
   },
   {
    "duration": 4,
    "start_time": "2025-04-23T16:59:39.247Z"
   },
   {
    "duration": 2,
    "start_time": "2025-04-23T16:59:39.253Z"
   },
   {
    "duration": 3,
    "start_time": "2025-04-23T16:59:39.256Z"
   },
   {
    "duration": 2,
    "start_time": "2025-04-23T16:59:39.260Z"
   },
   {
    "duration": 3,
    "start_time": "2025-04-23T16:59:39.263Z"
   },
   {
    "duration": 2,
    "start_time": "2025-04-23T16:59:39.267Z"
   },
   {
    "duration": 223,
    "start_time": "2025-04-23T16:59:39.271Z"
   },
   {
    "duration": 2,
    "start_time": "2025-04-23T16:59:39.496Z"
   },
   {
    "duration": 22,
    "start_time": "2025-04-23T16:59:39.499Z"
   },
   {
    "duration": 3,
    "start_time": "2025-04-23T16:59:39.522Z"
   },
   {
    "duration": 2,
    "start_time": "2025-04-23T16:59:39.529Z"
   },
   {
    "duration": 8,
    "start_time": "2025-04-23T16:59:39.532Z"
   },
   {
    "duration": 14238,
    "start_time": "2025-04-23T16:59:39.541Z"
   },
   {
    "duration": 3,
    "start_time": "2025-04-23T16:59:53.781Z"
   },
   {
    "duration": 6,
    "start_time": "2025-04-23T16:59:53.786Z"
   },
   {
    "duration": 11,
    "start_time": "2025-04-23T16:59:53.793Z"
   },
   {
    "duration": 11,
    "start_time": "2025-04-23T16:59:53.805Z"
   },
   {
    "duration": 3,
    "start_time": "2025-04-23T16:59:53.818Z"
   },
   {
    "duration": 11,
    "start_time": "2025-04-23T16:59:53.823Z"
   },
   {
    "duration": 124,
    "start_time": "2025-04-23T16:59:53.836Z"
   },
   {
    "duration": 5,
    "start_time": "2025-04-23T17:01:35.536Z"
   },
   {
    "duration": 5,
    "start_time": "2025-04-23T17:01:39.837Z"
   },
   {
    "duration": 5,
    "start_time": "2025-04-23T17:01:43.333Z"
   },
   {
    "duration": 998,
    "start_time": "2025-04-23T17:01:47.138Z"
   },
   {
    "duration": 3,
    "start_time": "2025-04-23T17:01:50.454Z"
   },
   {
    "duration": 1051,
    "start_time": "2025-04-23T17:02:15.074Z"
   },
   {
    "duration": 2871,
    "start_time": "2025-04-23T17:02:51.420Z"
   },
   {
    "duration": 1238,
    "start_time": "2025-04-23T17:02:54.294Z"
   },
   {
    "duration": 3,
    "start_time": "2025-04-23T17:02:55.535Z"
   },
   {
    "duration": 41,
    "start_time": "2025-04-23T17:02:55.540Z"
   },
   {
    "duration": 10,
    "start_time": "2025-04-23T17:02:55.583Z"
   },
   {
    "duration": 6,
    "start_time": "2025-04-23T17:02:55.595Z"
   },
   {
    "duration": 11,
    "start_time": "2025-04-23T17:02:55.603Z"
   },
   {
    "duration": 22,
    "start_time": "2025-04-23T17:02:55.615Z"
   },
   {
    "duration": 1180,
    "start_time": "2025-04-23T17:02:55.639Z"
   },
   {
    "duration": 1155,
    "start_time": "2025-04-23T17:02:56.822Z"
   },
   {
    "duration": 264,
    "start_time": "2025-04-23T17:02:57.978Z"
   },
   {
    "duration": 3,
    "start_time": "2025-04-23T17:02:58.244Z"
   },
   {
    "duration": 369,
    "start_time": "2025-04-23T17:02:58.249Z"
   },
   {
    "duration": 33,
    "start_time": "2025-04-23T17:02:58.620Z"
   },
   {
    "duration": 21,
    "start_time": "2025-04-23T17:02:58.655Z"
   },
   {
    "duration": 4,
    "start_time": "2025-04-23T17:02:58.677Z"
   },
   {
    "duration": 6,
    "start_time": "2025-04-23T17:02:58.682Z"
   },
   {
    "duration": 4,
    "start_time": "2025-04-23T17:02:58.690Z"
   },
   {
    "duration": 6,
    "start_time": "2025-04-23T17:02:58.695Z"
   },
   {
    "duration": 3,
    "start_time": "2025-04-23T17:02:58.702Z"
   },
   {
    "duration": 30,
    "start_time": "2025-04-23T17:02:58.706Z"
   },
   {
    "duration": 3,
    "start_time": "2025-04-23T17:02:58.737Z"
   },
   {
    "duration": 498,
    "start_time": "2025-04-23T17:02:58.741Z"
   },
   {
    "duration": 94,
    "start_time": "2025-04-23T17:02:59.242Z"
   },
   {
    "duration": 2,
    "start_time": "2025-04-23T17:02:59.338Z"
   },
   {
    "duration": 3,
    "start_time": "2025-04-23T17:02:59.342Z"
   },
   {
    "duration": 3,
    "start_time": "2025-04-23T17:02:59.346Z"
   },
   {
    "duration": 2,
    "start_time": "2025-04-23T17:02:59.352Z"
   },
   {
    "duration": 2988,
    "start_time": "2025-04-23T17:02:59.355Z"
   },
   {
    "duration": 3,
    "start_time": "2025-04-23T17:03:02.345Z"
   },
   {
    "duration": 56,
    "start_time": "2025-04-23T17:03:02.349Z"
   },
   {
    "duration": 14,
    "start_time": "2025-04-23T17:03:02.406Z"
   },
   {
    "duration": 15,
    "start_time": "2025-04-23T17:03:02.421Z"
   },
   {
    "duration": 13,
    "start_time": "2025-04-23T17:03:02.437Z"
   },
   {
    "duration": 12,
    "start_time": "2025-04-23T17:03:02.452Z"
   },
   {
    "duration": 21,
    "start_time": "2025-04-23T17:03:02.466Z"
   },
   {
    "duration": 175,
    "start_time": "2025-04-23T17:03:02.488Z"
   },
   {
    "duration": 4,
    "start_time": "2025-04-23T17:03:02.665Z"
   },
   {
    "duration": 6,
    "start_time": "2025-04-23T17:03:02.670Z"
   },
   {
    "duration": 43,
    "start_time": "2025-04-23T17:03:02.677Z"
   },
   {
    "duration": 21,
    "start_time": "2025-04-23T17:03:02.722Z"
   },
   {
    "duration": 3,
    "start_time": "2025-04-23T17:03:02.745Z"
   },
   {
    "duration": 174,
    "start_time": "2025-04-23T17:03:02.749Z"
   },
   {
    "duration": 2,
    "start_time": "2025-04-23T17:03:02.924Z"
   },
   {
    "duration": 4,
    "start_time": "2025-04-23T17:03:02.935Z"
   },
   {
    "duration": 16,
    "start_time": "2025-04-23T17:03:02.940Z"
   },
   {
    "duration": 74,
    "start_time": "2025-04-23T17:03:02.957Z"
   },
   {
    "duration": 12,
    "start_time": "2025-04-23T17:03:03.033Z"
   },
   {
    "duration": 9,
    "start_time": "2025-04-23T17:03:03.047Z"
   },
   {
    "duration": 146,
    "start_time": "2025-04-23T17:03:03.058Z"
   },
   {
    "duration": 2898,
    "start_time": "2025-04-23T17:03:46.743Z"
   },
   {
    "duration": 1292,
    "start_time": "2025-04-23T17:03:49.643Z"
   },
   {
    "duration": 3,
    "start_time": "2025-04-23T17:03:50.937Z"
   },
   {
    "duration": 46,
    "start_time": "2025-04-23T17:03:50.942Z"
   },
   {
    "duration": 9,
    "start_time": "2025-04-23T17:03:50.990Z"
   },
   {
    "duration": 24,
    "start_time": "2025-04-23T17:03:51.000Z"
   },
   {
    "duration": 7,
    "start_time": "2025-04-23T17:03:51.025Z"
   },
   {
    "duration": 9,
    "start_time": "2025-04-23T17:03:51.034Z"
   },
   {
    "duration": 1080,
    "start_time": "2025-04-23T17:03:51.044Z"
   },
   {
    "duration": 1177,
    "start_time": "2025-04-23T17:03:52.127Z"
   },
   {
    "duration": 271,
    "start_time": "2025-04-23T17:03:53.306Z"
   },
   {
    "duration": 4,
    "start_time": "2025-04-23T17:03:53.579Z"
   },
   {
    "duration": 375,
    "start_time": "2025-04-23T17:03:53.584Z"
   },
   {
    "duration": 27,
    "start_time": "2025-04-23T17:03:53.961Z"
   },
   {
    "duration": 24,
    "start_time": "2025-04-23T17:03:53.989Z"
   },
   {
    "duration": 22,
    "start_time": "2025-04-23T17:03:54.015Z"
   },
   {
    "duration": 6,
    "start_time": "2025-04-23T17:03:54.038Z"
   },
   {
    "duration": 3,
    "start_time": "2025-04-23T17:03:54.045Z"
   },
   {
    "duration": 3,
    "start_time": "2025-04-23T17:03:54.050Z"
   },
   {
    "duration": 3,
    "start_time": "2025-04-23T17:03:54.054Z"
   },
   {
    "duration": 4,
    "start_time": "2025-04-23T17:03:54.058Z"
   },
   {
    "duration": 4,
    "start_time": "2025-04-23T17:03:54.063Z"
   },
   {
    "duration": 567,
    "start_time": "2025-04-23T17:03:54.068Z"
   },
   {
    "duration": 3,
    "start_time": "2025-04-23T17:03:54.637Z"
   },
   {
    "duration": 4,
    "start_time": "2025-04-23T17:03:54.641Z"
   },
   {
    "duration": 3,
    "start_time": "2025-04-23T17:03:54.646Z"
   },
   {
    "duration": 4,
    "start_time": "2025-04-23T17:03:54.650Z"
   },
   {
    "duration": 2,
    "start_time": "2025-04-23T17:03:54.657Z"
   },
   {
    "duration": 3182,
    "start_time": "2025-04-23T17:03:54.661Z"
   },
   {
    "duration": 3,
    "start_time": "2025-04-23T17:03:57.845Z"
   },
   {
    "duration": 4,
    "start_time": "2025-04-23T17:03:57.849Z"
   },
   {
    "duration": 3,
    "start_time": "2025-04-23T17:03:57.854Z"
   },
   {
    "duration": 3,
    "start_time": "2025-04-23T17:03:57.858Z"
   },
   {
    "duration": 2,
    "start_time": "2025-04-23T17:03:57.862Z"
   },
   {
    "duration": 71,
    "start_time": "2025-04-23T17:03:57.865Z"
   },
   {
    "duration": 7,
    "start_time": "2025-04-23T17:03:57.937Z"
   },
   {
    "duration": 172,
    "start_time": "2025-04-23T17:03:57.946Z"
   },
   {
    "duration": 3,
    "start_time": "2025-04-23T17:03:58.120Z"
   },
   {
    "duration": 11,
    "start_time": "2025-04-23T17:03:58.124Z"
   },
   {
    "duration": 4,
    "start_time": "2025-04-23T17:03:58.137Z"
   },
   {
    "duration": 2,
    "start_time": "2025-04-23T17:03:58.142Z"
   },
   {
    "duration": 3,
    "start_time": "2025-04-23T17:03:58.146Z"
   },
   {
    "duration": 190,
    "start_time": "2025-04-23T17:03:58.150Z"
   },
   {
    "duration": 3,
    "start_time": "2025-04-23T17:03:58.342Z"
   },
   {
    "duration": 4,
    "start_time": "2025-04-23T17:03:58.347Z"
   },
   {
    "duration": 6,
    "start_time": "2025-04-23T17:03:58.352Z"
   },
   {
    "duration": 10,
    "start_time": "2025-04-23T17:03:58.360Z"
   },
   {
    "duration": 9,
    "start_time": "2025-04-23T17:03:58.371Z"
   },
   {
    "duration": 8,
    "start_time": "2025-04-23T17:03:58.381Z"
   },
   {
    "duration": 158,
    "start_time": "2025-04-23T17:03:58.391Z"
   },
   {
    "duration": 8,
    "start_time": "2025-04-23T17:04:26.471Z"
   },
   {
    "duration": 2941,
    "start_time": "2025-04-23T17:04:53.590Z"
   },
   {
    "duration": 1408,
    "start_time": "2025-04-23T17:04:56.534Z"
   },
   {
    "duration": 4,
    "start_time": "2025-04-23T17:04:57.943Z"
   },
   {
    "duration": 38,
    "start_time": "2025-04-23T17:04:57.949Z"
   },
   {
    "duration": 10,
    "start_time": "2025-04-23T17:04:57.989Z"
   },
   {
    "duration": 50,
    "start_time": "2025-04-23T17:04:58.000Z"
   },
   {
    "duration": 7,
    "start_time": "2025-04-23T17:04:58.051Z"
   },
   {
    "duration": 12,
    "start_time": "2025-04-23T17:04:58.059Z"
   },
   {
    "duration": 1048,
    "start_time": "2025-04-23T17:04:58.072Z"
   },
   {
    "duration": 1185,
    "start_time": "2025-04-23T17:04:59.123Z"
   },
   {
    "duration": 272,
    "start_time": "2025-04-23T17:05:00.310Z"
   },
   {
    "duration": 4,
    "start_time": "2025-04-23T17:05:00.583Z"
   },
   {
    "duration": 383,
    "start_time": "2025-04-23T17:05:00.589Z"
   },
   {
    "duration": 27,
    "start_time": "2025-04-23T17:05:00.974Z"
   },
   {
    "duration": 49,
    "start_time": "2025-04-23T17:05:01.003Z"
   },
   {
    "duration": 4,
    "start_time": "2025-04-23T17:05:01.053Z"
   },
   {
    "duration": 9,
    "start_time": "2025-04-23T17:05:01.059Z"
   },
   {
    "duration": 8,
    "start_time": "2025-04-23T17:05:01.070Z"
   },
   {
    "duration": 3,
    "start_time": "2025-04-23T17:05:01.079Z"
   },
   {
    "duration": 4,
    "start_time": "2025-04-23T17:05:01.084Z"
   },
   {
    "duration": 3,
    "start_time": "2025-04-23T17:05:01.090Z"
   },
   {
    "duration": 3,
    "start_time": "2025-04-23T17:05:01.094Z"
   },
   {
    "duration": 443,
    "start_time": "2025-04-23T17:05:01.098Z"
   },
   {
    "duration": 3,
    "start_time": "2025-04-23T17:05:01.543Z"
   },
   {
    "duration": 3,
    "start_time": "2025-04-23T17:05:01.637Z"
   },
   {
    "duration": 6,
    "start_time": "2025-04-23T17:05:01.642Z"
   },
   {
    "duration": 11,
    "start_time": "2025-04-23T17:05:01.651Z"
   },
   {
    "duration": 13,
    "start_time": "2025-04-23T17:05:01.666Z"
   },
   {
    "duration": 3063,
    "start_time": "2025-04-23T17:05:01.680Z"
   },
   {
    "duration": 3,
    "start_time": "2025-04-23T17:05:04.744Z"
   },
   {
    "duration": 5,
    "start_time": "2025-04-23T17:05:04.748Z"
   },
   {
    "duration": 3,
    "start_time": "2025-04-23T17:05:04.754Z"
   },
   {
    "duration": 15,
    "start_time": "2025-04-23T17:05:04.758Z"
   },
   {
    "duration": 3,
    "start_time": "2025-04-23T17:05:04.775Z"
   },
   {
    "duration": 4,
    "start_time": "2025-04-23T17:05:04.779Z"
   },
   {
    "duration": 3,
    "start_time": "2025-04-23T17:05:04.784Z"
   },
   {
    "duration": 168,
    "start_time": "2025-04-23T17:05:04.837Z"
   },
   {
    "duration": 2,
    "start_time": "2025-04-23T17:05:05.007Z"
   },
   {
    "duration": 20,
    "start_time": "2025-04-23T17:05:05.011Z"
   },
   {
    "duration": 16,
    "start_time": "2025-04-23T17:05:05.033Z"
   },
   {
    "duration": 6,
    "start_time": "2025-04-23T17:05:05.050Z"
   },
   {
    "duration": 22,
    "start_time": "2025-04-23T17:05:05.057Z"
   },
   {
    "duration": 14878,
    "start_time": "2025-04-23T17:05:05.081Z"
   },
   {
    "duration": 2,
    "start_time": "2025-04-23T17:05:19.961Z"
   },
   {
    "duration": 4,
    "start_time": "2025-04-23T17:05:19.965Z"
   },
   {
    "duration": 11,
    "start_time": "2025-04-23T17:05:19.970Z"
   },
   {
    "duration": 118,
    "start_time": "2025-04-23T17:05:19.983Z"
   },
   {
    "duration": 14,
    "start_time": "2025-04-23T17:05:37.187Z"
   },
   {
    "duration": 5,
    "start_time": "2025-04-23T17:06:41.840Z"
   },
   {
    "duration": 2930,
    "start_time": "2025-04-23T17:09:13.289Z"
   },
   {
    "duration": 1319,
    "start_time": "2025-04-23T17:09:16.222Z"
   },
   {
    "duration": 4,
    "start_time": "2025-04-23T17:09:17.542Z"
   },
   {
    "duration": 62,
    "start_time": "2025-04-23T17:09:17.547Z"
   },
   {
    "duration": 10,
    "start_time": "2025-04-23T17:09:17.611Z"
   },
   {
    "duration": 6,
    "start_time": "2025-04-23T17:09:17.623Z"
   },
   {
    "duration": 4,
    "start_time": "2025-04-23T17:09:17.630Z"
   },
   {
    "duration": 9,
    "start_time": "2025-04-23T17:09:17.635Z"
   },
   {
    "duration": 1063,
    "start_time": "2025-04-23T17:09:17.645Z"
   },
   {
    "duration": 1136,
    "start_time": "2025-04-23T17:09:18.709Z"
   },
   {
    "duration": 275,
    "start_time": "2025-04-23T17:09:19.847Z"
   },
   {
    "duration": 5,
    "start_time": "2025-04-23T17:09:20.123Z"
   },
   {
    "duration": 359,
    "start_time": "2025-04-23T17:09:20.129Z"
   },
   {
    "duration": 26,
    "start_time": "2025-04-23T17:09:20.491Z"
   },
   {
    "duration": 35,
    "start_time": "2025-04-23T17:09:20.519Z"
   },
   {
    "duration": 4,
    "start_time": "2025-04-23T17:09:20.556Z"
   },
   {
    "duration": 6,
    "start_time": "2025-04-23T17:09:20.562Z"
   },
   {
    "duration": 3,
    "start_time": "2025-04-23T17:09:20.569Z"
   },
   {
    "duration": 4,
    "start_time": "2025-04-23T17:09:20.574Z"
   },
   {
    "duration": 5,
    "start_time": "2025-04-23T17:09:20.579Z"
   },
   {
    "duration": 3,
    "start_time": "2025-04-23T17:09:20.585Z"
   },
   {
    "duration": 4,
    "start_time": "2025-04-23T17:09:20.589Z"
   },
   {
    "duration": 542,
    "start_time": "2025-04-23T17:09:20.594Z"
   },
   {
    "duration": 4,
    "start_time": "2025-04-23T17:09:21.139Z"
   },
   {
    "duration": 92,
    "start_time": "2025-04-23T17:09:21.145Z"
   },
   {
    "duration": 3,
    "start_time": "2025-04-23T17:09:21.239Z"
   },
   {
    "duration": 3,
    "start_time": "2025-04-23T17:09:21.243Z"
   },
   {
    "duration": 8,
    "start_time": "2025-04-23T17:09:21.248Z"
   },
   {
    "duration": 3188,
    "start_time": "2025-04-23T17:09:21.258Z"
   },
   {
    "duration": 3,
    "start_time": "2025-04-23T17:09:24.448Z"
   },
   {
    "duration": 4,
    "start_time": "2025-04-23T17:09:24.452Z"
   },
   {
    "duration": 78,
    "start_time": "2025-04-23T17:09:24.458Z"
   },
   {
    "duration": 3,
    "start_time": "2025-04-23T17:09:24.537Z"
   },
   {
    "duration": 2,
    "start_time": "2025-04-23T17:09:24.542Z"
   },
   {
    "duration": 2,
    "start_time": "2025-04-23T17:09:24.546Z"
   },
   {
    "duration": 5,
    "start_time": "2025-04-23T17:09:24.549Z"
   },
   {
    "duration": 184,
    "start_time": "2025-04-23T17:09:24.555Z"
   },
   {
    "duration": 3,
    "start_time": "2025-04-23T17:09:24.740Z"
   },
   {
    "duration": 14,
    "start_time": "2025-04-23T17:09:24.745Z"
   },
   {
    "duration": 10,
    "start_time": "2025-04-23T17:09:24.760Z"
   },
   {
    "duration": 3,
    "start_time": "2025-04-23T17:09:24.774Z"
   },
   {
    "duration": 6,
    "start_time": "2025-04-23T17:09:24.778Z"
   },
   {
    "duration": 182,
    "start_time": "2025-04-23T17:09:24.785Z"
   },
   {
    "duration": 3,
    "start_time": "2025-04-23T17:09:24.969Z"
   },
   {
    "duration": 4,
    "start_time": "2025-04-23T17:09:24.973Z"
   },
   {
    "duration": 43,
    "start_time": "2025-04-23T17:09:24.978Z"
   },
   {
    "duration": 120,
    "start_time": "2025-04-23T17:09:25.023Z"
   },
   {
    "duration": 8,
    "start_time": "2025-04-23T17:09:46.756Z"
   },
   {
    "duration": 12,
    "start_time": "2025-04-23T17:09:57.690Z"
   },
   {
    "duration": 2905,
    "start_time": "2025-04-23T17:10:54.476Z"
   },
   {
    "duration": 1290,
    "start_time": "2025-04-23T17:10:57.384Z"
   },
   {
    "duration": 3,
    "start_time": "2025-04-23T17:10:58.676Z"
   },
   {
    "duration": 40,
    "start_time": "2025-04-23T17:10:58.681Z"
   },
   {
    "duration": 10,
    "start_time": "2025-04-23T17:10:58.722Z"
   },
   {
    "duration": 6,
    "start_time": "2025-04-23T17:10:58.735Z"
   },
   {
    "duration": 6,
    "start_time": "2025-04-23T17:10:58.743Z"
   },
   {
    "duration": 9,
    "start_time": "2025-04-23T17:10:58.750Z"
   },
   {
    "duration": 1059,
    "start_time": "2025-04-23T17:10:58.761Z"
   },
   {
    "duration": 1175,
    "start_time": "2025-04-23T17:10:59.822Z"
   },
   {
    "duration": 274,
    "start_time": "2025-04-23T17:11:00.998Z"
   },
   {
    "duration": 4,
    "start_time": "2025-04-23T17:11:01.274Z"
   },
   {
    "duration": 383,
    "start_time": "2025-04-23T17:11:01.280Z"
   },
   {
    "duration": 28,
    "start_time": "2025-04-23T17:11:01.664Z"
   },
   {
    "duration": 23,
    "start_time": "2025-04-23T17:11:01.694Z"
   },
   {
    "duration": 19,
    "start_time": "2025-04-23T17:11:01.718Z"
   },
   {
    "duration": 8,
    "start_time": "2025-04-23T17:11:01.739Z"
   },
   {
    "duration": 2,
    "start_time": "2025-04-23T17:11:01.749Z"
   },
   {
    "duration": 14,
    "start_time": "2025-04-23T17:11:01.752Z"
   },
   {
    "duration": 8,
    "start_time": "2025-04-23T17:11:01.768Z"
   },
   {
    "duration": 4,
    "start_time": "2025-04-23T17:11:01.777Z"
   },
   {
    "duration": 26,
    "start_time": "2025-04-23T17:11:01.782Z"
   },
   {
    "duration": 235,
    "start_time": "2025-04-23T17:11:01.810Z"
   },
   {
    "duration": 5,
    "start_time": "2025-04-23T17:11:02.137Z"
   },
   {
    "duration": 95,
    "start_time": "2025-04-23T17:11:02.144Z"
   },
   {
    "duration": 2,
    "start_time": "2025-04-23T17:11:02.241Z"
   },
   {
    "duration": 3,
    "start_time": "2025-04-23T17:11:02.245Z"
   },
   {
    "duration": 24,
    "start_time": "2025-04-23T17:11:02.251Z"
   },
   {
    "duration": 3159,
    "start_time": "2025-04-23T17:11:02.278Z"
   },
   {
    "duration": 3,
    "start_time": "2025-04-23T17:11:05.439Z"
   },
   {
    "duration": 130,
    "start_time": "2025-04-23T17:11:05.443Z"
   },
   {
    "duration": 3,
    "start_time": "2025-04-23T17:11:05.575Z"
   },
   {
    "duration": 3,
    "start_time": "2025-04-23T17:11:05.579Z"
   },
   {
    "duration": 3,
    "start_time": "2025-04-23T17:11:05.584Z"
   },
   {
    "duration": 4,
    "start_time": "2025-04-23T17:11:05.589Z"
   },
   {
    "duration": 4,
    "start_time": "2025-04-23T17:11:05.594Z"
   },
   {
    "duration": 175,
    "start_time": "2025-04-23T17:11:05.600Z"
   },
   {
    "duration": 3,
    "start_time": "2025-04-23T17:11:05.777Z"
   },
   {
    "duration": 9,
    "start_time": "2025-04-23T17:11:05.781Z"
   },
   {
    "duration": 14,
    "start_time": "2025-04-23T17:11:05.792Z"
   },
   {
    "duration": 6,
    "start_time": "2025-04-23T17:11:05.808Z"
   },
   {
    "duration": 5,
    "start_time": "2025-04-23T17:11:05.815Z"
   },
   {
    "duration": 14589,
    "start_time": "2025-04-23T17:11:05.821Z"
   },
   {
    "duration": 2,
    "start_time": "2025-04-23T17:11:20.411Z"
   },
   {
    "duration": 16,
    "start_time": "2025-04-23T17:11:20.415Z"
   },
   {
    "duration": 10,
    "start_time": "2025-04-23T17:11:20.433Z"
   },
   {
    "duration": 119,
    "start_time": "2025-04-23T17:11:20.444Z"
   },
   {
    "duration": 6349,
    "start_time": "2025-04-23T17:12:00.949Z"
   },
   {
    "duration": 4,
    "start_time": "2025-04-23T17:12:22.075Z"
   },
   {
    "duration": 7,
    "start_time": "2025-04-23T17:12:38.648Z"
   },
   {
    "duration": 7,
    "start_time": "2025-04-23T17:12:44.395Z"
   },
   {
    "duration": 13,
    "start_time": "2025-04-23T17:13:19.543Z"
   },
   {
    "duration": 2886,
    "start_time": "2025-04-23T17:13:34.170Z"
   },
   {
    "duration": 1268,
    "start_time": "2025-04-23T17:13:37.059Z"
   },
   {
    "duration": 7,
    "start_time": "2025-04-23T17:13:38.329Z"
   },
   {
    "duration": 39,
    "start_time": "2025-04-23T17:13:38.338Z"
   },
   {
    "duration": 9,
    "start_time": "2025-04-23T17:13:38.379Z"
   },
   {
    "duration": 5,
    "start_time": "2025-04-23T17:13:38.389Z"
   },
   {
    "duration": 4,
    "start_time": "2025-04-23T17:13:38.395Z"
   },
   {
    "duration": 8,
    "start_time": "2025-04-23T17:13:38.400Z"
   },
   {
    "duration": 1106,
    "start_time": "2025-04-23T17:13:38.409Z"
   },
   {
    "duration": 1172,
    "start_time": "2025-04-23T17:13:39.518Z"
   },
   {
    "duration": 267,
    "start_time": "2025-04-23T17:13:40.692Z"
   },
   {
    "duration": 4,
    "start_time": "2025-04-23T17:13:40.961Z"
   },
   {
    "duration": 380,
    "start_time": "2025-04-23T17:13:40.967Z"
   },
   {
    "duration": 25,
    "start_time": "2025-04-23T17:13:41.349Z"
   },
   {
    "duration": 30,
    "start_time": "2025-04-23T17:13:41.375Z"
   },
   {
    "duration": 4,
    "start_time": "2025-04-23T17:13:41.406Z"
   },
   {
    "duration": 35,
    "start_time": "2025-04-23T17:13:41.435Z"
   },
   {
    "duration": 2,
    "start_time": "2025-04-23T17:13:41.472Z"
   },
   {
    "duration": 3,
    "start_time": "2025-04-23T17:13:41.476Z"
   },
   {
    "duration": 44,
    "start_time": "2025-04-23T17:13:41.480Z"
   },
   {
    "duration": 30,
    "start_time": "2025-04-23T17:13:41.525Z"
   },
   {
    "duration": 3,
    "start_time": "2025-04-23T17:13:41.557Z"
   },
   {
    "duration": 375,
    "start_time": "2025-04-23T17:13:41.561Z"
   },
   {
    "duration": 93,
    "start_time": "2025-04-23T17:13:41.942Z"
   },
   {
    "duration": 46,
    "start_time": "2025-04-23T17:13:42.037Z"
   },
   {
    "duration": 5,
    "start_time": "2025-04-23T17:13:42.084Z"
   },
   {
    "duration": 3,
    "start_time": "2025-04-23T17:13:42.090Z"
   },
   {
    "duration": 2,
    "start_time": "2025-04-23T17:13:42.096Z"
   },
   {
    "duration": 2648,
    "start_time": "2025-04-23T17:13:42.099Z"
   },
   {
    "duration": 3,
    "start_time": "2025-04-23T17:13:44.748Z"
   },
   {
    "duration": 4,
    "start_time": "2025-04-23T17:13:44.752Z"
   },
   {
    "duration": 4,
    "start_time": "2025-04-23T17:13:44.837Z"
   },
   {
    "duration": 4,
    "start_time": "2025-04-23T17:13:44.842Z"
   },
   {
    "duration": 6,
    "start_time": "2025-04-23T17:13:44.847Z"
   },
   {
    "duration": 5,
    "start_time": "2025-04-23T17:13:44.855Z"
   },
   {
    "duration": 6,
    "start_time": "2025-04-23T17:13:44.862Z"
   },
   {
    "duration": 192,
    "start_time": "2025-04-23T17:13:44.870Z"
   },
   {
    "duration": 3,
    "start_time": "2025-04-23T17:13:45.064Z"
   },
   {
    "duration": 14,
    "start_time": "2025-04-23T17:13:45.069Z"
   },
   {
    "duration": 5,
    "start_time": "2025-04-23T17:13:45.085Z"
   },
   {
    "duration": 6,
    "start_time": "2025-04-23T17:13:45.092Z"
   },
   {
    "duration": 12,
    "start_time": "2025-04-23T17:13:45.100Z"
   },
   {
    "duration": 14875,
    "start_time": "2025-04-23T17:13:45.114Z"
   },
   {
    "duration": 3,
    "start_time": "2025-04-23T17:13:59.990Z"
   },
   {
    "duration": 71,
    "start_time": "2025-04-23T17:13:59.994Z"
   },
   {
    "duration": 39,
    "start_time": "2025-04-23T17:14:00.067Z"
   },
   {
    "duration": 6460,
    "start_time": "2025-04-23T17:14:00.107Z"
   },
   {
    "duration": 6,
    "start_time": "2025-04-23T17:14:06.569Z"
   },
   {
    "duration": 119,
    "start_time": "2025-04-23T17:14:06.576Z"
   },
   {
    "duration": 11,
    "start_time": "2025-04-23T17:14:33.677Z"
   },
   {
    "duration": 5,
    "start_time": "2025-04-23T17:14:39.233Z"
   }
  ],
  "kernelspec": {
   "display_name": "Python 3 (ipykernel)",
   "language": "python",
   "name": "python3"
  },
  "language_info": {
   "codemirror_mode": {
    "name": "ipython",
    "version": 3
   },
   "file_extension": ".py",
   "mimetype": "text/x-python",
   "name": "python",
   "nbconvert_exporter": "python",
   "pygments_lexer": "ipython3",
   "version": "3.11.5"
  },
  "toc": {
   "base_numbering": 1,
   "nav_menu": {},
   "number_sections": true,
   "sideBar": true,
   "skip_h1_title": true,
   "title_cell": "Содержание",
   "title_sidebar": "Contents",
   "toc_cell": true,
   "toc_position": {},
   "toc_section_display": true,
   "toc_window_display": false
  }
 },
 "nbformat": 4,
 "nbformat_minor": 4
}
