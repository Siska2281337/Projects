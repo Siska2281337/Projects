{
 "cells": [
  {
   "cell_type": "markdown",
   "metadata": {},
   "source": [
    "# Определение стоимости автомобилей"
   ]
  },
  {
   "cell_type": "markdown",
   "metadata": {},
   "source": [
    "Сервис по продаже автомобилей с пробегом «Не бит, не крашен» разрабатывает приложение для привлечения новых клиентов. В нём можно быстро узнать рыночную стоимость своего автомобиля. В вашем распоряжении исторические данные: технические характеристики, комплектации и цены автомобилей. Вам нужно построить модель для определения стоимости. \n",
    "\n",
    "Заказчику важны:\n",
    "\n",
    "- качество предсказания;\n",
    "- скорость предсказания;\n",
    "- время обучения."
   ]
  },
  {
   "cell_type": "code",
   "execution_count": 1,
   "metadata": {},
   "outputs": [],
   "source": [
    "!pip install -Uq scikit-learn"
   ]
  },
  {
   "cell_type": "code",
   "execution_count": 2,
   "metadata": {},
   "outputs": [],
   "source": [
    "import pandas as pd\n",
    "import numpy as np\n",
    "import seaborn as sns\n",
    "\n",
    "from sklearn.preprocessing import OrdinalEncoder, OneHotEncoder\n",
    "from sklearn.preprocessing import StandardScaler\n",
    "\n",
    "from sklearn.model_selection import train_test_split, cross_val_score, GridSearchCV, RandomizedSearchCV\n",
    "\n",
    "from sklearn.linear_model import LinearRegression, Lasso\n",
    "\n",
    "from sklearn.model_selection import GridSearchCV\n",
    "\n",
    "from sklearn.metrics import mean_squared_error\n",
    "\n",
    "import lightgbm as lgb\n",
    "from lightgbm import LGBMRegressor"
   ]
  },
  {
   "cell_type": "markdown",
   "metadata": {},
   "source": [
    "## Подготовка данных"
   ]
  },
  {
   "cell_type": "markdown",
   "metadata": {},
   "source": [
    "### Изучение данных"
   ]
  },
  {
   "cell_type": "code",
   "execution_count": 3,
   "metadata": {},
   "outputs": [],
   "source": [
    "data = pd.read_csv('/datasets/autos.csv')"
   ]
  },
  {
   "cell_type": "code",
   "execution_count": 4,
   "metadata": {},
   "outputs": [
    {
     "data": {
      "text/html": [
       "<div>\n",
       "<style scoped>\n",
       "    .dataframe tbody tr th:only-of-type {\n",
       "        vertical-align: middle;\n",
       "    }\n",
       "\n",
       "    .dataframe tbody tr th {\n",
       "        vertical-align: top;\n",
       "    }\n",
       "\n",
       "    .dataframe thead th {\n",
       "        text-align: right;\n",
       "    }\n",
       "</style>\n",
       "<table border=\"1\" class=\"dataframe\">\n",
       "  <thead>\n",
       "    <tr style=\"text-align: right;\">\n",
       "      <th></th>\n",
       "      <th>DateCrawled</th>\n",
       "      <th>Price</th>\n",
       "      <th>VehicleType</th>\n",
       "      <th>RegistrationYear</th>\n",
       "      <th>Gearbox</th>\n",
       "      <th>Power</th>\n",
       "      <th>Model</th>\n",
       "      <th>Kilometer</th>\n",
       "      <th>RegistrationMonth</th>\n",
       "      <th>FuelType</th>\n",
       "      <th>Brand</th>\n",
       "      <th>Repaired</th>\n",
       "      <th>DateCreated</th>\n",
       "      <th>NumberOfPictures</th>\n",
       "      <th>PostalCode</th>\n",
       "      <th>LastSeen</th>\n",
       "    </tr>\n",
       "  </thead>\n",
       "  <tbody>\n",
       "    <tr>\n",
       "      <th>0</th>\n",
       "      <td>2016-03-24 11:52:17</td>\n",
       "      <td>480</td>\n",
       "      <td>NaN</td>\n",
       "      <td>1993</td>\n",
       "      <td>manual</td>\n",
       "      <td>0</td>\n",
       "      <td>golf</td>\n",
       "      <td>150000</td>\n",
       "      <td>0</td>\n",
       "      <td>petrol</td>\n",
       "      <td>volkswagen</td>\n",
       "      <td>NaN</td>\n",
       "      <td>2016-03-24 00:00:00</td>\n",
       "      <td>0</td>\n",
       "      <td>70435</td>\n",
       "      <td>2016-04-07 03:16:57</td>\n",
       "    </tr>\n",
       "    <tr>\n",
       "      <th>1</th>\n",
       "      <td>2016-03-24 10:58:45</td>\n",
       "      <td>18300</td>\n",
       "      <td>coupe</td>\n",
       "      <td>2011</td>\n",
       "      <td>manual</td>\n",
       "      <td>190</td>\n",
       "      <td>NaN</td>\n",
       "      <td>125000</td>\n",
       "      <td>5</td>\n",
       "      <td>gasoline</td>\n",
       "      <td>audi</td>\n",
       "      <td>yes</td>\n",
       "      <td>2016-03-24 00:00:00</td>\n",
       "      <td>0</td>\n",
       "      <td>66954</td>\n",
       "      <td>2016-04-07 01:46:50</td>\n",
       "    </tr>\n",
       "    <tr>\n",
       "      <th>2</th>\n",
       "      <td>2016-03-14 12:52:21</td>\n",
       "      <td>9800</td>\n",
       "      <td>suv</td>\n",
       "      <td>2004</td>\n",
       "      <td>auto</td>\n",
       "      <td>163</td>\n",
       "      <td>grand</td>\n",
       "      <td>125000</td>\n",
       "      <td>8</td>\n",
       "      <td>gasoline</td>\n",
       "      <td>jeep</td>\n",
       "      <td>NaN</td>\n",
       "      <td>2016-03-14 00:00:00</td>\n",
       "      <td>0</td>\n",
       "      <td>90480</td>\n",
       "      <td>2016-04-05 12:47:46</td>\n",
       "    </tr>\n",
       "    <tr>\n",
       "      <th>3</th>\n",
       "      <td>2016-03-17 16:54:04</td>\n",
       "      <td>1500</td>\n",
       "      <td>small</td>\n",
       "      <td>2001</td>\n",
       "      <td>manual</td>\n",
       "      <td>75</td>\n",
       "      <td>golf</td>\n",
       "      <td>150000</td>\n",
       "      <td>6</td>\n",
       "      <td>petrol</td>\n",
       "      <td>volkswagen</td>\n",
       "      <td>no</td>\n",
       "      <td>2016-03-17 00:00:00</td>\n",
       "      <td>0</td>\n",
       "      <td>91074</td>\n",
       "      <td>2016-03-17 17:40:17</td>\n",
       "    </tr>\n",
       "    <tr>\n",
       "      <th>4</th>\n",
       "      <td>2016-03-31 17:25:20</td>\n",
       "      <td>3600</td>\n",
       "      <td>small</td>\n",
       "      <td>2008</td>\n",
       "      <td>manual</td>\n",
       "      <td>69</td>\n",
       "      <td>fabia</td>\n",
       "      <td>90000</td>\n",
       "      <td>7</td>\n",
       "      <td>gasoline</td>\n",
       "      <td>skoda</td>\n",
       "      <td>no</td>\n",
       "      <td>2016-03-31 00:00:00</td>\n",
       "      <td>0</td>\n",
       "      <td>60437</td>\n",
       "      <td>2016-04-06 10:17:21</td>\n",
       "    </tr>\n",
       "  </tbody>\n",
       "</table>\n",
       "</div>"
      ],
      "text/plain": [
       "           DateCrawled  Price VehicleType  RegistrationYear Gearbox  Power  \\\n",
       "0  2016-03-24 11:52:17    480         NaN              1993  manual      0   \n",
       "1  2016-03-24 10:58:45  18300       coupe              2011  manual    190   \n",
       "2  2016-03-14 12:52:21   9800         suv              2004    auto    163   \n",
       "3  2016-03-17 16:54:04   1500       small              2001  manual     75   \n",
       "4  2016-03-31 17:25:20   3600       small              2008  manual     69   \n",
       "\n",
       "   Model  Kilometer  RegistrationMonth  FuelType       Brand Repaired  \\\n",
       "0   golf     150000                  0    petrol  volkswagen      NaN   \n",
       "1    NaN     125000                  5  gasoline        audi      yes   \n",
       "2  grand     125000                  8  gasoline        jeep      NaN   \n",
       "3   golf     150000                  6    petrol  volkswagen       no   \n",
       "4  fabia      90000                  7  gasoline       skoda       no   \n",
       "\n",
       "           DateCreated  NumberOfPictures  PostalCode             LastSeen  \n",
       "0  2016-03-24 00:00:00                 0       70435  2016-04-07 03:16:57  \n",
       "1  2016-03-24 00:00:00                 0       66954  2016-04-07 01:46:50  \n",
       "2  2016-03-14 00:00:00                 0       90480  2016-04-05 12:47:46  \n",
       "3  2016-03-17 00:00:00                 0       91074  2016-03-17 17:40:17  \n",
       "4  2016-03-31 00:00:00                 0       60437  2016-04-06 10:17:21  "
      ]
     },
     "execution_count": 4,
     "metadata": {},
     "output_type": "execute_result"
    }
   ],
   "source": [
    "data.head()"
   ]
  },
  {
   "cell_type": "code",
   "execution_count": 5,
   "metadata": {},
   "outputs": [
    {
     "name": "stdout",
     "output_type": "stream",
     "text": [
      "<class 'pandas.core.frame.DataFrame'>\n",
      "RangeIndex: 354369 entries, 0 to 354368\n",
      "Data columns (total 16 columns):\n",
      " #   Column             Non-Null Count   Dtype \n",
      "---  ------             --------------   ----- \n",
      " 0   DateCrawled        354369 non-null  object\n",
      " 1   Price              354369 non-null  int64 \n",
      " 2   VehicleType        316879 non-null  object\n",
      " 3   RegistrationYear   354369 non-null  int64 \n",
      " 4   Gearbox            334536 non-null  object\n",
      " 5   Power              354369 non-null  int64 \n",
      " 6   Model              334664 non-null  object\n",
      " 7   Kilometer          354369 non-null  int64 \n",
      " 8   RegistrationMonth  354369 non-null  int64 \n",
      " 9   FuelType           321474 non-null  object\n",
      " 10  Brand              354369 non-null  object\n",
      " 11  Repaired           283215 non-null  object\n",
      " 12  DateCreated        354369 non-null  object\n",
      " 13  NumberOfPictures   354369 non-null  int64 \n",
      " 14  PostalCode         354369 non-null  int64 \n",
      " 15  LastSeen           354369 non-null  object\n",
      "dtypes: int64(7), object(9)\n",
      "memory usage: 43.3+ MB\n"
     ]
    }
   ],
   "source": [
    "data.info()"
   ]
  },
  {
   "cell_type": "markdown",
   "metadata": {},
   "source": [
    "<b>Имеются пропущенные значения.</b>"
   ]
  },
  {
   "cell_type": "markdown",
   "metadata": {},
   "source": [
    "<b>Признаки NumberOfPictures, PostalCode неинформативные. DateCrawled повторяет информацию из DateCreated. Признак RegistrationMonth по сути не влияет на цену автомобиля.</b>"
   ]
  },
  {
   "cell_type": "code",
   "execution_count": 6,
   "metadata": {},
   "outputs": [],
   "source": [
    "data = data.drop(['NumberOfPictures', 'PostalCode', 'RegistrationMonth', 'DateCrawled', 'DateCreated'], axis=1)"
   ]
  },
  {
   "cell_type": "code",
   "execution_count": 7,
   "metadata": {},
   "outputs": [],
   "source": [
    "num_features = ['Price', 'RegistrationYear', 'Power', 'Kilometer', 'LastSeen']\n",
    "cat_features = ['VehicleType', 'Gearbox', 'Model', 'FuelType', 'Repaired', 'Brand']"
   ]
  },
  {
   "cell_type": "markdown",
   "metadata": {},
   "source": [
    "<b>Разделим признаки на количественные и категориальные.</b>"
   ]
  },
  {
   "cell_type": "markdown",
   "metadata": {},
   "source": [
    "### Подготовка даных"
   ]
  },
  {
   "cell_type": "markdown",
   "metadata": {},
   "source": [
    "<b>Удалим дубликаты.</b>"
   ]
  },
  {
   "cell_type": "code",
   "execution_count": 9,
   "metadata": {},
   "outputs": [],
   "source": [
    "data = data.drop_duplicates()"
   ]
  },
  {
   "cell_type": "code",
   "execution_count": 10,
   "metadata": {},
   "outputs": [
    {
     "name": "stdout",
     "output_type": "stream",
     "text": [
      "<class 'pandas.core.frame.DataFrame'>\n",
      "Int64Index: 354256 entries, 0 to 354368\n",
      "Data columns (total 11 columns):\n",
      " #   Column            Non-Null Count   Dtype \n",
      "---  ------            --------------   ----- \n",
      " 0   Price             354256 non-null  int64 \n",
      " 1   VehicleType       316766 non-null  object\n",
      " 2   RegistrationYear  354256 non-null  int64 \n",
      " 3   Gearbox           334424 non-null  object\n",
      " 4   Power             354256 non-null  int64 \n",
      " 5   Model             334552 non-null  object\n",
      " 6   Kilometer         354256 non-null  int64 \n",
      " 7   FuelType          321364 non-null  object\n",
      " 8   Brand             354256 non-null  object\n",
      " 9   Repaired          283107 non-null  object\n",
      " 10  LastSeen          354256 non-null  object\n",
      "dtypes: int64(4), object(7)\n",
      "memory usage: 32.4+ MB\n"
     ]
    }
   ],
   "source": [
    "data.info()"
   ]
  },
  {
   "cell_type": "markdown",
   "metadata": {},
   "source": [
    "#### Price"
   ]
  },
  {
   "cell_type": "markdown",
   "metadata": {},
   "source": [
    "<b>Посмотрим, сколько строчек содержит нулевое значение нашего целевого признака price и удалим их.</b>"
   ]
  },
  {
   "cell_type": "code",
   "execution_count": 11,
   "metadata": {},
   "outputs": [
    {
     "data": {
      "text/plain": [
       "10771"
      ]
     },
     "execution_count": 11,
     "metadata": {},
     "output_type": "execute_result"
    }
   ],
   "source": [
    "len(data[data['Price'] == 0])"
   ]
  },
  {
   "cell_type": "markdown",
   "metadata": {},
   "source": [
    "<b>Возможно, продавцы не указали цену в объявлении, или произошла какая-то техническая ошибка во время заполнения данных.</b>"
   ]
  },
  {
   "cell_type": "code",
   "execution_count": 12,
   "metadata": {},
   "outputs": [],
   "source": [
    "data = data[data['Price'] != 0]"
   ]
  },
  {
   "cell_type": "code",
   "execution_count": 13,
   "metadata": {},
   "outputs": [
    {
     "name": "stdout",
     "output_type": "stream",
     "text": [
      "<class 'pandas.core.frame.DataFrame'>\n",
      "Int64Index: 343485 entries, 0 to 354368\n",
      "Data columns (total 11 columns):\n",
      " #   Column            Non-Null Count   Dtype \n",
      "---  ------            --------------   ----- \n",
      " 0   Price             343485 non-null  int64 \n",
      " 1   VehicleType       309735 non-null  object\n",
      " 2   RegistrationYear  343485 non-null  int64 \n",
      " 3   Gearbox           326131 non-null  object\n",
      " 4   Power             343485 non-null  int64 \n",
      " 5   Model             325965 non-null  object\n",
      " 6   Kilometer         343485 non-null  int64 \n",
      " 7   FuelType          314028 non-null  object\n",
      " 8   Brand             343485 non-null  object\n",
      " 9   Repaired          277624 non-null  object\n",
      " 10  LastSeen          343485 non-null  object\n",
      "dtypes: int64(4), object(7)\n",
      "memory usage: 31.4+ MB\n"
     ]
    }
   ],
   "source": [
    "data.info()"
   ]
  },
  {
   "cell_type": "markdown",
   "metadata": {},
   "source": [
    "<b>Посмотрим на гистограмму Price</b>"
   ]
  },
  {
   "cell_type": "code",
   "execution_count": 14,
   "metadata": {},
   "outputs": [
    {
     "data": {
      "image/png": "[encoded data removed]",
      "text/plain": [
       "<Figure size 432x288 with 1 Axes>"
      ]
     },
     "metadata": {
      "needs_background": "light"
     },
     "output_type": "display_data"
    }
   ],
   "source": [
    "sns.histplot(data['Price'], bins=25);"
   ]
  },
  {
   "cell_type": "markdown",
   "metadata": {},
   "source": [
    "<b>Данные, в принципе, распределены нормально.</b>"
   ]
  },
  {
   "cell_type": "markdown",
   "metadata": {},
   "source": [
    "#### Model"
   ]
  },
  {
   "cell_type": "markdown",
   "metadata": {},
   "source": [
    "<b>Посмотрим, сколько строчек содержат пропуски в признаке Model. Признак Model является одним самых важных признаков для Price, и нельзя никак адекватно восстановить пропуски, поэтому удалим их.</b>"
   ]
  },
  {
   "cell_type": "code",
   "execution_count": 15,
   "metadata": {},
   "outputs": [
    {
     "data": {
      "text/plain": [
       "17520"
      ]
     },
     "execution_count": 15,
     "metadata": {},
     "output_type": "execute_result"
    }
   ],
   "source": [
    "len(data[data['Model'].isna()])"
   ]
  },
  {
   "cell_type": "code",
   "execution_count": 16,
   "metadata": {},
   "outputs": [],
   "source": [
    "data = data[~data['Model'].isna()]"
   ]
  },
  {
   "cell_type": "code",
   "execution_count": 17,
   "metadata": {},
   "outputs": [
    {
     "name": "stdout",
     "output_type": "stream",
     "text": [
      "<class 'pandas.core.frame.DataFrame'>\n",
      "Int64Index: 325965 entries, 0 to 354368\n",
      "Data columns (total 11 columns):\n",
      " #   Column            Non-Null Count   Dtype \n",
      "---  ------            --------------   ----- \n",
      " 0   Price             325965 non-null  int64 \n",
      " 1   VehicleType       297799 non-null  object\n",
      " 2   RegistrationYear  325965 non-null  int64 \n",
      " 3   Gearbox           311696 non-null  object\n",
      " 4   Power             325965 non-null  int64 \n",
      " 5   Model             325965 non-null  object\n",
      " 6   Kilometer         325965 non-null  int64 \n",
      " 7   FuelType          302416 non-null  object\n",
      " 8   Brand             325965 non-null  object\n",
      " 9   Repaired          267677 non-null  object\n",
      " 10  LastSeen          325965 non-null  object\n",
      "dtypes: int64(4), object(7)\n",
      "memory usage: 29.8+ MB\n"
     ]
    }
   ],
   "source": [
    "data.info()"
   ]
  },
  {
   "cell_type": "markdown",
   "metadata": {},
   "source": [
    "#### Power"
   ]
  },
  {
   "cell_type": "code",
   "execution_count": 18,
   "metadata": {},
   "outputs": [
    {
     "data": {
      "text/plain": [
       "<AxesSubplot:>"
      ]
     },
     "execution_count": 18,
     "metadata": {},
     "output_type": "execute_result"
    },
    {
     "data": {
      "image/png": "[encoded data removed]",
      "text/plain": [
       "<Figure size 432x288 with 1 Axes>"
      ]
     },
     "metadata": {
      "needs_background": "light"
     },
     "output_type": "display_data"
    }
   ],
   "source": [
    "data.boxplot('Power')"
   ]
  },
  {
   "cell_type": "markdown",
   "metadata": {},
   "source": [
    "<b>Если честно, значение мощности больше даже 1000 лошадиных сил звучит очень неправдоподобно. Заполним неправдоподобные значения медианой значений тех же моделей (То есть допустим у нас есть модель машины, у которой неправдоподобное значение, мы возьмём и заменим это значение медианой значений машин, у которых та же модель).</b>"
   ]
  },
  {
   "cell_type": "code",
   "execution_count": 19,
   "metadata": {},
   "outputs": [],
   "source": [
    "data.loc[(data['Power'] > 1000) | (data['Power'] == 0), 'Power'] = None\n",
    "data['Power'] = data['Power'].fillna(data.groupby('Model')['Power'].transform('median'))\n",
    "# Проверим, точно ли не осталось пропусков\n",
    "data = data[~data['Power'].isna()]\n",
    "data['Power'] = data['Power'].astype('int64')"
   ]
  },
  {
   "cell_type": "markdown",
   "metadata": {},
   "source": [
    "<b>Также присвоим признаку обратно тип данных int64.</b>"
   ]
  },
  {
   "cell_type": "code",
   "execution_count": 20,
   "metadata": {},
   "outputs": [
    {
     "data": {
      "text/plain": [
       "<AxesSubplot:xlabel='Power', ylabel='Count'>"
      ]
     },
     "execution_count": 20,
     "metadata": {},
     "output_type": "execute_result"
    },
    {
     "data": {
      "image/png": "[encoded data removed]",
      "text/plain": [
       "<Figure size 432x288 with 1 Axes>"
      ]
     },
     "metadata": {
      "needs_background": "light"
     },
     "output_type": "display_data"
    }
   ],
   "source": [
    "sns.histplot(data['Power'], bins=20)"
   ]
  },
  {
   "cell_type": "code",
   "execution_count": 21,
   "metadata": {},
   "outputs": [
    {
     "name": "stdout",
     "output_type": "stream",
     "text": [
      "<class 'pandas.core.frame.DataFrame'>\n",
      "Int64Index: 325964 entries, 0 to 354368\n",
      "Data columns (total 11 columns):\n",
      " #   Column            Non-Null Count   Dtype \n",
      "---  ------            --------------   ----- \n",
      " 0   Price             325964 non-null  int64 \n",
      " 1   VehicleType       297798 non-null  object\n",
      " 2   RegistrationYear  325964 non-null  int64 \n",
      " 3   Gearbox           311695 non-null  object\n",
      " 4   Power             325964 non-null  int64 \n",
      " 5   Model             325964 non-null  object\n",
      " 6   Kilometer         325964 non-null  int64 \n",
      " 7   FuelType          302415 non-null  object\n",
      " 8   Brand             325964 non-null  object\n",
      " 9   Repaired          267677 non-null  object\n",
      " 10  LastSeen          325964 non-null  object\n",
      "dtypes: int64(4), object(7)\n",
      "memory usage: 29.8+ MB\n"
     ]
    }
   ],
   "source": [
    "data.info()"
   ]
  },
  {
   "cell_type": "markdown",
   "metadata": {},
   "source": [
    "#### RegistrationYear"
   ]
  },
  {
   "cell_type": "markdown",
   "metadata": {},
   "source": [
    "<b>Посмотрим, сколько строк с неправильным годом содержатся в датасете и удалим их.</b>"
   ]
  },
  {
   "cell_type": "code",
   "execution_count": 22,
   "metadata": {},
   "outputs": [
    {
     "data": {
      "text/plain": [
       "<AxesSubplot:>"
      ]
     },
     "execution_count": 22,
     "metadata": {},
     "output_type": "execute_result"
    },
    {
     "data": {
      "image/png": "[encoded data removed]",
      "text/plain": [
       "<Figure size 432x288 with 1 Axes>"
      ]
     },
     "metadata": {
      "needs_background": "light"
     },
     "output_type": "display_data"
    }
   ],
   "source": [
    "data.boxplot('RegistrationYear')"
   ]
  },
  {
   "cell_type": "code",
   "execution_count": 23,
   "metadata": {},
   "outputs": [
    {
     "data": {
      "text/plain": [
       "58"
      ]
     },
     "execution_count": 23,
     "metadata": {},
     "output_type": "execute_result"
    }
   ],
   "source": [
    "len(data[data['RegistrationYear'] > 2025])"
   ]
  },
  {
   "cell_type": "code",
   "execution_count": 24,
   "metadata": {},
   "outputs": [],
   "source": [
    "data = data[(data['RegistrationYear'] < 2025) & (data['RegistrationYear'] > 1900)]"
   ]
  },
  {
   "cell_type": "code",
   "execution_count": 25,
   "metadata": {},
   "outputs": [
    {
     "data": {
      "text/html": [
       "<div>\n",
       "<style scoped>\n",
       "    .dataframe tbody tr th:only-of-type {\n",
       "        vertical-align: middle;\n",
       "    }\n",
       "\n",
       "    .dataframe tbody tr th {\n",
       "        vertical-align: top;\n",
       "    }\n",
       "\n",
       "    .dataframe thead th {\n",
       "        text-align: right;\n",
       "    }\n",
       "</style>\n",
       "<table border=\"1\" class=\"dataframe\">\n",
       "  <thead>\n",
       "    <tr style=\"text-align: right;\">\n",
       "      <th></th>\n",
       "      <th>Price</th>\n",
       "      <th>VehicleType</th>\n",
       "      <th>RegistrationYear</th>\n",
       "      <th>Gearbox</th>\n",
       "      <th>Power</th>\n",
       "      <th>Model</th>\n",
       "      <th>Kilometer</th>\n",
       "      <th>FuelType</th>\n",
       "      <th>Brand</th>\n",
       "      <th>Repaired</th>\n",
       "      <th>LastSeen</th>\n",
       "    </tr>\n",
       "  </thead>\n",
       "  <tbody>\n",
       "    <tr>\n",
       "      <th>0</th>\n",
       "      <td>480</td>\n",
       "      <td>NaN</td>\n",
       "      <td>1993</td>\n",
       "      <td>manual</td>\n",
       "      <td>101</td>\n",
       "      <td>golf</td>\n",
       "      <td>150000</td>\n",
       "      <td>petrol</td>\n",
       "      <td>volkswagen</td>\n",
       "      <td>NaN</td>\n",
       "      <td>2016-04-07 03:16:57</td>\n",
       "    </tr>\n",
       "    <tr>\n",
       "      <th>2</th>\n",
       "      <td>9800</td>\n",
       "      <td>suv</td>\n",
       "      <td>2004</td>\n",
       "      <td>auto</td>\n",
       "      <td>163</td>\n",
       "      <td>grand</td>\n",
       "      <td>125000</td>\n",
       "      <td>gasoline</td>\n",
       "      <td>jeep</td>\n",
       "      <td>NaN</td>\n",
       "      <td>2016-04-05 12:47:46</td>\n",
       "    </tr>\n",
       "    <tr>\n",
       "      <th>3</th>\n",
       "      <td>1500</td>\n",
       "      <td>small</td>\n",
       "      <td>2001</td>\n",
       "      <td>manual</td>\n",
       "      <td>75</td>\n",
       "      <td>golf</td>\n",
       "      <td>150000</td>\n",
       "      <td>petrol</td>\n",
       "      <td>volkswagen</td>\n",
       "      <td>no</td>\n",
       "      <td>2016-03-17 17:40:17</td>\n",
       "    </tr>\n",
       "    <tr>\n",
       "      <th>4</th>\n",
       "      <td>3600</td>\n",
       "      <td>small</td>\n",
       "      <td>2008</td>\n",
       "      <td>manual</td>\n",
       "      <td>69</td>\n",
       "      <td>fabia</td>\n",
       "      <td>90000</td>\n",
       "      <td>gasoline</td>\n",
       "      <td>skoda</td>\n",
       "      <td>no</td>\n",
       "      <td>2016-04-06 10:17:21</td>\n",
       "    </tr>\n",
       "    <tr>\n",
       "      <th>5</th>\n",
       "      <td>650</td>\n",
       "      <td>sedan</td>\n",
       "      <td>1995</td>\n",
       "      <td>manual</td>\n",
       "      <td>102</td>\n",
       "      <td>3er</td>\n",
       "      <td>150000</td>\n",
       "      <td>petrol</td>\n",
       "      <td>bmw</td>\n",
       "      <td>yes</td>\n",
       "      <td>2016-04-06 19:17:07</td>\n",
       "    </tr>\n",
       "  </tbody>\n",
       "</table>\n",
       "</div>"
      ],
      "text/plain": [
       "   Price VehicleType  RegistrationYear Gearbox  Power  Model  Kilometer  \\\n",
       "0    480         NaN              1993  manual    101   golf     150000   \n",
       "2   9800         suv              2004    auto    163  grand     125000   \n",
       "3   1500       small              2001  manual     75   golf     150000   \n",
       "4   3600       small              2008  manual     69  fabia      90000   \n",
       "5    650       sedan              1995  manual    102    3er     150000   \n",
       "\n",
       "   FuelType       Brand Repaired             LastSeen  \n",
       "0    petrol  volkswagen      NaN  2016-04-07 03:16:57  \n",
       "2  gasoline        jeep      NaN  2016-04-05 12:47:46  \n",
       "3    petrol  volkswagen       no  2016-03-17 17:40:17  \n",
       "4  gasoline       skoda       no  2016-04-06 10:17:21  \n",
       "5    petrol         bmw      yes  2016-04-06 19:17:07  "
      ]
     },
     "execution_count": 25,
     "metadata": {},
     "output_type": "execute_result"
    }
   ],
   "source": [
    "data.head()"
   ]
  },
  {
   "cell_type": "markdown",
   "metadata": {},
   "source": [
    "#### VehicleType, Gearbox, FuelType"
   ]
  },
  {
   "cell_type": "markdown",
   "metadata": {},
   "source": [
    "<b>Такие признаки будут одинаковыми у одинаковых моделей, поэтому заменим пропуски значениями тех же моделей.</b>"
   ]
  },
  {
   "cell_type": "code",
   "execution_count": 26,
   "metadata": {},
   "outputs": [],
   "source": [
    "data['VehicleType'] = data['VehicleType'].fillna(data.groupby('Model')['VehicleType']\n",
    "                                                    .transform(lambda x: x.value_counts().idxmax())\n",
    "                                                 )"
   ]
  },
  {
   "cell_type": "code",
   "execution_count": 27,
   "metadata": {},
   "outputs": [],
   "source": [
    "data['Gearbox'] = data['Gearbox'].fillna(data.groupby('Model')['VehicleType']\n",
    "                                         .transform(lambda x: x.value_counts().idxmax())\n",
    "                                        )"
   ]
  },
  {
   "cell_type": "code",
   "execution_count": 28,
   "metadata": {},
   "outputs": [],
   "source": [
    "data['FuelType'] = data['FuelType'].fillna(data.groupby('Model')['VehicleType']\n",
    "                                           .transform(lambda x: x.value_counts().idxmax())\n",
    "                                          )"
   ]
  },
  {
   "cell_type": "markdown",
   "metadata": {},
   "source": [
    "#### Repaired"
   ]
  },
  {
   "cell_type": "code",
   "execution_count": 29,
   "metadata": {},
   "outputs": [],
   "source": [
    "data['Repaired'] = data['Repaired'].fillna('no_info')"
   ]
  },
  {
   "cell_type": "markdown",
   "metadata": {},
   "source": [
    "<b>Посмотрим на получившийся датасет.</b>"
   ]
  },
  {
   "cell_type": "code",
   "execution_count": 30,
   "metadata": {},
   "outputs": [
    {
     "data": {
      "text/html": [
       "<div>\n",
       "<style scoped>\n",
       "    .dataframe tbody tr th:only-of-type {\n",
       "        vertical-align: middle;\n",
       "    }\n",
       "\n",
       "    .dataframe tbody tr th {\n",
       "        vertical-align: top;\n",
       "    }\n",
       "\n",
       "    .dataframe thead th {\n",
       "        text-align: right;\n",
       "    }\n",
       "</style>\n",
       "<table border=\"1\" class=\"dataframe\">\n",
       "  <thead>\n",
       "    <tr style=\"text-align: right;\">\n",
       "      <th></th>\n",
       "      <th>Price</th>\n",
       "      <th>VehicleType</th>\n",
       "      <th>RegistrationYear</th>\n",
       "      <th>Gearbox</th>\n",
       "      <th>Power</th>\n",
       "      <th>Model</th>\n",
       "      <th>Kilometer</th>\n",
       "      <th>FuelType</th>\n",
       "      <th>Brand</th>\n",
       "      <th>Repaired</th>\n",
       "      <th>LastSeen</th>\n",
       "    </tr>\n",
       "  </thead>\n",
       "  <tbody>\n",
       "    <tr>\n",
       "      <th>0</th>\n",
       "      <td>480</td>\n",
       "      <td>sedan</td>\n",
       "      <td>1993</td>\n",
       "      <td>manual</td>\n",
       "      <td>101</td>\n",
       "      <td>golf</td>\n",
       "      <td>150000</td>\n",
       "      <td>petrol</td>\n",
       "      <td>volkswagen</td>\n",
       "      <td>no_info</td>\n",
       "      <td>2016-04-07 03:16:57</td>\n",
       "    </tr>\n",
       "    <tr>\n",
       "      <th>2</th>\n",
       "      <td>9800</td>\n",
       "      <td>suv</td>\n",
       "      <td>2004</td>\n",
       "      <td>auto</td>\n",
       "      <td>163</td>\n",
       "      <td>grand</td>\n",
       "      <td>125000</td>\n",
       "      <td>gasoline</td>\n",
       "      <td>jeep</td>\n",
       "      <td>no_info</td>\n",
       "      <td>2016-04-05 12:47:46</td>\n",
       "    </tr>\n",
       "    <tr>\n",
       "      <th>3</th>\n",
       "      <td>1500</td>\n",
       "      <td>small</td>\n",
       "      <td>2001</td>\n",
       "      <td>manual</td>\n",
       "      <td>75</td>\n",
       "      <td>golf</td>\n",
       "      <td>150000</td>\n",
       "      <td>petrol</td>\n",
       "      <td>volkswagen</td>\n",
       "      <td>no</td>\n",
       "      <td>2016-03-17 17:40:17</td>\n",
       "    </tr>\n",
       "    <tr>\n",
       "      <th>4</th>\n",
       "      <td>3600</td>\n",
       "      <td>small</td>\n",
       "      <td>2008</td>\n",
       "      <td>manual</td>\n",
       "      <td>69</td>\n",
       "      <td>fabia</td>\n",
       "      <td>90000</td>\n",
       "      <td>gasoline</td>\n",
       "      <td>skoda</td>\n",
       "      <td>no</td>\n",
       "      <td>2016-04-06 10:17:21</td>\n",
       "    </tr>\n",
       "    <tr>\n",
       "      <th>5</th>\n",
       "      <td>650</td>\n",
       "      <td>sedan</td>\n",
       "      <td>1995</td>\n",
       "      <td>manual</td>\n",
       "      <td>102</td>\n",
       "      <td>3er</td>\n",
       "      <td>150000</td>\n",
       "      <td>petrol</td>\n",
       "      <td>bmw</td>\n",
       "      <td>yes</td>\n",
       "      <td>2016-04-06 19:17:07</td>\n",
       "    </tr>\n",
       "  </tbody>\n",
       "</table>\n",
       "</div>"
      ],
      "text/plain": [
       "   Price VehicleType  RegistrationYear Gearbox  Power  Model  Kilometer  \\\n",
       "0    480       sedan              1993  manual    101   golf     150000   \n",
       "2   9800         suv              2004    auto    163  grand     125000   \n",
       "3   1500       small              2001  manual     75   golf     150000   \n",
       "4   3600       small              2008  manual     69  fabia      90000   \n",
       "5    650       sedan              1995  manual    102    3er     150000   \n",
       "\n",
       "   FuelType       Brand Repaired             LastSeen  \n",
       "0    petrol  volkswagen  no_info  2016-04-07 03:16:57  \n",
       "2  gasoline        jeep  no_info  2016-04-05 12:47:46  \n",
       "3    petrol  volkswagen       no  2016-03-17 17:40:17  \n",
       "4  gasoline       skoda       no  2016-04-06 10:17:21  \n",
       "5    petrol         bmw      yes  2016-04-06 19:17:07  "
      ]
     },
     "execution_count": 30,
     "metadata": {},
     "output_type": "execute_result"
    }
   ],
   "source": [
    "data.head()"
   ]
  },
  {
   "cell_type": "code",
   "execution_count": 31,
   "metadata": {},
   "outputs": [
    {
     "name": "stdout",
     "output_type": "stream",
     "text": [
      "<class 'pandas.core.frame.DataFrame'>\n",
      "Int64Index: 325878 entries, 0 to 354368\n",
      "Data columns (total 11 columns):\n",
      " #   Column            Non-Null Count   Dtype \n",
      "---  ------            --------------   ----- \n",
      " 0   Price             325878 non-null  int64 \n",
      " 1   VehicleType       325878 non-null  object\n",
      " 2   RegistrationYear  325878 non-null  int64 \n",
      " 3   Gearbox           325878 non-null  object\n",
      " 4   Power             325878 non-null  int64 \n",
      " 5   Model             325878 non-null  object\n",
      " 6   Kilometer         325878 non-null  int64 \n",
      " 7   FuelType          325878 non-null  object\n",
      " 8   Brand             325878 non-null  object\n",
      " 9   Repaired          325878 non-null  object\n",
      " 10  LastSeen          325878 non-null  object\n",
      "dtypes: int64(4), object(7)\n",
      "memory usage: 29.8+ MB\n"
     ]
    }
   ],
   "source": [
    "data.info()"
   ]
  },
  {
   "cell_type": "markdown",
   "metadata": {},
   "source": [
    "#### Разделение на выборки"
   ]
  },
  {
   "cell_type": "code",
   "execution_count": 32,
   "metadata": {},
   "outputs": [],
   "source": [
    "X = data.drop(['Price', 'LastSeen'], axis=1)\n",
    "y = data['Price']"
   ]
  },
  {
   "cell_type": "code",
   "execution_count": 33,
   "metadata": {},
   "outputs": [],
   "source": [
    "X_train, X_test, y_train, y_test = train_test_split(X, y, test_size=0.25, random_state=42)"
   ]
  },
  {
   "cell_type": "code",
   "execution_count": 34,
   "metadata": {},
   "outputs": [
    {
     "data": {
      "text/html": [
       "<div>\n",
       "<style scoped>\n",
       "    .dataframe tbody tr th:only-of-type {\n",
       "        vertical-align: middle;\n",
       "    }\n",
       "\n",
       "    .dataframe tbody tr th {\n",
       "        vertical-align: top;\n",
       "    }\n",
       "\n",
       "    .dataframe thead th {\n",
       "        text-align: right;\n",
       "    }\n",
       "</style>\n",
       "<table border=\"1\" class=\"dataframe\">\n",
       "  <thead>\n",
       "    <tr style=\"text-align: right;\">\n",
       "      <th></th>\n",
       "      <th>VehicleType</th>\n",
       "      <th>RegistrationYear</th>\n",
       "      <th>Gearbox</th>\n",
       "      <th>Power</th>\n",
       "      <th>Model</th>\n",
       "      <th>Kilometer</th>\n",
       "      <th>FuelType</th>\n",
       "      <th>Brand</th>\n",
       "      <th>Repaired</th>\n",
       "    </tr>\n",
       "  </thead>\n",
       "  <tbody>\n",
       "    <tr>\n",
       "      <th>288021</th>\n",
       "      <td>wagon</td>\n",
       "      <td>2017</td>\n",
       "      <td>manual</td>\n",
       "      <td>143</td>\n",
       "      <td>a4</td>\n",
       "      <td>150000</td>\n",
       "      <td>petrol</td>\n",
       "      <td>audi</td>\n",
       "      <td>no</td>\n",
       "    </tr>\n",
       "    <tr>\n",
       "      <th>254064</th>\n",
       "      <td>wagon</td>\n",
       "      <td>1999</td>\n",
       "      <td>manual</td>\n",
       "      <td>75</td>\n",
       "      <td>golf</td>\n",
       "      <td>150000</td>\n",
       "      <td>petrol</td>\n",
       "      <td>volkswagen</td>\n",
       "      <td>no</td>\n",
       "    </tr>\n",
       "    <tr>\n",
       "      <th>68359</th>\n",
       "      <td>other</td>\n",
       "      <td>1999</td>\n",
       "      <td>manual</td>\n",
       "      <td>170</td>\n",
       "      <td>3er</td>\n",
       "      <td>150000</td>\n",
       "      <td>petrol</td>\n",
       "      <td>bmw</td>\n",
       "      <td>no</td>\n",
       "    </tr>\n",
       "    <tr>\n",
       "      <th>239531</th>\n",
       "      <td>sedan</td>\n",
       "      <td>1996</td>\n",
       "      <td>manual</td>\n",
       "      <td>125</td>\n",
       "      <td>a3</td>\n",
       "      <td>150000</td>\n",
       "      <td>petrol</td>\n",
       "      <td>audi</td>\n",
       "      <td>yes</td>\n",
       "    </tr>\n",
       "    <tr>\n",
       "      <th>130439</th>\n",
       "      <td>small</td>\n",
       "      <td>2006</td>\n",
       "      <td>manual</td>\n",
       "      <td>80</td>\n",
       "      <td>corsa</td>\n",
       "      <td>70000</td>\n",
       "      <td>petrol</td>\n",
       "      <td>opel</td>\n",
       "      <td>no</td>\n",
       "    </tr>\n",
       "  </tbody>\n",
       "</table>\n",
       "</div>"
      ],
      "text/plain": [
       "       VehicleType  RegistrationYear Gearbox  Power  Model  Kilometer  \\\n",
       "288021       wagon              2017  manual    143     a4     150000   \n",
       "254064       wagon              1999  manual     75   golf     150000   \n",
       "68359        other              1999  manual    170    3er     150000   \n",
       "239531       sedan              1996  manual    125     a3     150000   \n",
       "130439       small              2006  manual     80  corsa      70000   \n",
       "\n",
       "       FuelType       Brand Repaired  \n",
       "288021   petrol        audi       no  \n",
       "254064   petrol  volkswagen       no  \n",
       "68359    petrol         bmw       no  \n",
       "239531   petrol        audi      yes  \n",
       "130439   petrol        opel       no  "
      ]
     },
     "execution_count": 34,
     "metadata": {},
     "output_type": "execute_result"
    }
   ],
   "source": [
    "X_test.head()"
   ]
  },
  {
   "cell_type": "code",
   "execution_count": 35,
   "metadata": {},
   "outputs": [
    {
     "data": {
      "text/html": [
       "<div>\n",
       "<style scoped>\n",
       "    .dataframe tbody tr th:only-of-type {\n",
       "        vertical-align: middle;\n",
       "    }\n",
       "\n",
       "    .dataframe tbody tr th {\n",
       "        vertical-align: top;\n",
       "    }\n",
       "\n",
       "    .dataframe thead th {\n",
       "        text-align: right;\n",
       "    }\n",
       "</style>\n",
       "<table border=\"1\" class=\"dataframe\">\n",
       "  <thead>\n",
       "    <tr style=\"text-align: right;\">\n",
       "      <th></th>\n",
       "      <th>VehicleType</th>\n",
       "      <th>RegistrationYear</th>\n",
       "      <th>Gearbox</th>\n",
       "      <th>Power</th>\n",
       "      <th>Model</th>\n",
       "      <th>Kilometer</th>\n",
       "      <th>FuelType</th>\n",
       "      <th>Brand</th>\n",
       "      <th>Repaired</th>\n",
       "    </tr>\n",
       "  </thead>\n",
       "  <tbody>\n",
       "    <tr>\n",
       "      <th>311968</th>\n",
       "      <td>small</td>\n",
       "      <td>1997</td>\n",
       "      <td>manual</td>\n",
       "      <td>75</td>\n",
       "      <td>golf</td>\n",
       "      <td>150000</td>\n",
       "      <td>petrol</td>\n",
       "      <td>volkswagen</td>\n",
       "      <td>no</td>\n",
       "    </tr>\n",
       "    <tr>\n",
       "      <th>321128</th>\n",
       "      <td>bus</td>\n",
       "      <td>1996</td>\n",
       "      <td>manual</td>\n",
       "      <td>77</td>\n",
       "      <td>transporter</td>\n",
       "      <td>150000</td>\n",
       "      <td>gasoline</td>\n",
       "      <td>volkswagen</td>\n",
       "      <td>no</td>\n",
       "    </tr>\n",
       "    <tr>\n",
       "      <th>237243</th>\n",
       "      <td>bus</td>\n",
       "      <td>2003</td>\n",
       "      <td>manual</td>\n",
       "      <td>102</td>\n",
       "      <td>transporter</td>\n",
       "      <td>150000</td>\n",
       "      <td>gasoline</td>\n",
       "      <td>volkswagen</td>\n",
       "      <td>no</td>\n",
       "    </tr>\n",
       "    <tr>\n",
       "      <th>215318</th>\n",
       "      <td>sedan</td>\n",
       "      <td>1996</td>\n",
       "      <td>manual</td>\n",
       "      <td>122</td>\n",
       "      <td>c_klasse</td>\n",
       "      <td>150000</td>\n",
       "      <td>petrol</td>\n",
       "      <td>mercedes_benz</td>\n",
       "      <td>no_info</td>\n",
       "    </tr>\n",
       "    <tr>\n",
       "      <th>171793</th>\n",
       "      <td>bus</td>\n",
       "      <td>2017</td>\n",
       "      <td>manual</td>\n",
       "      <td>140</td>\n",
       "      <td>b_klasse</td>\n",
       "      <td>125000</td>\n",
       "      <td>gasoline</td>\n",
       "      <td>mercedes_benz</td>\n",
       "      <td>no</td>\n",
       "    </tr>\n",
       "  </tbody>\n",
       "</table>\n",
       "</div>"
      ],
      "text/plain": [
       "       VehicleType  RegistrationYear Gearbox  Power        Model  Kilometer  \\\n",
       "311968       small              1997  manual     75         golf     150000   \n",
       "321128         bus              1996  manual     77  transporter     150000   \n",
       "237243         bus              2003  manual    102  transporter     150000   \n",
       "215318       sedan              1996  manual    122     c_klasse     150000   \n",
       "171793         bus              2017  manual    140     b_klasse     125000   \n",
       "\n",
       "        FuelType          Brand Repaired  \n",
       "311968    petrol     volkswagen       no  \n",
       "321128  gasoline     volkswagen       no  \n",
       "237243  gasoline     volkswagen       no  \n",
       "215318    petrol  mercedes_benz  no_info  \n",
       "171793  gasoline  mercedes_benz       no  "
      ]
     },
     "execution_count": 35,
     "metadata": {},
     "output_type": "execute_result"
    }
   ],
   "source": [
    "X_train.head()"
   ]
  },
  {
   "cell_type": "markdown",
   "metadata": {},
   "source": [
    "#### Кодирование категориальных признаков для LightGBM"
   ]
  },
  {
   "cell_type": "code",
   "execution_count": 36,
   "metadata": {},
   "outputs": [],
   "source": [
    "encoder_oe = OrdinalEncoder()\n",
    "\n",
    "X_train_oe = encoder_oe.fit_transform(X_train[cat_features])\n",
    "X_test_oe = encoder_oe.transform(X_test[cat_features])"
   ]
  },
  {
   "cell_type": "code",
   "execution_count": 37,
   "metadata": {},
   "outputs": [],
   "source": [
    "encoder_col_names = encoder_oe.get_feature_names_out()\n",
    "\n",
    "X_train_oe = pd.DataFrame(X_train_oe, columns = encoder_col_names)\n",
    "X_test_oe = pd.DataFrame(X_test_oe, columns = encoder_col_names)"
   ]
  },
  {
   "cell_type": "markdown",
   "metadata": {},
   "source": [
    "#### Кодирование категориальных признаков для Lasso"
   ]
  },
  {
   "cell_type": "code",
   "execution_count": 38,
   "metadata": {},
   "outputs": [],
   "source": [
    "encoder_ohe = OneHotEncoder(drop='first', sparse_output=False)\n",
    "\n",
    "X_train_ohe = encoder_ohe.fit_transform(X_train[cat_features])\n",
    "X_test_ohe = encoder_ohe.transform(X_test[cat_features])"
   ]
  },
  {
   "cell_type": "code",
   "execution_count": 39,
   "metadata": {},
   "outputs": [],
   "source": [
    "encoder_col_names = encoder_ohe.get_feature_names_out()\n",
    "\n",
    "X_train_ohe = pd.DataFrame(X_train_ohe, columns = encoder_col_names)\n",
    "X_test_ohe = pd.DataFrame(X_test_ohe, columns = encoder_col_names)"
   ]
  },
  {
   "cell_type": "markdown",
   "metadata": {},
   "source": [
    "#### Кодирование количественных признаков"
   ]
  },
  {
   "cell_type": "code",
   "execution_count": 40,
   "metadata": {},
   "outputs": [],
   "source": [
    "scaler = StandardScaler()\n",
    "lst = ['RegistrationYear', 'Power', 'Kilometer']\n",
    "\n",
    "X_train_scaled = scaler.fit_transform(X_train[lst])\n",
    "X_test_scaled = scaler.transform(X_test[lst])\n",
    "\n",
    "X_train_scaled = pd.DataFrame(X_train_scaled, columns=lst)\n",
    "X_test_scaled = pd.DataFrame(X_test_scaled, columns=lst)"
   ]
  },
  {
   "cell_type": "markdown",
   "metadata": {},
   "source": [
    "<b>Посмотрим на наши итоговые выборки.</b>"
   ]
  },
  {
   "cell_type": "code",
   "execution_count": 41,
   "metadata": {},
   "outputs": [],
   "source": [
    "X_train = pd.concat([X_train_oe, X_train_scaled], axis=1)\n",
    "X_test = pd.concat([X_test_oe, X_test_scaled], axis=1)"
   ]
  },
  {
   "cell_type": "code",
   "execution_count": 42,
   "metadata": {},
   "outputs": [],
   "source": [
    "X_train_1 = pd.concat([X_train_ohe, X_train_scaled], axis=1)\n",
    "X_test_1 = pd.concat([X_test_ohe, X_test_scaled], axis=1)"
   ]
  },
  {
   "cell_type": "code",
   "execution_count": 43,
   "metadata": {},
   "outputs": [
    {
     "data": {
      "text/html": [
       "<div>\n",
       "<style scoped>\n",
       "    .dataframe tbody tr th:only-of-type {\n",
       "        vertical-align: middle;\n",
       "    }\n",
       "\n",
       "    .dataframe tbody tr th {\n",
       "        vertical-align: top;\n",
       "    }\n",
       "\n",
       "    .dataframe thead th {\n",
       "        text-align: right;\n",
       "    }\n",
       "</style>\n",
       "<table border=\"1\" class=\"dataframe\">\n",
       "  <thead>\n",
       "    <tr style=\"text-align: right;\">\n",
       "      <th></th>\n",
       "      <th>VehicleType_convertible</th>\n",
       "      <th>VehicleType_coupe</th>\n",
       "      <th>VehicleType_other</th>\n",
       "      <th>VehicleType_sedan</th>\n",
       "      <th>VehicleType_small</th>\n",
       "      <th>VehicleType_suv</th>\n",
       "      <th>VehicleType_wagon</th>\n",
       "      <th>Gearbox_bus</th>\n",
       "      <th>Gearbox_convertible</th>\n",
       "      <th>Gearbox_coupe</th>\n",
       "      <th>...</th>\n",
       "      <th>Brand_smart</th>\n",
       "      <th>Brand_subaru</th>\n",
       "      <th>Brand_suzuki</th>\n",
       "      <th>Brand_toyota</th>\n",
       "      <th>Brand_trabant</th>\n",
       "      <th>Brand_volkswagen</th>\n",
       "      <th>Brand_volvo</th>\n",
       "      <th>RegistrationYear</th>\n",
       "      <th>Power</th>\n",
       "      <th>Kilometer</th>\n",
       "    </tr>\n",
       "  </thead>\n",
       "  <tbody>\n",
       "    <tr>\n",
       "      <th>0</th>\n",
       "      <td>0.0</td>\n",
       "      <td>0.0</td>\n",
       "      <td>0.0</td>\n",
       "      <td>0.0</td>\n",
       "      <td>1.0</td>\n",
       "      <td>0.0</td>\n",
       "      <td>0.0</td>\n",
       "      <td>0.0</td>\n",
       "      <td>0.0</td>\n",
       "      <td>0.0</td>\n",
       "      <td>...</td>\n",
       "      <td>0.0</td>\n",
       "      <td>0.0</td>\n",
       "      <td>0.0</td>\n",
       "      <td>0.0</td>\n",
       "      <td>0.0</td>\n",
       "      <td>1.0</td>\n",
       "      <td>0.0</td>\n",
       "      <td>-0.887703</td>\n",
       "      <td>-0.828652</td>\n",
       "      <td>0.577918</td>\n",
       "    </tr>\n",
       "    <tr>\n",
       "      <th>1</th>\n",
       "      <td>0.0</td>\n",
       "      <td>0.0</td>\n",
       "      <td>0.0</td>\n",
       "      <td>0.0</td>\n",
       "      <td>0.0</td>\n",
       "      <td>0.0</td>\n",
       "      <td>0.0</td>\n",
       "      <td>0.0</td>\n",
       "      <td>0.0</td>\n",
       "      <td>0.0</td>\n",
       "      <td>...</td>\n",
       "      <td>0.0</td>\n",
       "      <td>0.0</td>\n",
       "      <td>0.0</td>\n",
       "      <td>0.0</td>\n",
       "      <td>0.0</td>\n",
       "      <td>1.0</td>\n",
       "      <td>0.0</td>\n",
       "      <td>-1.029410</td>\n",
       "      <td>-0.791033</td>\n",
       "      <td>0.577918</td>\n",
       "    </tr>\n",
       "    <tr>\n",
       "      <th>2</th>\n",
       "      <td>0.0</td>\n",
       "      <td>0.0</td>\n",
       "      <td>0.0</td>\n",
       "      <td>0.0</td>\n",
       "      <td>0.0</td>\n",
       "      <td>0.0</td>\n",
       "      <td>0.0</td>\n",
       "      <td>0.0</td>\n",
       "      <td>0.0</td>\n",
       "      <td>0.0</td>\n",
       "      <td>...</td>\n",
       "      <td>0.0</td>\n",
       "      <td>0.0</td>\n",
       "      <td>0.0</td>\n",
       "      <td>0.0</td>\n",
       "      <td>0.0</td>\n",
       "      <td>1.0</td>\n",
       "      <td>0.0</td>\n",
       "      <td>-0.037457</td>\n",
       "      <td>-0.320787</td>\n",
       "      <td>0.577918</td>\n",
       "    </tr>\n",
       "    <tr>\n",
       "      <th>3</th>\n",
       "      <td>0.0</td>\n",
       "      <td>0.0</td>\n",
       "      <td>0.0</td>\n",
       "      <td>1.0</td>\n",
       "      <td>0.0</td>\n",
       "      <td>0.0</td>\n",
       "      <td>0.0</td>\n",
       "      <td>0.0</td>\n",
       "      <td>0.0</td>\n",
       "      <td>0.0</td>\n",
       "      <td>...</td>\n",
       "      <td>0.0</td>\n",
       "      <td>0.0</td>\n",
       "      <td>0.0</td>\n",
       "      <td>0.0</td>\n",
       "      <td>0.0</td>\n",
       "      <td>0.0</td>\n",
       "      <td>0.0</td>\n",
       "      <td>-1.029410</td>\n",
       "      <td>0.055410</td>\n",
       "      <td>0.577918</td>\n",
       "    </tr>\n",
       "    <tr>\n",
       "      <th>4</th>\n",
       "      <td>0.0</td>\n",
       "      <td>0.0</td>\n",
       "      <td>0.0</td>\n",
       "      <td>0.0</td>\n",
       "      <td>0.0</td>\n",
       "      <td>0.0</td>\n",
       "      <td>0.0</td>\n",
       "      <td>0.0</td>\n",
       "      <td>0.0</td>\n",
       "      <td>0.0</td>\n",
       "      <td>...</td>\n",
       "      <td>0.0</td>\n",
       "      <td>0.0</td>\n",
       "      <td>0.0</td>\n",
       "      <td>0.0</td>\n",
       "      <td>0.0</td>\n",
       "      <td>0.0</td>\n",
       "      <td>0.0</td>\n",
       "      <td>1.946448</td>\n",
       "      <td>0.393987</td>\n",
       "      <td>-0.098949</td>\n",
       "    </tr>\n",
       "    <tr>\n",
       "      <th>...</th>\n",
       "      <td>...</td>\n",
       "      <td>...</td>\n",
       "      <td>...</td>\n",
       "      <td>...</td>\n",
       "      <td>...</td>\n",
       "      <td>...</td>\n",
       "      <td>...</td>\n",
       "      <td>...</td>\n",
       "      <td>...</td>\n",
       "      <td>...</td>\n",
       "      <td>...</td>\n",
       "      <td>...</td>\n",
       "      <td>...</td>\n",
       "      <td>...</td>\n",
       "      <td>...</td>\n",
       "      <td>...</td>\n",
       "      <td>...</td>\n",
       "      <td>...</td>\n",
       "      <td>...</td>\n",
       "      <td>...</td>\n",
       "      <td>...</td>\n",
       "    </tr>\n",
       "    <tr>\n",
       "      <th>244403</th>\n",
       "      <td>0.0</td>\n",
       "      <td>0.0</td>\n",
       "      <td>0.0</td>\n",
       "      <td>0.0</td>\n",
       "      <td>0.0</td>\n",
       "      <td>0.0</td>\n",
       "      <td>1.0</td>\n",
       "      <td>0.0</td>\n",
       "      <td>0.0</td>\n",
       "      <td>0.0</td>\n",
       "      <td>...</td>\n",
       "      <td>0.0</td>\n",
       "      <td>0.0</td>\n",
       "      <td>0.0</td>\n",
       "      <td>0.0</td>\n",
       "      <td>0.0</td>\n",
       "      <td>0.0</td>\n",
       "      <td>0.0</td>\n",
       "      <td>-0.037457</td>\n",
       "      <td>-0.189118</td>\n",
       "      <td>0.577918</td>\n",
       "    </tr>\n",
       "    <tr>\n",
       "      <th>244404</th>\n",
       "      <td>0.0</td>\n",
       "      <td>0.0</td>\n",
       "      <td>0.0</td>\n",
       "      <td>1.0</td>\n",
       "      <td>0.0</td>\n",
       "      <td>0.0</td>\n",
       "      <td>0.0</td>\n",
       "      <td>0.0</td>\n",
       "      <td>0.0</td>\n",
       "      <td>0.0</td>\n",
       "      <td>...</td>\n",
       "      <td>0.0</td>\n",
       "      <td>0.0</td>\n",
       "      <td>0.0</td>\n",
       "      <td>0.0</td>\n",
       "      <td>0.0</td>\n",
       "      <td>0.0</td>\n",
       "      <td>0.0</td>\n",
       "      <td>0.529373</td>\n",
       "      <td>0.958282</td>\n",
       "      <td>-0.098949</td>\n",
       "    </tr>\n",
       "    <tr>\n",
       "      <th>244405</th>\n",
       "      <td>0.0</td>\n",
       "      <td>0.0</td>\n",
       "      <td>0.0</td>\n",
       "      <td>1.0</td>\n",
       "      <td>0.0</td>\n",
       "      <td>0.0</td>\n",
       "      <td>0.0</td>\n",
       "      <td>0.0</td>\n",
       "      <td>0.0</td>\n",
       "      <td>0.0</td>\n",
       "      <td>...</td>\n",
       "      <td>0.0</td>\n",
       "      <td>0.0</td>\n",
       "      <td>0.0</td>\n",
       "      <td>0.0</td>\n",
       "      <td>0.0</td>\n",
       "      <td>1.0</td>\n",
       "      <td>0.0</td>\n",
       "      <td>-1.879655</td>\n",
       "      <td>-1.223659</td>\n",
       "      <td>0.577918</td>\n",
       "    </tr>\n",
       "    <tr>\n",
       "      <th>244406</th>\n",
       "      <td>0.0</td>\n",
       "      <td>0.0</td>\n",
       "      <td>0.0</td>\n",
       "      <td>1.0</td>\n",
       "      <td>0.0</td>\n",
       "      <td>0.0</td>\n",
       "      <td>0.0</td>\n",
       "      <td>0.0</td>\n",
       "      <td>0.0</td>\n",
       "      <td>0.0</td>\n",
       "      <td>...</td>\n",
       "      <td>0.0</td>\n",
       "      <td>0.0</td>\n",
       "      <td>0.0</td>\n",
       "      <td>0.0</td>\n",
       "      <td>0.0</td>\n",
       "      <td>0.0</td>\n",
       "      <td>0.0</td>\n",
       "      <td>-0.887703</td>\n",
       "      <td>-0.546505</td>\n",
       "      <td>0.577918</td>\n",
       "    </tr>\n",
       "    <tr>\n",
       "      <th>244407</th>\n",
       "      <td>0.0</td>\n",
       "      <td>0.0</td>\n",
       "      <td>0.0</td>\n",
       "      <td>1.0</td>\n",
       "      <td>0.0</td>\n",
       "      <td>0.0</td>\n",
       "      <td>0.0</td>\n",
       "      <td>0.0</td>\n",
       "      <td>0.0</td>\n",
       "      <td>0.0</td>\n",
       "      <td>...</td>\n",
       "      <td>0.0</td>\n",
       "      <td>0.0</td>\n",
       "      <td>0.0</td>\n",
       "      <td>0.0</td>\n",
       "      <td>0.0</td>\n",
       "      <td>0.0</td>\n",
       "      <td>0.0</td>\n",
       "      <td>-0.462580</td>\n",
       "      <td>-1.054370</td>\n",
       "      <td>0.577918</td>\n",
       "    </tr>\n",
       "  </tbody>\n",
       "</table>\n",
       "<p>244408 rows × 319 columns</p>\n",
       "</div>"
      ],
      "text/plain": [
       "        VehicleType_convertible  VehicleType_coupe  VehicleType_other  \\\n",
       "0                           0.0                0.0                0.0   \n",
       "1                           0.0                0.0                0.0   \n",
       "2                           0.0                0.0                0.0   \n",
       "3                           0.0                0.0                0.0   \n",
       "4                           0.0                0.0                0.0   \n",
       "...                         ...                ...                ...   \n",
       "244403                      0.0                0.0                0.0   \n",
       "244404                      0.0                0.0                0.0   \n",
       "244405                      0.0                0.0                0.0   \n",
       "244406                      0.0                0.0                0.0   \n",
       "244407                      0.0                0.0                0.0   \n",
       "\n",
       "        VehicleType_sedan  VehicleType_small  VehicleType_suv  \\\n",
       "0                     0.0                1.0              0.0   \n",
       "1                     0.0                0.0              0.0   \n",
       "2                     0.0                0.0              0.0   \n",
       "3                     1.0                0.0              0.0   \n",
       "4                     0.0                0.0              0.0   \n",
       "...                   ...                ...              ...   \n",
       "244403                0.0                0.0              0.0   \n",
       "244404                1.0                0.0              0.0   \n",
       "244405                1.0                0.0              0.0   \n",
       "244406                1.0                0.0              0.0   \n",
       "244407                1.0                0.0              0.0   \n",
       "\n",
       "        VehicleType_wagon  Gearbox_bus  Gearbox_convertible  Gearbox_coupe  \\\n",
       "0                     0.0          0.0                  0.0            0.0   \n",
       "1                     0.0          0.0                  0.0            0.0   \n",
       "2                     0.0          0.0                  0.0            0.0   \n",
       "3                     0.0          0.0                  0.0            0.0   \n",
       "4                     0.0          0.0                  0.0            0.0   \n",
       "...                   ...          ...                  ...            ...   \n",
       "244403                1.0          0.0                  0.0            0.0   \n",
       "244404                0.0          0.0                  0.0            0.0   \n",
       "244405                0.0          0.0                  0.0            0.0   \n",
       "244406                0.0          0.0                  0.0            0.0   \n",
       "244407                0.0          0.0                  0.0            0.0   \n",
       "\n",
       "        ...  Brand_smart  Brand_subaru  Brand_suzuki  Brand_toyota  \\\n",
       "0       ...          0.0           0.0           0.0           0.0   \n",
       "1       ...          0.0           0.0           0.0           0.0   \n",
       "2       ...          0.0           0.0           0.0           0.0   \n",
       "3       ...          0.0           0.0           0.0           0.0   \n",
       "4       ...          0.0           0.0           0.0           0.0   \n",
       "...     ...          ...           ...           ...           ...   \n",
       "244403  ...          0.0           0.0           0.0           0.0   \n",
       "244404  ...          0.0           0.0           0.0           0.0   \n",
       "244405  ...          0.0           0.0           0.0           0.0   \n",
       "244406  ...          0.0           0.0           0.0           0.0   \n",
       "244407  ...          0.0           0.0           0.0           0.0   \n",
       "\n",
       "        Brand_trabant  Brand_volkswagen  Brand_volvo  RegistrationYear  \\\n",
       "0                 0.0               1.0          0.0         -0.887703   \n",
       "1                 0.0               1.0          0.0         -1.029410   \n",
       "2                 0.0               1.0          0.0         -0.037457   \n",
       "3                 0.0               0.0          0.0         -1.029410   \n",
       "4                 0.0               0.0          0.0          1.946448   \n",
       "...               ...               ...          ...               ...   \n",
       "244403            0.0               0.0          0.0         -0.037457   \n",
       "244404            0.0               0.0          0.0          0.529373   \n",
       "244405            0.0               1.0          0.0         -1.879655   \n",
       "244406            0.0               0.0          0.0         -0.887703   \n",
       "244407            0.0               0.0          0.0         -0.462580   \n",
       "\n",
       "           Power  Kilometer  \n",
       "0      -0.828652   0.577918  \n",
       "1      -0.791033   0.577918  \n",
       "2      -0.320787   0.577918  \n",
       "3       0.055410   0.577918  \n",
       "4       0.393987  -0.098949  \n",
       "...          ...        ...  \n",
       "244403 -0.189118   0.577918  \n",
       "244404  0.958282  -0.098949  \n",
       "244405 -1.223659   0.577918  \n",
       "244406 -0.546505   0.577918  \n",
       "244407 -1.054370   0.577918  \n",
       "\n",
       "[244408 rows x 319 columns]"
      ]
     },
     "execution_count": 43,
     "metadata": {},
     "output_type": "execute_result"
    }
   ],
   "source": [
    "X_train_1"
   ]
  },
  {
   "cell_type": "markdown",
   "metadata": {},
   "source": [
    "## Обучение моделей"
   ]
  },
  {
   "cell_type": "markdown",
   "metadata": {},
   "source": [
    "### Lasso"
   ]
  },
  {
   "cell_type": "code",
   "execution_count": 54,
   "metadata": {},
   "outputs": [],
   "source": [
    "model = Lasso()"
   ]
  },
  {
   "cell_type": "code",
   "execution_count": 55,
   "metadata": {},
   "outputs": [],
   "source": [
    "param = {'alpha': [1]}"
   ]
  },
  {
   "cell_type": "code",
   "execution_count": 56,
   "metadata": {},
   "outputs": [
    {
     "data": {
      "text/html": [
       "<style>#sk-container-id-1 {\n",
       "  /* Definition of color scheme common for light and dark mode */\n",
       "  --sklearn-color-text: #000;\n",
       "  --sklearn-color-text-muted: #666;\n",
       "  --sklearn-color-line: gray;\n",
       "  /* Definition of color scheme for unfitted estimators */\n",
       "  --sklearn-color-unfitted-level-0: #fff5e6;\n",
       "  --sklearn-color-unfitted-level-1: #f6e4d2;\n",
       "  --sklearn-color-unfitted-level-2: #ffe0b3;\n",
       "  --sklearn-color-unfitted-level-3: chocolate;\n",
       "  /* Definition of color scheme for fitted estimators */\n",
       "  --sklearn-color-fitted-level-0: #f0f8ff;\n",
       "  --sklearn-color-fitted-level-1: #d4ebff;\n",
       "  --sklearn-color-fitted-level-2: #b3dbfd;\n",
       "  --sklearn-color-fitted-level-3: cornflowerblue;\n",
       "\n",
       "  /* Specific color for light theme */\n",
       "  --sklearn-color-text-on-default-background: var(--sg-text-color, var(--theme-code-foreground, var(--jp-content-font-color1, black)));\n",
       "  --sklearn-color-background: var(--sg-background-color, var(--theme-background, var(--jp-layout-color0, white)));\n",
       "  --sklearn-color-border-box: var(--sg-text-color, var(--theme-code-foreground, var(--jp-content-font-color1, black)));\n",
       "  --sklearn-color-icon: #696969;\n",
       "\n",
       "  @media (prefers-color-scheme: dark) {\n",
       "    /* Redefinition of color scheme for dark theme */\n",
       "    --sklearn-color-text-on-default-background: var(--sg-text-color, var(--theme-code-foreground, var(--jp-content-font-color1, white)));\n",
       "    --sklearn-color-background: var(--sg-background-color, var(--theme-background, var(--jp-layout-color0, #111)));\n",
       "    --sklearn-color-border-box: var(--sg-text-color, var(--theme-code-foreground, var(--jp-content-font-color1, white)));\n",
       "    --sklearn-color-icon: #878787;\n",
       "  }\n",
       "}\n",
       "\n",
       "#sk-container-id-1 {\n",
       "  color: var(--sklearn-color-text);\n",
       "}\n",
       "\n",
       "#sk-container-id-1 pre {\n",
       "  padding: 0;\n",
       "}\n",
       "\n",
       "#sk-container-id-1 input.sk-hidden--visually {\n",
       "  border: 0;\n",
       "  clip: rect(1px 1px 1px 1px);\n",
       "  clip: rect(1px, 1px, 1px, 1px);\n",
       "  height: 1px;\n",
       "  margin: -1px;\n",
       "  overflow: hidden;\n",
       "  padding: 0;\n",
       "  position: absolute;\n",
       "  width: 1px;\n",
       "}\n",
       "\n",
       "#sk-container-id-1 div.sk-dashed-wrapped {\n",
       "  border: 1px dashed var(--sklearn-color-line);\n",
       "  margin: 0 0.4em 0.5em 0.4em;\n",
       "  box-sizing: border-box;\n",
       "  padding-bottom: 0.4em;\n",
       "  background-color: var(--sklearn-color-background);\n",
       "}\n",
       "\n",
       "#sk-container-id-1 div.sk-container {\n",
       "  /* jupyter's `normalize.less` sets `[hidden] { display: none; }`\n",
       "     but bootstrap.min.css set `[hidden] { display: none !important; }`\n",
       "     so we also need the `!important` here to be able to override the\n",
       "     default hidden behavior on the sphinx rendered scikit-learn.org.\n",
       "     See: https://github.com/scikit-learn/scikit-learn/issues/21755 */\n",
       "  display: inline-block !important;\n",
       "  position: relative;\n",
       "}\n",
       "\n",
       "#sk-container-id-1 div.sk-text-repr-fallback {\n",
       "  display: none;\n",
       "}\n",
       "\n",
       "div.sk-parallel-item,\n",
       "div.sk-serial,\n",
       "div.sk-item {\n",
       "  /* draw centered vertical line to link estimators */\n",
       "  background-image: linear-gradient(var(--sklearn-color-text-on-default-background), var(--sklearn-color-text-on-default-background));\n",
       "  background-size: 2px 100%;\n",
       "  background-repeat: no-repeat;\n",
       "  background-position: center center;\n",
       "}\n",
       "\n",
       "/* Parallel-specific style estimator block */\n",
       "\n",
       "#sk-container-id-1 div.sk-parallel-item::after {\n",
       "  content: \"\";\n",
       "  width: 100%;\n",
       "  border-bottom: 2px solid var(--sklearn-color-text-on-default-background);\n",
       "  flex-grow: 1;\n",
       "}\n",
       "\n",
       "#sk-container-id-1 div.sk-parallel {\n",
       "  display: flex;\n",
       "  align-items: stretch;\n",
       "  justify-content: center;\n",
       "  background-color: var(--sklearn-color-background);\n",
       "  position: relative;\n",
       "}\n",
       "\n",
       "#sk-container-id-1 div.sk-parallel-item {\n",
       "  display: flex;\n",
       "  flex-direction: column;\n",
       "}\n",
       "\n",
       "#sk-container-id-1 div.sk-parallel-item:first-child::after {\n",
       "  align-self: flex-end;\n",
       "  width: 50%;\n",
       "}\n",
       "\n",
       "#sk-container-id-1 div.sk-parallel-item:last-child::after {\n",
       "  align-self: flex-start;\n",
       "  width: 50%;\n",
       "}\n",
       "\n",
       "#sk-container-id-1 div.sk-parallel-item:only-child::after {\n",
       "  width: 0;\n",
       "}\n",
       "\n",
       "/* Serial-specific style estimator block */\n",
       "\n",
       "#sk-container-id-1 div.sk-serial {\n",
       "  display: flex;\n",
       "  flex-direction: column;\n",
       "  align-items: center;\n",
       "  background-color: var(--sklearn-color-background);\n",
       "  padding-right: 1em;\n",
       "  padding-left: 1em;\n",
       "}\n",
       "\n",
       "\n",
       "/* Toggleable style: style used for estimator/Pipeline/ColumnTransformer box that is\n",
       "clickable and can be expanded/collapsed.\n",
       "- Pipeline and ColumnTransformer use this feature and define the default style\n",
       "- Estimators will overwrite some part of the style using the `sk-estimator` class\n",
       "*/\n",
       "\n",
       "/* Pipeline and ColumnTransformer style (default) */\n",
       "\n",
       "#sk-container-id-1 div.sk-toggleable {\n",
       "  /* Default theme specific background. It is overwritten whether we have a\n",
       "  specific estimator or a Pipeline/ColumnTransformer */\n",
       "  background-color: var(--sklearn-color-background);\n",
       "}\n",
       "\n",
       "/* Toggleable label */\n",
       "#sk-container-id-1 label.sk-toggleable__label {\n",
       "  cursor: pointer;\n",
       "  display: flex;\n",
       "  width: 100%;\n",
       "  margin-bottom: 0;\n",
       "  padding: 0.5em;\n",
       "  box-sizing: border-box;\n",
       "  text-align: center;\n",
       "  align-items: start;\n",
       "  justify-content: space-between;\n",
       "  gap: 0.5em;\n",
       "}\n",
       "\n",
       "#sk-container-id-1 label.sk-toggleable__label .caption {\n",
       "  font-size: 0.6rem;\n",
       "  font-weight: lighter;\n",
       "  color: var(--sklearn-color-text-muted);\n",
       "}\n",
       "\n",
       "#sk-container-id-1 label.sk-toggleable__label-arrow:before {\n",
       "  /* Arrow on the left of the label */\n",
       "  content: \"▸\";\n",
       "  float: left;\n",
       "  margin-right: 0.25em;\n",
       "  color: var(--sklearn-color-icon);\n",
       "}\n",
       "\n",
       "#sk-container-id-1 label.sk-toggleable__label-arrow:hover:before {\n",
       "  color: var(--sklearn-color-text);\n",
       "}\n",
       "\n",
       "/* Toggleable content - dropdown */\n",
       "\n",
       "#sk-container-id-1 div.sk-toggleable__content {\n",
       "  max-height: 0;\n",
       "  max-width: 0;\n",
       "  overflow: hidden;\n",
       "  text-align: left;\n",
       "  /* unfitted */\n",
       "  background-color: var(--sklearn-color-unfitted-level-0);\n",
       "}\n",
       "\n",
       "#sk-container-id-1 div.sk-toggleable__content.fitted {\n",
       "  /* fitted */\n",
       "  background-color: var(--sklearn-color-fitted-level-0);\n",
       "}\n",
       "\n",
       "#sk-container-id-1 div.sk-toggleable__content pre {\n",
       "  margin: 0.2em;\n",
       "  border-radius: 0.25em;\n",
       "  color: var(--sklearn-color-text);\n",
       "  /* unfitted */\n",
       "  background-color: var(--sklearn-color-unfitted-level-0);\n",
       "}\n",
       "\n",
       "#sk-container-id-1 div.sk-toggleable__content.fitted pre {\n",
       "  /* unfitted */\n",
       "  background-color: var(--sklearn-color-fitted-level-0);\n",
       "}\n",
       "\n",
       "#sk-container-id-1 input.sk-toggleable__control:checked~div.sk-toggleable__content {\n",
       "  /* Expand drop-down */\n",
       "  max-height: 200px;\n",
       "  max-width: 100%;\n",
       "  overflow: auto;\n",
       "}\n",
       "\n",
       "#sk-container-id-1 input.sk-toggleable__control:checked~label.sk-toggleable__label-arrow:before {\n",
       "  content: \"▾\";\n",
       "}\n",
       "\n",
       "/* Pipeline/ColumnTransformer-specific style */\n",
       "\n",
       "#sk-container-id-1 div.sk-label input.sk-toggleable__control:checked~label.sk-toggleable__label {\n",
       "  color: var(--sklearn-color-text);\n",
       "  background-color: var(--sklearn-color-unfitted-level-2);\n",
       "}\n",
       "\n",
       "#sk-container-id-1 div.sk-label.fitted input.sk-toggleable__control:checked~label.sk-toggleable__label {\n",
       "  background-color: var(--sklearn-color-fitted-level-2);\n",
       "}\n",
       "\n",
       "/* Estimator-specific style */\n",
       "\n",
       "/* Colorize estimator box */\n",
       "#sk-container-id-1 div.sk-estimator input.sk-toggleable__control:checked~label.sk-toggleable__label {\n",
       "  /* unfitted */\n",
       "  background-color: var(--sklearn-color-unfitted-level-2);\n",
       "}\n",
       "\n",
       "#sk-container-id-1 div.sk-estimator.fitted input.sk-toggleable__control:checked~label.sk-toggleable__label {\n",
       "  /* fitted */\n",
       "  background-color: var(--sklearn-color-fitted-level-2);\n",
       "}\n",
       "\n",
       "#sk-container-id-1 div.sk-label label.sk-toggleable__label,\n",
       "#sk-container-id-1 div.sk-label label {\n",
       "  /* The background is the default theme color */\n",
       "  color: var(--sklearn-color-text-on-default-background);\n",
       "}\n",
       "\n",
       "/* On hover, darken the color of the background */\n",
       "#sk-container-id-1 div.sk-label:hover label.sk-toggleable__label {\n",
       "  color: var(--sklearn-color-text);\n",
       "  background-color: var(--sklearn-color-unfitted-level-2);\n",
       "}\n",
       "\n",
       "/* Label box, darken color on hover, fitted */\n",
       "#sk-container-id-1 div.sk-label.fitted:hover label.sk-toggleable__label.fitted {\n",
       "  color: var(--sklearn-color-text);\n",
       "  background-color: var(--sklearn-color-fitted-level-2);\n",
       "}\n",
       "\n",
       "/* Estimator label */\n",
       "\n",
       "#sk-container-id-1 div.sk-label label {\n",
       "  font-family: monospace;\n",
       "  font-weight: bold;\n",
       "  display: inline-block;\n",
       "  line-height: 1.2em;\n",
       "}\n",
       "\n",
       "#sk-container-id-1 div.sk-label-container {\n",
       "  text-align: center;\n",
       "}\n",
       "\n",
       "/* Estimator-specific */\n",
       "#sk-container-id-1 div.sk-estimator {\n",
       "  font-family: monospace;\n",
       "  border: 1px dotted var(--sklearn-color-border-box);\n",
       "  border-radius: 0.25em;\n",
       "  box-sizing: border-box;\n",
       "  margin-bottom: 0.5em;\n",
       "  /* unfitted */\n",
       "  background-color: var(--sklearn-color-unfitted-level-0);\n",
       "}\n",
       "\n",
       "#sk-container-id-1 div.sk-estimator.fitted {\n",
       "  /* fitted */\n",
       "  background-color: var(--sklearn-color-fitted-level-0);\n",
       "}\n",
       "\n",
       "/* on hover */\n",
       "#sk-container-id-1 div.sk-estimator:hover {\n",
       "  /* unfitted */\n",
       "  background-color: var(--sklearn-color-unfitted-level-2);\n",
       "}\n",
       "\n",
       "#sk-container-id-1 div.sk-estimator.fitted:hover {\n",
       "  /* fitted */\n",
       "  background-color: var(--sklearn-color-fitted-level-2);\n",
       "}\n",
       "\n",
       "/* Specification for estimator info (e.g. \"i\" and \"?\") */\n",
       "\n",
       "/* Common style for \"i\" and \"?\" */\n",
       "\n",
       ".sk-estimator-doc-link,\n",
       "a:link.sk-estimator-doc-link,\n",
       "a:visited.sk-estimator-doc-link {\n",
       "  float: right;\n",
       "  font-size: smaller;\n",
       "  line-height: 1em;\n",
       "  font-family: monospace;\n",
       "  background-color: var(--sklearn-color-background);\n",
       "  border-radius: 1em;\n",
       "  height: 1em;\n",
       "  width: 1em;\n",
       "  text-decoration: none !important;\n",
       "  margin-left: 0.5em;\n",
       "  text-align: center;\n",
       "  /* unfitted */\n",
       "  border: var(--sklearn-color-unfitted-level-1) 1pt solid;\n",
       "  color: var(--sklearn-color-unfitted-level-1);\n",
       "}\n",
       "\n",
       ".sk-estimator-doc-link.fitted,\n",
       "a:link.sk-estimator-doc-link.fitted,\n",
       "a:visited.sk-estimator-doc-link.fitted {\n",
       "  /* fitted */\n",
       "  border: var(--sklearn-color-fitted-level-1) 1pt solid;\n",
       "  color: var(--sklearn-color-fitted-level-1);\n",
       "}\n",
       "\n",
       "/* On hover */\n",
       "div.sk-estimator:hover .sk-estimator-doc-link:hover,\n",
       ".sk-estimator-doc-link:hover,\n",
       "div.sk-label-container:hover .sk-estimator-doc-link:hover,\n",
       ".sk-estimator-doc-link:hover {\n",
       "  /* unfitted */\n",
       "  background-color: var(--sklearn-color-unfitted-level-3);\n",
       "  color: var(--sklearn-color-background);\n",
       "  text-decoration: none;\n",
       "}\n",
       "\n",
       "div.sk-estimator.fitted:hover .sk-estimator-doc-link.fitted:hover,\n",
       ".sk-estimator-doc-link.fitted:hover,\n",
       "div.sk-label-container:hover .sk-estimator-doc-link.fitted:hover,\n",
       ".sk-estimator-doc-link.fitted:hover {\n",
       "  /* fitted */\n",
       "  background-color: var(--sklearn-color-fitted-level-3);\n",
       "  color: var(--sklearn-color-background);\n",
       "  text-decoration: none;\n",
       "}\n",
       "\n",
       "/* Span, style for the box shown on hovering the info icon */\n",
       ".sk-estimator-doc-link span {\n",
       "  display: none;\n",
       "  z-index: 9999;\n",
       "  position: relative;\n",
       "  font-weight: normal;\n",
       "  right: .2ex;\n",
       "  padding: .5ex;\n",
       "  margin: .5ex;\n",
       "  width: min-content;\n",
       "  min-width: 20ex;\n",
       "  max-width: 50ex;\n",
       "  color: var(--sklearn-color-text);\n",
       "  box-shadow: 2pt 2pt 4pt #999;\n",
       "  /* unfitted */\n",
       "  background: var(--sklearn-color-unfitted-level-0);\n",
       "  border: .5pt solid var(--sklearn-color-unfitted-level-3);\n",
       "}\n",
       "\n",
       ".sk-estimator-doc-link.fitted span {\n",
       "  /* fitted */\n",
       "  background: var(--sklearn-color-fitted-level-0);\n",
       "  border: var(--sklearn-color-fitted-level-3);\n",
       "}\n",
       "\n",
       ".sk-estimator-doc-link:hover span {\n",
       "  display: block;\n",
       "}\n",
       "\n",
       "/* \"?\"-specific style due to the `<a>` HTML tag */\n",
       "\n",
       "#sk-container-id-1 a.estimator_doc_link {\n",
       "  float: right;\n",
       "  font-size: 1rem;\n",
       "  line-height: 1em;\n",
       "  font-family: monospace;\n",
       "  background-color: var(--sklearn-color-background);\n",
       "  border-radius: 1rem;\n",
       "  height: 1rem;\n",
       "  width: 1rem;\n",
       "  text-decoration: none;\n",
       "  /* unfitted */\n",
       "  color: var(--sklearn-color-unfitted-level-1);\n",
       "  border: var(--sklearn-color-unfitted-level-1) 1pt solid;\n",
       "}\n",
       "\n",
       "#sk-container-id-1 a.estimator_doc_link.fitted {\n",
       "  /* fitted */\n",
       "  border: var(--sklearn-color-fitted-level-1) 1pt solid;\n",
       "  color: var(--sklearn-color-fitted-level-1);\n",
       "}\n",
       "\n",
       "/* On hover */\n",
       "#sk-container-id-1 a.estimator_doc_link:hover {\n",
       "  /* unfitted */\n",
       "  background-color: var(--sklearn-color-unfitted-level-3);\n",
       "  color: var(--sklearn-color-background);\n",
       "  text-decoration: none;\n",
       "}\n",
       "\n",
       "#sk-container-id-1 a.estimator_doc_link.fitted:hover {\n",
       "  /* fitted */\n",
       "  background-color: var(--sklearn-color-fitted-level-3);\n",
       "}\n",
       "</style><div id=\"sk-container-id-1\" class=\"sk-top-container\"><div class=\"sk-text-repr-fallback\"><pre>GridSearchCV(cv=2, estimator=Lasso(), param_grid={&#x27;alpha&#x27;: [1]},\n",
       "             scoring=&#x27;neg_root_mean_squared_error&#x27;)</pre><b>In a Jupyter environment, please rerun this cell to show the HTML representation or trust the notebook. <br />On GitHub, the HTML representation is unable to render, please try loading this page with nbviewer.org.</b></div><div class=\"sk-container\" hidden><div class=\"sk-item sk-dashed-wrapped\"><div class=\"sk-label-container\"><div class=\"sk-label fitted sk-toggleable\"><input class=\"sk-toggleable__control sk-hidden--visually\" id=\"sk-estimator-id-1\" type=\"checkbox\" ><label for=\"sk-estimator-id-1\" class=\"sk-toggleable__label fitted sk-toggleable__label-arrow\"><div><div>GridSearchCV</div></div><div><a class=\"sk-estimator-doc-link fitted\" rel=\"noreferrer\" target=\"_blank\" href=\"https://scikit-learn.org/1.6/modules/generated/sklearn.model_selection.GridSearchCV.html\">?<span>Documentation for GridSearchCV</span></a><span class=\"sk-estimator-doc-link fitted\">i<span>Fitted</span></span></div></label><div class=\"sk-toggleable__content fitted\"><pre>GridSearchCV(cv=2, estimator=Lasso(), param_grid={&#x27;alpha&#x27;: [1]},\n",
       "             scoring=&#x27;neg_root_mean_squared_error&#x27;)</pre></div> </div></div><div class=\"sk-parallel\"><div class=\"sk-parallel-item\"><div class=\"sk-item\"><div class=\"sk-label-container\"><div class=\"sk-label fitted sk-toggleable\"><input class=\"sk-toggleable__control sk-hidden--visually\" id=\"sk-estimator-id-2\" type=\"checkbox\" ><label for=\"sk-estimator-id-2\" class=\"sk-toggleable__label fitted sk-toggleable__label-arrow\"><div><div>best_estimator_: Lasso</div></div></label><div class=\"sk-toggleable__content fitted\"><pre>Lasso(alpha=1)</pre></div> </div></div><div class=\"sk-serial\"><div class=\"sk-item\"><div class=\"sk-estimator fitted sk-toggleable\"><input class=\"sk-toggleable__control sk-hidden--visually\" id=\"sk-estimator-id-3\" type=\"checkbox\" ><label for=\"sk-estimator-id-3\" class=\"sk-toggleable__label fitted sk-toggleable__label-arrow\"><div><div>Lasso</div></div><div><a class=\"sk-estimator-doc-link fitted\" rel=\"noreferrer\" target=\"_blank\" href=\"https://scikit-learn.org/1.6/modules/generated/sklearn.linear_model.Lasso.html\">?<span>Documentation for Lasso</span></a></div></label><div class=\"sk-toggleable__content fitted\"><pre>Lasso(alpha=1)</pre></div> </div></div></div></div></div></div></div></div></div>"
      ],
      "text/plain": [
       "GridSearchCV(cv=2, estimator=Lasso(), param_grid={'alpha': [1]},\n",
       "             scoring='neg_root_mean_squared_error')"
      ]
     },
     "execution_count": 56,
     "metadata": {},
     "output_type": "execute_result"
    }
   ],
   "source": [
    "grid_search_RMSE = GridSearchCV(model,param_grid=param,scoring ='neg_root_mean_squared_error',cv=2)\n",
    "grid_search_RMSE.fit(X_train_1, y_train)"
   ]
  },
  {
   "cell_type": "code",
   "execution_count": 57,
   "metadata": {},
   "outputs": [
    {
     "data": {
      "text/html": [
       "<div>\n",
       "<style scoped>\n",
       "    .dataframe tbody tr th:only-of-type {\n",
       "        vertical-align: middle;\n",
       "    }\n",
       "\n",
       "    .dataframe tbody tr th {\n",
       "        vertical-align: top;\n",
       "    }\n",
       "\n",
       "    .dataframe thead th {\n",
       "        text-align: right;\n",
       "    }\n",
       "</style>\n",
       "<table border=\"1\" class=\"dataframe\">\n",
       "  <thead>\n",
       "    <tr style=\"text-align: right;\">\n",
       "      <th></th>\n",
       "      <th>mean_fit_time</th>\n",
       "      <th>std_fit_time</th>\n",
       "      <th>mean_score_time</th>\n",
       "      <th>std_score_time</th>\n",
       "      <th>param_alpha</th>\n",
       "      <th>params</th>\n",
       "      <th>split0_test_score</th>\n",
       "      <th>split1_test_score</th>\n",
       "      <th>mean_test_score</th>\n",
       "      <th>std_test_score</th>\n",
       "      <th>rank_test_score</th>\n",
       "    </tr>\n",
       "  </thead>\n",
       "  <tbody>\n",
       "    <tr>\n",
       "      <th>0</th>\n",
       "      <td>88.916868</td>\n",
       "      <td>28.389951</td>\n",
       "      <td>0.225241</td>\n",
       "      <td>0.00359</td>\n",
       "      <td>1</td>\n",
       "      <td>{'alpha': 1}</td>\n",
       "      <td>-2727.699722</td>\n",
       "      <td>-2719.062036</td>\n",
       "      <td>-2723.380879</td>\n",
       "      <td>4.318843</td>\n",
       "      <td>1</td>\n",
       "    </tr>\n",
       "  </tbody>\n",
       "</table>\n",
       "</div>"
      ],
      "text/plain": [
       "   mean_fit_time  std_fit_time  mean_score_time  std_score_time  param_alpha  \\\n",
       "0      88.916868     28.389951         0.225241         0.00359            1   \n",
       "\n",
       "         params  split0_test_score  split1_test_score  mean_test_score  \\\n",
       "0  {'alpha': 1}       -2727.699722       -2719.062036     -2723.380879   \n",
       "\n",
       "   std_test_score  rank_test_score  \n",
       "0        4.318843                1  "
      ]
     },
     "execution_count": 57,
     "metadata": {},
     "output_type": "execute_result"
    }
   ],
   "source": [
    "pd.DataFrame(grid_search_RMSE.cv_results_)"
   ]
  },
  {
   "cell_type": "markdown",
   "metadata": {},
   "source": [
    "### LightGBM"
   ]
  },
  {
   "cell_type": "code",
   "execution_count": 58,
   "metadata": {},
   "outputs": [],
   "source": [
    "train_data = lgb.Dataset(X_train, label=y_train)\n",
    "\n",
    "test_data = lgb.Dataset(X_test, label=y_test, reference=train_data)"
   ]
  },
  {
   "cell_type": "code",
   "execution_count": 59,
   "metadata": {},
   "outputs": [],
   "source": [
    "# Define a dictionary of parameters for configuring the LightGBM regression model.\n",
    "params = {\n",
    "    'objective': ['regression'],\n",
    "    'metric': ['rmse'],\n",
    "    'num_leaves': [31],\n",
    "    'learning_rate': [0.05],\n",
    "    'feature_fraction': [0.9],\n",
    "    'random_state': [42]\n",
    "}"
   ]
  },
  {
   "cell_type": "code",
   "execution_count": 60,
   "metadata": {},
   "outputs": [
    {
     "name": "stderr",
     "output_type": "stream",
     "text": [
      "/opt/conda/lib/python3.9/site-packages/lightgbm/engine.py:181: UserWarning: 'early_stopping_rounds' argument is deprecated and will be removed in a future release of LightGBM. Pass 'early_stopping()' callback via 'callbacks' argument instead.\n",
      "  _log_warning(\"'early_stopping_rounds' argument is deprecated and will be removed in a future release of LightGBM. \"\n"
     ]
    },
    {
     "name": "stdout",
     "output_type": "stream",
     "text": [
      "[LightGBM] [Warning] Auto-choosing col-wise multi-threading, the overhead of testing was 0.401883 seconds.\n",
      "You can set `force_col_wise=true` to remove the overhead.\n",
      "[LightGBM] [Info] Total Bins 665\n",
      "[LightGBM] [Info] Number of data points in the train set: 244408, number of used features: 9\n",
      "[LightGBM] [Info] Start training from score 4618.429037\n",
      "[1]\ttraining's rmse: 4370.46\n",
      "Training until validation scores don't improve for 10 rounds\n",
      "[2]\ttraining's rmse: 4218.34\n",
      "[3]\ttraining's rmse: 4075.77\n",
      "[4]\ttraining's rmse: 3943.11\n",
      "[5]\ttraining's rmse: 3828.91\n",
      "[6]\ttraining's rmse: 3727.55\n",
      "[7]\ttraining's rmse: 3614.69\n",
      "[8]\ttraining's rmse: 3507.78\n",
      "[9]\ttraining's rmse: 3409.12\n",
      "[10]\ttraining's rmse: 3329.47\n",
      "[11]\ttraining's rmse: 3246.59\n",
      "[12]\ttraining's rmse: 3175.46\n",
      "[13]\ttraining's rmse: 3095.4\n",
      "[14]\ttraining's rmse: 3020.9\n",
      "[15]\ttraining's rmse: 2952.68\n",
      "[16]\ttraining's rmse: 2887.05\n",
      "[17]\ttraining's rmse: 2826.56\n",
      "[18]\ttraining's rmse: 2769.33\n",
      "[19]\ttraining's rmse: 2714.15\n",
      "[20]\ttraining's rmse: 2662.68\n",
      "[21]\ttraining's rmse: 2617.64\n",
      "[22]\ttraining's rmse: 2572.81\n",
      "[23]\ttraining's rmse: 2531.2\n",
      "[24]\ttraining's rmse: 2494.91\n",
      "[25]\ttraining's rmse: 2458.1\n",
      "[26]\ttraining's rmse: 2423.43\n",
      "[27]\ttraining's rmse: 2393.34\n",
      "[28]\ttraining's rmse: 2363.56\n",
      "[29]\ttraining's rmse: 2337.51\n",
      "[30]\ttraining's rmse: 2311.25\n",
      "[31]\ttraining's rmse: 2287.94\n",
      "[32]\ttraining's rmse: 2264.67\n",
      "[33]\ttraining's rmse: 2242.03\n",
      "[34]\ttraining's rmse: 2222.38\n",
      "[35]\ttraining's rmse: 2200.94\n",
      "[36]\ttraining's rmse: 2183.07\n",
      "[37]\ttraining's rmse: 2165.9\n",
      "[38]\ttraining's rmse: 2148.63\n",
      "[39]\ttraining's rmse: 2133.11\n",
      "[40]\ttraining's rmse: 2119.02\n",
      "[41]\ttraining's rmse: 2103.83\n",
      "[42]\ttraining's rmse: 2090.89\n",
      "[43]\ttraining's rmse: 2078.95\n",
      "[44]\ttraining's rmse: 2067.11\n",
      "[45]\ttraining's rmse: 2055.32\n",
      "[46]\ttraining's rmse: 2045.05\n",
      "[47]\ttraining's rmse: 2034.48\n",
      "[48]\ttraining's rmse: 2024.31\n",
      "[49]\ttraining's rmse: 2015.02\n",
      "[50]\ttraining's rmse: 2005.77\n",
      "[51]\ttraining's rmse: 1996.53\n",
      "[52]\ttraining's rmse: 1988.55\n",
      "[53]\ttraining's rmse: 1980.74\n",
      "[54]\ttraining's rmse: 1972.25\n",
      "[55]\ttraining's rmse: 1965.6\n",
      "[56]\ttraining's rmse: 1958.55\n",
      "[57]\ttraining's rmse: 1950.8\n",
      "[58]\ttraining's rmse: 1943.84\n",
      "[59]\ttraining's rmse: 1937.13\n",
      "[60]\ttraining's rmse: 1930.91\n",
      "[61]\ttraining's rmse: 1925.05\n",
      "[62]\ttraining's rmse: 1919.37\n",
      "[63]\ttraining's rmse: 1913.17\n",
      "[64]\ttraining's rmse: 1907.9\n",
      "[65]\ttraining's rmse: 1901.96\n",
      "[66]\ttraining's rmse: 1897.28\n",
      "[67]\ttraining's rmse: 1893.15\n",
      "[68]\ttraining's rmse: 1889\n",
      "[69]\ttraining's rmse: 1884.89\n",
      "[70]\ttraining's rmse: 1880.97\n",
      "[71]\ttraining's rmse: 1877.07\n",
      "[72]\ttraining's rmse: 1873.38\n",
      "[73]\ttraining's rmse: 1869.93\n",
      "[74]\ttraining's rmse: 1865.69\n",
      "[75]\ttraining's rmse: 1862.42\n",
      "[76]\ttraining's rmse: 1858.6\n",
      "[77]\ttraining's rmse: 1855.75\n",
      "[78]\ttraining's rmse: 1851.87\n",
      "[79]\ttraining's rmse: 1847.71\n",
      "[80]\ttraining's rmse: 1844.91\n",
      "[81]\ttraining's rmse: 1842\n",
      "[82]\ttraining's rmse: 1838.37\n",
      "[83]\ttraining's rmse: 1835.67\n",
      "[84]\ttraining's rmse: 1832.67\n",
      "[85]\ttraining's rmse: 1829.75\n",
      "[86]\ttraining's rmse: 1827.41\n",
      "[87]\ttraining's rmse: 1824.82\n",
      "[88]\ttraining's rmse: 1822.26\n",
      "[89]\ttraining's rmse: 1819.48\n",
      "[90]\ttraining's rmse: 1816.35\n",
      "[91]\ttraining's rmse: 1813.84\n",
      "[92]\ttraining's rmse: 1811.85\n",
      "[93]\ttraining's rmse: 1809.07\n",
      "[94]\ttraining's rmse: 1807.18\n",
      "[95]\ttraining's rmse: 1804.58\n",
      "[96]\ttraining's rmse: 1802.45\n",
      "[97]\ttraining's rmse: 1800.46\n",
      "[98]\ttraining's rmse: 1798.73\n",
      "[99]\ttraining's rmse: 1796.11\n",
      "[100]\ttraining's rmse: 1794.33\n",
      "Did not meet early stopping. Best iteration is:\n",
      "[100]\ttraining's rmse: 1794.33\n",
      "CPU times: user 4min 7s, sys: 0 ns, total: 4min 7s\n",
      "Wall time: 4min 10s\n"
     ]
    }
   ],
   "source": [
    "%%time\n",
    "num_round = 100\n",
    "bst = lgb.train(params, train_data, num_round, valid_sets=[\n",
    "                train_data], early_stopping_rounds=10)"
   ]
  },
  {
   "cell_type": "code",
   "execution_count": 61,
   "metadata": {},
   "outputs": [],
   "source": [
    "model = LGBMRegressor(metric='rmse')"
   ]
  },
  {
   "cell_type": "code",
   "execution_count": 63,
   "metadata": {},
   "outputs": [
    {
     "name": "stdout",
     "output_type": "stream",
     "text": [
      "[LightGBM] [Warning] feature_fraction is set=0.9, colsample_bytree=1.0 will be ignored. Current value: feature_fraction=0.9\n",
      "[LightGBM] [Warning] feature_fraction is set=0.9, colsample_bytree=1.0 will be ignored. Current value: feature_fraction=0.9\n",
      "[LightGBM] [Warning] feature_fraction is set=0.9, colsample_bytree=1.0 will be ignored. Current value: feature_fraction=0.9\n",
      "[LightGBM] [Warning] feature_fraction is set=0.9, colsample_bytree=1.0 will be ignored. Current value: feature_fraction=0.9\n",
      "[LightGBM] [Warning] feature_fraction is set=0.9, colsample_bytree=1.0 will be ignored. Current value: feature_fraction=0.9\n",
      "[LightGBM] [Warning] feature_fraction is set=0.9, colsample_bytree=1.0 will be ignored. Current value: feature_fraction=0.9\n"
     ]
    },
    {
     "data": {
      "text/html": [
       "<style>#sk-container-id-2 {\n",
       "  /* Definition of color scheme common for light and dark mode */\n",
       "  --sklearn-color-text: #000;\n",
       "  --sklearn-color-text-muted: #666;\n",
       "  --sklearn-color-line: gray;\n",
       "  /* Definition of color scheme for unfitted estimators */\n",
       "  --sklearn-color-unfitted-level-0: #fff5e6;\n",
       "  --sklearn-color-unfitted-level-1: #f6e4d2;\n",
       "  --sklearn-color-unfitted-level-2: #ffe0b3;\n",
       "  --sklearn-color-unfitted-level-3: chocolate;\n",
       "  /* Definition of color scheme for fitted estimators */\n",
       "  --sklearn-color-fitted-level-0: #f0f8ff;\n",
       "  --sklearn-color-fitted-level-1: #d4ebff;\n",
       "  --sklearn-color-fitted-level-2: #b3dbfd;\n",
       "  --sklearn-color-fitted-level-3: cornflowerblue;\n",
       "\n",
       "  /* Specific color for light theme */\n",
       "  --sklearn-color-text-on-default-background: var(--sg-text-color, var(--theme-code-foreground, var(--jp-content-font-color1, black)));\n",
       "  --sklearn-color-background: var(--sg-background-color, var(--theme-background, var(--jp-layout-color0, white)));\n",
       "  --sklearn-color-border-box: var(--sg-text-color, var(--theme-code-foreground, var(--jp-content-font-color1, black)));\n",
       "  --sklearn-color-icon: #696969;\n",
       "\n",
       "  @media (prefers-color-scheme: dark) {\n",
       "    /* Redefinition of color scheme for dark theme */\n",
       "    --sklearn-color-text-on-default-background: var(--sg-text-color, var(--theme-code-foreground, var(--jp-content-font-color1, white)));\n",
       "    --sklearn-color-background: var(--sg-background-color, var(--theme-background, var(--jp-layout-color0, #111)));\n",
       "    --sklearn-color-border-box: var(--sg-text-color, var(--theme-code-foreground, var(--jp-content-font-color1, white)));\n",
       "    --sklearn-color-icon: #878787;\n",
       "  }\n",
       "}\n",
       "\n",
       "#sk-container-id-2 {\n",
       "  color: var(--sklearn-color-text);\n",
       "}\n",
       "\n",
       "#sk-container-id-2 pre {\n",
       "  padding: 0;\n",
       "}\n",
       "\n",
       "#sk-container-id-2 input.sk-hidden--visually {\n",
       "  border: 0;\n",
       "  clip: rect(1px 1px 1px 1px);\n",
       "  clip: rect(1px, 1px, 1px, 1px);\n",
       "  height: 1px;\n",
       "  margin: -1px;\n",
       "  overflow: hidden;\n",
       "  padding: 0;\n",
       "  position: absolute;\n",
       "  width: 1px;\n",
       "}\n",
       "\n",
       "#sk-container-id-2 div.sk-dashed-wrapped {\n",
       "  border: 1px dashed var(--sklearn-color-line);\n",
       "  margin: 0 0.4em 0.5em 0.4em;\n",
       "  box-sizing: border-box;\n",
       "  padding-bottom: 0.4em;\n",
       "  background-color: var(--sklearn-color-background);\n",
       "}\n",
       "\n",
       "#sk-container-id-2 div.sk-container {\n",
       "  /* jupyter's `normalize.less` sets `[hidden] { display: none; }`\n",
       "     but bootstrap.min.css set `[hidden] { display: none !important; }`\n",
       "     so we also need the `!important` here to be able to override the\n",
       "     default hidden behavior on the sphinx rendered scikit-learn.org.\n",
       "     See: https://github.com/scikit-learn/scikit-learn/issues/21755 */\n",
       "  display: inline-block !important;\n",
       "  position: relative;\n",
       "}\n",
       "\n",
       "#sk-container-id-2 div.sk-text-repr-fallback {\n",
       "  display: none;\n",
       "}\n",
       "\n",
       "div.sk-parallel-item,\n",
       "div.sk-serial,\n",
       "div.sk-item {\n",
       "  /* draw centered vertical line to link estimators */\n",
       "  background-image: linear-gradient(var(--sklearn-color-text-on-default-background), var(--sklearn-color-text-on-default-background));\n",
       "  background-size: 2px 100%;\n",
       "  background-repeat: no-repeat;\n",
       "  background-position: center center;\n",
       "}\n",
       "\n",
       "/* Parallel-specific style estimator block */\n",
       "\n",
       "#sk-container-id-2 div.sk-parallel-item::after {\n",
       "  content: \"\";\n",
       "  width: 100%;\n",
       "  border-bottom: 2px solid var(--sklearn-color-text-on-default-background);\n",
       "  flex-grow: 1;\n",
       "}\n",
       "\n",
       "#sk-container-id-2 div.sk-parallel {\n",
       "  display: flex;\n",
       "  align-items: stretch;\n",
       "  justify-content: center;\n",
       "  background-color: var(--sklearn-color-background);\n",
       "  position: relative;\n",
       "}\n",
       "\n",
       "#sk-container-id-2 div.sk-parallel-item {\n",
       "  display: flex;\n",
       "  flex-direction: column;\n",
       "}\n",
       "\n",
       "#sk-container-id-2 div.sk-parallel-item:first-child::after {\n",
       "  align-self: flex-end;\n",
       "  width: 50%;\n",
       "}\n",
       "\n",
       "#sk-container-id-2 div.sk-parallel-item:last-child::after {\n",
       "  align-self: flex-start;\n",
       "  width: 50%;\n",
       "}\n",
       "\n",
       "#sk-container-id-2 div.sk-parallel-item:only-child::after {\n",
       "  width: 0;\n",
       "}\n",
       "\n",
       "/* Serial-specific style estimator block */\n",
       "\n",
       "#sk-container-id-2 div.sk-serial {\n",
       "  display: flex;\n",
       "  flex-direction: column;\n",
       "  align-items: center;\n",
       "  background-color: var(--sklearn-color-background);\n",
       "  padding-right: 1em;\n",
       "  padding-left: 1em;\n",
       "}\n",
       "\n",
       "\n",
       "/* Toggleable style: style used for estimator/Pipeline/ColumnTransformer box that is\n",
       "clickable and can be expanded/collapsed.\n",
       "- Pipeline and ColumnTransformer use this feature and define the default style\n",
       "- Estimators will overwrite some part of the style using the `sk-estimator` class\n",
       "*/\n",
       "\n",
       "/* Pipeline and ColumnTransformer style (default) */\n",
       "\n",
       "#sk-container-id-2 div.sk-toggleable {\n",
       "  /* Default theme specific background. It is overwritten whether we have a\n",
       "  specific estimator or a Pipeline/ColumnTransformer */\n",
       "  background-color: var(--sklearn-color-background);\n",
       "}\n",
       "\n",
       "/* Toggleable label */\n",
       "#sk-container-id-2 label.sk-toggleable__label {\n",
       "  cursor: pointer;\n",
       "  display: flex;\n",
       "  width: 100%;\n",
       "  margin-bottom: 0;\n",
       "  padding: 0.5em;\n",
       "  box-sizing: border-box;\n",
       "  text-align: center;\n",
       "  align-items: start;\n",
       "  justify-content: space-between;\n",
       "  gap: 0.5em;\n",
       "}\n",
       "\n",
       "#sk-container-id-2 label.sk-toggleable__label .caption {\n",
       "  font-size: 0.6rem;\n",
       "  font-weight: lighter;\n",
       "  color: var(--sklearn-color-text-muted);\n",
       "}\n",
       "\n",
       "#sk-container-id-2 label.sk-toggleable__label-arrow:before {\n",
       "  /* Arrow on the left of the label */\n",
       "  content: \"▸\";\n",
       "  float: left;\n",
       "  margin-right: 0.25em;\n",
       "  color: var(--sklearn-color-icon);\n",
       "}\n",
       "\n",
       "#sk-container-id-2 label.sk-toggleable__label-arrow:hover:before {\n",
       "  color: var(--sklearn-color-text);\n",
       "}\n",
       "\n",
       "/* Toggleable content - dropdown */\n",
       "\n",
       "#sk-container-id-2 div.sk-toggleable__content {\n",
       "  max-height: 0;\n",
       "  max-width: 0;\n",
       "  overflow: hidden;\n",
       "  text-align: left;\n",
       "  /* unfitted */\n",
       "  background-color: var(--sklearn-color-unfitted-level-0);\n",
       "}\n",
       "\n",
       "#sk-container-id-2 div.sk-toggleable__content.fitted {\n",
       "  /* fitted */\n",
       "  background-color: var(--sklearn-color-fitted-level-0);\n",
       "}\n",
       "\n",
       "#sk-container-id-2 div.sk-toggleable__content pre {\n",
       "  margin: 0.2em;\n",
       "  border-radius: 0.25em;\n",
       "  color: var(--sklearn-color-text);\n",
       "  /* unfitted */\n",
       "  background-color: var(--sklearn-color-unfitted-level-0);\n",
       "}\n",
       "\n",
       "#sk-container-id-2 div.sk-toggleable__content.fitted pre {\n",
       "  /* unfitted */\n",
       "  background-color: var(--sklearn-color-fitted-level-0);\n",
       "}\n",
       "\n",
       "#sk-container-id-2 input.sk-toggleable__control:checked~div.sk-toggleable__content {\n",
       "  /* Expand drop-down */\n",
       "  max-height: 200px;\n",
       "  max-width: 100%;\n",
       "  overflow: auto;\n",
       "}\n",
       "\n",
       "#sk-container-id-2 input.sk-toggleable__control:checked~label.sk-toggleable__label-arrow:before {\n",
       "  content: \"▾\";\n",
       "}\n",
       "\n",
       "/* Pipeline/ColumnTransformer-specific style */\n",
       "\n",
       "#sk-container-id-2 div.sk-label input.sk-toggleable__control:checked~label.sk-toggleable__label {\n",
       "  color: var(--sklearn-color-text);\n",
       "  background-color: var(--sklearn-color-unfitted-level-2);\n",
       "}\n",
       "\n",
       "#sk-container-id-2 div.sk-label.fitted input.sk-toggleable__control:checked~label.sk-toggleable__label {\n",
       "  background-color: var(--sklearn-color-fitted-level-2);\n",
       "}\n",
       "\n",
       "/* Estimator-specific style */\n",
       "\n",
       "/* Colorize estimator box */\n",
       "#sk-container-id-2 div.sk-estimator input.sk-toggleable__control:checked~label.sk-toggleable__label {\n",
       "  /* unfitted */\n",
       "  background-color: var(--sklearn-color-unfitted-level-2);\n",
       "}\n",
       "\n",
       "#sk-container-id-2 div.sk-estimator.fitted input.sk-toggleable__control:checked~label.sk-toggleable__label {\n",
       "  /* fitted */\n",
       "  background-color: var(--sklearn-color-fitted-level-2);\n",
       "}\n",
       "\n",
       "#sk-container-id-2 div.sk-label label.sk-toggleable__label,\n",
       "#sk-container-id-2 div.sk-label label {\n",
       "  /* The background is the default theme color */\n",
       "  color: var(--sklearn-color-text-on-default-background);\n",
       "}\n",
       "\n",
       "/* On hover, darken the color of the background */\n",
       "#sk-container-id-2 div.sk-label:hover label.sk-toggleable__label {\n",
       "  color: var(--sklearn-color-text);\n",
       "  background-color: var(--sklearn-color-unfitted-level-2);\n",
       "}\n",
       "\n",
       "/* Label box, darken color on hover, fitted */\n",
       "#sk-container-id-2 div.sk-label.fitted:hover label.sk-toggleable__label.fitted {\n",
       "  color: var(--sklearn-color-text);\n",
       "  background-color: var(--sklearn-color-fitted-level-2);\n",
       "}\n",
       "\n",
       "/* Estimator label */\n",
       "\n",
       "#sk-container-id-2 div.sk-label label {\n",
       "  font-family: monospace;\n",
       "  font-weight: bold;\n",
       "  display: inline-block;\n",
       "  line-height: 1.2em;\n",
       "}\n",
       "\n",
       "#sk-container-id-2 div.sk-label-container {\n",
       "  text-align: center;\n",
       "}\n",
       "\n",
       "/* Estimator-specific */\n",
       "#sk-container-id-2 div.sk-estimator {\n",
       "  font-family: monospace;\n",
       "  border: 1px dotted var(--sklearn-color-border-box);\n",
       "  border-radius: 0.25em;\n",
       "  box-sizing: border-box;\n",
       "  margin-bottom: 0.5em;\n",
       "  /* unfitted */\n",
       "  background-color: var(--sklearn-color-unfitted-level-0);\n",
       "}\n",
       "\n",
       "#sk-container-id-2 div.sk-estimator.fitted {\n",
       "  /* fitted */\n",
       "  background-color: var(--sklearn-color-fitted-level-0);\n",
       "}\n",
       "\n",
       "/* on hover */\n",
       "#sk-container-id-2 div.sk-estimator:hover {\n",
       "  /* unfitted */\n",
       "  background-color: var(--sklearn-color-unfitted-level-2);\n",
       "}\n",
       "\n",
       "#sk-container-id-2 div.sk-estimator.fitted:hover {\n",
       "  /* fitted */\n",
       "  background-color: var(--sklearn-color-fitted-level-2);\n",
       "}\n",
       "\n",
       "/* Specification for estimator info (e.g. \"i\" and \"?\") */\n",
       "\n",
       "/* Common style for \"i\" and \"?\" */\n",
       "\n",
       ".sk-estimator-doc-link,\n",
       "a:link.sk-estimator-doc-link,\n",
       "a:visited.sk-estimator-doc-link {\n",
       "  float: right;\n",
       "  font-size: smaller;\n",
       "  line-height: 1em;\n",
       "  font-family: monospace;\n",
       "  background-color: var(--sklearn-color-background);\n",
       "  border-radius: 1em;\n",
       "  height: 1em;\n",
       "  width: 1em;\n",
       "  text-decoration: none !important;\n",
       "  margin-left: 0.5em;\n",
       "  text-align: center;\n",
       "  /* unfitted */\n",
       "  border: var(--sklearn-color-unfitted-level-1) 1pt solid;\n",
       "  color: var(--sklearn-color-unfitted-level-1);\n",
       "}\n",
       "\n",
       ".sk-estimator-doc-link.fitted,\n",
       "a:link.sk-estimator-doc-link.fitted,\n",
       "a:visited.sk-estimator-doc-link.fitted {\n",
       "  /* fitted */\n",
       "  border: var(--sklearn-color-fitted-level-1) 1pt solid;\n",
       "  color: var(--sklearn-color-fitted-level-1);\n",
       "}\n",
       "\n",
       "/* On hover */\n",
       "div.sk-estimator:hover .sk-estimator-doc-link:hover,\n",
       ".sk-estimator-doc-link:hover,\n",
       "div.sk-label-container:hover .sk-estimator-doc-link:hover,\n",
       ".sk-estimator-doc-link:hover {\n",
       "  /* unfitted */\n",
       "  background-color: var(--sklearn-color-unfitted-level-3);\n",
       "  color: var(--sklearn-color-background);\n",
       "  text-decoration: none;\n",
       "}\n",
       "\n",
       "div.sk-estimator.fitted:hover .sk-estimator-doc-link.fitted:hover,\n",
       ".sk-estimator-doc-link.fitted:hover,\n",
       "div.sk-label-container:hover .sk-estimator-doc-link.fitted:hover,\n",
       ".sk-estimator-doc-link.fitted:hover {\n",
       "  /* fitted */\n",
       "  background-color: var(--sklearn-color-fitted-level-3);\n",
       "  color: var(--sklearn-color-background);\n",
       "  text-decoration: none;\n",
       "}\n",
       "\n",
       "/* Span, style for the box shown on hovering the info icon */\n",
       ".sk-estimator-doc-link span {\n",
       "  display: none;\n",
       "  z-index: 9999;\n",
       "  position: relative;\n",
       "  font-weight: normal;\n",
       "  right: .2ex;\n",
       "  padding: .5ex;\n",
       "  margin: .5ex;\n",
       "  width: min-content;\n",
       "  min-width: 20ex;\n",
       "  max-width: 50ex;\n",
       "  color: var(--sklearn-color-text);\n",
       "  box-shadow: 2pt 2pt 4pt #999;\n",
       "  /* unfitted */\n",
       "  background: var(--sklearn-color-unfitted-level-0);\n",
       "  border: .5pt solid var(--sklearn-color-unfitted-level-3);\n",
       "}\n",
       "\n",
       ".sk-estimator-doc-link.fitted span {\n",
       "  /* fitted */\n",
       "  background: var(--sklearn-color-fitted-level-0);\n",
       "  border: var(--sklearn-color-fitted-level-3);\n",
       "}\n",
       "\n",
       ".sk-estimator-doc-link:hover span {\n",
       "  display: block;\n",
       "}\n",
       "\n",
       "/* \"?\"-specific style due to the `<a>` HTML tag */\n",
       "\n",
       "#sk-container-id-2 a.estimator_doc_link {\n",
       "  float: right;\n",
       "  font-size: 1rem;\n",
       "  line-height: 1em;\n",
       "  font-family: monospace;\n",
       "  background-color: var(--sklearn-color-background);\n",
       "  border-radius: 1rem;\n",
       "  height: 1rem;\n",
       "  width: 1rem;\n",
       "  text-decoration: none;\n",
       "  /* unfitted */\n",
       "  color: var(--sklearn-color-unfitted-level-1);\n",
       "  border: var(--sklearn-color-unfitted-level-1) 1pt solid;\n",
       "}\n",
       "\n",
       "#sk-container-id-2 a.estimator_doc_link.fitted {\n",
       "  /* fitted */\n",
       "  border: var(--sklearn-color-fitted-level-1) 1pt solid;\n",
       "  color: var(--sklearn-color-fitted-level-1);\n",
       "}\n",
       "\n",
       "/* On hover */\n",
       "#sk-container-id-2 a.estimator_doc_link:hover {\n",
       "  /* unfitted */\n",
       "  background-color: var(--sklearn-color-unfitted-level-3);\n",
       "  color: var(--sklearn-color-background);\n",
       "  text-decoration: none;\n",
       "}\n",
       "\n",
       "#sk-container-id-2 a.estimator_doc_link.fitted:hover {\n",
       "  /* fitted */\n",
       "  background-color: var(--sklearn-color-fitted-level-3);\n",
       "}\n",
       "</style><div id=\"sk-container-id-2\" class=\"sk-top-container\"><div class=\"sk-text-repr-fallback\"><pre>GridSearchCV(cv=5, estimator=LGBMRegressor(metric=&#x27;rmse&#x27;),\n",
       "             param_grid={&#x27;feature_fraction&#x27;: [0.9], &#x27;learning_rate&#x27;: [0.05],\n",
       "                         &#x27;metric&#x27;: [&#x27;rmse&#x27;], &#x27;num_leaves&#x27;: [31],\n",
       "                         &#x27;objective&#x27;: [&#x27;regression&#x27;], &#x27;random_state&#x27;: [42]},\n",
       "             scoring=&#x27;neg_root_mean_squared_error&#x27;)</pre><b>In a Jupyter environment, please rerun this cell to show the HTML representation or trust the notebook. <br />On GitHub, the HTML representation is unable to render, please try loading this page with nbviewer.org.</b></div><div class=\"sk-container\" hidden><div class=\"sk-item sk-dashed-wrapped\"><div class=\"sk-label-container\"><div class=\"sk-label fitted sk-toggleable\"><input class=\"sk-toggleable__control sk-hidden--visually\" id=\"sk-estimator-id-4\" type=\"checkbox\" ><label for=\"sk-estimator-id-4\" class=\"sk-toggleable__label fitted sk-toggleable__label-arrow\"><div><div>GridSearchCV</div></div><div><a class=\"sk-estimator-doc-link fitted\" rel=\"noreferrer\" target=\"_blank\" href=\"https://scikit-learn.org/1.6/modules/generated/sklearn.model_selection.GridSearchCV.html\">?<span>Documentation for GridSearchCV</span></a><span class=\"sk-estimator-doc-link fitted\">i<span>Fitted</span></span></div></label><div class=\"sk-toggleable__content fitted\"><pre>GridSearchCV(cv=5, estimator=LGBMRegressor(metric=&#x27;rmse&#x27;),\n",
       "             param_grid={&#x27;feature_fraction&#x27;: [0.9], &#x27;learning_rate&#x27;: [0.05],\n",
       "                         &#x27;metric&#x27;: [&#x27;rmse&#x27;], &#x27;num_leaves&#x27;: [31],\n",
       "                         &#x27;objective&#x27;: [&#x27;regression&#x27;], &#x27;random_state&#x27;: [42]},\n",
       "             scoring=&#x27;neg_root_mean_squared_error&#x27;)</pre></div> </div></div><div class=\"sk-parallel\"><div class=\"sk-parallel-item\"><div class=\"sk-item\"><div class=\"sk-label-container\"><div class=\"sk-label fitted sk-toggleable\"><input class=\"sk-toggleable__control sk-hidden--visually\" id=\"sk-estimator-id-5\" type=\"checkbox\" ><label for=\"sk-estimator-id-5\" class=\"sk-toggleable__label fitted sk-toggleable__label-arrow\"><div><div>best_estimator_: LGBMRegressor</div></div></label><div class=\"sk-toggleable__content fitted\"><pre>LGBMRegressor(feature_fraction=0.9, learning_rate=0.05, metric=&#x27;rmse&#x27;,\n",
       "              objective=&#x27;regression&#x27;, random_state=42)</pre></div> </div></div><div class=\"sk-serial\"><div class=\"sk-item\"><div class=\"sk-estimator fitted sk-toggleable\"><input class=\"sk-toggleable__control sk-hidden--visually\" id=\"sk-estimator-id-6\" type=\"checkbox\" ><label for=\"sk-estimator-id-6\" class=\"sk-toggleable__label fitted sk-toggleable__label-arrow\"><div><div>LGBMRegressor</div></div></label><div class=\"sk-toggleable__content fitted\"><pre>LGBMRegressor(feature_fraction=0.9, learning_rate=0.05, metric=&#x27;rmse&#x27;,\n",
       "              objective=&#x27;regression&#x27;, random_state=42)</pre></div> </div></div></div></div></div></div></div></div></div>"
      ],
      "text/plain": [
       "GridSearchCV(cv=5, estimator=LGBMRegressor(metric='rmse'),\n",
       "             param_grid={'feature_fraction': [0.9], 'learning_rate': [0.05],\n",
       "                         'metric': ['rmse'], 'num_leaves': [31],\n",
       "                         'objective': ['regression'], 'random_state': [42]},\n",
       "             scoring='neg_root_mean_squared_error')"
      ]
     },
     "execution_count": 63,
     "metadata": {},
     "output_type": "execute_result"
    }
   ],
   "source": [
    "grid_search_RMSE = GridSearchCV(model,param_grid=params,scoring ='neg_root_mean_squared_error',cv=5)\n",
    "grid_search_RMSE.fit(X_train, y_train)"
   ]
  },
  {
   "cell_type": "code",
   "execution_count": 64,
   "metadata": {},
   "outputs": [
    {
     "data": {
      "text/html": [
       "<div>\n",
       "<style scoped>\n",
       "    .dataframe tbody tr th:only-of-type {\n",
       "        vertical-align: middle;\n",
       "    }\n",
       "\n",
       "    .dataframe tbody tr th {\n",
       "        vertical-align: top;\n",
       "    }\n",
       "\n",
       "    .dataframe thead th {\n",
       "        text-align: right;\n",
       "    }\n",
       "</style>\n",
       "<table border=\"1\" class=\"dataframe\">\n",
       "  <thead>\n",
       "    <tr style=\"text-align: right;\">\n",
       "      <th></th>\n",
       "      <th>mean_fit_time</th>\n",
       "      <th>std_fit_time</th>\n",
       "      <th>mean_score_time</th>\n",
       "      <th>std_score_time</th>\n",
       "      <th>param_feature_fraction</th>\n",
       "      <th>param_learning_rate</th>\n",
       "      <th>param_metric</th>\n",
       "      <th>param_num_leaves</th>\n",
       "      <th>param_objective</th>\n",
       "      <th>param_random_state</th>\n",
       "      <th>params</th>\n",
       "      <th>split0_test_score</th>\n",
       "      <th>split1_test_score</th>\n",
       "      <th>split2_test_score</th>\n",
       "      <th>split3_test_score</th>\n",
       "      <th>split4_test_score</th>\n",
       "      <th>mean_test_score</th>\n",
       "      <th>std_test_score</th>\n",
       "      <th>rank_test_score</th>\n",
       "    </tr>\n",
       "  </thead>\n",
       "  <tbody>\n",
       "    <tr>\n",
       "      <th>0</th>\n",
       "      <td>39.692064</td>\n",
       "      <td>67.448311</td>\n",
       "      <td>0.482781</td>\n",
       "      <td>0.037654</td>\n",
       "      <td>0.9</td>\n",
       "      <td>0.05</td>\n",
       "      <td>rmse</td>\n",
       "      <td>31</td>\n",
       "      <td>regression</td>\n",
       "      <td>42</td>\n",
       "      <td>{'feature_fraction': 0.9, 'learning_rate': 0.0...</td>\n",
       "      <td>-1823.301464</td>\n",
       "      <td>-1806.343111</td>\n",
       "      <td>-1807.018927</td>\n",
       "      <td>-1808.290117</td>\n",
       "      <td>-1794.840858</td>\n",
       "      <td>-1807.958895</td>\n",
       "      <td>9.067318</td>\n",
       "      <td>1</td>\n",
       "    </tr>\n",
       "  </tbody>\n",
       "</table>\n",
       "</div>"
      ],
      "text/plain": [
       "   mean_fit_time  std_fit_time  mean_score_time  std_score_time  \\\n",
       "0      39.692064     67.448311         0.482781        0.037654   \n",
       "\n",
       "   param_feature_fraction  param_learning_rate param_metric  param_num_leaves  \\\n",
       "0                     0.9                 0.05         rmse                31   \n",
       "\n",
       "  param_objective  param_random_state  \\\n",
       "0      regression                  42   \n",
       "\n",
       "                                              params  split0_test_score  \\\n",
       "0  {'feature_fraction': 0.9, 'learning_rate': 0.0...       -1823.301464   \n",
       "\n",
       "   split1_test_score  split2_test_score  split3_test_score  split4_test_score  \\\n",
       "0       -1806.343111       -1807.018927       -1808.290117       -1794.840858   \n",
       "\n",
       "   mean_test_score  std_test_score  rank_test_score  \n",
       "0     -1807.958895        9.067318                1  "
      ]
     },
     "execution_count": 64,
     "metadata": {},
     "output_type": "execute_result"
    }
   ],
   "source": [
    "pd.DataFrame(grid_search_RMSE.cv_results_)"
   ]
  },
  {
   "cell_type": "code",
   "execution_count": 65,
   "metadata": {},
   "outputs": [
    {
     "name": "stdout",
     "output_type": "stream",
     "text": [
      "CPU times: user 782 ms, sys: 0 ns, total: 782 ms\n",
      "Wall time: 770 ms\n"
     ]
    }
   ],
   "source": [
    "%%time\n",
    "y_test1 = grid_search_RMSE.predict(X_test)"
   ]
  },
  {
   "cell_type": "code",
   "execution_count": 66,
   "metadata": {},
   "outputs": [
    {
     "name": "stdout",
     "output_type": "stream",
     "text": [
      "Testing RMSE:  1814.0681494581015\n"
     ]
    }
   ],
   "source": [
    "print('Testing RMSE: ', np.sqrt(mean_squared_error(y_test, y_test1)))"
   ]
  },
  {
   "cell_type": "markdown",
   "metadata": {},
   "source": [
    "## Анализ моделей"
   ]
  },
  {
   "cell_type": "markdown",
   "metadata": {},
   "source": [
    "В ходе работы было выполнено следующее:\n",
    "\n",
    "    1. Загружены данные и выполнена предобработка\n",
    "    2. Выполнено сравнение моделей с различными гипермараметрами\n",
    "    3. Выбрана лучшая модель по метрике RMSE\n",
    "Время обучения моделей:\n",
    "   * Lasso: 88.916868 с.\n",
    "   * LightGBM: 39.692064 с.\n",
    "   \n",
    "Выигрывает LightGBM\n",
    "\n",
    "\n",
    "Время предсказания моделей:\n",
    "  *  Lasso: 0.225241 с.\n",
    "  *  LightGBM: 0.482781\t с.\n",
    "  \n",
    "\n",
    "Выигрывает Lasso\n",
    "\n",
    "\n",
    "RMSE для тренировочной выборки:\n",
    "   * Lasso : 2723.380879\t\n",
    "   * LightGBM: 1807.958895\n",
    "   \n",
    "   \n",
    "\n",
    "Выигрывает LightGBM\n",
    "\n",
    "\n",
    "RMSE для тестовой выборки:\n",
    "   * LightGBM: 1814.0681494581015\n",
    "   \n",
    "   \n",
    "Выигрывает LightGBM\n",
    "\n",
    "Скорость предсказания для тестовой выборки LightGBM: 715 ms.\n",
    "\n",
    "Итог: заказчику можно посоветовать LightGBM, поскольку по метрике RMSE он обходит Lasso. Она самая точная из представленных. "
   ]
  }
 ],
 "metadata": {
  "ExecuteTimeLog": [
   {
    "duration": 404,
    "start_time": "2025-04-20T17:55:19.961Z"
   },
   {
    "duration": 943,
    "start_time": "2025-04-20T17:55:54.867Z"
   },
   {
    "duration": 20,
    "start_time": "2025-04-20T17:56:08.054Z"
   },
   {
    "duration": 159,
    "start_time": "2025-04-20T18:42:06.976Z"
   },
   {
    "duration": 1335,
    "start_time": "2025-04-21T12:38:19.906Z"
   },
   {
    "duration": 929,
    "start_time": "2025-04-21T12:38:21.243Z"
   },
   {
    "duration": 18,
    "start_time": "2025-04-21T12:38:22.173Z"
   },
   {
    "duration": 159,
    "start_time": "2025-04-21T12:38:22.193Z"
   },
   {
    "duration": 37,
    "start_time": "2025-04-21T12:38:22.353Z"
   },
   {
    "duration": 2,
    "start_time": "2025-04-21T12:39:05.996Z"
   },
   {
    "duration": 1141,
    "start_time": "2025-04-21T12:40:55.792Z"
   },
   {
    "duration": 940,
    "start_time": "2025-04-21T12:40:56.935Z"
   },
   {
    "duration": 17,
    "start_time": "2025-04-21T12:40:57.877Z"
   },
   {
    "duration": 171,
    "start_time": "2025-04-21T12:40:57.896Z"
   },
   {
    "duration": 36,
    "start_time": "2025-04-21T12:40:58.069Z"
   },
   {
    "duration": 3,
    "start_time": "2025-04-21T12:40:58.106Z"
   },
   {
    "duration": 87740,
    "start_time": "2025-04-21T12:40:58.111Z"
   },
   {
    "duration": 104,
    "start_time": "2025-04-21T12:44:24.455Z"
   },
   {
    "duration": 1340,
    "start_time": "2025-04-21T12:44:33.432Z"
   },
   {
    "duration": 7325,
    "start_time": "2025-04-21T12:44:39.846Z"
   },
   {
    "duration": 16,
    "start_time": "2025-04-21T12:45:03.838Z"
   },
   {
    "duration": 380,
    "start_time": "2025-04-21T12:45:07.530Z"
   },
   {
    "duration": 323,
    "start_time": "2025-04-21T12:55:21.828Z"
   },
   {
    "duration": 19,
    "start_time": "2025-04-21T12:56:57.876Z"
   },
   {
    "duration": 12,
    "start_time": "2025-04-21T12:57:12.242Z"
   },
   {
    "duration": 36,
    "start_time": "2025-04-21T12:58:28.438Z"
   },
   {
    "duration": 329,
    "start_time": "2025-04-21T12:59:40.747Z"
   },
   {
    "duration": 319,
    "start_time": "2025-04-21T12:59:48.445Z"
   },
   {
    "duration": 323,
    "start_time": "2025-04-21T12:59:52.078Z"
   },
   {
    "duration": 317,
    "start_time": "2025-04-21T13:00:04.477Z"
   },
   {
    "duration": 315,
    "start_time": "2025-04-21T13:00:17.509Z"
   },
   {
    "duration": 26,
    "start_time": "2025-04-21T13:03:35.508Z"
   },
   {
    "duration": 27,
    "start_time": "2025-04-21T13:03:59.111Z"
   },
   {
    "duration": 57,
    "start_time": "2025-04-21T13:04:33.849Z"
   },
   {
    "duration": 384,
    "start_time": "2025-04-21T13:07:31.337Z"
   },
   {
    "duration": 15073,
    "start_time": "2025-04-21T13:08:06.665Z"
   },
   {
    "duration": 295,
    "start_time": "2025-04-21T13:09:19.204Z"
   },
   {
    "duration": 126,
    "start_time": "2025-04-21T13:13:33.131Z"
   },
   {
    "duration": 277,
    "start_time": "2025-04-21T13:13:34.342Z"
   },
   {
    "duration": 74,
    "start_time": "2025-04-21T13:13:39.431Z"
   },
   {
    "duration": 277,
    "start_time": "2025-04-21T13:13:40.051Z"
   },
   {
    "duration": 119,
    "start_time": "2025-04-21T13:13:44.268Z"
   },
   {
    "duration": 293,
    "start_time": "2025-04-21T13:13:44.771Z"
   },
   {
    "duration": 76,
    "start_time": "2025-04-21T13:13:56.195Z"
   },
   {
    "duration": 293,
    "start_time": "2025-04-21T13:13:56.765Z"
   },
   {
    "duration": 123,
    "start_time": "2025-04-21T13:14:08.927Z"
   },
   {
    "duration": 112,
    "start_time": "2025-04-21T13:14:30.733Z"
   },
   {
    "duration": 284,
    "start_time": "2025-04-21T13:14:31.124Z"
   },
   {
    "duration": 125,
    "start_time": "2025-04-21T13:14:31.540Z"
   },
   {
    "duration": 91,
    "start_time": "2025-04-21T13:14:41.094Z"
   },
   {
    "duration": 291,
    "start_time": "2025-04-21T13:14:41.526Z"
   },
   {
    "duration": 127,
    "start_time": "2025-04-21T13:14:42.351Z"
   },
   {
    "duration": 297,
    "start_time": "2025-04-21T13:15:32.974Z"
   },
   {
    "duration": 723,
    "start_time": "2025-04-21T13:15:53.975Z"
   },
   {
    "duration": 111,
    "start_time": "2025-04-21T13:16:06.903Z"
   },
   {
    "duration": 279,
    "start_time": "2025-04-21T13:16:08.027Z"
   },
   {
    "duration": 727,
    "start_time": "2025-04-21T13:16:08.551Z"
   },
   {
    "duration": 126,
    "start_time": "2025-04-21T13:17:04.289Z"
   },
   {
    "duration": 280,
    "start_time": "2025-04-21T13:17:05.554Z"
   },
   {
    "duration": 707,
    "start_time": "2025-04-21T13:17:06.476Z"
   },
   {
    "duration": 113,
    "start_time": "2025-04-21T13:17:18.295Z"
   },
   {
    "duration": 76,
    "start_time": "2025-04-21T13:17:28.948Z"
   },
   {
    "duration": 277,
    "start_time": "2025-04-21T13:17:30.013Z"
   },
   {
    "duration": 688,
    "start_time": "2025-04-21T13:17:30.781Z"
   },
   {
    "duration": 133,
    "start_time": "2025-04-21T13:17:31.655Z"
   },
   {
    "duration": 113,
    "start_time": "2025-04-21T13:17:45.242Z"
   },
   {
    "duration": 291,
    "start_time": "2025-04-21T13:17:46.087Z"
   },
   {
    "duration": 712,
    "start_time": "2025-04-21T13:17:46.799Z"
   },
   {
    "duration": 175,
    "start_time": "2025-04-21T13:17:47.525Z"
   },
   {
    "duration": 115,
    "start_time": "2025-04-21T13:21:09.905Z"
   },
   {
    "duration": 1229,
    "start_time": "2025-04-21T13:21:59.075Z"
   },
   {
    "duration": 964,
    "start_time": "2025-04-21T13:22:00.306Z"
   },
   {
    "duration": 17,
    "start_time": "2025-04-21T13:22:01.271Z"
   },
   {
    "duration": 177,
    "start_time": "2025-04-21T13:22:01.290Z"
   },
   {
    "duration": 38,
    "start_time": "2025-04-21T13:22:01.469Z"
   },
   {
    "duration": 41,
    "start_time": "2025-04-21T13:22:01.508Z"
   },
   {
    "duration": 88391,
    "start_time": "2025-04-21T13:22:01.551Z"
   },
   {
    "duration": 382,
    "start_time": "2025-04-21T13:23:29.944Z"
   },
   {
    "duration": 139,
    "start_time": "2025-04-21T13:23:30.328Z"
   },
   {
    "duration": 11,
    "start_time": "2025-04-21T13:23:30.470Z"
   },
   {
    "duration": 77,
    "start_time": "2025-04-21T13:23:30.483Z"
   },
   {
    "duration": 313,
    "start_time": "2025-04-21T13:23:30.562Z"
   },
   {
    "duration": 26,
    "start_time": "2025-04-21T13:23:30.877Z"
   },
   {
    "duration": 81,
    "start_time": "2025-04-21T13:23:30.905Z"
   },
   {
    "duration": 364,
    "start_time": "2025-04-21T13:23:30.988Z"
   },
   {
    "duration": 154,
    "start_time": "2025-04-21T13:23:31.354Z"
   },
   {
    "duration": 286,
    "start_time": "2025-04-21T13:23:31.510Z"
   },
   {
    "duration": 122,
    "start_time": "2025-04-21T13:23:31.797Z"
   },
   {
    "duration": 1211,
    "start_time": "2025-04-21T13:25:36.815Z"
   },
   {
    "duration": 942,
    "start_time": "2025-04-21T13:25:38.028Z"
   },
   {
    "duration": 18,
    "start_time": "2025-04-21T13:25:38.971Z"
   },
   {
    "duration": 188,
    "start_time": "2025-04-21T13:25:38.991Z"
   },
   {
    "duration": 39,
    "start_time": "2025-04-21T13:25:39.181Z"
   },
   {
    "duration": 19,
    "start_time": "2025-04-21T13:25:39.222Z"
   },
   {
    "duration": 86518,
    "start_time": "2025-04-21T13:25:39.243Z"
   },
   {
    "duration": 380,
    "start_time": "2025-04-21T13:27:05.764Z"
   },
   {
    "duration": 139,
    "start_time": "2025-04-21T13:27:06.147Z"
   },
   {
    "duration": 18,
    "start_time": "2025-04-21T13:27:06.290Z"
   },
   {
    "duration": 64,
    "start_time": "2025-04-21T13:27:06.311Z"
   },
   {
    "duration": 135,
    "start_time": "2025-04-21T13:27:06.376Z"
   },
   {
    "duration": 336,
    "start_time": "2025-04-21T13:27:06.513Z"
   },
   {
    "duration": 30,
    "start_time": "2025-04-21T13:27:06.851Z"
   },
   {
    "duration": 69,
    "start_time": "2025-04-21T13:27:06.883Z"
   },
   {
    "duration": 134,
    "start_time": "2025-04-21T13:27:06.954Z"
   },
   {
    "duration": 452,
    "start_time": "2025-04-21T13:27:07.090Z"
   },
   {
    "duration": 147,
    "start_time": "2025-04-21T13:27:07.544Z"
   },
   {
    "duration": 297,
    "start_time": "2025-04-21T13:27:07.693Z"
   },
   {
    "duration": 129,
    "start_time": "2025-04-21T13:27:07.992Z"
   },
   {
    "duration": 76,
    "start_time": "2025-04-21T13:30:08.510Z"
   },
   {
    "duration": 265,
    "start_time": "2025-04-21T13:30:09.703Z"
   },
   {
    "duration": 134,
    "start_time": "2025-04-21T13:30:10.796Z"
   },
   {
    "duration": 72,
    "start_time": "2025-04-21T13:30:18.542Z"
   },
   {
    "duration": 261,
    "start_time": "2025-04-21T13:30:19.517Z"
   },
   {
    "duration": 115,
    "start_time": "2025-04-21T13:30:20.353Z"
   },
   {
    "duration": 1272,
    "start_time": "2025-04-21T13:30:36.172Z"
   },
   {
    "duration": 923,
    "start_time": "2025-04-21T13:30:37.446Z"
   },
   {
    "duration": 17,
    "start_time": "2025-04-21T13:30:38.371Z"
   },
   {
    "duration": 172,
    "start_time": "2025-04-21T13:30:38.390Z"
   },
   {
    "duration": 37,
    "start_time": "2025-04-21T13:30:38.565Z"
   },
   {
    "duration": 4,
    "start_time": "2025-04-21T13:30:38.603Z"
   },
   {
    "duration": 4,
    "start_time": "2025-04-21T13:30:38.608Z"
   },
   {
    "duration": 414,
    "start_time": "2025-04-21T13:30:38.613Z"
   },
   {
    "duration": 143,
    "start_time": "2025-04-21T13:30:39.029Z"
   },
   {
    "duration": 14,
    "start_time": "2025-04-21T13:30:39.173Z"
   },
   {
    "duration": 49,
    "start_time": "2025-04-21T13:30:39.188Z"
   },
   {
    "duration": 150,
    "start_time": "2025-04-21T13:30:39.238Z"
   },
   {
    "duration": 344,
    "start_time": "2025-04-21T13:30:39.389Z"
   },
   {
    "duration": 35,
    "start_time": "2025-04-21T13:30:39.735Z"
   },
   {
    "duration": 59,
    "start_time": "2025-04-21T13:30:39.772Z"
   },
   {
    "duration": 139,
    "start_time": "2025-04-21T13:30:39.832Z"
   },
   {
    "duration": 371,
    "start_time": "2025-04-21T13:30:39.972Z"
   },
   {
    "duration": 214,
    "start_time": "2025-04-21T13:30:40.345Z"
   },
   {
    "duration": 0,
    "start_time": "2025-04-21T13:30:40.562Z"
   },
   {
    "duration": 0,
    "start_time": "2025-04-21T13:30:40.564Z"
   },
   {
    "duration": 88,
    "start_time": "2025-04-21T13:30:54.492Z"
   },
   {
    "duration": 260,
    "start_time": "2025-04-21T13:30:56.039Z"
   },
   {
    "duration": 112,
    "start_time": "2025-04-21T13:30:56.464Z"
   },
   {
    "duration": 73,
    "start_time": "2025-04-21T13:31:23.928Z"
   },
   {
    "duration": 262,
    "start_time": "2025-04-21T13:31:25.976Z"
   },
   {
    "duration": 27,
    "start_time": "2025-04-21T13:40:42.623Z"
   },
   {
    "duration": 5771,
    "start_time": "2025-04-21T13:43:19.714Z"
   },
   {
    "duration": 10,
    "start_time": "2025-04-21T13:46:35.851Z"
   },
   {
    "duration": 22,
    "start_time": "2025-04-21T13:46:59.537Z"
   },
   {
    "duration": 262,
    "start_time": "2025-04-21T13:49:28.545Z"
   },
   {
    "duration": 270,
    "start_time": "2025-04-21T13:50:14.116Z"
   },
   {
    "duration": 271,
    "start_time": "2025-04-21T13:50:14.833Z"
   },
   {
    "duration": 1296,
    "start_time": "2025-04-21T13:50:51.912Z"
   },
   {
    "duration": 22,
    "start_time": "2025-04-21T13:51:19.020Z"
   },
   {
    "duration": 15,
    "start_time": "2025-04-21T13:51:56.309Z"
   },
   {
    "duration": 87,
    "start_time": "2025-04-21T13:52:28.179Z"
   },
   {
    "duration": 1154,
    "start_time": "2025-04-21T13:54:37.291Z"
   },
   {
    "duration": 919,
    "start_time": "2025-04-21T13:54:38.447Z"
   },
   {
    "duration": 17,
    "start_time": "2025-04-21T13:54:39.368Z"
   },
   {
    "duration": 166,
    "start_time": "2025-04-21T13:54:39.387Z"
   },
   {
    "duration": 30,
    "start_time": "2025-04-21T13:54:39.555Z"
   },
   {
    "duration": 11,
    "start_time": "2025-04-21T13:54:39.587Z"
   },
   {
    "duration": 3,
    "start_time": "2025-04-21T13:54:39.600Z"
   },
   {
    "duration": 380,
    "start_time": "2025-04-21T13:54:39.605Z"
   },
   {
    "duration": 122,
    "start_time": "2025-04-21T13:54:39.986Z"
   },
   {
    "duration": 13,
    "start_time": "2025-04-21T13:54:40.109Z"
   },
   {
    "duration": 59,
    "start_time": "2025-04-21T13:54:40.124Z"
   },
   {
    "duration": 119,
    "start_time": "2025-04-21T13:54:40.185Z"
   },
   {
    "duration": 341,
    "start_time": "2025-04-21T13:54:40.306Z"
   },
   {
    "duration": 31,
    "start_time": "2025-04-21T13:54:40.650Z"
   },
   {
    "duration": 55,
    "start_time": "2025-04-21T13:54:40.682Z"
   },
   {
    "duration": 135,
    "start_time": "2025-04-21T13:54:40.738Z"
   },
   {
    "duration": 362,
    "start_time": "2025-04-21T13:54:40.875Z"
   },
   {
    "duration": 89,
    "start_time": "2025-04-21T13:54:41.239Z"
   },
   {
    "duration": 290,
    "start_time": "2025-04-21T13:54:41.329Z"
   },
   {
    "duration": 113,
    "start_time": "2025-04-21T13:54:41.620Z"
   },
   {
    "duration": 45,
    "start_time": "2025-04-21T13:54:41.735Z"
   },
   {
    "duration": 6391,
    "start_time": "2025-04-21T13:54:41.781Z"
   },
   {
    "duration": 13,
    "start_time": "2025-04-21T13:54:48.174Z"
   },
   {
    "duration": 37,
    "start_time": "2025-04-21T13:54:48.188Z"
   },
   {
    "duration": 275,
    "start_time": "2025-04-21T13:54:48.227Z"
   },
   {
    "duration": 282,
    "start_time": "2025-04-21T13:54:48.504Z"
   },
   {
    "duration": 274,
    "start_time": "2025-04-21T13:54:48.788Z"
   },
   {
    "duration": 22,
    "start_time": "2025-04-21T13:54:49.064Z"
   },
   {
    "duration": 11,
    "start_time": "2025-04-21T13:54:49.087Z"
   },
   {
    "duration": 102,
    "start_time": "2025-04-21T13:54:49.100Z"
   },
   {
    "duration": 26,
    "start_time": "2025-04-21T13:57:52.422Z"
   },
   {
    "duration": 20,
    "start_time": "2025-04-21T14:01:01.323Z"
   },
   {
    "duration": 20,
    "start_time": "2025-04-21T14:01:25.801Z"
   },
   {
    "duration": 1200,
    "start_time": "2025-04-21T14:07:22.746Z"
   },
   {
    "duration": 954,
    "start_time": "2025-04-21T14:07:23.948Z"
   },
   {
    "duration": 18,
    "start_time": "2025-04-21T14:07:24.903Z"
   },
   {
    "duration": 177,
    "start_time": "2025-04-21T14:07:24.923Z"
   },
   {
    "duration": 76,
    "start_time": "2025-04-21T14:07:25.101Z"
   },
   {
    "duration": 27,
    "start_time": "2025-04-21T14:07:25.179Z"
   },
   {
    "duration": 439,
    "start_time": "2025-04-21T14:07:25.208Z"
   },
   {
    "duration": 140,
    "start_time": "2025-04-21T14:07:25.649Z"
   },
   {
    "duration": 29,
    "start_time": "2025-04-21T14:07:25.791Z"
   },
   {
    "duration": 61,
    "start_time": "2025-04-21T14:07:25.822Z"
   },
   {
    "duration": 133,
    "start_time": "2025-04-21T14:07:25.885Z"
   },
   {
    "duration": 345,
    "start_time": "2025-04-21T14:07:26.020Z"
   },
   {
    "duration": 27,
    "start_time": "2025-04-21T14:07:26.367Z"
   },
   {
    "duration": 74,
    "start_time": "2025-04-21T14:07:26.396Z"
   },
   {
    "duration": 127,
    "start_time": "2025-04-21T14:07:26.471Z"
   },
   {
    "duration": 428,
    "start_time": "2025-04-21T14:07:26.600Z"
   },
   {
    "duration": 81,
    "start_time": "2025-04-21T14:07:27.029Z"
   },
   {
    "duration": 334,
    "start_time": "2025-04-21T14:07:27.112Z"
   },
   {
    "duration": 130,
    "start_time": "2025-04-21T14:07:27.447Z"
   },
   {
    "duration": 29,
    "start_time": "2025-04-21T14:07:27.579Z"
   },
   {
    "duration": 6413,
    "start_time": "2025-04-21T14:07:27.610Z"
   },
   {
    "duration": 16,
    "start_time": "2025-04-21T14:07:34.025Z"
   },
   {
    "duration": 43,
    "start_time": "2025-04-21T14:07:34.043Z"
   },
   {
    "duration": 285,
    "start_time": "2025-04-21T14:07:34.088Z"
   },
   {
    "duration": 285,
    "start_time": "2025-04-21T14:07:34.374Z"
   },
   {
    "duration": 287,
    "start_time": "2025-04-21T14:07:34.663Z"
   },
   {
    "duration": 27,
    "start_time": "2025-04-21T14:07:34.954Z"
   },
   {
    "duration": 12,
    "start_time": "2025-04-21T14:07:34.984Z"
   },
   {
    "duration": 113,
    "start_time": "2025-04-21T14:07:34.998Z"
   },
   {
    "duration": 7,
    "start_time": "2025-04-21T14:07:35.113Z"
   },
   {
    "duration": 287,
    "start_time": "2025-04-21T14:10:11.684Z"
   },
   {
    "duration": 412,
    "start_time": "2025-04-21T14:10:41.840Z"
   },
   {
    "duration": 4,
    "start_time": "2025-04-21T14:11:58.632Z"
   },
   {
    "duration": 5,
    "start_time": "2025-04-21T14:12:17.327Z"
   },
   {
    "duration": 4,
    "start_time": "2025-04-21T14:12:28.844Z"
   },
   {
    "duration": 65,
    "start_time": "2025-04-21T14:12:32.622Z"
   },
   {
    "duration": 6,
    "start_time": "2025-04-21T14:12:48.620Z"
   },
   {
    "duration": 1246,
    "start_time": "2025-04-21T14:13:06.792Z"
   },
   {
    "duration": 932,
    "start_time": "2025-04-21T14:13:08.040Z"
   },
   {
    "duration": 17,
    "start_time": "2025-04-21T14:13:08.976Z"
   },
   {
    "duration": 173,
    "start_time": "2025-04-21T14:13:08.995Z"
   },
   {
    "duration": 37,
    "start_time": "2025-04-21T14:13:09.169Z"
   },
   {
    "duration": 37,
    "start_time": "2025-04-21T14:13:09.208Z"
   },
   {
    "duration": 440,
    "start_time": "2025-04-21T14:13:09.248Z"
   },
   {
    "duration": 133,
    "start_time": "2025-04-21T14:13:09.690Z"
   },
   {
    "duration": 23,
    "start_time": "2025-04-21T14:13:09.826Z"
   },
   {
    "duration": 57,
    "start_time": "2025-04-21T14:13:09.850Z"
   },
   {
    "duration": 135,
    "start_time": "2025-04-21T14:13:09.909Z"
   },
   {
    "duration": 348,
    "start_time": "2025-04-21T14:13:10.046Z"
   },
   {
    "duration": 28,
    "start_time": "2025-04-21T14:13:10.396Z"
   },
   {
    "duration": 75,
    "start_time": "2025-04-21T14:13:10.426Z"
   },
   {
    "duration": 130,
    "start_time": "2025-04-21T14:13:10.502Z"
   },
   {
    "duration": 371,
    "start_time": "2025-04-21T14:13:10.634Z"
   },
   {
    "duration": 86,
    "start_time": "2025-04-21T14:13:11.007Z"
   },
   {
    "duration": 293,
    "start_time": "2025-04-21T14:13:11.095Z"
   },
   {
    "duration": 131,
    "start_time": "2025-04-21T14:13:11.390Z"
   },
   {
    "duration": 45,
    "start_time": "2025-04-21T14:13:11.523Z"
   },
   {
    "duration": 6744,
    "start_time": "2025-04-21T14:13:11.570Z"
   },
   {
    "duration": 288,
    "start_time": "2025-04-21T14:13:18.316Z"
   },
   {
    "duration": 447,
    "start_time": "2025-04-21T14:13:18.605Z"
   },
   {
    "duration": 20,
    "start_time": "2025-04-21T14:13:19.054Z"
   },
   {
    "duration": 29,
    "start_time": "2025-04-21T14:13:19.075Z"
   },
   {
    "duration": 8,
    "start_time": "2025-04-21T14:13:19.105Z"
   },
   {
    "duration": 4,
    "start_time": "2025-04-21T14:13:19.116Z"
   },
   {
    "duration": 8,
    "start_time": "2025-04-21T14:13:19.122Z"
   },
   {
    "duration": 4,
    "start_time": "2025-04-21T14:13:19.132Z"
   },
   {
    "duration": 7,
    "start_time": "2025-04-21T14:13:19.138Z"
   },
   {
    "duration": 21,
    "start_time": "2025-04-21T14:13:19.147Z"
   },
   {
    "duration": 3,
    "start_time": "2025-04-21T14:13:19.170Z"
   },
   {
    "duration": 1185,
    "start_time": "2025-04-21T14:13:43.084Z"
   },
   {
    "duration": 932,
    "start_time": "2025-04-21T14:13:44.271Z"
   },
   {
    "duration": 17,
    "start_time": "2025-04-21T14:13:45.205Z"
   },
   {
    "duration": 176,
    "start_time": "2025-04-21T14:13:45.224Z"
   },
   {
    "duration": 36,
    "start_time": "2025-04-21T14:13:45.401Z"
   },
   {
    "duration": 22,
    "start_time": "2025-04-21T14:13:45.439Z"
   },
   {
    "duration": 439,
    "start_time": "2025-04-21T14:13:45.463Z"
   },
   {
    "duration": 139,
    "start_time": "2025-04-21T14:13:45.904Z"
   },
   {
    "duration": 18,
    "start_time": "2025-04-21T14:13:46.045Z"
   },
   {
    "duration": 46,
    "start_time": "2025-04-21T14:13:46.066Z"
   },
   {
    "duration": 150,
    "start_time": "2025-04-21T14:13:46.113Z"
   },
   {
    "duration": 344,
    "start_time": "2025-04-21T14:13:46.265Z"
   },
   {
    "duration": 27,
    "start_time": "2025-04-21T14:13:46.610Z"
   },
   {
    "duration": 70,
    "start_time": "2025-04-21T14:13:46.639Z"
   },
   {
    "duration": 133,
    "start_time": "2025-04-21T14:13:46.711Z"
   },
   {
    "duration": 375,
    "start_time": "2025-04-21T14:13:46.846Z"
   },
   {
    "duration": 113,
    "start_time": "2025-04-21T14:13:47.223Z"
   },
   {
    "duration": 315,
    "start_time": "2025-04-21T14:13:47.338Z"
   },
   {
    "duration": 127,
    "start_time": "2025-04-21T14:13:47.655Z"
   },
   {
    "duration": 30,
    "start_time": "2025-04-21T14:13:47.784Z"
   },
   {
    "duration": 6276,
    "start_time": "2025-04-21T14:13:47.816Z"
   },
   {
    "duration": 286,
    "start_time": "2025-04-21T14:13:54.094Z"
   },
   {
    "duration": 432,
    "start_time": "2025-04-21T14:13:54.381Z"
   },
   {
    "duration": 15,
    "start_time": "2025-04-21T14:13:54.814Z"
   },
   {
    "duration": 14,
    "start_time": "2025-04-21T14:13:54.831Z"
   },
   {
    "duration": 140,
    "start_time": "2025-04-21T14:13:54.847Z"
   },
   {
    "duration": 0,
    "start_time": "2025-04-21T14:13:54.989Z"
   },
   {
    "duration": 0,
    "start_time": "2025-04-21T14:13:54.990Z"
   },
   {
    "duration": 0,
    "start_time": "2025-04-21T14:13:54.991Z"
   },
   {
    "duration": 0,
    "start_time": "2025-04-21T14:13:54.992Z"
   },
   {
    "duration": 0,
    "start_time": "2025-04-21T14:13:54.994Z"
   },
   {
    "duration": 0,
    "start_time": "2025-04-21T14:13:54.995Z"
   },
   {
    "duration": 1244,
    "start_time": "2025-04-21T14:15:19.329Z"
   },
   {
    "duration": 936,
    "start_time": "2025-04-21T14:15:20.575Z"
   },
   {
    "duration": 18,
    "start_time": "2025-04-21T14:15:21.513Z"
   },
   {
    "duration": 165,
    "start_time": "2025-04-21T14:15:21.533Z"
   },
   {
    "duration": 33,
    "start_time": "2025-04-21T14:15:21.701Z"
   },
   {
    "duration": 30,
    "start_time": "2025-04-21T14:15:21.736Z"
   },
   {
    "duration": 439,
    "start_time": "2025-04-21T14:15:21.768Z"
   },
   {
    "duration": 137,
    "start_time": "2025-04-21T14:15:22.209Z"
   },
   {
    "duration": 21,
    "start_time": "2025-04-21T14:15:22.348Z"
   },
   {
    "duration": 45,
    "start_time": "2025-04-21T14:15:22.370Z"
   },
   {
    "duration": 147,
    "start_time": "2025-04-21T14:15:22.416Z"
   },
   {
    "duration": 343,
    "start_time": "2025-04-21T14:15:22.565Z"
   },
   {
    "duration": 27,
    "start_time": "2025-04-21T14:15:22.910Z"
   },
   {
    "duration": 65,
    "start_time": "2025-04-21T14:15:22.940Z"
   },
   {
    "duration": 128,
    "start_time": "2025-04-21T14:15:23.007Z"
   },
   {
    "duration": 370,
    "start_time": "2025-04-21T14:15:23.137Z"
   },
   {
    "duration": 96,
    "start_time": "2025-04-21T14:15:23.509Z"
   },
   {
    "duration": 286,
    "start_time": "2025-04-21T14:15:23.607Z"
   },
   {
    "duration": 124,
    "start_time": "2025-04-21T14:15:23.895Z"
   },
   {
    "duration": 29,
    "start_time": "2025-04-21T14:15:24.021Z"
   },
   {
    "duration": 6379,
    "start_time": "2025-04-21T14:15:24.063Z"
   },
   {
    "duration": 293,
    "start_time": "2025-04-21T14:15:30.444Z"
   },
   {
    "duration": 433,
    "start_time": "2025-04-21T14:15:30.739Z"
   },
   {
    "duration": 14,
    "start_time": "2025-04-21T14:15:31.174Z"
   },
   {
    "duration": 13,
    "start_time": "2025-04-21T14:15:31.190Z"
   },
   {
    "duration": 134,
    "start_time": "2025-04-21T14:15:31.205Z"
   },
   {
    "duration": 1,
    "start_time": "2025-04-21T14:15:31.340Z"
   },
   {
    "duration": 0,
    "start_time": "2025-04-21T14:15:31.342Z"
   },
   {
    "duration": 0,
    "start_time": "2025-04-21T14:15:31.343Z"
   },
   {
    "duration": 0,
    "start_time": "2025-04-21T14:15:31.344Z"
   },
   {
    "duration": 0,
    "start_time": "2025-04-21T14:15:31.345Z"
   },
   {
    "duration": 0,
    "start_time": "2025-04-21T14:15:31.346Z"
   },
   {
    "duration": 1198,
    "start_time": "2025-04-21T14:16:28.793Z"
   },
   {
    "duration": 965,
    "start_time": "2025-04-21T14:16:29.993Z"
   },
   {
    "duration": 19,
    "start_time": "2025-04-21T14:16:30.963Z"
   },
   {
    "duration": 169,
    "start_time": "2025-04-21T14:16:30.984Z"
   },
   {
    "duration": 39,
    "start_time": "2025-04-21T14:16:31.156Z"
   },
   {
    "duration": 54,
    "start_time": "2025-04-21T14:16:31.197Z"
   },
   {
    "duration": 442,
    "start_time": "2025-04-21T14:16:31.253Z"
   },
   {
    "duration": 126,
    "start_time": "2025-04-21T14:16:31.697Z"
   },
   {
    "duration": 14,
    "start_time": "2025-04-21T14:16:31.824Z"
   },
   {
    "duration": 58,
    "start_time": "2025-04-21T14:16:31.840Z"
   },
   {
    "duration": 117,
    "start_time": "2025-04-21T14:16:31.900Z"
   },
   {
    "duration": 347,
    "start_time": "2025-04-21T14:16:32.019Z"
   },
   {
    "duration": 28,
    "start_time": "2025-04-21T14:16:32.367Z"
   },
   {
    "duration": 66,
    "start_time": "2025-04-21T14:16:32.398Z"
   },
   {
    "duration": 114,
    "start_time": "2025-04-21T14:16:32.466Z"
   },
   {
    "duration": 385,
    "start_time": "2025-04-21T14:16:32.582Z"
   },
   {
    "duration": 82,
    "start_time": "2025-04-21T14:16:32.969Z"
   },
   {
    "duration": 296,
    "start_time": "2025-04-21T14:16:33.053Z"
   },
   {
    "duration": 119,
    "start_time": "2025-04-21T14:16:33.351Z"
   },
   {
    "duration": 31,
    "start_time": "2025-04-21T14:16:33.471Z"
   },
   {
    "duration": 6476,
    "start_time": "2025-04-21T14:16:33.504Z"
   },
   {
    "duration": 303,
    "start_time": "2025-04-21T14:16:39.982Z"
   },
   {
    "duration": 452,
    "start_time": "2025-04-21T14:16:40.286Z"
   },
   {
    "duration": 31,
    "start_time": "2025-04-21T14:16:40.740Z"
   },
   {
    "duration": 24,
    "start_time": "2025-04-21T14:16:40.773Z"
   },
   {
    "duration": 125,
    "start_time": "2025-04-21T14:16:40.799Z"
   },
   {
    "duration": 0,
    "start_time": "2025-04-21T14:16:40.927Z"
   },
   {
    "duration": 0,
    "start_time": "2025-04-21T14:16:40.929Z"
   },
   {
    "duration": 0,
    "start_time": "2025-04-21T14:16:40.931Z"
   },
   {
    "duration": 0,
    "start_time": "2025-04-21T14:16:40.932Z"
   },
   {
    "duration": 0,
    "start_time": "2025-04-21T14:16:40.934Z"
   },
   {
    "duration": 1,
    "start_time": "2025-04-21T14:16:40.935Z"
   },
   {
    "duration": 1246,
    "start_time": "2025-04-21T14:19:45.547Z"
   },
   {
    "duration": 960,
    "start_time": "2025-04-21T14:19:46.795Z"
   },
   {
    "duration": 21,
    "start_time": "2025-04-21T14:19:47.756Z"
   },
   {
    "duration": 168,
    "start_time": "2025-04-21T14:19:47.779Z"
   },
   {
    "duration": 37,
    "start_time": "2025-04-21T14:19:47.949Z"
   },
   {
    "duration": 6,
    "start_time": "2025-04-21T14:19:47.988Z"
   },
   {
    "duration": 390,
    "start_time": "2025-04-21T14:19:47.996Z"
   },
   {
    "duration": 123,
    "start_time": "2025-04-21T14:19:48.388Z"
   },
   {
    "duration": 12,
    "start_time": "2025-04-21T14:19:48.513Z"
   },
   {
    "duration": 66,
    "start_time": "2025-04-21T14:19:48.527Z"
   },
   {
    "duration": 119,
    "start_time": "2025-04-21T14:19:48.594Z"
   },
   {
    "duration": 336,
    "start_time": "2025-04-21T14:19:48.714Z"
   },
   {
    "duration": 31,
    "start_time": "2025-04-21T14:19:49.051Z"
   },
   {
    "duration": 52,
    "start_time": "2025-04-21T14:19:49.083Z"
   },
   {
    "duration": 126,
    "start_time": "2025-04-21T14:19:49.137Z"
   },
   {
    "duration": 373,
    "start_time": "2025-04-21T14:19:49.265Z"
   },
   {
    "duration": 84,
    "start_time": "2025-04-21T14:19:49.640Z"
   },
   {
    "duration": 288,
    "start_time": "2025-04-21T14:19:49.726Z"
   },
   {
    "duration": 118,
    "start_time": "2025-04-21T14:19:50.015Z"
   },
   {
    "duration": 38,
    "start_time": "2025-04-21T14:19:50.135Z"
   },
   {
    "duration": 6272,
    "start_time": "2025-04-21T14:19:50.174Z"
   },
   {
    "duration": 290,
    "start_time": "2025-04-21T14:19:56.448Z"
   },
   {
    "duration": 434,
    "start_time": "2025-04-21T14:19:56.740Z"
   },
   {
    "duration": 13,
    "start_time": "2025-04-21T14:19:57.176Z"
   },
   {
    "duration": 9,
    "start_time": "2025-04-21T14:19:57.191Z"
   },
   {
    "duration": 165,
    "start_time": "2025-04-21T14:19:57.202Z"
   },
   {
    "duration": 0,
    "start_time": "2025-04-21T14:19:57.369Z"
   },
   {
    "duration": 0,
    "start_time": "2025-04-21T14:19:57.371Z"
   },
   {
    "duration": 0,
    "start_time": "2025-04-21T14:19:57.372Z"
   },
   {
    "duration": 0,
    "start_time": "2025-04-21T14:19:57.372Z"
   },
   {
    "duration": 0,
    "start_time": "2025-04-21T14:19:57.374Z"
   },
   {
    "duration": 0,
    "start_time": "2025-04-21T14:19:57.375Z"
   },
   {
    "duration": 121,
    "start_time": "2025-04-21T14:20:16.128Z"
   },
   {
    "duration": 132,
    "start_time": "2025-04-21T14:21:17.315Z"
   },
   {
    "duration": 11,
    "start_time": "2025-04-21T14:21:31.891Z"
   },
   {
    "duration": 1146,
    "start_time": "2025-04-21T14:22:05.608Z"
   },
   {
    "duration": 1008,
    "start_time": "2025-04-21T14:22:06.757Z"
   },
   {
    "duration": 17,
    "start_time": "2025-04-21T14:22:07.767Z"
   },
   {
    "duration": 177,
    "start_time": "2025-04-21T14:22:07.785Z"
   },
   {
    "duration": 33,
    "start_time": "2025-04-21T14:22:07.965Z"
   },
   {
    "duration": 17,
    "start_time": "2025-04-21T14:22:08.000Z"
   },
   {
    "duration": 404,
    "start_time": "2025-04-21T14:22:08.018Z"
   },
   {
    "duration": 129,
    "start_time": "2025-04-21T14:22:08.424Z"
   },
   {
    "duration": 17,
    "start_time": "2025-04-21T14:22:08.555Z"
   },
   {
    "duration": 49,
    "start_time": "2025-04-21T14:22:08.574Z"
   },
   {
    "duration": 127,
    "start_time": "2025-04-21T14:22:08.624Z"
   },
   {
    "duration": 349,
    "start_time": "2025-04-21T14:22:08.763Z"
   },
   {
    "duration": 27,
    "start_time": "2025-04-21T14:22:09.114Z"
   },
   {
    "duration": 92,
    "start_time": "2025-04-21T14:22:09.144Z"
   },
   {
    "duration": 112,
    "start_time": "2025-04-21T14:22:09.237Z"
   },
   {
    "duration": 389,
    "start_time": "2025-04-21T14:22:09.351Z"
   },
   {
    "duration": 85,
    "start_time": "2025-04-21T14:22:09.741Z"
   },
   {
    "duration": 306,
    "start_time": "2025-04-21T14:22:09.828Z"
   },
   {
    "duration": 126,
    "start_time": "2025-04-21T14:22:10.136Z"
   },
   {
    "duration": 13,
    "start_time": "2025-04-21T14:22:10.264Z"
   },
   {
    "duration": 15,
    "start_time": "2025-04-21T14:22:10.278Z"
   },
   {
    "duration": 136,
    "start_time": "2025-04-21T14:22:10.295Z"
   },
   {
    "duration": 12,
    "start_time": "2025-04-21T14:22:10.433Z"
   },
   {
    "duration": 132,
    "start_time": "2025-04-21T14:22:10.446Z"
   },
   {
    "duration": 0,
    "start_time": "2025-04-21T14:22:10.579Z"
   },
   {
    "duration": 0,
    "start_time": "2025-04-21T14:22:10.581Z"
   },
   {
    "duration": 0,
    "start_time": "2025-04-21T14:22:10.582Z"
   },
   {
    "duration": 0,
    "start_time": "2025-04-21T14:22:10.583Z"
   },
   {
    "duration": 0,
    "start_time": "2025-04-21T14:22:10.584Z"
   },
   {
    "duration": 0,
    "start_time": "2025-04-21T14:22:10.585Z"
   },
   {
    "duration": 3,
    "start_time": "2025-04-21T14:22:34.219Z"
   },
   {
    "duration": 1228,
    "start_time": "2025-04-21T14:29:48.826Z"
   },
   {
    "duration": 934,
    "start_time": "2025-04-21T14:29:50.057Z"
   },
   {
    "duration": 16,
    "start_time": "2025-04-21T14:29:50.992Z"
   },
   {
    "duration": 170,
    "start_time": "2025-04-21T14:29:51.010Z"
   },
   {
    "duration": 36,
    "start_time": "2025-04-21T14:29:51.181Z"
   },
   {
    "duration": 18,
    "start_time": "2025-04-21T14:29:51.219Z"
   },
   {
    "duration": 46,
    "start_time": "2025-04-21T14:29:51.239Z"
   },
   {
    "duration": 427,
    "start_time": "2025-04-21T14:29:51.287Z"
   },
   {
    "duration": 140,
    "start_time": "2025-04-21T14:29:51.716Z"
   },
   {
    "duration": 14,
    "start_time": "2025-04-21T14:29:51.865Z"
   },
   {
    "duration": 50,
    "start_time": "2025-04-21T14:29:51.880Z"
   },
   {
    "duration": 147,
    "start_time": "2025-04-21T14:29:51.932Z"
   },
   {
    "duration": 337,
    "start_time": "2025-04-21T14:29:52.081Z"
   },
   {
    "duration": 26,
    "start_time": "2025-04-21T14:29:52.419Z"
   },
   {
    "duration": 76,
    "start_time": "2025-04-21T14:29:52.447Z"
   },
   {
    "duration": 127,
    "start_time": "2025-04-21T14:29:52.525Z"
   },
   {
    "duration": 368,
    "start_time": "2025-04-21T14:29:52.654Z"
   },
   {
    "duration": 85,
    "start_time": "2025-04-21T14:29:53.023Z"
   },
   {
    "duration": 290,
    "start_time": "2025-04-21T14:29:53.109Z"
   },
   {
    "duration": 127,
    "start_time": "2025-04-21T14:29:53.401Z"
   },
   {
    "duration": 10,
    "start_time": "2025-04-21T14:29:53.530Z"
   },
   {
    "duration": 57,
    "start_time": "2025-04-21T14:29:53.542Z"
   },
   {
    "duration": 434,
    "start_time": "2025-04-21T14:29:53.601Z"
   },
   {
    "duration": 12,
    "start_time": "2025-04-21T14:29:54.037Z"
   },
   {
    "duration": 280,
    "start_time": "2025-04-21T14:29:54.063Z"
   },
   {
    "duration": 276,
    "start_time": "2025-04-21T14:29:54.345Z"
   },
   {
    "duration": 274,
    "start_time": "2025-04-21T14:29:54.622Z"
   },
   {
    "duration": 24,
    "start_time": "2025-04-21T14:29:54.900Z"
   },
   {
    "duration": 20,
    "start_time": "2025-04-21T14:29:54.926Z"
   },
   {
    "duration": 129,
    "start_time": "2025-04-21T14:29:54.963Z"
   },
   {
    "duration": 4,
    "start_time": "2025-04-21T14:29:55.094Z"
   },
   {
    "duration": 1231,
    "start_time": "2025-04-21T14:38:12.782Z"
   },
   {
    "duration": 930,
    "start_time": "2025-04-21T14:38:14.015Z"
   },
   {
    "duration": 24,
    "start_time": "2025-04-21T14:38:14.947Z"
   },
   {
    "duration": 166,
    "start_time": "2025-04-21T14:38:14.973Z"
   },
   {
    "duration": 48,
    "start_time": "2025-04-21T14:38:15.141Z"
   },
   {
    "duration": 16,
    "start_time": "2025-04-21T14:38:15.191Z"
   },
   {
    "duration": 36,
    "start_time": "2025-04-21T14:38:15.209Z"
   },
   {
    "duration": 473,
    "start_time": "2025-04-21T14:38:15.247Z"
   },
   {
    "duration": 144,
    "start_time": "2025-04-21T14:38:15.722Z"
   },
   {
    "duration": 13,
    "start_time": "2025-04-21T14:38:15.869Z"
   },
   {
    "duration": 50,
    "start_time": "2025-04-21T14:38:15.883Z"
   },
   {
    "duration": 149,
    "start_time": "2025-04-21T14:38:15.934Z"
   },
   {
    "duration": 340,
    "start_time": "2025-04-21T14:38:16.085Z"
   },
   {
    "duration": 44,
    "start_time": "2025-04-21T14:38:16.427Z"
   },
   {
    "duration": 58,
    "start_time": "2025-04-21T14:38:16.473Z"
   },
   {
    "duration": 133,
    "start_time": "2025-04-21T14:38:16.533Z"
   },
   {
    "duration": 371,
    "start_time": "2025-04-21T14:38:16.668Z"
   },
   {
    "duration": 84,
    "start_time": "2025-04-21T14:38:17.041Z"
   },
   {
    "duration": 316,
    "start_time": "2025-04-21T14:38:17.127Z"
   },
   {
    "duration": 133,
    "start_time": "2025-04-21T14:38:17.445Z"
   },
   {
    "duration": 10,
    "start_time": "2025-04-21T14:38:17.580Z"
   },
   {
    "duration": 41,
    "start_time": "2025-04-21T14:38:17.592Z"
   },
   {
    "duration": 450,
    "start_time": "2025-04-21T14:38:17.635Z"
   },
   {
    "duration": 12,
    "start_time": "2025-04-21T14:38:18.087Z"
   },
   {
    "duration": 298,
    "start_time": "2025-04-21T14:38:18.101Z"
   },
   {
    "duration": 276,
    "start_time": "2025-04-21T14:38:18.401Z"
   },
   {
    "duration": 280,
    "start_time": "2025-04-21T14:38:18.679Z"
   },
   {
    "duration": 23,
    "start_time": "2025-04-21T14:38:18.963Z"
   },
   {
    "duration": 19,
    "start_time": "2025-04-21T14:38:18.987Z"
   },
   {
    "duration": 135,
    "start_time": "2025-04-21T14:38:19.008Z"
   },
   {
    "duration": 3,
    "start_time": "2025-04-21T14:38:19.144Z"
   },
   {
    "duration": 414,
    "start_time": "2025-04-21T14:39:06.294Z"
   },
   {
    "duration": 1264,
    "start_time": "2025-04-21T14:39:45.757Z"
   },
   {
    "duration": 961,
    "start_time": "2025-04-21T14:39:47.024Z"
   },
   {
    "duration": 19,
    "start_time": "2025-04-21T14:39:47.987Z"
   },
   {
    "duration": 173,
    "start_time": "2025-04-21T14:39:48.008Z"
   },
   {
    "duration": 36,
    "start_time": "2025-04-21T14:39:48.183Z"
   },
   {
    "duration": 3,
    "start_time": "2025-04-21T14:39:48.221Z"
   },
   {
    "duration": 4,
    "start_time": "2025-04-21T14:39:48.226Z"
   },
   {
    "duration": 442,
    "start_time": "2025-04-21T14:39:48.231Z"
   },
   {
    "duration": 140,
    "start_time": "2025-04-21T14:39:48.675Z"
   },
   {
    "duration": 13,
    "start_time": "2025-04-21T14:39:48.818Z"
   },
   {
    "duration": 73,
    "start_time": "2025-04-21T14:39:48.832Z"
   },
   {
    "duration": 128,
    "start_time": "2025-04-21T14:39:48.907Z"
   },
   {
    "duration": 345,
    "start_time": "2025-04-21T14:39:49.037Z"
   },
   {
    "duration": 27,
    "start_time": "2025-04-21T14:39:49.383Z"
   },
   {
    "duration": 75,
    "start_time": "2025-04-21T14:39:49.411Z"
   },
   {
    "duration": 123,
    "start_time": "2025-04-21T14:39:49.488Z"
   },
   {
    "duration": 370,
    "start_time": "2025-04-21T14:39:49.612Z"
   },
   {
    "duration": 87,
    "start_time": "2025-04-21T14:39:49.984Z"
   },
   {
    "duration": 300,
    "start_time": "2025-04-21T14:39:50.073Z"
   },
   {
    "duration": 128,
    "start_time": "2025-04-21T14:39:50.374Z"
   },
   {
    "duration": 452,
    "start_time": "2025-04-21T14:39:50.504Z"
   },
   {
    "duration": 11,
    "start_time": "2025-04-21T14:39:50.962Z"
   },
   {
    "duration": 44,
    "start_time": "2025-04-21T14:39:50.974Z"
   },
   {
    "duration": 13,
    "start_time": "2025-04-21T14:39:51.020Z"
   },
   {
    "duration": 309,
    "start_time": "2025-04-21T14:39:51.035Z"
   },
   {
    "duration": 287,
    "start_time": "2025-04-21T14:39:51.346Z"
   },
   {
    "duration": 277,
    "start_time": "2025-04-21T14:39:51.635Z"
   },
   {
    "duration": 23,
    "start_time": "2025-04-21T14:39:51.916Z"
   },
   {
    "duration": 39,
    "start_time": "2025-04-21T14:39:51.941Z"
   },
   {
    "duration": 136,
    "start_time": "2025-04-21T14:39:51.982Z"
   },
   {
    "duration": 3,
    "start_time": "2025-04-21T14:39:52.121Z"
   },
   {
    "duration": 1412,
    "start_time": "2025-04-21T14:40:42.166Z"
   },
   {
    "duration": 965,
    "start_time": "2025-04-21T14:40:43.580Z"
   },
   {
    "duration": 23,
    "start_time": "2025-04-21T14:40:44.547Z"
   },
   {
    "duration": 163,
    "start_time": "2025-04-21T14:40:44.572Z"
   },
   {
    "duration": 43,
    "start_time": "2025-04-21T14:40:44.738Z"
   },
   {
    "duration": 45,
    "start_time": "2025-04-21T14:40:44.782Z"
   },
   {
    "duration": 19,
    "start_time": "2025-04-21T14:40:44.829Z"
   },
   {
    "duration": 402,
    "start_time": "2025-04-21T14:40:44.850Z"
   },
   {
    "duration": 133,
    "start_time": "2025-04-21T14:40:45.254Z"
   },
   {
    "duration": 13,
    "start_time": "2025-04-21T14:40:45.389Z"
   },
   {
    "duration": 61,
    "start_time": "2025-04-21T14:40:45.404Z"
   },
   {
    "duration": 123,
    "start_time": "2025-04-21T14:40:45.467Z"
   },
   {
    "duration": 349,
    "start_time": "2025-04-21T14:40:45.592Z"
   },
   {
    "duration": 32,
    "start_time": "2025-04-21T14:40:45.943Z"
   },
   {
    "duration": 55,
    "start_time": "2025-04-21T14:40:45.977Z"
   },
   {
    "duration": 134,
    "start_time": "2025-04-21T14:40:46.034Z"
   },
   {
    "duration": 366,
    "start_time": "2025-04-21T14:40:46.170Z"
   },
   {
    "duration": 85,
    "start_time": "2025-04-21T14:40:46.538Z"
   },
   {
    "duration": 291,
    "start_time": "2025-04-21T14:40:46.625Z"
   },
   {
    "duration": 147,
    "start_time": "2025-04-21T14:40:46.918Z"
   },
   {
    "duration": 486,
    "start_time": "2025-04-21T14:40:47.067Z"
   },
   {
    "duration": 11,
    "start_time": "2025-04-21T14:40:47.563Z"
   },
   {
    "duration": 38,
    "start_time": "2025-04-21T14:40:47.576Z"
   },
   {
    "duration": 13,
    "start_time": "2025-04-21T14:40:47.615Z"
   },
   {
    "duration": 303,
    "start_time": "2025-04-21T14:40:47.630Z"
   },
   {
    "duration": 275,
    "start_time": "2025-04-21T14:40:47.934Z"
   },
   {
    "duration": 275,
    "start_time": "2025-04-21T14:40:48.211Z"
   },
   {
    "duration": 24,
    "start_time": "2025-04-21T14:40:48.488Z"
   },
   {
    "duration": 25,
    "start_time": "2025-04-21T14:40:48.514Z"
   },
   {
    "duration": 123,
    "start_time": "2025-04-21T14:40:48.541Z"
   },
   {
    "duration": 1485,
    "start_time": "2025-04-21T14:47:14.991Z"
   },
   {
    "duration": 958,
    "start_time": "2025-04-21T14:47:16.478Z"
   },
   {
    "duration": 25,
    "start_time": "2025-04-21T14:47:17.438Z"
   },
   {
    "duration": 154,
    "start_time": "2025-04-21T14:47:17.465Z"
   },
   {
    "duration": 43,
    "start_time": "2025-04-21T14:47:17.621Z"
   },
   {
    "duration": 28,
    "start_time": "2025-04-21T14:47:17.666Z"
   },
   {
    "duration": 32,
    "start_time": "2025-04-21T14:47:17.696Z"
   },
   {
    "duration": 396,
    "start_time": "2025-04-21T14:47:17.730Z"
   },
   {
    "duration": 124,
    "start_time": "2025-04-21T14:47:18.127Z"
   },
   {
    "duration": 19,
    "start_time": "2025-04-21T14:47:18.254Z"
   },
   {
    "duration": 40,
    "start_time": "2025-04-21T14:47:18.275Z"
   },
   {
    "duration": 131,
    "start_time": "2025-04-21T14:47:18.317Z"
   },
   {
    "duration": 348,
    "start_time": "2025-04-21T14:47:18.450Z"
   },
   {
    "duration": 26,
    "start_time": "2025-04-21T14:47:18.800Z"
   },
   {
    "duration": 72,
    "start_time": "2025-04-21T14:47:18.828Z"
   },
   {
    "duration": 113,
    "start_time": "2025-04-21T14:47:18.902Z"
   },
   {
    "duration": 378,
    "start_time": "2025-04-21T14:47:19.017Z"
   },
   {
    "duration": 91,
    "start_time": "2025-04-21T14:47:19.398Z"
   },
   {
    "duration": 286,
    "start_time": "2025-04-21T14:47:19.491Z"
   },
   {
    "duration": 113,
    "start_time": "2025-04-21T14:47:19.780Z"
   },
   {
    "duration": 449,
    "start_time": "2025-04-21T14:47:19.895Z"
   },
   {
    "duration": 20,
    "start_time": "2025-04-21T14:47:20.346Z"
   },
   {
    "duration": 41,
    "start_time": "2025-04-21T14:47:20.368Z"
   },
   {
    "duration": 13,
    "start_time": "2025-04-21T14:47:20.411Z"
   },
   {
    "duration": 315,
    "start_time": "2025-04-21T14:47:20.426Z"
   },
   {
    "duration": 270,
    "start_time": "2025-04-21T14:47:20.743Z"
   },
   {
    "duration": 270,
    "start_time": "2025-04-21T14:47:21.015Z"
   },
   {
    "duration": 22,
    "start_time": "2025-04-21T14:47:21.288Z"
   },
   {
    "duration": 40,
    "start_time": "2025-04-21T14:47:21.312Z"
   },
   {
    "duration": 116,
    "start_time": "2025-04-21T14:47:21.354Z"
   },
   {
    "duration": 20,
    "start_time": "2025-04-21T14:47:21.472Z"
   },
   {
    "duration": 108,
    "start_time": "2025-04-21T14:47:56.414Z"
   },
   {
    "duration": 1753,
    "start_time": "2025-04-21T14:53:04.751Z"
   },
   {
    "duration": 1731,
    "start_time": "2025-04-21T14:53:39.791Z"
   },
   {
    "duration": 1685,
    "start_time": "2025-04-21T14:53:51.841Z"
   },
   {
    "duration": 120,
    "start_time": "2025-04-21T14:55:02.225Z"
   },
   {
    "duration": 23,
    "start_time": "2025-04-21T14:58:01.785Z"
   },
   {
    "duration": 13,
    "start_time": "2025-04-21T14:58:20.704Z"
   },
   {
    "duration": 11,
    "start_time": "2025-04-21T14:58:33.247Z"
   },
   {
    "duration": 138,
    "start_time": "2025-04-21T15:02:24.525Z"
   },
   {
    "duration": 1551,
    "start_time": "2025-04-21T15:02:55.862Z"
   },
   {
    "duration": 970,
    "start_time": "2025-04-21T15:02:57.415Z"
   },
   {
    "duration": 17,
    "start_time": "2025-04-21T15:02:58.387Z"
   },
   {
    "duration": 181,
    "start_time": "2025-04-21T15:02:58.406Z"
   },
   {
    "duration": 28,
    "start_time": "2025-04-21T15:02:58.590Z"
   },
   {
    "duration": 7,
    "start_time": "2025-04-21T15:02:58.619Z"
   },
   {
    "duration": 6,
    "start_time": "2025-04-21T15:02:58.628Z"
   },
   {
    "duration": 280,
    "start_time": "2025-04-21T15:02:58.636Z"
   },
   {
    "duration": 92,
    "start_time": "2025-04-21T15:02:58.918Z"
   },
   {
    "duration": 11,
    "start_time": "2025-04-21T15:02:59.012Z"
   },
   {
    "duration": 48,
    "start_time": "2025-04-21T15:02:59.024Z"
   },
   {
    "duration": 96,
    "start_time": "2025-04-21T15:02:59.074Z"
   },
   {
    "duration": 320,
    "start_time": "2025-04-21T15:02:59.172Z"
   },
   {
    "duration": 23,
    "start_time": "2025-04-21T15:02:59.496Z"
   },
   {
    "duration": 55,
    "start_time": "2025-04-21T15:02:59.520Z"
   },
   {
    "duration": 96,
    "start_time": "2025-04-21T15:02:59.576Z"
   },
   {
    "duration": 345,
    "start_time": "2025-04-21T15:02:59.674Z"
   },
   {
    "duration": 72,
    "start_time": "2025-04-21T15:03:00.021Z"
   },
   {
    "duration": 284,
    "start_time": "2025-04-21T15:03:00.095Z"
   },
   {
    "duration": 99,
    "start_time": "2025-04-21T15:03:00.381Z"
   },
   {
    "duration": 401,
    "start_time": "2025-04-21T15:03:00.482Z"
   },
   {
    "duration": 11,
    "start_time": "2025-04-21T15:03:00.885Z"
   },
   {
    "duration": 28,
    "start_time": "2025-04-21T15:03:00.898Z"
   },
   {
    "duration": 36,
    "start_time": "2025-04-21T15:03:00.928Z"
   },
   {
    "duration": 268,
    "start_time": "2025-04-21T15:03:00.965Z"
   },
   {
    "duration": 269,
    "start_time": "2025-04-21T15:03:01.234Z"
   },
   {
    "duration": 271,
    "start_time": "2025-04-21T15:03:01.505Z"
   },
   {
    "duration": 19,
    "start_time": "2025-04-21T15:03:01.778Z"
   },
   {
    "duration": 43,
    "start_time": "2025-04-21T15:03:01.799Z"
   },
   {
    "duration": 83,
    "start_time": "2025-04-21T15:03:01.844Z"
   },
   {
    "duration": 14,
    "start_time": "2025-04-21T15:03:01.929Z"
   },
   {
    "duration": 66,
    "start_time": "2025-04-21T15:03:01.945Z"
   },
   {
    "duration": 11,
    "start_time": "2025-04-21T15:03:02.013Z"
   },
   {
    "duration": 19,
    "start_time": "2025-04-21T15:03:02.025Z"
   },
   {
    "duration": 1283,
    "start_time": "2025-04-21T15:03:02.046Z"
   },
   {
    "duration": 0,
    "start_time": "2025-04-21T15:03:03.331Z"
   },
   {
    "duration": 1428,
    "start_time": "2025-04-21T15:03:37.399Z"
   },
   {
    "duration": 943,
    "start_time": "2025-04-21T15:03:38.829Z"
   },
   {
    "duration": 18,
    "start_time": "2025-04-21T15:03:39.774Z"
   },
   {
    "duration": 174,
    "start_time": "2025-04-21T15:03:39.794Z"
   },
   {
    "duration": 33,
    "start_time": "2025-04-21T15:03:39.970Z"
   },
   {
    "duration": 6,
    "start_time": "2025-04-21T15:03:40.005Z"
   },
   {
    "duration": 12,
    "start_time": "2025-04-21T15:03:40.013Z"
   },
   {
    "duration": 394,
    "start_time": "2025-04-21T15:03:40.027Z"
   },
   {
    "duration": 126,
    "start_time": "2025-04-21T15:03:40.423Z"
   },
   {
    "duration": 13,
    "start_time": "2025-04-21T15:03:40.561Z"
   },
   {
    "duration": 44,
    "start_time": "2025-04-21T15:03:40.576Z"
   },
   {
    "duration": 125,
    "start_time": "2025-04-21T15:03:40.621Z"
   },
   {
    "duration": 349,
    "start_time": "2025-04-21T15:03:40.748Z"
   },
   {
    "duration": 27,
    "start_time": "2025-04-21T15:03:41.099Z"
   },
   {
    "duration": 69,
    "start_time": "2025-04-21T15:03:41.128Z"
   },
   {
    "duration": 117,
    "start_time": "2025-04-21T15:03:41.199Z"
   },
   {
    "duration": 386,
    "start_time": "2025-04-21T15:03:41.317Z"
   },
   {
    "duration": 82,
    "start_time": "2025-04-21T15:03:41.704Z"
   },
   {
    "duration": 291,
    "start_time": "2025-04-21T15:03:41.787Z"
   },
   {
    "duration": 115,
    "start_time": "2025-04-21T15:03:42.079Z"
   },
   {
    "duration": 422,
    "start_time": "2025-04-21T15:03:42.196Z"
   },
   {
    "duration": 11,
    "start_time": "2025-04-21T15:03:42.619Z"
   },
   {
    "duration": 50,
    "start_time": "2025-04-21T15:03:42.632Z"
   },
   {
    "duration": 12,
    "start_time": "2025-04-21T15:03:42.684Z"
   },
   {
    "duration": 287,
    "start_time": "2025-04-21T15:03:42.698Z"
   },
   {
    "duration": 282,
    "start_time": "2025-04-21T15:03:42.987Z"
   },
   {
    "duration": 272,
    "start_time": "2025-04-21T15:03:43.271Z"
   },
   {
    "duration": 26,
    "start_time": "2025-04-21T15:03:43.547Z"
   },
   {
    "duration": 12,
    "start_time": "2025-04-21T15:03:43.575Z"
   },
   {
    "duration": 125,
    "start_time": "2025-04-21T15:03:43.588Z"
   },
   {
    "duration": 19,
    "start_time": "2025-04-21T15:03:43.715Z"
   },
   {
    "duration": 120,
    "start_time": "2025-04-21T15:03:43.735Z"
   },
   {
    "duration": 13,
    "start_time": "2025-04-21T15:03:43.857Z"
   },
   {
    "duration": 13,
    "start_time": "2025-04-21T15:03:43.872Z"
   },
   {
    "duration": 1749,
    "start_time": "2025-04-21T15:03:43.886Z"
   },
   {
    "duration": 233,
    "start_time": "2025-04-21T15:03:45.636Z"
   },
   {
    "duration": 24,
    "start_time": "2025-04-21T15:04:52.757Z"
   },
   {
    "duration": 2884,
    "start_time": "2025-04-21T15:05:40.697Z"
   },
   {
    "duration": 126,
    "start_time": "2025-04-21T15:05:49.230Z"
   },
   {
    "duration": 30,
    "start_time": "2025-04-21T15:06:30.047Z"
   },
   {
    "duration": 68,
    "start_time": "2025-04-21T15:06:30.553Z"
   },
   {
    "duration": 10,
    "start_time": "2025-04-21T15:06:31.062Z"
   },
   {
    "duration": 11,
    "start_time": "2025-04-21T15:06:31.633Z"
   },
   {
    "duration": 1768,
    "start_time": "2025-04-21T15:06:36.295Z"
   },
   {
    "duration": 28,
    "start_time": "2025-04-21T15:06:38.953Z"
   },
   {
    "duration": 2753,
    "start_time": "2025-04-21T15:06:39.497Z"
   },
   {
    "duration": 120,
    "start_time": "2025-04-21T15:06:42.930Z"
   },
   {
    "duration": 4,
    "start_time": "2025-04-21T15:12:01.927Z"
   },
   {
    "duration": 4,
    "start_time": "2025-04-21T15:12:09.941Z"
   },
   {
    "duration": 1509,
    "start_time": "2025-04-21T15:12:44.366Z"
   },
   {
    "duration": 932,
    "start_time": "2025-04-21T15:12:45.877Z"
   },
   {
    "duration": 18,
    "start_time": "2025-04-21T15:12:46.810Z"
   },
   {
    "duration": 163,
    "start_time": "2025-04-21T15:12:46.830Z"
   },
   {
    "duration": 30,
    "start_time": "2025-04-21T15:12:46.995Z"
   },
   {
    "duration": 4,
    "start_time": "2025-04-21T15:12:47.027Z"
   },
   {
    "duration": 8,
    "start_time": "2025-04-21T15:12:47.033Z"
   },
   {
    "duration": 420,
    "start_time": "2025-04-21T15:12:47.042Z"
   },
   {
    "duration": 127,
    "start_time": "2025-04-21T15:12:47.464Z"
   },
   {
    "duration": 12,
    "start_time": "2025-04-21T15:12:47.592Z"
   },
   {
    "duration": 58,
    "start_time": "2025-04-21T15:12:47.606Z"
   },
   {
    "duration": 123,
    "start_time": "2025-04-21T15:12:47.666Z"
   },
   {
    "duration": 344,
    "start_time": "2025-04-21T15:12:47.791Z"
   },
   {
    "duration": 31,
    "start_time": "2025-04-21T15:12:48.138Z"
   },
   {
    "duration": 60,
    "start_time": "2025-04-21T15:12:48.171Z"
   },
   {
    "duration": 124,
    "start_time": "2025-04-21T15:12:48.233Z"
   },
   {
    "duration": 359,
    "start_time": "2025-04-21T15:12:48.362Z"
   },
   {
    "duration": 83,
    "start_time": "2025-04-21T15:12:48.723Z"
   },
   {
    "duration": 285,
    "start_time": "2025-04-21T15:12:48.808Z"
   },
   {
    "duration": 113,
    "start_time": "2025-04-21T15:12:49.095Z"
   },
   {
    "duration": 442,
    "start_time": "2025-04-21T15:12:49.211Z"
   },
   {
    "duration": 16,
    "start_time": "2025-04-21T15:12:49.655Z"
   },
   {
    "duration": 36,
    "start_time": "2025-04-21T15:12:49.673Z"
   },
   {
    "duration": 13,
    "start_time": "2025-04-21T15:12:49.711Z"
   },
   {
    "duration": 298,
    "start_time": "2025-04-21T15:12:49.726Z"
   },
   {
    "duration": 286,
    "start_time": "2025-04-21T15:12:50.026Z"
   },
   {
    "duration": 356,
    "start_time": "2025-04-21T15:12:50.314Z"
   },
   {
    "duration": 22,
    "start_time": "2025-04-21T15:12:50.671Z"
   },
   {
    "duration": 16,
    "start_time": "2025-04-21T15:12:50.695Z"
   },
   {
    "duration": 125,
    "start_time": "2025-04-21T15:12:50.712Z"
   },
   {
    "duration": 23,
    "start_time": "2025-04-21T15:12:50.839Z"
   },
   {
    "duration": 70,
    "start_time": "2025-04-21T15:12:50.864Z"
   },
   {
    "duration": 28,
    "start_time": "2025-04-21T15:12:50.936Z"
   },
   {
    "duration": 11,
    "start_time": "2025-04-21T15:12:50.966Z"
   },
   {
    "duration": 1699,
    "start_time": "2025-04-21T15:12:50.978Z"
   },
   {
    "duration": 26,
    "start_time": "2025-04-21T15:12:52.679Z"
   },
   {
    "duration": 2924,
    "start_time": "2025-04-21T15:12:52.707Z"
   },
   {
    "duration": 118,
    "start_time": "2025-04-21T15:12:55.633Z"
   },
   {
    "duration": 1505,
    "start_time": "2025-04-21T15:13:54.141Z"
   },
   {
    "duration": 941,
    "start_time": "2025-04-21T15:13:55.648Z"
   },
   {
    "duration": 19,
    "start_time": "2025-04-21T15:13:56.590Z"
   },
   {
    "duration": 175,
    "start_time": "2025-04-21T15:13:56.611Z"
   },
   {
    "duration": 34,
    "start_time": "2025-04-21T15:13:56.788Z"
   },
   {
    "duration": 7,
    "start_time": "2025-04-21T15:13:56.824Z"
   },
   {
    "duration": 3,
    "start_time": "2025-04-21T15:13:56.833Z"
   },
   {
    "duration": 440,
    "start_time": "2025-04-21T15:13:56.837Z"
   },
   {
    "duration": 157,
    "start_time": "2025-04-21T15:13:57.281Z"
   },
   {
    "duration": 25,
    "start_time": "2025-04-21T15:13:57.441Z"
   },
   {
    "duration": 46,
    "start_time": "2025-04-21T15:13:57.468Z"
   },
   {
    "duration": 126,
    "start_time": "2025-04-21T15:13:57.516Z"
   },
   {
    "duration": 337,
    "start_time": "2025-04-21T15:13:57.644Z"
   },
   {
    "duration": 26,
    "start_time": "2025-04-21T15:13:57.982Z"
   },
   {
    "duration": 66,
    "start_time": "2025-04-21T15:13:58.010Z"
   },
   {
    "duration": 112,
    "start_time": "2025-04-21T15:13:58.078Z"
   },
   {
    "duration": 364,
    "start_time": "2025-04-21T15:13:58.192Z"
   },
   {
    "duration": 78,
    "start_time": "2025-04-21T15:13:58.562Z"
   },
   {
    "duration": 298,
    "start_time": "2025-04-21T15:13:58.642Z"
   },
   {
    "duration": 121,
    "start_time": "2025-04-21T15:13:58.941Z"
   },
   {
    "duration": 429,
    "start_time": "2025-04-21T15:13:59.064Z"
   },
   {
    "duration": 11,
    "start_time": "2025-04-21T15:13:59.495Z"
   },
   {
    "duration": 55,
    "start_time": "2025-04-21T15:13:59.507Z"
   },
   {
    "duration": 12,
    "start_time": "2025-04-21T15:13:59.564Z"
   },
   {
    "duration": 281,
    "start_time": "2025-04-21T15:13:59.577Z"
   },
   {
    "duration": 278,
    "start_time": "2025-04-21T15:13:59.863Z"
   },
   {
    "duration": 356,
    "start_time": "2025-04-21T15:14:00.143Z"
   },
   {
    "duration": 22,
    "start_time": "2025-04-21T15:14:00.503Z"
   },
   {
    "duration": 17,
    "start_time": "2025-04-21T15:14:00.527Z"
   },
   {
    "duration": 121,
    "start_time": "2025-04-21T15:14:00.546Z"
   },
   {
    "duration": 37,
    "start_time": "2025-04-21T15:14:00.668Z"
   },
   {
    "duration": 65,
    "start_time": "2025-04-21T15:14:00.707Z"
   },
   {
    "duration": 11,
    "start_time": "2025-04-21T15:14:00.774Z"
   },
   {
    "duration": 34,
    "start_time": "2025-04-21T15:14:00.787Z"
   },
   {
    "duration": 1689,
    "start_time": "2025-04-21T15:14:00.823Z"
   },
   {
    "duration": 33,
    "start_time": "2025-04-21T15:14:02.514Z"
   },
   {
    "duration": 3018,
    "start_time": "2025-04-21T15:14:02.562Z"
   },
   {
    "duration": 1407,
    "start_time": "2025-04-21T15:16:13.191Z"
   },
   {
    "duration": 983,
    "start_time": "2025-04-21T15:16:14.600Z"
   },
   {
    "duration": 17,
    "start_time": "2025-04-21T15:16:15.585Z"
   },
   {
    "duration": 175,
    "start_time": "2025-04-21T15:16:15.604Z"
   },
   {
    "duration": 34,
    "start_time": "2025-04-21T15:16:15.781Z"
   },
   {
    "duration": 5,
    "start_time": "2025-04-21T15:16:15.816Z"
   },
   {
    "duration": 5,
    "start_time": "2025-04-21T15:16:15.823Z"
   },
   {
    "duration": 423,
    "start_time": "2025-04-21T15:16:15.829Z"
   },
   {
    "duration": 124,
    "start_time": "2025-04-21T15:16:16.253Z"
   },
   {
    "duration": 13,
    "start_time": "2025-04-21T15:16:16.380Z"
   },
   {
    "duration": 69,
    "start_time": "2025-04-21T15:16:16.395Z"
   },
   {
    "duration": 122,
    "start_time": "2025-04-21T15:16:16.466Z"
   },
   {
    "duration": 346,
    "start_time": "2025-04-21T15:16:16.590Z"
   },
   {
    "duration": 37,
    "start_time": "2025-04-21T15:16:16.938Z"
   },
   {
    "duration": 55,
    "start_time": "2025-04-21T15:16:16.977Z"
   },
   {
    "duration": 133,
    "start_time": "2025-04-21T15:16:17.034Z"
   },
   {
    "duration": 394,
    "start_time": "2025-04-21T15:16:17.170Z"
   },
   {
    "duration": 75,
    "start_time": "2025-04-21T15:16:17.566Z"
   },
   {
    "duration": 291,
    "start_time": "2025-04-21T15:16:17.643Z"
   },
   {
    "duration": 117,
    "start_time": "2025-04-21T15:16:17.936Z"
   },
   {
    "duration": 431,
    "start_time": "2025-04-21T15:16:18.054Z"
   },
   {
    "duration": 10,
    "start_time": "2025-04-21T15:16:18.487Z"
   },
   {
    "duration": 39,
    "start_time": "2025-04-21T15:16:18.499Z"
   },
   {
    "duration": 31,
    "start_time": "2025-04-21T15:16:18.540Z"
   },
   {
    "duration": 277,
    "start_time": "2025-04-21T15:16:18.573Z"
   },
   {
    "duration": 277,
    "start_time": "2025-04-21T15:16:18.852Z"
   },
   {
    "duration": 358,
    "start_time": "2025-04-21T15:16:19.131Z"
   },
   {
    "duration": 21,
    "start_time": "2025-04-21T15:16:19.492Z"
   },
   {
    "duration": 31,
    "start_time": "2025-04-21T15:16:19.515Z"
   },
   {
    "duration": 133,
    "start_time": "2025-04-21T15:16:19.548Z"
   },
   {
    "duration": 26,
    "start_time": "2025-04-21T15:16:19.683Z"
   },
   {
    "duration": 74,
    "start_time": "2025-04-21T15:16:19.711Z"
   },
   {
    "duration": 11,
    "start_time": "2025-04-21T15:16:19.787Z"
   },
   {
    "duration": 30,
    "start_time": "2025-04-21T15:16:19.799Z"
   },
   {
    "duration": 1739,
    "start_time": "2025-04-21T15:16:19.830Z"
   },
   {
    "duration": 28,
    "start_time": "2025-04-21T15:16:21.571Z"
   },
   {
    "duration": 3426,
    "start_time": "2025-04-21T15:16:21.601Z"
   },
   {
    "duration": 95492,
    "start_time": "2025-04-21T15:17:23.572Z"
   },
   {
    "duration": 4,
    "start_time": "2025-04-21T15:22:40.338Z"
   },
   {
    "duration": 23756,
    "start_time": "2025-04-21T15:25:00.318Z"
   },
   {
    "duration": 228,
    "start_time": "2025-04-21T15:25:55.441Z"
   },
   {
    "duration": 113,
    "start_time": "2025-04-21T15:26:18.810Z"
   },
   {
    "duration": 1474,
    "start_time": "2025-04-21T15:26:48.366Z"
   },
   {
    "duration": 946,
    "start_time": "2025-04-21T15:26:49.842Z"
   },
   {
    "duration": 18,
    "start_time": "2025-04-21T15:26:50.789Z"
   },
   {
    "duration": 162,
    "start_time": "2025-04-21T15:26:50.808Z"
   },
   {
    "duration": 35,
    "start_time": "2025-04-21T15:26:50.971Z"
   },
   {
    "duration": 25,
    "start_time": "2025-04-21T15:26:51.007Z"
   },
   {
    "duration": 6,
    "start_time": "2025-04-21T15:26:51.034Z"
   },
   {
    "duration": 385,
    "start_time": "2025-04-21T15:26:51.042Z"
   },
   {
    "duration": 121,
    "start_time": "2025-04-21T15:26:51.429Z"
   },
   {
    "duration": 13,
    "start_time": "2025-04-21T15:26:51.563Z"
   },
   {
    "duration": 42,
    "start_time": "2025-04-21T15:26:51.577Z"
   },
   {
    "duration": 129,
    "start_time": "2025-04-21T15:26:51.621Z"
   },
   {
    "duration": 333,
    "start_time": "2025-04-21T15:26:51.762Z"
   },
   {
    "duration": 27,
    "start_time": "2025-04-21T15:26:52.096Z"
   },
   {
    "duration": 73,
    "start_time": "2025-04-21T15:26:52.125Z"
   },
   {
    "duration": 112,
    "start_time": "2025-04-21T15:26:52.200Z"
   },
   {
    "duration": 374,
    "start_time": "2025-04-21T15:26:52.313Z"
   },
   {
    "duration": 85,
    "start_time": "2025-04-21T15:26:52.689Z"
   },
   {
    "duration": 288,
    "start_time": "2025-04-21T15:26:52.776Z"
   },
   {
    "duration": 115,
    "start_time": "2025-04-21T15:26:53.065Z"
   },
   {
    "duration": 453,
    "start_time": "2025-04-21T15:26:53.182Z"
   },
   {
    "duration": 11,
    "start_time": "2025-04-21T15:26:53.637Z"
   },
   {
    "duration": 38,
    "start_time": "2025-04-21T15:26:53.662Z"
   },
   {
    "duration": 12,
    "start_time": "2025-04-21T15:26:53.701Z"
   },
   {
    "duration": 293,
    "start_time": "2025-04-21T15:26:53.715Z"
   },
   {
    "duration": 278,
    "start_time": "2025-04-21T15:26:54.010Z"
   },
   {
    "duration": 344,
    "start_time": "2025-04-21T15:26:54.290Z"
   },
   {
    "duration": 26,
    "start_time": "2025-04-21T15:26:54.638Z"
   },
   {
    "duration": 28,
    "start_time": "2025-04-21T15:26:54.666Z"
   },
   {
    "duration": 107,
    "start_time": "2025-04-21T15:26:54.696Z"
   },
   {
    "duration": 15,
    "start_time": "2025-04-21T15:26:54.805Z"
   },
   {
    "duration": 89,
    "start_time": "2025-04-21T15:26:54.822Z"
   },
   {
    "duration": 14,
    "start_time": "2025-04-21T15:26:54.913Z"
   },
   {
    "duration": 47,
    "start_time": "2025-04-21T15:26:54.928Z"
   },
   {
    "duration": 1720,
    "start_time": "2025-04-21T15:26:54.976Z"
   },
   {
    "duration": 26,
    "start_time": "2025-04-21T15:26:56.698Z"
   },
   {
    "duration": 3328,
    "start_time": "2025-04-21T15:26:56.726Z"
   },
   {
    "duration": 95610,
    "start_time": "2025-04-21T15:27:00.056Z"
   },
   {
    "duration": 96,
    "start_time": "2025-04-21T15:28:35.668Z"
   },
   {
    "duration": 23303,
    "start_time": "2025-04-21T15:28:35.765Z"
   },
   {
    "duration": 294,
    "start_time": "2025-04-21T15:28:59.070Z"
   },
   {
    "duration": 95,
    "start_time": "2025-04-21T15:28:59.369Z"
   },
   {
    "duration": 198,
    "start_time": "2025-04-21T15:51:59.204Z"
   },
   {
    "duration": 3,
    "start_time": "2025-04-21T15:52:38.732Z"
   },
   {
    "duration": 719398,
    "start_time": "2025-04-21T15:52:42.472Z"
   },
   {
    "duration": 321646,
    "start_time": "2025-04-21T16:06:00.024Z"
   },
   {
    "duration": 290,
    "start_time": "2025-04-21T16:11:21.672Z"
   },
   {
    "duration": 98,
    "start_time": "2025-04-21T16:11:21.971Z"
   },
   {
    "duration": 9,
    "start_time": "2025-04-21T16:11:41.669Z"
   },
   {
    "duration": 5,
    "start_time": "2025-04-21T16:11:48.157Z"
   },
   {
    "duration": 336355,
    "start_time": "2025-04-21T16:12:27.110Z"
   },
   {
    "duration": 113,
    "start_time": "2025-04-21T16:46:27.365Z"
   },
   {
    "duration": 1524,
    "start_time": "2025-04-21T16:47:39.316Z"
   },
   {
    "duration": 914,
    "start_time": "2025-04-21T16:47:40.842Z"
   },
   {
    "duration": 19,
    "start_time": "2025-04-21T16:47:41.757Z"
   },
   {
    "duration": 166,
    "start_time": "2025-04-21T16:47:41.778Z"
   },
   {
    "duration": 43,
    "start_time": "2025-04-21T16:47:41.947Z"
   },
   {
    "duration": 3,
    "start_time": "2025-04-21T16:47:41.991Z"
   },
   {
    "duration": 6,
    "start_time": "2025-04-21T16:47:41.995Z"
   },
   {
    "duration": 402,
    "start_time": "2025-04-21T16:47:42.003Z"
   },
   {
    "duration": 134,
    "start_time": "2025-04-21T16:47:42.407Z"
   },
   {
    "duration": 23,
    "start_time": "2025-04-21T16:47:42.543Z"
   },
   {
    "duration": 42,
    "start_time": "2025-04-21T16:47:42.569Z"
   },
   {
    "duration": 136,
    "start_time": "2025-04-21T16:47:42.613Z"
   },
   {
    "duration": 361,
    "start_time": "2025-04-21T16:47:42.763Z"
   },
   {
    "duration": 36,
    "start_time": "2025-04-21T16:47:43.127Z"
   },
   {
    "duration": 59,
    "start_time": "2025-04-21T16:47:43.166Z"
   },
   {
    "duration": 136,
    "start_time": "2025-04-21T16:47:43.227Z"
   },
   {
    "duration": 389,
    "start_time": "2025-04-21T16:47:43.366Z"
   },
   {
    "duration": 79,
    "start_time": "2025-04-21T16:47:43.762Z"
   },
   {
    "duration": 301,
    "start_time": "2025-04-21T16:47:43.843Z"
   },
   {
    "duration": 122,
    "start_time": "2025-04-21T16:47:44.146Z"
   },
   {
    "duration": 463,
    "start_time": "2025-04-21T16:47:44.269Z"
   },
   {
    "duration": 11,
    "start_time": "2025-04-21T16:47:44.734Z"
   },
   {
    "duration": 55,
    "start_time": "2025-04-21T16:47:44.746Z"
   },
   {
    "duration": 12,
    "start_time": "2025-04-21T16:47:44.803Z"
   },
   {
    "duration": 326,
    "start_time": "2025-04-21T16:47:44.817Z"
   },
   {
    "duration": 296,
    "start_time": "2025-04-21T16:47:45.144Z"
   },
   {
    "duration": 366,
    "start_time": "2025-04-21T16:47:45.442Z"
   },
   {
    "duration": 26,
    "start_time": "2025-04-21T16:47:45.810Z"
   },
   {
    "duration": 27,
    "start_time": "2025-04-21T16:47:45.837Z"
   },
   {
    "duration": 126,
    "start_time": "2025-04-21T16:47:45.866Z"
   },
   {
    "duration": 15,
    "start_time": "2025-04-21T16:47:45.994Z"
   },
   {
    "duration": 92,
    "start_time": "2025-04-21T16:47:46.011Z"
   },
   {
    "duration": 10,
    "start_time": "2025-04-21T16:47:46.105Z"
   },
   {
    "duration": 23,
    "start_time": "2025-04-21T16:47:46.117Z"
   },
   {
    "duration": 1837,
    "start_time": "2025-04-21T16:47:46.141Z"
   },
   {
    "duration": 26,
    "start_time": "2025-04-21T16:47:47.980Z"
   },
   {
    "duration": 3507,
    "start_time": "2025-04-21T16:47:48.008Z"
   },
   {
    "duration": 116450,
    "start_time": "2025-04-21T16:47:51.516Z"
   },
   {
    "duration": 95,
    "start_time": "2025-04-21T16:49:47.969Z"
   },
   {
    "duration": 27603,
    "start_time": "2025-04-21T16:49:48.066Z"
   },
   {
    "duration": 388,
    "start_time": "2025-04-21T16:50:15.674Z"
   },
   {
    "duration": 5,
    "start_time": "2025-04-21T16:50:16.064Z"
   },
   {
    "duration": 795593,
    "start_time": "2025-04-21T16:50:16.071Z"
   },
   {
    "duration": 551599,
    "start_time": "2025-04-21T17:03:31.666Z"
   },
   {
    "duration": 196,
    "start_time": "2025-04-21T17:12:43.268Z"
   },
   {
    "duration": 94,
    "start_time": "2025-04-21T17:12:43.470Z"
   },
   {
    "duration": 203,
    "start_time": "2025-04-21T17:12:43.565Z"
   },
   {
    "duration": 94,
    "start_time": "2025-04-21T17:16:27.843Z"
   },
   {
    "duration": 1545,
    "start_time": "2025-04-21T17:55:14.104Z"
   },
   {
    "duration": 1058,
    "start_time": "2025-04-21T17:55:15.651Z"
   },
   {
    "duration": 18,
    "start_time": "2025-04-21T17:55:16.711Z"
   },
   {
    "duration": 167,
    "start_time": "2025-04-21T17:55:16.731Z"
   },
   {
    "duration": 30,
    "start_time": "2025-04-21T17:55:16.901Z"
   },
   {
    "duration": 4,
    "start_time": "2025-04-21T17:55:16.934Z"
   },
   {
    "duration": 4,
    "start_time": "2025-04-21T17:55:16.940Z"
   },
   {
    "duration": 424,
    "start_time": "2025-04-21T17:55:16.963Z"
   },
   {
    "duration": 127,
    "start_time": "2025-04-21T17:55:17.390Z"
   },
   {
    "duration": 13,
    "start_time": "2025-04-21T17:55:17.518Z"
   },
   {
    "duration": 54,
    "start_time": "2025-04-21T17:55:17.533Z"
   },
   {
    "duration": 118,
    "start_time": "2025-04-21T17:55:17.589Z"
   },
   {
    "duration": 340,
    "start_time": "2025-04-21T17:55:17.708Z"
   },
   {
    "duration": 27,
    "start_time": "2025-04-21T17:55:18.051Z"
   },
   {
    "duration": 55,
    "start_time": "2025-04-21T17:55:18.080Z"
   },
   {
    "duration": 133,
    "start_time": "2025-04-21T17:55:18.137Z"
   },
   {
    "duration": 373,
    "start_time": "2025-04-21T17:55:18.272Z"
   },
   {
    "duration": 85,
    "start_time": "2025-04-21T17:55:18.647Z"
   },
   {
    "duration": 317,
    "start_time": "2025-04-21T17:55:18.733Z"
   },
   {
    "duration": 120,
    "start_time": "2025-04-21T17:55:19.052Z"
   },
   {
    "duration": 449,
    "start_time": "2025-04-21T17:55:19.173Z"
   },
   {
    "duration": 11,
    "start_time": "2025-04-21T17:55:19.624Z"
   },
   {
    "duration": 56,
    "start_time": "2025-04-21T17:55:19.637Z"
   },
   {
    "duration": 11,
    "start_time": "2025-04-21T17:55:19.695Z"
   },
   {
    "duration": 308,
    "start_time": "2025-04-21T17:55:19.708Z"
   },
   {
    "duration": 287,
    "start_time": "2025-04-21T17:55:20.018Z"
   },
   {
    "duration": 365,
    "start_time": "2025-04-21T17:55:20.307Z"
   },
   {
    "duration": 23,
    "start_time": "2025-04-21T17:55:20.674Z"
   },
   {
    "duration": 12,
    "start_time": "2025-04-21T17:55:20.699Z"
   },
   {
    "duration": 128,
    "start_time": "2025-04-21T17:55:20.712Z"
   },
   {
    "duration": 20,
    "start_time": "2025-04-21T17:55:20.842Z"
   },
   {
    "duration": 67,
    "start_time": "2025-04-21T17:55:20.864Z"
   },
   {
    "duration": 11,
    "start_time": "2025-04-21T17:55:20.932Z"
   },
   {
    "duration": 27,
    "start_time": "2025-04-21T17:55:20.944Z"
   },
   {
    "duration": 1797,
    "start_time": "2025-04-21T17:55:20.972Z"
   },
   {
    "duration": 28,
    "start_time": "2025-04-21T17:55:22.771Z"
   },
   {
    "duration": 3869,
    "start_time": "2025-04-21T17:55:22.800Z"
   },
   {
    "duration": 123192,
    "start_time": "2025-04-21T17:55:26.671Z"
   },
   {
    "duration": 5,
    "start_time": "2025-04-21T17:57:29.865Z"
   },
   {
    "duration": 30596,
    "start_time": "2025-04-21T17:57:29.872Z"
   },
   {
    "duration": 292,
    "start_time": "2025-04-21T17:58:00.472Z"
   },
   {
    "duration": 96,
    "start_time": "2025-04-21T17:58:00.767Z"
   },
   {
    "duration": 1486,
    "start_time": "2025-04-21T18:09:43.381Z"
   },
   {
    "duration": 975,
    "start_time": "2025-04-21T18:09:44.868Z"
   },
   {
    "duration": 27,
    "start_time": "2025-04-21T18:09:45.845Z"
   },
   {
    "duration": 175,
    "start_time": "2025-04-21T18:09:45.874Z"
   },
   {
    "duration": 38,
    "start_time": "2025-04-21T18:09:46.051Z"
   },
   {
    "duration": 8,
    "start_time": "2025-04-21T18:09:46.090Z"
   },
   {
    "duration": 6,
    "start_time": "2025-04-21T18:09:46.100Z"
   },
   {
    "duration": 429,
    "start_time": "2025-04-21T18:09:46.108Z"
   },
   {
    "duration": 130,
    "start_time": "2025-04-21T18:09:46.539Z"
   },
   {
    "duration": 13,
    "start_time": "2025-04-21T18:09:46.672Z"
   },
   {
    "duration": 42,
    "start_time": "2025-04-21T18:09:46.686Z"
   },
   {
    "duration": 136,
    "start_time": "2025-04-21T18:09:46.729Z"
   },
   {
    "duration": 343,
    "start_time": "2025-04-21T18:09:46.866Z"
   },
   {
    "duration": 27,
    "start_time": "2025-04-21T18:09:47.210Z"
   },
   {
    "duration": 80,
    "start_time": "2025-04-21T18:09:47.238Z"
   },
   {
    "duration": 145,
    "start_time": "2025-04-21T18:09:47.321Z"
   },
   {
    "duration": 373,
    "start_time": "2025-04-21T18:09:47.468Z"
   },
   {
    "duration": 83,
    "start_time": "2025-04-21T18:09:47.843Z"
   },
   {
    "duration": 299,
    "start_time": "2025-04-21T18:09:47.928Z"
   },
   {
    "duration": 116,
    "start_time": "2025-04-21T18:09:48.229Z"
   },
   {
    "duration": 454,
    "start_time": "2025-04-21T18:09:48.347Z"
   },
   {
    "duration": 10,
    "start_time": "2025-04-21T18:09:48.803Z"
   },
   {
    "duration": 49,
    "start_time": "2025-04-21T18:09:48.814Z"
   },
   {
    "duration": 12,
    "start_time": "2025-04-21T18:09:48.864Z"
   },
   {
    "duration": 299,
    "start_time": "2025-04-21T18:09:48.878Z"
   },
   {
    "duration": 280,
    "start_time": "2025-04-21T18:09:49.178Z"
   },
   {
    "duration": 359,
    "start_time": "2025-04-21T18:09:49.459Z"
   },
   {
    "duration": 23,
    "start_time": "2025-04-21T18:09:49.821Z"
   },
   {
    "duration": 22,
    "start_time": "2025-04-21T18:09:49.845Z"
   },
   {
    "duration": 120,
    "start_time": "2025-04-21T18:09:49.869Z"
   },
   {
    "duration": 15,
    "start_time": "2025-04-21T18:09:49.991Z"
   },
   {
    "duration": 85,
    "start_time": "2025-04-21T18:09:50.008Z"
   },
   {
    "duration": 11,
    "start_time": "2025-04-21T18:09:50.095Z"
   },
   {
    "duration": 19,
    "start_time": "2025-04-21T18:09:50.107Z"
   },
   {
    "duration": 1780,
    "start_time": "2025-04-21T18:09:50.128Z"
   },
   {
    "duration": 27,
    "start_time": "2025-04-21T18:09:51.910Z"
   },
   {
    "duration": 3811,
    "start_time": "2025-04-21T18:09:51.938Z"
   },
   {
    "duration": 122114,
    "start_time": "2025-04-21T18:09:55.750Z"
   },
   {
    "duration": 4,
    "start_time": "2025-04-21T18:11:57.866Z"
   },
   {
    "duration": 28699,
    "start_time": "2025-04-21T18:11:57.872Z"
   },
   {
    "duration": 388,
    "start_time": "2025-04-21T18:12:26.574Z"
   },
   {
    "duration": 98,
    "start_time": "2025-04-21T18:12:26.966Z"
   },
   {
    "duration": 9,
    "start_time": "2025-04-21T18:12:27.065Z"
   },
   {
    "duration": 17,
    "start_time": "2025-04-21T18:12:27.076Z"
   },
   {
    "duration": 25,
    "start_time": "2025-04-21T18:12:27.094Z"
   },
   {
    "duration": 16,
    "start_time": "2025-04-21T18:12:27.121Z"
   },
   {
    "duration": 247,
    "start_time": "2025-04-21T18:12:27.139Z"
   },
   {
    "duration": 4,
    "start_time": "2025-04-21T18:39:35.518Z"
   },
   {
    "duration": 1483,
    "start_time": "2025-04-21T18:44:57.334Z"
   },
   {
    "duration": 931,
    "start_time": "2025-04-21T18:44:58.819Z"
   },
   {
    "duration": 23,
    "start_time": "2025-04-21T18:44:59.752Z"
   },
   {
    "duration": 163,
    "start_time": "2025-04-21T18:44:59.777Z"
   },
   {
    "duration": 38,
    "start_time": "2025-04-21T18:44:59.943Z"
   },
   {
    "duration": 59,
    "start_time": "2025-04-21T18:44:59.983Z"
   },
   {
    "duration": 51,
    "start_time": "2025-04-21T18:45:00.043Z"
   },
   {
    "duration": 426,
    "start_time": "2025-04-21T18:45:00.096Z"
   },
   {
    "duration": 121,
    "start_time": "2025-04-21T18:45:00.523Z"
   },
   {
    "duration": 25,
    "start_time": "2025-04-21T18:45:00.646Z"
   },
   {
    "duration": 42,
    "start_time": "2025-04-21T18:45:00.674Z"
   },
   {
    "duration": 126,
    "start_time": "2025-04-21T18:45:00.718Z"
   },
   {
    "duration": 359,
    "start_time": "2025-04-21T18:45:00.846Z"
   },
   {
    "duration": 27,
    "start_time": "2025-04-21T18:45:01.208Z"
   },
   {
    "duration": 72,
    "start_time": "2025-04-21T18:45:01.237Z"
   },
   {
    "duration": 114,
    "start_time": "2025-04-21T18:45:01.311Z"
   },
   {
    "duration": 414,
    "start_time": "2025-04-21T18:45:01.426Z"
   },
   {
    "duration": 90,
    "start_time": "2025-04-21T18:45:01.842Z"
   },
   {
    "duration": 286,
    "start_time": "2025-04-21T18:45:01.934Z"
   },
   {
    "duration": 119,
    "start_time": "2025-04-21T18:45:02.222Z"
   },
   {
    "duration": 457,
    "start_time": "2025-04-21T18:45:02.343Z"
   },
   {
    "duration": 11,
    "start_time": "2025-04-21T18:45:02.802Z"
   },
   {
    "duration": 62,
    "start_time": "2025-04-21T18:45:02.815Z"
   },
   {
    "duration": 13,
    "start_time": "2025-04-21T18:45:02.878Z"
   },
   {
    "duration": 320,
    "start_time": "2025-04-21T18:45:02.892Z"
   },
   {
    "duration": 277,
    "start_time": "2025-04-21T18:45:03.214Z"
   },
   {
    "duration": 358,
    "start_time": "2025-04-21T18:45:03.493Z"
   },
   {
    "duration": 27,
    "start_time": "2025-04-21T18:45:03.853Z"
   },
   {
    "duration": 40,
    "start_time": "2025-04-21T18:45:03.881Z"
   },
   {
    "duration": 126,
    "start_time": "2025-04-21T18:45:03.922Z"
   },
   {
    "duration": 26,
    "start_time": "2025-04-21T18:45:04.049Z"
   },
   {
    "duration": 73,
    "start_time": "2025-04-21T18:45:04.077Z"
   },
   {
    "duration": 16,
    "start_time": "2025-04-21T18:45:04.163Z"
   },
   {
    "duration": 27,
    "start_time": "2025-04-21T18:45:04.181Z"
   },
   {
    "duration": 1788,
    "start_time": "2025-04-21T18:45:04.210Z"
   },
   {
    "duration": 27,
    "start_time": "2025-04-21T18:45:05.999Z"
   },
   {
    "duration": 3916,
    "start_time": "2025-04-21T18:45:06.028Z"
   },
   {
    "duration": 1604,
    "start_time": "2025-04-21T18:45:25.241Z"
   },
   {
    "duration": 1078,
    "start_time": "2025-04-21T18:45:26.847Z"
   },
   {
    "duration": 34,
    "start_time": "2025-04-21T18:45:27.930Z"
   },
   {
    "duration": 151,
    "start_time": "2025-04-21T18:45:27.966Z"
   },
   {
    "duration": 48,
    "start_time": "2025-04-21T18:45:28.118Z"
   },
   {
    "duration": 13,
    "start_time": "2025-04-21T18:45:28.167Z"
   },
   {
    "duration": 6,
    "start_time": "2025-04-21T18:45:28.182Z"
   },
   {
    "duration": 399,
    "start_time": "2025-04-21T18:45:28.190Z"
   },
   {
    "duration": 129,
    "start_time": "2025-04-21T18:45:28.591Z"
   },
   {
    "duration": 12,
    "start_time": "2025-04-21T18:45:28.722Z"
   },
   {
    "duration": 68,
    "start_time": "2025-04-21T18:45:28.737Z"
   },
   {
    "duration": 117,
    "start_time": "2025-04-21T18:45:28.807Z"
   },
   {
    "duration": 342,
    "start_time": "2025-04-21T18:45:28.925Z"
   },
   {
    "duration": 27,
    "start_time": "2025-04-21T18:45:29.269Z"
   },
   {
    "duration": 70,
    "start_time": "2025-04-21T18:45:29.298Z"
   },
   {
    "duration": 119,
    "start_time": "2025-04-21T18:45:29.370Z"
   },
   {
    "duration": 374,
    "start_time": "2025-04-21T18:45:29.490Z"
   },
   {
    "duration": 77,
    "start_time": "2025-04-21T18:45:29.866Z"
   },
   {
    "duration": 303,
    "start_time": "2025-04-21T18:45:29.944Z"
   },
   {
    "duration": 124,
    "start_time": "2025-04-21T18:45:30.249Z"
   },
   {
    "duration": 453,
    "start_time": "2025-04-21T18:45:30.375Z"
   },
   {
    "duration": 11,
    "start_time": "2025-04-21T18:45:30.830Z"
   },
   {
    "duration": 50,
    "start_time": "2025-04-21T18:45:30.843Z"
   },
   {
    "duration": 12,
    "start_time": "2025-04-21T18:45:30.894Z"
   },
   {
    "duration": 299,
    "start_time": "2025-04-21T18:45:30.908Z"
   },
   {
    "duration": 291,
    "start_time": "2025-04-21T18:45:31.209Z"
   },
   {
    "duration": 370,
    "start_time": "2025-04-21T18:45:31.505Z"
   },
   {
    "duration": 22,
    "start_time": "2025-04-21T18:45:31.877Z"
   },
   {
    "duration": 19,
    "start_time": "2025-04-21T18:45:31.901Z"
   },
   {
    "duration": 122,
    "start_time": "2025-04-21T18:45:31.921Z"
   },
   {
    "duration": 24,
    "start_time": "2025-04-21T18:45:32.044Z"
   },
   {
    "duration": 67,
    "start_time": "2025-04-21T18:45:32.069Z"
   },
   {
    "duration": 26,
    "start_time": "2025-04-21T18:45:32.138Z"
   },
   {
    "duration": 19,
    "start_time": "2025-04-21T18:45:32.166Z"
   },
   {
    "duration": 1791,
    "start_time": "2025-04-21T18:45:32.187Z"
   },
   {
    "duration": 28,
    "start_time": "2025-04-21T18:45:33.980Z"
   },
   {
    "duration": 3852,
    "start_time": "2025-04-21T18:45:34.010Z"
   },
   {
    "duration": 2,
    "start_time": "2025-04-21T18:45:37.864Z"
   },
   {
    "duration": 8,
    "start_time": "2025-04-21T18:45:37.868Z"
   },
   {
    "duration": 4,
    "start_time": "2025-04-21T18:45:37.878Z"
   },
   {
    "duration": 5,
    "start_time": "2025-04-21T18:45:37.884Z"
   },
   {
    "duration": 16,
    "start_time": "2025-04-21T18:45:37.890Z"
   },
   {
    "duration": 8,
    "start_time": "2025-04-21T18:45:37.907Z"
   },
   {
    "duration": 18,
    "start_time": "2025-04-21T18:45:37.917Z"
   },
   {
    "duration": 5,
    "start_time": "2025-04-21T18:45:37.937Z"
   },
   {
    "duration": 5,
    "start_time": "2025-04-21T18:45:37.943Z"
   },
   {
    "duration": 1500,
    "start_time": "2025-04-21T18:59:48.619Z"
   },
   {
    "duration": 945,
    "start_time": "2025-04-21T18:59:50.121Z"
   },
   {
    "duration": 19,
    "start_time": "2025-04-21T18:59:51.068Z"
   },
   {
    "duration": 174,
    "start_time": "2025-04-21T18:59:51.089Z"
   },
   {
    "duration": 31,
    "start_time": "2025-04-21T18:59:51.264Z"
   },
   {
    "duration": 25,
    "start_time": "2025-04-21T18:59:51.297Z"
   },
   {
    "duration": 11,
    "start_time": "2025-04-21T18:59:51.324Z"
   },
   {
    "duration": 380,
    "start_time": "2025-04-21T18:59:51.337Z"
   },
   {
    "duration": 125,
    "start_time": "2025-04-21T18:59:51.719Z"
   },
   {
    "duration": 25,
    "start_time": "2025-04-21T18:59:51.847Z"
   },
   {
    "duration": 40,
    "start_time": "2025-04-21T18:59:51.874Z"
   },
   {
    "duration": 128,
    "start_time": "2025-04-21T18:59:51.915Z"
   },
   {
    "duration": 355,
    "start_time": "2025-04-21T18:59:52.044Z"
   },
   {
    "duration": 27,
    "start_time": "2025-04-21T18:59:52.401Z"
   },
   {
    "duration": 74,
    "start_time": "2025-04-21T18:59:52.430Z"
   },
   {
    "duration": 108,
    "start_time": "2025-04-21T18:59:52.506Z"
   },
   {
    "duration": 373,
    "start_time": "2025-04-21T18:59:52.616Z"
   },
   {
    "duration": 84,
    "start_time": "2025-04-21T18:59:52.991Z"
   },
   {
    "duration": 288,
    "start_time": "2025-04-21T18:59:53.077Z"
   },
   {
    "duration": 114,
    "start_time": "2025-04-21T18:59:53.367Z"
   },
   {
    "duration": 422,
    "start_time": "2025-04-21T18:59:53.483Z"
   },
   {
    "duration": 10,
    "start_time": "2025-04-21T18:59:53.907Z"
   },
   {
    "duration": 50,
    "start_time": "2025-04-21T18:59:53.919Z"
   },
   {
    "duration": 12,
    "start_time": "2025-04-21T18:59:53.970Z"
   },
   {
    "duration": 281,
    "start_time": "2025-04-21T18:59:53.984Z"
   },
   {
    "duration": 278,
    "start_time": "2025-04-21T18:59:54.267Z"
   },
   {
    "duration": 356,
    "start_time": "2025-04-21T18:59:54.547Z"
   },
   {
    "duration": 24,
    "start_time": "2025-04-21T18:59:54.906Z"
   },
   {
    "duration": 30,
    "start_time": "2025-04-21T18:59:54.932Z"
   },
   {
    "duration": 114,
    "start_time": "2025-04-21T18:59:54.964Z"
   },
   {
    "duration": 15,
    "start_time": "2025-04-21T18:59:55.080Z"
   },
   {
    "duration": 85,
    "start_time": "2025-04-21T18:59:55.096Z"
   },
   {
    "duration": 10,
    "start_time": "2025-04-21T18:59:55.183Z"
   },
   {
    "duration": 26,
    "start_time": "2025-04-21T18:59:55.194Z"
   },
   {
    "duration": 1735,
    "start_time": "2025-04-21T18:59:55.222Z"
   },
   {
    "duration": 29,
    "start_time": "2025-04-21T18:59:56.958Z"
   },
   {
    "duration": 3660,
    "start_time": "2025-04-21T18:59:56.989Z"
   },
   {
    "duration": 2,
    "start_time": "2025-04-21T19:00:00.651Z"
   },
   {
    "duration": 23,
    "start_time": "2025-04-21T19:00:00.663Z"
   },
   {
    "duration": 24,
    "start_time": "2025-04-21T19:00:00.688Z"
   },
   {
    "duration": 23,
    "start_time": "2025-04-21T19:00:00.714Z"
   },
   {
    "duration": 18,
    "start_time": "2025-04-21T19:00:00.739Z"
   },
   {
    "duration": 8,
    "start_time": "2025-04-21T19:00:00.758Z"
   },
   {
    "duration": 5,
    "start_time": "2025-04-21T19:00:00.768Z"
   },
   {
    "duration": 19,
    "start_time": "2025-04-21T19:00:00.775Z"
   },
   {
    "duration": 20,
    "start_time": "2025-04-21T19:00:00.796Z"
   },
   {
    "duration": 255,
    "start_time": "2025-04-21T19:00:00.817Z"
   },
   {
    "duration": 1499,
    "start_time": "2025-04-21T19:01:24.774Z"
   },
   {
    "duration": 925,
    "start_time": "2025-04-21T19:01:26.275Z"
   },
   {
    "duration": 17,
    "start_time": "2025-04-21T19:01:27.202Z"
   },
   {
    "duration": 208,
    "start_time": "2025-04-21T19:01:27.220Z"
   },
   {
    "duration": 42,
    "start_time": "2025-04-21T19:01:27.431Z"
   },
   {
    "duration": 8,
    "start_time": "2025-04-21T19:01:27.475Z"
   },
   {
    "duration": 3,
    "start_time": "2025-04-21T19:01:27.485Z"
   },
   {
    "duration": 394,
    "start_time": "2025-04-21T19:01:27.490Z"
   },
   {
    "duration": 120,
    "start_time": "2025-04-21T19:01:27.886Z"
   },
   {
    "duration": 14,
    "start_time": "2025-04-21T19:01:28.008Z"
   },
   {
    "duration": 61,
    "start_time": "2025-04-21T19:01:28.023Z"
   },
   {
    "duration": 125,
    "start_time": "2025-04-21T19:01:28.085Z"
   },
   {
    "duration": 350,
    "start_time": "2025-04-21T19:01:28.212Z"
   },
   {
    "duration": 28,
    "start_time": "2025-04-21T19:01:28.565Z"
   },
   {
    "duration": 74,
    "start_time": "2025-04-21T19:01:28.595Z"
   },
   {
    "duration": 117,
    "start_time": "2025-04-21T19:01:28.671Z"
   },
   {
    "duration": 382,
    "start_time": "2025-04-21T19:01:28.790Z"
   },
   {
    "duration": 88,
    "start_time": "2025-04-21T19:01:29.174Z"
   },
   {
    "duration": 300,
    "start_time": "2025-04-21T19:01:29.264Z"
   },
   {
    "duration": 142,
    "start_time": "2025-04-21T19:01:29.566Z"
   },
   {
    "duration": 440,
    "start_time": "2025-04-21T19:01:29.710Z"
   },
   {
    "duration": 15,
    "start_time": "2025-04-21T19:01:30.152Z"
   },
   {
    "duration": 65,
    "start_time": "2025-04-21T19:01:30.168Z"
   },
   {
    "duration": 13,
    "start_time": "2025-04-21T19:01:30.235Z"
   },
   {
    "duration": 302,
    "start_time": "2025-04-21T19:01:30.249Z"
   },
   {
    "duration": 284,
    "start_time": "2025-04-21T19:01:30.553Z"
   },
   {
    "duration": 351,
    "start_time": "2025-04-21T19:01:30.839Z"
   },
   {
    "duration": 22,
    "start_time": "2025-04-21T19:01:31.192Z"
   },
   {
    "duration": 17,
    "start_time": "2025-04-21T19:01:31.216Z"
   },
   {
    "duration": 133,
    "start_time": "2025-04-21T19:01:31.235Z"
   },
   {
    "duration": 16,
    "start_time": "2025-04-21T19:01:31.369Z"
   },
   {
    "duration": 85,
    "start_time": "2025-04-21T19:01:31.386Z"
   },
   {
    "duration": 11,
    "start_time": "2025-04-21T19:01:31.473Z"
   },
   {
    "duration": 54,
    "start_time": "2025-04-21T19:01:31.486Z"
   },
   {
    "duration": 1783,
    "start_time": "2025-04-21T19:01:31.542Z"
   },
   {
    "duration": 37,
    "start_time": "2025-04-21T19:01:33.327Z"
   },
   {
    "duration": 3813,
    "start_time": "2025-04-21T19:01:33.366Z"
   },
   {
    "duration": 2,
    "start_time": "2025-04-21T19:01:37.181Z"
   },
   {
    "duration": 13,
    "start_time": "2025-04-21T19:01:37.185Z"
   },
   {
    "duration": 12,
    "start_time": "2025-04-21T19:01:37.200Z"
   },
   {
    "duration": 8,
    "start_time": "2025-04-21T19:01:37.217Z"
   },
   {
    "duration": 13,
    "start_time": "2025-04-21T19:01:37.227Z"
   },
   {
    "duration": 4,
    "start_time": "2025-04-21T19:01:37.242Z"
   },
   {
    "duration": 6,
    "start_time": "2025-04-21T19:01:37.248Z"
   },
   {
    "duration": 27,
    "start_time": "2025-04-21T19:01:37.256Z"
   },
   {
    "duration": 17,
    "start_time": "2025-04-21T19:01:37.286Z"
   },
   {
    "duration": 1510,
    "start_time": "2025-04-21T19:12:52.740Z"
   },
   {
    "duration": 915,
    "start_time": "2025-04-21T19:12:54.252Z"
   },
   {
    "duration": 18,
    "start_time": "2025-04-21T19:12:55.169Z"
   },
   {
    "duration": 184,
    "start_time": "2025-04-21T19:12:55.189Z"
   },
   {
    "duration": 32,
    "start_time": "2025-04-21T19:12:55.375Z"
   },
   {
    "duration": 5,
    "start_time": "2025-04-21T19:12:55.409Z"
   },
   {
    "duration": 3,
    "start_time": "2025-04-21T19:12:55.416Z"
   },
   {
    "duration": 414,
    "start_time": "2025-04-21T19:12:55.421Z"
   },
   {
    "duration": 127,
    "start_time": "2025-04-21T19:12:55.837Z"
   },
   {
    "duration": 13,
    "start_time": "2025-04-21T19:12:55.967Z"
   },
   {
    "duration": 41,
    "start_time": "2025-04-21T19:12:55.981Z"
   },
   {
    "duration": 140,
    "start_time": "2025-04-21T19:12:56.024Z"
   },
   {
    "duration": 344,
    "start_time": "2025-04-21T19:12:56.166Z"
   },
   {
    "duration": 26,
    "start_time": "2025-04-21T19:12:56.512Z"
   },
   {
    "duration": 66,
    "start_time": "2025-04-21T19:12:56.539Z"
   },
   {
    "duration": 115,
    "start_time": "2025-04-21T19:12:56.607Z"
   },
   {
    "duration": 367,
    "start_time": "2025-04-21T19:12:56.723Z"
   },
   {
    "duration": 90,
    "start_time": "2025-04-21T19:12:57.091Z"
   },
   {
    "duration": 324,
    "start_time": "2025-04-21T19:12:57.182Z"
   },
   {
    "duration": 114,
    "start_time": "2025-04-21T19:12:57.508Z"
   },
   {
    "duration": 416,
    "start_time": "2025-04-21T19:12:57.624Z"
   },
   {
    "duration": 24,
    "start_time": "2025-04-21T19:12:58.041Z"
   },
   {
    "duration": 32,
    "start_time": "2025-04-21T19:12:58.066Z"
   },
   {
    "duration": 12,
    "start_time": "2025-04-21T19:12:58.100Z"
   },
   {
    "duration": 288,
    "start_time": "2025-04-21T19:12:58.113Z"
   },
   {
    "duration": 277,
    "start_time": "2025-04-21T19:12:58.403Z"
   },
   {
    "duration": 365,
    "start_time": "2025-04-21T19:12:58.682Z"
   },
   {
    "duration": 26,
    "start_time": "2025-04-21T19:12:59.052Z"
   },
   {
    "duration": 12,
    "start_time": "2025-04-21T19:12:59.080Z"
   },
   {
    "duration": 122,
    "start_time": "2025-04-21T19:12:59.094Z"
   },
   {
    "duration": 17,
    "start_time": "2025-04-21T19:12:59.218Z"
   },
   {
    "duration": 83,
    "start_time": "2025-04-21T19:12:59.236Z"
   },
   {
    "duration": 10,
    "start_time": "2025-04-21T19:12:59.321Z"
   },
   {
    "duration": 12,
    "start_time": "2025-04-21T19:12:59.333Z"
   },
   {
    "duration": 1788,
    "start_time": "2025-04-21T19:12:59.362Z"
   },
   {
    "duration": 30,
    "start_time": "2025-04-21T19:13:01.152Z"
   },
   {
    "duration": 3719,
    "start_time": "2025-04-21T19:13:01.184Z"
   },
   {
    "duration": 2,
    "start_time": "2025-04-21T19:13:04.905Z"
   },
   {
    "duration": 6,
    "start_time": "2025-04-21T19:13:04.909Z"
   },
   {
    "duration": 16,
    "start_time": "2025-04-21T19:13:04.917Z"
   },
   {
    "duration": 4,
    "start_time": "2025-04-21T19:13:04.935Z"
   },
   {
    "duration": 4,
    "start_time": "2025-04-21T19:13:04.941Z"
   },
   {
    "duration": 23,
    "start_time": "2025-04-21T19:13:04.947Z"
   },
   {
    "duration": 24,
    "start_time": "2025-04-21T19:13:04.972Z"
   },
   {
    "duration": 16,
    "start_time": "2025-04-21T19:13:04.997Z"
   },
   {
    "duration": 4,
    "start_time": "2025-04-21T19:13:05.015Z"
   },
   {
    "duration": 66,
    "start_time": "2025-04-21T19:13:05.020Z"
   },
   {
    "duration": 4,
    "start_time": "2025-04-21T19:14:47.923Z"
   },
   {
    "duration": 120,
    "start_time": "2025-04-21T19:15:28.765Z"
   },
   {
    "duration": 4,
    "start_time": "2025-04-21T19:15:39.254Z"
   },
   {
    "duration": 4,
    "start_time": "2025-04-21T19:15:43.520Z"
   },
   {
    "duration": 2,
    "start_time": "2025-04-21T19:16:33.976Z"
   },
   {
    "duration": 52,
    "start_time": "2025-04-21T19:16:53.698Z"
   },
   {
    "duration": 1555,
    "start_time": "2025-04-21T19:16:59.859Z"
   },
   {
    "duration": 940,
    "start_time": "2025-04-21T19:17:01.416Z"
   },
   {
    "duration": 17,
    "start_time": "2025-04-21T19:17:02.358Z"
   },
   {
    "duration": 168,
    "start_time": "2025-04-21T19:17:02.377Z"
   },
   {
    "duration": 34,
    "start_time": "2025-04-21T19:17:02.546Z"
   },
   {
    "duration": 6,
    "start_time": "2025-04-21T19:17:02.582Z"
   },
   {
    "duration": 44,
    "start_time": "2025-04-21T19:17:02.589Z"
   },
   {
    "duration": 387,
    "start_time": "2025-04-21T19:17:02.635Z"
   },
   {
    "duration": 121,
    "start_time": "2025-04-21T19:17:03.023Z"
   },
   {
    "duration": 25,
    "start_time": "2025-04-21T19:17:03.147Z"
   },
   {
    "duration": 46,
    "start_time": "2025-04-21T19:17:03.173Z"
   },
   {
    "duration": 124,
    "start_time": "2025-04-21T19:17:03.220Z"
   },
   {
    "duration": 334,
    "start_time": "2025-04-21T19:17:03.346Z"
   },
   {
    "duration": 26,
    "start_time": "2025-04-21T19:17:03.681Z"
   },
   {
    "duration": 72,
    "start_time": "2025-04-21T19:17:03.708Z"
   },
   {
    "duration": 111,
    "start_time": "2025-04-21T19:17:03.782Z"
   },
   {
    "duration": 361,
    "start_time": "2025-04-21T19:17:03.895Z"
   },
   {
    "duration": 73,
    "start_time": "2025-04-21T19:17:04.263Z"
   },
   {
    "duration": 290,
    "start_time": "2025-04-21T19:17:04.337Z"
   },
   {
    "duration": 113,
    "start_time": "2025-04-21T19:17:04.629Z"
   },
   {
    "duration": 457,
    "start_time": "2025-04-21T19:17:04.744Z"
   },
   {
    "duration": 11,
    "start_time": "2025-04-21T19:17:05.202Z"
   },
   {
    "duration": 51,
    "start_time": "2025-04-21T19:17:05.215Z"
   },
   {
    "duration": 12,
    "start_time": "2025-04-21T19:17:05.268Z"
   },
   {
    "duration": 303,
    "start_time": "2025-04-21T19:17:05.282Z"
   },
   {
    "duration": 281,
    "start_time": "2025-04-21T19:17:05.587Z"
   },
   {
    "duration": 350,
    "start_time": "2025-04-21T19:17:05.870Z"
   },
   {
    "duration": 23,
    "start_time": "2025-04-21T19:17:06.224Z"
   },
   {
    "duration": 45,
    "start_time": "2025-04-21T19:17:06.249Z"
   },
   {
    "duration": 140,
    "start_time": "2025-04-21T19:17:06.296Z"
   },
   {
    "duration": 25,
    "start_time": "2025-04-21T19:17:06.438Z"
   },
   {
    "duration": 71,
    "start_time": "2025-04-21T19:17:06.465Z"
   },
   {
    "duration": 25,
    "start_time": "2025-04-21T19:17:06.538Z"
   },
   {
    "duration": 24,
    "start_time": "2025-04-21T19:17:06.564Z"
   },
   {
    "duration": 1840,
    "start_time": "2025-04-21T19:17:06.590Z"
   },
   {
    "duration": 31,
    "start_time": "2025-04-21T19:17:08.432Z"
   },
   {
    "duration": 3581,
    "start_time": "2025-04-21T19:17:08.465Z"
   },
   {
    "duration": 2,
    "start_time": "2025-04-21T19:17:12.048Z"
   },
   {
    "duration": 11,
    "start_time": "2025-04-21T19:17:12.051Z"
   },
   {
    "duration": 3,
    "start_time": "2025-04-21T19:17:12.064Z"
   },
   {
    "duration": 7,
    "start_time": "2025-04-21T19:17:12.068Z"
   },
   {
    "duration": 12,
    "start_time": "2025-04-21T19:17:12.077Z"
   },
   {
    "duration": 15,
    "start_time": "2025-04-21T19:17:12.091Z"
   },
   {
    "duration": 5,
    "start_time": "2025-04-21T19:17:12.107Z"
   },
   {
    "duration": 4,
    "start_time": "2025-04-21T19:17:12.113Z"
   },
   {
    "duration": 4,
    "start_time": "2025-04-21T19:17:12.119Z"
   },
   {
    "duration": 4,
    "start_time": "2025-04-21T19:17:12.124Z"
   },
   {
    "duration": 8,
    "start_time": "2025-04-21T19:17:12.130Z"
   },
   {
    "duration": 4,
    "start_time": "2025-04-21T19:17:12.140Z"
   },
   {
    "duration": 444922,
    "start_time": "2025-04-21T19:17:12.146Z"
   },
   {
    "duration": 1527,
    "start_time": "2025-04-21T19:39:44.979Z"
   },
   {
    "duration": 931,
    "start_time": "2025-04-21T19:39:46.508Z"
   },
   {
    "duration": 25,
    "start_time": "2025-04-21T19:39:47.441Z"
   },
   {
    "duration": 157,
    "start_time": "2025-04-21T19:39:47.469Z"
   },
   {
    "duration": 48,
    "start_time": "2025-04-21T19:39:47.628Z"
   },
   {
    "duration": 9,
    "start_time": "2025-04-21T19:39:47.678Z"
   },
   {
    "duration": 6,
    "start_time": "2025-04-21T19:39:47.688Z"
   },
   {
    "duration": 384,
    "start_time": "2025-04-21T19:39:47.695Z"
   },
   {
    "duration": 121,
    "start_time": "2025-04-21T19:39:48.081Z"
   },
   {
    "duration": 12,
    "start_time": "2025-04-21T19:39:48.205Z"
   },
   {
    "duration": 61,
    "start_time": "2025-04-21T19:39:48.219Z"
   },
   {
    "duration": 116,
    "start_time": "2025-04-21T19:39:48.282Z"
   },
   {
    "duration": 348,
    "start_time": "2025-04-21T19:39:48.400Z"
   },
   {
    "duration": 35,
    "start_time": "2025-04-21T19:39:48.750Z"
   },
   {
    "duration": 56,
    "start_time": "2025-04-21T19:39:48.786Z"
   },
   {
    "duration": 126,
    "start_time": "2025-04-21T19:39:48.844Z"
   },
   {
    "duration": 375,
    "start_time": "2025-04-21T19:39:48.972Z"
   },
   {
    "duration": 82,
    "start_time": "2025-04-21T19:39:49.348Z"
   },
   {
    "duration": 291,
    "start_time": "2025-04-21T19:39:49.432Z"
   },
   {
    "duration": 113,
    "start_time": "2025-04-21T19:39:49.724Z"
   },
   {
    "duration": 429,
    "start_time": "2025-04-21T19:39:49.839Z"
   },
   {
    "duration": 10,
    "start_time": "2025-04-21T19:39:50.270Z"
   },
   {
    "duration": 63,
    "start_time": "2025-04-21T19:39:50.282Z"
   },
   {
    "duration": 12,
    "start_time": "2025-04-21T19:39:50.347Z"
   },
   {
    "duration": 276,
    "start_time": "2025-04-21T19:39:50.361Z"
   },
   {
    "duration": 268,
    "start_time": "2025-04-21T19:39:50.639Z"
   },
   {
    "duration": 359,
    "start_time": "2025-04-21T19:39:50.909Z"
   },
   {
    "duration": 22,
    "start_time": "2025-04-21T19:39:51.272Z"
   },
   {
    "duration": 27,
    "start_time": "2025-04-21T19:39:51.296Z"
   },
   {
    "duration": 139,
    "start_time": "2025-04-21T19:39:51.324Z"
   },
   {
    "duration": 38,
    "start_time": "2025-04-21T19:39:51.465Z"
   },
   {
    "duration": 80,
    "start_time": "2025-04-21T19:39:51.505Z"
   },
   {
    "duration": 11,
    "start_time": "2025-04-21T19:39:51.587Z"
   },
   {
    "duration": 31,
    "start_time": "2025-04-21T19:39:51.600Z"
   },
   {
    "duration": 1784,
    "start_time": "2025-04-21T19:39:51.633Z"
   },
   {
    "duration": 29,
    "start_time": "2025-04-21T19:39:53.419Z"
   },
   {
    "duration": 4003,
    "start_time": "2025-04-21T19:39:53.449Z"
   },
   {
    "duration": 119110,
    "start_time": "2025-04-21T19:39:57.454Z"
   },
   {
    "duration": 4,
    "start_time": "2025-04-21T19:41:56.566Z"
   },
   {
    "duration": 27998,
    "start_time": "2025-04-21T19:41:56.571Z"
   },
   {
    "duration": 392,
    "start_time": "2025-04-21T19:42:24.571Z"
   },
   {
    "duration": 5,
    "start_time": "2025-04-21T19:42:24.965Z"
   },
   {
    "duration": 791992,
    "start_time": "2025-04-21T19:42:24.972Z"
   },
   {
    "duration": 302404,
    "start_time": "2025-04-21T19:55:36.967Z"
   },
   {
    "duration": 199,
    "start_time": "2025-04-21T20:00:39.464Z"
   },
   {
    "duration": 98,
    "start_time": "2025-04-21T20:00:39.665Z"
   },
   {
    "duration": 3,
    "start_time": "2025-04-21T20:00:39.765Z"
   },
   {
    "duration": 4,
    "start_time": "2025-04-21T20:00:39.769Z"
   },
   {
    "duration": 14995,
    "start_time": "2025-04-21T20:00:39.775Z"
   },
   {
    "duration": 12903,
    "start_time": "2025-04-21T20:13:15.874Z"
   },
   {
    "duration": 65,
    "start_time": "2025-04-21T20:20:43.942Z"
   },
   {
    "duration": 75,
    "start_time": "2025-04-21T20:21:55.823Z"
   },
   {
    "duration": 138,
    "start_time": "2025-04-21T20:22:10.767Z"
   },
   {
    "duration": 10,
    "start_time": "2025-04-21T20:22:22.767Z"
   },
   {
    "duration": 1440,
    "start_time": "2025-04-21T20:22:28.021Z"
   },
   {
    "duration": 935,
    "start_time": "2025-04-21T20:22:29.462Z"
   },
   {
    "duration": 18,
    "start_time": "2025-04-21T20:22:30.399Z"
   },
   {
    "duration": 165,
    "start_time": "2025-04-21T20:22:30.418Z"
   },
   {
    "duration": 33,
    "start_time": "2025-04-21T20:22:30.585Z"
   },
   {
    "duration": 17,
    "start_time": "2025-04-21T20:22:30.620Z"
   },
   {
    "duration": 13,
    "start_time": "2025-04-21T20:22:30.639Z"
   },
   {
    "duration": 396,
    "start_time": "2025-04-21T20:22:30.654Z"
   },
   {
    "duration": 131,
    "start_time": "2025-04-21T20:22:31.051Z"
   },
   {
    "duration": 35,
    "start_time": "2025-04-21T20:22:31.184Z"
   },
   {
    "duration": 58,
    "start_time": "2025-04-21T20:22:31.221Z"
   },
   {
    "duration": 116,
    "start_time": "2025-04-21T20:22:31.280Z"
   },
   {
    "duration": 371,
    "start_time": "2025-04-21T20:22:31.398Z"
   },
   {
    "duration": 26,
    "start_time": "2025-04-21T20:22:31.772Z"
   },
   {
    "duration": 82,
    "start_time": "2025-04-21T20:22:31.800Z"
   },
   {
    "duration": 116,
    "start_time": "2025-04-21T20:22:31.884Z"
   },
   {
    "duration": 386,
    "start_time": "2025-04-21T20:22:32.002Z"
   },
   {
    "duration": 83,
    "start_time": "2025-04-21T20:22:32.389Z"
   },
   {
    "duration": 285,
    "start_time": "2025-04-21T20:22:32.474Z"
   },
   {
    "duration": 113,
    "start_time": "2025-04-21T20:22:32.762Z"
   },
   {
    "duration": 426,
    "start_time": "2025-04-21T20:22:32.877Z"
   },
   {
    "duration": 11,
    "start_time": "2025-04-21T20:22:33.305Z"
   },
   {
    "duration": 51,
    "start_time": "2025-04-21T20:22:33.317Z"
   },
   {
    "duration": 13,
    "start_time": "2025-04-21T20:22:33.370Z"
   },
   {
    "duration": 285,
    "start_time": "2025-04-21T20:22:33.384Z"
   },
   {
    "duration": 286,
    "start_time": "2025-04-21T20:22:33.671Z"
   },
   {
    "duration": 347,
    "start_time": "2025-04-21T20:22:33.961Z"
   },
   {
    "duration": 21,
    "start_time": "2025-04-21T20:22:34.310Z"
   },
   {
    "duration": 16,
    "start_time": "2025-04-21T20:22:34.333Z"
   },
   {
    "duration": 113,
    "start_time": "2025-04-21T20:22:34.363Z"
   },
   {
    "duration": 54,
    "start_time": "2025-04-21T20:22:34.478Z"
   },
   {
    "duration": 70,
    "start_time": "2025-04-21T20:22:34.534Z"
   },
   {
    "duration": 10,
    "start_time": "2025-04-21T20:22:34.606Z"
   },
   {
    "duration": 11,
    "start_time": "2025-04-21T20:22:34.618Z"
   },
   {
    "duration": 1787,
    "start_time": "2025-04-21T20:22:34.631Z"
   },
   {
    "duration": 27,
    "start_time": "2025-04-21T20:22:36.419Z"
   },
   {
    "duration": 3282,
    "start_time": "2025-04-21T20:22:36.448Z"
   },
   {
    "duration": 1461,
    "start_time": "2025-04-21T20:23:10.334Z"
   },
   {
    "duration": 860,
    "start_time": "2025-04-21T20:23:11.797Z"
   },
   {
    "duration": 17,
    "start_time": "2025-04-21T20:23:12.662Z"
   },
   {
    "duration": 160,
    "start_time": "2025-04-21T20:23:12.680Z"
   },
   {
    "duration": 31,
    "start_time": "2025-04-21T20:23:12.842Z"
   },
   {
    "duration": 2,
    "start_time": "2025-04-21T20:23:12.875Z"
   },
   {
    "duration": 11,
    "start_time": "2025-04-21T20:23:12.879Z"
   },
   {
    "duration": 379,
    "start_time": "2025-04-21T20:23:12.892Z"
   },
   {
    "duration": 115,
    "start_time": "2025-04-21T20:23:13.273Z"
   },
   {
    "duration": 25,
    "start_time": "2025-04-21T20:23:13.389Z"
   },
   {
    "duration": 52,
    "start_time": "2025-04-21T20:23:13.416Z"
   },
   {
    "duration": 116,
    "start_time": "2025-04-21T20:23:13.469Z"
   },
   {
    "duration": 330,
    "start_time": "2025-04-21T20:23:13.587Z"
   },
   {
    "duration": 26,
    "start_time": "2025-04-21T20:23:13.920Z"
   },
   {
    "duration": 66,
    "start_time": "2025-04-21T20:23:13.948Z"
   },
   {
    "duration": 118,
    "start_time": "2025-04-21T20:23:14.016Z"
   },
   {
    "duration": 364,
    "start_time": "2025-04-21T20:23:14.136Z"
   },
   {
    "duration": 82,
    "start_time": "2025-04-21T20:23:14.501Z"
   },
   {
    "duration": 282,
    "start_time": "2025-04-21T20:23:14.585Z"
   },
   {
    "duration": 134,
    "start_time": "2025-04-21T20:23:14.869Z"
   },
   {
    "duration": 439,
    "start_time": "2025-04-21T20:23:15.005Z"
   },
   {
    "duration": 20,
    "start_time": "2025-04-21T20:23:15.445Z"
   },
   {
    "duration": 38,
    "start_time": "2025-04-21T20:23:15.466Z"
   },
   {
    "duration": 11,
    "start_time": "2025-04-21T20:23:15.506Z"
   },
   {
    "duration": 307,
    "start_time": "2025-04-21T20:23:15.519Z"
   },
   {
    "duration": 377,
    "start_time": "2025-04-21T20:23:15.828Z"
   },
   {
    "duration": 416,
    "start_time": "2025-04-21T20:23:16.207Z"
   },
   {
    "duration": 21,
    "start_time": "2025-04-21T20:23:16.625Z"
   },
   {
    "duration": 19,
    "start_time": "2025-04-21T20:23:16.648Z"
   },
   {
    "duration": 120,
    "start_time": "2025-04-21T20:23:16.669Z"
   },
   {
    "duration": 15,
    "start_time": "2025-04-21T20:23:16.791Z"
   },
   {
    "duration": 82,
    "start_time": "2025-04-21T20:23:16.808Z"
   },
   {
    "duration": 11,
    "start_time": "2025-04-21T20:23:16.892Z"
   },
   {
    "duration": 13,
    "start_time": "2025-04-21T20:23:16.904Z"
   },
   {
    "duration": 1750,
    "start_time": "2025-04-21T20:23:16.919Z"
   },
   {
    "duration": 27,
    "start_time": "2025-04-21T20:23:18.671Z"
   },
   {
    "duration": 3468,
    "start_time": "2025-04-21T20:23:18.700Z"
   },
   {
    "duration": 3,
    "start_time": "2025-04-21T20:23:22.169Z"
   },
   {
    "duration": 14,
    "start_time": "2025-04-21T20:23:22.173Z"
   },
   {
    "duration": 20,
    "start_time": "2025-04-21T20:23:22.189Z"
   },
   {
    "duration": 12,
    "start_time": "2025-04-21T20:23:22.213Z"
   },
   {
    "duration": 4,
    "start_time": "2025-04-21T20:23:22.227Z"
   },
   {
    "duration": 20,
    "start_time": "2025-04-21T20:23:22.232Z"
   },
   {
    "duration": 9,
    "start_time": "2025-04-21T20:23:22.253Z"
   },
   {
    "duration": 13,
    "start_time": "2025-04-21T20:23:22.263Z"
   },
   {
    "duration": 3,
    "start_time": "2025-04-21T20:23:22.278Z"
   },
   {
    "duration": 4,
    "start_time": "2025-04-21T20:23:22.283Z"
   },
   {
    "duration": 4,
    "start_time": "2025-04-21T20:23:22.288Z"
   },
   {
    "duration": 1491,
    "start_time": "2025-04-21T20:23:35.853Z"
   },
   {
    "duration": 892,
    "start_time": "2025-04-21T20:23:37.347Z"
   },
   {
    "duration": 25,
    "start_time": "2025-04-21T20:23:38.240Z"
   },
   {
    "duration": 163,
    "start_time": "2025-04-21T20:23:38.267Z"
   },
   {
    "duration": 37,
    "start_time": "2025-04-21T20:23:38.432Z"
   },
   {
    "duration": 62,
    "start_time": "2025-04-21T20:23:38.471Z"
   },
   {
    "duration": 41,
    "start_time": "2025-04-21T20:23:38.535Z"
   },
   {
    "duration": 383,
    "start_time": "2025-04-21T20:23:38.578Z"
   },
   {
    "duration": 117,
    "start_time": "2025-04-21T20:23:38.963Z"
   },
   {
    "duration": 15,
    "start_time": "2025-04-21T20:23:39.081Z"
   },
   {
    "duration": 71,
    "start_time": "2025-04-21T20:23:39.098Z"
   },
   {
    "duration": 116,
    "start_time": "2025-04-21T20:23:39.171Z"
   },
   {
    "duration": 348,
    "start_time": "2025-04-21T20:23:39.288Z"
   },
   {
    "duration": 35,
    "start_time": "2025-04-21T20:23:39.640Z"
   },
   {
    "duration": 83,
    "start_time": "2025-04-21T20:23:39.677Z"
   },
   {
    "duration": 114,
    "start_time": "2025-04-21T20:23:39.762Z"
   },
   {
    "duration": 378,
    "start_time": "2025-04-21T20:23:39.878Z"
   },
   {
    "duration": 75,
    "start_time": "2025-04-21T20:23:40.263Z"
   },
   {
    "duration": 294,
    "start_time": "2025-04-21T20:23:40.339Z"
   },
   {
    "duration": 111,
    "start_time": "2025-04-21T20:23:40.635Z"
   },
   {
    "duration": 420,
    "start_time": "2025-04-21T20:23:40.748Z"
   },
   {
    "duration": 11,
    "start_time": "2025-04-21T20:23:41.170Z"
   },
   {
    "duration": 33,
    "start_time": "2025-04-21T20:23:41.182Z"
   },
   {
    "duration": 13,
    "start_time": "2025-04-21T20:23:41.217Z"
   },
   {
    "duration": 297,
    "start_time": "2025-04-21T20:23:41.231Z"
   },
   {
    "duration": 265,
    "start_time": "2025-04-21T20:23:41.530Z"
   },
   {
    "duration": 336,
    "start_time": "2025-04-21T20:23:41.797Z"
   },
   {
    "duration": 30,
    "start_time": "2025-04-21T20:23:42.135Z"
   },
   {
    "duration": 12,
    "start_time": "2025-04-21T20:23:42.166Z"
   },
   {
    "duration": 120,
    "start_time": "2025-04-21T20:23:42.179Z"
   },
   {
    "duration": 15,
    "start_time": "2025-04-21T20:23:42.301Z"
   },
   {
    "duration": 78,
    "start_time": "2025-04-21T20:23:42.317Z"
   },
   {
    "duration": 11,
    "start_time": "2025-04-21T20:23:42.397Z"
   },
   {
    "duration": 12,
    "start_time": "2025-04-21T20:23:42.410Z"
   },
   {
    "duration": 1742,
    "start_time": "2025-04-21T20:23:42.424Z"
   },
   {
    "duration": 24,
    "start_time": "2025-04-21T20:23:44.168Z"
   },
   {
    "duration": 3398,
    "start_time": "2025-04-21T20:23:44.194Z"
   },
   {
    "duration": 2,
    "start_time": "2025-04-21T20:23:47.593Z"
   },
   {
    "duration": 4,
    "start_time": "2025-04-21T20:23:47.597Z"
   },
   {
    "duration": 2,
    "start_time": "2025-04-21T20:23:47.603Z"
   },
   {
    "duration": 2,
    "start_time": "2025-04-21T20:23:47.609Z"
   },
   {
    "duration": 3,
    "start_time": "2025-04-21T20:23:47.612Z"
   },
   {
    "duration": 4,
    "start_time": "2025-04-21T20:23:47.616Z"
   },
   {
    "duration": 8,
    "start_time": "2025-04-21T20:23:47.621Z"
   },
   {
    "duration": 11,
    "start_time": "2025-04-21T20:23:47.630Z"
   },
   {
    "duration": 34,
    "start_time": "2025-04-21T20:23:47.663Z"
   },
   {
    "duration": 5,
    "start_time": "2025-04-21T20:23:47.699Z"
   },
   {
    "duration": 9,
    "start_time": "2025-04-21T20:23:47.706Z"
   },
   {
    "duration": 13355,
    "start_time": "2025-04-21T20:23:47.716Z"
   },
   {
    "duration": 1477,
    "start_time": "2025-04-21T20:24:12.661Z"
   },
   {
    "duration": 895,
    "start_time": "2025-04-21T20:24:14.140Z"
   },
   {
    "duration": 26,
    "start_time": "2025-04-21T20:24:15.037Z"
   },
   {
    "duration": 164,
    "start_time": "2025-04-21T20:24:15.065Z"
   },
   {
    "duration": 31,
    "start_time": "2025-04-21T20:24:15.232Z"
   },
   {
    "duration": 35,
    "start_time": "2025-04-21T20:24:15.264Z"
   },
   {
    "duration": 33,
    "start_time": "2025-04-21T20:24:15.301Z"
   },
   {
    "duration": 387,
    "start_time": "2025-04-21T20:24:15.336Z"
   },
   {
    "duration": 127,
    "start_time": "2025-04-21T20:24:15.725Z"
   },
   {
    "duration": 14,
    "start_time": "2025-04-21T20:24:15.862Z"
   },
   {
    "duration": 46,
    "start_time": "2025-04-21T20:24:15.878Z"
   },
   {
    "duration": 127,
    "start_time": "2025-04-21T20:24:15.926Z"
   },
   {
    "duration": 332,
    "start_time": "2025-04-21T20:24:16.062Z"
   },
   {
    "duration": 28,
    "start_time": "2025-04-21T20:24:16.398Z"
   },
   {
    "duration": 70,
    "start_time": "2025-04-21T20:24:16.428Z"
   },
   {
    "duration": 116,
    "start_time": "2025-04-21T20:24:16.499Z"
   },
   {
    "duration": 365,
    "start_time": "2025-04-21T20:24:16.616Z"
   },
   {
    "duration": 81,
    "start_time": "2025-04-21T20:24:16.983Z"
   },
   {
    "duration": 325,
    "start_time": "2025-04-21T20:24:17.066Z"
   },
   {
    "duration": 113,
    "start_time": "2025-04-21T20:24:17.392Z"
   },
   {
    "duration": 408,
    "start_time": "2025-04-21T20:24:17.506Z"
   },
   {
    "duration": 10,
    "start_time": "2025-04-21T20:24:17.916Z"
   },
   {
    "duration": 50,
    "start_time": "2025-04-21T20:24:17.927Z"
   },
   {
    "duration": 12,
    "start_time": "2025-04-21T20:24:17.978Z"
   },
   {
    "duration": 272,
    "start_time": "2025-04-21T20:24:17.991Z"
   },
   {
    "duration": 271,
    "start_time": "2025-04-21T20:24:18.264Z"
   },
   {
    "duration": 347,
    "start_time": "2025-04-21T20:24:18.537Z"
   },
   {
    "duration": 22,
    "start_time": "2025-04-21T20:24:18.886Z"
   },
   {
    "duration": 13,
    "start_time": "2025-04-21T20:24:18.909Z"
   },
   {
    "duration": 130,
    "start_time": "2025-04-21T20:24:18.923Z"
   },
   {
    "duration": 19,
    "start_time": "2025-04-21T20:24:19.055Z"
   },
   {
    "duration": 68,
    "start_time": "2025-04-21T20:24:19.076Z"
   },
   {
    "duration": 25,
    "start_time": "2025-04-21T20:24:19.145Z"
   },
   {
    "duration": 11,
    "start_time": "2025-04-21T20:24:19.172Z"
   },
   {
    "duration": 1771,
    "start_time": "2025-04-21T20:24:19.185Z"
   },
   {
    "duration": 31,
    "start_time": "2025-04-21T20:24:20.958Z"
   },
   {
    "duration": 3588,
    "start_time": "2025-04-21T20:24:20.991Z"
   },
   {
    "duration": 3,
    "start_time": "2025-04-21T20:24:24.580Z"
   },
   {
    "duration": 4,
    "start_time": "2025-04-21T20:24:24.585Z"
   },
   {
    "duration": 4,
    "start_time": "2025-04-21T20:24:24.591Z"
   },
   {
    "duration": 2,
    "start_time": "2025-04-21T20:24:24.599Z"
   },
   {
    "duration": 4,
    "start_time": "2025-04-21T20:24:24.603Z"
   },
   {
    "duration": 3,
    "start_time": "2025-04-21T20:24:24.609Z"
   },
   {
    "duration": 10,
    "start_time": "2025-04-21T20:24:24.614Z"
   },
   {
    "duration": 4,
    "start_time": "2025-04-21T20:24:24.626Z"
   },
   {
    "duration": 6,
    "start_time": "2025-04-21T20:24:24.632Z"
   },
   {
    "duration": 9,
    "start_time": "2025-04-21T20:24:24.663Z"
   },
   {
    "duration": 5,
    "start_time": "2025-04-21T20:24:24.674Z"
   },
   {
    "duration": 13794,
    "start_time": "2025-04-21T20:24:24.681Z"
   },
   {
    "duration": 49,
    "start_time": "2025-04-21T20:27:52.051Z"
   },
   {
    "duration": 1428,
    "start_time": "2025-04-21T20:30:08.291Z"
   },
   {
    "duration": 913,
    "start_time": "2025-04-21T20:30:09.721Z"
   },
   {
    "duration": 26,
    "start_time": "2025-04-21T20:30:10.636Z"
   },
   {
    "duration": 148,
    "start_time": "2025-04-21T20:30:10.664Z"
   },
   {
    "duration": 29,
    "start_time": "2025-04-21T20:30:10.813Z"
   },
   {
    "duration": 6,
    "start_time": "2025-04-21T20:30:10.844Z"
   },
   {
    "duration": 2,
    "start_time": "2025-04-21T20:30:10.863Z"
   },
   {
    "duration": 374,
    "start_time": "2025-04-21T20:30:10.866Z"
   },
   {
    "duration": 112,
    "start_time": "2025-04-21T20:30:11.242Z"
   },
   {
    "duration": 17,
    "start_time": "2025-04-21T20:30:11.356Z"
   },
   {
    "duration": 40,
    "start_time": "2025-04-21T20:30:11.374Z"
   },
   {
    "duration": 129,
    "start_time": "2025-04-21T20:30:11.416Z"
   },
   {
    "duration": 335,
    "start_time": "2025-04-21T20:30:11.546Z"
   },
   {
    "duration": 27,
    "start_time": "2025-04-21T20:30:11.883Z"
   },
   {
    "duration": 70,
    "start_time": "2025-04-21T20:30:11.911Z"
   },
   {
    "duration": 110,
    "start_time": "2025-04-21T20:30:11.983Z"
   },
   {
    "duration": 350,
    "start_time": "2025-04-21T20:30:12.095Z"
   },
   {
    "duration": 80,
    "start_time": "2025-04-21T20:30:12.446Z"
   },
   {
    "duration": 273,
    "start_time": "2025-04-21T20:30:12.528Z"
   },
   {
    "duration": 108,
    "start_time": "2025-04-21T20:30:12.802Z"
   },
   {
    "duration": 405,
    "start_time": "2025-04-21T20:30:12.911Z"
   },
   {
    "duration": 10,
    "start_time": "2025-04-21T20:30:13.318Z"
   },
   {
    "duration": 55,
    "start_time": "2025-04-21T20:30:13.330Z"
   },
   {
    "duration": 11,
    "start_time": "2025-04-21T20:30:13.387Z"
   },
   {
    "duration": 276,
    "start_time": "2025-04-21T20:30:13.399Z"
   },
   {
    "duration": 264,
    "start_time": "2025-04-21T20:30:13.677Z"
   },
   {
    "duration": 341,
    "start_time": "2025-04-21T20:30:13.943Z"
   },
   {
    "duration": 21,
    "start_time": "2025-04-21T20:30:14.288Z"
   },
   {
    "duration": 11,
    "start_time": "2025-04-21T20:30:14.311Z"
   },
   {
    "duration": 126,
    "start_time": "2025-04-21T20:30:14.324Z"
   },
   {
    "duration": 15,
    "start_time": "2025-04-21T20:30:14.462Z"
   },
   {
    "duration": 62,
    "start_time": "2025-04-21T20:30:14.479Z"
   },
   {
    "duration": 23,
    "start_time": "2025-04-21T20:30:14.543Z"
   },
   {
    "duration": 26,
    "start_time": "2025-04-21T20:30:14.568Z"
   },
   {
    "duration": 1710,
    "start_time": "2025-04-21T20:30:14.596Z"
   },
   {
    "duration": 25,
    "start_time": "2025-04-21T20:30:16.308Z"
   },
   {
    "duration": 3096,
    "start_time": "2025-04-21T20:30:16.335Z"
   },
   {
    "duration": 3,
    "start_time": "2025-04-21T20:30:19.433Z"
   },
   {
    "duration": 8,
    "start_time": "2025-04-21T20:30:19.438Z"
   },
   {
    "duration": 15,
    "start_time": "2025-04-21T20:30:19.447Z"
   },
   {
    "duration": 2,
    "start_time": "2025-04-21T20:30:19.464Z"
   },
   {
    "duration": 17,
    "start_time": "2025-04-21T20:30:19.467Z"
   },
   {
    "duration": 4,
    "start_time": "2025-04-21T20:30:19.485Z"
   },
   {
    "duration": 19,
    "start_time": "2025-04-21T20:30:19.491Z"
   },
   {
    "duration": 20,
    "start_time": "2025-04-21T20:30:19.512Z"
   },
   {
    "duration": 6,
    "start_time": "2025-04-21T20:30:19.534Z"
   },
   {
    "duration": 11,
    "start_time": "2025-04-21T20:30:19.541Z"
   },
   {
    "duration": 6,
    "start_time": "2025-04-21T20:30:19.553Z"
   },
   {
    "duration": 1487,
    "start_time": "2025-04-21T20:30:39.906Z"
   },
   {
    "duration": 883,
    "start_time": "2025-04-21T20:30:41.395Z"
   },
   {
    "duration": 15,
    "start_time": "2025-04-21T20:30:42.280Z"
   },
   {
    "duration": 169,
    "start_time": "2025-04-21T20:30:42.297Z"
   },
   {
    "duration": 32,
    "start_time": "2025-04-21T20:30:42.468Z"
   },
   {
    "duration": 34,
    "start_time": "2025-04-21T20:30:42.502Z"
   },
   {
    "duration": 4,
    "start_time": "2025-04-21T20:30:42.537Z"
   },
   {
    "duration": 372,
    "start_time": "2025-04-21T20:30:42.542Z"
   },
   {
    "duration": 118,
    "start_time": "2025-04-21T20:30:42.915Z"
   },
   {
    "duration": 26,
    "start_time": "2025-04-21T20:30:43.036Z"
   },
   {
    "duration": 44,
    "start_time": "2025-04-21T20:30:43.064Z"
   },
   {
    "duration": 120,
    "start_time": "2025-04-21T20:30:43.110Z"
   },
   {
    "duration": 332,
    "start_time": "2025-04-21T20:30:43.232Z"
   },
   {
    "duration": 25,
    "start_time": "2025-04-21T20:30:43.565Z"
   },
   {
    "duration": 70,
    "start_time": "2025-04-21T20:30:43.592Z"
   },
   {
    "duration": 107,
    "start_time": "2025-04-21T20:30:43.664Z"
   },
   {
    "duration": 355,
    "start_time": "2025-04-21T20:30:43.773Z"
   },
   {
    "duration": 82,
    "start_time": "2025-04-21T20:30:44.130Z"
   },
   {
    "duration": 273,
    "start_time": "2025-04-21T20:30:44.214Z"
   },
   {
    "duration": 112,
    "start_time": "2025-04-21T20:30:44.489Z"
   },
   {
    "duration": 431,
    "start_time": "2025-04-21T20:30:44.603Z"
   },
   {
    "duration": 10,
    "start_time": "2025-04-21T20:30:45.036Z"
   },
   {
    "duration": 48,
    "start_time": "2025-04-21T20:30:45.062Z"
   },
   {
    "duration": 11,
    "start_time": "2025-04-21T20:30:45.112Z"
   },
   {
    "duration": 309,
    "start_time": "2025-04-21T20:30:45.125Z"
   },
   {
    "duration": 268,
    "start_time": "2025-04-21T20:30:45.436Z"
   },
   {
    "duration": 349,
    "start_time": "2025-04-21T20:30:45.706Z"
   },
   {
    "duration": 21,
    "start_time": "2025-04-21T20:30:46.059Z"
   },
   {
    "duration": 11,
    "start_time": "2025-04-21T20:30:46.082Z"
   },
   {
    "duration": 120,
    "start_time": "2025-04-21T20:30:46.095Z"
   },
   {
    "duration": 15,
    "start_time": "2025-04-21T20:30:46.216Z"
   },
   {
    "duration": 83,
    "start_time": "2025-04-21T20:30:46.233Z"
   },
   {
    "duration": 11,
    "start_time": "2025-04-21T20:30:46.318Z"
   },
   {
    "duration": 10,
    "start_time": "2025-04-21T20:30:46.331Z"
   },
   {
    "duration": 1725,
    "start_time": "2025-04-21T20:30:46.343Z"
   },
   {
    "duration": 26,
    "start_time": "2025-04-21T20:30:48.070Z"
   },
   {
    "duration": 3291,
    "start_time": "2025-04-21T20:30:48.097Z"
   },
   {
    "duration": 3,
    "start_time": "2025-04-21T20:30:51.389Z"
   },
   {
    "duration": 15,
    "start_time": "2025-04-21T20:30:51.393Z"
   },
   {
    "duration": 6,
    "start_time": "2025-04-21T20:30:51.409Z"
   },
   {
    "duration": 14,
    "start_time": "2025-04-21T20:30:51.417Z"
   },
   {
    "duration": 25,
    "start_time": "2025-04-21T20:30:51.432Z"
   },
   {
    "duration": 5,
    "start_time": "2025-04-21T20:30:51.459Z"
   },
   {
    "duration": 8,
    "start_time": "2025-04-21T20:30:51.465Z"
   },
   {
    "duration": 4,
    "start_time": "2025-04-21T20:30:51.475Z"
   },
   {
    "duration": 4,
    "start_time": "2025-04-21T20:30:51.481Z"
   },
   {
    "duration": 5,
    "start_time": "2025-04-21T20:30:51.487Z"
   },
   {
    "duration": 5,
    "start_time": "2025-04-21T20:30:51.494Z"
   },
   {
    "duration": 13362,
    "start_time": "2025-04-21T20:30:51.501Z"
   },
   {
    "duration": 1482,
    "start_time": "2025-04-21T20:31:39.028Z"
   },
   {
    "duration": 878,
    "start_time": "2025-04-21T20:31:40.512Z"
   },
   {
    "duration": 17,
    "start_time": "2025-04-21T20:31:41.392Z"
   },
   {
    "duration": 173,
    "start_time": "2025-04-21T20:31:41.411Z"
   },
   {
    "duration": 34,
    "start_time": "2025-04-21T20:31:41.586Z"
   },
   {
    "duration": 3,
    "start_time": "2025-04-21T20:31:41.621Z"
   },
   {
    "duration": 4,
    "start_time": "2025-04-21T20:31:41.626Z"
   },
   {
    "duration": 380,
    "start_time": "2025-04-21T20:31:41.631Z"
   },
   {
    "duration": 113,
    "start_time": "2025-04-21T20:31:42.012Z"
   },
   {
    "duration": 13,
    "start_time": "2025-04-21T20:31:42.126Z"
   },
   {
    "duration": 55,
    "start_time": "2025-04-21T20:31:42.140Z"
   },
   {
    "duration": 116,
    "start_time": "2025-04-21T20:31:42.197Z"
   },
   {
    "duration": 324,
    "start_time": "2025-04-21T20:31:42.315Z"
   },
   {
    "duration": 30,
    "start_time": "2025-04-21T20:31:42.642Z"
   },
   {
    "duration": 54,
    "start_time": "2025-04-21T20:31:42.673Z"
   },
   {
    "duration": 117,
    "start_time": "2025-04-21T20:31:42.729Z"
   },
   {
    "duration": 381,
    "start_time": "2025-04-21T20:31:42.847Z"
   },
   {
    "duration": 79,
    "start_time": "2025-04-21T20:31:43.229Z"
   },
   {
    "duration": 279,
    "start_time": "2025-04-21T20:31:43.310Z"
   },
   {
    "duration": 113,
    "start_time": "2025-04-21T20:31:43.590Z"
   },
   {
    "duration": 415,
    "start_time": "2025-04-21T20:31:43.705Z"
   },
   {
    "duration": 10,
    "start_time": "2025-04-21T20:31:44.121Z"
   },
   {
    "duration": 49,
    "start_time": "2025-04-21T20:31:44.133Z"
   },
   {
    "duration": 12,
    "start_time": "2025-04-21T20:31:44.184Z"
   },
   {
    "duration": 275,
    "start_time": "2025-04-21T20:31:44.198Z"
   },
   {
    "duration": 267,
    "start_time": "2025-04-21T20:31:44.475Z"
   },
   {
    "duration": 355,
    "start_time": "2025-04-21T20:31:44.744Z"
   },
   {
    "duration": 22,
    "start_time": "2025-04-21T20:31:45.101Z"
   },
   {
    "duration": 22,
    "start_time": "2025-04-21T20:31:45.125Z"
   },
   {
    "duration": 116,
    "start_time": "2025-04-21T20:31:45.149Z"
   },
   {
    "duration": 16,
    "start_time": "2025-04-21T20:31:45.267Z"
   },
   {
    "duration": 100,
    "start_time": "2025-04-21T20:31:45.284Z"
   },
   {
    "duration": 11,
    "start_time": "2025-04-21T20:31:45.386Z"
   },
   {
    "duration": 16,
    "start_time": "2025-04-21T20:31:45.398Z"
   },
   {
    "duration": 1668,
    "start_time": "2025-04-21T20:31:45.415Z"
   },
   {
    "duration": 26,
    "start_time": "2025-04-21T20:31:47.084Z"
   },
   {
    "duration": 3182,
    "start_time": "2025-04-21T20:31:47.112Z"
   },
   {
    "duration": 2,
    "start_time": "2025-04-21T20:31:50.296Z"
   },
   {
    "duration": 5,
    "start_time": "2025-04-21T20:31:50.300Z"
   },
   {
    "duration": 3,
    "start_time": "2025-04-21T20:31:50.307Z"
   },
   {
    "duration": 7,
    "start_time": "2025-04-21T20:31:50.313Z"
   },
   {
    "duration": 5,
    "start_time": "2025-04-21T20:31:50.321Z"
   },
   {
    "duration": 9,
    "start_time": "2025-04-21T20:31:50.328Z"
   },
   {
    "duration": 3,
    "start_time": "2025-04-21T20:31:50.338Z"
   },
   {
    "duration": 21,
    "start_time": "2025-04-21T20:31:50.342Z"
   },
   {
    "duration": 3,
    "start_time": "2025-04-21T20:31:50.364Z"
   },
   {
    "duration": 5,
    "start_time": "2025-04-21T20:31:50.368Z"
   },
   {
    "duration": 4,
    "start_time": "2025-04-21T20:31:50.375Z"
   },
   {
    "duration": 1526,
    "start_time": "2025-04-21T20:34:16.530Z"
   },
   {
    "duration": 875,
    "start_time": "2025-04-21T20:34:18.058Z"
   },
   {
    "duration": 27,
    "start_time": "2025-04-21T20:34:18.935Z"
   },
   {
    "duration": 153,
    "start_time": "2025-04-21T20:34:18.964Z"
   },
   {
    "duration": 43,
    "start_time": "2025-04-21T20:34:19.120Z"
   },
   {
    "duration": 12,
    "start_time": "2025-04-21T20:34:19.165Z"
   },
   {
    "duration": 6,
    "start_time": "2025-04-21T20:34:19.179Z"
   },
   {
    "duration": 388,
    "start_time": "2025-04-21T20:34:19.187Z"
   },
   {
    "duration": 114,
    "start_time": "2025-04-21T20:34:19.576Z"
   },
   {
    "duration": 33,
    "start_time": "2025-04-21T20:34:19.692Z"
   },
   {
    "duration": 46,
    "start_time": "2025-04-21T20:34:19.727Z"
   },
   {
    "duration": 122,
    "start_time": "2025-04-21T20:34:19.775Z"
   },
   {
    "duration": 342,
    "start_time": "2025-04-21T20:34:19.899Z"
   },
   {
    "duration": 33,
    "start_time": "2025-04-21T20:34:20.245Z"
   },
   {
    "duration": 69,
    "start_time": "2025-04-21T20:34:20.280Z"
   },
   {
    "duration": 117,
    "start_time": "2025-04-21T20:34:20.351Z"
   },
   {
    "duration": 370,
    "start_time": "2025-04-21T20:34:20.470Z"
   },
   {
    "duration": 87,
    "start_time": "2025-04-21T20:34:20.842Z"
   },
   {
    "duration": 289,
    "start_time": "2025-04-21T20:34:20.931Z"
   },
   {
    "duration": 113,
    "start_time": "2025-04-21T20:34:21.223Z"
   },
   {
    "duration": 458,
    "start_time": "2025-04-21T20:34:21.337Z"
   },
   {
    "duration": 11,
    "start_time": "2025-04-21T20:34:21.797Z"
   },
   {
    "duration": 54,
    "start_time": "2025-04-21T20:34:21.809Z"
   },
   {
    "duration": 12,
    "start_time": "2025-04-21T20:34:21.865Z"
   },
   {
    "duration": 273,
    "start_time": "2025-04-21T20:34:21.879Z"
   },
   {
    "duration": 262,
    "start_time": "2025-04-21T20:34:22.154Z"
   },
   {
    "duration": 338,
    "start_time": "2025-04-21T20:34:22.418Z"
   },
   {
    "duration": 22,
    "start_time": "2025-04-21T20:34:22.762Z"
   },
   {
    "duration": 14,
    "start_time": "2025-04-21T20:34:22.786Z"
   },
   {
    "duration": 116,
    "start_time": "2025-04-21T20:34:22.801Z"
   },
   {
    "duration": 15,
    "start_time": "2025-04-21T20:34:22.919Z"
   },
   {
    "duration": 81,
    "start_time": "2025-04-21T20:34:22.936Z"
   },
   {
    "duration": 10,
    "start_time": "2025-04-21T20:34:23.019Z"
   },
   {
    "duration": 10,
    "start_time": "2025-04-21T20:34:23.030Z"
   },
   {
    "duration": 1744,
    "start_time": "2025-04-21T20:34:23.042Z"
   },
   {
    "duration": 26,
    "start_time": "2025-04-21T20:34:24.787Z"
   },
   {
    "duration": 3179,
    "start_time": "2025-04-21T20:34:24.814Z"
   },
   {
    "duration": 99175,
    "start_time": "2025-04-21T20:34:27.995Z"
   },
   {
    "duration": 92,
    "start_time": "2025-04-21T20:36:07.172Z"
   },
   {
    "duration": 22698,
    "start_time": "2025-04-21T20:36:07.266Z"
   },
   {
    "duration": 296,
    "start_time": "2025-04-21T20:36:29.969Z"
   },
   {
    "duration": 97,
    "start_time": "2025-04-21T20:36:30.267Z"
   },
   {
    "duration": 722401,
    "start_time": "2025-04-21T20:36:30.366Z"
   },
   {
    "duration": 314100,
    "start_time": "2025-04-21T20:48:32.770Z"
   },
   {
    "duration": 211,
    "start_time": "2025-04-21T20:53:46.872Z"
   },
   {
    "duration": 97,
    "start_time": "2025-04-21T20:53:47.164Z"
   },
   {
    "duration": 4,
    "start_time": "2025-04-21T20:53:47.263Z"
   },
   {
    "duration": 4,
    "start_time": "2025-04-21T20:53:47.268Z"
   },
   {
    "duration": 12890,
    "start_time": "2025-04-21T20:53:47.274Z"
   },
   {
    "duration": 13515,
    "start_time": "2025-04-21T20:54:00.166Z"
   },
   {
    "duration": 181,
    "start_time": "2025-04-21T20:54:13.684Z"
   },
   {
    "duration": 7,
    "start_time": "2025-04-21T20:57:14.962Z"
   },
   {
    "duration": 3,
    "start_time": "2025-04-21T21:04:42.556Z"
   },
   {
    "duration": 92,
    "start_time": "2025-04-21T21:04:44.757Z"
   },
   {
    "duration": 3,
    "start_time": "2025-04-21T21:04:55.430Z"
   },
   {
    "duration": 8962,
    "start_time": "2025-04-21T21:04:56.109Z"
   },
   {
    "duration": 9261,
    "start_time": "2025-04-21T21:11:05.908Z"
   },
   {
    "duration": 4327,
    "start_time": "2025-04-21T21:11:15.353Z"
   },
   {
    "duration": 106,
    "start_time": "2025-04-22T05:21:47.509Z"
   },
   {
    "duration": 1722,
    "start_time": "2025-04-22T10:07:06.860Z"
   },
   {
    "duration": 1082,
    "start_time": "2025-04-22T10:07:08.584Z"
   },
   {
    "duration": 18,
    "start_time": "2025-04-22T10:07:09.667Z"
   },
   {
    "duration": 189,
    "start_time": "2025-04-22T10:07:09.688Z"
   },
   {
    "duration": 37,
    "start_time": "2025-04-22T10:07:09.879Z"
   },
   {
    "duration": 160,
    "start_time": "2025-04-22T10:07:09.921Z"
   },
   {
    "duration": 48,
    "start_time": "2025-04-22T10:07:10.083Z"
   },
   {
    "duration": 375,
    "start_time": "2025-04-22T10:07:10.133Z"
   },
   {
    "duration": 127,
    "start_time": "2025-04-22T10:07:10.510Z"
   },
   {
    "duration": 11,
    "start_time": "2025-04-22T10:07:10.640Z"
   },
   {
    "duration": 58,
    "start_time": "2025-04-22T10:07:10.652Z"
   },
   {
    "duration": 121,
    "start_time": "2025-04-22T10:07:10.712Z"
   },
   {
    "duration": 368,
    "start_time": "2025-04-22T10:07:10.835Z"
   },
   {
    "duration": 27,
    "start_time": "2025-04-22T10:07:11.205Z"
   },
   {
    "duration": 72,
    "start_time": "2025-04-22T10:07:11.234Z"
   },
   {
    "duration": 142,
    "start_time": "2025-04-22T10:07:11.309Z"
   },
   {
    "duration": 437,
    "start_time": "2025-04-22T10:07:11.453Z"
   },
   {
    "duration": 88,
    "start_time": "2025-04-22T10:07:11.892Z"
   },
   {
    "duration": 414,
    "start_time": "2025-04-22T10:07:11.982Z"
   },
   {
    "duration": 138,
    "start_time": "2025-04-22T10:07:12.398Z"
   },
   {
    "duration": 441,
    "start_time": "2025-04-22T10:07:12.538Z"
   },
   {
    "duration": 25,
    "start_time": "2025-04-22T10:07:12.980Z"
   },
   {
    "duration": 35,
    "start_time": "2025-04-22T10:07:13.007Z"
   },
   {
    "duration": 12,
    "start_time": "2025-04-22T10:07:13.044Z"
   },
   {
    "duration": 300,
    "start_time": "2025-04-22T10:07:13.058Z"
   },
   {
    "duration": 288,
    "start_time": "2025-04-22T10:07:13.360Z"
   },
   {
    "duration": 408,
    "start_time": "2025-04-22T10:07:13.650Z"
   },
   {
    "duration": 22,
    "start_time": "2025-04-22T10:07:14.062Z"
   },
   {
    "duration": 21,
    "start_time": "2025-04-22T10:07:14.086Z"
   },
   {
    "duration": 148,
    "start_time": "2025-04-22T10:07:14.109Z"
   },
   {
    "duration": 14,
    "start_time": "2025-04-22T10:07:14.259Z"
   },
   {
    "duration": 99,
    "start_time": "2025-04-22T10:07:14.275Z"
   },
   {
    "duration": 12,
    "start_time": "2025-04-22T10:07:14.375Z"
   },
   {
    "duration": 48,
    "start_time": "2025-04-22T10:07:14.389Z"
   },
   {
    "duration": 1968,
    "start_time": "2025-04-22T10:07:14.438Z"
   },
   {
    "duration": 34,
    "start_time": "2025-04-22T10:07:16.409Z"
   },
   {
    "duration": 2628,
    "start_time": "2025-04-22T10:07:16.444Z"
   },
   {
    "duration": 1638,
    "start_time": "2025-04-22T10:10:21.657Z"
   },
   {
    "duration": 0,
    "start_time": "2025-04-22T10:10:23.298Z"
   },
   {
    "duration": 0,
    "start_time": "2025-04-22T10:10:23.300Z"
   },
   {
    "duration": 0,
    "start_time": "2025-04-22T10:10:23.301Z"
   },
   {
    "duration": 0,
    "start_time": "2025-04-22T10:10:23.305Z"
   },
   {
    "duration": 0,
    "start_time": "2025-04-22T10:10:23.306Z"
   },
   {
    "duration": 0,
    "start_time": "2025-04-22T10:10:23.307Z"
   },
   {
    "duration": 0,
    "start_time": "2025-04-22T10:10:23.308Z"
   },
   {
    "duration": 0,
    "start_time": "2025-04-22T10:10:23.309Z"
   },
   {
    "duration": 0,
    "start_time": "2025-04-22T10:10:23.310Z"
   },
   {
    "duration": 0,
    "start_time": "2025-04-22T10:10:23.311Z"
   },
   {
    "duration": 0,
    "start_time": "2025-04-22T10:10:23.313Z"
   },
   {
    "duration": 0,
    "start_time": "2025-04-22T10:10:23.314Z"
   },
   {
    "duration": 0,
    "start_time": "2025-04-22T10:10:23.316Z"
   },
   {
    "duration": 0,
    "start_time": "2025-04-22T10:10:23.318Z"
   },
   {
    "duration": 0,
    "start_time": "2025-04-22T10:10:23.320Z"
   },
   {
    "duration": 0,
    "start_time": "2025-04-22T10:10:23.322Z"
   },
   {
    "duration": 0,
    "start_time": "2025-04-22T10:10:23.324Z"
   },
   {
    "duration": 0,
    "start_time": "2025-04-22T10:10:23.326Z"
   },
   {
    "duration": 0,
    "start_time": "2025-04-22T10:10:23.327Z"
   },
   {
    "duration": 0,
    "start_time": "2025-04-22T10:10:23.328Z"
   },
   {
    "duration": 0,
    "start_time": "2025-04-22T10:10:23.332Z"
   },
   {
    "duration": 0,
    "start_time": "2025-04-22T10:10:23.333Z"
   },
   {
    "duration": 0,
    "start_time": "2025-04-22T10:10:23.335Z"
   },
   {
    "duration": 0,
    "start_time": "2025-04-22T10:10:23.337Z"
   },
   {
    "duration": 0,
    "start_time": "2025-04-22T10:10:23.338Z"
   },
   {
    "duration": 0,
    "start_time": "2025-04-22T10:10:23.340Z"
   },
   {
    "duration": 0,
    "start_time": "2025-04-22T10:10:23.341Z"
   },
   {
    "duration": 0,
    "start_time": "2025-04-22T10:10:23.342Z"
   },
   {
    "duration": 0,
    "start_time": "2025-04-22T10:10:23.343Z"
   },
   {
    "duration": 0,
    "start_time": "2025-04-22T10:10:23.344Z"
   },
   {
    "duration": 0,
    "start_time": "2025-04-22T10:10:23.405Z"
   },
   {
    "duration": 0,
    "start_time": "2025-04-22T10:10:23.407Z"
   },
   {
    "duration": 0,
    "start_time": "2025-04-22T10:10:23.409Z"
   },
   {
    "duration": 0,
    "start_time": "2025-04-22T10:10:23.411Z"
   },
   {
    "duration": 0,
    "start_time": "2025-04-22T10:10:23.413Z"
   },
   {
    "duration": 0,
    "start_time": "2025-04-22T10:10:23.415Z"
   },
   {
    "duration": 0,
    "start_time": "2025-04-22T10:10:23.417Z"
   },
   {
    "duration": 0,
    "start_time": "2025-04-22T10:10:23.419Z"
   },
   {
    "duration": 0,
    "start_time": "2025-04-22T10:10:23.420Z"
   },
   {
    "duration": 0,
    "start_time": "2025-04-22T10:10:23.421Z"
   },
   {
    "duration": 0,
    "start_time": "2025-04-22T10:10:23.422Z"
   },
   {
    "duration": 0,
    "start_time": "2025-04-22T10:10:23.424Z"
   },
   {
    "duration": 0,
    "start_time": "2025-04-22T10:10:23.425Z"
   },
   {
    "duration": 0,
    "start_time": "2025-04-22T10:10:23.427Z"
   },
   {
    "duration": 0,
    "start_time": "2025-04-22T10:10:23.428Z"
   },
   {
    "duration": 0,
    "start_time": "2025-04-22T10:10:23.429Z"
   },
   {
    "duration": 0,
    "start_time": "2025-04-22T10:10:23.431Z"
   },
   {
    "duration": 0,
    "start_time": "2025-04-22T10:10:23.432Z"
   },
   {
    "duration": 0,
    "start_time": "2025-04-22T10:10:23.433Z"
   },
   {
    "duration": 0,
    "start_time": "2025-04-22T10:10:23.434Z"
   },
   {
    "duration": 0,
    "start_time": "2025-04-22T10:10:23.435Z"
   },
   {
    "duration": 3236,
    "start_time": "2025-04-22T10:13:30.505Z"
   },
   {
    "duration": 2164,
    "start_time": "2025-04-22T10:13:33.742Z"
   },
   {
    "duration": 18,
    "start_time": "2025-04-22T10:13:35.908Z"
   },
   {
    "duration": 377,
    "start_time": "2025-04-22T10:13:35.928Z"
   },
   {
    "duration": 32,
    "start_time": "2025-04-22T10:13:36.308Z"
   },
   {
    "duration": 64,
    "start_time": "2025-04-22T10:13:36.343Z"
   },
   {
    "duration": 46,
    "start_time": "2025-04-22T10:13:36.409Z"
   },
   {
    "duration": 790,
    "start_time": "2025-04-22T10:13:36.457Z"
   },
   {
    "duration": 280,
    "start_time": "2025-04-22T10:13:37.249Z"
   },
   {
    "duration": 74,
    "start_time": "2025-04-22T10:13:37.533Z"
   },
   {
    "duration": 99,
    "start_time": "2025-04-22T10:13:37.610Z"
   },
   {
    "duration": 223,
    "start_time": "2025-04-22T10:13:37.711Z"
   },
   {
    "duration": 878,
    "start_time": "2025-04-22T10:13:37.936Z"
   },
   {
    "duration": 28,
    "start_time": "2025-04-22T10:13:38.815Z"
   },
   {
    "duration": 177,
    "start_time": "2025-04-22T10:13:38.844Z"
   },
   {
    "duration": 288,
    "start_time": "2025-04-22T10:13:39.023Z"
   },
   {
    "duration": 807,
    "start_time": "2025-04-22T10:13:39.313Z"
   },
   {
    "duration": 119,
    "start_time": "2025-04-22T10:13:40.122Z"
   },
   {
    "duration": 961,
    "start_time": "2025-04-22T10:13:40.244Z"
   },
   {
    "duration": 324,
    "start_time": "2025-04-22T10:13:41.207Z"
   },
   {
    "duration": 1014,
    "start_time": "2025-04-22T10:13:41.533Z"
   },
   {
    "duration": 65,
    "start_time": "2025-04-22T10:13:42.549Z"
   },
   {
    "duration": 103,
    "start_time": "2025-04-22T10:13:42.616Z"
   },
   {
    "duration": 12,
    "start_time": "2025-04-22T10:13:42.721Z"
   },
   {
    "duration": 596,
    "start_time": "2025-04-22T10:13:42.735Z"
   },
   {
    "duration": 506,
    "start_time": "2025-04-22T10:13:43.333Z"
   },
   {
    "duration": 774,
    "start_time": "2025-04-22T10:13:43.841Z"
   },
   {
    "duration": 22,
    "start_time": "2025-04-22T10:13:44.619Z"
   },
   {
    "duration": 69,
    "start_time": "2025-04-22T10:13:44.643Z"
   },
   {
    "duration": 221,
    "start_time": "2025-04-22T10:13:44.714Z"
   },
   {
    "duration": 41,
    "start_time": "2025-04-22T10:13:44.937Z"
   },
   {
    "duration": 75,
    "start_time": "2025-04-22T10:13:44.980Z"
   },
   {
    "duration": 11,
    "start_time": "2025-04-22T10:13:45.056Z"
   },
   {
    "duration": 446,
    "start_time": "2025-04-22T10:13:45.069Z"
   },
   {
    "duration": 190,
    "start_time": "2025-04-22T10:13:45.517Z"
   },
   {
    "duration": 0,
    "start_time": "2025-04-22T10:13:45.709Z"
   },
   {
    "duration": 0,
    "start_time": "2025-04-22T10:13:45.710Z"
   },
   {
    "duration": 0,
    "start_time": "2025-04-22T10:13:45.712Z"
   },
   {
    "duration": 0,
    "start_time": "2025-04-22T10:13:45.713Z"
   },
   {
    "duration": 0,
    "start_time": "2025-04-22T10:13:45.714Z"
   },
   {
    "duration": 0,
    "start_time": "2025-04-22T10:13:45.716Z"
   },
   {
    "duration": 0,
    "start_time": "2025-04-22T10:13:45.717Z"
   },
   {
    "duration": 0,
    "start_time": "2025-04-22T10:13:45.718Z"
   },
   {
    "duration": 0,
    "start_time": "2025-04-22T10:13:45.720Z"
   },
   {
    "duration": 0,
    "start_time": "2025-04-22T10:13:45.721Z"
   },
   {
    "duration": 0,
    "start_time": "2025-04-22T10:13:45.723Z"
   },
   {
    "duration": 0,
    "start_time": "2025-04-22T10:13:45.724Z"
   },
   {
    "duration": 0,
    "start_time": "2025-04-22T10:13:45.725Z"
   },
   {
    "duration": 0,
    "start_time": "2025-04-22T10:13:45.726Z"
   },
   {
    "duration": 0,
    "start_time": "2025-04-22T10:13:45.728Z"
   },
   {
    "duration": 0,
    "start_time": "2025-04-22T10:13:45.729Z"
   },
   {
    "duration": 0,
    "start_time": "2025-04-22T10:13:45.730Z"
   },
   {
    "duration": 3040,
    "start_time": "2025-04-22T10:16:04.205Z"
   },
   {
    "duration": 1958,
    "start_time": "2025-04-22T10:16:07.248Z"
   },
   {
    "duration": 20,
    "start_time": "2025-04-22T10:16:09.208Z"
   },
   {
    "duration": 388,
    "start_time": "2025-04-22T10:16:09.231Z"
   },
   {
    "duration": 86,
    "start_time": "2025-04-22T10:16:09.621Z"
   },
   {
    "duration": 41,
    "start_time": "2025-04-22T10:16:09.708Z"
   },
   {
    "duration": 9,
    "start_time": "2025-04-22T10:16:09.751Z"
   },
   {
    "duration": 850,
    "start_time": "2025-04-22T10:16:09.762Z"
   },
   {
    "duration": 228,
    "start_time": "2025-04-22T10:16:10.614Z"
   },
   {
    "duration": 65,
    "start_time": "2025-04-22T10:16:10.845Z"
   },
   {
    "duration": 103,
    "start_time": "2025-04-22T10:16:10.912Z"
   },
   {
    "duration": 225,
    "start_time": "2025-04-22T10:16:11.017Z"
   },
   {
    "duration": 779,
    "start_time": "2025-04-22T10:16:11.244Z"
   },
   {
    "duration": 83,
    "start_time": "2025-04-22T10:16:12.024Z"
   },
   {
    "duration": 105,
    "start_time": "2025-04-22T10:16:12.108Z"
   },
   {
    "duration": 222,
    "start_time": "2025-04-22T10:16:12.215Z"
   },
   {
    "duration": 1011,
    "start_time": "2025-04-22T10:16:12.439Z"
   },
   {
    "duration": 180,
    "start_time": "2025-04-22T10:16:13.452Z"
   },
   {
    "duration": 600,
    "start_time": "2025-04-22T10:16:13.634Z"
   },
   {
    "duration": 275,
    "start_time": "2025-04-22T10:16:14.236Z"
   },
   {
    "duration": 924,
    "start_time": "2025-04-22T10:16:14.513Z"
   },
   {
    "duration": 73,
    "start_time": "2025-04-22T10:16:15.439Z"
   },
   {
    "duration": 121,
    "start_time": "2025-04-22T10:16:15.514Z"
   },
   {
    "duration": 76,
    "start_time": "2025-04-22T10:16:15.638Z"
   },
   {
    "duration": 604,
    "start_time": "2025-04-22T10:16:15.716Z"
   },
   {
    "duration": 527,
    "start_time": "2025-04-22T10:16:16.322Z"
   },
   {
    "duration": 769,
    "start_time": "2025-04-22T10:16:16.851Z"
   },
   {
    "duration": 23,
    "start_time": "2025-04-22T10:16:17.624Z"
   },
   {
    "duration": 103,
    "start_time": "2025-04-22T10:16:17.648Z"
   },
   {
    "duration": 252,
    "start_time": "2025-04-22T10:16:17.753Z"
   },
   {
    "duration": 28,
    "start_time": "2025-04-22T10:16:18.007Z"
   },
   {
    "duration": 171,
    "start_time": "2025-04-22T10:16:18.037Z"
   },
   {
    "duration": 12,
    "start_time": "2025-04-22T10:16:18.210Z"
   },
   {
    "duration": 32,
    "start_time": "2025-04-22T10:16:18.224Z"
   },
   {
    "duration": 3210,
    "start_time": "2025-04-22T10:17:26.911Z"
   },
   {
    "duration": 2040,
    "start_time": "2025-04-22T10:17:30.123Z"
   },
   {
    "duration": 18,
    "start_time": "2025-04-22T10:17:32.206Z"
   },
   {
    "duration": 379,
    "start_time": "2025-04-22T10:17:32.226Z"
   },
   {
    "duration": 34,
    "start_time": "2025-04-22T10:17:32.608Z"
   },
   {
    "duration": 61,
    "start_time": "2025-04-22T10:17:32.644Z"
   },
   {
    "duration": 26,
    "start_time": "2025-04-22T10:17:32.707Z"
   },
   {
    "duration": 798,
    "start_time": "2025-04-22T10:17:32.735Z"
   },
   {
    "duration": 275,
    "start_time": "2025-04-22T10:17:33.535Z"
   },
   {
    "duration": 13,
    "start_time": "2025-04-22T10:17:33.812Z"
   },
   {
    "duration": 107,
    "start_time": "2025-04-22T10:17:33.827Z"
   },
   {
    "duration": 271,
    "start_time": "2025-04-22T10:17:33.936Z"
   },
   {
    "duration": 737,
    "start_time": "2025-04-22T10:17:34.209Z"
   },
   {
    "duration": 27,
    "start_time": "2025-04-22T10:17:35.005Z"
   },
   {
    "duration": 174,
    "start_time": "2025-04-22T10:17:35.033Z"
   },
   {
    "duration": 216,
    "start_time": "2025-04-22T10:17:35.209Z"
   },
   {
    "duration": 878,
    "start_time": "2025-04-22T10:17:35.427Z"
   },
   {
    "duration": 127,
    "start_time": "2025-04-22T10:17:36.307Z"
   },
   {
    "duration": 609,
    "start_time": "2025-04-22T10:17:36.436Z"
   },
   {
    "duration": 266,
    "start_time": "2025-04-22T10:17:37.047Z"
   },
   {
    "duration": 917,
    "start_time": "2025-04-22T10:17:37.315Z"
   },
   {
    "duration": 11,
    "start_time": "2025-04-22T10:17:38.234Z"
   },
   {
    "duration": 97,
    "start_time": "2025-04-22T10:17:38.246Z"
   },
   {
    "duration": 67,
    "start_time": "2025-04-22T10:17:38.345Z"
   },
   {
    "duration": 591,
    "start_time": "2025-04-22T10:17:38.414Z"
   },
   {
    "duration": 532,
    "start_time": "2025-04-22T10:17:39.007Z"
   },
   {
    "duration": 764,
    "start_time": "2025-04-22T10:17:39.541Z"
   },
   {
    "duration": 23,
    "start_time": "2025-04-22T10:17:40.307Z"
   },
   {
    "duration": 16,
    "start_time": "2025-04-22T10:17:40.332Z"
   },
   {
    "duration": 218,
    "start_time": "2025-04-22T10:17:40.406Z"
   },
   {
    "duration": 15,
    "start_time": "2025-04-22T10:17:40.626Z"
   },
   {
    "duration": 177,
    "start_time": "2025-04-22T10:17:40.643Z"
   },
   {
    "duration": 12,
    "start_time": "2025-04-22T10:17:40.822Z"
   },
   {
    "duration": 84,
    "start_time": "2025-04-22T10:17:40.837Z"
   },
   {
    "duration": 3226,
    "start_time": "2025-04-22T10:18:02.608Z"
   },
   {
    "duration": 1981,
    "start_time": "2025-04-22T10:18:05.836Z"
   },
   {
    "duration": 19,
    "start_time": "2025-04-22T10:18:07.819Z"
   },
   {
    "duration": 392,
    "start_time": "2025-04-22T10:18:07.841Z"
   },
   {
    "duration": 92,
    "start_time": "2025-04-22T10:18:08.236Z"
   },
   {
    "duration": 16,
    "start_time": "2025-04-22T10:18:08.330Z"
   },
   {
    "duration": 58,
    "start_time": "2025-04-22T10:18:08.348Z"
   },
   {
    "duration": 819,
    "start_time": "2025-04-22T10:18:08.408Z"
   },
   {
    "duration": 277,
    "start_time": "2025-04-22T10:18:09.229Z"
   },
   {
    "duration": 47,
    "start_time": "2025-04-22T10:18:09.508Z"
   },
   {
    "duration": 89,
    "start_time": "2025-04-22T10:18:09.557Z"
   },
   {
    "duration": 272,
    "start_time": "2025-04-22T10:18:09.648Z"
   },
   {
    "duration": 790,
    "start_time": "2025-04-22T10:18:09.922Z"
   },
   {
    "duration": 26,
    "start_time": "2025-04-22T10:18:10.715Z"
   },
   {
    "duration": 164,
    "start_time": "2025-04-22T10:18:10.743Z"
   },
   {
    "duration": 214,
    "start_time": "2025-04-22T10:18:10.909Z"
   },
   {
    "duration": 827,
    "start_time": "2025-04-22T10:18:11.125Z"
   },
   {
    "duration": 144,
    "start_time": "2025-04-22T10:18:12.006Z"
   },
   {
    "duration": 783,
    "start_time": "2025-04-22T10:18:12.151Z"
   },
   {
    "duration": 211,
    "start_time": "2025-04-22T10:18:12.936Z"
   },
   {
    "duration": 989,
    "start_time": "2025-04-22T10:18:13.149Z"
   },
   {
    "duration": 66,
    "start_time": "2025-04-22T10:18:14.139Z"
   },
   {
    "duration": 117,
    "start_time": "2025-04-22T10:18:14.207Z"
   },
   {
    "duration": 13,
    "start_time": "2025-04-22T10:18:14.325Z"
   },
   {
    "duration": 693,
    "start_time": "2025-04-22T10:18:14.339Z"
   },
   {
    "duration": 618,
    "start_time": "2025-04-22T10:18:15.034Z"
   },
   {
    "duration": 728,
    "start_time": "2025-04-22T10:18:15.704Z"
   },
   {
    "duration": 84,
    "start_time": "2025-04-22T10:18:16.434Z"
   },
   {
    "duration": 24,
    "start_time": "2025-04-22T10:18:16.521Z"
   },
   {
    "duration": 303,
    "start_time": "2025-04-22T10:18:16.606Z"
   },
   {
    "duration": 16,
    "start_time": "2025-04-22T10:18:16.911Z"
   },
   {
    "duration": 192,
    "start_time": "2025-04-22T10:18:16.928Z"
   },
   {
    "duration": 12,
    "start_time": "2025-04-22T10:18:17.122Z"
   },
   {
    "duration": 76,
    "start_time": "2025-04-22T10:18:17.136Z"
   },
   {
    "duration": 1762,
    "start_time": "2025-04-22T10:20:18.912Z"
   },
   {
    "duration": 957,
    "start_time": "2025-04-22T10:20:20.676Z"
   },
   {
    "duration": 18,
    "start_time": "2025-04-22T10:20:21.635Z"
   },
   {
    "duration": 187,
    "start_time": "2025-04-22T10:20:21.655Z"
   },
   {
    "duration": 30,
    "start_time": "2025-04-22T10:20:21.843Z"
   },
   {
    "duration": 27,
    "start_time": "2025-04-22T10:20:21.875Z"
   },
   {
    "duration": 24,
    "start_time": "2025-04-22T10:20:21.903Z"
   },
   {
    "duration": 555,
    "start_time": "2025-04-22T10:20:21.929Z"
   },
   {
    "duration": 133,
    "start_time": "2025-04-22T10:20:22.486Z"
   },
   {
    "duration": 23,
    "start_time": "2025-04-22T10:20:22.621Z"
   },
   {
    "duration": 68,
    "start_time": "2025-04-22T10:20:22.646Z"
   },
   {
    "duration": 123,
    "start_time": "2025-04-22T10:20:22.716Z"
   },
   {
    "duration": 519,
    "start_time": "2025-04-22T10:20:22.841Z"
   },
   {
    "duration": 27,
    "start_time": "2025-04-22T10:20:23.361Z"
   },
   {
    "duration": 65,
    "start_time": "2025-04-22T10:20:23.389Z"
   },
   {
    "duration": 125,
    "start_time": "2025-04-22T10:20:23.456Z"
   },
   {
    "duration": 477,
    "start_time": "2025-04-22T10:20:23.583Z"
   },
   {
    "duration": 93,
    "start_time": "2025-04-22T10:20:24.062Z"
   },
   {
    "duration": 418,
    "start_time": "2025-04-22T10:20:24.157Z"
   },
   {
    "duration": 132,
    "start_time": "2025-04-22T10:20:24.577Z"
   },
   {
    "duration": 617,
    "start_time": "2025-04-22T10:20:24.711Z"
   },
   {
    "duration": 11,
    "start_time": "2025-04-22T10:20:25.330Z"
   },
   {
    "duration": 37,
    "start_time": "2025-04-22T10:20:25.342Z"
   },
   {
    "duration": 30,
    "start_time": "2025-04-22T10:20:25.380Z"
   },
   {
    "duration": 294,
    "start_time": "2025-04-22T10:20:25.411Z"
   },
   {
    "duration": 284,
    "start_time": "2025-04-22T10:20:25.707Z"
   },
   {
    "duration": 407,
    "start_time": "2025-04-22T10:20:25.993Z"
   },
   {
    "duration": 23,
    "start_time": "2025-04-22T10:20:26.404Z"
   },
   {
    "duration": 38,
    "start_time": "2025-04-22T10:20:26.429Z"
   },
   {
    "duration": 133,
    "start_time": "2025-04-22T10:20:26.469Z"
   },
   {
    "duration": 52,
    "start_time": "2025-04-22T10:20:26.604Z"
   },
   {
    "duration": 99,
    "start_time": "2025-04-22T10:20:26.658Z"
   },
   {
    "duration": 10,
    "start_time": "2025-04-22T10:20:26.759Z"
   },
   {
    "duration": 53,
    "start_time": "2025-04-22T10:20:26.771Z"
   },
   {
    "duration": 146,
    "start_time": "2025-04-22T10:20:26.827Z"
   },
   {
    "duration": 0,
    "start_time": "2025-04-22T10:20:26.975Z"
   },
   {
    "duration": 0,
    "start_time": "2025-04-22T10:20:26.976Z"
   },
   {
    "duration": 0,
    "start_time": "2025-04-22T10:20:26.977Z"
   },
   {
    "duration": 0,
    "start_time": "2025-04-22T10:20:26.978Z"
   },
   {
    "duration": 0,
    "start_time": "2025-04-22T10:20:26.979Z"
   },
   {
    "duration": 0,
    "start_time": "2025-04-22T10:20:26.980Z"
   },
   {
    "duration": 0,
    "start_time": "2025-04-22T10:20:26.981Z"
   },
   {
    "duration": 0,
    "start_time": "2025-04-22T10:20:26.982Z"
   },
   {
    "duration": 0,
    "start_time": "2025-04-22T10:20:26.983Z"
   },
   {
    "duration": 0,
    "start_time": "2025-04-22T10:20:26.983Z"
   },
   {
    "duration": 0,
    "start_time": "2025-04-22T10:20:26.985Z"
   },
   {
    "duration": 0,
    "start_time": "2025-04-22T10:20:27.006Z"
   },
   {
    "duration": 0,
    "start_time": "2025-04-22T10:20:27.007Z"
   },
   {
    "duration": 0,
    "start_time": "2025-04-22T10:20:27.009Z"
   },
   {
    "duration": 0,
    "start_time": "2025-04-22T10:20:27.010Z"
   },
   {
    "duration": 0,
    "start_time": "2025-04-22T10:20:27.012Z"
   },
   {
    "duration": 1,
    "start_time": "2025-04-22T10:20:27.013Z"
   },
   {
    "duration": 1787,
    "start_time": "2025-04-22T10:20:53.038Z"
   },
   {
    "duration": 1013,
    "start_time": "2025-04-22T10:20:54.829Z"
   },
   {
    "duration": 19,
    "start_time": "2025-04-22T10:20:55.844Z"
   },
   {
    "duration": 182,
    "start_time": "2025-04-22T10:20:55.865Z"
   },
   {
    "duration": 34,
    "start_time": "2025-04-22T10:20:56.049Z"
   },
   {
    "duration": 99,
    "start_time": "2025-04-22T10:20:56.085Z"
   },
   {
    "duration": 4,
    "start_time": "2025-04-22T10:20:56.186Z"
   },
   {
    "duration": 395,
    "start_time": "2025-04-22T10:20:56.192Z"
   },
   {
    "duration": 133,
    "start_time": "2025-04-22T10:20:56.589Z"
   },
   {
    "duration": 13,
    "start_time": "2025-04-22T10:20:56.725Z"
   },
   {
    "duration": 50,
    "start_time": "2025-04-22T10:20:56.739Z"
   },
   {
    "duration": 174,
    "start_time": "2025-04-22T10:20:56.791Z"
   },
   {
    "duration": 560,
    "start_time": "2025-04-22T10:20:56.967Z"
   },
   {
    "duration": 33,
    "start_time": "2025-04-22T10:20:57.530Z"
   },
   {
    "duration": 78,
    "start_time": "2025-04-22T10:20:57.564Z"
   },
   {
    "duration": 137,
    "start_time": "2025-04-22T10:20:57.644Z"
   },
   {
    "duration": 480,
    "start_time": "2025-04-22T10:20:57.783Z"
   },
   {
    "duration": 98,
    "start_time": "2025-04-22T10:20:58.266Z"
   },
   {
    "duration": 412,
    "start_time": "2025-04-22T10:20:58.365Z"
   },
   {
    "duration": 126,
    "start_time": "2025-04-22T10:20:58.779Z"
   },
   {
    "duration": 544,
    "start_time": "2025-04-22T10:20:58.908Z"
   },
   {
    "duration": 11,
    "start_time": "2025-04-22T10:20:59.454Z"
   },
   {
    "duration": 63,
    "start_time": "2025-04-22T10:20:59.466Z"
   },
   {
    "duration": 12,
    "start_time": "2025-04-22T10:20:59.531Z"
   },
   {
    "duration": 295,
    "start_time": "2025-04-22T10:20:59.545Z"
   },
   {
    "duration": 280,
    "start_time": "2025-04-22T10:20:59.841Z"
   },
   {
    "duration": 369,
    "start_time": "2025-04-22T10:21:00.125Z"
   },
   {
    "duration": 40,
    "start_time": "2025-04-22T10:21:00.505Z"
   },
   {
    "duration": 29,
    "start_time": "2025-04-22T10:21:00.546Z"
   },
   {
    "duration": 164,
    "start_time": "2025-04-22T10:21:00.577Z"
   },
   {
    "duration": 20,
    "start_time": "2025-04-22T10:21:00.744Z"
   },
   {
    "duration": 104,
    "start_time": "2025-04-22T10:21:00.766Z"
   },
   {
    "duration": 12,
    "start_time": "2025-04-22T10:21:00.871Z"
   },
   {
    "duration": 23,
    "start_time": "2025-04-22T10:21:00.884Z"
   },
   {
    "duration": 237,
    "start_time": "2025-04-22T10:21:00.909Z"
   },
   {
    "duration": 0,
    "start_time": "2025-04-22T10:21:01.148Z"
   },
   {
    "duration": 0,
    "start_time": "2025-04-22T10:21:01.149Z"
   },
   {
    "duration": 0,
    "start_time": "2025-04-22T10:21:01.151Z"
   },
   {
    "duration": 0,
    "start_time": "2025-04-22T10:21:01.152Z"
   },
   {
    "duration": 0,
    "start_time": "2025-04-22T10:21:01.153Z"
   },
   {
    "duration": 0,
    "start_time": "2025-04-22T10:21:01.154Z"
   },
   {
    "duration": 0,
    "start_time": "2025-04-22T10:21:01.155Z"
   },
   {
    "duration": 0,
    "start_time": "2025-04-22T10:21:01.156Z"
   },
   {
    "duration": 0,
    "start_time": "2025-04-22T10:21:01.157Z"
   },
   {
    "duration": 0,
    "start_time": "2025-04-22T10:21:01.158Z"
   },
   {
    "duration": 0,
    "start_time": "2025-04-22T10:21:01.159Z"
   },
   {
    "duration": 0,
    "start_time": "2025-04-22T10:21:01.160Z"
   },
   {
    "duration": 0,
    "start_time": "2025-04-22T10:21:01.161Z"
   },
   {
    "duration": 0,
    "start_time": "2025-04-22T10:21:01.162Z"
   },
   {
    "duration": 0,
    "start_time": "2025-04-22T10:21:01.163Z"
   },
   {
    "duration": 0,
    "start_time": "2025-04-22T10:21:01.164Z"
   },
   {
    "duration": 0,
    "start_time": "2025-04-22T10:21:01.165Z"
   },
   {
    "duration": 675,
    "start_time": "2025-04-22T10:21:27.862Z"
   },
   {
    "duration": 1964,
    "start_time": "2025-04-22T10:23:28.504Z"
   },
   {
    "duration": 963,
    "start_time": "2025-04-22T10:23:30.470Z"
   },
   {
    "duration": 18,
    "start_time": "2025-04-22T10:23:31.435Z"
   },
   {
    "duration": 174,
    "start_time": "2025-04-22T10:23:31.455Z"
   },
   {
    "duration": 31,
    "start_time": "2025-04-22T10:23:31.630Z"
   },
   {
    "duration": 32,
    "start_time": "2025-04-22T10:23:31.670Z"
   },
   {
    "duration": 19,
    "start_time": "2025-04-22T10:23:31.704Z"
   },
   {
    "duration": 398,
    "start_time": "2025-04-22T10:23:31.725Z"
   },
   {
    "duration": 129,
    "start_time": "2025-04-22T10:23:32.125Z"
   },
   {
    "duration": 13,
    "start_time": "2025-04-22T10:23:32.257Z"
   },
   {
    "duration": 59,
    "start_time": "2025-04-22T10:23:32.271Z"
   },
   {
    "duration": 122,
    "start_time": "2025-04-22T10:23:32.332Z"
   },
   {
    "duration": 464,
    "start_time": "2025-04-22T10:23:32.455Z"
   },
   {
    "duration": 33,
    "start_time": "2025-04-22T10:23:32.920Z"
   },
   {
    "duration": 128,
    "start_time": "2025-04-22T10:23:32.954Z"
   },
   {
    "duration": 141,
    "start_time": "2025-04-22T10:23:33.083Z"
   },
   {
    "duration": 526,
    "start_time": "2025-04-22T10:23:33.227Z"
   },
   {
    "duration": 91,
    "start_time": "2025-04-22T10:23:33.755Z"
   },
   {
    "duration": 420,
    "start_time": "2025-04-22T10:23:33.847Z"
   },
   {
    "duration": 121,
    "start_time": "2025-04-22T10:23:34.269Z"
   },
   {
    "duration": 549,
    "start_time": "2025-04-22T10:23:34.392Z"
   },
   {
    "duration": 12,
    "start_time": "2025-04-22T10:23:34.943Z"
   },
   {
    "duration": 70,
    "start_time": "2025-04-22T10:23:34.957Z"
   },
   {
    "duration": 12,
    "start_time": "2025-04-22T10:23:35.029Z"
   },
   {
    "duration": 330,
    "start_time": "2025-04-22T10:23:35.043Z"
   },
   {
    "duration": 311,
    "start_time": "2025-04-22T10:23:35.375Z"
   },
   {
    "duration": 404,
    "start_time": "2025-04-22T10:23:35.688Z"
   },
   {
    "duration": 31,
    "start_time": "2025-04-22T10:23:36.107Z"
   },
   {
    "duration": 112,
    "start_time": "2025-04-22T10:23:36.140Z"
   },
   {
    "duration": 148,
    "start_time": "2025-04-22T10:23:36.254Z"
   },
   {
    "duration": 73,
    "start_time": "2025-04-22T10:23:36.404Z"
   },
   {
    "duration": 85,
    "start_time": "2025-04-22T10:23:36.479Z"
   },
   {
    "duration": 11,
    "start_time": "2025-04-22T10:23:36.566Z"
   },
   {
    "duration": 41,
    "start_time": "2025-04-22T10:23:36.579Z"
   },
   {
    "duration": 626,
    "start_time": "2025-04-22T10:23:36.622Z"
   },
   {
    "duration": 0,
    "start_time": "2025-04-22T10:23:37.250Z"
   },
   {
    "duration": 0,
    "start_time": "2025-04-22T10:23:37.252Z"
   },
   {
    "duration": 0,
    "start_time": "2025-04-22T10:23:37.254Z"
   },
   {
    "duration": 0,
    "start_time": "2025-04-22T10:23:37.255Z"
   },
   {
    "duration": 0,
    "start_time": "2025-04-22T10:23:37.257Z"
   },
   {
    "duration": 0,
    "start_time": "2025-04-22T10:23:37.258Z"
   },
   {
    "duration": 0,
    "start_time": "2025-04-22T10:23:37.260Z"
   },
   {
    "duration": 0,
    "start_time": "2025-04-22T10:23:37.262Z"
   },
   {
    "duration": 0,
    "start_time": "2025-04-22T10:23:37.263Z"
   },
   {
    "duration": 0,
    "start_time": "2025-04-22T10:23:37.265Z"
   },
   {
    "duration": 0,
    "start_time": "2025-04-22T10:23:37.266Z"
   },
   {
    "duration": 0,
    "start_time": "2025-04-22T10:23:37.267Z"
   },
   {
    "duration": 0,
    "start_time": "2025-04-22T10:23:37.268Z"
   },
   {
    "duration": 0,
    "start_time": "2025-04-22T10:23:37.269Z"
   },
   {
    "duration": 0,
    "start_time": "2025-04-22T10:23:37.270Z"
   },
   {
    "duration": 0,
    "start_time": "2025-04-22T10:23:37.271Z"
   },
   {
    "duration": 0,
    "start_time": "2025-04-22T10:23:37.305Z"
   },
   {
    "duration": 588,
    "start_time": "2025-04-22T10:24:11.756Z"
   },
   {
    "duration": 554,
    "start_time": "2025-04-22T10:25:10.611Z"
   },
   {
    "duration": 25,
    "start_time": "2025-04-22T10:25:19.333Z"
   },
   {
    "duration": 13,
    "start_time": "2025-04-22T10:25:20.174Z"
   },
   {
    "duration": 21,
    "start_time": "2025-04-22T10:25:26.766Z"
   },
   {
    "duration": 1756,
    "start_time": "2025-04-22T10:38:59.463Z"
   },
   {
    "duration": 977,
    "start_time": "2025-04-22T10:39:01.221Z"
   },
   {
    "duration": 20,
    "start_time": "2025-04-22T10:39:02.200Z"
   },
   {
    "duration": 217,
    "start_time": "2025-04-22T10:39:02.223Z"
   },
   {
    "duration": 35,
    "start_time": "2025-04-22T10:39:02.442Z"
   },
   {
    "duration": 53,
    "start_time": "2025-04-22T10:39:02.479Z"
   },
   {
    "duration": 14,
    "start_time": "2025-04-22T10:39:02.534Z"
   },
   {
    "duration": 435,
    "start_time": "2025-04-22T10:39:02.549Z"
   },
   {
    "duration": 126,
    "start_time": "2025-04-22T10:39:02.986Z"
   },
   {
    "duration": 13,
    "start_time": "2025-04-22T10:39:03.116Z"
   },
   {
    "duration": 74,
    "start_time": "2025-04-22T10:39:03.131Z"
   },
   {
    "duration": 126,
    "start_time": "2025-04-22T10:39:03.207Z"
   },
   {
    "duration": 463,
    "start_time": "2025-04-22T10:39:03.335Z"
   },
   {
    "duration": 27,
    "start_time": "2025-04-22T10:39:03.805Z"
   },
   {
    "duration": 75,
    "start_time": "2025-04-22T10:39:03.834Z"
   },
   {
    "duration": 150,
    "start_time": "2025-04-22T10:39:03.912Z"
   },
   {
    "duration": 603,
    "start_time": "2025-04-22T10:39:04.064Z"
   },
   {
    "duration": 99,
    "start_time": "2025-04-22T10:39:04.668Z"
   },
   {
    "duration": 417,
    "start_time": "2025-04-22T10:39:04.769Z"
   },
   {
    "duration": 136,
    "start_time": "2025-04-22T10:39:05.188Z"
   },
   {
    "duration": 608,
    "start_time": "2025-04-22T10:39:05.326Z"
   },
   {
    "duration": 11,
    "start_time": "2025-04-22T10:39:05.936Z"
   },
   {
    "duration": 85,
    "start_time": "2025-04-22T10:39:05.949Z"
   },
   {
    "duration": 29,
    "start_time": "2025-04-22T10:39:06.036Z"
   },
   {
    "duration": 328,
    "start_time": "2025-04-22T10:39:06.067Z"
   },
   {
    "duration": 343,
    "start_time": "2025-04-22T10:39:06.397Z"
   },
   {
    "duration": 394,
    "start_time": "2025-04-22T10:39:06.741Z"
   },
   {
    "duration": 23,
    "start_time": "2025-04-22T10:39:07.140Z"
   },
   {
    "duration": 62,
    "start_time": "2025-04-22T10:39:07.164Z"
   },
   {
    "duration": 150,
    "start_time": "2025-04-22T10:39:07.227Z"
   },
   {
    "duration": 41,
    "start_time": "2025-04-22T10:39:07.379Z"
   },
   {
    "duration": 80,
    "start_time": "2025-04-22T10:39:07.422Z"
   },
   {
    "duration": 21,
    "start_time": "2025-04-22T10:39:07.506Z"
   },
   {
    "duration": 44,
    "start_time": "2025-04-22T10:39:07.529Z"
   },
   {
    "duration": 571,
    "start_time": "2025-04-22T10:39:07.574Z"
   },
   {
    "duration": 24,
    "start_time": "2025-04-22T10:39:08.147Z"
   },
   {
    "duration": 16,
    "start_time": "2025-04-22T10:39:08.173Z"
   },
   {
    "duration": 18,
    "start_time": "2025-04-22T10:39:08.190Z"
   },
   {
    "duration": 4,
    "start_time": "2025-04-22T10:39:08.210Z"
   },
   {
    "duration": 3,
    "start_time": "2025-04-22T10:39:08.217Z"
   },
   {
    "duration": 65,
    "start_time": "2025-04-22T10:39:08.223Z"
   },
   {
    "duration": 51,
    "start_time": "2025-04-22T10:39:08.290Z"
   },
   {
    "duration": 4,
    "start_time": "2025-04-22T10:39:08.344Z"
   },
   {
    "duration": 4,
    "start_time": "2025-04-22T10:39:08.350Z"
   },
   {
    "duration": 25,
    "start_time": "2025-04-22T10:39:08.355Z"
   },
   {
    "duration": 6,
    "start_time": "2025-04-22T10:39:08.382Z"
   },
   {
    "duration": 3,
    "start_time": "2025-04-22T10:39:08.390Z"
   },
   {
    "duration": 8,
    "start_time": "2025-04-22T10:39:08.394Z"
   },
   {
    "duration": 24,
    "start_time": "2025-04-22T10:39:08.403Z"
   },
   {
    "duration": 1890,
    "start_time": "2025-04-22T10:40:29.989Z"
   },
   {
    "duration": 954,
    "start_time": "2025-04-22T10:40:31.880Z"
   },
   {
    "duration": 19,
    "start_time": "2025-04-22T10:40:32.835Z"
   },
   {
    "duration": 183,
    "start_time": "2025-04-22T10:40:32.856Z"
   },
   {
    "duration": 34,
    "start_time": "2025-04-22T10:40:33.040Z"
   },
   {
    "duration": 32,
    "start_time": "2025-04-22T10:40:33.076Z"
   },
   {
    "duration": 29,
    "start_time": "2025-04-22T10:40:33.110Z"
   },
   {
    "duration": 440,
    "start_time": "2025-04-22T10:40:33.140Z"
   },
   {
    "duration": 143,
    "start_time": "2025-04-22T10:40:33.582Z"
   },
   {
    "duration": 72,
    "start_time": "2025-04-22T10:40:33.729Z"
   },
   {
    "duration": 64,
    "start_time": "2025-04-22T10:40:33.804Z"
   },
   {
    "duration": 135,
    "start_time": "2025-04-22T10:40:33.870Z"
   },
   {
    "duration": 508,
    "start_time": "2025-04-22T10:40:34.008Z"
   },
   {
    "duration": 30,
    "start_time": "2025-04-22T10:40:34.518Z"
   },
   {
    "duration": 77,
    "start_time": "2025-04-22T10:40:34.550Z"
   },
   {
    "duration": 134,
    "start_time": "2025-04-22T10:40:34.629Z"
   },
   {
    "duration": 503,
    "start_time": "2025-04-22T10:40:34.765Z"
   },
   {
    "duration": 116,
    "start_time": "2025-04-22T10:40:35.269Z"
   },
   {
    "duration": 402,
    "start_time": "2025-04-22T10:40:35.386Z"
   },
   {
    "duration": 125,
    "start_time": "2025-04-22T10:40:35.790Z"
   },
   {
    "duration": 622,
    "start_time": "2025-04-22T10:40:35.919Z"
   },
   {
    "duration": 11,
    "start_time": "2025-04-22T10:40:36.543Z"
   },
   {
    "duration": 54,
    "start_time": "2025-04-22T10:40:36.556Z"
   },
   {
    "duration": 15,
    "start_time": "2025-04-22T10:40:36.612Z"
   },
   {
    "duration": 300,
    "start_time": "2025-04-22T10:40:36.630Z"
   },
   {
    "duration": 322,
    "start_time": "2025-04-22T10:40:36.932Z"
   },
   {
    "duration": 410,
    "start_time": "2025-04-22T10:40:37.256Z"
   },
   {
    "duration": 22,
    "start_time": "2025-04-22T10:40:37.670Z"
   },
   {
    "duration": 41,
    "start_time": "2025-04-22T10:40:37.694Z"
   },
   {
    "duration": 117,
    "start_time": "2025-04-22T10:40:37.737Z"
   },
   {
    "duration": 30,
    "start_time": "2025-04-22T10:40:37.856Z"
   },
   {
    "duration": 80,
    "start_time": "2025-04-22T10:40:37.888Z"
   },
   {
    "duration": 12,
    "start_time": "2025-04-22T10:40:37.969Z"
   },
   {
    "duration": 35,
    "start_time": "2025-04-22T10:40:37.983Z"
   },
   {
    "duration": 563,
    "start_time": "2025-04-22T10:40:38.020Z"
   },
   {
    "duration": 37,
    "start_time": "2025-04-22T10:40:38.585Z"
   },
   {
    "duration": 19,
    "start_time": "2025-04-22T10:40:38.625Z"
   },
   {
    "duration": 6,
    "start_time": "2025-04-22T10:40:38.646Z"
   },
   {
    "duration": 6,
    "start_time": "2025-04-22T10:40:38.653Z"
   },
   {
    "duration": 4,
    "start_time": "2025-04-22T10:40:38.660Z"
   },
   {
    "duration": 4,
    "start_time": "2025-04-22T10:40:38.666Z"
   },
   {
    "duration": 28,
    "start_time": "2025-04-22T10:40:38.672Z"
   },
   {
    "duration": 17,
    "start_time": "2025-04-22T10:40:38.707Z"
   },
   {
    "duration": 12,
    "start_time": "2025-04-22T10:40:38.727Z"
   },
   {
    "duration": 9,
    "start_time": "2025-04-22T10:40:38.741Z"
   },
   {
    "duration": 13,
    "start_time": "2025-04-22T10:40:38.752Z"
   },
   {
    "duration": 25,
    "start_time": "2025-04-22T10:40:38.766Z"
   },
   {
    "duration": 13,
    "start_time": "2025-04-22T10:40:38.792Z"
   },
   {
    "duration": 50,
    "start_time": "2025-04-22T10:40:38.808Z"
   },
   {
    "duration": 19347,
    "start_time": "2025-04-22T10:40:38.860Z"
   },
   {
    "duration": 10,
    "start_time": "2025-04-22T10:40:58.212Z"
   },
   {
    "duration": 82,
    "start_time": "2025-04-22T10:40:58.227Z"
   },
   {
    "duration": 1955,
    "start_time": "2025-04-22T10:41:38.873Z"
   },
   {
    "duration": 1033,
    "start_time": "2025-04-22T10:41:40.830Z"
   },
   {
    "duration": 17,
    "start_time": "2025-04-22T10:41:41.865Z"
   },
   {
    "duration": 208,
    "start_time": "2025-04-22T10:41:41.884Z"
   },
   {
    "duration": 50,
    "start_time": "2025-04-22T10:41:42.094Z"
   },
   {
    "duration": 9,
    "start_time": "2025-04-22T10:41:42.146Z"
   },
   {
    "duration": 20,
    "start_time": "2025-04-22T10:41:42.157Z"
   },
   {
    "duration": 432,
    "start_time": "2025-04-22T10:41:42.179Z"
   },
   {
    "duration": 151,
    "start_time": "2025-04-22T10:41:42.613Z"
   },
   {
    "duration": 12,
    "start_time": "2025-04-22T10:41:42.767Z"
   },
   {
    "duration": 68,
    "start_time": "2025-04-22T10:41:42.780Z"
   },
   {
    "duration": 140,
    "start_time": "2025-04-22T10:41:42.850Z"
   },
   {
    "duration": 526,
    "start_time": "2025-04-22T10:41:42.991Z"
   },
   {
    "duration": 33,
    "start_time": "2025-04-22T10:41:43.520Z"
   },
   {
    "duration": 84,
    "start_time": "2025-04-22T10:41:43.555Z"
   },
   {
    "duration": 130,
    "start_time": "2025-04-22T10:41:43.641Z"
   },
   {
    "duration": 586,
    "start_time": "2025-04-22T10:41:43.772Z"
   },
   {
    "duration": 93,
    "start_time": "2025-04-22T10:41:44.360Z"
   },
   {
    "duration": 420,
    "start_time": "2025-04-22T10:41:44.454Z"
   },
   {
    "duration": 154,
    "start_time": "2025-04-22T10:41:44.876Z"
   },
   {
    "duration": 628,
    "start_time": "2025-04-22T10:41:45.032Z"
   },
   {
    "duration": 50,
    "start_time": "2025-04-22T10:41:45.662Z"
   },
   {
    "duration": 33,
    "start_time": "2025-04-22T10:41:45.713Z"
   },
   {
    "duration": 36,
    "start_time": "2025-04-22T10:41:45.748Z"
   },
   {
    "duration": 353,
    "start_time": "2025-04-22T10:41:45.785Z"
   },
   {
    "duration": 327,
    "start_time": "2025-04-22T10:41:46.140Z"
   },
   {
    "duration": 403,
    "start_time": "2025-04-22T10:41:46.468Z"
   },
   {
    "duration": 22,
    "start_time": "2025-04-22T10:41:46.875Z"
   },
   {
    "duration": 16,
    "start_time": "2025-04-22T10:41:46.907Z"
   },
   {
    "duration": 132,
    "start_time": "2025-04-22T10:41:46.925Z"
   },
   {
    "duration": 38,
    "start_time": "2025-04-22T10:41:47.059Z"
   },
   {
    "duration": 91,
    "start_time": "2025-04-22T10:41:47.099Z"
   },
   {
    "duration": 12,
    "start_time": "2025-04-22T10:41:47.192Z"
   },
   {
    "duration": 24,
    "start_time": "2025-04-22T10:41:47.206Z"
   },
   {
    "duration": 569,
    "start_time": "2025-04-22T10:41:47.232Z"
   },
   {
    "duration": 31,
    "start_time": "2025-04-22T10:41:47.803Z"
   },
   {
    "duration": 44,
    "start_time": "2025-04-22T10:41:47.836Z"
   },
   {
    "duration": 30,
    "start_time": "2025-04-22T10:41:47.882Z"
   },
   {
    "duration": 46,
    "start_time": "2025-04-22T10:41:47.914Z"
   },
   {
    "duration": 20,
    "start_time": "2025-04-22T10:41:47.962Z"
   },
   {
    "duration": 16,
    "start_time": "2025-04-22T10:41:47.984Z"
   },
   {
    "duration": 13,
    "start_time": "2025-04-22T10:41:48.002Z"
   },
   {
    "duration": 5,
    "start_time": "2025-04-22T10:41:48.018Z"
   },
   {
    "duration": 16,
    "start_time": "2025-04-22T10:41:48.026Z"
   },
   {
    "duration": 80,
    "start_time": "2025-04-22T10:41:48.043Z"
   },
   {
    "duration": 14,
    "start_time": "2025-04-22T10:41:48.126Z"
   },
   {
    "duration": 9,
    "start_time": "2025-04-22T10:41:48.142Z"
   },
   {
    "duration": 21,
    "start_time": "2025-04-22T10:41:48.153Z"
   },
   {
    "duration": 9,
    "start_time": "2025-04-22T10:41:48.176Z"
   },
   {
    "duration": 1867,
    "start_time": "2025-04-22T10:43:45.839Z"
   },
   {
    "duration": 929,
    "start_time": "2025-04-22T10:43:47.708Z"
   },
   {
    "duration": 19,
    "start_time": "2025-04-22T10:43:48.638Z"
   },
   {
    "duration": 181,
    "start_time": "2025-04-22T10:43:48.660Z"
   },
   {
    "duration": 34,
    "start_time": "2025-04-22T10:43:48.843Z"
   },
   {
    "duration": 9,
    "start_time": "2025-04-22T10:43:48.879Z"
   },
   {
    "duration": 3,
    "start_time": "2025-04-22T10:43:48.905Z"
   },
   {
    "duration": 404,
    "start_time": "2025-04-22T10:43:48.910Z"
   },
   {
    "duration": 137,
    "start_time": "2025-04-22T10:43:49.316Z"
   },
   {
    "duration": 12,
    "start_time": "2025-04-22T10:43:49.456Z"
   },
   {
    "duration": 65,
    "start_time": "2025-04-22T10:43:49.470Z"
   },
   {
    "duration": 130,
    "start_time": "2025-04-22T10:43:49.537Z"
   },
   {
    "duration": 522,
    "start_time": "2025-04-22T10:43:49.668Z"
   },
   {
    "duration": 45,
    "start_time": "2025-04-22T10:43:50.193Z"
   },
   {
    "duration": 50,
    "start_time": "2025-04-22T10:43:50.239Z"
   },
   {
    "duration": 155,
    "start_time": "2025-04-22T10:43:50.291Z"
   },
   {
    "duration": 510,
    "start_time": "2025-04-22T10:43:50.448Z"
   },
   {
    "duration": 92,
    "start_time": "2025-04-22T10:43:50.959Z"
   },
   {
    "duration": 431,
    "start_time": "2025-04-22T10:43:51.052Z"
   },
   {
    "duration": 147,
    "start_time": "2025-04-22T10:43:51.484Z"
   },
   {
    "duration": 612,
    "start_time": "2025-04-22T10:43:51.632Z"
   },
   {
    "duration": 11,
    "start_time": "2025-04-22T10:43:52.245Z"
   },
   {
    "duration": 88,
    "start_time": "2025-04-22T10:43:52.258Z"
   },
   {
    "duration": 12,
    "start_time": "2025-04-22T10:43:52.348Z"
   },
   {
    "duration": 330,
    "start_time": "2025-04-22T10:43:52.362Z"
   },
   {
    "duration": 320,
    "start_time": "2025-04-22T10:43:52.694Z"
   },
   {
    "duration": 404,
    "start_time": "2025-04-22T10:43:53.018Z"
   },
   {
    "duration": 23,
    "start_time": "2025-04-22T10:43:53.429Z"
   },
   {
    "duration": 15,
    "start_time": "2025-04-22T10:43:53.453Z"
   },
   {
    "duration": 130,
    "start_time": "2025-04-22T10:43:53.470Z"
   },
   {
    "duration": 16,
    "start_time": "2025-04-22T10:43:53.605Z"
   },
   {
    "duration": 97,
    "start_time": "2025-04-22T10:43:53.623Z"
   },
   {
    "duration": 14,
    "start_time": "2025-04-22T10:43:53.722Z"
   },
   {
    "duration": 105,
    "start_time": "2025-04-22T10:43:53.738Z"
   },
   {
    "duration": 583,
    "start_time": "2025-04-22T10:43:53.844Z"
   },
   {
    "duration": 25,
    "start_time": "2025-04-22T10:43:54.429Z"
   },
   {
    "duration": 22,
    "start_time": "2025-04-22T10:43:54.456Z"
   },
   {
    "duration": 3,
    "start_time": "2025-04-22T10:43:54.480Z"
   },
   {
    "duration": 21,
    "start_time": "2025-04-22T10:43:54.484Z"
   },
   {
    "duration": 3,
    "start_time": "2025-04-22T10:43:54.507Z"
   },
   {
    "duration": 3,
    "start_time": "2025-04-22T10:43:54.512Z"
   },
   {
    "duration": 21,
    "start_time": "2025-04-22T10:43:54.518Z"
   },
   {
    "duration": 20,
    "start_time": "2025-04-22T10:43:54.540Z"
   },
   {
    "duration": 3,
    "start_time": "2025-04-22T10:43:54.562Z"
   },
   {
    "duration": 6,
    "start_time": "2025-04-22T10:43:54.566Z"
   },
   {
    "duration": 8,
    "start_time": "2025-04-22T10:43:54.574Z"
   },
   {
    "duration": 4,
    "start_time": "2025-04-22T10:43:54.583Z"
   },
   {
    "duration": 6,
    "start_time": "2025-04-22T10:43:54.589Z"
   },
   {
    "duration": 20,
    "start_time": "2025-04-22T10:43:54.597Z"
   },
   {
    "duration": 1733,
    "start_time": "2025-04-22T10:44:07.551Z"
   },
   {
    "duration": 973,
    "start_time": "2025-04-22T10:44:09.287Z"
   },
   {
    "duration": 20,
    "start_time": "2025-04-22T10:44:10.262Z"
   },
   {
    "duration": 183,
    "start_time": "2025-04-22T10:44:10.284Z"
   },
   {
    "duration": 42,
    "start_time": "2025-04-22T10:44:10.470Z"
   },
   {
    "duration": 7,
    "start_time": "2025-04-22T10:44:10.513Z"
   },
   {
    "duration": 9,
    "start_time": "2025-04-22T10:44:10.522Z"
   },
   {
    "duration": 440,
    "start_time": "2025-04-22T10:44:10.533Z"
   },
   {
    "duration": 151,
    "start_time": "2025-04-22T10:44:10.975Z"
   },
   {
    "duration": 12,
    "start_time": "2025-04-22T10:44:11.128Z"
   },
   {
    "duration": 64,
    "start_time": "2025-04-22T10:44:11.142Z"
   },
   {
    "duration": 151,
    "start_time": "2025-04-22T10:44:11.208Z"
   },
   {
    "duration": 510,
    "start_time": "2025-04-22T10:44:11.361Z"
   },
   {
    "duration": 43,
    "start_time": "2025-04-22T10:44:11.874Z"
   },
   {
    "duration": 55,
    "start_time": "2025-04-22T10:44:11.919Z"
   },
   {
    "duration": 154,
    "start_time": "2025-04-22T10:44:11.976Z"
   },
   {
    "duration": 576,
    "start_time": "2025-04-22T10:44:12.132Z"
   },
   {
    "duration": 130,
    "start_time": "2025-04-22T10:44:12.710Z"
   },
   {
    "duration": 466,
    "start_time": "2025-04-22T10:44:12.842Z"
   },
   {
    "duration": 147,
    "start_time": "2025-04-22T10:44:13.311Z"
   },
   {
    "duration": 597,
    "start_time": "2025-04-22T10:44:13.459Z"
   },
   {
    "duration": 53,
    "start_time": "2025-04-22T10:44:14.058Z"
   },
   {
    "duration": 83,
    "start_time": "2025-04-22T10:44:14.116Z"
   },
   {
    "duration": 16,
    "start_time": "2025-04-22T10:44:14.200Z"
   },
   {
    "duration": 301,
    "start_time": "2025-04-22T10:44:14.219Z"
   },
   {
    "duration": 297,
    "start_time": "2025-04-22T10:44:14.522Z"
   },
   {
    "duration": 385,
    "start_time": "2025-04-22T10:44:14.821Z"
   },
   {
    "duration": 24,
    "start_time": "2025-04-22T10:44:15.208Z"
   },
   {
    "duration": 38,
    "start_time": "2025-04-22T10:44:15.234Z"
   },
   {
    "duration": 142,
    "start_time": "2025-04-22T10:44:15.274Z"
   },
   {
    "duration": 16,
    "start_time": "2025-04-22T10:44:15.419Z"
   },
   {
    "duration": 91,
    "start_time": "2025-04-22T10:44:15.437Z"
   },
   {
    "duration": 12,
    "start_time": "2025-04-22T10:44:15.530Z"
   },
   {
    "duration": 32,
    "start_time": "2025-04-22T10:44:15.544Z"
   },
   {
    "duration": 587,
    "start_time": "2025-04-22T10:44:15.578Z"
   },
   {
    "duration": 25,
    "start_time": "2025-04-22T10:44:16.167Z"
   },
   {
    "duration": 27,
    "start_time": "2025-04-22T10:44:16.193Z"
   },
   {
    "duration": 4,
    "start_time": "2025-04-22T10:44:16.222Z"
   },
   {
    "duration": 21,
    "start_time": "2025-04-22T10:44:16.228Z"
   },
   {
    "duration": 59,
    "start_time": "2025-04-22T10:44:16.251Z"
   },
   {
    "duration": 54,
    "start_time": "2025-04-22T10:44:16.316Z"
   },
   {
    "duration": 31,
    "start_time": "2025-04-22T10:44:16.372Z"
   },
   {
    "duration": 36,
    "start_time": "2025-04-22T10:44:16.405Z"
   },
   {
    "duration": 7,
    "start_time": "2025-04-22T10:44:16.443Z"
   },
   {
    "duration": 7,
    "start_time": "2025-04-22T10:44:16.452Z"
   },
   {
    "duration": 12,
    "start_time": "2025-04-22T10:44:16.461Z"
   },
   {
    "duration": 6,
    "start_time": "2025-04-22T10:44:16.474Z"
   },
   {
    "duration": 8,
    "start_time": "2025-04-22T10:44:16.481Z"
   },
   {
    "duration": 8,
    "start_time": "2025-04-22T10:44:16.491Z"
   },
   {
    "duration": 42407,
    "start_time": "2025-04-22T10:44:16.501Z"
   },
   {
    "duration": 8,
    "start_time": "2025-04-22T10:44:58.910Z"
   },
   {
    "duration": 82,
    "start_time": "2025-04-22T10:44:58.924Z"
   },
   {
    "duration": 1887,
    "start_time": "2025-04-22T10:51:38.818Z"
   },
   {
    "duration": 1075,
    "start_time": "2025-04-22T10:51:40.708Z"
   },
   {
    "duration": 32,
    "start_time": "2025-04-22T10:51:41.784Z"
   },
   {
    "duration": 183,
    "start_time": "2025-04-22T10:51:41.818Z"
   },
   {
    "duration": 40,
    "start_time": "2025-04-22T10:51:42.003Z"
   },
   {
    "duration": 10,
    "start_time": "2025-04-22T10:51:42.044Z"
   },
   {
    "duration": 9,
    "start_time": "2025-04-22T10:51:42.055Z"
   },
   {
    "duration": 446,
    "start_time": "2025-04-22T10:51:42.066Z"
   },
   {
    "duration": 136,
    "start_time": "2025-04-22T10:51:42.515Z"
   },
   {
    "duration": 13,
    "start_time": "2025-04-22T10:51:42.653Z"
   },
   {
    "duration": 63,
    "start_time": "2025-04-22T10:51:42.667Z"
   },
   {
    "duration": 124,
    "start_time": "2025-04-22T10:51:42.732Z"
   },
   {
    "duration": 448,
    "start_time": "2025-04-22T10:51:42.857Z"
   },
   {
    "duration": 29,
    "start_time": "2025-04-22T10:51:43.307Z"
   },
   {
    "duration": 72,
    "start_time": "2025-04-22T10:51:43.337Z"
   },
   {
    "duration": 123,
    "start_time": "2025-04-22T10:51:43.411Z"
   },
   {
    "duration": 522,
    "start_time": "2025-04-22T10:51:43.536Z"
   },
   {
    "duration": 98,
    "start_time": "2025-04-22T10:51:44.060Z"
   },
   {
    "duration": 426,
    "start_time": "2025-04-22T10:51:44.160Z"
   },
   {
    "duration": 128,
    "start_time": "2025-04-22T10:51:44.587Z"
   },
   {
    "duration": 632,
    "start_time": "2025-04-22T10:51:44.717Z"
   },
   {
    "duration": 11,
    "start_time": "2025-04-22T10:51:45.351Z"
   },
   {
    "duration": 62,
    "start_time": "2025-04-22T10:51:45.364Z"
   },
   {
    "duration": 17,
    "start_time": "2025-04-22T10:51:45.429Z"
   },
   {
    "duration": 342,
    "start_time": "2025-04-22T10:51:45.447Z"
   },
   {
    "duration": 354,
    "start_time": "2025-04-22T10:51:45.790Z"
   },
   {
    "duration": 406,
    "start_time": "2025-04-22T10:51:46.146Z"
   },
   {
    "duration": 22,
    "start_time": "2025-04-22T10:51:46.556Z"
   },
   {
    "duration": 44,
    "start_time": "2025-04-22T10:51:46.580Z"
   },
   {
    "duration": 125,
    "start_time": "2025-04-22T10:51:46.627Z"
   },
   {
    "duration": 15,
    "start_time": "2025-04-22T10:51:46.754Z"
   },
   {
    "duration": 85,
    "start_time": "2025-04-22T10:51:46.771Z"
   },
   {
    "duration": 11,
    "start_time": "2025-04-22T10:51:46.858Z"
   },
   {
    "duration": 14,
    "start_time": "2025-04-22T10:51:46.870Z"
   },
   {
    "duration": 504,
    "start_time": "2025-04-22T10:51:46.885Z"
   },
   {
    "duration": 34,
    "start_time": "2025-04-22T10:51:47.390Z"
   },
   {
    "duration": 20,
    "start_time": "2025-04-22T10:51:47.426Z"
   },
   {
    "duration": 3,
    "start_time": "2025-04-22T10:51:47.447Z"
   },
   {
    "duration": 5,
    "start_time": "2025-04-22T10:51:47.451Z"
   },
   {
    "duration": 4,
    "start_time": "2025-04-22T10:51:47.457Z"
   },
   {
    "duration": 11,
    "start_time": "2025-04-22T10:51:47.462Z"
   },
   {
    "duration": 4,
    "start_time": "2025-04-22T10:51:47.475Z"
   },
   {
    "duration": 4,
    "start_time": "2025-04-22T10:51:47.480Z"
   },
   {
    "duration": 11,
    "start_time": "2025-04-22T10:51:47.507Z"
   },
   {
    "duration": 3,
    "start_time": "2025-04-22T10:51:47.520Z"
   },
   {
    "duration": 4,
    "start_time": "2025-04-22T10:51:47.524Z"
   },
   {
    "duration": 5,
    "start_time": "2025-04-22T10:51:47.529Z"
   },
   {
    "duration": 8,
    "start_time": "2025-04-22T10:51:47.536Z"
   },
   {
    "duration": 4,
    "start_time": "2025-04-22T10:51:47.546Z"
   },
   {
    "duration": 44254,
    "start_time": "2025-04-22T10:51:47.552Z"
   },
   {
    "duration": 28,
    "start_time": "2025-04-22T10:52:31.809Z"
   },
   {
    "duration": 3,
    "start_time": "2025-04-22T10:52:31.838Z"
   },
   {
    "duration": 31,
    "start_time": "2025-04-22T10:52:31.843Z"
   },
   {
    "duration": 1953,
    "start_time": "2025-04-22T10:55:37.585Z"
   },
   {
    "duration": 1085,
    "start_time": "2025-04-22T10:55:39.540Z"
   },
   {
    "duration": 19,
    "start_time": "2025-04-22T10:55:40.626Z"
   },
   {
    "duration": 213,
    "start_time": "2025-04-22T10:55:40.647Z"
   },
   {
    "duration": 31,
    "start_time": "2025-04-22T10:55:40.861Z"
   },
   {
    "duration": 13,
    "start_time": "2025-04-22T10:55:40.894Z"
   },
   {
    "duration": 6,
    "start_time": "2025-04-22T10:55:40.909Z"
   },
   {
    "duration": 406,
    "start_time": "2025-04-22T10:55:40.918Z"
   },
   {
    "duration": 145,
    "start_time": "2025-04-22T10:55:41.326Z"
   },
   {
    "duration": 29,
    "start_time": "2025-04-22T10:55:41.475Z"
   },
   {
    "duration": 53,
    "start_time": "2025-04-22T10:55:41.508Z"
   },
   {
    "duration": 158,
    "start_time": "2025-04-22T10:55:41.563Z"
   },
   {
    "duration": 492,
    "start_time": "2025-04-22T10:55:41.723Z"
   },
   {
    "duration": 32,
    "start_time": "2025-04-22T10:55:42.217Z"
   },
   {
    "duration": 75,
    "start_time": "2025-04-22T10:55:42.250Z"
   },
   {
    "duration": 130,
    "start_time": "2025-04-22T10:55:42.328Z"
   },
   {
    "duration": 511,
    "start_time": "2025-04-22T10:55:42.460Z"
   },
   {
    "duration": 114,
    "start_time": "2025-04-22T10:55:42.973Z"
   },
   {
    "duration": 466,
    "start_time": "2025-04-22T10:55:43.089Z"
   },
   {
    "duration": 127,
    "start_time": "2025-04-22T10:55:43.557Z"
   },
   {
    "duration": 659,
    "start_time": "2025-04-22T10:55:43.686Z"
   },
   {
    "duration": 11,
    "start_time": "2025-04-22T10:55:44.346Z"
   },
   {
    "duration": 106,
    "start_time": "2025-04-22T10:55:44.359Z"
   },
   {
    "duration": 12,
    "start_time": "2025-04-22T10:55:44.467Z"
   },
   {
    "duration": 314,
    "start_time": "2025-04-22T10:55:44.480Z"
   },
   {
    "duration": 325,
    "start_time": "2025-04-22T10:55:44.795Z"
   },
   {
    "duration": 377,
    "start_time": "2025-04-22T10:55:45.122Z"
   },
   {
    "duration": 28,
    "start_time": "2025-04-22T10:55:45.504Z"
   },
   {
    "duration": 14,
    "start_time": "2025-04-22T10:55:45.534Z"
   },
   {
    "duration": 160,
    "start_time": "2025-04-22T10:55:45.550Z"
   },
   {
    "duration": 21,
    "start_time": "2025-04-22T10:55:45.713Z"
   },
   {
    "duration": 140,
    "start_time": "2025-04-22T10:55:45.736Z"
   },
   {
    "duration": 11,
    "start_time": "2025-04-22T10:55:45.877Z"
   },
   {
    "duration": 27,
    "start_time": "2025-04-22T10:55:45.890Z"
   },
   {
    "duration": 576,
    "start_time": "2025-04-22T10:55:45.920Z"
   },
   {
    "duration": 36,
    "start_time": "2025-04-22T10:55:46.498Z"
   },
   {
    "duration": 16,
    "start_time": "2025-04-22T10:55:46.536Z"
   },
   {
    "duration": 3,
    "start_time": "2025-04-22T10:55:46.554Z"
   },
   {
    "duration": 9,
    "start_time": "2025-04-22T10:55:46.558Z"
   },
   {
    "duration": 5,
    "start_time": "2025-04-22T10:55:46.569Z"
   },
   {
    "duration": 10,
    "start_time": "2025-04-22T10:55:46.575Z"
   },
   {
    "duration": 4,
    "start_time": "2025-04-22T10:55:46.605Z"
   },
   {
    "duration": 46,
    "start_time": "2025-04-22T10:55:46.612Z"
   },
   {
    "duration": 4,
    "start_time": "2025-04-22T10:55:46.659Z"
   },
   {
    "duration": 5,
    "start_time": "2025-04-22T10:55:46.664Z"
   },
   {
    "duration": 8,
    "start_time": "2025-04-22T10:55:46.670Z"
   },
   {
    "duration": 27,
    "start_time": "2025-04-22T10:55:46.680Z"
   },
   {
    "duration": 6,
    "start_time": "2025-04-22T10:55:46.710Z"
   },
   {
    "duration": 5,
    "start_time": "2025-04-22T10:55:46.719Z"
   },
   {
    "duration": 152,
    "start_time": "2025-04-22T10:55:46.726Z"
   },
   {
    "duration": 0,
    "start_time": "2025-04-22T10:55:46.880Z"
   },
   {
    "duration": 0,
    "start_time": "2025-04-22T10:55:46.881Z"
   },
   {
    "duration": 0,
    "start_time": "2025-04-22T10:55:46.882Z"
   },
   {
    "duration": 0,
    "start_time": "2025-04-22T10:55:46.883Z"
   },
   {
    "duration": 0,
    "start_time": "2025-04-22T10:55:46.884Z"
   },
   {
    "duration": 0,
    "start_time": "2025-04-22T10:55:46.885Z"
   },
   {
    "duration": 0,
    "start_time": "2025-04-22T10:55:46.886Z"
   },
   {
    "duration": 1898,
    "start_time": "2025-04-22T10:57:05.512Z"
   },
   {
    "duration": 1070,
    "start_time": "2025-04-22T10:57:07.413Z"
   },
   {
    "duration": 28,
    "start_time": "2025-04-22T10:57:08.485Z"
   },
   {
    "duration": 210,
    "start_time": "2025-04-22T10:57:08.517Z"
   },
   {
    "duration": 36,
    "start_time": "2025-04-22T10:57:08.729Z"
   },
   {
    "duration": 4,
    "start_time": "2025-04-22T10:57:08.767Z"
   },
   {
    "duration": 5,
    "start_time": "2025-04-22T10:57:08.773Z"
   },
   {
    "duration": 471,
    "start_time": "2025-04-22T10:57:08.780Z"
   },
   {
    "duration": 138,
    "start_time": "2025-04-22T10:57:09.253Z"
   },
   {
    "duration": 23,
    "start_time": "2025-04-22T10:57:09.394Z"
   },
   {
    "duration": 45,
    "start_time": "2025-04-22T10:57:09.420Z"
   },
   {
    "duration": 165,
    "start_time": "2025-04-22T10:57:09.467Z"
   },
   {
    "duration": 466,
    "start_time": "2025-04-22T10:57:09.634Z"
   },
   {
    "duration": 36,
    "start_time": "2025-04-22T10:57:10.106Z"
   },
   {
    "duration": 208,
    "start_time": "2025-04-22T10:57:10.143Z"
   },
   {
    "duration": 124,
    "start_time": "2025-04-22T10:57:10.353Z"
   },
   {
    "duration": 575,
    "start_time": "2025-04-22T10:57:10.480Z"
   },
   {
    "duration": 97,
    "start_time": "2025-04-22T10:57:11.056Z"
   },
   {
    "duration": 427,
    "start_time": "2025-04-22T10:57:11.155Z"
   },
   {
    "duration": 127,
    "start_time": "2025-04-22T10:57:11.583Z"
   },
   {
    "duration": 608,
    "start_time": "2025-04-22T10:57:11.712Z"
   },
   {
    "duration": 12,
    "start_time": "2025-04-22T10:57:12.323Z"
   },
   {
    "duration": 147,
    "start_time": "2025-04-22T10:57:12.337Z"
   },
   {
    "duration": 12,
    "start_time": "2025-04-22T10:57:12.485Z"
   },
   {
    "duration": 316,
    "start_time": "2025-04-22T10:57:12.499Z"
   },
   {
    "duration": 290,
    "start_time": "2025-04-22T10:57:12.817Z"
   },
   {
    "duration": 373,
    "start_time": "2025-04-22T10:57:13.109Z"
   },
   {
    "duration": 30,
    "start_time": "2025-04-22T10:57:13.486Z"
   },
   {
    "duration": 15,
    "start_time": "2025-04-22T10:57:13.519Z"
   },
   {
    "duration": 138,
    "start_time": "2025-04-22T10:57:13.536Z"
   },
   {
    "duration": 15,
    "start_time": "2025-04-22T10:57:13.676Z"
   },
   {
    "duration": 93,
    "start_time": "2025-04-22T10:57:13.693Z"
   },
   {
    "duration": 10,
    "start_time": "2025-04-22T10:57:13.788Z"
   },
   {
    "duration": 43,
    "start_time": "2025-04-22T10:57:13.800Z"
   },
   {
    "duration": 508,
    "start_time": "2025-04-22T10:57:13.844Z"
   },
   {
    "duration": 25,
    "start_time": "2025-04-22T10:57:14.354Z"
   },
   {
    "duration": 95,
    "start_time": "2025-04-22T10:57:14.380Z"
   },
   {
    "duration": 2,
    "start_time": "2025-04-22T10:57:14.477Z"
   },
   {
    "duration": 11,
    "start_time": "2025-04-22T10:57:14.480Z"
   },
   {
    "duration": 28,
    "start_time": "2025-04-22T10:57:14.492Z"
   },
   {
    "duration": 9,
    "start_time": "2025-04-22T10:57:14.523Z"
   },
   {
    "duration": 38,
    "start_time": "2025-04-22T10:57:14.534Z"
   },
   {
    "duration": 6,
    "start_time": "2025-04-22T10:57:14.574Z"
   },
   {
    "duration": 8,
    "start_time": "2025-04-22T10:57:14.582Z"
   },
   {
    "duration": 10,
    "start_time": "2025-04-22T10:57:14.591Z"
   },
   {
    "duration": 35,
    "start_time": "2025-04-22T10:57:14.602Z"
   },
   {
    "duration": 23,
    "start_time": "2025-04-22T10:57:14.638Z"
   },
   {
    "duration": 19,
    "start_time": "2025-04-22T10:57:14.663Z"
   },
   {
    "duration": 11,
    "start_time": "2025-04-22T10:57:14.684Z"
   },
   {
    "duration": 44512,
    "start_time": "2025-04-22T10:57:14.696Z"
   },
   {
    "duration": 31,
    "start_time": "2025-04-22T10:57:59.211Z"
   },
   {
    "duration": 7,
    "start_time": "2025-04-22T10:57:59.244Z"
   },
   {
    "duration": 14,
    "start_time": "2025-04-22T10:57:59.253Z"
   },
   {
    "duration": 83736,
    "start_time": "2025-04-22T10:57:59.269Z"
   },
   {
    "duration": 5499,
    "start_time": "2025-04-22T10:59:23.007Z"
   },
   {
    "duration": 2829,
    "start_time": "2025-04-22T10:59:28.508Z"
   },
   {
    "duration": 8,
    "start_time": "2025-04-22T10:59:31.339Z"
   },
   {
    "duration": 1761,
    "start_time": "2025-04-22T11:02:54.448Z"
   },
   {
    "duration": 953,
    "start_time": "2025-04-22T11:02:56.211Z"
   },
   {
    "duration": 17,
    "start_time": "2025-04-22T11:02:57.166Z"
   },
   {
    "duration": 171,
    "start_time": "2025-04-22T11:02:57.185Z"
   },
   {
    "duration": 30,
    "start_time": "2025-04-22T11:02:57.358Z"
   },
   {
    "duration": 30,
    "start_time": "2025-04-22T11:02:57.389Z"
   },
   {
    "duration": 9,
    "start_time": "2025-04-22T11:02:57.421Z"
   },
   {
    "duration": 395,
    "start_time": "2025-04-22T11:02:57.432Z"
   },
   {
    "duration": 127,
    "start_time": "2025-04-22T11:02:57.828Z"
   },
   {
    "duration": 13,
    "start_time": "2025-04-22T11:02:57.957Z"
   },
   {
    "duration": 63,
    "start_time": "2025-04-22T11:02:57.971Z"
   },
   {
    "duration": 124,
    "start_time": "2025-04-22T11:02:58.036Z"
   },
   {
    "duration": 445,
    "start_time": "2025-04-22T11:02:58.162Z"
   },
   {
    "duration": 26,
    "start_time": "2025-04-22T11:02:58.609Z"
   },
   {
    "duration": 68,
    "start_time": "2025-04-22T11:02:58.637Z"
   },
   {
    "duration": 116,
    "start_time": "2025-04-22T11:02:58.707Z"
   },
   {
    "duration": 528,
    "start_time": "2025-04-22T11:02:58.825Z"
   },
   {
    "duration": 92,
    "start_time": "2025-04-22T11:02:59.355Z"
   },
   {
    "duration": 406,
    "start_time": "2025-04-22T11:02:59.449Z"
   },
   {
    "duration": 120,
    "start_time": "2025-04-22T11:02:59.857Z"
   },
   {
    "duration": 542,
    "start_time": "2025-04-22T11:02:59.979Z"
   },
   {
    "duration": 11,
    "start_time": "2025-04-22T11:03:00.523Z"
   },
   {
    "duration": 42,
    "start_time": "2025-04-22T11:03:00.536Z"
   },
   {
    "duration": 27,
    "start_time": "2025-04-22T11:03:00.580Z"
   },
   {
    "duration": 314,
    "start_time": "2025-04-22T11:03:00.609Z"
   },
   {
    "duration": 286,
    "start_time": "2025-04-22T11:03:00.924Z"
   },
   {
    "duration": 362,
    "start_time": "2025-04-22T11:03:01.212Z"
   },
   {
    "duration": 31,
    "start_time": "2025-04-22T11:03:01.578Z"
   },
   {
    "duration": 12,
    "start_time": "2025-04-22T11:03:01.611Z"
   },
   {
    "duration": 134,
    "start_time": "2025-04-22T11:03:01.624Z"
   },
   {
    "duration": 26,
    "start_time": "2025-04-22T11:03:01.760Z"
   },
   {
    "duration": 136,
    "start_time": "2025-04-22T11:03:01.787Z"
   },
   {
    "duration": 10,
    "start_time": "2025-04-22T11:03:01.925Z"
   },
   {
    "duration": 11,
    "start_time": "2025-04-22T11:03:01.937Z"
   },
   {
    "duration": 501,
    "start_time": "2025-04-22T11:03:01.950Z"
   },
   {
    "duration": 25,
    "start_time": "2025-04-22T11:03:02.453Z"
   },
   {
    "duration": 28,
    "start_time": "2025-04-22T11:03:02.479Z"
   },
   {
    "duration": 25,
    "start_time": "2025-04-22T11:03:02.509Z"
   },
   {
    "duration": 26,
    "start_time": "2025-04-22T11:03:02.536Z"
   },
   {
    "duration": 25,
    "start_time": "2025-04-22T11:03:02.563Z"
   },
   {
    "duration": 50,
    "start_time": "2025-04-22T11:03:02.590Z"
   },
   {
    "duration": 76,
    "start_time": "2025-04-22T11:03:02.642Z"
   },
   {
    "duration": 15,
    "start_time": "2025-04-22T11:03:02.719Z"
   },
   {
    "duration": 30,
    "start_time": "2025-04-22T11:03:02.736Z"
   },
   {
    "duration": 36,
    "start_time": "2025-04-22T11:03:02.768Z"
   },
   {
    "duration": 33,
    "start_time": "2025-04-22T11:03:02.806Z"
   },
   {
    "duration": 6,
    "start_time": "2025-04-22T11:03:02.840Z"
   },
   {
    "duration": 6,
    "start_time": "2025-04-22T11:03:02.847Z"
   },
   {
    "duration": 8,
    "start_time": "2025-04-22T11:03:02.854Z"
   },
   {
    "duration": 17347,
    "start_time": "2025-04-22T11:03:02.863Z"
   },
   {
    "duration": 113,
    "start_time": "2025-04-22T11:03:20.213Z"
   },
   {
    "duration": 17,
    "start_time": "2025-04-22T11:03:20.327Z"
   },
   {
    "duration": 38,
    "start_time": "2025-04-22T11:03:20.346Z"
   },
   {
    "duration": 7222,
    "start_time": "2025-04-22T11:03:20.386Z"
   },
   {
    "duration": 6797,
    "start_time": "2025-04-22T11:03:27.609Z"
   },
   {
    "duration": 2809,
    "start_time": "2025-04-22T11:03:34.408Z"
   },
   {
    "duration": 94,
    "start_time": "2025-04-22T11:03:37.219Z"
   },
   {
    "duration": 1743,
    "start_time": "2025-04-22T11:12:48.268Z"
   },
   {
    "duration": 1013,
    "start_time": "2025-04-22T11:12:50.013Z"
   },
   {
    "duration": 17,
    "start_time": "2025-04-22T11:12:51.028Z"
   },
   {
    "duration": 185,
    "start_time": "2025-04-22T11:12:51.047Z"
   },
   {
    "duration": 34,
    "start_time": "2025-04-22T11:12:51.234Z"
   },
   {
    "duration": 40,
    "start_time": "2025-04-22T11:12:51.270Z"
   },
   {
    "duration": 25,
    "start_time": "2025-04-22T11:12:51.312Z"
   },
   {
    "duration": 430,
    "start_time": "2025-04-22T11:12:51.339Z"
   },
   {
    "duration": 124,
    "start_time": "2025-04-22T11:12:51.771Z"
   },
   {
    "duration": 40,
    "start_time": "2025-04-22T11:12:51.898Z"
   },
   {
    "duration": 53,
    "start_time": "2025-04-22T11:12:51.940Z"
   },
   {
    "duration": 132,
    "start_time": "2025-04-22T11:12:51.995Z"
   },
   {
    "duration": 449,
    "start_time": "2025-04-22T11:12:52.129Z"
   },
   {
    "duration": 34,
    "start_time": "2025-04-22T11:12:52.580Z"
   },
   {
    "duration": 54,
    "start_time": "2025-04-22T11:12:52.616Z"
   },
   {
    "duration": 138,
    "start_time": "2025-04-22T11:12:52.672Z"
   },
   {
    "duration": 440,
    "start_time": "2025-04-22T11:12:52.812Z"
   },
   {
    "duration": 116,
    "start_time": "2025-04-22T11:12:53.254Z"
   },
   {
    "duration": 395,
    "start_time": "2025-04-22T11:12:53.372Z"
   },
   {
    "duration": 124,
    "start_time": "2025-04-22T11:12:53.769Z"
   },
   {
    "duration": 607,
    "start_time": "2025-04-22T11:12:53.906Z"
   },
   {
    "duration": 11,
    "start_time": "2025-04-22T11:12:54.515Z"
   },
   {
    "duration": 37,
    "start_time": "2025-04-22T11:12:54.528Z"
   },
   {
    "duration": 38,
    "start_time": "2025-04-22T11:12:54.567Z"
   },
   {
    "duration": 312,
    "start_time": "2025-04-22T11:12:54.608Z"
   },
   {
    "duration": 307,
    "start_time": "2025-04-22T11:12:54.922Z"
   },
   {
    "duration": 365,
    "start_time": "2025-04-22T11:12:55.231Z"
   },
   {
    "duration": 25,
    "start_time": "2025-04-22T11:12:55.604Z"
   },
   {
    "duration": 14,
    "start_time": "2025-04-22T11:12:55.630Z"
   },
   {
    "duration": 135,
    "start_time": "2025-04-22T11:12:55.646Z"
   },
   {
    "duration": 32,
    "start_time": "2025-04-22T11:12:55.783Z"
   },
   {
    "duration": 77,
    "start_time": "2025-04-22T11:12:55.817Z"
   },
   {
    "duration": 18,
    "start_time": "2025-04-22T11:12:55.895Z"
   },
   {
    "duration": 12,
    "start_time": "2025-04-22T11:12:55.915Z"
   },
   {
    "duration": 538,
    "start_time": "2025-04-22T11:12:55.929Z"
   },
   {
    "duration": 23,
    "start_time": "2025-04-22T11:12:56.469Z"
   },
   {
    "duration": 37,
    "start_time": "2025-04-22T11:12:56.494Z"
   },
   {
    "duration": 2,
    "start_time": "2025-04-22T11:12:56.533Z"
   },
   {
    "duration": 8,
    "start_time": "2025-04-22T11:12:56.537Z"
   },
   {
    "duration": 3,
    "start_time": "2025-04-22T11:12:56.547Z"
   },
   {
    "duration": 5,
    "start_time": "2025-04-22T11:12:56.551Z"
   },
   {
    "duration": 6,
    "start_time": "2025-04-22T11:12:56.557Z"
   },
   {
    "duration": 4,
    "start_time": "2025-04-22T11:12:56.564Z"
   },
   {
    "duration": 8,
    "start_time": "2025-04-22T11:12:56.570Z"
   },
   {
    "duration": 3,
    "start_time": "2025-04-22T11:12:56.579Z"
   },
   {
    "duration": 22,
    "start_time": "2025-04-22T11:12:56.583Z"
   },
   {
    "duration": 14,
    "start_time": "2025-04-22T11:12:56.607Z"
   },
   {
    "duration": 5,
    "start_time": "2025-04-22T11:12:56.622Z"
   },
   {
    "duration": 20,
    "start_time": "2025-04-22T11:12:56.629Z"
   },
   {
    "duration": 17358,
    "start_time": "2025-04-22T11:12:56.651Z"
   },
   {
    "duration": 24,
    "start_time": "2025-04-22T11:13:14.011Z"
   },
   {
    "duration": 16,
    "start_time": "2025-04-22T11:13:14.036Z"
   },
   {
    "duration": 12,
    "start_time": "2025-04-22T11:13:14.054Z"
   },
   {
    "duration": 7346,
    "start_time": "2025-04-22T11:13:14.067Z"
   },
   {
    "duration": 5202,
    "start_time": "2025-04-22T11:13:21.415Z"
   },
   {
    "duration": 2108,
    "start_time": "2025-04-22T11:13:26.619Z"
   },
   {
    "duration": 80,
    "start_time": "2025-04-22T11:13:28.729Z"
   },
   {
    "duration": 721,
    "start_time": "2025-04-22T11:13:28.811Z"
   },
   {
    "duration": 8,
    "start_time": "2025-04-22T11:13:29.534Z"
   },
   {
    "duration": 1805,
    "start_time": "2025-04-22T11:21:50.964Z"
   },
   {
    "duration": 956,
    "start_time": "2025-04-22T11:21:52.771Z"
   },
   {
    "duration": 17,
    "start_time": "2025-04-22T11:21:53.728Z"
   },
   {
    "duration": 185,
    "start_time": "2025-04-22T11:21:53.747Z"
   },
   {
    "duration": 35,
    "start_time": "2025-04-22T11:21:53.934Z"
   },
   {
    "duration": 22,
    "start_time": "2025-04-22T11:21:53.971Z"
   },
   {
    "duration": 19,
    "start_time": "2025-04-22T11:21:53.995Z"
   },
   {
    "duration": 408,
    "start_time": "2025-04-22T11:21:54.016Z"
   },
   {
    "duration": 131,
    "start_time": "2025-04-22T11:21:54.426Z"
   },
   {
    "duration": 30,
    "start_time": "2025-04-22T11:21:54.559Z"
   },
   {
    "duration": 51,
    "start_time": "2025-04-22T11:21:54.591Z"
   },
   {
    "duration": 124,
    "start_time": "2025-04-22T11:21:54.644Z"
   },
   {
    "duration": 493,
    "start_time": "2025-04-22T11:21:54.770Z"
   },
   {
    "duration": 40,
    "start_time": "2025-04-22T11:21:55.267Z"
   },
   {
    "duration": 51,
    "start_time": "2025-04-22T11:21:55.309Z"
   },
   {
    "duration": 118,
    "start_time": "2025-04-22T11:21:55.362Z"
   },
   {
    "duration": 462,
    "start_time": "2025-04-22T11:21:55.482Z"
   },
   {
    "duration": 91,
    "start_time": "2025-04-22T11:21:55.946Z"
   },
   {
    "duration": 441,
    "start_time": "2025-04-22T11:21:56.038Z"
   },
   {
    "duration": 125,
    "start_time": "2025-04-22T11:21:56.481Z"
   },
   {
    "duration": 515,
    "start_time": "2025-04-22T11:21:56.608Z"
   },
   {
    "duration": 11,
    "start_time": "2025-04-22T11:21:57.124Z"
   },
   {
    "duration": 34,
    "start_time": "2025-04-22T11:21:57.137Z"
   },
   {
    "duration": 33,
    "start_time": "2025-04-22T11:21:57.173Z"
   },
   {
    "duration": 307,
    "start_time": "2025-04-22T11:21:57.209Z"
   },
   {
    "duration": 278,
    "start_time": "2025-04-22T11:21:57.518Z"
   },
   {
    "duration": 367,
    "start_time": "2025-04-22T11:21:57.799Z"
   },
   {
    "duration": 23,
    "start_time": "2025-04-22T11:21:58.169Z"
   },
   {
    "duration": 21,
    "start_time": "2025-04-22T11:21:58.194Z"
   },
   {
    "duration": 126,
    "start_time": "2025-04-22T11:21:58.217Z"
   },
   {
    "duration": 16,
    "start_time": "2025-04-22T11:21:58.344Z"
   },
   {
    "duration": 89,
    "start_time": "2025-04-22T11:21:58.362Z"
   },
   {
    "duration": 11,
    "start_time": "2025-04-22T11:21:58.453Z"
   },
   {
    "duration": 90,
    "start_time": "2025-04-22T11:21:58.466Z"
   },
   {
    "duration": 557,
    "start_time": "2025-04-22T11:21:58.558Z"
   },
   {
    "duration": 25,
    "start_time": "2025-04-22T11:21:59.117Z"
   },
   {
    "duration": 18,
    "start_time": "2025-04-22T11:21:59.143Z"
   },
   {
    "duration": 51,
    "start_time": "2025-04-22T11:21:59.163Z"
   },
   {
    "duration": 36,
    "start_time": "2025-04-22T11:21:59.216Z"
   },
   {
    "duration": 6,
    "start_time": "2025-04-22T11:21:59.254Z"
   },
   {
    "duration": 2,
    "start_time": "2025-04-22T11:21:59.265Z"
   },
   {
    "duration": 4,
    "start_time": "2025-04-22T11:21:59.269Z"
   },
   {
    "duration": 17,
    "start_time": "2025-04-22T11:21:59.275Z"
   },
   {
    "duration": 11,
    "start_time": "2025-04-22T11:21:59.294Z"
   },
   {
    "duration": 9,
    "start_time": "2025-04-22T11:21:59.307Z"
   },
   {
    "duration": 8,
    "start_time": "2025-04-22T11:21:59.318Z"
   },
   {
    "duration": 6,
    "start_time": "2025-04-22T11:21:59.328Z"
   },
   {
    "duration": 14,
    "start_time": "2025-04-22T11:21:59.336Z"
   },
   {
    "duration": 6,
    "start_time": "2025-04-22T11:21:59.352Z"
   },
   {
    "duration": 17553,
    "start_time": "2025-04-22T11:21:59.359Z"
   },
   {
    "duration": 111,
    "start_time": "2025-04-22T11:22:16.914Z"
   },
   {
    "duration": 3,
    "start_time": "2025-04-22T11:22:17.027Z"
   },
   {
    "duration": 15,
    "start_time": "2025-04-22T11:22:17.032Z"
   },
   {
    "duration": 7057,
    "start_time": "2025-04-22T11:22:17.048Z"
   },
   {
    "duration": 6608,
    "start_time": "2025-04-22T11:22:24.107Z"
   },
   {
    "duration": 2195,
    "start_time": "2025-04-22T11:22:30.717Z"
   },
   {
    "duration": 6,
    "start_time": "2025-04-22T11:22:32.914Z"
   },
   {
    "duration": 694,
    "start_time": "2025-04-22T11:22:32.921Z"
   },
   {
    "duration": 5,
    "start_time": "2025-04-22T11:22:33.617Z"
   },
   {
    "duration": 12123,
    "start_time": "2025-04-22T12:45:18.200Z"
   },
   {
    "duration": 964,
    "start_time": "2025-04-22T12:45:30.326Z"
   },
   {
    "duration": 23,
    "start_time": "2025-04-22T12:45:31.292Z"
   },
   {
    "duration": 163,
    "start_time": "2025-04-22T12:45:31.318Z"
   },
   {
    "duration": 45,
    "start_time": "2025-04-22T12:45:31.483Z"
   },
   {
    "duration": 7,
    "start_time": "2025-04-22T12:45:31.530Z"
   },
   {
    "duration": 29,
    "start_time": "2025-04-22T12:45:31.539Z"
   },
   {
    "duration": 410,
    "start_time": "2025-04-22T12:45:31.570Z"
   },
   {
    "duration": 130,
    "start_time": "2025-04-22T12:45:31.981Z"
   },
   {
    "duration": 91,
    "start_time": "2025-04-22T12:45:32.113Z"
   },
   {
    "duration": 60,
    "start_time": "2025-04-22T12:45:32.205Z"
   },
   {
    "duration": 116,
    "start_time": "2025-04-22T12:45:32.267Z"
   },
   {
    "duration": 346,
    "start_time": "2025-04-22T12:45:32.385Z"
   },
   {
    "duration": 27,
    "start_time": "2025-04-22T12:45:32.733Z"
   },
   {
    "duration": 120,
    "start_time": "2025-04-22T12:45:32.762Z"
   },
   {
    "duration": 122,
    "start_time": "2025-04-22T12:45:32.884Z"
   },
   {
    "duration": 387,
    "start_time": "2025-04-22T12:45:33.008Z"
   },
   {
    "duration": 83,
    "start_time": "2025-04-22T12:45:33.397Z"
   },
   {
    "duration": 313,
    "start_time": "2025-04-22T12:45:33.481Z"
   },
   {
    "duration": 119,
    "start_time": "2025-04-22T12:45:33.796Z"
   },
   {
    "duration": 450,
    "start_time": "2025-04-22T12:45:33.917Z"
   },
   {
    "duration": 10,
    "start_time": "2025-04-22T12:45:34.369Z"
   },
   {
    "duration": 54,
    "start_time": "2025-04-22T12:45:34.381Z"
   },
   {
    "duration": 31,
    "start_time": "2025-04-22T12:45:34.437Z"
   },
   {
    "duration": 303,
    "start_time": "2025-04-22T12:45:34.470Z"
   },
   {
    "duration": 287,
    "start_time": "2025-04-22T12:45:34.775Z"
   },
   {
    "duration": 368,
    "start_time": "2025-04-22T12:45:35.064Z"
   },
   {
    "duration": 23,
    "start_time": "2025-04-22T12:45:35.437Z"
   },
   {
    "duration": 61,
    "start_time": "2025-04-22T12:45:35.462Z"
   },
   {
    "duration": 144,
    "start_time": "2025-04-22T12:45:35.526Z"
   },
   {
    "duration": 30,
    "start_time": "2025-04-22T12:45:35.672Z"
   },
   {
    "duration": 84,
    "start_time": "2025-04-22T12:45:35.704Z"
   },
   {
    "duration": 22,
    "start_time": "2025-04-22T12:45:35.790Z"
   },
   {
    "duration": 26,
    "start_time": "2025-04-22T12:45:35.814Z"
   },
   {
    "duration": 686,
    "start_time": "2025-04-22T12:45:35.842Z"
   },
   {
    "duration": 0,
    "start_time": "2025-04-22T12:45:36.531Z"
   },
   {
    "duration": 0,
    "start_time": "2025-04-22T12:45:36.533Z"
   },
   {
    "duration": 0,
    "start_time": "2025-04-22T12:45:36.534Z"
   },
   {
    "duration": 0,
    "start_time": "2025-04-22T12:45:36.536Z"
   },
   {
    "duration": 0,
    "start_time": "2025-04-22T12:45:36.537Z"
   },
   {
    "duration": 0,
    "start_time": "2025-04-22T12:45:36.539Z"
   },
   {
    "duration": 0,
    "start_time": "2025-04-22T12:45:36.541Z"
   },
   {
    "duration": 0,
    "start_time": "2025-04-22T12:45:36.542Z"
   },
   {
    "duration": 0,
    "start_time": "2025-04-22T12:45:36.544Z"
   },
   {
    "duration": 0,
    "start_time": "2025-04-22T12:45:36.545Z"
   },
   {
    "duration": 0,
    "start_time": "2025-04-22T12:45:36.547Z"
   },
   {
    "duration": 0,
    "start_time": "2025-04-22T12:45:36.548Z"
   },
   {
    "duration": 0,
    "start_time": "2025-04-22T12:45:36.550Z"
   },
   {
    "duration": 0,
    "start_time": "2025-04-22T12:45:36.552Z"
   },
   {
    "duration": 0,
    "start_time": "2025-04-22T12:45:36.553Z"
   },
   {
    "duration": 0,
    "start_time": "2025-04-22T12:45:36.555Z"
   },
   {
    "duration": 0,
    "start_time": "2025-04-22T12:45:36.556Z"
   },
   {
    "duration": 0,
    "start_time": "2025-04-22T12:45:36.558Z"
   },
   {
    "duration": 0,
    "start_time": "2025-04-22T12:45:36.559Z"
   },
   {
    "duration": 0,
    "start_time": "2025-04-22T12:45:36.604Z"
   },
   {
    "duration": 0,
    "start_time": "2025-04-22T12:45:36.606Z"
   },
   {
    "duration": 0,
    "start_time": "2025-04-22T12:45:36.608Z"
   },
   {
    "duration": 0,
    "start_time": "2025-04-22T12:45:36.609Z"
   },
   {
    "duration": 0,
    "start_time": "2025-04-22T12:45:36.611Z"
   },
   {
    "duration": 506,
    "start_time": "2025-04-22T12:47:53.993Z"
   },
   {
    "duration": 512,
    "start_time": "2025-04-22T12:47:58.750Z"
   },
   {
    "duration": 526,
    "start_time": "2025-04-22T12:48:01.356Z"
   },
   {
    "duration": 516,
    "start_time": "2025-04-22T12:48:54.608Z"
   },
   {
    "duration": 515,
    "start_time": "2025-04-22T12:49:01.693Z"
   },
   {
    "duration": 513,
    "start_time": "2025-04-22T12:49:05.932Z"
   },
   {
    "duration": 535,
    "start_time": "2025-04-22T12:49:11.256Z"
   },
   {
    "duration": 501,
    "start_time": "2025-04-22T12:50:25.580Z"
   },
   {
    "duration": 535,
    "start_time": "2025-04-22T12:50:35.628Z"
   },
   {
    "duration": 28,
    "start_time": "2025-04-22T12:50:41.010Z"
   },
   {
    "duration": 12,
    "start_time": "2025-04-22T12:50:41.815Z"
   },
   {
    "duration": 3,
    "start_time": "2025-04-22T12:51:04.270Z"
   },
   {
    "duration": 3,
    "start_time": "2025-04-22T12:51:05.430Z"
   },
   {
    "duration": 7023,
    "start_time": "2025-04-22T12:51:06.488Z"
   },
   {
    "duration": 5009,
    "start_time": "2025-04-22T12:51:20.408Z"
   },
   {
    "duration": 15,
    "start_time": "2025-04-22T12:51:28.356Z"
   },
   {
    "duration": 189,
    "start_time": "2025-04-22T12:51:36.258Z"
   },
   {
    "duration": 354,
    "start_time": "2025-04-22T12:51:45.634Z"
   },
   {
    "duration": 1868,
    "start_time": "2025-04-22T13:00:07.297Z"
   },
   {
    "duration": 1022,
    "start_time": "2025-04-22T13:00:09.167Z"
   },
   {
    "duration": 24,
    "start_time": "2025-04-22T13:00:10.190Z"
   },
   {
    "duration": 171,
    "start_time": "2025-04-22T13:00:10.216Z"
   },
   {
    "duration": 35,
    "start_time": "2025-04-22T13:00:10.389Z"
   },
   {
    "duration": 11,
    "start_time": "2025-04-22T13:00:10.426Z"
   },
   {
    "duration": 14,
    "start_time": "2025-04-22T13:00:10.439Z"
   },
   {
    "duration": 408,
    "start_time": "2025-04-22T13:00:10.455Z"
   },
   {
    "duration": 127,
    "start_time": "2025-04-22T13:00:10.865Z"
   },
   {
    "duration": 133,
    "start_time": "2025-04-22T13:00:10.995Z"
   },
   {
    "duration": 95,
    "start_time": "2025-04-22T13:00:11.130Z"
   },
   {
    "duration": 124,
    "start_time": "2025-04-22T13:00:11.227Z"
   },
   {
    "duration": 441,
    "start_time": "2025-04-22T13:00:11.353Z"
   },
   {
    "duration": 32,
    "start_time": "2025-04-22T13:00:11.795Z"
   },
   {
    "duration": 53,
    "start_time": "2025-04-22T13:00:11.829Z"
   },
   {
    "duration": 140,
    "start_time": "2025-04-22T13:00:11.883Z"
   },
   {
    "duration": 523,
    "start_time": "2025-04-22T13:00:12.026Z"
   },
   {
    "duration": 93,
    "start_time": "2025-04-22T13:00:12.551Z"
   },
   {
    "duration": 416,
    "start_time": "2025-04-22T13:00:12.646Z"
   },
   {
    "duration": 141,
    "start_time": "2025-04-22T13:00:13.064Z"
   },
   {
    "duration": 649,
    "start_time": "2025-04-22T13:00:13.208Z"
   },
   {
    "duration": 10,
    "start_time": "2025-04-22T13:00:13.859Z"
   },
   {
    "duration": 55,
    "start_time": "2025-04-22T13:00:13.871Z"
   },
   {
    "duration": 20,
    "start_time": "2025-04-22T13:00:13.928Z"
   },
   {
    "duration": 326,
    "start_time": "2025-04-22T13:00:13.950Z"
   },
   {
    "duration": 290,
    "start_time": "2025-04-22T13:00:14.278Z"
   },
   {
    "duration": 386,
    "start_time": "2025-04-22T13:00:14.569Z"
   },
   {
    "duration": 31,
    "start_time": "2025-04-22T13:00:14.961Z"
   },
   {
    "duration": 174,
    "start_time": "2025-04-22T13:00:14.995Z"
   },
   {
    "duration": 257,
    "start_time": "2025-04-22T13:00:15.170Z"
   },
   {
    "duration": 27,
    "start_time": "2025-04-22T13:00:15.430Z"
   },
   {
    "duration": 142,
    "start_time": "2025-04-22T13:00:15.458Z"
   },
   {
    "duration": 17,
    "start_time": "2025-04-22T13:00:15.602Z"
   },
   {
    "duration": 69,
    "start_time": "2025-04-22T13:00:15.622Z"
   },
   {
    "duration": 539,
    "start_time": "2025-04-22T13:00:15.692Z"
   },
   {
    "duration": 28,
    "start_time": "2025-04-22T13:00:16.233Z"
   },
   {
    "duration": 17,
    "start_time": "2025-04-22T13:00:16.262Z"
   },
   {
    "duration": 24,
    "start_time": "2025-04-22T13:00:16.281Z"
   },
   {
    "duration": 14,
    "start_time": "2025-04-22T13:00:16.307Z"
   },
   {
    "duration": 77,
    "start_time": "2025-04-22T13:00:16.323Z"
   },
   {
    "duration": 35,
    "start_time": "2025-04-22T13:00:16.402Z"
   },
   {
    "duration": 11,
    "start_time": "2025-04-22T13:00:16.439Z"
   },
   {
    "duration": 6,
    "start_time": "2025-04-22T13:00:16.451Z"
   },
   {
    "duration": 27,
    "start_time": "2025-04-22T13:00:16.459Z"
   },
   {
    "duration": 22,
    "start_time": "2025-04-22T13:00:16.488Z"
   },
   {
    "duration": 27,
    "start_time": "2025-04-22T13:00:16.512Z"
   },
   {
    "duration": 11,
    "start_time": "2025-04-22T13:00:16.541Z"
   },
   {
    "duration": 19,
    "start_time": "2025-04-22T13:00:16.553Z"
   },
   {
    "duration": 7,
    "start_time": "2025-04-22T13:00:16.574Z"
   },
   {
    "duration": 31325,
    "start_time": "2025-04-22T13:00:16.583Z"
   },
   {
    "duration": 108,
    "start_time": "2025-04-22T13:00:47.910Z"
   },
   {
    "duration": 5,
    "start_time": "2025-04-22T13:00:48.020Z"
   },
   {
    "duration": 5,
    "start_time": "2025-04-22T13:00:48.027Z"
   },
   {
    "duration": 82272,
    "start_time": "2025-04-22T13:00:48.034Z"
   },
   {
    "duration": 5510,
    "start_time": "2025-04-22T13:02:10.308Z"
   },
   {
    "duration": 2104,
    "start_time": "2025-04-22T13:02:15.819Z"
   },
   {
    "duration": 6,
    "start_time": "2025-04-22T13:02:17.925Z"
   },
   {
    "duration": 703,
    "start_time": "2025-04-22T13:02:18.006Z"
   },
   {
    "duration": 5,
    "start_time": "2025-04-22T13:02:18.711Z"
   },
   {
    "duration": 1810,
    "start_time": "2025-04-22T13:10:02.580Z"
   },
   {
    "duration": 983,
    "start_time": "2025-04-22T13:10:04.394Z"
   },
   {
    "duration": 28,
    "start_time": "2025-04-22T13:10:05.378Z"
   },
   {
    "duration": 182,
    "start_time": "2025-04-22T13:10:05.408Z"
   },
   {
    "duration": 34,
    "start_time": "2025-04-22T13:10:05.591Z"
   },
   {
    "duration": 79,
    "start_time": "2025-04-22T13:10:05.627Z"
   },
   {
    "duration": 28,
    "start_time": "2025-04-22T13:10:05.708Z"
   },
   {
    "duration": 422,
    "start_time": "2025-04-22T13:10:05.737Z"
   },
   {
    "duration": 149,
    "start_time": "2025-04-22T13:10:06.161Z"
   },
   {
    "duration": 13,
    "start_time": "2025-04-22T13:10:06.312Z"
   },
   {
    "duration": 158,
    "start_time": "2025-04-22T13:10:06.326Z"
   },
   {
    "duration": 124,
    "start_time": "2025-04-22T13:10:06.486Z"
   },
   {
    "duration": 471,
    "start_time": "2025-04-22T13:10:06.613Z"
   },
   {
    "duration": 35,
    "start_time": "2025-04-22T13:10:07.086Z"
   },
   {
    "duration": 91,
    "start_time": "2025-04-22T13:10:07.122Z"
   },
   {
    "duration": 111,
    "start_time": "2025-04-22T13:10:07.215Z"
   },
   {
    "duration": 498,
    "start_time": "2025-04-22T13:10:07.328Z"
   },
   {
    "duration": 93,
    "start_time": "2025-04-22T13:10:07.827Z"
   },
   {
    "duration": 385,
    "start_time": "2025-04-22T13:10:07.922Z"
   },
   {
    "duration": 116,
    "start_time": "2025-04-22T13:10:08.309Z"
   },
   {
    "duration": 511,
    "start_time": "2025-04-22T13:10:08.427Z"
   },
   {
    "duration": 74,
    "start_time": "2025-04-22T13:10:08.940Z"
   },
   {
    "duration": 36,
    "start_time": "2025-04-22T13:10:09.016Z"
   },
   {
    "duration": 12,
    "start_time": "2025-04-22T13:10:09.054Z"
   },
   {
    "duration": 355,
    "start_time": "2025-04-22T13:10:09.068Z"
   },
   {
    "duration": 285,
    "start_time": "2025-04-22T13:10:09.424Z"
   },
   {
    "duration": 363,
    "start_time": "2025-04-22T13:10:09.711Z"
   },
   {
    "duration": 31,
    "start_time": "2025-04-22T13:10:10.076Z"
   },
   {
    "duration": 22,
    "start_time": "2025-04-22T13:10:10.109Z"
   },
   {
    "duration": 124,
    "start_time": "2025-04-22T13:10:10.132Z"
   },
   {
    "duration": 24,
    "start_time": "2025-04-22T13:10:10.258Z"
   },
   {
    "duration": 78,
    "start_time": "2025-04-22T13:10:10.283Z"
   },
   {
    "duration": 10,
    "start_time": "2025-04-22T13:10:10.363Z"
   },
   {
    "duration": 65,
    "start_time": "2025-04-22T13:10:10.375Z"
   },
   {
    "duration": 498,
    "start_time": "2025-04-22T13:10:10.442Z"
   },
   {
    "duration": 25,
    "start_time": "2025-04-22T13:10:10.941Z"
   },
   {
    "duration": 18,
    "start_time": "2025-04-22T13:10:10.968Z"
   },
   {
    "duration": 18,
    "start_time": "2025-04-22T13:10:10.987Z"
   },
   {
    "duration": 30,
    "start_time": "2025-04-22T13:10:11.007Z"
   },
   {
    "duration": 12,
    "start_time": "2025-04-22T13:10:11.042Z"
   },
   {
    "duration": 6,
    "start_time": "2025-04-22T13:10:11.056Z"
   },
   {
    "duration": 100,
    "start_time": "2025-04-22T13:10:11.064Z"
   },
   {
    "duration": 19,
    "start_time": "2025-04-22T13:10:11.166Z"
   },
   {
    "duration": 41,
    "start_time": "2025-04-22T13:10:11.187Z"
   },
   {
    "duration": 19,
    "start_time": "2025-04-22T13:10:11.230Z"
   },
   {
    "duration": 9,
    "start_time": "2025-04-22T13:10:11.251Z"
   },
   {
    "duration": 5,
    "start_time": "2025-04-22T13:10:11.262Z"
   },
   {
    "duration": 12,
    "start_time": "2025-04-22T13:10:11.269Z"
   },
   {
    "duration": 6,
    "start_time": "2025-04-22T13:10:11.282Z"
   },
   {
    "duration": 18218,
    "start_time": "2025-04-22T13:10:11.290Z"
   },
   {
    "duration": 109,
    "start_time": "2025-04-22T13:10:29.512Z"
   },
   {
    "duration": 3,
    "start_time": "2025-04-22T13:10:29.623Z"
   },
   {
    "duration": 14,
    "start_time": "2025-04-22T13:10:29.628Z"
   },
   {
    "duration": 7467,
    "start_time": "2025-04-22T13:10:29.644Z"
   },
   {
    "duration": 5298,
    "start_time": "2025-04-22T13:10:37.113Z"
   },
   {
    "duration": 2101,
    "start_time": "2025-04-22T13:10:42.413Z"
   },
   {
    "duration": 6,
    "start_time": "2025-04-22T13:10:44.516Z"
   },
   {
    "duration": 781,
    "start_time": "2025-04-22T13:10:44.524Z"
   },
   {
    "duration": 5,
    "start_time": "2025-04-22T13:10:45.307Z"
   },
   {
    "duration": 3324,
    "start_time": "2025-04-22T13:16:11.410Z"
   },
   {
    "duration": 1771,
    "start_time": "2025-04-22T13:16:14.737Z"
   },
   {
    "duration": 961,
    "start_time": "2025-04-22T13:16:16.510Z"
   },
   {
    "duration": 18,
    "start_time": "2025-04-22T13:16:17.474Z"
   },
   {
    "duration": 175,
    "start_time": "2025-04-22T13:16:17.494Z"
   },
   {
    "duration": 46,
    "start_time": "2025-04-22T13:16:17.671Z"
   },
   {
    "duration": 51,
    "start_time": "2025-04-22T13:16:17.718Z"
   },
   {
    "duration": 75,
    "start_time": "2025-04-22T13:16:17.771Z"
   },
   {
    "duration": 429,
    "start_time": "2025-04-22T13:16:17.848Z"
   },
   {
    "duration": 132,
    "start_time": "2025-04-22T13:16:18.280Z"
   },
   {
    "duration": 32,
    "start_time": "2025-04-22T13:16:18.413Z"
   },
   {
    "duration": 58,
    "start_time": "2025-04-22T13:16:18.447Z"
   },
   {
    "duration": 119,
    "start_time": "2025-04-22T13:16:18.507Z"
   },
   {
    "duration": 470,
    "start_time": "2025-04-22T13:16:18.628Z"
   },
   {
    "duration": 31,
    "start_time": "2025-04-22T13:16:19.100Z"
   },
   {
    "duration": 148,
    "start_time": "2025-04-22T13:16:19.133Z"
   },
   {
    "duration": 112,
    "start_time": "2025-04-22T13:16:19.282Z"
   },
   {
    "duration": 457,
    "start_time": "2025-04-22T13:16:19.396Z"
   },
   {
    "duration": 89,
    "start_time": "2025-04-22T13:16:19.855Z"
   },
   {
    "duration": 410,
    "start_time": "2025-04-22T13:16:19.946Z"
   },
   {
    "duration": 121,
    "start_time": "2025-04-22T13:16:20.357Z"
   },
   {
    "duration": 539,
    "start_time": "2025-04-22T13:16:20.479Z"
   },
   {
    "duration": 11,
    "start_time": "2025-04-22T13:16:21.020Z"
   },
   {
    "duration": 59,
    "start_time": "2025-04-22T13:16:21.033Z"
   },
   {
    "duration": 13,
    "start_time": "2025-04-22T13:16:21.094Z"
   },
   {
    "duration": 407,
    "start_time": "2025-04-22T13:16:21.109Z"
   },
   {
    "duration": 280,
    "start_time": "2025-04-22T13:16:21.518Z"
   },
   {
    "duration": 374,
    "start_time": "2025-04-22T13:16:21.804Z"
   },
   {
    "duration": 27,
    "start_time": "2025-04-22T13:16:22.179Z"
   },
   {
    "duration": 24,
    "start_time": "2025-04-22T13:16:22.208Z"
   },
   {
    "duration": 113,
    "start_time": "2025-04-22T13:16:22.233Z"
   },
   {
    "duration": 15,
    "start_time": "2025-04-22T13:16:22.348Z"
   },
   {
    "duration": 88,
    "start_time": "2025-04-22T13:16:22.365Z"
   },
   {
    "duration": 11,
    "start_time": "2025-04-22T13:16:22.455Z"
   },
   {
    "duration": 35,
    "start_time": "2025-04-22T13:16:22.468Z"
   },
   {
    "duration": 492,
    "start_time": "2025-04-22T13:16:22.504Z"
   },
   {
    "duration": 10192,
    "start_time": "2025-04-22T13:16:22.998Z"
   },
   {
    "duration": 0,
    "start_time": "2025-04-22T13:16:33.192Z"
   },
   {
    "duration": 0,
    "start_time": "2025-04-22T13:16:33.194Z"
   },
   {
    "duration": 0,
    "start_time": "2025-04-22T13:16:33.195Z"
   },
   {
    "duration": 0,
    "start_time": "2025-04-22T13:16:33.205Z"
   },
   {
    "duration": 0,
    "start_time": "2025-04-22T13:16:33.207Z"
   },
   {
    "duration": 0,
    "start_time": "2025-04-22T13:16:33.208Z"
   },
   {
    "duration": 0,
    "start_time": "2025-04-22T13:16:33.209Z"
   },
   {
    "duration": 0,
    "start_time": "2025-04-22T13:16:33.211Z"
   },
   {
    "duration": 0,
    "start_time": "2025-04-22T13:16:33.211Z"
   },
   {
    "duration": 0,
    "start_time": "2025-04-22T13:16:33.213Z"
   },
   {
    "duration": 0,
    "start_time": "2025-04-22T13:16:33.213Z"
   },
   {
    "duration": 0,
    "start_time": "2025-04-22T13:16:33.215Z"
   },
   {
    "duration": 0,
    "start_time": "2025-04-22T13:16:33.216Z"
   },
   {
    "duration": 0,
    "start_time": "2025-04-22T13:16:33.217Z"
   },
   {
    "duration": 0,
    "start_time": "2025-04-22T13:16:33.218Z"
   },
   {
    "duration": 0,
    "start_time": "2025-04-22T13:16:33.219Z"
   },
   {
    "duration": 0,
    "start_time": "2025-04-22T13:16:33.221Z"
   },
   {
    "duration": 0,
    "start_time": "2025-04-22T13:16:33.222Z"
   },
   {
    "duration": 0,
    "start_time": "2025-04-22T13:16:33.223Z"
   },
   {
    "duration": 0,
    "start_time": "2025-04-22T13:16:33.224Z"
   },
   {
    "duration": 0,
    "start_time": "2025-04-22T13:16:33.225Z"
   },
   {
    "duration": 0,
    "start_time": "2025-04-22T13:16:33.226Z"
   },
   {
    "duration": 0,
    "start_time": "2025-04-22T13:16:33.227Z"
   },
   {
    "duration": 0,
    "start_time": "2025-04-22T13:16:33.228Z"
   },
   {
    "duration": 0,
    "start_time": "2025-04-22T13:16:33.229Z"
   },
   {
    "duration": 3380,
    "start_time": "2025-04-22T13:18:10.456Z"
   },
   {
    "duration": 1758,
    "start_time": "2025-04-22T13:18:13.838Z"
   },
   {
    "duration": 970,
    "start_time": "2025-04-22T13:18:15.598Z"
   },
   {
    "duration": 17,
    "start_time": "2025-04-22T13:18:16.570Z"
   },
   {
    "duration": 168,
    "start_time": "2025-04-22T13:18:16.589Z"
   },
   {
    "duration": 34,
    "start_time": "2025-04-22T13:18:16.758Z"
   },
   {
    "duration": 3,
    "start_time": "2025-04-22T13:18:16.806Z"
   },
   {
    "duration": 5,
    "start_time": "2025-04-22T13:18:16.810Z"
   },
   {
    "duration": 379,
    "start_time": "2025-04-22T13:18:16.817Z"
   },
   {
    "duration": 133,
    "start_time": "2025-04-22T13:18:17.199Z"
   },
   {
    "duration": 13,
    "start_time": "2025-04-22T13:18:17.333Z"
   },
   {
    "duration": 60,
    "start_time": "2025-04-22T13:18:17.347Z"
   },
   {
    "duration": 122,
    "start_time": "2025-04-22T13:18:17.408Z"
   },
   {
    "duration": 442,
    "start_time": "2025-04-22T13:18:17.532Z"
   },
   {
    "duration": 36,
    "start_time": "2025-04-22T13:18:17.975Z"
   },
   {
    "duration": 53,
    "start_time": "2025-04-22T13:18:18.012Z"
   },
   {
    "duration": 127,
    "start_time": "2025-04-22T13:18:18.067Z"
   },
   {
    "duration": 440,
    "start_time": "2025-04-22T13:18:18.204Z"
   },
   {
    "duration": 95,
    "start_time": "2025-04-22T13:18:18.646Z"
   },
   {
    "duration": 419,
    "start_time": "2025-04-22T13:18:18.743Z"
   },
   {
    "duration": 119,
    "start_time": "2025-04-22T13:18:19.164Z"
   },
   {
    "duration": 543,
    "start_time": "2025-04-22T13:18:19.284Z"
   },
   {
    "duration": 11,
    "start_time": "2025-04-22T13:18:19.829Z"
   },
   {
    "duration": 40,
    "start_time": "2025-04-22T13:18:19.842Z"
   },
   {
    "duration": 24,
    "start_time": "2025-04-22T13:18:19.884Z"
   },
   {
    "duration": 286,
    "start_time": "2025-04-22T13:18:19.910Z"
   },
   {
    "duration": 273,
    "start_time": "2025-04-22T13:18:20.197Z"
   },
   {
    "duration": 357,
    "start_time": "2025-04-22T13:18:20.474Z"
   },
   {
    "duration": 23,
    "start_time": "2025-04-22T13:18:20.832Z"
   },
   {
    "duration": 17,
    "start_time": "2025-04-22T13:18:20.856Z"
   },
   {
    "duration": 125,
    "start_time": "2025-04-22T13:18:20.875Z"
   },
   {
    "duration": 22,
    "start_time": "2025-04-22T13:18:21.004Z"
   },
   {
    "duration": 66,
    "start_time": "2025-04-22T13:18:21.028Z"
   },
   {
    "duration": 17,
    "start_time": "2025-04-22T13:18:21.096Z"
   },
   {
    "duration": 19,
    "start_time": "2025-04-22T13:18:21.115Z"
   },
   {
    "duration": 584,
    "start_time": "2025-04-22T13:18:21.135Z"
   },
   {
    "duration": 518,
    "start_time": "2025-04-22T13:18:21.720Z"
   },
   {
    "duration": 23,
    "start_time": "2025-04-22T13:18:22.239Z"
   },
   {
    "duration": 12,
    "start_time": "2025-04-22T13:18:22.263Z"
   },
   {
    "duration": 141,
    "start_time": "2025-04-22T13:18:22.277Z"
   },
   {
    "duration": 0,
    "start_time": "2025-04-22T13:18:22.419Z"
   },
   {
    "duration": 0,
    "start_time": "2025-04-22T13:18:22.420Z"
   },
   {
    "duration": 0,
    "start_time": "2025-04-22T13:18:22.421Z"
   },
   {
    "duration": 0,
    "start_time": "2025-04-22T13:18:22.422Z"
   },
   {
    "duration": 0,
    "start_time": "2025-04-22T13:18:22.423Z"
   },
   {
    "duration": 0,
    "start_time": "2025-04-22T13:18:22.425Z"
   },
   {
    "duration": 0,
    "start_time": "2025-04-22T13:18:22.426Z"
   },
   {
    "duration": 0,
    "start_time": "2025-04-22T13:18:22.427Z"
   },
   {
    "duration": 0,
    "start_time": "2025-04-22T13:18:22.428Z"
   },
   {
    "duration": 0,
    "start_time": "2025-04-22T13:18:22.429Z"
   },
   {
    "duration": 0,
    "start_time": "2025-04-22T13:18:22.430Z"
   },
   {
    "duration": 0,
    "start_time": "2025-04-22T13:18:22.431Z"
   },
   {
    "duration": 0,
    "start_time": "2025-04-22T13:18:22.433Z"
   },
   {
    "duration": 0,
    "start_time": "2025-04-22T13:18:22.434Z"
   },
   {
    "duration": 0,
    "start_time": "2025-04-22T13:18:22.435Z"
   },
   {
    "duration": 0,
    "start_time": "2025-04-22T13:18:22.436Z"
   },
   {
    "duration": 0,
    "start_time": "2025-04-22T13:18:22.437Z"
   },
   {
    "duration": 0,
    "start_time": "2025-04-22T13:18:22.438Z"
   },
   {
    "duration": 0,
    "start_time": "2025-04-22T13:18:22.439Z"
   },
   {
    "duration": 0,
    "start_time": "2025-04-22T13:18:22.440Z"
   },
   {
    "duration": 0,
    "start_time": "2025-04-22T13:18:22.441Z"
   },
   {
    "duration": 0,
    "start_time": "2025-04-22T13:18:22.442Z"
   },
   {
    "duration": 4,
    "start_time": "2025-04-22T13:19:05.865Z"
   },
   {
    "duration": 9565,
    "start_time": "2025-04-22T13:19:33.472Z"
   },
   {
    "duration": 17,
    "start_time": "2025-04-22T13:20:18.287Z"
   },
   {
    "duration": 3347,
    "start_time": "2025-04-22T13:20:47.172Z"
   },
   {
    "duration": 1710,
    "start_time": "2025-04-22T13:20:50.521Z"
   },
   {
    "duration": 976,
    "start_time": "2025-04-22T13:20:52.233Z"
   },
   {
    "duration": 17,
    "start_time": "2025-04-22T13:20:53.213Z"
   },
   {
    "duration": 176,
    "start_time": "2025-04-22T13:20:53.232Z"
   },
   {
    "duration": 30,
    "start_time": "2025-04-22T13:20:53.410Z"
   },
   {
    "duration": 9,
    "start_time": "2025-04-22T13:20:53.442Z"
   },
   {
    "duration": 24,
    "start_time": "2025-04-22T13:20:53.453Z"
   },
   {
    "duration": 410,
    "start_time": "2025-04-22T13:20:53.479Z"
   },
   {
    "duration": 128,
    "start_time": "2025-04-22T13:20:53.892Z"
   },
   {
    "duration": 18,
    "start_time": "2025-04-22T13:20:54.025Z"
   },
   {
    "duration": 52,
    "start_time": "2025-04-22T13:20:54.045Z"
   },
   {
    "duration": 125,
    "start_time": "2025-04-22T13:20:54.099Z"
   },
   {
    "duration": 452,
    "start_time": "2025-04-22T13:20:54.226Z"
   },
   {
    "duration": 31,
    "start_time": "2025-04-22T13:20:54.680Z"
   },
   {
    "duration": 99,
    "start_time": "2025-04-22T13:20:54.712Z"
   },
   {
    "duration": 123,
    "start_time": "2025-04-22T13:20:54.813Z"
   },
   {
    "duration": 500,
    "start_time": "2025-04-22T13:20:54.938Z"
   },
   {
    "duration": 89,
    "start_time": "2025-04-22T13:20:55.440Z"
   },
   {
    "duration": 400,
    "start_time": "2025-04-22T13:20:55.531Z"
   },
   {
    "duration": 120,
    "start_time": "2025-04-22T13:20:55.933Z"
   },
   {
    "duration": 569,
    "start_time": "2025-04-22T13:20:56.054Z"
   },
   {
    "duration": 11,
    "start_time": "2025-04-22T13:20:56.624Z"
   },
   {
    "duration": 35,
    "start_time": "2025-04-22T13:20:56.637Z"
   },
   {
    "duration": 32,
    "start_time": "2025-04-22T13:20:56.674Z"
   },
   {
    "duration": 329,
    "start_time": "2025-04-22T13:20:56.708Z"
   },
   {
    "duration": 273,
    "start_time": "2025-04-22T13:20:57.039Z"
   },
   {
    "duration": 365,
    "start_time": "2025-04-22T13:20:57.316Z"
   },
   {
    "duration": 28,
    "start_time": "2025-04-22T13:20:57.682Z"
   },
   {
    "duration": 15,
    "start_time": "2025-04-22T13:20:57.711Z"
   },
   {
    "duration": 147,
    "start_time": "2025-04-22T13:20:57.727Z"
   },
   {
    "duration": 16,
    "start_time": "2025-04-22T13:20:57.876Z"
   },
   {
    "duration": 78,
    "start_time": "2025-04-22T13:20:57.894Z"
   },
   {
    "duration": 12,
    "start_time": "2025-04-22T13:20:57.974Z"
   },
   {
    "duration": 26,
    "start_time": "2025-04-22T13:20:57.987Z"
   },
   {
    "duration": 502,
    "start_time": "2025-04-22T13:20:58.015Z"
   },
   {
    "duration": 5,
    "start_time": "2025-04-22T13:20:58.519Z"
   },
   {
    "duration": 5,
    "start_time": "2025-04-22T13:20:58.526Z"
   },
   {
    "duration": 534,
    "start_time": "2025-04-22T13:20:58.533Z"
   },
   {
    "duration": 9585,
    "start_time": "2025-04-22T13:20:59.069Z"
   },
   {
    "duration": 29,
    "start_time": "2025-04-22T13:21:08.656Z"
   },
   {
    "duration": 34,
    "start_time": "2025-04-22T13:21:08.687Z"
   },
   {
    "duration": 137,
    "start_time": "2025-04-22T13:21:08.723Z"
   },
   {
    "duration": 0,
    "start_time": "2025-04-22T13:21:08.862Z"
   },
   {
    "duration": 0,
    "start_time": "2025-04-22T13:21:08.864Z"
   },
   {
    "duration": 0,
    "start_time": "2025-04-22T13:21:08.866Z"
   },
   {
    "duration": 0,
    "start_time": "2025-04-22T13:21:08.867Z"
   },
   {
    "duration": 0,
    "start_time": "2025-04-22T13:21:08.869Z"
   },
   {
    "duration": 0,
    "start_time": "2025-04-22T13:21:08.870Z"
   },
   {
    "duration": 0,
    "start_time": "2025-04-22T13:21:08.872Z"
   },
   {
    "duration": 0,
    "start_time": "2025-04-22T13:21:08.874Z"
   },
   {
    "duration": 0,
    "start_time": "2025-04-22T13:21:08.875Z"
   },
   {
    "duration": 0,
    "start_time": "2025-04-22T13:21:08.877Z"
   },
   {
    "duration": 0,
    "start_time": "2025-04-22T13:21:08.878Z"
   },
   {
    "duration": 0,
    "start_time": "2025-04-22T13:21:08.880Z"
   },
   {
    "duration": 0,
    "start_time": "2025-04-22T13:21:08.881Z"
   },
   {
    "duration": 0,
    "start_time": "2025-04-22T13:21:08.882Z"
   },
   {
    "duration": 0,
    "start_time": "2025-04-22T13:21:08.882Z"
   },
   {
    "duration": 0,
    "start_time": "2025-04-22T13:21:08.883Z"
   },
   {
    "duration": 0,
    "start_time": "2025-04-22T13:21:08.883Z"
   },
   {
    "duration": 0,
    "start_time": "2025-04-22T13:21:08.884Z"
   },
   {
    "duration": 0,
    "start_time": "2025-04-22T13:21:08.906Z"
   },
   {
    "duration": 0,
    "start_time": "2025-04-22T13:21:08.908Z"
   },
   {
    "duration": 0,
    "start_time": "2025-04-22T13:21:08.909Z"
   },
   {
    "duration": 0,
    "start_time": "2025-04-22T13:21:08.911Z"
   },
   {
    "duration": 3375,
    "start_time": "2025-04-22T13:22:30.419Z"
   },
   {
    "duration": 1817,
    "start_time": "2025-04-22T13:22:33.797Z"
   },
   {
    "duration": 969,
    "start_time": "2025-04-22T13:22:35.616Z"
   },
   {
    "duration": 25,
    "start_time": "2025-04-22T13:22:36.587Z"
   },
   {
    "duration": 229,
    "start_time": "2025-04-22T13:22:36.614Z"
   },
   {
    "duration": 30,
    "start_time": "2025-04-22T13:22:36.845Z"
   },
   {
    "duration": 25,
    "start_time": "2025-04-22T13:22:36.877Z"
   },
   {
    "duration": 14,
    "start_time": "2025-04-22T13:22:36.903Z"
   },
   {
    "duration": 408,
    "start_time": "2025-04-22T13:22:36.918Z"
   },
   {
    "duration": 131,
    "start_time": "2025-04-22T13:22:37.329Z"
   },
   {
    "duration": 15,
    "start_time": "2025-04-22T13:22:37.462Z"
   },
   {
    "duration": 56,
    "start_time": "2025-04-22T13:22:37.479Z"
   },
   {
    "duration": 149,
    "start_time": "2025-04-22T13:22:37.537Z"
   },
   {
    "duration": 480,
    "start_time": "2025-04-22T13:22:37.688Z"
   },
   {
    "duration": 44,
    "start_time": "2025-04-22T13:22:38.170Z"
   },
   {
    "duration": 54,
    "start_time": "2025-04-22T13:22:38.216Z"
   },
   {
    "duration": 124,
    "start_time": "2025-04-22T13:22:38.273Z"
   },
   {
    "duration": 441,
    "start_time": "2025-04-22T13:22:38.405Z"
   },
   {
    "duration": 112,
    "start_time": "2025-04-22T13:22:38.848Z"
   },
   {
    "duration": 398,
    "start_time": "2025-04-22T13:22:38.962Z"
   },
   {
    "duration": 121,
    "start_time": "2025-04-22T13:22:39.362Z"
   },
   {
    "duration": 534,
    "start_time": "2025-04-22T13:22:39.485Z"
   },
   {
    "duration": 11,
    "start_time": "2025-04-22T13:22:40.021Z"
   },
   {
    "duration": 53,
    "start_time": "2025-04-22T13:22:40.033Z"
   },
   {
    "duration": 17,
    "start_time": "2025-04-22T13:22:40.088Z"
   },
   {
    "duration": 303,
    "start_time": "2025-04-22T13:22:40.107Z"
   },
   {
    "duration": 279,
    "start_time": "2025-04-22T13:22:40.411Z"
   },
   {
    "duration": 368,
    "start_time": "2025-04-22T13:22:40.694Z"
   },
   {
    "duration": 24,
    "start_time": "2025-04-22T13:22:41.064Z"
   },
   {
    "duration": 26,
    "start_time": "2025-04-22T13:22:41.090Z"
   },
   {
    "duration": 126,
    "start_time": "2025-04-22T13:22:41.117Z"
   },
   {
    "duration": 21,
    "start_time": "2025-04-22T13:22:41.244Z"
   },
   {
    "duration": 84,
    "start_time": "2025-04-22T13:22:41.267Z"
   },
   {
    "duration": 11,
    "start_time": "2025-04-22T13:22:41.353Z"
   },
   {
    "duration": 24,
    "start_time": "2025-04-22T13:22:41.365Z"
   },
   {
    "duration": 509,
    "start_time": "2025-04-22T13:22:41.391Z"
   },
   {
    "duration": 18,
    "start_time": "2025-04-22T13:22:41.902Z"
   },
   {
    "duration": 7,
    "start_time": "2025-04-22T13:22:41.921Z"
   },
   {
    "duration": 532,
    "start_time": "2025-04-22T13:22:41.929Z"
   },
   {
    "duration": 9527,
    "start_time": "2025-04-22T13:22:42.463Z"
   },
   {
    "duration": 34,
    "start_time": "2025-04-22T13:22:51.992Z"
   },
   {
    "duration": 17,
    "start_time": "2025-04-22T13:22:52.028Z"
   },
   {
    "duration": 144,
    "start_time": "2025-04-22T13:22:52.047Z"
   },
   {
    "duration": 0,
    "start_time": "2025-04-22T13:22:52.193Z"
   },
   {
    "duration": 0,
    "start_time": "2025-04-22T13:22:52.194Z"
   },
   {
    "duration": 0,
    "start_time": "2025-04-22T13:22:52.195Z"
   },
   {
    "duration": 0,
    "start_time": "2025-04-22T13:22:52.196Z"
   },
   {
    "duration": 0,
    "start_time": "2025-04-22T13:22:52.205Z"
   },
   {
    "duration": 0,
    "start_time": "2025-04-22T13:22:52.206Z"
   },
   {
    "duration": 0,
    "start_time": "2025-04-22T13:22:52.207Z"
   },
   {
    "duration": 0,
    "start_time": "2025-04-22T13:22:52.208Z"
   },
   {
    "duration": 0,
    "start_time": "2025-04-22T13:22:52.210Z"
   },
   {
    "duration": 0,
    "start_time": "2025-04-22T13:22:52.211Z"
   },
   {
    "duration": 0,
    "start_time": "2025-04-22T13:22:52.212Z"
   },
   {
    "duration": 0,
    "start_time": "2025-04-22T13:22:52.213Z"
   },
   {
    "duration": 0,
    "start_time": "2025-04-22T13:22:52.214Z"
   },
   {
    "duration": 0,
    "start_time": "2025-04-22T13:22:52.215Z"
   },
   {
    "duration": 0,
    "start_time": "2025-04-22T13:22:52.216Z"
   },
   {
    "duration": 0,
    "start_time": "2025-04-22T13:22:52.217Z"
   },
   {
    "duration": 0,
    "start_time": "2025-04-22T13:22:52.218Z"
   },
   {
    "duration": 0,
    "start_time": "2025-04-22T13:22:52.219Z"
   },
   {
    "duration": 0,
    "start_time": "2025-04-22T13:22:52.220Z"
   },
   {
    "duration": 0,
    "start_time": "2025-04-22T13:22:52.222Z"
   },
   {
    "duration": 0,
    "start_time": "2025-04-22T13:22:52.222Z"
   },
   {
    "duration": 0,
    "start_time": "2025-04-22T13:22:52.224Z"
   },
   {
    "duration": 3355,
    "start_time": "2025-04-22T13:24:14.742Z"
   },
   {
    "duration": 1789,
    "start_time": "2025-04-22T13:24:18.100Z"
   },
   {
    "duration": 958,
    "start_time": "2025-04-22T13:24:19.891Z"
   },
   {
    "duration": 17,
    "start_time": "2025-04-22T13:24:20.852Z"
   },
   {
    "duration": 188,
    "start_time": "2025-04-22T13:24:20.871Z"
   },
   {
    "duration": 33,
    "start_time": "2025-04-22T13:24:21.060Z"
   },
   {
    "duration": 3,
    "start_time": "2025-04-22T13:24:21.106Z"
   },
   {
    "duration": 33,
    "start_time": "2025-04-22T13:24:21.111Z"
   },
   {
    "duration": 439,
    "start_time": "2025-04-22T13:24:21.146Z"
   },
   {
    "duration": 130,
    "start_time": "2025-04-22T13:24:21.588Z"
   },
   {
    "duration": 29,
    "start_time": "2025-04-22T13:24:21.719Z"
   },
   {
    "duration": 45,
    "start_time": "2025-04-22T13:24:21.750Z"
   },
   {
    "duration": 133,
    "start_time": "2025-04-22T13:24:21.796Z"
   },
   {
    "duration": 445,
    "start_time": "2025-04-22T13:24:21.931Z"
   },
   {
    "duration": 35,
    "start_time": "2025-04-22T13:24:22.378Z"
   },
   {
    "duration": 64,
    "start_time": "2025-04-22T13:24:22.414Z"
   },
   {
    "duration": 139,
    "start_time": "2025-04-22T13:24:22.480Z"
   },
   {
    "duration": 523,
    "start_time": "2025-04-22T13:24:22.620Z"
   },
   {
    "duration": 84,
    "start_time": "2025-04-22T13:24:23.144Z"
   },
   {
    "duration": 445,
    "start_time": "2025-04-22T13:24:23.229Z"
   },
   {
    "duration": 122,
    "start_time": "2025-04-22T13:24:23.676Z"
   },
   {
    "duration": 524,
    "start_time": "2025-04-22T13:24:23.806Z"
   },
   {
    "duration": 11,
    "start_time": "2025-04-22T13:24:24.332Z"
   },
   {
    "duration": 54,
    "start_time": "2025-04-22T13:24:24.344Z"
   },
   {
    "duration": 12,
    "start_time": "2025-04-22T13:24:24.406Z"
   },
   {
    "duration": 370,
    "start_time": "2025-04-22T13:24:24.420Z"
   },
   {
    "duration": 305,
    "start_time": "2025-04-22T13:24:24.792Z"
   },
   {
    "duration": 364,
    "start_time": "2025-04-22T13:24:25.104Z"
   },
   {
    "duration": 23,
    "start_time": "2025-04-22T13:24:25.469Z"
   },
   {
    "duration": 25,
    "start_time": "2025-04-22T13:24:25.494Z"
   },
   {
    "duration": 119,
    "start_time": "2025-04-22T13:24:25.521Z"
   },
   {
    "duration": 93,
    "start_time": "2025-04-22T13:24:25.641Z"
   },
   {
    "duration": 67,
    "start_time": "2025-04-22T13:24:25.736Z"
   },
   {
    "duration": 10,
    "start_time": "2025-04-22T13:24:25.805Z"
   },
   {
    "duration": 50,
    "start_time": "2025-04-22T13:24:25.817Z"
   },
   {
    "duration": 537,
    "start_time": "2025-04-22T13:24:25.868Z"
   },
   {
    "duration": 16,
    "start_time": "2025-04-22T13:24:26.406Z"
   },
   {
    "duration": 76,
    "start_time": "2025-04-22T13:24:26.424Z"
   },
   {
    "duration": 119,
    "start_time": "2025-04-22T13:24:26.502Z"
   },
   {
    "duration": 0,
    "start_time": "2025-04-22T13:24:26.623Z"
   },
   {
    "duration": 0,
    "start_time": "2025-04-22T13:24:26.625Z"
   },
   {
    "duration": 0,
    "start_time": "2025-04-22T13:24:26.625Z"
   },
   {
    "duration": 0,
    "start_time": "2025-04-22T13:24:26.627Z"
   },
   {
    "duration": 0,
    "start_time": "2025-04-22T13:24:26.628Z"
   },
   {
    "duration": 0,
    "start_time": "2025-04-22T13:24:26.629Z"
   },
   {
    "duration": 0,
    "start_time": "2025-04-22T13:24:26.630Z"
   },
   {
    "duration": 0,
    "start_time": "2025-04-22T13:24:26.631Z"
   },
   {
    "duration": 0,
    "start_time": "2025-04-22T13:24:26.633Z"
   },
   {
    "duration": 0,
    "start_time": "2025-04-22T13:24:26.634Z"
   },
   {
    "duration": 0,
    "start_time": "2025-04-22T13:24:26.635Z"
   },
   {
    "duration": 0,
    "start_time": "2025-04-22T13:24:26.636Z"
   },
   {
    "duration": 0,
    "start_time": "2025-04-22T13:24:26.637Z"
   },
   {
    "duration": 0,
    "start_time": "2025-04-22T13:24:26.638Z"
   },
   {
    "duration": 0,
    "start_time": "2025-04-22T13:24:26.639Z"
   },
   {
    "duration": 0,
    "start_time": "2025-04-22T13:24:26.640Z"
   },
   {
    "duration": 0,
    "start_time": "2025-04-22T13:24:26.641Z"
   },
   {
    "duration": 0,
    "start_time": "2025-04-22T13:24:26.642Z"
   },
   {
    "duration": 0,
    "start_time": "2025-04-22T13:24:26.643Z"
   },
   {
    "duration": 0,
    "start_time": "2025-04-22T13:24:26.645Z"
   },
   {
    "duration": 0,
    "start_time": "2025-04-22T13:24:26.646Z"
   },
   {
    "duration": 0,
    "start_time": "2025-04-22T13:24:26.647Z"
   },
   {
    "duration": 0,
    "start_time": "2025-04-22T13:24:26.649Z"
   },
   {
    "duration": 0,
    "start_time": "2025-04-22T13:24:26.650Z"
   },
   {
    "duration": 0,
    "start_time": "2025-04-22T13:24:26.651Z"
   },
   {
    "duration": 0,
    "start_time": "2025-04-22T13:24:26.652Z"
   },
   {
    "duration": 0,
    "start_time": "2025-04-22T13:24:26.705Z"
   },
   {
    "duration": 29,
    "start_time": "2025-04-22T13:24:46.708Z"
   },
   {
    "duration": 1807,
    "start_time": "2025-04-22T13:25:05.267Z"
   },
   {
    "duration": 466,
    "start_time": "2025-04-22T13:25:08.949Z"
   },
   {
    "duration": 106,
    "start_time": "2025-04-22T13:25:15.101Z"
   },
   {
    "duration": 24,
    "start_time": "2025-04-22T13:25:21.128Z"
   },
   {
    "duration": 15,
    "start_time": "2025-04-22T13:25:22.675Z"
   },
   {
    "duration": 11,
    "start_time": "2025-04-22T13:25:23.309Z"
   },
   {
    "duration": 1505,
    "start_time": "2025-04-22T13:27:23.992Z"
   },
   {
    "duration": 3393,
    "start_time": "2025-04-22T13:28:03.296Z"
   },
   {
    "duration": 1989,
    "start_time": "2025-04-22T13:28:06.692Z"
   },
   {
    "duration": 978,
    "start_time": "2025-04-22T13:28:08.683Z"
   },
   {
    "duration": 18,
    "start_time": "2025-04-22T13:28:09.663Z"
   },
   {
    "duration": 211,
    "start_time": "2025-04-22T13:28:09.683Z"
   },
   {
    "duration": 31,
    "start_time": "2025-04-22T13:28:09.896Z"
   },
   {
    "duration": 13,
    "start_time": "2025-04-22T13:28:09.929Z"
   },
   {
    "duration": 7,
    "start_time": "2025-04-22T13:28:09.943Z"
   },
   {
    "duration": 396,
    "start_time": "2025-04-22T13:28:09.951Z"
   },
   {
    "duration": 127,
    "start_time": "2025-04-22T13:28:10.350Z"
   },
   {
    "duration": 86,
    "start_time": "2025-04-22T13:28:10.479Z"
   },
   {
    "duration": 42,
    "start_time": "2025-04-22T13:28:10.567Z"
   },
   {
    "duration": 120,
    "start_time": "2025-04-22T13:28:10.610Z"
   },
   {
    "duration": 456,
    "start_time": "2025-04-22T13:28:10.732Z"
   },
   {
    "duration": 35,
    "start_time": "2025-04-22T13:28:11.190Z"
   },
   {
    "duration": 143,
    "start_time": "2025-04-22T13:28:11.226Z"
   },
   {
    "duration": 111,
    "start_time": "2025-04-22T13:28:11.371Z"
   },
   {
    "duration": 457,
    "start_time": "2025-04-22T13:28:11.483Z"
   },
   {
    "duration": 89,
    "start_time": "2025-04-22T13:28:11.942Z"
   },
   {
    "duration": 405,
    "start_time": "2025-04-22T13:28:12.033Z"
   },
   {
    "duration": 116,
    "start_time": "2025-04-22T13:28:12.440Z"
   },
   {
    "duration": 565,
    "start_time": "2025-04-22T13:28:12.557Z"
   },
   {
    "duration": 10,
    "start_time": "2025-04-22T13:28:13.124Z"
   },
   {
    "duration": 36,
    "start_time": "2025-04-22T13:28:13.136Z"
   },
   {
    "duration": 34,
    "start_time": "2025-04-22T13:28:13.173Z"
   },
   {
    "duration": 345,
    "start_time": "2025-04-22T13:28:13.208Z"
   },
   {
    "duration": 279,
    "start_time": "2025-04-22T13:28:13.555Z"
   },
   {
    "duration": 366,
    "start_time": "2025-04-22T13:28:13.839Z"
   },
   {
    "duration": 22,
    "start_time": "2025-04-22T13:28:14.207Z"
   },
   {
    "duration": 17,
    "start_time": "2025-04-22T13:28:14.231Z"
   },
   {
    "duration": 121,
    "start_time": "2025-04-22T13:28:14.250Z"
   },
   {
    "duration": 15,
    "start_time": "2025-04-22T13:28:14.373Z"
   },
   {
    "duration": 85,
    "start_time": "2025-04-22T13:28:14.390Z"
   },
   {
    "duration": 11,
    "start_time": "2025-04-22T13:28:14.477Z"
   },
   {
    "duration": 58,
    "start_time": "2025-04-22T13:28:14.505Z"
   },
   {
    "duration": 502,
    "start_time": "2025-04-22T13:28:14.564Z"
   },
   {
    "duration": 4,
    "start_time": "2025-04-22T13:28:15.068Z"
   },
   {
    "duration": 1886,
    "start_time": "2025-04-22T13:28:15.074Z"
   },
   {
    "duration": 4,
    "start_time": "2025-04-22T13:28:16.962Z"
   },
   {
    "duration": 37,
    "start_time": "2025-04-22T13:28:16.968Z"
   },
   {
    "duration": 12,
    "start_time": "2025-04-22T13:28:17.007Z"
   },
   {
    "duration": 4357,
    "start_time": "2025-04-22T13:28:17.021Z"
   },
   {
    "duration": 2,
    "start_time": "2025-04-22T13:28:21.380Z"
   },
   {
    "duration": 57,
    "start_time": "2025-04-22T13:28:21.384Z"
   },
   {
    "duration": 7,
    "start_time": "2025-04-22T13:28:21.443Z"
   },
   {
    "duration": 17,
    "start_time": "2025-04-22T13:28:21.451Z"
   },
   {
    "duration": 8,
    "start_time": "2025-04-22T13:28:21.469Z"
   },
   {
    "duration": 23,
    "start_time": "2025-04-22T13:28:21.479Z"
   },
   {
    "duration": 14,
    "start_time": "2025-04-22T13:28:21.504Z"
   },
   {
    "duration": 11,
    "start_time": "2025-04-22T13:28:21.519Z"
   },
   {
    "duration": 11,
    "start_time": "2025-04-22T13:28:21.531Z"
   },
   {
    "duration": 16,
    "start_time": "2025-04-22T13:28:21.543Z"
   },
   {
    "duration": 28,
    "start_time": "2025-04-22T13:28:21.561Z"
   },
   {
    "duration": 24,
    "start_time": "2025-04-22T13:28:21.590Z"
   },
   {
    "duration": 3346,
    "start_time": "2025-04-22T13:28:41.178Z"
   },
   {
    "duration": 1785,
    "start_time": "2025-04-22T13:28:44.527Z"
   },
   {
    "duration": 937,
    "start_time": "2025-04-22T13:28:46.314Z"
   },
   {
    "duration": 18,
    "start_time": "2025-04-22T13:28:47.254Z"
   },
   {
    "duration": 169,
    "start_time": "2025-04-22T13:28:47.273Z"
   },
   {
    "duration": 30,
    "start_time": "2025-04-22T13:28:47.445Z"
   },
   {
    "duration": 18,
    "start_time": "2025-04-22T13:28:47.477Z"
   },
   {
    "duration": 10,
    "start_time": "2025-04-22T13:28:47.497Z"
   },
   {
    "duration": 398,
    "start_time": "2025-04-22T13:28:47.509Z"
   },
   {
    "duration": 123,
    "start_time": "2025-04-22T13:28:47.910Z"
   },
   {
    "duration": 14,
    "start_time": "2025-04-22T13:28:48.035Z"
   },
   {
    "duration": 71,
    "start_time": "2025-04-22T13:28:48.051Z"
   },
   {
    "duration": 123,
    "start_time": "2025-04-22T13:28:48.124Z"
   },
   {
    "duration": 444,
    "start_time": "2025-04-22T13:28:48.249Z"
   },
   {
    "duration": 36,
    "start_time": "2025-04-22T13:28:48.695Z"
   },
   {
    "duration": 81,
    "start_time": "2025-04-22T13:28:48.733Z"
   },
   {
    "duration": 117,
    "start_time": "2025-04-22T13:28:48.815Z"
   },
   {
    "duration": 506,
    "start_time": "2025-04-22T13:28:48.934Z"
   },
   {
    "duration": 89,
    "start_time": "2025-04-22T13:28:49.442Z"
   },
   {
    "duration": 412,
    "start_time": "2025-04-22T13:28:49.532Z"
   },
   {
    "duration": 119,
    "start_time": "2025-04-22T13:28:49.946Z"
   },
   {
    "duration": 558,
    "start_time": "2025-04-22T13:28:50.067Z"
   },
   {
    "duration": 11,
    "start_time": "2025-04-22T13:28:50.626Z"
   },
   {
    "duration": 51,
    "start_time": "2025-04-22T13:28:50.639Z"
   },
   {
    "duration": 16,
    "start_time": "2025-04-22T13:28:50.692Z"
   },
   {
    "duration": 303,
    "start_time": "2025-04-22T13:28:50.709Z"
   },
   {
    "duration": 281,
    "start_time": "2025-04-22T13:28:51.014Z"
   },
   {
    "duration": 365,
    "start_time": "2025-04-22T13:28:51.304Z"
   },
   {
    "duration": 23,
    "start_time": "2025-04-22T13:28:51.670Z"
   },
   {
    "duration": 38,
    "start_time": "2025-04-22T13:28:51.705Z"
   },
   {
    "duration": 120,
    "start_time": "2025-04-22T13:28:51.745Z"
   },
   {
    "duration": 15,
    "start_time": "2025-04-22T13:28:51.867Z"
   },
   {
    "duration": 80,
    "start_time": "2025-04-22T13:28:51.884Z"
   },
   {
    "duration": 11,
    "start_time": "2025-04-22T13:28:51.965Z"
   },
   {
    "duration": 28,
    "start_time": "2025-04-22T13:28:51.978Z"
   },
   {
    "duration": 506,
    "start_time": "2025-04-22T13:28:52.008Z"
   },
   {
    "duration": 5,
    "start_time": "2025-04-22T13:28:52.516Z"
   },
   {
    "duration": 1866,
    "start_time": "2025-04-22T13:28:52.523Z"
   },
   {
    "duration": 5,
    "start_time": "2025-04-22T13:28:54.391Z"
   },
   {
    "duration": 29,
    "start_time": "2025-04-22T13:28:54.406Z"
   },
   {
    "duration": 14,
    "start_time": "2025-04-22T13:28:54.437Z"
   },
   {
    "duration": 4094,
    "start_time": "2025-04-22T13:28:54.453Z"
   },
   {
    "duration": 145,
    "start_time": "2025-04-22T13:28:58.549Z"
   },
   {
    "duration": 9,
    "start_time": "2025-04-22T13:28:58.696Z"
   },
   {
    "duration": 73,
    "start_time": "2025-04-22T13:28:58.707Z"
   },
   {
    "duration": 4,
    "start_time": "2025-04-22T13:28:58.782Z"
   },
   {
    "duration": 4,
    "start_time": "2025-04-22T13:28:58.788Z"
   },
   {
    "duration": 21,
    "start_time": "2025-04-22T13:28:58.794Z"
   },
   {
    "duration": 18,
    "start_time": "2025-04-22T13:28:58.816Z"
   },
   {
    "duration": 15,
    "start_time": "2025-04-22T13:28:58.836Z"
   },
   {
    "duration": 5,
    "start_time": "2025-04-22T13:28:58.853Z"
   },
   {
    "duration": 5,
    "start_time": "2025-04-22T13:28:58.859Z"
   },
   {
    "duration": 11,
    "start_time": "2025-04-22T13:28:58.865Z"
   },
   {
    "duration": 4,
    "start_time": "2025-04-22T13:28:58.878Z"
   },
   {
    "duration": 6,
    "start_time": "2025-04-22T13:28:58.884Z"
   },
   {
    "duration": 19115,
    "start_time": "2025-04-22T13:28:58.892Z"
   },
   {
    "duration": 121,
    "start_time": "2025-04-22T13:29:18.010Z"
   },
   {
    "duration": 3,
    "start_time": "2025-04-22T13:29:18.133Z"
   },
   {
    "duration": 104,
    "start_time": "2025-04-22T13:29:18.138Z"
   },
   {
    "duration": 3522,
    "start_time": "2025-04-22T13:29:56.356Z"
   },
   {
    "duration": 1832,
    "start_time": "2025-04-22T13:29:59.880Z"
   },
   {
    "duration": 996,
    "start_time": "2025-04-22T13:30:01.714Z"
   },
   {
    "duration": 18,
    "start_time": "2025-04-22T13:30:02.712Z"
   },
   {
    "duration": 225,
    "start_time": "2025-04-22T13:30:02.732Z"
   },
   {
    "duration": 34,
    "start_time": "2025-04-22T13:30:02.959Z"
   },
   {
    "duration": 33,
    "start_time": "2025-04-22T13:30:03.006Z"
   },
   {
    "duration": 8,
    "start_time": "2025-04-22T13:30:03.041Z"
   },
   {
    "duration": 425,
    "start_time": "2025-04-22T13:30:03.051Z"
   },
   {
    "duration": 134,
    "start_time": "2025-04-22T13:30:03.479Z"
   },
   {
    "duration": 20,
    "start_time": "2025-04-22T13:30:03.615Z"
   },
   {
    "duration": 52,
    "start_time": "2025-04-22T13:30:03.637Z"
   },
   {
    "duration": 200,
    "start_time": "2025-04-22T13:30:03.690Z"
   },
   {
    "duration": 522,
    "start_time": "2025-04-22T13:30:03.892Z"
   },
   {
    "duration": 28,
    "start_time": "2025-04-22T13:30:04.416Z"
   },
   {
    "duration": 166,
    "start_time": "2025-04-22T13:30:04.445Z"
   },
   {
    "duration": 170,
    "start_time": "2025-04-22T13:30:04.614Z"
   },
   {
    "duration": 566,
    "start_time": "2025-04-22T13:30:04.786Z"
   },
   {
    "duration": 90,
    "start_time": "2025-04-22T13:30:05.354Z"
   },
   {
    "duration": 431,
    "start_time": "2025-04-22T13:30:05.446Z"
   },
   {
    "duration": 133,
    "start_time": "2025-04-22T13:30:05.879Z"
   },
   {
    "duration": 593,
    "start_time": "2025-04-22T13:30:06.014Z"
   },
   {
    "duration": 12,
    "start_time": "2025-04-22T13:30:06.610Z"
   },
   {
    "duration": 48,
    "start_time": "2025-04-22T13:30:06.624Z"
   },
   {
    "duration": 31,
    "start_time": "2025-04-22T13:30:06.674Z"
   },
   {
    "duration": 440,
    "start_time": "2025-04-22T13:30:06.707Z"
   },
   {
    "duration": 316,
    "start_time": "2025-04-22T13:30:07.149Z"
   },
   {
    "duration": 397,
    "start_time": "2025-04-22T13:30:07.469Z"
   },
   {
    "duration": 24,
    "start_time": "2025-04-22T13:30:07.867Z"
   },
   {
    "duration": 48,
    "start_time": "2025-04-22T13:30:07.892Z"
   },
   {
    "duration": 140,
    "start_time": "2025-04-22T13:30:07.941Z"
   },
   {
    "duration": 16,
    "start_time": "2025-04-22T13:30:08.083Z"
   },
   {
    "duration": 81,
    "start_time": "2025-04-22T13:30:08.101Z"
   },
   {
    "duration": 12,
    "start_time": "2025-04-22T13:30:08.183Z"
   },
   {
    "duration": 28,
    "start_time": "2025-04-22T13:30:08.197Z"
   },
   {
    "duration": 565,
    "start_time": "2025-04-22T13:30:08.227Z"
   },
   {
    "duration": 11,
    "start_time": "2025-04-22T13:30:08.794Z"
   },
   {
    "duration": 1938,
    "start_time": "2025-04-22T13:30:08.807Z"
   },
   {
    "duration": 5,
    "start_time": "2025-04-22T13:30:10.747Z"
   },
   {
    "duration": 48,
    "start_time": "2025-04-22T13:30:10.754Z"
   },
   {
    "duration": 20,
    "start_time": "2025-04-22T13:30:10.804Z"
   },
   {
    "duration": 4100,
    "start_time": "2025-04-22T13:30:10.826Z"
   },
   {
    "duration": 155,
    "start_time": "2025-04-22T13:30:14.929Z"
   },
   {
    "duration": 3,
    "start_time": "2025-04-22T13:30:15.086Z"
   },
   {
    "duration": 24,
    "start_time": "2025-04-22T13:30:15.092Z"
   },
   {
    "duration": 26,
    "start_time": "2025-04-22T13:30:15.118Z"
   },
   {
    "duration": 32,
    "start_time": "2025-04-22T13:30:15.147Z"
   },
   {
    "duration": 96,
    "start_time": "2025-04-22T13:30:15.182Z"
   },
   {
    "duration": 34,
    "start_time": "2025-04-22T13:30:15.280Z"
   },
   {
    "duration": 6,
    "start_time": "2025-04-22T13:30:15.316Z"
   },
   {
    "duration": 15,
    "start_time": "2025-04-22T13:30:15.324Z"
   },
   {
    "duration": 25,
    "start_time": "2025-04-22T13:30:15.341Z"
   },
   {
    "duration": 44,
    "start_time": "2025-04-22T13:30:15.368Z"
   },
   {
    "duration": 29,
    "start_time": "2025-04-22T13:30:15.414Z"
   },
   {
    "duration": 42,
    "start_time": "2025-04-22T13:30:15.446Z"
   },
   {
    "duration": 3510,
    "start_time": "2025-04-22T13:30:32.504Z"
   },
   {
    "duration": 2877,
    "start_time": "2025-04-22T13:30:36.017Z"
   },
   {
    "duration": 1130,
    "start_time": "2025-04-22T13:30:38.896Z"
   },
   {
    "duration": 18,
    "start_time": "2025-04-22T13:30:40.029Z"
   },
   {
    "duration": 170,
    "start_time": "2025-04-22T13:30:40.048Z"
   },
   {
    "duration": 34,
    "start_time": "2025-04-22T13:30:40.220Z"
   },
   {
    "duration": 35,
    "start_time": "2025-04-22T13:30:40.256Z"
   },
   {
    "duration": 17,
    "start_time": "2025-04-22T13:30:40.293Z"
   },
   {
    "duration": 417,
    "start_time": "2025-04-22T13:30:40.311Z"
   },
   {
    "duration": 122,
    "start_time": "2025-04-22T13:30:40.731Z"
   },
   {
    "duration": 16,
    "start_time": "2025-04-22T13:30:40.855Z"
   },
   {
    "duration": 61,
    "start_time": "2025-04-22T13:30:40.872Z"
   },
   {
    "duration": 125,
    "start_time": "2025-04-22T13:30:40.935Z"
   },
   {
    "duration": 453,
    "start_time": "2025-04-22T13:30:41.062Z"
   },
   {
    "duration": 26,
    "start_time": "2025-04-22T13:30:41.517Z"
   },
   {
    "duration": 69,
    "start_time": "2025-04-22T13:30:41.545Z"
   },
   {
    "duration": 112,
    "start_time": "2025-04-22T13:30:41.615Z"
   },
   {
    "duration": 494,
    "start_time": "2025-04-22T13:30:41.728Z"
   },
   {
    "duration": 87,
    "start_time": "2025-04-22T13:30:42.224Z"
   },
   {
    "duration": 362,
    "start_time": "2025-04-22T13:30:42.313Z"
   },
   {
    "duration": 140,
    "start_time": "2025-04-22T13:30:42.676Z"
   },
   {
    "duration": 519,
    "start_time": "2025-04-22T13:30:42.818Z"
   },
   {
    "duration": 10,
    "start_time": "2025-04-22T13:30:43.339Z"
   },
   {
    "duration": 90,
    "start_time": "2025-04-22T13:30:43.351Z"
   },
   {
    "duration": 11,
    "start_time": "2025-04-22T13:30:43.443Z"
   },
   {
    "duration": 299,
    "start_time": "2025-04-22T13:30:43.456Z"
   },
   {
    "duration": 290,
    "start_time": "2025-04-22T13:30:43.757Z"
   },
   {
    "duration": 366,
    "start_time": "2025-04-22T13:30:44.051Z"
   },
   {
    "duration": 22,
    "start_time": "2025-04-22T13:30:44.419Z"
   },
   {
    "duration": 15,
    "start_time": "2025-04-22T13:30:44.443Z"
   },
   {
    "duration": 136,
    "start_time": "2025-04-22T13:30:44.460Z"
   },
   {
    "duration": 19,
    "start_time": "2025-04-22T13:30:44.598Z"
   },
   {
    "duration": 67,
    "start_time": "2025-04-22T13:30:44.619Z"
   },
   {
    "duration": 25,
    "start_time": "2025-04-22T13:30:44.687Z"
   },
   {
    "duration": 82,
    "start_time": "2025-04-22T13:30:44.713Z"
   },
   {
    "duration": 515,
    "start_time": "2025-04-22T13:30:44.796Z"
   },
   {
    "duration": 4,
    "start_time": "2025-04-22T13:30:45.313Z"
   },
   {
    "duration": 1905,
    "start_time": "2025-04-22T13:30:45.319Z"
   },
   {
    "duration": 3,
    "start_time": "2025-04-22T13:30:47.226Z"
   },
   {
    "duration": 84,
    "start_time": "2025-04-22T13:30:47.231Z"
   },
   {
    "duration": 12,
    "start_time": "2025-04-22T13:30:47.317Z"
   },
   {
    "duration": 4128,
    "start_time": "2025-04-22T13:30:47.331Z"
   },
   {
    "duration": 133,
    "start_time": "2025-04-22T13:30:51.461Z"
   },
   {
    "duration": 2,
    "start_time": "2025-04-22T13:30:51.596Z"
   },
   {
    "duration": 2,
    "start_time": "2025-04-22T13:30:51.606Z"
   },
   {
    "duration": 9,
    "start_time": "2025-04-22T13:30:51.610Z"
   },
   {
    "duration": 11,
    "start_time": "2025-04-22T13:30:51.621Z"
   },
   {
    "duration": 14,
    "start_time": "2025-04-22T13:30:51.634Z"
   },
   {
    "duration": 95,
    "start_time": "2025-04-22T13:30:51.649Z"
   },
   {
    "duration": 18,
    "start_time": "2025-04-22T13:30:51.746Z"
   },
   {
    "duration": 10,
    "start_time": "2025-04-22T13:30:51.766Z"
   },
   {
    "duration": 4,
    "start_time": "2025-04-22T13:30:51.777Z"
   },
   {
    "duration": 3,
    "start_time": "2025-04-22T13:30:51.783Z"
   },
   {
    "duration": 5,
    "start_time": "2025-04-22T13:30:51.788Z"
   },
   {
    "duration": 5,
    "start_time": "2025-04-22T13:30:51.794Z"
   },
   {
    "duration": 3353,
    "start_time": "2025-04-22T13:31:20.902Z"
   },
   {
    "duration": 2545,
    "start_time": "2025-04-22T13:31:24.257Z"
   },
   {
    "duration": 1104,
    "start_time": "2025-04-22T13:31:26.804Z"
   },
   {
    "duration": 18,
    "start_time": "2025-04-22T13:31:27.910Z"
   },
   {
    "duration": 168,
    "start_time": "2025-04-22T13:31:27.930Z"
   },
   {
    "duration": 31,
    "start_time": "2025-04-22T13:31:28.099Z"
   },
   {
    "duration": 23,
    "start_time": "2025-04-22T13:31:28.132Z"
   },
   {
    "duration": 10,
    "start_time": "2025-04-22T13:31:28.156Z"
   },
   {
    "duration": 411,
    "start_time": "2025-04-22T13:31:28.167Z"
   },
   {
    "duration": 131,
    "start_time": "2025-04-22T13:31:28.580Z"
   },
   {
    "duration": 20,
    "start_time": "2025-04-22T13:31:28.713Z"
   },
   {
    "duration": 61,
    "start_time": "2025-04-22T13:31:28.734Z"
   },
   {
    "duration": 122,
    "start_time": "2025-04-22T13:31:28.797Z"
   },
   {
    "duration": 486,
    "start_time": "2025-04-22T13:31:28.921Z"
   },
   {
    "duration": 34,
    "start_time": "2025-04-22T13:31:29.409Z"
   },
   {
    "duration": 74,
    "start_time": "2025-04-22T13:31:29.445Z"
   },
   {
    "duration": 120,
    "start_time": "2025-04-22T13:31:29.521Z"
   },
   {
    "duration": 495,
    "start_time": "2025-04-22T13:31:29.643Z"
   },
   {
    "duration": 90,
    "start_time": "2025-04-22T13:31:30.140Z"
   },
   {
    "duration": 410,
    "start_time": "2025-04-22T13:31:30.231Z"
   },
   {
    "duration": 118,
    "start_time": "2025-04-22T13:31:30.643Z"
   },
   {
    "duration": 569,
    "start_time": "2025-04-22T13:31:30.763Z"
   },
   {
    "duration": 11,
    "start_time": "2025-04-22T13:31:31.334Z"
   },
   {
    "duration": 78,
    "start_time": "2025-04-22T13:31:31.346Z"
   },
   {
    "duration": 12,
    "start_time": "2025-04-22T13:31:31.426Z"
   },
   {
    "duration": 306,
    "start_time": "2025-04-22T13:31:31.439Z"
   },
   {
    "duration": 283,
    "start_time": "2025-04-22T13:31:31.747Z"
   },
   {
    "duration": 365,
    "start_time": "2025-04-22T13:31:32.034Z"
   },
   {
    "duration": 25,
    "start_time": "2025-04-22T13:31:32.401Z"
   },
   {
    "duration": 18,
    "start_time": "2025-04-22T13:31:32.427Z"
   },
   {
    "duration": 127,
    "start_time": "2025-04-22T13:31:32.446Z"
   },
   {
    "duration": 30,
    "start_time": "2025-04-22T13:31:32.575Z"
   },
   {
    "duration": 88,
    "start_time": "2025-04-22T13:31:32.607Z"
   },
   {
    "duration": 11,
    "start_time": "2025-04-22T13:31:32.697Z"
   },
   {
    "duration": 117,
    "start_time": "2025-04-22T13:31:32.710Z"
   },
   {
    "duration": 505,
    "start_time": "2025-04-22T13:31:32.829Z"
   },
   {
    "duration": 4,
    "start_time": "2025-04-22T13:31:33.336Z"
   },
   {
    "duration": 1820,
    "start_time": "2025-04-22T13:31:33.341Z"
   },
   {
    "duration": 4,
    "start_time": "2025-04-22T13:31:35.163Z"
   },
   {
    "duration": 40,
    "start_time": "2025-04-22T13:31:35.168Z"
   },
   {
    "duration": 12,
    "start_time": "2025-04-22T13:31:35.210Z"
   },
   {
    "duration": 4369,
    "start_time": "2025-04-22T13:31:35.224Z"
   },
   {
    "duration": 137,
    "start_time": "2025-04-22T13:31:39.594Z"
   },
   {
    "duration": 2,
    "start_time": "2025-04-22T13:31:39.733Z"
   },
   {
    "duration": 49,
    "start_time": "2025-04-22T13:31:39.737Z"
   },
   {
    "duration": 34,
    "start_time": "2025-04-22T13:31:39.788Z"
   },
   {
    "duration": 26,
    "start_time": "2025-04-22T13:31:39.823Z"
   },
   {
    "duration": 28,
    "start_time": "2025-04-22T13:31:39.851Z"
   },
   {
    "duration": 13,
    "start_time": "2025-04-22T13:31:39.881Z"
   },
   {
    "duration": 20,
    "start_time": "2025-04-22T13:31:39.896Z"
   },
   {
    "duration": 33,
    "start_time": "2025-04-22T13:31:39.917Z"
   },
   {
    "duration": 20,
    "start_time": "2025-04-22T13:31:39.952Z"
   },
   {
    "duration": 18,
    "start_time": "2025-04-22T13:31:39.974Z"
   },
   {
    "duration": 6,
    "start_time": "2025-04-22T13:31:39.993Z"
   },
   {
    "duration": 7,
    "start_time": "2025-04-22T13:31:40.000Z"
   },
   {
    "duration": 147,
    "start_time": "2025-04-22T13:31:40.008Z"
   },
   {
    "duration": 0,
    "start_time": "2025-04-22T13:31:40.156Z"
   },
   {
    "duration": 0,
    "start_time": "2025-04-22T13:31:40.157Z"
   },
   {
    "duration": 0,
    "start_time": "2025-04-22T13:31:40.158Z"
   },
   {
    "duration": 0,
    "start_time": "2025-04-22T13:31:40.159Z"
   },
   {
    "duration": 0,
    "start_time": "2025-04-22T13:31:40.160Z"
   },
   {
    "duration": 0,
    "start_time": "2025-04-22T13:31:40.161Z"
   },
   {
    "duration": 0,
    "start_time": "2025-04-22T13:31:40.162Z"
   },
   {
    "duration": 0,
    "start_time": "2025-04-22T13:31:40.163Z"
   },
   {
    "duration": 0,
    "start_time": "2025-04-22T13:31:40.164Z"
   },
   {
    "duration": 3,
    "start_time": "2025-04-22T13:31:51.884Z"
   },
   {
    "duration": 3589,
    "start_time": "2025-04-22T13:34:36.551Z"
   },
   {
    "duration": 2438,
    "start_time": "2025-04-22T13:34:40.142Z"
   },
   {
    "duration": 1102,
    "start_time": "2025-04-22T13:34:42.582Z"
   },
   {
    "duration": 18,
    "start_time": "2025-04-22T13:34:43.686Z"
   },
   {
    "duration": 212,
    "start_time": "2025-04-22T13:34:43.706Z"
   },
   {
    "duration": 33,
    "start_time": "2025-04-22T13:34:43.919Z"
   },
   {
    "duration": 21,
    "start_time": "2025-04-22T13:34:43.954Z"
   },
   {
    "duration": 3,
    "start_time": "2025-04-22T13:34:43.977Z"
   },
   {
    "duration": 428,
    "start_time": "2025-04-22T13:34:43.982Z"
   },
   {
    "duration": 127,
    "start_time": "2025-04-22T13:34:44.413Z"
   },
   {
    "duration": 35,
    "start_time": "2025-04-22T13:34:44.542Z"
   },
   {
    "duration": 47,
    "start_time": "2025-04-22T13:34:44.579Z"
   },
   {
    "duration": 127,
    "start_time": "2025-04-22T13:34:44.628Z"
   },
   {
    "duration": 462,
    "start_time": "2025-04-22T13:34:44.757Z"
   },
   {
    "duration": 27,
    "start_time": "2025-04-22T13:34:45.221Z"
   },
   {
    "duration": 75,
    "start_time": "2025-04-22T13:34:45.249Z"
   },
   {
    "duration": 117,
    "start_time": "2025-04-22T13:34:45.326Z"
   },
   {
    "duration": 492,
    "start_time": "2025-04-22T13:34:45.445Z"
   },
   {
    "duration": 90,
    "start_time": "2025-04-22T13:34:45.939Z"
   },
   {
    "duration": 429,
    "start_time": "2025-04-22T13:34:46.031Z"
   },
   {
    "duration": 123,
    "start_time": "2025-04-22T13:34:46.461Z"
   },
   {
    "duration": 533,
    "start_time": "2025-04-22T13:34:46.585Z"
   },
   {
    "duration": 10,
    "start_time": "2025-04-22T13:34:47.120Z"
   },
   {
    "duration": 37,
    "start_time": "2025-04-22T13:34:47.132Z"
   },
   {
    "duration": 12,
    "start_time": "2025-04-22T13:34:47.171Z"
   },
   {
    "duration": 295,
    "start_time": "2025-04-22T13:34:47.206Z"
   },
   {
    "duration": 288,
    "start_time": "2025-04-22T13:34:47.505Z"
   },
   {
    "duration": 374,
    "start_time": "2025-04-22T13:34:47.797Z"
   },
   {
    "duration": 32,
    "start_time": "2025-04-22T13:34:48.173Z"
   },
   {
    "duration": 12,
    "start_time": "2025-04-22T13:34:48.207Z"
   },
   {
    "duration": 121,
    "start_time": "2025-04-22T13:34:48.221Z"
   },
   {
    "duration": 25,
    "start_time": "2025-04-22T13:34:48.343Z"
   },
   {
    "duration": 78,
    "start_time": "2025-04-22T13:34:48.370Z"
   },
   {
    "duration": 11,
    "start_time": "2025-04-22T13:34:48.450Z"
   },
   {
    "duration": 23,
    "start_time": "2025-04-22T13:34:48.463Z"
   },
   {
    "duration": 567,
    "start_time": "2025-04-22T13:34:48.488Z"
   },
   {
    "duration": 4,
    "start_time": "2025-04-22T13:34:49.057Z"
   },
   {
    "duration": 1827,
    "start_time": "2025-04-22T13:34:49.062Z"
   },
   {
    "duration": 14,
    "start_time": "2025-04-22T13:34:50.891Z"
   },
   {
    "duration": 36,
    "start_time": "2025-04-22T13:34:50.907Z"
   },
   {
    "duration": 23,
    "start_time": "2025-04-22T13:34:50.945Z"
   },
   {
    "duration": 4211,
    "start_time": "2025-04-22T13:34:50.970Z"
   },
   {
    "duration": 137,
    "start_time": "2025-04-22T13:34:55.182Z"
   },
   {
    "duration": 2,
    "start_time": "2025-04-22T13:34:55.321Z"
   },
   {
    "duration": 11,
    "start_time": "2025-04-22T13:34:55.325Z"
   },
   {
    "duration": 11,
    "start_time": "2025-04-22T13:34:55.337Z"
   },
   {
    "duration": 22,
    "start_time": "2025-04-22T13:34:55.350Z"
   },
   {
    "duration": 12,
    "start_time": "2025-04-22T13:34:55.374Z"
   },
   {
    "duration": 16,
    "start_time": "2025-04-22T13:34:55.388Z"
   },
   {
    "duration": 36,
    "start_time": "2025-04-22T13:34:55.405Z"
   },
   {
    "duration": 34,
    "start_time": "2025-04-22T13:34:55.443Z"
   },
   {
    "duration": 27,
    "start_time": "2025-04-22T13:34:55.479Z"
   },
   {
    "duration": 9,
    "start_time": "2025-04-22T13:34:55.508Z"
   },
   {
    "duration": 17,
    "start_time": "2025-04-22T13:34:55.519Z"
   },
   {
    "duration": 20,
    "start_time": "2025-04-22T13:34:55.538Z"
   },
   {
    "duration": 3361,
    "start_time": "2025-04-22T19:28:31.113Z"
   },
   {
    "duration": 2904,
    "start_time": "2025-04-22T19:28:34.476Z"
   },
   {
    "duration": 1115,
    "start_time": "2025-04-22T19:28:37.381Z"
   },
   {
    "duration": 17,
    "start_time": "2025-04-22T19:28:38.498Z"
   },
   {
    "duration": 165,
    "start_time": "2025-04-22T19:28:38.517Z"
   },
   {
    "duration": 35,
    "start_time": "2025-04-22T19:28:38.684Z"
   },
   {
    "duration": 4,
    "start_time": "2025-04-22T19:28:38.721Z"
   },
   {
    "duration": 4,
    "start_time": "2025-04-22T19:28:38.727Z"
   },
   {
    "duration": 400,
    "start_time": "2025-04-22T19:28:38.733Z"
   },
   {
    "duration": 126,
    "start_time": "2025-04-22T19:28:39.136Z"
   },
   {
    "duration": 13,
    "start_time": "2025-04-22T19:28:39.264Z"
   },
   {
    "duration": 58,
    "start_time": "2025-04-22T19:28:39.279Z"
   },
   {
    "duration": 130,
    "start_time": "2025-04-22T19:28:39.339Z"
   },
   {
    "duration": 473,
    "start_time": "2025-04-22T19:28:39.471Z"
   },
   {
    "duration": 26,
    "start_time": "2025-04-22T19:28:39.946Z"
   },
   {
    "duration": 174,
    "start_time": "2025-04-22T19:28:39.974Z"
   },
   {
    "duration": 114,
    "start_time": "2025-04-22T19:28:40.150Z"
   },
   {
    "duration": 470,
    "start_time": "2025-04-22T19:28:40.266Z"
   },
   {
    "duration": 89,
    "start_time": "2025-04-22T19:28:40.738Z"
   },
   {
    "duration": 397,
    "start_time": "2025-04-22T19:28:40.828Z"
   },
   {
    "duration": 124,
    "start_time": "2025-04-22T19:28:41.227Z"
   },
   {
    "duration": 560,
    "start_time": "2025-04-22T19:28:41.352Z"
   },
   {
    "duration": 10,
    "start_time": "2025-04-22T19:28:41.914Z"
   },
   {
    "duration": 38,
    "start_time": "2025-04-22T19:28:41.926Z"
   },
   {
    "duration": 36,
    "start_time": "2025-04-22T19:28:41.966Z"
   },
   {
    "duration": 357,
    "start_time": "2025-04-22T19:28:42.003Z"
   },
   {
    "duration": 284,
    "start_time": "2025-04-22T19:28:42.362Z"
   },
   {
    "duration": 362,
    "start_time": "2025-04-22T19:28:42.650Z"
   },
   {
    "duration": 22,
    "start_time": "2025-04-22T19:28:43.014Z"
   },
   {
    "duration": 11,
    "start_time": "2025-04-22T19:28:43.038Z"
   },
   {
    "duration": 129,
    "start_time": "2025-04-22T19:28:43.051Z"
   },
   {
    "duration": 27,
    "start_time": "2025-04-22T19:28:43.182Z"
   },
   {
    "duration": 71,
    "start_time": "2025-04-22T19:28:43.211Z"
   },
   {
    "duration": 22,
    "start_time": "2025-04-22T19:28:43.284Z"
   },
   {
    "duration": 17,
    "start_time": "2025-04-22T19:28:43.308Z"
   },
   {
    "duration": 487,
    "start_time": "2025-04-22T19:28:43.327Z"
   },
   {
    "duration": 3,
    "start_time": "2025-04-22T19:28:43.816Z"
   },
   {
    "duration": 1795,
    "start_time": "2025-04-22T19:28:43.821Z"
   },
   {
    "duration": 4,
    "start_time": "2025-04-22T19:28:45.618Z"
   },
   {
    "duration": 28,
    "start_time": "2025-04-22T19:28:45.624Z"
   },
   {
    "duration": 12,
    "start_time": "2025-04-22T19:28:45.654Z"
   },
   {
    "duration": 3533,
    "start_time": "2025-04-22T19:28:45.668Z"
   },
   {
    "duration": 132,
    "start_time": "2025-04-22T19:28:49.203Z"
   },
   {
    "duration": 2,
    "start_time": "2025-04-22T19:28:49.337Z"
   },
   {
    "duration": 12,
    "start_time": "2025-04-22T19:28:49.341Z"
   },
   {
    "duration": 23,
    "start_time": "2025-04-22T19:28:49.355Z"
   },
   {
    "duration": 9,
    "start_time": "2025-04-22T19:28:49.380Z"
   },
   {
    "duration": 4,
    "start_time": "2025-04-22T19:28:49.391Z"
   },
   {
    "duration": 3,
    "start_time": "2025-04-22T19:28:49.397Z"
   },
   {
    "duration": 6,
    "start_time": "2025-04-22T19:28:49.401Z"
   },
   {
    "duration": 2,
    "start_time": "2025-04-22T19:28:49.409Z"
   },
   {
    "duration": 4,
    "start_time": "2025-04-22T19:28:49.413Z"
   },
   {
    "duration": 15,
    "start_time": "2025-04-22T19:28:49.418Z"
   },
   {
    "duration": 7,
    "start_time": "2025-04-22T19:28:49.435Z"
   },
   {
    "duration": 4,
    "start_time": "2025-04-22T19:28:49.444Z"
   },
   {
    "duration": 54,
    "start_time": "2025-04-22T19:29:31.584Z"
   },
   {
    "duration": 3352,
    "start_time": "2025-04-22T19:29:36.485Z"
   },
   {
    "duration": 2378,
    "start_time": "2025-04-22T19:29:39.840Z"
   },
   {
    "duration": 1089,
    "start_time": "2025-04-22T19:29:42.220Z"
   },
   {
    "duration": 19,
    "start_time": "2025-04-22T19:29:43.311Z"
   },
   {
    "duration": 156,
    "start_time": "2025-04-22T19:29:43.331Z"
   },
   {
    "duration": 41,
    "start_time": "2025-04-22T19:29:43.489Z"
   },
   {
    "duration": 5,
    "start_time": "2025-04-22T19:29:43.532Z"
   },
   {
    "duration": 11,
    "start_time": "2025-04-22T19:29:43.539Z"
   },
   {
    "duration": 379,
    "start_time": "2025-04-22T19:29:43.552Z"
   },
   {
    "duration": 126,
    "start_time": "2025-04-22T19:29:43.935Z"
   },
   {
    "duration": 49,
    "start_time": "2025-04-22T19:29:44.063Z"
   },
   {
    "duration": 40,
    "start_time": "2025-04-22T19:29:44.114Z"
   },
   {
    "duration": 121,
    "start_time": "2025-04-22T19:29:44.156Z"
   },
   {
    "duration": 496,
    "start_time": "2025-04-22T19:29:44.279Z"
   },
   {
    "duration": 27,
    "start_time": "2025-04-22T19:29:44.776Z"
   },
   {
    "duration": 49,
    "start_time": "2025-04-22T19:29:44.804Z"
   },
   {
    "duration": 142,
    "start_time": "2025-04-22T19:29:44.855Z"
   },
   {
    "duration": 541,
    "start_time": "2025-04-22T19:29:44.999Z"
   },
   {
    "duration": 92,
    "start_time": "2025-04-22T19:29:45.542Z"
   },
   {
    "duration": 423,
    "start_time": "2025-04-22T19:29:45.636Z"
   },
   {
    "duration": 147,
    "start_time": "2025-04-22T19:29:46.061Z"
   },
   {
    "duration": 523,
    "start_time": "2025-04-22T19:29:46.210Z"
   },
   {
    "duration": 10,
    "start_time": "2025-04-22T19:29:46.735Z"
   },
   {
    "duration": 34,
    "start_time": "2025-04-22T19:29:46.747Z"
   },
   {
    "duration": 32,
    "start_time": "2025-04-22T19:29:46.783Z"
   },
   {
    "duration": 283,
    "start_time": "2025-04-22T19:29:46.817Z"
   },
   {
    "duration": 282,
    "start_time": "2025-04-22T19:29:47.105Z"
   },
   {
    "duration": 361,
    "start_time": "2025-04-22T19:29:47.391Z"
   },
   {
    "duration": 22,
    "start_time": "2025-04-22T19:29:47.754Z"
   },
   {
    "duration": 12,
    "start_time": "2025-04-22T19:29:47.778Z"
   },
   {
    "duration": 120,
    "start_time": "2025-04-22T19:29:47.806Z"
   },
   {
    "duration": 15,
    "start_time": "2025-04-22T19:29:47.928Z"
   },
   {
    "duration": 83,
    "start_time": "2025-04-22T19:29:47.945Z"
   },
   {
    "duration": 16,
    "start_time": "2025-04-22T19:29:48.030Z"
   },
   {
    "duration": 60,
    "start_time": "2025-04-22T19:29:48.047Z"
   },
   {
    "duration": 485,
    "start_time": "2025-04-22T19:29:48.108Z"
   },
   {
    "duration": 4,
    "start_time": "2025-04-22T19:29:48.595Z"
   },
   {
    "duration": 1764,
    "start_time": "2025-04-22T19:29:48.604Z"
   },
   {
    "duration": 4,
    "start_time": "2025-04-22T19:29:50.370Z"
   },
   {
    "duration": 35,
    "start_time": "2025-04-22T19:29:50.375Z"
   },
   {
    "duration": 12,
    "start_time": "2025-04-22T19:29:50.411Z"
   },
   {
    "duration": 3457,
    "start_time": "2025-04-22T19:29:50.425Z"
   },
   {
    "duration": 130,
    "start_time": "2025-04-22T19:29:53.884Z"
   },
   {
    "duration": 4,
    "start_time": "2025-04-22T19:29:54.022Z"
   },
   {
    "duration": 70,
    "start_time": "2025-04-22T19:29:54.028Z"
   },
   {
    "duration": 9,
    "start_time": "2025-04-22T19:29:54.100Z"
   },
   {
    "duration": 5,
    "start_time": "2025-04-22T19:29:54.110Z"
   },
   {
    "duration": 3,
    "start_time": "2025-04-22T19:29:54.116Z"
   },
   {
    "duration": 12,
    "start_time": "2025-04-22T19:29:54.121Z"
   },
   {
    "duration": 16,
    "start_time": "2025-04-22T19:29:54.134Z"
   },
   {
    "duration": 8,
    "start_time": "2025-04-22T19:29:54.152Z"
   },
   {
    "duration": 7,
    "start_time": "2025-04-22T19:29:54.162Z"
   },
   {
    "duration": 32,
    "start_time": "2025-04-22T19:29:54.171Z"
   },
   {
    "duration": 36,
    "start_time": "2025-04-22T19:29:54.204Z"
   },
   {
    "duration": 4,
    "start_time": "2025-04-22T19:29:54.241Z"
   },
   {
    "duration": 3394,
    "start_time": "2025-04-22T19:30:16.192Z"
   },
   {
    "duration": 2618,
    "start_time": "2025-04-22T19:30:19.588Z"
   },
   {
    "duration": 1113,
    "start_time": "2025-04-22T19:30:22.211Z"
   },
   {
    "duration": 21,
    "start_time": "2025-04-22T19:30:23.326Z"
   },
   {
    "duration": 213,
    "start_time": "2025-04-22T19:30:23.349Z"
   },
   {
    "duration": 48,
    "start_time": "2025-04-22T19:30:23.564Z"
   },
   {
    "duration": 16,
    "start_time": "2025-04-22T19:30:23.613Z"
   },
   {
    "duration": 3,
    "start_time": "2025-04-22T19:30:23.631Z"
   },
   {
    "duration": 404,
    "start_time": "2025-04-22T19:30:23.638Z"
   },
   {
    "duration": 164,
    "start_time": "2025-04-22T19:30:24.044Z"
   },
   {
    "duration": 18,
    "start_time": "2025-04-22T19:30:24.210Z"
   },
   {
    "duration": 46,
    "start_time": "2025-04-22T19:30:24.230Z"
   },
   {
    "duration": 173,
    "start_time": "2025-04-22T19:30:24.277Z"
   },
   {
    "duration": 459,
    "start_time": "2025-04-22T19:30:24.452Z"
   },
   {
    "duration": 37,
    "start_time": "2025-04-22T19:30:24.913Z"
   },
   {
    "duration": 140,
    "start_time": "2025-04-22T19:30:24.952Z"
   },
   {
    "duration": 147,
    "start_time": "2025-04-22T19:30:25.094Z"
   },
   {
    "duration": 507,
    "start_time": "2025-04-22T19:30:25.242Z"
   },
   {
    "duration": 89,
    "start_time": "2025-04-22T19:30:25.751Z"
   },
   {
    "duration": 438,
    "start_time": "2025-04-22T19:30:25.842Z"
   },
   {
    "duration": 157,
    "start_time": "2025-04-22T19:30:26.282Z"
   },
   {
    "duration": 566,
    "start_time": "2025-04-22T19:30:26.441Z"
   },
   {
    "duration": 12,
    "start_time": "2025-04-22T19:30:27.009Z"
   },
   {
    "duration": 40,
    "start_time": "2025-04-22T19:30:27.023Z"
   },
   {
    "duration": 13,
    "start_time": "2025-04-22T19:30:27.065Z"
   },
   {
    "duration": 320,
    "start_time": "2025-04-22T19:30:27.104Z"
   },
   {
    "duration": 326,
    "start_time": "2025-04-22T19:30:27.429Z"
   },
   {
    "duration": 406,
    "start_time": "2025-04-22T19:30:27.757Z"
   },
   {
    "duration": 26,
    "start_time": "2025-04-22T19:30:28.164Z"
   },
   {
    "duration": 15,
    "start_time": "2025-04-22T19:30:28.213Z"
   },
   {
    "duration": 152,
    "start_time": "2025-04-22T19:30:28.230Z"
   },
   {
    "duration": 22,
    "start_time": "2025-04-22T19:30:28.384Z"
   },
   {
    "duration": 71,
    "start_time": "2025-04-22T19:30:28.408Z"
   },
   {
    "duration": 24,
    "start_time": "2025-04-22T19:30:28.481Z"
   },
   {
    "duration": 18,
    "start_time": "2025-04-22T19:30:28.507Z"
   },
   {
    "duration": 500,
    "start_time": "2025-04-22T19:30:28.527Z"
   },
   {
    "duration": 5,
    "start_time": "2025-04-22T19:30:29.029Z"
   },
   {
    "duration": 3379,
    "start_time": "2025-04-22T19:31:56.355Z"
   },
   {
    "duration": 2836,
    "start_time": "2025-04-22T19:31:59.737Z"
   },
   {
    "duration": 1114,
    "start_time": "2025-04-22T19:32:02.577Z"
   },
   {
    "duration": 17,
    "start_time": "2025-04-22T19:32:03.693Z"
   },
   {
    "duration": 190,
    "start_time": "2025-04-22T19:32:03.711Z"
   },
   {
    "duration": 30,
    "start_time": "2025-04-22T19:32:03.903Z"
   },
   {
    "duration": 130,
    "start_time": "2025-04-22T19:32:03.934Z"
   },
   {
    "duration": 93,
    "start_time": "2025-04-22T19:32:04.065Z"
   },
   {
    "duration": 406,
    "start_time": "2025-04-22T19:32:04.161Z"
   },
   {
    "duration": 125,
    "start_time": "2025-04-22T19:32:04.568Z"
   },
   {
    "duration": 33,
    "start_time": "2025-04-22T19:32:04.694Z"
   },
   {
    "duration": 77,
    "start_time": "2025-04-22T19:32:04.729Z"
   },
   {
    "duration": 133,
    "start_time": "2025-04-22T19:32:04.808Z"
   },
   {
    "duration": 565,
    "start_time": "2025-04-22T19:32:04.944Z"
   },
   {
    "duration": 27,
    "start_time": "2025-04-22T19:32:05.511Z"
   },
   {
    "duration": 98,
    "start_time": "2025-04-22T19:32:05.539Z"
   },
   {
    "duration": 134,
    "start_time": "2025-04-22T19:32:05.638Z"
   },
   {
    "duration": 563,
    "start_time": "2025-04-22T19:32:05.774Z"
   },
   {
    "duration": 98,
    "start_time": "2025-04-22T19:32:06.339Z"
   },
   {
    "duration": 421,
    "start_time": "2025-04-22T19:32:06.439Z"
   },
   {
    "duration": 122,
    "start_time": "2025-04-22T19:32:06.862Z"
   },
   {
    "duration": 626,
    "start_time": "2025-04-22T19:32:06.986Z"
   },
   {
    "duration": 11,
    "start_time": "2025-04-22T19:32:07.614Z"
   },
   {
    "duration": 43,
    "start_time": "2025-04-22T19:32:07.627Z"
   },
   {
    "duration": 36,
    "start_time": "2025-04-22T19:32:07.672Z"
   },
   {
    "duration": 298,
    "start_time": "2025-04-22T19:32:07.709Z"
   },
   {
    "duration": 296,
    "start_time": "2025-04-22T19:32:08.012Z"
   },
   {
    "duration": 363,
    "start_time": "2025-04-22T19:32:08.310Z"
   },
   {
    "duration": 31,
    "start_time": "2025-04-22T19:32:08.676Z"
   },
   {
    "duration": 12,
    "start_time": "2025-04-22T19:32:08.709Z"
   },
   {
    "duration": 124,
    "start_time": "2025-04-22T19:32:08.723Z"
   },
   {
    "duration": 15,
    "start_time": "2025-04-22T19:32:08.849Z"
   },
   {
    "duration": 93,
    "start_time": "2025-04-22T19:32:08.866Z"
   },
   {
    "duration": 12,
    "start_time": "2025-04-22T19:32:08.962Z"
   },
   {
    "duration": 71,
    "start_time": "2025-04-22T19:32:08.976Z"
   },
   {
    "duration": 497,
    "start_time": "2025-04-22T19:32:09.048Z"
   },
   {
    "duration": 4,
    "start_time": "2025-04-22T19:32:09.547Z"
   },
   {
    "duration": 1838,
    "start_time": "2025-04-22T19:32:09.552Z"
   },
   {
    "duration": 5,
    "start_time": "2025-04-22T19:32:11.391Z"
   },
   {
    "duration": 31,
    "start_time": "2025-04-22T19:32:11.405Z"
   },
   {
    "duration": 12,
    "start_time": "2025-04-22T19:32:11.438Z"
   },
   {
    "duration": 3556,
    "start_time": "2025-04-22T19:32:11.453Z"
   },
   {
    "duration": 129,
    "start_time": "2025-04-22T19:32:15.011Z"
   },
   {
    "duration": 2,
    "start_time": "2025-04-22T19:32:15.142Z"
   },
   {
    "duration": 90,
    "start_time": "2025-04-22T19:32:15.146Z"
   },
   {
    "duration": 30,
    "start_time": "2025-04-22T19:32:15.238Z"
   },
   {
    "duration": 59,
    "start_time": "2025-04-22T19:32:15.270Z"
   },
   {
    "duration": 24,
    "start_time": "2025-04-22T19:32:15.330Z"
   },
   {
    "duration": 56,
    "start_time": "2025-04-22T19:32:15.356Z"
   },
   {
    "duration": 43,
    "start_time": "2025-04-22T19:32:15.414Z"
   },
   {
    "duration": 25,
    "start_time": "2025-04-22T19:32:15.459Z"
   },
   {
    "duration": 11,
    "start_time": "2025-04-22T19:32:15.486Z"
   },
   {
    "duration": 13,
    "start_time": "2025-04-22T19:32:15.498Z"
   },
   {
    "duration": 4,
    "start_time": "2025-04-22T19:32:15.513Z"
   },
   {
    "duration": 14,
    "start_time": "2025-04-22T19:32:15.518Z"
   },
   {
    "duration": 520516,
    "start_time": "2025-04-22T19:33:58.578Z"
   },
   {
    "duration": 3321,
    "start_time": "2025-04-22T19:42:39.097Z"
   },
   {
    "duration": 2461,
    "start_time": "2025-04-22T19:42:42.421Z"
   },
   {
    "duration": 1110,
    "start_time": "2025-04-22T19:42:44.884Z"
   },
   {
    "duration": 18,
    "start_time": "2025-04-22T19:42:45.996Z"
   },
   {
    "duration": 202,
    "start_time": "2025-04-22T19:42:46.015Z"
   },
   {
    "duration": 30,
    "start_time": "2025-04-22T19:42:46.219Z"
   },
   {
    "duration": 21,
    "start_time": "2025-04-22T19:42:46.250Z"
   },
   {
    "duration": 20,
    "start_time": "2025-04-22T19:42:46.272Z"
   },
   {
    "duration": 403,
    "start_time": "2025-04-22T19:42:46.294Z"
   },
   {
    "duration": 121,
    "start_time": "2025-04-22T19:42:46.699Z"
   },
   {
    "duration": 14,
    "start_time": "2025-04-22T19:42:46.823Z"
   },
   {
    "duration": 68,
    "start_time": "2025-04-22T19:42:46.839Z"
   },
   {
    "duration": 124,
    "start_time": "2025-04-22T19:42:46.912Z"
   },
   {
    "duration": 471,
    "start_time": "2025-04-22T19:42:47.038Z"
   },
   {
    "duration": 27,
    "start_time": "2025-04-22T19:42:47.511Z"
   },
   {
    "duration": 71,
    "start_time": "2025-04-22T19:42:47.539Z"
   },
   {
    "duration": 121,
    "start_time": "2025-04-22T19:42:47.612Z"
   },
   {
    "duration": 486,
    "start_time": "2025-04-22T19:42:47.735Z"
   },
   {
    "duration": 86,
    "start_time": "2025-04-22T19:42:48.223Z"
   },
   {
    "duration": 365,
    "start_time": "2025-04-22T19:42:48.311Z"
   },
   {
    "duration": 133,
    "start_time": "2025-04-22T19:42:48.678Z"
   },
   {
    "duration": 516,
    "start_time": "2025-04-22T19:42:48.812Z"
   },
   {
    "duration": 11,
    "start_time": "2025-04-22T19:42:49.330Z"
   },
   {
    "duration": 37,
    "start_time": "2025-04-22T19:42:49.343Z"
   },
   {
    "duration": 33,
    "start_time": "2025-04-22T19:42:49.382Z"
   },
   {
    "duration": 293,
    "start_time": "2025-04-22T19:42:49.417Z"
   },
   {
    "duration": 277,
    "start_time": "2025-04-22T19:42:49.712Z"
   },
   {
    "duration": 354,
    "start_time": "2025-04-22T19:42:49.991Z"
   },
   {
    "duration": 22,
    "start_time": "2025-04-22T19:42:50.347Z"
   },
   {
    "duration": 12,
    "start_time": "2025-04-22T19:42:50.370Z"
   },
   {
    "duration": 129,
    "start_time": "2025-04-22T19:42:50.384Z"
   },
   {
    "duration": 20,
    "start_time": "2025-04-22T19:42:50.515Z"
   },
   {
    "duration": 73,
    "start_time": "2025-04-22T19:42:50.537Z"
   },
   {
    "duration": 11,
    "start_time": "2025-04-22T19:42:50.612Z"
   },
   {
    "duration": 11,
    "start_time": "2025-04-22T19:42:50.625Z"
   },
   {
    "duration": 491,
    "start_time": "2025-04-22T19:42:50.638Z"
   },
   {
    "duration": 3,
    "start_time": "2025-04-22T19:42:51.131Z"
   },
   {
    "duration": 1770,
    "start_time": "2025-04-22T19:42:51.136Z"
   },
   {
    "duration": 4,
    "start_time": "2025-04-22T19:42:52.908Z"
   },
   {
    "duration": 23,
    "start_time": "2025-04-22T19:42:52.916Z"
   },
   {
    "duration": 14,
    "start_time": "2025-04-22T19:42:52.940Z"
   },
   {
    "duration": 3384,
    "start_time": "2025-04-22T19:42:52.956Z"
   },
   {
    "duration": 133,
    "start_time": "2025-04-22T19:42:56.341Z"
   },
   {
    "duration": 3,
    "start_time": "2025-04-22T19:42:56.475Z"
   },
   {
    "duration": 4,
    "start_time": "2025-04-22T19:42:56.479Z"
   },
   {
    "duration": 3,
    "start_time": "2025-04-22T19:42:56.484Z"
   },
   {
    "duration": 3,
    "start_time": "2025-04-22T19:42:56.488Z"
   },
   {
    "duration": 3,
    "start_time": "2025-04-22T19:42:56.505Z"
   },
   {
    "duration": 16,
    "start_time": "2025-04-22T19:42:56.509Z"
   },
   {
    "duration": 11,
    "start_time": "2025-04-22T19:42:56.526Z"
   },
   {
    "duration": 8,
    "start_time": "2025-04-22T19:42:56.539Z"
   },
   {
    "duration": 4,
    "start_time": "2025-04-22T19:42:56.548Z"
   },
   {
    "duration": 14,
    "start_time": "2025-04-22T19:42:56.553Z"
   },
   {
    "duration": 32,
    "start_time": "2025-04-22T19:42:56.568Z"
   },
   {
    "duration": 4,
    "start_time": "2025-04-22T19:42:56.602Z"
   },
   {
    "duration": 467937,
    "start_time": "2025-04-22T19:43:40.595Z"
   },
   {
    "duration": 3376,
    "start_time": "2025-04-22T19:51:28.534Z"
   },
   {
    "duration": 2760,
    "start_time": "2025-04-22T19:51:31.912Z"
   },
   {
    "duration": 1152,
    "start_time": "2025-04-22T19:51:34.674Z"
   },
   {
    "duration": 18,
    "start_time": "2025-04-22T19:51:35.829Z"
   },
   {
    "duration": 180,
    "start_time": "2025-04-22T19:51:35.849Z"
   },
   {
    "duration": 38,
    "start_time": "2025-04-22T19:51:36.031Z"
   },
   {
    "duration": 81,
    "start_time": "2025-04-22T19:51:36.072Z"
   },
   {
    "duration": 45,
    "start_time": "2025-04-22T19:51:36.155Z"
   },
   {
    "duration": 407,
    "start_time": "2025-04-22T19:51:36.201Z"
   },
   {
    "duration": 128,
    "start_time": "2025-04-22T19:51:36.609Z"
   },
   {
    "duration": 22,
    "start_time": "2025-04-22T19:51:36.739Z"
   },
   {
    "duration": 65,
    "start_time": "2025-04-22T19:51:36.763Z"
   },
   {
    "duration": 119,
    "start_time": "2025-04-22T19:51:36.831Z"
   },
   {
    "duration": 460,
    "start_time": "2025-04-22T19:51:36.952Z"
   },
   {
    "duration": 27,
    "start_time": "2025-04-22T19:51:37.414Z"
   },
   {
    "duration": 73,
    "start_time": "2025-04-22T19:51:37.443Z"
   },
   {
    "duration": 119,
    "start_time": "2025-04-22T19:51:37.517Z"
   },
   {
    "duration": 497,
    "start_time": "2025-04-22T19:51:37.638Z"
   },
   {
    "duration": 91,
    "start_time": "2025-04-22T19:51:38.137Z"
   },
   {
    "duration": 419,
    "start_time": "2025-04-22T19:51:38.230Z"
   },
   {
    "duration": 121,
    "start_time": "2025-04-22T19:51:38.650Z"
   },
   {
    "duration": 541,
    "start_time": "2025-04-22T19:51:38.773Z"
   },
   {
    "duration": 12,
    "start_time": "2025-04-22T19:51:39.316Z"
   },
   {
    "duration": 42,
    "start_time": "2025-04-22T19:51:39.330Z"
   },
   {
    "duration": 12,
    "start_time": "2025-04-22T19:51:39.374Z"
   },
   {
    "duration": 310,
    "start_time": "2025-04-22T19:51:39.388Z"
   },
   {
    "duration": 286,
    "start_time": "2025-04-22T19:51:39.700Z"
   },
   {
    "duration": 365,
    "start_time": "2025-04-22T19:51:39.988Z"
   },
   {
    "duration": 23,
    "start_time": "2025-04-22T19:51:40.354Z"
   },
   {
    "duration": 30,
    "start_time": "2025-04-22T19:51:40.379Z"
   },
   {
    "duration": 132,
    "start_time": "2025-04-22T19:51:40.411Z"
   },
   {
    "duration": 15,
    "start_time": "2025-04-22T19:51:40.545Z"
   },
   {
    "duration": 87,
    "start_time": "2025-04-22T19:51:40.562Z"
   },
   {
    "duration": 11,
    "start_time": "2025-04-22T19:51:40.650Z"
   },
   {
    "duration": 12,
    "start_time": "2025-04-22T19:51:40.662Z"
   },
   {
    "duration": 512,
    "start_time": "2025-04-22T19:51:40.675Z"
   },
   {
    "duration": 4,
    "start_time": "2025-04-22T19:51:41.188Z"
   },
   {
    "duration": 1787,
    "start_time": "2025-04-22T19:51:41.194Z"
   },
   {
    "duration": 4,
    "start_time": "2025-04-22T19:51:42.983Z"
   },
   {
    "duration": 130,
    "start_time": "2025-04-22T19:51:42.991Z"
   },
   {
    "duration": 12,
    "start_time": "2025-04-22T19:51:43.123Z"
   },
   {
    "duration": 3719,
    "start_time": "2025-04-22T19:51:43.137Z"
   },
   {
    "duration": 132,
    "start_time": "2025-04-22T19:51:46.858Z"
   },
   {
    "duration": 2,
    "start_time": "2025-04-22T19:51:46.992Z"
   },
   {
    "duration": 97,
    "start_time": "2025-04-22T19:51:47.006Z"
   },
   {
    "duration": 8,
    "start_time": "2025-04-22T19:51:47.105Z"
   },
   {
    "duration": 14,
    "start_time": "2025-04-22T19:51:47.115Z"
   },
   {
    "duration": 9,
    "start_time": "2025-04-22T19:51:47.131Z"
   },
   {
    "duration": 6,
    "start_time": "2025-04-22T19:51:47.141Z"
   },
   {
    "duration": 4,
    "start_time": "2025-04-22T19:51:47.148Z"
   },
   {
    "duration": 4,
    "start_time": "2025-04-22T19:51:47.154Z"
   },
   {
    "duration": 8,
    "start_time": "2025-04-22T19:51:47.159Z"
   },
   {
    "duration": 5,
    "start_time": "2025-04-22T19:51:47.168Z"
   },
   {
    "duration": 4,
    "start_time": "2025-04-22T19:51:47.174Z"
   },
   {
    "duration": 7,
    "start_time": "2025-04-22T19:51:47.179Z"
   },
   {
    "duration": 527266,
    "start_time": "2025-04-22T20:11:27.677Z"
   },
   {
    "duration": 3397,
    "start_time": "2025-04-22T20:20:14.946Z"
   },
   {
    "duration": 2802,
    "start_time": "2025-04-22T20:20:18.346Z"
   },
   {
    "duration": 1128,
    "start_time": "2025-04-22T20:20:21.150Z"
   },
   {
    "duration": 18,
    "start_time": "2025-04-22T20:20:22.280Z"
   },
   {
    "duration": 172,
    "start_time": "2025-04-22T20:20:22.300Z"
   },
   {
    "duration": 35,
    "start_time": "2025-04-22T20:20:22.473Z"
   },
   {
    "duration": 6,
    "start_time": "2025-04-22T20:20:22.510Z"
   },
   {
    "duration": 7,
    "start_time": "2025-04-22T20:20:22.518Z"
   },
   {
    "duration": 444,
    "start_time": "2025-04-22T20:20:22.527Z"
   },
   {
    "duration": 138,
    "start_time": "2025-04-22T20:20:22.973Z"
   },
   {
    "duration": 14,
    "start_time": "2025-04-22T20:20:23.112Z"
   },
   {
    "duration": 50,
    "start_time": "2025-04-22T20:20:23.128Z"
   },
   {
    "duration": 146,
    "start_time": "2025-04-22T20:20:23.180Z"
   },
   {
    "duration": 477,
    "start_time": "2025-04-22T20:20:23.328Z"
   },
   {
    "duration": 30,
    "start_time": "2025-04-22T20:20:23.807Z"
   },
   {
    "duration": 98,
    "start_time": "2025-04-22T20:20:23.839Z"
   },
   {
    "duration": 120,
    "start_time": "2025-04-22T20:20:23.938Z"
   },
   {
    "duration": 483,
    "start_time": "2025-04-22T20:20:24.059Z"
   },
   {
    "duration": 91,
    "start_time": "2025-04-22T20:20:24.544Z"
   },
   {
    "duration": 424,
    "start_time": "2025-04-22T20:20:24.637Z"
   },
   {
    "duration": 120,
    "start_time": "2025-04-22T20:20:25.063Z"
   },
   {
    "duration": 664,
    "start_time": "2025-04-22T20:20:25.185Z"
   },
   {
    "duration": 11,
    "start_time": "2025-04-22T20:20:25.851Z"
   },
   {
    "duration": 58,
    "start_time": "2025-04-22T20:20:25.863Z"
   },
   {
    "duration": 13,
    "start_time": "2025-04-22T20:20:25.922Z"
   },
   {
    "duration": 383,
    "start_time": "2025-04-22T20:20:25.937Z"
   },
   {
    "duration": 304,
    "start_time": "2025-04-22T20:20:26.327Z"
   },
   {
    "duration": 401,
    "start_time": "2025-04-22T20:20:26.632Z"
   },
   {
    "duration": 28,
    "start_time": "2025-04-22T20:20:27.035Z"
   },
   {
    "duration": 50,
    "start_time": "2025-04-22T20:20:27.065Z"
   },
   {
    "duration": 129,
    "start_time": "2025-04-22T20:20:27.117Z"
   },
   {
    "duration": 46,
    "start_time": "2025-04-22T20:20:27.248Z"
   },
   {
    "duration": 89,
    "start_time": "2025-04-22T20:20:27.296Z"
   },
   {
    "duration": 12,
    "start_time": "2025-04-22T20:20:27.387Z"
   },
   {
    "duration": 37,
    "start_time": "2025-04-22T20:20:27.401Z"
   },
   {
    "duration": 545,
    "start_time": "2025-04-22T20:20:27.440Z"
   },
   {
    "duration": 4,
    "start_time": "2025-04-22T20:20:27.987Z"
   },
   {
    "duration": 1907,
    "start_time": "2025-04-22T20:20:27.992Z"
   },
   {
    "duration": 5,
    "start_time": "2025-04-22T20:20:29.901Z"
   },
   {
    "duration": 43,
    "start_time": "2025-04-22T20:20:29.908Z"
   },
   {
    "duration": 19,
    "start_time": "2025-04-22T20:20:29.953Z"
   },
   {
    "duration": 3958,
    "start_time": "2025-04-22T20:20:29.974Z"
   },
   {
    "duration": 139,
    "start_time": "2025-04-22T20:20:33.934Z"
   },
   {
    "duration": 2,
    "start_time": "2025-04-22T20:20:34.075Z"
   },
   {
    "duration": 32,
    "start_time": "2025-04-22T20:20:34.079Z"
   },
   {
    "duration": 28,
    "start_time": "2025-04-22T20:20:34.113Z"
   },
   {
    "duration": 94,
    "start_time": "2025-04-22T20:20:34.143Z"
   },
   {
    "duration": 104,
    "start_time": "2025-04-22T20:20:34.239Z"
   },
   {
    "duration": 26,
    "start_time": "2025-04-22T20:20:34.345Z"
   },
   {
    "duration": 49,
    "start_time": "2025-04-22T20:20:34.373Z"
   },
   {
    "duration": 18,
    "start_time": "2025-04-22T20:20:34.424Z"
   },
   {
    "duration": 18,
    "start_time": "2025-04-22T20:20:34.443Z"
   },
   {
    "duration": 18,
    "start_time": "2025-04-22T20:20:34.463Z"
   },
   {
    "duration": 31,
    "start_time": "2025-04-22T20:20:34.483Z"
   },
   {
    "duration": 37,
    "start_time": "2025-04-22T20:20:34.516Z"
   },
   {
    "duration": 3337,
    "start_time": "2025-04-22T20:31:46.295Z"
   },
   {
    "duration": 3061,
    "start_time": "2025-04-22T20:31:49.635Z"
   },
   {
    "duration": 1064,
    "start_time": "2025-04-22T20:31:52.698Z"
   },
   {
    "duration": 18,
    "start_time": "2025-04-22T20:31:53.764Z"
   },
   {
    "duration": 163,
    "start_time": "2025-04-22T20:31:53.783Z"
   },
   {
    "duration": 30,
    "start_time": "2025-04-22T20:31:53.948Z"
   },
   {
    "duration": 5,
    "start_time": "2025-04-22T20:31:53.980Z"
   },
   {
    "duration": 3,
    "start_time": "2025-04-22T20:31:54.006Z"
   },
   {
    "duration": 391,
    "start_time": "2025-04-22T20:31:54.011Z"
   },
   {
    "duration": 128,
    "start_time": "2025-04-22T20:31:54.407Z"
   },
   {
    "duration": 13,
    "start_time": "2025-04-22T20:31:54.538Z"
   },
   {
    "duration": 63,
    "start_time": "2025-04-22T20:31:54.552Z"
   },
   {
    "duration": 126,
    "start_time": "2025-04-22T20:31:54.617Z"
   },
   {
    "duration": 464,
    "start_time": "2025-04-22T20:31:54.745Z"
   },
   {
    "duration": 27,
    "start_time": "2025-04-22T20:31:55.211Z"
   },
   {
    "duration": 106,
    "start_time": "2025-04-22T20:31:55.240Z"
   },
   {
    "duration": 121,
    "start_time": "2025-04-22T20:31:55.348Z"
   },
   {
    "duration": 470,
    "start_time": "2025-04-22T20:31:55.472Z"
   },
   {
    "duration": 97,
    "start_time": "2025-04-22T20:31:55.944Z"
   },
   {
    "duration": 440,
    "start_time": "2025-04-22T20:31:56.044Z"
   },
   {
    "duration": 124,
    "start_time": "2025-04-22T20:31:56.486Z"
   },
   {
    "duration": 525,
    "start_time": "2025-04-22T20:31:56.611Z"
   },
   {
    "duration": 11,
    "start_time": "2025-04-22T20:31:57.138Z"
   },
   {
    "duration": 32,
    "start_time": "2025-04-22T20:31:57.151Z"
   },
   {
    "duration": 12,
    "start_time": "2025-04-22T20:31:57.206Z"
   },
   {
    "duration": 366,
    "start_time": "2025-04-22T20:31:57.219Z"
   },
   {
    "duration": 278,
    "start_time": "2025-04-22T20:31:57.587Z"
   },
   {
    "duration": 360,
    "start_time": "2025-04-22T20:31:57.869Z"
   },
   {
    "duration": 22,
    "start_time": "2025-04-22T20:31:58.230Z"
   },
   {
    "duration": 31,
    "start_time": "2025-04-22T20:31:58.254Z"
   },
   {
    "duration": 191,
    "start_time": "2025-04-22T20:31:58.287Z"
   },
   {
    "duration": 17,
    "start_time": "2025-04-22T20:31:58.480Z"
   },
   {
    "duration": 75,
    "start_time": "2025-04-22T20:31:58.499Z"
   },
   {
    "duration": 12,
    "start_time": "2025-04-22T20:31:58.576Z"
   },
   {
    "duration": 10,
    "start_time": "2025-04-22T20:31:58.606Z"
   },
   {
    "duration": 489,
    "start_time": "2025-04-22T20:31:58.618Z"
   },
   {
    "duration": 5,
    "start_time": "2025-04-22T20:31:59.108Z"
   },
   {
    "duration": 1763,
    "start_time": "2025-04-22T20:31:59.115Z"
   },
   {
    "duration": 4,
    "start_time": "2025-04-22T20:32:00.880Z"
   },
   {
    "duration": 49,
    "start_time": "2025-04-22T20:32:00.885Z"
   },
   {
    "duration": 12,
    "start_time": "2025-04-22T20:32:00.936Z"
   },
   {
    "duration": 3565,
    "start_time": "2025-04-22T20:32:00.950Z"
   },
   {
    "duration": 131,
    "start_time": "2025-04-22T20:32:04.517Z"
   },
   {
    "duration": 2,
    "start_time": "2025-04-22T20:32:04.649Z"
   },
   {
    "duration": 49,
    "start_time": "2025-04-22T20:32:04.653Z"
   },
   {
    "duration": 16,
    "start_time": "2025-04-22T20:32:04.703Z"
   },
   {
    "duration": 16,
    "start_time": "2025-04-22T20:32:04.720Z"
   },
   {
    "duration": 3,
    "start_time": "2025-04-22T20:32:04.738Z"
   },
   {
    "duration": 6,
    "start_time": "2025-04-22T20:32:04.743Z"
   },
   {
    "duration": 12,
    "start_time": "2025-04-22T20:32:04.751Z"
   },
   {
    "duration": 21,
    "start_time": "2025-04-22T20:32:04.765Z"
   },
   {
    "duration": 6,
    "start_time": "2025-04-22T20:32:04.788Z"
   },
   {
    "duration": 12,
    "start_time": "2025-04-22T20:32:04.795Z"
   },
   {
    "duration": 6,
    "start_time": "2025-04-22T20:32:04.809Z"
   },
   {
    "duration": 4,
    "start_time": "2025-04-22T20:32:04.817Z"
   },
   {
    "duration": 3378,
    "start_time": "2025-04-22T20:33:03.640Z"
   },
   {
    "duration": 2508,
    "start_time": "2025-04-22T20:33:07.021Z"
   },
   {
    "duration": 1080,
    "start_time": "2025-04-22T20:33:09.531Z"
   },
   {
    "duration": 17,
    "start_time": "2025-04-22T20:33:10.613Z"
   },
   {
    "duration": 157,
    "start_time": "2025-04-22T20:33:10.632Z"
   },
   {
    "duration": 35,
    "start_time": "2025-04-22T20:33:10.791Z"
   },
   {
    "duration": 12,
    "start_time": "2025-04-22T20:33:10.828Z"
   },
   {
    "duration": 15,
    "start_time": "2025-04-22T20:33:10.842Z"
   },
   {
    "duration": 372,
    "start_time": "2025-04-22T20:33:10.859Z"
   },
   {
    "duration": 128,
    "start_time": "2025-04-22T20:33:11.234Z"
   },
   {
    "duration": 14,
    "start_time": "2025-04-22T20:33:11.364Z"
   },
   {
    "duration": 66,
    "start_time": "2025-04-22T20:33:11.380Z"
   },
   {
    "duration": 125,
    "start_time": "2025-04-22T20:33:11.448Z"
   },
   {
    "duration": 453,
    "start_time": "2025-04-22T20:33:11.575Z"
   },
   {
    "duration": 28,
    "start_time": "2025-04-22T20:33:12.030Z"
   },
   {
    "duration": 73,
    "start_time": "2025-04-22T20:33:12.060Z"
   },
   {
    "duration": 117,
    "start_time": "2025-04-22T20:33:12.135Z"
   },
   {
    "duration": 501,
    "start_time": "2025-04-22T20:33:12.253Z"
   },
   {
    "duration": 90,
    "start_time": "2025-04-22T20:33:12.756Z"
   },
   {
    "duration": 433,
    "start_time": "2025-04-22T20:33:12.847Z"
   },
   {
    "duration": 124,
    "start_time": "2025-04-22T20:33:13.281Z"
   },
   {
    "duration": 534,
    "start_time": "2025-04-22T20:33:13.407Z"
   },
   {
    "duration": 11,
    "start_time": "2025-04-22T20:33:13.942Z"
   },
   {
    "duration": 59,
    "start_time": "2025-04-22T20:33:13.955Z"
   },
   {
    "duration": 12,
    "start_time": "2025-04-22T20:33:14.016Z"
   },
   {
    "duration": 292,
    "start_time": "2025-04-22T20:33:14.032Z"
   },
   {
    "duration": 286,
    "start_time": "2025-04-22T20:33:14.326Z"
   },
   {
    "duration": 382,
    "start_time": "2025-04-22T20:33:14.618Z"
   },
   {
    "duration": 24,
    "start_time": "2025-04-22T20:33:15.002Z"
   },
   {
    "duration": 44,
    "start_time": "2025-04-22T20:33:15.028Z"
   },
   {
    "duration": 139,
    "start_time": "2025-04-22T20:33:15.074Z"
   },
   {
    "duration": 128,
    "start_time": "2025-04-22T20:33:15.215Z"
   },
   {
    "duration": 94,
    "start_time": "2025-04-22T20:33:15.345Z"
   },
   {
    "duration": 10,
    "start_time": "2025-04-22T20:33:15.441Z"
   },
   {
    "duration": 19,
    "start_time": "2025-04-22T20:33:15.452Z"
   },
   {
    "duration": 488,
    "start_time": "2025-04-22T20:33:15.473Z"
   },
   {
    "duration": 3,
    "start_time": "2025-04-22T20:33:15.963Z"
   },
   {
    "duration": 1784,
    "start_time": "2025-04-22T20:33:15.968Z"
   },
   {
    "duration": 3,
    "start_time": "2025-04-22T20:33:17.754Z"
   },
   {
    "duration": 48,
    "start_time": "2025-04-22T20:33:17.759Z"
   },
   {
    "duration": 12,
    "start_time": "2025-04-22T20:33:17.808Z"
   },
   {
    "duration": 3299,
    "start_time": "2025-04-22T20:33:17.822Z"
   },
   {
    "duration": 133,
    "start_time": "2025-04-22T20:33:21.123Z"
   },
   {
    "duration": 2,
    "start_time": "2025-04-22T20:33:21.257Z"
   },
   {
    "duration": 82,
    "start_time": "2025-04-22T20:33:21.261Z"
   },
   {
    "duration": 6,
    "start_time": "2025-04-22T20:33:21.344Z"
   },
   {
    "duration": 20,
    "start_time": "2025-04-22T20:33:21.352Z"
   },
   {
    "duration": 8,
    "start_time": "2025-04-22T20:33:21.374Z"
   },
   {
    "duration": 21,
    "start_time": "2025-04-22T20:33:21.384Z"
   },
   {
    "duration": 35,
    "start_time": "2025-04-22T20:33:21.407Z"
   },
   {
    "duration": 15,
    "start_time": "2025-04-22T20:33:21.443Z"
   },
   {
    "duration": 6,
    "start_time": "2025-04-22T20:33:21.460Z"
   },
   {
    "duration": 9,
    "start_time": "2025-04-22T20:33:21.467Z"
   },
   {
    "duration": 21,
    "start_time": "2025-04-22T20:33:21.478Z"
   },
   {
    "duration": 8,
    "start_time": "2025-04-22T20:33:21.501Z"
   },
   {
    "duration": 3368,
    "start_time": "2025-04-22T20:33:32.650Z"
   },
   {
    "duration": 2518,
    "start_time": "2025-04-22T20:33:36.021Z"
   },
   {
    "duration": 1086,
    "start_time": "2025-04-22T20:33:38.541Z"
   },
   {
    "duration": 18,
    "start_time": "2025-04-22T20:33:39.629Z"
   },
   {
    "duration": 159,
    "start_time": "2025-04-22T20:33:39.649Z"
   },
   {
    "duration": 34,
    "start_time": "2025-04-22T20:33:39.809Z"
   },
   {
    "duration": 14,
    "start_time": "2025-04-22T20:33:39.845Z"
   },
   {
    "duration": 7,
    "start_time": "2025-04-22T20:33:39.861Z"
   },
   {
    "duration": 391,
    "start_time": "2025-04-22T20:33:39.869Z"
   },
   {
    "duration": 127,
    "start_time": "2025-04-22T20:33:40.263Z"
   },
   {
    "duration": 21,
    "start_time": "2025-04-22T20:33:40.391Z"
   },
   {
    "duration": 44,
    "start_time": "2025-04-22T20:33:40.413Z"
   },
   {
    "duration": 134,
    "start_time": "2025-04-22T20:33:40.458Z"
   },
   {
    "duration": 484,
    "start_time": "2025-04-22T20:33:40.594Z"
   },
   {
    "duration": 31,
    "start_time": "2025-04-22T20:33:41.079Z"
   },
   {
    "duration": 63,
    "start_time": "2025-04-22T20:33:41.112Z"
   },
   {
    "duration": 117,
    "start_time": "2025-04-22T20:33:41.177Z"
   },
   {
    "duration": 450,
    "start_time": "2025-04-22T20:33:41.296Z"
   },
   {
    "duration": 117,
    "start_time": "2025-04-22T20:33:41.748Z"
   },
   {
    "duration": 392,
    "start_time": "2025-04-22T20:33:41.867Z"
   },
   {
    "duration": 121,
    "start_time": "2025-04-22T20:33:42.261Z"
   },
   {
    "duration": 547,
    "start_time": "2025-04-22T20:33:42.383Z"
   },
   {
    "duration": 11,
    "start_time": "2025-04-22T20:33:42.932Z"
   },
   {
    "duration": 60,
    "start_time": "2025-04-22T20:33:42.945Z"
   },
   {
    "duration": 13,
    "start_time": "2025-04-22T20:33:43.007Z"
   },
   {
    "duration": 287,
    "start_time": "2025-04-22T20:33:43.022Z"
   },
   {
    "duration": 280,
    "start_time": "2025-04-22T20:33:43.311Z"
   },
   {
    "duration": 365,
    "start_time": "2025-04-22T20:33:43.596Z"
   },
   {
    "duration": 25,
    "start_time": "2025-04-22T20:33:43.963Z"
   },
   {
    "duration": 26,
    "start_time": "2025-04-22T20:33:43.989Z"
   },
   {
    "duration": 125,
    "start_time": "2025-04-22T20:33:44.016Z"
   },
   {
    "duration": 15,
    "start_time": "2025-04-22T20:33:44.143Z"
   },
   {
    "duration": 87,
    "start_time": "2025-04-22T20:33:44.159Z"
   },
   {
    "duration": 10,
    "start_time": "2025-04-22T20:33:44.248Z"
   },
   {
    "duration": 22,
    "start_time": "2025-04-22T20:33:44.260Z"
   },
   {
    "duration": 501,
    "start_time": "2025-04-22T20:33:44.283Z"
   },
   {
    "duration": 3,
    "start_time": "2025-04-22T20:33:44.786Z"
   },
   {
    "duration": 1810,
    "start_time": "2025-04-22T20:33:44.791Z"
   },
   {
    "duration": 4,
    "start_time": "2025-04-22T20:33:46.604Z"
   },
   {
    "duration": 34,
    "start_time": "2025-04-22T20:33:46.610Z"
   },
   {
    "duration": 32,
    "start_time": "2025-04-22T20:33:46.646Z"
   },
   {
    "duration": 3452,
    "start_time": "2025-04-22T20:33:46.679Z"
   },
   {
    "duration": 132,
    "start_time": "2025-04-22T20:33:50.133Z"
   },
   {
    "duration": 2,
    "start_time": "2025-04-22T20:33:50.267Z"
   },
   {
    "duration": 19,
    "start_time": "2025-04-22T20:33:50.271Z"
   },
   {
    "duration": 77,
    "start_time": "2025-04-22T20:33:50.292Z"
   },
   {
    "duration": 6,
    "start_time": "2025-04-22T20:33:50.371Z"
   },
   {
    "duration": 19,
    "start_time": "2025-04-22T20:33:50.378Z"
   },
   {
    "duration": 18,
    "start_time": "2025-04-22T20:33:50.399Z"
   },
   {
    "duration": 8,
    "start_time": "2025-04-22T20:33:50.419Z"
   },
   {
    "duration": 37,
    "start_time": "2025-04-22T20:33:50.428Z"
   },
   {
    "duration": 12,
    "start_time": "2025-04-22T20:33:50.466Z"
   },
   {
    "duration": 16,
    "start_time": "2025-04-22T20:33:50.480Z"
   },
   {
    "duration": 13,
    "start_time": "2025-04-22T20:33:50.498Z"
   },
   {
    "duration": 11,
    "start_time": "2025-04-22T20:33:50.512Z"
   },
   {
    "duration": 3387,
    "start_time": "2025-04-22T20:54:55.626Z"
   },
   {
    "duration": 2867,
    "start_time": "2025-04-22T20:54:59.016Z"
   },
   {
    "duration": 1115,
    "start_time": "2025-04-22T20:55:01.884Z"
   },
   {
    "duration": 18,
    "start_time": "2025-04-22T20:55:03.001Z"
   },
   {
    "duration": 179,
    "start_time": "2025-04-22T20:55:03.021Z"
   },
   {
    "duration": 20,
    "start_time": "2025-04-22T20:55:03.205Z"
   },
   {
    "duration": 3,
    "start_time": "2025-04-22T20:55:03.227Z"
   },
   {
    "duration": 4,
    "start_time": "2025-04-22T20:55:03.232Z"
   },
   {
    "duration": 418,
    "start_time": "2025-04-22T20:55:03.237Z"
   },
   {
    "duration": 133,
    "start_time": "2025-04-22T20:55:03.658Z"
   },
   {
    "duration": 13,
    "start_time": "2025-04-22T20:55:03.805Z"
   },
   {
    "duration": 33,
    "start_time": "2025-04-22T20:55:03.819Z"
   },
   {
    "duration": 153,
    "start_time": "2025-04-22T20:55:03.853Z"
   },
   {
    "duration": 491,
    "start_time": "2025-04-22T20:55:04.009Z"
   },
   {
    "duration": 27,
    "start_time": "2025-04-22T20:55:04.504Z"
   },
   {
    "duration": 72,
    "start_time": "2025-04-22T20:55:04.533Z"
   },
   {
    "duration": 113,
    "start_time": "2025-04-22T20:55:04.607Z"
   },
   {
    "duration": 512,
    "start_time": "2025-04-22T20:55:04.721Z"
   },
   {
    "duration": 91,
    "start_time": "2025-04-22T20:55:05.234Z"
   },
   {
    "duration": 428,
    "start_time": "2025-04-22T20:55:05.327Z"
   },
   {
    "duration": 117,
    "start_time": "2025-04-22T20:55:05.756Z"
   },
   {
    "duration": 558,
    "start_time": "2025-04-22T20:55:05.875Z"
   },
   {
    "duration": 10,
    "start_time": "2025-04-22T20:55:06.435Z"
   },
   {
    "duration": 90,
    "start_time": "2025-04-22T20:55:06.447Z"
   },
   {
    "duration": 11,
    "start_time": "2025-04-22T20:55:06.539Z"
   },
   {
    "duration": 309,
    "start_time": "2025-04-22T20:55:06.552Z"
   },
   {
    "duration": 288,
    "start_time": "2025-04-22T20:55:06.863Z"
   },
   {
    "duration": 367,
    "start_time": "2025-04-22T20:55:07.155Z"
   },
   {
    "duration": 22,
    "start_time": "2025-04-22T20:55:07.524Z"
   },
   {
    "duration": 15,
    "start_time": "2025-04-22T20:55:07.548Z"
   },
   {
    "duration": 132,
    "start_time": "2025-04-22T20:55:07.565Z"
   },
   {
    "duration": 24,
    "start_time": "2025-04-22T20:55:07.699Z"
   },
   {
    "duration": 85,
    "start_time": "2025-04-22T20:55:07.725Z"
   },
   {
    "duration": 11,
    "start_time": "2025-04-22T20:55:07.812Z"
   },
   {
    "duration": 19,
    "start_time": "2025-04-22T20:55:07.824Z"
   },
   {
    "duration": 544,
    "start_time": "2025-04-22T20:55:07.845Z"
   },
   {
    "duration": 4,
    "start_time": "2025-04-22T20:55:08.391Z"
   },
   {
    "duration": 1802,
    "start_time": "2025-04-22T20:55:08.396Z"
   },
   {
    "duration": 5,
    "start_time": "2025-04-22T20:55:10.200Z"
   },
   {
    "duration": 34,
    "start_time": "2025-04-22T20:55:10.207Z"
   },
   {
    "duration": 12,
    "start_time": "2025-04-22T20:55:10.243Z"
   },
   {
    "duration": 3441,
    "start_time": "2025-04-22T20:55:10.257Z"
   },
   {
    "duration": 135,
    "start_time": "2025-04-22T20:55:13.699Z"
   },
   {
    "duration": 3,
    "start_time": "2025-04-22T20:55:13.835Z"
   },
   {
    "duration": 21,
    "start_time": "2025-04-22T20:55:13.839Z"
   },
   {
    "duration": 11,
    "start_time": "2025-04-22T20:55:13.862Z"
   },
   {
    "duration": 3,
    "start_time": "2025-04-22T20:55:13.875Z"
   },
   {
    "duration": 6,
    "start_time": "2025-04-22T20:55:13.880Z"
   },
   {
    "duration": 21,
    "start_time": "2025-04-22T20:55:13.887Z"
   },
   {
    "duration": 7,
    "start_time": "2025-04-22T20:55:13.910Z"
   },
   {
    "duration": 4,
    "start_time": "2025-04-22T20:55:13.919Z"
   },
   {
    "duration": 4,
    "start_time": "2025-04-22T20:55:13.924Z"
   },
   {
    "duration": 5,
    "start_time": "2025-04-22T20:55:13.930Z"
   },
   {
    "duration": 6,
    "start_time": "2025-04-22T20:55:13.937Z"
   },
   {
    "duration": 6,
    "start_time": "2025-04-22T20:55:13.945Z"
   },
   {
    "duration": 5,
    "start_time": "2025-04-22T20:55:13.953Z"
   },
   {
    "duration": 4,
    "start_time": "2025-04-22T20:55:13.960Z"
   },
   {
    "duration": 9,
    "start_time": "2025-04-22T20:55:13.965Z"
   },
   {
    "duration": 33,
    "start_time": "2025-04-22T20:55:13.975Z"
   },
   {
    "duration": 10997,
    "start_time": "2025-04-22T20:55:14.010Z"
   },
   {
    "duration": 3,
    "start_time": "2025-04-22T20:55:25.009Z"
   },
   {
    "duration": 19,
    "start_time": "2025-04-22T20:55:25.014Z"
   },
   {
    "duration": 140,
    "start_time": "2025-04-22T20:55:25.035Z"
   },
   {
    "duration": 0,
    "start_time": "2025-04-22T20:55:25.176Z"
   },
   {
    "duration": 0,
    "start_time": "2025-04-22T20:55:25.178Z"
   },
   {
    "duration": 0,
    "start_time": "2025-04-22T20:55:25.180Z"
   },
   {
    "duration": 3,
    "start_time": "2025-04-22T20:55:32.699Z"
   },
   {
    "duration": 27,
    "start_time": "2025-04-22T20:55:34.623Z"
   },
   {
    "duration": 5,
    "start_time": "2025-04-22T20:56:21.295Z"
   },
   {
    "duration": 13,
    "start_time": "2025-04-22T20:56:31.659Z"
   },
   {
    "duration": 16,
    "start_time": "2025-04-22T20:57:04.290Z"
   },
   {
    "duration": 3352,
    "start_time": "2025-04-22T20:58:05.572Z"
   },
   {
    "duration": 1720,
    "start_time": "2025-04-22T20:58:08.926Z"
   },
   {
    "duration": 936,
    "start_time": "2025-04-22T20:58:10.648Z"
   },
   {
    "duration": 21,
    "start_time": "2025-04-22T20:58:11.586Z"
   },
   {
    "duration": 168,
    "start_time": "2025-04-22T20:58:11.609Z"
   },
   {
    "duration": 36,
    "start_time": "2025-04-22T20:58:11.779Z"
   },
   {
    "duration": 3,
    "start_time": "2025-04-22T20:58:11.817Z"
   },
   {
    "duration": 11,
    "start_time": "2025-04-22T20:58:11.821Z"
   },
   {
    "duration": 391,
    "start_time": "2025-04-22T20:58:11.833Z"
   },
   {
    "duration": 127,
    "start_time": "2025-04-22T20:58:12.227Z"
   },
   {
    "duration": 36,
    "start_time": "2025-04-22T20:58:12.356Z"
   },
   {
    "duration": 117,
    "start_time": "2025-04-22T20:58:12.393Z"
   },
   {
    "duration": 119,
    "start_time": "2025-04-22T20:58:12.512Z"
   },
   {
    "duration": 447,
    "start_time": "2025-04-22T20:58:12.632Z"
   },
   {
    "duration": 36,
    "start_time": "2025-04-22T20:58:13.081Z"
   },
   {
    "duration": 51,
    "start_time": "2025-04-22T20:58:13.119Z"
   },
   {
    "duration": 134,
    "start_time": "2025-04-22T20:58:13.172Z"
   },
   {
    "duration": 544,
    "start_time": "2025-04-22T20:58:13.308Z"
   },
   {
    "duration": 104,
    "start_time": "2025-04-22T20:58:13.855Z"
   },
   {
    "duration": 397,
    "start_time": "2025-04-22T20:58:13.961Z"
   },
   {
    "duration": 120,
    "start_time": "2025-04-22T20:58:14.360Z"
   },
   {
    "duration": 538,
    "start_time": "2025-04-22T20:58:14.482Z"
   },
   {
    "duration": 12,
    "start_time": "2025-04-22T20:58:15.022Z"
   },
   {
    "duration": 57,
    "start_time": "2025-04-22T20:58:15.035Z"
   },
   {
    "duration": 21,
    "start_time": "2025-04-22T20:58:15.094Z"
   },
   {
    "duration": 327,
    "start_time": "2025-04-22T20:58:15.117Z"
   },
   {
    "duration": 284,
    "start_time": "2025-04-22T20:58:15.446Z"
   },
   {
    "duration": 380,
    "start_time": "2025-04-22T20:58:15.735Z"
   },
   {
    "duration": 23,
    "start_time": "2025-04-22T20:58:16.117Z"
   },
   {
    "duration": 18,
    "start_time": "2025-04-22T20:58:16.142Z"
   },
   {
    "duration": 145,
    "start_time": "2025-04-22T20:58:16.161Z"
   },
   {
    "duration": 171,
    "start_time": "2025-04-22T20:58:16.307Z"
   },
   {
    "duration": 65,
    "start_time": "2025-04-22T20:58:16.480Z"
   },
   {
    "duration": 11,
    "start_time": "2025-04-22T20:58:16.547Z"
   },
   {
    "duration": 13,
    "start_time": "2025-04-22T20:58:16.559Z"
   },
   {
    "duration": 515,
    "start_time": "2025-04-22T20:58:16.574Z"
   },
   {
    "duration": 4,
    "start_time": "2025-04-22T20:58:17.091Z"
   },
   {
    "duration": 1754,
    "start_time": "2025-04-22T20:58:17.096Z"
   },
   {
    "duration": 4,
    "start_time": "2025-04-22T20:58:18.852Z"
   },
   {
    "duration": 23,
    "start_time": "2025-04-22T20:58:18.858Z"
   },
   {
    "duration": 24,
    "start_time": "2025-04-22T20:58:18.883Z"
   },
   {
    "duration": 3236,
    "start_time": "2025-04-22T20:58:18.909Z"
   },
   {
    "duration": 126,
    "start_time": "2025-04-22T20:58:22.147Z"
   },
   {
    "duration": 3,
    "start_time": "2025-04-22T20:58:22.274Z"
   },
   {
    "duration": 6,
    "start_time": "2025-04-22T20:58:22.278Z"
   },
   {
    "duration": 5,
    "start_time": "2025-04-22T20:58:22.285Z"
   },
   {
    "duration": 15,
    "start_time": "2025-04-22T20:58:22.291Z"
   },
   {
    "duration": 64,
    "start_time": "2025-04-22T20:58:22.307Z"
   },
   {
    "duration": 101,
    "start_time": "2025-04-22T20:58:22.372Z"
   },
   {
    "duration": 45,
    "start_time": "2025-04-22T20:58:22.475Z"
   },
   {
    "duration": 4,
    "start_time": "2025-04-22T20:58:22.522Z"
   },
   {
    "duration": 5,
    "start_time": "2025-04-22T20:58:22.527Z"
   },
   {
    "duration": 4,
    "start_time": "2025-04-22T20:58:22.533Z"
   },
   {
    "duration": 4,
    "start_time": "2025-04-22T20:58:22.538Z"
   },
   {
    "duration": 4,
    "start_time": "2025-04-22T20:58:22.544Z"
   },
   {
    "duration": 6,
    "start_time": "2025-04-22T20:58:22.549Z"
   },
   {
    "duration": 4,
    "start_time": "2025-04-22T20:58:22.557Z"
   },
   {
    "duration": 8,
    "start_time": "2025-04-22T20:58:22.562Z"
   },
   {
    "duration": 5,
    "start_time": "2025-04-22T20:58:22.571Z"
   },
   {
    "duration": 7832,
    "start_time": "2025-04-22T20:58:22.578Z"
   },
   {
    "duration": 3,
    "start_time": "2025-04-22T20:58:30.412Z"
   },
   {
    "duration": 69,
    "start_time": "2025-04-22T20:58:30.416Z"
   },
   {
    "duration": 72328,
    "start_time": "2025-04-22T20:58:30.486Z"
   },
   {
    "duration": 165,
    "start_time": "2025-04-22T20:59:42.817Z"
   },
   {
    "duration": 0,
    "start_time": "2025-04-22T20:59:42.984Z"
   },
   {
    "duration": 0,
    "start_time": "2025-04-22T20:59:42.986Z"
   },
   {
    "duration": 14,
    "start_time": "2025-04-22T21:00:24.274Z"
   },
   {
    "duration": 18,
    "start_time": "2025-04-22T21:00:49.790Z"
   },
   {
    "duration": 111,
    "start_time": "2025-04-22T21:05:28.809Z"
   },
   {
    "duration": 758,
    "start_time": "2025-04-22T21:05:59.547Z"
   },
   {
    "duration": 5,
    "start_time": "2025-04-22T21:06:01.571Z"
   },
   {
    "duration": 3313,
    "start_time": "2025-04-22T21:07:01.022Z"
   },
   {
    "duration": 1798,
    "start_time": "2025-04-22T21:07:04.338Z"
   },
   {
    "duration": 979,
    "start_time": "2025-04-22T21:07:06.138Z"
   },
   {
    "duration": 19,
    "start_time": "2025-04-22T21:07:07.119Z"
   },
   {
    "duration": 185,
    "start_time": "2025-04-22T21:07:07.140Z"
   },
   {
    "duration": 33,
    "start_time": "2025-04-22T21:07:07.327Z"
   },
   {
    "duration": 119,
    "start_time": "2025-04-22T21:07:07.362Z"
   },
   {
    "duration": 17,
    "start_time": "2025-04-22T21:07:07.483Z"
   },
   {
    "duration": 418,
    "start_time": "2025-04-22T21:07:07.502Z"
   },
   {
    "duration": 131,
    "start_time": "2025-04-22T21:07:07.923Z"
   },
   {
    "duration": 26,
    "start_time": "2025-04-22T21:07:08.056Z"
   },
   {
    "duration": 51,
    "start_time": "2025-04-22T21:07:08.084Z"
   },
   {
    "duration": 126,
    "start_time": "2025-04-22T21:07:08.137Z"
   },
   {
    "duration": 424,
    "start_time": "2025-04-22T21:07:08.265Z"
   },
   {
    "duration": 40,
    "start_time": "2025-04-22T21:07:08.690Z"
   },
   {
    "duration": 55,
    "start_time": "2025-04-22T21:07:08.731Z"
   },
   {
    "duration": 118,
    "start_time": "2025-04-22T21:07:08.804Z"
   },
   {
    "duration": 503,
    "start_time": "2025-04-22T21:07:08.924Z"
   },
   {
    "duration": 94,
    "start_time": "2025-04-22T21:07:09.429Z"
   },
   {
    "duration": 428,
    "start_time": "2025-04-22T21:07:09.525Z"
   },
   {
    "duration": 126,
    "start_time": "2025-04-22T21:07:09.955Z"
   },
   {
    "duration": 542,
    "start_time": "2025-04-22T21:07:10.083Z"
   },
   {
    "duration": 11,
    "start_time": "2025-04-22T21:07:10.627Z"
   },
   {
    "duration": 66,
    "start_time": "2025-04-22T21:07:10.640Z"
   },
   {
    "duration": 13,
    "start_time": "2025-04-22T21:07:10.708Z"
   },
   {
    "duration": 328,
    "start_time": "2025-04-22T21:07:10.723Z"
   },
   {
    "duration": 283,
    "start_time": "2025-04-22T21:07:11.053Z"
   },
   {
    "duration": 375,
    "start_time": "2025-04-22T21:07:11.341Z"
   },
   {
    "duration": 22,
    "start_time": "2025-04-22T21:07:11.718Z"
   },
   {
    "duration": 28,
    "start_time": "2025-04-22T21:07:11.742Z"
   },
   {
    "duration": 125,
    "start_time": "2025-04-22T21:07:11.772Z"
   },
   {
    "duration": 15,
    "start_time": "2025-04-22T21:07:11.898Z"
   },
   {
    "duration": 73,
    "start_time": "2025-04-22T21:07:11.915Z"
   },
   {
    "duration": 18,
    "start_time": "2025-04-22T21:07:11.989Z"
   },
   {
    "duration": 19,
    "start_time": "2025-04-22T21:07:12.009Z"
   },
   {
    "duration": 530,
    "start_time": "2025-04-22T21:07:12.030Z"
   },
   {
    "duration": 4,
    "start_time": "2025-04-22T21:07:12.562Z"
   },
   {
    "duration": 1857,
    "start_time": "2025-04-22T21:07:12.567Z"
   },
   {
    "duration": 4,
    "start_time": "2025-04-22T21:07:14.426Z"
   },
   {
    "duration": 89,
    "start_time": "2025-04-22T21:07:14.432Z"
   },
   {
    "duration": 13,
    "start_time": "2025-04-22T21:07:14.523Z"
   },
   {
    "duration": 3547,
    "start_time": "2025-04-22T21:07:14.538Z"
   },
   {
    "duration": 135,
    "start_time": "2025-04-22T21:07:18.087Z"
   },
   {
    "duration": 3,
    "start_time": "2025-04-22T21:07:18.223Z"
   },
   {
    "duration": 14,
    "start_time": "2025-04-22T21:07:18.227Z"
   },
   {
    "duration": 11,
    "start_time": "2025-04-22T21:07:18.242Z"
   },
   {
    "duration": 4,
    "start_time": "2025-04-22T21:07:18.255Z"
   },
   {
    "duration": 6,
    "start_time": "2025-04-22T21:07:18.260Z"
   },
   {
    "duration": 5,
    "start_time": "2025-04-22T21:07:18.268Z"
   },
   {
    "duration": 4,
    "start_time": "2025-04-22T21:07:18.274Z"
   },
   {
    "duration": 7,
    "start_time": "2025-04-22T21:07:18.280Z"
   },
   {
    "duration": 19,
    "start_time": "2025-04-22T21:07:18.289Z"
   },
   {
    "duration": 10,
    "start_time": "2025-04-22T21:07:18.310Z"
   },
   {
    "duration": 18,
    "start_time": "2025-04-22T21:07:18.322Z"
   },
   {
    "duration": 6,
    "start_time": "2025-04-22T21:07:18.342Z"
   },
   {
    "duration": 3,
    "start_time": "2025-04-22T21:07:18.350Z"
   },
   {
    "duration": 79,
    "start_time": "2025-04-22T21:07:18.354Z"
   },
   {
    "duration": 71,
    "start_time": "2025-04-22T21:07:18.434Z"
   },
   {
    "duration": 10,
    "start_time": "2025-04-22T21:07:18.507Z"
   },
   {
    "duration": 8687,
    "start_time": "2025-04-22T21:07:18.518Z"
   },
   {
    "duration": 3,
    "start_time": "2025-04-22T21:07:27.207Z"
   },
   {
    "duration": 7,
    "start_time": "2025-04-22T21:07:27.212Z"
   },
   {
    "duration": 60789,
    "start_time": "2025-04-22T21:07:27.221Z"
   },
   {
    "duration": 18,
    "start_time": "2025-04-22T21:08:28.012Z"
   },
   {
    "duration": 775,
    "start_time": "2025-04-22T21:08:28.032Z"
   },
   {
    "duration": 6,
    "start_time": "2025-04-22T21:08:28.809Z"
   },
   {
    "duration": 7082,
    "start_time": "2025-04-23T06:15:38.340Z"
   },
   {
    "duration": 1570,
    "start_time": "2025-04-23T06:15:45.425Z"
   },
   {
    "duration": 1011,
    "start_time": "2025-04-23T06:15:46.997Z"
   },
   {
    "duration": 18,
    "start_time": "2025-04-23T06:15:48.011Z"
   },
   {
    "duration": 162,
    "start_time": "2025-04-23T06:15:48.030Z"
   },
   {
    "duration": 35,
    "start_time": "2025-04-23T06:15:48.194Z"
   },
   {
    "duration": 5,
    "start_time": "2025-04-23T06:15:48.230Z"
   },
   {
    "duration": 24,
    "start_time": "2025-04-23T06:15:48.237Z"
   },
   {
    "duration": 423,
    "start_time": "2025-04-23T06:15:48.262Z"
   },
   {
    "duration": 126,
    "start_time": "2025-04-23T06:15:48.688Z"
   },
   {
    "duration": 101,
    "start_time": "2025-04-23T06:15:48.816Z"
   },
   {
    "duration": 49,
    "start_time": "2025-04-23T06:15:48.919Z"
   },
   {
    "duration": 136,
    "start_time": "2025-04-23T06:15:48.970Z"
   },
   {
    "duration": 345,
    "start_time": "2025-04-23T06:15:49.108Z"
   },
   {
    "duration": 31,
    "start_time": "2025-04-23T06:15:49.455Z"
   },
   {
    "duration": 73,
    "start_time": "2025-04-23T06:15:49.488Z"
   },
   {
    "duration": 115,
    "start_time": "2025-04-23T06:15:49.563Z"
   },
   {
    "duration": 385,
    "start_time": "2025-04-23T06:15:49.680Z"
   },
   {
    "duration": 78,
    "start_time": "2025-04-23T06:15:50.067Z"
   },
   {
    "duration": 301,
    "start_time": "2025-04-23T06:15:50.146Z"
   },
   {
    "duration": 120,
    "start_time": "2025-04-23T06:15:50.449Z"
   },
   {
    "duration": 456,
    "start_time": "2025-04-23T06:15:50.571Z"
   },
   {
    "duration": 11,
    "start_time": "2025-04-23T06:15:51.029Z"
   },
   {
    "duration": 56,
    "start_time": "2025-04-23T06:15:51.042Z"
   },
   {
    "duration": 12,
    "start_time": "2025-04-23T06:15:51.100Z"
   },
   {
    "duration": 286,
    "start_time": "2025-04-23T06:15:51.113Z"
   },
   {
    "duration": 281,
    "start_time": "2025-04-23T06:15:51.401Z"
   },
   {
    "duration": 361,
    "start_time": "2025-04-23T06:15:51.686Z"
   },
   {
    "duration": 27,
    "start_time": "2025-04-23T06:15:52.049Z"
   },
   {
    "duration": 12,
    "start_time": "2025-04-23T06:15:52.078Z"
   },
   {
    "duration": 127,
    "start_time": "2025-04-23T06:15:52.091Z"
   },
   {
    "duration": 17,
    "start_time": "2025-04-23T06:15:52.220Z"
   },
   {
    "duration": 87,
    "start_time": "2025-04-23T06:15:52.238Z"
   },
   {
    "duration": 11,
    "start_time": "2025-04-23T06:15:52.326Z"
   },
   {
    "duration": 23,
    "start_time": "2025-04-23T06:15:52.339Z"
   },
   {
    "duration": 480,
    "start_time": "2025-04-23T06:15:52.364Z"
   },
   {
    "duration": 3,
    "start_time": "2025-04-23T06:15:52.846Z"
   },
   {
    "duration": 1831,
    "start_time": "2025-04-23T06:15:52.851Z"
   },
   {
    "duration": 5,
    "start_time": "2025-04-23T06:15:54.683Z"
   },
   {
    "duration": 25,
    "start_time": "2025-04-23T06:15:54.690Z"
   },
   {
    "duration": 14,
    "start_time": "2025-04-23T06:15:54.716Z"
   },
   {
    "duration": 5129,
    "start_time": "2025-04-23T06:15:54.732Z"
   },
   {
    "duration": 142,
    "start_time": "2025-04-23T06:15:59.862Z"
   },
   {
    "duration": 3,
    "start_time": "2025-04-23T06:16:00.005Z"
   },
   {
    "duration": 35,
    "start_time": "2025-04-23T06:16:00.009Z"
   },
   {
    "duration": 23,
    "start_time": "2025-04-23T06:16:00.046Z"
   },
   {
    "duration": 24,
    "start_time": "2025-04-23T06:16:00.071Z"
   },
   {
    "duration": 5,
    "start_time": "2025-04-23T06:16:00.097Z"
   },
   {
    "duration": 26,
    "start_time": "2025-04-23T06:16:00.103Z"
   },
   {
    "duration": 38,
    "start_time": "2025-04-23T06:16:00.131Z"
   },
   {
    "duration": 11,
    "start_time": "2025-04-23T06:16:00.171Z"
   },
   {
    "duration": 18,
    "start_time": "2025-04-23T06:16:00.184Z"
   },
   {
    "duration": 8,
    "start_time": "2025-04-23T06:16:00.204Z"
   },
   {
    "duration": 12,
    "start_time": "2025-04-23T06:16:00.214Z"
   },
   {
    "duration": 159,
    "start_time": "2025-04-23T06:16:00.228Z"
   },
   {
    "duration": 0,
    "start_time": "2025-04-23T06:16:00.388Z"
   },
   {
    "duration": 0,
    "start_time": "2025-04-23T06:16:00.390Z"
   },
   {
    "duration": 0,
    "start_time": "2025-04-23T06:16:00.391Z"
   },
   {
    "duration": 0,
    "start_time": "2025-04-23T06:16:00.393Z"
   },
   {
    "duration": 0,
    "start_time": "2025-04-23T06:16:00.393Z"
   },
   {
    "duration": 0,
    "start_time": "2025-04-23T06:16:00.394Z"
   },
   {
    "duration": 0,
    "start_time": "2025-04-23T06:16:00.396Z"
   },
   {
    "duration": 0,
    "start_time": "2025-04-23T06:16:00.397Z"
   },
   {
    "duration": 0,
    "start_time": "2025-04-23T06:16:00.398Z"
   },
   {
    "duration": 0,
    "start_time": "2025-04-23T06:16:00.399Z"
   },
   {
    "duration": 0,
    "start_time": "2025-04-23T06:16:00.401Z"
   },
   {
    "duration": 3,
    "start_time": "2025-04-23T06:16:25.930Z"
   },
   {
    "duration": 3,
    "start_time": "2025-04-23T06:16:26.458Z"
   },
   {
    "duration": 3,
    "start_time": "2025-04-23T06:16:26.714Z"
   },
   {
    "duration": 345367,
    "start_time": "2025-04-23T06:16:27.475Z"
   },
   {
    "duration": 0,
    "start_time": "2025-04-23T06:22:12.844Z"
   },
   {
    "duration": 62,
    "start_time": "2025-04-23T06:22:18.298Z"
   },
   {
    "duration": 4,
    "start_time": "2025-04-23T06:23:17.998Z"
   },
   {
    "duration": 3,
    "start_time": "2025-04-23T06:23:26.966Z"
   },
   {
    "duration": 3,
    "start_time": "2025-04-23T06:23:27.472Z"
   },
   {
    "duration": 3,
    "start_time": "2025-04-23T06:23:27.728Z"
   },
   {
    "duration": 3373,
    "start_time": "2025-04-23T06:23:39.244Z"
   },
   {
    "duration": 1863,
    "start_time": "2025-04-23T06:23:42.619Z"
   },
   {
    "duration": 1012,
    "start_time": "2025-04-23T06:23:44.484Z"
   },
   {
    "duration": 19,
    "start_time": "2025-04-23T06:23:45.497Z"
   },
   {
    "duration": 172,
    "start_time": "2025-04-23T06:23:45.518Z"
   },
   {
    "duration": 36,
    "start_time": "2025-04-23T06:23:45.691Z"
   },
   {
    "duration": 16,
    "start_time": "2025-04-23T06:23:45.728Z"
   },
   {
    "duration": 19,
    "start_time": "2025-04-23T06:23:45.747Z"
   },
   {
    "duration": 406,
    "start_time": "2025-04-23T06:23:45.768Z"
   },
   {
    "duration": 128,
    "start_time": "2025-04-23T06:23:46.176Z"
   },
   {
    "duration": 14,
    "start_time": "2025-04-23T06:23:46.307Z"
   },
   {
    "duration": 67,
    "start_time": "2025-04-23T06:23:46.323Z"
   },
   {
    "duration": 133,
    "start_time": "2025-04-23T06:23:46.392Z"
   },
   {
    "duration": 344,
    "start_time": "2025-04-23T06:23:46.530Z"
   },
   {
    "duration": 28,
    "start_time": "2025-04-23T06:23:46.877Z"
   },
   {
    "duration": 78,
    "start_time": "2025-04-23T06:23:46.908Z"
   },
   {
    "duration": 115,
    "start_time": "2025-04-23T06:23:46.988Z"
   },
   {
    "duration": 383,
    "start_time": "2025-04-23T06:23:47.105Z"
   },
   {
    "duration": 92,
    "start_time": "2025-04-23T06:23:47.490Z"
   },
   {
    "duration": 307,
    "start_time": "2025-04-23T06:23:47.584Z"
   },
   {
    "duration": 117,
    "start_time": "2025-04-23T06:23:47.893Z"
   },
   {
    "duration": 465,
    "start_time": "2025-04-23T06:23:48.012Z"
   },
   {
    "duration": 12,
    "start_time": "2025-04-23T06:23:48.480Z"
   },
   {
    "duration": 41,
    "start_time": "2025-04-23T06:23:48.494Z"
   },
   {
    "duration": 12,
    "start_time": "2025-04-23T06:23:48.561Z"
   },
   {
    "duration": 293,
    "start_time": "2025-04-23T06:23:48.576Z"
   },
   {
    "duration": 322,
    "start_time": "2025-04-23T06:23:48.871Z"
   },
   {
    "duration": 370,
    "start_time": "2025-04-23T06:23:49.195Z"
   },
   {
    "duration": 25,
    "start_time": "2025-04-23T06:23:49.567Z"
   },
   {
    "duration": 13,
    "start_time": "2025-04-23T06:23:49.594Z"
   },
   {
    "duration": 134,
    "start_time": "2025-04-23T06:23:49.609Z"
   },
   {
    "duration": 28,
    "start_time": "2025-04-23T06:23:49.745Z"
   },
   {
    "duration": 70,
    "start_time": "2025-04-23T06:23:49.774Z"
   },
   {
    "duration": 21,
    "start_time": "2025-04-23T06:23:49.846Z"
   },
   {
    "duration": 12,
    "start_time": "2025-04-23T06:23:49.869Z"
   },
   {
    "duration": 500,
    "start_time": "2025-04-23T06:23:49.883Z"
   },
   {
    "duration": 5,
    "start_time": "2025-04-23T06:23:50.385Z"
   },
   {
    "duration": 1756,
    "start_time": "2025-04-23T06:23:50.392Z"
   },
   {
    "duration": 4,
    "start_time": "2025-04-23T06:23:52.150Z"
   },
   {
    "duration": 30,
    "start_time": "2025-04-23T06:23:52.156Z"
   },
   {
    "duration": 13,
    "start_time": "2025-04-23T06:23:52.190Z"
   },
   {
    "duration": 5187,
    "start_time": "2025-04-23T06:23:52.205Z"
   },
   {
    "duration": 133,
    "start_time": "2025-04-23T06:23:57.394Z"
   },
   {
    "duration": 2,
    "start_time": "2025-04-23T06:23:57.529Z"
   },
   {
    "duration": 3,
    "start_time": "2025-04-23T06:23:57.533Z"
   },
   {
    "duration": 4,
    "start_time": "2025-04-23T06:23:57.537Z"
   },
   {
    "duration": 3,
    "start_time": "2025-04-23T06:23:57.560Z"
   },
   {
    "duration": 4,
    "start_time": "2025-04-23T06:23:57.564Z"
   },
   {
    "duration": 3,
    "start_time": "2025-04-23T06:23:57.569Z"
   },
   {
    "duration": 3,
    "start_time": "2025-04-23T06:23:57.574Z"
   },
   {
    "duration": 3,
    "start_time": "2025-04-23T06:23:57.579Z"
   },
   {
    "duration": 3,
    "start_time": "2025-04-23T06:23:57.583Z"
   },
   {
    "duration": 3,
    "start_time": "2025-04-23T06:23:57.587Z"
   },
   {
    "duration": 3,
    "start_time": "2025-04-23T06:23:57.592Z"
   },
   {
    "duration": 3,
    "start_time": "2025-04-23T06:23:57.596Z"
   },
   {
    "duration": 14,
    "start_time": "2025-04-23T06:23:57.601Z"
   },
   {
    "duration": 228744,
    "start_time": "2025-04-23T06:23:57.617Z"
   },
   {
    "duration": 15,
    "start_time": "2025-04-23T06:29:01.932Z"
   },
   {
    "duration": 7917,
    "start_time": "2025-04-23T09:23:33.986Z"
   },
   {
    "duration": 1575,
    "start_time": "2025-04-23T09:23:41.906Z"
   },
   {
    "duration": 1028,
    "start_time": "2025-04-23T09:23:43.483Z"
   },
   {
    "duration": 19,
    "start_time": "2025-04-23T09:23:44.514Z"
   },
   {
    "duration": 173,
    "start_time": "2025-04-23T09:23:44.535Z"
   },
   {
    "duration": 31,
    "start_time": "2025-04-23T09:23:44.710Z"
   },
   {
    "duration": 4,
    "start_time": "2025-04-23T09:23:44.743Z"
   },
   {
    "duration": 3,
    "start_time": "2025-04-23T09:23:44.761Z"
   },
   {
    "duration": 438,
    "start_time": "2025-04-23T09:23:44.766Z"
   },
   {
    "duration": 136,
    "start_time": "2025-04-23T09:23:45.208Z"
   },
   {
    "duration": 131,
    "start_time": "2025-04-23T09:23:45.346Z"
   },
   {
    "duration": 52,
    "start_time": "2025-04-23T09:23:45.479Z"
   },
   {
    "duration": 143,
    "start_time": "2025-04-23T09:23:45.533Z"
   },
   {
    "duration": 378,
    "start_time": "2025-04-23T09:23:45.678Z"
   },
   {
    "duration": 27,
    "start_time": "2025-04-23T09:23:46.058Z"
   },
   {
    "duration": 77,
    "start_time": "2025-04-23T09:23:46.087Z"
   },
   {
    "duration": 121,
    "start_time": "2025-04-23T09:23:46.165Z"
   },
   {
    "duration": 420,
    "start_time": "2025-04-23T09:23:46.288Z"
   },
   {
    "duration": 93,
    "start_time": "2025-04-23T09:23:46.710Z"
   },
   {
    "duration": 306,
    "start_time": "2025-04-23T09:23:46.805Z"
   },
   {
    "duration": 113,
    "start_time": "2025-04-23T09:23:47.113Z"
   },
   {
    "duration": 489,
    "start_time": "2025-04-23T09:23:47.228Z"
   },
   {
    "duration": 11,
    "start_time": "2025-04-23T09:23:47.719Z"
   },
   {
    "duration": 48,
    "start_time": "2025-04-23T09:23:47.732Z"
   },
   {
    "duration": 13,
    "start_time": "2025-04-23T09:23:47.782Z"
   },
   {
    "duration": 320,
    "start_time": "2025-04-23T09:23:47.797Z"
   },
   {
    "duration": 319,
    "start_time": "2025-04-23T09:23:48.119Z"
   },
   {
    "duration": 377,
    "start_time": "2025-04-23T09:23:48.442Z"
   },
   {
    "duration": 23,
    "start_time": "2025-04-23T09:23:48.821Z"
   },
   {
    "duration": 26,
    "start_time": "2025-04-23T09:23:48.846Z"
   },
   {
    "duration": 139,
    "start_time": "2025-04-23T09:23:48.874Z"
   },
   {
    "duration": 17,
    "start_time": "2025-04-23T09:23:49.014Z"
   },
   {
    "duration": 136,
    "start_time": "2025-04-23T09:23:49.033Z"
   },
   {
    "duration": 15,
    "start_time": "2025-04-23T09:23:49.171Z"
   },
   {
    "duration": 16,
    "start_time": "2025-04-23T09:23:49.188Z"
   },
   {
    "duration": 509,
    "start_time": "2025-04-23T09:23:49.206Z"
   },
   {
    "duration": 9,
    "start_time": "2025-04-23T09:23:49.717Z"
   },
   {
    "duration": 645,
    "start_time": "2025-04-23T09:23:49.727Z"
   },
   {
    "duration": 10079,
    "start_time": "2025-04-23T09:23:50.373Z"
   },
   {
    "duration": 0,
    "start_time": "2025-04-23T09:24:00.454Z"
   },
   {
    "duration": 0,
    "start_time": "2025-04-23T09:24:00.455Z"
   },
   {
    "duration": 0,
    "start_time": "2025-04-23T09:24:00.460Z"
   },
   {
    "duration": 0,
    "start_time": "2025-04-23T09:24:00.462Z"
   },
   {
    "duration": 0,
    "start_time": "2025-04-23T09:24:00.463Z"
   },
   {
    "duration": 0,
    "start_time": "2025-04-23T09:24:00.464Z"
   },
   {
    "duration": 0,
    "start_time": "2025-04-23T09:24:00.465Z"
   },
   {
    "duration": 0,
    "start_time": "2025-04-23T09:24:00.466Z"
   },
   {
    "duration": 0,
    "start_time": "2025-04-23T09:24:00.467Z"
   },
   {
    "duration": 0,
    "start_time": "2025-04-23T09:24:00.468Z"
   },
   {
    "duration": 1,
    "start_time": "2025-04-23T09:24:00.469Z"
   },
   {
    "duration": 0,
    "start_time": "2025-04-23T09:24:00.471Z"
   },
   {
    "duration": 0,
    "start_time": "2025-04-23T09:24:00.472Z"
   },
   {
    "duration": 0,
    "start_time": "2025-04-23T09:24:00.473Z"
   },
   {
    "duration": 0,
    "start_time": "2025-04-23T09:24:00.474Z"
   },
   {
    "duration": 0,
    "start_time": "2025-04-23T09:24:00.475Z"
   },
   {
    "duration": 0,
    "start_time": "2025-04-23T09:24:00.477Z"
   },
   {
    "duration": 0,
    "start_time": "2025-04-23T09:24:00.478Z"
   },
   {
    "duration": 0,
    "start_time": "2025-04-23T09:24:00.479Z"
   },
   {
    "duration": 0,
    "start_time": "2025-04-23T09:24:00.480Z"
   },
   {
    "duration": 0,
    "start_time": "2025-04-23T09:24:00.481Z"
   },
   {
    "duration": 0,
    "start_time": "2025-04-23T09:24:00.482Z"
   },
   {
    "duration": 0,
    "start_time": "2025-04-23T09:24:00.483Z"
   },
   {
    "duration": 0,
    "start_time": "2025-04-23T09:24:00.484Z"
   },
   {
    "duration": 0,
    "start_time": "2025-04-23T09:24:00.485Z"
   },
   {
    "duration": 0,
    "start_time": "2025-04-23T09:24:00.487Z"
   },
   {
    "duration": 0,
    "start_time": "2025-04-23T09:24:00.488Z"
   },
   {
    "duration": 1830,
    "start_time": "2025-04-23T09:24:12.631Z"
   },
   {
    "duration": 4,
    "start_time": "2025-04-23T09:24:15.084Z"
   },
   {
    "duration": 3352,
    "start_time": "2025-04-23T09:24:51.396Z"
   },
   {
    "duration": 1478,
    "start_time": "2025-04-23T09:24:54.751Z"
   },
   {
    "duration": 999,
    "start_time": "2025-04-23T09:24:56.230Z"
   },
   {
    "duration": 29,
    "start_time": "2025-04-23T09:24:57.232Z"
   },
   {
    "duration": 157,
    "start_time": "2025-04-23T09:24:57.263Z"
   },
   {
    "duration": 42,
    "start_time": "2025-04-23T09:24:57.422Z"
   },
   {
    "duration": 4,
    "start_time": "2025-04-23T09:24:57.466Z"
   },
   {
    "duration": 4,
    "start_time": "2025-04-23T09:24:57.472Z"
   },
   {
    "duration": 413,
    "start_time": "2025-04-23T09:24:57.478Z"
   },
   {
    "duration": 131,
    "start_time": "2025-04-23T09:24:57.894Z"
   },
   {
    "duration": 34,
    "start_time": "2025-04-23T09:24:58.026Z"
   },
   {
    "duration": 49,
    "start_time": "2025-04-23T09:24:58.061Z"
   },
   {
    "duration": 122,
    "start_time": "2025-04-23T09:24:58.112Z"
   },
   {
    "duration": 353,
    "start_time": "2025-04-23T09:24:58.235Z"
   },
   {
    "duration": 27,
    "start_time": "2025-04-23T09:24:58.590Z"
   },
   {
    "duration": 76,
    "start_time": "2025-04-23T09:24:58.618Z"
   },
   {
    "duration": 117,
    "start_time": "2025-04-23T09:24:58.696Z"
   },
   {
    "duration": 424,
    "start_time": "2025-04-23T09:24:58.815Z"
   },
   {
    "duration": 89,
    "start_time": "2025-04-23T09:24:59.241Z"
   },
   {
    "duration": 300,
    "start_time": "2025-04-23T09:24:59.332Z"
   },
   {
    "duration": 115,
    "start_time": "2025-04-23T09:24:59.634Z"
   },
   {
    "duration": 469,
    "start_time": "2025-04-23T09:24:59.751Z"
   },
   {
    "duration": 12,
    "start_time": "2025-04-23T09:25:00.222Z"
   },
   {
    "duration": 48,
    "start_time": "2025-04-23T09:25:00.236Z"
   },
   {
    "duration": 14,
    "start_time": "2025-04-23T09:25:00.285Z"
   },
   {
    "duration": 308,
    "start_time": "2025-04-23T09:25:00.301Z"
   },
   {
    "duration": 282,
    "start_time": "2025-04-23T09:25:00.611Z"
   },
   {
    "duration": 372,
    "start_time": "2025-04-23T09:25:00.897Z"
   },
   {
    "duration": 24,
    "start_time": "2025-04-23T09:25:01.271Z"
   },
   {
    "duration": 13,
    "start_time": "2025-04-23T09:25:01.297Z"
   },
   {
    "duration": 275,
    "start_time": "2025-04-23T09:25:01.312Z"
   },
   {
    "duration": 15,
    "start_time": "2025-04-23T09:25:01.588Z"
   },
   {
    "duration": 95,
    "start_time": "2025-04-23T09:25:01.605Z"
   },
   {
    "duration": 14,
    "start_time": "2025-04-23T09:25:01.702Z"
   },
   {
    "duration": 18,
    "start_time": "2025-04-23T09:25:01.718Z"
   },
   {
    "duration": 506,
    "start_time": "2025-04-23T09:25:01.738Z"
   },
   {
    "duration": 4,
    "start_time": "2025-04-23T09:25:02.246Z"
   },
   {
    "duration": 1793,
    "start_time": "2025-04-23T09:25:02.259Z"
   },
   {
    "duration": 8,
    "start_time": "2025-04-23T09:25:04.054Z"
   },
   {
    "duration": 59,
    "start_time": "2025-04-23T09:25:04.064Z"
   },
   {
    "duration": 14,
    "start_time": "2025-04-23T09:25:04.125Z"
   },
   {
    "duration": 4118,
    "start_time": "2025-04-23T09:25:04.142Z"
   },
   {
    "duration": 134,
    "start_time": "2025-04-23T09:25:08.262Z"
   },
   {
    "duration": 3,
    "start_time": "2025-04-23T09:25:08.398Z"
   },
   {
    "duration": 10,
    "start_time": "2025-04-23T09:25:08.402Z"
   },
   {
    "duration": 4,
    "start_time": "2025-04-23T09:25:08.414Z"
   },
   {
    "duration": 7,
    "start_time": "2025-04-23T09:25:08.419Z"
   },
   {
    "duration": 4,
    "start_time": "2025-04-23T09:25:08.427Z"
   },
   {
    "duration": 5,
    "start_time": "2025-04-23T09:25:08.433Z"
   },
   {
    "duration": 22,
    "start_time": "2025-04-23T09:25:08.440Z"
   },
   {
    "duration": 4,
    "start_time": "2025-04-23T09:25:08.464Z"
   },
   {
    "duration": 5,
    "start_time": "2025-04-23T09:25:08.470Z"
   },
   {
    "duration": 34,
    "start_time": "2025-04-23T09:25:08.477Z"
   },
   {
    "duration": 14,
    "start_time": "2025-04-23T09:25:08.513Z"
   },
   {
    "duration": 3,
    "start_time": "2025-04-23T09:25:08.529Z"
   },
   {
    "duration": 386431,
    "start_time": "2025-04-23T09:25:08.534Z"
   },
   {
    "duration": 108,
    "start_time": "2025-04-23T09:31:34.968Z"
   },
   {
    "duration": 19,
    "start_time": "2025-04-23T09:31:35.078Z"
   },
   {
    "duration": 4,
    "start_time": "2025-04-23T09:31:35.099Z"
   },
   {
    "duration": 43491,
    "start_time": "2025-04-23T09:31:35.105Z"
   },
   {
    "duration": 3,
    "start_time": "2025-04-23T09:32:18.598Z"
   },
   {
    "duration": 78,
    "start_time": "2025-04-23T09:32:18.602Z"
   },
   {
    "duration": 3377,
    "start_time": "2025-04-23T09:44:06.033Z"
   },
   {
    "duration": 1374,
    "start_time": "2025-04-23T09:44:09.412Z"
   },
   {
    "duration": 962,
    "start_time": "2025-04-23T09:44:10.788Z"
   },
   {
    "duration": 22,
    "start_time": "2025-04-23T09:44:11.752Z"
   },
   {
    "duration": 165,
    "start_time": "2025-04-23T09:44:11.776Z"
   },
   {
    "duration": 44,
    "start_time": "2025-04-23T09:44:11.943Z"
   },
   {
    "duration": 3,
    "start_time": "2025-04-23T09:44:11.989Z"
   },
   {
    "duration": 3,
    "start_time": "2025-04-23T09:44:11.994Z"
   },
   {
    "duration": 412,
    "start_time": "2025-04-23T09:44:11.999Z"
   },
   {
    "duration": 126,
    "start_time": "2025-04-23T09:44:12.414Z"
   },
   {
    "duration": 25,
    "start_time": "2025-04-23T09:44:12.542Z"
   },
   {
    "duration": 45,
    "start_time": "2025-04-23T09:44:12.569Z"
   },
   {
    "duration": 133,
    "start_time": "2025-04-23T09:44:12.616Z"
   },
   {
    "duration": 342,
    "start_time": "2025-04-23T09:44:12.751Z"
   },
   {
    "duration": 27,
    "start_time": "2025-04-23T09:44:13.094Z"
   },
   {
    "duration": 69,
    "start_time": "2025-04-23T09:44:13.123Z"
   },
   {
    "duration": 128,
    "start_time": "2025-04-23T09:44:13.194Z"
   },
   {
    "duration": 390,
    "start_time": "2025-04-23T09:44:13.324Z"
   },
   {
    "duration": 86,
    "start_time": "2025-04-23T09:44:13.716Z"
   },
   {
    "duration": 308,
    "start_time": "2025-04-23T09:44:13.804Z"
   },
   {
    "duration": 119,
    "start_time": "2025-04-23T09:44:14.114Z"
   },
   {
    "duration": 472,
    "start_time": "2025-04-23T09:44:14.234Z"
   },
   {
    "duration": 12,
    "start_time": "2025-04-23T09:44:14.708Z"
   },
   {
    "duration": 83,
    "start_time": "2025-04-23T09:44:14.721Z"
   },
   {
    "duration": 13,
    "start_time": "2025-04-23T09:44:14.806Z"
   },
   {
    "duration": 328,
    "start_time": "2025-04-23T09:44:14.821Z"
   },
   {
    "duration": 298,
    "start_time": "2025-04-23T09:44:15.151Z"
   },
   {
    "duration": 401,
    "start_time": "2025-04-23T09:44:15.453Z"
   },
   {
    "duration": 24,
    "start_time": "2025-04-23T09:44:15.856Z"
   },
   {
    "duration": 14,
    "start_time": "2025-04-23T09:44:15.882Z"
   },
   {
    "duration": 140,
    "start_time": "2025-04-23T09:44:15.898Z"
   },
   {
    "duration": 29,
    "start_time": "2025-04-23T09:44:16.040Z"
   },
   {
    "duration": 116,
    "start_time": "2025-04-23T09:44:16.071Z"
   },
   {
    "duration": 13,
    "start_time": "2025-04-23T09:44:16.189Z"
   },
   {
    "duration": 12,
    "start_time": "2025-04-23T09:44:16.203Z"
   },
   {
    "duration": 533,
    "start_time": "2025-04-23T09:44:16.217Z"
   },
   {
    "duration": 9,
    "start_time": "2025-04-23T09:44:16.752Z"
   },
   {
    "duration": 1779,
    "start_time": "2025-04-23T09:44:16.763Z"
   },
   {
    "duration": 5,
    "start_time": "2025-04-23T09:44:18.544Z"
   },
   {
    "duration": 33,
    "start_time": "2025-04-23T09:44:18.550Z"
   },
   {
    "duration": 15,
    "start_time": "2025-04-23T09:44:18.585Z"
   },
   {
    "duration": 3650,
    "start_time": "2025-04-23T09:44:18.601Z"
   },
   {
    "duration": 133,
    "start_time": "2025-04-23T09:44:22.253Z"
   },
   {
    "duration": 2,
    "start_time": "2025-04-23T09:44:22.388Z"
   },
   {
    "duration": 20,
    "start_time": "2025-04-23T09:44:22.392Z"
   },
   {
    "duration": 6,
    "start_time": "2025-04-23T09:44:22.414Z"
   },
   {
    "duration": 15,
    "start_time": "2025-04-23T09:44:22.422Z"
   },
   {
    "duration": 6,
    "start_time": "2025-04-23T09:44:22.439Z"
   },
   {
    "duration": 9,
    "start_time": "2025-04-23T09:44:22.447Z"
   },
   {
    "duration": 4,
    "start_time": "2025-04-23T09:44:22.458Z"
   },
   {
    "duration": 7,
    "start_time": "2025-04-23T09:44:22.463Z"
   },
   {
    "duration": 6,
    "start_time": "2025-04-23T09:44:22.472Z"
   },
   {
    "duration": 6,
    "start_time": "2025-04-23T09:44:22.479Z"
   },
   {
    "duration": 3,
    "start_time": "2025-04-23T09:44:22.487Z"
   },
   {
    "duration": 3,
    "start_time": "2025-04-23T09:44:22.492Z"
   },
   {
    "duration": 3296,
    "start_time": "2025-04-23T09:51:19.146Z"
   },
   {
    "duration": 1445,
    "start_time": "2025-04-23T09:51:22.445Z"
   },
   {
    "duration": 988,
    "start_time": "2025-04-23T09:51:23.892Z"
   },
   {
    "duration": 18,
    "start_time": "2025-04-23T09:51:24.883Z"
   },
   {
    "duration": 170,
    "start_time": "2025-04-23T09:51:24.903Z"
   },
   {
    "duration": 30,
    "start_time": "2025-04-23T09:51:25.075Z"
   },
   {
    "duration": 5,
    "start_time": "2025-04-23T09:51:25.106Z"
   },
   {
    "duration": 4,
    "start_time": "2025-04-23T09:51:25.113Z"
   },
   {
    "duration": 418,
    "start_time": "2025-04-23T09:51:25.119Z"
   },
   {
    "duration": 130,
    "start_time": "2025-04-23T09:51:25.540Z"
   },
   {
    "duration": 13,
    "start_time": "2025-04-23T09:51:25.672Z"
   },
   {
    "duration": 47,
    "start_time": "2025-04-23T09:51:25.687Z"
   },
   {
    "duration": 158,
    "start_time": "2025-04-23T09:51:25.736Z"
   },
   {
    "duration": 359,
    "start_time": "2025-04-23T09:51:25.895Z"
   },
   {
    "duration": 26,
    "start_time": "2025-04-23T09:51:26.256Z"
   },
   {
    "duration": 52,
    "start_time": "2025-04-23T09:51:26.284Z"
   },
   {
    "duration": 135,
    "start_time": "2025-04-23T09:51:26.338Z"
   },
   {
    "duration": 389,
    "start_time": "2025-04-23T09:51:26.475Z"
   },
   {
    "duration": 80,
    "start_time": "2025-04-23T09:51:26.866Z"
   },
   {
    "duration": 313,
    "start_time": "2025-04-23T09:51:26.949Z"
   },
   {
    "duration": 127,
    "start_time": "2025-04-23T09:51:27.264Z"
   },
   {
    "duration": 488,
    "start_time": "2025-04-23T09:51:27.393Z"
   },
   {
    "duration": 11,
    "start_time": "2025-04-23T09:51:27.883Z"
   },
   {
    "duration": 39,
    "start_time": "2025-04-23T09:51:27.896Z"
   },
   {
    "duration": 34,
    "start_time": "2025-04-23T09:51:27.937Z"
   },
   {
    "duration": 298,
    "start_time": "2025-04-23T09:51:27.972Z"
   },
   {
    "duration": 292,
    "start_time": "2025-04-23T09:51:28.272Z"
   },
   {
    "duration": 375,
    "start_time": "2025-04-23T09:51:28.568Z"
   },
   {
    "duration": 32,
    "start_time": "2025-04-23T09:51:28.945Z"
   },
   {
    "duration": 13,
    "start_time": "2025-04-23T09:51:28.980Z"
   },
   {
    "duration": 147,
    "start_time": "2025-04-23T09:51:28.995Z"
   },
   {
    "duration": 24,
    "start_time": "2025-04-23T09:51:29.144Z"
   },
   {
    "duration": 74,
    "start_time": "2025-04-23T09:51:29.170Z"
   },
   {
    "duration": 25,
    "start_time": "2025-04-23T09:51:29.246Z"
   },
   {
    "duration": 13,
    "start_time": "2025-04-23T09:51:29.273Z"
   },
   {
    "duration": 504,
    "start_time": "2025-04-23T09:51:29.289Z"
   },
   {
    "duration": 4,
    "start_time": "2025-04-23T09:51:29.795Z"
   },
   {
    "duration": 1785,
    "start_time": "2025-04-23T09:51:29.801Z"
   },
   {
    "duration": 4,
    "start_time": "2025-04-23T09:51:31.588Z"
   },
   {
    "duration": 41,
    "start_time": "2025-04-23T09:51:31.595Z"
   },
   {
    "duration": 28,
    "start_time": "2025-04-23T09:51:31.638Z"
   },
   {
    "duration": 3545,
    "start_time": "2025-04-23T09:51:31.669Z"
   },
   {
    "duration": 137,
    "start_time": "2025-04-23T09:51:35.216Z"
   },
   {
    "duration": 6,
    "start_time": "2025-04-23T09:51:35.355Z"
   },
   {
    "duration": 15,
    "start_time": "2025-04-23T09:51:35.363Z"
   },
   {
    "duration": 3,
    "start_time": "2025-04-23T09:51:35.380Z"
   },
   {
    "duration": 17,
    "start_time": "2025-04-23T09:51:35.385Z"
   },
   {
    "duration": 4,
    "start_time": "2025-04-23T09:51:35.404Z"
   },
   {
    "duration": 16,
    "start_time": "2025-04-23T09:51:35.409Z"
   },
   {
    "duration": 65,
    "start_time": "2025-04-23T09:51:35.426Z"
   },
   {
    "duration": 82,
    "start_time": "2025-04-23T09:51:35.493Z"
   },
   {
    "duration": 16,
    "start_time": "2025-04-23T09:51:35.577Z"
   },
   {
    "duration": 5,
    "start_time": "2025-04-23T09:51:35.595Z"
   },
   {
    "duration": 3,
    "start_time": "2025-04-23T09:51:35.602Z"
   },
   {
    "duration": 12,
    "start_time": "2025-04-23T09:51:35.606Z"
   },
   {
    "duration": 380447,
    "start_time": "2025-04-23T09:51:35.620Z"
   },
   {
    "duration": 14,
    "start_time": "2025-04-23T09:57:56.161Z"
   },
   {
    "duration": 13,
    "start_time": "2025-04-23T09:57:56.177Z"
   },
   {
    "duration": 4,
    "start_time": "2025-04-23T09:57:56.192Z"
   },
   {
    "duration": 250368,
    "start_time": "2025-04-23T09:57:56.198Z"
   },
   {
    "duration": 3,
    "start_time": "2025-04-23T10:02:06.568Z"
   },
   {
    "duration": 4,
    "start_time": "2025-04-23T10:02:06.573Z"
   },
   {
    "duration": 278296,
    "start_time": "2025-04-23T10:02:06.579Z"
   },
   {
    "duration": 21,
    "start_time": "2025-04-23T10:06:44.878Z"
   },
   {
    "duration": 774,
    "start_time": "2025-04-23T10:06:44.901Z"
   },
   {
    "duration": 7,
    "start_time": "2025-04-23T10:06:45.677Z"
   }
  ],
  "kernelspec": {
   "display_name": "Python 3 (ipykernel)",
   "language": "python",
   "name": "python3"
  },
  "language_info": {
   "codemirror_mode": {
    "name": "ipython",
    "version": 3
   },
   "file_extension": ".py",
   "mimetype": "text/x-python",
   "name": "python",
   "nbconvert_exporter": "python",
   "pygments_lexer": "ipython3",
   "version": "3.11.5"
  },
  "toc": {
   "base_numbering": 1,
   "nav_menu": {},
   "number_sections": true,
   "sideBar": true,
   "skip_h1_title": true,
   "title_cell": "Table of Contents",
   "title_sidebar": "Contents",
   "toc_cell": false,
   "toc_position": {},
   "toc_section_display": true,
   "toc_window_display": false
  }
 },
 "nbformat": 4,
 "nbformat_minor": 4
}
