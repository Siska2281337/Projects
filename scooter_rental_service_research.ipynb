{
 "cells": [
  {
   "cell_type": "markdown",
   "id": "236d98dc",
   "metadata": {},
   "source": [
    "Заголовок: Исследование сервиса аренды самокатов.\n",
    "\n",
    "Описание проекта: С помощью данных сервиса GoFast мы стремимся помочь бизнесу вырасти.\n",
    "\n",
    "Цель исследования: Проверка некоторых гипотез, которые могут помочь бизнесу вырасти.\n",
    "\n",
    "Ход исследования:\n",
    "\n",
    "* Подготовка данных: загрузка и изучение общей информации из предоставленных датасетов\n",
    "* Предобработка данных: обработка пропущенных значений, корректировка типа даных, дубликатов.\n",
    "* Расширение набора данных: добавление новых столбцов, таких как месяц поездки, выручка с пользователя за месяц и другие.\n",
    "* Исследовательский анализ данных: изучение основных параметров объектов, их распределения.\n",
    "* Проверка гипотез"
   ]
  },
  {
   "cell_type": "code",
   "execution_count": 1,
   "id": "72576667",
   "metadata": {},
   "outputs": [],
   "source": [
    "import pandas as pd\n",
    "from scipy import stats as st\n",
    "import numpy as np"
   ]
  },
  {
   "cell_type": "markdown",
   "id": "c42cbe00",
   "metadata": {},
   "source": [
    "#### Шаг 1. Загрузка данных"
   ]
  },
  {
   "cell_type": "code",
   "execution_count": 2,
   "id": "eff9f206",
   "metadata": {},
   "outputs": [],
   "source": [
    "users_data = pd.read_csv('/datasets/users_go.csv')\n",
    "rides_data = pd.read_csv('/datasets/rides_go.csv')\n",
    "subs_data = pd.read_csv('/datasets/subscriptions_go.csv')"
   ]
  },
  {
   "cell_type": "code",
   "execution_count": 3,
   "id": "3ca49ecd",
   "metadata": {},
   "outputs": [
    {
     "data": {
      "text/html": [
       "<div>\n",
       "<style scoped>\n",
       "    .dataframe tbody tr th:only-of-type {\n",
       "        vertical-align: middle;\n",
       "    }\n",
       "\n",
       "    .dataframe tbody tr th {\n",
       "        vertical-align: top;\n",
       "    }\n",
       "\n",
       "    .dataframe thead th {\n",
       "        text-align: right;\n",
       "    }\n",
       "</style>\n",
       "<table border=\"1\" class=\"dataframe\">\n",
       "  <thead>\n",
       "    <tr style=\"text-align: right;\">\n",
       "      <th></th>\n",
       "      <th>user_id</th>\n",
       "      <th>name</th>\n",
       "      <th>age</th>\n",
       "      <th>city</th>\n",
       "      <th>subscription_type</th>\n",
       "    </tr>\n",
       "  </thead>\n",
       "  <tbody>\n",
       "    <tr>\n",
       "      <th>0</th>\n",
       "      <td>1</td>\n",
       "      <td>Кира</td>\n",
       "      <td>22</td>\n",
       "      <td>Тюмень</td>\n",
       "      <td>ultra</td>\n",
       "    </tr>\n",
       "    <tr>\n",
       "      <th>1</th>\n",
       "      <td>2</td>\n",
       "      <td>Станислав</td>\n",
       "      <td>31</td>\n",
       "      <td>Омск</td>\n",
       "      <td>ultra</td>\n",
       "    </tr>\n",
       "    <tr>\n",
       "      <th>2</th>\n",
       "      <td>3</td>\n",
       "      <td>Алексей</td>\n",
       "      <td>20</td>\n",
       "      <td>Москва</td>\n",
       "      <td>ultra</td>\n",
       "    </tr>\n",
       "    <tr>\n",
       "      <th>3</th>\n",
       "      <td>4</td>\n",
       "      <td>Константин</td>\n",
       "      <td>26</td>\n",
       "      <td>Ростов-на-Дону</td>\n",
       "      <td>ultra</td>\n",
       "    </tr>\n",
       "    <tr>\n",
       "      <th>4</th>\n",
       "      <td>5</td>\n",
       "      <td>Адель</td>\n",
       "      <td>28</td>\n",
       "      <td>Омск</td>\n",
       "      <td>ultra</td>\n",
       "    </tr>\n",
       "  </tbody>\n",
       "</table>\n",
       "</div>"
      ],
      "text/plain": [
       "   user_id        name  age            city subscription_type\n",
       "0        1        Кира   22          Тюмень             ultra\n",
       "1        2   Станислав   31            Омск             ultra\n",
       "2        3     Алексей   20          Москва             ultra\n",
       "3        4  Константин   26  Ростов-на-Дону             ultra\n",
       "4        5       Адель   28            Омск             ultra"
      ]
     },
     "execution_count": 3,
     "metadata": {},
     "output_type": "execute_result"
    }
   ],
   "source": [
    "users_data.head()"
   ]
  },
  {
   "cell_type": "code",
   "execution_count": 4,
   "id": "bdc2224d",
   "metadata": {},
   "outputs": [
    {
     "data": {
      "text/html": [
       "<div>\n",
       "<style scoped>\n",
       "    .dataframe tbody tr th:only-of-type {\n",
       "        vertical-align: middle;\n",
       "    }\n",
       "\n",
       "    .dataframe tbody tr th {\n",
       "        vertical-align: top;\n",
       "    }\n",
       "\n",
       "    .dataframe thead th {\n",
       "        text-align: right;\n",
       "    }\n",
       "</style>\n",
       "<table border=\"1\" class=\"dataframe\">\n",
       "  <thead>\n",
       "    <tr style=\"text-align: right;\">\n",
       "      <th></th>\n",
       "      <th>user_id</th>\n",
       "      <th>distance</th>\n",
       "      <th>duration</th>\n",
       "      <th>date</th>\n",
       "    </tr>\n",
       "  </thead>\n",
       "  <tbody>\n",
       "    <tr>\n",
       "      <th>0</th>\n",
       "      <td>1</td>\n",
       "      <td>4409.919140</td>\n",
       "      <td>25.599769</td>\n",
       "      <td>2021-01-01</td>\n",
       "    </tr>\n",
       "    <tr>\n",
       "      <th>1</th>\n",
       "      <td>1</td>\n",
       "      <td>2617.592153</td>\n",
       "      <td>15.816871</td>\n",
       "      <td>2021-01-18</td>\n",
       "    </tr>\n",
       "    <tr>\n",
       "      <th>2</th>\n",
       "      <td>1</td>\n",
       "      <td>754.159807</td>\n",
       "      <td>6.232113</td>\n",
       "      <td>2021-04-20</td>\n",
       "    </tr>\n",
       "    <tr>\n",
       "      <th>3</th>\n",
       "      <td>1</td>\n",
       "      <td>2694.783254</td>\n",
       "      <td>18.511000</td>\n",
       "      <td>2021-08-11</td>\n",
       "    </tr>\n",
       "    <tr>\n",
       "      <th>4</th>\n",
       "      <td>1</td>\n",
       "      <td>4028.687306</td>\n",
       "      <td>26.265803</td>\n",
       "      <td>2021-08-28</td>\n",
       "    </tr>\n",
       "  </tbody>\n",
       "</table>\n",
       "</div>"
      ],
      "text/plain": [
       "   user_id     distance   duration        date\n",
       "0        1  4409.919140  25.599769  2021-01-01\n",
       "1        1  2617.592153  15.816871  2021-01-18\n",
       "2        1   754.159807   6.232113  2021-04-20\n",
       "3        1  2694.783254  18.511000  2021-08-11\n",
       "4        1  4028.687306  26.265803  2021-08-28"
      ]
     },
     "execution_count": 4,
     "metadata": {},
     "output_type": "execute_result"
    }
   ],
   "source": [
    "rides_data.head()"
   ]
  },
  {
   "cell_type": "markdown",
   "id": "179ff81e",
   "metadata": {},
   "source": [
    "##### Просмотр данных"
   ]
  },
  {
   "cell_type": "code",
   "execution_count": 5,
   "id": "6de3f4ab",
   "metadata": {},
   "outputs": [
    {
     "data": {
      "text/html": [
       "<div>\n",
       "<style scoped>\n",
       "    .dataframe tbody tr th:only-of-type {\n",
       "        vertical-align: middle;\n",
       "    }\n",
       "\n",
       "    .dataframe tbody tr th {\n",
       "        vertical-align: top;\n",
       "    }\n",
       "\n",
       "    .dataframe thead th {\n",
       "        text-align: right;\n",
       "    }\n",
       "</style>\n",
       "<table border=\"1\" class=\"dataframe\">\n",
       "  <thead>\n",
       "    <tr style=\"text-align: right;\">\n",
       "      <th></th>\n",
       "      <th>subscription_type</th>\n",
       "      <th>minute_price</th>\n",
       "      <th>start_ride_price</th>\n",
       "      <th>subscription_fee</th>\n",
       "    </tr>\n",
       "  </thead>\n",
       "  <tbody>\n",
       "    <tr>\n",
       "      <th>0</th>\n",
       "      <td>free</td>\n",
       "      <td>8</td>\n",
       "      <td>50</td>\n",
       "      <td>0</td>\n",
       "    </tr>\n",
       "    <tr>\n",
       "      <th>1</th>\n",
       "      <td>ultra</td>\n",
       "      <td>6</td>\n",
       "      <td>0</td>\n",
       "      <td>199</td>\n",
       "    </tr>\n",
       "  </tbody>\n",
       "</table>\n",
       "</div>"
      ],
      "text/plain": [
       "  subscription_type  minute_price  start_ride_price  subscription_fee\n",
       "0              free             8                50                 0\n",
       "1             ultra             6                 0               199"
      ]
     },
     "execution_count": 5,
     "metadata": {},
     "output_type": "execute_result"
    }
   ],
   "source": [
    "subs_data.head()"
   ]
  },
  {
   "cell_type": "code",
   "execution_count": 6,
   "id": "0bfd9a97",
   "metadata": {},
   "outputs": [
    {
     "name": "stdout",
     "output_type": "stream",
     "text": [
      "<class 'pandas.core.frame.DataFrame'>\n",
      "RangeIndex: 1565 entries, 0 to 1564\n",
      "Data columns (total 5 columns):\n",
      " #   Column             Non-Null Count  Dtype \n",
      "---  ------             --------------  ----- \n",
      " 0   user_id            1565 non-null   int64 \n",
      " 1   name               1565 non-null   object\n",
      " 2   age                1565 non-null   int64 \n",
      " 3   city               1565 non-null   object\n",
      " 4   subscription_type  1565 non-null   object\n",
      "dtypes: int64(2), object(3)\n",
      "memory usage: 61.3+ KB\n"
     ]
    }
   ],
   "source": [
    "users_data.info()"
   ]
  },
  {
   "cell_type": "code",
   "execution_count": 7,
   "id": "70cdcc34",
   "metadata": {},
   "outputs": [
    {
     "name": "stdout",
     "output_type": "stream",
     "text": [
      "<class 'pandas.core.frame.DataFrame'>\n",
      "RangeIndex: 18068 entries, 0 to 18067\n",
      "Data columns (total 4 columns):\n",
      " #   Column    Non-Null Count  Dtype  \n",
      "---  ------    --------------  -----  \n",
      " 0   user_id   18068 non-null  int64  \n",
      " 1   distance  18068 non-null  float64\n",
      " 2   duration  18068 non-null  float64\n",
      " 3   date      18068 non-null  object \n",
      "dtypes: float64(2), int64(1), object(1)\n",
      "memory usage: 564.8+ KB\n"
     ]
    }
   ],
   "source": [
    "rides_data.info()"
   ]
  },
  {
   "cell_type": "code",
   "execution_count": 8,
   "id": "42d5a662",
   "metadata": {},
   "outputs": [
    {
     "name": "stdout",
     "output_type": "stream",
     "text": [
      "<class 'pandas.core.frame.DataFrame'>\n",
      "RangeIndex: 2 entries, 0 to 1\n",
      "Data columns (total 4 columns):\n",
      " #   Column             Non-Null Count  Dtype \n",
      "---  ------             --------------  ----- \n",
      " 0   subscription_type  2 non-null      object\n",
      " 1   minute_price       2 non-null      int64 \n",
      " 2   start_ride_price   2 non-null      int64 \n",
      " 3   subscription_fee   2 non-null      int64 \n",
      "dtypes: int64(3), object(1)\n",
      "memory usage: 192.0+ bytes\n"
     ]
    }
   ],
   "source": [
    "subs_data.info()"
   ]
  },
  {
   "cell_type": "markdown",
   "id": "e95ebca7",
   "metadata": {},
   "source": [
    "#### Шаг 2. Предобработка данных"
   ]
  },
  {
   "cell_type": "code",
   "execution_count": 9,
   "id": "af6d202c",
   "metadata": {},
   "outputs": [],
   "source": [
    "rides_data['date'] = pd.to_datetime(rides_data['date'], format=\"%Y-%m-%d\")\n",
    "rides_data['month'] = rides_data['date'].dt.month"
   ]
  },
  {
   "cell_type": "code",
   "execution_count": 10,
   "id": "85ec4451",
   "metadata": {},
   "outputs": [],
   "source": [
    "rides_data['duration'] = np.ceil(rides_data['duration']) "
   ]
  },
  {
   "cell_type": "code",
   "execution_count": 11,
   "id": "506339c2",
   "metadata": {},
   "outputs": [
    {
     "data": {
      "text/plain": [
       "user_id              0\n",
       "name                 0\n",
       "age                  0\n",
       "city                 0\n",
       "subscription_type    0\n",
       "dtype: int64"
      ]
     },
     "execution_count": 11,
     "metadata": {},
     "output_type": "execute_result"
    }
   ],
   "source": [
    "users_data.isna().sum()"
   ]
  },
  {
   "cell_type": "markdown",
   "id": "8186c8bd",
   "metadata": {},
   "source": [
    "В датафрейме users_data нет пропущенных значений"
   ]
  },
  {
   "cell_type": "code",
   "execution_count": 12,
   "id": "8020d04c",
   "metadata": {},
   "outputs": [
    {
     "data": {
      "text/plain": [
       "user_id     0\n",
       "distance    0\n",
       "duration    0\n",
       "date        0\n",
       "month       0\n",
       "dtype: int64"
      ]
     },
     "execution_count": 12,
     "metadata": {},
     "output_type": "execute_result"
    }
   ],
   "source": [
    "rides_data.isna().sum()"
   ]
  },
  {
   "cell_type": "markdown",
   "id": "abb665fa",
   "metadata": {},
   "source": [
    "В датафрейме rides_data нет пропущенных значений"
   ]
  },
  {
   "cell_type": "code",
   "execution_count": 13,
   "id": "690d5c68",
   "metadata": {},
   "outputs": [
    {
     "name": "stdout",
     "output_type": "stream",
     "text": [
      "31\n"
     ]
    }
   ],
   "source": [
    "print(users_data.duplicated().sum())\n",
    "users_data = users_data.drop_duplicates()"
   ]
  },
  {
   "cell_type": "markdown",
   "id": "e34b1f04",
   "metadata": {},
   "source": [
    "В users_data было 31 явных дубликатов, после обработки их не стало"
   ]
  },
  {
   "cell_type": "code",
   "execution_count": 14,
   "id": "c38fa751",
   "metadata": {},
   "outputs": [
    {
     "data": {
      "text/plain": [
       "0"
      ]
     },
     "execution_count": 14,
     "metadata": {},
     "output_type": "execute_result"
    }
   ],
   "source": [
    "rides_data.duplicated().sum()"
   ]
  },
  {
   "cell_type": "markdown",
   "id": "14fc2f0c",
   "metadata": {},
   "source": [
    "В rides_data не было явных дубликатов"
   ]
  },
  {
   "cell_type": "markdown",
   "id": "212593c7",
   "metadata": {},
   "source": [
    "#### Шаг 3. Исследовательский анализ данных"
   ]
  },
  {
   "cell_type": "markdown",
   "id": "6f0a23b8",
   "metadata": {},
   "source": [
    "##### Количество пользователей в городах"
   ]
  },
  {
   "cell_type": "code",
   "execution_count": 15,
   "id": "e3a4274c",
   "metadata": {},
   "outputs": [
    {
     "data": {
      "text/plain": [
       "<AxesSubplot:title={'center':'Кол-во пользователей в городах'}, xlabel='Город', ylabel='Кол-во пользователей'>"
      ]
     },
     "execution_count": 15,
     "metadata": {},
     "output_type": "execute_result"
    },
    {
     "data": {
      "image/png": "[encoded data removed]",
      "text/plain": [
       "<Figure size 720x360 with 1 Axes>"
      ]
     },
     "metadata": {
      "needs_background": "light"
     },
     "output_type": "display_data"
    }
   ],
   "source": [
    "graph_users_data = users_data.pivot_table(index='city', values = 'age', aggfunc='count')\n",
    "graph_users_data.plot(kind='bar', title='Кол-во пользователей в городах', xlabel='Город', ylabel='Кол-во пользователей', grid=True, figsize=(10, 5))"
   ]
  },
  {
   "cell_type": "code",
   "execution_count": 16,
   "id": "0f838ea7",
   "metadata": {},
   "outputs": [
    {
     "data": {
      "text/html": [
       "<div>\n",
       "<style scoped>\n",
       "    .dataframe tbody tr th:only-of-type {\n",
       "        vertical-align: middle;\n",
       "    }\n",
       "\n",
       "    .dataframe tbody tr th {\n",
       "        vertical-align: top;\n",
       "    }\n",
       "\n",
       "    .dataframe thead th {\n",
       "        text-align: right;\n",
       "    }\n",
       "</style>\n",
       "<table border=\"1\" class=\"dataframe\">\n",
       "  <thead>\n",
       "    <tr style=\"text-align: right;\">\n",
       "      <th></th>\n",
       "      <th>Частота</th>\n",
       "    </tr>\n",
       "    <tr>\n",
       "      <th>city</th>\n",
       "      <th></th>\n",
       "    </tr>\n",
       "  </thead>\n",
       "  <tbody>\n",
       "    <tr>\n",
       "      <th>Пятигорск</th>\n",
       "      <td>219</td>\n",
       "    </tr>\n",
       "    <tr>\n",
       "      <th>Екатеринбург</th>\n",
       "      <td>204</td>\n",
       "    </tr>\n",
       "    <tr>\n",
       "      <th>Ростов-на-Дону</th>\n",
       "      <td>198</td>\n",
       "    </tr>\n",
       "    <tr>\n",
       "      <th>Краснодар</th>\n",
       "      <td>193</td>\n",
       "    </tr>\n",
       "    <tr>\n",
       "      <th>Сочи</th>\n",
       "      <td>189</td>\n",
       "    </tr>\n",
       "    <tr>\n",
       "      <th>Омск</th>\n",
       "      <td>183</td>\n",
       "    </tr>\n",
       "    <tr>\n",
       "      <th>Тюмень</th>\n",
       "      <td>180</td>\n",
       "    </tr>\n",
       "    <tr>\n",
       "      <th>Москва</th>\n",
       "      <td>168</td>\n",
       "    </tr>\n",
       "  </tbody>\n",
       "</table>\n",
       "</div>"
      ],
      "text/plain": [
       "                Частота\n",
       "city                   \n",
       "Пятигорск           219\n",
       "Екатеринбург        204\n",
       "Ростов-на-Дону      198\n",
       "Краснодар           193\n",
       "Сочи                189\n",
       "Омск                183\n",
       "Тюмень              180\n",
       "Москва              168"
      ]
     },
     "execution_count": 16,
     "metadata": {},
     "output_type": "execute_result"
    }
   ],
   "source": [
    "graph_users_data.columns = ['Частота']\n",
    "graph_users_data.sort_values(by='Частота', ascending=False)"
   ]
  },
  {
   "cell_type": "markdown",
   "id": "de9a3510",
   "metadata": {},
   "source": [
    "Чаще всего встречается Пятигорск, реже всего - Москва."
   ]
  },
  {
   "cell_type": "markdown",
   "id": "7525a2d4",
   "metadata": {},
   "source": [
    "##### Соотношение пользователей с подпиской и без подписки"
   ]
  },
  {
   "cell_type": "code",
   "execution_count": 17,
   "id": "58ec66d4",
   "metadata": {},
   "outputs": [
    {
     "data": {
      "text/plain": [
       "<AxesSubplot:title={'center':'Title'}, ylabel='amount_of_subs'>"
      ]
     },
     "execution_count": 17,
     "metadata": {},
     "output_type": "execute_result"
    },
    {
     "data": {
      "image/png": "[encoded data removed]",
      "text/plain": [
       "<Figure size 432x288 with 1 Axes>"
      ]
     },
     "metadata": {},
     "output_type": "display_data"
    }
   ],
   "source": [
    "pie_users_data = users_data.pivot_table(index='subscription_type', values = 'age', aggfunc='count')\n",
    "pie_users_data.columns = ['amount_of_subs']\n",
    "pie_users_data.plot.pie(y='amount_of_subs', title=\"Title\", legend=False, \\\n",
    "                   autopct='%1.1f%%', explode=(0, 0.1), \\\n",
    "                   shadow=True)"
   ]
  },
  {
   "cell_type": "code",
   "execution_count": 18,
   "id": "7fbe27c9",
   "metadata": {},
   "outputs": [
    {
     "data": {
      "text/plain": [
       "1.1945636623748213"
      ]
     },
     "execution_count": 18,
     "metadata": {},
     "output_type": "execute_result"
    }
   ],
   "source": [
    "users_data[users_data['subscription_type'] == 'free']['user_id'].count() / users_data[users_data['subscription_type'] == 'ultra']['user_id'].count()"
   ]
  },
  {
   "cell_type": "markdown",
   "id": "35ead88b",
   "metadata": {},
   "source": [
    "Пользователей без подписки почти в 1.2 больше, чем с подпиской"
   ]
  },
  {
   "cell_type": "markdown",
   "id": "7038a81c",
   "metadata": {},
   "source": [
    "##### Возраст пользователей"
   ]
  },
  {
   "cell_type": "code",
   "execution_count": 19,
   "id": "8b074cd8",
   "metadata": {},
   "outputs": [
    {
     "data": {
      "text/plain": [
       "count    1534.000000\n",
       "mean       24.903520\n",
       "std         4.572367\n",
       "min        12.000000\n",
       "25%        22.000000\n",
       "50%        25.000000\n",
       "75%        28.000000\n",
       "max        43.000000\n",
       "Name: age, dtype: float64"
      ]
     },
     "execution_count": 19,
     "metadata": {},
     "output_type": "execute_result"
    },
    {
     "data": {
      "image/png": "[encoded data removed]",
      "text/plain": [
       "<Figure size 720x360 with 1 Axes>"
      ]
     },
     "metadata": {
      "needs_background": "light"
     },
     "output_type": "display_data"
    }
   ],
   "source": [
    "users_data['age'].plot(kind='hist', bins=50, figsize=(10, 5), xlabel='Возраст', ylabel='Частота', title='Частота возраста пользователей');\n",
    "users_data['age'].describe()"
   ]
  },
  {
   "cell_type": "markdown",
   "id": "f8109e09",
   "metadata": {},
   "source": [
    "Больше всего пользователей, которым 25 лет."
   ]
  },
  {
   "cell_type": "markdown",
   "id": "ba41db1b",
   "metadata": {},
   "source": [
    "##### Расстояние поездок пользователей"
   ]
  },
  {
   "cell_type": "code",
   "execution_count": 20,
   "id": "677ae4d2",
   "metadata": {},
   "outputs": [
    {
     "data": {
      "text/plain": [
       "count    18068.000000\n",
       "mean      3070.659976\n",
       "std       1116.831209\n",
       "min          0.855683\n",
       "25%       2543.226360\n",
       "50%       3133.609994\n",
       "75%       3776.222735\n",
       "max       7211.007745\n",
       "Name: distance, dtype: float64"
      ]
     },
     "execution_count": 20,
     "metadata": {},
     "output_type": "execute_result"
    },
    {
     "data": {
      "image/png": "[encoded data removed]",
      "text/plain": [
       "<Figure size 720x360 with 1 Axes>"
      ]
     },
     "metadata": {
      "needs_background": "light"
     },
     "output_type": "display_data"
    }
   ],
   "source": [
    "rides_data['distance'].plot(kind='hist', bins=50, figsize=(10, 5), xlabel='Расстояние', ylabel='Частота', title='Частота расстояния поездки пользователей')\n",
    "rides_data['distance'].describe()"
   ]
  },
  {
   "cell_type": "markdown",
   "id": "c7493d1a",
   "metadata": {},
   "source": [
    "Чаще всего встречается значение в 3000 метров, наблюдается некая \"впадина\" между значениями примерно в 500 и 3000."
   ]
  },
  {
   "cell_type": "markdown",
   "id": "0bc013bd",
   "metadata": {},
   "source": [
    "##### Длительность поездок пользователей"
   ]
  },
  {
   "cell_type": "code",
   "execution_count": 21,
   "id": "92ebba7b",
   "metadata": {},
   "outputs": [
    {
     "data": {
      "text/plain": [
       "count    18068.000000\n",
       "mean        18.303520\n",
       "std          6.094928\n",
       "min          1.000000\n",
       "25%         14.000000\n",
       "50%         18.000000\n",
       "75%         22.000000\n",
       "max         41.000000\n",
       "Name: duration, dtype: float64"
      ]
     },
     "execution_count": 21,
     "metadata": {},
     "output_type": "execute_result"
    },
    {
     "data": {
      "image/png": "[encoded data removed]",
      "text/plain": [
       "<Figure size 720x360 with 1 Axes>"
      ]
     },
     "metadata": {
      "needs_background": "light"
     },
     "output_type": "display_data"
    }
   ],
   "source": [
    "rides_data['duration'].plot(kind='hist', bins=60, figsize=(10, 5), xlabel='Длительность', ylabel='Частота', title='Частота длительности поездки пользователей')\n",
    "rides_data['duration'].describe()"
   ]
  },
  {
   "cell_type": "markdown",
   "id": "6c2f3a9a",
   "metadata": {},
   "source": [
    "Длительность поездки чаще всего принимала значения от 15 до 20."
   ]
  },
  {
   "cell_type": "markdown",
   "id": "4ef51331",
   "metadata": {},
   "source": [
    "#### Шаг 4. Объединение данных"
   ]
  },
  {
   "cell_type": "code",
   "execution_count": 22,
   "id": "6bf288b5",
   "metadata": {},
   "outputs": [],
   "source": [
    "combined_data = users_data.merge(rides_data, on='user_id').merge(subs_data, on='subscription_type')\n",
    "no_sub_users = combined_data[combined_data['subscription_type'] == 'free']\n",
    "with_sub_users = combined_data[combined_data['subscription_type'] == 'ultra']"
   ]
  },
  {
   "cell_type": "markdown",
   "id": "a8ffcf42",
   "metadata": {},
   "source": [
    "##### Проверка на соответствие размеров исходных таблиц и объединённой таблицы"
   ]
  },
  {
   "cell_type": "code",
   "execution_count": 23,
   "id": "1e7cfeee",
   "metadata": {},
   "outputs": [
    {
     "name": "stdout",
     "output_type": "stream",
     "text": [
      "(2, 4)\n",
      "(18068, 5)\n"
     ]
    },
    {
     "data": {
      "text/plain": [
       "(1534, 5)"
      ]
     },
     "execution_count": 23,
     "metadata": {},
     "output_type": "execute_result"
    }
   ],
   "source": [
    "print(subs_data.shape)\n",
    "print(rides_data.shape)\n",
    "users_data.shape"
   ]
  },
  {
   "cell_type": "code",
   "execution_count": 24,
   "id": "1eba578b",
   "metadata": {},
   "outputs": [
    {
     "data": {
      "text/plain": [
       "(18068, 12)"
      ]
     },
     "execution_count": 24,
     "metadata": {},
     "output_type": "execute_result"
    }
   ],
   "source": [
    "combined_data.shape"
   ]
  },
  {
   "cell_type": "markdown",
   "id": "4c671705",
   "metadata": {},
   "source": [
    "##### Проверка на пропуски в объединённом датасете"
   ]
  },
  {
   "cell_type": "code",
   "execution_count": 25,
   "id": "cccb5063",
   "metadata": {},
   "outputs": [
    {
     "data": {
      "text/plain": [
       "user_id              0\n",
       "name                 0\n",
       "age                  0\n",
       "city                 0\n",
       "subscription_type    0\n",
       "distance             0\n",
       "duration             0\n",
       "date                 0\n",
       "month                0\n",
       "minute_price         0\n",
       "start_ride_price     0\n",
       "subscription_fee     0\n",
       "dtype: int64"
      ]
     },
     "execution_count": 25,
     "metadata": {},
     "output_type": "execute_result"
    }
   ],
   "source": [
    "combined_data.isna().sum()"
   ]
  },
  {
   "cell_type": "markdown",
   "id": "403cbc60",
   "metadata": {},
   "source": [
    "Пропуски отсутствуют)"
   ]
  },
  {
   "cell_type": "markdown",
   "id": "1a0c10b0",
   "metadata": {},
   "source": [
    "##### Расстояние поездок пользователей без подписки"
   ]
  },
  {
   "cell_type": "code",
   "execution_count": 26,
   "id": "7a235fd8",
   "metadata": {},
   "outputs": [
    {
     "data": {
      "text/plain": [
       "count    11568.000000\n",
       "mean      3045.495282\n",
       "std       1246.173806\n",
       "min          0.855683\n",
       "25%       2366.562689\n",
       "50%       3114.648465\n",
       "75%       3905.697894\n",
       "max       7211.007745\n",
       "Name: distance, dtype: float64"
      ]
     },
     "execution_count": 26,
     "metadata": {},
     "output_type": "execute_result"
    },
    {
     "data": {
      "image/png": "[encoded data removed]",
      "text/plain": [
       "<Figure size 720x360 with 1 Axes>"
      ]
     },
     "metadata": {
      "needs_background": "light"
     },
     "output_type": "display_data"
    }
   ],
   "source": [
    "no_sub_users['distance'].plot(kind='hist', bins=50, figsize=(10, 5), xlabel='Расстояние', ylabel='Частота', title='Частота расстояния поездки пользователей без подписки');\n",
    "no_sub_users['distance'].describe()"
   ]
  },
  {
   "cell_type": "markdown",
   "id": "de308fde",
   "metadata": {},
   "source": [
    "Больше всего пользователей без подписки с расстоянием поездки примерно от 2500 до 4000 метров."
   ]
  },
  {
   "cell_type": "markdown",
   "id": "ab851baf",
   "metadata": {},
   "source": [
    "##### Расстояние поездок пользователей с подпиской"
   ]
  },
  {
   "cell_type": "code",
   "execution_count": 27,
   "id": "d4ece9cd",
   "metadata": {},
   "outputs": [
    {
     "data": {
      "text/plain": [
       "count    6500.000000\n",
       "mean     3115.445388\n",
       "std       836.895330\n",
       "min       244.210438\n",
       "25%      2785.444017\n",
       "50%      3148.637229\n",
       "75%      3560.574425\n",
       "max      5699.769662\n",
       "Name: distance, dtype: float64"
      ]
     },
     "execution_count": 27,
     "metadata": {},
     "output_type": "execute_result"
    },
    {
     "data": {
      "image/png": "[encoded data removed]",
      "text/plain": [
       "<Figure size 720x360 with 1 Axes>"
      ]
     },
     "metadata": {
      "needs_background": "light"
     },
     "output_type": "display_data"
    }
   ],
   "source": [
    "with_sub_users['distance'].plot(kind='hist', bins=50, figsize=(10, 5), xlabel='Расстояние', ylabel='Частота', title='Частота расстояния поездки пользователей с подпиской');\n",
    "with_sub_users['distance'].describe()"
   ]
  },
  {
   "cell_type": "markdown",
   "id": "d2d548cd",
   "metadata": {},
   "source": [
    "Больше всего пользователей с подпиской с расстоянием поездки примерно в 3000 метров."
   ]
  },
  {
   "cell_type": "markdown",
   "id": "42c7a8b3",
   "metadata": {},
   "source": [
    "##### Длительность поездок пользователей без подписки"
   ]
  },
  {
   "cell_type": "code",
   "execution_count": 28,
   "id": "5d824181",
   "metadata": {},
   "outputs": [
    {
     "data": {
      "text/plain": [
       "count    11568.000000\n",
       "mean        17.890992\n",
       "std          6.330250\n",
       "min          1.000000\n",
       "25%         13.000000\n",
       "50%         18.000000\n",
       "75%         22.000000\n",
       "max         35.000000\n",
       "Name: duration, dtype: float64"
      ]
     },
     "execution_count": 28,
     "metadata": {},
     "output_type": "execute_result"
    },
    {
     "data": {
      "image/png": "[encoded data removed]",
      "text/plain": [
       "<Figure size 720x360 with 1 Axes>"
      ]
     },
     "metadata": {
      "needs_background": "light"
     },
     "output_type": "display_data"
    }
   ],
   "source": [
    "no_sub_users['duration'].plot(kind='hist', bins=60, figsize=(10, 5), xlabel='Длительность', ylabel='Частота', title='Частота длительности поездки пользователей без подписки');\n",
    "no_sub_users['duration'].describe()"
   ]
  },
  {
   "cell_type": "markdown",
   "id": "efaff5a7",
   "metadata": {},
   "source": [
    "Больше всего пользователей без подписки с длительностью поездки примерно 18 минут."
   ]
  },
  {
   "cell_type": "markdown",
   "id": "70f3b329",
   "metadata": {},
   "source": [
    "##### Длительность поездок пользователей с подпиской"
   ]
  },
  {
   "cell_type": "code",
   "execution_count": 29,
   "id": "d68b9ecd",
   "metadata": {},
   "outputs": [
    {
     "data": {
      "text/plain": [
       "count    6500.000000\n",
       "mean       19.037692\n",
       "std         5.577439\n",
       "min         4.000000\n",
       "25%        15.000000\n",
       "50%        19.000000\n",
       "75%        22.000000\n",
       "max        41.000000\n",
       "Name: duration, dtype: float64"
      ]
     },
     "execution_count": 29,
     "metadata": {},
     "output_type": "execute_result"
    },
    {
     "data": {
      "image/png": "[encoded data removed]",
      "text/plain": [
       "<Figure size 720x360 with 1 Axes>"
      ]
     },
     "metadata": {
      "needs_background": "light"
     },
     "output_type": "display_data"
    }
   ],
   "source": [
    "with_sub_users['duration'].plot(kind='hist', bins=60, figsize=(10, 5), xlabel='Длительность', ylabel='Частота', title='Частота длительности поездки пользователей с подпиской');\n",
    "with_sub_users['duration'].describe()"
   ]
  },
  {
   "cell_type": "markdown",
   "id": "8fcc6274",
   "metadata": {},
   "source": [
    "Больше всего пользователей с подпиской с длительностью поездки примерно 19 минут."
   ]
  },
  {
   "cell_type": "markdown",
   "id": "bab254c3",
   "metadata": {},
   "source": [
    "Длительность поездки более-менее одинаковая, расстояние отличается (у пользователей с подпиской в среднем 3000, без подписки от 2500 до 4000)"
   ]
  },
  {
   "cell_type": "markdown",
   "id": "402d620f",
   "metadata": {},
   "source": [
    "#### Шаг 5. Подсчёт выручки"
   ]
  },
  {
   "cell_type": "code",
   "execution_count": 31,
   "id": "53049e0a",
   "metadata": {},
   "outputs": [
    {
     "name": "stdout",
     "output_type": "stream",
     "text": [
      "                   distance  duration  count\n",
      "user_id month                               \n",
      "1       1       7027.511294      42.0      2\n",
      "        4        754.159807       7.0      1\n",
      "        8       6723.470560      46.0      2\n",
      "        10      5809.911100      32.0      2\n",
      "        11      7003.499363      56.0      3\n",
      "...                     ...       ...    ...\n",
      "1534    6       3409.468534      26.0      2\n",
      "        8       7622.453034      48.0      2\n",
      "        9       4928.173852      23.0      1\n",
      "        11     13350.015305      78.0      4\n",
      "        12      2371.711192      16.0      1\n",
      "\n",
      "[11331 rows x 3 columns]\n"
     ]
    },
    {
     "data": {
      "text/html": [
       "<div>\n",
       "<style scoped>\n",
       "    .dataframe tbody tr th:only-of-type {\n",
       "        vertical-align: middle;\n",
       "    }\n",
       "\n",
       "    .dataframe tbody tr th {\n",
       "        vertical-align: top;\n",
       "    }\n",
       "\n",
       "    .dataframe thead th {\n",
       "        text-align: right;\n",
       "    }\n",
       "</style>\n",
       "<table border=\"1\" class=\"dataframe\">\n",
       "  <thead>\n",
       "    <tr style=\"text-align: right;\">\n",
       "      <th></th>\n",
       "      <th>user_id</th>\n",
       "      <th>distance</th>\n",
       "      <th>duration</th>\n",
       "      <th>count</th>\n",
       "      <th>name</th>\n",
       "      <th>age</th>\n",
       "      <th>city</th>\n",
       "      <th>subscription_type</th>\n",
       "      <th>minute_price</th>\n",
       "      <th>start_ride_price</th>\n",
       "      <th>subscription_fee</th>\n",
       "      <th>revenue</th>\n",
       "    </tr>\n",
       "  </thead>\n",
       "  <tbody>\n",
       "    <tr>\n",
       "      <th>0</th>\n",
       "      <td>1</td>\n",
       "      <td>7027.511294</td>\n",
       "      <td>42.0</td>\n",
       "      <td>2</td>\n",
       "      <td>Кира</td>\n",
       "      <td>22</td>\n",
       "      <td>Тюмень</td>\n",
       "      <td>ultra</td>\n",
       "      <td>6</td>\n",
       "      <td>0</td>\n",
       "      <td>199</td>\n",
       "      <td>451.0</td>\n",
       "    </tr>\n",
       "    <tr>\n",
       "      <th>1</th>\n",
       "      <td>1</td>\n",
       "      <td>754.159807</td>\n",
       "      <td>7.0</td>\n",
       "      <td>1</td>\n",
       "      <td>Кира</td>\n",
       "      <td>22</td>\n",
       "      <td>Тюмень</td>\n",
       "      <td>ultra</td>\n",
       "      <td>6</td>\n",
       "      <td>0</td>\n",
       "      <td>199</td>\n",
       "      <td>241.0</td>\n",
       "    </tr>\n",
       "    <tr>\n",
       "      <th>2</th>\n",
       "      <td>1</td>\n",
       "      <td>6723.470560</td>\n",
       "      <td>46.0</td>\n",
       "      <td>2</td>\n",
       "      <td>Кира</td>\n",
       "      <td>22</td>\n",
       "      <td>Тюмень</td>\n",
       "      <td>ultra</td>\n",
       "      <td>6</td>\n",
       "      <td>0</td>\n",
       "      <td>199</td>\n",
       "      <td>475.0</td>\n",
       "    </tr>\n",
       "    <tr>\n",
       "      <th>3</th>\n",
       "      <td>1</td>\n",
       "      <td>5809.911100</td>\n",
       "      <td>32.0</td>\n",
       "      <td>2</td>\n",
       "      <td>Кира</td>\n",
       "      <td>22</td>\n",
       "      <td>Тюмень</td>\n",
       "      <td>ultra</td>\n",
       "      <td>6</td>\n",
       "      <td>0</td>\n",
       "      <td>199</td>\n",
       "      <td>391.0</td>\n",
       "    </tr>\n",
       "    <tr>\n",
       "      <th>4</th>\n",
       "      <td>1</td>\n",
       "      <td>7003.499363</td>\n",
       "      <td>56.0</td>\n",
       "      <td>3</td>\n",
       "      <td>Кира</td>\n",
       "      <td>22</td>\n",
       "      <td>Тюмень</td>\n",
       "      <td>ultra</td>\n",
       "      <td>6</td>\n",
       "      <td>0</td>\n",
       "      <td>199</td>\n",
       "      <td>535.0</td>\n",
       "    </tr>\n",
       "    <tr>\n",
       "      <th>...</th>\n",
       "      <td>...</td>\n",
       "      <td>...</td>\n",
       "      <td>...</td>\n",
       "      <td>...</td>\n",
       "      <td>...</td>\n",
       "      <td>...</td>\n",
       "      <td>...</td>\n",
       "      <td>...</td>\n",
       "      <td>...</td>\n",
       "      <td>...</td>\n",
       "      <td>...</td>\n",
       "      <td>...</td>\n",
       "    </tr>\n",
       "    <tr>\n",
       "      <th>11326</th>\n",
       "      <td>1534</td>\n",
       "      <td>3409.468534</td>\n",
       "      <td>26.0</td>\n",
       "      <td>2</td>\n",
       "      <td>Альберт</td>\n",
       "      <td>25</td>\n",
       "      <td>Краснодар</td>\n",
       "      <td>free</td>\n",
       "      <td>8</td>\n",
       "      <td>50</td>\n",
       "      <td>0</td>\n",
       "      <td>308.0</td>\n",
       "    </tr>\n",
       "    <tr>\n",
       "      <th>11327</th>\n",
       "      <td>1534</td>\n",
       "      <td>7622.453034</td>\n",
       "      <td>48.0</td>\n",
       "      <td>2</td>\n",
       "      <td>Альберт</td>\n",
       "      <td>25</td>\n",
       "      <td>Краснодар</td>\n",
       "      <td>free</td>\n",
       "      <td>8</td>\n",
       "      <td>50</td>\n",
       "      <td>0</td>\n",
       "      <td>484.0</td>\n",
       "    </tr>\n",
       "    <tr>\n",
       "      <th>11328</th>\n",
       "      <td>1534</td>\n",
       "      <td>4928.173852</td>\n",
       "      <td>23.0</td>\n",
       "      <td>1</td>\n",
       "      <td>Альберт</td>\n",
       "      <td>25</td>\n",
       "      <td>Краснодар</td>\n",
       "      <td>free</td>\n",
       "      <td>8</td>\n",
       "      <td>50</td>\n",
       "      <td>0</td>\n",
       "      <td>234.0</td>\n",
       "    </tr>\n",
       "    <tr>\n",
       "      <th>11329</th>\n",
       "      <td>1534</td>\n",
       "      <td>13350.015305</td>\n",
       "      <td>78.0</td>\n",
       "      <td>4</td>\n",
       "      <td>Альберт</td>\n",
       "      <td>25</td>\n",
       "      <td>Краснодар</td>\n",
       "      <td>free</td>\n",
       "      <td>8</td>\n",
       "      <td>50</td>\n",
       "      <td>0</td>\n",
       "      <td>824.0</td>\n",
       "    </tr>\n",
       "    <tr>\n",
       "      <th>11330</th>\n",
       "      <td>1534</td>\n",
       "      <td>2371.711192</td>\n",
       "      <td>16.0</td>\n",
       "      <td>1</td>\n",
       "      <td>Альберт</td>\n",
       "      <td>25</td>\n",
       "      <td>Краснодар</td>\n",
       "      <td>free</td>\n",
       "      <td>8</td>\n",
       "      <td>50</td>\n",
       "      <td>0</td>\n",
       "      <td>178.0</td>\n",
       "    </tr>\n",
       "  </tbody>\n",
       "</table>\n",
       "<p>11331 rows × 12 columns</p>\n",
       "</div>"
      ],
      "text/plain": [
       "       user_id      distance  duration  count     name  age       city  \\\n",
       "0            1   7027.511294      42.0      2     Кира   22     Тюмень   \n",
       "1            1    754.159807       7.0      1     Кира   22     Тюмень   \n",
       "2            1   6723.470560      46.0      2     Кира   22     Тюмень   \n",
       "3            1   5809.911100      32.0      2     Кира   22     Тюмень   \n",
       "4            1   7003.499363      56.0      3     Кира   22     Тюмень   \n",
       "...        ...           ...       ...    ...      ...  ...        ...   \n",
       "11326     1534   3409.468534      26.0      2  Альберт   25  Краснодар   \n",
       "11327     1534   7622.453034      48.0      2  Альберт   25  Краснодар   \n",
       "11328     1534   4928.173852      23.0      1  Альберт   25  Краснодар   \n",
       "11329     1534  13350.015305      78.0      4  Альберт   25  Краснодар   \n",
       "11330     1534   2371.711192      16.0      1  Альберт   25  Краснодар   \n",
       "\n",
       "      subscription_type  minute_price  start_ride_price  subscription_fee  \\\n",
       "0                 ultra             6                 0               199   \n",
       "1                 ultra             6                 0               199   \n",
       "2                 ultra             6                 0               199   \n",
       "3                 ultra             6                 0               199   \n",
       "4                 ultra             6                 0               199   \n",
       "...                 ...           ...               ...               ...   \n",
       "11326              free             8                50                 0   \n",
       "11327              free             8                50                 0   \n",
       "11328              free             8                50                 0   \n",
       "11329              free             8                50                 0   \n",
       "11330              free             8                50                 0   \n",
       "\n",
       "       revenue  \n",
       "0        451.0  \n",
       "1        241.0  \n",
       "2        475.0  \n",
       "3        391.0  \n",
       "4        535.0  \n",
       "...        ...  \n",
       "11326    308.0  \n",
       "11327    484.0  \n",
       "11328    234.0  \n",
       "11329    824.0  \n",
       "11330    178.0  \n",
       "\n",
       "[11331 rows x 12 columns]"
      ]
     },
     "execution_count": 31,
     "metadata": {},
     "output_type": "execute_result"
    }
   ],
   "source": [
    "agg_data = combined_data.pivot_table(index=['user_id', 'month'], values=['distance', 'duration'], aggfunc=['sum', 'count'])\n",
    "agg_data.columns = ['distance', 'duration', 'count', 'useless_column']\n",
    "agg_data = agg_data.drop(columns='useless_column')\n",
    "\n",
    "print(agg_data)\n",
    "agg_data = agg_data.merge(users_data, on='user_id')\n",
    "agg_data = agg_data.merge(subs_data, on='subscription_type')\n",
    "agg_data['revenue'] = agg_data['start_ride_price'] * agg_data['count'] + agg_data['minute_price'] * agg_data['duration'] + agg_data['subscription_fee']\n",
    "agg_data"
   ]
  },
  {
   "cell_type": "code",
   "execution_count": 32,
   "id": "e24ce96c",
   "metadata": {},
   "outputs": [],
   "source": [
    "sub_revenue = agg_data[agg_data['subscription_type'] == 'ultra']\n",
    "no_sub_revenue = agg_data[agg_data['subscription_type'] == 'free']"
   ]
  },
  {
   "cell_type": "markdown",
   "id": "41545ac0",
   "metadata": {},
   "source": [
    "#### Шаг 6. Проверка гипотез"
   ]
  },
  {
   "cell_type": "markdown",
   "id": "6adc37c6",
   "metadata": {},
   "source": [
    "##### Тратят ли пользователи с подпиской больше времени на поездки?"
   ]
  },
  {
   "cell_type": "markdown",
   "id": "bed502c4",
   "metadata": {},
   "source": [
    "Нулевая гипотеза: Пользователи с подпиской тратят столько же времени на поездку, сколько и пользователи без подписки\n",
    "\n",
    "Альтернативная гипотеза: Пользователи с подпиской тратят больше времени на поездку, чем пользователи без подписки"
   ]
  },
  {
   "cell_type": "code",
   "execution_count": 33,
   "id": "23ea867b",
   "metadata": {},
   "outputs": [
    {
     "name": "stdout",
     "output_type": "stream",
     "text": [
      "p-значение: 2.4959453720736625e-34\n",
      "Отвергаем нулевую гипотезу о том, что пользователи с подпиской тратят больше времени на поездки\n"
     ]
    }
   ],
   "source": [
    "alpha = 0.05\n",
    "\n",
    "results = st.ttest_ind(with_sub_users['duration'], no_sub_users['duration'], alternative='greater')\n",
    "\n",
    "print('p-значение:', results.pvalue)\n",
    "\n",
    "if results.pvalue < alpha:\n",
    "    print('Отвергаем нулевую гипотезу о том, что пользователи с подпиской тратят больше времени на поездки')\n",
    "else:\n",
    "    print('Не получилось отвергнуть нулевую гипотезу')"
   ]
  },
  {
   "cell_type": "markdown",
   "id": "653b2ca0",
   "metadata": {},
   "source": [
    "#####  Можно ли сказать, что среднее расстояние, которое проезжают пользователи с подпиской за одну поездку, превышает 3130 метров?"
   ]
  },
  {
   "cell_type": "markdown",
   "id": "81d1a83e",
   "metadata": {},
   "source": [
    "Нулевая гипотеза: Среднее расстояние поездки пользователей с подпиской равно 3130.\n",
    "\n",
    "Альтернативная гипотеза: Среднее расстояние поездки пользователей с подпиской больше 3130."
   ]
  },
  {
   "cell_type": "code",
   "execution_count": 34,
   "id": "02f33b13",
   "metadata": {},
   "outputs": [
    {
     "name": "stdout",
     "output_type": "stream",
     "text": [
      "p-значение: 0.9195368847849785\n",
      "Не получилось отвергнуть нулевую гипотезу\n"
     ]
    }
   ],
   "source": [
    "alpha = 0.05\n",
    "dist = 3130\n",
    "\n",
    "results = st.ttest_1samp(with_sub_users['distance'], dist, alternative='greater')\n",
    "\n",
    "print('p-значение:', results.pvalue)\n",
    "\n",
    "if results.pvalue < alpha:\n",
    "    print('Отвергаем нулевую гипотезу о том, что среднее расстояние, которое проезжают пользователи за одну поездку равно 3130 метров')\n",
    "else:\n",
    "    print('Не получилось отвергнуть нулевую гипотезу')"
   ]
  },
  {
   "cell_type": "markdown",
   "id": "9c979659",
   "metadata": {},
   "source": [
    "Нулевая гипотеза: Месячная выручка от пользователей с подпиской равна месячной выручке пользователей без подписки.\n",
    "\n",
    "Альтернативная гипотеза: Месячная выручка от пользователей с подпиской выше, чем месячная выручка пользователей без подписки."
   ]
  },
  {
   "cell_type": "code",
   "execution_count": 35,
   "id": "78fce911",
   "metadata": {},
   "outputs": [
    {
     "name": "stdout",
     "output_type": "stream",
     "text": [
      "p-значение: 1.8850394384715216e-31\n",
      "Отвергаем нулевую гипотезу о том, что помесячная выручка от пользователей с подпиской равна выручке от пользователей без подписки\n"
     ]
    }
   ],
   "source": [
    "alpha = 0.05\n",
    "\n",
    "results = st.ttest_ind(sub_revenue['revenue'], no_sub_revenue['revenue'], alternative='greater')\n",
    "\n",
    "print('p-значение:', results.pvalue)\n",
    "\n",
    "if results.pvalue < alpha:\n",
    "    print('Отвергаем нулевую гипотезу о том, что помесячная выручка от пользователей с подпиской равна выручке от пользователей без подписки')\n",
    "else:\n",
    "    print('Не получилось отвергнуть нулевую гипотезу')"
   ]
  },
  {
   "cell_type": "markdown",
   "id": "b07b2cf6",
   "metadata": {},
   "source": [
    "##### Обновление сервера, с которым взаимодействует мобильное приложение"
   ]
  },
  {
   "cell_type": "markdown",
   "id": "a5beee63",
   "metadata": {},
   "source": [
    "Понадобился бы тест для парных выборок, то есть о равенстве среднего значения генеральной совокупности до и после изменения. Изменением в примере выступает обновление сервера, с которым взаимодействует мобильное приложение. В Python он осуществляется так: scipy.stats.ttest_rel."
   ]
  },
  {
   "cell_type": "markdown",
   "id": "8035b9f5",
   "metadata": {},
   "source": [
    "Будем проверять двустороннюю гипотезу. Можем сформулировать такую нулевую гипотезу: различия между количеством обращений до и после обновления отсутствуют или что количество обращений после обновления больше или равно, чем до. Альтернативная гипотеза: количество обращений после обновления меньше, чем до обновления."
   ]
  },
  {
   "cell_type": "markdown",
   "id": "796a171e",
   "metadata": {},
   "source": [
    "# Общий вывод"
   ]
  },
  {
   "cell_type": "markdown",
   "id": "670bab50",
   "metadata": {},
   "source": [
    "<b>1. Загрузка данных</b>\n",
    "\n",
    "В начале работы мы получили три таблицы, состоящие из 1565 строк и 5 столбцов, 18068 строк и 4 столбцов, 2 строк и 4 столбцов соответственно.\n",
    "\n",
    "<b>2. Предобработка данных</b>\n",
    "\n",
    "Пропусков данных обнаружено не было, но были обнаружены 31 дубликатов в таблице с информацией о пользователях, которые были обработаны. В таблице с информацией о поездках столбец с датами был приведён к типу datetime, был добавлен столбец с месяцем поездки. Была округлена длительность поездки в сторону большего числа. \n",
    "\n",
    "\n",
    "<b>3. Исследовательский анализ данных</b>\n",
    "\n",
    "Затем осуществлялся исследовательский анализ данных с помощью гистограмм. Выяснилось, что:\n",
    "* Больше всего пользователей в Пятигорске, меньше всего - Москве\n",
    "* Пользователей без подписки почти в 1.2 больше, чем с подпиской\n",
    "* Больше всего пользователей возрастом в 25 лет.\n",
    "* В среднем расстояние поездок пользователей составляет 3070 метров.\n",
    "* В среднем длительность поездок составляет 18 минут\n",
    "\n",
    "\n",
    "<b>4. Объединение данных</b>\n",
    "\n",
    "Далее происходило объединение данных и создание отдельных таблиц с информацией о пользователях с подпиской и без подписки. Выяснилось следующее:\n",
    "\n",
    "* Больше всего пользователей без подписки с расстоянием поездки примерно от 2500 до 4000 метров.\n",
    "* Больше всего пользователей с подпиской с расстоянием поездки примерно в 3000 метров.\n",
    "* Больше всего пользователей без подписки с длительностью поездки примерно 18 минут.\n",
    "* Больше всего пользователей с подпиской с длительностью поездки примерно 19 минут.\n",
    "\n",
    "\n",
    "<b>5. Подсчёт выручки</b>\n",
    "Затем была рассчитана помесячная прибыль с одного пользователя с помощью сводных таблиц.\n",
    "\n",
    "\n",
    "<b>6. Проверка гипотез</b>\n",
    "После этого была проверка гипотез.\n",
    "\n",
    "* Мы отвергли гипотезу о том, что пользователи с подпиской тратят больше времени на поездки в пользу альтернативной: пользователи с подпиской тратят больше времени на поездку, чем пользователи без подписки\n",
    "* Нам не удалось отвергнуть нулевую гипотезу о том, что среднее расстояние, которое проезжают пользователи за одну поездку не превышает 3130 метров.\n",
    "* Мы отвергли гипотезу о том, что помесячная выручка от пользователей с подпиской по месяцам выше, чем выручка от пользователей без подписки в пользу альтернативной: месячная выручка от пользователей с подпиской выше, чем месячная выручка пользователей без подписки.\n",
    "\n",
    "Мы отвергли гипотезу о том, что пользователи с подпиской тратят больше времени на поездки и о том, что помесячная выручка от пользователей с подпиской по месяцам выше, чем выручка от пользователей без подписки. Мы не отвергли гипотезу о том, что среднее расстояние, которое проезжают пользователи за одну поездку не превышает 3130 метров."
   ]
  },
  {
   "cell_type": "code",
   "execution_count": null,
   "id": "704e7782",
   "metadata": {},
   "outputs": [],
   "source": []
  }
 ],
 "metadata": {
  "ExecuteTimeLog": [
   {
    "duration": 51,
    "start_time": "2024-11-18T07:41:31.661Z"
   },
   {
    "duration": 437,
    "start_time": "2024-11-18T07:41:33.989Z"
   },
   {
    "duration": 267,
    "start_time": "2024-11-18T07:41:37.124Z"
   },
   {
    "duration": 452,
    "start_time": "2024-11-18T07:43:06.193Z"
   },
   {
    "duration": 69,
    "start_time": "2024-11-18T07:43:06.647Z"
   },
   {
    "duration": 16,
    "start_time": "2024-11-18T07:43:06.718Z"
   },
   {
    "duration": 8,
    "start_time": "2024-11-18T07:43:06.736Z"
   },
   {
    "duration": 16,
    "start_time": "2024-11-18T07:43:06.746Z"
   },
   {
    "duration": 13,
    "start_time": "2024-11-18T07:43:06.763Z"
   },
   {
    "duration": 21,
    "start_time": "2024-11-18T07:43:06.778Z"
   },
   {
    "duration": 26,
    "start_time": "2024-11-18T07:43:06.801Z"
   },
   {
    "duration": 8,
    "start_time": "2024-11-18T07:48:09.135Z"
   },
   {
    "duration": 122,
    "start_time": "2024-11-18T07:48:58.359Z"
   },
   {
    "duration": 16,
    "start_time": "2024-11-18T07:49:04.684Z"
   },
   {
    "duration": 20,
    "start_time": "2024-11-18T07:49:13.338Z"
   },
   {
    "duration": 22,
    "start_time": "2024-11-18T07:49:17.751Z"
   },
   {
    "duration": 6,
    "start_time": "2024-11-18T07:50:17.553Z"
   },
   {
    "duration": 6,
    "start_time": "2024-11-18T07:50:29.087Z"
   },
   {
    "duration": 7,
    "start_time": "2024-11-18T07:50:44.348Z"
   },
   {
    "duration": 8,
    "start_time": "2024-11-18T07:51:16.946Z"
   },
   {
    "duration": 16,
    "start_time": "2024-11-18T07:52:19.992Z"
   },
   {
    "duration": 15,
    "start_time": "2024-11-18T07:53:02.786Z"
   },
   {
    "duration": 10,
    "start_time": "2024-11-18T07:53:08.840Z"
   },
   {
    "duration": 12,
    "start_time": "2024-11-18T07:55:00.872Z"
   },
   {
    "duration": 8,
    "start_time": "2024-11-18T07:55:14.933Z"
   },
   {
    "duration": 13,
    "start_time": "2024-11-18T07:55:22.629Z"
   },
   {
    "duration": 386,
    "start_time": "2024-11-18T07:55:26.542Z"
   },
   {
    "duration": 68,
    "start_time": "2024-11-18T07:55:26.930Z"
   },
   {
    "duration": 15,
    "start_time": "2024-11-18T07:55:27.001Z"
   },
   {
    "duration": 8,
    "start_time": "2024-11-18T07:55:27.018Z"
   },
   {
    "duration": 6,
    "start_time": "2024-11-18T07:55:27.028Z"
   },
   {
    "duration": 11,
    "start_time": "2024-11-18T07:55:27.036Z"
   },
   {
    "duration": 11,
    "start_time": "2024-11-18T07:55:27.048Z"
   },
   {
    "duration": 16,
    "start_time": "2024-11-18T07:55:27.060Z"
   },
   {
    "duration": 10,
    "start_time": "2024-11-18T07:55:27.079Z"
   },
   {
    "duration": 8,
    "start_time": "2024-11-18T07:55:27.117Z"
   },
   {
    "duration": 20,
    "start_time": "2024-11-18T07:55:27.127Z"
   },
   {
    "duration": 7,
    "start_time": "2024-11-18T07:56:50.722Z"
   },
   {
    "duration": 7,
    "start_time": "2024-11-18T07:56:53.063Z"
   },
   {
    "duration": 50,
    "start_time": "2024-11-18T07:57:12.278Z"
   },
   {
    "duration": 7,
    "start_time": "2024-11-18T07:57:14.814Z"
   },
   {
    "duration": 426,
    "start_time": "2024-11-18T07:57:18.703Z"
   },
   {
    "duration": 69,
    "start_time": "2024-11-18T07:57:19.131Z"
   },
   {
    "duration": 17,
    "start_time": "2024-11-18T07:57:19.202Z"
   },
   {
    "duration": 9,
    "start_time": "2024-11-18T07:57:19.221Z"
   },
   {
    "duration": 8,
    "start_time": "2024-11-18T07:57:19.231Z"
   },
   {
    "duration": 11,
    "start_time": "2024-11-18T07:57:19.240Z"
   },
   {
    "duration": 10,
    "start_time": "2024-11-18T07:57:19.253Z"
   },
   {
    "duration": 9,
    "start_time": "2024-11-18T07:57:19.265Z"
   },
   {
    "duration": 43,
    "start_time": "2024-11-18T07:57:19.275Z"
   },
   {
    "duration": 6,
    "start_time": "2024-11-18T07:57:19.320Z"
   },
   {
    "duration": 10,
    "start_time": "2024-11-18T07:57:19.328Z"
   },
   {
    "duration": 10,
    "start_time": "2024-11-18T07:57:19.340Z"
   },
   {
    "duration": 8,
    "start_time": "2024-11-18T07:57:19.351Z"
   },
   {
    "duration": 399,
    "start_time": "2024-11-18T08:01:14.531Z"
   },
   {
    "duration": 76,
    "start_time": "2024-11-18T08:01:14.932Z"
   },
   {
    "duration": 17,
    "start_time": "2024-11-18T08:01:15.010Z"
   },
   {
    "duration": 57,
    "start_time": "2024-11-18T08:01:15.030Z"
   },
   {
    "duration": 20,
    "start_time": "2024-11-18T08:01:15.090Z"
   },
   {
    "duration": 10,
    "start_time": "2024-11-18T08:01:15.112Z"
   },
   {
    "duration": 13,
    "start_time": "2024-11-18T08:01:15.124Z"
   },
   {
    "duration": 10,
    "start_time": "2024-11-18T08:01:15.139Z"
   },
   {
    "duration": 29,
    "start_time": "2024-11-18T08:01:15.151Z"
   },
   {
    "duration": 26,
    "start_time": "2024-11-18T08:01:15.182Z"
   },
   {
    "duration": 12,
    "start_time": "2024-11-18T08:01:15.210Z"
   },
   {
    "duration": 17,
    "start_time": "2024-11-18T08:01:15.224Z"
   },
   {
    "duration": 21,
    "start_time": "2024-11-18T08:01:15.243Z"
   },
   {
    "duration": 616,
    "start_time": "2024-11-18T08:02:42.784Z"
   },
   {
    "duration": 145,
    "start_time": "2024-11-18T08:02:50.181Z"
   },
   {
    "duration": 141,
    "start_time": "2024-11-18T08:02:57.825Z"
   },
   {
    "duration": 213,
    "start_time": "2024-11-18T08:03:04.507Z"
   },
   {
    "duration": 245,
    "start_time": "2024-11-18T08:03:19.845Z"
   },
   {
    "duration": 170,
    "start_time": "2024-11-18T08:05:28.403Z"
   },
   {
    "duration": 103,
    "start_time": "2024-11-18T08:06:25.741Z"
   },
   {
    "duration": 119,
    "start_time": "2024-11-18T08:07:13.253Z"
   },
   {
    "duration": 146,
    "start_time": "2024-11-18T08:07:57.605Z"
   },
   {
    "duration": 113,
    "start_time": "2024-11-18T08:08:34.225Z"
   },
   {
    "duration": 380,
    "start_time": "2024-11-18T08:08:49.265Z"
   },
   {
    "duration": 68,
    "start_time": "2024-11-18T08:08:49.648Z"
   },
   {
    "duration": 17,
    "start_time": "2024-11-18T08:08:49.718Z"
   },
   {
    "duration": 26,
    "start_time": "2024-11-18T08:08:49.737Z"
   },
   {
    "duration": 23,
    "start_time": "2024-11-18T08:08:49.764Z"
   },
   {
    "duration": 19,
    "start_time": "2024-11-18T08:08:49.789Z"
   },
   {
    "duration": 15,
    "start_time": "2024-11-18T08:08:49.810Z"
   },
   {
    "duration": 10,
    "start_time": "2024-11-18T08:08:49.827Z"
   },
   {
    "duration": 19,
    "start_time": "2024-11-18T08:08:49.839Z"
   },
   {
    "duration": 17,
    "start_time": "2024-11-18T08:08:49.861Z"
   },
   {
    "duration": 6,
    "start_time": "2024-11-18T08:08:49.879Z"
   },
   {
    "duration": 8,
    "start_time": "2024-11-18T08:08:49.887Z"
   },
   {
    "duration": 24,
    "start_time": "2024-11-18T08:08:49.897Z"
   },
   {
    "duration": 358,
    "start_time": "2024-11-18T08:08:49.922Z"
   },
   {
    "duration": 129,
    "start_time": "2024-11-18T08:08:50.282Z"
   },
   {
    "duration": 131,
    "start_time": "2024-11-18T08:08:50.417Z"
   },
   {
    "duration": 199,
    "start_time": "2024-11-18T08:08:50.550Z"
   },
   {
    "duration": 198,
    "start_time": "2024-11-18T08:08:50.751Z"
   },
   {
    "duration": 92,
    "start_time": "2024-11-18T08:11:39.906Z"
   },
   {
    "duration": 4,
    "start_time": "2024-11-18T08:12:00.341Z"
   },
   {
    "duration": 153,
    "start_time": "2024-11-18T08:12:08.988Z"
   },
   {
    "duration": 438,
    "start_time": "2024-11-18T08:12:17.000Z"
   },
   {
    "duration": 69,
    "start_time": "2024-11-18T08:12:17.440Z"
   },
   {
    "duration": 15,
    "start_time": "2024-11-18T08:12:17.510Z"
   },
   {
    "duration": 23,
    "start_time": "2024-11-18T08:12:17.527Z"
   },
   {
    "duration": 31,
    "start_time": "2024-11-18T08:12:17.553Z"
   },
   {
    "duration": 30,
    "start_time": "2024-11-18T08:12:17.586Z"
   },
   {
    "duration": 20,
    "start_time": "2024-11-18T08:12:17.618Z"
   },
   {
    "duration": 18,
    "start_time": "2024-11-18T08:12:17.640Z"
   },
   {
    "duration": 36,
    "start_time": "2024-11-18T08:12:17.660Z"
   },
   {
    "duration": 40,
    "start_time": "2024-11-18T08:12:17.698Z"
   },
   {
    "duration": 34,
    "start_time": "2024-11-18T08:12:17.740Z"
   },
   {
    "duration": 29,
    "start_time": "2024-11-18T08:12:17.775Z"
   },
   {
    "duration": 11,
    "start_time": "2024-11-18T08:12:17.805Z"
   },
   {
    "duration": 354,
    "start_time": "2024-11-18T08:12:17.819Z"
   },
   {
    "duration": 5,
    "start_time": "2024-11-18T08:12:18.175Z"
   },
   {
    "duration": 122,
    "start_time": "2024-11-18T08:12:18.182Z"
   },
   {
    "duration": 139,
    "start_time": "2024-11-18T08:12:18.305Z"
   },
   {
    "duration": 134,
    "start_time": "2024-11-18T08:12:18.446Z"
   },
   {
    "duration": 224,
    "start_time": "2024-11-18T08:12:18.581Z"
   },
   {
    "duration": 229,
    "start_time": "2024-11-18T08:12:18.806Z"
   },
   {
    "duration": 5,
    "start_time": "2024-11-18T08:12:30.678Z"
   },
   {
    "duration": 108,
    "start_time": "2024-11-18T08:12:35.278Z"
   },
   {
    "duration": 394,
    "start_time": "2024-11-18T08:12:39.841Z"
   },
   {
    "duration": 69,
    "start_time": "2024-11-18T08:12:40.237Z"
   },
   {
    "duration": 19,
    "start_time": "2024-11-18T08:12:40.308Z"
   },
   {
    "duration": 11,
    "start_time": "2024-11-18T08:12:40.329Z"
   },
   {
    "duration": 9,
    "start_time": "2024-11-18T08:12:40.342Z"
   },
   {
    "duration": 13,
    "start_time": "2024-11-18T08:12:40.353Z"
   },
   {
    "duration": 11,
    "start_time": "2024-11-18T08:12:40.367Z"
   },
   {
    "duration": 45,
    "start_time": "2024-11-18T08:12:40.380Z"
   },
   {
    "duration": 12,
    "start_time": "2024-11-18T08:12:40.426Z"
   },
   {
    "duration": 7,
    "start_time": "2024-11-18T08:12:40.439Z"
   },
   {
    "duration": 6,
    "start_time": "2024-11-18T08:12:40.447Z"
   },
   {
    "duration": 6,
    "start_time": "2024-11-18T08:12:40.454Z"
   },
   {
    "duration": 9,
    "start_time": "2024-11-18T08:12:40.462Z"
   },
   {
    "duration": 387,
    "start_time": "2024-11-18T08:12:40.473Z"
   },
   {
    "duration": 7,
    "start_time": "2024-11-18T08:12:40.861Z"
   },
   {
    "duration": 119,
    "start_time": "2024-11-18T08:12:40.869Z"
   },
   {
    "duration": 138,
    "start_time": "2024-11-18T08:12:40.989Z"
   },
   {
    "duration": 136,
    "start_time": "2024-11-18T08:12:41.128Z"
   },
   {
    "duration": 217,
    "start_time": "2024-11-18T08:12:41.266Z"
   },
   {
    "duration": 252,
    "start_time": "2024-11-18T08:12:41.485Z"
   },
   {
    "duration": 126,
    "start_time": "2024-11-18T08:14:57.293Z"
   },
   {
    "duration": 1052,
    "start_time": "2024-11-18T08:15:02.751Z"
   },
   {
    "duration": 6,
    "start_time": "2024-11-18T08:15:18.531Z"
   },
   {
    "duration": 126,
    "start_time": "2024-11-18T08:15:20.900Z"
   },
   {
    "duration": 430,
    "start_time": "2024-11-18T08:15:28.783Z"
   },
   {
    "duration": 69,
    "start_time": "2024-11-18T08:15:29.216Z"
   },
   {
    "duration": 16,
    "start_time": "2024-11-18T08:15:29.287Z"
   },
   {
    "duration": 30,
    "start_time": "2024-11-18T08:15:29.305Z"
   },
   {
    "duration": 35,
    "start_time": "2024-11-18T08:15:29.337Z"
   },
   {
    "duration": 41,
    "start_time": "2024-11-18T08:15:29.374Z"
   },
   {
    "duration": 37,
    "start_time": "2024-11-18T08:15:29.417Z"
   },
   {
    "duration": 33,
    "start_time": "2024-11-18T08:15:29.457Z"
   },
   {
    "duration": 47,
    "start_time": "2024-11-18T08:15:29.492Z"
   },
   {
    "duration": 31,
    "start_time": "2024-11-18T08:15:29.542Z"
   },
   {
    "duration": 37,
    "start_time": "2024-11-18T08:15:29.575Z"
   },
   {
    "duration": 17,
    "start_time": "2024-11-18T08:15:29.613Z"
   },
   {
    "duration": 31,
    "start_time": "2024-11-18T08:15:29.631Z"
   },
   {
    "duration": 376,
    "start_time": "2024-11-18T08:15:29.664Z"
   },
   {
    "duration": 6,
    "start_time": "2024-11-18T08:15:30.041Z"
   },
   {
    "duration": 132,
    "start_time": "2024-11-18T08:15:30.049Z"
   },
   {
    "duration": 137,
    "start_time": "2024-11-18T08:15:30.183Z"
   },
   {
    "duration": 8,
    "start_time": "2024-11-18T08:15:30.321Z"
   },
   {
    "duration": 219,
    "start_time": "2024-11-18T08:15:30.330Z"
   },
   {
    "duration": 240,
    "start_time": "2024-11-18T08:15:30.551Z"
   },
   {
    "duration": 234,
    "start_time": "2024-11-18T08:16:42.960Z"
   },
   {
    "duration": 201,
    "start_time": "2024-11-18T08:17:57.621Z"
   },
   {
    "duration": 206,
    "start_time": "2024-11-18T10:06:46.540Z"
   },
   {
    "duration": 28,
    "start_time": "2024-11-18T10:14:10.496Z"
   },
   {
    "duration": 94,
    "start_time": "2024-11-18T10:15:54.783Z"
   },
   {
    "duration": 52,
    "start_time": "2024-11-18T10:16:17.774Z"
   },
   {
    "duration": 25,
    "start_time": "2024-11-18T10:21:18.424Z"
   },
   {
    "duration": 36,
    "start_time": "2024-11-18T10:21:36.054Z"
   },
   {
    "duration": 37,
    "start_time": "2024-11-18T10:21:40.790Z"
   },
   {
    "duration": 32,
    "start_time": "2024-11-18T10:21:54.062Z"
   },
   {
    "duration": 38,
    "start_time": "2024-11-18T10:22:07.969Z"
   },
   {
    "duration": 32,
    "start_time": "2024-11-18T10:24:17.493Z"
   },
   {
    "duration": 35,
    "start_time": "2024-11-18T10:24:23.320Z"
   },
   {
    "duration": 245,
    "start_time": "2024-11-18T10:26:03.344Z"
   },
   {
    "duration": 224,
    "start_time": "2024-11-18T10:26:22.112Z"
   },
   {
    "duration": 314,
    "start_time": "2024-11-18T10:26:43.305Z"
   },
   {
    "duration": 228,
    "start_time": "2024-11-18T10:27:01.467Z"
   },
   {
    "duration": 394,
    "start_time": "2024-11-18T10:40:27.453Z"
   },
   {
    "duration": 70,
    "start_time": "2024-11-18T10:40:27.849Z"
   },
   {
    "duration": 16,
    "start_time": "2024-11-18T10:40:27.921Z"
   },
   {
    "duration": 9,
    "start_time": "2024-11-18T10:40:27.939Z"
   },
   {
    "duration": 17,
    "start_time": "2024-11-18T10:40:27.951Z"
   },
   {
    "duration": 15,
    "start_time": "2024-11-18T10:40:27.970Z"
   },
   {
    "duration": 33,
    "start_time": "2024-11-18T10:40:27.987Z"
   },
   {
    "duration": 13,
    "start_time": "2024-11-18T10:40:28.022Z"
   },
   {
    "duration": 16,
    "start_time": "2024-11-18T10:40:28.037Z"
   },
   {
    "duration": 21,
    "start_time": "2024-11-18T10:40:28.054Z"
   },
   {
    "duration": 8,
    "start_time": "2024-11-18T10:40:28.076Z"
   },
   {
    "duration": 8,
    "start_time": "2024-11-18T10:40:28.086Z"
   },
   {
    "duration": 22,
    "start_time": "2024-11-18T10:40:28.096Z"
   },
   {
    "duration": 379,
    "start_time": "2024-11-18T10:40:28.122Z"
   },
   {
    "duration": 16,
    "start_time": "2024-11-18T10:40:28.502Z"
   },
   {
    "duration": 138,
    "start_time": "2024-11-18T10:40:28.519Z"
   },
   {
    "duration": 126,
    "start_time": "2024-11-18T10:40:28.659Z"
   },
   {
    "duration": 6,
    "start_time": "2024-11-18T10:40:28.787Z"
   },
   {
    "duration": 218,
    "start_time": "2024-11-18T10:40:28.794Z"
   },
   {
    "duration": 219,
    "start_time": "2024-11-18T10:40:29.017Z"
   },
   {
    "duration": 206,
    "start_time": "2024-11-18T10:40:29.238Z"
   },
   {
    "duration": 205,
    "start_time": "2024-11-18T10:40:29.446Z"
   },
   {
    "duration": 211,
    "start_time": "2024-11-18T10:40:29.653Z"
   },
   {
    "duration": 21,
    "start_time": "2024-11-18T10:40:29.866Z"
   },
   {
    "duration": 253,
    "start_time": "2024-11-18T10:40:29.889Z"
   },
   {
    "duration": 228,
    "start_time": "2024-11-18T10:40:30.144Z"
   },
   {
    "duration": 291,
    "start_time": "2024-11-18T10:40:30.374Z"
   },
   {
    "duration": 214,
    "start_time": "2024-11-18T10:40:30.667Z"
   },
   {
    "duration": 409,
    "start_time": "2024-11-18T10:53:02.262Z"
   },
   {
    "duration": 70,
    "start_time": "2024-11-18T10:53:02.673Z"
   },
   {
    "duration": 18,
    "start_time": "2024-11-18T10:53:02.745Z"
   },
   {
    "duration": 9,
    "start_time": "2024-11-18T10:53:02.765Z"
   },
   {
    "duration": 21,
    "start_time": "2024-11-18T10:53:02.776Z"
   },
   {
    "duration": 37,
    "start_time": "2024-11-18T10:53:02.798Z"
   },
   {
    "duration": 34,
    "start_time": "2024-11-18T10:53:02.837Z"
   },
   {
    "duration": 14,
    "start_time": "2024-11-18T10:53:02.873Z"
   },
   {
    "duration": 10,
    "start_time": "2024-11-18T10:53:02.888Z"
   },
   {
    "duration": 37,
    "start_time": "2024-11-18T10:53:02.902Z"
   },
   {
    "duration": 59,
    "start_time": "2024-11-18T10:53:02.940Z"
   },
   {
    "duration": 35,
    "start_time": "2024-11-18T10:53:03.000Z"
   },
   {
    "duration": 97,
    "start_time": "2024-11-18T10:53:03.038Z"
   },
   {
    "duration": 426,
    "start_time": "2024-11-18T10:53:03.137Z"
   },
   {
    "duration": 5,
    "start_time": "2024-11-18T10:53:03.565Z"
   },
   {
    "duration": 147,
    "start_time": "2024-11-18T10:53:03.572Z"
   },
   {
    "duration": 138,
    "start_time": "2024-11-18T10:53:03.721Z"
   },
   {
    "duration": 5,
    "start_time": "2024-11-18T10:53:03.861Z"
   },
   {
    "duration": 215,
    "start_time": "2024-11-18T10:53:03.868Z"
   },
   {
    "duration": 235,
    "start_time": "2024-11-18T10:53:04.085Z"
   },
   {
    "duration": 214,
    "start_time": "2024-11-18T10:53:04.321Z"
   },
   {
    "duration": 211,
    "start_time": "2024-11-18T10:53:04.536Z"
   },
   {
    "duration": 218,
    "start_time": "2024-11-18T10:53:04.749Z"
   },
   {
    "duration": 36,
    "start_time": "2024-11-18T10:53:04.969Z"
   },
   {
    "duration": 243,
    "start_time": "2024-11-18T10:53:05.006Z"
   },
   {
    "duration": 222,
    "start_time": "2024-11-18T10:53:05.251Z"
   },
   {
    "duration": 323,
    "start_time": "2024-11-18T10:53:05.474Z"
   },
   {
    "duration": 211,
    "start_time": "2024-11-18T10:53:05.800Z"
   },
   {
    "duration": 10,
    "start_time": "2024-11-18T11:00:29.920Z"
   },
   {
    "duration": 17,
    "start_time": "2024-11-18T11:00:36.537Z"
   },
   {
    "duration": 27,
    "start_time": "2024-11-18T11:01:30.866Z"
   },
   {
    "duration": 21,
    "start_time": "2024-11-18T11:03:13.493Z"
   },
   {
    "duration": 39,
    "start_time": "2024-11-18T11:03:28.929Z"
   },
   {
    "duration": 34,
    "start_time": "2024-11-18T11:03:46.073Z"
   },
   {
    "duration": 1146,
    "start_time": "2024-11-18T11:07:34.386Z"
   },
   {
    "duration": 10,
    "start_time": "2024-11-18T11:10:15.756Z"
   },
   {
    "duration": 22,
    "start_time": "2024-11-18T11:10:23.961Z"
   },
   {
    "duration": 22,
    "start_time": "2024-11-18T11:11:01.219Z"
   },
   {
    "duration": 42,
    "start_time": "2024-11-18T11:11:59.993Z"
   },
   {
    "duration": 37,
    "start_time": "2024-11-18T11:12:34.633Z"
   },
   {
    "duration": 14,
    "start_time": "2024-11-18T11:19:07.344Z"
   },
   {
    "duration": 14,
    "start_time": "2024-11-18T11:19:17.964Z"
   },
   {
    "duration": 12,
    "start_time": "2024-11-18T11:19:32.203Z"
   },
   {
    "duration": 272,
    "start_time": "2024-11-18T11:24:12.244Z"
   },
   {
    "duration": 24,
    "start_time": "2024-11-18T11:24:26.214Z"
   },
   {
    "duration": 22,
    "start_time": "2024-11-18T11:25:38.184Z"
   },
   {
    "duration": 22,
    "start_time": "2024-11-18T11:25:47.780Z"
   },
   {
    "duration": 25,
    "start_time": "2024-11-18T11:26:06.213Z"
   },
   {
    "duration": 22,
    "start_time": "2024-11-18T11:26:21.219Z"
   },
   {
    "duration": 24,
    "start_time": "2024-11-18T11:27:04.333Z"
   },
   {
    "duration": 427,
    "start_time": "2024-11-18T11:29:26.303Z"
   },
   {
    "duration": 69,
    "start_time": "2024-11-18T11:29:26.732Z"
   },
   {
    "duration": 16,
    "start_time": "2024-11-18T11:29:26.802Z"
   },
   {
    "duration": 8,
    "start_time": "2024-11-18T11:29:26.820Z"
   },
   {
    "duration": 7,
    "start_time": "2024-11-18T11:29:26.830Z"
   },
   {
    "duration": 11,
    "start_time": "2024-11-18T11:29:26.838Z"
   },
   {
    "duration": 14,
    "start_time": "2024-11-18T11:29:26.851Z"
   },
   {
    "duration": 9,
    "start_time": "2024-11-18T11:29:26.867Z"
   },
   {
    "duration": 43,
    "start_time": "2024-11-18T11:29:26.878Z"
   },
   {
    "duration": 62,
    "start_time": "2024-11-18T11:29:26.926Z"
   },
   {
    "duration": 0,
    "start_time": "2024-11-18T11:29:26.990Z"
   },
   {
    "duration": 0,
    "start_time": "2024-11-18T11:29:26.991Z"
   },
   {
    "duration": 0,
    "start_time": "2024-11-18T11:29:26.992Z"
   },
   {
    "duration": 0,
    "start_time": "2024-11-18T11:29:26.993Z"
   },
   {
    "duration": 0,
    "start_time": "2024-11-18T11:29:26.995Z"
   },
   {
    "duration": 0,
    "start_time": "2024-11-18T11:29:26.996Z"
   },
   {
    "duration": 0,
    "start_time": "2024-11-18T11:29:27.018Z"
   },
   {
    "duration": 0,
    "start_time": "2024-11-18T11:29:27.019Z"
   },
   {
    "duration": 0,
    "start_time": "2024-11-18T11:29:27.020Z"
   },
   {
    "duration": 0,
    "start_time": "2024-11-18T11:29:27.022Z"
   },
   {
    "duration": 0,
    "start_time": "2024-11-18T11:29:27.023Z"
   },
   {
    "duration": 0,
    "start_time": "2024-11-18T11:29:27.024Z"
   },
   {
    "duration": 0,
    "start_time": "2024-11-18T11:29:27.025Z"
   },
   {
    "duration": 0,
    "start_time": "2024-11-18T11:29:27.026Z"
   },
   {
    "duration": 0,
    "start_time": "2024-11-18T11:29:27.027Z"
   },
   {
    "duration": 0,
    "start_time": "2024-11-18T11:29:27.028Z"
   },
   {
    "duration": 0,
    "start_time": "2024-11-18T11:29:27.029Z"
   },
   {
    "duration": 0,
    "start_time": "2024-11-18T11:29:27.030Z"
   },
   {
    "duration": 0,
    "start_time": "2024-11-18T11:29:27.031Z"
   },
   {
    "duration": 0,
    "start_time": "2024-11-18T11:29:27.032Z"
   },
   {
    "duration": 435,
    "start_time": "2024-11-18T11:29:50.109Z"
   },
   {
    "duration": 68,
    "start_time": "2024-11-18T11:29:50.546Z"
   },
   {
    "duration": 16,
    "start_time": "2024-11-18T11:29:50.616Z"
   },
   {
    "duration": 8,
    "start_time": "2024-11-18T11:29:50.633Z"
   },
   {
    "duration": 14,
    "start_time": "2024-11-18T11:29:50.643Z"
   },
   {
    "duration": 16,
    "start_time": "2024-11-18T11:29:50.658Z"
   },
   {
    "duration": 26,
    "start_time": "2024-11-18T11:29:50.676Z"
   },
   {
    "duration": 14,
    "start_time": "2024-11-18T11:29:50.704Z"
   },
   {
    "duration": 18,
    "start_time": "2024-11-18T11:29:50.719Z"
   },
   {
    "duration": 14,
    "start_time": "2024-11-18T11:29:50.739Z"
   },
   {
    "duration": 48,
    "start_time": "2024-11-18T11:29:50.754Z"
   },
   {
    "duration": 9,
    "start_time": "2024-11-18T11:29:50.804Z"
   },
   {
    "duration": 13,
    "start_time": "2024-11-18T11:29:50.815Z"
   },
   {
    "duration": 8,
    "start_time": "2024-11-18T11:29:50.831Z"
   },
   {
    "duration": 371,
    "start_time": "2024-11-18T11:29:50.840Z"
   },
   {
    "duration": 6,
    "start_time": "2024-11-18T11:29:51.217Z"
   },
   {
    "duration": 195,
    "start_time": "2024-11-18T11:29:51.225Z"
   },
   {
    "duration": 135,
    "start_time": "2024-11-18T11:29:51.421Z"
   },
   {
    "duration": 6,
    "start_time": "2024-11-18T11:29:51.558Z"
   },
   {
    "duration": 228,
    "start_time": "2024-11-18T11:29:51.565Z"
   },
   {
    "duration": 255,
    "start_time": "2024-11-18T11:29:51.794Z"
   },
   {
    "duration": 208,
    "start_time": "2024-11-18T11:29:52.051Z"
   },
   {
    "duration": 206,
    "start_time": "2024-11-18T11:29:52.261Z"
   },
   {
    "duration": 202,
    "start_time": "2024-11-18T11:29:52.469Z"
   },
   {
    "duration": 48,
    "start_time": "2024-11-18T11:29:52.673Z"
   },
   {
    "duration": 238,
    "start_time": "2024-11-18T11:29:52.723Z"
   },
   {
    "duration": 238,
    "start_time": "2024-11-18T11:29:52.963Z"
   },
   {
    "duration": 237,
    "start_time": "2024-11-18T11:29:53.203Z"
   },
   {
    "duration": 349,
    "start_time": "2024-11-18T11:29:53.442Z"
   },
   {
    "duration": 27,
    "start_time": "2024-11-18T11:29:53.793Z"
   },
   {
    "duration": 17,
    "start_time": "2024-11-18T11:33:49.970Z"
   },
   {
    "duration": 25,
    "start_time": "2024-11-18T11:34:00.092Z"
   },
   {
    "duration": 26,
    "start_time": "2024-11-18T11:35:17.770Z"
   },
   {
    "duration": 25,
    "start_time": "2024-11-18T11:37:59.175Z"
   },
   {
    "duration": 23,
    "start_time": "2024-11-18T11:38:20.695Z"
   },
   {
    "duration": 34,
    "start_time": "2024-11-18T11:41:37.197Z"
   },
   {
    "duration": 90,
    "start_time": "2024-11-18T11:46:22.437Z"
   },
   {
    "duration": 21,
    "start_time": "2024-11-18T11:46:29.939Z"
   },
   {
    "duration": 27,
    "start_time": "2024-11-18T11:46:38.103Z"
   },
   {
    "duration": 26,
    "start_time": "2024-11-18T12:03:36.277Z"
   },
   {
    "duration": 81,
    "start_time": "2024-11-18T15:10:43.556Z"
   },
   {
    "duration": 38,
    "start_time": "2024-11-18T15:10:51.083Z"
   },
   {
    "duration": 85,
    "start_time": "2024-11-18T15:22:44.003Z"
   },
   {
    "duration": 32,
    "start_time": "2024-11-18T15:23:23.732Z"
   },
   {
    "duration": 262,
    "start_time": "2024-11-18T15:24:45.362Z"
   },
   {
    "duration": 31,
    "start_time": "2024-11-18T15:24:54.229Z"
   },
   {
    "duration": 49,
    "start_time": "2024-11-18T15:26:26.557Z"
   },
   {
    "duration": 69,
    "start_time": "2024-11-18T15:26:32.420Z"
   },
   {
    "duration": 41,
    "start_time": "2024-11-18T15:27:20.000Z"
   },
   {
    "duration": 69,
    "start_time": "2024-11-18T15:31:31.454Z"
   },
   {
    "duration": 32,
    "start_time": "2024-11-18T15:36:09.560Z"
   },
   {
    "duration": 31,
    "start_time": "2024-11-18T15:37:31.371Z"
   },
   {
    "duration": 42,
    "start_time": "2024-11-18T15:37:57.491Z"
   },
   {
    "duration": 30,
    "start_time": "2024-11-18T15:38:34.421Z"
   },
   {
    "duration": 33,
    "start_time": "2024-11-18T15:38:45.261Z"
   },
   {
    "duration": 40,
    "start_time": "2024-11-18T15:43:52.533Z"
   },
   {
    "duration": 45,
    "start_time": "2024-11-18T15:44:39.105Z"
   },
   {
    "duration": 63,
    "start_time": "2024-11-18T15:50:13.669Z"
   },
   {
    "duration": 1007,
    "start_time": "2024-11-18T16:13:22.303Z"
   },
   {
    "duration": 75,
    "start_time": "2024-11-18T16:13:23.313Z"
   },
   {
    "duration": 19,
    "start_time": "2024-11-18T16:13:23.390Z"
   },
   {
    "duration": 17,
    "start_time": "2024-11-18T16:13:23.411Z"
   },
   {
    "duration": 16,
    "start_time": "2024-11-18T16:13:23.431Z"
   },
   {
    "duration": 11,
    "start_time": "2024-11-18T16:13:23.449Z"
   },
   {
    "duration": 34,
    "start_time": "2024-11-18T16:13:23.462Z"
   },
   {
    "duration": 10,
    "start_time": "2024-11-18T16:13:23.499Z"
   },
   {
    "duration": 18,
    "start_time": "2024-11-18T16:13:23.511Z"
   },
   {
    "duration": 9,
    "start_time": "2024-11-18T16:13:23.532Z"
   },
   {
    "duration": 9,
    "start_time": "2024-11-18T16:13:23.542Z"
   },
   {
    "duration": 10,
    "start_time": "2024-11-18T16:13:23.553Z"
   },
   {
    "duration": 10,
    "start_time": "2024-11-18T16:13:23.564Z"
   },
   {
    "duration": 9,
    "start_time": "2024-11-18T16:13:23.577Z"
   },
   {
    "duration": 459,
    "start_time": "2024-11-18T16:13:23.588Z"
   },
   {
    "duration": 6,
    "start_time": "2024-11-18T16:13:24.048Z"
   },
   {
    "duration": 184,
    "start_time": "2024-11-18T16:13:24.055Z"
   },
   {
    "duration": 142,
    "start_time": "2024-11-18T16:13:24.243Z"
   },
   {
    "duration": 7,
    "start_time": "2024-11-18T16:13:24.387Z"
   },
   {
    "duration": 269,
    "start_time": "2024-11-18T16:13:24.395Z"
   },
   {
    "duration": 204,
    "start_time": "2024-11-18T16:13:24.666Z"
   },
   {
    "duration": 257,
    "start_time": "2024-11-18T16:13:24.872Z"
   },
   {
    "duration": 243,
    "start_time": "2024-11-18T16:13:25.131Z"
   },
   {
    "duration": 245,
    "start_time": "2024-11-18T16:13:25.376Z"
   },
   {
    "duration": 46,
    "start_time": "2024-11-18T16:13:25.624Z"
   },
   {
    "duration": 366,
    "start_time": "2024-11-18T16:13:25.672Z"
   },
   {
    "duration": 254,
    "start_time": "2024-11-18T16:13:26.040Z"
   },
   {
    "duration": 262,
    "start_time": "2024-11-18T16:13:26.296Z"
   },
   {
    "duration": 248,
    "start_time": "2024-11-18T16:13:26.559Z"
   },
   {
    "duration": 79,
    "start_time": "2024-11-18T16:13:26.823Z"
   },
   {
    "duration": 193,
    "start_time": "2024-11-18T16:13:26.904Z"
   },
   {
    "duration": 204,
    "start_time": "2024-11-18T16:16:18.498Z"
   },
   {
    "duration": 5,
    "start_time": "2024-11-18T16:17:10.636Z"
   },
   {
    "duration": 6,
    "start_time": "2024-11-18T16:17:25.538Z"
   },
   {
    "duration": 6,
    "start_time": "2024-11-18T16:17:40.180Z"
   },
   {
    "duration": 6,
    "start_time": "2024-11-18T16:17:56.998Z"
   },
   {
    "duration": 7,
    "start_time": "2024-11-18T16:18:04.956Z"
   },
   {
    "duration": 6,
    "start_time": "2024-11-18T16:18:15.562Z"
   },
   {
    "duration": 6,
    "start_time": "2024-11-18T16:20:34.269Z"
   },
   {
    "duration": 7,
    "start_time": "2024-11-18T16:27:01.642Z"
   },
   {
    "duration": 872,
    "start_time": "2024-11-18T16:37:24.778Z"
   },
   {
    "duration": 74,
    "start_time": "2024-11-18T16:37:25.652Z"
   },
   {
    "duration": 24,
    "start_time": "2024-11-18T16:37:25.728Z"
   },
   {
    "duration": 9,
    "start_time": "2024-11-18T16:37:25.755Z"
   },
   {
    "duration": 9,
    "start_time": "2024-11-18T16:37:25.766Z"
   },
   {
    "duration": 17,
    "start_time": "2024-11-18T16:37:25.776Z"
   },
   {
    "duration": 40,
    "start_time": "2024-11-18T16:37:25.796Z"
   },
   {
    "duration": 10,
    "start_time": "2024-11-18T16:37:25.842Z"
   },
   {
    "duration": 13,
    "start_time": "2024-11-18T16:37:25.854Z"
   },
   {
    "duration": 4,
    "start_time": "2024-11-18T16:37:25.869Z"
   },
   {
    "duration": 9,
    "start_time": "2024-11-18T16:37:25.874Z"
   },
   {
    "duration": 37,
    "start_time": "2024-11-18T16:37:25.884Z"
   },
   {
    "duration": 18,
    "start_time": "2024-11-18T16:37:25.923Z"
   },
   {
    "duration": 9,
    "start_time": "2024-11-18T16:37:25.943Z"
   },
   {
    "duration": 443,
    "start_time": "2024-11-18T16:37:25.953Z"
   },
   {
    "duration": 7,
    "start_time": "2024-11-18T16:37:26.398Z"
   },
   {
    "duration": 153,
    "start_time": "2024-11-18T16:37:26.406Z"
   },
   {
    "duration": 135,
    "start_time": "2024-11-18T16:37:26.561Z"
   },
   {
    "duration": 21,
    "start_time": "2024-11-18T16:37:26.698Z"
   },
   {
    "duration": 241,
    "start_time": "2024-11-18T16:37:26.721Z"
   },
   {
    "duration": 197,
    "start_time": "2024-11-18T16:37:26.964Z"
   },
   {
    "duration": 221,
    "start_time": "2024-11-18T16:37:27.162Z"
   },
   {
    "duration": 238,
    "start_time": "2024-11-18T16:37:27.385Z"
   },
   {
    "duration": 265,
    "start_time": "2024-11-18T16:37:27.626Z"
   },
   {
    "duration": 148,
    "start_time": "2024-11-18T16:37:27.893Z"
   },
   {
    "duration": 310,
    "start_time": "2024-11-18T16:37:28.042Z"
   },
   {
    "duration": 240,
    "start_time": "2024-11-18T16:37:28.354Z"
   },
   {
    "duration": 247,
    "start_time": "2024-11-18T16:37:28.598Z"
   },
   {
    "duration": 239,
    "start_time": "2024-11-18T16:37:28.846Z"
   },
   {
    "duration": 64,
    "start_time": "2024-11-18T16:37:29.087Z"
   },
   {
    "duration": 6,
    "start_time": "2024-11-18T16:37:29.152Z"
   },
   {
    "duration": 5,
    "start_time": "2024-11-18T16:37:29.160Z"
   },
   {
    "duration": 6,
    "start_time": "2024-11-18T16:49:34.893Z"
   },
   {
    "duration": 6,
    "start_time": "2024-11-18T16:57:12.894Z"
   },
   {
    "duration": 5,
    "start_time": "2024-11-18T16:57:17.905Z"
   },
   {
    "duration": 1069,
    "start_time": "2024-11-18T17:03:15.275Z"
   },
   {
    "duration": 9,
    "start_time": "2024-11-18T17:05:56.375Z"
   },
   {
    "duration": 10,
    "start_time": "2024-11-18T17:06:06.937Z"
   },
   {
    "duration": 26,
    "start_time": "2024-11-18T17:06:47.912Z"
   },
   {
    "duration": 6,
    "start_time": "2024-11-18T17:07:00.405Z"
   },
   {
    "duration": 5,
    "start_time": "2024-11-18T17:07:19.851Z"
   },
   {
    "duration": 9,
    "start_time": "2024-11-18T17:07:28.739Z"
   },
   {
    "duration": 842,
    "start_time": "2024-11-18T17:42:46.024Z"
   },
   {
    "duration": 68,
    "start_time": "2024-11-18T17:42:46.868Z"
   },
   {
    "duration": 14,
    "start_time": "2024-11-18T17:42:46.938Z"
   },
   {
    "duration": 8,
    "start_time": "2024-11-18T17:42:46.954Z"
   },
   {
    "duration": 15,
    "start_time": "2024-11-18T17:42:46.963Z"
   },
   {
    "duration": 23,
    "start_time": "2024-11-18T17:42:46.979Z"
   },
   {
    "duration": 23,
    "start_time": "2024-11-18T17:42:47.003Z"
   },
   {
    "duration": 16,
    "start_time": "2024-11-18T17:42:47.027Z"
   },
   {
    "duration": 13,
    "start_time": "2024-11-18T17:42:47.044Z"
   },
   {
    "duration": 3,
    "start_time": "2024-11-18T17:42:47.060Z"
   },
   {
    "duration": 8,
    "start_time": "2024-11-18T17:42:47.064Z"
   },
   {
    "duration": 7,
    "start_time": "2024-11-18T17:42:47.073Z"
   },
   {
    "duration": 10,
    "start_time": "2024-11-18T17:42:47.081Z"
   },
   {
    "duration": 32,
    "start_time": "2024-11-18T17:42:47.093Z"
   },
   {
    "duration": 404,
    "start_time": "2024-11-18T17:42:47.127Z"
   },
   {
    "duration": 6,
    "start_time": "2024-11-18T17:42:47.533Z"
   },
   {
    "duration": 144,
    "start_time": "2024-11-18T17:42:47.541Z"
   },
   {
    "duration": 125,
    "start_time": "2024-11-18T17:42:47.686Z"
   },
   {
    "duration": 9,
    "start_time": "2024-11-18T17:42:47.813Z"
   },
   {
    "duration": 215,
    "start_time": "2024-11-18T17:42:47.824Z"
   },
   {
    "duration": 174,
    "start_time": "2024-11-18T17:42:48.041Z"
   },
   {
    "duration": 194,
    "start_time": "2024-11-18T17:42:48.217Z"
   },
   {
    "duration": 199,
    "start_time": "2024-11-18T17:42:48.412Z"
   },
   {
    "duration": 234,
    "start_time": "2024-11-18T17:42:48.613Z"
   },
   {
    "duration": 119,
    "start_time": "2024-11-18T17:42:48.848Z"
   },
   {
    "duration": 253,
    "start_time": "2024-11-18T17:42:48.968Z"
   },
   {
    "duration": 221,
    "start_time": "2024-11-18T17:42:49.222Z"
   },
   {
    "duration": 228,
    "start_time": "2024-11-18T17:42:49.446Z"
   },
   {
    "duration": 216,
    "start_time": "2024-11-18T17:42:49.676Z"
   },
   {
    "duration": 56,
    "start_time": "2024-11-18T17:42:49.894Z"
   },
   {
    "duration": 6,
    "start_time": "2024-11-18T17:42:49.952Z"
   },
   {
    "duration": 5,
    "start_time": "2024-11-18T17:42:49.960Z"
   },
   {
    "duration": 18,
    "start_time": "2024-11-18T17:42:49.967Z"
   },
   {
    "duration": 16,
    "start_time": "2024-11-18T17:42:49.986Z"
   },
   {
    "duration": 909,
    "start_time": "2024-11-18T18:12:59.009Z"
   },
   {
    "duration": 71,
    "start_time": "2024-11-18T18:12:59.920Z"
   },
   {
    "duration": 17,
    "start_time": "2024-11-18T18:12:59.992Z"
   },
   {
    "duration": 14,
    "start_time": "2024-11-18T18:13:00.011Z"
   },
   {
    "duration": 43,
    "start_time": "2024-11-18T18:13:00.028Z"
   },
   {
    "duration": 49,
    "start_time": "2024-11-18T18:13:00.072Z"
   },
   {
    "duration": 34,
    "start_time": "2024-11-18T18:13:00.122Z"
   },
   {
    "duration": 44,
    "start_time": "2024-11-18T18:13:00.158Z"
   },
   {
    "duration": 60,
    "start_time": "2024-11-18T18:13:00.204Z"
   },
   {
    "duration": 29,
    "start_time": "2024-11-18T18:13:00.266Z"
   },
   {
    "duration": 32,
    "start_time": "2024-11-18T18:13:00.297Z"
   },
   {
    "duration": 16,
    "start_time": "2024-11-18T18:13:00.331Z"
   },
   {
    "duration": 23,
    "start_time": "2024-11-18T18:13:00.349Z"
   },
   {
    "duration": 35,
    "start_time": "2024-11-18T18:13:00.375Z"
   },
   {
    "duration": 421,
    "start_time": "2024-11-18T18:13:00.411Z"
   },
   {
    "duration": 5,
    "start_time": "2024-11-18T18:13:00.834Z"
   },
   {
    "duration": 139,
    "start_time": "2024-11-18T18:13:00.841Z"
   },
   {
    "duration": 139,
    "start_time": "2024-11-18T18:13:00.981Z"
   },
   {
    "duration": 6,
    "start_time": "2024-11-18T18:13:01.121Z"
   },
   {
    "duration": 244,
    "start_time": "2024-11-18T18:13:01.128Z"
   },
   {
    "duration": 183,
    "start_time": "2024-11-18T18:13:01.374Z"
   },
   {
    "duration": 233,
    "start_time": "2024-11-18T18:13:01.559Z"
   },
   {
    "duration": 215,
    "start_time": "2024-11-18T18:13:01.794Z"
   },
   {
    "duration": 234,
    "start_time": "2024-11-18T18:13:02.011Z"
   },
   {
    "duration": 20,
    "start_time": "2024-11-18T18:13:02.247Z"
   },
   {
    "duration": 335,
    "start_time": "2024-11-18T18:13:02.269Z"
   },
   {
    "duration": 225,
    "start_time": "2024-11-18T18:13:02.605Z"
   },
   {
    "duration": 248,
    "start_time": "2024-11-18T18:13:02.832Z"
   },
   {
    "duration": 227,
    "start_time": "2024-11-18T18:13:03.082Z"
   },
   {
    "duration": 53,
    "start_time": "2024-11-18T18:13:03.311Z"
   },
   {
    "duration": 7,
    "start_time": "2024-11-18T18:13:03.366Z"
   },
   {
    "duration": 53,
    "start_time": "2024-11-18T18:13:03.374Z"
   },
   {
    "duration": 19,
    "start_time": "2024-11-18T18:13:03.429Z"
   },
   {
    "duration": 12,
    "start_time": "2024-11-18T18:13:03.450Z"
   },
   {
    "duration": 815,
    "start_time": "2024-11-18T18:21:37.849Z"
   },
   {
    "duration": 79,
    "start_time": "2024-11-18T18:21:38.666Z"
   },
   {
    "duration": 17,
    "start_time": "2024-11-18T18:21:38.756Z"
   },
   {
    "duration": 8,
    "start_time": "2024-11-18T18:21:38.775Z"
   },
   {
    "duration": 6,
    "start_time": "2024-11-18T18:21:38.784Z"
   },
   {
    "duration": 13,
    "start_time": "2024-11-18T18:21:38.792Z"
   },
   {
    "duration": 39,
    "start_time": "2024-11-18T18:21:38.807Z"
   },
   {
    "duration": 11,
    "start_time": "2024-11-18T18:21:38.854Z"
   },
   {
    "duration": 12,
    "start_time": "2024-11-18T18:21:38.867Z"
   },
   {
    "duration": 3,
    "start_time": "2024-11-18T18:21:38.880Z"
   },
   {
    "duration": 16,
    "start_time": "2024-11-18T18:21:38.885Z"
   },
   {
    "duration": 7,
    "start_time": "2024-11-18T18:21:38.902Z"
   },
   {
    "duration": 35,
    "start_time": "2024-11-18T18:21:38.912Z"
   },
   {
    "duration": 10,
    "start_time": "2024-11-18T18:21:38.959Z"
   },
   {
    "duration": 404,
    "start_time": "2024-11-18T18:21:38.971Z"
   },
   {
    "duration": 5,
    "start_time": "2024-11-18T18:21:39.377Z"
   },
   {
    "duration": 181,
    "start_time": "2024-11-18T18:21:39.383Z"
   },
   {
    "duration": 124,
    "start_time": "2024-11-18T18:21:39.566Z"
   },
   {
    "duration": 6,
    "start_time": "2024-11-18T18:21:39.692Z"
   },
   {
    "duration": 225,
    "start_time": "2024-11-18T18:21:39.699Z"
   },
   {
    "duration": 182,
    "start_time": "2024-11-18T18:21:39.925Z"
   },
   {
    "duration": 235,
    "start_time": "2024-11-18T18:21:40.108Z"
   },
   {
    "duration": 219,
    "start_time": "2024-11-18T18:21:40.347Z"
   },
   {
    "duration": 227,
    "start_time": "2024-11-18T18:21:40.567Z"
   },
   {
    "duration": 37,
    "start_time": "2024-11-18T18:21:40.796Z"
   },
   {
    "duration": 318,
    "start_time": "2024-11-18T18:21:40.835Z"
   },
   {
    "duration": 205,
    "start_time": "2024-11-18T18:21:41.160Z"
   },
   {
    "duration": 217,
    "start_time": "2024-11-18T18:21:41.366Z"
   },
   {
    "duration": 210,
    "start_time": "2024-11-18T18:21:41.584Z"
   },
   {
    "duration": 80,
    "start_time": "2024-11-18T18:21:41.796Z"
   },
   {
    "duration": 7,
    "start_time": "2024-11-18T18:21:41.878Z"
   },
   {
    "duration": 6,
    "start_time": "2024-11-18T18:21:41.886Z"
   },
   {
    "duration": 6,
    "start_time": "2024-11-18T18:21:41.893Z"
   },
   {
    "duration": 34,
    "start_time": "2024-11-18T18:21:41.900Z"
   },
   {
    "duration": 11,
    "start_time": "2024-11-18T18:26:49.670Z"
   },
   {
    "duration": 74,
    "start_time": "2024-11-18T19:41:32.372Z"
   },
   {
    "duration": 115,
    "start_time": "2024-11-18T19:45:07.489Z"
   },
   {
    "duration": 181,
    "start_time": "2024-11-18T19:45:45.370Z"
   },
   {
    "duration": 16,
    "start_time": "2024-11-18T19:46:12.289Z"
   },
   {
    "duration": 14,
    "start_time": "2024-11-18T19:46:38.112Z"
   },
   {
    "duration": 13,
    "start_time": "2024-11-18T19:47:50.019Z"
   },
   {
    "duration": 0,
    "start_time": "2024-11-18T19:48:44.435Z"
   },
   {
    "duration": 0,
    "start_time": "2024-11-18T19:48:44.437Z"
   },
   {
    "duration": 0,
    "start_time": "2024-11-18T19:48:44.438Z"
   },
   {
    "duration": 0,
    "start_time": "2024-11-18T19:48:44.439Z"
   },
   {
    "duration": 0,
    "start_time": "2024-11-18T19:48:44.440Z"
   },
   {
    "duration": 0,
    "start_time": "2024-11-18T19:48:44.441Z"
   },
   {
    "duration": 0,
    "start_time": "2024-11-18T19:48:44.442Z"
   },
   {
    "duration": 0,
    "start_time": "2024-11-18T19:48:44.443Z"
   },
   {
    "duration": 0,
    "start_time": "2024-11-18T19:48:44.444Z"
   },
   {
    "duration": 0,
    "start_time": "2024-11-18T19:48:44.445Z"
   },
   {
    "duration": 0,
    "start_time": "2024-11-18T19:48:44.446Z"
   },
   {
    "duration": 0,
    "start_time": "2024-11-18T19:48:44.447Z"
   },
   {
    "duration": 0,
    "start_time": "2024-11-18T19:48:44.448Z"
   },
   {
    "duration": 0,
    "start_time": "2024-11-18T19:48:44.449Z"
   },
   {
    "duration": 0,
    "start_time": "2024-11-18T19:48:44.450Z"
   },
   {
    "duration": 0,
    "start_time": "2024-11-18T19:48:44.451Z"
   },
   {
    "duration": 0,
    "start_time": "2024-11-18T19:48:44.452Z"
   },
   {
    "duration": 0,
    "start_time": "2024-11-18T19:48:44.453Z"
   },
   {
    "duration": 0,
    "start_time": "2024-11-18T19:48:44.454Z"
   },
   {
    "duration": 0,
    "start_time": "2024-11-18T19:48:44.455Z"
   },
   {
    "duration": 0,
    "start_time": "2024-11-18T19:48:44.518Z"
   },
   {
    "duration": 0,
    "start_time": "2024-11-18T19:48:44.519Z"
   },
   {
    "duration": 0,
    "start_time": "2024-11-18T19:48:44.520Z"
   },
   {
    "duration": 0,
    "start_time": "2024-11-18T19:48:44.520Z"
   },
   {
    "duration": 0,
    "start_time": "2024-11-18T19:48:44.521Z"
   },
   {
    "duration": 0,
    "start_time": "2024-11-18T19:48:44.522Z"
   },
   {
    "duration": 0,
    "start_time": "2024-11-18T19:48:44.523Z"
   },
   {
    "duration": 0,
    "start_time": "2024-11-18T19:48:44.524Z"
   },
   {
    "duration": 0,
    "start_time": "2024-11-18T19:48:44.525Z"
   },
   {
    "duration": 838,
    "start_time": "2024-11-18T19:49:05.641Z"
   },
   {
    "duration": 66,
    "start_time": "2024-11-18T19:49:06.481Z"
   },
   {
    "duration": 15,
    "start_time": "2024-11-18T19:49:06.549Z"
   },
   {
    "duration": 24,
    "start_time": "2024-11-18T19:49:06.566Z"
   },
   {
    "duration": 30,
    "start_time": "2024-11-18T19:49:06.592Z"
   },
   {
    "duration": 33,
    "start_time": "2024-11-18T19:49:06.624Z"
   },
   {
    "duration": 77,
    "start_time": "2024-11-18T19:49:06.660Z"
   },
   {
    "duration": 28,
    "start_time": "2024-11-18T19:49:06.739Z"
   },
   {
    "duration": 33,
    "start_time": "2024-11-18T19:49:06.769Z"
   },
   {
    "duration": 16,
    "start_time": "2024-11-18T19:49:06.804Z"
   },
   {
    "duration": 28,
    "start_time": "2024-11-18T19:49:06.822Z"
   },
   {
    "duration": 37,
    "start_time": "2024-11-18T19:49:06.852Z"
   },
   {
    "duration": 11,
    "start_time": "2024-11-18T19:49:06.891Z"
   },
   {
    "duration": 8,
    "start_time": "2024-11-18T19:49:06.905Z"
   },
   {
    "duration": 307,
    "start_time": "2024-11-18T19:49:06.915Z"
   },
   {
    "duration": 0,
    "start_time": "2024-11-18T19:49:07.223Z"
   },
   {
    "duration": 0,
    "start_time": "2024-11-18T19:49:07.224Z"
   },
   {
    "duration": 0,
    "start_time": "2024-11-18T19:49:07.225Z"
   },
   {
    "duration": 0,
    "start_time": "2024-11-18T19:49:07.227Z"
   },
   {
    "duration": 0,
    "start_time": "2024-11-18T19:49:07.228Z"
   },
   {
    "duration": 0,
    "start_time": "2024-11-18T19:49:07.229Z"
   },
   {
    "duration": 0,
    "start_time": "2024-11-18T19:49:07.230Z"
   },
   {
    "duration": 0,
    "start_time": "2024-11-18T19:49:07.232Z"
   },
   {
    "duration": 0,
    "start_time": "2024-11-18T19:49:07.233Z"
   },
   {
    "duration": 0,
    "start_time": "2024-11-18T19:49:07.234Z"
   },
   {
    "duration": 0,
    "start_time": "2024-11-18T19:49:07.235Z"
   },
   {
    "duration": 0,
    "start_time": "2024-11-18T19:49:07.284Z"
   },
   {
    "duration": 0,
    "start_time": "2024-11-18T19:49:07.318Z"
   },
   {
    "duration": 0,
    "start_time": "2024-11-18T19:49:07.319Z"
   },
   {
    "duration": 153,
    "start_time": "2024-11-18T19:50:41.800Z"
   },
   {
    "duration": 131,
    "start_time": "2024-11-18T19:50:48.548Z"
   },
   {
    "duration": 200,
    "start_time": "2024-11-18T19:50:55.137Z"
   },
   {
    "duration": 228,
    "start_time": "2024-11-18T19:51:07.291Z"
   },
   {
    "duration": 225,
    "start_time": "2024-11-18T19:51:40.221Z"
   },
   {
    "duration": 205,
    "start_time": "2024-11-18T19:52:10.951Z"
   },
   {
    "duration": 163,
    "start_time": "2024-11-18T19:56:50.345Z"
   },
   {
    "duration": 235,
    "start_time": "2024-11-18T19:58:19.802Z"
   },
   {
    "duration": 26,
    "start_time": "2024-11-18T19:59:19.875Z"
   },
   {
    "duration": 159,
    "start_time": "2024-11-18T20:00:06.672Z"
   },
   {
    "duration": 163,
    "start_time": "2024-11-18T20:00:52.431Z"
   },
   {
    "duration": 170,
    "start_time": "2024-11-18T20:01:21.511Z"
   },
   {
    "duration": 180,
    "start_time": "2024-11-18T20:01:56.187Z"
   },
   {
    "duration": 159,
    "start_time": "2024-11-18T20:02:18.682Z"
   },
   {
    "duration": 182,
    "start_time": "2024-11-18T20:02:25.040Z"
   },
   {
    "duration": 175,
    "start_time": "2024-11-18T20:02:48.430Z"
   },
   {
    "duration": 174,
    "start_time": "2024-11-18T20:03:00.906Z"
   },
   {
    "duration": 168,
    "start_time": "2024-11-18T20:03:22.438Z"
   },
   {
    "duration": 182,
    "start_time": "2024-11-18T20:04:06.643Z"
   },
   {
    "duration": 13,
    "start_time": "2024-11-18T20:04:45.290Z"
   },
   {
    "duration": 187,
    "start_time": "2024-11-18T20:05:50.600Z"
   },
   {
    "duration": 3,
    "start_time": "2024-11-18T20:06:59.601Z"
   },
   {
    "duration": 8,
    "start_time": "2024-11-18T20:07:04.861Z"
   },
   {
    "duration": 8,
    "start_time": "2024-11-18T20:07:20.447Z"
   },
   {
    "duration": 7,
    "start_time": "2024-11-18T20:07:33.192Z"
   },
   {
    "duration": 9,
    "start_time": "2024-11-18T20:07:38.619Z"
   },
   {
    "duration": 20,
    "start_time": "2024-11-18T21:06:43.301Z"
   },
   {
    "duration": 230,
    "start_time": "2024-11-18T21:06:54.391Z"
   },
   {
    "duration": 16,
    "start_time": "2024-11-18T21:09:01.387Z"
   },
   {
    "duration": 80,
    "start_time": "2024-11-18T21:09:50.271Z"
   },
   {
    "duration": 12,
    "start_time": "2024-11-18T21:10:03.932Z"
   },
   {
    "duration": 11,
    "start_time": "2024-11-18T21:10:12.042Z"
   },
   {
    "duration": 16,
    "start_time": "2024-11-18T21:10:18.577Z"
   },
   {
    "duration": 15,
    "start_time": "2024-11-18T21:10:34.957Z"
   },
   {
    "duration": 119,
    "start_time": "2024-11-18T21:10:44.086Z"
   },
   {
    "duration": 8,
    "start_time": "2024-11-18T21:13:58.295Z"
   },
   {
    "duration": 6,
    "start_time": "2024-11-18T21:14:23.101Z"
   },
   {
    "duration": 8,
    "start_time": "2024-11-18T21:14:40.385Z"
   },
   {
    "duration": 893,
    "start_time": "2024-11-18T21:17:22.806Z"
   },
   {
    "duration": 72,
    "start_time": "2024-11-18T21:17:23.701Z"
   },
   {
    "duration": 15,
    "start_time": "2024-11-18T21:17:23.775Z"
   },
   {
    "duration": 8,
    "start_time": "2024-11-18T21:17:23.792Z"
   },
   {
    "duration": 12,
    "start_time": "2024-11-18T21:17:23.802Z"
   },
   {
    "duration": 34,
    "start_time": "2024-11-18T21:17:23.815Z"
   },
   {
    "duration": 12,
    "start_time": "2024-11-18T21:17:23.851Z"
   },
   {
    "duration": 13,
    "start_time": "2024-11-18T21:17:23.865Z"
   },
   {
    "duration": 15,
    "start_time": "2024-11-18T21:17:23.880Z"
   },
   {
    "duration": 4,
    "start_time": "2024-11-18T21:17:23.896Z"
   },
   {
    "duration": 7,
    "start_time": "2024-11-18T21:17:23.902Z"
   },
   {
    "duration": 8,
    "start_time": "2024-11-18T21:17:23.911Z"
   },
   {
    "duration": 7,
    "start_time": "2024-11-18T21:17:23.921Z"
   },
   {
    "duration": 7,
    "start_time": "2024-11-18T21:17:23.929Z"
   },
   {
    "duration": 464,
    "start_time": "2024-11-18T21:17:23.938Z"
   },
   {
    "duration": 15,
    "start_time": "2024-11-18T21:17:24.404Z"
   },
   {
    "duration": 137,
    "start_time": "2024-11-18T21:17:24.421Z"
   },
   {
    "duration": 8,
    "start_time": "2024-11-18T21:17:24.560Z"
   },
   {
    "duration": 231,
    "start_time": "2024-11-18T21:17:24.570Z"
   },
   {
    "duration": 204,
    "start_time": "2024-11-18T21:17:24.805Z"
   },
   {
    "duration": 242,
    "start_time": "2024-11-18T21:17:25.011Z"
   },
   {
    "duration": 31,
    "start_time": "2024-11-18T21:17:25.254Z"
   },
   {
    "duration": 219,
    "start_time": "2024-11-18T21:17:25.287Z"
   },
   {
    "duration": 237,
    "start_time": "2024-11-18T21:17:25.508Z"
   },
   {
    "duration": 300,
    "start_time": "2024-11-18T21:17:25.747Z"
   },
   {
    "duration": 219,
    "start_time": "2024-11-18T21:17:26.050Z"
   },
   {
    "duration": 56,
    "start_time": "2024-11-18T21:17:26.271Z"
   },
   {
    "duration": 8,
    "start_time": "2024-11-18T21:17:26.328Z"
   },
   {
    "duration": 7,
    "start_time": "2024-11-18T21:17:26.337Z"
   },
   {
    "duration": 15,
    "start_time": "2024-11-18T21:17:26.345Z"
   },
   {
    "duration": 18,
    "start_time": "2024-11-18T21:17:26.361Z"
   },
   {
    "duration": 144,
    "start_time": "2024-11-18T21:18:34.246Z"
   },
   {
    "duration": 304,
    "start_time": "2024-11-18T21:19:58.600Z"
   },
   {
    "duration": 221,
    "start_time": "2024-11-18T21:20:13.800Z"
   },
   {
    "duration": 877,
    "start_time": "2024-11-18T21:20:59.616Z"
   },
   {
    "duration": 67,
    "start_time": "2024-11-18T21:21:00.495Z"
   },
   {
    "duration": 16,
    "start_time": "2024-11-18T21:21:00.564Z"
   },
   {
    "duration": 13,
    "start_time": "2024-11-18T21:21:00.582Z"
   },
   {
    "duration": 7,
    "start_time": "2024-11-18T21:21:00.597Z"
   },
   {
    "duration": 16,
    "start_time": "2024-11-18T21:21:00.605Z"
   },
   {
    "duration": 15,
    "start_time": "2024-11-18T21:21:00.622Z"
   },
   {
    "duration": 10,
    "start_time": "2024-11-18T21:21:00.638Z"
   },
   {
    "duration": 9,
    "start_time": "2024-11-18T21:21:00.650Z"
   },
   {
    "duration": 5,
    "start_time": "2024-11-18T21:21:00.662Z"
   },
   {
    "duration": 25,
    "start_time": "2024-11-18T21:21:00.668Z"
   },
   {
    "duration": 10,
    "start_time": "2024-11-18T21:21:00.694Z"
   },
   {
    "duration": 17,
    "start_time": "2024-11-18T21:21:00.706Z"
   },
   {
    "duration": 11,
    "start_time": "2024-11-18T21:21:00.724Z"
   },
   {
    "duration": 460,
    "start_time": "2024-11-18T21:21:00.737Z"
   },
   {
    "duration": 8,
    "start_time": "2024-11-18T21:21:01.200Z"
   },
   {
    "duration": 149,
    "start_time": "2024-11-18T21:21:01.218Z"
   },
   {
    "duration": 9,
    "start_time": "2024-11-18T21:21:01.369Z"
   },
   {
    "duration": 255,
    "start_time": "2024-11-18T21:21:01.379Z"
   },
   {
    "duration": 232,
    "start_time": "2024-11-18T21:21:01.636Z"
   },
   {
    "duration": 245,
    "start_time": "2024-11-18T21:21:01.872Z"
   },
   {
    "duration": 23,
    "start_time": "2024-11-18T21:21:02.119Z"
   },
   {
    "duration": 223,
    "start_time": "2024-11-18T21:21:02.144Z"
   },
   {
    "duration": 231,
    "start_time": "2024-11-18T21:21:02.369Z"
   },
   {
    "duration": 303,
    "start_time": "2024-11-18T21:21:02.602Z"
   },
   {
    "duration": 288,
    "start_time": "2024-11-18T21:21:02.908Z"
   },
   {
    "duration": 62,
    "start_time": "2024-11-18T21:21:03.198Z"
   },
   {
    "duration": 8,
    "start_time": "2024-11-18T21:21:03.263Z"
   },
   {
    "duration": 18,
    "start_time": "2024-11-18T21:21:03.272Z"
   },
   {
    "duration": 6,
    "start_time": "2024-11-18T21:21:03.293Z"
   },
   {
    "duration": 20,
    "start_time": "2024-11-18T21:21:03.301Z"
   },
   {
    "duration": 112,
    "start_time": "2024-11-18T21:24:35.593Z"
   },
   {
    "duration": 5,
    "start_time": "2024-11-18T21:24:41.321Z"
   },
   {
    "duration": 9,
    "start_time": "2024-11-18T21:25:06.602Z"
   },
   {
    "duration": 5,
    "start_time": "2024-11-18T21:25:12.778Z"
   },
   {
    "duration": 6,
    "start_time": "2024-11-18T21:26:32.593Z"
   },
   {
    "duration": 6,
    "start_time": "2024-11-18T21:26:53.940Z"
   },
   {
    "duration": 4,
    "start_time": "2024-11-18T21:27:38.474Z"
   },
   {
    "duration": 5,
    "start_time": "2024-11-18T21:30:32.474Z"
   },
   {
    "duration": 9,
    "start_time": "2024-11-18T21:31:29.434Z"
   },
   {
    "duration": 13,
    "start_time": "2024-11-18T21:31:35.045Z"
   },
   {
    "duration": 12,
    "start_time": "2024-11-18T21:31:39.628Z"
   },
   {
    "duration": 840,
    "start_time": "2024-11-18T22:40:49.769Z"
   },
   {
    "duration": 67,
    "start_time": "2024-11-18T22:40:50.611Z"
   },
   {
    "duration": 14,
    "start_time": "2024-11-18T22:40:50.680Z"
   },
   {
    "duration": 8,
    "start_time": "2024-11-18T22:40:50.696Z"
   },
   {
    "duration": 11,
    "start_time": "2024-11-18T22:40:50.705Z"
   },
   {
    "duration": 11,
    "start_time": "2024-11-18T22:40:50.718Z"
   },
   {
    "duration": 15,
    "start_time": "2024-11-18T22:40:50.730Z"
   },
   {
    "duration": 9,
    "start_time": "2024-11-18T22:40:50.747Z"
   },
   {
    "duration": 12,
    "start_time": "2024-11-18T22:40:50.758Z"
   },
   {
    "duration": 8,
    "start_time": "2024-11-18T22:40:50.772Z"
   },
   {
    "duration": 7,
    "start_time": "2024-11-18T22:40:50.781Z"
   },
   {
    "duration": 32,
    "start_time": "2024-11-18T22:40:50.789Z"
   },
   {
    "duration": 8,
    "start_time": "2024-11-18T22:40:50.822Z"
   },
   {
    "duration": 10,
    "start_time": "2024-11-18T22:40:50.831Z"
   },
   {
    "duration": 457,
    "start_time": "2024-11-18T22:40:50.842Z"
   },
   {
    "duration": 7,
    "start_time": "2024-11-18T22:40:51.300Z"
   },
   {
    "duration": 163,
    "start_time": "2024-11-18T22:40:51.309Z"
   },
   {
    "duration": 9,
    "start_time": "2024-11-18T22:40:51.475Z"
   },
   {
    "duration": 226,
    "start_time": "2024-11-18T22:40:51.486Z"
   },
   {
    "duration": 218,
    "start_time": "2024-11-18T22:40:51.718Z"
   },
   {
    "duration": 239,
    "start_time": "2024-11-18T22:40:51.938Z"
   },
   {
    "duration": 22,
    "start_time": "2024-11-18T22:40:52.179Z"
   },
   {
    "duration": 5,
    "start_time": "2024-11-18T22:40:52.202Z"
   },
   {
    "duration": 4,
    "start_time": "2024-11-18T22:40:52.218Z"
   },
   {
    "duration": 12,
    "start_time": "2024-11-18T22:40:52.223Z"
   },
   {
    "duration": 217,
    "start_time": "2024-11-18T22:40:52.236Z"
   },
   {
    "duration": 214,
    "start_time": "2024-11-18T22:40:52.455Z"
   },
   {
    "duration": 283,
    "start_time": "2024-11-18T22:40:52.672Z"
   },
   {
    "duration": 234,
    "start_time": "2024-11-18T22:40:52.957Z"
   },
   {
    "duration": 56,
    "start_time": "2024-11-18T22:40:53.193Z"
   },
   {
    "duration": 7,
    "start_time": "2024-11-18T22:40:53.250Z"
   },
   {
    "duration": 11,
    "start_time": "2024-11-18T22:40:53.259Z"
   },
   {
    "duration": 5,
    "start_time": "2024-11-18T22:40:53.272Z"
   },
   {
    "duration": 6,
    "start_time": "2024-11-18T22:40:53.279Z"
   },
   {
    "duration": 941,
    "start_time": "2024-11-18T23:16:13.121Z"
   },
   {
    "duration": 68,
    "start_time": "2024-11-18T23:16:14.064Z"
   },
   {
    "duration": 15,
    "start_time": "2024-11-18T23:16:14.133Z"
   },
   {
    "duration": 12,
    "start_time": "2024-11-18T23:16:14.150Z"
   },
   {
    "duration": 11,
    "start_time": "2024-11-18T23:16:14.163Z"
   },
   {
    "duration": 13,
    "start_time": "2024-11-18T23:16:14.176Z"
   },
   {
    "duration": 22,
    "start_time": "2024-11-18T23:16:14.190Z"
   },
   {
    "duration": 9,
    "start_time": "2024-11-18T23:16:14.214Z"
   },
   {
    "duration": 10,
    "start_time": "2024-11-18T23:16:14.225Z"
   },
   {
    "duration": 3,
    "start_time": "2024-11-18T23:16:14.237Z"
   },
   {
    "duration": 8,
    "start_time": "2024-11-18T23:16:14.242Z"
   },
   {
    "duration": 7,
    "start_time": "2024-11-18T23:16:14.252Z"
   },
   {
    "duration": 8,
    "start_time": "2024-11-18T23:16:14.260Z"
   },
   {
    "duration": 9,
    "start_time": "2024-11-18T23:16:14.270Z"
   },
   {
    "duration": 484,
    "start_time": "2024-11-18T23:16:14.281Z"
   },
   {
    "duration": 11,
    "start_time": "2024-11-18T23:16:14.768Z"
   },
   {
    "duration": 160,
    "start_time": "2024-11-18T23:16:14.780Z"
   },
   {
    "duration": 7,
    "start_time": "2024-11-18T23:16:14.942Z"
   },
   {
    "duration": 224,
    "start_time": "2024-11-18T23:16:14.951Z"
   },
   {
    "duration": 231,
    "start_time": "2024-11-18T23:16:15.177Z"
   },
   {
    "duration": 256,
    "start_time": "2024-11-18T23:16:15.409Z"
   },
   {
    "duration": 23,
    "start_time": "2024-11-18T23:16:15.667Z"
   },
   {
    "duration": 4,
    "start_time": "2024-11-18T23:16:15.692Z"
   },
   {
    "duration": 29,
    "start_time": "2024-11-18T23:16:15.697Z"
   },
   {
    "duration": 13,
    "start_time": "2024-11-18T23:16:15.728Z"
   },
   {
    "duration": 242,
    "start_time": "2024-11-18T23:16:15.743Z"
   },
   {
    "duration": 237,
    "start_time": "2024-11-18T23:16:15.987Z"
   },
   {
    "duration": 320,
    "start_time": "2024-11-18T23:16:16.227Z"
   },
   {
    "duration": 247,
    "start_time": "2024-11-18T23:16:16.549Z"
   },
   {
    "duration": 53,
    "start_time": "2024-11-18T23:16:16.798Z"
   },
   {
    "duration": 8,
    "start_time": "2024-11-18T23:16:16.853Z"
   },
   {
    "duration": 6,
    "start_time": "2024-11-18T23:16:16.862Z"
   },
   {
    "duration": 6,
    "start_time": "2024-11-18T23:16:16.869Z"
   },
   {
    "duration": 12,
    "start_time": "2024-11-18T23:16:16.876Z"
   },
   {
    "duration": 820,
    "start_time": "2024-11-18T23:21:55.933Z"
   },
   {
    "duration": 67,
    "start_time": "2024-11-18T23:21:56.755Z"
   },
   {
    "duration": 15,
    "start_time": "2024-11-18T23:21:56.823Z"
   },
   {
    "duration": 9,
    "start_time": "2024-11-18T23:21:56.840Z"
   },
   {
    "duration": 9,
    "start_time": "2024-11-18T23:21:56.850Z"
   },
   {
    "duration": 19,
    "start_time": "2024-11-18T23:21:56.861Z"
   },
   {
    "duration": 30,
    "start_time": "2024-11-18T23:21:56.882Z"
   },
   {
    "duration": 14,
    "start_time": "2024-11-18T23:21:56.914Z"
   },
   {
    "duration": 17,
    "start_time": "2024-11-18T23:21:56.929Z"
   },
   {
    "duration": 4,
    "start_time": "2024-11-18T23:21:56.948Z"
   },
   {
    "duration": 27,
    "start_time": "2024-11-18T23:21:56.954Z"
   },
   {
    "duration": 8,
    "start_time": "2024-11-18T23:21:56.983Z"
   },
   {
    "duration": 9,
    "start_time": "2024-11-18T23:21:56.993Z"
   },
   {
    "duration": 20,
    "start_time": "2024-11-18T23:21:57.004Z"
   },
   {
    "duration": 450,
    "start_time": "2024-11-18T23:21:57.026Z"
   },
   {
    "duration": 8,
    "start_time": "2024-11-18T23:21:57.477Z"
   },
   {
    "duration": 150,
    "start_time": "2024-11-18T23:21:57.486Z"
   },
   {
    "duration": 8,
    "start_time": "2024-11-18T23:21:57.638Z"
   },
   {
    "duration": 208,
    "start_time": "2024-11-18T23:21:57.648Z"
   },
   {
    "duration": 193,
    "start_time": "2024-11-18T23:21:57.858Z"
   },
   {
    "duration": 244,
    "start_time": "2024-11-18T23:21:58.053Z"
   },
   {
    "duration": 29,
    "start_time": "2024-11-18T23:21:58.298Z"
   },
   {
    "duration": 4,
    "start_time": "2024-11-18T23:21:58.329Z"
   },
   {
    "duration": 3,
    "start_time": "2024-11-18T23:21:58.335Z"
   },
   {
    "duration": 10,
    "start_time": "2024-11-18T23:21:58.340Z"
   },
   {
    "duration": 240,
    "start_time": "2024-11-18T23:21:58.352Z"
   },
   {
    "duration": 234,
    "start_time": "2024-11-18T23:21:58.594Z"
   },
   {
    "duration": 308,
    "start_time": "2024-11-18T23:21:58.831Z"
   },
   {
    "duration": 217,
    "start_time": "2024-11-18T23:21:59.140Z"
   },
   {
    "duration": 59,
    "start_time": "2024-11-18T23:21:59.359Z"
   },
   {
    "duration": 8,
    "start_time": "2024-11-18T23:21:59.419Z"
   },
   {
    "duration": 5,
    "start_time": "2024-11-18T23:21:59.428Z"
   },
   {
    "duration": 4,
    "start_time": "2024-11-18T23:21:59.435Z"
   },
   {
    "duration": 5,
    "start_time": "2024-11-18T23:21:59.440Z"
   },
   {
    "duration": 18472,
    "start_time": "2024-11-18T23:29:41.731Z"
   },
   {
    "duration": 155,
    "start_time": "2024-11-18T23:30:15.363Z"
   },
   {
    "duration": 195,
    "start_time": "2024-11-18T23:30:27.245Z"
   },
   {
    "duration": 189,
    "start_time": "2024-11-18T23:30:34.895Z"
   },
   {
    "duration": 182,
    "start_time": "2024-11-18T23:30:42.705Z"
   },
   {
    "duration": 484,
    "start_time": "2024-11-18T23:32:00.980Z"
   },
   {
    "duration": 208,
    "start_time": "2024-11-18T23:33:44.813Z"
   },
   {
    "duration": 213,
    "start_time": "2024-11-18T23:34:25.239Z"
   },
   {
    "duration": 233,
    "start_time": "2024-11-18T23:34:41.435Z"
   },
   {
    "duration": 204,
    "start_time": "2024-11-18T23:36:26.943Z"
   },
   {
    "duration": 202,
    "start_time": "2024-11-18T23:36:50.215Z"
   },
   {
    "duration": 290,
    "start_time": "2024-11-18T23:37:16.119Z"
   },
   {
    "duration": 213,
    "start_time": "2024-11-18T23:37:40.469Z"
   },
   {
    "duration": 197,
    "start_time": "2024-11-18T23:39:01.857Z"
   },
   {
    "duration": 206,
    "start_time": "2024-11-18T23:41:05.973Z"
   },
   {
    "duration": 322,
    "start_time": "2024-11-18T23:41:29.426Z"
   },
   {
    "duration": 230,
    "start_time": "2024-11-18T23:42:01.025Z"
   },
   {
    "duration": 219,
    "start_time": "2024-11-18T23:43:33.677Z"
   },
   {
    "duration": 7,
    "start_time": "2024-11-18T23:45:25.577Z"
   },
   {
    "duration": 816,
    "start_time": "2024-11-18T23:46:50.562Z"
   },
   {
    "duration": 66,
    "start_time": "2024-11-18T23:46:51.380Z"
   },
   {
    "duration": 13,
    "start_time": "2024-11-18T23:46:51.447Z"
   },
   {
    "duration": 7,
    "start_time": "2024-11-18T23:46:51.462Z"
   },
   {
    "duration": 16,
    "start_time": "2024-11-18T23:46:51.471Z"
   },
   {
    "duration": 17,
    "start_time": "2024-11-18T23:46:51.488Z"
   },
   {
    "duration": 11,
    "start_time": "2024-11-18T23:46:51.506Z"
   },
   {
    "duration": 9,
    "start_time": "2024-11-18T23:46:51.518Z"
   },
   {
    "duration": 8,
    "start_time": "2024-11-18T23:46:51.529Z"
   },
   {
    "duration": 8,
    "start_time": "2024-11-18T23:46:51.540Z"
   },
   {
    "duration": 7,
    "start_time": "2024-11-18T23:46:51.549Z"
   },
   {
    "duration": 16,
    "start_time": "2024-11-18T23:46:51.558Z"
   },
   {
    "duration": 10,
    "start_time": "2024-11-18T23:46:51.575Z"
   },
   {
    "duration": 7,
    "start_time": "2024-11-18T23:46:51.587Z"
   },
   {
    "duration": 483,
    "start_time": "2024-11-18T23:46:51.595Z"
   },
   {
    "duration": 7,
    "start_time": "2024-11-18T23:46:52.079Z"
   },
   {
    "duration": 140,
    "start_time": "2024-11-18T23:46:52.088Z"
   },
   {
    "duration": 6,
    "start_time": "2024-11-18T23:46:52.230Z"
   },
   {
    "duration": 226,
    "start_time": "2024-11-18T23:46:52.238Z"
   },
   {
    "duration": 210,
    "start_time": "2024-11-18T23:46:52.465Z"
   },
   {
    "duration": 237,
    "start_time": "2024-11-18T23:46:52.677Z"
   },
   {
    "duration": 21,
    "start_time": "2024-11-18T23:46:52.918Z"
   },
   {
    "duration": 4,
    "start_time": "2024-11-18T23:46:52.941Z"
   },
   {
    "duration": 4,
    "start_time": "2024-11-18T23:46:52.947Z"
   },
   {
    "duration": 13,
    "start_time": "2024-11-18T23:46:52.952Z"
   },
   {
    "duration": 262,
    "start_time": "2024-11-18T23:46:52.967Z"
   },
   {
    "duration": 198,
    "start_time": "2024-11-18T23:46:53.231Z"
   },
   {
    "duration": 227,
    "start_time": "2024-11-18T23:46:53.432Z"
   },
   {
    "duration": 296,
    "start_time": "2024-11-18T23:46:53.661Z"
   },
   {
    "duration": 49,
    "start_time": "2024-11-18T23:46:53.959Z"
   },
   {
    "duration": 6,
    "start_time": "2024-11-18T23:46:54.018Z"
   },
   {
    "duration": 5,
    "start_time": "2024-11-18T23:46:54.026Z"
   },
   {
    "duration": 10,
    "start_time": "2024-11-18T23:46:54.032Z"
   },
   {
    "duration": 8,
    "start_time": "2024-11-18T23:46:54.043Z"
   },
   {
    "duration": 846,
    "start_time": "2024-11-18T23:50:04.728Z"
   },
   {
    "duration": 67,
    "start_time": "2024-11-18T23:50:05.576Z"
   },
   {
    "duration": 19,
    "start_time": "2024-11-18T23:50:05.645Z"
   },
   {
    "duration": 8,
    "start_time": "2024-11-18T23:50:05.666Z"
   },
   {
    "duration": 16,
    "start_time": "2024-11-18T23:50:05.676Z"
   },
   {
    "duration": 23,
    "start_time": "2024-11-18T23:50:05.694Z"
   },
   {
    "duration": 9,
    "start_time": "2024-11-18T23:50:05.718Z"
   },
   {
    "duration": 9,
    "start_time": "2024-11-18T23:50:05.729Z"
   },
   {
    "duration": 22,
    "start_time": "2024-11-18T23:50:05.739Z"
   },
   {
    "duration": 4,
    "start_time": "2024-11-18T23:50:05.763Z"
   },
   {
    "duration": 27,
    "start_time": "2024-11-18T23:50:05.768Z"
   },
   {
    "duration": 9,
    "start_time": "2024-11-18T23:50:05.796Z"
   },
   {
    "duration": 11,
    "start_time": "2024-11-18T23:50:05.806Z"
   },
   {
    "duration": 8,
    "start_time": "2024-11-18T23:50:05.819Z"
   },
   {
    "duration": 463,
    "start_time": "2024-11-18T23:50:05.828Z"
   },
   {
    "duration": 7,
    "start_time": "2024-11-18T23:50:06.293Z"
   },
   {
    "duration": 151,
    "start_time": "2024-11-18T23:50:06.301Z"
   },
   {
    "duration": 7,
    "start_time": "2024-11-18T23:50:06.453Z"
   },
   {
    "duration": 222,
    "start_time": "2024-11-18T23:50:06.462Z"
   },
   {
    "duration": 232,
    "start_time": "2024-11-18T23:50:06.685Z"
   },
   {
    "duration": 243,
    "start_time": "2024-11-18T23:50:06.919Z"
   },
   {
    "duration": 22,
    "start_time": "2024-11-18T23:50:07.163Z"
   },
   {
    "duration": 4,
    "start_time": "2024-11-18T23:50:07.187Z"
   },
   {
    "duration": 5,
    "start_time": "2024-11-18T23:50:07.193Z"
   },
   {
    "duration": 26,
    "start_time": "2024-11-18T23:50:07.199Z"
   },
   {
    "duration": 226,
    "start_time": "2024-11-18T23:50:07.227Z"
   },
   {
    "duration": 220,
    "start_time": "2024-11-18T23:50:07.454Z"
   },
   {
    "duration": 228,
    "start_time": "2024-11-18T23:50:07.677Z"
   },
   {
    "duration": 296,
    "start_time": "2024-11-18T23:50:07.907Z"
   },
   {
    "duration": 56,
    "start_time": "2024-11-18T23:50:08.206Z"
   },
   {
    "duration": 7,
    "start_time": "2024-11-18T23:50:08.264Z"
   },
   {
    "duration": 10,
    "start_time": "2024-11-18T23:50:08.273Z"
   },
   {
    "duration": 5,
    "start_time": "2024-11-18T23:50:08.285Z"
   },
   {
    "duration": 27,
    "start_time": "2024-11-18T23:50:08.291Z"
   },
   {
    "duration": 853,
    "start_time": "2024-11-19T17:34:26.694Z"
   },
   {
    "duration": 302,
    "start_time": "2024-11-19T17:34:27.550Z"
   },
   {
    "duration": 14,
    "start_time": "2024-11-19T17:34:27.854Z"
   },
   {
    "duration": 8,
    "start_time": "2024-11-19T17:34:27.870Z"
   },
   {
    "duration": 6,
    "start_time": "2024-11-19T17:34:27.879Z"
   },
   {
    "duration": 10,
    "start_time": "2024-11-19T17:34:27.887Z"
   },
   {
    "duration": 11,
    "start_time": "2024-11-19T17:34:27.898Z"
   },
   {
    "duration": 9,
    "start_time": "2024-11-19T17:34:27.910Z"
   },
   {
    "duration": 12,
    "start_time": "2024-11-19T17:34:27.921Z"
   },
   {
    "duration": 35,
    "start_time": "2024-11-19T17:34:27.936Z"
   },
   {
    "duration": 65,
    "start_time": "2024-11-19T17:34:27.972Z"
   },
   {
    "duration": 7,
    "start_time": "2024-11-19T17:34:28.039Z"
   },
   {
    "duration": 6,
    "start_time": "2024-11-19T17:34:28.047Z"
   },
   {
    "duration": 7,
    "start_time": "2024-11-19T17:34:28.054Z"
   },
   {
    "duration": 639,
    "start_time": "2024-11-19T17:34:28.063Z"
   },
   {
    "duration": 8,
    "start_time": "2024-11-19T17:34:28.704Z"
   },
   {
    "duration": 145,
    "start_time": "2024-11-19T17:34:28.714Z"
   },
   {
    "duration": 13,
    "start_time": "2024-11-19T17:34:28.861Z"
   },
   {
    "duration": 212,
    "start_time": "2024-11-19T17:34:28.876Z"
   },
   {
    "duration": 213,
    "start_time": "2024-11-19T17:34:29.090Z"
   },
   {
    "duration": 235,
    "start_time": "2024-11-19T17:34:29.304Z"
   },
   {
    "duration": 29,
    "start_time": "2024-11-19T17:34:29.541Z"
   },
   {
    "duration": 5,
    "start_time": "2024-11-19T17:34:29.571Z"
   },
   {
    "duration": 3,
    "start_time": "2024-11-19T17:34:29.577Z"
   },
   {
    "duration": 11,
    "start_time": "2024-11-19T17:34:29.581Z"
   },
   {
    "duration": 224,
    "start_time": "2024-11-19T17:34:29.594Z"
   },
   {
    "duration": 208,
    "start_time": "2024-11-19T17:34:29.820Z"
   },
   {
    "duration": 316,
    "start_time": "2024-11-19T17:34:30.031Z"
   },
   {
    "duration": 225,
    "start_time": "2024-11-19T17:34:30.349Z"
   },
   {
    "duration": 59,
    "start_time": "2024-11-19T17:34:30.576Z"
   },
   {
    "duration": 11,
    "start_time": "2024-11-19T17:34:30.637Z"
   },
   {
    "duration": 26,
    "start_time": "2024-11-19T17:34:30.650Z"
   },
   {
    "duration": 19,
    "start_time": "2024-11-19T17:34:30.678Z"
   },
   {
    "duration": 23,
    "start_time": "2024-11-19T17:34:30.699Z"
   },
   {
    "duration": 843,
    "start_time": "2024-11-19T18:22:05.122Z"
   },
   {
    "duration": 421,
    "start_time": "2024-11-19T18:22:05.968Z"
   },
   {
    "duration": 20,
    "start_time": "2024-11-19T18:22:06.391Z"
   },
   {
    "duration": 52,
    "start_time": "2024-11-19T18:22:06.413Z"
   },
   {
    "duration": 14,
    "start_time": "2024-11-19T18:22:06.467Z"
   },
   {
    "duration": 56,
    "start_time": "2024-11-19T18:22:06.482Z"
   },
   {
    "duration": 12,
    "start_time": "2024-11-19T18:22:06.540Z"
   },
   {
    "duration": 20,
    "start_time": "2024-11-19T18:22:06.553Z"
   },
   {
    "duration": 10,
    "start_time": "2024-11-19T18:22:06.574Z"
   },
   {
    "duration": 10,
    "start_time": "2024-11-19T18:22:06.586Z"
   },
   {
    "duration": 18,
    "start_time": "2024-11-19T18:22:06.598Z"
   },
   {
    "duration": 14,
    "start_time": "2024-11-19T18:22:06.617Z"
   },
   {
    "duration": 7,
    "start_time": "2024-11-19T18:22:06.633Z"
   },
   {
    "duration": 13,
    "start_time": "2024-11-19T18:22:06.643Z"
   },
   {
    "duration": 510,
    "start_time": "2024-11-19T18:22:06.658Z"
   },
   {
    "duration": 8,
    "start_time": "2024-11-19T18:22:07.170Z"
   },
   {
    "duration": 211,
    "start_time": "2024-11-19T18:22:07.180Z"
   },
   {
    "duration": 16,
    "start_time": "2024-11-19T18:22:07.397Z"
   },
   {
    "duration": 267,
    "start_time": "2024-11-19T18:22:07.415Z"
   },
   {
    "duration": 248,
    "start_time": "2024-11-19T18:22:07.684Z"
   },
   {
    "duration": 252,
    "start_time": "2024-11-19T18:22:07.934Z"
   },
   {
    "duration": 36,
    "start_time": "2024-11-19T18:22:08.187Z"
   },
   {
    "duration": 5,
    "start_time": "2024-11-19T18:22:08.224Z"
   },
   {
    "duration": 29,
    "start_time": "2024-11-19T18:22:08.230Z"
   },
   {
    "duration": 25,
    "start_time": "2024-11-19T18:22:08.261Z"
   },
   {
    "duration": 268,
    "start_time": "2024-11-19T18:22:08.288Z"
   },
   {
    "duration": 213,
    "start_time": "2024-11-19T18:22:08.559Z"
   },
   {
    "duration": 261,
    "start_time": "2024-11-19T18:22:08.774Z"
   },
   {
    "duration": 350,
    "start_time": "2024-11-19T18:22:09.036Z"
   },
   {
    "duration": 60,
    "start_time": "2024-11-19T18:22:09.387Z"
   },
   {
    "duration": 9,
    "start_time": "2024-11-19T18:22:09.449Z"
   },
   {
    "duration": 7,
    "start_time": "2024-11-19T18:22:09.459Z"
   },
   {
    "duration": 11,
    "start_time": "2024-11-19T18:22:09.467Z"
   },
   {
    "duration": 7,
    "start_time": "2024-11-19T18:22:09.510Z"
   },
   {
    "duration": 767,
    "start_time": "2024-11-19T18:26:26.042Z"
   },
   {
    "duration": 58,
    "start_time": "2024-11-19T22:02:07.714Z"
   },
   {
    "duration": 757,
    "start_time": "2024-11-19T22:02:13.856Z"
   },
   {
    "duration": 274,
    "start_time": "2024-11-19T22:02:14.615Z"
   },
   {
    "duration": 13,
    "start_time": "2024-11-19T22:02:14.890Z"
   },
   {
    "duration": 7,
    "start_time": "2024-11-19T22:02:14.905Z"
   },
   {
    "duration": 14,
    "start_time": "2024-11-19T22:02:14.913Z"
   },
   {
    "duration": 26,
    "start_time": "2024-11-19T22:02:14.928Z"
   },
   {
    "duration": 22,
    "start_time": "2024-11-19T22:02:14.956Z"
   },
   {
    "duration": 13,
    "start_time": "2024-11-19T22:02:14.979Z"
   },
   {
    "duration": 31,
    "start_time": "2024-11-19T22:02:14.993Z"
   },
   {
    "duration": 48,
    "start_time": "2024-11-19T22:02:15.026Z"
   },
   {
    "duration": 69,
    "start_time": "2024-11-19T22:02:15.076Z"
   },
   {
    "duration": 49,
    "start_time": "2024-11-19T22:02:15.146Z"
   },
   {
    "duration": 29,
    "start_time": "2024-11-19T22:02:15.196Z"
   },
   {
    "duration": 39,
    "start_time": "2024-11-19T22:02:15.227Z"
   },
   {
    "duration": 609,
    "start_time": "2024-11-19T22:02:15.267Z"
   },
   {
    "duration": 6,
    "start_time": "2024-11-19T22:02:15.878Z"
   },
   {
    "duration": 1261,
    "start_time": "2024-11-19T22:02:15.885Z"
   },
   {
    "duration": 0,
    "start_time": "2024-11-19T22:02:17.147Z"
   },
   {
    "duration": 0,
    "start_time": "2024-11-19T22:02:17.148Z"
   },
   {
    "duration": 0,
    "start_time": "2024-11-19T22:02:17.149Z"
   },
   {
    "duration": 0,
    "start_time": "2024-11-19T22:02:17.150Z"
   },
   {
    "duration": 0,
    "start_time": "2024-11-19T22:02:17.151Z"
   },
   {
    "duration": 0,
    "start_time": "2024-11-19T22:02:17.152Z"
   },
   {
    "duration": 0,
    "start_time": "2024-11-19T22:02:17.153Z"
   },
   {
    "duration": 0,
    "start_time": "2024-11-19T22:02:17.154Z"
   },
   {
    "duration": 0,
    "start_time": "2024-11-19T22:02:17.155Z"
   },
   {
    "duration": 0,
    "start_time": "2024-11-19T22:02:17.155Z"
   },
   {
    "duration": 0,
    "start_time": "2024-11-19T22:02:17.156Z"
   },
   {
    "duration": 0,
    "start_time": "2024-11-19T22:02:17.158Z"
   },
   {
    "duration": 0,
    "start_time": "2024-11-19T22:02:17.158Z"
   },
   {
    "duration": 0,
    "start_time": "2024-11-19T22:02:17.160Z"
   },
   {
    "duration": 0,
    "start_time": "2024-11-19T22:02:17.161Z"
   },
   {
    "duration": 0,
    "start_time": "2024-11-19T22:02:17.162Z"
   },
   {
    "duration": 0,
    "start_time": "2024-11-19T22:02:17.163Z"
   },
   {
    "duration": 0,
    "start_time": "2024-11-19T22:02:17.164Z"
   },
   {
    "duration": 10,
    "start_time": "2024-11-19T22:02:45.762Z"
   },
   {
    "duration": 101,
    "start_time": "2024-11-19T22:03:12.334Z"
   },
   {
    "duration": 78,
    "start_time": "2024-11-19T22:03:27.813Z"
   },
   {
    "duration": 271,
    "start_time": "2024-11-19T22:04:15.793Z"
   },
   {
    "duration": 283,
    "start_time": "2024-11-19T22:04:39.057Z"
   },
   {
    "duration": 10,
    "start_time": "2024-11-19T22:04:49.825Z"
   },
   {
    "duration": 81,
    "start_time": "2024-11-19T22:05:00.410Z"
   },
   {
    "duration": 80,
    "start_time": "2024-11-19T22:05:04.173Z"
   },
   {
    "duration": 81,
    "start_time": "2024-11-19T22:05:12.767Z"
   },
   {
    "duration": 80,
    "start_time": "2024-11-19T22:05:31.147Z"
   },
   {
    "duration": 79,
    "start_time": "2024-11-19T22:05:43.544Z"
   },
   {
    "duration": 79,
    "start_time": "2024-11-19T22:05:47.778Z"
   },
   {
    "duration": 83,
    "start_time": "2024-11-19T22:05:52.787Z"
   },
   {
    "duration": 79,
    "start_time": "2024-11-19T22:05:57.816Z"
   },
   {
    "duration": 756,
    "start_time": "2024-11-19T22:06:31.761Z"
   },
   {
    "duration": 75,
    "start_time": "2024-11-19T22:06:32.519Z"
   },
   {
    "duration": 18,
    "start_time": "2024-11-19T22:06:32.596Z"
   },
   {
    "duration": 18,
    "start_time": "2024-11-19T22:06:32.616Z"
   },
   {
    "duration": 11,
    "start_time": "2024-11-19T22:06:32.637Z"
   },
   {
    "duration": 35,
    "start_time": "2024-11-19T22:06:32.649Z"
   },
   {
    "duration": 19,
    "start_time": "2024-11-19T22:06:32.685Z"
   },
   {
    "duration": 25,
    "start_time": "2024-11-19T22:06:32.706Z"
   },
   {
    "duration": 21,
    "start_time": "2024-11-19T22:06:32.732Z"
   },
   {
    "duration": 17,
    "start_time": "2024-11-19T22:06:32.754Z"
   },
   {
    "duration": 38,
    "start_time": "2024-11-19T22:06:32.773Z"
   },
   {
    "duration": 26,
    "start_time": "2024-11-19T22:06:32.812Z"
   },
   {
    "duration": 27,
    "start_time": "2024-11-19T22:06:32.839Z"
   },
   {
    "duration": 29,
    "start_time": "2024-11-19T22:06:32.870Z"
   },
   {
    "duration": 420,
    "start_time": "2024-11-19T22:06:32.901Z"
   },
   {
    "duration": 7,
    "start_time": "2024-11-19T22:06:33.322Z"
   },
   {
    "duration": 216,
    "start_time": "2024-11-19T22:06:33.331Z"
   },
   {
    "duration": 6,
    "start_time": "2024-11-19T22:06:33.549Z"
   },
   {
    "duration": 229,
    "start_time": "2024-11-19T22:06:33.557Z"
   },
   {
    "duration": 173,
    "start_time": "2024-11-19T22:06:33.788Z"
   },
   {
    "duration": 190,
    "start_time": "2024-11-19T22:06:33.963Z"
   },
   {
    "duration": 25,
    "start_time": "2024-11-19T22:06:34.155Z"
   },
   {
    "duration": 21,
    "start_time": "2024-11-19T22:06:34.182Z"
   },
   {
    "duration": 12,
    "start_time": "2024-11-19T22:06:34.206Z"
   },
   {
    "duration": 32,
    "start_time": "2024-11-19T22:06:34.219Z"
   },
   {
    "duration": 198,
    "start_time": "2024-11-19T22:06:34.252Z"
   },
   {
    "duration": 189,
    "start_time": "2024-11-19T22:06:34.452Z"
   },
   {
    "duration": 218,
    "start_time": "2024-11-19T22:06:34.643Z"
   },
   {
    "duration": 200,
    "start_time": "2024-11-19T22:06:34.863Z"
   },
   {
    "duration": 626,
    "start_time": "2024-11-19T22:06:35.065Z"
   },
   {
    "duration": 51,
    "start_time": "2024-11-19T22:06:35.693Z"
   },
   {
    "duration": 10,
    "start_time": "2024-11-19T22:06:35.746Z"
   },
   {
    "duration": 42,
    "start_time": "2024-11-19T22:06:35.757Z"
   },
   {
    "duration": 27,
    "start_time": "2024-11-19T22:06:35.801Z"
   },
   {
    "duration": 25,
    "start_time": "2024-11-19T22:06:35.830Z"
   },
   {
    "duration": 848,
    "start_time": "2024-11-20T06:17:21.163Z"
   },
   {
    "duration": 289,
    "start_time": "2024-11-20T06:17:22.014Z"
   },
   {
    "duration": 17,
    "start_time": "2024-11-20T06:17:22.304Z"
   },
   {
    "duration": 25,
    "start_time": "2024-11-20T06:17:22.323Z"
   },
   {
    "duration": 21,
    "start_time": "2024-11-20T06:17:22.350Z"
   },
   {
    "duration": 14,
    "start_time": "2024-11-20T06:17:22.373Z"
   },
   {
    "duration": 54,
    "start_time": "2024-11-20T06:17:22.388Z"
   },
   {
    "duration": 57,
    "start_time": "2024-11-20T06:17:22.444Z"
   },
   {
    "duration": 65,
    "start_time": "2024-11-20T06:17:22.503Z"
   },
   {
    "duration": 21,
    "start_time": "2024-11-20T06:17:22.570Z"
   },
   {
    "duration": 24,
    "start_time": "2024-11-20T06:17:22.593Z"
   },
   {
    "duration": 25,
    "start_time": "2024-11-20T06:17:22.619Z"
   },
   {
    "duration": 58,
    "start_time": "2024-11-20T06:17:22.646Z"
   },
   {
    "duration": 16,
    "start_time": "2024-11-20T06:17:22.706Z"
   },
   {
    "duration": 658,
    "start_time": "2024-11-20T06:17:22.723Z"
   },
   {
    "duration": 7,
    "start_time": "2024-11-20T06:17:23.383Z"
   },
   {
    "duration": 114,
    "start_time": "2024-11-20T06:17:23.392Z"
   },
   {
    "duration": 15,
    "start_time": "2024-11-20T06:17:23.508Z"
   },
   {
    "duration": 249,
    "start_time": "2024-11-20T06:17:23.524Z"
   },
   {
    "duration": 238,
    "start_time": "2024-11-20T06:17:23.775Z"
   },
   {
    "duration": 261,
    "start_time": "2024-11-20T06:17:24.017Z"
   },
   {
    "duration": 23,
    "start_time": "2024-11-20T06:17:24.280Z"
   },
   {
    "duration": 15,
    "start_time": "2024-11-20T06:17:24.304Z"
   },
   {
    "duration": 12,
    "start_time": "2024-11-20T06:17:24.321Z"
   },
   {
    "duration": 24,
    "start_time": "2024-11-20T06:17:24.335Z"
   },
   {
    "duration": 217,
    "start_time": "2024-11-20T06:17:24.361Z"
   },
   {
    "duration": 215,
    "start_time": "2024-11-20T06:17:24.580Z"
   },
   {
    "duration": 250,
    "start_time": "2024-11-20T06:17:24.797Z"
   },
   {
    "duration": 325,
    "start_time": "2024-11-20T06:17:25.049Z"
   },
   {
    "duration": 781,
    "start_time": "2024-11-20T06:17:25.376Z"
   },
   {
    "duration": 61,
    "start_time": "2024-11-20T06:17:26.159Z"
   },
   {
    "duration": 7,
    "start_time": "2024-11-20T06:17:26.222Z"
   },
   {
    "duration": 16,
    "start_time": "2024-11-20T06:17:26.231Z"
   },
   {
    "duration": 5,
    "start_time": "2024-11-20T06:17:26.249Z"
   },
   {
    "duration": 18,
    "start_time": "2024-11-20T06:17:26.255Z"
   },
   {
    "duration": 936,
    "start_time": "2024-11-21T22:34:23.599Z"
   },
   {
    "duration": 273,
    "start_time": "2024-11-21T22:34:24.537Z"
   },
   {
    "duration": 17,
    "start_time": "2024-11-21T22:34:24.811Z"
   },
   {
    "duration": 49,
    "start_time": "2024-11-21T22:34:24.831Z"
   },
   {
    "duration": 11,
    "start_time": "2024-11-21T22:34:24.882Z"
   },
   {
    "duration": 14,
    "start_time": "2024-11-21T22:34:24.895Z"
   },
   {
    "duration": 14,
    "start_time": "2024-11-21T22:34:24.911Z"
   },
   {
    "duration": 10,
    "start_time": "2024-11-21T22:34:24.927Z"
   },
   {
    "duration": 11,
    "start_time": "2024-11-21T22:34:24.939Z"
   },
   {
    "duration": 80,
    "start_time": "2024-11-21T22:34:24.953Z"
   },
   {
    "duration": 13,
    "start_time": "2024-11-21T22:34:25.035Z"
   },
   {
    "duration": 11,
    "start_time": "2024-11-21T22:34:25.049Z"
   },
   {
    "duration": 19,
    "start_time": "2024-11-21T22:34:25.061Z"
   },
   {
    "duration": 17,
    "start_time": "2024-11-21T22:34:25.082Z"
   },
   {
    "duration": 490,
    "start_time": "2024-11-21T22:34:25.101Z"
   },
   {
    "duration": 9,
    "start_time": "2024-11-21T22:34:25.593Z"
   },
   {
    "duration": 119,
    "start_time": "2024-11-21T22:34:25.603Z"
   },
   {
    "duration": 8,
    "start_time": "2024-11-21T22:34:25.723Z"
   },
   {
    "duration": 285,
    "start_time": "2024-11-21T22:34:25.732Z"
   },
   {
    "duration": 225,
    "start_time": "2024-11-21T22:34:26.018Z"
   },
   {
    "duration": 236,
    "start_time": "2024-11-21T22:34:26.245Z"
   },
   {
    "duration": 22,
    "start_time": "2024-11-21T22:34:26.483Z"
   },
   {
    "duration": 15,
    "start_time": "2024-11-21T22:34:26.507Z"
   },
   {
    "duration": 8,
    "start_time": "2024-11-21T22:34:26.524Z"
   },
   {
    "duration": 14,
    "start_time": "2024-11-21T22:34:26.533Z"
   },
   {
    "duration": 246,
    "start_time": "2024-11-21T22:34:26.549Z"
   },
   {
    "duration": 219,
    "start_time": "2024-11-21T22:34:26.796Z"
   },
   {
    "duration": 255,
    "start_time": "2024-11-21T22:34:27.022Z"
   },
   {
    "duration": 247,
    "start_time": "2024-11-21T22:34:27.278Z"
   },
   {
    "duration": 805,
    "start_time": "2024-11-21T22:34:27.526Z"
   },
   {
    "duration": 57,
    "start_time": "2024-11-21T22:34:28.333Z"
   },
   {
    "duration": 8,
    "start_time": "2024-11-21T22:34:28.391Z"
   },
   {
    "duration": 25,
    "start_time": "2024-11-21T22:34:28.400Z"
   },
   {
    "duration": 21,
    "start_time": "2024-11-21T22:34:28.426Z"
   },
   {
    "duration": 9,
    "start_time": "2024-11-21T22:34:28.448Z"
   }
  ],
  "kernelspec": {
   "display_name": "Python 3 (ipykernel)",
   "language": "python",
   "name": "python3"
  },
  "language_info": {
   "codemirror_mode": {
    "name": "ipython",
    "version": 3
   },
   "file_extension": ".py",
   "mimetype": "text/x-python",
   "name": "python",
   "nbconvert_exporter": "python",
   "pygments_lexer": "ipython3",
   "version": "3.11.5"
  },
  "toc": {
   "base_numbering": 1,
   "nav_menu": {},
   "number_sections": true,
   "sideBar": true,
   "skip_h1_title": true,
   "title_cell": "Table of Contents",
   "title_sidebar": "Contents",
   "toc_cell": false,
   "toc_position": {},
   "toc_section_display": true,
   "toc_window_display": false
  }
 },
 "nbformat": 4,
 "nbformat_minor": 5
}
